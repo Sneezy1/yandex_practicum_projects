{
 "cells": [
  {
   "cell_type": "markdown",
   "metadata": {},
   "source": [
    "## Загрузка данных"
   ]
  },
  {
   "cell_type": "markdown",
   "metadata": {},
   "source": [
    "Для работы с данными импортируем библиотеку Pandas"
   ]
  },
  {
   "cell_type": "code",
   "execution_count": 4,
   "metadata": {},
   "outputs": [
    {
     "data": {
      "text/html": [
       "<style>.container { width:90% !important; }</style>"
      ],
      "text/plain": [
       "<IPython.core.display.HTML object>"
      ]
     },
     "metadata": {},
     "output_type": "display_data"
    }
   ],
   "source": [
    "import pandas as pd\n",
    "import numpy as np\n",
    "from pymystem3 import Mystem\n",
    "from collections import Counter\n",
    "\n",
    "from IPython.core.display import display, HTML\n",
    "display(HTML(\"<style>.container { width:90% !important; }</style>\"))"
   ]
  },
  {
   "cell_type": "markdown",
   "metadata": {},
   "source": [
    "Прочитаем и сохраним данные в переменную bank_data. Сохраним размер данных перед обработкой в переменную, чтобы потом можно было оценить, какую часть данных мы потеряли после обработки."
   ]
  },
  {
   "cell_type": "code",
   "execution_count": 5,
   "metadata": {},
   "outputs": [],
   "source": [
    "bank_data = pd.read_csv('/datasets/data.csv')\n",
    "raw_bank_data_shape = bank_data.shape[0]"
   ]
  },
  {
   "cell_type": "code",
   "execution_count": 6,
   "metadata": {},
   "outputs": [
    {
     "data": {
      "text/plain": [
       "21525"
      ]
     },
     "execution_count": 6,
     "metadata": {},
     "output_type": "execute_result"
    }
   ],
   "source": [
    "raw_bank_data_shape"
   ]
  },
  {
   "cell_type": "markdown",
   "metadata": {},
   "source": [
    "Посмотрим как выглядят первые  10 строк в данных"
   ]
  },
  {
   "cell_type": "code",
   "execution_count": 7,
   "metadata": {},
   "outputs": [
    {
     "data": {
      "text/html": [
       "<div>\n",
       "<style scoped>\n",
       "    .dataframe tbody tr th:only-of-type {\n",
       "        vertical-align: middle;\n",
       "    }\n",
       "\n",
       "    .dataframe tbody tr th {\n",
       "        vertical-align: top;\n",
       "    }\n",
       "\n",
       "    .dataframe thead th {\n",
       "        text-align: right;\n",
       "    }\n",
       "</style>\n",
       "<table border=\"1\" class=\"dataframe\">\n",
       "  <thead>\n",
       "    <tr style=\"text-align: right;\">\n",
       "      <th></th>\n",
       "      <th>children</th>\n",
       "      <th>days_employed</th>\n",
       "      <th>dob_years</th>\n",
       "      <th>education</th>\n",
       "      <th>education_id</th>\n",
       "      <th>family_status</th>\n",
       "      <th>family_status_id</th>\n",
       "      <th>gender</th>\n",
       "      <th>income_type</th>\n",
       "      <th>debt</th>\n",
       "      <th>total_income</th>\n",
       "      <th>purpose</th>\n",
       "    </tr>\n",
       "  </thead>\n",
       "  <tbody>\n",
       "    <tr>\n",
       "      <th>0</th>\n",
       "      <td>1</td>\n",
       "      <td>-8437.673028</td>\n",
       "      <td>42</td>\n",
       "      <td>высшее</td>\n",
       "      <td>0</td>\n",
       "      <td>женат / замужем</td>\n",
       "      <td>0</td>\n",
       "      <td>F</td>\n",
       "      <td>сотрудник</td>\n",
       "      <td>0</td>\n",
       "      <td>253875.639453</td>\n",
       "      <td>покупка жилья</td>\n",
       "    </tr>\n",
       "    <tr>\n",
       "      <th>1</th>\n",
       "      <td>1</td>\n",
       "      <td>-4024.803754</td>\n",
       "      <td>36</td>\n",
       "      <td>среднее</td>\n",
       "      <td>1</td>\n",
       "      <td>женат / замужем</td>\n",
       "      <td>0</td>\n",
       "      <td>F</td>\n",
       "      <td>сотрудник</td>\n",
       "      <td>0</td>\n",
       "      <td>112080.014102</td>\n",
       "      <td>приобретение автомобиля</td>\n",
       "    </tr>\n",
       "    <tr>\n",
       "      <th>2</th>\n",
       "      <td>0</td>\n",
       "      <td>-5623.422610</td>\n",
       "      <td>33</td>\n",
       "      <td>Среднее</td>\n",
       "      <td>1</td>\n",
       "      <td>женат / замужем</td>\n",
       "      <td>0</td>\n",
       "      <td>M</td>\n",
       "      <td>сотрудник</td>\n",
       "      <td>0</td>\n",
       "      <td>145885.952297</td>\n",
       "      <td>покупка жилья</td>\n",
       "    </tr>\n",
       "    <tr>\n",
       "      <th>3</th>\n",
       "      <td>3</td>\n",
       "      <td>-4124.747207</td>\n",
       "      <td>32</td>\n",
       "      <td>среднее</td>\n",
       "      <td>1</td>\n",
       "      <td>женат / замужем</td>\n",
       "      <td>0</td>\n",
       "      <td>M</td>\n",
       "      <td>сотрудник</td>\n",
       "      <td>0</td>\n",
       "      <td>267628.550329</td>\n",
       "      <td>дополнительное образование</td>\n",
       "    </tr>\n",
       "    <tr>\n",
       "      <th>4</th>\n",
       "      <td>0</td>\n",
       "      <td>340266.072047</td>\n",
       "      <td>53</td>\n",
       "      <td>среднее</td>\n",
       "      <td>1</td>\n",
       "      <td>гражданский брак</td>\n",
       "      <td>1</td>\n",
       "      <td>F</td>\n",
       "      <td>пенсионер</td>\n",
       "      <td>0</td>\n",
       "      <td>158616.077870</td>\n",
       "      <td>сыграть свадьбу</td>\n",
       "    </tr>\n",
       "    <tr>\n",
       "      <th>5</th>\n",
       "      <td>0</td>\n",
       "      <td>-926.185831</td>\n",
       "      <td>27</td>\n",
       "      <td>высшее</td>\n",
       "      <td>0</td>\n",
       "      <td>гражданский брак</td>\n",
       "      <td>1</td>\n",
       "      <td>M</td>\n",
       "      <td>компаньон</td>\n",
       "      <td>0</td>\n",
       "      <td>255763.565419</td>\n",
       "      <td>покупка жилья</td>\n",
       "    </tr>\n",
       "    <tr>\n",
       "      <th>6</th>\n",
       "      <td>0</td>\n",
       "      <td>-2879.202052</td>\n",
       "      <td>43</td>\n",
       "      <td>высшее</td>\n",
       "      <td>0</td>\n",
       "      <td>женат / замужем</td>\n",
       "      <td>0</td>\n",
       "      <td>F</td>\n",
       "      <td>компаньон</td>\n",
       "      <td>0</td>\n",
       "      <td>240525.971920</td>\n",
       "      <td>операции с жильем</td>\n",
       "    </tr>\n",
       "    <tr>\n",
       "      <th>7</th>\n",
       "      <td>0</td>\n",
       "      <td>-152.779569</td>\n",
       "      <td>50</td>\n",
       "      <td>СРЕДНЕЕ</td>\n",
       "      <td>1</td>\n",
       "      <td>женат / замужем</td>\n",
       "      <td>0</td>\n",
       "      <td>M</td>\n",
       "      <td>сотрудник</td>\n",
       "      <td>0</td>\n",
       "      <td>135823.934197</td>\n",
       "      <td>образование</td>\n",
       "    </tr>\n",
       "    <tr>\n",
       "      <th>8</th>\n",
       "      <td>2</td>\n",
       "      <td>-6929.865299</td>\n",
       "      <td>35</td>\n",
       "      <td>ВЫСШЕЕ</td>\n",
       "      <td>0</td>\n",
       "      <td>гражданский брак</td>\n",
       "      <td>1</td>\n",
       "      <td>F</td>\n",
       "      <td>сотрудник</td>\n",
       "      <td>0</td>\n",
       "      <td>95856.832424</td>\n",
       "      <td>на проведение свадьбы</td>\n",
       "    </tr>\n",
       "    <tr>\n",
       "      <th>9</th>\n",
       "      <td>0</td>\n",
       "      <td>-2188.756445</td>\n",
       "      <td>41</td>\n",
       "      <td>среднее</td>\n",
       "      <td>1</td>\n",
       "      <td>женат / замужем</td>\n",
       "      <td>0</td>\n",
       "      <td>M</td>\n",
       "      <td>сотрудник</td>\n",
       "      <td>0</td>\n",
       "      <td>144425.938277</td>\n",
       "      <td>покупка жилья для семьи</td>\n",
       "    </tr>\n",
       "  </tbody>\n",
       "</table>\n",
       "</div>"
      ],
      "text/plain": [
       "   children  days_employed  dob_years education  education_id  \\\n",
       "0         1   -8437.673028         42    высшее             0   \n",
       "1         1   -4024.803754         36   среднее             1   \n",
       "2         0   -5623.422610         33   Среднее             1   \n",
       "3         3   -4124.747207         32   среднее             1   \n",
       "4         0  340266.072047         53   среднее             1   \n",
       "5         0    -926.185831         27    высшее             0   \n",
       "6         0   -2879.202052         43    высшее             0   \n",
       "7         0    -152.779569         50   СРЕДНЕЕ             1   \n",
       "8         2   -6929.865299         35    ВЫСШЕЕ             0   \n",
       "9         0   -2188.756445         41   среднее             1   \n",
       "\n",
       "      family_status  family_status_id gender income_type  debt   total_income  \\\n",
       "0   женат / замужем                 0      F   сотрудник     0  253875.639453   \n",
       "1   женат / замужем                 0      F   сотрудник     0  112080.014102   \n",
       "2   женат / замужем                 0      M   сотрудник     0  145885.952297   \n",
       "3   женат / замужем                 0      M   сотрудник     0  267628.550329   \n",
       "4  гражданский брак                 1      F   пенсионер     0  158616.077870   \n",
       "5  гражданский брак                 1      M   компаньон     0  255763.565419   \n",
       "6   женат / замужем                 0      F   компаньон     0  240525.971920   \n",
       "7   женат / замужем                 0      M   сотрудник     0  135823.934197   \n",
       "8  гражданский брак                 1      F   сотрудник     0   95856.832424   \n",
       "9   женат / замужем                 0      M   сотрудник     0  144425.938277   \n",
       "\n",
       "                      purpose  \n",
       "0               покупка жилья  \n",
       "1     приобретение автомобиля  \n",
       "2               покупка жилья  \n",
       "3  дополнительное образование  \n",
       "4             сыграть свадьбу  \n",
       "5               покупка жилья  \n",
       "6           операции с жильем  \n",
       "7                 образование  \n",
       "8       на проведение свадьбы  \n",
       "9     покупка жилья для семьи  "
      ]
     },
     "execution_count": 7,
     "metadata": {},
     "output_type": "execute_result"
    }
   ],
   "source": [
    "bank_data.head(10)"
   ]
  },
  {
   "cell_type": "markdown",
   "metadata": {},
   "source": [
    "Проверим, правильно ли указаны названия столбцов"
   ]
  },
  {
   "cell_type": "code",
   "execution_count": 8,
   "metadata": {},
   "outputs": [
    {
     "data": {
      "text/plain": [
       "Index(['children', 'days_employed', 'dob_years', 'education', 'education_id',\n",
       "       'family_status', 'family_status_id', 'gender', 'income_type', 'debt',\n",
       "       'total_income', 'purpose'],\n",
       "      dtype='object')"
      ]
     },
     "execution_count": 8,
     "metadata": {},
     "output_type": "execute_result"
    }
   ],
   "source": [
    "bank_data.columns"
   ]
  },
  {
   "cell_type": "markdown",
   "metadata": {},
   "source": [
    "Все названия на английском, пробелов нет"
   ]
  },
  {
   "cell_type": "markdown",
   "metadata": {},
   "source": [
    "Посмотрим на общую информацию о данных"
   ]
  },
  {
   "cell_type": "code",
   "execution_count": 9,
   "metadata": {},
   "outputs": [
    {
     "name": "stdout",
     "output_type": "stream",
     "text": [
      "<class 'pandas.core.frame.DataFrame'>\n",
      "RangeIndex: 21525 entries, 0 to 21524\n",
      "Data columns (total 12 columns):\n",
      " #   Column            Non-Null Count  Dtype  \n",
      "---  ------            --------------  -----  \n",
      " 0   children          21525 non-null  int64  \n",
      " 1   days_employed     19351 non-null  float64\n",
      " 2   dob_years         21525 non-null  int64  \n",
      " 3   education         21525 non-null  object \n",
      " 4   education_id      21525 non-null  int64  \n",
      " 5   family_status     21525 non-null  object \n",
      " 6   family_status_id  21525 non-null  int64  \n",
      " 7   gender            21525 non-null  object \n",
      " 8   income_type       21525 non-null  object \n",
      " 9   debt              21525 non-null  int64  \n",
      " 10  total_income      19351 non-null  float64\n",
      " 11  purpose           21525 non-null  object \n",
      "dtypes: float64(2), int64(5), object(5)\n",
      "memory usage: 2.0+ MB\n"
     ]
    }
   ],
   "source": [
    "bank_data.info()"
   ]
  },
  {
   "cell_type": "code",
   "execution_count": 10,
   "metadata": {},
   "outputs": [
    {
     "data": {
      "text/html": [
       "<div>\n",
       "<style scoped>\n",
       "    .dataframe tbody tr th:only-of-type {\n",
       "        vertical-align: middle;\n",
       "    }\n",
       "\n",
       "    .dataframe tbody tr th {\n",
       "        vertical-align: top;\n",
       "    }\n",
       "\n",
       "    .dataframe thead th {\n",
       "        text-align: right;\n",
       "    }\n",
       "</style>\n",
       "<table border=\"1\" class=\"dataframe\">\n",
       "  <thead>\n",
       "    <tr style=\"text-align: right;\">\n",
       "      <th></th>\n",
       "      <th>children</th>\n",
       "      <th>days_employed</th>\n",
       "      <th>dob_years</th>\n",
       "      <th>education_id</th>\n",
       "      <th>family_status_id</th>\n",
       "      <th>debt</th>\n",
       "      <th>total_income</th>\n",
       "    </tr>\n",
       "  </thead>\n",
       "  <tbody>\n",
       "    <tr>\n",
       "      <th>count</th>\n",
       "      <td>21525.000000</td>\n",
       "      <td>19351.000000</td>\n",
       "      <td>21525.000000</td>\n",
       "      <td>21525.000000</td>\n",
       "      <td>21525.000000</td>\n",
       "      <td>21525.000000</td>\n",
       "      <td>1.935100e+04</td>\n",
       "    </tr>\n",
       "    <tr>\n",
       "      <th>mean</th>\n",
       "      <td>0.538908</td>\n",
       "      <td>63046.497661</td>\n",
       "      <td>43.293380</td>\n",
       "      <td>0.817236</td>\n",
       "      <td>0.972544</td>\n",
       "      <td>0.080883</td>\n",
       "      <td>1.674223e+05</td>\n",
       "    </tr>\n",
       "    <tr>\n",
       "      <th>std</th>\n",
       "      <td>1.381587</td>\n",
       "      <td>140827.311974</td>\n",
       "      <td>12.574584</td>\n",
       "      <td>0.548138</td>\n",
       "      <td>1.420324</td>\n",
       "      <td>0.272661</td>\n",
       "      <td>1.029716e+05</td>\n",
       "    </tr>\n",
       "    <tr>\n",
       "      <th>min</th>\n",
       "      <td>-1.000000</td>\n",
       "      <td>-18388.949901</td>\n",
       "      <td>0.000000</td>\n",
       "      <td>0.000000</td>\n",
       "      <td>0.000000</td>\n",
       "      <td>0.000000</td>\n",
       "      <td>2.066726e+04</td>\n",
       "    </tr>\n",
       "    <tr>\n",
       "      <th>25%</th>\n",
       "      <td>0.000000</td>\n",
       "      <td>-2747.423625</td>\n",
       "      <td>33.000000</td>\n",
       "      <td>1.000000</td>\n",
       "      <td>0.000000</td>\n",
       "      <td>0.000000</td>\n",
       "      <td>1.030532e+05</td>\n",
       "    </tr>\n",
       "    <tr>\n",
       "      <th>50%</th>\n",
       "      <td>0.000000</td>\n",
       "      <td>-1203.369529</td>\n",
       "      <td>42.000000</td>\n",
       "      <td>1.000000</td>\n",
       "      <td>0.000000</td>\n",
       "      <td>0.000000</td>\n",
       "      <td>1.450179e+05</td>\n",
       "    </tr>\n",
       "    <tr>\n",
       "      <th>75%</th>\n",
       "      <td>1.000000</td>\n",
       "      <td>-291.095954</td>\n",
       "      <td>53.000000</td>\n",
       "      <td>1.000000</td>\n",
       "      <td>1.000000</td>\n",
       "      <td>0.000000</td>\n",
       "      <td>2.034351e+05</td>\n",
       "    </tr>\n",
       "    <tr>\n",
       "      <th>max</th>\n",
       "      <td>20.000000</td>\n",
       "      <td>401755.400475</td>\n",
       "      <td>75.000000</td>\n",
       "      <td>4.000000</td>\n",
       "      <td>4.000000</td>\n",
       "      <td>1.000000</td>\n",
       "      <td>2.265604e+06</td>\n",
       "    </tr>\n",
       "  </tbody>\n",
       "</table>\n",
       "</div>"
      ],
      "text/plain": [
       "           children  days_employed     dob_years  education_id  \\\n",
       "count  21525.000000   19351.000000  21525.000000  21525.000000   \n",
       "mean       0.538908   63046.497661     43.293380      0.817236   \n",
       "std        1.381587  140827.311974     12.574584      0.548138   \n",
       "min       -1.000000  -18388.949901      0.000000      0.000000   \n",
       "25%        0.000000   -2747.423625     33.000000      1.000000   \n",
       "50%        0.000000   -1203.369529     42.000000      1.000000   \n",
       "75%        1.000000    -291.095954     53.000000      1.000000   \n",
       "max       20.000000  401755.400475     75.000000      4.000000   \n",
       "\n",
       "       family_status_id          debt  total_income  \n",
       "count      21525.000000  21525.000000  1.935100e+04  \n",
       "mean           0.972544      0.080883  1.674223e+05  \n",
       "std            1.420324      0.272661  1.029716e+05  \n",
       "min            0.000000      0.000000  2.066726e+04  \n",
       "25%            0.000000      0.000000  1.030532e+05  \n",
       "50%            0.000000      0.000000  1.450179e+05  \n",
       "75%            1.000000      0.000000  2.034351e+05  \n",
       "max            4.000000      1.000000  2.265604e+06  "
      ]
     },
     "execution_count": 10,
     "metadata": {},
     "output_type": "execute_result"
    }
   ],
   "source": [
    "bank_data.describe()"
   ]
  },
  {
   "cell_type": "markdown",
   "metadata": {},
   "source": [
    "**Вывод**"
   ]
  },
  {
   "cell_type": "markdown",
   "metadata": {},
   "source": [
    "Исходя из описания данных, видно следующее:\n",
    "* всего имеем ~21500 записей\n",
    "* в некоторых строках наблюдаются дубликаты названия категорий\n",
    "* есть отрицательные значения в некоторых колонках, бессмысленные с точки зрения логики\n",
    "* часть данных уже преобразована к необходимому типу, но нужно будет произвести ещё преобразования\n",
    "* в двух колонках есть отсутствующие значения\n",
    "* данные занимают достаточно мало памяти"
   ]
  },
  {
   "cell_type": "markdown",
   "metadata": {},
   "source": [
    "## Предобработка данных"
   ]
  },
  {
   "cell_type": "markdown",
   "metadata": {},
   "source": [
    "### Обработка пропусков"
   ]
  },
  {
   "cell_type": "markdown",
   "metadata": {},
   "source": [
    "Посмотрим на колонку days_employed — общий трудовой стаж в днях, в ней были как отрицательные, так и пропущенные значения.\n",
    "Сначала разберемся с пропущенными"
   ]
  },
  {
   "cell_type": "code",
   "execution_count": 11,
   "metadata": {},
   "outputs": [
    {
     "name": "stdout",
     "output_type": "stream",
     "text": [
      "Пропущено значений в колонке days_employed: 2174\n",
      "Доля от общих данных: 10.1%\n"
     ]
    }
   ],
   "source": [
    "bank_data_na = bank_data[bank_data['days_employed'].isna()]\n",
    "print('Пропущено значений в колонке days_employed:', len(bank_data[bank_data['days_employed'].isna()]))\n",
    "print('Доля от общих данных: {:.1%}'.format(len(bank_data[bank_data['days_employed'].isna()]) / len(bank_data)))"
   ]
  },
  {
   "cell_type": "markdown",
   "metadata": {},
   "source": [
    "При удалении строк с пропущенными значениями мы потеряем около 10% всех данных. Это достаточно много, поэтому попробуем подробнее посмотреть на строки с пропущенными значениями и заменить пропущенные значения, чтобы не потерять данные в важных для нас колонках."
   ]
  },
  {
   "cell_type": "code",
   "execution_count": 12,
   "metadata": {},
   "outputs": [
    {
     "data": {
      "text/html": [
       "<div>\n",
       "<style scoped>\n",
       "    .dataframe tbody tr th:only-of-type {\n",
       "        vertical-align: middle;\n",
       "    }\n",
       "\n",
       "    .dataframe tbody tr th {\n",
       "        vertical-align: top;\n",
       "    }\n",
       "\n",
       "    .dataframe thead th {\n",
       "        text-align: right;\n",
       "    }\n",
       "</style>\n",
       "<table border=\"1\" class=\"dataframe\">\n",
       "  <thead>\n",
       "    <tr style=\"text-align: right;\">\n",
       "      <th></th>\n",
       "      <th>children</th>\n",
       "      <th>days_employed</th>\n",
       "      <th>dob_years</th>\n",
       "      <th>education</th>\n",
       "      <th>education_id</th>\n",
       "      <th>family_status</th>\n",
       "      <th>family_status_id</th>\n",
       "      <th>gender</th>\n",
       "      <th>income_type</th>\n",
       "      <th>debt</th>\n",
       "      <th>total_income</th>\n",
       "      <th>purpose</th>\n",
       "    </tr>\n",
       "  </thead>\n",
       "  <tbody>\n",
       "    <tr>\n",
       "      <th>12</th>\n",
       "      <td>0</td>\n",
       "      <td>NaN</td>\n",
       "      <td>65</td>\n",
       "      <td>среднее</td>\n",
       "      <td>1</td>\n",
       "      <td>гражданский брак</td>\n",
       "      <td>1</td>\n",
       "      <td>M</td>\n",
       "      <td>пенсионер</td>\n",
       "      <td>0</td>\n",
       "      <td>NaN</td>\n",
       "      <td>сыграть свадьбу</td>\n",
       "    </tr>\n",
       "    <tr>\n",
       "      <th>26</th>\n",
       "      <td>0</td>\n",
       "      <td>NaN</td>\n",
       "      <td>41</td>\n",
       "      <td>среднее</td>\n",
       "      <td>1</td>\n",
       "      <td>женат / замужем</td>\n",
       "      <td>0</td>\n",
       "      <td>M</td>\n",
       "      <td>госслужащий</td>\n",
       "      <td>0</td>\n",
       "      <td>NaN</td>\n",
       "      <td>образование</td>\n",
       "    </tr>\n",
       "    <tr>\n",
       "      <th>29</th>\n",
       "      <td>0</td>\n",
       "      <td>NaN</td>\n",
       "      <td>63</td>\n",
       "      <td>среднее</td>\n",
       "      <td>1</td>\n",
       "      <td>Не женат / не замужем</td>\n",
       "      <td>4</td>\n",
       "      <td>F</td>\n",
       "      <td>пенсионер</td>\n",
       "      <td>0</td>\n",
       "      <td>NaN</td>\n",
       "      <td>строительство жилой недвижимости</td>\n",
       "    </tr>\n",
       "    <tr>\n",
       "      <th>41</th>\n",
       "      <td>0</td>\n",
       "      <td>NaN</td>\n",
       "      <td>50</td>\n",
       "      <td>среднее</td>\n",
       "      <td>1</td>\n",
       "      <td>женат / замужем</td>\n",
       "      <td>0</td>\n",
       "      <td>F</td>\n",
       "      <td>госслужащий</td>\n",
       "      <td>0</td>\n",
       "      <td>NaN</td>\n",
       "      <td>сделка с подержанным автомобилем</td>\n",
       "    </tr>\n",
       "    <tr>\n",
       "      <th>55</th>\n",
       "      <td>0</td>\n",
       "      <td>NaN</td>\n",
       "      <td>54</td>\n",
       "      <td>среднее</td>\n",
       "      <td>1</td>\n",
       "      <td>гражданский брак</td>\n",
       "      <td>1</td>\n",
       "      <td>F</td>\n",
       "      <td>пенсионер</td>\n",
       "      <td>1</td>\n",
       "      <td>NaN</td>\n",
       "      <td>сыграть свадьбу</td>\n",
       "    </tr>\n",
       "    <tr>\n",
       "      <th>65</th>\n",
       "      <td>0</td>\n",
       "      <td>NaN</td>\n",
       "      <td>21</td>\n",
       "      <td>среднее</td>\n",
       "      <td>1</td>\n",
       "      <td>Не женат / не замужем</td>\n",
       "      <td>4</td>\n",
       "      <td>M</td>\n",
       "      <td>компаньон</td>\n",
       "      <td>0</td>\n",
       "      <td>NaN</td>\n",
       "      <td>операции с коммерческой недвижимостью</td>\n",
       "    </tr>\n",
       "    <tr>\n",
       "      <th>67</th>\n",
       "      <td>0</td>\n",
       "      <td>NaN</td>\n",
       "      <td>52</td>\n",
       "      <td>высшее</td>\n",
       "      <td>0</td>\n",
       "      <td>женат / замужем</td>\n",
       "      <td>0</td>\n",
       "      <td>F</td>\n",
       "      <td>пенсионер</td>\n",
       "      <td>0</td>\n",
       "      <td>NaN</td>\n",
       "      <td>покупка жилья для семьи</td>\n",
       "    </tr>\n",
       "    <tr>\n",
       "      <th>72</th>\n",
       "      <td>1</td>\n",
       "      <td>NaN</td>\n",
       "      <td>32</td>\n",
       "      <td>высшее</td>\n",
       "      <td>0</td>\n",
       "      <td>женат / замужем</td>\n",
       "      <td>0</td>\n",
       "      <td>M</td>\n",
       "      <td>госслужащий</td>\n",
       "      <td>0</td>\n",
       "      <td>NaN</td>\n",
       "      <td>операции с коммерческой недвижимостью</td>\n",
       "    </tr>\n",
       "    <tr>\n",
       "      <th>82</th>\n",
       "      <td>2</td>\n",
       "      <td>NaN</td>\n",
       "      <td>50</td>\n",
       "      <td>высшее</td>\n",
       "      <td>0</td>\n",
       "      <td>женат / замужем</td>\n",
       "      <td>0</td>\n",
       "      <td>F</td>\n",
       "      <td>сотрудник</td>\n",
       "      <td>0</td>\n",
       "      <td>NaN</td>\n",
       "      <td>жилье</td>\n",
       "    </tr>\n",
       "    <tr>\n",
       "      <th>83</th>\n",
       "      <td>0</td>\n",
       "      <td>NaN</td>\n",
       "      <td>52</td>\n",
       "      <td>среднее</td>\n",
       "      <td>1</td>\n",
       "      <td>женат / замужем</td>\n",
       "      <td>0</td>\n",
       "      <td>M</td>\n",
       "      <td>сотрудник</td>\n",
       "      <td>0</td>\n",
       "      <td>NaN</td>\n",
       "      <td>жилье</td>\n",
       "    </tr>\n",
       "  </tbody>\n",
       "</table>\n",
       "</div>"
      ],
      "text/plain": [
       "    children  days_employed  dob_years education  education_id  \\\n",
       "12         0            NaN         65   среднее             1   \n",
       "26         0            NaN         41   среднее             1   \n",
       "29         0            NaN         63   среднее             1   \n",
       "41         0            NaN         50   среднее             1   \n",
       "55         0            NaN         54   среднее             1   \n",
       "65         0            NaN         21   среднее             1   \n",
       "67         0            NaN         52    высшее             0   \n",
       "72         1            NaN         32    высшее             0   \n",
       "82         2            NaN         50    высшее             0   \n",
       "83         0            NaN         52   среднее             1   \n",
       "\n",
       "            family_status  family_status_id gender  income_type  debt  \\\n",
       "12       гражданский брак                 1      M    пенсионер     0   \n",
       "26        женат / замужем                 0      M  госслужащий     0   \n",
       "29  Не женат / не замужем                 4      F    пенсионер     0   \n",
       "41        женат / замужем                 0      F  госслужащий     0   \n",
       "55       гражданский брак                 1      F    пенсионер     1   \n",
       "65  Не женат / не замужем                 4      M    компаньон     0   \n",
       "67        женат / замужем                 0      F    пенсионер     0   \n",
       "72        женат / замужем                 0      M  госслужащий     0   \n",
       "82        женат / замужем                 0      F    сотрудник     0   \n",
       "83        женат / замужем                 0      M    сотрудник     0   \n",
       "\n",
       "    total_income                                purpose  \n",
       "12           NaN                        сыграть свадьбу  \n",
       "26           NaN                            образование  \n",
       "29           NaN       строительство жилой недвижимости  \n",
       "41           NaN       сделка с подержанным автомобилем  \n",
       "55           NaN                        сыграть свадьбу  \n",
       "65           NaN  операции с коммерческой недвижимостью  \n",
       "67           NaN                покупка жилья для семьи  \n",
       "72           NaN  операции с коммерческой недвижимостью  \n",
       "82           NaN                                  жилье  \n",
       "83           NaN                                  жилье  "
      ]
     },
     "execution_count": 12,
     "metadata": {},
     "output_type": "execute_result"
    }
   ],
   "source": [
    "bank_data_na.head(10)"
   ]
  },
  {
   "cell_type": "markdown",
   "metadata": {},
   "source": [
    "Видим, что у клиентов с NaN в колонке days_employed отсутствуют значения в колонке total_income. Посмотрим сколько их"
   ]
  },
  {
   "cell_type": "code",
   "execution_count": 13,
   "metadata": {},
   "outputs": [
    {
     "name": "stdout",
     "output_type": "stream",
     "text": [
      "Число клиентов c пропущенным значением в колонке total_income: 2174\n"
     ]
    }
   ],
   "source": [
    "print('Число клиентов c пропущенным значением в колонке total_income:', len(bank_data_na[bank_data_na['total_income'].isna()]))"
   ]
  },
  {
   "cell_type": "markdown",
   "metadata": {},
   "source": [
    "* Видим, что у одинакового числа клиентов отсутствуют значения в двух колонках. \n",
    "* Вероятно, при заполнении анкеты данные в двух колонках были указаны некорректно и в результате мы получили NaN в некоторых колонках. \n",
    "* Посмотрим, есть ли зависимость числа записей с пропуском от значений в колонках с числом детей и семейным положением."
   ]
  },
  {
   "cell_type": "code",
   "execution_count": 14,
   "metadata": {},
   "outputs": [],
   "source": [
    "def print_ratio(df, df_na, column):\n",
    "    '''Функция для печати соотношения значений в наборе с пропущенными строками по отношению ко всему датасету,\n",
    "    по указанной колонке'''\n",
    "    df_query = dict(df[column].value_counts())\n",
    "    df_na_query = dict(df_na[column].value_counts())\n",
    "    \n",
    "    try:\n",
    "        print('Значения в колонке: {} \\n'.format(column))\n",
    "        for key, value in df_na_query.items():\n",
    "            print('{}: {:.1%}'.format(key, value / df_query[key]))\n",
    "    except:\n",
    "        print('Ошибка при получении соотношения!:')\n",
    "        print()"
   ]
  },
  {
   "cell_type": "code",
   "execution_count": 15,
   "metadata": {},
   "outputs": [
    {
     "name": "stdout",
     "output_type": "stream",
     "text": [
      "Значения в колонке: family_status \n",
      "\n",
      "женат / замужем: 10.0%\n",
      "гражданский брак: 10.6%\n",
      "Не женат / не замужем: 10.2%\n",
      "в разводе: 9.4%\n",
      "вдовец / вдова: 9.9%\n"
     ]
    }
   ],
   "source": [
    "print_ratio(bank_data, bank_data_na, 'family_status')"
   ]
  },
  {
   "cell_type": "code",
   "execution_count": 16,
   "metadata": {},
   "outputs": [
    {
     "name": "stdout",
     "output_type": "stream",
     "text": [
      "Значения в колонке: children \n",
      "\n",
      "0: 10.2%\n",
      "1: 9.9%\n",
      "2: 9.9%\n",
      "3: 10.9%\n",
      "20: 11.8%\n",
      "4: 17.1%\n",
      "-1: 6.4%\n",
      "5: 11.1%\n"
     ]
    }
   ],
   "source": [
    "print_ratio(bank_data, bank_data_na, 'children')"
   ]
  },
  {
   "cell_type": "markdown",
   "metadata": {},
   "source": [
    "\n",
    "Посмотрим, какие источники дохода у клиентов с пропусками в колонке total_income."
   ]
  },
  {
   "cell_type": "code",
   "execution_count": 17,
   "metadata": {},
   "outputs": [
    {
     "data": {
      "text/plain": [
       "income_type\n",
       "госслужащий         147\n",
       "компаньон           508\n",
       "пенсионер           413\n",
       "предприниматель       1\n",
       "сотрудник          1105\n",
       "Name: income_type, dtype: int64"
      ]
     },
     "execution_count": 17,
     "metadata": {},
     "output_type": "execute_result"
    }
   ],
   "source": [
    "bank_data_na[bank_data_na['total_income'].isna()].groupby('income_type')['income_type'].count()"
   ]
  },
  {
   "cell_type": "markdown",
   "metadata": {},
   "source": [
    "Сгруппируем данныех без пропусков в колонке total_income и посмотрим на медиану и среднее значение."
   ]
  },
  {
   "cell_type": "code",
   "execution_count": 18,
   "metadata": {},
   "outputs": [
    {
     "data": {
      "text/html": [
       "<div>\n",
       "<style scoped>\n",
       "    .dataframe tbody tr th:only-of-type {\n",
       "        vertical-align: middle;\n",
       "    }\n",
       "\n",
       "    .dataframe tbody tr th {\n",
       "        vertical-align: top;\n",
       "    }\n",
       "\n",
       "    .dataframe thead th {\n",
       "        text-align: right;\n",
       "    }\n",
       "</style>\n",
       "<table border=\"1\" class=\"dataframe\">\n",
       "  <thead>\n",
       "    <tr style=\"text-align: right;\">\n",
       "      <th></th>\n",
       "      <th>mean</th>\n",
       "      <th>median</th>\n",
       "    </tr>\n",
       "    <tr>\n",
       "      <th>income_type</th>\n",
       "      <th></th>\n",
       "      <th></th>\n",
       "    </tr>\n",
       "  </thead>\n",
       "  <tbody>\n",
       "    <tr>\n",
       "      <th>безработный</th>\n",
       "      <td>131339.751676</td>\n",
       "      <td>131339.751676</td>\n",
       "    </tr>\n",
       "    <tr>\n",
       "      <th>в декрете</th>\n",
       "      <td>53829.130729</td>\n",
       "      <td>53829.130729</td>\n",
       "    </tr>\n",
       "    <tr>\n",
       "      <th>госслужащий</th>\n",
       "      <td>170898.309923</td>\n",
       "      <td>150447.935283</td>\n",
       "    </tr>\n",
       "    <tr>\n",
       "      <th>компаньон</th>\n",
       "      <td>202417.461462</td>\n",
       "      <td>172357.950966</td>\n",
       "    </tr>\n",
       "    <tr>\n",
       "      <th>пенсионер</th>\n",
       "      <td>137127.465690</td>\n",
       "      <td>118514.486412</td>\n",
       "    </tr>\n",
       "    <tr>\n",
       "      <th>предприниматель</th>\n",
       "      <td>499163.144947</td>\n",
       "      <td>499163.144947</td>\n",
       "    </tr>\n",
       "    <tr>\n",
       "      <th>сотрудник</th>\n",
       "      <td>161380.260488</td>\n",
       "      <td>142594.396847</td>\n",
       "    </tr>\n",
       "    <tr>\n",
       "      <th>студент</th>\n",
       "      <td>98201.625314</td>\n",
       "      <td>98201.625314</td>\n",
       "    </tr>\n",
       "  </tbody>\n",
       "</table>\n",
       "</div>"
      ],
      "text/plain": [
       "                          mean         median\n",
       "income_type                                  \n",
       "безработный      131339.751676  131339.751676\n",
       "в декрете         53829.130729   53829.130729\n",
       "госслужащий      170898.309923  150447.935283\n",
       "компаньон        202417.461462  172357.950966\n",
       "пенсионер        137127.465690  118514.486412\n",
       "предприниматель  499163.144947  499163.144947\n",
       "сотрудник        161380.260488  142594.396847\n",
       "студент           98201.625314   98201.625314"
      ]
     },
     "execution_count": 18,
     "metadata": {},
     "output_type": "execute_result"
    }
   ],
   "source": [
    "grouped_bank_data_notna = bank_data[bank_data['total_income'].notna()].groupby('income_type')['total_income'].agg(['mean', 'median'])\n",
    "grouped_bank_data_notna "
   ]
  },
  {
   "cell_type": "markdown",
   "metadata": {},
   "source": [
    "Сформируем словарь из медианных значений дохода и напишем функцию для замены пропусков в колонке total_income на медианное значение при группировке по income_type."
   ]
  },
  {
   "cell_type": "code",
   "execution_count": 19,
   "metadata": {},
   "outputs": [
    {
     "data": {
      "text/plain": [
       "{'безработный': 131339.7516762103,\n",
       " 'в декрете': 53829.13072905995,\n",
       " 'госслужащий': 170898.30992266277,\n",
       " 'компаньон': 202417.46146177707,\n",
       " 'пенсионер': 137127.4656901656,\n",
       " 'предприниматель': 499163.1449470857,\n",
       " 'сотрудник': 161380.26048788536,\n",
       " 'студент': 98201.62531401133}"
      ]
     },
     "execution_count": 19,
     "metadata": {},
     "output_type": "execute_result"
    }
   ],
   "source": [
    "grouped_mean_income_dict = grouped_bank_data_notna['mean'].to_dict()\n",
    "grouped_mean_income_dict"
   ]
  },
  {
   "cell_type": "code",
   "execution_count": 20,
   "metadata": {},
   "outputs": [],
   "source": [
    "def replace_total_income_na(df, mean_dict):\n",
    "    for key, value in mean_dict.items():\n",
    "        try:\n",
    "            df.loc[(df['total_income'].isna()) & (df['income_type'] == key), 'total_income'] = value\n",
    "        except:\n",
    "            print('Ошибка при замене пустого значения в категории {}, не найдены необходимые строки'.format(key))"
   ]
  },
  {
   "cell_type": "code",
   "execution_count": 21,
   "metadata": {},
   "outputs": [],
   "source": [
    "replace_total_income_na(bank_data, grouped_mean_income_dict)"
   ]
  },
  {
   "cell_type": "markdown",
   "metadata": {},
   "source": [
    "Нет явной зависимости между числом детей, семейным положением и пропусками в колонках days_employed и total_income. Заменим NaN значения с пропусками в колонке days_employed на 0"
   ]
  },
  {
   "cell_type": "code",
   "execution_count": 22,
   "metadata": {},
   "outputs": [],
   "source": [
    "bank_data['days_employed'] = bank_data['days_employed'].fillna(0)"
   ]
  },
  {
   "cell_type": "markdown",
   "metadata": {},
   "source": [
    "Проверим, правильно ли выполнили замену"
   ]
  },
  {
   "cell_type": "code",
   "execution_count": 23,
   "metadata": {},
   "outputs": [
    {
     "data": {
      "text/plain": [
       "days_employed    0\n",
       "total_income     0\n",
       "dtype: int64"
      ]
     },
     "execution_count": 23,
     "metadata": {},
     "output_type": "execute_result"
    }
   ],
   "source": [
    "bank_data[['days_employed', 'total_income']].isna().sum()"
   ]
  },
  {
   "cell_type": "markdown",
   "metadata": {},
   "source": [
    "**Вывод**"
   ]
  },
  {
   "cell_type": "markdown",
   "metadata": {},
   "source": [
    "Не обнаружили явной зависимости между пропущенными значениями и значениями в колонках, по которым необходимо сделать анализ. Причиной появления пропусков в колонках могут быть некорректно указанные значения, либо отсутствие значений ввиду отсутствия работы у клиента на момент заполнения данных. Пропущенные значения были заменены на 0 в колонке days_employed, а в колонке total_income пропущенные значения были заменены на медианные значения для соответствующей категории источника дохода."
   ]
  },
  {
   "cell_type": "markdown",
   "metadata": {},
   "source": [
    "### Замена типа данных"
   ]
  },
  {
   "cell_type": "markdown",
   "metadata": {},
   "source": [
    "Обратим ещё раз внимание на значения в колонках 'days_employed' и 'total_income'"
   ]
  },
  {
   "cell_type": "code",
   "execution_count": 24,
   "metadata": {},
   "outputs": [
    {
     "data": {
      "text/html": [
       "<div>\n",
       "<style scoped>\n",
       "    .dataframe tbody tr th:only-of-type {\n",
       "        vertical-align: middle;\n",
       "    }\n",
       "\n",
       "    .dataframe tbody tr th {\n",
       "        vertical-align: top;\n",
       "    }\n",
       "\n",
       "    .dataframe thead th {\n",
       "        text-align: right;\n",
       "    }\n",
       "</style>\n",
       "<table border=\"1\" class=\"dataframe\">\n",
       "  <thead>\n",
       "    <tr style=\"text-align: right;\">\n",
       "      <th></th>\n",
       "      <th>children</th>\n",
       "      <th>days_employed</th>\n",
       "      <th>dob_years</th>\n",
       "      <th>education</th>\n",
       "      <th>education_id</th>\n",
       "      <th>family_status</th>\n",
       "      <th>family_status_id</th>\n",
       "      <th>gender</th>\n",
       "      <th>income_type</th>\n",
       "      <th>debt</th>\n",
       "      <th>total_income</th>\n",
       "      <th>purpose</th>\n",
       "    </tr>\n",
       "  </thead>\n",
       "  <tbody>\n",
       "    <tr>\n",
       "      <th>0</th>\n",
       "      <td>1</td>\n",
       "      <td>-8437.673028</td>\n",
       "      <td>42</td>\n",
       "      <td>высшее</td>\n",
       "      <td>0</td>\n",
       "      <td>женат / замужем</td>\n",
       "      <td>0</td>\n",
       "      <td>F</td>\n",
       "      <td>сотрудник</td>\n",
       "      <td>0</td>\n",
       "      <td>253875.639453</td>\n",
       "      <td>покупка жилья</td>\n",
       "    </tr>\n",
       "    <tr>\n",
       "      <th>1</th>\n",
       "      <td>1</td>\n",
       "      <td>-4024.803754</td>\n",
       "      <td>36</td>\n",
       "      <td>среднее</td>\n",
       "      <td>1</td>\n",
       "      <td>женат / замужем</td>\n",
       "      <td>0</td>\n",
       "      <td>F</td>\n",
       "      <td>сотрудник</td>\n",
       "      <td>0</td>\n",
       "      <td>112080.014102</td>\n",
       "      <td>приобретение автомобиля</td>\n",
       "    </tr>\n",
       "    <tr>\n",
       "      <th>2</th>\n",
       "      <td>0</td>\n",
       "      <td>-5623.422610</td>\n",
       "      <td>33</td>\n",
       "      <td>Среднее</td>\n",
       "      <td>1</td>\n",
       "      <td>женат / замужем</td>\n",
       "      <td>0</td>\n",
       "      <td>M</td>\n",
       "      <td>сотрудник</td>\n",
       "      <td>0</td>\n",
       "      <td>145885.952297</td>\n",
       "      <td>покупка жилья</td>\n",
       "    </tr>\n",
       "    <tr>\n",
       "      <th>3</th>\n",
       "      <td>3</td>\n",
       "      <td>-4124.747207</td>\n",
       "      <td>32</td>\n",
       "      <td>среднее</td>\n",
       "      <td>1</td>\n",
       "      <td>женат / замужем</td>\n",
       "      <td>0</td>\n",
       "      <td>M</td>\n",
       "      <td>сотрудник</td>\n",
       "      <td>0</td>\n",
       "      <td>267628.550329</td>\n",
       "      <td>дополнительное образование</td>\n",
       "    </tr>\n",
       "    <tr>\n",
       "      <th>4</th>\n",
       "      <td>0</td>\n",
       "      <td>340266.072047</td>\n",
       "      <td>53</td>\n",
       "      <td>среднее</td>\n",
       "      <td>1</td>\n",
       "      <td>гражданский брак</td>\n",
       "      <td>1</td>\n",
       "      <td>F</td>\n",
       "      <td>пенсионер</td>\n",
       "      <td>0</td>\n",
       "      <td>158616.077870</td>\n",
       "      <td>сыграть свадьбу</td>\n",
       "    </tr>\n",
       "    <tr>\n",
       "      <th>5</th>\n",
       "      <td>0</td>\n",
       "      <td>-926.185831</td>\n",
       "      <td>27</td>\n",
       "      <td>высшее</td>\n",
       "      <td>0</td>\n",
       "      <td>гражданский брак</td>\n",
       "      <td>1</td>\n",
       "      <td>M</td>\n",
       "      <td>компаньон</td>\n",
       "      <td>0</td>\n",
       "      <td>255763.565419</td>\n",
       "      <td>покупка жилья</td>\n",
       "    </tr>\n",
       "    <tr>\n",
       "      <th>6</th>\n",
       "      <td>0</td>\n",
       "      <td>-2879.202052</td>\n",
       "      <td>43</td>\n",
       "      <td>высшее</td>\n",
       "      <td>0</td>\n",
       "      <td>женат / замужем</td>\n",
       "      <td>0</td>\n",
       "      <td>F</td>\n",
       "      <td>компаньон</td>\n",
       "      <td>0</td>\n",
       "      <td>240525.971920</td>\n",
       "      <td>операции с жильем</td>\n",
       "    </tr>\n",
       "    <tr>\n",
       "      <th>7</th>\n",
       "      <td>0</td>\n",
       "      <td>-152.779569</td>\n",
       "      <td>50</td>\n",
       "      <td>СРЕДНЕЕ</td>\n",
       "      <td>1</td>\n",
       "      <td>женат / замужем</td>\n",
       "      <td>0</td>\n",
       "      <td>M</td>\n",
       "      <td>сотрудник</td>\n",
       "      <td>0</td>\n",
       "      <td>135823.934197</td>\n",
       "      <td>образование</td>\n",
       "    </tr>\n",
       "    <tr>\n",
       "      <th>8</th>\n",
       "      <td>2</td>\n",
       "      <td>-6929.865299</td>\n",
       "      <td>35</td>\n",
       "      <td>ВЫСШЕЕ</td>\n",
       "      <td>0</td>\n",
       "      <td>гражданский брак</td>\n",
       "      <td>1</td>\n",
       "      <td>F</td>\n",
       "      <td>сотрудник</td>\n",
       "      <td>0</td>\n",
       "      <td>95856.832424</td>\n",
       "      <td>на проведение свадьбы</td>\n",
       "    </tr>\n",
       "    <tr>\n",
       "      <th>9</th>\n",
       "      <td>0</td>\n",
       "      <td>-2188.756445</td>\n",
       "      <td>41</td>\n",
       "      <td>среднее</td>\n",
       "      <td>1</td>\n",
       "      <td>женат / замужем</td>\n",
       "      <td>0</td>\n",
       "      <td>M</td>\n",
       "      <td>сотрудник</td>\n",
       "      <td>0</td>\n",
       "      <td>144425.938277</td>\n",
       "      <td>покупка жилья для семьи</td>\n",
       "    </tr>\n",
       "  </tbody>\n",
       "</table>\n",
       "</div>"
      ],
      "text/plain": [
       "   children  days_employed  dob_years education  education_id  \\\n",
       "0         1   -8437.673028         42    высшее             0   \n",
       "1         1   -4024.803754         36   среднее             1   \n",
       "2         0   -5623.422610         33   Среднее             1   \n",
       "3         3   -4124.747207         32   среднее             1   \n",
       "4         0  340266.072047         53   среднее             1   \n",
       "5         0    -926.185831         27    высшее             0   \n",
       "6         0   -2879.202052         43    высшее             0   \n",
       "7         0    -152.779569         50   СРЕДНЕЕ             1   \n",
       "8         2   -6929.865299         35    ВЫСШЕЕ             0   \n",
       "9         0   -2188.756445         41   среднее             1   \n",
       "\n",
       "      family_status  family_status_id gender income_type  debt   total_income  \\\n",
       "0   женат / замужем                 0      F   сотрудник     0  253875.639453   \n",
       "1   женат / замужем                 0      F   сотрудник     0  112080.014102   \n",
       "2   женат / замужем                 0      M   сотрудник     0  145885.952297   \n",
       "3   женат / замужем                 0      M   сотрудник     0  267628.550329   \n",
       "4  гражданский брак                 1      F   пенсионер     0  158616.077870   \n",
       "5  гражданский брак                 1      M   компаньон     0  255763.565419   \n",
       "6   женат / замужем                 0      F   компаньон     0  240525.971920   \n",
       "7   женат / замужем                 0      M   сотрудник     0  135823.934197   \n",
       "8  гражданский брак                 1      F   сотрудник     0   95856.832424   \n",
       "9   женат / замужем                 0      M   сотрудник     0  144425.938277   \n",
       "\n",
       "                      purpose  \n",
       "0               покупка жилья  \n",
       "1     приобретение автомобиля  \n",
       "2               покупка жилья  \n",
       "3  дополнительное образование  \n",
       "4             сыграть свадьбу  \n",
       "5               покупка жилья  \n",
       "6           операции с жильем  \n",
       "7                 образование  \n",
       "8       на проведение свадьбы  \n",
       "9     покупка жилья для семьи  "
      ]
     },
     "execution_count": 24,
     "metadata": {},
     "output_type": "execute_result"
    }
   ],
   "source": [
    "bank_data.head(10)"
   ]
  },
  {
   "cell_type": "code",
   "execution_count": 25,
   "metadata": {},
   "outputs": [
    {
     "data": {
      "text/html": [
       "<div>\n",
       "<style scoped>\n",
       "    .dataframe tbody tr th:only-of-type {\n",
       "        vertical-align: middle;\n",
       "    }\n",
       "\n",
       "    .dataframe tbody tr th {\n",
       "        vertical-align: top;\n",
       "    }\n",
       "\n",
       "    .dataframe thead th {\n",
       "        text-align: right;\n",
       "    }\n",
       "</style>\n",
       "<table border=\"1\" class=\"dataframe\">\n",
       "  <thead>\n",
       "    <tr style=\"text-align: right;\">\n",
       "      <th></th>\n",
       "      <th>days_employed</th>\n",
       "      <th>total_income</th>\n",
       "    </tr>\n",
       "  </thead>\n",
       "  <tbody>\n",
       "    <tr>\n",
       "      <th>min</th>\n",
       "      <td>-18388.949901</td>\n",
       "      <td>2.066726e+04</td>\n",
       "    </tr>\n",
       "    <tr>\n",
       "      <th>max</th>\n",
       "      <td>401755.400475</td>\n",
       "      <td>2.265604e+06</td>\n",
       "    </tr>\n",
       "    <tr>\n",
       "      <th>mean</th>\n",
       "      <td>56678.874622</td>\n",
       "      <td>1.673959e+05</td>\n",
       "    </tr>\n",
       "    <tr>\n",
       "      <th>median</th>\n",
       "      <td>-982.531720</td>\n",
       "      <td>1.519313e+05</td>\n",
       "    </tr>\n",
       "  </tbody>\n",
       "</table>\n",
       "</div>"
      ],
      "text/plain": [
       "        days_employed  total_income\n",
       "min     -18388.949901  2.066726e+04\n",
       "max     401755.400475  2.265604e+06\n",
       "mean     56678.874622  1.673959e+05\n",
       "median    -982.531720  1.519313e+05"
      ]
     },
     "execution_count": 25,
     "metadata": {},
     "output_type": "execute_result"
    }
   ],
   "source": [
    "bank_data[['days_employed', 'total_income']].agg(['min', 'max', 'mean', 'median'])"
   ]
  },
  {
   "cell_type": "markdown",
   "metadata": {},
   "source": [
    "Значения не могут быть отрицательными и нет смысла хранить значения отработанных часов и суммы дохода в формате float, так как большой роли значения после запятой не играют. Изменим значения в обоих колонках на int."
   ]
  },
  {
   "cell_type": "code",
   "execution_count": 26,
   "metadata": {},
   "outputs": [],
   "source": [
    "bank_data[['days_employed', 'total_income']] = bank_data[['days_employed', 'total_income']].astype('int64').abs()"
   ]
  },
  {
   "cell_type": "markdown",
   "metadata": {},
   "source": [
    "Проверим изменения и посмотрим на следующие значения "
   ]
  },
  {
   "cell_type": "code",
   "execution_count": 27,
   "metadata": {},
   "outputs": [
    {
     "data": {
      "text/html": [
       "<div>\n",
       "<style scoped>\n",
       "    .dataframe tbody tr th:only-of-type {\n",
       "        vertical-align: middle;\n",
       "    }\n",
       "\n",
       "    .dataframe tbody tr th {\n",
       "        vertical-align: top;\n",
       "    }\n",
       "\n",
       "    .dataframe thead th {\n",
       "        text-align: right;\n",
       "    }\n",
       "</style>\n",
       "<table border=\"1\" class=\"dataframe\">\n",
       "  <thead>\n",
       "    <tr style=\"text-align: right;\">\n",
       "      <th></th>\n",
       "      <th>days_employed</th>\n",
       "      <th>total_income</th>\n",
       "    </tr>\n",
       "  </thead>\n",
       "  <tbody>\n",
       "    <tr>\n",
       "      <th>min</th>\n",
       "      <td>0.000000</td>\n",
       "      <td>2.066700e+04</td>\n",
       "    </tr>\n",
       "    <tr>\n",
       "      <th>max</th>\n",
       "      <td>401755.000000</td>\n",
       "      <td>2.265604e+06</td>\n",
       "    </tr>\n",
       "    <tr>\n",
       "      <th>mean</th>\n",
       "      <td>60155.970128</td>\n",
       "      <td>1.673954e+05</td>\n",
       "    </tr>\n",
       "    <tr>\n",
       "      <th>median</th>\n",
       "      <td>1808.000000</td>\n",
       "      <td>1.519310e+05</td>\n",
       "    </tr>\n",
       "  </tbody>\n",
       "</table>\n",
       "</div>"
      ],
      "text/plain": [
       "        days_employed  total_income\n",
       "min          0.000000  2.066700e+04\n",
       "max     401755.000000  2.265604e+06\n",
       "mean     60155.970128  1.673954e+05\n",
       "median    1808.000000  1.519310e+05"
      ]
     },
     "execution_count": 27,
     "metadata": {},
     "output_type": "execute_result"
    }
   ],
   "source": [
    "bank_data[['days_employed', 'total_income']].agg(['min', 'max', 'mean', 'median'])"
   ]
  },
  {
   "cell_type": "markdown",
   "metadata": {},
   "source": [
    "В значениях колонки days_employed есть очень большие значения далекие от реальных, даже если учитывать что указано не число проработанных дней, а число часов. Чтобы избавиться от таких экстремальных значений, напишем функцию, которая заменит значения в колонке days_employed на медиану, если они превышают число дней жизни человека, с учетом вычета 16 лет до возможности работать и 5-дневного рабочего дня без отпусков."
   ]
  },
  {
   "cell_type": "code",
   "execution_count": 28,
   "metadata": {},
   "outputs": [],
   "source": [
    "mean_days_employed  = int(bank_data['days_employed'].median())"
   ]
  },
  {
   "cell_type": "code",
   "execution_count": 29,
   "metadata": {},
   "outputs": [
    {
     "data": {
      "text/html": [
       "<div>\n",
       "<style scoped>\n",
       "    .dataframe tbody tr th:only-of-type {\n",
       "        vertical-align: middle;\n",
       "    }\n",
       "\n",
       "    .dataframe tbody tr th {\n",
       "        vertical-align: top;\n",
       "    }\n",
       "\n",
       "    .dataframe thead th {\n",
       "        text-align: right;\n",
       "    }\n",
       "</style>\n",
       "<table border=\"1\" class=\"dataframe\">\n",
       "  <thead>\n",
       "    <tr style=\"text-align: right;\">\n",
       "      <th></th>\n",
       "      <th>children</th>\n",
       "      <th>days_employed</th>\n",
       "      <th>dob_years</th>\n",
       "      <th>education</th>\n",
       "      <th>education_id</th>\n",
       "      <th>family_status</th>\n",
       "      <th>family_status_id</th>\n",
       "      <th>gender</th>\n",
       "      <th>income_type</th>\n",
       "      <th>debt</th>\n",
       "      <th>total_income</th>\n",
       "      <th>purpose</th>\n",
       "    </tr>\n",
       "  </thead>\n",
       "  <tbody>\n",
       "    <tr>\n",
       "      <th>0</th>\n",
       "      <td>1</td>\n",
       "      <td>8437</td>\n",
       "      <td>42</td>\n",
       "      <td>высшее</td>\n",
       "      <td>0</td>\n",
       "      <td>женат / замужем</td>\n",
       "      <td>0</td>\n",
       "      <td>F</td>\n",
       "      <td>сотрудник</td>\n",
       "      <td>0</td>\n",
       "      <td>253875</td>\n",
       "      <td>покупка жилья</td>\n",
       "    </tr>\n",
       "    <tr>\n",
       "      <th>1</th>\n",
       "      <td>1</td>\n",
       "      <td>4024</td>\n",
       "      <td>36</td>\n",
       "      <td>среднее</td>\n",
       "      <td>1</td>\n",
       "      <td>женат / замужем</td>\n",
       "      <td>0</td>\n",
       "      <td>F</td>\n",
       "      <td>сотрудник</td>\n",
       "      <td>0</td>\n",
       "      <td>112080</td>\n",
       "      <td>приобретение автомобиля</td>\n",
       "    </tr>\n",
       "    <tr>\n",
       "      <th>2</th>\n",
       "      <td>0</td>\n",
       "      <td>5623</td>\n",
       "      <td>33</td>\n",
       "      <td>Среднее</td>\n",
       "      <td>1</td>\n",
       "      <td>женат / замужем</td>\n",
       "      <td>0</td>\n",
       "      <td>M</td>\n",
       "      <td>сотрудник</td>\n",
       "      <td>0</td>\n",
       "      <td>145885</td>\n",
       "      <td>покупка жилья</td>\n",
       "    </tr>\n",
       "    <tr>\n",
       "      <th>3</th>\n",
       "      <td>3</td>\n",
       "      <td>4124</td>\n",
       "      <td>32</td>\n",
       "      <td>среднее</td>\n",
       "      <td>1</td>\n",
       "      <td>женат / замужем</td>\n",
       "      <td>0</td>\n",
       "      <td>M</td>\n",
       "      <td>сотрудник</td>\n",
       "      <td>0</td>\n",
       "      <td>267628</td>\n",
       "      <td>дополнительное образование</td>\n",
       "    </tr>\n",
       "    <tr>\n",
       "      <th>4</th>\n",
       "      <td>0</td>\n",
       "      <td>340266</td>\n",
       "      <td>53</td>\n",
       "      <td>среднее</td>\n",
       "      <td>1</td>\n",
       "      <td>гражданский брак</td>\n",
       "      <td>1</td>\n",
       "      <td>F</td>\n",
       "      <td>пенсионер</td>\n",
       "      <td>0</td>\n",
       "      <td>158616</td>\n",
       "      <td>сыграть свадьбу</td>\n",
       "    </tr>\n",
       "    <tr>\n",
       "      <th>...</th>\n",
       "      <td>...</td>\n",
       "      <td>...</td>\n",
       "      <td>...</td>\n",
       "      <td>...</td>\n",
       "      <td>...</td>\n",
       "      <td>...</td>\n",
       "      <td>...</td>\n",
       "      <td>...</td>\n",
       "      <td>...</td>\n",
       "      <td>...</td>\n",
       "      <td>...</td>\n",
       "      <td>...</td>\n",
       "    </tr>\n",
       "    <tr>\n",
       "      <th>21520</th>\n",
       "      <td>1</td>\n",
       "      <td>4529</td>\n",
       "      <td>43</td>\n",
       "      <td>среднее</td>\n",
       "      <td>1</td>\n",
       "      <td>гражданский брак</td>\n",
       "      <td>1</td>\n",
       "      <td>F</td>\n",
       "      <td>компаньон</td>\n",
       "      <td>0</td>\n",
       "      <td>224791</td>\n",
       "      <td>операции с жильем</td>\n",
       "    </tr>\n",
       "    <tr>\n",
       "      <th>21521</th>\n",
       "      <td>0</td>\n",
       "      <td>343937</td>\n",
       "      <td>67</td>\n",
       "      <td>среднее</td>\n",
       "      <td>1</td>\n",
       "      <td>женат / замужем</td>\n",
       "      <td>0</td>\n",
       "      <td>F</td>\n",
       "      <td>пенсионер</td>\n",
       "      <td>0</td>\n",
       "      <td>155999</td>\n",
       "      <td>сделка с автомобилем</td>\n",
       "    </tr>\n",
       "    <tr>\n",
       "      <th>21522</th>\n",
       "      <td>1</td>\n",
       "      <td>2113</td>\n",
       "      <td>38</td>\n",
       "      <td>среднее</td>\n",
       "      <td>1</td>\n",
       "      <td>гражданский брак</td>\n",
       "      <td>1</td>\n",
       "      <td>M</td>\n",
       "      <td>сотрудник</td>\n",
       "      <td>1</td>\n",
       "      <td>89672</td>\n",
       "      <td>недвижимость</td>\n",
       "    </tr>\n",
       "    <tr>\n",
       "      <th>21523</th>\n",
       "      <td>3</td>\n",
       "      <td>3112</td>\n",
       "      <td>38</td>\n",
       "      <td>среднее</td>\n",
       "      <td>1</td>\n",
       "      <td>женат / замужем</td>\n",
       "      <td>0</td>\n",
       "      <td>M</td>\n",
       "      <td>сотрудник</td>\n",
       "      <td>1</td>\n",
       "      <td>244093</td>\n",
       "      <td>на покупку своего автомобиля</td>\n",
       "    </tr>\n",
       "    <tr>\n",
       "      <th>21524</th>\n",
       "      <td>2</td>\n",
       "      <td>1984</td>\n",
       "      <td>40</td>\n",
       "      <td>среднее</td>\n",
       "      <td>1</td>\n",
       "      <td>женат / замужем</td>\n",
       "      <td>0</td>\n",
       "      <td>F</td>\n",
       "      <td>сотрудник</td>\n",
       "      <td>0</td>\n",
       "      <td>82047</td>\n",
       "      <td>на покупку автомобиля</td>\n",
       "    </tr>\n",
       "  </tbody>\n",
       "</table>\n",
       "<p>21525 rows × 12 columns</p>\n",
       "</div>"
      ],
      "text/plain": [
       "       children  days_employed  dob_years education  education_id  \\\n",
       "0             1           8437         42    высшее             0   \n",
       "1             1           4024         36   среднее             1   \n",
       "2             0           5623         33   Среднее             1   \n",
       "3             3           4124         32   среднее             1   \n",
       "4             0         340266         53   среднее             1   \n",
       "...         ...            ...        ...       ...           ...   \n",
       "21520         1           4529         43   среднее             1   \n",
       "21521         0         343937         67   среднее             1   \n",
       "21522         1           2113         38   среднее             1   \n",
       "21523         3           3112         38   среднее             1   \n",
       "21524         2           1984         40   среднее             1   \n",
       "\n",
       "          family_status  family_status_id gender income_type  debt  \\\n",
       "0       женат / замужем                 0      F   сотрудник     0   \n",
       "1       женат / замужем                 0      F   сотрудник     0   \n",
       "2       женат / замужем                 0      M   сотрудник     0   \n",
       "3       женат / замужем                 0      M   сотрудник     0   \n",
       "4      гражданский брак                 1      F   пенсионер     0   \n",
       "...                 ...               ...    ...         ...   ...   \n",
       "21520  гражданский брак                 1      F   компаньон     0   \n",
       "21521   женат / замужем                 0      F   пенсионер     0   \n",
       "21522  гражданский брак                 1      M   сотрудник     1   \n",
       "21523   женат / замужем                 0      M   сотрудник     1   \n",
       "21524   женат / замужем                 0      F   сотрудник     0   \n",
       "\n",
       "       total_income                       purpose  \n",
       "0            253875                 покупка жилья  \n",
       "1            112080       приобретение автомобиля  \n",
       "2            145885                 покупка жилья  \n",
       "3            267628    дополнительное образование  \n",
       "4            158616               сыграть свадьбу  \n",
       "...             ...                           ...  \n",
       "21520        224791             операции с жильем  \n",
       "21521        155999          сделка с автомобилем  \n",
       "21522         89672                  недвижимость  \n",
       "21523        244093  на покупку своего автомобиля  \n",
       "21524         82047         на покупку автомобиля  \n",
       "\n",
       "[21525 rows x 12 columns]"
      ]
     },
     "execution_count": 29,
     "metadata": {},
     "output_type": "execute_result"
    }
   ],
   "source": [
    "bank_data"
   ]
  },
  {
   "cell_type": "code",
   "execution_count": 30,
   "metadata": {},
   "outputs": [],
   "source": [
    "def set_correct_days_employed(row):\n",
    "        age = row['dob_years']\n",
    "        days_employed = row['days_employed']\n",
    "        work_days_in_year = 52 * (7 - 5)\n",
    "        try:\n",
    "            if days_employed > ((age - 16) * work_days_in_year):\n",
    "                return mean_days_employed\n",
    "        except:\n",
    "            print('Что-то не так с данными:', days_employed)\n",
    "        return days_employed"
   ]
  },
  {
   "cell_type": "code",
   "execution_count": 31,
   "metadata": {},
   "outputs": [],
   "source": [
    "bank_data['days_employed'] = bank_data.apply(set_correct_days_employed, axis = 1)"
   ]
  },
  {
   "cell_type": "markdown",
   "metadata": {},
   "source": [
    "Вернем значения в колонце к целочисленному типу"
   ]
  },
  {
   "cell_type": "code",
   "execution_count": 32,
   "metadata": {},
   "outputs": [
    {
     "data": {
      "text/plain": [
       "0        1808\n",
       "1        1808\n",
       "2        1808\n",
       "3        1808\n",
       "4        1808\n",
       "         ... \n",
       "21520    1808\n",
       "21521    1808\n",
       "21522    2113\n",
       "21523    1808\n",
       "21524    1984\n",
       "Name: days_employed, Length: 21525, dtype: int64"
      ]
     },
     "execution_count": 32,
     "metadata": {},
     "output_type": "execute_result"
    }
   ],
   "source": [
    "bank_data['days_employed'].astype('int64')"
   ]
  },
  {
   "cell_type": "markdown",
   "metadata": {},
   "source": [
    "Посмотрим на значения в колонке children"
   ]
  },
  {
   "cell_type": "code",
   "execution_count": 33,
   "metadata": {},
   "outputs": [
    {
     "data": {
      "text/plain": [
       " 0     14149\n",
       " 1      4818\n",
       " 2      2055\n",
       " 3       330\n",
       " 20       76\n",
       "-1        47\n",
       " 4        41\n",
       " 5         9\n",
       "Name: children, dtype: int64"
      ]
     },
     "execution_count": 33,
     "metadata": {},
     "output_type": "execute_result"
    }
   ],
   "source": [
    "bank_data['children'].value_counts()"
   ]
  },
  {
   "cell_type": "markdown",
   "metadata": {},
   "source": [
    "Избавимся от строк, в которых указано число детей -1 и 20, поскольку эти значения маловероятны, особенно -1"
   ]
  },
  {
   "cell_type": "code",
   "execution_count": 34,
   "metadata": {},
   "outputs": [],
   "source": [
    "bank_data = bank_data[(bank_data['children'] != - 1) & (bank_data['children'] != 20)]"
   ]
  },
  {
   "cell_type": "markdown",
   "metadata": {},
   "source": [
    "Посмотрим на значения в колонке dob_years"
   ]
  },
  {
   "cell_type": "code",
   "execution_count": 35,
   "metadata": {},
   "outputs": [
    {
     "data": {
      "text/html": [
       "<div>\n",
       "<style scoped>\n",
       "    .dataframe tbody tr th:only-of-type {\n",
       "        vertical-align: middle;\n",
       "    }\n",
       "\n",
       "    .dataframe tbody tr th {\n",
       "        vertical-align: top;\n",
       "    }\n",
       "\n",
       "    .dataframe thead th {\n",
       "        text-align: right;\n",
       "    }\n",
       "</style>\n",
       "<table border=\"1\" class=\"dataframe\">\n",
       "  <thead>\n",
       "    <tr style=\"text-align: right;\">\n",
       "      <th></th>\n",
       "      <th>children</th>\n",
       "      <th>days_employed</th>\n",
       "      <th>dob_years</th>\n",
       "      <th>education</th>\n",
       "      <th>education_id</th>\n",
       "      <th>family_status</th>\n",
       "      <th>family_status_id</th>\n",
       "      <th>gender</th>\n",
       "      <th>income_type</th>\n",
       "      <th>debt</th>\n",
       "      <th>total_income</th>\n",
       "      <th>purpose</th>\n",
       "    </tr>\n",
       "  </thead>\n",
       "  <tbody>\n",
       "    <tr>\n",
       "      <th>99</th>\n",
       "      <td>0</td>\n",
       "      <td>1808</td>\n",
       "      <td>0</td>\n",
       "      <td>Среднее</td>\n",
       "      <td>1</td>\n",
       "      <td>женат / замужем</td>\n",
       "      <td>0</td>\n",
       "      <td>F</td>\n",
       "      <td>пенсионер</td>\n",
       "      <td>0</td>\n",
       "      <td>71291</td>\n",
       "      <td>автомобиль</td>\n",
       "    </tr>\n",
       "    <tr>\n",
       "      <th>149</th>\n",
       "      <td>0</td>\n",
       "      <td>1808</td>\n",
       "      <td>0</td>\n",
       "      <td>среднее</td>\n",
       "      <td>1</td>\n",
       "      <td>в разводе</td>\n",
       "      <td>3</td>\n",
       "      <td>F</td>\n",
       "      <td>сотрудник</td>\n",
       "      <td>0</td>\n",
       "      <td>70176</td>\n",
       "      <td>операции с жильем</td>\n",
       "    </tr>\n",
       "    <tr>\n",
       "      <th>270</th>\n",
       "      <td>3</td>\n",
       "      <td>1808</td>\n",
       "      <td>0</td>\n",
       "      <td>среднее</td>\n",
       "      <td>1</td>\n",
       "      <td>женат / замужем</td>\n",
       "      <td>0</td>\n",
       "      <td>F</td>\n",
       "      <td>сотрудник</td>\n",
       "      <td>0</td>\n",
       "      <td>102166</td>\n",
       "      <td>ремонт жилью</td>\n",
       "    </tr>\n",
       "    <tr>\n",
       "      <th>578</th>\n",
       "      <td>0</td>\n",
       "      <td>1808</td>\n",
       "      <td>0</td>\n",
       "      <td>среднее</td>\n",
       "      <td>1</td>\n",
       "      <td>женат / замужем</td>\n",
       "      <td>0</td>\n",
       "      <td>F</td>\n",
       "      <td>пенсионер</td>\n",
       "      <td>0</td>\n",
       "      <td>97620</td>\n",
       "      <td>строительство собственной недвижимости</td>\n",
       "    </tr>\n",
       "    <tr>\n",
       "      <th>1040</th>\n",
       "      <td>0</td>\n",
       "      <td>1808</td>\n",
       "      <td>0</td>\n",
       "      <td>высшее</td>\n",
       "      <td>0</td>\n",
       "      <td>в разводе</td>\n",
       "      <td>3</td>\n",
       "      <td>F</td>\n",
       "      <td>компаньон</td>\n",
       "      <td>0</td>\n",
       "      <td>303994</td>\n",
       "      <td>свой автомобиль</td>\n",
       "    </tr>\n",
       "    <tr>\n",
       "      <th>...</th>\n",
       "      <td>...</td>\n",
       "      <td>...</td>\n",
       "      <td>...</td>\n",
       "      <td>...</td>\n",
       "      <td>...</td>\n",
       "      <td>...</td>\n",
       "      <td>...</td>\n",
       "      <td>...</td>\n",
       "      <td>...</td>\n",
       "      <td>...</td>\n",
       "      <td>...</td>\n",
       "      <td>...</td>\n",
       "    </tr>\n",
       "    <tr>\n",
       "      <th>19829</th>\n",
       "      <td>0</td>\n",
       "      <td>1808</td>\n",
       "      <td>0</td>\n",
       "      <td>среднее</td>\n",
       "      <td>1</td>\n",
       "      <td>женат / замужем</td>\n",
       "      <td>0</td>\n",
       "      <td>F</td>\n",
       "      <td>сотрудник</td>\n",
       "      <td>0</td>\n",
       "      <td>161380</td>\n",
       "      <td>жилье</td>\n",
       "    </tr>\n",
       "    <tr>\n",
       "      <th>20462</th>\n",
       "      <td>0</td>\n",
       "      <td>1808</td>\n",
       "      <td>0</td>\n",
       "      <td>среднее</td>\n",
       "      <td>1</td>\n",
       "      <td>женат / замужем</td>\n",
       "      <td>0</td>\n",
       "      <td>F</td>\n",
       "      <td>пенсионер</td>\n",
       "      <td>0</td>\n",
       "      <td>259193</td>\n",
       "      <td>покупка своего жилья</td>\n",
       "    </tr>\n",
       "    <tr>\n",
       "      <th>20577</th>\n",
       "      <td>0</td>\n",
       "      <td>1808</td>\n",
       "      <td>0</td>\n",
       "      <td>среднее</td>\n",
       "      <td>1</td>\n",
       "      <td>Не женат / не замужем</td>\n",
       "      <td>4</td>\n",
       "      <td>F</td>\n",
       "      <td>пенсионер</td>\n",
       "      <td>0</td>\n",
       "      <td>129788</td>\n",
       "      <td>недвижимость</td>\n",
       "    </tr>\n",
       "    <tr>\n",
       "      <th>21179</th>\n",
       "      <td>2</td>\n",
       "      <td>1808</td>\n",
       "      <td>0</td>\n",
       "      <td>высшее</td>\n",
       "      <td>0</td>\n",
       "      <td>женат / замужем</td>\n",
       "      <td>0</td>\n",
       "      <td>M</td>\n",
       "      <td>компаньон</td>\n",
       "      <td>0</td>\n",
       "      <td>240702</td>\n",
       "      <td>строительство жилой недвижимости</td>\n",
       "    </tr>\n",
       "    <tr>\n",
       "      <th>21313</th>\n",
       "      <td>0</td>\n",
       "      <td>1808</td>\n",
       "      <td>0</td>\n",
       "      <td>среднее</td>\n",
       "      <td>1</td>\n",
       "      <td>Не женат / не замужем</td>\n",
       "      <td>4</td>\n",
       "      <td>M</td>\n",
       "      <td>сотрудник</td>\n",
       "      <td>0</td>\n",
       "      <td>152419</td>\n",
       "      <td>операции с жильем</td>\n",
       "    </tr>\n",
       "  </tbody>\n",
       "</table>\n",
       "<p>100 rows × 12 columns</p>\n",
       "</div>"
      ],
      "text/plain": [
       "       children  days_employed  dob_years education  education_id  \\\n",
       "99            0           1808          0   Среднее             1   \n",
       "149           0           1808          0   среднее             1   \n",
       "270           3           1808          0   среднее             1   \n",
       "578           0           1808          0   среднее             1   \n",
       "1040          0           1808          0    высшее             0   \n",
       "...         ...            ...        ...       ...           ...   \n",
       "19829         0           1808          0   среднее             1   \n",
       "20462         0           1808          0   среднее             1   \n",
       "20577         0           1808          0   среднее             1   \n",
       "21179         2           1808          0    высшее             0   \n",
       "21313         0           1808          0   среднее             1   \n",
       "\n",
       "               family_status  family_status_id gender income_type  debt  \\\n",
       "99           женат / замужем                 0      F   пенсионер     0   \n",
       "149                в разводе                 3      F   сотрудник     0   \n",
       "270          женат / замужем                 0      F   сотрудник     0   \n",
       "578          женат / замужем                 0      F   пенсионер     0   \n",
       "1040               в разводе                 3      F   компаньон     0   \n",
       "...                      ...               ...    ...         ...   ...   \n",
       "19829        женат / замужем                 0      F   сотрудник     0   \n",
       "20462        женат / замужем                 0      F   пенсионер     0   \n",
       "20577  Не женат / не замужем                 4      F   пенсионер     0   \n",
       "21179        женат / замужем                 0      M   компаньон     0   \n",
       "21313  Не женат / не замужем                 4      M   сотрудник     0   \n",
       "\n",
       "       total_income                                 purpose  \n",
       "99            71291                              автомобиль  \n",
       "149           70176                       операции с жильем  \n",
       "270          102166                            ремонт жилью  \n",
       "578           97620  строительство собственной недвижимости  \n",
       "1040         303994                         свой автомобиль  \n",
       "...             ...                                     ...  \n",
       "19829        161380                                   жилье  \n",
       "20462        259193                    покупка своего жилья  \n",
       "20577        129788                            недвижимость  \n",
       "21179        240702        строительство жилой недвижимости  \n",
       "21313        152419                       операции с жильем  \n",
       "\n",
       "[100 rows x 12 columns]"
      ]
     },
     "execution_count": 35,
     "metadata": {},
     "output_type": "execute_result"
    }
   ],
   "source": [
    "bank_data[bank_data['dob_years'] <= 0]"
   ]
  },
  {
   "cell_type": "markdown",
   "metadata": {},
   "source": [
    "Видим, что есть записи, с возрастом равным 0. Выберем все строки датафрейма без таких записей."
   ]
  },
  {
   "cell_type": "code",
   "execution_count": 36,
   "metadata": {},
   "outputs": [],
   "source": [
    "bank_data = bank_data[bank_data['dob_years'] > 0]"
   ]
  },
  {
   "cell_type": "markdown",
   "metadata": {},
   "source": [
    "Оценим, какую часть данных мы потеряли после удаления строк."
   ]
  },
  {
   "cell_type": "code",
   "execution_count": 37,
   "metadata": {},
   "outputs": [
    {
     "name": "stdout",
     "output_type": "stream",
     "text": [
      "Доля потерянных данных: 1.036%\n"
     ]
    }
   ],
   "source": [
    "print('Доля потерянных данных: {:.3%}'.format(1 - bank_data.shape[0] / raw_bank_data_shape))"
   ]
  },
  {
   "cell_type": "markdown",
   "metadata": {},
   "source": [
    "**Вывод**"
   ]
  },
  {
   "cell_type": "markdown",
   "metadata": {},
   "source": [
    "* Мы избавились от отрицательных значений в колонке days_employed.\n",
    "* Заменили тип данных на int64 в колонках days_employed и total_income, а так же убрали нереалистичные значения стажа в колонках days_employed и children, возраста в колонке dob_years.\n",
    "* После удаления строк с некорректными значениями мы потеряли 1% от общего объема данных."
   ]
  },
  {
   "cell_type": "markdown",
   "metadata": {},
   "source": [
    "### Обработка дубликатов"
   ]
  },
  {
   "cell_type": "markdown",
   "metadata": {},
   "source": [
    "Посмотрим на уникальные значения в колонке education"
   ]
  },
  {
   "cell_type": "code",
   "execution_count": 38,
   "metadata": {},
   "outputs": [
    {
     "data": {
      "text/plain": [
       "среднее                13609\n",
       "высшее                  4666\n",
       "СРЕДНЕЕ                  764\n",
       "Среднее                  700\n",
       "неоконченное высшее      663\n",
       "ВЫСШЕЕ                   270\n",
       "Высшее                   266\n",
       "начальное                250\n",
       "Неоконченное высшее       47\n",
       "НЕОКОНЧЕННОЕ ВЫСШЕЕ       29\n",
       "НАЧАЛЬНОЕ                 17\n",
       "Начальное                 15\n",
       "ученая степень             4\n",
       "Ученая степень             1\n",
       "УЧЕНАЯ СТЕПЕНЬ             1\n",
       "Name: education, dtype: int64"
      ]
     },
     "execution_count": 38,
     "metadata": {},
     "output_type": "execute_result"
    }
   ],
   "source": [
    "bank_data['education'].value_counts()"
   ]
  },
  {
   "cell_type": "markdown",
   "metadata": {},
   "source": [
    "Видим дубликаты, записанные в различном регистре. Придем все варианты к нижнему регистру и проверим результат"
   ]
  },
  {
   "cell_type": "code",
   "execution_count": 39,
   "metadata": {},
   "outputs": [],
   "source": [
    "bank_data = bank_data.copy()\n",
    "bank_data['education'] = bank_data['education'].str.lower()"
   ]
  },
  {
   "cell_type": "code",
   "execution_count": 40,
   "metadata": {},
   "outputs": [
    {
     "data": {
      "text/plain": [
       "среднее                15073\n",
       "высшее                  5202\n",
       "неоконченное высшее      739\n",
       "начальное                282\n",
       "ученая степень             6\n",
       "Name: education, dtype: int64"
      ]
     },
     "execution_count": 40,
     "metadata": {},
     "output_type": "execute_result"
    }
   ],
   "source": [
    "bank_data['education'].value_counts()"
   ]
  },
  {
   "cell_type": "markdown",
   "metadata": {},
   "source": [
    "Посмотрим  на уникальные значения в других колонках"
   ]
  },
  {
   "cell_type": "code",
   "execution_count": 41,
   "metadata": {},
   "outputs": [
    {
     "data": {
      "text/plain": [
       "F      14083\n",
       "M       7218\n",
       "XNA        1\n",
       "Name: gender, dtype: int64"
      ]
     },
     "execution_count": 41,
     "metadata": {},
     "output_type": "execute_result"
    }
   ],
   "source": [
    "bank_data['gender'].value_counts()"
   ]
  },
  {
   "cell_type": "markdown",
   "metadata": {},
   "source": [
    "Избавимся от строки со значением пола XNA. Проверим правильность удаления"
   ]
  },
  {
   "cell_type": "code",
   "execution_count": 42,
   "metadata": {},
   "outputs": [],
   "source": [
    "bank_data = bank_data[bank_data['gender'] != 'XNA']"
   ]
  },
  {
   "cell_type": "code",
   "execution_count": 43,
   "metadata": {},
   "outputs": [
    {
     "data": {
      "text/plain": [
       "F    14083\n",
       "M     7218\n",
       "Name: gender, dtype: int64"
      ]
     },
     "execution_count": 43,
     "metadata": {},
     "output_type": "execute_result"
    }
   ],
   "source": [
    "bank_data['gender'].value_counts()"
   ]
  },
  {
   "cell_type": "markdown",
   "metadata": {},
   "source": [
    "Посмотрим  на уникальные значения в колонке family_status"
   ]
  },
  {
   "cell_type": "code",
   "execution_count": 44,
   "metadata": {},
   "outputs": [
    {
     "data": {
      "text/plain": [
       "женат / замужем          12254\n",
       "гражданский брак          4138\n",
       "Не женат / не замужем     2783\n",
       "в разводе                 1179\n",
       "вдовец / вдова             947\n",
       "Name: family_status, dtype: int64"
      ]
     },
     "execution_count": 44,
     "metadata": {},
     "output_type": "execute_result"
    }
   ],
   "source": [
    "bank_data['family_status'].value_counts()"
   ]
  },
  {
   "cell_type": "markdown",
   "metadata": {},
   "source": [
    "Каких-либо странных значений нет"
   ]
  },
  {
   "cell_type": "markdown",
   "metadata": {},
   "source": [
    "Посмотрим на уникальные значения в колонке income_type"
   ]
  },
  {
   "cell_type": "code",
   "execution_count": 45,
   "metadata": {},
   "outputs": [
    {
     "data": {
      "text/plain": [
       "сотрудник          10996\n",
       "компаньон           5033\n",
       "пенсионер           3819\n",
       "госслужащий         1447\n",
       "безработный            2\n",
       "предприниматель        2\n",
       "студент                1\n",
       "в декрете              1\n",
       "Name: income_type, dtype: int64"
      ]
     },
     "execution_count": 45,
     "metadata": {},
     "output_type": "execute_result"
    }
   ],
   "source": [
    "bank_data['income_type'].value_counts()"
   ]
  },
  {
   "cell_type": "code",
   "execution_count": 46,
   "metadata": {},
   "outputs": [
    {
     "data": {
      "text/html": [
       "<div>\n",
       "<style scoped>\n",
       "    .dataframe tbody tr th:only-of-type {\n",
       "        vertical-align: middle;\n",
       "    }\n",
       "\n",
       "    .dataframe tbody tr th {\n",
       "        vertical-align: top;\n",
       "    }\n",
       "\n",
       "    .dataframe thead th {\n",
       "        text-align: right;\n",
       "    }\n",
       "</style>\n",
       "<table border=\"1\" class=\"dataframe\">\n",
       "  <thead>\n",
       "    <tr style=\"text-align: right;\">\n",
       "      <th></th>\n",
       "      <th>children</th>\n",
       "      <th>days_employed</th>\n",
       "      <th>dob_years</th>\n",
       "      <th>education</th>\n",
       "      <th>education_id</th>\n",
       "      <th>family_status</th>\n",
       "      <th>family_status_id</th>\n",
       "      <th>gender</th>\n",
       "      <th>income_type</th>\n",
       "      <th>debt</th>\n",
       "      <th>total_income</th>\n",
       "      <th>purpose</th>\n",
       "    </tr>\n",
       "  </thead>\n",
       "  <tbody>\n",
       "    <tr>\n",
       "      <th>3133</th>\n",
       "      <td>1</td>\n",
       "      <td>1808</td>\n",
       "      <td>31</td>\n",
       "      <td>среднее</td>\n",
       "      <td>1</td>\n",
       "      <td>женат / замужем</td>\n",
       "      <td>0</td>\n",
       "      <td>M</td>\n",
       "      <td>безработный</td>\n",
       "      <td>1</td>\n",
       "      <td>59956</td>\n",
       "      <td>покупка жилья для сдачи</td>\n",
       "    </tr>\n",
       "    <tr>\n",
       "      <th>14798</th>\n",
       "      <td>0</td>\n",
       "      <td>1808</td>\n",
       "      <td>45</td>\n",
       "      <td>высшее</td>\n",
       "      <td>0</td>\n",
       "      <td>гражданский брак</td>\n",
       "      <td>1</td>\n",
       "      <td>F</td>\n",
       "      <td>безработный</td>\n",
       "      <td>0</td>\n",
       "      <td>202722</td>\n",
       "      <td>ремонт жилью</td>\n",
       "    </tr>\n",
       "  </tbody>\n",
       "</table>\n",
       "</div>"
      ],
      "text/plain": [
       "       children  days_employed  dob_years education  education_id  \\\n",
       "3133          1           1808         31   среднее             1   \n",
       "14798         0           1808         45    высшее             0   \n",
       "\n",
       "          family_status  family_status_id gender  income_type  debt  \\\n",
       "3133    женат / замужем                 0      M  безработный     1   \n",
       "14798  гражданский брак                 1      F  безработный     0   \n",
       "\n",
       "       total_income                  purpose  \n",
       "3133          59956  покупка жилья для сдачи  \n",
       "14798        202722             ремонт жилью  "
      ]
     },
     "execution_count": 46,
     "metadata": {},
     "output_type": "execute_result"
    }
   ],
   "source": [
    "bank_data[bank_data['income_type'] == 'безработный']"
   ]
  },
  {
   "cell_type": "markdown",
   "metadata": {},
   "source": [
    "Можем заменить значения \"компаньон\" на \"предприниматель\", поскольку они несут одинаковый смысл"
   ]
  },
  {
   "cell_type": "code",
   "execution_count": 47,
   "metadata": {},
   "outputs": [],
   "source": [
    "bank_data = bank_data.replace('предприниматель', 'компаньон')"
   ]
  },
  {
   "cell_type": "code",
   "execution_count": 48,
   "metadata": {},
   "outputs": [
    {
     "data": {
      "text/plain": [
       "сотрудник      10996\n",
       "компаньон       5035\n",
       "пенсионер       3819\n",
       "госслужащий     1447\n",
       "безработный        2\n",
       "студент            1\n",
       "в декрете          1\n",
       "Name: income_type, dtype: int64"
      ]
     },
     "execution_count": 48,
     "metadata": {},
     "output_type": "execute_result"
    }
   ],
   "source": [
    "bank_data['income_type'].value_counts()"
   ]
  },
  {
   "cell_type": "markdown",
   "metadata": {},
   "source": [
    "Теперь поищем дубликаты строк в датафрейме с помощью метода duplicated()"
   ]
  },
  {
   "cell_type": "code",
   "execution_count": 49,
   "metadata": {},
   "outputs": [
    {
     "data": {
      "text/plain": [
       "71"
      ]
     },
     "execution_count": 49,
     "metadata": {},
     "output_type": "execute_result"
    }
   ],
   "source": [
    "bank_data.duplicated().sum()"
   ]
  },
  {
   "cell_type": "markdown",
   "metadata": {},
   "source": [
    "Видим наличие дубликатов, избавимся от них с помощью drop_duplicates() и проверим результат"
   ]
  },
  {
   "cell_type": "code",
   "execution_count": 50,
   "metadata": {},
   "outputs": [
    {
     "data": {
      "text/plain": [
       "0"
      ]
     },
     "execution_count": 50,
     "metadata": {},
     "output_type": "execute_result"
    }
   ],
   "source": [
    "bank_data = bank_data.drop_duplicates()\n",
    "bank_data.duplicated().sum()"
   ]
  },
  {
   "cell_type": "markdown",
   "metadata": {},
   "source": [
    "Оценим, какую часть данных мы потеряли после избавления данных от дубликатов."
   ]
  },
  {
   "cell_type": "code",
   "execution_count": 51,
   "metadata": {},
   "outputs": [
    {
     "name": "stdout",
     "output_type": "stream",
     "text": [
      "Доля потерянных данных: 1.37%\n"
     ]
    }
   ],
   "source": [
    "print('Доля потерянных данных: {:.2%}'.format(1 - bank_data.shape[0] / raw_bank_data_shape))"
   ]
  },
  {
   "cell_type": "markdown",
   "metadata": {},
   "source": [
    "**Вывод**"
   ]
  },
  {
   "cell_type": "markdown",
   "metadata": {},
   "source": [
    "* Мы избавились от некорректных значений, дубликатов названий различных категорий в колонках и полных дубликатов строк в датафрейме.\n",
    "* Причиной появления дубликатов может быть повторное ручное создание набора данных об одном и том же клиенте сотрудником банка или скриптом.\n",
    "* Доля потерянных данных после предыдущих преобразований и избавления от дубликатов - 1.37%."
   ]
  },
  {
   "cell_type": "markdown",
   "metadata": {},
   "source": [
    "### Лемматизация"
   ]
  },
  {
   "cell_type": "markdown",
   "metadata": {},
   "source": [
    "Посмотрим на уникальные значения в колонке purpose"
   ]
  },
  {
   "cell_type": "code",
   "execution_count": 52,
   "metadata": {},
   "outputs": [
    {
     "data": {
      "text/plain": [
       "['покупка жилья',\n",
       " 'приобретение автомобиля',\n",
       " 'дополнительное образование',\n",
       " 'сыграть свадьбу',\n",
       " 'операции с жильем',\n",
       " 'образование',\n",
       " 'на проведение свадьбы',\n",
       " 'покупка жилья для семьи',\n",
       " 'покупка недвижимости',\n",
       " 'покупка коммерческой недвижимости',\n",
       " 'покупка жилой недвижимости',\n",
       " 'строительство собственной недвижимости',\n",
       " 'недвижимость',\n",
       " 'строительство недвижимости',\n",
       " 'на покупку подержанного автомобиля',\n",
       " 'на покупку своего автомобиля',\n",
       " 'операции с коммерческой недвижимостью',\n",
       " 'строительство жилой недвижимости',\n",
       " 'жилье',\n",
       " 'операции со своей недвижимостью',\n",
       " 'автомобили',\n",
       " 'заняться образованием',\n",
       " 'сделка с подержанным автомобилем',\n",
       " 'получение образования',\n",
       " 'автомобиль',\n",
       " 'свадьба',\n",
       " 'получение дополнительного образования',\n",
       " 'покупка своего жилья',\n",
       " 'операции с недвижимостью',\n",
       " 'получение высшего образования',\n",
       " 'свой автомобиль',\n",
       " 'сделка с автомобилем',\n",
       " 'профильное образование',\n",
       " 'высшее образование',\n",
       " 'покупка жилья для сдачи',\n",
       " 'на покупку автомобиля',\n",
       " 'ремонт жилью',\n",
       " 'заняться высшим образованием']"
      ]
     },
     "execution_count": 52,
     "metadata": {},
     "output_type": "execute_result"
    }
   ],
   "source": [
    "purpose_unique_values = list(bank_data['purpose'].unique())\n",
    "purpose_unique_values"
   ]
  },
  {
   "cell_type": "markdown",
   "metadata": {},
   "source": [
    "Значений достаточно можно, но мы видим что их легко можно уменьшить в несколько раз, выделив категории, например:<br>\n",
    "жилье, свадьба, образование и т.д.<br>\n",
    "Поскольку одни и те же слова в колонке имеют не словарную форму и отличаются друг от друга, применим лемматизацию к значениям в колонке  purpose.\n",
    "Используем для этого библиотеку pymystem3."
   ]
  },
  {
   "cell_type": "code",
   "execution_count": 53,
   "metadata": {},
   "outputs": [],
   "source": [
    "mystem = Mystem()"
   ]
  },
  {
   "cell_type": "code",
   "execution_count": 54,
   "metadata": {},
   "outputs": [],
   "source": [
    "lemmas = mystem.lemmatize(' '.join(bank_data['purpose']))"
   ]
  },
  {
   "cell_type": "markdown",
   "metadata": {},
   "source": [
    "Посмотрим, какие леммы встречаются чаще всего в колонке purpose"
   ]
  },
  {
   "cell_type": "code",
   "execution_count": 55,
   "metadata": {},
   "outputs": [
    {
     "data": {
      "text/plain": [
       "[(' ', 54473),\n",
       " ('недвижимость', 6290),\n",
       " ('покупка', 5838),\n",
       " ('жилье', 4413),\n",
       " ('автомобиль', 4258),\n",
       " ('образование', 3970),\n",
       " ('с', 2886),\n",
       " ('операция', 2576),\n",
       " ('свадьба', 2299),\n",
       " ('свой', 2212),\n",
       " ('на', 2196),\n",
       " ('строительство', 1862),\n",
       " ('высокий', 1359),\n",
       " ('получение', 1304),\n",
       " ('коммерческий', 1298),\n",
       " ('для', 1283),\n",
       " ('жилой', 1216),\n",
       " ('сделка', 933),\n",
       " ('заниматься', 900),\n",
       " ('дополнительный', 895),\n",
       " ('подержать', 838),\n",
       " ('проведение', 759),\n",
       " ('сыграть', 755),\n",
       " ('сдача', 647),\n",
       " ('семья', 636),\n",
       " ('собственный', 626),\n",
       " ('со', 623),\n",
       " ('ремонт', 602),\n",
       " ('приобретение', 457),\n",
       " ('профильный', 431),\n",
       " ('подержанный', 112),\n",
       " ('\\n', 1)]"
      ]
     },
     "execution_count": 55,
     "metadata": {},
     "output_type": "execute_result"
    }
   ],
   "source": [
    "Counter(lemmas).most_common()"
   ]
  },
  {
   "cell_type": "markdown",
   "metadata": {},
   "source": [
    "Слова \"недвижимость\" и \"жилье\" отнесём к одной категории \"недвижимость\". Создадим множество с самыми популярными словами"
   ]
  },
  {
   "cell_type": "code",
   "execution_count": 56,
   "metadata": {},
   "outputs": [],
   "source": [
    "purpose_categories = {'недвижимость', 'автомобиль', 'образование', 'жилье', 'свадьба'}"
   ]
  },
  {
   "cell_type": "markdown",
   "metadata": {},
   "source": [
    "Теперь напишем функцию для замены уникальных значений в колонке purpose на соответствующие леммы"
   ]
  },
  {
   "cell_type": "code",
   "execution_count": 57,
   "metadata": {},
   "outputs": [],
   "source": [
    "def replace_purpose_value(df):\n",
    "    \"\"\"Присваивает строке категорию цели\"\"\"\n",
    "    lemma = set(mystem.lemmatize(df['purpose']))\n",
    "\n",
    "    intersection = list(purpose_categories & lemma)\n",
    "    if not intersection:\n",
    "        return 'категория не определена'\n",
    "    return intersection[0]"
   ]
  },
  {
   "cell_type": "code",
   "execution_count": null,
   "metadata": {},
   "outputs": [],
   "source": [
    "bank_data['purpose'] = bank_data.apply(replace_purpose_value, axis = 1)"
   ]
  },
  {
   "cell_type": "markdown",
   "metadata": {},
   "source": [
    "Посмотрим на результат замены"
   ]
  },
  {
   "cell_type": "code",
   "execution_count": null,
   "metadata": {},
   "outputs": [],
   "source": [
    "bank_data['purpose'].value_counts()"
   ]
  },
  {
   "cell_type": "markdown",
   "metadata": {},
   "source": [
    "**Вывод**"
   ]
  },
  {
   "cell_type": "markdown",
   "metadata": {},
   "source": [
    "Мы применили лемматизацию к значениям в колонке purpose и получили 4 различных цели получения кредита. Для лемматизации использовали библиотеку pymystem3."
   ]
  },
  {
   "cell_type": "markdown",
   "metadata": {},
   "source": [
    "Посмотрим на группировку наших данных по колонкам family_status и children"
   ]
  },
  {
   "cell_type": "markdown",
   "metadata": {},
   "source": [
    "### Категоризация данных"
   ]
  },
  {
   "cell_type": "markdown",
   "metadata": {},
   "source": [
    "Посмотрим на значения дохода в колонке total_income"
   ]
  },
  {
   "cell_type": "code",
   "execution_count": null,
   "metadata": {},
   "outputs": [],
   "source": [
    "bank_data.describe()"
   ]
  },
  {
   "cell_type": "markdown",
   "metadata": {},
   "source": [
    "Разделим доход на 3 категории:\n",
    "* низкий доход между 0 и 25%\n",
    "* средний доход выше 25% и ниже 75%\n",
    "* высокий доход выше 75%\n",
    "\n",
    "Для этого воспользуемся функцией qcut"
   ]
  },
  {
   "cell_type": "code",
   "execution_count": null,
   "metadata": {},
   "outputs": [],
   "source": [
    "categorized_bank_data = bank_data.copy()\n",
    "categorized_bank_data['income_group'] = pd.qcut(x=bank_data['total_income'], q=[0, .25, .75, 1], labels=['низкий доход', 'средний доход', 'высокий доход'])"
   ]
  },
  {
   "cell_type": "markdown",
   "metadata": {},
   "source": [
    "Посмотрим на результат"
   ]
  },
  {
   "cell_type": "code",
   "execution_count": null,
   "metadata": {},
   "outputs": [],
   "source": [
    "categorized_bank_data['income_group'].value_counts()"
   ]
  },
  {
   "cell_type": "markdown",
   "metadata": {},
   "source": [
    "Построим сводную таблицу по колонкам family_status и children"
   ]
  },
  {
   "cell_type": "code",
   "execution_count": null,
   "metadata": {},
   "outputs": [],
   "source": [
    "family_children_pivot = categorized_bank_data.pivot_table(index=['family_status', 'children'], values =['debt'], aggfunc=['sum'])\n",
    "family_children_pivot.columns = ['Кол-во должников']\n",
    "family_children_pivot"
   ]
  },
  {
   "cell_type": "markdown",
   "metadata": {},
   "source": [
    "Разделим данные в колонках на несколько категорий:\n",
    "* Наличие детей (колонка children):\n",
    " - Есть дети\n",
    " - Нет детей\n",
    "* Семейное положение (колонка family_status):\n",
    " - Есть партнер\n",
    " - Нет партнера\n",
    " \n",
    " Это позволит использовать меньшее число категорий и легче сравнивать показатели задолженности по кредиту для различных категорий"
   ]
  },
  {
   "cell_type": "markdown",
   "metadata": {},
   "source": [
    "Напишем функцию для категоризации данных в колонке children"
   ]
  },
  {
   "cell_type": "code",
   "execution_count": null,
   "metadata": {},
   "outputs": [],
   "source": [
    "def categorize_children_column(value):\n",
    "    if value == 0:\n",
    "        return 'нет детей'\n",
    "    return 'есть дети'"
   ]
  },
  {
   "cell_type": "code",
   "execution_count": null,
   "metadata": {},
   "outputs": [],
   "source": [
    "categorized_bank_data['children_status'] = categorized_bank_data['children'].apply(categorize_children_column)"
   ]
  },
  {
   "cell_type": "markdown",
   "metadata": {},
   "source": [
    "Напишем функцию для категоризации данных в колонке family_status"
   ]
  },
  {
   "cell_type": "code",
   "execution_count": null,
   "metadata": {},
   "outputs": [],
   "source": [
    "def categorize_family_status_column(value):\n",
    "    if value == 'Не женат / не замужем':\n",
    "        return 'нет партнера'\n",
    "    if value == 'в разводе':\n",
    "        return 'нет партнера'\n",
    "    if value == 'вдовец / вдова':\n",
    "        return 'нет партнера'\n",
    "    return 'есть партнер'"
   ]
  },
  {
   "cell_type": "code",
   "execution_count": null,
   "metadata": {},
   "outputs": [],
   "source": [
    "categorized_bank_data['partner_status'] = categorized_bank_data['family_status'].apply(categorize_family_status_column)"
   ]
  },
  {
   "cell_type": "markdown",
   "metadata": {},
   "source": [
    "Сформируем сводную таблицу и добавим в неё колонку с соотношением числа проблем с возвратом кредита  к общему числу записей в категории"
   ]
  },
  {
   "cell_type": "code",
   "execution_count": null,
   "metadata": {},
   "outputs": [],
   "source": [
    "categorized_bank_data_pivot = categorized_bank_data.pivot_table(index=['partner_status', 'children_status', 'income_group'], values =['debt'], aggfunc=['count', 'sum', 'mean', lambda x: 1 - x.mean()])\n",
    "categorized_bank_data_pivot.columns = ['Кол-во пользователей', 'Кол-во должников', '% должников', '% НЕдолжников']"
   ]
  },
  {
   "cell_type": "markdown",
   "metadata": {},
   "source": [
    "Посмотрим на результаты категоризации, отобразив сводную таблицу"
   ]
  },
  {
   "cell_type": "code",
   "execution_count": null,
   "metadata": {},
   "outputs": [],
   "source": [
    "categorized_bank_data_pivot.style.format({'% должников': '{:.2%}', '% НЕдолжников': '{:.2%}'})"
   ]
  },
  {
   "cell_type": "markdown",
   "metadata": {},
   "source": [
    "**Вывод**"
   ]
  },
  {
   "cell_type": "markdown",
   "metadata": {},
   "source": [
    "Мы разделили записи в колонках children_status, family_status, total_income на несколько категорий для более удобного просмотра статистики по данным  и сформировали сводную таблицу. "
   ]
  },
  {
   "cell_type": "markdown",
   "metadata": {},
   "source": [
    "## Ответ на вопросы"
   ]
  },
  {
   "cell_type": "markdown",
   "metadata": {},
   "source": [
    "- Есть ли зависимость между наличием детей и возвратом кредита в срок?"
   ]
  },
  {
   "cell_type": "markdown",
   "metadata": {},
   "source": [
    "Для ответа на этот вопрос посмотрим на сводную таблицу"
   ]
  },
  {
   "cell_type": "code",
   "execution_count": null,
   "metadata": {},
   "outputs": [],
   "source": [
    "children_question_pivot = categorized_bank_data.pivot_table(index=['children_status'], values =['debt'], aggfunc=['count', 'sum', 'mean', lambda x: 1 - x.mean()])\n",
    "children_question_pivot.columns = ['Кол-во пользователей', 'Кол-во должников', '% должников', '% НЕдолжников']\n",
    "children_question_pivot.style.format({'% должников': '{:.2%}', '% НЕдолжников': '{:.2%}'})"
   ]
  },
  {
   "cell_type": "markdown",
   "metadata": {},
   "source": [
    "**Вывод**"
   ]
  },
  {
   "cell_type": "markdown",
   "metadata": {},
   "source": [
    "Разница в доле наличия трудностей с возвратом кредита у клиентов с наличием и отсутствием детей составляет 2.3%. Чаще возвращают кредит в срок клиенты, у которых нет детей."
   ]
  },
  {
   "cell_type": "markdown",
   "metadata": {},
   "source": [
    "- Есть ли зависимость между семейным положением и возвратом кредита в срок?"
   ]
  },
  {
   "cell_type": "markdown",
   "metadata": {},
   "source": [
    "Для ответа на этот вопрос посмотрим на сводную таблицу"
   ]
  },
  {
   "cell_type": "code",
   "execution_count": null,
   "metadata": {},
   "outputs": [],
   "source": [
    "family_question_pivot = categorized_bank_data.pivot_table(index=['partner_status'], values =['debt'], aggfunc=['count', 'sum', 'mean', lambda x: 1 - x.mean()])\n",
    "family_question_pivot.columns = ['Кол-во пользователей', 'Кол-во должников', '% должников', '% НЕдолжников']\n",
    "family_question_pivot.style.format({'% должников': '{:.2%}', '% НЕдолжников': '{:.2%}'})"
   ]
  },
  {
   "cell_type": "markdown",
   "metadata": {},
   "source": [
    "**Вывод**"
   ]
  },
  {
   "cell_type": "markdown",
   "metadata": {},
   "source": [
    "Разница в доле наличия трудностей с возвратом кредита у клиентов с наличием и отсутствием партнера составляет 0.5%. Чаще возвращают кредит в срок клиенты, у которых есть партнер."
   ]
  },
  {
   "cell_type": "markdown",
   "metadata": {},
   "source": [
    "- Есть ли зависимость между уровнем дохода и возвратом кредита в срок?"
   ]
  },
  {
   "cell_type": "markdown",
   "metadata": {},
   "source": [
    "Для ответа на этот вопрос посмотрим на сводную таблицу"
   ]
  },
  {
   "cell_type": "code",
   "execution_count": null,
   "metadata": {},
   "outputs": [],
   "source": [
    "income_question_pivot = categorized_bank_data.pivot_table(index=['income_group'], values =['debt'], aggfunc=['count', 'sum', 'mean', lambda x: 1 - x.mean()])\n",
    "income_question_pivot.columns = ['Кол-во пользователей', 'Кол-во должников', '% должников', '% НЕдолжников']\n",
    "income_question_pivot.style.format({'% должников': '{:.2%}', '% НЕдолжников': '{:.2%}'})"
   ]
  },
  {
   "cell_type": "markdown",
   "metadata": {},
   "source": [
    "**Вывод**"
   ]
  },
  {
   "cell_type": "markdown",
   "metadata": {},
   "source": [
    "Максимальная разница в доле наличия трудностей с возвратом кредита у клиентов с различным доходом составляет 1.7%. Чаще всего возвращают кредит в срок клиенты с высоким доходом. Реже всего - со средним."
   ]
  },
  {
   "cell_type": "markdown",
   "metadata": {},
   "source": [
    "- Как разные цели кредита влияют на его возврат в срок?"
   ]
  },
  {
   "cell_type": "markdown",
   "metadata": {},
   "source": [
    "Для ответа на этот вопрос посмотрим на сводную таблицу"
   ]
  },
  {
   "cell_type": "code",
   "execution_count": null,
   "metadata": {},
   "outputs": [],
   "source": [
    "purpose_question_pivot = categorized_bank_data.pivot_table(index=['purpose'], values =['debt'], aggfunc=['count', 'sum', 'mean', lambda x: 1 - x.mean()])\n",
    "purpose_question_pivot.columns = ['Кол-во пользователей', 'Кол-во должников', '% должников', '% НЕдолжников']\n",
    "purpose_question_pivot.style.format({'% должников': '{:.2%}', '% НЕдолжников': '{:.2%}'})"
   ]
  },
  {
   "cell_type": "markdown",
   "metadata": {},
   "source": [
    "**Вывод**"
   ]
  },
  {
   "cell_type": "markdown",
   "metadata": {},
   "source": [
    "Максимальная разница в доле наличия трудностей с возвратом кредита у клиентов с различным доходом составляет 2.1%. Чаще возвращают в срок кредит, который был взят для покупки недвижимости. Реже всего - на покупку автомобиля."
   ]
  },
  {
   "cell_type": "markdown",
   "metadata": {},
   "source": [
    "## Общий вывод"
   ]
  },
  {
   "cell_type": "markdown",
   "metadata": {},
   "source": [
    "\n",
    "* Мы провели обработку полученных данных, избавились от пропусков, дубликатов, некорректных значений. \n",
    "* Выдвинули предположение о причине появления таких значений, произвели категоризацию данных и сформировали сводную таблицу. \n",
    "* Необходимо обсудить с разработчиками формат данных каждой из колонок и исправить проблемы с пропусками и некорректными значениями в различных колонках.\n",
    "* При просмотре результатов стоит учитывать, что число клиентов в некоторых группах может на несколько порядков отличаться от числа клиентов в другой группе, что может сильно влиять в ту или иную сторону при вычислении доли клиентов определенной группы, у которых были проблем с возвратом кредита в срок.\n",
    "* Выяснили, какие категории клиентов чаще возвращают кредит в срок и кредит на какую цель чаще возвращают в срок:\n",
    "    * Кредит на недвижимость возвращают в срок чаще\n",
    "    * Клиенты, у которых есть партнер возвращают кредит в срок чаще\n",
    "    * Клиенты, у которых трое детей возвращают кредит в срок чаще\n",
    "    * При оценке по трем параметрам, чаще возвращают в срок кредит клиенты, у которых есть партнер, нет детей и высокий доход\n",
    "    * При оценке по трем параметрам, реже возвращают в срок кредит клиенты, у которых нет партнера, есть дети и средний доход."
   ]
  },
  {
   "cell_type": "code",
   "execution_count": null,
   "metadata": {},
   "outputs": [],
   "source": []
  }
 ],
 "metadata": {
  "ExecuteTimeLog": [
   {
    "duration": 122,
    "start_time": "2021-09-05T19:59:17.573Z"
   },
   {
    "duration": 889,
    "start_time": "2021-09-05T19:59:17.915Z"
   },
   {
    "duration": 173,
    "start_time": "2021-09-05T19:59:18.806Z"
   },
   {
    "duration": 3,
    "start_time": "2021-09-05T19:59:28.570Z"
   },
   {
    "duration": 3336,
    "start_time": "2021-09-05T19:59:29.176Z"
   },
   {
    "duration": 2968,
    "start_time": "2021-09-05T20:01:31.438Z"
   },
   {
    "duration": 3007,
    "start_time": "2021-09-05T20:01:42.639Z"
   },
   {
    "duration": 67,
    "start_time": "2021-09-05T20:03:03.598Z"
   },
   {
    "duration": 381,
    "start_time": "2021-09-05T20:03:44.239Z"
   },
   {
    "duration": 29,
    "start_time": "2021-09-05T20:03:48.289Z"
   },
   {
    "duration": 16,
    "start_time": "2021-09-05T20:04:33.745Z"
   },
   {
    "duration": 162,
    "start_time": "2021-09-05T20:08:19.569Z"
   },
   {
    "duration": 142,
    "start_time": "2021-09-05T20:08:44.469Z"
   },
   {
    "duration": 6,
    "start_time": "2021-09-05T20:08:44.736Z"
   },
   {
    "duration": 126,
    "start_time": "2021-09-05T20:08:50.877Z"
   },
   {
    "duration": 132,
    "start_time": "2021-09-05T20:17:39.842Z"
   },
   {
    "duration": 394,
    "start_time": "2021-09-05T20:18:27.671Z"
   },
   {
    "duration": 13,
    "start_time": "2021-09-05T20:18:43.109Z"
   },
   {
    "duration": 394,
    "start_time": "2021-09-05T20:22:23.541Z"
   },
   {
    "duration": 20,
    "start_time": "2021-09-05T20:22:27.299Z"
   },
   {
    "duration": 677,
    "start_time": "2021-09-05T20:22:53.703Z"
   },
   {
    "duration": 7,
    "start_time": "2021-09-05T20:23:07.793Z"
   },
   {
    "duration": 122,
    "start_time": "2021-09-05T20:23:45.392Z"
   },
   {
    "duration": 397,
    "start_time": "2021-09-06T13:16:40.775Z"
   },
   {
    "duration": 138,
    "start_time": "2021-09-06T13:16:43.015Z"
   },
   {
    "duration": 918,
    "start_time": "2021-09-06T13:16:43.318Z"
   },
   {
    "duration": 104,
    "start_time": "2021-09-06T13:16:47.618Z"
   },
   {
    "duration": 257,
    "start_time": "2021-09-06T13:16:47.941Z"
   },
   {
    "duration": 82,
    "start_time": "2021-09-06T13:16:52.641Z"
   },
   {
    "duration": 274,
    "start_time": "2021-09-06T13:16:52.934Z"
   },
   {
    "duration": 97,
    "start_time": "2021-09-06T13:17:01.384Z"
   },
   {
    "duration": 5,
    "start_time": "2021-09-06T13:17:22.944Z"
   },
   {
    "duration": 763,
    "start_time": "2021-09-06T14:09:19.729Z"
   },
   {
    "duration": 63,
    "start_time": "2021-09-06T14:09:20.494Z"
   },
   {
    "duration": 28,
    "start_time": "2021-09-06T14:09:20.560Z"
   },
   {
    "duration": 8,
    "start_time": "2021-09-06T14:09:20.591Z"
   },
   {
    "duration": 20,
    "start_time": "2021-09-06T14:09:20.601Z"
   },
   {
    "duration": 40,
    "start_time": "2021-09-06T14:09:20.623Z"
   },
   {
    "duration": 19,
    "start_time": "2021-09-06T14:09:20.665Z"
   },
   {
    "duration": 8,
    "start_time": "2021-09-06T14:09:20.687Z"
   },
   {
    "duration": 12,
    "start_time": "2021-09-06T14:09:20.697Z"
   },
   {
    "duration": 14,
    "start_time": "2021-09-06T14:09:20.712Z"
   },
   {
    "duration": 5,
    "start_time": "2021-09-06T14:10:14.856Z"
   },
   {
    "duration": 11,
    "start_time": "2021-09-06T14:10:15.137Z"
   },
   {
    "duration": 5,
    "start_time": "2021-09-06T14:10:51.721Z"
   },
   {
    "duration": 11,
    "start_time": "2021-09-06T14:10:52.385Z"
   },
   {
    "duration": 831,
    "start_time": "2021-09-06T17:05:21.017Z"
   },
   {
    "duration": 642,
    "start_time": "2021-09-06T17:05:25.349Z"
   },
   {
    "duration": 52,
    "start_time": "2021-09-06T17:05:25.992Z"
   },
   {
    "duration": 18,
    "start_time": "2021-09-06T17:05:26.046Z"
   },
   {
    "duration": 7,
    "start_time": "2021-09-06T17:05:26.066Z"
   },
   {
    "duration": 15,
    "start_time": "2021-09-06T17:05:26.074Z"
   },
   {
    "duration": 7,
    "start_time": "2021-09-06T17:05:26.091Z"
   },
   {
    "duration": 13,
    "start_time": "2021-09-06T17:05:26.100Z"
   },
   {
    "duration": 6,
    "start_time": "2021-09-06T17:05:26.115Z"
   },
   {
    "duration": 4,
    "start_time": "2021-09-06T17:05:26.124Z"
   },
   {
    "duration": 9,
    "start_time": "2021-09-06T17:05:26.130Z"
   },
   {
    "duration": 40,
    "start_time": "2021-09-06T17:05:26.140Z"
   },
   {
    "duration": 128,
    "start_time": "2021-09-06T17:06:24.145Z"
   },
   {
    "duration": 365,
    "start_time": "2021-09-06T17:06:30.266Z"
   },
   {
    "duration": 6,
    "start_time": "2021-09-06T17:06:49.550Z"
   },
   {
    "duration": 4,
    "start_time": "2021-09-06T17:07:00.767Z"
   },
   {
    "duration": 128,
    "start_time": "2021-09-06T17:20:50.547Z"
   },
   {
    "duration": 4,
    "start_time": "2021-09-06T17:21:56.309Z"
   },
   {
    "duration": 7,
    "start_time": "2021-09-06T17:21:56.854Z"
   },
   {
    "duration": 4,
    "start_time": "2021-09-06T17:22:07.788Z"
   },
   {
    "duration": 7,
    "start_time": "2021-09-06T17:22:08.470Z"
   },
   {
    "duration": 4,
    "start_time": "2021-09-06T17:22:19.326Z"
   },
   {
    "duration": 8,
    "start_time": "2021-09-06T17:22:19.585Z"
   },
   {
    "duration": 4,
    "start_time": "2021-09-06T17:22:32.741Z"
   },
   {
    "duration": 8,
    "start_time": "2021-09-06T17:22:32.988Z"
   },
   {
    "duration": 7,
    "start_time": "2021-09-06T17:22:34.854Z"
   },
   {
    "duration": 8650,
    "start_time": "2021-09-06T17:23:10.858Z"
   },
   {
    "duration": 7,
    "start_time": "2021-09-06T17:23:35.176Z"
   },
   {
    "duration": 125,
    "start_time": "2021-09-06T17:24:01.388Z"
   },
   {
    "duration": 162,
    "start_time": "2021-09-06T17:24:39.955Z"
   },
   {
    "duration": 12,
    "start_time": "2021-09-06T17:24:49.620Z"
   },
   {
    "duration": 9,
    "start_time": "2021-09-06T17:25:10.145Z"
   },
   {
    "duration": 8,
    "start_time": "2021-09-06T17:25:22.922Z"
   },
   {
    "duration": 2,
    "start_time": "2021-09-06T17:25:40.943Z"
   },
   {
    "duration": 70,
    "start_time": "2021-09-06T17:25:40.947Z"
   },
   {
    "duration": 17,
    "start_time": "2021-09-06T17:25:41.019Z"
   },
   {
    "duration": 13,
    "start_time": "2021-09-06T17:25:41.039Z"
   },
   {
    "duration": 11,
    "start_time": "2021-09-06T17:25:41.054Z"
   },
   {
    "duration": 12,
    "start_time": "2021-09-06T17:25:41.076Z"
   },
   {
    "duration": 8,
    "start_time": "2021-09-06T17:25:41.090Z"
   },
   {
    "duration": 11,
    "start_time": "2021-09-06T17:25:41.101Z"
   },
   {
    "duration": 9,
    "start_time": "2021-09-06T17:25:41.114Z"
   },
   {
    "duration": 9,
    "start_time": "2021-09-06T17:25:41.125Z"
   },
   {
    "duration": 41,
    "start_time": "2021-09-06T17:25:41.136Z"
   },
   {
    "duration": 9,
    "start_time": "2021-09-06T17:25:41.179Z"
   },
   {
    "duration": 16,
    "start_time": "2021-09-06T17:25:41.189Z"
   },
   {
    "duration": 10,
    "start_time": "2021-09-06T17:25:41.206Z"
   },
   {
    "duration": 7,
    "start_time": "2021-09-06T17:25:52.454Z"
   },
   {
    "duration": 3,
    "start_time": "2021-09-06T17:25:58.315Z"
   },
   {
    "duration": 51,
    "start_time": "2021-09-06T17:25:58.320Z"
   },
   {
    "duration": 12,
    "start_time": "2021-09-06T17:25:58.374Z"
   },
   {
    "duration": 7,
    "start_time": "2021-09-06T17:25:58.388Z"
   },
   {
    "duration": 6,
    "start_time": "2021-09-06T17:25:58.397Z"
   },
   {
    "duration": 12,
    "start_time": "2021-09-06T17:25:58.405Z"
   },
   {
    "duration": 8,
    "start_time": "2021-09-06T17:25:58.419Z"
   },
   {
    "duration": 11,
    "start_time": "2021-09-06T17:25:58.429Z"
   },
   {
    "duration": 35,
    "start_time": "2021-09-06T17:25:58.442Z"
   },
   {
    "duration": 5,
    "start_time": "2021-09-06T17:25:58.479Z"
   },
   {
    "duration": 10,
    "start_time": "2021-09-06T17:25:58.486Z"
   },
   {
    "duration": 7,
    "start_time": "2021-09-06T17:25:58.498Z"
   },
   {
    "duration": 7,
    "start_time": "2021-09-06T17:25:58.507Z"
   },
   {
    "duration": 9,
    "start_time": "2021-09-06T17:25:58.516Z"
   },
   {
    "duration": 3,
    "start_time": "2021-09-06T17:26:26.372Z"
   },
   {
    "duration": 56,
    "start_time": "2021-09-06T17:26:26.377Z"
   },
   {
    "duration": 11,
    "start_time": "2021-09-06T17:26:26.435Z"
   },
   {
    "duration": 6,
    "start_time": "2021-09-06T17:26:26.449Z"
   },
   {
    "duration": 20,
    "start_time": "2021-09-06T17:26:26.456Z"
   },
   {
    "duration": 9,
    "start_time": "2021-09-06T17:26:26.479Z"
   },
   {
    "duration": 26,
    "start_time": "2021-09-06T17:26:26.491Z"
   },
   {
    "duration": 6,
    "start_time": "2021-09-06T17:26:26.519Z"
   },
   {
    "duration": 6,
    "start_time": "2021-09-06T17:26:26.527Z"
   },
   {
    "duration": 21,
    "start_time": "2021-09-06T17:26:26.534Z"
   },
   {
    "duration": 21,
    "start_time": "2021-09-06T17:26:26.557Z"
   },
   {
    "duration": 6,
    "start_time": "2021-09-06T17:26:26.581Z"
   },
   {
    "duration": 8,
    "start_time": "2021-09-06T17:26:26.589Z"
   },
   {
    "duration": 120,
    "start_time": "2021-09-06T17:40:12.746Z"
   },
   {
    "duration": 13,
    "start_time": "2021-09-06T17:40:39.462Z"
   },
   {
    "duration": 625,
    "start_time": "2021-09-06T17:42:15.117Z"
   },
   {
    "duration": 372,
    "start_time": "2021-09-06T17:42:19.075Z"
   },
   {
    "duration": 6,
    "start_time": "2021-09-06T17:42:23.308Z"
   },
   {
    "duration": 11,
    "start_time": "2021-09-06T17:42:31.116Z"
   },
   {
    "duration": 5,
    "start_time": "2021-09-06T17:42:57.453Z"
   },
   {
    "duration": 6,
    "start_time": "2021-09-06T17:43:04.589Z"
   },
   {
    "duration": 7,
    "start_time": "2021-09-06T17:43:14.109Z"
   },
   {
    "duration": 5,
    "start_time": "2021-09-06T17:43:14.581Z"
   },
   {
    "duration": 6,
    "start_time": "2021-09-06T17:43:26.192Z"
   },
   {
    "duration": 6,
    "start_time": "2021-09-06T17:43:26.510Z"
   },
   {
    "duration": 8,
    "start_time": "2021-09-06T18:04:39.782Z"
   },
   {
    "duration": 10,
    "start_time": "2021-09-06T18:04:50.156Z"
   },
   {
    "duration": 11,
    "start_time": "2021-09-06T18:10:05.043Z"
   },
   {
    "duration": 13,
    "start_time": "2021-09-06T18:27:33.831Z"
   },
   {
    "duration": 12,
    "start_time": "2021-09-06T18:27:42.532Z"
   },
   {
    "duration": 13,
    "start_time": "2021-09-06T18:27:57.329Z"
   },
   {
    "duration": 11,
    "start_time": "2021-09-06T19:11:42.720Z"
   },
   {
    "duration": 14,
    "start_time": "2021-09-06T19:12:06.752Z"
   },
   {
    "duration": 123,
    "start_time": "2021-09-06T19:46:09.116Z"
   },
   {
    "duration": 3,
    "start_time": "2021-09-06T19:46:17.416Z"
   },
   {
    "duration": 2,
    "start_time": "2021-09-06T19:46:20.529Z"
   },
   {
    "duration": 4,
    "start_time": "2021-09-06T19:47:12.256Z"
   },
   {
    "duration": 5427,
    "start_time": "2021-09-06T19:47:12.869Z"
   },
   {
    "duration": 3,
    "start_time": "2021-09-06T19:49:58.053Z"
   },
   {
    "duration": 1457,
    "start_time": "2021-09-06T19:50:02.213Z"
   },
   {
    "duration": 2050,
    "start_time": "2021-09-06T19:50:29.792Z"
   },
   {
    "duration": 3,
    "start_time": "2021-09-06T19:50:35.224Z"
   },
   {
    "duration": 1715,
    "start_time": "2021-09-06T19:50:35.613Z"
   },
   {
    "duration": 4619,
    "start_time": "2021-09-06T19:53:46.815Z"
   },
   {
    "duration": 2,
    "start_time": "2021-09-06T19:54:05.898Z"
   },
   {
    "duration": 54,
    "start_time": "2021-09-06T19:54:05.902Z"
   },
   {
    "duration": 13,
    "start_time": "2021-09-06T19:54:05.958Z"
   },
   {
    "duration": 8,
    "start_time": "2021-09-06T19:54:05.973Z"
   },
   {
    "duration": 13,
    "start_time": "2021-09-06T19:54:05.982Z"
   },
   {
    "duration": 9,
    "start_time": "2021-09-06T19:54:05.997Z"
   },
   {
    "duration": 17,
    "start_time": "2021-09-06T19:54:06.008Z"
   },
   {
    "duration": 6,
    "start_time": "2021-09-06T19:54:06.027Z"
   },
   {
    "duration": 4,
    "start_time": "2021-09-06T19:54:06.036Z"
   },
   {
    "duration": 41,
    "start_time": "2021-09-06T19:54:06.043Z"
   },
   {
    "duration": 10,
    "start_time": "2021-09-06T19:54:06.085Z"
   },
   {
    "duration": 9,
    "start_time": "2021-09-06T19:54:06.097Z"
   },
   {
    "duration": 14,
    "start_time": "2021-09-06T19:54:06.108Z"
   },
   {
    "duration": 14,
    "start_time": "2021-09-06T19:54:06.124Z"
   },
   {
    "duration": 13,
    "start_time": "2021-09-06T19:54:06.140Z"
   },
   {
    "duration": 31,
    "start_time": "2021-09-06T19:54:06.156Z"
   },
   {
    "duration": 3,
    "start_time": "2021-09-06T19:54:06.189Z"
   },
   {
    "duration": 22,
    "start_time": "2021-09-06T19:54:06.194Z"
   },
   {
    "duration": 3,
    "start_time": "2021-09-06T19:57:27.416Z"
   },
   {
    "duration": 23,
    "start_time": "2021-09-06T19:57:32.399Z"
   },
   {
    "duration": 3,
    "start_time": "2021-09-06T19:57:34.243Z"
   },
   {
    "duration": 223,
    "start_time": "2021-09-07T10:22:22.082Z"
   },
   {
    "duration": 301,
    "start_time": "2021-09-07T10:22:48.991Z"
   },
   {
    "duration": 568,
    "start_time": "2021-09-07T10:22:54.962Z"
   },
   {
    "duration": 53,
    "start_time": "2021-09-07T10:22:55.532Z"
   },
   {
    "duration": 20,
    "start_time": "2021-09-07T10:22:55.587Z"
   },
   {
    "duration": 13,
    "start_time": "2021-09-07T10:22:55.609Z"
   },
   {
    "duration": 28,
    "start_time": "2021-09-07T10:22:55.624Z"
   },
   {
    "duration": 17,
    "start_time": "2021-09-07T10:22:55.653Z"
   },
   {
    "duration": 31,
    "start_time": "2021-09-07T10:22:55.672Z"
   },
   {
    "duration": 24,
    "start_time": "2021-09-07T10:22:55.706Z"
   },
   {
    "duration": 10,
    "start_time": "2021-09-07T10:22:55.732Z"
   },
   {
    "duration": 33,
    "start_time": "2021-09-07T10:22:55.744Z"
   },
   {
    "duration": 26,
    "start_time": "2021-09-07T10:22:55.779Z"
   },
   {
    "duration": 31,
    "start_time": "2021-09-07T10:22:55.807Z"
   },
   {
    "duration": 26,
    "start_time": "2021-09-07T10:22:55.840Z"
   },
   {
    "duration": 40,
    "start_time": "2021-09-07T10:22:55.868Z"
   },
   {
    "duration": 22,
    "start_time": "2021-09-07T10:22:55.910Z"
   },
   {
    "duration": 36,
    "start_time": "2021-09-07T10:22:55.934Z"
   },
   {
    "duration": 12,
    "start_time": "2021-09-07T10:22:55.972Z"
   },
   {
    "duration": 51,
    "start_time": "2021-09-07T10:22:55.985Z"
   },
   {
    "duration": 7,
    "start_time": "2021-09-07T10:22:56.037Z"
   },
   {
    "duration": 7,
    "start_time": "2021-09-07T10:23:07.135Z"
   },
   {
    "duration": 4,
    "start_time": "2021-09-07T12:28:46.758Z"
   },
   {
    "duration": 3694,
    "start_time": "2021-09-07T12:31:08.146Z"
   },
   {
    "duration": 3,
    "start_time": "2021-09-07T12:34:24.583Z"
   },
   {
    "duration": 2,
    "start_time": "2021-09-07T13:02:56.135Z"
   },
   {
    "duration": 24,
    "start_time": "2021-09-07T13:04:11.577Z"
   },
   {
    "duration": 5,
    "start_time": "2021-09-07T13:19:14.115Z"
   },
   {
    "duration": 8,
    "start_time": "2021-09-07T13:19:26.725Z"
   },
   {
    "duration": 4,
    "start_time": "2021-09-07T13:31:47.489Z"
   },
   {
    "duration": 3,
    "start_time": "2021-09-07T13:31:57.195Z"
   },
   {
    "duration": 20,
    "start_time": "2021-09-07T13:31:58.192Z"
   },
   {
    "duration": 6,
    "start_time": "2021-09-07T13:32:15.905Z"
   },
   {
    "duration": 3,
    "start_time": "2021-09-07T13:32:17.002Z"
   },
   {
    "duration": 19,
    "start_time": "2021-09-07T13:32:17.566Z"
   },
   {
    "duration": 5,
    "start_time": "2021-09-07T13:32:54.679Z"
   },
   {
    "duration": 3,
    "start_time": "2021-09-07T13:32:55.298Z"
   },
   {
    "duration": 21,
    "start_time": "2021-09-07T13:32:55.951Z"
   },
   {
    "duration": 14,
    "start_time": "2021-09-07T13:34:38.794Z"
   },
   {
    "duration": 11,
    "start_time": "2021-09-07T13:34:55.202Z"
   },
   {
    "duration": 3,
    "start_time": "2021-09-07T13:35:12.332Z"
   },
   {
    "duration": 21,
    "start_time": "2021-09-07T13:35:15.589Z"
   },
   {
    "duration": 3789,
    "start_time": "2021-09-07T13:35:36.767Z"
   },
   {
    "duration": 540,
    "start_time": "2021-09-07T13:36:13.330Z"
   },
   {
    "duration": 3625,
    "start_time": "2021-09-07T13:36:16.756Z"
   },
   {
    "duration": 6,
    "start_time": "2021-09-07T13:36:45.994Z"
   },
   {
    "duration": 3,
    "start_time": "2021-09-07T13:36:54.381Z"
   },
   {
    "duration": 61,
    "start_time": "2021-09-07T13:36:54.386Z"
   },
   {
    "duration": 13,
    "start_time": "2021-09-07T13:36:54.449Z"
   },
   {
    "duration": 19,
    "start_time": "2021-09-07T13:36:54.464Z"
   },
   {
    "duration": 21,
    "start_time": "2021-09-07T13:36:54.485Z"
   },
   {
    "duration": 30,
    "start_time": "2021-09-07T13:36:54.508Z"
   },
   {
    "duration": 21,
    "start_time": "2021-09-07T13:36:54.540Z"
   },
   {
    "duration": 45,
    "start_time": "2021-09-07T13:36:54.562Z"
   },
   {
    "duration": 17,
    "start_time": "2021-09-07T13:36:54.610Z"
   },
   {
    "duration": 31,
    "start_time": "2021-09-07T13:36:54.629Z"
   },
   {
    "duration": 28,
    "start_time": "2021-09-07T13:36:54.661Z"
   },
   {
    "duration": 14,
    "start_time": "2021-09-07T13:36:54.690Z"
   },
   {
    "duration": 16,
    "start_time": "2021-09-07T13:36:54.705Z"
   },
   {
    "duration": 21,
    "start_time": "2021-09-07T13:36:54.723Z"
   },
   {
    "duration": 12,
    "start_time": "2021-09-07T13:36:54.746Z"
   },
   {
    "duration": 23,
    "start_time": "2021-09-07T13:36:54.759Z"
   },
   {
    "duration": 11,
    "start_time": "2021-09-07T13:36:54.784Z"
   },
   {
    "duration": 12,
    "start_time": "2021-09-07T13:36:54.797Z"
   },
   {
    "duration": 548,
    "start_time": "2021-09-07T13:36:54.810Z"
   },
   {
    "duration": 19,
    "start_time": "2021-09-07T13:36:55.359Z"
   },
   {
    "duration": 9,
    "start_time": "2021-09-07T13:36:55.380Z"
   },
   {
    "duration": 19,
    "start_time": "2021-09-07T13:36:55.391Z"
   },
   {
    "duration": 18,
    "start_time": "2021-09-07T13:36:55.412Z"
   },
   {
    "duration": 14,
    "start_time": "2021-09-07T13:36:55.431Z"
   },
   {
    "duration": 1026,
    "start_time": "2021-09-07T13:37:15.256Z"
   },
   {
    "duration": -162,
    "start_time": "2021-09-07T13:37:16.447Z"
   },
   {
    "duration": 578,
    "start_time": "2021-09-07T13:37:25.611Z"
   },
   {
    "duration": 3,
    "start_time": "2021-09-07T13:37:39.542Z"
   },
   {
    "duration": 545,
    "start_time": "2021-09-07T13:37:41.887Z"
   },
   {
    "duration": 3,
    "start_time": "2021-09-07T13:38:56.714Z"
   },
   {
    "duration": 665,
    "start_time": "2021-09-07T13:38:57.153Z"
   },
   {
    "duration": 284,
    "start_time": "2021-09-07T13:39:20.505Z"
   },
   {
    "duration": 3,
    "start_time": "2021-09-07T13:39:22.021Z"
   },
   {
    "duration": 523,
    "start_time": "2021-09-07T13:39:22.289Z"
   },
   {
    "duration": 5,
    "start_time": "2021-09-07T13:40:08.633Z"
   },
   {
    "duration": 534,
    "start_time": "2021-09-07T13:40:08.981Z"
   },
   {
    "duration": 3,
    "start_time": "2021-09-07T13:40:17.133Z"
   },
   {
    "duration": 631,
    "start_time": "2021-09-07T13:40:17.649Z"
   },
   {
    "duration": 18,
    "start_time": "2021-09-07T13:40:39.830Z"
   },
   {
    "duration": 3,
    "start_time": "2021-09-07T13:40:48.588Z"
   },
   {
    "duration": 56,
    "start_time": "2021-09-07T13:40:48.592Z"
   },
   {
    "duration": 12,
    "start_time": "2021-09-07T13:40:48.650Z"
   },
   {
    "duration": 6,
    "start_time": "2021-09-07T13:40:48.664Z"
   },
   {
    "duration": 14,
    "start_time": "2021-09-07T13:40:48.672Z"
   },
   {
    "duration": 9,
    "start_time": "2021-09-07T13:40:48.688Z"
   },
   {
    "duration": 40,
    "start_time": "2021-09-07T13:40:48.702Z"
   },
   {
    "duration": 5,
    "start_time": "2021-09-07T13:40:48.745Z"
   },
   {
    "duration": 4,
    "start_time": "2021-09-07T13:40:48.752Z"
   },
   {
    "duration": 9,
    "start_time": "2021-09-07T13:40:48.758Z"
   },
   {
    "duration": 8,
    "start_time": "2021-09-07T13:40:48.769Z"
   },
   {
    "duration": 5,
    "start_time": "2021-09-07T13:40:48.778Z"
   },
   {
    "duration": 7,
    "start_time": "2021-09-07T13:40:48.784Z"
   },
   {
    "duration": 14,
    "start_time": "2021-09-07T13:40:48.793Z"
   },
   {
    "duration": 36,
    "start_time": "2021-09-07T13:40:48.809Z"
   },
   {
    "duration": 15,
    "start_time": "2021-09-07T13:40:48.847Z"
   },
   {
    "duration": 23,
    "start_time": "2021-09-07T13:40:48.863Z"
   },
   {
    "duration": 8,
    "start_time": "2021-09-07T13:40:48.888Z"
   },
   {
    "duration": 3,
    "start_time": "2021-09-07T13:40:48.900Z"
   },
   {
    "duration": 560,
    "start_time": "2021-09-07T13:40:48.905Z"
   },
   {
    "duration": 6,
    "start_time": "2021-09-07T13:40:49.467Z"
   },
   {
    "duration": 3559,
    "start_time": "2021-09-07T13:40:49.475Z"
   },
   {
    "duration": -186,
    "start_time": "2021-09-07T13:40:53.222Z"
   },
   {
    "duration": -187,
    "start_time": "2021-09-07T13:40:53.224Z"
   },
   {
    "duration": -188,
    "start_time": "2021-09-07T13:40:53.226Z"
   },
   {
    "duration": 5,
    "start_time": "2021-09-07T13:40:59.770Z"
   },
   {
    "duration": 3,
    "start_time": "2021-09-07T13:41:05.252Z"
   },
   {
    "duration": 1080,
    "start_time": "2021-09-07T13:41:06.024Z"
   },
   {
    "duration": 3,
    "start_time": "2021-09-07T13:41:10.708Z"
   },
   {
    "duration": 61,
    "start_time": "2021-09-07T13:41:10.712Z"
   },
   {
    "duration": 11,
    "start_time": "2021-09-07T13:41:10.775Z"
   },
   {
    "duration": 11,
    "start_time": "2021-09-07T13:41:10.788Z"
   },
   {
    "duration": 20,
    "start_time": "2021-09-07T13:41:10.801Z"
   },
   {
    "duration": 15,
    "start_time": "2021-09-07T13:41:10.823Z"
   },
   {
    "duration": 20,
    "start_time": "2021-09-07T13:41:10.839Z"
   },
   {
    "duration": 9,
    "start_time": "2021-09-07T13:41:10.862Z"
   },
   {
    "duration": 10,
    "start_time": "2021-09-07T13:41:10.873Z"
   },
   {
    "duration": 20,
    "start_time": "2021-09-07T13:41:10.884Z"
   },
   {
    "duration": 14,
    "start_time": "2021-09-07T13:41:10.905Z"
   },
   {
    "duration": 19,
    "start_time": "2021-09-07T13:41:10.921Z"
   },
   {
    "duration": 17,
    "start_time": "2021-09-07T13:41:10.941Z"
   },
   {
    "duration": 20,
    "start_time": "2021-09-07T13:41:10.959Z"
   },
   {
    "duration": 14,
    "start_time": "2021-09-07T13:41:10.981Z"
   },
   {
    "duration": 26,
    "start_time": "2021-09-07T13:41:10.997Z"
   },
   {
    "duration": 17,
    "start_time": "2021-09-07T13:41:11.025Z"
   },
   {
    "duration": 11,
    "start_time": "2021-09-07T13:41:11.044Z"
   },
   {
    "duration": 17,
    "start_time": "2021-09-07T13:41:11.057Z"
   },
   {
    "duration": 531,
    "start_time": "2021-09-07T13:41:11.076Z"
   },
   {
    "duration": 5,
    "start_time": "2021-09-07T13:41:11.609Z"
   },
   {
    "duration": 3357,
    "start_time": "2021-09-07T13:41:11.616Z"
   },
   {
    "duration": -167,
    "start_time": "2021-09-07T13:41:15.142Z"
   },
   {
    "duration": -168,
    "start_time": "2021-09-07T13:41:15.144Z"
   },
   {
    "duration": -169,
    "start_time": "2021-09-07T13:41:15.146Z"
   },
   {
    "duration": 3,
    "start_time": "2021-09-07T13:41:36.343Z"
   },
   {
    "duration": 58,
    "start_time": "2021-09-07T13:41:36.348Z"
   },
   {
    "duration": 12,
    "start_time": "2021-09-07T13:41:36.408Z"
   },
   {
    "duration": 15,
    "start_time": "2021-09-07T13:41:36.421Z"
   },
   {
    "duration": 22,
    "start_time": "2021-09-07T13:41:36.438Z"
   },
   {
    "duration": 11,
    "start_time": "2021-09-07T13:41:36.462Z"
   },
   {
    "duration": 22,
    "start_time": "2021-09-07T13:41:36.474Z"
   },
   {
    "duration": 7,
    "start_time": "2021-09-07T13:41:36.499Z"
   },
   {
    "duration": 9,
    "start_time": "2021-09-07T13:41:36.508Z"
   },
   {
    "duration": 23,
    "start_time": "2021-09-07T13:41:36.518Z"
   },
   {
    "duration": 18,
    "start_time": "2021-09-07T13:41:36.543Z"
   },
   {
    "duration": 16,
    "start_time": "2021-09-07T13:41:36.563Z"
   },
   {
    "duration": 12,
    "start_time": "2021-09-07T13:41:36.581Z"
   },
   {
    "duration": 16,
    "start_time": "2021-09-07T13:41:36.595Z"
   },
   {
    "duration": 16,
    "start_time": "2021-09-07T13:41:36.612Z"
   },
   {
    "duration": 20,
    "start_time": "2021-09-07T13:41:36.629Z"
   },
   {
    "duration": 18,
    "start_time": "2021-09-07T13:41:36.650Z"
   },
   {
    "duration": 10,
    "start_time": "2021-09-07T13:41:36.669Z"
   },
   {
    "duration": 10,
    "start_time": "2021-09-07T13:41:36.680Z"
   },
   {
    "duration": 3738,
    "start_time": "2021-09-07T13:41:36.692Z"
   },
   {
    "duration": -170,
    "start_time": "2021-09-07T13:41:40.602Z"
   },
   {
    "duration": -175,
    "start_time": "2021-09-07T13:41:40.608Z"
   },
   {
    "duration": -178,
    "start_time": "2021-09-07T13:41:40.611Z"
   },
   {
    "duration": -180,
    "start_time": "2021-09-07T13:41:40.614Z"
   },
   {
    "duration": -181,
    "start_time": "2021-09-07T13:41:40.616Z"
   },
   {
    "duration": 3,
    "start_time": "2021-09-07T13:44:45.971Z"
   },
   {
    "duration": 3,
    "start_time": "2021-09-07T13:45:05.897Z"
   },
   {
    "duration": 1065,
    "start_time": "2021-09-07T13:45:05.902Z"
   },
   {
    "duration": 3,
    "start_time": "2021-09-07T13:45:20.319Z"
   },
   {
    "duration": 1019,
    "start_time": "2021-09-07T13:45:20.758Z"
   },
   {
    "duration": 2,
    "start_time": "2021-09-07T13:46:20.054Z"
   },
   {
    "duration": 57,
    "start_time": "2021-09-07T13:46:20.058Z"
   },
   {
    "duration": 12,
    "start_time": "2021-09-07T13:46:20.117Z"
   },
   {
    "duration": 12,
    "start_time": "2021-09-07T13:46:20.131Z"
   },
   {
    "duration": 17,
    "start_time": "2021-09-07T13:46:20.144Z"
   },
   {
    "duration": 12,
    "start_time": "2021-09-07T13:46:20.163Z"
   },
   {
    "duration": 13,
    "start_time": "2021-09-07T13:46:20.176Z"
   },
   {
    "duration": 14,
    "start_time": "2021-09-07T13:46:20.191Z"
   },
   {
    "duration": 14,
    "start_time": "2021-09-07T13:46:20.207Z"
   },
   {
    "duration": 17,
    "start_time": "2021-09-07T13:46:20.223Z"
   },
   {
    "duration": 18,
    "start_time": "2021-09-07T13:46:20.241Z"
   },
   {
    "duration": 18,
    "start_time": "2021-09-07T13:46:20.260Z"
   },
   {
    "duration": 23,
    "start_time": "2021-09-07T13:46:20.279Z"
   },
   {
    "duration": 27,
    "start_time": "2021-09-07T13:46:20.304Z"
   },
   {
    "duration": 14,
    "start_time": "2021-09-07T13:46:20.333Z"
   },
   {
    "duration": 19,
    "start_time": "2021-09-07T13:46:20.349Z"
   },
   {
    "duration": 18,
    "start_time": "2021-09-07T13:46:20.370Z"
   },
   {
    "duration": 27,
    "start_time": "2021-09-07T13:46:20.389Z"
   },
   {
    "duration": 19,
    "start_time": "2021-09-07T13:46:20.417Z"
   },
   {
    "duration": 544,
    "start_time": "2021-09-07T13:46:20.438Z"
   },
   {
    "duration": 1002,
    "start_time": "2021-09-07T13:46:23.673Z"
   },
   {
    "duration": 263,
    "start_time": "2021-09-07T13:46:39.742Z"
   },
   {
    "duration": 3,
    "start_time": "2021-09-07T13:46:44.798Z"
   },
   {
    "duration": 996,
    "start_time": "2021-09-07T13:46:45.065Z"
   },
   {
    "duration": 3706,
    "start_time": "2021-09-07T13:49:53.942Z"
   },
   {
    "duration": -167,
    "start_time": "2021-09-07T13:49:57.816Z"
   },
   {
    "duration": -172,
    "start_time": "2021-09-07T13:49:57.822Z"
   },
   {
    "duration": 5,
    "start_time": "2021-09-07T13:50:06.152Z"
   },
   {
    "duration": 2,
    "start_time": "2021-09-07T13:50:23.040Z"
   },
   {
    "duration": 57,
    "start_time": "2021-09-07T13:50:23.043Z"
   },
   {
    "duration": 12,
    "start_time": "2021-09-07T13:50:23.102Z"
   },
   {
    "duration": 15,
    "start_time": "2021-09-07T13:50:23.115Z"
   },
   {
    "duration": 21,
    "start_time": "2021-09-07T13:50:23.132Z"
   },
   {
    "duration": 22,
    "start_time": "2021-09-07T13:50:23.154Z"
   },
   {
    "duration": 27,
    "start_time": "2021-09-07T13:50:23.178Z"
   },
   {
    "duration": 13,
    "start_time": "2021-09-07T13:50:23.207Z"
   },
   {
    "duration": 11,
    "start_time": "2021-09-07T13:50:23.221Z"
   },
   {
    "duration": 12,
    "start_time": "2021-09-07T13:50:23.234Z"
   },
   {
    "duration": 17,
    "start_time": "2021-09-07T13:50:23.247Z"
   },
   {
    "duration": 11,
    "start_time": "2021-09-07T13:50:23.266Z"
   },
   {
    "duration": 12,
    "start_time": "2021-09-07T13:50:23.278Z"
   },
   {
    "duration": 18,
    "start_time": "2021-09-07T13:50:23.292Z"
   },
   {
    "duration": 23,
    "start_time": "2021-09-07T13:50:23.312Z"
   },
   {
    "duration": 23,
    "start_time": "2021-09-07T13:50:23.336Z"
   },
   {
    "duration": 6,
    "start_time": "2021-09-07T13:50:23.361Z"
   },
   {
    "duration": 8,
    "start_time": "2021-09-07T13:50:23.369Z"
   },
   {
    "duration": 511,
    "start_time": "2021-09-07T13:50:23.380Z"
   },
   {
    "duration": 4,
    "start_time": "2021-09-07T13:50:23.894Z"
   },
   {
    "duration": 3374,
    "start_time": "2021-09-07T13:50:23.900Z"
   },
   {
    "duration": -167,
    "start_time": "2021-09-07T13:50:27.442Z"
   },
   {
    "duration": -169,
    "start_time": "2021-09-07T13:50:27.445Z"
   },
   {
    "duration": -171,
    "start_time": "2021-09-07T13:50:27.448Z"
   },
   {
    "duration": 3,
    "start_time": "2021-09-07T13:50:54.598Z"
   },
   {
    "duration": 3,
    "start_time": "2021-09-07T13:56:57.792Z"
   },
   {
    "duration": 1068,
    "start_time": "2021-09-07T13:56:58.361Z"
   },
   {
    "duration": -184,
    "start_time": "2021-09-07T13:56:59.615Z"
   },
   {
    "duration": 3,
    "start_time": "2021-09-07T13:59:14.771Z"
   },
   {
    "duration": 60,
    "start_time": "2021-09-07T13:59:14.776Z"
   },
   {
    "duration": 13,
    "start_time": "2021-09-07T13:59:14.838Z"
   },
   {
    "duration": 9,
    "start_time": "2021-09-07T13:59:14.853Z"
   },
   {
    "duration": 17,
    "start_time": "2021-09-07T13:59:14.864Z"
   },
   {
    "duration": 18,
    "start_time": "2021-09-07T13:59:14.883Z"
   },
   {
    "duration": 19,
    "start_time": "2021-09-07T13:59:14.903Z"
   },
   {
    "duration": 16,
    "start_time": "2021-09-07T13:59:14.924Z"
   },
   {
    "duration": 4,
    "start_time": "2021-09-07T13:59:14.942Z"
   },
   {
    "duration": 18,
    "start_time": "2021-09-07T13:59:14.948Z"
   },
   {
    "duration": 17,
    "start_time": "2021-09-07T13:59:14.968Z"
   },
   {
    "duration": 5,
    "start_time": "2021-09-07T13:59:14.986Z"
   },
   {
    "duration": 25,
    "start_time": "2021-09-07T13:59:14.993Z"
   },
   {
    "duration": 28,
    "start_time": "2021-09-07T13:59:15.020Z"
   },
   {
    "duration": 27,
    "start_time": "2021-09-07T13:59:15.050Z"
   },
   {
    "duration": 16,
    "start_time": "2021-09-07T13:59:15.079Z"
   },
   {
    "duration": 10,
    "start_time": "2021-09-07T13:59:15.097Z"
   },
   {
    "duration": 22,
    "start_time": "2021-09-07T13:59:15.108Z"
   },
   {
    "duration": 17,
    "start_time": "2021-09-07T13:59:17.949Z"
   },
   {
    "duration": 3,
    "start_time": "2021-09-07T13:59:20.570Z"
   },
   {
    "duration": 505,
    "start_time": "2021-09-07T13:59:21.691Z"
   },
   {
    "duration": 5,
    "start_time": "2021-09-07T13:59:24.851Z"
   },
   {
    "duration": 1103,
    "start_time": "2021-09-07T13:59:28.410Z"
   },
   {
    "duration": 3,
    "start_time": "2021-09-07T13:59:33.684Z"
   },
   {
    "duration": 57,
    "start_time": "2021-09-07T13:59:33.689Z"
   },
   {
    "duration": 12,
    "start_time": "2021-09-07T13:59:33.748Z"
   },
   {
    "duration": 6,
    "start_time": "2021-09-07T13:59:33.762Z"
   },
   {
    "duration": 12,
    "start_time": "2021-09-07T13:59:33.769Z"
   },
   {
    "duration": 8,
    "start_time": "2021-09-07T13:59:33.782Z"
   },
   {
    "duration": 12,
    "start_time": "2021-09-07T13:59:33.792Z"
   },
   {
    "duration": 6,
    "start_time": "2021-09-07T13:59:33.805Z"
   },
   {
    "duration": 4,
    "start_time": "2021-09-07T13:59:33.842Z"
   },
   {
    "duration": 11,
    "start_time": "2021-09-07T13:59:33.848Z"
   },
   {
    "duration": 9,
    "start_time": "2021-09-07T13:59:33.861Z"
   },
   {
    "duration": 5,
    "start_time": "2021-09-07T13:59:33.872Z"
   },
   {
    "duration": 8,
    "start_time": "2021-09-07T13:59:33.878Z"
   },
   {
    "duration": 14,
    "start_time": "2021-09-07T13:59:33.887Z"
   },
   {
    "duration": 6,
    "start_time": "2021-09-07T13:59:33.902Z"
   },
   {
    "duration": 39,
    "start_time": "2021-09-07T13:59:33.910Z"
   },
   {
    "duration": 4,
    "start_time": "2021-09-07T13:59:33.950Z"
   },
   {
    "duration": 6,
    "start_time": "2021-09-07T13:59:33.956Z"
   },
   {
    "duration": 19,
    "start_time": "2021-09-07T13:59:33.964Z"
   },
   {
    "duration": 3,
    "start_time": "2021-09-07T13:59:35.469Z"
   },
   {
    "duration": 512,
    "start_time": "2021-09-07T13:59:36.222Z"
   },
   {
    "duration": 3,
    "start_time": "2021-09-07T14:00:14.523Z"
   },
   {
    "duration": 2779,
    "start_time": "2021-09-07T14:00:14.804Z"
   },
   {
    "duration": 2,
    "start_time": "2021-09-07T14:00:28.223Z"
   },
   {
    "duration": 62,
    "start_time": "2021-09-07T14:00:28.227Z"
   },
   {
    "duration": 14,
    "start_time": "2021-09-07T14:00:28.292Z"
   },
   {
    "duration": 14,
    "start_time": "2021-09-07T14:00:28.309Z"
   },
   {
    "duration": 25,
    "start_time": "2021-09-07T14:00:28.325Z"
   },
   {
    "duration": 12,
    "start_time": "2021-09-07T14:00:28.352Z"
   },
   {
    "duration": 14,
    "start_time": "2021-09-07T14:00:28.366Z"
   },
   {
    "duration": 6,
    "start_time": "2021-09-07T14:00:28.383Z"
   },
   {
    "duration": 4,
    "start_time": "2021-09-07T14:00:28.392Z"
   },
   {
    "duration": 11,
    "start_time": "2021-09-07T14:00:28.398Z"
   },
   {
    "duration": 32,
    "start_time": "2021-09-07T14:00:28.411Z"
   },
   {
    "duration": 9,
    "start_time": "2021-09-07T14:00:28.445Z"
   },
   {
    "duration": 9,
    "start_time": "2021-09-07T14:00:28.455Z"
   },
   {
    "duration": 17,
    "start_time": "2021-09-07T14:00:28.465Z"
   },
   {
    "duration": 7,
    "start_time": "2021-09-07T14:00:28.484Z"
   },
   {
    "duration": 15,
    "start_time": "2021-09-07T14:00:28.492Z"
   },
   {
    "duration": 3,
    "start_time": "2021-09-07T14:00:28.509Z"
   },
   {
    "duration": 42,
    "start_time": "2021-09-07T14:00:28.513Z"
   },
   {
    "duration": 3,
    "start_time": "2021-09-07T14:00:28.556Z"
   },
   {
    "duration": 3189,
    "start_time": "2021-09-07T14:00:28.561Z"
   },
   {
    "duration": 18,
    "start_time": "2021-09-07T14:00:31.751Z"
   },
   {
    "duration": 33,
    "start_time": "2021-09-07T14:00:31.771Z"
   },
   {
    "duration": 2,
    "start_time": "2021-09-07T14:00:31.806Z"
   },
   {
    "duration": 20,
    "start_time": "2021-09-07T14:00:31.810Z"
   },
   {
    "duration": 16,
    "start_time": "2021-09-07T14:00:31.832Z"
   },
   {
    "duration": 4,
    "start_time": "2021-09-07T14:02:15.827Z"
   },
   {
    "duration": 3,
    "start_time": "2021-09-07T14:02:23.099Z"
   },
   {
    "duration": 2284,
    "start_time": "2021-09-07T14:02:23.104Z"
   },
   {
    "duration": 2,
    "start_time": "2021-09-07T14:02:26.089Z"
   },
   {
    "duration": 69,
    "start_time": "2021-09-07T14:02:26.093Z"
   },
   {
    "duration": 12,
    "start_time": "2021-09-07T14:02:26.164Z"
   },
   {
    "duration": 31,
    "start_time": "2021-09-07T14:02:26.178Z"
   },
   {
    "duration": 34,
    "start_time": "2021-09-07T14:02:26.210Z"
   },
   {
    "duration": 21,
    "start_time": "2021-09-07T14:02:26.246Z"
   },
   {
    "duration": 61,
    "start_time": "2021-09-07T14:02:26.268Z"
   },
   {
    "duration": 26,
    "start_time": "2021-09-07T14:02:26.332Z"
   },
   {
    "duration": 40,
    "start_time": "2021-09-07T14:02:26.360Z"
   },
   {
    "duration": 40,
    "start_time": "2021-09-07T14:02:26.402Z"
   },
   {
    "duration": 37,
    "start_time": "2021-09-07T14:02:26.443Z"
   },
   {
    "duration": 36,
    "start_time": "2021-09-07T14:02:26.482Z"
   },
   {
    "duration": 38,
    "start_time": "2021-09-07T14:02:26.520Z"
   },
   {
    "duration": 32,
    "start_time": "2021-09-07T14:02:26.560Z"
   },
   {
    "duration": 30,
    "start_time": "2021-09-07T14:02:26.594Z"
   },
   {
    "duration": 39,
    "start_time": "2021-09-07T14:02:26.625Z"
   },
   {
    "duration": 27,
    "start_time": "2021-09-07T14:02:26.665Z"
   },
   {
    "duration": 41,
    "start_time": "2021-09-07T14:02:26.694Z"
   },
   {
    "duration": 26,
    "start_time": "2021-09-07T14:02:26.737Z"
   },
   {
    "duration": 1945,
    "start_time": "2021-09-07T14:02:26.765Z"
   },
   {
    "duration": 31,
    "start_time": "2021-09-07T14:02:28.712Z"
   },
   {
    "duration": 21,
    "start_time": "2021-09-07T14:02:28.745Z"
   },
   {
    "duration": 2,
    "start_time": "2021-09-07T14:02:28.768Z"
   },
   {
    "duration": 21,
    "start_time": "2021-09-07T14:02:28.772Z"
   },
   {
    "duration": 18,
    "start_time": "2021-09-07T14:02:28.795Z"
   },
   {
    "duration": 3,
    "start_time": "2021-09-07T14:04:37.960Z"
   },
   {
    "duration": 487,
    "start_time": "2021-09-07T14:04:38.535Z"
   },
   {
    "duration": 3,
    "start_time": "2021-09-07T14:04:41.846Z"
   },
   {
    "duration": 74,
    "start_time": "2021-09-07T14:04:41.850Z"
   },
   {
    "duration": 13,
    "start_time": "2021-09-07T14:04:41.926Z"
   },
   {
    "duration": 18,
    "start_time": "2021-09-07T14:04:41.941Z"
   },
   {
    "duration": 27,
    "start_time": "2021-09-07T14:04:41.961Z"
   },
   {
    "duration": 17,
    "start_time": "2021-09-07T14:04:41.990Z"
   },
   {
    "duration": 34,
    "start_time": "2021-09-07T14:04:42.009Z"
   },
   {
    "duration": 18,
    "start_time": "2021-09-07T14:04:42.045Z"
   },
   {
    "duration": 6,
    "start_time": "2021-09-07T14:04:42.065Z"
   },
   {
    "duration": 13,
    "start_time": "2021-09-07T14:04:42.073Z"
   },
   {
    "duration": 8,
    "start_time": "2021-09-07T14:04:42.087Z"
   },
   {
    "duration": 8,
    "start_time": "2021-09-07T14:04:42.097Z"
   },
   {
    "duration": 8,
    "start_time": "2021-09-07T14:04:42.107Z"
   },
   {
    "duration": 26,
    "start_time": "2021-09-07T14:04:42.117Z"
   },
   {
    "duration": 7,
    "start_time": "2021-09-07T14:04:42.145Z"
   },
   {
    "duration": 16,
    "start_time": "2021-09-07T14:04:42.154Z"
   },
   {
    "duration": 3,
    "start_time": "2021-09-07T14:04:42.172Z"
   },
   {
    "duration": 19,
    "start_time": "2021-09-07T14:04:42.176Z"
   },
   {
    "duration": 3,
    "start_time": "2021-09-07T14:04:42.197Z"
   },
   {
    "duration": 455,
    "start_time": "2021-09-07T14:04:42.201Z"
   },
   {
    "duration": 18,
    "start_time": "2021-09-07T14:04:42.658Z"
   },
   {
    "duration": 23,
    "start_time": "2021-09-07T14:04:42.678Z"
   },
   {
    "duration": 2,
    "start_time": "2021-09-07T14:04:42.702Z"
   },
   {
    "duration": 15,
    "start_time": "2021-09-07T14:04:42.706Z"
   },
   {
    "duration": 23,
    "start_time": "2021-09-07T14:04:42.723Z"
   },
   {
    "duration": 19,
    "start_time": "2021-09-07T14:05:05.329Z"
   },
   {
    "duration": 3,
    "start_time": "2021-09-07T14:05:42.228Z"
   },
   {
    "duration": 442,
    "start_time": "2021-09-07T14:05:42.942Z"
   },
   {
    "duration": 18,
    "start_time": "2021-09-07T14:05:43.541Z"
   },
   {
    "duration": 3,
    "start_time": "2021-09-07T14:05:47.508Z"
   },
   {
    "duration": 63,
    "start_time": "2021-09-07T14:05:47.513Z"
   },
   {
    "duration": 13,
    "start_time": "2021-09-07T14:05:47.578Z"
   },
   {
    "duration": 19,
    "start_time": "2021-09-07T14:05:47.593Z"
   },
   {
    "duration": 13,
    "start_time": "2021-09-07T14:05:47.613Z"
   },
   {
    "duration": 20,
    "start_time": "2021-09-07T14:05:47.628Z"
   },
   {
    "duration": 12,
    "start_time": "2021-09-07T14:05:47.650Z"
   },
   {
    "duration": 8,
    "start_time": "2021-09-07T14:05:47.664Z"
   },
   {
    "duration": 5,
    "start_time": "2021-09-07T14:05:47.675Z"
   },
   {
    "duration": 11,
    "start_time": "2021-09-07T14:05:47.682Z"
   },
   {
    "duration": 8,
    "start_time": "2021-09-07T14:05:47.695Z"
   },
   {
    "duration": 41,
    "start_time": "2021-09-07T14:05:47.704Z"
   },
   {
    "duration": 20,
    "start_time": "2021-09-07T14:05:47.747Z"
   },
   {
    "duration": 30,
    "start_time": "2021-09-07T14:05:47.769Z"
   },
   {
    "duration": 20,
    "start_time": "2021-09-07T14:05:47.801Z"
   },
   {
    "duration": 32,
    "start_time": "2021-09-07T14:05:47.823Z"
   },
   {
    "duration": 21,
    "start_time": "2021-09-07T14:05:47.857Z"
   },
   {
    "duration": 36,
    "start_time": "2021-09-07T14:05:47.880Z"
   },
   {
    "duration": 27,
    "start_time": "2021-09-07T14:05:47.918Z"
   },
   {
    "duration": 477,
    "start_time": "2021-09-07T14:05:47.946Z"
   },
   {
    "duration": 27,
    "start_time": "2021-09-07T14:05:48.425Z"
   },
   {
    "duration": 31,
    "start_time": "2021-09-07T14:05:48.454Z"
   },
   {
    "duration": 3,
    "start_time": "2021-09-07T14:05:48.487Z"
   },
   {
    "duration": 26,
    "start_time": "2021-09-07T14:05:48.492Z"
   },
   {
    "duration": 3,
    "start_time": "2021-09-07T14:07:40.293Z"
   },
   {
    "duration": 529,
    "start_time": "2021-09-07T14:07:40.958Z"
   },
   {
    "duration": 19,
    "start_time": "2021-09-07T14:07:41.602Z"
   },
   {
    "duration": 7,
    "start_time": "2021-09-07T14:08:02.341Z"
   },
   {
    "duration": 4,
    "start_time": "2021-09-07T14:09:42.372Z"
   },
   {
    "duration": 431,
    "start_time": "2021-09-07T14:09:42.911Z"
   },
   {
    "duration": 17,
    "start_time": "2021-09-07T14:09:43.344Z"
   },
   {
    "duration": 6,
    "start_time": "2021-09-07T14:09:46.505Z"
   },
   {
    "duration": 3,
    "start_time": "2021-09-07T14:10:03.227Z"
   },
   {
    "duration": 317,
    "start_time": "2021-09-07T14:10:03.583Z"
   },
   {
    "duration": 18,
    "start_time": "2021-09-07T14:10:03.901Z"
   },
   {
    "duration": 2,
    "start_time": "2021-09-07T14:10:06.577Z"
   },
   {
    "duration": 64,
    "start_time": "2021-09-07T14:10:06.581Z"
   },
   {
    "duration": 12,
    "start_time": "2021-09-07T14:10:06.647Z"
   },
   {
    "duration": 10,
    "start_time": "2021-09-07T14:10:06.661Z"
   },
   {
    "duration": 15,
    "start_time": "2021-09-07T14:10:06.672Z"
   },
   {
    "duration": 8,
    "start_time": "2021-09-07T14:10:06.688Z"
   },
   {
    "duration": 13,
    "start_time": "2021-09-07T14:10:06.698Z"
   },
   {
    "duration": 16,
    "start_time": "2021-09-07T14:10:06.713Z"
   },
   {
    "duration": 17,
    "start_time": "2021-09-07T14:10:06.731Z"
   },
   {
    "duration": 12,
    "start_time": "2021-09-07T14:10:06.750Z"
   },
   {
    "duration": 14,
    "start_time": "2021-09-07T14:10:06.764Z"
   },
   {
    "duration": 13,
    "start_time": "2021-09-07T14:10:06.779Z"
   },
   {
    "duration": 8,
    "start_time": "2021-09-07T14:10:06.794Z"
   },
   {
    "duration": 15,
    "start_time": "2021-09-07T14:10:06.804Z"
   },
   {
    "duration": 22,
    "start_time": "2021-09-07T14:10:06.821Z"
   },
   {
    "duration": 14,
    "start_time": "2021-09-07T14:10:06.844Z"
   },
   {
    "duration": 3,
    "start_time": "2021-09-07T14:10:06.860Z"
   },
   {
    "duration": 26,
    "start_time": "2021-09-07T14:10:06.865Z"
   },
   {
    "duration": 4,
    "start_time": "2021-09-07T14:10:06.893Z"
   },
   {
    "duration": 360,
    "start_time": "2021-09-07T14:10:06.899Z"
   },
   {
    "duration": 17,
    "start_time": "2021-09-07T14:10:07.261Z"
   },
   {
    "duration": 29,
    "start_time": "2021-09-07T14:10:07.279Z"
   },
   {
    "duration": 27,
    "start_time": "2021-09-07T14:10:07.310Z"
   },
   {
    "duration": 17,
    "start_time": "2021-09-07T14:10:07.339Z"
   },
   {
    "duration": 7,
    "start_time": "2021-09-07T14:10:29.011Z"
   },
   {
    "duration": 4,
    "start_time": "2021-09-07T14:11:06.742Z"
   },
   {
    "duration": 4,
    "start_time": "2021-09-07T14:11:08.800Z"
   },
   {
    "duration": 4,
    "start_time": "2021-09-07T14:11:09.139Z"
   },
   {
    "duration": 3,
    "start_time": "2021-09-07T14:11:17.008Z"
   },
   {
    "duration": 314,
    "start_time": "2021-09-07T14:11:17.368Z"
   },
   {
    "duration": 19,
    "start_time": "2021-09-07T14:11:17.852Z"
   },
   {
    "duration": 6,
    "start_time": "2021-09-07T14:11:33.257Z"
   },
   {
    "duration": 4,
    "start_time": "2021-09-07T14:21:23.604Z"
   },
   {
    "duration": 315,
    "start_time": "2021-09-07T14:21:23.886Z"
   },
   {
    "duration": 19,
    "start_time": "2021-09-07T14:21:24.368Z"
   },
   {
    "duration": 5,
    "start_time": "2021-09-07T14:21:29.506Z"
   },
   {
    "duration": 30,
    "start_time": "2021-09-07T14:21:51.655Z"
   },
   {
    "duration": 260,
    "start_time": "2021-09-07T14:22:08.985Z"
   },
   {
    "duration": 8,
    "start_time": "2021-09-07T14:22:16.108Z"
   },
   {
    "duration": 3,
    "start_time": "2021-09-07T14:29:27.156Z"
   },
   {
    "duration": 3,
    "start_time": "2021-09-07T14:29:28.669Z"
   },
   {
    "duration": 318,
    "start_time": "2021-09-07T14:29:28.989Z"
   },
   {
    "duration": 19,
    "start_time": "2021-09-07T14:29:29.438Z"
   },
   {
    "duration": 5,
    "start_time": "2021-09-07T14:29:30.278Z"
   },
   {
    "duration": 7,
    "start_time": "2021-09-07T14:29:31.092Z"
   },
   {
    "duration": 17,
    "start_time": "2021-09-07T14:40:10.928Z"
   },
   {
    "duration": 17,
    "start_time": "2021-09-07T14:40:31.173Z"
   },
   {
    "duration": 128,
    "start_time": "2021-09-07T14:41:02.201Z"
   },
   {
    "duration": 6,
    "start_time": "2021-09-07T14:41:07.616Z"
   },
   {
    "duration": 7,
    "start_time": "2021-09-07T14:41:11.037Z"
   },
   {
    "duration": 3,
    "start_time": "2021-09-07T14:46:10.482Z"
   },
   {
    "duration": 64,
    "start_time": "2021-09-07T14:46:10.486Z"
   },
   {
    "duration": 12,
    "start_time": "2021-09-07T14:46:10.552Z"
   },
   {
    "duration": 12,
    "start_time": "2021-09-07T14:46:10.565Z"
   },
   {
    "duration": 19,
    "start_time": "2021-09-07T14:46:10.578Z"
   },
   {
    "duration": 9,
    "start_time": "2021-09-07T14:46:10.599Z"
   },
   {
    "duration": 16,
    "start_time": "2021-09-07T14:46:10.610Z"
   },
   {
    "duration": 4,
    "start_time": "2021-09-07T14:46:10.642Z"
   },
   {
    "duration": 7,
    "start_time": "2021-09-07T14:46:10.648Z"
   },
   {
    "duration": 21,
    "start_time": "2021-09-07T14:46:10.657Z"
   },
   {
    "duration": 10,
    "start_time": "2021-09-07T14:46:10.680Z"
   },
   {
    "duration": 14,
    "start_time": "2021-09-07T14:46:10.691Z"
   },
   {
    "duration": 13,
    "start_time": "2021-09-07T14:46:10.706Z"
   },
   {
    "duration": 16,
    "start_time": "2021-09-07T14:46:10.720Z"
   },
   {
    "duration": 19,
    "start_time": "2021-09-07T14:46:10.738Z"
   },
   {
    "duration": 9,
    "start_time": "2021-09-07T14:46:10.758Z"
   },
   {
    "duration": 14,
    "start_time": "2021-09-07T14:46:10.769Z"
   },
   {
    "duration": 3,
    "start_time": "2021-09-07T14:46:10.785Z"
   },
   {
    "duration": 19,
    "start_time": "2021-09-07T14:46:10.791Z"
   },
   {
    "duration": 13,
    "start_time": "2021-09-07T14:46:10.812Z"
   },
   {
    "duration": 343,
    "start_time": "2021-09-07T14:46:10.826Z"
   },
   {
    "duration": 5,
    "start_time": "2021-09-07T14:46:11.171Z"
   },
   {
    "duration": 16,
    "start_time": "2021-09-07T14:46:11.177Z"
   },
   {
    "duration": 7,
    "start_time": "2021-09-07T14:47:43.467Z"
   },
   {
    "duration": 12,
    "start_time": "2021-09-07T14:48:45.330Z"
   },
   {
    "duration": 7,
    "start_time": "2021-09-07T14:49:01.750Z"
   },
   {
    "duration": 12,
    "start_time": "2021-09-07T14:49:05.889Z"
   },
   {
    "duration": 11,
    "start_time": "2021-09-07T14:49:14.182Z"
   },
   {
    "duration": 9,
    "start_time": "2021-09-07T14:49:14.505Z"
   },
   {
    "duration": 19,
    "start_time": "2021-09-07T14:50:01.847Z"
   },
   {
    "duration": 87,
    "start_time": "2021-09-07T14:50:20.262Z"
   },
   {
    "duration": 283,
    "start_time": "2021-09-07T14:50:43.204Z"
   },
   {
    "duration": 16,
    "start_time": "2021-09-07T14:50:49.516Z"
   },
   {
    "duration": 27,
    "start_time": "2021-09-07T14:50:54.910Z"
   },
   {
    "duration": 260,
    "start_time": "2021-09-07T16:05:15.810Z"
   },
   {
    "duration": 90,
    "start_time": "2021-09-07T16:06:08.618Z"
   },
   {
    "duration": -226,
    "start_time": "2021-09-07T16:06:28.862Z"
   },
   {
    "duration": 3,
    "start_time": "2021-09-07T16:06:28.901Z"
   },
   {
    "duration": 55,
    "start_time": "2021-09-07T16:06:28.906Z"
   },
   {
    "duration": 12,
    "start_time": "2021-09-07T16:06:28.963Z"
   },
   {
    "duration": 7,
    "start_time": "2021-09-07T16:06:28.977Z"
   },
   {
    "duration": 14,
    "start_time": "2021-09-07T16:06:28.985Z"
   },
   {
    "duration": 7,
    "start_time": "2021-09-07T16:06:29.001Z"
   },
   {
    "duration": 41,
    "start_time": "2021-09-07T16:06:29.011Z"
   },
   {
    "duration": 18,
    "start_time": "2021-09-07T16:06:29.054Z"
   },
   {
    "duration": 21,
    "start_time": "2021-09-07T16:06:29.073Z"
   },
   {
    "duration": 28,
    "start_time": "2021-09-07T16:06:29.096Z"
   },
   {
    "duration": 21,
    "start_time": "2021-09-07T16:06:29.126Z"
   },
   {
    "duration": 10,
    "start_time": "2021-09-07T16:06:29.149Z"
   },
   {
    "duration": 20,
    "start_time": "2021-09-07T16:06:29.161Z"
   },
   {
    "duration": 32,
    "start_time": "2021-09-07T16:06:29.182Z"
   },
   {
    "duration": 21,
    "start_time": "2021-09-07T16:06:29.217Z"
   },
   {
    "duration": 6,
    "start_time": "2021-09-07T16:06:29.240Z"
   },
   {
    "duration": 30,
    "start_time": "2021-09-07T16:06:29.247Z"
   },
   {
    "duration": 6,
    "start_time": "2021-09-07T16:06:29.279Z"
   },
   {
    "duration": 30,
    "start_time": "2021-09-07T16:06:29.288Z"
   },
   {
    "duration": 13,
    "start_time": "2021-09-07T16:06:29.320Z"
   },
   {
    "duration": 456,
    "start_time": "2021-09-07T16:06:29.335Z"
   },
   {
    "duration": 5,
    "start_time": "2021-09-07T16:06:29.792Z"
   },
   {
    "duration": 9,
    "start_time": "2021-09-07T16:06:29.799Z"
   },
   {
    "duration": 9,
    "start_time": "2021-09-07T16:06:29.810Z"
   },
   {
    "duration": 39,
    "start_time": "2021-09-07T16:06:29.821Z"
   },
   {
    "duration": 12,
    "start_time": "2021-09-07T16:06:29.863Z"
   },
   {
    "duration": 12,
    "start_time": "2021-09-07T16:06:29.877Z"
   },
   {
    "duration": 28,
    "start_time": "2021-09-07T16:06:29.891Z"
   },
   {
    "duration": 64,
    "start_time": "2021-09-07T16:06:29.921Z"
   },
   {
    "duration": 2,
    "start_time": "2021-09-07T16:06:41.467Z"
   },
   {
    "duration": 87,
    "start_time": "2021-09-07T16:15:15.544Z"
   },
   {
    "duration": 6,
    "start_time": "2021-09-07T16:16:14.051Z"
   },
   {
    "duration": 5,
    "start_time": "2021-09-07T16:16:21.864Z"
   },
   {
    "duration": 8,
    "start_time": "2021-09-07T16:17:10.003Z"
   },
   {
    "duration": 78,
    "start_time": "2021-09-07T16:18:19.618Z"
   },
   {
    "duration": 79,
    "start_time": "2021-09-07T16:18:22.615Z"
   },
   {
    "duration": 6,
    "start_time": "2021-09-07T16:18:36.474Z"
   },
   {
    "duration": 7,
    "start_time": "2021-09-07T16:18:44.847Z"
   },
   {
    "duration": 8,
    "start_time": "2021-09-07T16:20:14.924Z"
   },
   {
    "duration": 85,
    "start_time": "2021-09-07T16:21:15.690Z"
   },
   {
    "duration": 7,
    "start_time": "2021-09-07T16:21:32.216Z"
   },
   {
    "duration": 5,
    "start_time": "2021-09-07T16:22:21.597Z"
   },
   {
    "duration": 10,
    "start_time": "2021-09-07T16:22:24.810Z"
   },
   {
    "duration": 8,
    "start_time": "2021-09-07T16:23:02.796Z"
   },
   {
    "duration": 6,
    "start_time": "2021-09-07T16:23:06.195Z"
   },
   {
    "duration": 2,
    "start_time": "2021-09-07T16:23:11.277Z"
   },
   {
    "duration": 67,
    "start_time": "2021-09-07T16:23:11.281Z"
   },
   {
    "duration": 14,
    "start_time": "2021-09-07T16:23:11.351Z"
   },
   {
    "duration": 20,
    "start_time": "2021-09-07T16:23:11.368Z"
   },
   {
    "duration": 22,
    "start_time": "2021-09-07T16:23:11.390Z"
   },
   {
    "duration": 21,
    "start_time": "2021-09-07T16:23:11.413Z"
   },
   {
    "duration": 27,
    "start_time": "2021-09-07T16:23:11.436Z"
   },
   {
    "duration": 32,
    "start_time": "2021-09-07T16:23:11.465Z"
   },
   {
    "duration": 23,
    "start_time": "2021-09-07T16:23:11.499Z"
   },
   {
    "duration": 28,
    "start_time": "2021-09-07T16:23:11.524Z"
   },
   {
    "duration": 20,
    "start_time": "2021-09-07T16:23:11.555Z"
   },
   {
    "duration": 25,
    "start_time": "2021-09-07T16:23:11.577Z"
   },
   {
    "duration": 21,
    "start_time": "2021-09-07T16:23:11.604Z"
   },
   {
    "duration": 22,
    "start_time": "2021-09-07T16:23:11.627Z"
   },
   {
    "duration": 25,
    "start_time": "2021-09-07T16:23:11.651Z"
   },
   {
    "duration": 5,
    "start_time": "2021-09-07T16:23:11.678Z"
   },
   {
    "duration": 31,
    "start_time": "2021-09-07T16:23:11.685Z"
   },
   {
    "duration": 9,
    "start_time": "2021-09-07T16:23:11.718Z"
   },
   {
    "duration": 39,
    "start_time": "2021-09-07T16:23:11.730Z"
   },
   {
    "duration": 23,
    "start_time": "2021-09-07T16:23:11.771Z"
   },
   {
    "duration": 366,
    "start_time": "2021-09-07T16:23:11.796Z"
   },
   {
    "duration": 6,
    "start_time": "2021-09-07T16:23:12.163Z"
   },
   {
    "duration": 17,
    "start_time": "2021-09-07T16:23:12.170Z"
   },
   {
    "duration": 21,
    "start_time": "2021-09-07T16:23:12.189Z"
   },
   {
    "duration": 21,
    "start_time": "2021-09-07T16:23:12.212Z"
   },
   {
    "duration": 24,
    "start_time": "2021-09-07T16:23:12.235Z"
   },
   {
    "duration": 32,
    "start_time": "2021-09-07T16:23:12.261Z"
   },
   {
    "duration": 30,
    "start_time": "2021-09-07T16:23:12.294Z"
   },
   {
    "duration": 32,
    "start_time": "2021-09-07T16:23:12.325Z"
   },
   {
    "duration": 19,
    "start_time": "2021-09-07T16:23:12.359Z"
   },
   {
    "duration": 23,
    "start_time": "2021-09-07T16:23:12.379Z"
   },
   {
    "duration": 25,
    "start_time": "2021-09-07T16:23:12.403Z"
   },
   {
    "duration": 7,
    "start_time": "2021-09-07T16:23:15.327Z"
   },
   {
    "duration": 16,
    "start_time": "2021-09-07T16:23:15.740Z"
   },
   {
    "duration": 6879,
    "start_time": "2021-09-07T16:24:03.911Z"
   },
   {
    "duration": 12,
    "start_time": "2021-09-07T16:24:16.804Z"
   },
   {
    "duration": 18,
    "start_time": "2021-09-07T16:24:26.273Z"
   },
   {
    "duration": 12,
    "start_time": "2021-09-07T16:26:08.256Z"
   },
   {
    "duration": 41,
    "start_time": "2021-09-07T16:27:39.432Z"
   },
   {
    "duration": 7,
    "start_time": "2021-09-07T16:27:48.110Z"
   },
   {
    "duration": 16,
    "start_time": "2021-09-07T16:28:16.419Z"
   },
   {
    "duration": 28,
    "start_time": "2021-09-07T16:28:17.442Z"
   },
   {
    "duration": 12,
    "start_time": "2021-09-07T16:31:55.846Z"
   },
   {
    "duration": 8,
    "start_time": "2021-09-07T16:33:52.709Z"
   },
   {
    "duration": 83,
    "start_time": "2021-09-07T16:34:38.530Z"
   },
   {
    "duration": 7,
    "start_time": "2021-09-07T16:38:41.686Z"
   },
   {
    "duration": 2,
    "start_time": "2021-09-07T16:38:56.634Z"
   },
   {
    "duration": 3,
    "start_time": "2021-09-07T17:12:02.549Z"
   },
   {
    "duration": 7,
    "start_time": "2021-09-07T17:22:17.240Z"
   },
   {
    "duration": 252,
    "start_time": "2021-09-07T17:22:25.044Z"
   },
   {
    "duration": 9,
    "start_time": "2021-09-07T17:22:29.752Z"
   },
   {
    "duration": 8,
    "start_time": "2021-09-07T17:22:34.999Z"
   },
   {
    "duration": 270,
    "start_time": "2021-09-07T17:23:09.742Z"
   },
   {
    "duration": 6,
    "start_time": "2021-09-07T17:23:13.094Z"
   },
   {
    "duration": 4,
    "start_time": "2021-09-07T17:23:49.668Z"
   },
   {
    "duration": 5,
    "start_time": "2021-09-07T17:23:53.783Z"
   },
   {
    "duration": 4,
    "start_time": "2021-09-07T17:28:31.818Z"
   },
   {
    "duration": 3,
    "start_time": "2021-09-07T17:28:35.697Z"
   },
   {
    "duration": 86,
    "start_time": "2021-09-07T17:44:09.834Z"
   },
   {
    "duration": 273,
    "start_time": "2021-09-07T17:44:20.956Z"
   },
   {
    "duration": 255,
    "start_time": "2021-09-07T17:44:29.698Z"
   },
   {
    "duration": 625,
    "start_time": "2021-09-07T17:44:32.088Z"
   },
   {
    "duration": 5,
    "start_time": "2021-09-07T17:44:37.377Z"
   },
   {
    "duration": 3,
    "start_time": "2021-09-07T17:45:02.718Z"
   },
   {
    "duration": 5,
    "start_time": "2021-09-07T17:45:16.080Z"
   },
   {
    "duration": 5,
    "start_time": "2021-09-07T17:45:34.446Z"
   },
   {
    "duration": 639,
    "start_time": "2021-09-07T17:45:43.062Z"
   },
   {
    "duration": 9,
    "start_time": "2021-09-07T17:45:45.281Z"
   },
   {
    "duration": 635,
    "start_time": "2021-09-07T17:46:40.372Z"
   },
   {
    "duration": 7,
    "start_time": "2021-09-07T17:46:41.146Z"
   },
   {
    "duration": 289,
    "start_time": "2021-09-07T17:46:48.931Z"
   },
   {
    "duration": 4,
    "start_time": "2021-09-07T17:46:50.081Z"
   },
   {
    "duration": 638,
    "start_time": "2021-09-07T17:46:59.270Z"
   },
   {
    "duration": 8,
    "start_time": "2021-09-07T17:46:59.911Z"
   },
   {
    "duration": 638,
    "start_time": "2021-09-07T17:47:24.873Z"
   },
   {
    "duration": 7,
    "start_time": "2021-09-07T17:47:25.514Z"
   },
   {
    "duration": 663,
    "start_time": "2021-09-07T17:47:29.492Z"
   },
   {
    "duration": 10,
    "start_time": "2021-09-07T17:47:30.158Z"
   },
   {
    "duration": 751,
    "start_time": "2021-09-07T17:48:56.294Z"
   },
   {
    "duration": 42,
    "start_time": "2021-09-07T17:48:57.048Z"
   },
   {
    "duration": 681,
    "start_time": "2021-09-07T17:49:05.329Z"
   },
   {
    "duration": 6,
    "start_time": "2021-09-07T17:49:06.012Z"
   },
   {
    "duration": 87,
    "start_time": "2021-09-07T17:56:19.773Z"
   },
   {
    "duration": 923,
    "start_time": "2021-09-07T17:56:27.129Z"
   },
   {
    "duration": 7,
    "start_time": "2021-09-07T17:56:28.055Z"
   },
   {
    "duration": 680,
    "start_time": "2021-09-07T17:56:51.690Z"
   },
   {
    "duration": 10,
    "start_time": "2021-09-07T17:56:52.372Z"
   },
   {
    "duration": 276,
    "start_time": "2021-09-07T17:57:53.608Z"
   },
   {
    "duration": 4,
    "start_time": "2021-09-07T17:57:54.084Z"
   },
   {
    "duration": 665,
    "start_time": "2021-09-07T17:58:21.532Z"
   },
   {
    "duration": 7,
    "start_time": "2021-09-07T17:58:22.199Z"
   },
   {
    "duration": 701,
    "start_time": "2021-09-07T17:59:04.196Z"
   },
   {
    "duration": 7,
    "start_time": "2021-09-07T17:59:05.692Z"
   },
   {
    "duration": 950,
    "start_time": "2021-09-07T17:59:56.798Z"
   },
   {
    "duration": -243,
    "start_time": "2021-09-07T17:59:57.993Z"
   },
   {
    "duration": 1134,
    "start_time": "2021-09-07T18:00:10.602Z"
   },
   {
    "duration": -249,
    "start_time": "2021-09-07T18:00:11.987Z"
   },
   {
    "duration": 684,
    "start_time": "2021-09-07T18:00:16.745Z"
   },
   {
    "duration": 910,
    "start_time": "2021-09-07T18:00:25.903Z"
   },
   {
    "duration": 63,
    "start_time": "2021-09-07T18:00:26.821Z"
   },
   {
    "duration": 817,
    "start_time": "2021-09-07T18:00:33.736Z"
   },
   {
    "duration": 32,
    "start_time": "2021-09-07T18:00:34.556Z"
   },
   {
    "duration": 945,
    "start_time": "2021-09-07T18:00:42.915Z"
   },
   {
    "duration": 43,
    "start_time": "2021-09-07T18:00:43.863Z"
   },
   {
    "duration": 705,
    "start_time": "2021-09-07T18:04:19.894Z"
   },
   {
    "duration": 7,
    "start_time": "2021-09-07T18:04:20.602Z"
   },
   {
    "duration": 711,
    "start_time": "2021-09-07T18:05:36.343Z"
   },
   {
    "duration": 8,
    "start_time": "2021-09-07T18:05:37.056Z"
   },
   {
    "duration": 694,
    "start_time": "2021-09-07T18:06:08.929Z"
   },
   {
    "duration": 7,
    "start_time": "2021-09-07T18:06:09.625Z"
   },
   {
    "duration": 282,
    "start_time": "2021-09-07T18:06:51.495Z"
   },
   {
    "duration": 755,
    "start_time": "2021-09-07T18:08:27.718Z"
   },
   {
    "duration": 296,
    "start_time": "2021-09-07T18:08:28.476Z"
   },
   {
    "duration": 7,
    "start_time": "2021-09-07T18:08:34.503Z"
   },
   {
    "duration": 691,
    "start_time": "2021-09-07T18:08:40.684Z"
   },
   {
    "duration": 7,
    "start_time": "2021-09-07T18:08:41.377Z"
   },
   {
    "duration": 691,
    "start_time": "2021-09-07T18:09:24.413Z"
   },
   {
    "duration": 6,
    "start_time": "2021-09-07T18:09:25.107Z"
   },
   {
    "duration": 700,
    "start_time": "2021-09-07T18:09:38.595Z"
   },
   {
    "duration": 704,
    "start_time": "2021-09-07T18:10:42.499Z"
   },
   {
    "duration": 4,
    "start_time": "2021-09-07T18:10:43.429Z"
   },
   {
    "duration": 733,
    "start_time": "2021-09-07T18:10:53.253Z"
   },
   {
    "duration": 692,
    "start_time": "2021-09-07T18:11:40.260Z"
   },
   {
    "duration": 6,
    "start_time": "2021-09-07T18:11:42.128Z"
   },
   {
    "duration": 4,
    "start_time": "2021-09-07T18:11:52.178Z"
   },
   {
    "duration": 5,
    "start_time": "2021-09-07T18:12:25.212Z"
   },
   {
    "duration": 4,
    "start_time": "2021-09-07T18:36:41.020Z"
   },
   {
    "duration": 5,
    "start_time": "2021-09-07T18:36:52.904Z"
   },
   {
    "duration": 3,
    "start_time": "2021-09-07T18:37:04.141Z"
   },
   {
    "duration": 3,
    "start_time": "2021-09-07T18:42:03.994Z"
   },
   {
    "duration": 4,
    "start_time": "2021-09-07T18:42:07.595Z"
   },
   {
    "duration": 283,
    "start_time": "2021-09-07T18:42:11.721Z"
   },
   {
    "duration": 3,
    "start_time": "2021-09-07T18:42:23.624Z"
   },
   {
    "duration": 4,
    "start_time": "2021-09-07T18:42:48.277Z"
   },
   {
    "duration": 4,
    "start_time": "2021-09-07T18:43:03.828Z"
   },
   {
    "duration": 5,
    "start_time": "2021-09-07T18:43:25.686Z"
   },
   {
    "duration": 4,
    "start_time": "2021-09-07T18:43:31.245Z"
   },
   {
    "duration": 4,
    "start_time": "2021-09-07T18:43:38.139Z"
   },
   {
    "duration": 20,
    "start_time": "2021-09-07T18:45:43.572Z"
   },
   {
    "duration": 19,
    "start_time": "2021-09-07T18:46:06.246Z"
   },
   {
    "duration": 11,
    "start_time": "2021-09-07T19:03:10.760Z"
   },
   {
    "duration": 11,
    "start_time": "2021-09-07T19:03:37.618Z"
   },
   {
    "duration": 5,
    "start_time": "2021-09-07T19:03:40.974Z"
   },
   {
    "duration": 12,
    "start_time": "2021-09-07T19:03:55.415Z"
   },
   {
    "duration": 13,
    "start_time": "2021-09-07T19:03:58.342Z"
   },
   {
    "duration": 5,
    "start_time": "2021-09-07T19:03:58.874Z"
   },
   {
    "duration": 256,
    "start_time": "2021-09-07T19:04:08.457Z"
   },
   {
    "duration": 4,
    "start_time": "2021-09-07T19:04:08.941Z"
   },
   {
    "duration": 261,
    "start_time": "2021-09-07T19:04:26.518Z"
   },
   {
    "duration": 4,
    "start_time": "2021-09-07T19:04:26.889Z"
   },
   {
    "duration": 13,
    "start_time": "2021-09-07T19:06:15.068Z"
   },
   {
    "duration": 4,
    "start_time": "2021-09-07T19:06:15.456Z"
   },
   {
    "duration": 14,
    "start_time": "2021-09-07T19:06:34.642Z"
   },
   {
    "duration": 4,
    "start_time": "2021-09-07T19:06:36.465Z"
   },
   {
    "duration": 322,
    "start_time": "2021-09-07T19:12:39.342Z"
   },
   {
    "duration": 14,
    "start_time": "2021-09-07T19:12:48.464Z"
   },
   {
    "duration": 4,
    "start_time": "2021-09-07T19:12:48.737Z"
   },
   {
    "duration": 10,
    "start_time": "2021-09-07T19:12:58.725Z"
   },
   {
    "duration": 5,
    "start_time": "2021-09-07T19:12:59.164Z"
   },
   {
    "duration": 84,
    "start_time": "2021-09-07T19:12:59.843Z"
   },
   {
    "duration": 2,
    "start_time": "2021-09-07T19:13:06.451Z"
   },
   {
    "duration": 12,
    "start_time": "2021-09-07T19:13:07.123Z"
   },
   {
    "duration": 4,
    "start_time": "2021-09-07T19:13:07.757Z"
   },
   {
    "duration": 3,
    "start_time": "2021-09-07T19:13:10.342Z"
   },
   {
    "duration": 11,
    "start_time": "2021-09-07T19:13:44.886Z"
   },
   {
    "duration": 5,
    "start_time": "2021-09-07T19:13:47.971Z"
   },
   {
    "duration": 14,
    "start_time": "2021-09-07T19:13:58.520Z"
   },
   {
    "duration": 4,
    "start_time": "2021-09-07T19:13:59.451Z"
   },
   {
    "duration": 14,
    "start_time": "2021-09-07T19:14:08.179Z"
   },
   {
    "duration": 3,
    "start_time": "2021-09-07T19:14:09.002Z"
   },
   {
    "duration": 3,
    "start_time": "2021-09-07T19:14:12.788Z"
   },
   {
    "duration": 4,
    "start_time": "2021-09-07T19:14:17.020Z"
   },
   {
    "duration": 3,
    "start_time": "2021-09-07T19:14:48.738Z"
   },
   {
    "duration": 4,
    "start_time": "2021-09-07T19:14:49.398Z"
   },
   {
    "duration": 97,
    "start_time": "2021-09-07T19:18:10.912Z"
   },
   {
    "duration": 3,
    "start_time": "2021-09-07T19:19:01.639Z"
   },
   {
    "duration": 10,
    "start_time": "2021-09-07T19:19:02.094Z"
   },
   {
    "duration": 2,
    "start_time": "2021-09-07T19:19:14.007Z"
   },
   {
    "duration": 11,
    "start_time": "2021-09-07T19:19:39.890Z"
   },
   {
    "duration": 3,
    "start_time": "2021-09-07T19:19:40.887Z"
   },
   {
    "duration": 84,
    "start_time": "2021-09-07T19:26:50.289Z"
   },
   {
    "duration": 4,
    "start_time": "2021-09-07T19:26:57.471Z"
   },
   {
    "duration": 519,
    "start_time": "2021-09-07T19:26:58.070Z"
   },
   {
    "duration": 4,
    "start_time": "2021-09-07T19:27:26.710Z"
   },
   {
    "duration": 11,
    "start_time": "2021-09-07T19:27:27.207Z"
   },
   {
    "duration": 21,
    "start_time": "2021-09-07T19:27:30.971Z"
   },
   {
    "duration": 86,
    "start_time": "2021-09-07T19:29:01.624Z"
   },
   {
    "duration": 3,
    "start_time": "2021-09-07T19:31:28.573Z"
   },
   {
    "duration": 508,
    "start_time": "2021-09-07T19:31:29.352Z"
   },
   {
    "duration": 3,
    "start_time": "2021-09-07T19:31:37.098Z"
   },
   {
    "duration": 1213,
    "start_time": "2021-09-07T19:31:37.583Z"
   },
   {
    "duration": 3,
    "start_time": "2021-09-07T19:31:41.334Z"
   },
   {
    "duration": 2,
    "start_time": "2021-09-07T19:31:48.180Z"
   },
   {
    "duration": 493,
    "start_time": "2021-09-07T19:31:49.015Z"
   },
   {
    "duration": 3,
    "start_time": "2021-09-07T19:32:52.907Z"
   },
   {
    "duration": 505,
    "start_time": "2021-09-07T19:32:53.426Z"
   },
   {
    "duration": 3,
    "start_time": "2021-09-07T19:33:00.029Z"
   },
   {
    "duration": 67,
    "start_time": "2021-09-07T19:33:00.034Z"
   },
   {
    "duration": 12,
    "start_time": "2021-09-07T19:33:00.104Z"
   },
   {
    "duration": 9,
    "start_time": "2021-09-07T19:33:00.118Z"
   },
   {
    "duration": 18,
    "start_time": "2021-09-07T19:33:00.129Z"
   },
   {
    "duration": 11,
    "start_time": "2021-09-07T19:33:00.148Z"
   },
   {
    "duration": 15,
    "start_time": "2021-09-07T19:33:00.162Z"
   },
   {
    "duration": 10,
    "start_time": "2021-09-07T19:33:00.179Z"
   },
   {
    "duration": 15,
    "start_time": "2021-09-07T19:33:00.190Z"
   },
   {
    "duration": 17,
    "start_time": "2021-09-07T19:33:00.207Z"
   },
   {
    "duration": 19,
    "start_time": "2021-09-07T19:33:00.225Z"
   },
   {
    "duration": 6,
    "start_time": "2021-09-07T19:33:00.245Z"
   },
   {
    "duration": 10,
    "start_time": "2021-09-07T19:33:00.253Z"
   },
   {
    "duration": 16,
    "start_time": "2021-09-07T19:33:00.264Z"
   },
   {
    "duration": 28,
    "start_time": "2021-09-07T19:33:00.281Z"
   },
   {
    "duration": 24,
    "start_time": "2021-09-07T19:33:00.311Z"
   },
   {
    "duration": 41,
    "start_time": "2021-09-07T19:33:00.337Z"
   },
   {
    "duration": 5,
    "start_time": "2021-09-07T19:33:00.380Z"
   },
   {
    "duration": 30,
    "start_time": "2021-09-07T19:33:00.390Z"
   },
   {
    "duration": 13,
    "start_time": "2021-09-07T19:33:00.423Z"
   },
   {
    "duration": 345,
    "start_time": "2021-09-07T19:33:00.438Z"
   },
   {
    "duration": 5,
    "start_time": "2021-09-07T19:33:00.784Z"
   },
   {
    "duration": 26,
    "start_time": "2021-09-07T19:33:00.791Z"
   },
   {
    "duration": 18,
    "start_time": "2021-09-07T19:33:00.819Z"
   },
   {
    "duration": 32,
    "start_time": "2021-09-07T19:33:00.838Z"
   },
   {
    "duration": 21,
    "start_time": "2021-09-07T19:33:00.871Z"
   },
   {
    "duration": 27,
    "start_time": "2021-09-07T19:33:00.893Z"
   },
   {
    "duration": 34,
    "start_time": "2021-09-07T19:33:00.921Z"
   },
   {
    "duration": 23,
    "start_time": "2021-09-07T19:33:00.957Z"
   },
   {
    "duration": 26,
    "start_time": "2021-09-07T19:33:00.981Z"
   },
   {
    "duration": 25,
    "start_time": "2021-09-07T19:33:01.009Z"
   },
   {
    "duration": 38,
    "start_time": "2021-09-07T19:33:01.036Z"
   },
   {
    "duration": 25,
    "start_time": "2021-09-07T19:33:01.076Z"
   },
   {
    "duration": 55,
    "start_time": "2021-09-07T19:33:01.104Z"
   },
   {
    "duration": 6,
    "start_time": "2021-09-07T19:33:01.161Z"
   },
   {
    "duration": 42,
    "start_time": "2021-09-07T19:33:01.169Z"
   },
   {
    "duration": 36,
    "start_time": "2021-09-07T19:33:01.213Z"
   },
   {
    "duration": 5,
    "start_time": "2021-09-07T19:33:01.251Z"
   },
   {
    "duration": 39,
    "start_time": "2021-09-07T19:33:01.257Z"
   },
   {
    "duration": 656,
    "start_time": "2021-09-07T19:33:01.297Z"
   },
   {
    "duration": 5,
    "start_time": "2021-09-07T19:33:01.955Z"
   },
   {
    "duration": 28,
    "start_time": "2021-09-07T19:33:01.962Z"
   },
   {
    "duration": 35,
    "start_time": "2021-09-07T19:33:01.991Z"
   },
   {
    "duration": 41,
    "start_time": "2021-09-07T19:33:02.028Z"
   },
   {
    "duration": 4,
    "start_time": "2021-09-07T19:33:02.070Z"
   },
   {
    "duration": 597,
    "start_time": "2021-09-07T19:33:02.075Z"
   },
   {
    "duration": 3,
    "start_time": "2021-09-07T19:34:07.917Z"
   },
   {
    "duration": 1185,
    "start_time": "2021-09-07T19:34:08.619Z"
   },
   {
    "duration": 19,
    "start_time": "2021-09-07T19:34:11.637Z"
   },
   {
    "duration": 3,
    "start_time": "2021-09-07T19:34:19.883Z"
   },
   {
    "duration": 1889,
    "start_time": "2021-09-07T19:34:20.476Z"
   },
   {
    "duration": 17,
    "start_time": "2021-09-07T19:34:24.531Z"
   },
   {
    "duration": 3,
    "start_time": "2021-09-07T19:34:32.801Z"
   },
   {
    "duration": 1178,
    "start_time": "2021-09-07T19:34:41.149Z"
   },
   {
    "duration": 16,
    "start_time": "2021-09-07T19:34:43.036Z"
   },
   {
    "duration": 89,
    "start_time": "2021-09-07T19:35:23.729Z"
   },
   {
    "duration": 3,
    "start_time": "2021-09-07T19:35:36.090Z"
   },
   {
    "duration": 1235,
    "start_time": "2021-09-07T19:35:36.809Z"
   },
   {
    "duration": 17,
    "start_time": "2021-09-07T19:35:38.695Z"
   },
   {
    "duration": 3,
    "start_time": "2021-09-07T19:37:08.950Z"
   },
   {
    "duration": 1280,
    "start_time": "2021-09-07T19:37:09.704Z"
   },
   {
    "duration": 21,
    "start_time": "2021-09-07T19:37:11.593Z"
   },
   {
    "duration": 29,
    "start_time": "2021-09-07T19:38:48.490Z"
   },
   {
    "duration": 3,
    "start_time": "2021-09-07T19:38:52.988Z"
   },
   {
    "duration": 59,
    "start_time": "2021-09-07T19:38:52.992Z"
   },
   {
    "duration": 11,
    "start_time": "2021-09-07T19:38:53.053Z"
   },
   {
    "duration": 18,
    "start_time": "2021-09-07T19:38:53.066Z"
   },
   {
    "duration": 23,
    "start_time": "2021-09-07T19:38:53.085Z"
   },
   {
    "duration": 37,
    "start_time": "2021-09-07T19:38:53.110Z"
   },
   {
    "duration": 7,
    "start_time": "2021-09-07T19:38:53.149Z"
   },
   {
    "duration": 18,
    "start_time": "2021-09-07T19:38:53.158Z"
   },
   {
    "duration": 13,
    "start_time": "2021-09-07T19:38:53.178Z"
   },
   {
    "duration": 15,
    "start_time": "2021-09-07T19:38:53.192Z"
   },
   {
    "duration": 19,
    "start_time": "2021-09-07T19:38:53.208Z"
   },
   {
    "duration": 23,
    "start_time": "2021-09-07T19:38:53.229Z"
   },
   {
    "duration": 18,
    "start_time": "2021-09-07T19:38:53.253Z"
   },
   {
    "duration": 16,
    "start_time": "2021-09-07T19:38:53.272Z"
   },
   {
    "duration": 13,
    "start_time": "2021-09-07T19:38:53.290Z"
   },
   {
    "duration": 14,
    "start_time": "2021-09-07T19:38:53.305Z"
   },
   {
    "duration": 4,
    "start_time": "2021-09-07T19:38:53.321Z"
   },
   {
    "duration": 14,
    "start_time": "2021-09-07T19:38:53.327Z"
   },
   {
    "duration": 3,
    "start_time": "2021-09-07T19:38:53.345Z"
   },
   {
    "duration": 24,
    "start_time": "2021-09-07T19:38:53.350Z"
   },
   {
    "duration": 3,
    "start_time": "2021-09-07T19:38:53.375Z"
   },
   {
    "duration": 344,
    "start_time": "2021-09-07T19:38:53.379Z"
   },
   {
    "duration": 4,
    "start_time": "2021-09-07T19:38:53.725Z"
   },
   {
    "duration": 10,
    "start_time": "2021-09-07T19:38:53.731Z"
   },
   {
    "duration": 13,
    "start_time": "2021-09-07T19:38:53.743Z"
   },
   {
    "duration": 7,
    "start_time": "2021-09-07T19:38:53.757Z"
   },
   {
    "duration": 13,
    "start_time": "2021-09-07T19:38:53.765Z"
   },
   {
    "duration": 12,
    "start_time": "2021-09-07T19:38:53.779Z"
   },
   {
    "duration": 10,
    "start_time": "2021-09-07T19:38:53.793Z"
   },
   {
    "duration": 9,
    "start_time": "2021-09-07T19:38:53.805Z"
   },
   {
    "duration": 29,
    "start_time": "2021-09-07T19:38:53.815Z"
   },
   {
    "duration": 10,
    "start_time": "2021-09-07T19:38:53.845Z"
   },
   {
    "duration": 11,
    "start_time": "2021-09-07T19:38:53.857Z"
   },
   {
    "duration": 16,
    "start_time": "2021-09-07T19:38:53.870Z"
   },
   {
    "duration": 56,
    "start_time": "2021-09-07T19:38:53.888Z"
   },
   {
    "duration": 6,
    "start_time": "2021-09-07T19:38:53.946Z"
   },
   {
    "duration": 20,
    "start_time": "2021-09-07T19:38:53.954Z"
   },
   {
    "duration": 26,
    "start_time": "2021-09-07T19:38:53.975Z"
   },
   {
    "duration": 5,
    "start_time": "2021-09-07T19:38:54.003Z"
   },
   {
    "duration": 52,
    "start_time": "2021-09-07T19:38:54.009Z"
   },
   {
    "duration": 661,
    "start_time": "2021-09-07T19:38:54.062Z"
   },
   {
    "duration": 5,
    "start_time": "2021-09-07T19:38:54.725Z"
   },
   {
    "duration": 21,
    "start_time": "2021-09-07T19:38:54.731Z"
   },
   {
    "duration": 26,
    "start_time": "2021-09-07T19:38:54.753Z"
   },
   {
    "duration": 41,
    "start_time": "2021-09-07T19:38:54.780Z"
   },
   {
    "duration": 5,
    "start_time": "2021-09-07T19:38:54.822Z"
   },
   {
    "duration": 1202,
    "start_time": "2021-09-07T19:38:54.828Z"
   },
   {
    "duration": 23,
    "start_time": "2021-09-07T19:38:56.032Z"
   },
   {
    "duration": 5,
    "start_time": "2021-09-07T19:41:20.751Z"
   },
   {
    "duration": 351,
    "start_time": "2021-09-07T19:41:21.928Z"
   },
   {
    "duration": 6,
    "start_time": "2021-09-07T19:41:23.686Z"
   },
   {
    "duration": 13,
    "start_time": "2021-09-07T19:41:32.554Z"
   },
   {
    "duration": 9,
    "start_time": "2021-09-07T19:41:34.293Z"
   },
   {
    "duration": 8,
    "start_time": "2021-09-07T20:23:51.470Z"
   },
   {
    "duration": 88,
    "start_time": "2021-09-07T20:24:53.188Z"
   },
   {
    "duration": 16,
    "start_time": "2021-09-07T20:27:07.427Z"
   },
   {
    "duration": 10,
    "start_time": "2021-09-07T20:29:38.313Z"
   },
   {
    "duration": 30,
    "start_time": "2021-09-07T20:31:44.971Z"
   },
   {
    "duration": 271,
    "start_time": "2021-09-07T20:32:27.247Z"
   },
   {
    "duration": 17,
    "start_time": "2021-09-07T20:32:30.711Z"
   },
   {
    "duration": 7,
    "start_time": "2021-09-07T20:32:52.929Z"
   },
   {
    "duration": 29,
    "start_time": "2021-09-07T20:33:00.169Z"
   },
   {
    "duration": 10,
    "start_time": "2021-09-07T20:33:43.800Z"
   },
   {
    "duration": 11,
    "start_time": "2021-09-07T20:33:50.502Z"
   },
   {
    "duration": 229,
    "start_time": "2021-09-08T07:28:17.102Z"
   },
   {
    "duration": 513,
    "start_time": "2021-09-08T07:28:20.825Z"
   },
   {
    "duration": 48,
    "start_time": "2021-09-08T07:28:21.339Z"
   },
   {
    "duration": 19,
    "start_time": "2021-09-08T07:28:21.388Z"
   },
   {
    "duration": 6,
    "start_time": "2021-09-08T07:28:21.408Z"
   },
   {
    "duration": 11,
    "start_time": "2021-09-08T07:28:21.415Z"
   },
   {
    "duration": 30,
    "start_time": "2021-09-08T07:28:21.428Z"
   },
   {
    "duration": 29,
    "start_time": "2021-09-08T07:28:21.460Z"
   },
   {
    "duration": 11,
    "start_time": "2021-09-08T07:28:21.492Z"
   },
   {
    "duration": 5,
    "start_time": "2021-09-08T07:28:21.505Z"
   },
   {
    "duration": 8,
    "start_time": "2021-09-08T07:28:21.512Z"
   },
   {
    "duration": 16,
    "start_time": "2021-09-08T07:28:21.521Z"
   },
   {
    "duration": 8,
    "start_time": "2021-09-08T07:28:21.538Z"
   },
   {
    "duration": 7,
    "start_time": "2021-09-08T07:28:21.547Z"
   },
   {
    "duration": 9,
    "start_time": "2021-09-08T07:28:21.556Z"
   },
   {
    "duration": 11,
    "start_time": "2021-09-08T07:28:21.585Z"
   },
   {
    "duration": 12,
    "start_time": "2021-09-08T07:28:21.598Z"
   },
   {
    "duration": 5,
    "start_time": "2021-09-08T07:28:21.611Z"
   },
   {
    "duration": 12,
    "start_time": "2021-09-08T07:28:21.617Z"
   },
   {
    "duration": 3,
    "start_time": "2021-09-08T07:28:21.630Z"
   },
   {
    "duration": 17,
    "start_time": "2021-09-08T07:28:21.634Z"
   },
   {
    "duration": 32,
    "start_time": "2021-09-08T07:28:21.652Z"
   },
   {
    "duration": 337,
    "start_time": "2021-09-08T07:28:21.686Z"
   },
   {
    "duration": 4,
    "start_time": "2021-09-08T07:28:22.027Z"
   },
   {
    "duration": 8,
    "start_time": "2021-09-08T07:28:22.033Z"
   },
   {
    "duration": 7,
    "start_time": "2021-09-08T07:28:22.042Z"
   },
   {
    "duration": 16,
    "start_time": "2021-09-08T07:28:22.051Z"
   },
   {
    "duration": 6,
    "start_time": "2021-09-08T07:28:22.085Z"
   },
   {
    "duration": 13,
    "start_time": "2021-09-08T07:28:22.093Z"
   },
   {
    "duration": 8,
    "start_time": "2021-09-08T07:28:22.108Z"
   },
   {
    "duration": 8,
    "start_time": "2021-09-08T07:28:22.118Z"
   },
   {
    "duration": 9,
    "start_time": "2021-09-08T07:28:22.127Z"
   },
   {
    "duration": 7,
    "start_time": "2021-09-08T07:28:22.138Z"
   },
   {
    "duration": 7,
    "start_time": "2021-09-08T07:28:22.146Z"
   },
   {
    "duration": 37,
    "start_time": "2021-09-08T07:28:22.155Z"
   },
   {
    "duration": 20,
    "start_time": "2021-09-08T07:28:22.194Z"
   },
   {
    "duration": 40,
    "start_time": "2021-09-08T07:28:22.216Z"
   },
   {
    "duration": 7,
    "start_time": "2021-09-08T07:28:22.258Z"
   },
   {
    "duration": 26,
    "start_time": "2021-09-08T07:28:22.266Z"
   },
   {
    "duration": 27,
    "start_time": "2021-09-08T07:28:22.294Z"
   },
   {
    "duration": 6,
    "start_time": "2021-09-08T07:28:22.322Z"
   },
   {
    "duration": 3,
    "start_time": "2021-09-08T07:28:22.330Z"
   },
   {
    "duration": 657,
    "start_time": "2021-09-08T07:28:22.335Z"
   },
   {
    "duration": 6,
    "start_time": "2021-09-08T07:28:22.994Z"
   },
   {
    "duration": 4,
    "start_time": "2021-09-08T07:28:23.002Z"
   },
   {
    "duration": 5,
    "start_time": "2021-09-08T07:28:23.008Z"
   },
   {
    "duration": 14,
    "start_time": "2021-09-08T07:28:23.015Z"
   },
   {
    "duration": 3,
    "start_time": "2021-09-08T07:28:23.030Z"
   },
   {
    "duration": 1250,
    "start_time": "2021-09-08T07:28:23.035Z"
   },
   {
    "duration": 8,
    "start_time": "2021-09-08T07:28:24.286Z"
   },
   {
    "duration": 20,
    "start_time": "2021-09-08T07:28:24.296Z"
   },
   {
    "duration": 10,
    "start_time": "2021-09-08T07:28:24.317Z"
   },
   {
    "duration": 6,
    "start_time": "2021-09-08T07:28:24.328Z"
   },
   {
    "duration": 56,
    "start_time": "2021-09-08T07:28:24.335Z"
   },
   {
    "duration": 13,
    "start_time": "2021-09-08T07:29:11.198Z"
   },
   {
    "duration": 7,
    "start_time": "2021-09-08T07:29:12.002Z"
   },
   {
    "duration": 2,
    "start_time": "2021-09-08T07:29:16.712Z"
   },
   {
    "duration": 53,
    "start_time": "2021-09-08T07:29:16.716Z"
   },
   {
    "duration": 12,
    "start_time": "2021-09-08T07:29:16.770Z"
   },
   {
    "duration": 5,
    "start_time": "2021-09-08T07:29:16.784Z"
   },
   {
    "duration": 12,
    "start_time": "2021-09-08T07:29:16.791Z"
   },
   {
    "duration": 30,
    "start_time": "2021-09-08T07:29:16.805Z"
   },
   {
    "duration": 7,
    "start_time": "2021-09-08T07:29:16.837Z"
   },
   {
    "duration": 43,
    "start_time": "2021-09-08T07:29:16.845Z"
   },
   {
    "duration": 7,
    "start_time": "2021-09-08T07:29:16.890Z"
   },
   {
    "duration": 8,
    "start_time": "2021-09-08T07:29:16.898Z"
   },
   {
    "duration": 9,
    "start_time": "2021-09-08T07:29:16.907Z"
   },
   {
    "duration": 10,
    "start_time": "2021-09-08T07:29:16.918Z"
   },
   {
    "duration": 8,
    "start_time": "2021-09-08T07:29:16.930Z"
   },
   {
    "duration": 9,
    "start_time": "2021-09-08T07:29:16.939Z"
   },
   {
    "duration": 12,
    "start_time": "2021-09-08T07:29:16.950Z"
   },
   {
    "duration": 31,
    "start_time": "2021-09-08T07:29:16.963Z"
   },
   {
    "duration": 5,
    "start_time": "2021-09-08T07:29:16.995Z"
   },
   {
    "duration": 13,
    "start_time": "2021-09-08T07:29:17.001Z"
   },
   {
    "duration": 4,
    "start_time": "2021-09-08T07:29:17.017Z"
   },
   {
    "duration": 17,
    "start_time": "2021-09-08T07:29:17.023Z"
   },
   {
    "duration": 3,
    "start_time": "2021-09-08T07:29:17.041Z"
   },
   {
    "duration": 350,
    "start_time": "2021-09-08T07:29:17.045Z"
   },
   {
    "duration": 5,
    "start_time": "2021-09-08T07:29:17.396Z"
   },
   {
    "duration": 15,
    "start_time": "2021-09-08T07:29:17.403Z"
   },
   {
    "duration": 21,
    "start_time": "2021-09-08T07:29:17.420Z"
   },
   {
    "duration": 21,
    "start_time": "2021-09-08T07:29:17.442Z"
   },
   {
    "duration": 6,
    "start_time": "2021-09-08T07:29:17.464Z"
   },
   {
    "duration": 16,
    "start_time": "2021-09-08T07:29:17.471Z"
   },
   {
    "duration": 6,
    "start_time": "2021-09-08T07:29:17.488Z"
   },
   {
    "duration": 7,
    "start_time": "2021-09-08T07:29:17.495Z"
   },
   {
    "duration": 9,
    "start_time": "2021-09-08T07:29:17.504Z"
   },
   {
    "duration": 7,
    "start_time": "2021-09-08T07:29:17.514Z"
   },
   {
    "duration": 8,
    "start_time": "2021-09-08T07:29:17.522Z"
   },
   {
    "duration": 7,
    "start_time": "2021-09-08T07:29:17.532Z"
   },
   {
    "duration": 12,
    "start_time": "2021-09-08T07:29:17.540Z"
   },
   {
    "duration": 37,
    "start_time": "2021-09-08T07:29:17.585Z"
   },
   {
    "duration": 7,
    "start_time": "2021-09-08T07:29:17.623Z"
   },
   {
    "duration": 17,
    "start_time": "2021-09-08T07:29:17.631Z"
   },
   {
    "duration": 45,
    "start_time": "2021-09-08T07:29:17.649Z"
   },
   {
    "duration": 5,
    "start_time": "2021-09-08T07:29:17.695Z"
   },
   {
    "duration": 18,
    "start_time": "2021-09-08T07:29:17.701Z"
   },
   {
    "duration": 677,
    "start_time": "2021-09-08T07:29:17.721Z"
   },
   {
    "duration": 5,
    "start_time": "2021-09-08T07:29:18.400Z"
   },
   {
    "duration": 6,
    "start_time": "2021-09-08T07:29:18.406Z"
   },
   {
    "duration": 6,
    "start_time": "2021-09-08T07:29:18.413Z"
   },
   {
    "duration": 18,
    "start_time": "2021-09-08T07:29:18.421Z"
   },
   {
    "duration": 3,
    "start_time": "2021-09-08T07:29:18.440Z"
   },
   {
    "duration": 1214,
    "start_time": "2021-09-08T07:29:18.445Z"
   },
   {
    "duration": 7,
    "start_time": "2021-09-08T07:29:19.661Z"
   },
   {
    "duration": 27,
    "start_time": "2021-09-08T07:29:19.670Z"
   },
   {
    "duration": 9,
    "start_time": "2021-09-08T07:29:19.699Z"
   },
   {
    "duration": 5,
    "start_time": "2021-09-08T07:29:19.710Z"
   },
   {
    "duration": 29,
    "start_time": "2021-09-08T07:29:19.717Z"
   },
   {
    "duration": 11,
    "start_time": "2021-09-08T07:29:31.804Z"
   },
   {
    "duration": 8,
    "start_time": "2021-09-08T07:29:32.131Z"
   },
   {
    "duration": 2,
    "start_time": "2021-09-08T07:29:35.979Z"
   },
   {
    "duration": 55,
    "start_time": "2021-09-08T07:29:35.983Z"
   },
   {
    "duration": 13,
    "start_time": "2021-09-08T07:29:36.039Z"
   },
   {
    "duration": 10,
    "start_time": "2021-09-08T07:29:36.054Z"
   },
   {
    "duration": 26,
    "start_time": "2021-09-08T07:29:36.065Z"
   },
   {
    "duration": 31,
    "start_time": "2021-09-08T07:29:36.092Z"
   },
   {
    "duration": 6,
    "start_time": "2021-09-08T07:29:36.126Z"
   },
   {
    "duration": 11,
    "start_time": "2021-09-08T07:29:36.134Z"
   },
   {
    "duration": 38,
    "start_time": "2021-09-08T07:29:36.147Z"
   },
   {
    "duration": 4,
    "start_time": "2021-09-08T07:29:36.186Z"
   },
   {
    "duration": 17,
    "start_time": "2021-09-08T07:29:36.191Z"
   },
   {
    "duration": 7,
    "start_time": "2021-09-08T07:29:36.210Z"
   },
   {
    "duration": 5,
    "start_time": "2021-09-08T07:29:36.218Z"
   },
   {
    "duration": 7,
    "start_time": "2021-09-08T07:29:36.224Z"
   },
   {
    "duration": 14,
    "start_time": "2021-09-08T07:29:36.233Z"
   },
   {
    "duration": 27,
    "start_time": "2021-09-08T07:29:36.248Z"
   },
   {
    "duration": 11,
    "start_time": "2021-09-08T07:29:36.276Z"
   },
   {
    "duration": 16,
    "start_time": "2021-09-08T07:29:36.289Z"
   },
   {
    "duration": 3,
    "start_time": "2021-09-08T07:29:36.309Z"
   },
   {
    "duration": 17,
    "start_time": "2021-09-08T07:29:36.314Z"
   },
   {
    "duration": 4,
    "start_time": "2021-09-08T07:29:36.333Z"
   },
   {
    "duration": 352,
    "start_time": "2021-09-08T07:29:36.338Z"
   },
   {
    "duration": 5,
    "start_time": "2021-09-08T07:29:36.691Z"
   },
   {
    "duration": 11,
    "start_time": "2021-09-08T07:29:36.698Z"
   },
   {
    "duration": 5,
    "start_time": "2021-09-08T07:29:36.711Z"
   },
   {
    "duration": 20,
    "start_time": "2021-09-08T07:29:36.717Z"
   },
   {
    "duration": 6,
    "start_time": "2021-09-08T07:29:36.738Z"
   },
   {
    "duration": 14,
    "start_time": "2021-09-08T07:29:36.746Z"
   },
   {
    "duration": 29,
    "start_time": "2021-09-08T07:29:36.762Z"
   },
   {
    "duration": 9,
    "start_time": "2021-09-08T07:29:36.792Z"
   },
   {
    "duration": 8,
    "start_time": "2021-09-08T07:29:36.802Z"
   },
   {
    "duration": 6,
    "start_time": "2021-09-08T07:29:36.811Z"
   },
   {
    "duration": 8,
    "start_time": "2021-09-08T07:29:36.819Z"
   },
   {
    "duration": 9,
    "start_time": "2021-09-08T07:29:36.828Z"
   },
   {
    "duration": 13,
    "start_time": "2021-09-08T07:29:36.838Z"
   },
   {
    "duration": 63,
    "start_time": "2021-09-08T07:29:36.853Z"
   },
   {
    "duration": 7,
    "start_time": "2021-09-08T07:29:36.917Z"
   },
   {
    "duration": 18,
    "start_time": "2021-09-08T07:29:36.925Z"
   },
   {
    "duration": 41,
    "start_time": "2021-09-08T07:29:36.944Z"
   },
   {
    "duration": 5,
    "start_time": "2021-09-08T07:29:36.987Z"
   },
   {
    "duration": 18,
    "start_time": "2021-09-08T07:29:36.994Z"
   },
   {
    "duration": 645,
    "start_time": "2021-09-08T07:29:37.014Z"
   },
   {
    "duration": 4,
    "start_time": "2021-09-08T07:29:37.662Z"
   },
   {
    "duration": 5,
    "start_time": "2021-09-08T07:29:37.668Z"
   },
   {
    "duration": 12,
    "start_time": "2021-09-08T07:29:37.675Z"
   },
   {
    "duration": 12,
    "start_time": "2021-09-08T07:29:37.688Z"
   },
   {
    "duration": 3,
    "start_time": "2021-09-08T07:29:37.701Z"
   },
   {
    "duration": 1250,
    "start_time": "2021-09-08T07:29:37.705Z"
   },
   {
    "duration": 8,
    "start_time": "2021-09-08T07:29:38.957Z"
   },
   {
    "duration": 31,
    "start_time": "2021-09-08T07:29:38.966Z"
   },
   {
    "duration": 11,
    "start_time": "2021-09-08T07:29:38.999Z"
   },
   {
    "duration": 5,
    "start_time": "2021-09-08T07:29:39.011Z"
   },
   {
    "duration": 33,
    "start_time": "2021-09-08T07:29:39.018Z"
   },
   {
    "duration": 3,
    "start_time": "2021-09-08T07:49:42.519Z"
   },
   {
    "duration": 63,
    "start_time": "2021-09-08T07:49:42.524Z"
   },
   {
    "duration": 14,
    "start_time": "2021-09-08T07:49:42.589Z"
   },
   {
    "duration": 18,
    "start_time": "2021-09-08T07:49:42.605Z"
   },
   {
    "duration": 18,
    "start_time": "2021-09-08T07:49:42.624Z"
   },
   {
    "duration": 48,
    "start_time": "2021-09-08T07:49:42.643Z"
   },
   {
    "duration": 6,
    "start_time": "2021-09-08T07:49:42.694Z"
   },
   {
    "duration": 21,
    "start_time": "2021-09-08T07:49:42.702Z"
   },
   {
    "duration": 13,
    "start_time": "2021-09-08T07:49:42.725Z"
   },
   {
    "duration": 10,
    "start_time": "2021-09-08T07:49:42.740Z"
   },
   {
    "duration": 14,
    "start_time": "2021-09-08T07:49:42.751Z"
   },
   {
    "duration": 18,
    "start_time": "2021-09-08T07:49:42.766Z"
   },
   {
    "duration": 10,
    "start_time": "2021-09-08T07:49:42.785Z"
   },
   {
    "duration": 10,
    "start_time": "2021-09-08T07:49:42.797Z"
   },
   {
    "duration": 12,
    "start_time": "2021-09-08T07:49:42.809Z"
   },
   {
    "duration": 15,
    "start_time": "2021-09-08T07:49:42.822Z"
   },
   {
    "duration": 6,
    "start_time": "2021-09-08T07:49:42.838Z"
   },
   {
    "duration": 14,
    "start_time": "2021-09-08T07:49:42.845Z"
   },
   {
    "duration": 24,
    "start_time": "2021-09-08T07:49:42.862Z"
   },
   {
    "duration": 29,
    "start_time": "2021-09-08T07:49:42.889Z"
   },
   {
    "duration": 5,
    "start_time": "2021-09-08T07:49:42.920Z"
   },
   {
    "duration": 328,
    "start_time": "2021-09-08T07:49:42.927Z"
   },
   {
    "duration": 6,
    "start_time": "2021-09-08T07:49:43.257Z"
   },
   {
    "duration": 7,
    "start_time": "2021-09-08T07:49:43.265Z"
   },
   {
    "duration": 9,
    "start_time": "2021-09-08T07:49:43.285Z"
   },
   {
    "duration": 18,
    "start_time": "2021-09-08T07:49:43.295Z"
   },
   {
    "duration": 7,
    "start_time": "2021-09-08T07:49:43.315Z"
   },
   {
    "duration": 4,
    "start_time": "2021-09-08T07:49:43.324Z"
   },
   {
    "duration": 217,
    "start_time": "2021-09-08T07:49:43.329Z"
   },
   {
    "duration": -13,
    "start_time": "2021-09-08T07:49:43.561Z"
   },
   {
    "duration": -14,
    "start_time": "2021-09-08T07:49:43.564Z"
   },
   {
    "duration": -16,
    "start_time": "2021-09-08T07:49:43.567Z"
   },
   {
    "duration": -17,
    "start_time": "2021-09-08T07:49:43.570Z"
   },
   {
    "duration": -29,
    "start_time": "2021-09-08T07:49:43.583Z"
   },
   {
    "duration": -35,
    "start_time": "2021-09-08T07:49:43.590Z"
   },
   {
    "duration": -35,
    "start_time": "2021-09-08T07:49:43.592Z"
   },
   {
    "duration": -37,
    "start_time": "2021-09-08T07:49:43.595Z"
   },
   {
    "duration": -43,
    "start_time": "2021-09-08T07:49:43.603Z"
   },
   {
    "duration": -45,
    "start_time": "2021-09-08T07:49:43.606Z"
   },
   {
    "duration": -47,
    "start_time": "2021-09-08T07:49:43.609Z"
   },
   {
    "duration": -47,
    "start_time": "2021-09-08T07:49:43.611Z"
   },
   {
    "duration": -49,
    "start_time": "2021-09-08T07:49:43.614Z"
   },
   {
    "duration": -55,
    "start_time": "2021-09-08T07:49:43.622Z"
   },
   {
    "duration": -57,
    "start_time": "2021-09-08T07:49:43.625Z"
   },
   {
    "duration": -58,
    "start_time": "2021-09-08T07:49:43.627Z"
   },
   {
    "duration": -58,
    "start_time": "2021-09-08T07:49:43.629Z"
   },
   {
    "duration": -60,
    "start_time": "2021-09-08T07:49:43.632Z"
   },
   {
    "duration": -67,
    "start_time": "2021-09-08T07:49:43.640Z"
   },
   {
    "duration": -68,
    "start_time": "2021-09-08T07:49:43.643Z"
   },
   {
    "duration": -69,
    "start_time": "2021-09-08T07:49:43.645Z"
   },
   {
    "duration": -71,
    "start_time": "2021-09-08T07:49:43.648Z"
   },
   {
    "duration": -78,
    "start_time": "2021-09-08T07:49:43.656Z"
   },
   {
    "duration": -79,
    "start_time": "2021-09-08T07:49:43.659Z"
   },
   {
    "duration": -80,
    "start_time": "2021-09-08T07:49:43.661Z"
   },
   {
    "duration": 212,
    "start_time": "2021-09-08T07:50:16.490Z"
   },
   {
    "duration": 12,
    "start_time": "2021-09-08T07:50:32.463Z"
   },
   {
    "duration": 184,
    "start_time": "2021-09-08T07:50:45.939Z"
   },
   {
    "duration": 12,
    "start_time": "2021-09-08T07:50:55.127Z"
   },
   {
    "duration": 8,
    "start_time": "2021-09-08T07:50:55.464Z"
   },
   {
    "duration": 13,
    "start_time": "2021-09-08T07:50:57.129Z"
   },
   {
    "duration": 8,
    "start_time": "2021-09-08T07:50:58.051Z"
   },
   {
    "duration": 12,
    "start_time": "2021-09-08T07:50:59.769Z"
   },
   {
    "duration": 15,
    "start_time": "2021-09-08T08:05:15.822Z"
   },
   {
    "duration": 3,
    "start_time": "2021-09-08T08:05:20.301Z"
   },
   {
    "duration": 64,
    "start_time": "2021-09-08T08:05:20.305Z"
   },
   {
    "duration": 13,
    "start_time": "2021-09-08T08:05:20.371Z"
   },
   {
    "duration": 12,
    "start_time": "2021-09-08T08:05:20.385Z"
   },
   {
    "duration": 17,
    "start_time": "2021-09-08T08:05:20.399Z"
   },
   {
    "duration": 38,
    "start_time": "2021-09-08T08:05:20.418Z"
   },
   {
    "duration": 7,
    "start_time": "2021-09-08T08:05:20.459Z"
   },
   {
    "duration": 26,
    "start_time": "2021-09-08T08:05:20.468Z"
   },
   {
    "duration": 5,
    "start_time": "2021-09-08T08:05:20.496Z"
   },
   {
    "duration": 10,
    "start_time": "2021-09-08T08:05:20.503Z"
   },
   {
    "duration": 12,
    "start_time": "2021-09-08T08:05:20.515Z"
   },
   {
    "duration": 10,
    "start_time": "2021-09-08T08:05:20.529Z"
   },
   {
    "duration": 6,
    "start_time": "2021-09-08T08:05:20.541Z"
   },
   {
    "duration": 10,
    "start_time": "2021-09-08T08:05:20.548Z"
   },
   {
    "duration": 26,
    "start_time": "2021-09-08T08:05:20.560Z"
   },
   {
    "duration": 12,
    "start_time": "2021-09-08T08:05:20.587Z"
   },
   {
    "duration": 5,
    "start_time": "2021-09-08T08:05:20.601Z"
   },
   {
    "duration": 18,
    "start_time": "2021-09-08T08:05:20.607Z"
   },
   {
    "duration": 4,
    "start_time": "2021-09-08T08:05:20.629Z"
   },
   {
    "duration": 17,
    "start_time": "2021-09-08T08:05:20.635Z"
   },
   {
    "duration": 30,
    "start_time": "2021-09-08T08:05:20.654Z"
   },
   {
    "duration": 338,
    "start_time": "2021-09-08T08:05:20.686Z"
   },
   {
    "duration": 5,
    "start_time": "2021-09-08T08:05:21.026Z"
   },
   {
    "duration": 22,
    "start_time": "2021-09-08T08:05:21.033Z"
   },
   {
    "duration": 9,
    "start_time": "2021-09-08T08:05:21.056Z"
   },
   {
    "duration": 25,
    "start_time": "2021-09-08T08:05:21.067Z"
   },
   {
    "duration": 6,
    "start_time": "2021-09-08T08:05:21.094Z"
   },
   {
    "duration": 13,
    "start_time": "2021-09-08T08:05:21.102Z"
   },
   {
    "duration": 10,
    "start_time": "2021-09-08T08:05:21.117Z"
   },
   {
    "duration": 20,
    "start_time": "2021-09-08T08:05:21.129Z"
   },
   {
    "duration": 10,
    "start_time": "2021-09-08T08:05:21.151Z"
   },
   {
    "duration": 15,
    "start_time": "2021-09-08T08:05:21.163Z"
   },
   {
    "duration": 20,
    "start_time": "2021-09-08T08:05:21.180Z"
   },
   {
    "duration": 15,
    "start_time": "2021-09-08T08:05:21.202Z"
   },
   {
    "duration": 13,
    "start_time": "2021-09-08T08:05:21.218Z"
   },
   {
    "duration": 40,
    "start_time": "2021-09-08T08:05:21.233Z"
   },
   {
    "duration": 6,
    "start_time": "2021-09-08T08:05:21.274Z"
   },
   {
    "duration": 19,
    "start_time": "2021-09-08T08:05:21.284Z"
   },
   {
    "duration": 25,
    "start_time": "2021-09-08T08:05:21.304Z"
   },
   {
    "duration": 6,
    "start_time": "2021-09-08T08:05:21.330Z"
   },
   {
    "duration": 19,
    "start_time": "2021-09-08T08:05:21.337Z"
   },
   {
    "duration": 664,
    "start_time": "2021-09-08T08:05:21.358Z"
   },
   {
    "duration": 5,
    "start_time": "2021-09-08T08:05:22.024Z"
   },
   {
    "duration": 6,
    "start_time": "2021-09-08T08:05:22.030Z"
   },
   {
    "duration": 11,
    "start_time": "2021-09-08T08:05:22.037Z"
   },
   {
    "duration": 14,
    "start_time": "2021-09-08T08:05:22.050Z"
   },
   {
    "duration": 3,
    "start_time": "2021-09-08T08:05:22.065Z"
   },
   {
    "duration": 1193,
    "start_time": "2021-09-08T08:05:22.070Z"
   },
   {
    "duration": 8,
    "start_time": "2021-09-08T08:05:23.264Z"
   },
   {
    "duration": 28,
    "start_time": "2021-09-08T08:05:23.273Z"
   },
   {
    "duration": 11,
    "start_time": "2021-09-08T08:05:23.303Z"
   },
   {
    "duration": 6,
    "start_time": "2021-09-08T08:05:23.316Z"
   },
   {
    "duration": 31,
    "start_time": "2021-09-08T08:05:23.323Z"
   },
   {
    "duration": 5,
    "start_time": "2021-09-08T08:07:03.965Z"
   },
   {
    "duration": 9,
    "start_time": "2021-09-08T08:07:12.705Z"
   },
   {
    "duration": 5,
    "start_time": "2021-09-08T09:34:21.401Z"
   },
   {
    "duration": 14,
    "start_time": "2021-09-08T09:34:24.616Z"
   },
   {
    "duration": 7,
    "start_time": "2021-09-08T09:34:29.760Z"
   },
   {
    "duration": 20,
    "start_time": "2021-09-08T09:34:32.709Z"
   },
   {
    "duration": 18,
    "start_time": "2021-09-08T09:34:37.401Z"
   },
   {
    "duration": 63,
    "start_time": "2021-09-08T09:57:46.302Z"
   },
   {
    "duration": 3,
    "start_time": "2021-09-08T10:10:56.404Z"
   },
   {
    "duration": 14,
    "start_time": "2021-09-08T10:13:49.116Z"
   },
   {
    "duration": 209,
    "start_time": "2021-09-08T10:14:04.495Z"
   },
   {
    "duration": 14,
    "start_time": "2021-09-08T10:14:12.400Z"
   },
   {
    "duration": 9,
    "start_time": "2021-09-08T10:14:43.852Z"
   },
   {
    "duration": 12,
    "start_time": "2021-09-08T10:14:51.565Z"
   },
   {
    "duration": 3,
    "start_time": "2021-09-08T10:17:40.109Z"
   },
   {
    "duration": 3,
    "start_time": "2021-09-08T10:19:46.056Z"
   },
   {
    "duration": 7,
    "start_time": "2021-09-08T10:19:46.691Z"
   },
   {
    "duration": 3,
    "start_time": "2021-09-08T10:23:05.482Z"
   },
   {
    "duration": 7,
    "start_time": "2021-09-08T10:23:05.870Z"
   },
   {
    "duration": 66,
    "start_time": "2021-09-08T10:23:07.282Z"
   },
   {
    "duration": 4,
    "start_time": "2021-09-08T10:23:16.541Z"
   },
   {
    "duration": 63,
    "start_time": "2021-09-08T10:23:20.094Z"
   },
   {
    "duration": 8,
    "start_time": "2021-09-08T10:23:32.537Z"
   },
   {
    "duration": 64,
    "start_time": "2021-09-08T10:23:45.386Z"
   },
   {
    "duration": 212,
    "start_time": "2021-09-08T10:24:14.821Z"
   },
   {
    "duration": 16,
    "start_time": "2021-09-08T10:24:21.364Z"
   },
   {
    "duration": 15,
    "start_time": "2021-09-08T10:24:29.623Z"
   },
   {
    "duration": 10,
    "start_time": "2021-09-08T10:32:15.373Z"
   },
   {
    "duration": 10,
    "start_time": "2021-09-08T10:51:56.511Z"
   },
   {
    "duration": 5,
    "start_time": "2021-09-08T10:52:03.485Z"
   },
   {
    "duration": 7,
    "start_time": "2021-09-08T10:52:31.231Z"
   },
   {
    "duration": 6,
    "start_time": "2021-09-08T10:52:33.579Z"
   },
   {
    "duration": 5,
    "start_time": "2021-09-08T10:52:46.376Z"
   },
   {
    "duration": 14,
    "start_time": "2021-09-08T10:57:01.812Z"
   },
   {
    "duration": 60,
    "start_time": "2021-09-08T10:58:36.341Z"
   },
   {
    "duration": 65,
    "start_time": "2021-09-08T10:58:44.965Z"
   },
   {
    "duration": 69,
    "start_time": "2021-09-08T10:58:54.689Z"
   },
   {
    "duration": 57,
    "start_time": "2021-09-08T10:59:11.425Z"
   },
   {
    "duration": 61,
    "start_time": "2021-09-08T10:59:32.522Z"
   },
   {
    "duration": 73,
    "start_time": "2021-09-08T10:59:36.745Z"
   },
   {
    "duration": 71,
    "start_time": "2021-09-08T11:00:11.498Z"
   },
   {
    "duration": 83,
    "start_time": "2021-09-08T11:08:44.281Z"
   },
   {
    "duration": 15,
    "start_time": "2021-09-08T11:09:00.230Z"
   },
   {
    "duration": 189,
    "start_time": "2021-09-08T11:09:24.544Z"
   },
   {
    "duration": 1551,
    "start_time": "2021-09-08T11:09:49.935Z"
   },
   {
    "duration": 3,
    "start_time": "2021-09-08T11:13:13.059Z"
   },
   {
    "duration": 7,
    "start_time": "2021-09-08T11:14:18.660Z"
   },
   {
    "duration": 5,
    "start_time": "2021-09-08T11:14:25.337Z"
   },
   {
    "duration": 7,
    "start_time": "2021-09-08T11:15:10.052Z"
   },
   {
    "duration": 6,
    "start_time": "2021-09-08T11:15:42.209Z"
   },
   {
    "duration": 7,
    "start_time": "2021-09-08T11:16:10.758Z"
   },
   {
    "duration": 1624,
    "start_time": "2021-09-08T11:20:17.288Z"
   },
   {
    "duration": 11,
    "start_time": "2021-09-08T11:20:24.068Z"
   },
   {
    "duration": 8,
    "start_time": "2021-09-08T11:20:33.067Z"
   },
   {
    "duration": 10,
    "start_time": "2021-09-08T11:21:01.956Z"
   },
   {
    "duration": 8,
    "start_time": "2021-09-08T11:21:16.366Z"
   },
   {
    "duration": 8,
    "start_time": "2021-09-08T11:21:16.725Z"
   },
   {
    "duration": 13,
    "start_time": "2021-09-08T11:23:16.481Z"
   },
   {
    "duration": 7,
    "start_time": "2021-09-08T11:23:21.814Z"
   },
   {
    "duration": 30,
    "start_time": "2021-09-08T11:42:03.615Z"
   },
   {
    "duration": 60,
    "start_time": "2021-09-08T11:45:50.142Z"
   },
   {
    "duration": 60,
    "start_time": "2021-09-08T13:11:51.263Z"
   },
   {
    "duration": 3,
    "start_time": "2021-09-08T13:12:04.882Z"
   },
   {
    "duration": 3,
    "start_time": "2021-09-08T13:14:22.980Z"
   },
   {
    "duration": 938,
    "start_time": "2021-09-08T13:14:23.555Z"
   },
   {
    "duration": 2,
    "start_time": "2021-09-08T13:14:38.255Z"
   },
   {
    "duration": 3,
    "start_time": "2021-09-08T13:14:41.293Z"
   },
   {
    "duration": 13,
    "start_time": "2021-09-08T13:14:41.875Z"
   },
   {
    "duration": 181,
    "start_time": "2021-09-08T13:14:49.169Z"
   },
   {
    "duration": 20,
    "start_time": "2021-09-08T13:14:51.342Z"
   },
   {
    "duration": 3,
    "start_time": "2021-09-08T13:15:23.010Z"
   },
   {
    "duration": 52,
    "start_time": "2021-09-08T13:15:23.015Z"
   },
   {
    "duration": 13,
    "start_time": "2021-09-08T13:15:23.070Z"
   },
   {
    "duration": 6,
    "start_time": "2021-09-08T13:15:23.085Z"
   },
   {
    "duration": 13,
    "start_time": "2021-09-08T13:15:23.093Z"
   },
   {
    "duration": 31,
    "start_time": "2021-09-08T13:15:23.108Z"
   },
   {
    "duration": 7,
    "start_time": "2021-09-08T13:15:23.141Z"
   },
   {
    "duration": 14,
    "start_time": "2021-09-08T13:15:23.184Z"
   },
   {
    "duration": 8,
    "start_time": "2021-09-08T13:15:23.199Z"
   },
   {
    "duration": 7,
    "start_time": "2021-09-08T13:15:23.208Z"
   },
   {
    "duration": 17,
    "start_time": "2021-09-08T13:15:23.216Z"
   },
   {
    "duration": 9,
    "start_time": "2021-09-08T13:15:23.234Z"
   },
   {
    "duration": 5,
    "start_time": "2021-09-08T13:15:23.245Z"
   },
   {
    "duration": 39,
    "start_time": "2021-09-08T13:15:23.251Z"
   },
   {
    "duration": 14,
    "start_time": "2021-09-08T13:15:23.291Z"
   },
   {
    "duration": 15,
    "start_time": "2021-09-08T13:15:23.307Z"
   },
   {
    "duration": 5,
    "start_time": "2021-09-08T13:15:23.323Z"
   },
   {
    "duration": 14,
    "start_time": "2021-09-08T13:15:23.330Z"
   },
   {
    "duration": 3,
    "start_time": "2021-09-08T13:15:23.348Z"
   },
   {
    "duration": 45,
    "start_time": "2021-09-08T13:15:23.353Z"
   },
   {
    "duration": 3,
    "start_time": "2021-09-08T13:15:23.400Z"
   },
   {
    "duration": 348,
    "start_time": "2021-09-08T13:15:23.405Z"
   },
   {
    "duration": 5,
    "start_time": "2021-09-08T13:15:23.754Z"
   },
   {
    "duration": 11,
    "start_time": "2021-09-08T13:15:23.760Z"
   },
   {
    "duration": 15,
    "start_time": "2021-09-08T13:15:23.773Z"
   },
   {
    "duration": 21,
    "start_time": "2021-09-08T13:15:23.789Z"
   },
   {
    "duration": 6,
    "start_time": "2021-09-08T13:15:23.812Z"
   },
   {
    "duration": 7,
    "start_time": "2021-09-08T13:15:23.819Z"
   },
   {
    "duration": 15,
    "start_time": "2021-09-08T13:15:23.828Z"
   },
   {
    "duration": 8,
    "start_time": "2021-09-08T13:15:23.844Z"
   },
   {
    "duration": 36,
    "start_time": "2021-09-08T13:15:23.853Z"
   },
   {
    "duration": 8,
    "start_time": "2021-09-08T13:15:23.891Z"
   },
   {
    "duration": 9,
    "start_time": "2021-09-08T13:15:23.901Z"
   },
   {
    "duration": 8,
    "start_time": "2021-09-08T13:15:23.912Z"
   },
   {
    "duration": 8,
    "start_time": "2021-09-08T13:15:23.922Z"
   },
   {
    "duration": 14,
    "start_time": "2021-09-08T13:15:23.932Z"
   },
   {
    "duration": 64,
    "start_time": "2021-09-08T13:15:23.947Z"
   },
   {
    "duration": 7,
    "start_time": "2021-09-08T13:15:24.013Z"
   },
   {
    "duration": 22,
    "start_time": "2021-09-08T13:15:24.022Z"
   },
   {
    "duration": 42,
    "start_time": "2021-09-08T13:15:24.046Z"
   },
   {
    "duration": 6,
    "start_time": "2021-09-08T13:15:24.089Z"
   },
   {
    "duration": 28,
    "start_time": "2021-09-08T13:15:24.096Z"
   },
   {
    "duration": 677,
    "start_time": "2021-09-08T13:15:24.126Z"
   },
   {
    "duration": 6,
    "start_time": "2021-09-08T13:15:24.805Z"
   },
   {
    "duration": 7,
    "start_time": "2021-09-08T13:15:24.812Z"
   },
   {
    "duration": 6,
    "start_time": "2021-09-08T13:15:24.820Z"
   },
   {
    "duration": 14,
    "start_time": "2021-09-08T13:15:24.828Z"
   },
   {
    "duration": 3,
    "start_time": "2021-09-08T13:15:24.843Z"
   },
   {
    "duration": 1306,
    "start_time": "2021-09-08T13:15:24.848Z"
   },
   {
    "duration": 8,
    "start_time": "2021-09-08T13:15:26.156Z"
   },
   {
    "duration": 42,
    "start_time": "2021-09-08T13:15:26.165Z"
   },
   {
    "duration": 3,
    "start_time": "2021-09-08T13:15:26.209Z"
   },
   {
    "duration": 5,
    "start_time": "2021-09-08T13:15:26.214Z"
   },
   {
    "duration": 13,
    "start_time": "2021-09-08T13:15:26.221Z"
   },
   {
    "duration": 14,
    "start_time": "2021-09-08T13:15:26.238Z"
   },
   {
    "duration": 2,
    "start_time": "2021-09-08T13:15:26.254Z"
   },
   {
    "duration": 33,
    "start_time": "2021-09-08T13:15:26.258Z"
   },
   {
    "duration": 5,
    "start_time": "2021-09-08T13:15:26.293Z"
   },
   {
    "duration": 9,
    "start_time": "2021-09-08T13:15:26.299Z"
   },
   {
    "duration": 7,
    "start_time": "2021-09-08T13:15:26.309Z"
   },
   {
    "duration": 5,
    "start_time": "2021-09-08T13:15:26.318Z"
   },
   {
    "duration": 8,
    "start_time": "2021-09-08T13:15:26.324Z"
   },
   {
    "duration": 5,
    "start_time": "2021-09-08T13:15:26.333Z"
   },
   {
    "duration": 6,
    "start_time": "2021-09-08T13:15:26.339Z"
   },
   {
    "duration": 6,
    "start_time": "2021-09-08T13:15:26.346Z"
   },
   {
    "duration": 31,
    "start_time": "2021-09-08T13:15:26.354Z"
   },
   {
    "duration": 7,
    "start_time": "2021-09-08T13:15:26.387Z"
   },
   {
    "duration": 15,
    "start_time": "2021-09-08T13:15:26.396Z"
   },
   {
    "duration": 6,
    "start_time": "2021-09-08T13:15:26.412Z"
   },
   {
    "duration": 188,
    "start_time": "2021-09-08T13:17:17.028Z"
   },
   {
    "duration": 246,
    "start_time": "2021-09-08T13:17:28.696Z"
   },
   {
    "duration": 8,
    "start_time": "2021-09-08T13:17:40.029Z"
   },
   {
    "duration": 4560,
    "start_time": "2021-09-08T13:17:55.678Z"
   },
   {
    "duration": 3,
    "start_time": "2021-09-08T13:27:55.422Z"
   },
   {
    "duration": 53,
    "start_time": "2021-09-08T13:27:55.427Z"
   },
   {
    "duration": 12,
    "start_time": "2021-09-08T13:27:55.482Z"
   },
   {
    "duration": 10,
    "start_time": "2021-09-08T13:27:55.496Z"
   },
   {
    "duration": 16,
    "start_time": "2021-09-08T13:27:55.507Z"
   },
   {
    "duration": 32,
    "start_time": "2021-09-08T13:27:55.524Z"
   },
   {
    "duration": 32,
    "start_time": "2021-09-08T13:27:55.558Z"
   },
   {
    "duration": 12,
    "start_time": "2021-09-08T13:27:55.592Z"
   },
   {
    "duration": 9,
    "start_time": "2021-09-08T13:27:55.606Z"
   },
   {
    "duration": 8,
    "start_time": "2021-09-08T13:27:55.616Z"
   },
   {
    "duration": 13,
    "start_time": "2021-09-08T13:27:55.626Z"
   },
   {
    "duration": 8,
    "start_time": "2021-09-08T13:27:55.641Z"
   },
   {
    "duration": 35,
    "start_time": "2021-09-08T13:27:55.651Z"
   },
   {
    "duration": 9,
    "start_time": "2021-09-08T13:27:55.688Z"
   },
   {
    "duration": 15,
    "start_time": "2021-09-08T13:27:55.699Z"
   },
   {
    "duration": 13,
    "start_time": "2021-09-08T13:27:55.715Z"
   },
   {
    "duration": 6,
    "start_time": "2021-09-08T13:27:55.730Z"
   },
   {
    "duration": 13,
    "start_time": "2021-09-08T13:27:55.737Z"
   },
   {
    "duration": 30,
    "start_time": "2021-09-08T13:27:55.754Z"
   },
   {
    "duration": 17,
    "start_time": "2021-09-08T13:27:55.788Z"
   },
   {
    "duration": 3,
    "start_time": "2021-09-08T13:27:55.807Z"
   },
   {
    "duration": 353,
    "start_time": "2021-09-08T13:27:55.812Z"
   },
   {
    "duration": 6,
    "start_time": "2021-09-08T13:27:56.166Z"
   },
   {
    "duration": 6,
    "start_time": "2021-09-08T13:27:56.185Z"
   },
   {
    "duration": 7,
    "start_time": "2021-09-08T13:27:56.193Z"
   },
   {
    "duration": 24,
    "start_time": "2021-09-08T13:27:56.201Z"
   },
   {
    "duration": 6,
    "start_time": "2021-09-08T13:27:56.226Z"
   },
   {
    "duration": 8,
    "start_time": "2021-09-08T13:27:56.234Z"
   },
   {
    "duration": 41,
    "start_time": "2021-09-08T13:27:56.244Z"
   },
   {
    "duration": 9,
    "start_time": "2021-09-08T13:27:56.286Z"
   },
   {
    "duration": 10,
    "start_time": "2021-09-08T13:27:56.297Z"
   },
   {
    "duration": 14,
    "start_time": "2021-09-08T13:27:56.309Z"
   },
   {
    "duration": 12,
    "start_time": "2021-09-08T13:27:56.324Z"
   },
   {
    "duration": 14,
    "start_time": "2021-09-08T13:27:56.337Z"
   },
   {
    "duration": 17,
    "start_time": "2021-09-08T13:27:56.353Z"
   },
   {
    "duration": 40,
    "start_time": "2021-09-08T13:27:56.371Z"
   },
   {
    "duration": 44,
    "start_time": "2021-09-08T13:27:56.412Z"
   },
   {
    "duration": 7,
    "start_time": "2021-09-08T13:27:56.458Z"
   },
   {
    "duration": 24,
    "start_time": "2021-09-08T13:27:56.466Z"
   },
   {
    "duration": 26,
    "start_time": "2021-09-08T13:27:56.492Z"
   },
   {
    "duration": 6,
    "start_time": "2021-09-08T13:27:56.520Z"
   },
   {
    "duration": 24,
    "start_time": "2021-09-08T13:27:56.527Z"
   },
   {
    "duration": 666,
    "start_time": "2021-09-08T13:27:56.553Z"
   },
   {
    "duration": 5,
    "start_time": "2021-09-08T13:27:57.221Z"
   },
   {
    "duration": 11,
    "start_time": "2021-09-08T13:27:57.227Z"
   },
   {
    "duration": 7,
    "start_time": "2021-09-08T13:27:57.240Z"
   },
   {
    "duration": 16,
    "start_time": "2021-09-08T13:27:57.248Z"
   },
   {
    "duration": 3,
    "start_time": "2021-09-08T13:27:57.266Z"
   },
   {
    "duration": 1207,
    "start_time": "2021-09-08T13:27:57.270Z"
   },
   {
    "duration": 9,
    "start_time": "2021-09-08T13:27:58.479Z"
   },
   {
    "duration": 32,
    "start_time": "2021-09-08T13:27:58.489Z"
   },
   {
    "duration": 3,
    "start_time": "2021-09-08T13:27:58.522Z"
   },
   {
    "duration": 6,
    "start_time": "2021-09-08T13:27:58.526Z"
   },
   {
    "duration": 15,
    "start_time": "2021-09-08T13:27:58.533Z"
   },
   {
    "duration": 38,
    "start_time": "2021-09-08T13:27:58.552Z"
   },
   {
    "duration": 3,
    "start_time": "2021-09-08T13:27:58.592Z"
   },
   {
    "duration": 9,
    "start_time": "2021-09-08T13:27:58.596Z"
   },
   {
    "duration": 3,
    "start_time": "2021-09-08T13:27:58.607Z"
   },
   {
    "duration": 11,
    "start_time": "2021-09-08T13:27:58.612Z"
   },
   {
    "duration": 3,
    "start_time": "2021-09-08T13:27:58.625Z"
   },
   {
    "duration": 5,
    "start_time": "2021-09-08T13:27:58.630Z"
   },
   {
    "duration": 4,
    "start_time": "2021-09-08T13:27:58.637Z"
   },
   {
    "duration": 7,
    "start_time": "2021-09-08T13:27:58.642Z"
   },
   {
    "duration": 5,
    "start_time": "2021-09-08T13:27:58.650Z"
   },
   {
    "duration": 29,
    "start_time": "2021-09-08T13:27:58.656Z"
   },
   {
    "duration": 3,
    "start_time": "2021-09-08T13:27:58.686Z"
   },
   {
    "duration": 5,
    "start_time": "2021-09-08T13:27:58.690Z"
   },
   {
    "duration": 5,
    "start_time": "2021-09-08T13:27:58.696Z"
   },
   {
    "duration": 4,
    "start_time": "2021-09-08T13:27:58.703Z"
   },
   {
    "duration": 190,
    "start_time": "2021-09-08T13:32:22.363Z"
   },
   {
    "duration": 26,
    "start_time": "2021-09-08T13:32:32.213Z"
   },
   {
    "duration": 8,
    "start_time": "2021-09-08T13:32:36.911Z"
   },
   {
    "duration": 7,
    "start_time": "2021-09-08T13:35:13.181Z"
   },
   {
    "duration": 8,
    "start_time": "2021-09-08T13:35:18.928Z"
   },
   {
    "duration": 9,
    "start_time": "2021-09-08T13:36:07.605Z"
   },
   {
    "duration": 8,
    "start_time": "2021-09-08T13:36:14.634Z"
   },
   {
    "duration": 65,
    "start_time": "2021-09-08T13:39:56.454Z"
   },
   {
    "duration": 9,
    "start_time": "2021-09-08T13:40:53.388Z"
   },
   {
    "duration": 19,
    "start_time": "2021-09-08T13:42:10.824Z"
   },
   {
    "duration": 23,
    "start_time": "2021-09-08T13:42:16.887Z"
   },
   {
    "duration": 8,
    "start_time": "2021-09-08T13:42:50.878Z"
   },
   {
    "duration": 25,
    "start_time": "2021-09-08T13:43:41.985Z"
   },
   {
    "duration": 24,
    "start_time": "2021-09-08T13:50:09.107Z"
   },
   {
    "duration": 27,
    "start_time": "2021-09-08T13:50:46.308Z"
   },
   {
    "duration": 7,
    "start_time": "2021-09-08T13:50:46.846Z"
   },
   {
    "duration": 11,
    "start_time": "2021-09-08T13:50:47.856Z"
   },
   {
    "duration": 24,
    "start_time": "2021-09-08T13:52:18.883Z"
   },
   {
    "duration": 24,
    "start_time": "2021-09-08T13:58:56.193Z"
   },
   {
    "duration": 25,
    "start_time": "2021-09-08T14:03:55.911Z"
   },
   {
    "duration": 3,
    "start_time": "2021-09-08T14:18:38.986Z"
   },
   {
    "duration": 56,
    "start_time": "2021-09-08T14:18:38.991Z"
   },
   {
    "duration": 12,
    "start_time": "2021-09-08T14:18:39.049Z"
   },
   {
    "duration": 21,
    "start_time": "2021-09-08T14:18:39.063Z"
   },
   {
    "duration": 11,
    "start_time": "2021-09-08T14:18:39.086Z"
   },
   {
    "duration": 37,
    "start_time": "2021-09-08T14:18:39.099Z"
   },
   {
    "duration": 8,
    "start_time": "2021-09-08T14:18:39.138Z"
   },
   {
    "duration": 41,
    "start_time": "2021-09-08T14:18:39.148Z"
   },
   {
    "duration": 21,
    "start_time": "2021-09-08T14:18:39.191Z"
   },
   {
    "duration": 5,
    "start_time": "2021-09-08T14:18:39.214Z"
   },
   {
    "duration": 15,
    "start_time": "2021-09-08T14:18:39.221Z"
   },
   {
    "duration": 8,
    "start_time": "2021-09-08T14:18:39.238Z"
   },
   {
    "duration": 5,
    "start_time": "2021-09-08T14:18:39.248Z"
   },
   {
    "duration": 7,
    "start_time": "2021-09-08T14:18:39.254Z"
   },
   {
    "duration": 29,
    "start_time": "2021-09-08T14:18:39.263Z"
   },
   {
    "duration": 16,
    "start_time": "2021-09-08T14:18:39.294Z"
   },
   {
    "duration": 5,
    "start_time": "2021-09-08T14:18:39.311Z"
   },
   {
    "duration": 15,
    "start_time": "2021-09-08T14:18:39.317Z"
   },
   {
    "duration": 3,
    "start_time": "2021-09-08T14:18:39.335Z"
   },
   {
    "duration": 16,
    "start_time": "2021-09-08T14:18:39.340Z"
   },
   {
    "duration": 3,
    "start_time": "2021-09-08T14:18:39.357Z"
   },
   {
    "duration": 344,
    "start_time": "2021-09-08T14:18:39.362Z"
   },
   {
    "duration": 6,
    "start_time": "2021-09-08T14:18:39.707Z"
   },
   {
    "duration": 27,
    "start_time": "2021-09-08T14:18:39.714Z"
   },
   {
    "duration": 7,
    "start_time": "2021-09-08T14:18:39.743Z"
   },
   {
    "duration": 19,
    "start_time": "2021-09-08T14:18:39.751Z"
   },
   {
    "duration": 7,
    "start_time": "2021-09-08T14:18:39.772Z"
   },
   {
    "duration": 7,
    "start_time": "2021-09-08T14:18:39.785Z"
   },
   {
    "duration": 12,
    "start_time": "2021-09-08T14:18:39.794Z"
   },
   {
    "duration": 8,
    "start_time": "2021-09-08T14:18:39.807Z"
   },
   {
    "duration": 8,
    "start_time": "2021-09-08T14:18:39.817Z"
   },
   {
    "duration": 8,
    "start_time": "2021-09-08T14:18:39.827Z"
   },
   {
    "duration": 8,
    "start_time": "2021-09-08T14:18:39.837Z"
   },
   {
    "duration": 42,
    "start_time": "2021-09-08T14:18:39.846Z"
   },
   {
    "duration": 9,
    "start_time": "2021-09-08T14:18:39.890Z"
   },
   {
    "duration": 12,
    "start_time": "2021-09-08T14:18:39.900Z"
   },
   {
    "duration": 40,
    "start_time": "2021-09-08T14:18:39.914Z"
   },
   {
    "duration": 8,
    "start_time": "2021-09-08T14:18:39.956Z"
   },
   {
    "duration": 18,
    "start_time": "2021-09-08T14:18:39.985Z"
   },
   {
    "duration": 29,
    "start_time": "2021-09-08T14:18:40.005Z"
   },
   {
    "duration": 7,
    "start_time": "2021-09-08T14:18:40.036Z"
   },
   {
    "duration": 60,
    "start_time": "2021-09-08T14:18:40.045Z"
   },
   {
    "duration": 656,
    "start_time": "2021-09-08T14:18:40.106Z"
   },
   {
    "duration": 7,
    "start_time": "2021-09-08T14:18:40.764Z"
   },
   {
    "duration": 12,
    "start_time": "2021-09-08T14:18:40.773Z"
   },
   {
    "duration": 7,
    "start_time": "2021-09-08T14:18:40.787Z"
   },
   {
    "duration": 12,
    "start_time": "2021-09-08T14:18:40.795Z"
   },
   {
    "duration": 4,
    "start_time": "2021-09-08T14:18:40.808Z"
   },
   {
    "duration": 1215,
    "start_time": "2021-09-08T14:18:40.814Z"
   },
   {
    "duration": 9,
    "start_time": "2021-09-08T14:18:42.031Z"
   },
   {
    "duration": 46,
    "start_time": "2021-09-08T14:18:42.042Z"
   },
   {
    "duration": 3,
    "start_time": "2021-09-08T14:18:42.090Z"
   },
   {
    "duration": 7,
    "start_time": "2021-09-08T14:18:42.095Z"
   },
   {
    "duration": 14,
    "start_time": "2021-09-08T14:18:42.104Z"
   },
   {
    "duration": 13,
    "start_time": "2021-09-08T14:18:42.123Z"
   },
   {
    "duration": 3,
    "start_time": "2021-09-08T14:18:42.138Z"
   },
   {
    "duration": 9,
    "start_time": "2021-09-08T14:18:42.142Z"
   },
   {
    "duration": 5,
    "start_time": "2021-09-08T14:18:42.153Z"
   },
   {
    "duration": 7,
    "start_time": "2021-09-08T14:18:42.185Z"
   },
   {
    "duration": 34,
    "start_time": "2021-09-08T14:18:42.193Z"
   },
   {
    "duration": 6,
    "start_time": "2021-09-08T14:18:42.229Z"
   },
   {
    "duration": 18,
    "start_time": "2021-09-08T14:18:42.236Z"
   },
   {
    "duration": 34,
    "start_time": "2021-09-08T14:18:42.255Z"
   },
   {
    "duration": 22,
    "start_time": "2021-09-08T14:18:42.291Z"
   },
   {
    "duration": 24,
    "start_time": "2021-09-08T14:18:42.314Z"
   },
   {
    "duration": 46,
    "start_time": "2021-09-08T14:18:42.339Z"
   },
   {
    "duration": 4,
    "start_time": "2021-09-08T14:18:45.631Z"
   },
   {
    "duration": 3,
    "start_time": "2021-09-08T14:19:05.429Z"
   },
   {
    "duration": 55,
    "start_time": "2021-09-08T14:19:05.435Z"
   },
   {
    "duration": 15,
    "start_time": "2021-09-08T14:19:05.492Z"
   },
   {
    "duration": 7,
    "start_time": "2021-09-08T14:19:05.509Z"
   },
   {
    "duration": 12,
    "start_time": "2021-09-08T14:19:05.518Z"
   },
   {
    "duration": 67,
    "start_time": "2021-09-08T14:19:05.532Z"
   },
   {
    "duration": 7,
    "start_time": "2021-09-08T14:19:05.601Z"
   },
   {
    "duration": 15,
    "start_time": "2021-09-08T14:19:05.610Z"
   },
   {
    "duration": 13,
    "start_time": "2021-09-08T14:19:05.626Z"
   },
   {
    "duration": 7,
    "start_time": "2021-09-08T14:19:05.640Z"
   },
   {
    "duration": 20,
    "start_time": "2021-09-08T14:19:05.648Z"
   },
   {
    "duration": 6,
    "start_time": "2021-09-08T14:19:05.685Z"
   },
   {
    "duration": 9,
    "start_time": "2021-09-08T14:19:05.693Z"
   },
   {
    "duration": 10,
    "start_time": "2021-09-08T14:19:05.704Z"
   },
   {
    "duration": 25,
    "start_time": "2021-09-08T14:19:05.715Z"
   },
   {
    "duration": 14,
    "start_time": "2021-09-08T14:19:05.741Z"
   },
   {
    "duration": 5,
    "start_time": "2021-09-08T14:19:05.756Z"
   },
   {
    "duration": 36,
    "start_time": "2021-09-08T14:19:05.762Z"
   },
   {
    "duration": 4,
    "start_time": "2021-09-08T14:19:05.801Z"
   },
   {
    "duration": 20,
    "start_time": "2021-09-08T14:19:05.807Z"
   },
   {
    "duration": 5,
    "start_time": "2021-09-08T14:19:05.828Z"
   },
   {
    "duration": 339,
    "start_time": "2021-09-08T14:19:05.834Z"
   },
   {
    "duration": 11,
    "start_time": "2021-09-08T14:19:06.175Z"
   },
   {
    "duration": 12,
    "start_time": "2021-09-08T14:19:06.187Z"
   },
   {
    "duration": 14,
    "start_time": "2021-09-08T14:19:06.200Z"
   },
   {
    "duration": 21,
    "start_time": "2021-09-08T14:19:06.215Z"
   },
   {
    "duration": 5,
    "start_time": "2021-09-08T14:19:06.238Z"
   },
   {
    "duration": 8,
    "start_time": "2021-09-08T14:19:06.245Z"
   },
   {
    "duration": 13,
    "start_time": "2021-09-08T14:19:06.254Z"
   },
   {
    "duration": 19,
    "start_time": "2021-09-08T14:19:06.268Z"
   },
   {
    "duration": 9,
    "start_time": "2021-09-08T14:19:06.289Z"
   },
   {
    "duration": 7,
    "start_time": "2021-09-08T14:19:06.300Z"
   },
   {
    "duration": 8,
    "start_time": "2021-09-08T14:19:06.309Z"
   },
   {
    "duration": 9,
    "start_time": "2021-09-08T14:19:06.318Z"
   },
   {
    "duration": 9,
    "start_time": "2021-09-08T14:19:06.329Z"
   },
   {
    "duration": 11,
    "start_time": "2021-09-08T14:19:06.339Z"
   },
   {
    "duration": 64,
    "start_time": "2021-09-08T14:19:06.352Z"
   },
   {
    "duration": 8,
    "start_time": "2021-09-08T14:19:06.418Z"
   },
   {
    "duration": 41,
    "start_time": "2021-09-08T14:19:06.427Z"
   },
   {
    "duration": 25,
    "start_time": "2021-09-08T14:19:06.470Z"
   },
   {
    "duration": 6,
    "start_time": "2021-09-08T14:19:06.496Z"
   },
   {
    "duration": 24,
    "start_time": "2021-09-08T14:19:06.503Z"
   },
   {
    "duration": 683,
    "start_time": "2021-09-08T14:19:06.529Z"
   },
   {
    "duration": 6,
    "start_time": "2021-09-08T14:19:07.214Z"
   },
   {
    "duration": 15,
    "start_time": "2021-09-08T14:19:07.221Z"
   },
   {
    "duration": 21,
    "start_time": "2021-09-08T14:19:07.237Z"
   },
   {
    "duration": 17,
    "start_time": "2021-09-08T14:19:07.259Z"
   },
   {
    "duration": 3,
    "start_time": "2021-09-08T14:19:07.278Z"
   },
   {
    "duration": 1183,
    "start_time": "2021-09-08T14:19:07.282Z"
   },
   {
    "duration": 8,
    "start_time": "2021-09-08T14:19:08.467Z"
   },
   {
    "duration": 37,
    "start_time": "2021-09-08T14:19:08.476Z"
   },
   {
    "duration": 3,
    "start_time": "2021-09-08T14:19:08.514Z"
   },
   {
    "duration": 7,
    "start_time": "2021-09-08T14:19:08.518Z"
   },
   {
    "duration": 17,
    "start_time": "2021-09-08T14:19:08.527Z"
   },
   {
    "duration": 13,
    "start_time": "2021-09-08T14:19:08.549Z"
   },
   {
    "duration": 22,
    "start_time": "2021-09-08T14:19:08.563Z"
   },
   {
    "duration": 10,
    "start_time": "2021-09-08T14:19:08.587Z"
   },
   {
    "duration": 12,
    "start_time": "2021-09-08T14:19:08.599Z"
   },
   {
    "duration": 10,
    "start_time": "2021-09-08T14:19:08.612Z"
   },
   {
    "duration": 28,
    "start_time": "2021-09-08T14:19:08.623Z"
   },
   {
    "duration": 6,
    "start_time": "2021-09-08T14:19:08.653Z"
   },
   {
    "duration": 26,
    "start_time": "2021-09-08T14:19:08.660Z"
   },
   {
    "duration": 28,
    "start_time": "2021-09-08T14:19:08.688Z"
   },
   {
    "duration": 24,
    "start_time": "2021-09-08T14:19:08.717Z"
   },
   {
    "duration": 45,
    "start_time": "2021-09-08T14:19:08.742Z"
   },
   {
    "duration": 22,
    "start_time": "2021-09-08T14:19:08.788Z"
   },
   {
    "duration": 2,
    "start_time": "2021-09-08T14:19:08.812Z"
   },
   {
    "duration": 784,
    "start_time": "2021-09-09T10:17:59.027Z"
   },
   {
    "duration": 69,
    "start_time": "2021-09-09T10:17:59.814Z"
   },
   {
    "duration": 34,
    "start_time": "2021-09-09T10:17:59.886Z"
   },
   {
    "duration": 16,
    "start_time": "2021-09-09T10:17:59.923Z"
   },
   {
    "duration": 18,
    "start_time": "2021-09-09T10:17:59.942Z"
   },
   {
    "duration": 68,
    "start_time": "2021-09-09T10:17:59.963Z"
   },
   {
    "duration": 11,
    "start_time": "2021-09-09T10:18:00.034Z"
   },
   {
    "duration": 21,
    "start_time": "2021-09-09T10:18:00.049Z"
   },
   {
    "duration": 13,
    "start_time": "2021-09-09T10:18:00.073Z"
   },
   {
    "duration": 6,
    "start_time": "2021-09-09T10:18:00.117Z"
   },
   {
    "duration": 16,
    "start_time": "2021-09-09T10:18:00.126Z"
   },
   {
    "duration": 15,
    "start_time": "2021-09-09T10:18:00.144Z"
   },
   {
    "duration": 8,
    "start_time": "2021-09-09T10:18:00.161Z"
   },
   {
    "duration": 13,
    "start_time": "2021-09-09T10:18:00.171Z"
   },
   {
    "duration": 49,
    "start_time": "2021-09-09T10:18:00.186Z"
   },
   {
    "duration": 21,
    "start_time": "2021-09-09T10:18:00.238Z"
   },
   {
    "duration": 7,
    "start_time": "2021-09-09T10:18:00.262Z"
   },
   {
    "duration": 51,
    "start_time": "2021-09-09T10:18:00.271Z"
   },
   {
    "duration": 5,
    "start_time": "2021-09-09T10:18:00.324Z"
   },
   {
    "duration": 34,
    "start_time": "2021-09-09T10:18:00.331Z"
   },
   {
    "duration": 11,
    "start_time": "2021-09-09T10:18:00.368Z"
   },
   {
    "duration": 642,
    "start_time": "2021-09-09T10:18:00.382Z"
   },
   {
    "duration": 8,
    "start_time": "2021-09-09T10:18:01.030Z"
   },
   {
    "duration": 24,
    "start_time": "2021-09-09T10:18:01.042Z"
   },
   {
    "duration": 27,
    "start_time": "2021-09-09T10:18:01.069Z"
   },
   {
    "duration": 51,
    "start_time": "2021-09-09T10:18:01.099Z"
   },
   {
    "duration": 10,
    "start_time": "2021-09-09T10:18:01.152Z"
   },
   {
    "duration": 26,
    "start_time": "2021-09-09T10:18:01.164Z"
   },
   {
    "duration": 25,
    "start_time": "2021-09-09T10:18:01.193Z"
   },
   {
    "duration": 22,
    "start_time": "2021-09-09T10:18:01.220Z"
   },
   {
    "duration": 20,
    "start_time": "2021-09-09T10:18:01.245Z"
   },
   {
    "duration": 27,
    "start_time": "2021-09-09T10:18:01.268Z"
   },
   {
    "duration": 20,
    "start_time": "2021-09-09T10:18:01.297Z"
   },
   {
    "duration": 23,
    "start_time": "2021-09-09T10:18:01.320Z"
   },
   {
    "duration": 29,
    "start_time": "2021-09-09T10:18:01.345Z"
   },
   {
    "duration": 48,
    "start_time": "2021-09-09T10:18:01.376Z"
   },
   {
    "duration": 73,
    "start_time": "2021-09-09T10:18:01.427Z"
   },
   {
    "duration": 10,
    "start_time": "2021-09-09T10:18:01.503Z"
   },
   {
    "duration": 46,
    "start_time": "2021-09-09T10:18:01.516Z"
   },
   {
    "duration": 41,
    "start_time": "2021-09-09T10:18:01.565Z"
   },
   {
    "duration": 8,
    "start_time": "2021-09-09T10:18:01.609Z"
   },
   {
    "duration": 8,
    "start_time": "2021-09-09T10:18:01.619Z"
   },
   {
    "duration": 958,
    "start_time": "2021-09-09T10:18:01.630Z"
   },
   {
    "duration": 23,
    "start_time": "2021-09-09T10:18:02.592Z"
   },
   {
    "duration": 4,
    "start_time": "2021-09-09T10:18:02.617Z"
   },
   {
    "duration": 19,
    "start_time": "2021-09-09T10:18:02.624Z"
   },
   {
    "duration": 23,
    "start_time": "2021-09-09T10:18:02.645Z"
   },
   {
    "duration": 5,
    "start_time": "2021-09-09T10:18:02.670Z"
   },
   {
    "duration": 1984,
    "start_time": "2021-09-09T10:18:02.677Z"
   },
   {
    "duration": 12,
    "start_time": "2021-09-09T10:18:04.664Z"
   },
   {
    "duration": 66,
    "start_time": "2021-09-09T10:18:04.678Z"
   },
   {
    "duration": 4,
    "start_time": "2021-09-09T10:18:04.746Z"
   },
   {
    "duration": 13,
    "start_time": "2021-09-09T10:18:04.753Z"
   },
   {
    "duration": 34,
    "start_time": "2021-09-09T10:18:04.769Z"
   },
   {
    "duration": 25,
    "start_time": "2021-09-09T10:18:04.805Z"
   },
   {
    "duration": 3,
    "start_time": "2021-09-09T10:18:04.832Z"
   },
   {
    "duration": 16,
    "start_time": "2021-09-09T10:18:04.838Z"
   },
   {
    "duration": 20,
    "start_time": "2021-09-09T10:18:04.856Z"
   },
   {
    "duration": 41,
    "start_time": "2021-09-09T10:18:04.879Z"
   },
   {
    "duration": 43,
    "start_time": "2021-09-09T10:18:04.923Z"
   },
   {
    "duration": 16,
    "start_time": "2021-09-09T10:18:04.968Z"
   },
   {
    "duration": 34,
    "start_time": "2021-09-09T10:18:04.986Z"
   },
   {
    "duration": 38,
    "start_time": "2021-09-09T10:18:05.023Z"
   },
   {
    "duration": 62,
    "start_time": "2021-09-09T10:18:05.063Z"
   },
   {
    "duration": 41,
    "start_time": "2021-09-09T10:18:05.127Z"
   },
   {
    "duration": 67,
    "start_time": "2021-09-09T10:18:05.171Z"
   },
   {
    "duration": 762,
    "start_time": "2021-09-09T11:55:40.465Z"
   },
   {
    "duration": 975,
    "start_time": "2021-09-09T11:57:18.478Z"
   },
   {
    "duration": 12442,
    "start_time": "2021-09-09T12:01:54.328Z"
   },
   {
    "duration": 135,
    "start_time": "2021-09-09T19:57:37.433Z"
   },
   {
    "duration": 137,
    "start_time": "2021-09-09T20:04:04.875Z"
   },
   {
    "duration": 370,
    "start_time": "2021-09-09T20:04:26.976Z"
   },
   {
    "duration": 799,
    "start_time": "2021-09-09T20:04:30.870Z"
   },
   {
    "duration": 67,
    "start_time": "2021-09-09T20:04:31.671Z"
   },
   {
    "duration": 25,
    "start_time": "2021-09-09T20:04:31.741Z"
   },
   {
    "duration": 6,
    "start_time": "2021-09-09T20:04:31.768Z"
   },
   {
    "duration": 20,
    "start_time": "2021-09-09T20:04:31.775Z"
   },
   {
    "duration": 29,
    "start_time": "2021-09-09T20:04:31.797Z"
   },
   {
    "duration": 8,
    "start_time": "2021-09-09T20:04:31.827Z"
   },
   {
    "duration": 15,
    "start_time": "2021-09-09T20:04:31.837Z"
   },
   {
    "duration": 8,
    "start_time": "2021-09-09T20:04:31.854Z"
   },
   {
    "duration": 30,
    "start_time": "2021-09-09T20:04:31.863Z"
   },
   {
    "duration": 11,
    "start_time": "2021-09-09T20:04:31.894Z"
   },
   {
    "duration": 9,
    "start_time": "2021-09-09T20:04:31.907Z"
   },
   {
    "duration": 6,
    "start_time": "2021-09-09T20:04:31.918Z"
   },
   {
    "duration": 9,
    "start_time": "2021-09-09T20:04:31.925Z"
   },
   {
    "duration": 20,
    "start_time": "2021-09-09T20:04:31.935Z"
   },
   {
    "duration": 34,
    "start_time": "2021-09-09T20:04:31.957Z"
   },
   {
    "duration": 5,
    "start_time": "2021-09-09T20:04:31.993Z"
   },
   {
    "duration": 13,
    "start_time": "2021-09-09T20:04:32.000Z"
   },
   {
    "duration": 3,
    "start_time": "2021-09-09T20:04:32.015Z"
   },
   {
    "duration": 20,
    "start_time": "2021-09-09T20:04:32.019Z"
   },
   {
    "duration": 4,
    "start_time": "2021-09-09T20:04:32.040Z"
   },
   {
    "duration": 349,
    "start_time": "2021-09-09T20:04:32.045Z"
   },
   {
    "duration": 5,
    "start_time": "2021-09-09T20:04:32.398Z"
   },
   {
    "duration": 8,
    "start_time": "2021-09-09T20:04:32.405Z"
   },
   {
    "duration": 9,
    "start_time": "2021-09-09T20:04:32.414Z"
   },
   {
    "duration": 18,
    "start_time": "2021-09-09T20:04:32.425Z"
   },
   {
    "duration": 7,
    "start_time": "2021-09-09T20:04:32.445Z"
   },
   {
    "duration": 8,
    "start_time": "2021-09-09T20:04:32.453Z"
   },
   {
    "duration": 14,
    "start_time": "2021-09-09T20:04:32.492Z"
   },
   {
    "duration": 8,
    "start_time": "2021-09-09T20:04:32.508Z"
   },
   {
    "duration": 8,
    "start_time": "2021-09-09T20:04:32.519Z"
   },
   {
    "duration": 10,
    "start_time": "2021-09-09T20:04:32.529Z"
   },
   {
    "duration": 13,
    "start_time": "2021-09-09T20:04:32.540Z"
   },
   {
    "duration": 37,
    "start_time": "2021-09-09T20:04:32.555Z"
   },
   {
    "duration": 10,
    "start_time": "2021-09-09T20:04:32.594Z"
   },
   {
    "duration": 13,
    "start_time": "2021-09-09T20:04:32.606Z"
   },
   {
    "duration": 42,
    "start_time": "2021-09-09T20:04:32.620Z"
   },
   {
    "duration": 8,
    "start_time": "2021-09-09T20:04:32.664Z"
   },
   {
    "duration": 34,
    "start_time": "2021-09-09T20:04:32.674Z"
   },
   {
    "duration": 28,
    "start_time": "2021-09-09T20:04:32.710Z"
   },
   {
    "duration": 6,
    "start_time": "2021-09-09T20:04:32.740Z"
   },
   {
    "duration": 7,
    "start_time": "2021-09-09T20:04:32.747Z"
   },
   {
    "duration": 640,
    "start_time": "2021-09-09T20:04:32.756Z"
   },
   {
    "duration": 6,
    "start_time": "2021-09-09T20:04:33.398Z"
   },
   {
    "duration": 6,
    "start_time": "2021-09-09T20:04:33.406Z"
   },
   {
    "duration": 5,
    "start_time": "2021-09-09T20:04:33.414Z"
   },
   {
    "duration": 13,
    "start_time": "2021-09-09T20:04:33.421Z"
   },
   {
    "duration": 3,
    "start_time": "2021-09-09T20:04:33.436Z"
   },
   {
    "duration": 1266,
    "start_time": "2021-09-09T20:04:33.441Z"
   },
   {
    "duration": 8,
    "start_time": "2021-09-09T20:04:34.709Z"
   },
   {
    "duration": 667,
    "start_time": "2021-09-09T20:04:34.719Z"
   },
   {
    "duration": 29,
    "start_time": "2021-09-09T20:04:35.391Z"
   },
   {
    "duration": 2,
    "start_time": "2021-09-09T20:04:35.422Z"
   },
   {
    "duration": 7,
    "start_time": "2021-09-09T20:04:35.426Z"
   },
   {
    "duration": 22,
    "start_time": "2021-09-09T20:04:35.435Z"
   },
   {
    "duration": 14,
    "start_time": "2021-09-09T20:04:35.459Z"
   },
   {
    "duration": 19,
    "start_time": "2021-09-09T20:04:35.474Z"
   },
   {
    "duration": 10,
    "start_time": "2021-09-09T20:04:35.494Z"
   },
   {
    "duration": 14,
    "start_time": "2021-09-09T20:04:35.506Z"
   },
   {
    "duration": 12,
    "start_time": "2021-09-09T20:04:35.522Z"
   },
   {
    "duration": 29,
    "start_time": "2021-09-09T20:04:35.535Z"
   },
   {
    "duration": 9,
    "start_time": "2021-09-09T20:04:35.566Z"
   },
   {
    "duration": 22,
    "start_time": "2021-09-09T20:04:35.577Z"
   },
   {
    "duration": 23,
    "start_time": "2021-09-09T20:04:35.601Z"
   },
   {
    "duration": 611,
    "start_time": "2021-09-09T20:04:35.626Z"
   },
   {
    "duration": 29,
    "start_time": "2021-09-09T20:04:36.238Z"
   },
   {
    "duration": 36,
    "start_time": "2021-09-09T20:04:36.269Z"
   },
   {
    "duration": 23,
    "start_time": "2021-09-09T20:04:36.310Z"
   },
   {
    "duration": 110,
    "start_time": "2021-09-09T20:05:36.352Z"
   },
   {
    "duration": 6,
    "start_time": "2021-09-09T20:09:24.233Z"
   },
   {
    "duration": 14,
    "start_time": "2021-09-09T20:09:32.327Z"
   },
   {
    "duration": 3,
    "start_time": "2021-09-09T20:09:52.135Z"
   },
   {
    "duration": 55,
    "start_time": "2021-09-09T20:09:52.140Z"
   },
   {
    "duration": 11,
    "start_time": "2021-09-09T20:09:52.197Z"
   },
   {
    "duration": 8,
    "start_time": "2021-09-09T20:09:52.210Z"
   },
   {
    "duration": 15,
    "start_time": "2021-09-09T20:09:52.219Z"
   },
   {
    "duration": 54,
    "start_time": "2021-09-09T20:09:52.236Z"
   },
   {
    "duration": 8,
    "start_time": "2021-09-09T20:09:52.293Z"
   },
   {
    "duration": 12,
    "start_time": "2021-09-09T20:09:52.303Z"
   },
   {
    "duration": 11,
    "start_time": "2021-09-09T20:09:52.316Z"
   },
   {
    "duration": 8,
    "start_time": "2021-09-09T20:09:52.328Z"
   },
   {
    "duration": 11,
    "start_time": "2021-09-09T20:09:52.338Z"
   },
   {
    "duration": 41,
    "start_time": "2021-09-09T20:09:52.350Z"
   },
   {
    "duration": 12,
    "start_time": "2021-09-09T20:09:52.393Z"
   },
   {
    "duration": 4,
    "start_time": "2021-09-09T20:09:52.406Z"
   },
   {
    "duration": 14,
    "start_time": "2021-09-09T20:09:52.412Z"
   },
   {
    "duration": 19,
    "start_time": "2021-09-09T20:09:52.427Z"
   },
   {
    "duration": 18,
    "start_time": "2021-09-09T20:09:52.447Z"
   },
   {
    "duration": 85,
    "start_time": "2021-09-09T20:09:52.466Z"
   },
   {
    "duration": 16,
    "start_time": "2021-09-09T20:09:52.555Z"
   },
   {
    "duration": 3,
    "start_time": "2021-09-09T20:09:52.573Z"
   },
   {
    "duration": 29,
    "start_time": "2021-09-09T20:09:52.578Z"
   },
   {
    "duration": 8,
    "start_time": "2021-09-09T20:09:52.609Z"
   },
   {
    "duration": 344,
    "start_time": "2021-09-09T20:09:52.618Z"
   },
   {
    "duration": 5,
    "start_time": "2021-09-09T20:09:52.964Z"
   },
   {
    "duration": 11,
    "start_time": "2021-09-09T20:09:52.971Z"
   },
   {
    "duration": 12,
    "start_time": "2021-09-09T20:09:52.983Z"
   },
   {
    "duration": 25,
    "start_time": "2021-09-09T20:09:52.996Z"
   },
   {
    "duration": 5,
    "start_time": "2021-09-09T20:09:53.023Z"
   },
   {
    "duration": 12,
    "start_time": "2021-09-09T20:09:53.029Z"
   },
   {
    "duration": 18,
    "start_time": "2021-09-09T20:09:53.042Z"
   },
   {
    "duration": 8,
    "start_time": "2021-09-09T20:09:53.062Z"
   },
   {
    "duration": 22,
    "start_time": "2021-09-09T20:09:53.072Z"
   },
   {
    "duration": 9,
    "start_time": "2021-09-09T20:09:53.096Z"
   },
   {
    "duration": 13,
    "start_time": "2021-09-09T20:09:53.107Z"
   },
   {
    "duration": 16,
    "start_time": "2021-09-09T20:09:53.121Z"
   },
   {
    "duration": 15,
    "start_time": "2021-09-09T20:09:53.138Z"
   },
   {
    "duration": 24,
    "start_time": "2021-09-09T20:09:53.155Z"
   },
   {
    "duration": 49,
    "start_time": "2021-09-09T20:09:53.180Z"
   },
   {
    "duration": 6,
    "start_time": "2021-09-09T20:09:53.231Z"
   },
   {
    "duration": 27,
    "start_time": "2021-09-09T20:09:53.239Z"
   },
   {
    "duration": 30,
    "start_time": "2021-09-09T20:09:53.268Z"
   },
   {
    "duration": 5,
    "start_time": "2021-09-09T20:09:53.300Z"
   },
   {
    "duration": 26,
    "start_time": "2021-09-09T20:09:53.307Z"
   },
   {
    "duration": 633,
    "start_time": "2021-09-09T20:09:53.335Z"
   },
   {
    "duration": 6,
    "start_time": "2021-09-09T20:09:53.970Z"
   },
   {
    "duration": 15,
    "start_time": "2021-09-09T20:09:53.977Z"
   },
   {
    "duration": 9,
    "start_time": "2021-09-09T20:09:53.994Z"
   },
   {
    "duration": 18,
    "start_time": "2021-09-09T20:09:54.004Z"
   },
   {
    "duration": 3,
    "start_time": "2021-09-09T20:09:54.024Z"
   },
   {
    "duration": 1234,
    "start_time": "2021-09-09T20:09:54.029Z"
   },
   {
    "duration": 8,
    "start_time": "2021-09-09T20:09:55.264Z"
   },
   {
    "duration": 685,
    "start_time": "2021-09-09T20:09:55.274Z"
   },
   {
    "duration": 34,
    "start_time": "2021-09-09T20:09:55.961Z"
   },
   {
    "duration": 2,
    "start_time": "2021-09-09T20:09:55.996Z"
   },
   {
    "duration": 6,
    "start_time": "2021-09-09T20:09:56.003Z"
   },
   {
    "duration": 17,
    "start_time": "2021-09-09T20:09:56.011Z"
   },
   {
    "duration": 13,
    "start_time": "2021-09-09T20:09:56.030Z"
   },
   {
    "duration": 2,
    "start_time": "2021-09-09T20:09:56.044Z"
   },
   {
    "duration": 9,
    "start_time": "2021-09-09T20:09:56.048Z"
   },
   {
    "duration": 8,
    "start_time": "2021-09-09T20:09:56.059Z"
   },
   {
    "duration": 28,
    "start_time": "2021-09-09T20:09:56.068Z"
   },
   {
    "duration": 28,
    "start_time": "2021-09-09T20:09:56.098Z"
   },
   {
    "duration": 6,
    "start_time": "2021-09-09T20:09:56.127Z"
   },
   {
    "duration": 12,
    "start_time": "2021-09-09T20:09:56.135Z"
   },
   {
    "duration": 45,
    "start_time": "2021-09-09T20:09:56.149Z"
   },
   {
    "duration": 31,
    "start_time": "2021-09-09T20:09:56.196Z"
   },
   {
    "duration": 23,
    "start_time": "2021-09-09T20:09:56.229Z"
   },
   {
    "duration": 51,
    "start_time": "2021-09-09T20:09:56.253Z"
   },
   {
    "duration": 30,
    "start_time": "2021-09-09T20:09:56.306Z"
   },
   {
    "duration": 34,
    "start_time": "2021-09-09T20:10:55.818Z"
   },
   {
    "duration": 11,
    "start_time": "2021-09-09T20:11:37.996Z"
   },
   {
    "duration": 15,
    "start_time": "2021-09-09T20:12:48.507Z"
   },
   {
    "duration": 293,
    "start_time": "2021-09-09T20:20:46.515Z"
   },
   {
    "duration": 13,
    "start_time": "2021-09-09T20:20:48.781Z"
   },
   {
    "duration": 8,
    "start_time": "2021-09-09T20:21:31.023Z"
   },
   {
    "duration": 115,
    "start_time": "2021-09-10T08:51:54.156Z"
   },
   {
    "duration": 464,
    "start_time": "2021-09-10T08:52:19.699Z"
   },
   {
    "duration": 762,
    "start_time": "2021-09-10T08:52:25.757Z"
   },
   {
    "duration": 63,
    "start_time": "2021-09-10T08:52:26.521Z"
   },
   {
    "duration": 28,
    "start_time": "2021-09-10T08:52:26.587Z"
   },
   {
    "duration": 7,
    "start_time": "2021-09-10T08:52:26.618Z"
   },
   {
    "duration": 39,
    "start_time": "2021-09-10T08:52:26.627Z"
   },
   {
    "duration": 48,
    "start_time": "2021-09-10T08:52:26.669Z"
   },
   {
    "duration": 42,
    "start_time": "2021-09-10T08:52:26.719Z"
   },
   {
    "duration": 21,
    "start_time": "2021-09-10T08:52:26.766Z"
   },
   {
    "duration": 11,
    "start_time": "2021-09-10T08:52:26.790Z"
   },
   {
    "duration": 8,
    "start_time": "2021-09-10T08:52:26.803Z"
   },
   {
    "duration": 46,
    "start_time": "2021-09-10T08:52:26.813Z"
   },
   {
    "duration": 21,
    "start_time": "2021-09-10T08:52:26.862Z"
   },
   {
    "duration": 10,
    "start_time": "2021-09-10T08:52:26.885Z"
   },
   {
    "duration": 16,
    "start_time": "2021-09-10T08:52:29.833Z"
   },
   {
    "duration": 10245,
    "start_time": "2021-09-10T08:52:44.226Z"
   },
   {
    "duration": 7,
    "start_time": "2021-09-10T08:53:02.154Z"
   },
   {
    "duration": 402,
    "start_time": "2021-09-10T08:53:22.361Z"
   },
   {
    "duration": 5,
    "start_time": "2021-09-10T08:53:29.872Z"
   },
   {
    "duration": 16,
    "start_time": "2021-09-10T09:33:50.156Z"
   },
   {
    "duration": 23,
    "start_time": "2021-09-10T09:33:55.767Z"
   },
   {
    "duration": 4,
    "start_time": "2021-09-10T09:36:24.403Z"
   },
   {
    "duration": 5,
    "start_time": "2021-09-10T09:36:30.580Z"
   },
   {
    "duration": 4,
    "start_time": "2021-09-10T10:38:26.659Z"
   },
   {
    "duration": 5,
    "start_time": "2021-09-10T10:38:55.283Z"
   },
   {
    "duration": 4,
    "start_time": "2021-09-10T10:54:53.364Z"
   },
   {
    "duration": 69,
    "start_time": "2021-09-10T10:54:53.371Z"
   },
   {
    "duration": 19,
    "start_time": "2021-09-10T10:54:53.443Z"
   },
   {
    "duration": 11,
    "start_time": "2021-09-10T10:54:53.466Z"
   },
   {
    "duration": 17,
    "start_time": "2021-09-10T10:54:53.480Z"
   },
   {
    "duration": 77,
    "start_time": "2021-09-10T10:54:53.499Z"
   },
   {
    "duration": 10,
    "start_time": "2021-09-10T10:54:53.579Z"
   },
   {
    "duration": 22,
    "start_time": "2021-09-10T10:54:53.592Z"
   },
   {
    "duration": 11,
    "start_time": "2021-09-10T10:54:53.617Z"
   },
   {
    "duration": 30,
    "start_time": "2021-09-10T10:54:53.630Z"
   },
   {
    "duration": 22,
    "start_time": "2021-09-10T10:54:53.662Z"
   },
   {
    "duration": 21,
    "start_time": "2021-09-10T10:54:53.686Z"
   },
   {
    "duration": 9,
    "start_time": "2021-09-10T10:54:53.710Z"
   },
   {
    "duration": 42,
    "start_time": "2021-09-10T10:54:53.721Z"
   },
   {
    "duration": 5,
    "start_time": "2021-09-10T10:54:53.765Z"
   },
   {
    "duration": 5,
    "start_time": "2021-09-10T10:54:59.784Z"
   },
   {
    "duration": 4,
    "start_time": "2021-09-10T10:55:00.253Z"
   },
   {
    "duration": 182,
    "start_time": "2021-09-10T10:55:00.712Z"
   },
   {
    "duration": 6,
    "start_time": "2021-09-10T10:55:27.517Z"
   },
   {
    "duration": 106,
    "start_time": "2021-09-10T10:55:28.085Z"
   },
   {
    "duration": 33,
    "start_time": "2021-09-10T10:55:40.546Z"
   },
   {
    "duration": 7,
    "start_time": "2021-09-10T10:55:49.733Z"
   },
   {
    "duration": 7,
    "start_time": "2021-09-10T10:55:54.518Z"
   },
   {
    "duration": 5,
    "start_time": "2021-09-10T10:56:42.978Z"
   },
   {
    "duration": 4,
    "start_time": "2021-09-10T10:56:52.706Z"
   },
   {
    "duration": 82,
    "start_time": "2021-09-10T10:56:52.712Z"
   },
   {
    "duration": 19,
    "start_time": "2021-09-10T10:56:52.797Z"
   },
   {
    "duration": 7,
    "start_time": "2021-09-10T10:56:52.818Z"
   },
   {
    "duration": 40,
    "start_time": "2021-09-10T10:56:52.827Z"
   },
   {
    "duration": 45,
    "start_time": "2021-09-10T10:56:52.870Z"
   },
   {
    "duration": 38,
    "start_time": "2021-09-10T10:56:52.919Z"
   },
   {
    "duration": 19,
    "start_time": "2021-09-10T10:56:52.960Z"
   },
   {
    "duration": 11,
    "start_time": "2021-09-10T10:56:52.982Z"
   },
   {
    "duration": 8,
    "start_time": "2021-09-10T10:56:52.996Z"
   },
   {
    "duration": 22,
    "start_time": "2021-09-10T10:56:53.007Z"
   },
   {
    "duration": 9,
    "start_time": "2021-09-10T10:56:53.056Z"
   },
   {
    "duration": 11,
    "start_time": "2021-09-10T10:56:53.067Z"
   },
   {
    "duration": 23,
    "start_time": "2021-09-10T10:56:53.081Z"
   },
   {
    "duration": 6,
    "start_time": "2021-09-10T10:56:53.106Z"
   },
   {
    "duration": 42,
    "start_time": "2021-09-10T10:56:53.114Z"
   },
   {
    "duration": 119,
    "start_time": "2021-09-10T10:56:53.158Z"
   },
   {
    "duration": 4,
    "start_time": "2021-09-10T10:56:53.280Z"
   },
   {
    "duration": 8,
    "start_time": "2021-09-10T10:56:54.978Z"
   },
   {
    "duration": 5,
    "start_time": "2021-09-10T11:08:35.454Z"
   },
   {
    "duration": 5,
    "start_time": "2021-09-10T11:09:04.969Z"
   },
   {
    "duration": 5,
    "start_time": "2021-09-10T11:09:19.086Z"
   },
   {
    "duration": 5,
    "start_time": "2021-09-10T11:09:25.859Z"
   },
   {
    "duration": 61,
    "start_time": "2021-09-10T11:09:33.202Z"
   },
   {
    "duration": 5,
    "start_time": "2021-09-10T11:09:35.077Z"
   },
   {
    "duration": 3,
    "start_time": "2021-09-10T11:09:47.740Z"
   },
   {
    "duration": 68,
    "start_time": "2021-09-10T11:09:47.746Z"
   },
   {
    "duration": 5,
    "start_time": "2021-09-10T11:09:47.817Z"
   },
   {
    "duration": 38,
    "start_time": "2021-09-10T11:09:47.824Z"
   },
   {
    "duration": 11,
    "start_time": "2021-09-10T11:09:47.864Z"
   },
   {
    "duration": 16,
    "start_time": "2021-09-10T11:09:47.877Z"
   },
   {
    "duration": 84,
    "start_time": "2021-09-10T11:09:47.896Z"
   },
   {
    "duration": 11,
    "start_time": "2021-09-10T11:09:47.984Z"
   },
   {
    "duration": 60,
    "start_time": "2021-09-10T11:09:47.998Z"
   },
   {
    "duration": 7,
    "start_time": "2021-09-10T11:09:48.061Z"
   },
   {
    "duration": 6,
    "start_time": "2021-09-10T11:09:48.070Z"
   },
   {
    "duration": 14,
    "start_time": "2021-09-10T11:09:48.078Z"
   },
   {
    "duration": 10,
    "start_time": "2021-09-10T11:09:48.094Z"
   },
   {
    "duration": 54,
    "start_time": "2021-09-10T11:09:48.107Z"
   },
   {
    "duration": 22,
    "start_time": "2021-09-10T11:09:48.163Z"
   },
   {
    "duration": 5,
    "start_time": "2021-09-10T11:09:48.187Z"
   },
   {
    "duration": 5,
    "start_time": "2021-09-10T11:09:48.195Z"
   },
   {
    "duration": 148,
    "start_time": "2021-09-10T11:09:48.203Z"
   },
   {
    "duration": 7,
    "start_time": "2021-09-10T11:09:48.356Z"
   },
   {
    "duration": 12,
    "start_time": "2021-09-10T11:09:48.365Z"
   },
   {
    "duration": 22,
    "start_time": "2021-09-10T11:09:48.380Z"
   },
   {
    "duration": 60,
    "start_time": "2021-09-10T11:09:48.405Z"
   },
   {
    "duration": 8,
    "start_time": "2021-09-10T11:09:48.473Z"
   },
   {
    "duration": 20,
    "start_time": "2021-09-10T11:09:48.485Z"
   },
   {
    "duration": 5,
    "start_time": "2021-09-10T11:09:48.508Z"
   },
   {
    "duration": 69,
    "start_time": "2021-09-10T11:09:48.516Z"
   },
   {
    "duration": 8,
    "start_time": "2021-09-10T11:09:48.588Z"
   },
   {
    "duration": 624,
    "start_time": "2021-09-10T11:09:48.598Z"
   },
   {
    "duration": 8,
    "start_time": "2021-09-10T11:09:49.225Z"
   },
   {
    "duration": 22,
    "start_time": "2021-09-10T11:09:49.235Z"
   },
   {
    "duration": 9,
    "start_time": "2021-09-10T11:09:49.259Z"
   },
   {
    "duration": 38,
    "start_time": "2021-09-10T11:09:49.270Z"
   },
   {
    "duration": 7,
    "start_time": "2021-09-10T11:09:49.310Z"
   },
   {
    "duration": 356,
    "start_time": "2021-09-10T11:09:49.320Z"
   },
   {
    "duration": -93,
    "start_time": "2021-09-10T11:09:49.772Z"
   },
   {
    "duration": -95,
    "start_time": "2021-09-10T11:09:49.776Z"
   },
   {
    "duration": -98,
    "start_time": "2021-09-10T11:09:49.780Z"
   },
   {
    "duration": -99,
    "start_time": "2021-09-10T11:09:49.783Z"
   },
   {
    "duration": -101,
    "start_time": "2021-09-10T11:09:49.787Z"
   },
   {
    "duration": -104,
    "start_time": "2021-09-10T11:09:49.791Z"
   },
   {
    "duration": -105,
    "start_time": "2021-09-10T11:09:49.794Z"
   },
   {
    "duration": -108,
    "start_time": "2021-09-10T11:09:49.798Z"
   },
   {
    "duration": -110,
    "start_time": "2021-09-10T11:09:49.802Z"
   },
   {
    "duration": -113,
    "start_time": "2021-09-10T11:09:49.806Z"
   },
   {
    "duration": -114,
    "start_time": "2021-09-10T11:09:49.809Z"
   },
   {
    "duration": -116,
    "start_time": "2021-09-10T11:09:49.812Z"
   },
   {
    "duration": -119,
    "start_time": "2021-09-10T11:09:49.817Z"
   },
   {
    "duration": -124,
    "start_time": "2021-09-10T11:09:49.823Z"
   },
   {
    "duration": -127,
    "start_time": "2021-09-10T11:09:49.828Z"
   },
   {
    "duration": -136,
    "start_time": "2021-09-10T11:09:49.838Z"
   },
   {
    "duration": -138,
    "start_time": "2021-09-10T11:09:49.842Z"
   },
   {
    "duration": -142,
    "start_time": "2021-09-10T11:09:49.847Z"
   },
   {
    "duration": -145,
    "start_time": "2021-09-10T11:09:49.852Z"
   },
   {
    "duration": -147,
    "start_time": "2021-09-10T11:09:49.855Z"
   },
   {
    "duration": -150,
    "start_time": "2021-09-10T11:09:49.859Z"
   },
   {
    "duration": -153,
    "start_time": "2021-09-10T11:09:49.863Z"
   },
   {
    "duration": -154,
    "start_time": "2021-09-10T11:09:49.866Z"
   },
   {
    "duration": -157,
    "start_time": "2021-09-10T11:09:49.870Z"
   },
   {
    "duration": -159,
    "start_time": "2021-09-10T11:09:49.873Z"
   },
   {
    "duration": -120,
    "start_time": "2021-09-10T11:09:49.877Z"
   },
   {
    "duration": -122,
    "start_time": "2021-09-10T11:09:49.880Z"
   },
   {
    "duration": -124,
    "start_time": "2021-09-10T11:09:49.884Z"
   },
   {
    "duration": -126,
    "start_time": "2021-09-10T11:09:49.887Z"
   },
   {
    "duration": -134,
    "start_time": "2021-09-10T11:09:49.897Z"
   },
   {
    "duration": -136,
    "start_time": "2021-09-10T11:09:49.901Z"
   },
   {
    "duration": -138,
    "start_time": "2021-09-10T11:09:49.905Z"
   },
   {
    "duration": -140,
    "start_time": "2021-09-10T11:09:49.909Z"
   },
   {
    "duration": -146,
    "start_time": "2021-09-10T11:09:49.917Z"
   },
   {
    "duration": -259,
    "start_time": "2021-09-10T11:09:50.031Z"
   },
   {
    "duration": -272,
    "start_time": "2021-09-10T11:09:50.047Z"
   },
   {
    "duration": -279,
    "start_time": "2021-09-10T11:09:50.055Z"
   },
   {
    "duration": -281,
    "start_time": "2021-09-10T11:09:50.059Z"
   },
   {
    "duration": -284,
    "start_time": "2021-09-10T11:09:50.063Z"
   },
   {
    "duration": -285,
    "start_time": "2021-09-10T11:09:50.066Z"
   },
   {
    "duration": -288,
    "start_time": "2021-09-10T11:09:50.070Z"
   },
   {
    "duration": -290,
    "start_time": "2021-09-10T11:09:50.074Z"
   },
   {
    "duration": -293,
    "start_time": "2021-09-10T11:09:50.078Z"
   },
   {
    "duration": 4,
    "start_time": "2021-09-10T11:10:20.991Z"
   },
   {
    "duration": 4,
    "start_time": "2021-09-10T11:11:32.520Z"
   },
   {
    "duration": 5,
    "start_time": "2021-09-10T11:11:49.159Z"
   },
   {
    "duration": 4,
    "start_time": "2021-09-10T11:11:57.331Z"
   },
   {
    "duration": 4,
    "start_time": "2021-09-10T11:12:25.184Z"
   },
   {
    "duration": 110,
    "start_time": "2021-09-10T11:17:08.617Z"
   },
   {
    "duration": 5,
    "start_time": "2021-09-10T11:17:37.652Z"
   },
   {
    "duration": 5,
    "start_time": "2021-09-10T11:17:52.246Z"
   },
   {
    "duration": 5,
    "start_time": "2021-09-10T11:17:57.136Z"
   },
   {
    "duration": 3,
    "start_time": "2021-09-10T11:18:02.481Z"
   },
   {
    "duration": 71,
    "start_time": "2021-09-10T11:18:02.491Z"
   },
   {
    "duration": 6,
    "start_time": "2021-09-10T11:18:02.565Z"
   },
   {
    "duration": 28,
    "start_time": "2021-09-10T11:18:02.575Z"
   },
   {
    "duration": 6,
    "start_time": "2021-09-10T11:18:02.607Z"
   },
   {
    "duration": 21,
    "start_time": "2021-09-10T11:18:02.657Z"
   },
   {
    "duration": 86,
    "start_time": "2021-09-10T11:18:02.681Z"
   },
   {
    "duration": 13,
    "start_time": "2021-09-10T11:18:02.770Z"
   },
   {
    "duration": 20,
    "start_time": "2021-09-10T11:18:02.788Z"
   },
   {
    "duration": 54,
    "start_time": "2021-09-10T11:18:02.812Z"
   },
   {
    "duration": 9,
    "start_time": "2021-09-10T11:18:02.870Z"
   },
   {
    "duration": 28,
    "start_time": "2021-09-10T11:18:02.881Z"
   },
   {
    "duration": 24,
    "start_time": "2021-09-10T11:18:02.912Z"
   },
   {
    "duration": 12,
    "start_time": "2021-09-10T11:18:02.939Z"
   },
   {
    "duration": 24,
    "start_time": "2021-09-10T11:18:02.955Z"
   },
   {
    "duration": 6,
    "start_time": "2021-09-10T11:18:02.982Z"
   },
   {
    "duration": 7,
    "start_time": "2021-09-10T11:18:02.992Z"
   },
   {
    "duration": 155,
    "start_time": "2021-09-10T11:18:03.001Z"
   },
   {
    "duration": 5,
    "start_time": "2021-09-10T11:18:03.158Z"
   },
   {
    "duration": 39,
    "start_time": "2021-09-10T11:18:03.165Z"
   },
   {
    "duration": 58,
    "start_time": "2021-09-10T11:18:03.206Z"
   },
   {
    "duration": 36,
    "start_time": "2021-09-10T11:18:03.266Z"
   },
   {
    "duration": 12,
    "start_time": "2021-09-10T11:18:03.305Z"
   },
   {
    "duration": 21,
    "start_time": "2021-09-10T11:18:03.324Z"
   },
   {
    "duration": 6,
    "start_time": "2021-09-10T11:18:03.355Z"
   },
   {
    "duration": 51,
    "start_time": "2021-09-10T11:18:03.364Z"
   },
   {
    "duration": 7,
    "start_time": "2021-09-10T11:18:03.418Z"
   },
   {
    "duration": 609,
    "start_time": "2021-09-10T11:18:03.428Z"
   },
   {
    "duration": 18,
    "start_time": "2021-09-10T11:18:04.040Z"
   },
   {
    "duration": 13,
    "start_time": "2021-09-10T11:18:04.061Z"
   },
   {
    "duration": 13,
    "start_time": "2021-09-10T11:18:04.077Z"
   },
   {
    "duration": 64,
    "start_time": "2021-09-10T11:18:04.093Z"
   },
   {
    "duration": 14,
    "start_time": "2021-09-10T11:18:04.160Z"
   },
   {
    "duration": 6,
    "start_time": "2021-09-10T11:18:04.176Z"
   },
   {
    "duration": 13,
    "start_time": "2021-09-10T11:18:04.185Z"
   },
   {
    "duration": 56,
    "start_time": "2021-09-10T11:18:04.201Z"
   },
   {
    "duration": 10,
    "start_time": "2021-09-10T11:18:04.260Z"
   },
   {
    "duration": 17,
    "start_time": "2021-09-10T11:18:04.272Z"
   },
   {
    "duration": 12,
    "start_time": "2021-09-10T11:18:04.291Z"
   },
   {
    "duration": 19,
    "start_time": "2021-09-10T11:18:04.305Z"
   },
   {
    "duration": 34,
    "start_time": "2021-09-10T11:18:04.326Z"
   },
   {
    "duration": 16,
    "start_time": "2021-09-10T11:18:04.363Z"
   },
   {
    "duration": 39,
    "start_time": "2021-09-10T11:18:04.382Z"
   },
   {
    "duration": 55,
    "start_time": "2021-09-10T11:18:04.423Z"
   },
   {
    "duration": 10,
    "start_time": "2021-09-10T11:18:04.480Z"
   },
   {
    "duration": 29,
    "start_time": "2021-09-10T11:18:04.492Z"
   },
   {
    "duration": 62,
    "start_time": "2021-09-10T11:18:04.524Z"
   },
   {
    "duration": 5,
    "start_time": "2021-09-10T11:18:06.415Z"
   },
   {
    "duration": 5,
    "start_time": "2021-09-10T11:18:12.112Z"
   },
   {
    "duration": 4,
    "start_time": "2021-09-10T11:20:03.648Z"
   },
   {
    "duration": 79,
    "start_time": "2021-09-10T11:20:03.655Z"
   },
   {
    "duration": 6,
    "start_time": "2021-09-10T11:20:03.757Z"
   },
   {
    "duration": 32,
    "start_time": "2021-09-10T11:20:03.767Z"
   },
   {
    "duration": 10,
    "start_time": "2021-09-10T11:20:03.802Z"
   },
   {
    "duration": 62,
    "start_time": "2021-09-10T11:20:03.814Z"
   },
   {
    "duration": 52,
    "start_time": "2021-09-10T11:20:03.879Z"
   },
   {
    "duration": 13,
    "start_time": "2021-09-10T11:20:03.959Z"
   },
   {
    "duration": 29,
    "start_time": "2021-09-10T11:20:03.976Z"
   },
   {
    "duration": 12,
    "start_time": "2021-09-10T11:20:04.008Z"
   },
   {
    "duration": 33,
    "start_time": "2021-09-10T11:20:04.023Z"
   },
   {
    "duration": 28,
    "start_time": "2021-09-10T11:20:04.058Z"
   },
   {
    "duration": 12,
    "start_time": "2021-09-10T11:20:04.089Z"
   },
   {
    "duration": 9,
    "start_time": "2021-09-10T11:20:04.104Z"
   },
   {
    "duration": 45,
    "start_time": "2021-09-10T11:20:04.116Z"
   },
   {
    "duration": 6,
    "start_time": "2021-09-10T11:20:04.164Z"
   },
   {
    "duration": 12,
    "start_time": "2021-09-10T11:20:04.172Z"
   },
   {
    "duration": 136,
    "start_time": "2021-09-10T11:20:04.186Z"
   },
   {
    "duration": 5,
    "start_time": "2021-09-10T11:20:04.324Z"
   },
   {
    "duration": 26,
    "start_time": "2021-09-10T11:20:04.331Z"
   },
   {
    "duration": 49,
    "start_time": "2021-09-10T11:20:04.359Z"
   },
   {
    "duration": 38,
    "start_time": "2021-09-10T11:20:04.410Z"
   },
   {
    "duration": 20,
    "start_time": "2021-09-10T11:20:04.454Z"
   },
   {
    "duration": 34,
    "start_time": "2021-09-10T11:20:04.477Z"
   },
   {
    "duration": 14,
    "start_time": "2021-09-10T11:20:04.513Z"
   },
   {
    "duration": 53,
    "start_time": "2021-09-10T11:20:04.530Z"
   },
   {
    "duration": 31,
    "start_time": "2021-09-10T11:20:04.585Z"
   },
   {
    "duration": 618,
    "start_time": "2021-09-10T11:20:04.618Z"
   },
   {
    "duration": 7,
    "start_time": "2021-09-10T11:20:05.238Z"
   },
   {
    "duration": 32,
    "start_time": "2021-09-10T11:20:05.247Z"
   },
   {
    "duration": 21,
    "start_time": "2021-09-10T11:20:05.281Z"
   },
   {
    "duration": 46,
    "start_time": "2021-09-10T11:20:05.305Z"
   },
   {
    "duration": 8,
    "start_time": "2021-09-10T11:20:05.354Z"
   },
   {
    "duration": 9,
    "start_time": "2021-09-10T11:20:05.364Z"
   },
   {
    "duration": 18,
    "start_time": "2021-09-10T11:20:05.375Z"
   },
   {
    "duration": 37,
    "start_time": "2021-09-10T11:20:05.396Z"
   },
   {
    "duration": 21,
    "start_time": "2021-09-10T11:20:05.436Z"
   },
   {
    "duration": 30,
    "start_time": "2021-09-10T11:20:05.460Z"
   },
   {
    "duration": 22,
    "start_time": "2021-09-10T11:20:05.492Z"
   },
   {
    "duration": 21,
    "start_time": "2021-09-10T11:20:05.517Z"
   },
   {
    "duration": 23,
    "start_time": "2021-09-10T11:20:05.541Z"
   },
   {
    "duration": 22,
    "start_time": "2021-09-10T11:20:05.567Z"
   },
   {
    "duration": 37,
    "start_time": "2021-09-10T11:20:05.591Z"
   },
   {
    "duration": 62,
    "start_time": "2021-09-10T11:20:05.630Z"
   },
   {
    "duration": 10,
    "start_time": "2021-09-10T11:20:05.694Z"
   },
   {
    "duration": 35,
    "start_time": "2021-09-10T11:20:05.707Z"
   },
   {
    "duration": 48,
    "start_time": "2021-09-10T11:20:05.745Z"
   },
   {
    "duration": 5,
    "start_time": "2021-09-10T11:20:05.795Z"
   },
   {
    "duration": 25,
    "start_time": "2021-09-10T11:20:05.802Z"
   },
   {
    "duration": 24,
    "start_time": "2021-09-10T11:20:05.829Z"
   },
   {
    "duration": 1840,
    "start_time": "2021-09-10T11:20:05.855Z"
   },
   {
    "duration": -112,
    "start_time": "2021-09-10T11:20:07.810Z"
   },
   {
    "duration": -114,
    "start_time": "2021-09-10T11:20:07.814Z"
   },
   {
    "duration": -122,
    "start_time": "2021-09-10T11:20:07.823Z"
   },
   {
    "duration": -124,
    "start_time": "2021-09-10T11:20:07.827Z"
   },
   {
    "duration": -126,
    "start_time": "2021-09-10T11:20:07.830Z"
   },
   {
    "duration": -129,
    "start_time": "2021-09-10T11:20:07.834Z"
   },
   {
    "duration": -132,
    "start_time": "2021-09-10T11:20:07.838Z"
   },
   {
    "duration": -133,
    "start_time": "2021-09-10T11:20:07.841Z"
   },
   {
    "duration": -136,
    "start_time": "2021-09-10T11:20:07.845Z"
   },
   {
    "duration": -138,
    "start_time": "2021-09-10T11:20:07.848Z"
   },
   {
    "duration": 16,
    "start_time": "2021-09-10T11:20:37.967Z"
   },
   {
    "duration": 39,
    "start_time": "2021-09-10T11:20:43.311Z"
   },
   {
    "duration": 13,
    "start_time": "2021-09-10T11:20:50.741Z"
   },
   {
    "duration": 4,
    "start_time": "2021-09-10T11:21:10.461Z"
   },
   {
    "duration": 5,
    "start_time": "2021-09-10T11:21:27.020Z"
   },
   {
    "duration": 119,
    "start_time": "2021-09-10T11:31:42.102Z"
   },
   {
    "duration": 4,
    "start_time": "2021-09-10T11:41:35.949Z"
   },
   {
    "duration": 76,
    "start_time": "2021-09-10T11:41:35.956Z"
   },
   {
    "duration": 5,
    "start_time": "2021-09-10T11:41:36.034Z"
   },
   {
    "duration": 21,
    "start_time": "2021-09-10T11:41:36.056Z"
   },
   {
    "duration": 15,
    "start_time": "2021-09-10T11:41:36.080Z"
   },
   {
    "duration": 33,
    "start_time": "2021-09-10T11:41:36.097Z"
   },
   {
    "duration": 48,
    "start_time": "2021-09-10T11:41:36.156Z"
   },
   {
    "duration": 49,
    "start_time": "2021-09-10T11:41:36.208Z"
   },
   {
    "duration": 19,
    "start_time": "2021-09-10T11:41:36.260Z"
   },
   {
    "duration": 9,
    "start_time": "2021-09-10T11:41:36.281Z"
   },
   {
    "duration": 21,
    "start_time": "2021-09-10T11:41:36.292Z"
   },
   {
    "duration": 23,
    "start_time": "2021-09-10T11:41:36.315Z"
   },
   {
    "duration": 15,
    "start_time": "2021-09-10T11:41:36.341Z"
   },
   {
    "duration": 14,
    "start_time": "2021-09-10T11:41:36.358Z"
   },
   {
    "duration": 26,
    "start_time": "2021-09-10T11:41:36.375Z"
   },
   {
    "duration": 5,
    "start_time": "2021-09-10T11:41:36.403Z"
   },
   {
    "duration": 46,
    "start_time": "2021-09-10T11:41:36.410Z"
   },
   {
    "duration": 121,
    "start_time": "2021-09-10T11:41:36.459Z"
   },
   {
    "duration": 6,
    "start_time": "2021-09-10T11:41:36.582Z"
   },
   {
    "duration": 12,
    "start_time": "2021-09-10T11:41:36.590Z"
   },
   {
    "duration": 21,
    "start_time": "2021-09-10T11:41:36.605Z"
   },
   {
    "duration": 18,
    "start_time": "2021-09-10T11:41:36.656Z"
   },
   {
    "duration": 7,
    "start_time": "2021-09-10T11:41:36.680Z"
   },
   {
    "duration": 16,
    "start_time": "2021-09-10T11:41:36.691Z"
   },
   {
    "duration": 4,
    "start_time": "2021-09-10T11:41:36.709Z"
   },
   {
    "duration": 72,
    "start_time": "2021-09-10T11:41:36.715Z"
   },
   {
    "duration": 9,
    "start_time": "2021-09-10T11:41:36.789Z"
   },
   {
    "duration": 616,
    "start_time": "2021-09-10T11:41:36.800Z"
   },
   {
    "duration": 7,
    "start_time": "2021-09-10T11:41:37.418Z"
   },
   {
    "duration": 14,
    "start_time": "2021-09-10T11:41:37.427Z"
   },
   {
    "duration": 9,
    "start_time": "2021-09-10T11:41:37.455Z"
   },
   {
    "duration": 43,
    "start_time": "2021-09-10T11:41:37.466Z"
   },
   {
    "duration": 10,
    "start_time": "2021-09-10T11:41:37.512Z"
   },
   {
    "duration": 33,
    "start_time": "2021-09-10T11:41:37.525Z"
   },
   {
    "duration": 14,
    "start_time": "2021-09-10T11:41:37.560Z"
   },
   {
    "duration": 23,
    "start_time": "2021-09-10T11:41:37.577Z"
   },
   {
    "duration": 12,
    "start_time": "2021-09-10T11:41:37.603Z"
   },
   {
    "duration": 46,
    "start_time": "2021-09-10T11:41:37.618Z"
   },
   {
    "duration": 12,
    "start_time": "2021-09-10T11:41:37.667Z"
   },
   {
    "duration": 10,
    "start_time": "2021-09-10T11:41:37.681Z"
   },
   {
    "duration": 14,
    "start_time": "2021-09-10T11:41:37.695Z"
   },
   {
    "duration": 47,
    "start_time": "2021-09-10T11:41:37.712Z"
   },
   {
    "duration": 26,
    "start_time": "2021-09-10T11:41:37.762Z"
   },
   {
    "duration": 71,
    "start_time": "2021-09-10T11:41:37.792Z"
   },
   {
    "duration": 11,
    "start_time": "2021-09-10T11:41:37.866Z"
   },
   {
    "duration": 28,
    "start_time": "2021-09-10T11:41:37.879Z"
   },
   {
    "duration": 63,
    "start_time": "2021-09-10T11:41:37.909Z"
   },
   {
    "duration": 4,
    "start_time": "2021-09-10T11:41:37.974Z"
   },
   {
    "duration": 12,
    "start_time": "2021-09-10T11:41:37.980Z"
   },
   {
    "duration": 34,
    "start_time": "2021-09-10T11:41:37.994Z"
   },
   {
    "duration": 1248,
    "start_time": "2021-09-10T11:41:38.031Z"
   },
   {
    "duration": -85,
    "start_time": "2021-09-10T11:41:39.368Z"
   },
   {
    "duration": -87,
    "start_time": "2021-09-10T11:41:39.373Z"
   },
   {
    "duration": -91,
    "start_time": "2021-09-10T11:41:39.379Z"
   },
   {
    "duration": -94,
    "start_time": "2021-09-10T11:41:39.384Z"
   },
   {
    "duration": -95,
    "start_time": "2021-09-10T11:41:39.388Z"
   },
   {
    "duration": -97,
    "start_time": "2021-09-10T11:41:39.392Z"
   },
   {
    "duration": -100,
    "start_time": "2021-09-10T11:41:39.397Z"
   },
   {
    "duration": -102,
    "start_time": "2021-09-10T11:41:39.402Z"
   },
   {
    "duration": -104,
    "start_time": "2021-09-10T11:41:39.406Z"
   },
   {
    "duration": -107,
    "start_time": "2021-09-10T11:41:39.411Z"
   },
   {
    "duration": -126,
    "start_time": "2021-09-10T11:41:39.432Z"
   },
   {
    "duration": -129,
    "start_time": "2021-09-10T11:41:39.437Z"
   },
   {
    "duration": -131,
    "start_time": "2021-09-10T11:41:39.442Z"
   },
   {
    "duration": -135,
    "start_time": "2021-09-10T11:41:39.448Z"
   },
   {
    "duration": -137,
    "start_time": "2021-09-10T11:41:39.452Z"
   },
   {
    "duration": -139,
    "start_time": "2021-09-10T11:41:39.456Z"
   },
   {
    "duration": -107,
    "start_time": "2021-09-10T11:41:39.461Z"
   },
   {
    "duration": -110,
    "start_time": "2021-09-10T11:41:39.467Z"
   },
   {
    "duration": -112,
    "start_time": "2021-09-10T11:41:39.471Z"
   },
   {
    "duration": -114,
    "start_time": "2021-09-10T11:41:39.476Z"
   },
   {
    "duration": -119,
    "start_time": "2021-09-10T11:41:39.483Z"
   },
   {
    "duration": -120,
    "start_time": "2021-09-10T11:41:39.488Z"
   },
   {
    "duration": -122,
    "start_time": "2021-09-10T11:41:39.492Z"
   },
   {
    "duration": -126,
    "start_time": "2021-09-10T11:41:39.498Z"
   },
   {
    "duration": -127,
    "start_time": "2021-09-10T11:41:39.502Z"
   },
   {
    "duration": 5,
    "start_time": "2021-09-10T11:48:31.499Z"
   },
   {
    "duration": 41,
    "start_time": "2021-09-10T11:48:33.411Z"
   },
   {
    "duration": 4,
    "start_time": "2021-09-10T11:48:47.196Z"
   },
   {
    "duration": 73,
    "start_time": "2021-09-10T11:48:47.203Z"
   },
   {
    "duration": 5,
    "start_time": "2021-09-10T11:48:47.279Z"
   },
   {
    "duration": 21,
    "start_time": "2021-09-10T11:48:47.287Z"
   },
   {
    "duration": 45,
    "start_time": "2021-09-10T11:48:47.310Z"
   },
   {
    "duration": 16,
    "start_time": "2021-09-10T11:48:47.357Z"
   },
   {
    "duration": 47,
    "start_time": "2021-09-10T11:48:47.376Z"
   },
   {
    "duration": 12,
    "start_time": "2021-09-10T11:48:47.456Z"
   },
   {
    "duration": 34,
    "start_time": "2021-09-10T11:48:47.470Z"
   },
   {
    "duration": 15,
    "start_time": "2021-09-10T11:48:47.507Z"
   },
   {
    "duration": 6,
    "start_time": "2021-09-10T11:48:47.524Z"
   },
   {
    "duration": 28,
    "start_time": "2021-09-10T11:48:47.532Z"
   },
   {
    "duration": 11,
    "start_time": "2021-09-10T11:48:47.562Z"
   },
   {
    "duration": 12,
    "start_time": "2021-09-10T11:48:47.576Z"
   },
   {
    "duration": 23,
    "start_time": "2021-09-10T11:48:47.591Z"
   },
   {
    "duration": 42,
    "start_time": "2021-09-10T11:48:47.616Z"
   },
   {
    "duration": 10,
    "start_time": "2021-09-10T11:48:47.660Z"
   },
   {
    "duration": 53,
    "start_time": "2021-09-10T11:48:47.673Z"
   },
   {
    "duration": 5,
    "start_time": "2021-09-10T11:48:47.731Z"
   },
   {
    "duration": 29,
    "start_time": "2021-09-10T11:48:47.739Z"
   },
   {
    "duration": 33,
    "start_time": "2021-09-10T11:48:47.770Z"
   },
   {
    "duration": 36,
    "start_time": "2021-09-10T11:48:47.805Z"
   },
   {
    "duration": 15,
    "start_time": "2021-09-10T11:48:47.843Z"
   },
   {
    "duration": 30,
    "start_time": "2021-09-10T11:48:47.860Z"
   },
   {
    "duration": 9,
    "start_time": "2021-09-10T11:48:47.892Z"
   },
   {
    "duration": 44,
    "start_time": "2021-09-10T11:48:47.904Z"
   },
   {
    "duration": 14,
    "start_time": "2021-09-10T11:48:47.950Z"
   },
   {
    "duration": 590,
    "start_time": "2021-09-10T11:48:47.966Z"
   },
   {
    "duration": 7,
    "start_time": "2021-09-10T11:48:48.558Z"
   },
   {
    "duration": 10,
    "start_time": "2021-09-10T11:48:48.567Z"
   },
   {
    "duration": 9,
    "start_time": "2021-09-10T11:48:48.579Z"
   },
   {
    "duration": 65,
    "start_time": "2021-09-10T11:48:48.591Z"
   },
   {
    "duration": 9,
    "start_time": "2021-09-10T11:48:48.658Z"
   },
   {
    "duration": 7,
    "start_time": "2021-09-10T11:48:48.669Z"
   },
   {
    "duration": 13,
    "start_time": "2021-09-10T11:48:48.678Z"
   },
   {
    "duration": 22,
    "start_time": "2021-09-10T11:48:48.694Z"
   },
   {
    "duration": 10,
    "start_time": "2021-09-10T11:48:48.718Z"
   },
   {
    "duration": 10,
    "start_time": "2021-09-10T11:48:48.756Z"
   },
   {
    "duration": 11,
    "start_time": "2021-09-10T11:48:48.769Z"
   },
   {
    "duration": 9,
    "start_time": "2021-09-10T11:48:48.783Z"
   },
   {
    "duration": 14,
    "start_time": "2021-09-10T11:48:48.794Z"
   },
   {
    "duration": 52,
    "start_time": "2021-09-10T11:48:48.811Z"
   },
   {
    "duration": 20,
    "start_time": "2021-09-10T11:48:48.865Z"
   },
   {
    "duration": 77,
    "start_time": "2021-09-10T11:48:48.887Z"
   },
   {
    "duration": 10,
    "start_time": "2021-09-10T11:48:48.966Z"
   },
   {
    "duration": 31,
    "start_time": "2021-09-10T11:48:48.978Z"
   },
   {
    "duration": 61,
    "start_time": "2021-09-10T11:48:49.012Z"
   },
   {
    "duration": 5,
    "start_time": "2021-09-10T11:48:53.280Z"
   },
   {
    "duration": 18,
    "start_time": "2021-09-10T11:49:12.465Z"
   },
   {
    "duration": 28,
    "start_time": "2021-09-10T11:49:15.943Z"
   },
   {
    "duration": 901,
    "start_time": "2021-09-10T11:49:16.287Z"
   },
   {
    "duration": 2323,
    "start_time": "2021-09-10T11:50:00.841Z"
   },
   {
    "duration": 20,
    "start_time": "2021-09-10T11:50:19.800Z"
   },
   {
    "duration": 5,
    "start_time": "2021-09-10T11:50:41.149Z"
   },
   {
    "duration": 99,
    "start_time": "2021-09-10T11:50:41.157Z"
   },
   {
    "duration": 7,
    "start_time": "2021-09-10T11:50:41.259Z"
   },
   {
    "duration": 44,
    "start_time": "2021-09-10T11:50:41.269Z"
   },
   {
    "duration": 41,
    "start_time": "2021-09-10T11:50:41.316Z"
   },
   {
    "duration": 33,
    "start_time": "2021-09-10T11:50:41.359Z"
   },
   {
    "duration": 72,
    "start_time": "2021-09-10T11:50:41.395Z"
   },
   {
    "duration": 12,
    "start_time": "2021-09-10T11:50:41.473Z"
   },
   {
    "duration": 26,
    "start_time": "2021-09-10T11:50:41.490Z"
   },
   {
    "duration": 37,
    "start_time": "2021-09-10T11:50:41.519Z"
   },
   {
    "duration": 21,
    "start_time": "2021-09-10T11:50:41.559Z"
   },
   {
    "duration": 49,
    "start_time": "2021-09-10T11:50:41.582Z"
   },
   {
    "duration": 26,
    "start_time": "2021-09-10T11:50:41.634Z"
   },
   {
    "duration": 26,
    "start_time": "2021-09-10T11:50:41.662Z"
   },
   {
    "duration": 37,
    "start_time": "2021-09-10T11:50:41.691Z"
   },
   {
    "duration": 8,
    "start_time": "2021-09-10T11:50:41.731Z"
   },
   {
    "duration": 16,
    "start_time": "2021-09-10T11:50:41.742Z"
   },
   {
    "duration": 74,
    "start_time": "2021-09-10T11:50:41.760Z"
   },
   {
    "duration": 6,
    "start_time": "2021-09-10T11:50:41.836Z"
   },
   {
    "duration": 29,
    "start_time": "2021-09-10T11:50:41.845Z"
   },
   {
    "duration": 42,
    "start_time": "2021-09-10T11:50:41.877Z"
   },
   {
    "duration": 30,
    "start_time": "2021-09-10T11:50:41.921Z"
   },
   {
    "duration": 7,
    "start_time": "2021-09-10T11:50:41.957Z"
   },
   {
    "duration": 36,
    "start_time": "2021-09-10T11:50:41.967Z"
   },
   {
    "duration": 30,
    "start_time": "2021-09-10T11:50:42.005Z"
   },
   {
    "duration": 46,
    "start_time": "2021-09-10T11:50:42.037Z"
   },
   {
    "duration": 22,
    "start_time": "2021-09-10T11:50:42.085Z"
   },
   {
    "duration": 619,
    "start_time": "2021-09-10T11:50:42.110Z"
   },
   {
    "duration": 7,
    "start_time": "2021-09-10T11:50:42.732Z"
   },
   {
    "duration": 13,
    "start_time": "2021-09-10T11:50:42.756Z"
   },
   {
    "duration": 29,
    "start_time": "2021-09-10T11:50:42.771Z"
   },
   {
    "duration": 39,
    "start_time": "2021-09-10T11:50:42.802Z"
   },
   {
    "duration": 7,
    "start_time": "2021-09-10T11:50:42.843Z"
   },
   {
    "duration": 14,
    "start_time": "2021-09-10T11:50:42.853Z"
   },
   {
    "duration": 20,
    "start_time": "2021-09-10T11:50:42.869Z"
   },
   {
    "duration": 35,
    "start_time": "2021-09-10T11:50:42.892Z"
   },
   {
    "duration": 33,
    "start_time": "2021-09-10T11:50:42.929Z"
   },
   {
    "duration": 35,
    "start_time": "2021-09-10T11:50:42.964Z"
   },
   {
    "duration": 36,
    "start_time": "2021-09-10T11:50:43.001Z"
   },
   {
    "duration": 25,
    "start_time": "2021-09-10T11:50:43.040Z"
   },
   {
    "duration": 30,
    "start_time": "2021-09-10T11:50:43.068Z"
   },
   {
    "duration": 34,
    "start_time": "2021-09-10T11:50:43.101Z"
   },
   {
    "duration": 40,
    "start_time": "2021-09-10T11:50:43.137Z"
   },
   {
    "duration": 76,
    "start_time": "2021-09-10T11:50:43.179Z"
   },
   {
    "duration": 10,
    "start_time": "2021-09-10T11:50:43.257Z"
   },
   {
    "duration": 47,
    "start_time": "2021-09-10T11:50:43.270Z"
   },
   {
    "duration": 44,
    "start_time": "2021-09-10T11:50:43.319Z"
   },
   {
    "duration": 5,
    "start_time": "2021-09-10T11:50:43.365Z"
   },
   {
    "duration": 20,
    "start_time": "2021-09-10T11:50:43.372Z"
   },
   {
    "duration": 90,
    "start_time": "2021-09-10T11:50:43.395Z"
   },
   {
    "duration": 944,
    "start_time": "2021-09-10T11:50:43.488Z"
   },
   {
    "duration": 2293,
    "start_time": "2021-09-10T11:50:44.435Z"
   },
   {
    "duration": 26,
    "start_time": "2021-09-10T11:50:46.731Z"
   },
   {
    "duration": 17,
    "start_time": "2021-09-10T11:50:46.759Z"
   },
   {
    "duration": 19,
    "start_time": "2021-09-10T11:50:46.778Z"
   },
   {
    "duration": 93,
    "start_time": "2021-09-10T11:50:46.799Z"
   },
   {
    "duration": 4,
    "start_time": "2021-09-10T11:50:46.894Z"
   },
   {
    "duration": 1833,
    "start_time": "2021-09-10T11:50:46.901Z"
   },
   {
    "duration": 18,
    "start_time": "2021-09-10T11:50:48.736Z"
   },
   {
    "duration": 987,
    "start_time": "2021-09-10T11:50:48.757Z"
   },
   {
    "duration": 54,
    "start_time": "2021-09-10T11:50:49.747Z"
   },
   {
    "duration": 4,
    "start_time": "2021-09-10T11:50:49.803Z"
   },
   {
    "duration": 16,
    "start_time": "2021-09-10T11:50:49.809Z"
   },
   {
    "duration": 38,
    "start_time": "2021-09-10T11:50:49.828Z"
   },
   {
    "duration": 20,
    "start_time": "2021-09-10T11:50:49.869Z"
   },
   {
    "duration": 5,
    "start_time": "2021-09-10T11:50:49.891Z"
   },
   {
    "duration": 18,
    "start_time": "2021-09-10T11:50:49.898Z"
   },
   {
    "duration": 28,
    "start_time": "2021-09-10T11:50:49.928Z"
   },
   {
    "duration": 14,
    "start_time": "2021-09-10T11:50:49.959Z"
   },
   {
    "duration": 43,
    "start_time": "2021-09-10T11:50:49.975Z"
   },
   {
    "duration": 35,
    "start_time": "2021-09-10T11:50:50.021Z"
   },
   {
    "duration": 15,
    "start_time": "2021-09-10T11:50:50.059Z"
   },
   {
    "duration": 44,
    "start_time": "2021-09-10T11:50:50.077Z"
   },
   {
    "duration": 802,
    "start_time": "2021-09-10T11:50:50.123Z"
   },
   {
    "duration": 53,
    "start_time": "2021-09-10T11:50:50.928Z"
   },
   {
    "duration": 38,
    "start_time": "2021-09-10T11:50:50.983Z"
   },
   {
    "duration": 60,
    "start_time": "2021-09-10T11:50:51.023Z"
   },
   {
    "duration": 4,
    "start_time": "2021-09-10T11:51:47.475Z"
   },
   {
    "duration": 75,
    "start_time": "2021-09-10T11:51:47.481Z"
   },
   {
    "duration": 5,
    "start_time": "2021-09-10T11:51:47.558Z"
   },
   {
    "duration": 24,
    "start_time": "2021-09-10T11:51:47.566Z"
   },
   {
    "duration": 6,
    "start_time": "2021-09-10T11:51:47.592Z"
   },
   {
    "duration": 59,
    "start_time": "2021-09-10T11:51:47.600Z"
   },
   {
    "duration": 48,
    "start_time": "2021-09-10T11:51:47.662Z"
   },
   {
    "duration": 42,
    "start_time": "2021-09-10T11:51:47.714Z"
   },
   {
    "duration": 20,
    "start_time": "2021-09-10T11:51:47.759Z"
   },
   {
    "duration": 8,
    "start_time": "2021-09-10T11:51:47.781Z"
   },
   {
    "duration": 6,
    "start_time": "2021-09-10T11:51:47.791Z"
   },
   {
    "duration": 15,
    "start_time": "2021-09-10T11:51:47.800Z"
   },
   {
    "duration": 46,
    "start_time": "2021-09-10T11:51:47.818Z"
   },
   {
    "duration": 10,
    "start_time": "2021-09-10T11:51:47.867Z"
   },
   {
    "duration": 26,
    "start_time": "2021-09-10T11:51:47.880Z"
   },
   {
    "duration": 5,
    "start_time": "2021-09-10T11:51:47.909Z"
   },
   {
    "duration": 42,
    "start_time": "2021-09-10T11:51:47.916Z"
   },
   {
    "duration": 42,
    "start_time": "2021-09-10T11:51:47.960Z"
   },
   {
    "duration": 5,
    "start_time": "2021-09-10T11:51:48.004Z"
   },
   {
    "duration": 11,
    "start_time": "2021-09-10T11:51:48.011Z"
   },
   {
    "duration": 45,
    "start_time": "2021-09-10T11:51:48.024Z"
   },
   {
    "duration": 22,
    "start_time": "2021-09-10T11:51:48.072Z"
   },
   {
    "duration": 8,
    "start_time": "2021-09-10T11:51:48.102Z"
   },
   {
    "duration": 51,
    "start_time": "2021-09-10T11:51:48.114Z"
   },
   {
    "duration": 6,
    "start_time": "2021-09-10T11:51:48.168Z"
   },
   {
    "duration": 35,
    "start_time": "2021-09-10T11:51:48.177Z"
   },
   {
    "duration": 6,
    "start_time": "2021-09-10T11:51:48.215Z"
   },
   {
    "duration": 732,
    "start_time": "2021-09-10T11:51:48.223Z"
   },
   {
    "duration": 9,
    "start_time": "2021-09-10T11:51:48.958Z"
   },
   {
    "duration": 9,
    "start_time": "2021-09-10T11:51:48.970Z"
   },
   {
    "duration": 10,
    "start_time": "2021-09-10T11:51:48.982Z"
   },
   {
    "duration": 77,
    "start_time": "2021-09-10T11:51:48.995Z"
   },
   {
    "duration": 13,
    "start_time": "2021-09-10T11:51:49.075Z"
   },
   {
    "duration": 5,
    "start_time": "2021-09-10T11:51:49.090Z"
   },
   {
    "duration": 13,
    "start_time": "2021-09-10T11:51:49.097Z"
   },
   {
    "duration": 57,
    "start_time": "2021-09-10T11:51:49.112Z"
   },
   {
    "duration": 12,
    "start_time": "2021-09-10T11:51:49.171Z"
   },
   {
    "duration": 14,
    "start_time": "2021-09-10T11:51:49.185Z"
   },
   {
    "duration": 11,
    "start_time": "2021-09-10T11:51:49.202Z"
   },
   {
    "duration": 9,
    "start_time": "2021-09-10T11:51:49.215Z"
   },
   {
    "duration": 9,
    "start_time": "2021-09-10T11:51:49.255Z"
   },
   {
    "duration": 12,
    "start_time": "2021-09-10T11:51:49.267Z"
   },
   {
    "duration": 18,
    "start_time": "2021-09-10T11:51:49.281Z"
   },
   {
    "duration": 84,
    "start_time": "2021-09-10T11:51:49.301Z"
   },
   {
    "duration": 11,
    "start_time": "2021-09-10T11:51:49.387Z"
   },
   {
    "duration": 34,
    "start_time": "2021-09-10T11:51:49.400Z"
   },
   {
    "duration": 52,
    "start_time": "2021-09-10T11:51:49.436Z"
   },
   {
    "duration": 4,
    "start_time": "2021-09-10T11:51:49.491Z"
   },
   {
    "duration": 23,
    "start_time": "2021-09-10T11:51:49.497Z"
   },
   {
    "duration": 79,
    "start_time": "2021-09-10T11:51:49.523Z"
   },
   {
    "duration": 944,
    "start_time": "2021-09-10T11:51:49.604Z"
   },
   {
    "duration": 8,
    "start_time": "2021-09-10T11:51:51.959Z"
   },
   {
    "duration": 6,
    "start_time": "2021-09-10T11:52:48.988Z"
   },
   {
    "duration": 7,
    "start_time": "2021-09-10T11:53:02.447Z"
   },
   {
    "duration": 16,
    "start_time": "2021-09-10T11:53:54.544Z"
   },
   {
    "duration": 7,
    "start_time": "2021-09-10T11:53:56.595Z"
   },
   {
    "duration": 4,
    "start_time": "2021-09-10T13:21:32.417Z"
   },
   {
    "duration": 93,
    "start_time": "2021-09-10T13:21:32.424Z"
   },
   {
    "duration": 5,
    "start_time": "2021-09-10T13:21:32.520Z"
   },
   {
    "duration": 47,
    "start_time": "2021-09-10T13:21:32.527Z"
   },
   {
    "duration": 10,
    "start_time": "2021-09-10T13:21:32.576Z"
   },
   {
    "duration": 31,
    "start_time": "2021-09-10T13:21:32.589Z"
   },
   {
    "duration": 49,
    "start_time": "2021-09-10T13:21:32.656Z"
   },
   {
    "duration": 11,
    "start_time": "2021-09-10T13:21:32.708Z"
   },
   {
    "duration": 53,
    "start_time": "2021-09-10T13:21:32.722Z"
   },
   {
    "duration": 20,
    "start_time": "2021-09-10T13:21:32.777Z"
   },
   {
    "duration": 7,
    "start_time": "2021-09-10T13:21:32.799Z"
   },
   {
    "duration": 17,
    "start_time": "2021-09-10T13:21:32.808Z"
   },
   {
    "duration": 30,
    "start_time": "2021-09-10T13:21:32.828Z"
   },
   {
    "duration": 19,
    "start_time": "2021-09-10T13:21:32.861Z"
   },
   {
    "duration": 27,
    "start_time": "2021-09-10T13:21:32.882Z"
   },
   {
    "duration": 5,
    "start_time": "2021-09-10T13:21:32.912Z"
   },
   {
    "duration": 36,
    "start_time": "2021-09-10T13:21:32.920Z"
   },
   {
    "duration": 46,
    "start_time": "2021-09-10T13:21:32.959Z"
   },
   {
    "duration": 5,
    "start_time": "2021-09-10T13:21:33.010Z"
   },
   {
    "duration": 25,
    "start_time": "2021-09-10T13:21:33.019Z"
   },
   {
    "duration": 36,
    "start_time": "2021-09-10T13:21:33.047Z"
   },
   {
    "duration": 34,
    "start_time": "2021-09-10T13:21:33.085Z"
   },
   {
    "duration": 12,
    "start_time": "2021-09-10T13:21:33.122Z"
   },
   {
    "duration": 30,
    "start_time": "2021-09-10T13:21:33.137Z"
   },
   {
    "duration": 5,
    "start_time": "2021-09-10T13:21:33.169Z"
   },
   {
    "duration": 42,
    "start_time": "2021-09-10T13:21:33.176Z"
   },
   {
    "duration": 9,
    "start_time": "2021-09-10T13:21:33.221Z"
   },
   {
    "duration": 601,
    "start_time": "2021-09-10T13:21:33.232Z"
   },
   {
    "duration": 20,
    "start_time": "2021-09-10T13:21:33.835Z"
   },
   {
    "duration": 10,
    "start_time": "2021-09-10T13:21:33.858Z"
   },
   {
    "duration": 19,
    "start_time": "2021-09-10T13:21:33.871Z"
   },
   {
    "duration": 45,
    "start_time": "2021-09-10T13:21:33.892Z"
   },
   {
    "duration": 17,
    "start_time": "2021-09-10T13:21:33.940Z"
   },
   {
    "duration": 7,
    "start_time": "2021-09-10T13:21:33.959Z"
   },
   {
    "duration": 19,
    "start_time": "2021-09-10T13:21:33.969Z"
   },
   {
    "duration": 32,
    "start_time": "2021-09-10T13:21:33.990Z"
   },
   {
    "duration": 34,
    "start_time": "2021-09-10T13:21:34.025Z"
   },
   {
    "duration": 17,
    "start_time": "2021-09-10T13:21:34.062Z"
   },
   {
    "duration": 17,
    "start_time": "2021-09-10T13:21:34.081Z"
   },
   {
    "duration": 13,
    "start_time": "2021-09-10T13:21:34.100Z"
   },
   {
    "duration": 43,
    "start_time": "2021-09-10T13:21:34.115Z"
   },
   {
    "duration": 13,
    "start_time": "2021-09-10T13:21:34.161Z"
   },
   {
    "duration": 22,
    "start_time": "2021-09-10T13:21:34.177Z"
   },
   {
    "duration": 83,
    "start_time": "2021-09-10T13:21:34.201Z"
   },
   {
    "duration": 9,
    "start_time": "2021-09-10T13:21:34.286Z"
   },
   {
    "duration": 30,
    "start_time": "2021-09-10T13:21:34.298Z"
   },
   {
    "duration": 62,
    "start_time": "2021-09-10T13:21:34.330Z"
   },
   {
    "duration": 5,
    "start_time": "2021-09-10T13:21:34.394Z"
   },
   {
    "duration": 18,
    "start_time": "2021-09-10T13:21:34.401Z"
   },
   {
    "duration": 47,
    "start_time": "2021-09-10T13:21:34.422Z"
   },
   {
    "duration": 918,
    "start_time": "2021-09-10T13:21:34.471Z"
   },
   {
    "duration": 7,
    "start_time": "2021-09-10T13:21:35.392Z"
   },
   {
    "duration": 15,
    "start_time": "2021-09-10T13:21:35.402Z"
   },
   {
    "duration": 10,
    "start_time": "2021-09-10T13:21:35.419Z"
   },
   {
    "duration": 28,
    "start_time": "2021-09-10T13:21:35.437Z"
   },
   {
    "duration": 7,
    "start_time": "2021-09-10T13:21:35.468Z"
   },
   {
    "duration": 1796,
    "start_time": "2021-09-10T13:21:35.477Z"
   },
   {
    "duration": 11,
    "start_time": "2021-09-10T13:21:37.276Z"
   },
   {
    "duration": 1006,
    "start_time": "2021-09-10T13:21:37.289Z"
   },
   {
    "duration": 60,
    "start_time": "2021-09-10T13:21:38.298Z"
   },
   {
    "duration": 4,
    "start_time": "2021-09-10T13:21:38.360Z"
   },
   {
    "duration": 11,
    "start_time": "2021-09-10T13:21:38.366Z"
   },
   {
    "duration": 28,
    "start_time": "2021-09-10T13:21:38.379Z"
   },
   {
    "duration": 21,
    "start_time": "2021-09-10T13:21:38.409Z"
   },
   {
    "duration": 25,
    "start_time": "2021-09-10T13:21:38.432Z"
   },
   {
    "duration": 22,
    "start_time": "2021-09-10T13:21:38.459Z"
   },
   {
    "duration": 5,
    "start_time": "2021-09-10T13:21:38.484Z"
   },
   {
    "duration": 16,
    "start_time": "2021-09-10T13:21:38.491Z"
   },
   {
    "duration": 64,
    "start_time": "2021-09-10T13:21:38.509Z"
   },
   {
    "duration": 8,
    "start_time": "2021-09-10T13:21:38.576Z"
   },
   {
    "duration": 18,
    "start_time": "2021-09-10T13:21:38.586Z"
   },
   {
    "duration": 55,
    "start_time": "2021-09-10T13:21:38.606Z"
   },
   {
    "duration": 50,
    "start_time": "2021-09-10T13:21:38.663Z"
   },
   {
    "duration": 59,
    "start_time": "2021-09-10T13:21:38.715Z"
   },
   {
    "duration": 37,
    "start_time": "2021-09-10T13:21:38.777Z"
   },
   {
    "duration": 58,
    "start_time": "2021-09-10T13:21:38.816Z"
   },
   {
    "duration": 4,
    "start_time": "2021-09-10T13:22:09.583Z"
   },
   {
    "duration": 90,
    "start_time": "2021-09-10T13:22:09.590Z"
   },
   {
    "duration": 5,
    "start_time": "2021-09-10T13:22:09.683Z"
   },
   {
    "duration": 46,
    "start_time": "2021-09-10T13:22:09.690Z"
   },
   {
    "duration": 32,
    "start_time": "2021-09-10T13:22:09.739Z"
   },
   {
    "duration": 29,
    "start_time": "2021-09-10T13:22:09.773Z"
   },
   {
    "duration": 63,
    "start_time": "2021-09-10T13:22:09.805Z"
   },
   {
    "duration": 12,
    "start_time": "2021-09-10T13:22:09.873Z"
   },
   {
    "duration": 27,
    "start_time": "2021-09-10T13:22:09.888Z"
   },
   {
    "duration": 29,
    "start_time": "2021-09-10T13:22:09.918Z"
   },
   {
    "duration": 26,
    "start_time": "2021-09-10T13:22:09.949Z"
   },
   {
    "duration": 53,
    "start_time": "2021-09-10T13:22:09.977Z"
   },
   {
    "duration": 20,
    "start_time": "2021-09-10T13:22:10.032Z"
   },
   {
    "duration": 25,
    "start_time": "2021-09-10T13:22:10.055Z"
   },
   {
    "duration": 33,
    "start_time": "2021-09-10T13:22:10.083Z"
   },
   {
    "duration": 9,
    "start_time": "2021-09-10T13:22:10.118Z"
   },
   {
    "duration": 64,
    "start_time": "2021-09-10T13:22:10.129Z"
   },
   {
    "duration": 62,
    "start_time": "2021-09-10T13:22:10.195Z"
   },
   {
    "duration": 4,
    "start_time": "2021-09-10T13:22:10.259Z"
   },
   {
    "duration": 31,
    "start_time": "2021-09-10T13:22:10.266Z"
   },
   {
    "duration": 41,
    "start_time": "2021-09-10T13:22:10.299Z"
   },
   {
    "duration": 43,
    "start_time": "2021-09-10T13:22:10.343Z"
   },
   {
    "duration": 12,
    "start_time": "2021-09-10T13:22:10.392Z"
   },
   {
    "duration": 61,
    "start_time": "2021-09-10T13:22:10.408Z"
   },
   {
    "duration": 45,
    "start_time": "2021-09-10T13:22:10.472Z"
   },
   {
    "duration": 44,
    "start_time": "2021-09-10T13:22:10.520Z"
   },
   {
    "duration": 13,
    "start_time": "2021-09-10T13:22:10.566Z"
   },
   {
    "duration": 597,
    "start_time": "2021-09-10T13:22:10.581Z"
   },
   {
    "duration": 7,
    "start_time": "2021-09-10T13:22:11.181Z"
   },
   {
    "duration": 25,
    "start_time": "2021-09-10T13:22:11.190Z"
   },
   {
    "duration": 23,
    "start_time": "2021-09-10T13:22:11.218Z"
   },
   {
    "duration": 49,
    "start_time": "2021-09-10T13:22:11.243Z"
   },
   {
    "duration": 15,
    "start_time": "2021-09-10T13:22:11.294Z"
   },
   {
    "duration": 25,
    "start_time": "2021-09-10T13:22:11.311Z"
   },
   {
    "duration": 31,
    "start_time": "2021-09-10T13:22:11.338Z"
   },
   {
    "duration": 33,
    "start_time": "2021-09-10T13:22:11.371Z"
   },
   {
    "duration": 19,
    "start_time": "2021-09-10T13:22:11.407Z"
   },
   {
    "duration": 34,
    "start_time": "2021-09-10T13:22:11.429Z"
   },
   {
    "duration": 15,
    "start_time": "2021-09-10T13:22:11.465Z"
   },
   {
    "duration": 24,
    "start_time": "2021-09-10T13:22:11.482Z"
   },
   {
    "duration": 21,
    "start_time": "2021-09-10T13:22:11.508Z"
   },
   {
    "duration": 17,
    "start_time": "2021-09-10T13:22:11.531Z"
   },
   {
    "duration": 27,
    "start_time": "2021-09-10T13:22:11.551Z"
   },
   {
    "duration": 66,
    "start_time": "2021-09-10T13:22:11.580Z"
   },
   {
    "duration": 10,
    "start_time": "2021-09-10T13:22:11.648Z"
   },
   {
    "duration": 45,
    "start_time": "2021-09-10T13:22:11.660Z"
   },
   {
    "duration": 43,
    "start_time": "2021-09-10T13:22:11.707Z"
   },
   {
    "duration": 4,
    "start_time": "2021-09-10T13:22:11.756Z"
   },
   {
    "duration": 26,
    "start_time": "2021-09-10T13:22:11.763Z"
   },
   {
    "duration": 40,
    "start_time": "2021-09-10T13:22:11.791Z"
   },
   {
    "duration": 922,
    "start_time": "2021-09-10T13:22:11.833Z"
   },
   {
    "duration": 8,
    "start_time": "2021-09-10T13:22:12.758Z"
   },
   {
    "duration": 20,
    "start_time": "2021-09-10T13:22:12.769Z"
   },
   {
    "duration": 14,
    "start_time": "2021-09-10T13:22:12.792Z"
   },
   {
    "duration": 29,
    "start_time": "2021-09-10T13:22:12.809Z"
   },
   {
    "duration": 5,
    "start_time": "2021-09-10T13:22:12.841Z"
   },
   {
    "duration": 1846,
    "start_time": "2021-09-10T13:22:12.848Z"
   },
   {
    "duration": 11,
    "start_time": "2021-09-10T13:22:14.696Z"
   },
   {
    "duration": 997,
    "start_time": "2021-09-10T13:22:14.710Z"
   },
   {
    "duration": 63,
    "start_time": "2021-09-10T13:22:15.709Z"
   },
   {
    "duration": 3,
    "start_time": "2021-09-10T13:22:15.774Z"
   },
   {
    "duration": 29,
    "start_time": "2021-09-10T13:22:15.780Z"
   },
   {
    "duration": 38,
    "start_time": "2021-09-10T13:22:15.811Z"
   },
   {
    "duration": 34,
    "start_time": "2021-09-10T13:22:15.852Z"
   },
   {
    "duration": 3,
    "start_time": "2021-09-10T13:22:15.889Z"
   },
   {
    "duration": 17,
    "start_time": "2021-09-10T13:22:15.894Z"
   },
   {
    "duration": 5,
    "start_time": "2021-09-10T13:22:15.913Z"
   },
   {
    "duration": 27,
    "start_time": "2021-09-10T13:22:15.928Z"
   },
   {
    "duration": 45,
    "start_time": "2021-09-10T13:22:15.959Z"
   },
   {
    "duration": 9,
    "start_time": "2021-09-10T13:22:16.006Z"
   },
   {
    "duration": 45,
    "start_time": "2021-09-10T13:22:16.018Z"
   },
   {
    "duration": 35,
    "start_time": "2021-09-10T13:22:16.065Z"
   },
   {
    "duration": 68,
    "start_time": "2021-09-10T13:22:16.102Z"
   },
   {
    "duration": 36,
    "start_time": "2021-09-10T13:22:16.173Z"
   },
   {
    "duration": 71,
    "start_time": "2021-09-10T13:22:16.211Z"
   },
   {
    "duration": 37,
    "start_time": "2021-09-10T13:22:16.284Z"
   },
   {
    "duration": 4,
    "start_time": "2021-09-10T13:38:16.145Z"
   },
   {
    "duration": 94,
    "start_time": "2021-09-10T13:38:16.152Z"
   },
   {
    "duration": 7,
    "start_time": "2021-09-10T13:38:16.249Z"
   },
   {
    "duration": 20,
    "start_time": "2021-09-10T13:38:16.259Z"
   },
   {
    "duration": 8,
    "start_time": "2021-09-10T13:38:16.281Z"
   },
   {
    "duration": 18,
    "start_time": "2021-09-10T13:38:16.291Z"
   },
   {
    "duration": 87,
    "start_time": "2021-09-10T13:38:16.312Z"
   },
   {
    "duration": 11,
    "start_time": "2021-09-10T13:38:16.402Z"
   },
   {
    "duration": 55,
    "start_time": "2021-09-10T13:38:16.416Z"
   },
   {
    "duration": 17,
    "start_time": "2021-09-10T13:38:16.474Z"
   },
   {
    "duration": 20,
    "start_time": "2021-09-10T13:38:16.493Z"
   },
   {
    "duration": 31,
    "start_time": "2021-09-10T13:38:16.516Z"
   },
   {
    "duration": 32,
    "start_time": "2021-09-10T13:38:16.549Z"
   },
   {
    "duration": 32,
    "start_time": "2021-09-10T13:38:16.583Z"
   },
   {
    "duration": 38,
    "start_time": "2021-09-10T13:38:16.618Z"
   },
   {
    "duration": 5,
    "start_time": "2021-09-10T13:38:16.658Z"
   },
   {
    "duration": 5,
    "start_time": "2021-09-10T13:38:16.665Z"
   },
   {
    "duration": 46,
    "start_time": "2021-09-10T13:38:16.673Z"
   },
   {
    "duration": 4,
    "start_time": "2021-09-10T13:38:16.724Z"
   },
   {
    "duration": 31,
    "start_time": "2021-09-10T13:38:16.731Z"
   },
   {
    "duration": 22,
    "start_time": "2021-09-10T13:38:16.764Z"
   },
   {
    "duration": 22,
    "start_time": "2021-09-10T13:38:16.788Z"
   },
   {
    "duration": 7,
    "start_time": "2021-09-10T13:38:16.812Z"
   },
   {
    "duration": 49,
    "start_time": "2021-09-10T13:38:16.821Z"
   },
   {
    "duration": 18,
    "start_time": "2021-09-10T13:38:16.872Z"
   },
   {
    "duration": 43,
    "start_time": "2021-09-10T13:38:16.892Z"
   },
   {
    "duration": 7,
    "start_time": "2021-09-10T13:38:16.938Z"
   },
   {
    "duration": 599,
    "start_time": "2021-09-10T13:38:16.947Z"
   },
   {
    "duration": 10,
    "start_time": "2021-09-10T13:38:17.549Z"
   },
   {
    "duration": 10,
    "start_time": "2021-09-10T13:38:17.562Z"
   },
   {
    "duration": 14,
    "start_time": "2021-09-10T13:38:17.574Z"
   },
   {
    "duration": 28,
    "start_time": "2021-09-10T13:38:17.591Z"
   },
   {
    "duration": 36,
    "start_time": "2021-09-10T13:38:17.621Z"
   },
   {
    "duration": 5,
    "start_time": "2021-09-10T13:38:17.659Z"
   },
   {
    "duration": 20,
    "start_time": "2021-09-10T13:38:17.666Z"
   },
   {
    "duration": 21,
    "start_time": "2021-09-10T13:38:17.688Z"
   },
   {
    "duration": 15,
    "start_time": "2021-09-10T13:38:17.711Z"
   },
   {
    "duration": 36,
    "start_time": "2021-09-10T13:38:17.728Z"
   },
   {
    "duration": 10,
    "start_time": "2021-09-10T13:38:17.767Z"
   },
   {
    "duration": 18,
    "start_time": "2021-09-10T13:38:17.779Z"
   },
   {
    "duration": 15,
    "start_time": "2021-09-10T13:38:17.799Z"
   },
   {
    "duration": 48,
    "start_time": "2021-09-10T13:38:17.816Z"
   },
   {
    "duration": 21,
    "start_time": "2021-09-10T13:38:17.866Z"
   },
   {
    "duration": 72,
    "start_time": "2021-09-10T13:38:17.889Z"
   },
   {
    "duration": 10,
    "start_time": "2021-09-10T13:38:17.964Z"
   },
   {
    "duration": 33,
    "start_time": "2021-09-10T13:38:17.976Z"
   },
   {
    "duration": 66,
    "start_time": "2021-09-10T13:38:18.011Z"
   },
   {
    "duration": 5,
    "start_time": "2021-09-10T13:38:18.079Z"
   },
   {
    "duration": 13,
    "start_time": "2021-09-10T13:38:18.086Z"
   },
   {
    "duration": 56,
    "start_time": "2021-09-10T13:38:18.101Z"
   },
   {
    "duration": 924,
    "start_time": "2021-09-10T13:38:18.159Z"
   },
   {
    "duration": 9,
    "start_time": "2021-09-10T13:38:19.086Z"
   },
   {
    "duration": 7,
    "start_time": "2021-09-10T13:38:19.097Z"
   },
   {
    "duration": 7,
    "start_time": "2021-09-10T13:38:19.106Z"
   },
   {
    "duration": 44,
    "start_time": "2021-09-10T13:38:19.121Z"
   },
   {
    "duration": 5,
    "start_time": "2021-09-10T13:38:19.168Z"
   },
   {
    "duration": 1943,
    "start_time": "2021-09-10T13:38:19.175Z"
   },
   {
    "duration": 10,
    "start_time": "2021-09-10T13:38:21.120Z"
   },
   {
    "duration": 1097,
    "start_time": "2021-09-10T13:38:21.133Z"
   },
   {
    "duration": 59,
    "start_time": "2021-09-10T13:38:22.232Z"
   },
   {
    "duration": 4,
    "start_time": "2021-09-10T13:38:22.293Z"
   },
   {
    "duration": 14,
    "start_time": "2021-09-10T13:38:22.299Z"
   },
   {
    "duration": 41,
    "start_time": "2021-09-10T13:38:22.315Z"
   },
   {
    "duration": 21,
    "start_time": "2021-09-10T13:38:22.358Z"
   },
   {
    "duration": 3,
    "start_time": "2021-09-10T13:38:22.381Z"
   },
   {
    "duration": 16,
    "start_time": "2021-09-10T13:38:22.387Z"
   },
   {
    "duration": 7,
    "start_time": "2021-09-10T13:38:22.405Z"
   },
   {
    "duration": 42,
    "start_time": "2021-09-10T13:38:22.414Z"
   },
   {
    "duration": 49,
    "start_time": "2021-09-10T13:38:22.458Z"
   },
   {
    "duration": 9,
    "start_time": "2021-09-10T13:38:22.510Z"
   },
   {
    "duration": 39,
    "start_time": "2021-09-10T13:38:22.521Z"
   },
   {
    "duration": 41,
    "start_time": "2021-09-10T13:38:22.563Z"
   },
   {
    "duration": 82,
    "start_time": "2021-09-10T13:38:22.607Z"
   },
   {
    "duration": 38,
    "start_time": "2021-09-10T13:38:22.692Z"
   },
   {
    "duration": 59,
    "start_time": "2021-09-10T13:38:22.733Z"
   },
   {
    "duration": 38,
    "start_time": "2021-09-10T13:38:22.794Z"
   },
   {
    "duration": 627,
    "start_time": "2021-09-18T22:19:19.290Z"
   },
   {
    "duration": 2336,
    "start_time": "2021-09-18T22:19:19.919Z"
   },
   {
    "duration": 5,
    "start_time": "2021-09-18T22:19:22.257Z"
   },
   {
    "duration": 3149,
    "start_time": "2021-09-18T22:19:22.263Z"
   },
   {
    "duration": 486,
    "start_time": "2021-09-18T22:19:24.930Z"
   },
   {
    "duration": 482,
    "start_time": "2021-09-18T22:19:24.934Z"
   },
   {
    "duration": 473,
    "start_time": "2021-09-18T22:19:24.944Z"
   },
   {
    "duration": 471,
    "start_time": "2021-09-18T22:19:24.947Z"
   },
   {
    "duration": 469,
    "start_time": "2021-09-18T22:19:24.950Z"
   },
   {
    "duration": 460,
    "start_time": "2021-09-18T22:19:24.960Z"
   },
   {
    "duration": 457,
    "start_time": "2021-09-18T22:19:24.964Z"
   },
   {
    "duration": 454,
    "start_time": "2021-09-18T22:19:24.968Z"
   },
   {
    "duration": 452,
    "start_time": "2021-09-18T22:19:24.971Z"
   },
   {
    "duration": 442,
    "start_time": "2021-09-18T22:19:24.981Z"
   },
   {
    "duration": 439,
    "start_time": "2021-09-18T22:19:24.985Z"
   },
   {
    "duration": 436,
    "start_time": "2021-09-18T22:19:24.989Z"
   },
   {
    "duration": 434,
    "start_time": "2021-09-18T22:19:24.992Z"
   },
   {
    "duration": 432,
    "start_time": "2021-09-18T22:19:24.995Z"
   },
   {
    "duration": 430,
    "start_time": "2021-09-18T22:19:24.998Z"
   },
   {
    "duration": 427,
    "start_time": "2021-09-18T22:19:25.002Z"
   },
   {
    "duration": 424,
    "start_time": "2021-09-18T22:19:25.005Z"
   },
   {
    "duration": 421,
    "start_time": "2021-09-18T22:19:25.009Z"
   },
   {
    "duration": 419,
    "start_time": "2021-09-18T22:19:25.012Z"
   },
   {
    "duration": 417,
    "start_time": "2021-09-18T22:19:25.015Z"
   },
   {
    "duration": 415,
    "start_time": "2021-09-18T22:19:25.018Z"
   },
   {
    "duration": 413,
    "start_time": "2021-09-18T22:19:25.021Z"
   },
   {
    "duration": 409,
    "start_time": "2021-09-18T22:19:25.025Z"
   },
   {
    "duration": 407,
    "start_time": "2021-09-18T22:19:25.028Z"
   },
   {
    "duration": 404,
    "start_time": "2021-09-18T22:19:25.032Z"
   },
   {
    "duration": 401,
    "start_time": "2021-09-18T22:19:25.036Z"
   },
   {
    "duration": 398,
    "start_time": "2021-09-18T22:19:25.040Z"
   },
   {
    "duration": 396,
    "start_time": "2021-09-18T22:19:25.043Z"
   },
   {
    "duration": 392,
    "start_time": "2021-09-18T22:19:25.047Z"
   },
   {
    "duration": 390,
    "start_time": "2021-09-18T22:19:25.050Z"
   },
   {
    "duration": 388,
    "start_time": "2021-09-18T22:19:25.053Z"
   },
   {
    "duration": 386,
    "start_time": "2021-09-18T22:19:25.056Z"
   },
   {
    "duration": 383,
    "start_time": "2021-09-18T22:19:25.060Z"
   },
   {
    "duration": 381,
    "start_time": "2021-09-18T22:19:25.063Z"
   },
   {
    "duration": 378,
    "start_time": "2021-09-18T22:19:25.066Z"
   },
   {
    "duration": 374,
    "start_time": "2021-09-18T22:19:25.071Z"
   },
   {
    "duration": 371,
    "start_time": "2021-09-18T22:19:25.075Z"
   },
   {
    "duration": 368,
    "start_time": "2021-09-18T22:19:25.079Z"
   },
   {
    "duration": 356,
    "start_time": "2021-09-18T22:19:25.092Z"
   },
   {
    "duration": 352,
    "start_time": "2021-09-18T22:19:25.097Z"
   },
   {
    "duration": 350,
    "start_time": "2021-09-18T22:19:25.100Z"
   },
   {
    "duration": 347,
    "start_time": "2021-09-18T22:19:25.103Z"
   },
   {
    "duration": 344,
    "start_time": "2021-09-18T22:19:25.107Z"
   },
   {
    "duration": 342,
    "start_time": "2021-09-18T22:19:25.110Z"
   },
   {
    "duration": 340,
    "start_time": "2021-09-18T22:19:25.113Z"
   },
   {
    "duration": 338,
    "start_time": "2021-09-18T22:19:25.116Z"
   },
   {
    "duration": 335,
    "start_time": "2021-09-18T22:19:25.119Z"
   },
   {
    "duration": 333,
    "start_time": "2021-09-18T22:19:25.122Z"
   },
   {
    "duration": 331,
    "start_time": "2021-09-18T22:19:25.125Z"
   },
   {
    "duration": 328,
    "start_time": "2021-09-18T22:19:25.129Z"
   },
   {
    "duration": 326,
    "start_time": "2021-09-18T22:19:25.132Z"
   },
   {
    "duration": 324,
    "start_time": "2021-09-18T22:19:25.135Z"
   },
   {
    "duration": 322,
    "start_time": "2021-09-18T22:19:25.138Z"
   },
   {
    "duration": 318,
    "start_time": "2021-09-18T22:19:25.142Z"
   },
   {
    "duration": 316,
    "start_time": "2021-09-18T22:19:25.145Z"
   },
   {
    "duration": 313,
    "start_time": "2021-09-18T22:19:25.149Z"
   },
   {
    "duration": 311,
    "start_time": "2021-09-18T22:19:25.152Z"
   },
   {
    "duration": 309,
    "start_time": "2021-09-18T22:19:25.155Z"
   },
   {
    "duration": 307,
    "start_time": "2021-09-18T22:19:25.158Z"
   },
   {
    "duration": 304,
    "start_time": "2021-09-18T22:19:25.161Z"
   },
   {
    "duration": 302,
    "start_time": "2021-09-18T22:19:25.164Z"
   },
   {
    "duration": 300,
    "start_time": "2021-09-18T22:19:25.167Z"
   },
   {
    "duration": 298,
    "start_time": "2021-09-18T22:19:25.170Z"
   },
   {
    "duration": 295,
    "start_time": "2021-09-18T22:19:25.174Z"
   },
   {
    "duration": 293,
    "start_time": "2021-09-18T22:19:25.177Z"
   },
   {
    "duration": 286,
    "start_time": "2021-09-18T22:19:25.184Z"
   },
   {
    "duration": 284,
    "start_time": "2021-09-18T22:19:25.187Z"
   },
   {
    "duration": 282,
    "start_time": "2021-09-18T22:19:25.190Z"
   },
   {
    "duration": 271,
    "start_time": "2021-09-18T22:19:25.202Z"
   },
   {
    "duration": 48,
    "start_time": "2021-09-18T22:19:37.648Z"
   },
   {
    "duration": 85,
    "start_time": "2021-09-18T22:19:40.687Z"
   },
   {
    "duration": 1932,
    "start_time": "2021-09-18T22:19:40.773Z"
   },
   {
    "duration": 2,
    "start_time": "2021-09-18T22:19:42.707Z"
   },
   {
    "duration": 50,
    "start_time": "2021-09-18T22:19:42.711Z"
   },
   {
    "duration": 4,
    "start_time": "2021-09-18T22:19:42.763Z"
   },
   {
    "duration": 16,
    "start_time": "2021-09-18T22:19:42.768Z"
   },
   {
    "duration": 3,
    "start_time": "2021-09-18T22:19:42.786Z"
   },
   {
    "duration": 15,
    "start_time": "2021-09-18T22:19:42.791Z"
   },
   {
    "duration": 44,
    "start_time": "2021-09-18T22:19:42.809Z"
   },
   {
    "duration": 8,
    "start_time": "2021-09-18T22:19:42.855Z"
   },
   {
    "duration": 11,
    "start_time": "2021-09-18T22:19:42.865Z"
   },
   {
    "duration": 5,
    "start_time": "2021-09-18T22:19:42.877Z"
   },
   {
    "duration": 4,
    "start_time": "2021-09-18T22:19:42.884Z"
   },
   {
    "duration": 10,
    "start_time": "2021-09-18T22:19:42.889Z"
   },
   {
    "duration": 5,
    "start_time": "2021-09-18T22:19:42.901Z"
   },
   {
    "duration": 37,
    "start_time": "2021-09-18T22:19:42.908Z"
   },
   {
    "duration": 13,
    "start_time": "2021-09-18T22:19:42.946Z"
   },
   {
    "duration": 4,
    "start_time": "2021-09-18T22:19:42.960Z"
   },
   {
    "duration": 9,
    "start_time": "2021-09-18T22:19:42.965Z"
   },
   {
    "duration": 25,
    "start_time": "2021-09-18T22:19:42.975Z"
   },
   {
    "duration": 3,
    "start_time": "2021-09-18T22:19:43.001Z"
   },
   {
    "duration": 6,
    "start_time": "2021-09-18T22:19:43.005Z"
   },
   {
    "duration": 34,
    "start_time": "2021-09-18T22:19:43.013Z"
   },
   {
    "duration": 12,
    "start_time": "2021-09-18T22:19:43.049Z"
   },
   {
    "duration": 4,
    "start_time": "2021-09-18T22:19:43.062Z"
   },
   {
    "duration": 11,
    "start_time": "2021-09-18T22:19:43.067Z"
   },
   {
    "duration": 3,
    "start_time": "2021-09-18T22:19:43.081Z"
   },
   {
    "duration": 15,
    "start_time": "2021-09-18T22:19:43.086Z"
   },
   {
    "duration": 2,
    "start_time": "2021-09-18T22:19:43.103Z"
   },
   {
    "duration": 345,
    "start_time": "2021-09-18T22:19:43.107Z"
   },
   {
    "duration": 5,
    "start_time": "2021-09-18T22:19:43.453Z"
   },
   {
    "duration": 9,
    "start_time": "2021-09-18T22:19:43.459Z"
   },
   {
    "duration": 6,
    "start_time": "2021-09-18T22:19:43.469Z"
   },
   {
    "duration": 18,
    "start_time": "2021-09-18T22:19:43.477Z"
   },
   {
    "duration": 4,
    "start_time": "2021-09-18T22:19:43.497Z"
   },
   {
    "duration": 3,
    "start_time": "2021-09-18T22:19:43.502Z"
   },
   {
    "duration": 7,
    "start_time": "2021-09-18T22:19:43.506Z"
   },
   {
    "duration": 37,
    "start_time": "2021-09-18T22:19:43.515Z"
   },
   {
    "duration": 6,
    "start_time": "2021-09-18T22:19:43.553Z"
   },
   {
    "duration": 7,
    "start_time": "2021-09-18T22:19:43.561Z"
   },
   {
    "duration": 6,
    "start_time": "2021-09-18T22:19:43.569Z"
   },
   {
    "duration": 5,
    "start_time": "2021-09-18T22:19:43.577Z"
   },
   {
    "duration": 6,
    "start_time": "2021-09-18T22:19:43.584Z"
   },
   {
    "duration": 8,
    "start_time": "2021-09-18T22:19:43.592Z"
   },
   {
    "duration": 12,
    "start_time": "2021-09-18T22:19:43.601Z"
   },
   {
    "duration": 36,
    "start_time": "2021-09-18T22:19:43.644Z"
   },
   {
    "duration": 7,
    "start_time": "2021-09-18T22:19:43.682Z"
   },
   {
    "duration": 15,
    "start_time": "2021-09-18T22:19:43.691Z"
   },
   {
    "duration": 46,
    "start_time": "2021-09-18T22:19:43.708Z"
   },
   {
    "duration": 4,
    "start_time": "2021-09-18T22:19:43.755Z"
   },
   {
    "duration": 7,
    "start_time": "2021-09-18T22:19:43.761Z"
   },
   {
    "duration": 3,
    "start_time": "2021-09-18T22:19:43.769Z"
   },
   {
    "duration": 2204,
    "start_time": "2021-09-18T22:19:43.774Z"
   },
   {
    "duration": 14,
    "start_time": "2021-09-18T22:19:45.980Z"
   },
   {
    "duration": 4,
    "start_time": "2021-09-18T22:19:45.996Z"
   },
   {
    "duration": 5,
    "start_time": "2021-09-18T22:19:46.001Z"
   },
   {
    "duration": 5,
    "start_time": "2021-09-18T22:19:46.008Z"
   },
   {
    "duration": 67,
    "start_time": "2021-09-18T22:19:46.015Z"
   },
   {
    "duration": 7,
    "start_time": "2021-09-18T22:19:46.083Z"
   },
   {
    "duration": 39,
    "start_time": "2021-09-18T22:19:46.092Z"
   },
   {
    "duration": 266,
    "start_time": "2021-09-18T22:19:46.133Z"
   },
   {
    "duration": 495,
    "start_time": "2021-09-18T22:19:45.906Z"
   },
   {
    "duration": 492,
    "start_time": "2021-09-18T22:19:45.910Z"
   },
   {
    "duration": 490,
    "start_time": "2021-09-18T22:19:45.913Z"
   },
   {
    "duration": 486,
    "start_time": "2021-09-18T22:19:45.917Z"
   },
   {
    "duration": 484,
    "start_time": "2021-09-18T22:19:45.920Z"
   },
   {
    "duration": 481,
    "start_time": "2021-09-18T22:19:45.924Z"
   },
   {
    "duration": 478,
    "start_time": "2021-09-18T22:19:45.928Z"
   },
   {
    "duration": 475,
    "start_time": "2021-09-18T22:19:45.931Z"
   },
   {
    "duration": 473,
    "start_time": "2021-09-18T22:19:45.934Z"
   },
   {
    "duration": 470,
    "start_time": "2021-09-18T22:19:45.938Z"
   },
   {
    "duration": 468,
    "start_time": "2021-09-18T22:19:45.941Z"
   },
   {
    "duration": 464,
    "start_time": "2021-09-18T22:19:45.946Z"
   },
   {
    "duration": 2,
    "start_time": "2021-09-18T22:23:49.610Z"
   },
   {
    "duration": 116,
    "start_time": "2021-09-18T22:24:10.036Z"
   },
   {
    "duration": 1968,
    "start_time": "2021-09-18T22:24:10.154Z"
   },
   {
    "duration": 2,
    "start_time": "2021-09-18T22:24:12.124Z"
   },
   {
    "duration": 60,
    "start_time": "2021-09-18T22:24:12.128Z"
   },
   {
    "duration": 4,
    "start_time": "2021-09-18T22:24:12.189Z"
   },
   {
    "duration": 17,
    "start_time": "2021-09-18T22:24:12.194Z"
   },
   {
    "duration": 9,
    "start_time": "2021-09-18T22:24:12.212Z"
   },
   {
    "duration": 16,
    "start_time": "2021-09-18T22:24:12.223Z"
   },
   {
    "duration": 42,
    "start_time": "2021-09-18T22:24:12.241Z"
   },
   {
    "duration": 7,
    "start_time": "2021-09-18T22:24:12.285Z"
   },
   {
    "duration": 18,
    "start_time": "2021-09-18T22:24:12.293Z"
   },
   {
    "duration": 6,
    "start_time": "2021-09-18T22:24:12.313Z"
   },
   {
    "duration": 6,
    "start_time": "2021-09-18T22:24:12.320Z"
   },
   {
    "duration": 10,
    "start_time": "2021-09-18T22:24:12.327Z"
   },
   {
    "duration": 13,
    "start_time": "2021-09-18T22:24:12.339Z"
   },
   {
    "duration": 10,
    "start_time": "2021-09-18T22:24:12.353Z"
   },
   {
    "duration": 21,
    "start_time": "2021-09-18T22:24:12.364Z"
   },
   {
    "duration": 4,
    "start_time": "2021-09-18T22:24:12.386Z"
   },
   {
    "duration": 17,
    "start_time": "2021-09-18T22:24:12.392Z"
   },
   {
    "duration": 30,
    "start_time": "2021-09-18T22:24:12.411Z"
   },
   {
    "duration": 3,
    "start_time": "2021-09-18T22:24:12.443Z"
   },
   {
    "duration": 9,
    "start_time": "2021-09-18T22:24:12.448Z"
   },
   {
    "duration": 16,
    "start_time": "2021-09-18T22:24:12.462Z"
   },
   {
    "duration": 16,
    "start_time": "2021-09-18T22:24:12.481Z"
   },
   {
    "duration": 4,
    "start_time": "2021-09-18T22:24:12.499Z"
   },
   {
    "duration": 10,
    "start_time": "2021-09-18T22:24:12.504Z"
   },
   {
    "duration": 3,
    "start_time": "2021-09-18T22:24:12.515Z"
   },
   {
    "duration": 33,
    "start_time": "2021-09-18T22:24:12.519Z"
   },
   {
    "duration": 3,
    "start_time": "2021-09-18T22:24:12.553Z"
   },
   {
    "duration": 325,
    "start_time": "2021-09-18T22:24:12.557Z"
   },
   {
    "duration": 5,
    "start_time": "2021-09-18T22:24:12.883Z"
   },
   {
    "duration": 7,
    "start_time": "2021-09-18T22:24:12.889Z"
   },
   {
    "duration": 6,
    "start_time": "2021-09-18T22:24:12.897Z"
   },
   {
    "duration": 16,
    "start_time": "2021-09-18T22:24:12.904Z"
   },
   {
    "duration": 23,
    "start_time": "2021-09-18T22:24:12.921Z"
   },
   {
    "duration": 4,
    "start_time": "2021-09-18T22:24:12.946Z"
   },
   {
    "duration": 8,
    "start_time": "2021-09-18T22:24:12.952Z"
   },
   {
    "duration": 13,
    "start_time": "2021-09-18T22:24:12.962Z"
   },
   {
    "duration": 8,
    "start_time": "2021-09-18T22:24:12.976Z"
   },
   {
    "duration": 8,
    "start_time": "2021-09-18T22:24:12.986Z"
   },
   {
    "duration": 7,
    "start_time": "2021-09-18T22:24:12.996Z"
   },
   {
    "duration": 40,
    "start_time": "2021-09-18T22:24:13.004Z"
   },
   {
    "duration": 7,
    "start_time": "2021-09-18T22:24:13.046Z"
   },
   {
    "duration": 7,
    "start_time": "2021-09-18T22:24:13.054Z"
   },
   {
    "duration": 12,
    "start_time": "2021-09-18T22:24:13.062Z"
   },
   {
    "duration": 36,
    "start_time": "2021-09-18T22:24:13.076Z"
   },
   {
    "duration": 6,
    "start_time": "2021-09-18T22:24:13.114Z"
   },
   {
    "duration": 38,
    "start_time": "2021-09-18T22:24:13.121Z"
   },
   {
    "duration": 26,
    "start_time": "2021-09-18T22:24:13.160Z"
   },
   {
    "duration": 2,
    "start_time": "2021-09-18T22:24:13.188Z"
   },
   {
    "duration": 9,
    "start_time": "2021-09-18T22:24:13.192Z"
   },
   {
    "duration": 80,
    "start_time": "2021-09-18T22:24:13.202Z"
   },
   {
    "duration": 2450,
    "start_time": "2021-09-18T22:24:13.283Z"
   },
   {
    "duration": 14,
    "start_time": "2021-09-18T22:24:15.735Z"
   },
   {
    "duration": 3,
    "start_time": "2021-09-18T22:24:15.751Z"
   },
   {
    "duration": 15,
    "start_time": "2021-09-18T22:24:15.756Z"
   },
   {
    "duration": 8230,
    "start_time": "2021-09-18T22:24:15.773Z"
   },
   {
    "duration": 2,
    "start_time": "2021-09-18T22:24:24.005Z"
   },
   {
    "duration": 41,
    "start_time": "2021-09-18T22:24:24.008Z"
   },
   {
    "duration": 30,
    "start_time": "2021-09-18T22:24:24.050Z"
   },
   {
    "duration": 354,
    "start_time": "2021-09-18T22:24:24.081Z"
   },
   {
    "duration": 487,
    "start_time": "2021-09-18T22:24:23.951Z"
   },
   {
    "duration": 480,
    "start_time": "2021-09-18T22:24:23.959Z"
   },
   {
    "duration": 478,
    "start_time": "2021-09-18T22:24:23.962Z"
   },
   {
    "duration": 476,
    "start_time": "2021-09-18T22:24:23.965Z"
   },
   {
    "duration": 474,
    "start_time": "2021-09-18T22:24:23.968Z"
   },
   {
    "duration": 467,
    "start_time": "2021-09-18T22:24:23.976Z"
   },
   {
    "duration": 465,
    "start_time": "2021-09-18T22:24:23.979Z"
   },
   {
    "duration": 463,
    "start_time": "2021-09-18T22:24:23.982Z"
   },
   {
    "duration": 461,
    "start_time": "2021-09-18T22:24:23.985Z"
   },
   {
    "duration": 453,
    "start_time": "2021-09-18T22:24:23.994Z"
   },
   {
    "duration": 451,
    "start_time": "2021-09-18T22:24:23.997Z"
   },
   {
    "duration": 449,
    "start_time": "2021-09-18T22:24:24.000Z"
   },
   {
    "duration": 9,
    "start_time": "2021-09-18T22:25:40.579Z"
   },
   {
    "duration": 6,
    "start_time": "2021-09-18T22:25:41.682Z"
   },
   {
    "duration": 17,
    "start_time": "2021-09-18T22:25:42.278Z"
   },
   {
    "duration": 3,
    "start_time": "2021-09-18T22:25:43.080Z"
   },
   {
    "duration": 6,
    "start_time": "2021-09-18T22:25:43.295Z"
   },
   {
    "duration": 3,
    "start_time": "2021-09-18T22:25:43.711Z"
   },
   {
    "duration": 7,
    "start_time": "2021-09-18T22:25:43.923Z"
   },
   {
    "duration": 52,
    "start_time": "2021-09-18T22:25:44.339Z"
   },
   {
    "duration": 996,
    "start_time": "2021-09-18T22:25:44.797Z"
   },
   {
    "duration": 36,
    "start_time": "2021-09-18T22:25:46.388Z"
   },
   {
    "duration": 34,
    "start_time": "2021-09-18T22:25:47.443Z"
   },
   {
    "duration": 34,
    "start_time": "2021-09-18T22:25:48.498Z"
   },
   {
    "duration": 39,
    "start_time": "2021-09-18T22:25:49.780Z"
   },
   {
    "duration": 26,
    "start_time": "2021-09-18T22:26:14.015Z"
   },
   {
    "duration": 17,
    "start_time": "2021-09-18T22:26:28.726Z"
   },
   {
    "duration": 87,
    "start_time": "2021-09-18T22:27:39.264Z"
   },
   {
    "duration": 2003,
    "start_time": "2021-09-18T22:27:39.352Z"
   },
   {
    "duration": 3,
    "start_time": "2021-09-18T22:27:41.357Z"
   },
   {
    "duration": 53,
    "start_time": "2021-09-18T22:27:41.361Z"
   },
   {
    "duration": 3,
    "start_time": "2021-09-18T22:27:41.416Z"
   },
   {
    "duration": 15,
    "start_time": "2021-09-18T22:27:41.420Z"
   },
   {
    "duration": 4,
    "start_time": "2021-09-18T22:27:41.437Z"
   },
   {
    "duration": 11,
    "start_time": "2021-09-18T22:27:41.442Z"
   },
   {
    "duration": 28,
    "start_time": "2021-09-18T22:27:41.455Z"
   },
   {
    "duration": 8,
    "start_time": "2021-09-18T22:27:41.486Z"
   },
   {
    "duration": 12,
    "start_time": "2021-09-18T22:27:41.495Z"
   },
   {
    "duration": 12,
    "start_time": "2021-09-18T22:27:41.509Z"
   },
   {
    "duration": 4,
    "start_time": "2021-09-18T22:27:41.545Z"
   },
   {
    "duration": 9,
    "start_time": "2021-09-18T22:27:41.550Z"
   },
   {
    "duration": 8,
    "start_time": "2021-09-18T22:27:41.561Z"
   },
   {
    "duration": 6,
    "start_time": "2021-09-18T22:27:41.570Z"
   },
   {
    "duration": 12,
    "start_time": "2021-09-18T22:27:41.577Z"
   },
   {
    "duration": 4,
    "start_time": "2021-09-18T22:27:41.590Z"
   },
   {
    "duration": 4,
    "start_time": "2021-09-18T22:27:41.595Z"
   },
   {
    "duration": 58,
    "start_time": "2021-09-18T22:27:41.600Z"
   },
   {
    "duration": 3,
    "start_time": "2021-09-18T22:27:41.659Z"
   },
   {
    "duration": 9,
    "start_time": "2021-09-18T22:27:41.664Z"
   },
   {
    "duration": 11,
    "start_time": "2021-09-18T22:27:41.674Z"
   },
   {
    "duration": 11,
    "start_time": "2021-09-18T22:27:41.686Z"
   },
   {
    "duration": 5,
    "start_time": "2021-09-18T22:27:41.698Z"
   },
   {
    "duration": 12,
    "start_time": "2021-09-18T22:27:41.704Z"
   },
   {
    "duration": 4,
    "start_time": "2021-09-18T22:27:41.744Z"
   },
   {
    "duration": 16,
    "start_time": "2021-09-18T22:27:41.750Z"
   },
   {
    "duration": 3,
    "start_time": "2021-09-18T22:27:41.768Z"
   },
   {
    "duration": 329,
    "start_time": "2021-09-18T22:27:41.772Z"
   },
   {
    "duration": 5,
    "start_time": "2021-09-18T22:27:42.102Z"
   },
   {
    "duration": 7,
    "start_time": "2021-09-18T22:27:42.109Z"
   },
   {
    "duration": 14,
    "start_time": "2021-09-18T22:27:42.117Z"
   },
   {
    "duration": 21,
    "start_time": "2021-09-18T22:27:42.133Z"
   },
   {
    "duration": 4,
    "start_time": "2021-09-18T22:27:42.156Z"
   },
   {
    "duration": 3,
    "start_time": "2021-09-18T22:27:42.162Z"
   },
   {
    "duration": 8,
    "start_time": "2021-09-18T22:27:42.167Z"
   },
   {
    "duration": 14,
    "start_time": "2021-09-18T22:27:42.176Z"
   },
   {
    "duration": 7,
    "start_time": "2021-09-18T22:27:42.191Z"
   },
   {
    "duration": 7,
    "start_time": "2021-09-18T22:27:42.200Z"
   },
   {
    "duration": 38,
    "start_time": "2021-09-18T22:27:42.209Z"
   },
   {
    "duration": 6,
    "start_time": "2021-09-18T22:27:42.248Z"
   },
   {
    "duration": 7,
    "start_time": "2021-09-18T22:27:42.256Z"
   },
   {
    "duration": 7,
    "start_time": "2021-09-18T22:27:42.265Z"
   },
   {
    "duration": 11,
    "start_time": "2021-09-18T22:27:42.274Z"
   },
   {
    "duration": 57,
    "start_time": "2021-09-18T22:27:42.287Z"
   },
   {
    "duration": 7,
    "start_time": "2021-09-18T22:27:42.346Z"
   },
   {
    "duration": 18,
    "start_time": "2021-09-18T22:27:42.354Z"
   },
   {
    "duration": 24,
    "start_time": "2021-09-18T22:27:42.373Z"
   },
   {
    "duration": 3,
    "start_time": "2021-09-18T22:27:42.398Z"
   },
   {
    "duration": 18,
    "start_time": "2021-09-18T22:27:42.402Z"
   },
   {
    "duration": 71,
    "start_time": "2021-09-18T22:27:42.421Z"
   },
   {
    "duration": 2315,
    "start_time": "2021-09-18T22:27:42.494Z"
   },
   {
    "duration": 16,
    "start_time": "2021-09-18T22:27:44.810Z"
   },
   {
    "duration": 16,
    "start_time": "2021-09-18T22:27:44.828Z"
   },
   {
    "duration": 5,
    "start_time": "2021-09-18T22:27:44.846Z"
   },
   {
    "duration": 3029,
    "start_time": "2021-09-18T22:27:44.852Z"
   },
   {
    "duration": 8,
    "start_time": "2021-09-18T22:27:47.883Z"
   },
   {
    "duration": 32,
    "start_time": "2021-09-18T22:27:47.893Z"
   },
   {
    "duration": 24,
    "start_time": "2021-09-18T22:27:47.926Z"
   },
   {
    "duration": 6,
    "start_time": "2021-09-18T22:27:47.952Z"
   },
   {
    "duration": 24,
    "start_time": "2021-09-18T22:27:47.959Z"
   },
   {
    "duration": 3,
    "start_time": "2021-09-18T22:27:47.984Z"
   },
   {
    "duration": 8,
    "start_time": "2021-09-18T22:27:47.988Z"
   },
   {
    "duration": 5,
    "start_time": "2021-09-18T22:27:47.997Z"
   },
   {
    "duration": 10,
    "start_time": "2021-09-18T22:27:48.003Z"
   },
   {
    "duration": 69,
    "start_time": "2021-09-18T22:27:48.014Z"
   },
   {
    "duration": 9,
    "start_time": "2021-09-18T22:27:48.084Z"
   },
   {
    "duration": 35,
    "start_time": "2021-09-18T22:27:48.094Z"
   },
   {
    "duration": 40,
    "start_time": "2021-09-18T22:27:48.131Z"
   },
   {
    "duration": 32,
    "start_time": "2021-09-18T22:27:48.173Z"
   },
   {
    "duration": 57,
    "start_time": "2021-09-18T22:27:48.206Z"
   }
  ],
  "kernelspec": {
   "display_name": "Python 3 (ipykernel)",
   "language": "python",
   "name": "python3"
  },
  "language_info": {
   "codemirror_mode": {
    "name": "ipython",
    "version": 3
   },
   "file_extension": ".py",
   "mimetype": "text/x-python",
   "name": "python",
   "nbconvert_exporter": "python",
   "pygments_lexer": "ipython3",
   "version": "3.9.7"
  },
  "toc": {
   "base_numbering": 1,
   "nav_menu": {},
   "number_sections": false,
   "sideBar": true,
   "skip_h1_title": true,
   "title_cell": "Table of Contents",
   "title_sidebar": "Contents",
   "toc_cell": false,
   "toc_position": {},
   "toc_section_display": true,
   "toc_window_display": false
  }
 },
 "nbformat": 4,
 "nbformat_minor": 2
}
