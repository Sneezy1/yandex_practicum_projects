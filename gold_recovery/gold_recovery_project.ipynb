{
 "cells": [
  {
   "cell_type": "markdown",
   "metadata": {},
   "source": [
    "## Загрузка данных"
   ]
  },
  {
   "cell_type": "code",
   "execution_count": 104,
   "metadata": {},
   "outputs": [
    {
     "name": "stdout",
     "output_type": "stream",
     "text": [
      "Defaulting to user installation because normal site-packages is not writeable\n",
      "\u001b[33mWARNING: Retrying (Retry(total=4, connect=None, read=None, redirect=None, status=None)) after connection broken by 'ReadTimeoutError(\"HTTPSConnectionPool(host='pypi.org', port=443): Read timed out. (read timeout=15)\")': /simple/seaborn/\u001b[0m\n",
      "\u001b[33mWARNING: Retrying (Retry(total=3, connect=None, read=None, redirect=None, status=None)) after connection broken by 'ReadTimeoutError(\"HTTPSConnectionPool(host='pypi.org', port=443): Read timed out. (read timeout=15)\")': /simple/seaborn/\u001b[0m\n",
      "\u001b[33mWARNING: Retrying (Retry(total=2, connect=None, read=None, redirect=None, status=None)) after connection broken by 'ReadTimeoutError(\"HTTPSConnectionPool(host='pypi.org', port=443): Read timed out. (read timeout=15)\")': /simple/seaborn/\u001b[0m\n",
      "\u001b[33mWARNING: Retrying (Retry(total=1, connect=None, read=None, redirect=None, status=None)) after connection broken by 'ReadTimeoutError(\"HTTPSConnectionPool(host='pypi.org', port=443): Read timed out. (read timeout=15)\")': /simple/seaborn/\u001b[0m\n",
      "\u001b[33mWARNING: Retrying (Retry(total=0, connect=None, read=None, redirect=None, status=None)) after connection broken by 'ReadTimeoutError(\"HTTPSConnectionPool(host='pypi.org', port=443): Read timed out. (read timeout=15)\")': /simple/seaborn/\u001b[0m\n",
      "Requirement already up-to-date: seaborn in /home/jovyan/.local/lib/python3.7/site-packages (0.11.2)\n",
      "Requirement already satisfied, skipping upgrade: scipy>=1.0 in /opt/conda/lib/python3.7/site-packages (from seaborn) (1.4.1)\n",
      "Requirement already satisfied, skipping upgrade: matplotlib>=2.2 in /opt/conda/lib/python3.7/site-packages (from seaborn) (3.1.0)\n",
      "Requirement already satisfied, skipping upgrade: numpy>=1.15 in /opt/conda/lib/python3.7/site-packages (from seaborn) (1.19.5)\n",
      "Requirement already satisfied, skipping upgrade: pandas>=0.23 in /opt/conda/lib/python3.7/site-packages (from seaborn) (0.25.1)\n",
      "Requirement already satisfied, skipping upgrade: pyparsing!=2.0.4,!=2.1.2,!=2.1.6,>=2.0.1 in /opt/conda/lib/python3.7/site-packages (from matplotlib>=2.2->seaborn) (2.4.7)\n",
      "Requirement already satisfied, skipping upgrade: cycler>=0.10 in /opt/conda/lib/python3.7/site-packages (from matplotlib>=2.2->seaborn) (0.10.0)\n",
      "Requirement already satisfied, skipping upgrade: python-dateutil>=2.1 in /opt/conda/lib/python3.7/site-packages (from matplotlib>=2.2->seaborn) (2.8.1)\n",
      "Requirement already satisfied, skipping upgrade: kiwisolver>=1.0.1 in /opt/conda/lib/python3.7/site-packages (from matplotlib>=2.2->seaborn) (1.3.1)\n",
      "Requirement already satisfied, skipping upgrade: pytz>=2017.2 in /opt/conda/lib/python3.7/site-packages (from pandas>=0.23->seaborn) (2021.1)\n",
      "Requirement already satisfied, skipping upgrade: six in /opt/conda/lib/python3.7/site-packages (from cycler>=0.10->matplotlib>=2.2->seaborn) (1.15.0)\n"
     ]
    }
   ],
   "source": [
    "!pip install -U seaborn"
   ]
  },
  {
   "cell_type": "code",
   "execution_count": 105,
   "metadata": {},
   "outputs": [],
   "source": [
    "import pandas as pd\n",
    "import numpy as np\n",
    "import seaborn as sns\n",
    "import matplotlib.pyplot as plt\n",
    "import warnings\n",
    "from sklearn.pipeline import Pipeline\n",
    "from sklearn.metrics import mean_absolute_error\n",
    "from sklearn.model_selection import GridSearchCV\n",
    "\n",
    "from sklearn.linear_model import LinearRegression\n",
    "from sklearn.tree import DecisionTreeRegressor\n",
    "from sklearn.ensemble import RandomForestRegressor\n",
    "from sklearn.metrics.scorer import make_scorer\n",
    "from sklearn.dummy import DummyRegressor\n",
    "\n",
    "pd.set_option('display.max_rows', None)\n",
    "pd.set_option('display.max_columns', None)\n",
    "warnings.simplefilter(action='ignore', category=FutureWarning)\n",
    "sns.set(style='darkgrid', rc={'figure.figsize':(15,10)})"
   ]
  },
  {
   "cell_type": "code",
   "execution_count": 106,
   "metadata": {},
   "outputs": [],
   "source": [
    "df_train = pd.read_csv('/datasets/gold_recovery_train_new.csv')\n",
    "df_test = pd.read_csv('/datasets/gold_recovery_test_new.csv')\n",
    "df_full = pd.read_csv('/datasets/gold_recovery_full_new.csv')"
   ]
  },
  {
   "cell_type": "code",
   "execution_count": 107,
   "metadata": {},
   "outputs": [
    {
     "name": "stdout",
     "output_type": "stream",
     "text": [
      "(14149, 87)\n",
      "(5290, 53)\n",
      "(19439, 87)\n"
     ]
    }
   ],
   "source": [
    "print(df_train.shape)\n",
    "print(df_test.shape)\n",
    "print(df_full.shape)"
   ]
  },
  {
   "cell_type": "code",
   "execution_count": 108,
   "metadata": {},
   "outputs": [
    {
     "data": {
      "text/plain": [
       "date                                                   0.00%\n",
       "final.output.concentrate_ag                            0.01%\n",
       "final.output.concentrate_pb                            0.01%\n",
       "final.output.concentrate_sol                           1.49%\n",
       "final.output.concentrate_au                            0.00%\n",
       "final.output.recovery                                  0.00%\n",
       "final.output.tail_ag                                   0.00%\n",
       "final.output.tail_pb                                   0.71%\n",
       "final.output.tail_sol                                  0.04%\n",
       "final.output.tail_au                                   0.00%\n",
       "primary_cleaner.input.sulfate                          0.14%\n",
       "primary_cleaner.input.depressant                       0.23%\n",
       "primary_cleaner.input.feed_size                        0.00%\n",
       "primary_cleaner.input.xanthate                         0.71%\n",
       "primary_cleaner.output.concentrate_ag                  0.00%\n",
       "primary_cleaner.output.concentrate_pb                  0.61%\n",
       "primary_cleaner.output.concentrate_sol                 2.02%\n",
       "primary_cleaner.output.concentrate_au                  0.00%\n",
       "primary_cleaner.output.tail_ag                         0.01%\n",
       "primary_cleaner.output.tail_pb                         0.11%\n",
       "primary_cleaner.output.tail_sol                        0.33%\n",
       "primary_cleaner.output.tail_au                         0.00%\n",
       "primary_cleaner.state.floatbank8_a_air                 0.03%\n",
       "primary_cleaner.state.floatbank8_a_level               0.01%\n",
       "primary_cleaner.state.floatbank8_b_air                 0.03%\n",
       "primary_cleaner.state.floatbank8_b_level               0.01%\n",
       "primary_cleaner.state.floatbank8_c_air                 0.01%\n",
       "primary_cleaner.state.floatbank8_c_level               0.01%\n",
       "primary_cleaner.state.floatbank8_d_air                 0.02%\n",
       "primary_cleaner.state.floatbank8_d_level               0.01%\n",
       "rougher.calculation.sulfate_to_au_concentrate          0.01%\n",
       "rougher.calculation.floatbank10_sulfate_to_au_feed     0.01%\n",
       "rougher.calculation.floatbank11_sulfate_to_au_feed     0.01%\n",
       "rougher.calculation.au_pb_ratio                        0.00%\n",
       "rougher.input.feed_ag                                  0.00%\n",
       "rougher.input.feed_pb                                  0.71%\n",
       "rougher.input.feed_rate                                0.06%\n",
       "rougher.input.feed_size                                1.02%\n",
       "rougher.input.feed_sol                                 0.55%\n",
       "rougher.input.feed_au                                  0.00%\n",
       "rougher.input.floatbank10_sulfate                      0.20%\n",
       "rougher.input.floatbank10_xanthate                     0.06%\n",
       "rougher.input.floatbank11_sulfate                      0.25%\n",
       "rougher.input.floatbank11_xanthate                     3.02%\n",
       "rougher.output.concentrate_ag                          0.00%\n",
       "rougher.output.concentrate_pb                          0.00%\n",
       "rougher.output.concentrate_sol                         0.16%\n",
       "rougher.output.concentrate_au                          0.00%\n",
       "rougher.output.recovery                                0.00%\n",
       "rougher.output.tail_ag                                 0.01%\n",
       "rougher.output.tail_pb                                 0.00%\n",
       "rougher.output.tail_sol                                0.00%\n",
       "rougher.output.tail_au                                 0.00%\n",
       "rougher.state.floatbank10_a_air                        0.01%\n",
       "rougher.state.floatbank10_a_level                      0.01%\n",
       "rougher.state.floatbank10_b_air                        0.01%\n",
       "rougher.state.floatbank10_b_level                      0.01%\n",
       "rougher.state.floatbank10_c_air                        0.01%\n",
       "rougher.state.floatbank10_c_level                      0.01%\n",
       "rougher.state.floatbank10_d_air                        0.00%\n",
       "rougher.state.floatbank10_d_level                      0.00%\n",
       "rougher.state.floatbank10_e_air                        3.08%\n",
       "rougher.state.floatbank10_e_level                      0.00%\n",
       "rougher.state.floatbank10_f_air                        0.00%\n",
       "rougher.state.floatbank10_f_level                      0.00%\n",
       "secondary_cleaner.output.tail_ag                       0.01%\n",
       "secondary_cleaner.output.tail_pb                       0.07%\n",
       "secondary_cleaner.output.tail_sol                     11.34%\n",
       "secondary_cleaner.output.tail_au                       0.00%\n",
       "secondary_cleaner.state.floatbank2_a_air               1.53%\n",
       "secondary_cleaner.state.floatbank2_a_level             0.01%\n",
       "secondary_cleaner.state.floatbank2_b_air               0.15%\n",
       "secondary_cleaner.state.floatbank2_b_level             0.01%\n",
       "secondary_cleaner.state.floatbank3_a_air               0.03%\n",
       "secondary_cleaner.state.floatbank3_a_level             0.01%\n",
       "secondary_cleaner.state.floatbank3_b_air               0.01%\n",
       "secondary_cleaner.state.floatbank3_b_level             0.01%\n",
       "secondary_cleaner.state.floatbank4_a_air               0.04%\n",
       "secondary_cleaner.state.floatbank4_a_level             0.01%\n",
       "secondary_cleaner.state.floatbank4_b_air               0.01%\n",
       "secondary_cleaner.state.floatbank4_b_level             0.01%\n",
       "secondary_cleaner.state.floatbank5_a_air               0.01%\n",
       "secondary_cleaner.state.floatbank5_a_level             0.01%\n",
       "secondary_cleaner.state.floatbank5_b_air               0.01%\n",
       "secondary_cleaner.state.floatbank5_b_level             0.01%\n",
       "secondary_cleaner.state.floatbank6_a_air               0.01%\n",
       "secondary_cleaner.state.floatbank6_a_level             0.01%\n",
       "dtype: object"
      ]
     },
     "execution_count": 108,
     "metadata": {},
     "output_type": "execute_result"
    }
   ],
   "source": [
    "df_train.isna().mean().apply('{:.2%}'.format)"
   ]
  },
  {
   "cell_type": "code",
   "execution_count": 109,
   "metadata": {},
   "outputs": [
    {
     "data": {
      "text/html": [
       "<div>\n",
       "<style scoped>\n",
       "    .dataframe tbody tr th:only-of-type {\n",
       "        vertical-align: middle;\n",
       "    }\n",
       "\n",
       "    .dataframe tbody tr th {\n",
       "        vertical-align: top;\n",
       "    }\n",
       "\n",
       "    .dataframe thead th {\n",
       "        text-align: right;\n",
       "    }\n",
       "</style>\n",
       "<table border=\"1\" class=\"dataframe\">\n",
       "  <thead>\n",
       "    <tr style=\"text-align: right;\">\n",
       "      <th></th>\n",
       "      <th>final.output.concentrate_ag</th>\n",
       "      <th>final.output.concentrate_pb</th>\n",
       "      <th>final.output.concentrate_sol</th>\n",
       "      <th>final.output.concentrate_au</th>\n",
       "      <th>final.output.recovery</th>\n",
       "      <th>final.output.tail_ag</th>\n",
       "      <th>final.output.tail_pb</th>\n",
       "      <th>final.output.tail_sol</th>\n",
       "      <th>final.output.tail_au</th>\n",
       "      <th>primary_cleaner.input.sulfate</th>\n",
       "      <th>primary_cleaner.input.depressant</th>\n",
       "      <th>primary_cleaner.input.feed_size</th>\n",
       "      <th>primary_cleaner.input.xanthate</th>\n",
       "      <th>primary_cleaner.output.concentrate_ag</th>\n",
       "      <th>primary_cleaner.output.concentrate_pb</th>\n",
       "      <th>primary_cleaner.output.concentrate_sol</th>\n",
       "      <th>primary_cleaner.output.concentrate_au</th>\n",
       "      <th>primary_cleaner.output.tail_ag</th>\n",
       "      <th>primary_cleaner.output.tail_pb</th>\n",
       "      <th>primary_cleaner.output.tail_sol</th>\n",
       "      <th>primary_cleaner.output.tail_au</th>\n",
       "      <th>primary_cleaner.state.floatbank8_a_air</th>\n",
       "      <th>primary_cleaner.state.floatbank8_a_level</th>\n",
       "      <th>primary_cleaner.state.floatbank8_b_air</th>\n",
       "      <th>primary_cleaner.state.floatbank8_b_level</th>\n",
       "      <th>primary_cleaner.state.floatbank8_c_air</th>\n",
       "      <th>primary_cleaner.state.floatbank8_c_level</th>\n",
       "      <th>primary_cleaner.state.floatbank8_d_air</th>\n",
       "      <th>primary_cleaner.state.floatbank8_d_level</th>\n",
       "      <th>rougher.calculation.sulfate_to_au_concentrate</th>\n",
       "      <th>rougher.calculation.floatbank10_sulfate_to_au_feed</th>\n",
       "      <th>rougher.calculation.floatbank11_sulfate_to_au_feed</th>\n",
       "      <th>rougher.calculation.au_pb_ratio</th>\n",
       "      <th>rougher.input.feed_ag</th>\n",
       "      <th>rougher.input.feed_pb</th>\n",
       "      <th>rougher.input.feed_rate</th>\n",
       "      <th>rougher.input.feed_size</th>\n",
       "      <th>rougher.input.feed_sol</th>\n",
       "      <th>rougher.input.feed_au</th>\n",
       "      <th>rougher.input.floatbank10_sulfate</th>\n",
       "      <th>rougher.input.floatbank10_xanthate</th>\n",
       "      <th>rougher.input.floatbank11_sulfate</th>\n",
       "      <th>rougher.input.floatbank11_xanthate</th>\n",
       "      <th>rougher.output.concentrate_ag</th>\n",
       "      <th>rougher.output.concentrate_pb</th>\n",
       "      <th>rougher.output.concentrate_sol</th>\n",
       "      <th>rougher.output.concentrate_au</th>\n",
       "      <th>rougher.output.recovery</th>\n",
       "      <th>rougher.output.tail_ag</th>\n",
       "      <th>rougher.output.tail_pb</th>\n",
       "      <th>rougher.output.tail_sol</th>\n",
       "      <th>rougher.output.tail_au</th>\n",
       "      <th>rougher.state.floatbank10_a_air</th>\n",
       "      <th>rougher.state.floatbank10_a_level</th>\n",
       "      <th>rougher.state.floatbank10_b_air</th>\n",
       "      <th>rougher.state.floatbank10_b_level</th>\n",
       "      <th>rougher.state.floatbank10_c_air</th>\n",
       "      <th>rougher.state.floatbank10_c_level</th>\n",
       "      <th>rougher.state.floatbank10_d_air</th>\n",
       "      <th>rougher.state.floatbank10_d_level</th>\n",
       "      <th>rougher.state.floatbank10_e_air</th>\n",
       "      <th>rougher.state.floatbank10_e_level</th>\n",
       "      <th>rougher.state.floatbank10_f_air</th>\n",
       "      <th>rougher.state.floatbank10_f_level</th>\n",
       "      <th>secondary_cleaner.output.tail_ag</th>\n",
       "      <th>secondary_cleaner.output.tail_pb</th>\n",
       "      <th>secondary_cleaner.output.tail_sol</th>\n",
       "      <th>secondary_cleaner.output.tail_au</th>\n",
       "      <th>secondary_cleaner.state.floatbank2_a_air</th>\n",
       "      <th>secondary_cleaner.state.floatbank2_a_level</th>\n",
       "      <th>secondary_cleaner.state.floatbank2_b_air</th>\n",
       "      <th>secondary_cleaner.state.floatbank2_b_level</th>\n",
       "      <th>secondary_cleaner.state.floatbank3_a_air</th>\n",
       "      <th>secondary_cleaner.state.floatbank3_a_level</th>\n",
       "      <th>secondary_cleaner.state.floatbank3_b_air</th>\n",
       "      <th>secondary_cleaner.state.floatbank3_b_level</th>\n",
       "      <th>secondary_cleaner.state.floatbank4_a_air</th>\n",
       "      <th>secondary_cleaner.state.floatbank4_a_level</th>\n",
       "      <th>secondary_cleaner.state.floatbank4_b_air</th>\n",
       "      <th>secondary_cleaner.state.floatbank4_b_level</th>\n",
       "      <th>secondary_cleaner.state.floatbank5_a_air</th>\n",
       "      <th>secondary_cleaner.state.floatbank5_a_level</th>\n",
       "      <th>secondary_cleaner.state.floatbank5_b_air</th>\n",
       "      <th>secondary_cleaner.state.floatbank5_b_level</th>\n",
       "      <th>secondary_cleaner.state.floatbank6_a_air</th>\n",
       "      <th>secondary_cleaner.state.floatbank6_a_level</th>\n",
       "    </tr>\n",
       "  </thead>\n",
       "  <tbody>\n",
       "    <tr>\n",
       "      <td>count</td>\n",
       "      <td>14148.000000</td>\n",
       "      <td>14148.000000</td>\n",
       "      <td>13938.000000</td>\n",
       "      <td>14149.000000</td>\n",
       "      <td>14149.000000</td>\n",
       "      <td>14149.000000</td>\n",
       "      <td>14049.000000</td>\n",
       "      <td>14144.000000</td>\n",
       "      <td>14149.000000</td>\n",
       "      <td>14129.000000</td>\n",
       "      <td>14117.000000</td>\n",
       "      <td>14149.000000</td>\n",
       "      <td>14049.000000</td>\n",
       "      <td>14149.000000</td>\n",
       "      <td>14063.000000</td>\n",
       "      <td>13863.000000</td>\n",
       "      <td>14149.000000</td>\n",
       "      <td>14148.000000</td>\n",
       "      <td>14134.000000</td>\n",
       "      <td>14103.000000</td>\n",
       "      <td>14149.000000</td>\n",
       "      <td>14145.000000</td>\n",
       "      <td>14148.000000</td>\n",
       "      <td>14145.000000</td>\n",
       "      <td>14148.000000</td>\n",
       "      <td>14147.000000</td>\n",
       "      <td>14148.000000</td>\n",
       "      <td>14146.000000</td>\n",
       "      <td>14148.000000</td>\n",
       "      <td>1.414800e+04</td>\n",
       "      <td>14148.000000</td>\n",
       "      <td>14148.000000</td>\n",
       "      <td>14149.000000</td>\n",
       "      <td>14149.000000</td>\n",
       "      <td>14049.000000</td>\n",
       "      <td>14141.000000</td>\n",
       "      <td>14005.000000</td>\n",
       "      <td>14071.000000</td>\n",
       "      <td>14149.000000</td>\n",
       "      <td>14120.000000</td>\n",
       "      <td>14141.000000</td>\n",
       "      <td>14113.000000</td>\n",
       "      <td>13721.000000</td>\n",
       "      <td>14149.000000</td>\n",
       "      <td>14149.000000</td>\n",
       "      <td>14127.000000</td>\n",
       "      <td>14149.000000</td>\n",
       "      <td>14149.000000</td>\n",
       "      <td>14148.000000</td>\n",
       "      <td>14149.000000</td>\n",
       "      <td>14149.000000</td>\n",
       "      <td>14149.000000</td>\n",
       "      <td>14148.000000</td>\n",
       "      <td>14148.000000</td>\n",
       "      <td>14148.000000</td>\n",
       "      <td>14148.000000</td>\n",
       "      <td>14148.000000</td>\n",
       "      <td>14148.000000</td>\n",
       "      <td>14149.000000</td>\n",
       "      <td>14149.000000</td>\n",
       "      <td>13713.000000</td>\n",
       "      <td>14149.000000</td>\n",
       "      <td>14149.000000</td>\n",
       "      <td>14149.000000</td>\n",
       "      <td>14147.000000</td>\n",
       "      <td>14139.000000</td>\n",
       "      <td>12544.000000</td>\n",
       "      <td>14149.000000</td>\n",
       "      <td>13932.000000</td>\n",
       "      <td>14148.000000</td>\n",
       "      <td>14128.000000</td>\n",
       "      <td>14148.000000</td>\n",
       "      <td>14145.000000</td>\n",
       "      <td>14148.000000</td>\n",
       "      <td>14148.000000</td>\n",
       "      <td>14148.000000</td>\n",
       "      <td>14143.000000</td>\n",
       "      <td>14148.000000</td>\n",
       "      <td>14148.000000</td>\n",
       "      <td>14148.000000</td>\n",
       "      <td>14148.000000</td>\n",
       "      <td>14148.000000</td>\n",
       "      <td>14148.000000</td>\n",
       "      <td>14148.000000</td>\n",
       "      <td>14147.000000</td>\n",
       "      <td>14148.000000</td>\n",
       "    </tr>\n",
       "    <tr>\n",
       "      <td>mean</td>\n",
       "      <td>5.142034</td>\n",
       "      <td>10.132960</td>\n",
       "      <td>9.202849</td>\n",
       "      <td>44.003792</td>\n",
       "      <td>66.518832</td>\n",
       "      <td>9.607035</td>\n",
       "      <td>2.597298</td>\n",
       "      <td>10.512122</td>\n",
       "      <td>2.918421</td>\n",
       "      <td>133.320659</td>\n",
       "      <td>8.866996</td>\n",
       "      <td>7.322310</td>\n",
       "      <td>0.885588</td>\n",
       "      <td>8.200916</td>\n",
       "      <td>9.588862</td>\n",
       "      <td>10.114745</td>\n",
       "      <td>32.386836</td>\n",
       "      <td>16.303929</td>\n",
       "      <td>3.443398</td>\n",
       "      <td>7.533566</td>\n",
       "      <td>3.839637</td>\n",
       "      <td>1608.000064</td>\n",
       "      <td>-488.775525</td>\n",
       "      <td>1608.610983</td>\n",
       "      <td>-489.171786</td>\n",
       "      <td>1608.879407</td>\n",
       "      <td>-489.605549</td>\n",
       "      <td>1542.189963</td>\n",
       "      <td>-483.462423</td>\n",
       "      <td>4.038265e+04</td>\n",
       "      <td>3456.608298</td>\n",
       "      <td>3253.356387</td>\n",
       "      <td>2.367314</td>\n",
       "      <td>8.579195</td>\n",
       "      <td>3.522778</td>\n",
       "      <td>474.027714</td>\n",
       "      <td>60.110518</td>\n",
       "      <td>36.312593</td>\n",
       "      <td>7.866577</td>\n",
       "      <td>11.764931</td>\n",
       "      <td>5.854529</td>\n",
       "      <td>11.368685</td>\n",
       "      <td>5.894176</td>\n",
       "      <td>11.775812</td>\n",
       "      <td>7.664555</td>\n",
       "      <td>28.302715</td>\n",
       "      <td>19.439958</td>\n",
       "      <td>82.704502</td>\n",
       "      <td>5.567124</td>\n",
       "      <td>0.653277</td>\n",
       "      <td>17.882853</td>\n",
       "      <td>1.757473</td>\n",
       "      <td>1124.726280</td>\n",
       "      <td>-369.460950</td>\n",
       "      <td>1320.705069</td>\n",
       "      <td>-464.258983</td>\n",
       "      <td>1299.360578</td>\n",
       "      <td>-465.054849</td>\n",
       "      <td>1210.335236</td>\n",
       "      <td>-465.457377</td>\n",
       "      <td>1090.213187</td>\n",
       "      <td>-464.919119</td>\n",
       "      <td>1035.490299</td>\n",
       "      <td>-464.688631</td>\n",
       "      <td>14.281629</td>\n",
       "      <td>5.848863</td>\n",
       "      <td>6.938693</td>\n",
       "      <td>4.246961</td>\n",
       "      <td>29.613649</td>\n",
       "      <td>-502.223914</td>\n",
       "      <td>24.914403</td>\n",
       "      <td>-503.695706</td>\n",
       "      <td>29.243372</td>\n",
       "      <td>-478.244059</td>\n",
       "      <td>22.656261</td>\n",
       "      <td>-488.924046</td>\n",
       "      <td>19.985454</td>\n",
       "      <td>-478.696836</td>\n",
       "      <td>15.487065</td>\n",
       "      <td>-460.229416</td>\n",
       "      <td>16.775136</td>\n",
       "      <td>-483.956022</td>\n",
       "      <td>13.064590</td>\n",
       "      <td>-483.966564</td>\n",
       "      <td>19.577539</td>\n",
       "      <td>-506.798480</td>\n",
       "    </tr>\n",
       "    <tr>\n",
       "      <td>std</td>\n",
       "      <td>1.369586</td>\n",
       "      <td>1.654930</td>\n",
       "      <td>2.790516</td>\n",
       "      <td>4.905261</td>\n",
       "      <td>10.295402</td>\n",
       "      <td>2.319069</td>\n",
       "      <td>0.971843</td>\n",
       "      <td>3.003617</td>\n",
       "      <td>0.903712</td>\n",
       "      <td>39.431659</td>\n",
       "      <td>3.361589</td>\n",
       "      <td>0.614062</td>\n",
       "      <td>0.372714</td>\n",
       "      <td>2.005185</td>\n",
       "      <td>2.694296</td>\n",
       "      <td>4.064076</td>\n",
       "      <td>5.798843</td>\n",
       "      <td>3.739843</td>\n",
       "      <td>1.490106</td>\n",
       "      <td>2.133220</td>\n",
       "      <td>1.603544</td>\n",
       "      <td>128.394355</td>\n",
       "      <td>35.704184</td>\n",
       "      <td>131.112729</td>\n",
       "      <td>33.604449</td>\n",
       "      <td>134.266898</td>\n",
       "      <td>35.624002</td>\n",
       "      <td>278.316132</td>\n",
       "      <td>47.100934</td>\n",
       "      <td>3.801436e+05</td>\n",
       "      <td>5772.510248</td>\n",
       "      <td>6753.290662</td>\n",
       "      <td>0.873551</td>\n",
       "      <td>1.896284</td>\n",
       "      <td>1.073394</td>\n",
       "      <td>104.039838</td>\n",
       "      <td>22.418485</td>\n",
       "      <td>4.956057</td>\n",
       "      <td>1.919506</td>\n",
       "      <td>3.278813</td>\n",
       "      <td>1.104263</td>\n",
       "      <td>3.743672</td>\n",
       "      <td>1.124233</td>\n",
       "      <td>2.731747</td>\n",
       "      <td>1.856279</td>\n",
       "      <td>6.102982</td>\n",
       "      <td>3.765192</td>\n",
       "      <td>14.479156</td>\n",
       "      <td>1.039136</td>\n",
       "      <td>0.263766</td>\n",
       "      <td>3.432859</td>\n",
       "      <td>0.713187</td>\n",
       "      <td>169.310825</td>\n",
       "      <td>93.952787</td>\n",
       "      <td>183.155975</td>\n",
       "      <td>57.401954</td>\n",
       "      <td>213.404094</td>\n",
       "      <td>55.904716</td>\n",
       "      <td>210.431555</td>\n",
       "      <td>55.771393</td>\n",
       "      <td>184.610118</td>\n",
       "      <td>56.602962</td>\n",
       "      <td>175.052279</td>\n",
       "      <td>56.645965</td>\n",
       "      <td>4.477126</td>\n",
       "      <td>2.861799</td>\n",
       "      <td>4.155487</td>\n",
       "      <td>2.389060</td>\n",
       "      <td>5.800494</td>\n",
       "      <td>60.281705</td>\n",
       "      <td>5.994959</td>\n",
       "      <td>62.837357</td>\n",
       "      <td>5.637309</td>\n",
       "      <td>54.655143</td>\n",
       "      <td>4.996017</td>\n",
       "      <td>41.928112</td>\n",
       "      <td>5.657723</td>\n",
       "      <td>50.736021</td>\n",
       "      <td>5.255655</td>\n",
       "      <td>58.843586</td>\n",
       "      <td>5.831906</td>\n",
       "      <td>37.892788</td>\n",
       "      <td>5.765617</td>\n",
       "      <td>39.207913</td>\n",
       "      <td>5.764417</td>\n",
       "      <td>37.079249</td>\n",
       "    </tr>\n",
       "    <tr>\n",
       "      <td>min</td>\n",
       "      <td>0.000000</td>\n",
       "      <td>0.000000</td>\n",
       "      <td>0.000000</td>\n",
       "      <td>0.000000</td>\n",
       "      <td>0.000000</td>\n",
       "      <td>0.000000</td>\n",
       "      <td>0.000000</td>\n",
       "      <td>0.000000</td>\n",
       "      <td>0.000000</td>\n",
       "      <td>0.003112</td>\n",
       "      <td>0.000000</td>\n",
       "      <td>1.080000</td>\n",
       "      <td>0.000005</td>\n",
       "      <td>0.000000</td>\n",
       "      <td>0.000000</td>\n",
       "      <td>0.000000</td>\n",
       "      <td>0.000000</td>\n",
       "      <td>0.000000</td>\n",
       "      <td>0.000000</td>\n",
       "      <td>0.000000</td>\n",
       "      <td>0.000000</td>\n",
       "      <td>0.006352</td>\n",
       "      <td>-798.641662</td>\n",
       "      <td>0.008700</td>\n",
       "      <td>-740.122129</td>\n",
       "      <td>0.015159</td>\n",
       "      <td>-799.803073</td>\n",
       "      <td>0.008655</td>\n",
       "      <td>-799.788598</td>\n",
       "      <td>-4.223520e+07</td>\n",
       "      <td>-486.598675</td>\n",
       "      <td>-264.982785</td>\n",
       "      <td>-0.010548</td>\n",
       "      <td>0.010000</td>\n",
       "      <td>0.010000</td>\n",
       "      <td>0.012786</td>\n",
       "      <td>9.659576</td>\n",
       "      <td>0.010000</td>\n",
       "      <td>0.010000</td>\n",
       "      <td>0.001083</td>\n",
       "      <td>0.001428</td>\n",
       "      <td>0.000098</td>\n",
       "      <td>0.000290</td>\n",
       "      <td>0.000000</td>\n",
       "      <td>0.000000</td>\n",
       "      <td>0.000000</td>\n",
       "      <td>0.000000</td>\n",
       "      <td>0.000000</td>\n",
       "      <td>0.594562</td>\n",
       "      <td>0.007566</td>\n",
       "      <td>10.014648</td>\n",
       "      <td>0.020676</td>\n",
       "      <td>-0.041078</td>\n",
       "      <td>-650.202881</td>\n",
       "      <td>-0.653384</td>\n",
       "      <td>-650.260008</td>\n",
       "      <td>-0.035112</td>\n",
       "      <td>-640.995627</td>\n",
       "      <td>-0.554299</td>\n",
       "      <td>-640.519003</td>\n",
       "      <td>-1.970275</td>\n",
       "      <td>-649.443911</td>\n",
       "      <td>-2.430587</td>\n",
       "      <td>-649.880981</td>\n",
       "      <td>0.000000</td>\n",
       "      <td>0.000000</td>\n",
       "      <td>0.000000</td>\n",
       "      <td>0.000000</td>\n",
       "      <td>0.077503</td>\n",
       "      <td>-799.606441</td>\n",
       "      <td>0.000000</td>\n",
       "      <td>-799.873878</td>\n",
       "      <td>0.000000</td>\n",
       "      <td>-799.613013</td>\n",
       "      <td>0.000000</td>\n",
       "      <td>-759.177381</td>\n",
       "      <td>0.000000</td>\n",
       "      <td>-799.709069</td>\n",
       "      <td>0.000000</td>\n",
       "      <td>-799.889113</td>\n",
       "      <td>-0.372054</td>\n",
       "      <td>-797.142475</td>\n",
       "      <td>0.646208</td>\n",
       "      <td>-800.006180</td>\n",
       "      <td>0.195324</td>\n",
       "      <td>-809.398668</td>\n",
       "    </tr>\n",
       "    <tr>\n",
       "      <td>25%</td>\n",
       "      <td>4.211620</td>\n",
       "      <td>9.297355</td>\n",
       "      <td>7.484645</td>\n",
       "      <td>43.276111</td>\n",
       "      <td>62.545817</td>\n",
       "      <td>7.997429</td>\n",
       "      <td>1.905973</td>\n",
       "      <td>8.811324</td>\n",
       "      <td>2.368607</td>\n",
       "      <td>107.006651</td>\n",
       "      <td>6.040604</td>\n",
       "      <td>6.960000</td>\n",
       "      <td>0.607021</td>\n",
       "      <td>7.107126</td>\n",
       "      <td>8.333489</td>\n",
       "      <td>7.488139</td>\n",
       "      <td>30.857764</td>\n",
       "      <td>13.873147</td>\n",
       "      <td>2.420259</td>\n",
       "      <td>6.332548</td>\n",
       "      <td>2.867957</td>\n",
       "      <td>1595.695815</td>\n",
       "      <td>-500.287952</td>\n",
       "      <td>1558.959943</td>\n",
       "      <td>-500.375645</td>\n",
       "      <td>1549.871886</td>\n",
       "      <td>-500.601718</td>\n",
       "      <td>1452.678767</td>\n",
       "      <td>-500.459917</td>\n",
       "      <td>3.999430e+04</td>\n",
       "      <td>2527.093354</td>\n",
       "      <td>2512.200873</td>\n",
       "      <td>1.999588</td>\n",
       "      <td>7.132802</td>\n",
       "      <td>2.780010</td>\n",
       "      <td>420.781913</td>\n",
       "      <td>48.973027</td>\n",
       "      <td>34.117635</td>\n",
       "      <td>6.596217</td>\n",
       "      <td>9.861100</td>\n",
       "      <td>5.117359</td>\n",
       "      <td>9.505507</td>\n",
       "      <td>5.199168</td>\n",
       "      <td>10.486871</td>\n",
       "      <td>6.850501</td>\n",
       "      <td>26.703554</td>\n",
       "      <td>18.432161</td>\n",
       "      <td>79.993067</td>\n",
       "      <td>4.921647</td>\n",
       "      <td>0.474047</td>\n",
       "      <td>15.688727</td>\n",
       "      <td>1.310800</td>\n",
       "      <td>999.799166</td>\n",
       "      <td>-499.787867</td>\n",
       "      <td>1199.366448</td>\n",
       "      <td>-500.183028</td>\n",
       "      <td>1103.095071</td>\n",
       "      <td>-500.211863</td>\n",
       "      <td>1059.708509</td>\n",
       "      <td>-500.359197</td>\n",
       "      <td>997.183864</td>\n",
       "      <td>-500.250033</td>\n",
       "      <td>900.966986</td>\n",
       "      <td>-500.476526</td>\n",
       "      <td>12.177364</td>\n",
       "      <td>3.982298</td>\n",
       "      <td>3.225486</td>\n",
       "      <td>3.153122</td>\n",
       "      <td>25.099584</td>\n",
       "      <td>-500.248814</td>\n",
       "      <td>22.048294</td>\n",
       "      <td>-500.270997</td>\n",
       "      <td>24.991662</td>\n",
       "      <td>-500.175065</td>\n",
       "      <td>19.948436</td>\n",
       "      <td>-500.110581</td>\n",
       "      <td>14.990775</td>\n",
       "      <td>-500.628656</td>\n",
       "      <td>11.894558</td>\n",
       "      <td>-500.149000</td>\n",
       "      <td>11.083980</td>\n",
       "      <td>-500.363177</td>\n",
       "      <td>8.994405</td>\n",
       "      <td>-500.105994</td>\n",
       "      <td>14.989304</td>\n",
       "      <td>-500.745104</td>\n",
       "    </tr>\n",
       "    <tr>\n",
       "      <td>50%</td>\n",
       "      <td>4.994652</td>\n",
       "      <td>10.297144</td>\n",
       "      <td>8.845462</td>\n",
       "      <td>44.872436</td>\n",
       "      <td>67.432775</td>\n",
       "      <td>9.480270</td>\n",
       "      <td>2.592022</td>\n",
       "      <td>10.514621</td>\n",
       "      <td>2.851025</td>\n",
       "      <td>133.018328</td>\n",
       "      <td>8.035811</td>\n",
       "      <td>7.290000</td>\n",
       "      <td>0.888749</td>\n",
       "      <td>8.226247</td>\n",
       "      <td>9.933520</td>\n",
       "      <td>9.726566</td>\n",
       "      <td>33.225835</td>\n",
       "      <td>15.800604</td>\n",
       "      <td>3.218374</td>\n",
       "      <td>7.714419</td>\n",
       "      <td>3.510337</td>\n",
       "      <td>1601.824410</td>\n",
       "      <td>-499.909375</td>\n",
       "      <td>1601.818514</td>\n",
       "      <td>-499.938003</td>\n",
       "      <td>1601.574628</td>\n",
       "      <td>-499.871346</td>\n",
       "      <td>1600.168346</td>\n",
       "      <td>-499.831833</td>\n",
       "      <td>4.368431e+04</td>\n",
       "      <td>2975.892211</td>\n",
       "      <td>2899.807724</td>\n",
       "      <td>2.249275</td>\n",
       "      <td>8.156092</td>\n",
       "      <td>3.422677</td>\n",
       "      <td>499.454777</td>\n",
       "      <td>55.373885</td>\n",
       "      <td>37.020345</td>\n",
       "      <td>7.649138</td>\n",
       "      <td>11.688702</td>\n",
       "      <td>5.951071</td>\n",
       "      <td>11.384283</td>\n",
       "      <td>5.998460</td>\n",
       "      <td>11.747362</td>\n",
       "      <td>7.760435</td>\n",
       "      <td>29.257545</td>\n",
       "      <td>19.947312</td>\n",
       "      <td>85.299462</td>\n",
       "      <td>5.722018</td>\n",
       "      <td>0.625805</td>\n",
       "      <td>18.015894</td>\n",
       "      <td>1.745513</td>\n",
       "      <td>1001.685708</td>\n",
       "      <td>-300.175125</td>\n",
       "      <td>1301.365123</td>\n",
       "      <td>-499.764620</td>\n",
       "      <td>1300.213385</td>\n",
       "      <td>-499.682528</td>\n",
       "      <td>1200.744308</td>\n",
       "      <td>-499.465285</td>\n",
       "      <td>1050.496363</td>\n",
       "      <td>-499.611447</td>\n",
       "      <td>1000.053757</td>\n",
       "      <td>-499.364335</td>\n",
       "      <td>15.357951</td>\n",
       "      <td>5.442310</td>\n",
       "      <td>7.302639</td>\n",
       "      <td>3.980210</td>\n",
       "      <td>30.027721</td>\n",
       "      <td>-499.959206</td>\n",
       "      <td>27.022783</td>\n",
       "      <td>-500.014092</td>\n",
       "      <td>28.016530</td>\n",
       "      <td>-499.877837</td>\n",
       "      <td>22.037270</td>\n",
       "      <td>-499.966809</td>\n",
       "      <td>20.001789</td>\n",
       "      <td>-499.681450</td>\n",
       "      <td>14.975536</td>\n",
       "      <td>-499.388738</td>\n",
       "      <td>17.932223</td>\n",
       "      <td>-499.702452</td>\n",
       "      <td>11.997547</td>\n",
       "      <td>-499.914556</td>\n",
       "      <td>19.984175</td>\n",
       "      <td>-500.061431</td>\n",
       "    </tr>\n",
       "    <tr>\n",
       "      <td>75%</td>\n",
       "      <td>5.859540</td>\n",
       "      <td>11.170603</td>\n",
       "      <td>10.487508</td>\n",
       "      <td>46.166425</td>\n",
       "      <td>72.346428</td>\n",
       "      <td>11.003707</td>\n",
       "      <td>3.241723</td>\n",
       "      <td>11.933009</td>\n",
       "      <td>3.434764</td>\n",
       "      <td>159.825396</td>\n",
       "      <td>11.522173</td>\n",
       "      <td>7.700000</td>\n",
       "      <td>1.100933</td>\n",
       "      <td>9.504924</td>\n",
       "      <td>11.310817</td>\n",
       "      <td>13.052807</td>\n",
       "      <td>35.330145</td>\n",
       "      <td>18.450109</td>\n",
       "      <td>4.253218</td>\n",
       "      <td>8.910664</td>\n",
       "      <td>4.492470</td>\n",
       "      <td>1699.716408</td>\n",
       "      <td>-499.378551</td>\n",
       "      <td>1700.215351</td>\n",
       "      <td>-499.389658</td>\n",
       "      <td>1700.464037</td>\n",
       "      <td>-498.801774</td>\n",
       "      <td>1699.358771</td>\n",
       "      <td>-498.480341</td>\n",
       "      <td>4.776041e+04</td>\n",
       "      <td>3716.360822</td>\n",
       "      <td>3596.534806</td>\n",
       "      <td>2.660896</td>\n",
       "      <td>9.918304</td>\n",
       "      <td>4.226107</td>\n",
       "      <td>547.334973</td>\n",
       "      <td>66.080172</td>\n",
       "      <td>39.423265</td>\n",
       "      <td>9.066976</td>\n",
       "      <td>13.607115</td>\n",
       "      <td>6.602533</td>\n",
       "      <td>13.497134</td>\n",
       "      <td>6.699006</td>\n",
       "      <td>13.426419</td>\n",
       "      <td>8.601927</td>\n",
       "      <td>31.743913</td>\n",
       "      <td>21.392714</td>\n",
       "      <td>90.165021</td>\n",
       "      <td>6.310633</td>\n",
       "      <td>0.794326</td>\n",
       "      <td>19.938672</td>\n",
       "      <td>2.186790</td>\n",
       "      <td>1299.505513</td>\n",
       "      <td>-299.963153</td>\n",
       "      <td>1449.553689</td>\n",
       "      <td>-400.425493</td>\n",
       "      <td>1450.350668</td>\n",
       "      <td>-400.664736</td>\n",
       "      <td>1344.378462</td>\n",
       "      <td>-401.052891</td>\n",
       "      <td>1200.047746</td>\n",
       "      <td>-400.596104</td>\n",
       "      <td>1100.165435</td>\n",
       "      <td>-401.014951</td>\n",
       "      <td>17.230151</td>\n",
       "      <td>7.797948</td>\n",
       "      <td>10.547068</td>\n",
       "      <td>4.883943</td>\n",
       "      <td>34.893057</td>\n",
       "      <td>-499.593198</td>\n",
       "      <td>28.939454</td>\n",
       "      <td>-499.764112</td>\n",
       "      <td>34.990095</td>\n",
       "      <td>-436.923166</td>\n",
       "      <td>25.970365</td>\n",
       "      <td>-499.757501</td>\n",
       "      <td>24.990826</td>\n",
       "      <td>-477.472413</td>\n",
       "      <td>20.059375</td>\n",
       "      <td>-400.039008</td>\n",
       "      <td>21.346550</td>\n",
       "      <td>-487.712108</td>\n",
       "      <td>17.982903</td>\n",
       "      <td>-453.186936</td>\n",
       "      <td>24.991623</td>\n",
       "      <td>-499.536466</td>\n",
       "    </tr>\n",
       "    <tr>\n",
       "      <td>max</td>\n",
       "      <td>16.001945</td>\n",
       "      <td>17.031899</td>\n",
       "      <td>18.124851</td>\n",
       "      <td>52.756638</td>\n",
       "      <td>100.000000</td>\n",
       "      <td>19.552149</td>\n",
       "      <td>5.639565</td>\n",
       "      <td>22.317730</td>\n",
       "      <td>8.197408</td>\n",
       "      <td>250.127834</td>\n",
       "      <td>20.052255</td>\n",
       "      <td>10.470000</td>\n",
       "      <td>2.512968</td>\n",
       "      <td>16.081632</td>\n",
       "      <td>17.081278</td>\n",
       "      <td>22.280845</td>\n",
       "      <td>45.933934</td>\n",
       "      <td>29.459575</td>\n",
       "      <td>9.634565</td>\n",
       "      <td>20.620833</td>\n",
       "      <td>17.788925</td>\n",
       "      <td>2079.531340</td>\n",
       "      <td>-330.134203</td>\n",
       "      <td>2114.906758</td>\n",
       "      <td>-347.354380</td>\n",
       "      <td>2013.156457</td>\n",
       "      <td>-346.653450</td>\n",
       "      <td>2398.903635</td>\n",
       "      <td>-30.601828</td>\n",
       "      <td>3.428099e+06</td>\n",
       "      <td>629638.977914</td>\n",
       "      <td>718684.955855</td>\n",
       "      <td>39.379272</td>\n",
       "      <td>14.596026</td>\n",
       "      <td>7.142594</td>\n",
       "      <td>717.508837</td>\n",
       "      <td>484.967466</td>\n",
       "      <td>48.363177</td>\n",
       "      <td>13.126043</td>\n",
       "      <td>36.118275</td>\n",
       "      <td>9.703448</td>\n",
       "      <td>37.980648</td>\n",
       "      <td>9.698407</td>\n",
       "      <td>24.480271</td>\n",
       "      <td>13.617072</td>\n",
       "      <td>38.351193</td>\n",
       "      <td>28.146838</td>\n",
       "      <td>100.000000</td>\n",
       "      <td>12.719177</td>\n",
       "      <td>3.778064</td>\n",
       "      <td>66.117188</td>\n",
       "      <td>9.688980</td>\n",
       "      <td>1521.980372</td>\n",
       "      <td>-281.039299</td>\n",
       "      <td>1809.194008</td>\n",
       "      <td>-296.383080</td>\n",
       "      <td>2499.129174</td>\n",
       "      <td>-292.155509</td>\n",
       "      <td>1817.199290</td>\n",
       "      <td>-208.330673</td>\n",
       "      <td>1922.636637</td>\n",
       "      <td>-272.199598</td>\n",
       "      <td>1706.307502</td>\n",
       "      <td>-191.718480</td>\n",
       "      <td>23.264738</td>\n",
       "      <td>17.042505</td>\n",
       "      <td>17.976171</td>\n",
       "      <td>26.811643</td>\n",
       "      <td>52.651399</td>\n",
       "      <td>-127.875565</td>\n",
       "      <td>35.152122</td>\n",
       "      <td>-212.064665</td>\n",
       "      <td>44.260464</td>\n",
       "      <td>-191.678810</td>\n",
       "      <td>35.072841</td>\n",
       "      <td>-159.742331</td>\n",
       "      <td>30.115735</td>\n",
       "      <td>-245.239184</td>\n",
       "      <td>24.007913</td>\n",
       "      <td>-145.071088</td>\n",
       "      <td>43.709931</td>\n",
       "      <td>-275.073125</td>\n",
       "      <td>27.926001</td>\n",
       "      <td>-157.396071</td>\n",
       "      <td>32.188906</td>\n",
       "      <td>-104.427459</td>\n",
       "    </tr>\n",
       "  </tbody>\n",
       "</table>\n",
       "</div>"
      ],
      "text/plain": [
       "       final.output.concentrate_ag  final.output.concentrate_pb  \\\n",
       "count                 14148.000000                 14148.000000   \n",
       "mean                      5.142034                    10.132960   \n",
       "std                       1.369586                     1.654930   \n",
       "min                       0.000000                     0.000000   \n",
       "25%                       4.211620                     9.297355   \n",
       "50%                       4.994652                    10.297144   \n",
       "75%                       5.859540                    11.170603   \n",
       "max                      16.001945                    17.031899   \n",
       "\n",
       "       final.output.concentrate_sol  final.output.concentrate_au  \\\n",
       "count                  13938.000000                 14149.000000   \n",
       "mean                       9.202849                    44.003792   \n",
       "std                        2.790516                     4.905261   \n",
       "min                        0.000000                     0.000000   \n",
       "25%                        7.484645                    43.276111   \n",
       "50%                        8.845462                    44.872436   \n",
       "75%                       10.487508                    46.166425   \n",
       "max                       18.124851                    52.756638   \n",
       "\n",
       "       final.output.recovery  final.output.tail_ag  final.output.tail_pb  \\\n",
       "count           14149.000000          14149.000000          14049.000000   \n",
       "mean               66.518832              9.607035              2.597298   \n",
       "std                10.295402              2.319069              0.971843   \n",
       "min                 0.000000              0.000000              0.000000   \n",
       "25%                62.545817              7.997429              1.905973   \n",
       "50%                67.432775              9.480270              2.592022   \n",
       "75%                72.346428             11.003707              3.241723   \n",
       "max               100.000000             19.552149              5.639565   \n",
       "\n",
       "       final.output.tail_sol  final.output.tail_au  \\\n",
       "count           14144.000000          14149.000000   \n",
       "mean               10.512122              2.918421   \n",
       "std                 3.003617              0.903712   \n",
       "min                 0.000000              0.000000   \n",
       "25%                 8.811324              2.368607   \n",
       "50%                10.514621              2.851025   \n",
       "75%                11.933009              3.434764   \n",
       "max                22.317730              8.197408   \n",
       "\n",
       "       primary_cleaner.input.sulfate  primary_cleaner.input.depressant  \\\n",
       "count                   14129.000000                      14117.000000   \n",
       "mean                      133.320659                          8.866996   \n",
       "std                        39.431659                          3.361589   \n",
       "min                         0.003112                          0.000000   \n",
       "25%                       107.006651                          6.040604   \n",
       "50%                       133.018328                          8.035811   \n",
       "75%                       159.825396                         11.522173   \n",
       "max                       250.127834                         20.052255   \n",
       "\n",
       "       primary_cleaner.input.feed_size  primary_cleaner.input.xanthate  \\\n",
       "count                     14149.000000                    14049.000000   \n",
       "mean                          7.322310                        0.885588   \n",
       "std                           0.614062                        0.372714   \n",
       "min                           1.080000                        0.000005   \n",
       "25%                           6.960000                        0.607021   \n",
       "50%                           7.290000                        0.888749   \n",
       "75%                           7.700000                        1.100933   \n",
       "max                          10.470000                        2.512968   \n",
       "\n",
       "       primary_cleaner.output.concentrate_ag  \\\n",
       "count                           14149.000000   \n",
       "mean                                8.200916   \n",
       "std                                 2.005185   \n",
       "min                                 0.000000   \n",
       "25%                                 7.107126   \n",
       "50%                                 8.226247   \n",
       "75%                                 9.504924   \n",
       "max                                16.081632   \n",
       "\n",
       "       primary_cleaner.output.concentrate_pb  \\\n",
       "count                           14063.000000   \n",
       "mean                                9.588862   \n",
       "std                                 2.694296   \n",
       "min                                 0.000000   \n",
       "25%                                 8.333489   \n",
       "50%                                 9.933520   \n",
       "75%                                11.310817   \n",
       "max                                17.081278   \n",
       "\n",
       "       primary_cleaner.output.concentrate_sol  \\\n",
       "count                            13863.000000   \n",
       "mean                                10.114745   \n",
       "std                                  4.064076   \n",
       "min                                  0.000000   \n",
       "25%                                  7.488139   \n",
       "50%                                  9.726566   \n",
       "75%                                 13.052807   \n",
       "max                                 22.280845   \n",
       "\n",
       "       primary_cleaner.output.concentrate_au  primary_cleaner.output.tail_ag  \\\n",
       "count                           14149.000000                    14148.000000   \n",
       "mean                               32.386836                       16.303929   \n",
       "std                                 5.798843                        3.739843   \n",
       "min                                 0.000000                        0.000000   \n",
       "25%                                30.857764                       13.873147   \n",
       "50%                                33.225835                       15.800604   \n",
       "75%                                35.330145                       18.450109   \n",
       "max                                45.933934                       29.459575   \n",
       "\n",
       "       primary_cleaner.output.tail_pb  primary_cleaner.output.tail_sol  \\\n",
       "count                    14134.000000                     14103.000000   \n",
       "mean                         3.443398                         7.533566   \n",
       "std                          1.490106                         2.133220   \n",
       "min                          0.000000                         0.000000   \n",
       "25%                          2.420259                         6.332548   \n",
       "50%                          3.218374                         7.714419   \n",
       "75%                          4.253218                         8.910664   \n",
       "max                          9.634565                        20.620833   \n",
       "\n",
       "       primary_cleaner.output.tail_au  primary_cleaner.state.floatbank8_a_air  \\\n",
       "count                    14149.000000                            14145.000000   \n",
       "mean                         3.839637                             1608.000064   \n",
       "std                          1.603544                              128.394355   \n",
       "min                          0.000000                                0.006352   \n",
       "25%                          2.867957                             1595.695815   \n",
       "50%                          3.510337                             1601.824410   \n",
       "75%                          4.492470                             1699.716408   \n",
       "max                         17.788925                             2079.531340   \n",
       "\n",
       "       primary_cleaner.state.floatbank8_a_level  \\\n",
       "count                              14148.000000   \n",
       "mean                                -488.775525   \n",
       "std                                   35.704184   \n",
       "min                                 -798.641662   \n",
       "25%                                 -500.287952   \n",
       "50%                                 -499.909375   \n",
       "75%                                 -499.378551   \n",
       "max                                 -330.134203   \n",
       "\n",
       "       primary_cleaner.state.floatbank8_b_air  \\\n",
       "count                            14145.000000   \n",
       "mean                              1608.610983   \n",
       "std                                131.112729   \n",
       "min                                  0.008700   \n",
       "25%                               1558.959943   \n",
       "50%                               1601.818514   \n",
       "75%                               1700.215351   \n",
       "max                               2114.906758   \n",
       "\n",
       "       primary_cleaner.state.floatbank8_b_level  \\\n",
       "count                              14148.000000   \n",
       "mean                                -489.171786   \n",
       "std                                   33.604449   \n",
       "min                                 -740.122129   \n",
       "25%                                 -500.375645   \n",
       "50%                                 -499.938003   \n",
       "75%                                 -499.389658   \n",
       "max                                 -347.354380   \n",
       "\n",
       "       primary_cleaner.state.floatbank8_c_air  \\\n",
       "count                            14147.000000   \n",
       "mean                              1608.879407   \n",
       "std                                134.266898   \n",
       "min                                  0.015159   \n",
       "25%                               1549.871886   \n",
       "50%                               1601.574628   \n",
       "75%                               1700.464037   \n",
       "max                               2013.156457   \n",
       "\n",
       "       primary_cleaner.state.floatbank8_c_level  \\\n",
       "count                              14148.000000   \n",
       "mean                                -489.605549   \n",
       "std                                   35.624002   \n",
       "min                                 -799.803073   \n",
       "25%                                 -500.601718   \n",
       "50%                                 -499.871346   \n",
       "75%                                 -498.801774   \n",
       "max                                 -346.653450   \n",
       "\n",
       "       primary_cleaner.state.floatbank8_d_air  \\\n",
       "count                            14146.000000   \n",
       "mean                              1542.189963   \n",
       "std                                278.316132   \n",
       "min                                  0.008655   \n",
       "25%                               1452.678767   \n",
       "50%                               1600.168346   \n",
       "75%                               1699.358771   \n",
       "max                               2398.903635   \n",
       "\n",
       "       primary_cleaner.state.floatbank8_d_level  \\\n",
       "count                              14148.000000   \n",
       "mean                                -483.462423   \n",
       "std                                   47.100934   \n",
       "min                                 -799.788598   \n",
       "25%                                 -500.459917   \n",
       "50%                                 -499.831833   \n",
       "75%                                 -498.480341   \n",
       "max                                  -30.601828   \n",
       "\n",
       "       rougher.calculation.sulfate_to_au_concentrate  \\\n",
       "count                                   1.414800e+04   \n",
       "mean                                    4.038265e+04   \n",
       "std                                     3.801436e+05   \n",
       "min                                    -4.223520e+07   \n",
       "25%                                     3.999430e+04   \n",
       "50%                                     4.368431e+04   \n",
       "75%                                     4.776041e+04   \n",
       "max                                     3.428099e+06   \n",
       "\n",
       "       rougher.calculation.floatbank10_sulfate_to_au_feed  \\\n",
       "count                                       14148.000000    \n",
       "mean                                         3456.608298    \n",
       "std                                          5772.510248    \n",
       "min                                          -486.598675    \n",
       "25%                                          2527.093354    \n",
       "50%                                          2975.892211    \n",
       "75%                                          3716.360822    \n",
       "max                                        629638.977914    \n",
       "\n",
       "       rougher.calculation.floatbank11_sulfate_to_au_feed  \\\n",
       "count                                       14148.000000    \n",
       "mean                                         3253.356387    \n",
       "std                                          6753.290662    \n",
       "min                                          -264.982785    \n",
       "25%                                          2512.200873    \n",
       "50%                                          2899.807724    \n",
       "75%                                          3596.534806    \n",
       "max                                        718684.955855    \n",
       "\n",
       "       rougher.calculation.au_pb_ratio  rougher.input.feed_ag  \\\n",
       "count                     14149.000000           14149.000000   \n",
       "mean                          2.367314               8.579195   \n",
       "std                           0.873551               1.896284   \n",
       "min                          -0.010548               0.010000   \n",
       "25%                           1.999588               7.132802   \n",
       "50%                           2.249275               8.156092   \n",
       "75%                           2.660896               9.918304   \n",
       "max                          39.379272              14.596026   \n",
       "\n",
       "       rougher.input.feed_pb  rougher.input.feed_rate  \\\n",
       "count           14049.000000             14141.000000   \n",
       "mean                3.522778               474.027714   \n",
       "std                 1.073394               104.039838   \n",
       "min                 0.010000                 0.012786   \n",
       "25%                 2.780010               420.781913   \n",
       "50%                 3.422677               499.454777   \n",
       "75%                 4.226107               547.334973   \n",
       "max                 7.142594               717.508837   \n",
       "\n",
       "       rougher.input.feed_size  rougher.input.feed_sol  rougher.input.feed_au  \\\n",
       "count             14005.000000            14071.000000           14149.000000   \n",
       "mean                 60.110518               36.312593               7.866577   \n",
       "std                  22.418485                4.956057               1.919506   \n",
       "min                   9.659576                0.010000               0.010000   \n",
       "25%                  48.973027               34.117635               6.596217   \n",
       "50%                  55.373885               37.020345               7.649138   \n",
       "75%                  66.080172               39.423265               9.066976   \n",
       "max                 484.967466               48.363177              13.126043   \n",
       "\n",
       "       rougher.input.floatbank10_sulfate  rougher.input.floatbank10_xanthate  \\\n",
       "count                       14120.000000                        14141.000000   \n",
       "mean                           11.764931                            5.854529   \n",
       "std                             3.278813                            1.104263   \n",
       "min                             0.001083                            0.001428   \n",
       "25%                             9.861100                            5.117359   \n",
       "50%                            11.688702                            5.951071   \n",
       "75%                            13.607115                            6.602533   \n",
       "max                            36.118275                            9.703448   \n",
       "\n",
       "       rougher.input.floatbank11_sulfate  rougher.input.floatbank11_xanthate  \\\n",
       "count                       14113.000000                        13721.000000   \n",
       "mean                           11.368685                            5.894176   \n",
       "std                             3.743672                            1.124233   \n",
       "min                             0.000098                            0.000290   \n",
       "25%                             9.505507                            5.199168   \n",
       "50%                            11.384283                            5.998460   \n",
       "75%                            13.497134                            6.699006   \n",
       "max                            37.980648                            9.698407   \n",
       "\n",
       "       rougher.output.concentrate_ag  rougher.output.concentrate_pb  \\\n",
       "count                   14149.000000                   14149.000000   \n",
       "mean                       11.775812                       7.664555   \n",
       "std                         2.731747                       1.856279   \n",
       "min                         0.000000                       0.000000   \n",
       "25%                        10.486871                       6.850501   \n",
       "50%                        11.747362                       7.760435   \n",
       "75%                        13.426419                       8.601927   \n",
       "max                        24.480271                      13.617072   \n",
       "\n",
       "       rougher.output.concentrate_sol  rougher.output.concentrate_au  \\\n",
       "count                    14127.000000                   14149.000000   \n",
       "mean                        28.302715                      19.439958   \n",
       "std                          6.102982                       3.765192   \n",
       "min                          0.000000                       0.000000   \n",
       "25%                         26.703554                      18.432161   \n",
       "50%                         29.257545                      19.947312   \n",
       "75%                         31.743913                      21.392714   \n",
       "max                         38.351193                      28.146838   \n",
       "\n",
       "       rougher.output.recovery  rougher.output.tail_ag  \\\n",
       "count             14149.000000            14148.000000   \n",
       "mean                 82.704502                5.567124   \n",
       "std                  14.479156                1.039136   \n",
       "min                   0.000000                0.594562   \n",
       "25%                  79.993067                4.921647   \n",
       "50%                  85.299462                5.722018   \n",
       "75%                  90.165021                6.310633   \n",
       "max                 100.000000               12.719177   \n",
       "\n",
       "       rougher.output.tail_pb  rougher.output.tail_sol  \\\n",
       "count            14149.000000             14149.000000   \n",
       "mean                 0.653277                17.882853   \n",
       "std                  0.263766                 3.432859   \n",
       "min                  0.007566                10.014648   \n",
       "25%                  0.474047                15.688727   \n",
       "50%                  0.625805                18.015894   \n",
       "75%                  0.794326                19.938672   \n",
       "max                  3.778064                66.117188   \n",
       "\n",
       "       rougher.output.tail_au  rougher.state.floatbank10_a_air  \\\n",
       "count            14149.000000                     14148.000000   \n",
       "mean                 1.757473                      1124.726280   \n",
       "std                  0.713187                       169.310825   \n",
       "min                  0.020676                        -0.041078   \n",
       "25%                  1.310800                       999.799166   \n",
       "50%                  1.745513                      1001.685708   \n",
       "75%                  2.186790                      1299.505513   \n",
       "max                  9.688980                      1521.980372   \n",
       "\n",
       "       rougher.state.floatbank10_a_level  rougher.state.floatbank10_b_air  \\\n",
       "count                       14148.000000                     14148.000000   \n",
       "mean                         -369.460950                      1320.705069   \n",
       "std                            93.952787                       183.155975   \n",
       "min                          -650.202881                        -0.653384   \n",
       "25%                          -499.787867                      1199.366448   \n",
       "50%                          -300.175125                      1301.365123   \n",
       "75%                          -299.963153                      1449.553689   \n",
       "max                          -281.039299                      1809.194008   \n",
       "\n",
       "       rougher.state.floatbank10_b_level  rougher.state.floatbank10_c_air  \\\n",
       "count                       14148.000000                     14148.000000   \n",
       "mean                         -464.258983                      1299.360578   \n",
       "std                            57.401954                       213.404094   \n",
       "min                          -650.260008                        -0.035112   \n",
       "25%                          -500.183028                      1103.095071   \n",
       "50%                          -499.764620                      1300.213385   \n",
       "75%                          -400.425493                      1450.350668   \n",
       "max                          -296.383080                      2499.129174   \n",
       "\n",
       "       rougher.state.floatbank10_c_level  rougher.state.floatbank10_d_air  \\\n",
       "count                       14148.000000                     14149.000000   \n",
       "mean                         -465.054849                      1210.335236   \n",
       "std                            55.904716                       210.431555   \n",
       "min                          -640.995627                        -0.554299   \n",
       "25%                          -500.211863                      1059.708509   \n",
       "50%                          -499.682528                      1200.744308   \n",
       "75%                          -400.664736                      1344.378462   \n",
       "max                          -292.155509                      1817.199290   \n",
       "\n",
       "       rougher.state.floatbank10_d_level  rougher.state.floatbank10_e_air  \\\n",
       "count                       14149.000000                     13713.000000   \n",
       "mean                         -465.457377                      1090.213187   \n",
       "std                            55.771393                       184.610118   \n",
       "min                          -640.519003                        -1.970275   \n",
       "25%                          -500.359197                       997.183864   \n",
       "50%                          -499.465285                      1050.496363   \n",
       "75%                          -401.052891                      1200.047746   \n",
       "max                          -208.330673                      1922.636637   \n",
       "\n",
       "       rougher.state.floatbank10_e_level  rougher.state.floatbank10_f_air  \\\n",
       "count                       14149.000000                     14149.000000   \n",
       "mean                         -464.919119                      1035.490299   \n",
       "std                            56.602962                       175.052279   \n",
       "min                          -649.443911                        -2.430587   \n",
       "25%                          -500.250033                       900.966986   \n",
       "50%                          -499.611447                      1000.053757   \n",
       "75%                          -400.596104                      1100.165435   \n",
       "max                          -272.199598                      1706.307502   \n",
       "\n",
       "       rougher.state.floatbank10_f_level  secondary_cleaner.output.tail_ag  \\\n",
       "count                       14149.000000                      14147.000000   \n",
       "mean                         -464.688631                         14.281629   \n",
       "std                            56.645965                          4.477126   \n",
       "min                          -649.880981                          0.000000   \n",
       "25%                          -500.476526                         12.177364   \n",
       "50%                          -499.364335                         15.357951   \n",
       "75%                          -401.014951                         17.230151   \n",
       "max                          -191.718480                         23.264738   \n",
       "\n",
       "       secondary_cleaner.output.tail_pb  secondary_cleaner.output.tail_sol  \\\n",
       "count                      14139.000000                       12544.000000   \n",
       "mean                           5.848863                           6.938693   \n",
       "std                            2.861799                           4.155487   \n",
       "min                            0.000000                           0.000000   \n",
       "25%                            3.982298                           3.225486   \n",
       "50%                            5.442310                           7.302639   \n",
       "75%                            7.797948                          10.547068   \n",
       "max                           17.042505                          17.976171   \n",
       "\n",
       "       secondary_cleaner.output.tail_au  \\\n",
       "count                      14149.000000   \n",
       "mean                           4.246961   \n",
       "std                            2.389060   \n",
       "min                            0.000000   \n",
       "25%                            3.153122   \n",
       "50%                            3.980210   \n",
       "75%                            4.883943   \n",
       "max                           26.811643   \n",
       "\n",
       "       secondary_cleaner.state.floatbank2_a_air  \\\n",
       "count                              13932.000000   \n",
       "mean                                  29.613649   \n",
       "std                                    5.800494   \n",
       "min                                    0.077503   \n",
       "25%                                   25.099584   \n",
       "50%                                   30.027721   \n",
       "75%                                   34.893057   \n",
       "max                                   52.651399   \n",
       "\n",
       "       secondary_cleaner.state.floatbank2_a_level  \\\n",
       "count                                14148.000000   \n",
       "mean                                  -502.223914   \n",
       "std                                     60.281705   \n",
       "min                                   -799.606441   \n",
       "25%                                   -500.248814   \n",
       "50%                                   -499.959206   \n",
       "75%                                   -499.593198   \n",
       "max                                   -127.875565   \n",
       "\n",
       "       secondary_cleaner.state.floatbank2_b_air  \\\n",
       "count                              14128.000000   \n",
       "mean                                  24.914403   \n",
       "std                                    5.994959   \n",
       "min                                    0.000000   \n",
       "25%                                   22.048294   \n",
       "50%                                   27.022783   \n",
       "75%                                   28.939454   \n",
       "max                                   35.152122   \n",
       "\n",
       "       secondary_cleaner.state.floatbank2_b_level  \\\n",
       "count                                14148.000000   \n",
       "mean                                  -503.695706   \n",
       "std                                     62.837357   \n",
       "min                                   -799.873878   \n",
       "25%                                   -500.270997   \n",
       "50%                                   -500.014092   \n",
       "75%                                   -499.764112   \n",
       "max                                   -212.064665   \n",
       "\n",
       "       secondary_cleaner.state.floatbank3_a_air  \\\n",
       "count                              14145.000000   \n",
       "mean                                  29.243372   \n",
       "std                                    5.637309   \n",
       "min                                    0.000000   \n",
       "25%                                   24.991662   \n",
       "50%                                   28.016530   \n",
       "75%                                   34.990095   \n",
       "max                                   44.260464   \n",
       "\n",
       "       secondary_cleaner.state.floatbank3_a_level  \\\n",
       "count                                14148.000000   \n",
       "mean                                  -478.244059   \n",
       "std                                     54.655143   \n",
       "min                                   -799.613013   \n",
       "25%                                   -500.175065   \n",
       "50%                                   -499.877837   \n",
       "75%                                   -436.923166   \n",
       "max                                   -191.678810   \n",
       "\n",
       "       secondary_cleaner.state.floatbank3_b_air  \\\n",
       "count                              14148.000000   \n",
       "mean                                  22.656261   \n",
       "std                                    4.996017   \n",
       "min                                    0.000000   \n",
       "25%                                   19.948436   \n",
       "50%                                   22.037270   \n",
       "75%                                   25.970365   \n",
       "max                                   35.072841   \n",
       "\n",
       "       secondary_cleaner.state.floatbank3_b_level  \\\n",
       "count                                14148.000000   \n",
       "mean                                  -488.924046   \n",
       "std                                     41.928112   \n",
       "min                                   -759.177381   \n",
       "25%                                   -500.110581   \n",
       "50%                                   -499.966809   \n",
       "75%                                   -499.757501   \n",
       "max                                   -159.742331   \n",
       "\n",
       "       secondary_cleaner.state.floatbank4_a_air  \\\n",
       "count                              14143.000000   \n",
       "mean                                  19.985454   \n",
       "std                                    5.657723   \n",
       "min                                    0.000000   \n",
       "25%                                   14.990775   \n",
       "50%                                   20.001789   \n",
       "75%                                   24.990826   \n",
       "max                                   30.115735   \n",
       "\n",
       "       secondary_cleaner.state.floatbank4_a_level  \\\n",
       "count                                14148.000000   \n",
       "mean                                  -478.696836   \n",
       "std                                     50.736021   \n",
       "min                                   -799.709069   \n",
       "25%                                   -500.628656   \n",
       "50%                                   -499.681450   \n",
       "75%                                   -477.472413   \n",
       "max                                   -245.239184   \n",
       "\n",
       "       secondary_cleaner.state.floatbank4_b_air  \\\n",
       "count                              14148.000000   \n",
       "mean                                  15.487065   \n",
       "std                                    5.255655   \n",
       "min                                    0.000000   \n",
       "25%                                   11.894558   \n",
       "50%                                   14.975536   \n",
       "75%                                   20.059375   \n",
       "max                                   24.007913   \n",
       "\n",
       "       secondary_cleaner.state.floatbank4_b_level  \\\n",
       "count                                14148.000000   \n",
       "mean                                  -460.229416   \n",
       "std                                     58.843586   \n",
       "min                                   -799.889113   \n",
       "25%                                   -500.149000   \n",
       "50%                                   -499.388738   \n",
       "75%                                   -400.039008   \n",
       "max                                   -145.071088   \n",
       "\n",
       "       secondary_cleaner.state.floatbank5_a_air  \\\n",
       "count                              14148.000000   \n",
       "mean                                  16.775136   \n",
       "std                                    5.831906   \n",
       "min                                   -0.372054   \n",
       "25%                                   11.083980   \n",
       "50%                                   17.932223   \n",
       "75%                                   21.346550   \n",
       "max                                   43.709931   \n",
       "\n",
       "       secondary_cleaner.state.floatbank5_a_level  \\\n",
       "count                                14148.000000   \n",
       "mean                                  -483.956022   \n",
       "std                                     37.892788   \n",
       "min                                   -797.142475   \n",
       "25%                                   -500.363177   \n",
       "50%                                   -499.702452   \n",
       "75%                                   -487.712108   \n",
       "max                                   -275.073125   \n",
       "\n",
       "       secondary_cleaner.state.floatbank5_b_air  \\\n",
       "count                              14148.000000   \n",
       "mean                                  13.064590   \n",
       "std                                    5.765617   \n",
       "min                                    0.646208   \n",
       "25%                                    8.994405   \n",
       "50%                                   11.997547   \n",
       "75%                                   17.982903   \n",
       "max                                   27.926001   \n",
       "\n",
       "       secondary_cleaner.state.floatbank5_b_level  \\\n",
       "count                                14148.000000   \n",
       "mean                                  -483.966564   \n",
       "std                                     39.207913   \n",
       "min                                   -800.006180   \n",
       "25%                                   -500.105994   \n",
       "50%                                   -499.914556   \n",
       "75%                                   -453.186936   \n",
       "max                                   -157.396071   \n",
       "\n",
       "       secondary_cleaner.state.floatbank6_a_air  \\\n",
       "count                              14147.000000   \n",
       "mean                                  19.577539   \n",
       "std                                    5.764417   \n",
       "min                                    0.195324   \n",
       "25%                                   14.989304   \n",
       "50%                                   19.984175   \n",
       "75%                                   24.991623   \n",
       "max                                   32.188906   \n",
       "\n",
       "       secondary_cleaner.state.floatbank6_a_level  \n",
       "count                                14148.000000  \n",
       "mean                                  -506.798480  \n",
       "std                                     37.079249  \n",
       "min                                   -809.398668  \n",
       "25%                                   -500.745104  \n",
       "50%                                   -500.061431  \n",
       "75%                                   -499.536466  \n",
       "max                                   -104.427459  "
      ]
     },
     "execution_count": 109,
     "metadata": {},
     "output_type": "execute_result"
    }
   ],
   "source": [
    "df_train.describe()"
   ]
  },
  {
   "cell_type": "code",
   "execution_count": 110,
   "metadata": {},
   "outputs": [
    {
     "data": {
      "text/plain": [
       "date                                          0.00%\n",
       "primary_cleaner.input.sulfate                 0.08%\n",
       "primary_cleaner.input.depressant              0.09%\n",
       "primary_cleaner.input.feed_size               0.00%\n",
       "primary_cleaner.input.xanthate                0.08%\n",
       "primary_cleaner.state.floatbank8_a_air        0.00%\n",
       "primary_cleaner.state.floatbank8_a_level      0.00%\n",
       "primary_cleaner.state.floatbank8_b_air        0.00%\n",
       "primary_cleaner.state.floatbank8_b_level      0.00%\n",
       "primary_cleaner.state.floatbank8_c_air        0.00%\n",
       "primary_cleaner.state.floatbank8_c_level      0.00%\n",
       "primary_cleaner.state.floatbank8_d_air        0.00%\n",
       "primary_cleaner.state.floatbank8_d_level      0.00%\n",
       "rougher.input.feed_ag                         0.00%\n",
       "rougher.input.feed_pb                         0.00%\n",
       "rougher.input.feed_rate                       0.06%\n",
       "rougher.input.feed_size                       0.02%\n",
       "rougher.input.feed_sol                        0.40%\n",
       "rougher.input.feed_au                         0.00%\n",
       "rougher.input.floatbank10_sulfate             0.09%\n",
       "rougher.input.floatbank10_xanthate            0.00%\n",
       "rougher.input.floatbank11_sulfate             0.15%\n",
       "rougher.input.floatbank11_xanthate            0.47%\n",
       "rougher.state.floatbank10_a_air               0.00%\n",
       "rougher.state.floatbank10_a_level             0.00%\n",
       "rougher.state.floatbank10_b_air               0.00%\n",
       "rougher.state.floatbank10_b_level             0.00%\n",
       "rougher.state.floatbank10_c_air               0.00%\n",
       "rougher.state.floatbank10_c_level             0.00%\n",
       "rougher.state.floatbank10_d_air               0.00%\n",
       "rougher.state.floatbank10_d_level             0.00%\n",
       "rougher.state.floatbank10_e_air               0.00%\n",
       "rougher.state.floatbank10_e_level             0.00%\n",
       "rougher.state.floatbank10_f_air               0.00%\n",
       "rougher.state.floatbank10_f_level             0.00%\n",
       "secondary_cleaner.state.floatbank2_a_air      0.06%\n",
       "secondary_cleaner.state.floatbank2_a_level    0.00%\n",
       "secondary_cleaner.state.floatbank2_b_air      0.04%\n",
       "secondary_cleaner.state.floatbank2_b_level    0.00%\n",
       "secondary_cleaner.state.floatbank3_a_air      0.17%\n",
       "secondary_cleaner.state.floatbank3_a_level    0.00%\n",
       "secondary_cleaner.state.floatbank3_b_air      0.00%\n",
       "secondary_cleaner.state.floatbank3_b_level    0.00%\n",
       "secondary_cleaner.state.floatbank4_a_air      0.00%\n",
       "secondary_cleaner.state.floatbank4_a_level    0.00%\n",
       "secondary_cleaner.state.floatbank4_b_air      0.00%\n",
       "secondary_cleaner.state.floatbank4_b_level    0.00%\n",
       "secondary_cleaner.state.floatbank5_a_air      0.00%\n",
       "secondary_cleaner.state.floatbank5_a_level    0.00%\n",
       "secondary_cleaner.state.floatbank5_b_air      0.00%\n",
       "secondary_cleaner.state.floatbank5_b_level    0.00%\n",
       "secondary_cleaner.state.floatbank6_a_air      0.00%\n",
       "secondary_cleaner.state.floatbank6_a_level    0.00%\n",
       "dtype: object"
      ]
     },
     "execution_count": 110,
     "metadata": {},
     "output_type": "execute_result"
    }
   ],
   "source": [
    "df_test.isna().mean().apply('{:.2%}'.format)"
   ]
  },
  {
   "cell_type": "code",
   "execution_count": 111,
   "metadata": {},
   "outputs": [
    {
     "data": {
      "text/html": [
       "<div>\n",
       "<style scoped>\n",
       "    .dataframe tbody tr th:only-of-type {\n",
       "        vertical-align: middle;\n",
       "    }\n",
       "\n",
       "    .dataframe tbody tr th {\n",
       "        vertical-align: top;\n",
       "    }\n",
       "\n",
       "    .dataframe thead th {\n",
       "        text-align: right;\n",
       "    }\n",
       "</style>\n",
       "<table border=\"1\" class=\"dataframe\">\n",
       "  <thead>\n",
       "    <tr style=\"text-align: right;\">\n",
       "      <th></th>\n",
       "      <th>primary_cleaner.input.sulfate</th>\n",
       "      <th>primary_cleaner.input.depressant</th>\n",
       "      <th>primary_cleaner.input.feed_size</th>\n",
       "      <th>primary_cleaner.input.xanthate</th>\n",
       "      <th>primary_cleaner.state.floatbank8_a_air</th>\n",
       "      <th>primary_cleaner.state.floatbank8_a_level</th>\n",
       "      <th>primary_cleaner.state.floatbank8_b_air</th>\n",
       "      <th>primary_cleaner.state.floatbank8_b_level</th>\n",
       "      <th>primary_cleaner.state.floatbank8_c_air</th>\n",
       "      <th>primary_cleaner.state.floatbank8_c_level</th>\n",
       "      <th>primary_cleaner.state.floatbank8_d_air</th>\n",
       "      <th>primary_cleaner.state.floatbank8_d_level</th>\n",
       "      <th>rougher.input.feed_ag</th>\n",
       "      <th>rougher.input.feed_pb</th>\n",
       "      <th>rougher.input.feed_rate</th>\n",
       "      <th>rougher.input.feed_size</th>\n",
       "      <th>rougher.input.feed_sol</th>\n",
       "      <th>rougher.input.feed_au</th>\n",
       "      <th>rougher.input.floatbank10_sulfate</th>\n",
       "      <th>rougher.input.floatbank10_xanthate</th>\n",
       "      <th>rougher.input.floatbank11_sulfate</th>\n",
       "      <th>rougher.input.floatbank11_xanthate</th>\n",
       "      <th>rougher.state.floatbank10_a_air</th>\n",
       "      <th>rougher.state.floatbank10_a_level</th>\n",
       "      <th>rougher.state.floatbank10_b_air</th>\n",
       "      <th>rougher.state.floatbank10_b_level</th>\n",
       "      <th>rougher.state.floatbank10_c_air</th>\n",
       "      <th>rougher.state.floatbank10_c_level</th>\n",
       "      <th>rougher.state.floatbank10_d_air</th>\n",
       "      <th>rougher.state.floatbank10_d_level</th>\n",
       "      <th>rougher.state.floatbank10_e_air</th>\n",
       "      <th>rougher.state.floatbank10_e_level</th>\n",
       "      <th>rougher.state.floatbank10_f_air</th>\n",
       "      <th>rougher.state.floatbank10_f_level</th>\n",
       "      <th>secondary_cleaner.state.floatbank2_a_air</th>\n",
       "      <th>secondary_cleaner.state.floatbank2_a_level</th>\n",
       "      <th>secondary_cleaner.state.floatbank2_b_air</th>\n",
       "      <th>secondary_cleaner.state.floatbank2_b_level</th>\n",
       "      <th>secondary_cleaner.state.floatbank3_a_air</th>\n",
       "      <th>secondary_cleaner.state.floatbank3_a_level</th>\n",
       "      <th>secondary_cleaner.state.floatbank3_b_air</th>\n",
       "      <th>secondary_cleaner.state.floatbank3_b_level</th>\n",
       "      <th>secondary_cleaner.state.floatbank4_a_air</th>\n",
       "      <th>secondary_cleaner.state.floatbank4_a_level</th>\n",
       "      <th>secondary_cleaner.state.floatbank4_b_air</th>\n",
       "      <th>secondary_cleaner.state.floatbank4_b_level</th>\n",
       "      <th>secondary_cleaner.state.floatbank5_a_air</th>\n",
       "      <th>secondary_cleaner.state.floatbank5_a_level</th>\n",
       "      <th>secondary_cleaner.state.floatbank5_b_air</th>\n",
       "      <th>secondary_cleaner.state.floatbank5_b_level</th>\n",
       "      <th>secondary_cleaner.state.floatbank6_a_air</th>\n",
       "      <th>secondary_cleaner.state.floatbank6_a_level</th>\n",
       "    </tr>\n",
       "  </thead>\n",
       "  <tbody>\n",
       "    <tr>\n",
       "      <td>count</td>\n",
       "      <td>5286.000000</td>\n",
       "      <td>5285.000000</td>\n",
       "      <td>5290.000000</td>\n",
       "      <td>5286.000000</td>\n",
       "      <td>5.290000e+03</td>\n",
       "      <td>5290.000000</td>\n",
       "      <td>5.290000e+03</td>\n",
       "      <td>5290.000000</td>\n",
       "      <td>5.290000e+03</td>\n",
       "      <td>5290.000000</td>\n",
       "      <td>5.290000e+03</td>\n",
       "      <td>5290.000000</td>\n",
       "      <td>5290.000000</td>\n",
       "      <td>5290.000000</td>\n",
       "      <td>5287.000000</td>\n",
       "      <td>5289.000000</td>\n",
       "      <td>5269.000000</td>\n",
       "      <td>5290.000000</td>\n",
       "      <td>5285.000000</td>\n",
       "      <td>5290.000000</td>\n",
       "      <td>5282.000000</td>\n",
       "      <td>5265.000000</td>\n",
       "      <td>5290.000000</td>\n",
       "      <td>5290.000000</td>\n",
       "      <td>5290.000000</td>\n",
       "      <td>5290.000000</td>\n",
       "      <td>5290.000000</td>\n",
       "      <td>5290.000000</td>\n",
       "      <td>5290.000000</td>\n",
       "      <td>5290.000000</td>\n",
       "      <td>5290.000000</td>\n",
       "      <td>5290.000000</td>\n",
       "      <td>5290.000000</td>\n",
       "      <td>5290.000000</td>\n",
       "      <td>5287.000000</td>\n",
       "      <td>5290.000000</td>\n",
       "      <td>5288.000000</td>\n",
       "      <td>5290.000000</td>\n",
       "      <td>5281.000000</td>\n",
       "      <td>5290.000000</td>\n",
       "      <td>5.290000e+03</td>\n",
       "      <td>5290.000000</td>\n",
       "      <td>5.290000e+03</td>\n",
       "      <td>5290.000000</td>\n",
       "      <td>5.290000e+03</td>\n",
       "      <td>5290.000000</td>\n",
       "      <td>5290.000000</td>\n",
       "      <td>5290.000000</td>\n",
       "      <td>5290.000000</td>\n",
       "      <td>5290.000000</td>\n",
       "      <td>5290.000000</td>\n",
       "      <td>5290.000000</td>\n",
       "    </tr>\n",
       "    <tr>\n",
       "      <td>mean</td>\n",
       "      <td>174.839652</td>\n",
       "      <td>8.683596</td>\n",
       "      <td>7.266339</td>\n",
       "      <td>1.383803</td>\n",
       "      <td>1.539494e+03</td>\n",
       "      <td>-497.665883</td>\n",
       "      <td>1.545174e+03</td>\n",
       "      <td>-500.273098</td>\n",
       "      <td>1.527272e+03</td>\n",
       "      <td>-498.330680</td>\n",
       "      <td>1.544844e+03</td>\n",
       "      <td>-500.199527</td>\n",
       "      <td>9.371940</td>\n",
       "      <td>3.798082</td>\n",
       "      <td>489.800620</td>\n",
       "      <td>55.951097</td>\n",
       "      <td>37.716648</td>\n",
       "      <td>9.334682</td>\n",
       "      <td>13.855759</td>\n",
       "      <td>6.467745</td>\n",
       "      <td>13.922328</td>\n",
       "      <td>6.512103</td>\n",
       "      <td>1053.400166</td>\n",
       "      <td>-395.732530</td>\n",
       "      <td>1318.926879</td>\n",
       "      <td>-475.241428</td>\n",
       "      <td>1301.595477</td>\n",
       "      <td>-474.836671</td>\n",
       "      <td>1214.847960</td>\n",
       "      <td>-475.682272</td>\n",
       "      <td>1056.648995</td>\n",
       "      <td>-469.029688</td>\n",
       "      <td>997.949719</td>\n",
       "      <td>-470.482465</td>\n",
       "      <td>26.312630</td>\n",
       "      <td>-502.750897</td>\n",
       "      <td>21.949119</td>\n",
       "      <td>-501.987097</td>\n",
       "      <td>25.402926</td>\n",
       "      <td>-507.490314</td>\n",
       "      <td>2.098211e+01</td>\n",
       "      <td>-506.627916</td>\n",
       "      <td>1.632007e+01</td>\n",
       "      <td>-505.144570</td>\n",
       "      <td>1.373544e+01</td>\n",
       "      <td>-463.349858</td>\n",
       "      <td>12.804186</td>\n",
       "      <td>-501.329122</td>\n",
       "      <td>9.881145</td>\n",
       "      <td>-495.663398</td>\n",
       "      <td>17.304935</td>\n",
       "      <td>-501.793193</td>\n",
       "    </tr>\n",
       "    <tr>\n",
       "      <td>std</td>\n",
       "      <td>43.027080</td>\n",
       "      <td>3.072050</td>\n",
       "      <td>0.610219</td>\n",
       "      <td>0.643474</td>\n",
       "      <td>1.167979e+02</td>\n",
       "      <td>19.952431</td>\n",
       "      <td>1.222246e+02</td>\n",
       "      <td>32.968307</td>\n",
       "      <td>1.225380e+02</td>\n",
       "      <td>21.964876</td>\n",
       "      <td>1.247731e+02</td>\n",
       "      <td>31.045257</td>\n",
       "      <td>1.926264</td>\n",
       "      <td>0.954859</td>\n",
       "      <td>108.036326</td>\n",
       "      <td>19.081758</td>\n",
       "      <td>5.491415</td>\n",
       "      <td>1.619521</td>\n",
       "      <td>3.350852</td>\n",
       "      <td>1.065114</td>\n",
       "      <td>3.223769</td>\n",
       "      <td>0.886989</td>\n",
       "      <td>121.139309</td>\n",
       "      <td>91.085505</td>\n",
       "      <td>156.450366</td>\n",
       "      <td>45.649466</td>\n",
       "      <td>171.269667</td>\n",
       "      <td>45.859866</td>\n",
       "      <td>185.763319</td>\n",
       "      <td>47.844967</td>\n",
       "      <td>131.542839</td>\n",
       "      <td>59.325990</td>\n",
       "      <td>128.218869</td>\n",
       "      <td>60.759318</td>\n",
       "      <td>3.429852</td>\n",
       "      <td>28.756505</td>\n",
       "      <td>4.354961</td>\n",
       "      <td>34.582722</td>\n",
       "      <td>6.526457</td>\n",
       "      <td>47.620908</td>\n",
       "      <td>6.736179e+00</td>\n",
       "      <td>44.528673</td>\n",
       "      <td>3.493583e+00</td>\n",
       "      <td>31.427337</td>\n",
       "      <td>3.430484e+00</td>\n",
       "      <td>86.189107</td>\n",
       "      <td>3.026591</td>\n",
       "      <td>17.951495</td>\n",
       "      <td>2.868205</td>\n",
       "      <td>34.535007</td>\n",
       "      <td>4.536544</td>\n",
       "      <td>39.044215</td>\n",
       "    </tr>\n",
       "    <tr>\n",
       "      <td>min</td>\n",
       "      <td>2.566156</td>\n",
       "      <td>0.003839</td>\n",
       "      <td>5.650000</td>\n",
       "      <td>0.004984</td>\n",
       "      <td>5.445860e-32</td>\n",
       "      <td>-795.316337</td>\n",
       "      <td>6.647490e-32</td>\n",
       "      <td>-799.997015</td>\n",
       "      <td>4.033736e-32</td>\n",
       "      <td>-799.960571</td>\n",
       "      <td>4.039220e-32</td>\n",
       "      <td>-799.794250</td>\n",
       "      <td>0.568441</td>\n",
       "      <td>0.273677</td>\n",
       "      <td>0.002986</td>\n",
       "      <td>0.046369</td>\n",
       "      <td>1.393488</td>\n",
       "      <td>0.568632</td>\n",
       "      <td>0.001147</td>\n",
       "      <td>0.000568</td>\n",
       "      <td>0.000077</td>\n",
       "      <td>0.006985</td>\n",
       "      <td>-0.042069</td>\n",
       "      <td>-657.949759</td>\n",
       "      <td>-0.721806</td>\n",
       "      <td>-650.245277</td>\n",
       "      <td>-0.056636</td>\n",
       "      <td>-647.544439</td>\n",
       "      <td>-0.992219</td>\n",
       "      <td>-648.390665</td>\n",
       "      <td>-1.982295</td>\n",
       "      <td>-649.267537</td>\n",
       "      <td>-2.593390</td>\n",
       "      <td>-649.949283</td>\n",
       "      <td>0.205329</td>\n",
       "      <td>-784.091091</td>\n",
       "      <td>0.006064</td>\n",
       "      <td>-797.783989</td>\n",
       "      <td>0.000000</td>\n",
       "      <td>-799.755798</td>\n",
       "      <td>1.521587e-17</td>\n",
       "      <td>-809.333008</td>\n",
       "      <td>1.079872e-16</td>\n",
       "      <td>-799.798523</td>\n",
       "      <td>2.489718e-17</td>\n",
       "      <td>-800.836914</td>\n",
       "      <td>0.069227</td>\n",
       "      <td>-797.323986</td>\n",
       "      <td>0.528083</td>\n",
       "      <td>-800.220337</td>\n",
       "      <td>-0.079426</td>\n",
       "      <td>-809.741464</td>\n",
       "    </tr>\n",
       "    <tr>\n",
       "      <td>25%</td>\n",
       "      <td>147.121401</td>\n",
       "      <td>6.489555</td>\n",
       "      <td>6.890000</td>\n",
       "      <td>0.907623</td>\n",
       "      <td>1.498936e+03</td>\n",
       "      <td>-500.357298</td>\n",
       "      <td>1.498971e+03</td>\n",
       "      <td>-500.703002</td>\n",
       "      <td>1.473230e+03</td>\n",
       "      <td>-501.018117</td>\n",
       "      <td>1.499481e+03</td>\n",
       "      <td>-500.452469</td>\n",
       "      <td>8.112434</td>\n",
       "      <td>3.240251</td>\n",
       "      <td>407.020883</td>\n",
       "      <td>43.906347</td>\n",
       "      <td>34.505576</td>\n",
       "      <td>8.207814</td>\n",
       "      <td>11.995006</td>\n",
       "      <td>5.998779</td>\n",
       "      <td>11.997200</td>\n",
       "      <td>5.999157</td>\n",
       "      <td>999.205344</td>\n",
       "      <td>-499.920565</td>\n",
       "      <td>1200.871883</td>\n",
       "      <td>-500.256114</td>\n",
       "      <td>1199.651371</td>\n",
       "      <td>-500.233831</td>\n",
       "      <td>1093.368068</td>\n",
       "      <td>-500.440610</td>\n",
       "      <td>999.361403</td>\n",
       "      <td>-500.190639</td>\n",
       "      <td>901.024994</td>\n",
       "      <td>-500.624783</td>\n",
       "      <td>24.942328</td>\n",
       "      <td>-500.206517</td>\n",
       "      <td>20.002315</td>\n",
       "      <td>-500.218030</td>\n",
       "      <td>22.982288</td>\n",
       "      <td>-500.297951</td>\n",
       "      <td>1.796786e+01</td>\n",
       "      <td>-500.145128</td>\n",
       "      <td>1.403618e+01</td>\n",
       "      <td>-500.868258</td>\n",
       "      <td>1.202862e+01</td>\n",
       "      <td>-500.323028</td>\n",
       "      <td>10.914838</td>\n",
       "      <td>-500.726841</td>\n",
       "      <td>8.036719</td>\n",
       "      <td>-500.194668</td>\n",
       "      <td>13.997317</td>\n",
       "      <td>-500.690984</td>\n",
       "    </tr>\n",
       "    <tr>\n",
       "      <td>50%</td>\n",
       "      <td>177.828489</td>\n",
       "      <td>8.052207</td>\n",
       "      <td>7.250000</td>\n",
       "      <td>1.197610</td>\n",
       "      <td>1.585129e+03</td>\n",
       "      <td>-499.969164</td>\n",
       "      <td>1.595622e+03</td>\n",
       "      <td>-500.028514</td>\n",
       "      <td>1.549595e+03</td>\n",
       "      <td>-500.017711</td>\n",
       "      <td>1.594579e+03</td>\n",
       "      <td>-500.023307</td>\n",
       "      <td>9.762654</td>\n",
       "      <td>3.740716</td>\n",
       "      <td>499.051440</td>\n",
       "      <td>50.841029</td>\n",
       "      <td>37.980276</td>\n",
       "      <td>9.593766</td>\n",
       "      <td>14.003126</td>\n",
       "      <td>6.498181</td>\n",
       "      <td>14.004371</td>\n",
       "      <td>6.498744</td>\n",
       "      <td>1000.472055</td>\n",
       "      <td>-399.693363</td>\n",
       "      <td>1302.254995</td>\n",
       "      <td>-499.837803</td>\n",
       "      <td>1300.202274</td>\n",
       "      <td>-499.777222</td>\n",
       "      <td>1207.014092</td>\n",
       "      <td>-499.691917</td>\n",
       "      <td>1047.495449</td>\n",
       "      <td>-499.765796</td>\n",
       "      <td>999.441879</td>\n",
       "      <td>-499.680986</td>\n",
       "      <td>26.910569</td>\n",
       "      <td>-500.003902</td>\n",
       "      <td>22.942603</td>\n",
       "      <td>-500.019058</td>\n",
       "      <td>25.010105</td>\n",
       "      <td>-500.034578</td>\n",
       "      <td>2.100316e+01</td>\n",
       "      <td>-500.013819</td>\n",
       "      <td>1.700847e+01</td>\n",
       "      <td>-500.115727</td>\n",
       "      <td>1.496486e+01</td>\n",
       "      <td>-499.576513</td>\n",
       "      <td>12.954182</td>\n",
       "      <td>-499.990332</td>\n",
       "      <td>10.004301</td>\n",
       "      <td>-499.990535</td>\n",
       "      <td>16.014935</td>\n",
       "      <td>-500.007126</td>\n",
       "    </tr>\n",
       "    <tr>\n",
       "      <td>75%</td>\n",
       "      <td>208.125438</td>\n",
       "      <td>10.027764</td>\n",
       "      <td>7.600000</td>\n",
       "      <td>1.797819</td>\n",
       "      <td>1.602077e+03</td>\n",
       "      <td>-499.568951</td>\n",
       "      <td>1.602324e+03</td>\n",
       "      <td>-499.293257</td>\n",
       "      <td>1.601144e+03</td>\n",
       "      <td>-498.994130</td>\n",
       "      <td>1.600965e+03</td>\n",
       "      <td>-499.607040</td>\n",
       "      <td>10.652297</td>\n",
       "      <td>4.282634</td>\n",
       "      <td>575.307213</td>\n",
       "      <td>62.431047</td>\n",
       "      <td>41.635385</td>\n",
       "      <td>10.463538</td>\n",
       "      <td>16.974284</td>\n",
       "      <td>7.085457</td>\n",
       "      <td>16.959671</td>\n",
       "      <td>7.091808</td>\n",
       "      <td>1006.254299</td>\n",
       "      <td>-300.060056</td>\n",
       "      <td>1433.955649</td>\n",
       "      <td>-450.749619</td>\n",
       "      <td>1406.594956</td>\n",
       "      <td>-451.153188</td>\n",
       "      <td>1391.497269</td>\n",
       "      <td>-452.483463</td>\n",
       "      <td>1101.365315</td>\n",
       "      <td>-450.957513</td>\n",
       "      <td>1050.433005</td>\n",
       "      <td>-451.986460</td>\n",
       "      <td>28.091885</td>\n",
       "      <td>-499.791639</td>\n",
       "      <td>24.985013</td>\n",
       "      <td>-499.831532</td>\n",
       "      <td>30.002063</td>\n",
       "      <td>-499.780163</td>\n",
       "      <td>2.697698e+01</td>\n",
       "      <td>-499.890608</td>\n",
       "      <td>1.803862e+01</td>\n",
       "      <td>-499.404224</td>\n",
       "      <td>1.596213e+01</td>\n",
       "      <td>-400.933805</td>\n",
       "      <td>15.097528</td>\n",
       "      <td>-499.283191</td>\n",
       "      <td>11.997467</td>\n",
       "      <td>-499.719913</td>\n",
       "      <td>21.020013</td>\n",
       "      <td>-499.373018</td>\n",
       "    </tr>\n",
       "    <tr>\n",
       "      <td>max</td>\n",
       "      <td>265.983123</td>\n",
       "      <td>40.000000</td>\n",
       "      <td>15.500000</td>\n",
       "      <td>4.102454</td>\n",
       "      <td>2.103104e+03</td>\n",
       "      <td>-57.195404</td>\n",
       "      <td>1.813084e+03</td>\n",
       "      <td>-142.527229</td>\n",
       "      <td>1.715054e+03</td>\n",
       "      <td>-150.937035</td>\n",
       "      <td>1.913257e+03</td>\n",
       "      <td>-158.950573</td>\n",
       "      <td>14.406130</td>\n",
       "      <td>6.905684</td>\n",
       "      <td>707.364020</td>\n",
       "      <td>392.494040</td>\n",
       "      <td>53.477742</td>\n",
       "      <td>13.731330</td>\n",
       "      <td>24.280636</td>\n",
       "      <td>8.910468</td>\n",
       "      <td>24.280966</td>\n",
       "      <td>8.621338</td>\n",
       "      <td>1423.274687</td>\n",
       "      <td>-273.776101</td>\n",
       "      <td>1706.640419</td>\n",
       "      <td>-298.200051</td>\n",
       "      <td>1731.017788</td>\n",
       "      <td>-298.036852</td>\n",
       "      <td>1775.218584</td>\n",
       "      <td>-76.397327</td>\n",
       "      <td>1467.184843</td>\n",
       "      <td>-139.753025</td>\n",
       "      <td>1476.588107</td>\n",
       "      <td>-249.801043</td>\n",
       "      <td>32.138727</td>\n",
       "      <td>-300.343670</td>\n",
       "      <td>28.165864</td>\n",
       "      <td>-211.999273</td>\n",
       "      <td>40.041997</td>\n",
       "      <td>-313.866425</td>\n",
       "      <td>3.203936e+01</td>\n",
       "      <td>-202.277366</td>\n",
       "      <td>3.005180e+01</td>\n",
       "      <td>-401.565212</td>\n",
       "      <td>3.126971e+01</td>\n",
       "      <td>-6.506986</td>\n",
       "      <td>25.258848</td>\n",
       "      <td>-244.483566</td>\n",
       "      <td>14.086866</td>\n",
       "      <td>-137.740004</td>\n",
       "      <td>26.705889</td>\n",
       "      <td>-123.307487</td>\n",
       "    </tr>\n",
       "  </tbody>\n",
       "</table>\n",
       "</div>"
      ],
      "text/plain": [
       "       primary_cleaner.input.sulfate  primary_cleaner.input.depressant  \\\n",
       "count                    5286.000000                       5285.000000   \n",
       "mean                      174.839652                          8.683596   \n",
       "std                        43.027080                          3.072050   \n",
       "min                         2.566156                          0.003839   \n",
       "25%                       147.121401                          6.489555   \n",
       "50%                       177.828489                          8.052207   \n",
       "75%                       208.125438                         10.027764   \n",
       "max                       265.983123                         40.000000   \n",
       "\n",
       "       primary_cleaner.input.feed_size  primary_cleaner.input.xanthate  \\\n",
       "count                      5290.000000                     5286.000000   \n",
       "mean                          7.266339                        1.383803   \n",
       "std                           0.610219                        0.643474   \n",
       "min                           5.650000                        0.004984   \n",
       "25%                           6.890000                        0.907623   \n",
       "50%                           7.250000                        1.197610   \n",
       "75%                           7.600000                        1.797819   \n",
       "max                          15.500000                        4.102454   \n",
       "\n",
       "       primary_cleaner.state.floatbank8_a_air  \\\n",
       "count                            5.290000e+03   \n",
       "mean                             1.539494e+03   \n",
       "std                              1.167979e+02   \n",
       "min                              5.445860e-32   \n",
       "25%                              1.498936e+03   \n",
       "50%                              1.585129e+03   \n",
       "75%                              1.602077e+03   \n",
       "max                              2.103104e+03   \n",
       "\n",
       "       primary_cleaner.state.floatbank8_a_level  \\\n",
       "count                               5290.000000   \n",
       "mean                                -497.665883   \n",
       "std                                   19.952431   \n",
       "min                                 -795.316337   \n",
       "25%                                 -500.357298   \n",
       "50%                                 -499.969164   \n",
       "75%                                 -499.568951   \n",
       "max                                  -57.195404   \n",
       "\n",
       "       primary_cleaner.state.floatbank8_b_air  \\\n",
       "count                            5.290000e+03   \n",
       "mean                             1.545174e+03   \n",
       "std                              1.222246e+02   \n",
       "min                              6.647490e-32   \n",
       "25%                              1.498971e+03   \n",
       "50%                              1.595622e+03   \n",
       "75%                              1.602324e+03   \n",
       "max                              1.813084e+03   \n",
       "\n",
       "       primary_cleaner.state.floatbank8_b_level  \\\n",
       "count                               5290.000000   \n",
       "mean                                -500.273098   \n",
       "std                                   32.968307   \n",
       "min                                 -799.997015   \n",
       "25%                                 -500.703002   \n",
       "50%                                 -500.028514   \n",
       "75%                                 -499.293257   \n",
       "max                                 -142.527229   \n",
       "\n",
       "       primary_cleaner.state.floatbank8_c_air  \\\n",
       "count                            5.290000e+03   \n",
       "mean                             1.527272e+03   \n",
       "std                              1.225380e+02   \n",
       "min                              4.033736e-32   \n",
       "25%                              1.473230e+03   \n",
       "50%                              1.549595e+03   \n",
       "75%                              1.601144e+03   \n",
       "max                              1.715054e+03   \n",
       "\n",
       "       primary_cleaner.state.floatbank8_c_level  \\\n",
       "count                               5290.000000   \n",
       "mean                                -498.330680   \n",
       "std                                   21.964876   \n",
       "min                                 -799.960571   \n",
       "25%                                 -501.018117   \n",
       "50%                                 -500.017711   \n",
       "75%                                 -498.994130   \n",
       "max                                 -150.937035   \n",
       "\n",
       "       primary_cleaner.state.floatbank8_d_air  \\\n",
       "count                            5.290000e+03   \n",
       "mean                             1.544844e+03   \n",
       "std                              1.247731e+02   \n",
       "min                              4.039220e-32   \n",
       "25%                              1.499481e+03   \n",
       "50%                              1.594579e+03   \n",
       "75%                              1.600965e+03   \n",
       "max                              1.913257e+03   \n",
       "\n",
       "       primary_cleaner.state.floatbank8_d_level  rougher.input.feed_ag  \\\n",
       "count                               5290.000000            5290.000000   \n",
       "mean                                -500.199527               9.371940   \n",
       "std                                   31.045257               1.926264   \n",
       "min                                 -799.794250               0.568441   \n",
       "25%                                 -500.452469               8.112434   \n",
       "50%                                 -500.023307               9.762654   \n",
       "75%                                 -499.607040              10.652297   \n",
       "max                                 -158.950573              14.406130   \n",
       "\n",
       "       rougher.input.feed_pb  rougher.input.feed_rate  \\\n",
       "count            5290.000000              5287.000000   \n",
       "mean                3.798082               489.800620   \n",
       "std                 0.954859               108.036326   \n",
       "min                 0.273677                 0.002986   \n",
       "25%                 3.240251               407.020883   \n",
       "50%                 3.740716               499.051440   \n",
       "75%                 4.282634               575.307213   \n",
       "max                 6.905684               707.364020   \n",
       "\n",
       "       rougher.input.feed_size  rougher.input.feed_sol  rougher.input.feed_au  \\\n",
       "count              5289.000000             5269.000000            5290.000000   \n",
       "mean                 55.951097               37.716648               9.334682   \n",
       "std                  19.081758                5.491415               1.619521   \n",
       "min                   0.046369                1.393488               0.568632   \n",
       "25%                  43.906347               34.505576               8.207814   \n",
       "50%                  50.841029               37.980276               9.593766   \n",
       "75%                  62.431047               41.635385              10.463538   \n",
       "max                 392.494040               53.477742              13.731330   \n",
       "\n",
       "       rougher.input.floatbank10_sulfate  rougher.input.floatbank10_xanthate  \\\n",
       "count                        5285.000000                         5290.000000   \n",
       "mean                           13.855759                            6.467745   \n",
       "std                             3.350852                            1.065114   \n",
       "min                             0.001147                            0.000568   \n",
       "25%                            11.995006                            5.998779   \n",
       "50%                            14.003126                            6.498181   \n",
       "75%                            16.974284                            7.085457   \n",
       "max                            24.280636                            8.910468   \n",
       "\n",
       "       rougher.input.floatbank11_sulfate  rougher.input.floatbank11_xanthate  \\\n",
       "count                        5282.000000                         5265.000000   \n",
       "mean                           13.922328                            6.512103   \n",
       "std                             3.223769                            0.886989   \n",
       "min                             0.000077                            0.006985   \n",
       "25%                            11.997200                            5.999157   \n",
       "50%                            14.004371                            6.498744   \n",
       "75%                            16.959671                            7.091808   \n",
       "max                            24.280966                            8.621338   \n",
       "\n",
       "       rougher.state.floatbank10_a_air  rougher.state.floatbank10_a_level  \\\n",
       "count                      5290.000000                        5290.000000   \n",
       "mean                       1053.400166                        -395.732530   \n",
       "std                         121.139309                          91.085505   \n",
       "min                          -0.042069                        -657.949759   \n",
       "25%                         999.205344                        -499.920565   \n",
       "50%                        1000.472055                        -399.693363   \n",
       "75%                        1006.254299                        -300.060056   \n",
       "max                        1423.274687                        -273.776101   \n",
       "\n",
       "       rougher.state.floatbank10_b_air  rougher.state.floatbank10_b_level  \\\n",
       "count                      5290.000000                        5290.000000   \n",
       "mean                       1318.926879                        -475.241428   \n",
       "std                         156.450366                          45.649466   \n",
       "min                          -0.721806                        -650.245277   \n",
       "25%                        1200.871883                        -500.256114   \n",
       "50%                        1302.254995                        -499.837803   \n",
       "75%                        1433.955649                        -450.749619   \n",
       "max                        1706.640419                        -298.200051   \n",
       "\n",
       "       rougher.state.floatbank10_c_air  rougher.state.floatbank10_c_level  \\\n",
       "count                      5290.000000                        5290.000000   \n",
       "mean                       1301.595477                        -474.836671   \n",
       "std                         171.269667                          45.859866   \n",
       "min                          -0.056636                        -647.544439   \n",
       "25%                        1199.651371                        -500.233831   \n",
       "50%                        1300.202274                        -499.777222   \n",
       "75%                        1406.594956                        -451.153188   \n",
       "max                        1731.017788                        -298.036852   \n",
       "\n",
       "       rougher.state.floatbank10_d_air  rougher.state.floatbank10_d_level  \\\n",
       "count                      5290.000000                        5290.000000   \n",
       "mean                       1214.847960                        -475.682272   \n",
       "std                         185.763319                          47.844967   \n",
       "min                          -0.992219                        -648.390665   \n",
       "25%                        1093.368068                        -500.440610   \n",
       "50%                        1207.014092                        -499.691917   \n",
       "75%                        1391.497269                        -452.483463   \n",
       "max                        1775.218584                         -76.397327   \n",
       "\n",
       "       rougher.state.floatbank10_e_air  rougher.state.floatbank10_e_level  \\\n",
       "count                      5290.000000                        5290.000000   \n",
       "mean                       1056.648995                        -469.029688   \n",
       "std                         131.542839                          59.325990   \n",
       "min                          -1.982295                        -649.267537   \n",
       "25%                         999.361403                        -500.190639   \n",
       "50%                        1047.495449                        -499.765796   \n",
       "75%                        1101.365315                        -450.957513   \n",
       "max                        1467.184843                        -139.753025   \n",
       "\n",
       "       rougher.state.floatbank10_f_air  rougher.state.floatbank10_f_level  \\\n",
       "count                      5290.000000                        5290.000000   \n",
       "mean                        997.949719                        -470.482465   \n",
       "std                         128.218869                          60.759318   \n",
       "min                          -2.593390                        -649.949283   \n",
       "25%                         901.024994                        -500.624783   \n",
       "50%                         999.441879                        -499.680986   \n",
       "75%                        1050.433005                        -451.986460   \n",
       "max                        1476.588107                        -249.801043   \n",
       "\n",
       "       secondary_cleaner.state.floatbank2_a_air  \\\n",
       "count                               5287.000000   \n",
       "mean                                  26.312630   \n",
       "std                                    3.429852   \n",
       "min                                    0.205329   \n",
       "25%                                   24.942328   \n",
       "50%                                   26.910569   \n",
       "75%                                   28.091885   \n",
       "max                                   32.138727   \n",
       "\n",
       "       secondary_cleaner.state.floatbank2_a_level  \\\n",
       "count                                 5290.000000   \n",
       "mean                                  -502.750897   \n",
       "std                                     28.756505   \n",
       "min                                   -784.091091   \n",
       "25%                                   -500.206517   \n",
       "50%                                   -500.003902   \n",
       "75%                                   -499.791639   \n",
       "max                                   -300.343670   \n",
       "\n",
       "       secondary_cleaner.state.floatbank2_b_air  \\\n",
       "count                               5288.000000   \n",
       "mean                                  21.949119   \n",
       "std                                    4.354961   \n",
       "min                                    0.006064   \n",
       "25%                                   20.002315   \n",
       "50%                                   22.942603   \n",
       "75%                                   24.985013   \n",
       "max                                   28.165864   \n",
       "\n",
       "       secondary_cleaner.state.floatbank2_b_level  \\\n",
       "count                                 5290.000000   \n",
       "mean                                  -501.987097   \n",
       "std                                     34.582722   \n",
       "min                                   -797.783989   \n",
       "25%                                   -500.218030   \n",
       "50%                                   -500.019058   \n",
       "75%                                   -499.831532   \n",
       "max                                   -211.999273   \n",
       "\n",
       "       secondary_cleaner.state.floatbank3_a_air  \\\n",
       "count                               5281.000000   \n",
       "mean                                  25.402926   \n",
       "std                                    6.526457   \n",
       "min                                    0.000000   \n",
       "25%                                   22.982288   \n",
       "50%                                   25.010105   \n",
       "75%                                   30.002063   \n",
       "max                                   40.041997   \n",
       "\n",
       "       secondary_cleaner.state.floatbank3_a_level  \\\n",
       "count                                 5290.000000   \n",
       "mean                                  -507.490314   \n",
       "std                                     47.620908   \n",
       "min                                   -799.755798   \n",
       "25%                                   -500.297951   \n",
       "50%                                   -500.034578   \n",
       "75%                                   -499.780163   \n",
       "max                                   -313.866425   \n",
       "\n",
       "       secondary_cleaner.state.floatbank3_b_air  \\\n",
       "count                              5.290000e+03   \n",
       "mean                               2.098211e+01   \n",
       "std                                6.736179e+00   \n",
       "min                                1.521587e-17   \n",
       "25%                                1.796786e+01   \n",
       "50%                                2.100316e+01   \n",
       "75%                                2.697698e+01   \n",
       "max                                3.203936e+01   \n",
       "\n",
       "       secondary_cleaner.state.floatbank3_b_level  \\\n",
       "count                                 5290.000000   \n",
       "mean                                  -506.627916   \n",
       "std                                     44.528673   \n",
       "min                                   -809.333008   \n",
       "25%                                   -500.145128   \n",
       "50%                                   -500.013819   \n",
       "75%                                   -499.890608   \n",
       "max                                   -202.277366   \n",
       "\n",
       "       secondary_cleaner.state.floatbank4_a_air  \\\n",
       "count                              5.290000e+03   \n",
       "mean                               1.632007e+01   \n",
       "std                                3.493583e+00   \n",
       "min                                1.079872e-16   \n",
       "25%                                1.403618e+01   \n",
       "50%                                1.700847e+01   \n",
       "75%                                1.803862e+01   \n",
       "max                                3.005180e+01   \n",
       "\n",
       "       secondary_cleaner.state.floatbank4_a_level  \\\n",
       "count                                 5290.000000   \n",
       "mean                                  -505.144570   \n",
       "std                                     31.427337   \n",
       "min                                   -799.798523   \n",
       "25%                                   -500.868258   \n",
       "50%                                   -500.115727   \n",
       "75%                                   -499.404224   \n",
       "max                                   -401.565212   \n",
       "\n",
       "       secondary_cleaner.state.floatbank4_b_air  \\\n",
       "count                              5.290000e+03   \n",
       "mean                               1.373544e+01   \n",
       "std                                3.430484e+00   \n",
       "min                                2.489718e-17   \n",
       "25%                                1.202862e+01   \n",
       "50%                                1.496486e+01   \n",
       "75%                                1.596213e+01   \n",
       "max                                3.126971e+01   \n",
       "\n",
       "       secondary_cleaner.state.floatbank4_b_level  \\\n",
       "count                                 5290.000000   \n",
       "mean                                  -463.349858   \n",
       "std                                     86.189107   \n",
       "min                                   -800.836914   \n",
       "25%                                   -500.323028   \n",
       "50%                                   -499.576513   \n",
       "75%                                   -400.933805   \n",
       "max                                     -6.506986   \n",
       "\n",
       "       secondary_cleaner.state.floatbank5_a_air  \\\n",
       "count                               5290.000000   \n",
       "mean                                  12.804186   \n",
       "std                                    3.026591   \n",
       "min                                    0.069227   \n",
       "25%                                   10.914838   \n",
       "50%                                   12.954182   \n",
       "75%                                   15.097528   \n",
       "max                                   25.258848   \n",
       "\n",
       "       secondary_cleaner.state.floatbank5_a_level  \\\n",
       "count                                 5290.000000   \n",
       "mean                                  -501.329122   \n",
       "std                                     17.951495   \n",
       "min                                   -797.323986   \n",
       "25%                                   -500.726841   \n",
       "50%                                   -499.990332   \n",
       "75%                                   -499.283191   \n",
       "max                                   -244.483566   \n",
       "\n",
       "       secondary_cleaner.state.floatbank5_b_air  \\\n",
       "count                               5290.000000   \n",
       "mean                                   9.881145   \n",
       "std                                    2.868205   \n",
       "min                                    0.528083   \n",
       "25%                                    8.036719   \n",
       "50%                                   10.004301   \n",
       "75%                                   11.997467   \n",
       "max                                   14.086866   \n",
       "\n",
       "       secondary_cleaner.state.floatbank5_b_level  \\\n",
       "count                                 5290.000000   \n",
       "mean                                  -495.663398   \n",
       "std                                     34.535007   \n",
       "min                                   -800.220337   \n",
       "25%                                   -500.194668   \n",
       "50%                                   -499.990535   \n",
       "75%                                   -499.719913   \n",
       "max                                   -137.740004   \n",
       "\n",
       "       secondary_cleaner.state.floatbank6_a_air  \\\n",
       "count                               5290.000000   \n",
       "mean                                  17.304935   \n",
       "std                                    4.536544   \n",
       "min                                   -0.079426   \n",
       "25%                                   13.997317   \n",
       "50%                                   16.014935   \n",
       "75%                                   21.020013   \n",
       "max                                   26.705889   \n",
       "\n",
       "       secondary_cleaner.state.floatbank6_a_level  \n",
       "count                                 5290.000000  \n",
       "mean                                  -501.793193  \n",
       "std                                     39.044215  \n",
       "min                                   -809.741464  \n",
       "25%                                   -500.690984  \n",
       "50%                                   -500.007126  \n",
       "75%                                   -499.373018  \n",
       "max                                   -123.307487  "
      ]
     },
     "execution_count": 111,
     "metadata": {},
     "output_type": "execute_result"
    }
   ],
   "source": [
    "df_test.describe()"
   ]
  },
  {
   "cell_type": "code",
   "execution_count": 112,
   "metadata": {},
   "outputs": [
    {
     "data": {
      "text/plain": [
       "date                                                  0.00%\n",
       "final.output.concentrate_ag                           0.01%\n",
       "final.output.concentrate_pb                           0.01%\n",
       "final.output.concentrate_sol                          1.09%\n",
       "final.output.concentrate_au                           0.00%\n",
       "final.output.recovery                                 0.00%\n",
       "final.output.tail_ag                                  0.01%\n",
       "final.output.tail_pb                                  0.52%\n",
       "final.output.tail_sol                                 0.03%\n",
       "final.output.tail_au                                  0.00%\n",
       "primary_cleaner.input.sulfate                         0.12%\n",
       "primary_cleaner.input.depressant                      0.19%\n",
       "primary_cleaner.input.feed_size                       0.00%\n",
       "primary_cleaner.input.xanthate                        0.54%\n",
       "primary_cleaner.output.concentrate_ag                 0.00%\n",
       "primary_cleaner.output.concentrate_pb                 0.60%\n",
       "primary_cleaner.output.concentrate_sol                1.90%\n",
       "primary_cleaner.output.concentrate_au                 0.00%\n",
       "primary_cleaner.output.tail_ag                        0.02%\n",
       "primary_cleaner.output.tail_pb                        0.11%\n",
       "primary_cleaner.output.tail_sol                       0.32%\n",
       "primary_cleaner.output.tail_au                        0.00%\n",
       "primary_cleaner.state.floatbank8_a_air                0.02%\n",
       "primary_cleaner.state.floatbank8_a_level              0.01%\n",
       "primary_cleaner.state.floatbank8_b_air                0.02%\n",
       "primary_cleaner.state.floatbank8_b_level              0.01%\n",
       "primary_cleaner.state.floatbank8_c_air                0.01%\n",
       "primary_cleaner.state.floatbank8_c_level              0.01%\n",
       "primary_cleaner.state.floatbank8_d_air                0.02%\n",
       "primary_cleaner.state.floatbank8_d_level              0.01%\n",
       "rougher.calculation.sulfate_to_au_concentrate         0.01%\n",
       "rougher.calculation.floatbank10_sulfate_to_au_feed    0.01%\n",
       "rougher.calculation.floatbank11_sulfate_to_au_feed    0.01%\n",
       "rougher.calculation.au_pb_ratio                       0.00%\n",
       "rougher.input.feed_ag                                 0.00%\n",
       "rougher.input.feed_pb                                 0.51%\n",
       "rougher.input.feed_rate                               0.06%\n",
       "rougher.input.feed_size                               0.75%\n",
       "rougher.input.feed_sol                                0.51%\n",
       "rougher.input.feed_au                                 0.00%\n",
       "rougher.input.floatbank10_sulfate                     0.17%\n",
       "rougher.input.floatbank10_xanthate                    0.04%\n",
       "rougher.input.floatbank11_sulfate                     0.23%\n",
       "rougher.input.floatbank11_xanthate                    2.33%\n",
       "rougher.output.concentrate_ag                         0.00%\n",
       "rougher.output.concentrate_pb                         0.00%\n",
       "rougher.output.concentrate_sol                        0.12%\n",
       "rougher.output.concentrate_au                         0.00%\n",
       "rougher.output.recovery                               0.00%\n",
       "rougher.output.tail_ag                                0.01%\n",
       "rougher.output.tail_pb                                0.00%\n",
       "rougher.output.tail_sol                               0.00%\n",
       "rougher.output.tail_au                                0.00%\n",
       "rougher.state.floatbank10_a_air                       0.01%\n",
       "rougher.state.floatbank10_a_level                     0.01%\n",
       "rougher.state.floatbank10_b_air                       0.01%\n",
       "rougher.state.floatbank10_b_level                     0.01%\n",
       "rougher.state.floatbank10_c_air                       0.01%\n",
       "rougher.state.floatbank10_c_level                     0.01%\n",
       "rougher.state.floatbank10_d_air                       0.00%\n",
       "rougher.state.floatbank10_d_level                     0.00%\n",
       "rougher.state.floatbank10_e_air                       2.24%\n",
       "rougher.state.floatbank10_e_level                     0.00%\n",
       "rougher.state.floatbank10_f_air                       0.00%\n",
       "rougher.state.floatbank10_f_level                     0.00%\n",
       "secondary_cleaner.output.tail_ag                      0.01%\n",
       "secondary_cleaner.output.tail_pb                      0.06%\n",
       "secondary_cleaner.output.tail_sol                     8.99%\n",
       "secondary_cleaner.output.tail_au                      0.00%\n",
       "secondary_cleaner.state.floatbank2_a_air              1.13%\n",
       "secondary_cleaner.state.floatbank2_a_level            0.01%\n",
       "secondary_cleaner.state.floatbank2_b_air              0.12%\n",
       "secondary_cleaner.state.floatbank2_b_level            0.01%\n",
       "secondary_cleaner.state.floatbank3_a_air              0.07%\n",
       "secondary_cleaner.state.floatbank3_a_level            0.01%\n",
       "secondary_cleaner.state.floatbank3_b_air              0.01%\n",
       "secondary_cleaner.state.floatbank3_b_level            0.01%\n",
       "secondary_cleaner.state.floatbank4_a_air              0.03%\n",
       "secondary_cleaner.state.floatbank4_a_level            0.01%\n",
       "secondary_cleaner.state.floatbank4_b_air              0.01%\n",
       "secondary_cleaner.state.floatbank4_b_level            0.01%\n",
       "secondary_cleaner.state.floatbank5_a_air              0.01%\n",
       "secondary_cleaner.state.floatbank5_a_level            0.01%\n",
       "secondary_cleaner.state.floatbank5_b_air              0.01%\n",
       "secondary_cleaner.state.floatbank5_b_level            0.01%\n",
       "secondary_cleaner.state.floatbank6_a_air              0.01%\n",
       "secondary_cleaner.state.floatbank6_a_level            0.01%\n",
       "dtype: object"
      ]
     },
     "execution_count": 112,
     "metadata": {},
     "output_type": "execute_result"
    }
   ],
   "source": [
    "df_full.isna().mean().apply('{:.2%}'.format)"
   ]
  },
  {
   "cell_type": "code",
   "execution_count": 113,
   "metadata": {},
   "outputs": [
    {
     "data": {
      "text/html": [
       "<div>\n",
       "<style scoped>\n",
       "    .dataframe tbody tr th:only-of-type {\n",
       "        vertical-align: middle;\n",
       "    }\n",
       "\n",
       "    .dataframe tbody tr th {\n",
       "        vertical-align: top;\n",
       "    }\n",
       "\n",
       "    .dataframe thead th {\n",
       "        text-align: right;\n",
       "    }\n",
       "</style>\n",
       "<table border=\"1\" class=\"dataframe\">\n",
       "  <thead>\n",
       "    <tr style=\"text-align: right;\">\n",
       "      <th></th>\n",
       "      <th>final.output.concentrate_ag</th>\n",
       "      <th>final.output.concentrate_pb</th>\n",
       "      <th>final.output.concentrate_sol</th>\n",
       "      <th>final.output.concentrate_au</th>\n",
       "      <th>final.output.recovery</th>\n",
       "      <th>final.output.tail_ag</th>\n",
       "      <th>final.output.tail_pb</th>\n",
       "      <th>final.output.tail_sol</th>\n",
       "      <th>final.output.tail_au</th>\n",
       "      <th>primary_cleaner.input.sulfate</th>\n",
       "      <th>primary_cleaner.input.depressant</th>\n",
       "      <th>primary_cleaner.input.feed_size</th>\n",
       "      <th>primary_cleaner.input.xanthate</th>\n",
       "      <th>primary_cleaner.output.concentrate_ag</th>\n",
       "      <th>primary_cleaner.output.concentrate_pb</th>\n",
       "      <th>primary_cleaner.output.concentrate_sol</th>\n",
       "      <th>primary_cleaner.output.concentrate_au</th>\n",
       "      <th>primary_cleaner.output.tail_ag</th>\n",
       "      <th>primary_cleaner.output.tail_pb</th>\n",
       "      <th>primary_cleaner.output.tail_sol</th>\n",
       "      <th>primary_cleaner.output.tail_au</th>\n",
       "      <th>primary_cleaner.state.floatbank8_a_air</th>\n",
       "      <th>primary_cleaner.state.floatbank8_a_level</th>\n",
       "      <th>primary_cleaner.state.floatbank8_b_air</th>\n",
       "      <th>primary_cleaner.state.floatbank8_b_level</th>\n",
       "      <th>primary_cleaner.state.floatbank8_c_air</th>\n",
       "      <th>primary_cleaner.state.floatbank8_c_level</th>\n",
       "      <th>primary_cleaner.state.floatbank8_d_air</th>\n",
       "      <th>primary_cleaner.state.floatbank8_d_level</th>\n",
       "      <th>rougher.calculation.sulfate_to_au_concentrate</th>\n",
       "      <th>rougher.calculation.floatbank10_sulfate_to_au_feed</th>\n",
       "      <th>rougher.calculation.floatbank11_sulfate_to_au_feed</th>\n",
       "      <th>rougher.calculation.au_pb_ratio</th>\n",
       "      <th>rougher.input.feed_ag</th>\n",
       "      <th>rougher.input.feed_pb</th>\n",
       "      <th>rougher.input.feed_rate</th>\n",
       "      <th>rougher.input.feed_size</th>\n",
       "      <th>rougher.input.feed_sol</th>\n",
       "      <th>rougher.input.feed_au</th>\n",
       "      <th>rougher.input.floatbank10_sulfate</th>\n",
       "      <th>rougher.input.floatbank10_xanthate</th>\n",
       "      <th>rougher.input.floatbank11_sulfate</th>\n",
       "      <th>rougher.input.floatbank11_xanthate</th>\n",
       "      <th>rougher.output.concentrate_ag</th>\n",
       "      <th>rougher.output.concentrate_pb</th>\n",
       "      <th>rougher.output.concentrate_sol</th>\n",
       "      <th>rougher.output.concentrate_au</th>\n",
       "      <th>rougher.output.recovery</th>\n",
       "      <th>rougher.output.tail_ag</th>\n",
       "      <th>rougher.output.tail_pb</th>\n",
       "      <th>rougher.output.tail_sol</th>\n",
       "      <th>rougher.output.tail_au</th>\n",
       "      <th>rougher.state.floatbank10_a_air</th>\n",
       "      <th>rougher.state.floatbank10_a_level</th>\n",
       "      <th>rougher.state.floatbank10_b_air</th>\n",
       "      <th>rougher.state.floatbank10_b_level</th>\n",
       "      <th>rougher.state.floatbank10_c_air</th>\n",
       "      <th>rougher.state.floatbank10_c_level</th>\n",
       "      <th>rougher.state.floatbank10_d_air</th>\n",
       "      <th>rougher.state.floatbank10_d_level</th>\n",
       "      <th>rougher.state.floatbank10_e_air</th>\n",
       "      <th>rougher.state.floatbank10_e_level</th>\n",
       "      <th>rougher.state.floatbank10_f_air</th>\n",
       "      <th>rougher.state.floatbank10_f_level</th>\n",
       "      <th>secondary_cleaner.output.tail_ag</th>\n",
       "      <th>secondary_cleaner.output.tail_pb</th>\n",
       "      <th>secondary_cleaner.output.tail_sol</th>\n",
       "      <th>secondary_cleaner.output.tail_au</th>\n",
       "      <th>secondary_cleaner.state.floatbank2_a_air</th>\n",
       "      <th>secondary_cleaner.state.floatbank2_a_level</th>\n",
       "      <th>secondary_cleaner.state.floatbank2_b_air</th>\n",
       "      <th>secondary_cleaner.state.floatbank2_b_level</th>\n",
       "      <th>secondary_cleaner.state.floatbank3_a_air</th>\n",
       "      <th>secondary_cleaner.state.floatbank3_a_level</th>\n",
       "      <th>secondary_cleaner.state.floatbank3_b_air</th>\n",
       "      <th>secondary_cleaner.state.floatbank3_b_level</th>\n",
       "      <th>secondary_cleaner.state.floatbank4_a_air</th>\n",
       "      <th>secondary_cleaner.state.floatbank4_a_level</th>\n",
       "      <th>secondary_cleaner.state.floatbank4_b_air</th>\n",
       "      <th>secondary_cleaner.state.floatbank4_b_level</th>\n",
       "      <th>secondary_cleaner.state.floatbank5_a_air</th>\n",
       "      <th>secondary_cleaner.state.floatbank5_a_level</th>\n",
       "      <th>secondary_cleaner.state.floatbank5_b_air</th>\n",
       "      <th>secondary_cleaner.state.floatbank5_b_level</th>\n",
       "      <th>secondary_cleaner.state.floatbank6_a_air</th>\n",
       "      <th>secondary_cleaner.state.floatbank6_a_level</th>\n",
       "    </tr>\n",
       "  </thead>\n",
       "  <tbody>\n",
       "    <tr>\n",
       "      <td>count</td>\n",
       "      <td>19438.000000</td>\n",
       "      <td>19438.000000</td>\n",
       "      <td>19228.000000</td>\n",
       "      <td>19439.000000</td>\n",
       "      <td>19439.000000</td>\n",
       "      <td>19438.000000</td>\n",
       "      <td>19338.000000</td>\n",
       "      <td>19433.000000</td>\n",
       "      <td>19439.000000</td>\n",
       "      <td>19415.000000</td>\n",
       "      <td>19402.000000</td>\n",
       "      <td>19439.000000</td>\n",
       "      <td>19335.000000</td>\n",
       "      <td>19439.000000</td>\n",
       "      <td>19323.000000</td>\n",
       "      <td>19069.000000</td>\n",
       "      <td>19439.000000</td>\n",
       "      <td>19435.000000</td>\n",
       "      <td>19418.000000</td>\n",
       "      <td>19377.000000</td>\n",
       "      <td>19439.000000</td>\n",
       "      <td>1.943500e+04</td>\n",
       "      <td>19438.000000</td>\n",
       "      <td>1.943500e+04</td>\n",
       "      <td>19438.000000</td>\n",
       "      <td>1.943700e+04</td>\n",
       "      <td>19438.000000</td>\n",
       "      <td>1.943600e+04</td>\n",
       "      <td>19438.000000</td>\n",
       "      <td>1.943700e+04</td>\n",
       "      <td>19437.000000</td>\n",
       "      <td>19437.000000</td>\n",
       "      <td>19439.000000</td>\n",
       "      <td>19439.000000</td>\n",
       "      <td>19339.000000</td>\n",
       "      <td>19428.000000</td>\n",
       "      <td>19294.000000</td>\n",
       "      <td>19340.000000</td>\n",
       "      <td>19439.000000</td>\n",
       "      <td>19405.000000</td>\n",
       "      <td>19431.000000</td>\n",
       "      <td>19395.000000</td>\n",
       "      <td>18986.000000</td>\n",
       "      <td>19439.000000</td>\n",
       "      <td>19439.000000</td>\n",
       "      <td>19416.000000</td>\n",
       "      <td>19439.000000</td>\n",
       "      <td>19439.000000</td>\n",
       "      <td>19438.000000</td>\n",
       "      <td>19439.000000</td>\n",
       "      <td>19439.000000</td>\n",
       "      <td>19439.000000</td>\n",
       "      <td>19438.000000</td>\n",
       "      <td>19438.000000</td>\n",
       "      <td>19438.000000</td>\n",
       "      <td>19438.000000</td>\n",
       "      <td>19438.000000</td>\n",
       "      <td>19438.000000</td>\n",
       "      <td>19439.000000</td>\n",
       "      <td>19439.000000</td>\n",
       "      <td>19003.000000</td>\n",
       "      <td>19439.000000</td>\n",
       "      <td>19439.000000</td>\n",
       "      <td>19439.000000</td>\n",
       "      <td>19437.000000</td>\n",
       "      <td>19427.000000</td>\n",
       "      <td>17691.000000</td>\n",
       "      <td>19439.000000</td>\n",
       "      <td>19219.000000</td>\n",
       "      <td>19438.000000</td>\n",
       "      <td>19416.000000</td>\n",
       "      <td>19438.000000</td>\n",
       "      <td>19426.000000</td>\n",
       "      <td>19438.000000</td>\n",
       "      <td>19438.000000</td>\n",
       "      <td>19438.000000</td>\n",
       "      <td>19433.000000</td>\n",
       "      <td>19438.000000</td>\n",
       "      <td>19438.000000</td>\n",
       "      <td>19438.000000</td>\n",
       "      <td>19438.000000</td>\n",
       "      <td>19438.000000</td>\n",
       "      <td>19438.000000</td>\n",
       "      <td>19438.000000</td>\n",
       "      <td>19437.000000</td>\n",
       "      <td>19438.000000</td>\n",
       "    </tr>\n",
       "    <tr>\n",
       "      <td>mean</td>\n",
       "      <td>5.168470</td>\n",
       "      <td>9.978895</td>\n",
       "      <td>9.501224</td>\n",
       "      <td>44.076513</td>\n",
       "      <td>67.050208</td>\n",
       "      <td>9.688589</td>\n",
       "      <td>2.705795</td>\n",
       "      <td>10.583728</td>\n",
       "      <td>3.042467</td>\n",
       "      <td>144.624774</td>\n",
       "      <td>8.817039</td>\n",
       "      <td>7.307078</td>\n",
       "      <td>1.021795</td>\n",
       "      <td>8.442408</td>\n",
       "      <td>9.829530</td>\n",
       "      <td>10.489499</td>\n",
       "      <td>32.119400</td>\n",
       "      <td>16.145826</td>\n",
       "      <td>3.435656</td>\n",
       "      <td>7.973209</td>\n",
       "      <td>3.914179</td>\n",
       "      <td>1.589354e+03</td>\n",
       "      <td>-491.195012</td>\n",
       "      <td>1.591344e+03</td>\n",
       "      <td>-492.192978</td>\n",
       "      <td>1.586669e+03</td>\n",
       "      <td>-491.980070</td>\n",
       "      <td>1.542912e+03</td>\n",
       "      <td>-488.017382</td>\n",
       "      <td>4.217119e+04</td>\n",
       "      <td>3393.052498</td>\n",
       "      <td>3256.854171</td>\n",
       "      <td>2.420119</td>\n",
       "      <td>8.794927</td>\n",
       "      <td>3.598085</td>\n",
       "      <td>478.320042</td>\n",
       "      <td>58.970310</td>\n",
       "      <td>36.695114</td>\n",
       "      <td>8.266097</td>\n",
       "      <td>12.334373</td>\n",
       "      <td>6.021474</td>\n",
       "      <td>12.064140</td>\n",
       "      <td>6.065533</td>\n",
       "      <td>11.994759</td>\n",
       "      <td>7.606272</td>\n",
       "      <td>28.805571</td>\n",
       "      <td>19.772000</td>\n",
       "      <td>83.328587</td>\n",
       "      <td>5.588982</td>\n",
       "      <td>0.645782</td>\n",
       "      <td>18.057106</td>\n",
       "      <td>1.816391</td>\n",
       "      <td>1105.315068</td>\n",
       "      <td>-376.610690</td>\n",
       "      <td>1320.221139</td>\n",
       "      <td>-467.247826</td>\n",
       "      <td>1299.968799</td>\n",
       "      <td>-467.716946</td>\n",
       "      <td>1211.563299</td>\n",
       "      <td>-468.239912</td>\n",
       "      <td>1080.869685</td>\n",
       "      <td>-466.037742</td>\n",
       "      <td>1025.274256</td>\n",
       "      <td>-466.265327</td>\n",
       "      <td>14.586833</td>\n",
       "      <td>5.777703</td>\n",
       "      <td>7.167247</td>\n",
       "      <td>4.339625</td>\n",
       "      <td>28.705564</td>\n",
       "      <td>-502.367331</td>\n",
       "      <td>24.106800</td>\n",
       "      <td>-503.230712</td>\n",
       "      <td>28.199338</td>\n",
       "      <td>-486.203350</td>\n",
       "      <td>22.200645</td>\n",
       "      <td>-493.742107</td>\n",
       "      <td>18.987674</td>\n",
       "      <td>-485.894516</td>\n",
       "      <td>15.010366</td>\n",
       "      <td>-461.078636</td>\n",
       "      <td>15.694452</td>\n",
       "      <td>-488.684065</td>\n",
       "      <td>12.198224</td>\n",
       "      <td>-487.149827</td>\n",
       "      <td>18.959024</td>\n",
       "      <td>-505.436305</td>\n",
       "    </tr>\n",
       "    <tr>\n",
       "      <td>std</td>\n",
       "      <td>1.372348</td>\n",
       "      <td>1.669240</td>\n",
       "      <td>2.787537</td>\n",
       "      <td>5.129784</td>\n",
       "      <td>10.125840</td>\n",
       "      <td>2.328642</td>\n",
       "      <td>0.949077</td>\n",
       "      <td>2.868782</td>\n",
       "      <td>0.922808</td>\n",
       "      <td>44.464071</td>\n",
       "      <td>3.286186</td>\n",
       "      <td>0.613509</td>\n",
       "      <td>0.513254</td>\n",
       "      <td>2.054465</td>\n",
       "      <td>2.556843</td>\n",
       "      <td>3.909639</td>\n",
       "      <td>5.627611</td>\n",
       "      <td>3.548598</td>\n",
       "      <td>1.392536</td>\n",
       "      <td>2.212677</td>\n",
       "      <td>1.593034</td>\n",
       "      <td>1.289968e+02</td>\n",
       "      <td>32.431842</td>\n",
       "      <td>1.318109e+02</td>\n",
       "      <td>33.794822</td>\n",
       "      <td>1.361114e+02</td>\n",
       "      <td>32.711455</td>\n",
       "      <td>2.461996e+02</td>\n",
       "      <td>43.959780</td>\n",
       "      <td>3.243621e+05</td>\n",
       "      <td>4943.845943</td>\n",
       "      <td>5781.423659</td>\n",
       "      <td>0.814935</td>\n",
       "      <td>1.936847</td>\n",
       "      <td>1.049486</td>\n",
       "      <td>105.373758</td>\n",
       "      <td>21.634478</td>\n",
       "      <td>5.145445</td>\n",
       "      <td>1.955092</td>\n",
       "      <td>3.427317</td>\n",
       "      <td>1.127263</td>\n",
       "      <td>3.784221</td>\n",
       "      <td>1.099118</td>\n",
       "      <td>2.733862</td>\n",
       "      <td>1.796757</td>\n",
       "      <td>5.944207</td>\n",
       "      <td>3.753600</td>\n",
       "      <td>14.148086</td>\n",
       "      <td>1.111288</td>\n",
       "      <td>0.251526</td>\n",
       "      <td>3.449218</td>\n",
       "      <td>0.680046</td>\n",
       "      <td>160.826798</td>\n",
       "      <td>93.909667</td>\n",
       "      <td>176.287095</td>\n",
       "      <td>54.673142</td>\n",
       "      <td>202.804325</td>\n",
       "      <td>53.534825</td>\n",
       "      <td>204.019326</td>\n",
       "      <td>53.921458</td>\n",
       "      <td>172.149992</td>\n",
       "      <td>57.384424</td>\n",
       "      <td>164.487837</td>\n",
       "      <td>57.850263</td>\n",
       "      <td>4.265202</td>\n",
       "      <td>2.774598</td>\n",
       "      <td>3.916079</td>\n",
       "      <td>2.326751</td>\n",
       "      <td>5.458789</td>\n",
       "      <td>53.571950</td>\n",
       "      <td>5.749616</td>\n",
       "      <td>56.567724</td>\n",
       "      <td>6.134908</td>\n",
       "      <td>54.412349</td>\n",
       "      <td>5.574001</td>\n",
       "      <td>43.372158</td>\n",
       "      <td>5.411058</td>\n",
       "      <td>47.758570</td>\n",
       "      <td>4.890228</td>\n",
       "      <td>67.405524</td>\n",
       "      <td>5.510974</td>\n",
       "      <td>34.533396</td>\n",
       "      <td>5.333024</td>\n",
       "      <td>38.347312</td>\n",
       "      <td>5.550498</td>\n",
       "      <td>37.689057</td>\n",
       "    </tr>\n",
       "    <tr>\n",
       "      <td>min</td>\n",
       "      <td>0.000000</td>\n",
       "      <td>0.000000</td>\n",
       "      <td>0.000000</td>\n",
       "      <td>0.000000</td>\n",
       "      <td>0.000000</td>\n",
       "      <td>0.000000</td>\n",
       "      <td>0.000000</td>\n",
       "      <td>0.000000</td>\n",
       "      <td>0.000000</td>\n",
       "      <td>0.003112</td>\n",
       "      <td>0.000000</td>\n",
       "      <td>1.080000</td>\n",
       "      <td>0.000005</td>\n",
       "      <td>0.000000</td>\n",
       "      <td>0.000000</td>\n",
       "      <td>0.000000</td>\n",
       "      <td>0.000000</td>\n",
       "      <td>0.000000</td>\n",
       "      <td>0.000000</td>\n",
       "      <td>0.000000</td>\n",
       "      <td>0.000000</td>\n",
       "      <td>5.445860e-32</td>\n",
       "      <td>-798.641662</td>\n",
       "      <td>6.647490e-32</td>\n",
       "      <td>-799.997015</td>\n",
       "      <td>4.033736e-32</td>\n",
       "      <td>-799.960571</td>\n",
       "      <td>4.039220e-32</td>\n",
       "      <td>-799.794250</td>\n",
       "      <td>-4.223520e+07</td>\n",
       "      <td>-486.598675</td>\n",
       "      <td>-264.982785</td>\n",
       "      <td>-0.010548</td>\n",
       "      <td>0.010000</td>\n",
       "      <td>0.010000</td>\n",
       "      <td>0.002986</td>\n",
       "      <td>0.046369</td>\n",
       "      <td>0.010000</td>\n",
       "      <td>0.010000</td>\n",
       "      <td>0.001083</td>\n",
       "      <td>0.000568</td>\n",
       "      <td>0.000077</td>\n",
       "      <td>0.000290</td>\n",
       "      <td>0.000000</td>\n",
       "      <td>0.000000</td>\n",
       "      <td>0.000000</td>\n",
       "      <td>0.000000</td>\n",
       "      <td>0.000000</td>\n",
       "      <td>0.594562</td>\n",
       "      <td>0.007566</td>\n",
       "      <td>10.014648</td>\n",
       "      <td>0.020676</td>\n",
       "      <td>-0.042069</td>\n",
       "      <td>-657.949759</td>\n",
       "      <td>-0.721806</td>\n",
       "      <td>-650.260008</td>\n",
       "      <td>-0.056636</td>\n",
       "      <td>-647.544439</td>\n",
       "      <td>-0.992219</td>\n",
       "      <td>-648.390665</td>\n",
       "      <td>-1.982295</td>\n",
       "      <td>-649.443911</td>\n",
       "      <td>-2.593390</td>\n",
       "      <td>-649.949283</td>\n",
       "      <td>0.000000</td>\n",
       "      <td>0.000000</td>\n",
       "      <td>0.000000</td>\n",
       "      <td>0.000000</td>\n",
       "      <td>0.077503</td>\n",
       "      <td>-799.606441</td>\n",
       "      <td>0.000000</td>\n",
       "      <td>-799.873878</td>\n",
       "      <td>0.000000</td>\n",
       "      <td>-799.755798</td>\n",
       "      <td>0.000000</td>\n",
       "      <td>-809.333008</td>\n",
       "      <td>0.000000</td>\n",
       "      <td>-799.798523</td>\n",
       "      <td>0.000000</td>\n",
       "      <td>-800.836914</td>\n",
       "      <td>-0.372054</td>\n",
       "      <td>-797.323986</td>\n",
       "      <td>0.528083</td>\n",
       "      <td>-800.220337</td>\n",
       "      <td>-0.079426</td>\n",
       "      <td>-809.741464</td>\n",
       "    </tr>\n",
       "    <tr>\n",
       "      <td>25%</td>\n",
       "      <td>4.251240</td>\n",
       "      <td>9.137262</td>\n",
       "      <td>7.722820</td>\n",
       "      <td>43.402215</td>\n",
       "      <td>63.299712</td>\n",
       "      <td>8.062878</td>\n",
       "      <td>2.040119</td>\n",
       "      <td>8.938947</td>\n",
       "      <td>2.461138</td>\n",
       "      <td>114.107029</td>\n",
       "      <td>6.076909</td>\n",
       "      <td>6.940000</td>\n",
       "      <td>0.697224</td>\n",
       "      <td>7.263288</td>\n",
       "      <td>8.702328</td>\n",
       "      <td>7.893893</td>\n",
       "      <td>30.463140</td>\n",
       "      <td>14.017742</td>\n",
       "      <td>2.504365</td>\n",
       "      <td>6.747483</td>\n",
       "      <td>2.924844</td>\n",
       "      <td>1.505063e+03</td>\n",
       "      <td>-500.308544</td>\n",
       "      <td>1.503630e+03</td>\n",
       "      <td>-500.437171</td>\n",
       "      <td>1.500927e+03</td>\n",
       "      <td>-500.703932</td>\n",
       "      <td>1.494219e+03</td>\n",
       "      <td>-500.458365</td>\n",
       "      <td>4.070095e+04</td>\n",
       "      <td>2611.425833</td>\n",
       "      <td>2551.437587</td>\n",
       "      <td>2.035434</td>\n",
       "      <td>7.237967</td>\n",
       "      <td>2.887280</td>\n",
       "      <td>416.525453</td>\n",
       "      <td>47.435103</td>\n",
       "      <td>34.207799</td>\n",
       "      <td>6.854384</td>\n",
       "      <td>10.000362</td>\n",
       "      <td>5.398678</td>\n",
       "      <td>9.998460</td>\n",
       "      <td>5.402368</td>\n",
       "      <td>10.628337</td>\n",
       "      <td>6.725987</td>\n",
       "      <td>27.224120</td>\n",
       "      <td>18.802523</td>\n",
       "      <td>81.037957</td>\n",
       "      <td>4.889892</td>\n",
       "      <td>0.477728</td>\n",
       "      <td>15.822525</td>\n",
       "      <td>1.404207</td>\n",
       "      <td>999.661867</td>\n",
       "      <td>-499.835165</td>\n",
       "      <td>1199.626115</td>\n",
       "      <td>-500.201130</td>\n",
       "      <td>1151.076301</td>\n",
       "      <td>-500.217218</td>\n",
       "      <td>1061.051788</td>\n",
       "      <td>-500.386386</td>\n",
       "      <td>998.675263</td>\n",
       "      <td>-500.232191</td>\n",
       "      <td>900.995511</td>\n",
       "      <td>-500.522553</td>\n",
       "      <td>12.640239</td>\n",
       "      <td>3.864733</td>\n",
       "      <td>3.845475</td>\n",
       "      <td>3.182770</td>\n",
       "      <td>25.048462</td>\n",
       "      <td>-500.233700</td>\n",
       "      <td>20.919853</td>\n",
       "      <td>-500.253794</td>\n",
       "      <td>24.949227</td>\n",
       "      <td>-500.213546</td>\n",
       "      <td>18.995924</td>\n",
       "      <td>-500.123034</td>\n",
       "      <td>14.975734</td>\n",
       "      <td>-500.704892</td>\n",
       "      <td>11.940294</td>\n",
       "      <td>-500.187742</td>\n",
       "      <td>10.988606</td>\n",
       "      <td>-500.458467</td>\n",
       "      <td>8.971105</td>\n",
       "      <td>-500.129462</td>\n",
       "      <td>14.983037</td>\n",
       "      <td>-500.728067</td>\n",
       "    </tr>\n",
       "    <tr>\n",
       "      <td>50%</td>\n",
       "      <td>5.066094</td>\n",
       "      <td>10.102433</td>\n",
       "      <td>9.218961</td>\n",
       "      <td>45.011244</td>\n",
       "      <td>68.172738</td>\n",
       "      <td>9.743623</td>\n",
       "      <td>2.748730</td>\n",
       "      <td>10.622456</td>\n",
       "      <td>2.984909</td>\n",
       "      <td>143.232103</td>\n",
       "      <td>8.038311</td>\n",
       "      <td>7.280000</td>\n",
       "      <td>0.940863</td>\n",
       "      <td>8.507298</td>\n",
       "      <td>10.152433</td>\n",
       "      <td>10.314632</td>\n",
       "      <td>32.841295</td>\n",
       "      <td>15.842836</td>\n",
       "      <td>3.271153</td>\n",
       "      <td>8.183673</td>\n",
       "      <td>3.623234</td>\n",
       "      <td>1.600597e+03</td>\n",
       "      <td>-499.926134</td>\n",
       "      <td>1.600521e+03</td>\n",
       "      <td>-499.956767</td>\n",
       "      <td>1.600254e+03</td>\n",
       "      <td>-499.909524</td>\n",
       "      <td>1.599447e+03</td>\n",
       "      <td>-499.905974</td>\n",
       "      <td>4.469648e+04</td>\n",
       "      <td>3018.353876</td>\n",
       "      <td>2997.218088</td>\n",
       "      <td>2.309665</td>\n",
       "      <td>8.593574</td>\n",
       "      <td>3.534895</td>\n",
       "      <td>499.416120</td>\n",
       "      <td>54.610197</td>\n",
       "      <td>37.202650</td>\n",
       "      <td>8.125839</td>\n",
       "      <td>12.001174</td>\n",
       "      <td>6.008273</td>\n",
       "      <td>12.000204</td>\n",
       "      <td>6.098580</td>\n",
       "      <td>12.098115</td>\n",
       "      <td>7.742580</td>\n",
       "      <td>29.835345</td>\n",
       "      <td>20.280214</td>\n",
       "      <td>86.188892</td>\n",
       "      <td>5.765802</td>\n",
       "      <td>0.617465</td>\n",
       "      <td>18.106867</td>\n",
       "      <td>1.808170</td>\n",
       "      <td>1001.072890</td>\n",
       "      <td>-300.263994</td>\n",
       "      <td>1301.579988</td>\n",
       "      <td>-499.784045</td>\n",
       "      <td>1300.211537</td>\n",
       "      <td>-499.713364</td>\n",
       "      <td>1201.569141</td>\n",
       "      <td>-499.532412</td>\n",
       "      <td>1050.029461</td>\n",
       "      <td>-499.663089</td>\n",
       "      <td>999.924821</td>\n",
       "      <td>-499.471777</td>\n",
       "      <td>15.641902</td>\n",
       "      <td>5.344073</td>\n",
       "      <td>7.685827</td>\n",
       "      <td>4.072412</td>\n",
       "      <td>29.099943</td>\n",
       "      <td>-499.973250</td>\n",
       "      <td>25.043289</td>\n",
       "      <td>-500.015439</td>\n",
       "      <td>27.982129</td>\n",
       "      <td>-499.930680</td>\n",
       "      <td>22.011231</td>\n",
       "      <td>-499.981902</td>\n",
       "      <td>18.017481</td>\n",
       "      <td>-499.837793</td>\n",
       "      <td>14.971014</td>\n",
       "      <td>-499.459786</td>\n",
       "      <td>15.000036</td>\n",
       "      <td>-499.802605</td>\n",
       "      <td>11.019433</td>\n",
       "      <td>-499.935317</td>\n",
       "      <td>19.960541</td>\n",
       "      <td>-500.048400</td>\n",
       "    </tr>\n",
       "    <tr>\n",
       "      <td>75%</td>\n",
       "      <td>5.895527</td>\n",
       "      <td>11.035769</td>\n",
       "      <td>10.947813</td>\n",
       "      <td>46.275313</td>\n",
       "      <td>72.686642</td>\n",
       "      <td>11.134294</td>\n",
       "      <td>3.333216</td>\n",
       "      <td>12.104271</td>\n",
       "      <td>3.571351</td>\n",
       "      <td>175.075656</td>\n",
       "      <td>11.013521</td>\n",
       "      <td>7.670000</td>\n",
       "      <td>1.210990</td>\n",
       "      <td>9.809001</td>\n",
       "      <td>11.424971</td>\n",
       "      <td>13.446702</td>\n",
       "      <td>35.048006</td>\n",
       "      <td>18.013975</td>\n",
       "      <td>4.181748</td>\n",
       "      <td>9.548586</td>\n",
       "      <td>4.585705</td>\n",
       "      <td>1.697658e+03</td>\n",
       "      <td>-499.433950</td>\n",
       "      <td>1.699218e+03</td>\n",
       "      <td>-499.373336</td>\n",
       "      <td>1.699483e+03</td>\n",
       "      <td>-498.857643</td>\n",
       "      <td>1.698525e+03</td>\n",
       "      <td>-499.064695</td>\n",
       "      <td>4.816821e+04</td>\n",
       "      <td>3676.769750</td>\n",
       "      <td>3601.998911</td>\n",
       "      <td>2.731794</td>\n",
       "      <td>10.213771</td>\n",
       "      <td>4.244161</td>\n",
       "      <td>550.172183</td>\n",
       "      <td>65.023044</td>\n",
       "      <td>40.039133</td>\n",
       "      <td>9.769917</td>\n",
       "      <td>14.716595</td>\n",
       "      <td>6.798051</td>\n",
       "      <td>14.636766</td>\n",
       "      <td>6.801233</td>\n",
       "      <td>13.736996</td>\n",
       "      <td>8.565199</td>\n",
       "      <td>32.189933</td>\n",
       "      <td>21.717843</td>\n",
       "      <td>90.010670</td>\n",
       "      <td>6.389234</td>\n",
       "      <td>0.778271</td>\n",
       "      <td>20.088151</td>\n",
       "      <td>2.211861</td>\n",
       "      <td>1205.620588</td>\n",
       "      <td>-299.981998</td>\n",
       "      <td>1448.630789</td>\n",
       "      <td>-400.615589</td>\n",
       "      <td>1449.464001</td>\n",
       "      <td>-400.985743</td>\n",
       "      <td>1352.880320</td>\n",
       "      <td>-401.638550</td>\n",
       "      <td>1199.425140</td>\n",
       "      <td>-401.161191</td>\n",
       "      <td>1099.719692</td>\n",
       "      <td>-401.511042</td>\n",
       "      <td>17.358217</td>\n",
       "      <td>7.788467</td>\n",
       "      <td>10.411296</td>\n",
       "      <td>5.063081</td>\n",
       "      <td>33.012536</td>\n",
       "      <td>-499.671261</td>\n",
       "      <td>28.008197</td>\n",
       "      <td>-499.785698</td>\n",
       "      <td>33.002798</td>\n",
       "      <td>-499.325739</td>\n",
       "      <td>25.998206</td>\n",
       "      <td>-499.812834</td>\n",
       "      <td>23.012470</td>\n",
       "      <td>-498.249730</td>\n",
       "      <td>19.034162</td>\n",
       "      <td>-400.118106</td>\n",
       "      <td>18.026190</td>\n",
       "      <td>-498.384187</td>\n",
       "      <td>14.019088</td>\n",
       "      <td>-499.436708</td>\n",
       "      <td>24.003170</td>\n",
       "      <td>-499.495378</td>\n",
       "    </tr>\n",
       "    <tr>\n",
       "      <td>max</td>\n",
       "      <td>16.001945</td>\n",
       "      <td>17.031899</td>\n",
       "      <td>19.615720</td>\n",
       "      <td>52.756638</td>\n",
       "      <td>100.000000</td>\n",
       "      <td>19.552149</td>\n",
       "      <td>5.804178</td>\n",
       "      <td>22.317730</td>\n",
       "      <td>8.245022</td>\n",
       "      <td>265.983123</td>\n",
       "      <td>40.000000</td>\n",
       "      <td>15.500000</td>\n",
       "      <td>4.102454</td>\n",
       "      <td>16.081632</td>\n",
       "      <td>17.081278</td>\n",
       "      <td>22.458114</td>\n",
       "      <td>45.933934</td>\n",
       "      <td>29.459575</td>\n",
       "      <td>9.634565</td>\n",
       "      <td>22.276364</td>\n",
       "      <td>17.788925</td>\n",
       "      <td>2.103104e+03</td>\n",
       "      <td>-57.195404</td>\n",
       "      <td>2.114907e+03</td>\n",
       "      <td>-142.527229</td>\n",
       "      <td>2.013156e+03</td>\n",
       "      <td>-150.937035</td>\n",
       "      <td>2.398904e+03</td>\n",
       "      <td>-30.601828</td>\n",
       "      <td>3.428099e+06</td>\n",
       "      <td>629638.977914</td>\n",
       "      <td>718684.955855</td>\n",
       "      <td>39.379272</td>\n",
       "      <td>14.596026</td>\n",
       "      <td>7.142594</td>\n",
       "      <td>717.508837</td>\n",
       "      <td>484.967466</td>\n",
       "      <td>53.477742</td>\n",
       "      <td>13.731330</td>\n",
       "      <td>36.118275</td>\n",
       "      <td>9.703448</td>\n",
       "      <td>37.980648</td>\n",
       "      <td>9.698407</td>\n",
       "      <td>24.480271</td>\n",
       "      <td>13.617072</td>\n",
       "      <td>38.351193</td>\n",
       "      <td>28.824507</td>\n",
       "      <td>100.000000</td>\n",
       "      <td>12.719177</td>\n",
       "      <td>3.778064</td>\n",
       "      <td>66.117188</td>\n",
       "      <td>9.688980</td>\n",
       "      <td>1521.980372</td>\n",
       "      <td>-273.776101</td>\n",
       "      <td>1809.194008</td>\n",
       "      <td>-296.383080</td>\n",
       "      <td>2499.129174</td>\n",
       "      <td>-292.155509</td>\n",
       "      <td>1817.199290</td>\n",
       "      <td>-76.397327</td>\n",
       "      <td>1922.636637</td>\n",
       "      <td>-139.753025</td>\n",
       "      <td>1706.307502</td>\n",
       "      <td>-191.718480</td>\n",
       "      <td>23.264738</td>\n",
       "      <td>17.042505</td>\n",
       "      <td>26.000772</td>\n",
       "      <td>26.811643</td>\n",
       "      <td>52.651399</td>\n",
       "      <td>-127.875565</td>\n",
       "      <td>35.152122</td>\n",
       "      <td>-211.999273</td>\n",
       "      <td>44.260464</td>\n",
       "      <td>-191.678810</td>\n",
       "      <td>35.072841</td>\n",
       "      <td>-159.742331</td>\n",
       "      <td>30.115735</td>\n",
       "      <td>-245.239184</td>\n",
       "      <td>31.269706</td>\n",
       "      <td>-6.506986</td>\n",
       "      <td>43.709931</td>\n",
       "      <td>-244.483566</td>\n",
       "      <td>27.926001</td>\n",
       "      <td>-137.740004</td>\n",
       "      <td>32.188906</td>\n",
       "      <td>-104.427459</td>\n",
       "    </tr>\n",
       "  </tbody>\n",
       "</table>\n",
       "</div>"
      ],
      "text/plain": [
       "       final.output.concentrate_ag  final.output.concentrate_pb  \\\n",
       "count                 19438.000000                 19438.000000   \n",
       "mean                      5.168470                     9.978895   \n",
       "std                       1.372348                     1.669240   \n",
       "min                       0.000000                     0.000000   \n",
       "25%                       4.251240                     9.137262   \n",
       "50%                       5.066094                    10.102433   \n",
       "75%                       5.895527                    11.035769   \n",
       "max                      16.001945                    17.031899   \n",
       "\n",
       "       final.output.concentrate_sol  final.output.concentrate_au  \\\n",
       "count                  19228.000000                 19439.000000   \n",
       "mean                       9.501224                    44.076513   \n",
       "std                        2.787537                     5.129784   \n",
       "min                        0.000000                     0.000000   \n",
       "25%                        7.722820                    43.402215   \n",
       "50%                        9.218961                    45.011244   \n",
       "75%                       10.947813                    46.275313   \n",
       "max                       19.615720                    52.756638   \n",
       "\n",
       "       final.output.recovery  final.output.tail_ag  final.output.tail_pb  \\\n",
       "count           19439.000000          19438.000000          19338.000000   \n",
       "mean               67.050208              9.688589              2.705795   \n",
       "std                10.125840              2.328642              0.949077   \n",
       "min                 0.000000              0.000000              0.000000   \n",
       "25%                63.299712              8.062878              2.040119   \n",
       "50%                68.172738              9.743623              2.748730   \n",
       "75%                72.686642             11.134294              3.333216   \n",
       "max               100.000000             19.552149              5.804178   \n",
       "\n",
       "       final.output.tail_sol  final.output.tail_au  \\\n",
       "count           19433.000000          19439.000000   \n",
       "mean               10.583728              3.042467   \n",
       "std                 2.868782              0.922808   \n",
       "min                 0.000000              0.000000   \n",
       "25%                 8.938947              2.461138   \n",
       "50%                10.622456              2.984909   \n",
       "75%                12.104271              3.571351   \n",
       "max                22.317730              8.245022   \n",
       "\n",
       "       primary_cleaner.input.sulfate  primary_cleaner.input.depressant  \\\n",
       "count                   19415.000000                      19402.000000   \n",
       "mean                      144.624774                          8.817039   \n",
       "std                        44.464071                          3.286186   \n",
       "min                         0.003112                          0.000000   \n",
       "25%                       114.107029                          6.076909   \n",
       "50%                       143.232103                          8.038311   \n",
       "75%                       175.075656                         11.013521   \n",
       "max                       265.983123                         40.000000   \n",
       "\n",
       "       primary_cleaner.input.feed_size  primary_cleaner.input.xanthate  \\\n",
       "count                     19439.000000                    19335.000000   \n",
       "mean                          7.307078                        1.021795   \n",
       "std                           0.613509                        0.513254   \n",
       "min                           1.080000                        0.000005   \n",
       "25%                           6.940000                        0.697224   \n",
       "50%                           7.280000                        0.940863   \n",
       "75%                           7.670000                        1.210990   \n",
       "max                          15.500000                        4.102454   \n",
       "\n",
       "       primary_cleaner.output.concentrate_ag  \\\n",
       "count                           19439.000000   \n",
       "mean                                8.442408   \n",
       "std                                 2.054465   \n",
       "min                                 0.000000   \n",
       "25%                                 7.263288   \n",
       "50%                                 8.507298   \n",
       "75%                                 9.809001   \n",
       "max                                16.081632   \n",
       "\n",
       "       primary_cleaner.output.concentrate_pb  \\\n",
       "count                           19323.000000   \n",
       "mean                                9.829530   \n",
       "std                                 2.556843   \n",
       "min                                 0.000000   \n",
       "25%                                 8.702328   \n",
       "50%                                10.152433   \n",
       "75%                                11.424971   \n",
       "max                                17.081278   \n",
       "\n",
       "       primary_cleaner.output.concentrate_sol  \\\n",
       "count                            19069.000000   \n",
       "mean                                10.489499   \n",
       "std                                  3.909639   \n",
       "min                                  0.000000   \n",
       "25%                                  7.893893   \n",
       "50%                                 10.314632   \n",
       "75%                                 13.446702   \n",
       "max                                 22.458114   \n",
       "\n",
       "       primary_cleaner.output.concentrate_au  primary_cleaner.output.tail_ag  \\\n",
       "count                           19439.000000                    19435.000000   \n",
       "mean                               32.119400                       16.145826   \n",
       "std                                 5.627611                        3.548598   \n",
       "min                                 0.000000                        0.000000   \n",
       "25%                                30.463140                       14.017742   \n",
       "50%                                32.841295                       15.842836   \n",
       "75%                                35.048006                       18.013975   \n",
       "max                                45.933934                       29.459575   \n",
       "\n",
       "       primary_cleaner.output.tail_pb  primary_cleaner.output.tail_sol  \\\n",
       "count                    19418.000000                     19377.000000   \n",
       "mean                         3.435656                         7.973209   \n",
       "std                          1.392536                         2.212677   \n",
       "min                          0.000000                         0.000000   \n",
       "25%                          2.504365                         6.747483   \n",
       "50%                          3.271153                         8.183673   \n",
       "75%                          4.181748                         9.548586   \n",
       "max                          9.634565                        22.276364   \n",
       "\n",
       "       primary_cleaner.output.tail_au  primary_cleaner.state.floatbank8_a_air  \\\n",
       "count                    19439.000000                            1.943500e+04   \n",
       "mean                         3.914179                            1.589354e+03   \n",
       "std                          1.593034                            1.289968e+02   \n",
       "min                          0.000000                            5.445860e-32   \n",
       "25%                          2.924844                            1.505063e+03   \n",
       "50%                          3.623234                            1.600597e+03   \n",
       "75%                          4.585705                            1.697658e+03   \n",
       "max                         17.788925                            2.103104e+03   \n",
       "\n",
       "       primary_cleaner.state.floatbank8_a_level  \\\n",
       "count                              19438.000000   \n",
       "mean                                -491.195012   \n",
       "std                                   32.431842   \n",
       "min                                 -798.641662   \n",
       "25%                                 -500.308544   \n",
       "50%                                 -499.926134   \n",
       "75%                                 -499.433950   \n",
       "max                                  -57.195404   \n",
       "\n",
       "       primary_cleaner.state.floatbank8_b_air  \\\n",
       "count                            1.943500e+04   \n",
       "mean                             1.591344e+03   \n",
       "std                              1.318109e+02   \n",
       "min                              6.647490e-32   \n",
       "25%                              1.503630e+03   \n",
       "50%                              1.600521e+03   \n",
       "75%                              1.699218e+03   \n",
       "max                              2.114907e+03   \n",
       "\n",
       "       primary_cleaner.state.floatbank8_b_level  \\\n",
       "count                              19438.000000   \n",
       "mean                                -492.192978   \n",
       "std                                   33.794822   \n",
       "min                                 -799.997015   \n",
       "25%                                 -500.437171   \n",
       "50%                                 -499.956767   \n",
       "75%                                 -499.373336   \n",
       "max                                 -142.527229   \n",
       "\n",
       "       primary_cleaner.state.floatbank8_c_air  \\\n",
       "count                            1.943700e+04   \n",
       "mean                             1.586669e+03   \n",
       "std                              1.361114e+02   \n",
       "min                              4.033736e-32   \n",
       "25%                              1.500927e+03   \n",
       "50%                              1.600254e+03   \n",
       "75%                              1.699483e+03   \n",
       "max                              2.013156e+03   \n",
       "\n",
       "       primary_cleaner.state.floatbank8_c_level  \\\n",
       "count                              19438.000000   \n",
       "mean                                -491.980070   \n",
       "std                                   32.711455   \n",
       "min                                 -799.960571   \n",
       "25%                                 -500.703932   \n",
       "50%                                 -499.909524   \n",
       "75%                                 -498.857643   \n",
       "max                                 -150.937035   \n",
       "\n",
       "       primary_cleaner.state.floatbank8_d_air  \\\n",
       "count                            1.943600e+04   \n",
       "mean                             1.542912e+03   \n",
       "std                              2.461996e+02   \n",
       "min                              4.039220e-32   \n",
       "25%                              1.494219e+03   \n",
       "50%                              1.599447e+03   \n",
       "75%                              1.698525e+03   \n",
       "max                              2.398904e+03   \n",
       "\n",
       "       primary_cleaner.state.floatbank8_d_level  \\\n",
       "count                              19438.000000   \n",
       "mean                                -488.017382   \n",
       "std                                   43.959780   \n",
       "min                                 -799.794250   \n",
       "25%                                 -500.458365   \n",
       "50%                                 -499.905974   \n",
       "75%                                 -499.064695   \n",
       "max                                  -30.601828   \n",
       "\n",
       "       rougher.calculation.sulfate_to_au_concentrate  \\\n",
       "count                                   1.943700e+04   \n",
       "mean                                    4.217119e+04   \n",
       "std                                     3.243621e+05   \n",
       "min                                    -4.223520e+07   \n",
       "25%                                     4.070095e+04   \n",
       "50%                                     4.469648e+04   \n",
       "75%                                     4.816821e+04   \n",
       "max                                     3.428099e+06   \n",
       "\n",
       "       rougher.calculation.floatbank10_sulfate_to_au_feed  \\\n",
       "count                                       19437.000000    \n",
       "mean                                         3393.052498    \n",
       "std                                          4943.845943    \n",
       "min                                          -486.598675    \n",
       "25%                                          2611.425833    \n",
       "50%                                          3018.353876    \n",
       "75%                                          3676.769750    \n",
       "max                                        629638.977914    \n",
       "\n",
       "       rougher.calculation.floatbank11_sulfate_to_au_feed  \\\n",
       "count                                       19437.000000    \n",
       "mean                                         3256.854171    \n",
       "std                                          5781.423659    \n",
       "min                                          -264.982785    \n",
       "25%                                          2551.437587    \n",
       "50%                                          2997.218088    \n",
       "75%                                          3601.998911    \n",
       "max                                        718684.955855    \n",
       "\n",
       "       rougher.calculation.au_pb_ratio  rougher.input.feed_ag  \\\n",
       "count                     19439.000000           19439.000000   \n",
       "mean                          2.420119               8.794927   \n",
       "std                           0.814935               1.936847   \n",
       "min                          -0.010548               0.010000   \n",
       "25%                           2.035434               7.237967   \n",
       "50%                           2.309665               8.593574   \n",
       "75%                           2.731794              10.213771   \n",
       "max                          39.379272              14.596026   \n",
       "\n",
       "       rougher.input.feed_pb  rougher.input.feed_rate  \\\n",
       "count           19339.000000             19428.000000   \n",
       "mean                3.598085               478.320042   \n",
       "std                 1.049486               105.373758   \n",
       "min                 0.010000                 0.002986   \n",
       "25%                 2.887280               416.525453   \n",
       "50%                 3.534895               499.416120   \n",
       "75%                 4.244161               550.172183   \n",
       "max                 7.142594               717.508837   \n",
       "\n",
       "       rougher.input.feed_size  rougher.input.feed_sol  rougher.input.feed_au  \\\n",
       "count             19294.000000            19340.000000           19439.000000   \n",
       "mean                 58.970310               36.695114               8.266097   \n",
       "std                  21.634478                5.145445               1.955092   \n",
       "min                   0.046369                0.010000               0.010000   \n",
       "25%                  47.435103               34.207799               6.854384   \n",
       "50%                  54.610197               37.202650               8.125839   \n",
       "75%                  65.023044               40.039133               9.769917   \n",
       "max                 484.967466               53.477742              13.731330   \n",
       "\n",
       "       rougher.input.floatbank10_sulfate  rougher.input.floatbank10_xanthate  \\\n",
       "count                       19405.000000                        19431.000000   \n",
       "mean                           12.334373                            6.021474   \n",
       "std                             3.427317                            1.127263   \n",
       "min                             0.001083                            0.000568   \n",
       "25%                            10.000362                            5.398678   \n",
       "50%                            12.001174                            6.008273   \n",
       "75%                            14.716595                            6.798051   \n",
       "max                            36.118275                            9.703448   \n",
       "\n",
       "       rougher.input.floatbank11_sulfate  rougher.input.floatbank11_xanthate  \\\n",
       "count                       19395.000000                        18986.000000   \n",
       "mean                           12.064140                            6.065533   \n",
       "std                             3.784221                            1.099118   \n",
       "min                             0.000077                            0.000290   \n",
       "25%                             9.998460                            5.402368   \n",
       "50%                            12.000204                            6.098580   \n",
       "75%                            14.636766                            6.801233   \n",
       "max                            37.980648                            9.698407   \n",
       "\n",
       "       rougher.output.concentrate_ag  rougher.output.concentrate_pb  \\\n",
       "count                   19439.000000                   19439.000000   \n",
       "mean                       11.994759                       7.606272   \n",
       "std                         2.733862                       1.796757   \n",
       "min                         0.000000                       0.000000   \n",
       "25%                        10.628337                       6.725987   \n",
       "50%                        12.098115                       7.742580   \n",
       "75%                        13.736996                       8.565199   \n",
       "max                        24.480271                      13.617072   \n",
       "\n",
       "       rougher.output.concentrate_sol  rougher.output.concentrate_au  \\\n",
       "count                    19416.000000                   19439.000000   \n",
       "mean                        28.805571                      19.772000   \n",
       "std                          5.944207                       3.753600   \n",
       "min                          0.000000                       0.000000   \n",
       "25%                         27.224120                      18.802523   \n",
       "50%                         29.835345                      20.280214   \n",
       "75%                         32.189933                      21.717843   \n",
       "max                         38.351193                      28.824507   \n",
       "\n",
       "       rougher.output.recovery  rougher.output.tail_ag  \\\n",
       "count             19439.000000            19438.000000   \n",
       "mean                 83.328587                5.588982   \n",
       "std                  14.148086                1.111288   \n",
       "min                   0.000000                0.594562   \n",
       "25%                  81.037957                4.889892   \n",
       "50%                  86.188892                5.765802   \n",
       "75%                  90.010670                6.389234   \n",
       "max                 100.000000               12.719177   \n",
       "\n",
       "       rougher.output.tail_pb  rougher.output.tail_sol  \\\n",
       "count            19439.000000             19439.000000   \n",
       "mean                 0.645782                18.057106   \n",
       "std                  0.251526                 3.449218   \n",
       "min                  0.007566                10.014648   \n",
       "25%                  0.477728                15.822525   \n",
       "50%                  0.617465                18.106867   \n",
       "75%                  0.778271                20.088151   \n",
       "max                  3.778064                66.117188   \n",
       "\n",
       "       rougher.output.tail_au  rougher.state.floatbank10_a_air  \\\n",
       "count            19439.000000                     19438.000000   \n",
       "mean                 1.816391                      1105.315068   \n",
       "std                  0.680046                       160.826798   \n",
       "min                  0.020676                        -0.042069   \n",
       "25%                  1.404207                       999.661867   \n",
       "50%                  1.808170                      1001.072890   \n",
       "75%                  2.211861                      1205.620588   \n",
       "max                  9.688980                      1521.980372   \n",
       "\n",
       "       rougher.state.floatbank10_a_level  rougher.state.floatbank10_b_air  \\\n",
       "count                       19438.000000                     19438.000000   \n",
       "mean                         -376.610690                      1320.221139   \n",
       "std                            93.909667                       176.287095   \n",
       "min                          -657.949759                        -0.721806   \n",
       "25%                          -499.835165                      1199.626115   \n",
       "50%                          -300.263994                      1301.579988   \n",
       "75%                          -299.981998                      1448.630789   \n",
       "max                          -273.776101                      1809.194008   \n",
       "\n",
       "       rougher.state.floatbank10_b_level  rougher.state.floatbank10_c_air  \\\n",
       "count                       19438.000000                     19438.000000   \n",
       "mean                         -467.247826                      1299.968799   \n",
       "std                            54.673142                       202.804325   \n",
       "min                          -650.260008                        -0.056636   \n",
       "25%                          -500.201130                      1151.076301   \n",
       "50%                          -499.784045                      1300.211537   \n",
       "75%                          -400.615589                      1449.464001   \n",
       "max                          -296.383080                      2499.129174   \n",
       "\n",
       "       rougher.state.floatbank10_c_level  rougher.state.floatbank10_d_air  \\\n",
       "count                       19438.000000                     19439.000000   \n",
       "mean                         -467.716946                      1211.563299   \n",
       "std                            53.534825                       204.019326   \n",
       "min                          -647.544439                        -0.992219   \n",
       "25%                          -500.217218                      1061.051788   \n",
       "50%                          -499.713364                      1201.569141   \n",
       "75%                          -400.985743                      1352.880320   \n",
       "max                          -292.155509                      1817.199290   \n",
       "\n",
       "       rougher.state.floatbank10_d_level  rougher.state.floatbank10_e_air  \\\n",
       "count                       19439.000000                     19003.000000   \n",
       "mean                         -468.239912                      1080.869685   \n",
       "std                            53.921458                       172.149992   \n",
       "min                          -648.390665                        -1.982295   \n",
       "25%                          -500.386386                       998.675263   \n",
       "50%                          -499.532412                      1050.029461   \n",
       "75%                          -401.638550                      1199.425140   \n",
       "max                           -76.397327                      1922.636637   \n",
       "\n",
       "       rougher.state.floatbank10_e_level  rougher.state.floatbank10_f_air  \\\n",
       "count                       19439.000000                     19439.000000   \n",
       "mean                         -466.037742                      1025.274256   \n",
       "std                            57.384424                       164.487837   \n",
       "min                          -649.443911                        -2.593390   \n",
       "25%                          -500.232191                       900.995511   \n",
       "50%                          -499.663089                       999.924821   \n",
       "75%                          -401.161191                      1099.719692   \n",
       "max                          -139.753025                      1706.307502   \n",
       "\n",
       "       rougher.state.floatbank10_f_level  secondary_cleaner.output.tail_ag  \\\n",
       "count                       19439.000000                      19437.000000   \n",
       "mean                         -466.265327                         14.586833   \n",
       "std                            57.850263                          4.265202   \n",
       "min                          -649.949283                          0.000000   \n",
       "25%                          -500.522553                         12.640239   \n",
       "50%                          -499.471777                         15.641902   \n",
       "75%                          -401.511042                         17.358217   \n",
       "max                          -191.718480                         23.264738   \n",
       "\n",
       "       secondary_cleaner.output.tail_pb  secondary_cleaner.output.tail_sol  \\\n",
       "count                      19427.000000                       17691.000000   \n",
       "mean                           5.777703                           7.167247   \n",
       "std                            2.774598                           3.916079   \n",
       "min                            0.000000                           0.000000   \n",
       "25%                            3.864733                           3.845475   \n",
       "50%                            5.344073                           7.685827   \n",
       "75%                            7.788467                          10.411296   \n",
       "max                           17.042505                          26.000772   \n",
       "\n",
       "       secondary_cleaner.output.tail_au  \\\n",
       "count                      19439.000000   \n",
       "mean                           4.339625   \n",
       "std                            2.326751   \n",
       "min                            0.000000   \n",
       "25%                            3.182770   \n",
       "50%                            4.072412   \n",
       "75%                            5.063081   \n",
       "max                           26.811643   \n",
       "\n",
       "       secondary_cleaner.state.floatbank2_a_air  \\\n",
       "count                              19219.000000   \n",
       "mean                                  28.705564   \n",
       "std                                    5.458789   \n",
       "min                                    0.077503   \n",
       "25%                                   25.048462   \n",
       "50%                                   29.099943   \n",
       "75%                                   33.012536   \n",
       "max                                   52.651399   \n",
       "\n",
       "       secondary_cleaner.state.floatbank2_a_level  \\\n",
       "count                                19438.000000   \n",
       "mean                                  -502.367331   \n",
       "std                                     53.571950   \n",
       "min                                   -799.606441   \n",
       "25%                                   -500.233700   \n",
       "50%                                   -499.973250   \n",
       "75%                                   -499.671261   \n",
       "max                                   -127.875565   \n",
       "\n",
       "       secondary_cleaner.state.floatbank2_b_air  \\\n",
       "count                              19416.000000   \n",
       "mean                                  24.106800   \n",
       "std                                    5.749616   \n",
       "min                                    0.000000   \n",
       "25%                                   20.919853   \n",
       "50%                                   25.043289   \n",
       "75%                                   28.008197   \n",
       "max                                   35.152122   \n",
       "\n",
       "       secondary_cleaner.state.floatbank2_b_level  \\\n",
       "count                                19438.000000   \n",
       "mean                                  -503.230712   \n",
       "std                                     56.567724   \n",
       "min                                   -799.873878   \n",
       "25%                                   -500.253794   \n",
       "50%                                   -500.015439   \n",
       "75%                                   -499.785698   \n",
       "max                                   -211.999273   \n",
       "\n",
       "       secondary_cleaner.state.floatbank3_a_air  \\\n",
       "count                              19426.000000   \n",
       "mean                                  28.199338   \n",
       "std                                    6.134908   \n",
       "min                                    0.000000   \n",
       "25%                                   24.949227   \n",
       "50%                                   27.982129   \n",
       "75%                                   33.002798   \n",
       "max                                   44.260464   \n",
       "\n",
       "       secondary_cleaner.state.floatbank3_a_level  \\\n",
       "count                                19438.000000   \n",
       "mean                                  -486.203350   \n",
       "std                                     54.412349   \n",
       "min                                   -799.755798   \n",
       "25%                                   -500.213546   \n",
       "50%                                   -499.930680   \n",
       "75%                                   -499.325739   \n",
       "max                                   -191.678810   \n",
       "\n",
       "       secondary_cleaner.state.floatbank3_b_air  \\\n",
       "count                              19438.000000   \n",
       "mean                                  22.200645   \n",
       "std                                    5.574001   \n",
       "min                                    0.000000   \n",
       "25%                                   18.995924   \n",
       "50%                                   22.011231   \n",
       "75%                                   25.998206   \n",
       "max                                   35.072841   \n",
       "\n",
       "       secondary_cleaner.state.floatbank3_b_level  \\\n",
       "count                                19438.000000   \n",
       "mean                                  -493.742107   \n",
       "std                                     43.372158   \n",
       "min                                   -809.333008   \n",
       "25%                                   -500.123034   \n",
       "50%                                   -499.981902   \n",
       "75%                                   -499.812834   \n",
       "max                                   -159.742331   \n",
       "\n",
       "       secondary_cleaner.state.floatbank4_a_air  \\\n",
       "count                              19433.000000   \n",
       "mean                                  18.987674   \n",
       "std                                    5.411058   \n",
       "min                                    0.000000   \n",
       "25%                                   14.975734   \n",
       "50%                                   18.017481   \n",
       "75%                                   23.012470   \n",
       "max                                   30.115735   \n",
       "\n",
       "       secondary_cleaner.state.floatbank4_a_level  \\\n",
       "count                                19438.000000   \n",
       "mean                                  -485.894516   \n",
       "std                                     47.758570   \n",
       "min                                   -799.798523   \n",
       "25%                                   -500.704892   \n",
       "50%                                   -499.837793   \n",
       "75%                                   -498.249730   \n",
       "max                                   -245.239184   \n",
       "\n",
       "       secondary_cleaner.state.floatbank4_b_air  \\\n",
       "count                              19438.000000   \n",
       "mean                                  15.010366   \n",
       "std                                    4.890228   \n",
       "min                                    0.000000   \n",
       "25%                                   11.940294   \n",
       "50%                                   14.971014   \n",
       "75%                                   19.034162   \n",
       "max                                   31.269706   \n",
       "\n",
       "       secondary_cleaner.state.floatbank4_b_level  \\\n",
       "count                                19438.000000   \n",
       "mean                                  -461.078636   \n",
       "std                                     67.405524   \n",
       "min                                   -800.836914   \n",
       "25%                                   -500.187742   \n",
       "50%                                   -499.459786   \n",
       "75%                                   -400.118106   \n",
       "max                                     -6.506986   \n",
       "\n",
       "       secondary_cleaner.state.floatbank5_a_air  \\\n",
       "count                              19438.000000   \n",
       "mean                                  15.694452   \n",
       "std                                    5.510974   \n",
       "min                                   -0.372054   \n",
       "25%                                   10.988606   \n",
       "50%                                   15.000036   \n",
       "75%                                   18.026190   \n",
       "max                                   43.709931   \n",
       "\n",
       "       secondary_cleaner.state.floatbank5_a_level  \\\n",
       "count                                19438.000000   \n",
       "mean                                  -488.684065   \n",
       "std                                     34.533396   \n",
       "min                                   -797.323986   \n",
       "25%                                   -500.458467   \n",
       "50%                                   -499.802605   \n",
       "75%                                   -498.384187   \n",
       "max                                   -244.483566   \n",
       "\n",
       "       secondary_cleaner.state.floatbank5_b_air  \\\n",
       "count                              19438.000000   \n",
       "mean                                  12.198224   \n",
       "std                                    5.333024   \n",
       "min                                    0.528083   \n",
       "25%                                    8.971105   \n",
       "50%                                   11.019433   \n",
       "75%                                   14.019088   \n",
       "max                                   27.926001   \n",
       "\n",
       "       secondary_cleaner.state.floatbank5_b_level  \\\n",
       "count                                19438.000000   \n",
       "mean                                  -487.149827   \n",
       "std                                     38.347312   \n",
       "min                                   -800.220337   \n",
       "25%                                   -500.129462   \n",
       "50%                                   -499.935317   \n",
       "75%                                   -499.436708   \n",
       "max                                   -137.740004   \n",
       "\n",
       "       secondary_cleaner.state.floatbank6_a_air  \\\n",
       "count                              19437.000000   \n",
       "mean                                  18.959024   \n",
       "std                                    5.550498   \n",
       "min                                   -0.079426   \n",
       "25%                                   14.983037   \n",
       "50%                                   19.960541   \n",
       "75%                                   24.003170   \n",
       "max                                   32.188906   \n",
       "\n",
       "       secondary_cleaner.state.floatbank6_a_level  \n",
       "count                                19438.000000  \n",
       "mean                                  -505.436305  \n",
       "std                                     37.689057  \n",
       "min                                   -809.741464  \n",
       "25%                                   -500.728067  \n",
       "50%                                   -500.048400  \n",
       "75%                                   -499.495378  \n",
       "max                                   -104.427459  "
      ]
     },
     "execution_count": 113,
     "metadata": {},
     "output_type": "execute_result"
    }
   ],
   "source": [
    "df_full.describe()"
   ]
  },
  {
   "cell_type": "code",
   "execution_count": 114,
   "metadata": {},
   "outputs": [
    {
     "data": {
      "text/html": [
       "<div>\n",
       "<style scoped>\n",
       "    .dataframe tbody tr th:only-of-type {\n",
       "        vertical-align: middle;\n",
       "    }\n",
       "\n",
       "    .dataframe tbody tr th {\n",
       "        vertical-align: top;\n",
       "    }\n",
       "\n",
       "    .dataframe thead th {\n",
       "        text-align: right;\n",
       "    }\n",
       "</style>\n",
       "<table border=\"1\" class=\"dataframe\">\n",
       "  <thead>\n",
       "    <tr style=\"text-align: right;\">\n",
       "      <th></th>\n",
       "      <th>date</th>\n",
       "      <th>final.output.concentrate_ag</th>\n",
       "      <th>final.output.concentrate_pb</th>\n",
       "      <th>final.output.concentrate_sol</th>\n",
       "      <th>final.output.concentrate_au</th>\n",
       "      <th>final.output.recovery</th>\n",
       "      <th>final.output.tail_ag</th>\n",
       "      <th>final.output.tail_pb</th>\n",
       "      <th>final.output.tail_sol</th>\n",
       "      <th>final.output.tail_au</th>\n",
       "      <th>primary_cleaner.input.sulfate</th>\n",
       "      <th>primary_cleaner.input.depressant</th>\n",
       "      <th>primary_cleaner.input.feed_size</th>\n",
       "      <th>primary_cleaner.input.xanthate</th>\n",
       "      <th>primary_cleaner.output.concentrate_ag</th>\n",
       "      <th>primary_cleaner.output.concentrate_pb</th>\n",
       "      <th>primary_cleaner.output.concentrate_sol</th>\n",
       "      <th>primary_cleaner.output.concentrate_au</th>\n",
       "      <th>primary_cleaner.output.tail_ag</th>\n",
       "      <th>primary_cleaner.output.tail_pb</th>\n",
       "      <th>primary_cleaner.output.tail_sol</th>\n",
       "      <th>primary_cleaner.output.tail_au</th>\n",
       "      <th>primary_cleaner.state.floatbank8_a_air</th>\n",
       "      <th>primary_cleaner.state.floatbank8_a_level</th>\n",
       "      <th>primary_cleaner.state.floatbank8_b_air</th>\n",
       "      <th>primary_cleaner.state.floatbank8_b_level</th>\n",
       "      <th>primary_cleaner.state.floatbank8_c_air</th>\n",
       "      <th>primary_cleaner.state.floatbank8_c_level</th>\n",
       "      <th>primary_cleaner.state.floatbank8_d_air</th>\n",
       "      <th>primary_cleaner.state.floatbank8_d_level</th>\n",
       "      <th>rougher.calculation.sulfate_to_au_concentrate</th>\n",
       "      <th>rougher.calculation.floatbank10_sulfate_to_au_feed</th>\n",
       "      <th>rougher.calculation.floatbank11_sulfate_to_au_feed</th>\n",
       "      <th>rougher.calculation.au_pb_ratio</th>\n",
       "      <th>rougher.input.feed_ag</th>\n",
       "      <th>rougher.input.feed_pb</th>\n",
       "      <th>rougher.input.feed_rate</th>\n",
       "      <th>rougher.input.feed_size</th>\n",
       "      <th>rougher.input.feed_sol</th>\n",
       "      <th>rougher.input.feed_au</th>\n",
       "      <th>rougher.input.floatbank10_sulfate</th>\n",
       "      <th>rougher.input.floatbank10_xanthate</th>\n",
       "      <th>rougher.input.floatbank11_sulfate</th>\n",
       "      <th>rougher.input.floatbank11_xanthate</th>\n",
       "      <th>rougher.output.concentrate_ag</th>\n",
       "      <th>rougher.output.concentrate_pb</th>\n",
       "      <th>rougher.output.concentrate_sol</th>\n",
       "      <th>rougher.output.concentrate_au</th>\n",
       "      <th>rougher.output.recovery</th>\n",
       "      <th>rougher.output.tail_ag</th>\n",
       "      <th>rougher.output.tail_pb</th>\n",
       "      <th>rougher.output.tail_sol</th>\n",
       "      <th>rougher.output.tail_au</th>\n",
       "      <th>rougher.state.floatbank10_a_air</th>\n",
       "      <th>rougher.state.floatbank10_a_level</th>\n",
       "      <th>rougher.state.floatbank10_b_air</th>\n",
       "      <th>rougher.state.floatbank10_b_level</th>\n",
       "      <th>rougher.state.floatbank10_c_air</th>\n",
       "      <th>rougher.state.floatbank10_c_level</th>\n",
       "      <th>rougher.state.floatbank10_d_air</th>\n",
       "      <th>rougher.state.floatbank10_d_level</th>\n",
       "      <th>rougher.state.floatbank10_e_air</th>\n",
       "      <th>rougher.state.floatbank10_e_level</th>\n",
       "      <th>rougher.state.floatbank10_f_air</th>\n",
       "      <th>rougher.state.floatbank10_f_level</th>\n",
       "      <th>secondary_cleaner.output.tail_ag</th>\n",
       "      <th>secondary_cleaner.output.tail_pb</th>\n",
       "      <th>secondary_cleaner.output.tail_sol</th>\n",
       "      <th>secondary_cleaner.output.tail_au</th>\n",
       "      <th>secondary_cleaner.state.floatbank2_a_air</th>\n",
       "      <th>secondary_cleaner.state.floatbank2_a_level</th>\n",
       "      <th>secondary_cleaner.state.floatbank2_b_air</th>\n",
       "      <th>secondary_cleaner.state.floatbank2_b_level</th>\n",
       "      <th>secondary_cleaner.state.floatbank3_a_air</th>\n",
       "      <th>secondary_cleaner.state.floatbank3_a_level</th>\n",
       "      <th>secondary_cleaner.state.floatbank3_b_air</th>\n",
       "      <th>secondary_cleaner.state.floatbank3_b_level</th>\n",
       "      <th>secondary_cleaner.state.floatbank4_a_air</th>\n",
       "      <th>secondary_cleaner.state.floatbank4_a_level</th>\n",
       "      <th>secondary_cleaner.state.floatbank4_b_air</th>\n",
       "      <th>secondary_cleaner.state.floatbank4_b_level</th>\n",
       "      <th>secondary_cleaner.state.floatbank5_a_air</th>\n",
       "      <th>secondary_cleaner.state.floatbank5_a_level</th>\n",
       "      <th>secondary_cleaner.state.floatbank5_b_air</th>\n",
       "      <th>secondary_cleaner.state.floatbank5_b_level</th>\n",
       "      <th>secondary_cleaner.state.floatbank6_a_air</th>\n",
       "      <th>secondary_cleaner.state.floatbank6_a_level</th>\n",
       "    </tr>\n",
       "  </thead>\n",
       "  <tbody>\n",
       "    <tr>\n",
       "      <td>13230</td>\n",
       "      <td>2018-06-29 09:59:59</td>\n",
       "      <td>4.298146</td>\n",
       "      <td>10.429581</td>\n",
       "      <td>7.134357</td>\n",
       "      <td>45.992769</td>\n",
       "      <td>72.079813</td>\n",
       "      <td>8.072803</td>\n",
       "      <td>2.480298</td>\n",
       "      <td>11.129368</td>\n",
       "      <td>2.598292</td>\n",
       "      <td>168.701743</td>\n",
       "      <td>6.938257</td>\n",
       "      <td>7.270000</td>\n",
       "      <td>1.522429</td>\n",
       "      <td>7.084072</td>\n",
       "      <td>10.975730</td>\n",
       "      <td>7.635984</td>\n",
       "      <td>31.984476</td>\n",
       "      <td>16.764676</td>\n",
       "      <td>3.908692</td>\n",
       "      <td>6.722117</td>\n",
       "      <td>3.720765</td>\n",
       "      <td>1697.079532</td>\n",
       "      <td>-500.504285</td>\n",
       "      <td>1698.540633</td>\n",
       "      <td>-499.746050</td>\n",
       "      <td>1697.889360</td>\n",
       "      <td>-500.708513</td>\n",
       "      <td>1698.147966</td>\n",
       "      <td>-498.379029</td>\n",
       "      <td>40925.227158</td>\n",
       "      <td>2806.200245</td>\n",
       "      <td>2804.425009</td>\n",
       "      <td>1.960250</td>\n",
       "      <td>7.020713</td>\n",
       "      <td>4.143164</td>\n",
       "      <td>627.129104</td>\n",
       "      <td>76.325314</td>\n",
       "      <td>41.501743</td>\n",
       "      <td>8.121636</td>\n",
       "      <td>14.002322</td>\n",
       "      <td>6.414032</td>\n",
       "      <td>13.996272</td>\n",
       "      <td>6.438031</td>\n",
       "      <td>10.111933</td>\n",
       "      <td>9.047266</td>\n",
       "      <td>26.822477</td>\n",
       "      <td>17.127904</td>\n",
       "      <td>82.597553</td>\n",
       "      <td>5.380330</td>\n",
       "      <td>1.007616</td>\n",
       "      <td>19.341381</td>\n",
       "      <td>2.323302</td>\n",
       "      <td>1000.967778</td>\n",
       "      <td>-299.939398</td>\n",
       "      <td>1199.402723</td>\n",
       "      <td>-500.009558</td>\n",
       "      <td>1200.366859</td>\n",
       "      <td>-500.217010</td>\n",
       "      <td>1098.064907</td>\n",
       "      <td>-503.224021</td>\n",
       "      <td>997.569405</td>\n",
       "      <td>-500.814675</td>\n",
       "      <td>997.453546</td>\n",
       "      <td>-500.902117</td>\n",
       "      <td>17.012199</td>\n",
       "      <td>9.574160</td>\n",
       "      <td>0.869082</td>\n",
       "      <td>3.323211</td>\n",
       "      <td>35.012127</td>\n",
       "      <td>-499.545837</td>\n",
       "      <td>32.997963</td>\n",
       "      <td>-499.624132</td>\n",
       "      <td>35.982083</td>\n",
       "      <td>-500.069897</td>\n",
       "      <td>27.964516</td>\n",
       "      <td>-499.971776</td>\n",
       "      <td>29.971475</td>\n",
       "      <td>-500.082045</td>\n",
       "      <td>22.983517</td>\n",
       "      <td>-499.558357</td>\n",
       "      <td>19.967570</td>\n",
       "      <td>-501.090893</td>\n",
       "      <td>14.991423</td>\n",
       "      <td>-500.195285</td>\n",
       "      <td>17.983093</td>\n",
       "      <td>-500.962130</td>\n",
       "    </tr>\n",
       "    <tr>\n",
       "      <td>8146</td>\n",
       "      <td>2017-06-21 10:59:59</td>\n",
       "      <td>4.527056</td>\n",
       "      <td>10.204242</td>\n",
       "      <td>7.964243</td>\n",
       "      <td>46.117376</td>\n",
       "      <td>62.453166</td>\n",
       "      <td>7.940680</td>\n",
       "      <td>2.967309</td>\n",
       "      <td>10.201274</td>\n",
       "      <td>2.709342</td>\n",
       "      <td>124.706608</td>\n",
       "      <td>8.938340</td>\n",
       "      <td>7.153333</td>\n",
       "      <td>1.068744</td>\n",
       "      <td>7.227822</td>\n",
       "      <td>10.390009</td>\n",
       "      <td>7.614902</td>\n",
       "      <td>35.413154</td>\n",
       "      <td>14.413140</td>\n",
       "      <td>2.620976</td>\n",
       "      <td>7.303071</td>\n",
       "      <td>3.209669</td>\n",
       "      <td>1698.013519</td>\n",
       "      <td>-500.116389</td>\n",
       "      <td>1699.215120</td>\n",
       "      <td>-500.611110</td>\n",
       "      <td>1699.507096</td>\n",
       "      <td>-499.130929</td>\n",
       "      <td>1698.610184</td>\n",
       "      <td>-500.494229</td>\n",
       "      <td>54406.309575</td>\n",
       "      <td>5218.342968</td>\n",
       "      <td>5218.925906</td>\n",
       "      <td>2.114317</td>\n",
       "      <td>7.198505</td>\n",
       "      <td>3.109060</td>\n",
       "      <td>338.447050</td>\n",
       "      <td>46.407100</td>\n",
       "      <td>33.805070</td>\n",
       "      <td>6.573539</td>\n",
       "      <td>13.444108</td>\n",
       "      <td>4.210037</td>\n",
       "      <td>13.444820</td>\n",
       "      <td>4.208667</td>\n",
       "      <td>9.872495</td>\n",
       "      <td>8.096541</td>\n",
       "      <td>27.797923</td>\n",
       "      <td>19.535206</td>\n",
       "      <td>80.415508</td>\n",
       "      <td>5.537094</td>\n",
       "      <td>0.534793</td>\n",
       "      <td>14.279440</td>\n",
       "      <td>1.764994</td>\n",
       "      <td>999.161848</td>\n",
       "      <td>-299.282208</td>\n",
       "      <td>1399.005380</td>\n",
       "      <td>-398.366271</td>\n",
       "      <td>1399.893798</td>\n",
       "      <td>-402.414183</td>\n",
       "      <td>1299.602017</td>\n",
       "      <td>-396.827795</td>\n",
       "      <td>1199.094982</td>\n",
       "      <td>-401.035232</td>\n",
       "      <td>1098.502047</td>\n",
       "      <td>-401.884852</td>\n",
       "      <td>16.271822</td>\n",
       "      <td>8.073984</td>\n",
       "      <td>3.251053</td>\n",
       "      <td>4.934921</td>\n",
       "      <td>25.045003</td>\n",
       "      <td>-499.625267</td>\n",
       "      <td>19.988135</td>\n",
       "      <td>-499.643749</td>\n",
       "      <td>25.004246</td>\n",
       "      <td>-500.109582</td>\n",
       "      <td>20.005817</td>\n",
       "      <td>-499.896094</td>\n",
       "      <td>17.988387</td>\n",
       "      <td>-498.875322</td>\n",
       "      <td>12.982126</td>\n",
       "      <td>-380.829040</td>\n",
       "      <td>18.036101</td>\n",
       "      <td>-498.998894</td>\n",
       "      <td>12.981609</td>\n",
       "      <td>-500.057128</td>\n",
       "      <td>14.993891</td>\n",
       "      <td>-498.878627</td>\n",
       "    </tr>\n",
       "    <tr>\n",
       "      <td>11490</td>\n",
       "      <td>2018-04-10 05:59:59</td>\n",
       "      <td>3.768962</td>\n",
       "      <td>9.292531</td>\n",
       "      <td>8.022417</td>\n",
       "      <td>48.935724</td>\n",
       "      <td>69.753255</td>\n",
       "      <td>9.062137</td>\n",
       "      <td>1.853396</td>\n",
       "      <td>7.759364</td>\n",
       "      <td>1.883337</td>\n",
       "      <td>115.522245</td>\n",
       "      <td>8.013361</td>\n",
       "      <td>6.930000</td>\n",
       "      <td>0.978525</td>\n",
       "      <td>6.940517</td>\n",
       "      <td>9.596303</td>\n",
       "      <td>6.315206</td>\n",
       "      <td>31.925211</td>\n",
       "      <td>18.994257</td>\n",
       "      <td>4.014425</td>\n",
       "      <td>5.956519</td>\n",
       "      <td>2.404385</td>\n",
       "      <td>1666.843816</td>\n",
       "      <td>-500.643998</td>\n",
       "      <td>1700.549994</td>\n",
       "      <td>-499.476878</td>\n",
       "      <td>1700.756047</td>\n",
       "      <td>-501.172972</td>\n",
       "      <td>1701.127228</td>\n",
       "      <td>-500.348067</td>\n",
       "      <td>42043.889266</td>\n",
       "      <td>2486.416132</td>\n",
       "      <td>2486.340878</td>\n",
       "      <td>2.495778</td>\n",
       "      <td>6.883066</td>\n",
       "      <td>2.291467</td>\n",
       "      <td>516.853315</td>\n",
       "      <td>65.982420</td>\n",
       "      <td>37.622536</td>\n",
       "      <td>5.718993</td>\n",
       "      <td>7.445127</td>\n",
       "      <td>6.997672</td>\n",
       "      <td>7.445541</td>\n",
       "      <td>6.998728</td>\n",
       "      <td>11.316147</td>\n",
       "      <td>6.885347</td>\n",
       "      <td>22.593153</td>\n",
       "      <td>15.660558</td>\n",
       "      <td>97.239679</td>\n",
       "      <td>3.556787</td>\n",
       "      <td>0.441926</td>\n",
       "      <td>21.842144</td>\n",
       "      <td>0.244788</td>\n",
       "      <td>1411.031851</td>\n",
       "      <td>-299.928917</td>\n",
       "      <td>1206.061522</td>\n",
       "      <td>-500.025443</td>\n",
       "      <td>1105.744256</td>\n",
       "      <td>-499.329188</td>\n",
       "      <td>1063.388496</td>\n",
       "      <td>-499.989432</td>\n",
       "      <td>1052.040744</td>\n",
       "      <td>-499.964714</td>\n",
       "      <td>1003.730771</td>\n",
       "      <td>-498.759459</td>\n",
       "      <td>17.743443</td>\n",
       "      <td>8.909898</td>\n",
       "      <td>NaN</td>\n",
       "      <td>3.856968</td>\n",
       "      <td>30.032215</td>\n",
       "      <td>-500.141941</td>\n",
       "      <td>27.987175</td>\n",
       "      <td>-500.150085</td>\n",
       "      <td>27.981041</td>\n",
       "      <td>-499.703876</td>\n",
       "      <td>19.938241</td>\n",
       "      <td>-500.091848</td>\n",
       "      <td>22.966195</td>\n",
       "      <td>-334.928409</td>\n",
       "      <td>15.985448</td>\n",
       "      <td>-145.071088</td>\n",
       "      <td>18.016940</td>\n",
       "      <td>-346.390756</td>\n",
       "      <td>12.014344</td>\n",
       "      <td>-393.375445</td>\n",
       "      <td>12.990325</td>\n",
       "      <td>-500.507524</td>\n",
       "    </tr>\n",
       "  </tbody>\n",
       "</table>\n",
       "</div>"
      ],
      "text/plain": [
       "                      date  final.output.concentrate_ag  \\\n",
       "13230  2018-06-29 09:59:59                     4.298146   \n",
       "8146   2017-06-21 10:59:59                     4.527056   \n",
       "11490  2018-04-10 05:59:59                     3.768962   \n",
       "\n",
       "       final.output.concentrate_pb  final.output.concentrate_sol  \\\n",
       "13230                    10.429581                      7.134357   \n",
       "8146                     10.204242                      7.964243   \n",
       "11490                     9.292531                      8.022417   \n",
       "\n",
       "       final.output.concentrate_au  final.output.recovery  \\\n",
       "13230                    45.992769              72.079813   \n",
       "8146                     46.117376              62.453166   \n",
       "11490                    48.935724              69.753255   \n",
       "\n",
       "       final.output.tail_ag  final.output.tail_pb  final.output.tail_sol  \\\n",
       "13230              8.072803              2.480298              11.129368   \n",
       "8146               7.940680              2.967309              10.201274   \n",
       "11490              9.062137              1.853396               7.759364   \n",
       "\n",
       "       final.output.tail_au  primary_cleaner.input.sulfate  \\\n",
       "13230              2.598292                     168.701743   \n",
       "8146               2.709342                     124.706608   \n",
       "11490              1.883337                     115.522245   \n",
       "\n",
       "       primary_cleaner.input.depressant  primary_cleaner.input.feed_size  \\\n",
       "13230                          6.938257                         7.270000   \n",
       "8146                           8.938340                         7.153333   \n",
       "11490                          8.013361                         6.930000   \n",
       "\n",
       "       primary_cleaner.input.xanthate  primary_cleaner.output.concentrate_ag  \\\n",
       "13230                        1.522429                               7.084072   \n",
       "8146                         1.068744                               7.227822   \n",
       "11490                        0.978525                               6.940517   \n",
       "\n",
       "       primary_cleaner.output.concentrate_pb  \\\n",
       "13230                              10.975730   \n",
       "8146                               10.390009   \n",
       "11490                               9.596303   \n",
       "\n",
       "       primary_cleaner.output.concentrate_sol  \\\n",
       "13230                                7.635984   \n",
       "8146                                 7.614902   \n",
       "11490                                6.315206   \n",
       "\n",
       "       primary_cleaner.output.concentrate_au  primary_cleaner.output.tail_ag  \\\n",
       "13230                              31.984476                       16.764676   \n",
       "8146                               35.413154                       14.413140   \n",
       "11490                              31.925211                       18.994257   \n",
       "\n",
       "       primary_cleaner.output.tail_pb  primary_cleaner.output.tail_sol  \\\n",
       "13230                        3.908692                         6.722117   \n",
       "8146                         2.620976                         7.303071   \n",
       "11490                        4.014425                         5.956519   \n",
       "\n",
       "       primary_cleaner.output.tail_au  primary_cleaner.state.floatbank8_a_air  \\\n",
       "13230                        3.720765                             1697.079532   \n",
       "8146                         3.209669                             1698.013519   \n",
       "11490                        2.404385                             1666.843816   \n",
       "\n",
       "       primary_cleaner.state.floatbank8_a_level  \\\n",
       "13230                               -500.504285   \n",
       "8146                                -500.116389   \n",
       "11490                               -500.643998   \n",
       "\n",
       "       primary_cleaner.state.floatbank8_b_air  \\\n",
       "13230                             1698.540633   \n",
       "8146                              1699.215120   \n",
       "11490                             1700.549994   \n",
       "\n",
       "       primary_cleaner.state.floatbank8_b_level  \\\n",
       "13230                               -499.746050   \n",
       "8146                                -500.611110   \n",
       "11490                               -499.476878   \n",
       "\n",
       "       primary_cleaner.state.floatbank8_c_air  \\\n",
       "13230                             1697.889360   \n",
       "8146                              1699.507096   \n",
       "11490                             1700.756047   \n",
       "\n",
       "       primary_cleaner.state.floatbank8_c_level  \\\n",
       "13230                               -500.708513   \n",
       "8146                                -499.130929   \n",
       "11490                               -501.172972   \n",
       "\n",
       "       primary_cleaner.state.floatbank8_d_air  \\\n",
       "13230                             1698.147966   \n",
       "8146                              1698.610184   \n",
       "11490                             1701.127228   \n",
       "\n",
       "       primary_cleaner.state.floatbank8_d_level  \\\n",
       "13230                               -498.379029   \n",
       "8146                                -500.494229   \n",
       "11490                               -500.348067   \n",
       "\n",
       "       rougher.calculation.sulfate_to_au_concentrate  \\\n",
       "13230                                   40925.227158   \n",
       "8146                                    54406.309575   \n",
       "11490                                   42043.889266   \n",
       "\n",
       "       rougher.calculation.floatbank10_sulfate_to_au_feed  \\\n",
       "13230                                        2806.200245    \n",
       "8146                                         5218.342968    \n",
       "11490                                        2486.416132    \n",
       "\n",
       "       rougher.calculation.floatbank11_sulfate_to_au_feed  \\\n",
       "13230                                        2804.425009    \n",
       "8146                                         5218.925906    \n",
       "11490                                        2486.340878    \n",
       "\n",
       "       rougher.calculation.au_pb_ratio  rougher.input.feed_ag  \\\n",
       "13230                         1.960250               7.020713   \n",
       "8146                          2.114317               7.198505   \n",
       "11490                         2.495778               6.883066   \n",
       "\n",
       "       rougher.input.feed_pb  rougher.input.feed_rate  \\\n",
       "13230               4.143164               627.129104   \n",
       "8146                3.109060               338.447050   \n",
       "11490               2.291467               516.853315   \n",
       "\n",
       "       rougher.input.feed_size  rougher.input.feed_sol  rougher.input.feed_au  \\\n",
       "13230                76.325314               41.501743               8.121636   \n",
       "8146                 46.407100               33.805070               6.573539   \n",
       "11490                65.982420               37.622536               5.718993   \n",
       "\n",
       "       rougher.input.floatbank10_sulfate  rougher.input.floatbank10_xanthate  \\\n",
       "13230                          14.002322                            6.414032   \n",
       "8146                           13.444108                            4.210037   \n",
       "11490                           7.445127                            6.997672   \n",
       "\n",
       "       rougher.input.floatbank11_sulfate  rougher.input.floatbank11_xanthate  \\\n",
       "13230                          13.996272                            6.438031   \n",
       "8146                           13.444820                            4.208667   \n",
       "11490                           7.445541                            6.998728   \n",
       "\n",
       "       rougher.output.concentrate_ag  rougher.output.concentrate_pb  \\\n",
       "13230                      10.111933                       9.047266   \n",
       "8146                        9.872495                       8.096541   \n",
       "11490                      11.316147                       6.885347   \n",
       "\n",
       "       rougher.output.concentrate_sol  rougher.output.concentrate_au  \\\n",
       "13230                       26.822477                      17.127904   \n",
       "8146                        27.797923                      19.535206   \n",
       "11490                       22.593153                      15.660558   \n",
       "\n",
       "       rougher.output.recovery  rougher.output.tail_ag  \\\n",
       "13230                82.597553                5.380330   \n",
       "8146                 80.415508                5.537094   \n",
       "11490                97.239679                3.556787   \n",
       "\n",
       "       rougher.output.tail_pb  rougher.output.tail_sol  \\\n",
       "13230                1.007616                19.341381   \n",
       "8146                 0.534793                14.279440   \n",
       "11490                0.441926                21.842144   \n",
       "\n",
       "       rougher.output.tail_au  rougher.state.floatbank10_a_air  \\\n",
       "13230                2.323302                      1000.967778   \n",
       "8146                 1.764994                       999.161848   \n",
       "11490                0.244788                      1411.031851   \n",
       "\n",
       "       rougher.state.floatbank10_a_level  rougher.state.floatbank10_b_air  \\\n",
       "13230                        -299.939398                      1199.402723   \n",
       "8146                         -299.282208                      1399.005380   \n",
       "11490                        -299.928917                      1206.061522   \n",
       "\n",
       "       rougher.state.floatbank10_b_level  rougher.state.floatbank10_c_air  \\\n",
       "13230                        -500.009558                      1200.366859   \n",
       "8146                         -398.366271                      1399.893798   \n",
       "11490                        -500.025443                      1105.744256   \n",
       "\n",
       "       rougher.state.floatbank10_c_level  rougher.state.floatbank10_d_air  \\\n",
       "13230                        -500.217010                      1098.064907   \n",
       "8146                         -402.414183                      1299.602017   \n",
       "11490                        -499.329188                      1063.388496   \n",
       "\n",
       "       rougher.state.floatbank10_d_level  rougher.state.floatbank10_e_air  \\\n",
       "13230                        -503.224021                       997.569405   \n",
       "8146                         -396.827795                      1199.094982   \n",
       "11490                        -499.989432                      1052.040744   \n",
       "\n",
       "       rougher.state.floatbank10_e_level  rougher.state.floatbank10_f_air  \\\n",
       "13230                        -500.814675                       997.453546   \n",
       "8146                         -401.035232                      1098.502047   \n",
       "11490                        -499.964714                      1003.730771   \n",
       "\n",
       "       rougher.state.floatbank10_f_level  secondary_cleaner.output.tail_ag  \\\n",
       "13230                        -500.902117                         17.012199   \n",
       "8146                         -401.884852                         16.271822   \n",
       "11490                        -498.759459                         17.743443   \n",
       "\n",
       "       secondary_cleaner.output.tail_pb  secondary_cleaner.output.tail_sol  \\\n",
       "13230                          9.574160                           0.869082   \n",
       "8146                           8.073984                           3.251053   \n",
       "11490                          8.909898                                NaN   \n",
       "\n",
       "       secondary_cleaner.output.tail_au  \\\n",
       "13230                          3.323211   \n",
       "8146                           4.934921   \n",
       "11490                          3.856968   \n",
       "\n",
       "       secondary_cleaner.state.floatbank2_a_air  \\\n",
       "13230                                 35.012127   \n",
       "8146                                  25.045003   \n",
       "11490                                 30.032215   \n",
       "\n",
       "       secondary_cleaner.state.floatbank2_a_level  \\\n",
       "13230                                 -499.545837   \n",
       "8146                                  -499.625267   \n",
       "11490                                 -500.141941   \n",
       "\n",
       "       secondary_cleaner.state.floatbank2_b_air  \\\n",
       "13230                                 32.997963   \n",
       "8146                                  19.988135   \n",
       "11490                                 27.987175   \n",
       "\n",
       "       secondary_cleaner.state.floatbank2_b_level  \\\n",
       "13230                                 -499.624132   \n",
       "8146                                  -499.643749   \n",
       "11490                                 -500.150085   \n",
       "\n",
       "       secondary_cleaner.state.floatbank3_a_air  \\\n",
       "13230                                 35.982083   \n",
       "8146                                  25.004246   \n",
       "11490                                 27.981041   \n",
       "\n",
       "       secondary_cleaner.state.floatbank3_a_level  \\\n",
       "13230                                 -500.069897   \n",
       "8146                                  -500.109582   \n",
       "11490                                 -499.703876   \n",
       "\n",
       "       secondary_cleaner.state.floatbank3_b_air  \\\n",
       "13230                                 27.964516   \n",
       "8146                                  20.005817   \n",
       "11490                                 19.938241   \n",
       "\n",
       "       secondary_cleaner.state.floatbank3_b_level  \\\n",
       "13230                                 -499.971776   \n",
       "8146                                  -499.896094   \n",
       "11490                                 -500.091848   \n",
       "\n",
       "       secondary_cleaner.state.floatbank4_a_air  \\\n",
       "13230                                 29.971475   \n",
       "8146                                  17.988387   \n",
       "11490                                 22.966195   \n",
       "\n",
       "       secondary_cleaner.state.floatbank4_a_level  \\\n",
       "13230                                 -500.082045   \n",
       "8146                                  -498.875322   \n",
       "11490                                 -334.928409   \n",
       "\n",
       "       secondary_cleaner.state.floatbank4_b_air  \\\n",
       "13230                                 22.983517   \n",
       "8146                                  12.982126   \n",
       "11490                                 15.985448   \n",
       "\n",
       "       secondary_cleaner.state.floatbank4_b_level  \\\n",
       "13230                                 -499.558357   \n",
       "8146                                  -380.829040   \n",
       "11490                                 -145.071088   \n",
       "\n",
       "       secondary_cleaner.state.floatbank5_a_air  \\\n",
       "13230                                 19.967570   \n",
       "8146                                  18.036101   \n",
       "11490                                 18.016940   \n",
       "\n",
       "       secondary_cleaner.state.floatbank5_a_level  \\\n",
       "13230                                 -501.090893   \n",
       "8146                                  -498.998894   \n",
       "11490                                 -346.390756   \n",
       "\n",
       "       secondary_cleaner.state.floatbank5_b_air  \\\n",
       "13230                                 14.991423   \n",
       "8146                                  12.981609   \n",
       "11490                                 12.014344   \n",
       "\n",
       "       secondary_cleaner.state.floatbank5_b_level  \\\n",
       "13230                                 -500.195285   \n",
       "8146                                  -500.057128   \n",
       "11490                                 -393.375445   \n",
       "\n",
       "       secondary_cleaner.state.floatbank6_a_air  \\\n",
       "13230                                 17.983093   \n",
       "8146                                  14.993891   \n",
       "11490                                 12.990325   \n",
       "\n",
       "       secondary_cleaner.state.floatbank6_a_level  \n",
       "13230                                 -500.962130  \n",
       "8146                                  -498.878627  \n",
       "11490                                 -500.507524  "
      ]
     },
     "execution_count": 114,
     "metadata": {},
     "output_type": "execute_result"
    }
   ],
   "source": [
    "df_train.sample(3)"
   ]
  },
  {
   "cell_type": "code",
   "execution_count": 115,
   "metadata": {},
   "outputs": [
    {
     "data": {
      "text/html": [
       "<div>\n",
       "<style scoped>\n",
       "    .dataframe tbody tr th:only-of-type {\n",
       "        vertical-align: middle;\n",
       "    }\n",
       "\n",
       "    .dataframe tbody tr th {\n",
       "        vertical-align: top;\n",
       "    }\n",
       "\n",
       "    .dataframe thead th {\n",
       "        text-align: right;\n",
       "    }\n",
       "</style>\n",
       "<table border=\"1\" class=\"dataframe\">\n",
       "  <thead>\n",
       "    <tr style=\"text-align: right;\">\n",
       "      <th></th>\n",
       "      <th>date</th>\n",
       "      <th>primary_cleaner.input.sulfate</th>\n",
       "      <th>primary_cleaner.input.depressant</th>\n",
       "      <th>primary_cleaner.input.feed_size</th>\n",
       "      <th>primary_cleaner.input.xanthate</th>\n",
       "      <th>primary_cleaner.state.floatbank8_a_air</th>\n",
       "      <th>primary_cleaner.state.floatbank8_a_level</th>\n",
       "      <th>primary_cleaner.state.floatbank8_b_air</th>\n",
       "      <th>primary_cleaner.state.floatbank8_b_level</th>\n",
       "      <th>primary_cleaner.state.floatbank8_c_air</th>\n",
       "      <th>primary_cleaner.state.floatbank8_c_level</th>\n",
       "      <th>primary_cleaner.state.floatbank8_d_air</th>\n",
       "      <th>primary_cleaner.state.floatbank8_d_level</th>\n",
       "      <th>rougher.input.feed_ag</th>\n",
       "      <th>rougher.input.feed_pb</th>\n",
       "      <th>rougher.input.feed_rate</th>\n",
       "      <th>rougher.input.feed_size</th>\n",
       "      <th>rougher.input.feed_sol</th>\n",
       "      <th>rougher.input.feed_au</th>\n",
       "      <th>rougher.input.floatbank10_sulfate</th>\n",
       "      <th>rougher.input.floatbank10_xanthate</th>\n",
       "      <th>rougher.input.floatbank11_sulfate</th>\n",
       "      <th>rougher.input.floatbank11_xanthate</th>\n",
       "      <th>rougher.state.floatbank10_a_air</th>\n",
       "      <th>rougher.state.floatbank10_a_level</th>\n",
       "      <th>rougher.state.floatbank10_b_air</th>\n",
       "      <th>rougher.state.floatbank10_b_level</th>\n",
       "      <th>rougher.state.floatbank10_c_air</th>\n",
       "      <th>rougher.state.floatbank10_c_level</th>\n",
       "      <th>rougher.state.floatbank10_d_air</th>\n",
       "      <th>rougher.state.floatbank10_d_level</th>\n",
       "      <th>rougher.state.floatbank10_e_air</th>\n",
       "      <th>rougher.state.floatbank10_e_level</th>\n",
       "      <th>rougher.state.floatbank10_f_air</th>\n",
       "      <th>rougher.state.floatbank10_f_level</th>\n",
       "      <th>secondary_cleaner.state.floatbank2_a_air</th>\n",
       "      <th>secondary_cleaner.state.floatbank2_a_level</th>\n",
       "      <th>secondary_cleaner.state.floatbank2_b_air</th>\n",
       "      <th>secondary_cleaner.state.floatbank2_b_level</th>\n",
       "      <th>secondary_cleaner.state.floatbank3_a_air</th>\n",
       "      <th>secondary_cleaner.state.floatbank3_a_level</th>\n",
       "      <th>secondary_cleaner.state.floatbank3_b_air</th>\n",
       "      <th>secondary_cleaner.state.floatbank3_b_level</th>\n",
       "      <th>secondary_cleaner.state.floatbank4_a_air</th>\n",
       "      <th>secondary_cleaner.state.floatbank4_a_level</th>\n",
       "      <th>secondary_cleaner.state.floatbank4_b_air</th>\n",
       "      <th>secondary_cleaner.state.floatbank4_b_level</th>\n",
       "      <th>secondary_cleaner.state.floatbank5_a_air</th>\n",
       "      <th>secondary_cleaner.state.floatbank5_a_level</th>\n",
       "      <th>secondary_cleaner.state.floatbank5_b_air</th>\n",
       "      <th>secondary_cleaner.state.floatbank5_b_level</th>\n",
       "      <th>secondary_cleaner.state.floatbank6_a_air</th>\n",
       "      <th>secondary_cleaner.state.floatbank6_a_level</th>\n",
       "    </tr>\n",
       "  </thead>\n",
       "  <tbody>\n",
       "    <tr>\n",
       "      <td>1416</td>\n",
       "      <td>2016-11-09 17:59:59</td>\n",
       "      <td>192.866392</td>\n",
       "      <td>4.930660</td>\n",
       "      <td>7.38</td>\n",
       "      <td>0.906295</td>\n",
       "      <td>1603.874606</td>\n",
       "      <td>-500.928371</td>\n",
       "      <td>1600.169561</td>\n",
       "      <td>-500.870603</td>\n",
       "      <td>1598.993610</td>\n",
       "      <td>-502.452359</td>\n",
       "      <td>1600.424831</td>\n",
       "      <td>-499.792300</td>\n",
       "      <td>8.732867</td>\n",
       "      <td>2.678146</td>\n",
       "      <td>515.972838</td>\n",
       "      <td>50.855392</td>\n",
       "      <td>41.702603</td>\n",
       "      <td>8.405598</td>\n",
       "      <td>12.219997</td>\n",
       "      <td>7.000649</td>\n",
       "      <td>12.221706</td>\n",
       "      <td>6.999331</td>\n",
       "      <td>997.766582</td>\n",
       "      <td>-350.140190</td>\n",
       "      <td>1596.916434</td>\n",
       "      <td>-400.408942</td>\n",
       "      <td>1598.442515</td>\n",
       "      <td>-400.230300</td>\n",
       "      <td>1512.407799</td>\n",
       "      <td>-399.537527</td>\n",
       "      <td>1300.341652</td>\n",
       "      <td>-399.892374</td>\n",
       "      <td>1201.195980</td>\n",
       "      <td>-401.224473</td>\n",
       "      <td>25.027187</td>\n",
       "      <td>-499.657137</td>\n",
       "      <td>22.014748</td>\n",
       "      <td>-500.352636</td>\n",
       "      <td>29.953162</td>\n",
       "      <td>-500.153737</td>\n",
       "      <td>27.018282</td>\n",
       "      <td>-499.846952</td>\n",
       "      <td>15.988790</td>\n",
       "      <td>-498.651845</td>\n",
       "      <td>13.983872</td>\n",
       "      <td>-500.180508</td>\n",
       "      <td>15.702814</td>\n",
       "      <td>-498.344530</td>\n",
       "      <td>13.980823</td>\n",
       "      <td>-499.562039</td>\n",
       "      <td>21.999464</td>\n",
       "      <td>-500.563744</td>\n",
       "    </tr>\n",
       "    <tr>\n",
       "      <td>5119</td>\n",
       "      <td>2017-12-23 13:59:59</td>\n",
       "      <td>214.187115</td>\n",
       "      <td>14.969463</td>\n",
       "      <td>7.70</td>\n",
       "      <td>1.315769</td>\n",
       "      <td>1601.597101</td>\n",
       "      <td>-499.886454</td>\n",
       "      <td>1600.807733</td>\n",
       "      <td>-497.171956</td>\n",
       "      <td>1381.343430</td>\n",
       "      <td>-496.718358</td>\n",
       "      <td>1602.445846</td>\n",
       "      <td>-499.459174</td>\n",
       "      <td>12.635195</td>\n",
       "      <td>5.327125</td>\n",
       "      <td>521.779924</td>\n",
       "      <td>42.364315</td>\n",
       "      <td>41.293831</td>\n",
       "      <td>11.588938</td>\n",
       "      <td>13.451568</td>\n",
       "      <td>7.303569</td>\n",
       "      <td>13.455926</td>\n",
       "      <td>7.303849</td>\n",
       "      <td>1374.387463</td>\n",
       "      <td>-299.997215</td>\n",
       "      <td>1203.437506</td>\n",
       "      <td>-498.854121</td>\n",
       "      <td>1102.668296</td>\n",
       "      <td>-499.152403</td>\n",
       "      <td>1013.197139</td>\n",
       "      <td>-495.605945</td>\n",
       "      <td>901.002920</td>\n",
       "      <td>-499.118846</td>\n",
       "      <td>901.934304</td>\n",
       "      <td>-496.585800</td>\n",
       "      <td>26.951218</td>\n",
       "      <td>-499.880411</td>\n",
       "      <td>24.932807</td>\n",
       "      <td>-500.096907</td>\n",
       "      <td>26.041864</td>\n",
       "      <td>-500.225008</td>\n",
       "      <td>20.985014</td>\n",
       "      <td>-499.909570</td>\n",
       "      <td>20.020657</td>\n",
       "      <td>-499.414120</td>\n",
       "      <td>15.088769</td>\n",
       "      <td>-499.376983</td>\n",
       "      <td>11.006966</td>\n",
       "      <td>-498.993014</td>\n",
       "      <td>8.217585</td>\n",
       "      <td>-500.093506</td>\n",
       "      <td>12.030446</td>\n",
       "      <td>-498.480044</td>\n",
       "    </tr>\n",
       "    <tr>\n",
       "      <td>3622</td>\n",
       "      <td>2017-10-19 02:59:59</td>\n",
       "      <td>242.037266</td>\n",
       "      <td>9.245368</td>\n",
       "      <td>6.20</td>\n",
       "      <td>2.832173</td>\n",
       "      <td>1700.558059</td>\n",
       "      <td>-499.857155</td>\n",
       "      <td>1700.260464</td>\n",
       "      <td>-502.110035</td>\n",
       "      <td>1667.001204</td>\n",
       "      <td>-499.783295</td>\n",
       "      <td>1699.518954</td>\n",
       "      <td>-501.388121</td>\n",
       "      <td>9.575193</td>\n",
       "      <td>5.639835</td>\n",
       "      <td>510.137357</td>\n",
       "      <td>53.182393</td>\n",
       "      <td>39.501122</td>\n",
       "      <td>11.216925</td>\n",
       "      <td>15.996600</td>\n",
       "      <td>7.087629</td>\n",
       "      <td>15.998891</td>\n",
       "      <td>7.055626</td>\n",
       "      <td>996.846271</td>\n",
       "      <td>-299.884565</td>\n",
       "      <td>1095.346524</td>\n",
       "      <td>-500.446657</td>\n",
       "      <td>1049.515129</td>\n",
       "      <td>-500.292864</td>\n",
       "      <td>999.304628</td>\n",
       "      <td>-500.078878</td>\n",
       "      <td>900.305557</td>\n",
       "      <td>-500.082887</td>\n",
       "      <td>899.806859</td>\n",
       "      <td>-499.546975</td>\n",
       "      <td>27.939617</td>\n",
       "      <td>-499.799023</td>\n",
       "      <td>25.989050</td>\n",
       "      <td>-499.677579</td>\n",
       "      <td>25.009976</td>\n",
       "      <td>-499.831593</td>\n",
       "      <td>23.022624</td>\n",
       "      <td>-500.155647</td>\n",
       "      <td>18.032178</td>\n",
       "      <td>-499.666317</td>\n",
       "      <td>15.970935</td>\n",
       "      <td>-399.893429</td>\n",
       "      <td>12.927787</td>\n",
       "      <td>-499.705761</td>\n",
       "      <td>9.964422</td>\n",
       "      <td>-500.137739</td>\n",
       "      <td>13.990667</td>\n",
       "      <td>-500.282263</td>\n",
       "    </tr>\n",
       "  </tbody>\n",
       "</table>\n",
       "</div>"
      ],
      "text/plain": [
       "                     date  primary_cleaner.input.sulfate  \\\n",
       "1416  2016-11-09 17:59:59                     192.866392   \n",
       "5119  2017-12-23 13:59:59                     214.187115   \n",
       "3622  2017-10-19 02:59:59                     242.037266   \n",
       "\n",
       "      primary_cleaner.input.depressant  primary_cleaner.input.feed_size  \\\n",
       "1416                          4.930660                             7.38   \n",
       "5119                         14.969463                             7.70   \n",
       "3622                          9.245368                             6.20   \n",
       "\n",
       "      primary_cleaner.input.xanthate  primary_cleaner.state.floatbank8_a_air  \\\n",
       "1416                        0.906295                             1603.874606   \n",
       "5119                        1.315769                             1601.597101   \n",
       "3622                        2.832173                             1700.558059   \n",
       "\n",
       "      primary_cleaner.state.floatbank8_a_level  \\\n",
       "1416                               -500.928371   \n",
       "5119                               -499.886454   \n",
       "3622                               -499.857155   \n",
       "\n",
       "      primary_cleaner.state.floatbank8_b_air  \\\n",
       "1416                             1600.169561   \n",
       "5119                             1600.807733   \n",
       "3622                             1700.260464   \n",
       "\n",
       "      primary_cleaner.state.floatbank8_b_level  \\\n",
       "1416                               -500.870603   \n",
       "5119                               -497.171956   \n",
       "3622                               -502.110035   \n",
       "\n",
       "      primary_cleaner.state.floatbank8_c_air  \\\n",
       "1416                             1598.993610   \n",
       "5119                             1381.343430   \n",
       "3622                             1667.001204   \n",
       "\n",
       "      primary_cleaner.state.floatbank8_c_level  \\\n",
       "1416                               -502.452359   \n",
       "5119                               -496.718358   \n",
       "3622                               -499.783295   \n",
       "\n",
       "      primary_cleaner.state.floatbank8_d_air  \\\n",
       "1416                             1600.424831   \n",
       "5119                             1602.445846   \n",
       "3622                             1699.518954   \n",
       "\n",
       "      primary_cleaner.state.floatbank8_d_level  rougher.input.feed_ag  \\\n",
       "1416                               -499.792300               8.732867   \n",
       "5119                               -499.459174              12.635195   \n",
       "3622                               -501.388121               9.575193   \n",
       "\n",
       "      rougher.input.feed_pb  rougher.input.feed_rate  rougher.input.feed_size  \\\n",
       "1416               2.678146               515.972838                50.855392   \n",
       "5119               5.327125               521.779924                42.364315   \n",
       "3622               5.639835               510.137357                53.182393   \n",
       "\n",
       "      rougher.input.feed_sol  rougher.input.feed_au  \\\n",
       "1416               41.702603               8.405598   \n",
       "5119               41.293831              11.588938   \n",
       "3622               39.501122              11.216925   \n",
       "\n",
       "      rougher.input.floatbank10_sulfate  rougher.input.floatbank10_xanthate  \\\n",
       "1416                          12.219997                            7.000649   \n",
       "5119                          13.451568                            7.303569   \n",
       "3622                          15.996600                            7.087629   \n",
       "\n",
       "      rougher.input.floatbank11_sulfate  rougher.input.floatbank11_xanthate  \\\n",
       "1416                          12.221706                            6.999331   \n",
       "5119                          13.455926                            7.303849   \n",
       "3622                          15.998891                            7.055626   \n",
       "\n",
       "      rougher.state.floatbank10_a_air  rougher.state.floatbank10_a_level  \\\n",
       "1416                       997.766582                        -350.140190   \n",
       "5119                      1374.387463                        -299.997215   \n",
       "3622                       996.846271                        -299.884565   \n",
       "\n",
       "      rougher.state.floatbank10_b_air  rougher.state.floatbank10_b_level  \\\n",
       "1416                      1596.916434                        -400.408942   \n",
       "5119                      1203.437506                        -498.854121   \n",
       "3622                      1095.346524                        -500.446657   \n",
       "\n",
       "      rougher.state.floatbank10_c_air  rougher.state.floatbank10_c_level  \\\n",
       "1416                      1598.442515                        -400.230300   \n",
       "5119                      1102.668296                        -499.152403   \n",
       "3622                      1049.515129                        -500.292864   \n",
       "\n",
       "      rougher.state.floatbank10_d_air  rougher.state.floatbank10_d_level  \\\n",
       "1416                      1512.407799                        -399.537527   \n",
       "5119                      1013.197139                        -495.605945   \n",
       "3622                       999.304628                        -500.078878   \n",
       "\n",
       "      rougher.state.floatbank10_e_air  rougher.state.floatbank10_e_level  \\\n",
       "1416                      1300.341652                        -399.892374   \n",
       "5119                       901.002920                        -499.118846   \n",
       "3622                       900.305557                        -500.082887   \n",
       "\n",
       "      rougher.state.floatbank10_f_air  rougher.state.floatbank10_f_level  \\\n",
       "1416                      1201.195980                        -401.224473   \n",
       "5119                       901.934304                        -496.585800   \n",
       "3622                       899.806859                        -499.546975   \n",
       "\n",
       "      secondary_cleaner.state.floatbank2_a_air  \\\n",
       "1416                                 25.027187   \n",
       "5119                                 26.951218   \n",
       "3622                                 27.939617   \n",
       "\n",
       "      secondary_cleaner.state.floatbank2_a_level  \\\n",
       "1416                                 -499.657137   \n",
       "5119                                 -499.880411   \n",
       "3622                                 -499.799023   \n",
       "\n",
       "      secondary_cleaner.state.floatbank2_b_air  \\\n",
       "1416                                 22.014748   \n",
       "5119                                 24.932807   \n",
       "3622                                 25.989050   \n",
       "\n",
       "      secondary_cleaner.state.floatbank2_b_level  \\\n",
       "1416                                 -500.352636   \n",
       "5119                                 -500.096907   \n",
       "3622                                 -499.677579   \n",
       "\n",
       "      secondary_cleaner.state.floatbank3_a_air  \\\n",
       "1416                                 29.953162   \n",
       "5119                                 26.041864   \n",
       "3622                                 25.009976   \n",
       "\n",
       "      secondary_cleaner.state.floatbank3_a_level  \\\n",
       "1416                                 -500.153737   \n",
       "5119                                 -500.225008   \n",
       "3622                                 -499.831593   \n",
       "\n",
       "      secondary_cleaner.state.floatbank3_b_air  \\\n",
       "1416                                 27.018282   \n",
       "5119                                 20.985014   \n",
       "3622                                 23.022624   \n",
       "\n",
       "      secondary_cleaner.state.floatbank3_b_level  \\\n",
       "1416                                 -499.846952   \n",
       "5119                                 -499.909570   \n",
       "3622                                 -500.155647   \n",
       "\n",
       "      secondary_cleaner.state.floatbank4_a_air  \\\n",
       "1416                                 15.988790   \n",
       "5119                                 20.020657   \n",
       "3622                                 18.032178   \n",
       "\n",
       "      secondary_cleaner.state.floatbank4_a_level  \\\n",
       "1416                                 -498.651845   \n",
       "5119                                 -499.414120   \n",
       "3622                                 -499.666317   \n",
       "\n",
       "      secondary_cleaner.state.floatbank4_b_air  \\\n",
       "1416                                 13.983872   \n",
       "5119                                 15.088769   \n",
       "3622                                 15.970935   \n",
       "\n",
       "      secondary_cleaner.state.floatbank4_b_level  \\\n",
       "1416                                 -500.180508   \n",
       "5119                                 -499.376983   \n",
       "3622                                 -399.893429   \n",
       "\n",
       "      secondary_cleaner.state.floatbank5_a_air  \\\n",
       "1416                                 15.702814   \n",
       "5119                                 11.006966   \n",
       "3622                                 12.927787   \n",
       "\n",
       "      secondary_cleaner.state.floatbank5_a_level  \\\n",
       "1416                                 -498.344530   \n",
       "5119                                 -498.993014   \n",
       "3622                                 -499.705761   \n",
       "\n",
       "      secondary_cleaner.state.floatbank5_b_air  \\\n",
       "1416                                 13.980823   \n",
       "5119                                  8.217585   \n",
       "3622                                  9.964422   \n",
       "\n",
       "      secondary_cleaner.state.floatbank5_b_level  \\\n",
       "1416                                 -499.562039   \n",
       "5119                                 -500.093506   \n",
       "3622                                 -500.137739   \n",
       "\n",
       "      secondary_cleaner.state.floatbank6_a_air  \\\n",
       "1416                                 21.999464   \n",
       "5119                                 12.030446   \n",
       "3622                                 13.990667   \n",
       "\n",
       "      secondary_cleaner.state.floatbank6_a_level  \n",
       "1416                                 -500.563744  \n",
       "5119                                 -498.480044  \n",
       "3622                                 -500.282263  "
      ]
     },
     "execution_count": 115,
     "metadata": {},
     "output_type": "execute_result"
    }
   ],
   "source": [
    "df_test.sample(3)"
   ]
  },
  {
   "cell_type": "code",
   "execution_count": 116,
   "metadata": {},
   "outputs": [
    {
     "data": {
      "text/html": [
       "<div>\n",
       "<style scoped>\n",
       "    .dataframe tbody tr th:only-of-type {\n",
       "        vertical-align: middle;\n",
       "    }\n",
       "\n",
       "    .dataframe tbody tr th {\n",
       "        vertical-align: top;\n",
       "    }\n",
       "\n",
       "    .dataframe thead th {\n",
       "        text-align: right;\n",
       "    }\n",
       "</style>\n",
       "<table border=\"1\" class=\"dataframe\">\n",
       "  <thead>\n",
       "    <tr style=\"text-align: right;\">\n",
       "      <th></th>\n",
       "      <th>date</th>\n",
       "      <th>final.output.concentrate_ag</th>\n",
       "      <th>final.output.concentrate_pb</th>\n",
       "      <th>final.output.concentrate_sol</th>\n",
       "      <th>final.output.concentrate_au</th>\n",
       "      <th>final.output.recovery</th>\n",
       "      <th>final.output.tail_ag</th>\n",
       "      <th>final.output.tail_pb</th>\n",
       "      <th>final.output.tail_sol</th>\n",
       "      <th>final.output.tail_au</th>\n",
       "      <th>primary_cleaner.input.sulfate</th>\n",
       "      <th>primary_cleaner.input.depressant</th>\n",
       "      <th>primary_cleaner.input.feed_size</th>\n",
       "      <th>primary_cleaner.input.xanthate</th>\n",
       "      <th>primary_cleaner.output.concentrate_ag</th>\n",
       "      <th>primary_cleaner.output.concentrate_pb</th>\n",
       "      <th>primary_cleaner.output.concentrate_sol</th>\n",
       "      <th>primary_cleaner.output.concentrate_au</th>\n",
       "      <th>primary_cleaner.output.tail_ag</th>\n",
       "      <th>primary_cleaner.output.tail_pb</th>\n",
       "      <th>primary_cleaner.output.tail_sol</th>\n",
       "      <th>primary_cleaner.output.tail_au</th>\n",
       "      <th>primary_cleaner.state.floatbank8_a_air</th>\n",
       "      <th>primary_cleaner.state.floatbank8_a_level</th>\n",
       "      <th>primary_cleaner.state.floatbank8_b_air</th>\n",
       "      <th>primary_cleaner.state.floatbank8_b_level</th>\n",
       "      <th>primary_cleaner.state.floatbank8_c_air</th>\n",
       "      <th>primary_cleaner.state.floatbank8_c_level</th>\n",
       "      <th>primary_cleaner.state.floatbank8_d_air</th>\n",
       "      <th>primary_cleaner.state.floatbank8_d_level</th>\n",
       "      <th>rougher.calculation.sulfate_to_au_concentrate</th>\n",
       "      <th>rougher.calculation.floatbank10_sulfate_to_au_feed</th>\n",
       "      <th>rougher.calculation.floatbank11_sulfate_to_au_feed</th>\n",
       "      <th>rougher.calculation.au_pb_ratio</th>\n",
       "      <th>rougher.input.feed_ag</th>\n",
       "      <th>rougher.input.feed_pb</th>\n",
       "      <th>rougher.input.feed_rate</th>\n",
       "      <th>rougher.input.feed_size</th>\n",
       "      <th>rougher.input.feed_sol</th>\n",
       "      <th>rougher.input.feed_au</th>\n",
       "      <th>rougher.input.floatbank10_sulfate</th>\n",
       "      <th>rougher.input.floatbank10_xanthate</th>\n",
       "      <th>rougher.input.floatbank11_sulfate</th>\n",
       "      <th>rougher.input.floatbank11_xanthate</th>\n",
       "      <th>rougher.output.concentrate_ag</th>\n",
       "      <th>rougher.output.concentrate_pb</th>\n",
       "      <th>rougher.output.concentrate_sol</th>\n",
       "      <th>rougher.output.concentrate_au</th>\n",
       "      <th>rougher.output.recovery</th>\n",
       "      <th>rougher.output.tail_ag</th>\n",
       "      <th>rougher.output.tail_pb</th>\n",
       "      <th>rougher.output.tail_sol</th>\n",
       "      <th>rougher.output.tail_au</th>\n",
       "      <th>rougher.state.floatbank10_a_air</th>\n",
       "      <th>rougher.state.floatbank10_a_level</th>\n",
       "      <th>rougher.state.floatbank10_b_air</th>\n",
       "      <th>rougher.state.floatbank10_b_level</th>\n",
       "      <th>rougher.state.floatbank10_c_air</th>\n",
       "      <th>rougher.state.floatbank10_c_level</th>\n",
       "      <th>rougher.state.floatbank10_d_air</th>\n",
       "      <th>rougher.state.floatbank10_d_level</th>\n",
       "      <th>rougher.state.floatbank10_e_air</th>\n",
       "      <th>rougher.state.floatbank10_e_level</th>\n",
       "      <th>rougher.state.floatbank10_f_air</th>\n",
       "      <th>rougher.state.floatbank10_f_level</th>\n",
       "      <th>secondary_cleaner.output.tail_ag</th>\n",
       "      <th>secondary_cleaner.output.tail_pb</th>\n",
       "      <th>secondary_cleaner.output.tail_sol</th>\n",
       "      <th>secondary_cleaner.output.tail_au</th>\n",
       "      <th>secondary_cleaner.state.floatbank2_a_air</th>\n",
       "      <th>secondary_cleaner.state.floatbank2_a_level</th>\n",
       "      <th>secondary_cleaner.state.floatbank2_b_air</th>\n",
       "      <th>secondary_cleaner.state.floatbank2_b_level</th>\n",
       "      <th>secondary_cleaner.state.floatbank3_a_air</th>\n",
       "      <th>secondary_cleaner.state.floatbank3_a_level</th>\n",
       "      <th>secondary_cleaner.state.floatbank3_b_air</th>\n",
       "      <th>secondary_cleaner.state.floatbank3_b_level</th>\n",
       "      <th>secondary_cleaner.state.floatbank4_a_air</th>\n",
       "      <th>secondary_cleaner.state.floatbank4_a_level</th>\n",
       "      <th>secondary_cleaner.state.floatbank4_b_air</th>\n",
       "      <th>secondary_cleaner.state.floatbank4_b_level</th>\n",
       "      <th>secondary_cleaner.state.floatbank5_a_air</th>\n",
       "      <th>secondary_cleaner.state.floatbank5_a_level</th>\n",
       "      <th>secondary_cleaner.state.floatbank5_b_air</th>\n",
       "      <th>secondary_cleaner.state.floatbank5_b_level</th>\n",
       "      <th>secondary_cleaner.state.floatbank6_a_air</th>\n",
       "      <th>secondary_cleaner.state.floatbank6_a_level</th>\n",
       "    </tr>\n",
       "  </thead>\n",
       "  <tbody>\n",
       "    <tr>\n",
       "      <td>6980</td>\n",
       "      <td>2016-12-17 19:59:59</td>\n",
       "      <td>6.216032</td>\n",
       "      <td>9.453623</td>\n",
       "      <td>13.432703</td>\n",
       "      <td>43.110024</td>\n",
       "      <td>72.504366</td>\n",
       "      <td>11.565029</td>\n",
       "      <td>3.333350</td>\n",
       "      <td>7.937782</td>\n",
       "      <td>3.198657</td>\n",
       "      <td>201.313758</td>\n",
       "      <td>10.960042</td>\n",
       "      <td>7.30</td>\n",
       "      <td>1.300091</td>\n",
       "      <td>9.827448</td>\n",
       "      <td>10.470065</td>\n",
       "      <td>12.467483</td>\n",
       "      <td>31.680749</td>\n",
       "      <td>16.861398</td>\n",
       "      <td>3.614550</td>\n",
       "      <td>9.787842</td>\n",
       "      <td>3.033033</td>\n",
       "      <td>1497.446145</td>\n",
       "      <td>-500.430756</td>\n",
       "      <td>1500.361673</td>\n",
       "      <td>-502.007586</td>\n",
       "      <td>1504.006021</td>\n",
       "      <td>-502.566052</td>\n",
       "      <td>1501.025568</td>\n",
       "      <td>-498.729334</td>\n",
       "      <td>58070.492038</td>\n",
       "      <td>3516.754955</td>\n",
       "      <td>3517.570194</td>\n",
       "      <td>2.479463</td>\n",
       "      <td>10.331809</td>\n",
       "      <td>3.924105</td>\n",
       "      <td>382.512194</td>\n",
       "      <td>42.856016</td>\n",
       "      <td>34.360963</td>\n",
       "      <td>9.729672</td>\n",
       "      <td>13.999419</td>\n",
       "      <td>6.000439</td>\n",
       "      <td>14.007342</td>\n",
       "      <td>5.998803</td>\n",
       "      <td>14.483617</td>\n",
       "      <td>7.744754</td>\n",
       "      <td>31.533319</td>\n",
       "      <td>20.531375</td>\n",
       "      <td>87.861936</td>\n",
       "      <td>6.718265</td>\n",
       "      <td>0.516335</td>\n",
       "      <td>17.690339</td>\n",
       "      <td>2.023537</td>\n",
       "      <td>1001.984370</td>\n",
       "      <td>-500.261172</td>\n",
       "      <td>1400.710037</td>\n",
       "      <td>-499.980303</td>\n",
       "      <td>1401.167486</td>\n",
       "      <td>-501.484208</td>\n",
       "      <td>1409.635280</td>\n",
       "      <td>-480.482178</td>\n",
       "      <td>1051.603834</td>\n",
       "      <td>-513.929315</td>\n",
       "      <td>950.769514</td>\n",
       "      <td>-500.052098</td>\n",
       "      <td>15.759008</td>\n",
       "      <td>3.708585</td>\n",
       "      <td>12.362864</td>\n",
       "      <td>2.580440</td>\n",
       "      <td>26.994537</td>\n",
       "      <td>-500.056145</td>\n",
       "      <td>22.914987</td>\n",
       "      <td>-500.158233</td>\n",
       "      <td>30.056782</td>\n",
       "      <td>-500.700742</td>\n",
       "      <td>27.012961</td>\n",
       "      <td>-500.102075</td>\n",
       "      <td>17.020794</td>\n",
       "      <td>-499.680216</td>\n",
       "      <td>14.935028</td>\n",
       "      <td>-495.789892</td>\n",
       "      <td>17.842793</td>\n",
       "      <td>-501.871111</td>\n",
       "      <td>11.962073</td>\n",
       "      <td>-500.268149</td>\n",
       "      <td>20.993183</td>\n",
       "      <td>-501.104705</td>\n",
       "    </tr>\n",
       "    <tr>\n",
       "      <td>6921</td>\n",
       "      <td>2016-12-15 08:59:59</td>\n",
       "      <td>4.979646</td>\n",
       "      <td>9.348924</td>\n",
       "      <td>13.081245</td>\n",
       "      <td>45.286122</td>\n",
       "      <td>75.233834</td>\n",
       "      <td>11.510651</td>\n",
       "      <td>3.167248</td>\n",
       "      <td>7.637588</td>\n",
       "      <td>2.957874</td>\n",
       "      <td>182.215534</td>\n",
       "      <td>11.933614</td>\n",
       "      <td>6.48</td>\n",
       "      <td>0.999574</td>\n",
       "      <td>9.218728</td>\n",
       "      <td>10.682527</td>\n",
       "      <td>12.219306</td>\n",
       "      <td>32.845626</td>\n",
       "      <td>17.796230</td>\n",
       "      <td>3.830138</td>\n",
       "      <td>9.656706</td>\n",
       "      <td>2.533597</td>\n",
       "      <td>1502.197605</td>\n",
       "      <td>-500.492773</td>\n",
       "      <td>1500.864182</td>\n",
       "      <td>-499.806076</td>\n",
       "      <td>1496.095108</td>\n",
       "      <td>-502.325149</td>\n",
       "      <td>1499.641073</td>\n",
       "      <td>-499.022996</td>\n",
       "      <td>50071.732702</td>\n",
       "      <td>2988.079450</td>\n",
       "      <td>2987.803814</td>\n",
       "      <td>2.580535</td>\n",
       "      <td>10.516914</td>\n",
       "      <td>3.861934</td>\n",
       "      <td>390.098189</td>\n",
       "      <td>42.359557</td>\n",
       "      <td>34.318367</td>\n",
       "      <td>9.965855</td>\n",
       "      <td>11.998695</td>\n",
       "      <td>6.102409</td>\n",
       "      <td>11.999800</td>\n",
       "      <td>6.100660</td>\n",
       "      <td>15.467039</td>\n",
       "      <td>7.993981</td>\n",
       "      <td>31.816819</td>\n",
       "      <td>20.290529</td>\n",
       "      <td>90.506852</td>\n",
       "      <td>5.904344</td>\n",
       "      <td>0.418615</td>\n",
       "      <td>16.772075</td>\n",
       "      <td>1.703199</td>\n",
       "      <td>995.860192</td>\n",
       "      <td>-500.096499</td>\n",
       "      <td>1298.073856</td>\n",
       "      <td>-499.272190</td>\n",
       "      <td>1299.472449</td>\n",
       "      <td>-499.629328</td>\n",
       "      <td>1300.088973</td>\n",
       "      <td>-498.613728</td>\n",
       "      <td>1050.076691</td>\n",
       "      <td>-500.751594</td>\n",
       "      <td>949.319340</td>\n",
       "      <td>-498.425389</td>\n",
       "      <td>17.231569</td>\n",
       "      <td>3.576546</td>\n",
       "      <td>12.546645</td>\n",
       "      <td>2.105742</td>\n",
       "      <td>27.030320</td>\n",
       "      <td>-500.268480</td>\n",
       "      <td>23.166490</td>\n",
       "      <td>-500.347395</td>\n",
       "      <td>29.997257</td>\n",
       "      <td>-500.519196</td>\n",
       "      <td>26.998110</td>\n",
       "      <td>-500.133679</td>\n",
       "      <td>17.060493</td>\n",
       "      <td>-502.169522</td>\n",
       "      <td>15.080501</td>\n",
       "      <td>-500.810808</td>\n",
       "      <td>17.428872</td>\n",
       "      <td>-500.814434</td>\n",
       "      <td>12.019592</td>\n",
       "      <td>-500.214706</td>\n",
       "      <td>21.006324</td>\n",
       "      <td>-501.888329</td>\n",
       "    </tr>\n",
       "    <tr>\n",
       "      <td>8797</td>\n",
       "      <td>2017-03-13 23:59:59</td>\n",
       "      <td>3.442696</td>\n",
       "      <td>8.968832</td>\n",
       "      <td>9.409188</td>\n",
       "      <td>49.789284</td>\n",
       "      <td>65.212388</td>\n",
       "      <td>8.676314</td>\n",
       "      <td>3.094057</td>\n",
       "      <td>11.673642</td>\n",
       "      <td>3.368350</td>\n",
       "      <td>155.203679</td>\n",
       "      <td>8.016804</td>\n",
       "      <td>7.59</td>\n",
       "      <td>0.487940</td>\n",
       "      <td>7.988257</td>\n",
       "      <td>11.265058</td>\n",
       "      <td>11.370291</td>\n",
       "      <td>35.042887</td>\n",
       "      <td>15.859391</td>\n",
       "      <td>3.716225</td>\n",
       "      <td>10.363145</td>\n",
       "      <td>4.486448</td>\n",
       "      <td>1698.056846</td>\n",
       "      <td>-500.053604</td>\n",
       "      <td>1728.939009</td>\n",
       "      <td>-499.229753</td>\n",
       "      <td>1792.808775</td>\n",
       "      <td>-496.356882</td>\n",
       "      <td>1729.635117</td>\n",
       "      <td>-501.303969</td>\n",
       "      <td>43874.477298</td>\n",
       "      <td>3013.864420</td>\n",
       "      <td>3013.579362</td>\n",
       "      <td>2.647175</td>\n",
       "      <td>8.386611</td>\n",
       "      <td>3.246052</td>\n",
       "      <td>429.619976</td>\n",
       "      <td>50.945012</td>\n",
       "      <td>38.687869</td>\n",
       "      <td>8.592867</td>\n",
       "      <td>12.998667</td>\n",
       "      <td>5.401129</td>\n",
       "      <td>12.999575</td>\n",
       "      <td>5.400971</td>\n",
       "      <td>13.354814</td>\n",
       "      <td>8.134197</td>\n",
       "      <td>33.815757</td>\n",
       "      <td>22.645937</td>\n",
       "      <td>90.031771</td>\n",
       "      <td>5.667593</td>\n",
       "      <td>0.570987</td>\n",
       "      <td>19.351380</td>\n",
       "      <td>1.301007</td>\n",
       "      <td>1300.418928</td>\n",
       "      <td>-300.232507</td>\n",
       "      <td>1599.819090</td>\n",
       "      <td>-499.818081</td>\n",
       "      <td>1600.397180</td>\n",
       "      <td>-499.760974</td>\n",
       "      <td>1505.147082</td>\n",
       "      <td>-498.274943</td>\n",
       "      <td>1200.510931</td>\n",
       "      <td>-499.980337</td>\n",
       "      <td>1199.401017</td>\n",
       "      <td>-498.105668</td>\n",
       "      <td>13.078466</td>\n",
       "      <td>6.338475</td>\n",
       "      <td>8.259935</td>\n",
       "      <td>8.474906</td>\n",
       "      <td>31.922212</td>\n",
       "      <td>-500.159442</td>\n",
       "      <td>32.065030</td>\n",
       "      <td>-499.879775</td>\n",
       "      <td>34.971660</td>\n",
       "      <td>-399.992279</td>\n",
       "      <td>27.993051</td>\n",
       "      <td>-500.044580</td>\n",
       "      <td>25.021890</td>\n",
       "      <td>-400.143282</td>\n",
       "      <td>23.004882</td>\n",
       "      <td>-400.276121</td>\n",
       "      <td>21.856302</td>\n",
       "      <td>-449.236096</td>\n",
       "      <td>19.999325</td>\n",
       "      <td>-449.693034</td>\n",
       "      <td>24.995990</td>\n",
       "      <td>-499.056891</td>\n",
       "    </tr>\n",
       "  </tbody>\n",
       "</table>\n",
       "</div>"
      ],
      "text/plain": [
       "                     date  final.output.concentrate_ag  \\\n",
       "6980  2016-12-17 19:59:59                     6.216032   \n",
       "6921  2016-12-15 08:59:59                     4.979646   \n",
       "8797  2017-03-13 23:59:59                     3.442696   \n",
       "\n",
       "      final.output.concentrate_pb  final.output.concentrate_sol  \\\n",
       "6980                     9.453623                     13.432703   \n",
       "6921                     9.348924                     13.081245   \n",
       "8797                     8.968832                      9.409188   \n",
       "\n",
       "      final.output.concentrate_au  final.output.recovery  \\\n",
       "6980                    43.110024              72.504366   \n",
       "6921                    45.286122              75.233834   \n",
       "8797                    49.789284              65.212388   \n",
       "\n",
       "      final.output.tail_ag  final.output.tail_pb  final.output.tail_sol  \\\n",
       "6980             11.565029              3.333350               7.937782   \n",
       "6921             11.510651              3.167248               7.637588   \n",
       "8797              8.676314              3.094057              11.673642   \n",
       "\n",
       "      final.output.tail_au  primary_cleaner.input.sulfate  \\\n",
       "6980              3.198657                     201.313758   \n",
       "6921              2.957874                     182.215534   \n",
       "8797              3.368350                     155.203679   \n",
       "\n",
       "      primary_cleaner.input.depressant  primary_cleaner.input.feed_size  \\\n",
       "6980                         10.960042                             7.30   \n",
       "6921                         11.933614                             6.48   \n",
       "8797                          8.016804                             7.59   \n",
       "\n",
       "      primary_cleaner.input.xanthate  primary_cleaner.output.concentrate_ag  \\\n",
       "6980                        1.300091                               9.827448   \n",
       "6921                        0.999574                               9.218728   \n",
       "8797                        0.487940                               7.988257   \n",
       "\n",
       "      primary_cleaner.output.concentrate_pb  \\\n",
       "6980                              10.470065   \n",
       "6921                              10.682527   \n",
       "8797                              11.265058   \n",
       "\n",
       "      primary_cleaner.output.concentrate_sol  \\\n",
       "6980                               12.467483   \n",
       "6921                               12.219306   \n",
       "8797                               11.370291   \n",
       "\n",
       "      primary_cleaner.output.concentrate_au  primary_cleaner.output.tail_ag  \\\n",
       "6980                              31.680749                       16.861398   \n",
       "6921                              32.845626                       17.796230   \n",
       "8797                              35.042887                       15.859391   \n",
       "\n",
       "      primary_cleaner.output.tail_pb  primary_cleaner.output.tail_sol  \\\n",
       "6980                        3.614550                         9.787842   \n",
       "6921                        3.830138                         9.656706   \n",
       "8797                        3.716225                        10.363145   \n",
       "\n",
       "      primary_cleaner.output.tail_au  primary_cleaner.state.floatbank8_a_air  \\\n",
       "6980                        3.033033                             1497.446145   \n",
       "6921                        2.533597                             1502.197605   \n",
       "8797                        4.486448                             1698.056846   \n",
       "\n",
       "      primary_cleaner.state.floatbank8_a_level  \\\n",
       "6980                               -500.430756   \n",
       "6921                               -500.492773   \n",
       "8797                               -500.053604   \n",
       "\n",
       "      primary_cleaner.state.floatbank8_b_air  \\\n",
       "6980                             1500.361673   \n",
       "6921                             1500.864182   \n",
       "8797                             1728.939009   \n",
       "\n",
       "      primary_cleaner.state.floatbank8_b_level  \\\n",
       "6980                               -502.007586   \n",
       "6921                               -499.806076   \n",
       "8797                               -499.229753   \n",
       "\n",
       "      primary_cleaner.state.floatbank8_c_air  \\\n",
       "6980                             1504.006021   \n",
       "6921                             1496.095108   \n",
       "8797                             1792.808775   \n",
       "\n",
       "      primary_cleaner.state.floatbank8_c_level  \\\n",
       "6980                               -502.566052   \n",
       "6921                               -502.325149   \n",
       "8797                               -496.356882   \n",
       "\n",
       "      primary_cleaner.state.floatbank8_d_air  \\\n",
       "6980                             1501.025568   \n",
       "6921                             1499.641073   \n",
       "8797                             1729.635117   \n",
       "\n",
       "      primary_cleaner.state.floatbank8_d_level  \\\n",
       "6980                               -498.729334   \n",
       "6921                               -499.022996   \n",
       "8797                               -501.303969   \n",
       "\n",
       "      rougher.calculation.sulfate_to_au_concentrate  \\\n",
       "6980                                   58070.492038   \n",
       "6921                                   50071.732702   \n",
       "8797                                   43874.477298   \n",
       "\n",
       "      rougher.calculation.floatbank10_sulfate_to_au_feed  \\\n",
       "6980                                        3516.754955    \n",
       "6921                                        2988.079450    \n",
       "8797                                        3013.864420    \n",
       "\n",
       "      rougher.calculation.floatbank11_sulfate_to_au_feed  \\\n",
       "6980                                        3517.570194    \n",
       "6921                                        2987.803814    \n",
       "8797                                        3013.579362    \n",
       "\n",
       "      rougher.calculation.au_pb_ratio  rougher.input.feed_ag  \\\n",
       "6980                         2.479463              10.331809   \n",
       "6921                         2.580535              10.516914   \n",
       "8797                         2.647175               8.386611   \n",
       "\n",
       "      rougher.input.feed_pb  rougher.input.feed_rate  rougher.input.feed_size  \\\n",
       "6980               3.924105               382.512194                42.856016   \n",
       "6921               3.861934               390.098189                42.359557   \n",
       "8797               3.246052               429.619976                50.945012   \n",
       "\n",
       "      rougher.input.feed_sol  rougher.input.feed_au  \\\n",
       "6980               34.360963               9.729672   \n",
       "6921               34.318367               9.965855   \n",
       "8797               38.687869               8.592867   \n",
       "\n",
       "      rougher.input.floatbank10_sulfate  rougher.input.floatbank10_xanthate  \\\n",
       "6980                          13.999419                            6.000439   \n",
       "6921                          11.998695                            6.102409   \n",
       "8797                          12.998667                            5.401129   \n",
       "\n",
       "      rougher.input.floatbank11_sulfate  rougher.input.floatbank11_xanthate  \\\n",
       "6980                          14.007342                            5.998803   \n",
       "6921                          11.999800                            6.100660   \n",
       "8797                          12.999575                            5.400971   \n",
       "\n",
       "      rougher.output.concentrate_ag  rougher.output.concentrate_pb  \\\n",
       "6980                      14.483617                       7.744754   \n",
       "6921                      15.467039                       7.993981   \n",
       "8797                      13.354814                       8.134197   \n",
       "\n",
       "      rougher.output.concentrate_sol  rougher.output.concentrate_au  \\\n",
       "6980                       31.533319                      20.531375   \n",
       "6921                       31.816819                      20.290529   \n",
       "8797                       33.815757                      22.645937   \n",
       "\n",
       "      rougher.output.recovery  rougher.output.tail_ag  rougher.output.tail_pb  \\\n",
       "6980                87.861936                6.718265                0.516335   \n",
       "6921                90.506852                5.904344                0.418615   \n",
       "8797                90.031771                5.667593                0.570987   \n",
       "\n",
       "      rougher.output.tail_sol  rougher.output.tail_au  \\\n",
       "6980                17.690339                2.023537   \n",
       "6921                16.772075                1.703199   \n",
       "8797                19.351380                1.301007   \n",
       "\n",
       "      rougher.state.floatbank10_a_air  rougher.state.floatbank10_a_level  \\\n",
       "6980                      1001.984370                        -500.261172   \n",
       "6921                       995.860192                        -500.096499   \n",
       "8797                      1300.418928                        -300.232507   \n",
       "\n",
       "      rougher.state.floatbank10_b_air  rougher.state.floatbank10_b_level  \\\n",
       "6980                      1400.710037                        -499.980303   \n",
       "6921                      1298.073856                        -499.272190   \n",
       "8797                      1599.819090                        -499.818081   \n",
       "\n",
       "      rougher.state.floatbank10_c_air  rougher.state.floatbank10_c_level  \\\n",
       "6980                      1401.167486                        -501.484208   \n",
       "6921                      1299.472449                        -499.629328   \n",
       "8797                      1600.397180                        -499.760974   \n",
       "\n",
       "      rougher.state.floatbank10_d_air  rougher.state.floatbank10_d_level  \\\n",
       "6980                      1409.635280                        -480.482178   \n",
       "6921                      1300.088973                        -498.613728   \n",
       "8797                      1505.147082                        -498.274943   \n",
       "\n",
       "      rougher.state.floatbank10_e_air  rougher.state.floatbank10_e_level  \\\n",
       "6980                      1051.603834                        -513.929315   \n",
       "6921                      1050.076691                        -500.751594   \n",
       "8797                      1200.510931                        -499.980337   \n",
       "\n",
       "      rougher.state.floatbank10_f_air  rougher.state.floatbank10_f_level  \\\n",
       "6980                       950.769514                        -500.052098   \n",
       "6921                       949.319340                        -498.425389   \n",
       "8797                      1199.401017                        -498.105668   \n",
       "\n",
       "      secondary_cleaner.output.tail_ag  secondary_cleaner.output.tail_pb  \\\n",
       "6980                         15.759008                          3.708585   \n",
       "6921                         17.231569                          3.576546   \n",
       "8797                         13.078466                          6.338475   \n",
       "\n",
       "      secondary_cleaner.output.tail_sol  secondary_cleaner.output.tail_au  \\\n",
       "6980                          12.362864                          2.580440   \n",
       "6921                          12.546645                          2.105742   \n",
       "8797                           8.259935                          8.474906   \n",
       "\n",
       "      secondary_cleaner.state.floatbank2_a_air  \\\n",
       "6980                                 26.994537   \n",
       "6921                                 27.030320   \n",
       "8797                                 31.922212   \n",
       "\n",
       "      secondary_cleaner.state.floatbank2_a_level  \\\n",
       "6980                                 -500.056145   \n",
       "6921                                 -500.268480   \n",
       "8797                                 -500.159442   \n",
       "\n",
       "      secondary_cleaner.state.floatbank2_b_air  \\\n",
       "6980                                 22.914987   \n",
       "6921                                 23.166490   \n",
       "8797                                 32.065030   \n",
       "\n",
       "      secondary_cleaner.state.floatbank2_b_level  \\\n",
       "6980                                 -500.158233   \n",
       "6921                                 -500.347395   \n",
       "8797                                 -499.879775   \n",
       "\n",
       "      secondary_cleaner.state.floatbank3_a_air  \\\n",
       "6980                                 30.056782   \n",
       "6921                                 29.997257   \n",
       "8797                                 34.971660   \n",
       "\n",
       "      secondary_cleaner.state.floatbank3_a_level  \\\n",
       "6980                                 -500.700742   \n",
       "6921                                 -500.519196   \n",
       "8797                                 -399.992279   \n",
       "\n",
       "      secondary_cleaner.state.floatbank3_b_air  \\\n",
       "6980                                 27.012961   \n",
       "6921                                 26.998110   \n",
       "8797                                 27.993051   \n",
       "\n",
       "      secondary_cleaner.state.floatbank3_b_level  \\\n",
       "6980                                 -500.102075   \n",
       "6921                                 -500.133679   \n",
       "8797                                 -500.044580   \n",
       "\n",
       "      secondary_cleaner.state.floatbank4_a_air  \\\n",
       "6980                                 17.020794   \n",
       "6921                                 17.060493   \n",
       "8797                                 25.021890   \n",
       "\n",
       "      secondary_cleaner.state.floatbank4_a_level  \\\n",
       "6980                                 -499.680216   \n",
       "6921                                 -502.169522   \n",
       "8797                                 -400.143282   \n",
       "\n",
       "      secondary_cleaner.state.floatbank4_b_air  \\\n",
       "6980                                 14.935028   \n",
       "6921                                 15.080501   \n",
       "8797                                 23.004882   \n",
       "\n",
       "      secondary_cleaner.state.floatbank4_b_level  \\\n",
       "6980                                 -495.789892   \n",
       "6921                                 -500.810808   \n",
       "8797                                 -400.276121   \n",
       "\n",
       "      secondary_cleaner.state.floatbank5_a_air  \\\n",
       "6980                                 17.842793   \n",
       "6921                                 17.428872   \n",
       "8797                                 21.856302   \n",
       "\n",
       "      secondary_cleaner.state.floatbank5_a_level  \\\n",
       "6980                                 -501.871111   \n",
       "6921                                 -500.814434   \n",
       "8797                                 -449.236096   \n",
       "\n",
       "      secondary_cleaner.state.floatbank5_b_air  \\\n",
       "6980                                 11.962073   \n",
       "6921                                 12.019592   \n",
       "8797                                 19.999325   \n",
       "\n",
       "      secondary_cleaner.state.floatbank5_b_level  \\\n",
       "6980                                 -500.268149   \n",
       "6921                                 -500.214706   \n",
       "8797                                 -449.693034   \n",
       "\n",
       "      secondary_cleaner.state.floatbank6_a_air  \\\n",
       "6980                                 20.993183   \n",
       "6921                                 21.006324   \n",
       "8797                                 24.995990   \n",
       "\n",
       "      secondary_cleaner.state.floatbank6_a_level  \n",
       "6980                                 -501.104705  \n",
       "6921                                 -501.888329  \n",
       "8797                                 -499.056891  "
      ]
     },
     "execution_count": 116,
     "metadata": {},
     "output_type": "execute_result"
    }
   ],
   "source": [
    "df_full.sample(3)"
   ]
  },
  {
   "cell_type": "markdown",
   "metadata": {},
   "source": [
    "Видим наличие пропусков в различных колонках датафреймов  \n",
    "Заменим пропущенные в каждой колонке значения на медиану в этой колонке"
   ]
  },
  {
   "cell_type": "code",
   "execution_count": 117,
   "metadata": {},
   "outputs": [],
   "source": [
    "df_train = df_train.fillna(method='ffill')\n",
    "df_test = df_test.fillna(method='ffill')\n",
    "df_full = df_full.fillna(method='ffill')"
   ]
  },
  {
   "cell_type": "markdown",
   "metadata": {},
   "source": [
    "Создадим функцию для проверки правильности вычисления эффективности обогащения"
   ]
  },
  {
   "cell_type": "code",
   "execution_count": 118,
   "metadata": {},
   "outputs": [],
   "source": [
    "def check_recovery(row):\n",
    "    value = row['rougher.output.concentrate_au'] * (row['rougher.input.feed_au'] - row['rougher.output.tail_au']) / (row['rougher.input.feed_au'] * (row['rougher.output.concentrate_au'] - row['rougher.output.tail_au'])) * 100\n",
    "    return value"
   ]
  },
  {
   "cell_type": "code",
   "execution_count": 119,
   "metadata": {},
   "outputs": [],
   "source": [
    "df_train['rougher.output.recovery.check'] = df_train.apply(check_recovery, axis=1)"
   ]
  },
  {
   "cell_type": "markdown",
   "metadata": {},
   "source": [
    "Посчитаем метрику MAE для найденных значений и значений признака"
   ]
  },
  {
   "cell_type": "code",
   "execution_count": 120,
   "metadata": {},
   "outputs": [
    {
     "name": "stdout",
     "output_type": "stream",
     "text": [
      "9.682896147825551e-15\n"
     ]
    }
   ],
   "source": [
    "print(mean_absolute_error(df_train['rougher.output.recovery'], df_train['rougher.output.recovery.check']))\n",
    "df_train.drop(['rougher.output.recovery.check'], axis=1, inplace=True)"
   ]
  },
  {
   "cell_type": "markdown",
   "metadata": {},
   "source": [
    "Видим, что значение метрики очень близко к нулю. Можно сделать вывод, что значение признака рассчитано верно"
   ]
  },
  {
   "cell_type": "markdown",
   "metadata": {},
   "source": [
    "Проанализируем признаки, которых нет в тестовой выборке"
   ]
  },
  {
   "cell_type": "code",
   "execution_count": 121,
   "metadata": {},
   "outputs": [
    {
     "data": {
      "text/html": [
       "<div>\n",
       "<style scoped>\n",
       "    .dataframe tbody tr th:only-of-type {\n",
       "        vertical-align: middle;\n",
       "    }\n",
       "\n",
       "    .dataframe tbody tr th {\n",
       "        vertical-align: top;\n",
       "    }\n",
       "\n",
       "    .dataframe thead th {\n",
       "        text-align: right;\n",
       "    }\n",
       "</style>\n",
       "<table border=\"1\" class=\"dataframe\">\n",
       "  <thead>\n",
       "    <tr style=\"text-align: right;\">\n",
       "      <th></th>\n",
       "      <th>final.output.concentrate_ag</th>\n",
       "      <th>final.output.concentrate_pb</th>\n",
       "      <th>final.output.concentrate_sol</th>\n",
       "      <th>final.output.concentrate_au</th>\n",
       "      <th>final.output.recovery</th>\n",
       "      <th>final.output.tail_ag</th>\n",
       "      <th>final.output.tail_pb</th>\n",
       "      <th>final.output.tail_sol</th>\n",
       "      <th>final.output.tail_au</th>\n",
       "      <th>primary_cleaner.output.concentrate_ag</th>\n",
       "      <th>primary_cleaner.output.concentrate_pb</th>\n",
       "      <th>primary_cleaner.output.concentrate_sol</th>\n",
       "      <th>primary_cleaner.output.concentrate_au</th>\n",
       "      <th>primary_cleaner.output.tail_ag</th>\n",
       "      <th>primary_cleaner.output.tail_pb</th>\n",
       "      <th>primary_cleaner.output.tail_sol</th>\n",
       "      <th>primary_cleaner.output.tail_au</th>\n",
       "      <th>rougher.calculation.sulfate_to_au_concentrate</th>\n",
       "      <th>rougher.calculation.floatbank10_sulfate_to_au_feed</th>\n",
       "      <th>rougher.calculation.floatbank11_sulfate_to_au_feed</th>\n",
       "      <th>rougher.calculation.au_pb_ratio</th>\n",
       "      <th>rougher.output.concentrate_ag</th>\n",
       "      <th>rougher.output.concentrate_pb</th>\n",
       "      <th>rougher.output.concentrate_sol</th>\n",
       "      <th>rougher.output.concentrate_au</th>\n",
       "      <th>rougher.output.recovery</th>\n",
       "      <th>rougher.output.tail_ag</th>\n",
       "      <th>rougher.output.tail_pb</th>\n",
       "      <th>rougher.output.tail_sol</th>\n",
       "      <th>rougher.output.tail_au</th>\n",
       "      <th>secondary_cleaner.output.tail_ag</th>\n",
       "      <th>secondary_cleaner.output.tail_pb</th>\n",
       "      <th>secondary_cleaner.output.tail_sol</th>\n",
       "      <th>secondary_cleaner.output.tail_au</th>\n",
       "    </tr>\n",
       "  </thead>\n",
       "  <tbody>\n",
       "    <tr>\n",
       "      <td>1980</td>\n",
       "      <td>10.277428</td>\n",
       "      <td>10.105178</td>\n",
       "      <td>12.005653</td>\n",
       "      <td>36.959431</td>\n",
       "      <td>64.455860</td>\n",
       "      <td>13.814040</td>\n",
       "      <td>4.004709</td>\n",
       "      <td>7.572289</td>\n",
       "      <td>6.022856</td>\n",
       "      <td>11.900652</td>\n",
       "      <td>6.649571</td>\n",
       "      <td>14.933931</td>\n",
       "      <td>29.331784</td>\n",
       "      <td>19.114129</td>\n",
       "      <td>4.529604</td>\n",
       "      <td>6.168855</td>\n",
       "      <td>6.416355</td>\n",
       "      <td>60031.143821</td>\n",
       "      <td>2605.133843</td>\n",
       "      <td>2606.973964</td>\n",
       "      <td>2.420146</td>\n",
       "      <td>15.795185</td>\n",
       "      <td>8.331598</td>\n",
       "      <td>35.247806</td>\n",
       "      <td>24.113989</td>\n",
       "      <td>86.068536</td>\n",
       "      <td>7.359756</td>\n",
       "      <td>0.037015</td>\n",
       "      <td>65.617188</td>\n",
       "      <td>3.417701</td>\n",
       "      <td>17.547423</td>\n",
       "      <td>5.306375</td>\n",
       "      <td>9.029098</td>\n",
       "      <td>5.379372</td>\n",
       "    </tr>\n",
       "    <tr>\n",
       "      <td>483</td>\n",
       "      <td>4.714926</td>\n",
       "      <td>10.184591</td>\n",
       "      <td>3.681932</td>\n",
       "      <td>44.993736</td>\n",
       "      <td>67.490626</td>\n",
       "      <td>10.746677</td>\n",
       "      <td>1.336641</td>\n",
       "      <td>16.370530</td>\n",
       "      <td>2.083089</td>\n",
       "      <td>7.440257</td>\n",
       "      <td>9.077696</td>\n",
       "      <td>14.583495</td>\n",
       "      <td>38.535217</td>\n",
       "      <td>15.244567</td>\n",
       "      <td>2.765577</td>\n",
       "      <td>7.688744</td>\n",
       "      <td>2.201790</td>\n",
       "      <td>41991.284817</td>\n",
       "      <td>3099.319745</td>\n",
       "      <td>3103.710197</td>\n",
       "      <td>2.776426</td>\n",
       "      <td>12.061119</td>\n",
       "      <td>7.502499</td>\n",
       "      <td>27.900926</td>\n",
       "      <td>18.850979</td>\n",
       "      <td>77.554253</td>\n",
       "      <td>4.748104</td>\n",
       "      <td>0.657579</td>\n",
       "      <td>19.956207</td>\n",
       "      <td>1.727625</td>\n",
       "      <td>13.442444</td>\n",
       "      <td>5.044598</td>\n",
       "      <td>10.616266</td>\n",
       "      <td>2.902355</td>\n",
       "    </tr>\n",
       "    <tr>\n",
       "      <td>11232</td>\n",
       "      <td>4.235709</td>\n",
       "      <td>11.785050</td>\n",
       "      <td>8.165633</td>\n",
       "      <td>45.855660</td>\n",
       "      <td>69.644892</td>\n",
       "      <td>9.379394</td>\n",
       "      <td>2.512065</td>\n",
       "      <td>7.752680</td>\n",
       "      <td>2.648996</td>\n",
       "      <td>6.483117</td>\n",
       "      <td>12.193054</td>\n",
       "      <td>7.638422</td>\n",
       "      <td>35.497694</td>\n",
       "      <td>20.102049</td>\n",
       "      <td>4.831343</td>\n",
       "      <td>5.036610</td>\n",
       "      <td>3.098467</td>\n",
       "      <td>37920.045985</td>\n",
       "      <td>2512.435246</td>\n",
       "      <td>2512.308194</td>\n",
       "      <td>1.874474</td>\n",
       "      <td>9.903325</td>\n",
       "      <td>8.694992</td>\n",
       "      <td>27.903104</td>\n",
       "      <td>19.667117</td>\n",
       "      <td>87.981827</td>\n",
       "      <td>4.676098</td>\n",
       "      <td>0.837927</td>\n",
       "      <td>16.198284</td>\n",
       "      <td>1.413182</td>\n",
       "      <td>16.730183</td>\n",
       "      <td>10.392563</td>\n",
       "      <td>0.419274</td>\n",
       "      <td>4.903454</td>\n",
       "    </tr>\n",
       "  </tbody>\n",
       "</table>\n",
       "</div>"
      ],
      "text/plain": [
       "       final.output.concentrate_ag  final.output.concentrate_pb  \\\n",
       "1980                     10.277428                    10.105178   \n",
       "483                       4.714926                    10.184591   \n",
       "11232                     4.235709                    11.785050   \n",
       "\n",
       "       final.output.concentrate_sol  final.output.concentrate_au  \\\n",
       "1980                      12.005653                    36.959431   \n",
       "483                        3.681932                    44.993736   \n",
       "11232                      8.165633                    45.855660   \n",
       "\n",
       "       final.output.recovery  final.output.tail_ag  final.output.tail_pb  \\\n",
       "1980               64.455860             13.814040              4.004709   \n",
       "483                67.490626             10.746677              1.336641   \n",
       "11232              69.644892              9.379394              2.512065   \n",
       "\n",
       "       final.output.tail_sol  final.output.tail_au  \\\n",
       "1980                7.572289              6.022856   \n",
       "483                16.370530              2.083089   \n",
       "11232               7.752680              2.648996   \n",
       "\n",
       "       primary_cleaner.output.concentrate_ag  \\\n",
       "1980                               11.900652   \n",
       "483                                 7.440257   \n",
       "11232                               6.483117   \n",
       "\n",
       "       primary_cleaner.output.concentrate_pb  \\\n",
       "1980                                6.649571   \n",
       "483                                 9.077696   \n",
       "11232                              12.193054   \n",
       "\n",
       "       primary_cleaner.output.concentrate_sol  \\\n",
       "1980                                14.933931   \n",
       "483                                 14.583495   \n",
       "11232                                7.638422   \n",
       "\n",
       "       primary_cleaner.output.concentrate_au  primary_cleaner.output.tail_ag  \\\n",
       "1980                               29.331784                       19.114129   \n",
       "483                                38.535217                       15.244567   \n",
       "11232                              35.497694                       20.102049   \n",
       "\n",
       "       primary_cleaner.output.tail_pb  primary_cleaner.output.tail_sol  \\\n",
       "1980                         4.529604                         6.168855   \n",
       "483                          2.765577                         7.688744   \n",
       "11232                        4.831343                         5.036610   \n",
       "\n",
       "       primary_cleaner.output.tail_au  \\\n",
       "1980                         6.416355   \n",
       "483                          2.201790   \n",
       "11232                        3.098467   \n",
       "\n",
       "       rougher.calculation.sulfate_to_au_concentrate  \\\n",
       "1980                                    60031.143821   \n",
       "483                                     41991.284817   \n",
       "11232                                   37920.045985   \n",
       "\n",
       "       rougher.calculation.floatbank10_sulfate_to_au_feed  \\\n",
       "1980                                         2605.133843    \n",
       "483                                          3099.319745    \n",
       "11232                                        2512.435246    \n",
       "\n",
       "       rougher.calculation.floatbank11_sulfate_to_au_feed  \\\n",
       "1980                                         2606.973964    \n",
       "483                                          3103.710197    \n",
       "11232                                        2512.308194    \n",
       "\n",
       "       rougher.calculation.au_pb_ratio  rougher.output.concentrate_ag  \\\n",
       "1980                          2.420146                      15.795185   \n",
       "483                           2.776426                      12.061119   \n",
       "11232                         1.874474                       9.903325   \n",
       "\n",
       "       rougher.output.concentrate_pb  rougher.output.concentrate_sol  \\\n",
       "1980                        8.331598                       35.247806   \n",
       "483                         7.502499                       27.900926   \n",
       "11232                       8.694992                       27.903104   \n",
       "\n",
       "       rougher.output.concentrate_au  rougher.output.recovery  \\\n",
       "1980                       24.113989                86.068536   \n",
       "483                        18.850979                77.554253   \n",
       "11232                      19.667117                87.981827   \n",
       "\n",
       "       rougher.output.tail_ag  rougher.output.tail_pb  \\\n",
       "1980                 7.359756                0.037015   \n",
       "483                  4.748104                0.657579   \n",
       "11232                4.676098                0.837927   \n",
       "\n",
       "       rougher.output.tail_sol  rougher.output.tail_au  \\\n",
       "1980                 65.617188                3.417701   \n",
       "483                  19.956207                1.727625   \n",
       "11232                16.198284                1.413182   \n",
       "\n",
       "       secondary_cleaner.output.tail_ag  secondary_cleaner.output.tail_pb  \\\n",
       "1980                          17.547423                          5.306375   \n",
       "483                           13.442444                          5.044598   \n",
       "11232                         16.730183                         10.392563   \n",
       "\n",
       "       secondary_cleaner.output.tail_sol  secondary_cleaner.output.tail_au  \n",
       "1980                            9.029098                          5.379372  \n",
       "483                            10.616266                          2.902355  \n",
       "11232                           0.419274                          4.903454  "
      ]
     },
     "execution_count": 121,
     "metadata": {},
     "output_type": "execute_result"
    }
   ],
   "source": [
    "columns = df_test.columns\n",
    "features = df_train[df_train.columns[~df_train.columns.isin(columns)]]\n",
    "features.sample(3)"
   ]
  },
  {
   "cell_type": "markdown",
   "metadata": {},
   "source": [
    "Все признаки, отсутствующие в тестовой выборке представляют собой данные о концентрации различных веществ на следующих этапах:\n",
    " * Концентрация веществ в финальном продукте\n",
    " * Содержание веществ в отвальных хвостах на финальной стадии\n",
    " * Концентрация веществ в продукте после первичной очистки \n",
    " * Расчетные характеристики соотношения концентраций для стадии флотации\n",
    " * Концентрация веществ после флотации\n",
    " * Содержание веществ в отвальных хвостах после флотации\n",
    " * Размеры исходного сырья подаваемого на флотационные установки\n",
    " * Значение целевого признака final.output.recovery"
   ]
  },
  {
   "cell_type": "markdown",
   "metadata": {},
   "source": [
    "## Анализ данных"
   ]
  },
  {
   "cell_type": "markdown",
   "metadata": {},
   "source": [
    "Посмотрим на полном наборе данных как меняется концентрация металлов (Au, Ag, Pb) на различных этапах очистки\n",
    "\n",
    "Начнем с золота (Au)"
   ]
  },
  {
   "cell_type": "code",
   "execution_count": 122,
   "metadata": {},
   "outputs": [
    {
     "data": {
      "image/png": "[encoded data removed]",
      "text/plain": [
       "<Figure size 1080x720 with 1 Axes>"
      ]
     },
     "metadata": {},
     "output_type": "display_data"
    }
   ],
   "source": [
    "sns.distplot(a=df_full['rougher.output.concentrate_au'], color=\"skyblue\", label=\"Rougher\", kde=True)\n",
    "sns.distplot(a=df_full['primary_cleaner.output.concentrate_au'], color=\"red\", label=\"Primary cleaner\", kde=True)\n",
    "sns.distplot(a=df_full['final.output.concentrate_au'], color=\"green\", label=\"Final\", kde=True)\n",
    "plt.title('Концентрация золота на всех стадиях технологического процесса')\n",
    "plt.legend()\n",
    "plt.show()"
   ]
  },
  {
   "cell_type": "markdown",
   "metadata": {},
   "source": [
    "Видим что с каждым этапом обработки концентрация золота увеличивается"
   ]
  },
  {
   "cell_type": "code",
   "execution_count": 123,
   "metadata": {},
   "outputs": [
    {
     "data": {
      "image/png": "[encoded data removed]",
      "text/plain": [
       "<Figure size 1080x720 with 1 Axes>"
      ]
     },
     "metadata": {},
     "output_type": "display_data"
    }
   ],
   "source": [
    "sns.distplot(a=df_full['rougher.output.concentrate_ag'], color=\"skyblue\", label=\"Rougher\", kde=True)\n",
    "sns.distplot(a=df_full['primary_cleaner.output.concentrate_ag'], color=\"red\", label=\"Primary cleaner\", kde=True)\n",
    "sns.distplot(a=df_full['final.output.concentrate_ag'], color=\"green\", label=\"Final\", kde=True)\n",
    "plt.title('Концентрация серебра на всех стадиях технологического процесса')\n",
    "plt.legend()\n",
    "plt.show()"
   ]
  },
  {
   "cell_type": "markdown",
   "metadata": {},
   "source": [
    "Видим что с каждым этапом обработки концентрация серебра уменьшается"
   ]
  },
  {
   "cell_type": "code",
   "execution_count": 124,
   "metadata": {},
   "outputs": [
    {
     "data": {
      "image/png": "[encoded data removed]",
      "text/plain": [
       "<Figure size 1080x720 with 1 Axes>"
      ]
     },
     "metadata": {},
     "output_type": "display_data"
    }
   ],
   "source": [
    "sns.distplot(a=df_full['rougher.output.concentrate_pb'], color=\"skyblue\", label=\"Rougher\", kde=True)\n",
    "sns.distplot(a=df_full['primary_cleaner.output.concentrate_pb'], color=\"red\", label=\"Primary cleaner\", kde=True)\n",
    "sns.distplot(a=df_full['final.output.concentrate_pb'], color=\"green\", label=\"Final\", kde=True)\n",
    "plt.title('Концентрация свинца на всех стадиях технологического процесса')\n",
    "plt.legend()\n",
    "plt.show()"
   ]
  },
  {
   "cell_type": "markdown",
   "metadata": {},
   "source": [
    "Видим что после флотации концентрация свинца уменьшается, а после очистки изменяется не очень сильно"
   ]
  },
  {
   "cell_type": "markdown",
   "metadata": {},
   "source": [
    "Сравним распределения размеров гранул сырья на обучающей и тестовой выборках"
   ]
  },
  {
   "cell_type": "code",
   "execution_count": 125,
   "metadata": {},
   "outputs": [
    {
     "data": {
      "image/png": "[encoded data removed]",
      "text/plain": [
       "<Figure size 1080x720 with 1 Axes>"
      ]
     },
     "metadata": {},
     "output_type": "display_data"
    },
    {
     "name": "stdout",
     "output_type": "stream",
     "text": [
      "Обучающая выборка:\n",
      " Mean: 60.23985599255732 \n",
      " Median: 55.269783890501536 \n",
      "\n",
      "Тестовая выборка:\n",
      " Mean: 55.95275402889513 \n",
      " Median: 50.8468431600362\n"
     ]
    }
   ],
   "source": [
    "sns.distplot(a=df_train['rougher.input.feed_size'], color='skyblue', label='Train set', kde=True)\n",
    "sns.distplot(a=df_test['rougher.input.feed_size'], color='red', label='Test set', kde=True)\n",
    "plt.title('Распределение размеров гранул перед флотацией на обучающей и тестовой выборках')\n",
    "plt.legend()\n",
    "plt.show()\n",
    "print('Обучающая выборка:\\n', 'Mean:', df_train['rougher.input.feed_size'].mean(), '\\n', 'Median:', df_train['rougher.input.feed_size'].median(), '\\n')\n",
    "print('Тестовая выборка:\\n', 'Mean:', df_test['rougher.input.feed_size'].mean(), '\\n', 'Median:', df_test['rougher.input.feed_size'].median())"
   ]
  },
  {
   "cell_type": "markdown",
   "metadata": {},
   "source": [
    "Распределения размеров гранул сырья похожи по форме"
   ]
  },
  {
   "cell_type": "code",
   "execution_count": 126,
   "metadata": {},
   "outputs": [
    {
     "data": {
      "image/png": "[encoded data removed]",
      "text/plain": [
       "<Figure size 1080x720 with 1 Axes>"
      ]
     },
     "metadata": {},
     "output_type": "display_data"
    },
    {
     "name": "stdout",
     "output_type": "stream",
     "text": [
      "Обучающая выборка:\n",
      " Mean: 7.322309906901314 \n",
      " Median: 7.289999961853027 \n",
      "\n",
      "Тестовая выборка:\n",
      " Mean: 7.266339191270906 \n",
      " Median: 7.25\n"
     ]
    }
   ],
   "source": [
    "sns.distplot(a=df_train['primary_cleaner.input.feed_size'], color=\"skyblue\", label=\"Train set\", kde=True)\n",
    "sns.distplot(a=df_test['primary_cleaner.input.feed_size'], color=\"red\", label=\"Test set\", kde=True)\n",
    "plt.title('Распределение размеров гранул перед первичной очисткой на обучающей и тестовой выборках')\n",
    "plt.legend()\n",
    "plt.show()\n",
    "print('Обучающая выборка:\\n', 'Mean:', df_train['primary_cleaner.input.feed_size'].mean(), '\\n', 'Median:', df_train['primary_cleaner.input.feed_size'].median(), '\\n')\n",
    "print('Тестовая выборка:\\n', 'Mean:', df_test['primary_cleaner.input.feed_size'].mean(), '\\n', 'Median:', df_test['primary_cleaner.input.feed_size'].median())"
   ]
  },
  {
   "cell_type": "markdown",
   "metadata": {},
   "source": [
    "Распределения размеров гранул сырья похожи по форме"
   ]
  },
  {
   "cell_type": "markdown",
   "metadata": {},
   "source": [
    "Исследуем суммарную концентрацию всех веществ на разных стадиях: в сырье, в черновом и финальном концентратах  "
   ]
  },
  {
   "cell_type": "code",
   "execution_count": 127,
   "metadata": {},
   "outputs": [
    {
     "data": {
      "image/png": "[encoded data removed]",
      "text/plain": [
       "<Figure size 1080x720 with 1 Axes>"
      ]
     },
     "metadata": {},
     "output_type": "display_data"
    }
   ],
   "source": [
    "df_full['rougher.output.concentrate_full'] = df_full['rougher.output.concentrate_ag'] + df_full['rougher.output.concentrate_pb'] + df_full['rougher.output.concentrate_sol'] + df_full['rougher.output.concentrate_au']\n",
    "df_full['primary_cleaner.output.concentrate_full'] = df_full['primary_cleaner.output.concentrate_ag'] + df_full['primary_cleaner.output.concentrate_pb'] + df_full['primary_cleaner.output.concentrate_sol'] + df_full['primary_cleaner.output.concentrate_au']\n",
    "df_full['final.output.concentrate_full'] = df_full['final.output.concentrate_ag'] + df_full['final.output.concentrate_pb'] + df_full['final.output.concentrate_sol'] + df_full['final.output.concentrate_au']\n",
    "\n",
    "df_full = df_full[(df_full[\"rougher.output.concentrate_full\"] > 0) & (df_full['primary_cleaner.output.concentrate_full'] > 0) & (df_full['final.output.concentrate_full'] > 0)]\n",
    "\n",
    "sns.distplot(a=df_full['rougher.output.concentrate_full'], color=\"red\", label=\"Rougher concentrate\", kde=True)\n",
    "sns.distplot(a=df_full['primary_cleaner.output.concentrate_full'], color=\"skyblue\", label=\"Primary cleaner concentrate\", kde=True)\n",
    "sns.distplot(a=df_full['final.output.concentrate_full'], color=\"green\", label=\"Final concentrate\", kde=True)\n",
    "plt.title('Распределение суммарной концентрации веществ на различных стадиях')\n",
    "plt.legend()\n",
    "plt.show()"
   ]
  },
  {
   "cell_type": "markdown",
   "metadata": {},
   "source": [
    "Видим, что с каждой новой стадией обработки суммарная концентрация веществ снижается"
   ]
  },
  {
   "cell_type": "markdown",
   "metadata": {},
   "source": [
    "## Модель"
   ]
  },
  {
   "cell_type": "markdown",
   "metadata": {},
   "source": [
    "Напишем функцию для вычисления итогового значения метрики sMAPE"
   ]
  },
  {
   "cell_type": "code",
   "execution_count": 128,
   "metadata": {},
   "outputs": [],
   "source": [
    "def final_smape_score(target, predictions):\n",
    "    predictions = pd.DataFrame(data=predictions)\n",
    "    smape_rougher = (abs(target['rougher.output.recovery'] - predictions[0]) / ((abs(target['rougher.output.recovery']) + abs(predictions[0])) / 2)).sum() / len(target) * 100\n",
    "    smape_final = (abs(target['final.output.recovery'] - predictions[1]) / ((abs(target['final.output.recovery']) + abs(predictions[1])) / 2)).sum() / len(target) * 100\n",
    "\n",
    "    return 0.25 * smape_rougher + 0.75 * smape_final"
   ]
  },
  {
   "cell_type": "markdown",
   "metadata": {},
   "source": [
    "Подготовим все данные для обучения и тестирования модели"
   ]
  },
  {
   "cell_type": "code",
   "execution_count": 129,
   "metadata": {},
   "outputs": [],
   "source": [
    "df_train = df_train[df_train['date'].isin(df_full['date'])]"
   ]
  },
  {
   "cell_type": "code",
   "execution_count": 130,
   "metadata": {},
   "outputs": [
    {
     "name": "stdout",
     "output_type": "stream",
     "text": [
      "(13725, 52)\n",
      "(13725, 2)\n"
     ]
    }
   ],
   "source": [
    "X_train = df_train[columns].drop(['date'], axis=1)\n",
    "y_train = df_train[['rougher.output.recovery', 'final.output.recovery']]\n",
    "print(X_train.shape)\n",
    "print(y_train.shape)"
   ]
  },
  {
   "cell_type": "code",
   "execution_count": 131,
   "metadata": {},
   "outputs": [
    {
     "name": "stdout",
     "output_type": "stream",
     "text": [
      "(5123, 52)\n",
      "(5123, 2)\n"
     ]
    }
   ],
   "source": [
    "test = df_test.merge(df_full[['date', 'rougher.output.recovery', 'final.output.recovery']], on='date')\n",
    "X_test = test.drop(['date', 'rougher.output.recovery', 'final.output.recovery'], axis=1)\n",
    "y_test = test[['rougher.output.recovery', 'final.output.recovery']]\n",
    "print(X_test.shape)\n",
    "print(y_test.shape)"
   ]
  },
  {
   "cell_type": "markdown",
   "metadata": {},
   "source": [
    "Создадим пайплайны с различными моделями."
   ]
  },
  {
   "cell_type": "code",
   "execution_count": 132,
   "metadata": {},
   "outputs": [],
   "source": [
    "custom_scorer = make_scorer(final_smape_score, greater_is_better=False)"
   ]
  },
  {
   "cell_type": "code",
   "execution_count": 133,
   "metadata": {},
   "outputs": [],
   "source": [
    "lr_regressor = LinearRegression()\n",
    "lr_pipeline = Pipeline(steps=[('regressor', lr_regressor)])"
   ]
  },
  {
   "cell_type": "code",
   "execution_count": 134,
   "metadata": {},
   "outputs": [],
   "source": [
    "param_grid_dt = [\n",
    "    {\n",
    "        'max_depth': [i for i in range(1, 21, 5)],\n",
    "        'min_samples_split': [i for i in range(2, 20, 2)],\n",
    "        'min_samples_leaf': [i for i in range(1,21, 2)]\n",
    "    }\n",
    "]"
   ]
  },
  {
   "cell_type": "code",
   "execution_count": 135,
   "metadata": {},
   "outputs": [],
   "source": [
    "dt_regressor = GridSearchCV(DecisionTreeRegressor(random_state=42), param_grid_dt, scoring=custom_scorer, cv=5)\n",
    "dt_pipeline = Pipeline(steps=[('classifier', dt_regressor)])"
   ]
  },
  {
   "cell_type": "code",
   "execution_count": 136,
   "metadata": {},
   "outputs": [],
   "source": [
    "param_grid_rf = [\n",
    "    {\n",
    "        'max_depth': [i for i in range(1, 21, 5)],\n",
    "        'min_samples_split': [i for i in range(2, 20, 5)],\n",
    "        'min_samples_leaf': [2, 4]\n",
    "    }\n",
    "]"
   ]
  },
  {
   "cell_type": "code",
   "execution_count": 137,
   "metadata": {},
   "outputs": [],
   "source": [
    "rf_regressor = GridSearchCV(RandomForestRegressor(random_state=42, n_estimators=70), param_grid_rf, scoring=custom_scorer, cv=5)\n",
    "rf_pipeline = Pipeline(steps=[('classifier', rf_regressor)])"
   ]
  },
  {
   "cell_type": "markdown",
   "metadata": {},
   "source": [
    "Для оценки модели на адекватность используем DummyRegressor со стратегией 'median'"
   ]
  },
  {
   "cell_type": "code",
   "execution_count": 138,
   "metadata": {},
   "outputs": [],
   "source": [
    "dummy_regressor = DummyRegressor(strategy=\"median\")\n",
    "dummy_pipeline = Pipeline(steps=[('regressor', dummy_regressor)])"
   ]
  },
  {
   "cell_type": "code",
   "execution_count": 139,
   "metadata": {},
   "outputs": [],
   "source": [
    "def run_pipelines(pipelines, text_and_score, X_train, y_train, X_test, y_test):\n",
    "    for idx, value in enumerate(text_and_score):\n",
    "        pipelines[idx].fit(X_train, y_train)\n",
    "        pred = pipelines[idx].predict(X_test)\n",
    "        text_and_score[value][1] = final_smape_score(y_test, pred)\n",
    "        print('Модель:', text_and_score[value][0])\n",
    "        print('Метрика Final sMAPE:', text_and_score[value][1])\n",
    "\n",
    "    return text_and_score"
   ]
  },
  {
   "cell_type": "code",
   "execution_count": 140,
   "metadata": {},
   "outputs": [],
   "source": [
    "pipelines = [lr_pipeline, dt_pipeline, rf_pipeline, dummy_pipeline]\n",
    "results = {0: ['Линейная регрессия', 0], 1: ['Дерево решений', 0], 2: ['Случайный лес', 0], 3: ['Dummy regressor', 0]}"
   ]
  },
  {
   "cell_type": "code",
   "execution_count": 141,
   "metadata": {},
   "outputs": [
    {
     "name": "stdout",
     "output_type": "stream",
     "text": [
      "Модель: Линейная регрессия\n",
      "Метрика Final sMAPE: 7.316037194142463\n",
      "Модель: Дерево решений\n",
      "Метрика Final sMAPE: 7.234083090941797\n",
      "Модель: Случайный лес\n",
      "Метрика Final sMAPE: 7.205498672735592\n",
      "Модель: Dummy regressor\n",
      "Метрика Final sMAPE: 7.369167385832511\n"
     ]
    }
   ],
   "source": [
    "results = run_pipelines(pipelines, results, X_train, y_train, X_test, y_test)"
   ]
  },
  {
   "cell_type": "markdown",
   "metadata": {},
   "source": [
    "## Выводы"
   ]
  },
  {
   "cell_type": "markdown",
   "metadata": {},
   "source": [
    "\n",
    " * Датасеты содержат небольшой процент пропусков в некоторых колонках\n",
    " * Значение признака rougher.output.recovery рассчитано верно\n",
    " * Обучающая выборка содержит достаточно много признаков, которых нет в тестовой\n",
    " * С каждым следующим этапом обогащения золота концентрация веществ снижается(за исключением вторичной очистки свинца)\n",
    " * С каждым следующим этапом обогащения золота концентрация золота увеличивается\n",
    " * Распределения размеров гранул сырья на тестовой и обучающей выборках похожи\n",
    " * Лучшее значение метрики Final sMAPE с использованием модели Cлучайного леса, и это значение ниже, чем при использовании Dummy regressor"
   ]
  },
  {
   "cell_type": "code",
   "execution_count": null,
   "metadata": {},
   "outputs": [],
   "source": []
  }
 ],
 "metadata": {
  "ExecuteTimeLog": [
   {
    "duration": 80,
    "start_time": "2021-12-08T06:53:54.128Z"
   },
   {
    "duration": 1545,
    "start_time": "2021-12-08T06:53:56.980Z"
   },
   {
    "duration": 3,
    "start_time": "2021-12-08T06:54:02.708Z"
   },
   {
    "duration": 283,
    "start_time": "2021-12-08T06:54:24.120Z"
   },
   {
    "duration": 381,
    "start_time": "2021-12-08T06:54:54.337Z"
   },
   {
    "duration": 2101,
    "start_time": "2021-12-08T06:55:14.254Z"
   },
   {
    "duration": 700,
    "start_time": "2021-12-08T06:55:17.118Z"
   },
   {
    "duration": 231,
    "start_time": "2021-12-08T07:03:38.891Z"
   },
   {
    "duration": 316,
    "start_time": "2021-12-08T07:04:02.906Z"
   },
   {
    "duration": 28,
    "start_time": "2021-12-08T07:04:19.899Z"
   },
   {
    "duration": 372,
    "start_time": "2021-12-08T07:04:35.023Z"
   },
   {
    "duration": 12,
    "start_time": "2021-12-08T07:08:50.316Z"
   },
   {
    "duration": 12,
    "start_time": "2021-12-08T08:16:04.795Z"
   },
   {
    "duration": 14,
    "start_time": "2021-12-08T08:16:10.954Z"
   },
   {
    "duration": 20,
    "start_time": "2021-12-08T08:16:38.508Z"
   },
   {
    "duration": 21,
    "start_time": "2021-12-08T08:16:47.786Z"
   },
   {
    "duration": 21,
    "start_time": "2021-12-08T08:16:53.773Z"
   },
   {
    "duration": 20,
    "start_time": "2021-12-08T08:16:56.594Z"
   },
   {
    "duration": 20,
    "start_time": "2021-12-08T08:17:07.154Z"
   },
   {
    "duration": 10,
    "start_time": "2021-12-08T12:42:44.514Z"
   },
   {
    "duration": 1468,
    "start_time": "2021-12-09T12:19:47.038Z"
   },
   {
    "duration": 3,
    "start_time": "2021-12-09T12:19:53.782Z"
   },
   {
    "duration": 4638,
    "start_time": "2021-12-09T12:19:54.369Z"
   },
   {
    "duration": 14,
    "start_time": "2021-12-09T12:19:59.009Z"
   },
   {
    "duration": 20,
    "start_time": "2021-12-09T12:19:59.024Z"
   },
   {
    "duration": 33,
    "start_time": "2021-12-09T12:19:59.046Z"
   },
   {
    "duration": 21,
    "start_time": "2021-12-09T12:19:59.081Z"
   },
   {
    "duration": 18,
    "start_time": "2021-12-09T12:40:27.467Z"
   },
   {
    "duration": 3,
    "start_time": "2021-12-09T12:40:42.890Z"
   },
   {
    "duration": 47,
    "start_time": "2021-12-09T12:40:47.167Z"
   },
   {
    "duration": 12,
    "start_time": "2021-12-09T12:42:46.115Z"
   },
   {
    "duration": 3,
    "start_time": "2021-12-09T13:22:33.375Z"
   },
   {
    "duration": 734,
    "start_time": "2021-12-09T13:22:33.670Z"
   },
   {
    "duration": 12,
    "start_time": "2021-12-09T13:22:34.406Z"
   },
   {
    "duration": 11,
    "start_time": "2021-12-09T13:22:34.535Z"
   },
   {
    "duration": 47,
    "start_time": "2021-12-09T13:22:37.879Z"
   },
   {
    "duration": 32,
    "start_time": "2021-12-09T13:22:38.790Z"
   },
   {
    "duration": 48,
    "start_time": "2021-12-09T13:22:39.454Z"
   },
   {
    "duration": 9,
    "start_time": "2021-12-09T13:22:42.222Z"
   },
   {
    "duration": 624,
    "start_time": "2021-12-09T13:23:25.545Z"
   },
   {
    "duration": 1481,
    "start_time": "2021-12-09T16:20:05.479Z"
   },
   {
    "duration": 867,
    "start_time": "2021-12-09T16:20:06.963Z"
   },
   {
    "duration": 453,
    "start_time": "2021-12-09T16:20:07.832Z"
   },
   {
    "duration": 438,
    "start_time": "2021-12-09T16:20:19.828Z"
   },
   {
    "duration": 6,
    "start_time": "2021-12-09T16:20:22.403Z"
   },
   {
    "duration": 20,
    "start_time": "2021-12-09T16:20:47.547Z"
   },
   {
    "duration": 5,
    "start_time": "2021-12-09T16:20:52.630Z"
   },
   {
    "duration": 5,
    "start_time": "2021-12-09T16:21:03.969Z"
   },
   {
    "duration": 5,
    "start_time": "2021-12-09T16:21:09.648Z"
   },
   {
    "duration": 14,
    "start_time": "2021-12-09T16:21:52.724Z"
   },
   {
    "duration": 10,
    "start_time": "2021-12-09T16:22:15.844Z"
   },
   {
    "duration": 424,
    "start_time": "2021-12-09T16:23:32.547Z"
   },
   {
    "duration": 222,
    "start_time": "2021-12-09T16:23:43.829Z"
   },
   {
    "duration": 208,
    "start_time": "2021-12-10T15:07:36.795Z"
   },
   {
    "duration": 1145,
    "start_time": "2021-12-10T15:07:40.869Z"
   },
   {
    "duration": 723,
    "start_time": "2021-12-10T15:07:42.016Z"
   },
   {
    "duration": 5,
    "start_time": "2021-12-10T15:07:42.741Z"
   },
   {
    "duration": 22,
    "start_time": "2021-12-10T15:07:42.747Z"
   },
   {
    "duration": 3,
    "start_time": "2021-12-10T15:07:42.771Z"
   },
   {
    "duration": 18,
    "start_time": "2021-12-10T15:07:42.775Z"
   },
   {
    "duration": 12,
    "start_time": "2021-12-10T15:07:42.795Z"
   },
   {
    "duration": 109,
    "start_time": "2021-12-10T15:07:42.809Z"
   },
   {
    "duration": 8,
    "start_time": "2021-12-10T15:07:42.919Z"
   },
   {
    "duration": 105,
    "start_time": "2021-12-10T15:08:24.455Z"
   },
   {
    "duration": 4,
    "start_time": "2021-12-10T15:16:16.129Z"
   },
   {
    "duration": 2666,
    "start_time": "2021-12-10T15:16:16.728Z"
   },
   {
    "duration": 4,
    "start_time": "2021-12-10T15:16:38.773Z"
   },
   {
    "duration": 2983,
    "start_time": "2021-12-10T15:16:39.286Z"
   },
   {
    "duration": 4,
    "start_time": "2021-12-10T15:17:19.394Z"
   },
   {
    "duration": 2872,
    "start_time": "2021-12-10T15:17:21.396Z"
   },
   {
    "duration": 133,
    "start_time": "2021-12-10T15:18:30.237Z"
   },
   {
    "duration": 34,
    "start_time": "2021-12-10T15:18:49.286Z"
   },
   {
    "duration": 98,
    "start_time": "2021-12-10T15:18:55.281Z"
   },
   {
    "duration": 3125,
    "start_time": "2021-12-10T15:19:08.216Z"
   },
   {
    "duration": 4,
    "start_time": "2021-12-10T15:26:01.379Z"
   },
   {
    "duration": 4,
    "start_time": "2021-12-10T15:26:02.890Z"
   },
   {
    "duration": 2806,
    "start_time": "2021-12-10T15:26:06.452Z"
   },
   {
    "duration": 3,
    "start_time": "2021-12-10T15:26:21.913Z"
   },
   {
    "duration": 15,
    "start_time": "2021-12-10T15:27:13.094Z"
   },
   {
    "duration": 5,
    "start_time": "2021-12-10T15:28:31.029Z"
   },
   {
    "duration": 14,
    "start_time": "2021-12-10T15:28:31.499Z"
   },
   {
    "duration": 3367,
    "start_time": "2021-12-10T15:28:36.683Z"
   },
   {
    "duration": 4,
    "start_time": "2021-12-10T15:33:51.714Z"
   },
   {
    "duration": 752,
    "start_time": "2021-12-10T15:33:51.720Z"
   },
   {
    "duration": 4,
    "start_time": "2021-12-10T15:33:52.474Z"
   },
   {
    "duration": 19,
    "start_time": "2021-12-10T15:33:52.480Z"
   },
   {
    "duration": 4,
    "start_time": "2021-12-10T15:33:52.500Z"
   },
   {
    "duration": 10,
    "start_time": "2021-12-10T15:33:52.506Z"
   },
   {
    "duration": 12,
    "start_time": "2021-12-10T15:33:52.518Z"
   },
   {
    "duration": 8,
    "start_time": "2021-12-10T15:33:52.531Z"
   },
   {
    "duration": 52,
    "start_time": "2021-12-10T15:33:52.542Z"
   },
   {
    "duration": 53,
    "start_time": "2021-12-10T15:33:52.596Z"
   },
   {
    "duration": 57,
    "start_time": "2021-12-10T15:33:52.651Z"
   },
   {
    "duration": 54,
    "start_time": "2021-12-10T15:33:52.710Z"
   },
   {
    "duration": 25,
    "start_time": "2021-12-10T15:33:52.766Z"
   },
   {
    "duration": 3,
    "start_time": "2021-12-10T15:33:52.793Z"
   },
   {
    "duration": 2486,
    "start_time": "2021-12-10T15:33:52.798Z"
   },
   {
    "duration": 320,
    "start_time": "2021-12-10T15:33:54.966Z"
   },
   {
    "duration": 3,
    "start_time": "2021-12-10T15:34:10.315Z"
   },
   {
    "duration": 784,
    "start_time": "2021-12-10T15:34:10.320Z"
   },
   {
    "duration": 3,
    "start_time": "2021-12-10T15:34:11.106Z"
   },
   {
    "duration": 17,
    "start_time": "2021-12-10T15:34:11.111Z"
   },
   {
    "duration": 4,
    "start_time": "2021-12-10T15:34:11.129Z"
   },
   {
    "duration": 5,
    "start_time": "2021-12-10T15:34:11.134Z"
   },
   {
    "duration": 14,
    "start_time": "2021-12-10T15:34:11.140Z"
   },
   {
    "duration": 7,
    "start_time": "2021-12-10T15:34:11.155Z"
   },
   {
    "duration": 11,
    "start_time": "2021-12-10T15:34:11.192Z"
   },
   {
    "duration": 53,
    "start_time": "2021-12-10T15:34:11.205Z"
   },
   {
    "duration": 56,
    "start_time": "2021-12-10T15:34:11.260Z"
   },
   {
    "duration": 50,
    "start_time": "2021-12-10T15:34:11.317Z"
   },
   {
    "duration": 3,
    "start_time": "2021-12-10T15:34:11.369Z"
   },
   {
    "duration": 2682,
    "start_time": "2021-12-10T15:34:11.373Z"
   },
   {
    "duration": 322,
    "start_time": "2021-12-10T15:34:13.735Z"
   },
   {
    "duration": 210,
    "start_time": "2021-12-10T15:34:33.585Z"
   },
   {
    "duration": 6,
    "start_time": "2021-12-10T15:34:36.658Z"
   },
   {
    "duration": 7,
    "start_time": "2021-12-10T15:36:32.850Z"
   },
   {
    "duration": 9,
    "start_time": "2021-12-10T15:36:44.769Z"
   },
   {
    "duration": 236,
    "start_time": "2021-12-10T15:36:56.581Z"
   },
   {
    "duration": 2454,
    "start_time": "2021-12-10T15:37:03.690Z"
   },
   {
    "duration": 3,
    "start_time": "2021-12-10T15:49:01.860Z"
   },
   {
    "duration": 3402,
    "start_time": "2021-12-10T15:49:02.640Z"
   },
   {
    "duration": 7,
    "start_time": "2021-12-10T15:49:35.641Z"
   },
   {
    "duration": 2786,
    "start_time": "2021-12-10T15:49:36.447Z"
   },
   {
    "duration": 179,
    "start_time": "2021-12-10T15:51:27.896Z"
   },
   {
    "duration": 21721,
    "start_time": "2021-12-10T15:51:32.699Z"
   },
   {
    "duration": 3,
    "start_time": "2021-12-10T16:05:03.653Z"
   },
   {
    "duration": 732,
    "start_time": "2021-12-10T16:05:03.725Z"
   },
   {
    "duration": 4,
    "start_time": "2021-12-10T16:05:04.458Z"
   },
   {
    "duration": 27,
    "start_time": "2021-12-10T16:05:04.464Z"
   },
   {
    "duration": 4,
    "start_time": "2021-12-10T16:05:04.493Z"
   },
   {
    "duration": 5,
    "start_time": "2021-12-10T16:05:04.499Z"
   },
   {
    "duration": 19,
    "start_time": "2021-12-10T16:05:04.506Z"
   },
   {
    "duration": 6,
    "start_time": "2021-12-10T16:05:04.526Z"
   },
   {
    "duration": 10,
    "start_time": "2021-12-10T16:05:04.534Z"
   },
   {
    "duration": 10,
    "start_time": "2021-12-10T16:05:04.545Z"
   },
   {
    "duration": 87,
    "start_time": "2021-12-10T16:05:04.557Z"
   },
   {
    "duration": 67,
    "start_time": "2021-12-10T16:05:04.645Z"
   },
   {
    "duration": 58,
    "start_time": "2021-12-10T16:05:04.713Z"
   },
   {
    "duration": 19,
    "start_time": "2021-12-10T16:05:04.773Z"
   },
   {
    "duration": 3,
    "start_time": "2021-12-10T16:23:58.901Z"
   },
   {
    "duration": 682,
    "start_time": "2021-12-10T16:23:58.906Z"
   },
   {
    "duration": 3,
    "start_time": "2021-12-10T16:23:59.592Z"
   },
   {
    "duration": 16,
    "start_time": "2021-12-10T16:23:59.597Z"
   },
   {
    "duration": 3,
    "start_time": "2021-12-10T16:23:59.615Z"
   },
   {
    "duration": 5,
    "start_time": "2021-12-10T16:23:59.619Z"
   },
   {
    "duration": 12,
    "start_time": "2021-12-10T16:23:59.626Z"
   },
   {
    "duration": 5,
    "start_time": "2021-12-10T16:23:59.640Z"
   },
   {
    "duration": 10,
    "start_time": "2021-12-10T16:23:59.647Z"
   },
   {
    "duration": 40,
    "start_time": "2021-12-10T16:23:59.658Z"
   },
   {
    "duration": 52,
    "start_time": "2021-12-10T16:23:59.699Z"
   },
   {
    "duration": 50,
    "start_time": "2021-12-10T16:23:59.752Z"
   },
   {
    "duration": 50,
    "start_time": "2021-12-10T16:23:59.804Z"
   },
   {
    "duration": 2,
    "start_time": "2021-12-10T16:23:59.856Z"
   },
   {
    "duration": 2812,
    "start_time": "2021-12-10T16:23:59.860Z"
   },
   {
    "duration": 311,
    "start_time": "2021-12-10T16:24:02.362Z"
   },
   {
    "duration": 112,
    "start_time": "2021-12-10T16:24:26.829Z"
   },
   {
    "duration": 117,
    "start_time": "2021-12-10T16:24:49.486Z"
   },
   {
    "duration": 117,
    "start_time": "2021-12-10T16:25:05.286Z"
   },
   {
    "duration": 132,
    "start_time": "2021-12-10T16:26:05.033Z"
   },
   {
    "duration": 1462,
    "start_time": "2021-12-10T16:26:56.618Z"
   },
   {
    "duration": 12,
    "start_time": "2021-12-10T16:28:42.000Z"
   },
   {
    "duration": 2667,
    "start_time": "2021-12-10T16:28:45.483Z"
   },
   {
    "duration": 175,
    "start_time": "2021-12-10T16:29:04.359Z"
   },
   {
    "duration": 2632,
    "start_time": "2021-12-10T16:29:09.418Z"
   },
   {
    "duration": 3,
    "start_time": "2021-12-10T16:35:10.168Z"
   },
   {
    "duration": 5,
    "start_time": "2021-12-10T16:35:10.615Z"
   },
   {
    "duration": 2481,
    "start_time": "2021-12-10T16:35:11.182Z"
   },
   {
    "duration": 319,
    "start_time": "2021-12-10T16:53:34.858Z"
   },
   {
    "duration": 112,
    "start_time": "2021-12-10T16:53:43.030Z"
   },
   {
    "duration": 134,
    "start_time": "2021-12-10T16:54:13.973Z"
   },
   {
    "duration": 196,
    "start_time": "2021-12-10T16:54:34.451Z"
   },
   {
    "duration": 5,
    "start_time": "2021-12-10T16:54:53.494Z"
   },
   {
    "duration": 425,
    "start_time": "2021-12-10T16:55:21.966Z"
   },
   {
    "duration": 127,
    "start_time": "2021-12-10T16:55:25.574Z"
   },
   {
    "duration": 115,
    "start_time": "2021-12-10T16:55:31.387Z"
   },
   {
    "duration": 6,
    "start_time": "2021-12-10T17:14:09.730Z"
   },
   {
    "duration": 5,
    "start_time": "2021-12-10T17:14:25.851Z"
   },
   {
    "duration": 438,
    "start_time": "2021-12-10T17:14:26.250Z"
   },
   {
    "duration": 6,
    "start_time": "2021-12-10T17:14:28.905Z"
   },
   {
    "duration": 4,
    "start_time": "2021-12-10T17:14:39.091Z"
   },
   {
    "duration": 13,
    "start_time": "2021-12-10T17:14:55.866Z"
   },
   {
    "duration": 441,
    "start_time": "2021-12-10T17:15:28.480Z"
   },
   {
    "duration": 2735,
    "start_time": "2021-12-10T17:15:36.361Z"
   },
   {
    "duration": 428,
    "start_time": "2021-12-10T17:19:03.294Z"
   },
   {
    "duration": 111,
    "start_time": "2021-12-10T17:19:12.236Z"
   },
   {
    "duration": 65,
    "start_time": "2021-12-10T17:19:56.024Z"
   },
   {
    "duration": 58,
    "start_time": "2021-12-10T17:25:09.271Z"
   },
   {
    "duration": 3,
    "start_time": "2021-12-10T17:25:15.852Z"
   },
   {
    "duration": 717,
    "start_time": "2021-12-10T17:25:18.934Z"
   },
   {
    "duration": 107,
    "start_time": "2021-12-10T17:25:21.067Z"
   },
   {
    "duration": 113,
    "start_time": "2021-12-10T17:25:22.378Z"
   },
   {
    "duration": 41,
    "start_time": "2021-12-10T17:25:48.595Z"
   },
   {
    "duration": 192,
    "start_time": "2021-12-10T17:26:28.487Z"
   },
   {
    "duration": 6,
    "start_time": "2021-12-10T17:26:33.430Z"
   },
   {
    "duration": 5,
    "start_time": "2021-12-10T17:27:06.032Z"
   },
   {
    "duration": 3,
    "start_time": "2021-12-10T17:27:08.169Z"
   },
   {
    "duration": 862,
    "start_time": "2021-12-10T17:27:08.174Z"
   },
   {
    "duration": 4,
    "start_time": "2021-12-10T17:27:09.038Z"
   },
   {
    "duration": 17,
    "start_time": "2021-12-10T17:27:09.044Z"
   },
   {
    "duration": 3,
    "start_time": "2021-12-10T17:27:09.062Z"
   },
   {
    "duration": 7,
    "start_time": "2021-12-10T17:27:09.067Z"
   },
   {
    "duration": 26,
    "start_time": "2021-12-10T17:27:09.075Z"
   },
   {
    "duration": 6,
    "start_time": "2021-12-10T17:27:09.103Z"
   },
   {
    "duration": 16,
    "start_time": "2021-12-10T17:27:09.112Z"
   },
   {
    "duration": 10,
    "start_time": "2021-12-10T17:27:09.130Z"
   },
   {
    "duration": 75,
    "start_time": "2021-12-10T17:27:09.142Z"
   },
   {
    "duration": 35,
    "start_time": "2021-12-10T17:27:09.219Z"
   },
   {
    "duration": 70,
    "start_time": "2021-12-10T17:27:09.256Z"
   },
   {
    "duration": 3,
    "start_time": "2021-12-10T17:27:09.327Z"
   },
   {
    "duration": 32,
    "start_time": "2021-12-10T17:27:09.331Z"
   },
   {
    "duration": 631,
    "start_time": "2021-12-10T17:27:09.365Z"
   },
   {
    "duration": 120,
    "start_time": "2021-12-10T17:27:09.998Z"
   },
   {
    "duration": 5,
    "start_time": "2021-12-10T17:27:10.119Z"
   },
   {
    "duration": 178,
    "start_time": "2021-12-10T17:27:10.126Z"
   },
   {
    "duration": 5,
    "start_time": "2021-12-10T17:27:52.064Z"
   },
   {
    "duration": 4,
    "start_time": "2021-12-10T17:28:08.262Z"
   },
   {
    "duration": 288,
    "start_time": "2021-12-10T17:34:24.789Z"
   },
   {
    "duration": 182,
    "start_time": "2021-12-10T18:03:12.252Z"
   },
   {
    "duration": 270,
    "start_time": "2021-12-10T18:03:26.087Z"
   },
   {
    "duration": 85,
    "start_time": "2021-12-10T18:04:39.514Z"
   },
   {
    "duration": 63,
    "start_time": "2021-12-10T18:06:01.099Z"
   },
   {
    "duration": 186,
    "start_time": "2021-12-10T18:08:08.337Z"
   },
   {
    "duration": 230,
    "start_time": "2021-12-10T18:08:20.875Z"
   },
   {
    "duration": 186,
    "start_time": "2021-12-10T18:08:28.593Z"
   },
   {
    "duration": 185,
    "start_time": "2021-12-10T18:08:35.995Z"
   },
   {
    "duration": 183,
    "start_time": "2021-12-10T18:09:01.097Z"
   },
   {
    "duration": 187,
    "start_time": "2021-12-10T18:09:05.073Z"
   },
   {
    "duration": 3,
    "start_time": "2021-12-10T18:09:09.463Z"
   },
   {
    "duration": 2,
    "start_time": "2021-12-10T18:09:11.487Z"
   },
   {
    "duration": 5,
    "start_time": "2021-12-10T18:09:15.116Z"
   },
   {
    "duration": 184,
    "start_time": "2021-12-10T18:09:38.917Z"
   },
   {
    "duration": 229,
    "start_time": "2021-12-10T18:09:45.162Z"
   },
   {
    "duration": 205,
    "start_time": "2021-12-10T18:09:49.721Z"
   },
   {
    "duration": 211,
    "start_time": "2021-12-10T18:10:30.225Z"
   },
   {
    "duration": 184,
    "start_time": "2021-12-10T18:12:04.020Z"
   },
   {
    "duration": 186,
    "start_time": "2021-12-10T18:12:18.980Z"
   },
   {
    "duration": 176,
    "start_time": "2021-12-10T18:12:23.367Z"
   },
   {
    "duration": 1431,
    "start_time": "2021-12-10T18:12:29.884Z"
   },
   {
    "duration": 177,
    "start_time": "2021-12-10T18:12:38.012Z"
   },
   {
    "duration": 305,
    "start_time": "2021-12-11T08:58:23.001Z"
   },
   {
    "duration": 1056,
    "start_time": "2021-12-11T08:58:27.743Z"
   },
   {
    "duration": 667,
    "start_time": "2021-12-11T08:58:28.801Z"
   },
   {
    "duration": 3,
    "start_time": "2021-12-11T08:58:29.471Z"
   },
   {
    "duration": 21,
    "start_time": "2021-12-11T08:58:29.476Z"
   },
   {
    "duration": 293,
    "start_time": "2021-12-11T08:58:29.499Z"
   },
   {
    "duration": 7,
    "start_time": "2021-12-11T08:58:29.793Z"
   },
   {
    "duration": 144,
    "start_time": "2021-12-11T08:58:29.801Z"
   },
   {
    "duration": 10,
    "start_time": "2021-12-11T08:58:29.947Z"
   },
   {
    "duration": 257,
    "start_time": "2021-12-11T08:58:29.959Z"
   },
   {
    "duration": 47,
    "start_time": "2021-12-11T08:58:30.218Z"
   },
   {
    "duration": 48,
    "start_time": "2021-12-11T08:58:30.266Z"
   },
   {
    "duration": 45,
    "start_time": "2021-12-11T08:58:30.316Z"
   },
   {
    "duration": 338,
    "start_time": "2021-12-11T08:58:34.663Z"
   },
   {
    "duration": 800,
    "start_time": "2021-12-11T08:59:10.991Z"
   },
   {
    "duration": 1054,
    "start_time": "2021-12-11T08:59:22.759Z"
   },
   {
    "duration": 11,
    "start_time": "2021-12-11T08:59:35.784Z"
   },
   {
    "duration": 84,
    "start_time": "2021-12-11T09:06:00.958Z"
   },
   {
    "duration": 239,
    "start_time": "2021-12-11T09:06:20.901Z"
   },
   {
    "duration": 286,
    "start_time": "2021-12-11T09:06:27.768Z"
   },
   {
    "duration": 235,
    "start_time": "2021-12-11T09:06:43.905Z"
   },
   {
    "duration": 354,
    "start_time": "2021-12-11T09:06:50.343Z"
   },
   {
    "duration": 324,
    "start_time": "2021-12-11T09:06:52.928Z"
   },
   {
    "duration": 6,
    "start_time": "2021-12-11T09:08:03.138Z"
   },
   {
    "duration": 7777,
    "start_time": "2021-12-11T09:08:08.441Z"
   },
   {
    "duration": 1629,
    "start_time": "2021-12-12T08:43:21.836Z"
   },
   {
    "duration": 913,
    "start_time": "2021-12-12T08:43:23.468Z"
   },
   {
    "duration": 4,
    "start_time": "2021-12-12T08:43:24.384Z"
   },
   {
    "duration": 37,
    "start_time": "2021-12-12T08:43:24.392Z"
   },
   {
    "duration": 430,
    "start_time": "2021-12-12T08:43:24.432Z"
   },
   {
    "duration": 9,
    "start_time": "2021-12-12T08:43:24.865Z"
   },
   {
    "duration": 252,
    "start_time": "2021-12-12T08:43:24.877Z"
   },
   {
    "duration": 15,
    "start_time": "2021-12-12T08:43:25.133Z"
   },
   {
    "duration": 496,
    "start_time": "2021-12-12T08:43:25.151Z"
   },
   {
    "duration": 97,
    "start_time": "2021-12-12T08:43:25.649Z"
   },
   {
    "duration": 76,
    "start_time": "2021-12-12T08:43:25.748Z"
   },
   {
    "duration": 98,
    "start_time": "2021-12-12T08:43:25.827Z"
   },
   {
    "duration": 1368,
    "start_time": "2021-12-12T08:43:25.927Z"
   },
   {
    "duration": 5,
    "start_time": "2021-12-12T08:43:27.297Z"
   },
   {
    "duration": 1091,
    "start_time": "2021-12-12T08:43:27.304Z"
   },
   {
    "duration": 6,
    "start_time": "2021-12-12T08:43:28.397Z"
   },
   {
    "duration": 15324,
    "start_time": "2021-12-12T08:43:28.405Z"
   },
   {
    "duration": 10,
    "start_time": "2021-12-12T11:22:22.536Z"
   },
   {
    "duration": 14999,
    "start_time": "2021-12-12T11:22:30.850Z"
   },
   {
    "duration": 5,
    "start_time": "2021-12-12T11:22:57.192Z"
   },
   {
    "duration": 829,
    "start_time": "2021-12-12T11:22:57.200Z"
   },
   {
    "duration": 5,
    "start_time": "2021-12-12T11:22:58.032Z"
   },
   {
    "duration": 27,
    "start_time": "2021-12-12T11:22:58.041Z"
   },
   {
    "duration": 473,
    "start_time": "2021-12-12T11:22:58.071Z"
   },
   {
    "duration": 13,
    "start_time": "2021-12-12T11:22:58.547Z"
   },
   {
    "duration": 286,
    "start_time": "2021-12-12T11:22:58.562Z"
   },
   {
    "duration": 15,
    "start_time": "2021-12-12T11:22:58.851Z"
   },
   {
    "duration": 467,
    "start_time": "2021-12-12T11:22:58.868Z"
   },
   {
    "duration": 102,
    "start_time": "2021-12-12T11:22:59.338Z"
   },
   {
    "duration": 57,
    "start_time": "2021-12-12T11:22:59.442Z"
   },
   {
    "duration": 101,
    "start_time": "2021-12-12T11:22:59.501Z"
   },
   {
    "duration": 1360,
    "start_time": "2021-12-12T11:22:59.605Z"
   },
   {
    "duration": 4,
    "start_time": "2021-12-12T11:23:00.968Z"
   },
   {
    "duration": 1036,
    "start_time": "2021-12-12T11:23:00.974Z"
   },
   {
    "duration": 19,
    "start_time": "2021-12-12T11:23:02.013Z"
   },
   {
    "duration": 14181,
    "start_time": "2021-12-12T11:23:02.035Z"
   },
   {
    "duration": 88,
    "start_time": "2021-12-12T11:28:35.724Z"
   },
   {
    "duration": 6,
    "start_time": "2021-12-12T11:29:07.480Z"
   },
   {
    "duration": 415,
    "start_time": "2021-12-12T11:37:00.394Z"
   },
   {
    "duration": 4957,
    "start_time": "2021-12-12T11:37:49.753Z"
   },
   {
    "duration": 336,
    "start_time": "2021-12-12T11:38:08.534Z"
   },
   {
    "duration": 3758,
    "start_time": "2021-12-12T11:38:22.445Z"
   },
   {
    "duration": 1553,
    "start_time": "2021-12-12T11:38:26.206Z"
   },
   {
    "duration": 912,
    "start_time": "2021-12-12T11:38:27.762Z"
   },
   {
    "duration": 5,
    "start_time": "2021-12-12T11:38:28.677Z"
   },
   {
    "duration": 21,
    "start_time": "2021-12-12T11:38:28.685Z"
   },
   {
    "duration": 411,
    "start_time": "2021-12-12T11:38:28.724Z"
   },
   {
    "duration": 10,
    "start_time": "2021-12-12T11:38:29.138Z"
   },
   {
    "duration": 264,
    "start_time": "2021-12-12T11:38:29.151Z"
   },
   {
    "duration": 18,
    "start_time": "2021-12-12T11:38:29.418Z"
   },
   {
    "duration": 462,
    "start_time": "2021-12-12T11:38:29.439Z"
   },
   {
    "duration": 94,
    "start_time": "2021-12-12T11:38:29.904Z"
   },
   {
    "duration": 68,
    "start_time": "2021-12-12T11:38:30.001Z"
   },
   {
    "duration": 109,
    "start_time": "2021-12-12T11:38:30.072Z"
   },
   {
    "duration": 1542,
    "start_time": "2021-12-12T11:38:30.184Z"
   },
   {
    "duration": 4,
    "start_time": "2021-12-12T11:38:31.729Z"
   },
   {
    "duration": 1119,
    "start_time": "2021-12-12T11:38:31.735Z"
   },
   {
    "duration": 17,
    "start_time": "2021-12-12T11:38:32.856Z"
   },
   {
    "duration": 14373,
    "start_time": "2021-12-12T11:38:32.876Z"
   },
   {
    "duration": 821,
    "start_time": "2021-12-12T11:38:47.252Z"
   },
   {
    "duration": -28471,
    "start_time": "2021-12-12T11:39:16.547Z"
   },
   {
    "duration": 41,
    "start_time": "2021-12-12T11:39:45.122Z"
   },
   {
    "duration": 3,
    "start_time": "2021-12-12T11:39:55.556Z"
   },
   {
    "duration": 2999,
    "start_time": "2021-12-12T11:39:56.038Z"
   },
   {
    "duration": 3155,
    "start_time": "2021-12-12T11:40:41.105Z"
   },
   {
    "duration": 3413,
    "start_time": "2021-12-12T11:41:17.769Z"
   },
   {
    "duration": 285,
    "start_time": "2021-12-12T11:41:43.652Z"
   },
   {
    "duration": 2021,
    "start_time": "2021-12-12T11:42:58.938Z"
   },
   {
    "duration": 2167,
    "start_time": "2021-12-12T11:43:57.579Z"
   },
   {
    "duration": 2261,
    "start_time": "2021-12-12T11:44:23.051Z"
   },
   {
    "duration": 4,
    "start_time": "2021-12-12T13:07:30.359Z"
   },
   {
    "duration": 1826,
    "start_time": "2021-12-12T13:07:33.685Z"
   },
   {
    "duration": 1928,
    "start_time": "2021-12-12T13:07:38.269Z"
   },
   {
    "duration": 6,
    "start_time": "2021-12-12T13:07:44.626Z"
   },
   {
    "duration": 2000,
    "start_time": "2021-12-12T13:07:48.324Z"
   },
   {
    "duration": 1966,
    "start_time": "2021-12-12T13:08:18.845Z"
   },
   {
    "duration": 1832,
    "start_time": "2021-12-12T13:08:24.267Z"
   },
   {
    "duration": 1774,
    "start_time": "2021-12-12T13:09:05.576Z"
   },
   {
    "duration": 1894,
    "start_time": "2021-12-12T13:09:08.099Z"
   },
   {
    "duration": 2254,
    "start_time": "2021-12-12T13:09:37.435Z"
   },
   {
    "duration": 1998,
    "start_time": "2021-12-12T13:10:16.994Z"
   },
   {
    "duration": 2129,
    "start_time": "2021-12-12T13:10:28.181Z"
   },
   {
    "duration": 2090,
    "start_time": "2021-12-12T13:10:42.418Z"
   },
   {
    "duration": 1273,
    "start_time": "2021-12-12T16:35:00.814Z"
   },
   {
    "duration": 1488,
    "start_time": "2021-12-12T16:36:25.828Z"
   },
   {
    "duration": 1319,
    "start_time": "2021-12-12T16:38:19.908Z"
   },
   {
    "duration": 98,
    "start_time": "2021-12-12T16:38:51.204Z"
   },
   {
    "duration": 1245,
    "start_time": "2021-12-12T16:39:07.705Z"
   },
   {
    "duration": 1435,
    "start_time": "2021-12-12T16:39:24.821Z"
   },
   {
    "duration": 1343,
    "start_time": "2021-12-12T16:39:35.450Z"
   },
   {
    "duration": 1417,
    "start_time": "2021-12-12T16:39:47.916Z"
   },
   {
    "duration": 1372,
    "start_time": "2021-12-12T17:19:26.122Z"
   },
   {
    "duration": 1411,
    "start_time": "2021-12-12T17:19:38.984Z"
   },
   {
    "duration": 1505,
    "start_time": "2021-12-12T17:20:19.783Z"
   },
   {
    "duration": 1418,
    "start_time": "2021-12-12T17:20:30.309Z"
   },
   {
    "duration": 1413,
    "start_time": "2021-12-12T17:20:37.516Z"
   },
   {
    "duration": 1195,
    "start_time": "2021-12-12T17:26:31.198Z"
   },
   {
    "duration": 822,
    "start_time": "2021-12-12T18:48:22.807Z"
   },
   {
    "duration": 1033,
    "start_time": "2021-12-12T18:50:33.902Z"
   },
   {
    "duration": 1145,
    "start_time": "2021-12-12T18:50:42.985Z"
   },
   {
    "duration": 1122,
    "start_time": "2021-12-12T18:54:30.007Z"
   },
   {
    "duration": 1118,
    "start_time": "2021-12-12T19:02:07.617Z"
   },
   {
    "duration": 2101,
    "start_time": "2021-12-12T19:06:17.514Z"
   },
   {
    "duration": 88,
    "start_time": "2021-12-12T19:12:06.825Z"
   },
   {
    "duration": 4,
    "start_time": "2021-12-12T19:12:10.803Z"
   },
   {
    "duration": 109,
    "start_time": "2021-12-12T19:13:50.862Z"
   },
   {
    "duration": 94,
    "start_time": "2021-12-13T10:04:07.158Z"
   },
   {
    "duration": 89,
    "start_time": "2021-12-13T10:05:16.713Z"
   },
   {
    "duration": 90,
    "start_time": "2021-12-13T10:05:49.400Z"
   },
   {
    "duration": 81,
    "start_time": "2021-12-13T10:06:02.504Z"
   },
   {
    "duration": 112,
    "start_time": "2021-12-13T10:06:58.403Z"
   },
   {
    "duration": 79,
    "start_time": "2021-12-13T10:11:51.834Z"
   },
   {
    "duration": 332,
    "start_time": "2021-12-13T10:30:57.868Z"
   },
   {
    "duration": 3747,
    "start_time": "2021-12-13T10:31:08.894Z"
   },
   {
    "duration": 1354,
    "start_time": "2021-12-13T10:31:12.643Z"
   },
   {
    "duration": 677,
    "start_time": "2021-12-13T10:31:13.999Z"
   },
   {
    "duration": 10,
    "start_time": "2021-12-13T10:31:14.678Z"
   },
   {
    "duration": 22,
    "start_time": "2021-12-13T10:31:14.690Z"
   },
   {
    "duration": 241,
    "start_time": "2021-12-13T10:31:14.713Z"
   },
   {
    "duration": 6,
    "start_time": "2021-12-13T10:31:14.956Z"
   },
   {
    "duration": 140,
    "start_time": "2021-12-13T10:31:14.963Z"
   },
   {
    "duration": 10,
    "start_time": "2021-12-13T10:31:15.105Z"
   },
   {
    "duration": 258,
    "start_time": "2021-12-13T10:31:15.117Z"
   },
   {
    "duration": 51,
    "start_time": "2021-12-13T10:31:15.376Z"
   },
   {
    "duration": 30,
    "start_time": "2021-12-13T10:31:15.429Z"
   },
   {
    "duration": 65,
    "start_time": "2021-12-13T10:31:15.460Z"
   },
   {
    "duration": 1065,
    "start_time": "2021-12-13T10:31:15.527Z"
   },
   {
    "duration": 2,
    "start_time": "2021-12-13T10:31:16.594Z"
   },
   {
    "duration": 699,
    "start_time": "2021-12-13T10:31:16.598Z"
   },
   {
    "duration": 12,
    "start_time": "2021-12-13T10:31:17.299Z"
   },
   {
    "duration": 25,
    "start_time": "2021-12-13T10:31:17.313Z"
   },
   {
    "duration": 1451,
    "start_time": "2021-12-13T10:31:17.340Z"
   },
   {
    "duration": 1552,
    "start_time": "2021-12-13T10:31:18.793Z"
   },
   {
    "duration": 1470,
    "start_time": "2021-12-13T10:31:20.347Z"
   },
   {
    "duration": 840,
    "start_time": "2021-12-13T10:31:21.819Z"
   },
   {
    "duration": 827,
    "start_time": "2021-12-13T10:31:22.661Z"
   },
   {
    "duration": 1414,
    "start_time": "2021-12-13T10:31:23.490Z"
   },
   {
    "duration": 2,
    "start_time": "2021-12-13T10:31:24.906Z"
   },
   {
    "duration": 4,
    "start_time": "2021-12-13T10:32:19.178Z"
   },
   {
    "duration": 4983,
    "start_time": "2021-12-13T10:33:02.483Z"
   },
   {
    "duration": 33,
    "start_time": "2021-12-13T10:45:23.206Z"
   },
   {
    "duration": 299,
    "start_time": "2021-12-13T10:45:34.599Z"
   },
   {
    "duration": 4,
    "start_time": "2021-12-13T10:45:37.473Z"
   },
   {
    "duration": 4,
    "start_time": "2021-12-13T10:45:45.627Z"
   },
   {
    "duration": 6,
    "start_time": "2021-12-13T10:46:56.310Z"
   },
   {
    "duration": 486,
    "start_time": "2021-12-13T10:50:01.072Z"
   },
   {
    "duration": 251,
    "start_time": "2021-12-13T10:50:21.579Z"
   },
   {
    "duration": 373,
    "start_time": "2021-12-13T10:50:49.262Z"
   },
   {
    "duration": 10,
    "start_time": "2021-12-13T10:51:30.664Z"
   },
   {
    "duration": 316,
    "start_time": "2021-12-13T10:51:43.093Z"
   },
   {
    "duration": 4,
    "start_time": "2021-12-13T10:51:46.764Z"
   },
   {
    "duration": 4,
    "start_time": "2021-12-13T10:51:59.800Z"
   },
   {
    "duration": 243,
    "start_time": "2021-12-13T10:52:12.258Z"
   },
   {
    "duration": 3,
    "start_time": "2021-12-13T10:52:15.781Z"
   },
   {
    "duration": 3,
    "start_time": "2021-12-13T10:52:27.770Z"
   },
   {
    "duration": 7,
    "start_time": "2021-12-13T10:52:44.911Z"
   },
   {
    "duration": 265,
    "start_time": "2021-12-13T10:56:57.237Z"
   },
   {
    "duration": 6,
    "start_time": "2021-12-13T10:57:25.481Z"
   },
   {
    "duration": 5,
    "start_time": "2021-12-13T10:57:35.218Z"
   },
   {
    "duration": 8,
    "start_time": "2021-12-13T10:57:58.900Z"
   },
   {
    "duration": 7,
    "start_time": "2021-12-13T10:58:01.336Z"
   },
   {
    "duration": 9,
    "start_time": "2021-12-13T10:58:14.191Z"
   },
   {
    "duration": 5,
    "start_time": "2021-12-13T10:58:26.661Z"
   },
   {
    "duration": 8,
    "start_time": "2021-12-13T10:58:30.821Z"
   },
   {
    "duration": 252,
    "start_time": "2021-12-13T10:58:33.863Z"
   },
   {
    "duration": 248,
    "start_time": "2021-12-13T10:59:53.596Z"
   },
   {
    "duration": 9,
    "start_time": "2021-12-13T11:00:13.004Z"
   },
   {
    "duration": 2379,
    "start_time": "2021-12-13T11:00:22.647Z"
   },
   {
    "duration": 5,
    "start_time": "2021-12-13T11:00:25.029Z"
   },
   {
    "duration": 653,
    "start_time": "2021-12-13T11:00:25.036Z"
   },
   {
    "duration": 3,
    "start_time": "2021-12-13T11:00:25.691Z"
   },
   {
    "duration": 13,
    "start_time": "2021-12-13T11:00:25.696Z"
   },
   {
    "duration": 251,
    "start_time": "2021-12-13T11:00:25.711Z"
   },
   {
    "duration": 7,
    "start_time": "2021-12-13T11:00:25.963Z"
   },
   {
    "duration": 145,
    "start_time": "2021-12-13T11:00:25.971Z"
   },
   {
    "duration": 10,
    "start_time": "2021-12-13T11:00:26.119Z"
   },
   {
    "duration": 268,
    "start_time": "2021-12-13T11:00:26.131Z"
   },
   {
    "duration": 56,
    "start_time": "2021-12-13T11:00:26.400Z"
   },
   {
    "duration": 54,
    "start_time": "2021-12-13T11:00:26.457Z"
   },
   {
    "duration": 59,
    "start_time": "2021-12-13T11:00:26.513Z"
   },
   {
    "duration": 987,
    "start_time": "2021-12-13T11:00:26.589Z"
   },
   {
    "duration": 3,
    "start_time": "2021-12-13T11:00:27.577Z"
   },
   {
    "duration": 588,
    "start_time": "2021-12-13T11:00:27.588Z"
   },
   {
    "duration": 18,
    "start_time": "2021-12-13T11:00:28.178Z"
   },
   {
    "duration": 24,
    "start_time": "2021-12-13T11:00:28.198Z"
   },
   {
    "duration": 1490,
    "start_time": "2021-12-13T11:00:28.223Z"
   },
   {
    "duration": 1487,
    "start_time": "2021-12-13T11:00:29.715Z"
   },
   {
    "duration": 1611,
    "start_time": "2021-12-13T11:00:31.203Z"
   },
   {
    "duration": 930,
    "start_time": "2021-12-13T11:00:32.815Z"
   },
   {
    "duration": 828,
    "start_time": "2021-12-13T11:00:33.747Z"
   },
   {
    "duration": 1534,
    "start_time": "2021-12-13T11:00:34.576Z"
   },
   {
    "duration": 2,
    "start_time": "2021-12-13T11:00:36.112Z"
   },
   {
    "duration": 7,
    "start_time": "2021-12-13T11:00:36.115Z"
   },
   {
    "duration": 13,
    "start_time": "2021-12-13T11:00:36.125Z"
   },
   {
    "duration": 6,
    "start_time": "2021-12-13T11:00:36.139Z"
   },
   {
    "duration": 6,
    "start_time": "2021-12-13T11:00:36.146Z"
   },
   {
    "duration": 44,
    "start_time": "2021-12-13T11:00:36.154Z"
   },
   {
    "duration": 2,
    "start_time": "2021-12-13T11:00:36.199Z"
   },
   {
    "duration": 23,
    "start_time": "2021-12-13T11:00:36.203Z"
   },
   {
    "duration": 416,
    "start_time": "2021-12-13T11:00:59.546Z"
   },
   {
    "duration": 2264,
    "start_time": "2021-12-13T11:01:22.185Z"
   },
   {
    "duration": 5,
    "start_time": "2021-12-13T11:01:24.452Z"
   },
   {
    "duration": 660,
    "start_time": "2021-12-13T11:01:24.459Z"
   },
   {
    "duration": 4,
    "start_time": "2021-12-13T11:01:25.121Z"
   },
   {
    "duration": 14,
    "start_time": "2021-12-13T11:01:25.126Z"
   },
   {
    "duration": 251,
    "start_time": "2021-12-13T11:01:25.142Z"
   },
   {
    "duration": 7,
    "start_time": "2021-12-13T11:01:25.395Z"
   },
   {
    "duration": 151,
    "start_time": "2021-12-13T11:01:25.404Z"
   },
   {
    "duration": 12,
    "start_time": "2021-12-13T11:01:25.557Z"
   },
   {
    "duration": 266,
    "start_time": "2021-12-13T11:01:25.571Z"
   },
   {
    "duration": 55,
    "start_time": "2021-12-13T11:01:25.839Z"
   },
   {
    "duration": 34,
    "start_time": "2021-12-13T11:01:25.896Z"
   },
   {
    "duration": 66,
    "start_time": "2021-12-13T11:01:25.932Z"
   },
   {
    "duration": 1127,
    "start_time": "2021-12-13T11:01:26.000Z"
   },
   {
    "duration": 3,
    "start_time": "2021-12-13T11:01:27.129Z"
   },
   {
    "duration": 598,
    "start_time": "2021-12-13T11:01:27.133Z"
   },
   {
    "duration": 12,
    "start_time": "2021-12-13T11:01:27.732Z"
   },
   {
    "duration": 43,
    "start_time": "2021-12-13T11:01:27.746Z"
   },
   {
    "duration": 1542,
    "start_time": "2021-12-13T11:01:27.791Z"
   },
   {
    "duration": 1665,
    "start_time": "2021-12-13T11:01:29.334Z"
   },
   {
    "duration": 1514,
    "start_time": "2021-12-13T11:01:31.001Z"
   },
   {
    "duration": 851,
    "start_time": "2021-12-13T11:01:32.517Z"
   },
   {
    "duration": 800,
    "start_time": "2021-12-13T11:01:33.371Z"
   },
   {
    "duration": 1526,
    "start_time": "2021-12-13T11:01:34.173Z"
   },
   {
    "duration": 3,
    "start_time": "2021-12-13T11:01:35.701Z"
   },
   {
    "duration": 6,
    "start_time": "2021-12-13T11:01:35.706Z"
   },
   {
    "duration": 10,
    "start_time": "2021-12-13T11:01:35.714Z"
   },
   {
    "duration": 5,
    "start_time": "2021-12-13T11:01:35.725Z"
   },
   {
    "duration": 7,
    "start_time": "2021-12-13T11:01:35.732Z"
   },
   {
    "duration": 264,
    "start_time": "2021-12-13T11:01:35.740Z"
   },
   {
    "duration": -77,
    "start_time": "2021-12-13T11:01:36.084Z"
   },
   {
    "duration": -79,
    "start_time": "2021-12-13T11:01:36.087Z"
   },
   {
    "duration": -80,
    "start_time": "2021-12-13T11:01:36.089Z"
   },
   {
    "duration": 13,
    "start_time": "2021-12-13T11:01:43.918Z"
   },
   {
    "duration": 253,
    "start_time": "2021-12-13T11:02:46.901Z"
   },
   {
    "duration": 8,
    "start_time": "2021-12-13T11:02:54.835Z"
   },
   {
    "duration": 6,
    "start_time": "2021-12-13T11:03:05.426Z"
   },
   {
    "duration": 33,
    "start_time": "2021-12-13T11:03:16.457Z"
   },
   {
    "duration": 13,
    "start_time": "2021-12-13T11:03:38.320Z"
   },
   {
    "duration": 24,
    "start_time": "2021-12-13T11:03:55.406Z"
   },
   {
    "duration": 449,
    "start_time": "2021-12-13T11:04:05.667Z"
   },
   {
    "duration": 6,
    "start_time": "2021-12-13T11:04:29.361Z"
   },
   {
    "duration": 105,
    "start_time": "2021-12-13T11:04:41.564Z"
   },
   {
    "duration": 42,
    "start_time": "2021-12-13T11:09:26.377Z"
   },
   {
    "duration": 5,
    "start_time": "2021-12-13T11:09:42.939Z"
   },
   {
    "duration": 6,
    "start_time": "2021-12-13T11:09:48.908Z"
   },
   {
    "duration": 254,
    "start_time": "2021-12-13T11:18:29.671Z"
   },
   {
    "duration": 3,
    "start_time": "2021-12-13T11:18:43.142Z"
   },
   {
    "duration": 3,
    "start_time": "2021-12-13T11:18:44.323Z"
   },
   {
    "duration": 6,
    "start_time": "2021-12-13T11:19:15.364Z"
   },
   {
    "duration": 4,
    "start_time": "2021-12-13T11:19:48.014Z"
   },
   {
    "duration": 4,
    "start_time": "2021-12-13T11:19:53.189Z"
   },
   {
    "duration": 9,
    "start_time": "2021-12-13T11:49:19.019Z"
   },
   {
    "duration": 275,
    "start_time": "2021-12-13T11:49:39.222Z"
   },
   {
    "duration": 6,
    "start_time": "2021-12-13T11:50:17.982Z"
   },
   {
    "duration": 3,
    "start_time": "2021-12-13T11:50:28.673Z"
   },
   {
    "duration": 1595,
    "start_time": "2021-12-13T11:50:30.567Z"
   },
   {
    "duration": 4,
    "start_time": "2021-12-13T11:50:52.435Z"
   },
   {
    "duration": 6,
    "start_time": "2021-12-13T11:50:56.562Z"
   },
   {
    "duration": 3,
    "start_time": "2021-12-13T12:03:18.919Z"
   },
   {
    "duration": 5,
    "start_time": "2021-12-13T12:04:39.230Z"
   },
   {
    "duration": 2,
    "start_time": "2021-12-13T12:07:50.083Z"
   },
   {
    "duration": 5,
    "start_time": "2021-12-13T12:07:52.574Z"
   },
   {
    "duration": 9,
    "start_time": "2021-12-13T12:08:01.612Z"
   },
   {
    "duration": 4,
    "start_time": "2021-12-13T12:13:44.995Z"
   },
   {
    "duration": 6,
    "start_time": "2021-12-13T12:13:50.146Z"
   },
   {
    "duration": 3,
    "start_time": "2021-12-13T12:15:19.460Z"
   },
   {
    "duration": 5,
    "start_time": "2021-12-13T12:15:23.617Z"
   },
   {
    "duration": 4,
    "start_time": "2021-12-13T12:15:43.388Z"
   },
   {
    "duration": 5,
    "start_time": "2021-12-13T12:15:51.529Z"
   },
   {
    "duration": 4,
    "start_time": "2021-12-13T12:16:01.457Z"
   },
   {
    "duration": 6,
    "start_time": "2021-12-13T12:16:06.957Z"
   },
   {
    "duration": 3,
    "start_time": "2021-12-13T12:17:08.207Z"
   },
   {
    "duration": 4,
    "start_time": "2021-12-13T12:17:36.878Z"
   },
   {
    "duration": 4,
    "start_time": "2021-12-13T12:17:40.342Z"
   },
   {
    "duration": 7,
    "start_time": "2021-12-13T12:17:43.958Z"
   },
   {
    "duration": 4,
    "start_time": "2021-12-13T12:18:51.656Z"
   },
   {
    "duration": 5,
    "start_time": "2021-12-13T12:18:57.654Z"
   },
   {
    "duration": 9,
    "start_time": "2021-12-13T12:19:04.502Z"
   },
   {
    "duration": 252,
    "start_time": "2021-12-13T12:21:49.889Z"
   },
   {
    "duration": 251,
    "start_time": "2021-12-13T12:22:21.133Z"
   },
   {
    "duration": 4,
    "start_time": "2021-12-13T12:22:37.984Z"
   },
   {
    "duration": 9,
    "start_time": "2021-12-13T12:22:40.462Z"
   },
   {
    "duration": 4,
    "start_time": "2021-12-13T12:22:46.620Z"
   },
   {
    "duration": 4,
    "start_time": "2021-12-13T12:23:15.786Z"
   },
   {
    "duration": 3,
    "start_time": "2021-12-13T12:24:17.262Z"
   },
   {
    "duration": 243,
    "start_time": "2021-12-13T12:24:19.475Z"
   },
   {
    "duration": 3,
    "start_time": "2021-12-13T12:24:26.240Z"
   },
   {
    "duration": 2,
    "start_time": "2021-12-13T12:24:33.147Z"
   },
   {
    "duration": 327,
    "start_time": "2021-12-13T12:24:43.943Z"
   },
   {
    "duration": 3,
    "start_time": "2021-12-13T12:24:56.556Z"
   },
   {
    "duration": 2,
    "start_time": "2021-12-13T12:26:05.433Z"
   },
   {
    "duration": 3,
    "start_time": "2021-12-13T12:26:06.823Z"
   },
   {
    "duration": 3,
    "start_time": "2021-12-13T12:26:24.067Z"
   },
   {
    "duration": 3,
    "start_time": "2021-12-13T12:26:28.883Z"
   },
   {
    "duration": 3,
    "start_time": "2021-12-13T12:26:37.562Z"
   },
   {
    "duration": 3,
    "start_time": "2021-12-13T12:27:18.728Z"
   },
   {
    "duration": 3,
    "start_time": "2021-12-13T12:27:20.223Z"
   },
   {
    "duration": 4,
    "start_time": "2021-12-13T12:27:20.646Z"
   },
   {
    "duration": 4,
    "start_time": "2021-12-13T12:27:54.502Z"
   },
   {
    "duration": 3,
    "start_time": "2021-12-13T12:27:59.243Z"
   },
   {
    "duration": 2,
    "start_time": "2021-12-13T12:28:11.939Z"
   },
   {
    "duration": 3,
    "start_time": "2021-12-13T12:29:41.655Z"
   },
   {
    "duration": 496,
    "start_time": "2021-12-13T12:29:59.649Z"
   },
   {
    "duration": 3,
    "start_time": "2021-12-13T12:30:15.866Z"
   },
   {
    "duration": 520,
    "start_time": "2021-12-13T12:30:18.618Z"
   },
   {
    "duration": 2,
    "start_time": "2021-12-13T12:30:27.865Z"
   },
   {
    "duration": 3,
    "start_time": "2021-12-13T12:30:28.955Z"
   },
   {
    "duration": 471,
    "start_time": "2021-12-13T12:30:36.099Z"
   },
   {
    "duration": 2,
    "start_time": "2021-12-13T12:30:44.775Z"
   },
   {
    "duration": 1533,
    "start_time": "2021-12-13T12:32:00.018Z"
   },
   {
    "duration": 2545,
    "start_time": "2021-12-13T12:32:04.745Z"
   },
   {
    "duration": 5,
    "start_time": "2021-12-13T12:32:07.292Z"
   },
   {
    "duration": 4908,
    "start_time": "2021-12-13T12:32:07.299Z"
   },
   {
    "duration": 3,
    "start_time": "2021-12-13T12:32:12.209Z"
   },
   {
    "duration": 35,
    "start_time": "2021-12-13T12:32:12.213Z"
   },
   {
    "duration": 247,
    "start_time": "2021-12-13T12:32:12.249Z"
   },
   {
    "duration": 7,
    "start_time": "2021-12-13T12:32:12.497Z"
   },
   {
    "duration": 141,
    "start_time": "2021-12-13T12:32:12.506Z"
   },
   {
    "duration": 10,
    "start_time": "2021-12-13T12:32:12.649Z"
   },
   {
    "duration": 255,
    "start_time": "2021-12-13T12:32:12.661Z"
   },
   {
    "duration": 47,
    "start_time": "2021-12-13T12:32:12.918Z"
   },
   {
    "duration": 45,
    "start_time": "2021-12-13T12:32:12.966Z"
   },
   {
    "duration": 49,
    "start_time": "2021-12-13T12:32:13.013Z"
   },
   {
    "duration": 1072,
    "start_time": "2021-12-13T12:32:13.064Z"
   },
   {
    "duration": 3,
    "start_time": "2021-12-13T12:32:14.138Z"
   },
   {
    "duration": 594,
    "start_time": "2021-12-13T12:32:14.142Z"
   },
   {
    "duration": 13,
    "start_time": "2021-12-13T12:32:14.737Z"
   },
   {
    "duration": 42,
    "start_time": "2021-12-13T12:32:14.752Z"
   },
   {
    "duration": 1528,
    "start_time": "2021-12-13T12:32:14.796Z"
   },
   {
    "duration": 1462,
    "start_time": "2021-12-13T12:32:16.326Z"
   },
   {
    "duration": 1512,
    "start_time": "2021-12-13T12:32:17.789Z"
   },
   {
    "duration": 850,
    "start_time": "2021-12-13T12:32:19.303Z"
   },
   {
    "duration": 838,
    "start_time": "2021-12-13T12:32:20.157Z"
   },
   {
    "duration": 1520,
    "start_time": "2021-12-13T12:32:20.997Z"
   },
   {
    "duration": 4,
    "start_time": "2021-12-13T12:32:22.519Z"
   },
   {
    "duration": 16,
    "start_time": "2021-12-13T12:32:22.524Z"
   },
   {
    "duration": 34,
    "start_time": "2021-12-13T12:32:22.541Z"
   },
   {
    "duration": 2,
    "start_time": "2021-12-13T12:32:22.577Z"
   },
   {
    "duration": 3,
    "start_time": "2021-12-13T12:32:22.587Z"
   },
   {
    "duration": 6,
    "start_time": "2021-12-13T12:32:22.592Z"
   },
   {
    "duration": 14,
    "start_time": "2021-12-13T12:32:22.600Z"
   },
   {
    "duration": 9,
    "start_time": "2021-12-13T12:32:22.615Z"
   },
   {
    "duration": 7,
    "start_time": "2021-12-13T12:32:22.626Z"
   },
   {
    "duration": 11,
    "start_time": "2021-12-13T12:32:22.634Z"
   },
   {
    "duration": 7,
    "start_time": "2021-12-13T12:32:22.646Z"
   },
   {
    "duration": 625,
    "start_time": "2021-12-13T12:32:22.655Z"
   },
   {
    "duration": -160,
    "start_time": "2021-12-13T12:32:23.442Z"
   },
   {
    "duration": -161,
    "start_time": "2021-12-13T12:32:23.444Z"
   },
   {
    "duration": -162,
    "start_time": "2021-12-13T12:32:23.446Z"
   },
   {
    "duration": -178,
    "start_time": "2021-12-13T12:32:23.463Z"
   },
   {
    "duration": 3,
    "start_time": "2021-12-13T12:32:41.422Z"
   },
   {
    "duration": 3,
    "start_time": "2021-12-13T12:32:49.657Z"
   },
   {
    "duration": 600,
    "start_time": "2021-12-13T12:32:57.305Z"
   },
   {
    "duration": 5,
    "start_time": "2021-12-13T12:33:58.157Z"
   },
   {
    "duration": 3,
    "start_time": "2021-12-13T12:33:58.538Z"
   },
   {
    "duration": 841,
    "start_time": "2021-12-13T12:33:58.811Z"
   },
   {
    "duration": 4,
    "start_time": "2021-12-13T12:34:19.073Z"
   },
   {
    "duration": 5,
    "start_time": "2021-12-13T12:35:36.490Z"
   },
   {
    "duration": 235,
    "start_time": "2021-12-13T12:36:04.019Z"
   },
   {
    "duration": 238,
    "start_time": "2021-12-13T12:36:12.452Z"
   },
   {
    "duration": 3,
    "start_time": "2021-12-13T12:36:21.910Z"
   },
   {
    "duration": 2,
    "start_time": "2021-12-13T12:36:37.600Z"
   },
   {
    "duration": 3,
    "start_time": "2021-12-13T12:36:37.819Z"
   },
   {
    "duration": 3,
    "start_time": "2021-12-13T12:36:37.983Z"
   },
   {
    "duration": 3,
    "start_time": "2021-12-13T12:36:38.133Z"
   },
   {
    "duration": 3,
    "start_time": "2021-12-13T12:36:38.305Z"
   },
   {
    "duration": 4,
    "start_time": "2021-12-13T12:36:38.466Z"
   },
   {
    "duration": 3,
    "start_time": "2021-12-13T12:36:38.649Z"
   },
   {
    "duration": 2614,
    "start_time": "2021-12-13T13:06:37.824Z"
   },
   {
    "duration": 1137,
    "start_time": "2021-12-13T13:06:40.440Z"
   },
   {
    "duration": 5008,
    "start_time": "2021-12-13T13:06:41.580Z"
   },
   {
    "duration": 5,
    "start_time": "2021-12-13T13:06:46.591Z"
   },
   {
    "duration": 15,
    "start_time": "2021-12-13T13:06:46.598Z"
   },
   {
    "duration": 419,
    "start_time": "2021-12-13T13:06:46.615Z"
   },
   {
    "duration": 14,
    "start_time": "2021-12-13T13:06:47.036Z"
   },
   {
    "duration": 262,
    "start_time": "2021-12-13T13:06:47.052Z"
   },
   {
    "duration": 15,
    "start_time": "2021-12-13T13:06:47.318Z"
   },
   {
    "duration": 464,
    "start_time": "2021-12-13T13:06:47.336Z"
   },
   {
    "duration": 99,
    "start_time": "2021-12-13T13:06:47.803Z"
   },
   {
    "duration": 59,
    "start_time": "2021-12-13T13:06:47.904Z"
   },
   {
    "duration": 107,
    "start_time": "2021-12-13T13:06:47.965Z"
   },
   {
    "duration": 1582,
    "start_time": "2021-12-13T13:06:48.075Z"
   },
   {
    "duration": 4,
    "start_time": "2021-12-13T13:06:49.659Z"
   },
   {
    "duration": 615,
    "start_time": "2021-12-13T13:06:49.665Z"
   },
   {
    "duration": 17,
    "start_time": "2021-12-13T13:06:50.282Z"
   },
   {
    "duration": 27,
    "start_time": "2021-12-13T13:06:50.301Z"
   },
   {
    "duration": 1719,
    "start_time": "2021-12-13T13:06:50.330Z"
   },
   {
    "duration": 1477,
    "start_time": "2021-12-13T13:06:52.051Z"
   },
   {
    "duration": 1422,
    "start_time": "2021-12-13T13:06:53.530Z"
   },
   {
    "duration": 1248,
    "start_time": "2021-12-13T13:06:54.954Z"
   },
   {
    "duration": 1220,
    "start_time": "2021-12-13T13:06:56.204Z"
   },
   {
    "duration": 1971,
    "start_time": "2021-12-13T13:06:57.427Z"
   },
   {
    "duration": 5,
    "start_time": "2021-12-13T13:06:59.401Z"
   },
   {
    "duration": 13,
    "start_time": "2021-12-13T13:06:59.408Z"
   },
   {
    "duration": 30,
    "start_time": "2021-12-13T13:06:59.426Z"
   },
   {
    "duration": 2,
    "start_time": "2021-12-13T13:06:59.459Z"
   },
   {
    "duration": 26,
    "start_time": "2021-12-13T13:06:59.463Z"
   },
   {
    "duration": 7,
    "start_time": "2021-12-13T13:06:59.492Z"
   },
   {
    "duration": 11,
    "start_time": "2021-12-13T13:06:59.501Z"
   },
   {
    "duration": 6,
    "start_time": "2021-12-13T13:06:59.514Z"
   },
   {
    "duration": 5,
    "start_time": "2021-12-13T13:06:59.522Z"
   },
   {
    "duration": 5,
    "start_time": "2021-12-13T13:06:59.529Z"
   },
   {
    "duration": 7,
    "start_time": "2021-12-13T13:06:59.535Z"
   },
   {
    "duration": 2459,
    "start_time": "2021-12-13T13:23:14.484Z"
   },
   {
    "duration": 1176,
    "start_time": "2021-12-13T13:23:22.475Z"
   },
   {
    "duration": 679,
    "start_time": "2021-12-13T13:23:24.995Z"
   },
   {
    "duration": 4,
    "start_time": "2021-12-13T13:23:25.676Z"
   },
   {
    "duration": 12,
    "start_time": "2021-12-13T13:23:25.693Z"
   },
   {
    "duration": 252,
    "start_time": "2021-12-13T13:23:25.827Z"
   },
   {
    "duration": 12,
    "start_time": "2021-12-13T13:23:26.080Z"
   },
   {
    "duration": 133,
    "start_time": "2021-12-13T13:23:26.220Z"
   },
   {
    "duration": 12,
    "start_time": "2021-12-13T13:23:26.363Z"
   },
   {
    "duration": 263,
    "start_time": "2021-12-13T13:23:26.873Z"
   },
   {
    "duration": 64,
    "start_time": "2021-12-13T13:23:27.138Z"
   },
   {
    "duration": 34,
    "start_time": "2021-12-13T13:23:27.204Z"
   },
   {
    "duration": 65,
    "start_time": "2021-12-13T13:23:27.240Z"
   },
   {
    "duration": 1711,
    "start_time": "2021-12-13T13:23:27.308Z"
   },
   {
    "duration": 4,
    "start_time": "2021-12-13T13:23:29.021Z"
   },
   {
    "duration": 719,
    "start_time": "2021-12-13T13:23:29.027Z"
   },
   {
    "duration": 13,
    "start_time": "2021-12-13T13:23:29.748Z"
   },
   {
    "duration": 43,
    "start_time": "2021-12-13T13:23:29.763Z"
   },
   {
    "duration": 1548,
    "start_time": "2021-12-13T13:23:29.808Z"
   },
   {
    "duration": 1761,
    "start_time": "2021-12-13T13:23:31.358Z"
   },
   {
    "duration": 1513,
    "start_time": "2021-12-13T13:23:33.121Z"
   },
   {
    "duration": 852,
    "start_time": "2021-12-13T13:23:34.636Z"
   },
   {
    "duration": 1346,
    "start_time": "2021-12-13T13:23:35.490Z"
   },
   {
    "duration": 2197,
    "start_time": "2021-12-13T13:23:36.839Z"
   },
   {
    "duration": 6,
    "start_time": "2021-12-13T13:23:39.039Z"
   },
   {
    "duration": 13,
    "start_time": "2021-12-13T13:23:39.047Z"
   },
   {
    "duration": 47,
    "start_time": "2021-12-13T13:23:39.062Z"
   },
   {
    "duration": 4,
    "start_time": "2021-12-13T13:23:39.111Z"
   },
   {
    "duration": 7,
    "start_time": "2021-12-13T13:23:39.117Z"
   },
   {
    "duration": 5,
    "start_time": "2021-12-13T13:23:39.126Z"
   },
   {
    "duration": 6,
    "start_time": "2021-12-13T13:23:39.133Z"
   },
   {
    "duration": 9,
    "start_time": "2021-12-13T13:23:39.140Z"
   },
   {
    "duration": 6,
    "start_time": "2021-12-13T13:23:39.150Z"
   },
   {
    "duration": 8,
    "start_time": "2021-12-13T13:23:39.157Z"
   },
   {
    "duration": 3,
    "start_time": "2021-12-13T13:23:39.189Z"
   },
   {
    "duration": -130,
    "start_time": "2021-12-13T13:30:19.503Z"
   },
   {
    "duration": -130,
    "start_time": "2021-12-13T13:30:19.505Z"
   },
   {
    "duration": -131,
    "start_time": "2021-12-13T13:30:19.507Z"
   },
   {
    "duration": -132,
    "start_time": "2021-12-13T13:30:19.509Z"
   },
   {
    "duration": -132,
    "start_time": "2021-12-13T13:30:19.511Z"
   },
   {
    "duration": -132,
    "start_time": "2021-12-13T13:30:19.512Z"
   },
   {
    "duration": -133,
    "start_time": "2021-12-13T13:30:19.514Z"
   },
   {
    "duration": -134,
    "start_time": "2021-12-13T13:30:19.516Z"
   },
   {
    "duration": -135,
    "start_time": "2021-12-13T13:30:19.518Z"
   },
   {
    "duration": -136,
    "start_time": "2021-12-13T13:30:19.520Z"
   },
   {
    "duration": -136,
    "start_time": "2021-12-13T13:30:19.521Z"
   },
   {
    "duration": -137,
    "start_time": "2021-12-13T13:30:19.523Z"
   },
   {
    "duration": -138,
    "start_time": "2021-12-13T13:30:19.525Z"
   },
   {
    "duration": -139,
    "start_time": "2021-12-13T13:30:19.527Z"
   },
   {
    "duration": -140,
    "start_time": "2021-12-13T13:30:19.529Z"
   },
   {
    "duration": -141,
    "start_time": "2021-12-13T13:30:19.531Z"
   },
   {
    "duration": -142,
    "start_time": "2021-12-13T13:30:19.533Z"
   },
   {
    "duration": -143,
    "start_time": "2021-12-13T13:30:19.535Z"
   },
   {
    "duration": -144,
    "start_time": "2021-12-13T13:30:19.537Z"
   },
   {
    "duration": -145,
    "start_time": "2021-12-13T13:30:19.539Z"
   },
   {
    "duration": -147,
    "start_time": "2021-12-13T13:30:19.542Z"
   },
   {
    "duration": -148,
    "start_time": "2021-12-13T13:30:19.544Z"
   },
   {
    "duration": -156,
    "start_time": "2021-12-13T13:30:19.553Z"
   },
   {
    "duration": -157,
    "start_time": "2021-12-13T13:30:19.555Z"
   },
   {
    "duration": -158,
    "start_time": "2021-12-13T13:30:19.557Z"
   },
   {
    "duration": -159,
    "start_time": "2021-12-13T13:30:19.559Z"
   },
   {
    "duration": -160,
    "start_time": "2021-12-13T13:30:19.561Z"
   },
   {
    "duration": -160,
    "start_time": "2021-12-13T13:30:19.562Z"
   },
   {
    "duration": -161,
    "start_time": "2021-12-13T13:30:19.564Z"
   },
   {
    "duration": -162,
    "start_time": "2021-12-13T13:30:19.566Z"
   },
   {
    "duration": -163,
    "start_time": "2021-12-13T13:30:19.568Z"
   },
   {
    "duration": -163,
    "start_time": "2021-12-13T13:30:19.569Z"
   },
   {
    "duration": -164,
    "start_time": "2021-12-13T13:30:19.571Z"
   },
   {
    "duration": -165,
    "start_time": "2021-12-13T13:30:19.573Z"
   },
   {
    "duration": -165,
    "start_time": "2021-12-13T13:30:19.574Z"
   },
   {
    "duration": -167,
    "start_time": "2021-12-13T13:30:19.577Z"
   },
   {
    "duration": -168,
    "start_time": "2021-12-13T13:30:19.578Z"
   },
   {
    "duration": -169,
    "start_time": "2021-12-13T13:30:19.580Z"
   },
   {
    "duration": -169,
    "start_time": "2021-12-13T13:30:19.581Z"
   },
   {
    "duration": -170,
    "start_time": "2021-12-13T13:30:19.583Z"
   },
   {
    "duration": 2364,
    "start_time": "2021-12-13T13:30:25.129Z"
   },
   {
    "duration": 1151,
    "start_time": "2021-12-13T13:30:27.495Z"
   },
   {
    "duration": 681,
    "start_time": "2021-12-13T13:30:28.648Z"
   },
   {
    "duration": 4,
    "start_time": "2021-12-13T13:30:29.331Z"
   },
   {
    "duration": 13,
    "start_time": "2021-12-13T13:30:29.337Z"
   },
   {
    "duration": 266,
    "start_time": "2021-12-13T13:30:29.352Z"
   },
   {
    "duration": 9,
    "start_time": "2021-12-13T13:30:29.620Z"
   },
   {
    "duration": 165,
    "start_time": "2021-12-13T13:30:29.632Z"
   },
   {
    "duration": 10,
    "start_time": "2021-12-13T13:30:29.799Z"
   },
   {
    "duration": 289,
    "start_time": "2021-12-13T13:30:29.811Z"
   },
   {
    "duration": 46,
    "start_time": "2021-12-13T13:30:30.102Z"
   },
   {
    "duration": 47,
    "start_time": "2021-12-13T13:30:30.150Z"
   },
   {
    "duration": 46,
    "start_time": "2021-12-13T13:30:30.199Z"
   },
   {
    "duration": 1062,
    "start_time": "2021-12-13T13:30:30.247Z"
   },
   {
    "duration": 3,
    "start_time": "2021-12-13T13:30:31.311Z"
   },
   {
    "duration": 607,
    "start_time": "2021-12-13T13:30:31.315Z"
   },
   {
    "duration": 12,
    "start_time": "2021-12-13T13:30:31.923Z"
   },
   {
    "duration": 25,
    "start_time": "2021-12-13T13:30:31.937Z"
   },
   {
    "duration": 1945,
    "start_time": "2021-12-13T13:30:31.963Z"
   },
   {
    "duration": 2177,
    "start_time": "2021-12-13T13:30:33.911Z"
   },
   {
    "duration": 1867,
    "start_time": "2021-12-13T13:30:36.090Z"
   },
   {
    "duration": 1120,
    "start_time": "2021-12-13T13:30:37.959Z"
   },
   {
    "duration": 1226,
    "start_time": "2021-12-13T13:30:39.090Z"
   },
   {
    "duration": 1979,
    "start_time": "2021-12-13T13:30:40.318Z"
   },
   {
    "duration": 5,
    "start_time": "2021-12-13T13:30:42.299Z"
   },
   {
    "duration": 15,
    "start_time": "2021-12-13T13:30:42.306Z"
   },
   {
    "duration": 38,
    "start_time": "2021-12-13T13:30:42.323Z"
   },
   {
    "duration": 25,
    "start_time": "2021-12-13T13:30:42.363Z"
   },
   {
    "duration": 5,
    "start_time": "2021-12-13T13:30:42.391Z"
   },
   {
    "duration": 4,
    "start_time": "2021-12-13T13:30:42.398Z"
   },
   {
    "duration": 8,
    "start_time": "2021-12-13T13:30:42.404Z"
   },
   {
    "duration": 5,
    "start_time": "2021-12-13T13:30:42.414Z"
   },
   {
    "duration": 7,
    "start_time": "2021-12-13T13:30:42.420Z"
   },
   {
    "duration": 5,
    "start_time": "2021-12-13T13:30:42.429Z"
   },
   {
    "duration": 5,
    "start_time": "2021-12-13T13:30:42.436Z"
   },
   {
    "duration": 795399,
    "start_time": "2021-12-13T13:30:42.443Z"
   },
   {
    "duration": -131,
    "start_time": "2021-12-13T13:43:57.975Z"
   },
   {
    "duration": -133,
    "start_time": "2021-12-13T13:43:57.978Z"
   },
   {
    "duration": -133,
    "start_time": "2021-12-13T13:43:57.980Z"
   },
   {
    "duration": -134,
    "start_time": "2021-12-13T13:43:57.982Z"
   },
   {
    "duration": -135,
    "start_time": "2021-12-13T13:43:57.984Z"
   },
   {
    "duration": 2802,
    "start_time": "2021-12-13T13:44:02.782Z"
   },
   {
    "duration": 8,
    "start_time": "2021-12-13T13:44:05.587Z"
   },
   {
    "duration": 4880,
    "start_time": "2021-12-13T13:44:05.597Z"
   },
   {
    "duration": 3,
    "start_time": "2021-12-13T13:44:10.480Z"
   },
   {
    "duration": 13,
    "start_time": "2021-12-13T13:44:10.485Z"
   },
   {
    "duration": 249,
    "start_time": "2021-12-13T13:44:10.500Z"
   },
   {
    "duration": 10,
    "start_time": "2021-12-13T13:44:10.751Z"
   },
   {
    "duration": 243,
    "start_time": "2021-12-13T13:44:10.764Z"
   },
   {
    "duration": 11,
    "start_time": "2021-12-13T13:44:11.009Z"
   },
   {
    "duration": 282,
    "start_time": "2021-12-13T13:44:11.022Z"
   },
   {
    "duration": 48,
    "start_time": "2021-12-13T13:44:11.305Z"
   },
   {
    "duration": 54,
    "start_time": "2021-12-13T13:44:11.355Z"
   },
   {
    "duration": 48,
    "start_time": "2021-12-13T13:44:11.411Z"
   },
   {
    "duration": 1030,
    "start_time": "2021-12-13T13:44:11.461Z"
   },
   {
    "duration": 4,
    "start_time": "2021-12-13T13:44:12.493Z"
   },
   {
    "duration": 614,
    "start_time": "2021-12-13T13:44:12.499Z"
   },
   {
    "duration": 13,
    "start_time": "2021-12-13T13:44:13.115Z"
   },
   {
    "duration": 68,
    "start_time": "2021-12-13T13:44:13.131Z"
   },
   {
    "duration": 1941,
    "start_time": "2021-12-13T13:44:13.201Z"
   },
   {
    "duration": 1900,
    "start_time": "2021-12-13T13:44:15.144Z"
   },
   {
    "duration": 2034,
    "start_time": "2021-12-13T13:44:17.046Z"
   },
   {
    "duration": 1223,
    "start_time": "2021-12-13T13:44:19.082Z"
   },
   {
    "duration": 1329,
    "start_time": "2021-12-13T13:44:20.309Z"
   },
   {
    "duration": 2180,
    "start_time": "2021-12-13T13:44:21.640Z"
   },
   {
    "duration": 9,
    "start_time": "2021-12-13T13:44:23.822Z"
   },
   {
    "duration": 20,
    "start_time": "2021-12-13T13:44:23.833Z"
   },
   {
    "duration": 52,
    "start_time": "2021-12-13T13:44:23.855Z"
   },
   {
    "duration": 4,
    "start_time": "2021-12-13T13:44:23.909Z"
   },
   {
    "duration": 6,
    "start_time": "2021-12-13T13:44:23.915Z"
   },
   {
    "duration": 7,
    "start_time": "2021-12-13T13:44:23.923Z"
   },
   {
    "duration": 10,
    "start_time": "2021-12-13T13:44:23.932Z"
   },
   {
    "duration": 8,
    "start_time": "2021-12-13T13:44:23.944Z"
   },
   {
    "duration": 6,
    "start_time": "2021-12-13T13:44:23.953Z"
   },
   {
    "duration": 29,
    "start_time": "2021-12-13T13:44:23.961Z"
   },
   {
    "duration": 5,
    "start_time": "2021-12-13T13:44:23.993Z"
   },
   {
    "duration": 230100,
    "start_time": "2021-12-13T13:44:24.000Z"
   },
   {
    "duration": 87,
    "start_time": "2021-12-13T13:48:14.101Z"
   },
   {
    "duration": 93,
    "start_time": "2021-12-13T13:58:55.564Z"
   },
   {
    "duration": 4,
    "start_time": "2021-12-13T13:59:16.416Z"
   },
   {
    "duration": 13,
    "start_time": "2021-12-13T14:23:43.719Z"
   },
   {
    "duration": 988,
    "start_time": "2021-12-13T14:23:44.470Z"
   },
   {
    "duration": 6,
    "start_time": "2021-12-13T14:23:46.045Z"
   },
   {
    "duration": 15,
    "start_time": "2021-12-13T14:23:46.260Z"
   },
   {
    "duration": 450,
    "start_time": "2021-12-13T14:23:46.443Z"
   },
   {
    "duration": 28,
    "start_time": "2021-12-13T14:23:46.895Z"
   },
   {
    "duration": 258,
    "start_time": "2021-12-13T14:23:46.928Z"
   },
   {
    "duration": 31,
    "start_time": "2021-12-13T14:23:47.189Z"
   },
   {
    "duration": 499,
    "start_time": "2021-12-13T14:23:47.224Z"
   },
   {
    "duration": 95,
    "start_time": "2021-12-13T14:23:47.726Z"
   },
   {
    "duration": 62,
    "start_time": "2021-12-13T14:23:47.827Z"
   },
   {
    "duration": 112,
    "start_time": "2021-12-13T14:23:47.892Z"
   },
   {
    "duration": 1446,
    "start_time": "2021-12-13T14:23:50.179Z"
   },
   {
    "duration": 5,
    "start_time": "2021-12-13T14:23:56.112Z"
   },
   {
    "duration": 1133,
    "start_time": "2021-12-13T14:23:56.365Z"
   },
   {
    "duration": 23,
    "start_time": "2021-12-13T14:23:57.501Z"
   },
   {
    "duration": 46,
    "start_time": "2021-12-13T14:24:00.081Z"
   },
   {
    "duration": 2209,
    "start_time": "2021-12-13T14:24:04.359Z"
   },
   {
    "duration": 2310,
    "start_time": "2021-12-13T14:24:11.575Z"
   },
   {
    "duration": 2206,
    "start_time": "2021-12-13T14:24:15.978Z"
   },
   {
    "duration": 1470,
    "start_time": "2021-12-13T14:24:18.187Z"
   },
   {
    "duration": 1429,
    "start_time": "2021-12-13T14:24:19.661Z"
   },
   {
    "duration": 2366,
    "start_time": "2021-12-13T14:24:21.093Z"
   },
   {
    "duration": 7,
    "start_time": "2021-12-13T14:24:23.462Z"
   },
   {
    "duration": 26,
    "start_time": "2021-12-13T14:24:23.472Z"
   },
   {
    "duration": 57,
    "start_time": "2021-12-13T14:24:23.501Z"
   },
   {
    "duration": 4,
    "start_time": "2021-12-13T14:24:24.579Z"
   },
   {
    "duration": 4,
    "start_time": "2021-12-13T14:24:24.946Z"
   },
   {
    "duration": 493,
    "start_time": "2021-12-13T14:24:36.765Z"
   },
   {
    "duration": 7,
    "start_time": "2021-12-13T14:24:42.627Z"
   },
   {
    "duration": 4,
    "start_time": "2021-12-13T14:24:43.863Z"
   },
   {
    "duration": 4,
    "start_time": "2021-12-13T14:24:45.593Z"
   },
   {
    "duration": 8,
    "start_time": "2021-12-13T14:24:48.540Z"
   },
   {
    "duration": 7,
    "start_time": "2021-12-13T14:24:51.726Z"
   },
   {
    "duration": 4,
    "start_time": "2021-12-13T14:24:55.962Z"
   },
   {
    "duration": 307716,
    "start_time": "2021-12-13T14:24:56.447Z"
   },
   {
    "duration": 58,
    "start_time": "2021-12-13T16:25:09.223Z"
   },
   {
    "duration": 59,
    "start_time": "2021-12-13T16:37:45.257Z"
   },
   {
    "duration": 104897,
    "start_time": "2021-12-13T16:41:27.779Z"
   },
   {
    "duration": 1178,
    "start_time": "2021-12-13T16:43:12.678Z"
   },
   {
    "duration": 660,
    "start_time": "2021-12-13T16:43:13.858Z"
   },
   {
    "duration": 4,
    "start_time": "2021-12-13T16:43:14.519Z"
   },
   {
    "duration": 16,
    "start_time": "2021-12-13T16:43:14.524Z"
   },
   {
    "duration": 287,
    "start_time": "2021-12-13T16:43:14.541Z"
   },
   {
    "duration": 9,
    "start_time": "2021-12-13T16:43:14.830Z"
   },
   {
    "duration": 170,
    "start_time": "2021-12-13T16:43:14.842Z"
   },
   {
    "duration": 12,
    "start_time": "2021-12-13T16:43:15.014Z"
   },
   {
    "duration": 309,
    "start_time": "2021-12-13T16:43:15.028Z"
   },
   {
    "duration": 60,
    "start_time": "2021-12-13T16:43:15.338Z"
   },
   {
    "duration": 34,
    "start_time": "2021-12-13T16:43:15.399Z"
   },
   {
    "duration": 63,
    "start_time": "2021-12-13T16:43:15.434Z"
   },
   {
    "duration": 22774,
    "start_time": "2021-12-13T16:51:22.455Z"
   },
   {
    "duration": 6,
    "start_time": "2021-12-13T16:51:45.230Z"
   },
   {
    "duration": 699,
    "start_time": "2021-12-13T16:51:45.238Z"
   },
   {
    "duration": 3,
    "start_time": "2021-12-13T16:51:45.939Z"
   },
   {
    "duration": 14,
    "start_time": "2021-12-13T16:51:45.943Z"
   },
   {
    "duration": 278,
    "start_time": "2021-12-13T16:51:45.959Z"
   },
   {
    "duration": 6,
    "start_time": "2021-12-13T16:51:46.239Z"
   },
   {
    "duration": 161,
    "start_time": "2021-12-13T16:51:46.248Z"
   },
   {
    "duration": 10,
    "start_time": "2021-12-13T16:51:46.411Z"
   },
   {
    "duration": 305,
    "start_time": "2021-12-13T16:51:46.423Z"
   },
   {
    "duration": 67,
    "start_time": "2021-12-13T16:51:46.730Z"
   },
   {
    "duration": 35,
    "start_time": "2021-12-13T16:51:46.799Z"
   },
   {
    "duration": 69,
    "start_time": "2021-12-13T16:51:46.836Z"
   },
   {
    "duration": 22,
    "start_time": "2021-12-13T16:51:46.906Z"
   },
   {
    "duration": 29,
    "start_time": "2021-12-13T16:52:22.608Z"
   },
   {
    "duration": 82,
    "start_time": "2021-12-13T16:56:30.316Z"
   },
   {
    "duration": 104927,
    "start_time": "2021-12-13T17:05:45.854Z"
   },
   {
    "duration": 1189,
    "start_time": "2021-12-13T17:07:30.784Z"
   },
   {
    "duration": 684,
    "start_time": "2021-12-13T17:07:31.975Z"
   },
   {
    "duration": 4,
    "start_time": "2021-12-13T17:07:32.662Z"
   },
   {
    "duration": 26,
    "start_time": "2021-12-13T17:07:32.668Z"
   },
   {
    "duration": 294,
    "start_time": "2021-12-13T17:07:32.696Z"
   },
   {
    "duration": 9,
    "start_time": "2021-12-13T17:07:32.992Z"
   },
   {
    "duration": 164,
    "start_time": "2021-12-13T17:07:33.004Z"
   },
   {
    "duration": 21,
    "start_time": "2021-12-13T17:07:33.171Z"
   },
   {
    "duration": 293,
    "start_time": "2021-12-13T17:07:33.194Z"
   },
   {
    "duration": 51,
    "start_time": "2021-12-13T17:07:33.491Z"
   },
   {
    "duration": 54,
    "start_time": "2021-12-13T17:07:33.544Z"
   },
   {
    "duration": 54,
    "start_time": "2021-12-13T17:07:33.600Z"
   },
   {
    "duration": 46,
    "start_time": "2021-12-13T17:07:33.656Z"
   },
   {
    "duration": 4,
    "start_time": "2021-12-13T17:07:33.704Z"
   },
   {
    "duration": 629,
    "start_time": "2021-12-13T17:07:33.709Z"
   },
   {
    "duration": 12,
    "start_time": "2021-12-13T17:07:34.340Z"
   },
   {
    "duration": 44,
    "start_time": "2021-12-13T17:07:34.354Z"
   },
   {
    "duration": 1569,
    "start_time": "2021-12-13T17:07:34.400Z"
   },
   {
    "duration": 1388,
    "start_time": "2021-12-13T17:07:35.971Z"
   },
   {
    "duration": 1320,
    "start_time": "2021-12-13T17:07:37.361Z"
   },
   {
    "duration": 909,
    "start_time": "2021-12-13T17:07:38.683Z"
   },
   {
    "duration": 945,
    "start_time": "2021-12-13T17:07:39.595Z"
   },
   {
    "duration": 1752,
    "start_time": "2021-12-13T17:07:40.542Z"
   },
   {
    "duration": 6,
    "start_time": "2021-12-13T17:10:32.240Z"
   },
   {
    "duration": 11,
    "start_time": "2021-12-13T17:10:41.006Z"
   },
   {
    "duration": 7,
    "start_time": "2021-12-13T17:11:10.498Z"
   },
   {
    "duration": 24,
    "start_time": "2021-12-13T17:11:13.518Z"
   },
   {
    "duration": 302,
    "start_time": "2021-12-13T17:13:05.312Z"
   },
   {
    "duration": 229,
    "start_time": "2021-12-13T17:13:24.980Z"
   },
   {
    "duration": 262,
    "start_time": "2021-12-13T17:14:14.033Z"
   },
   {
    "duration": 207,
    "start_time": "2021-12-13T17:14:36.107Z"
   },
   {
    "duration": 61,
    "start_time": "2021-12-13T17:14:52.296Z"
   },
   {
    "duration": 220,
    "start_time": "2021-12-13T17:15:02.667Z"
   },
   {
    "duration": 187,
    "start_time": "2021-12-13T17:16:12.975Z"
   },
   {
    "duration": 1445,
    "start_time": "2021-12-13T17:16:24.643Z"
   },
   {
    "duration": 1415,
    "start_time": "2021-12-13T17:20:25.695Z"
   },
   {
    "duration": 11,
    "start_time": "2021-12-13T17:32:08.154Z"
   },
   {
    "duration": 11,
    "start_time": "2021-12-13T17:32:12.303Z"
   },
   {
    "duration": 12,
    "start_time": "2021-12-13T17:32:59.101Z"
   },
   {
    "duration": 18,
    "start_time": "2021-12-13T17:33:00.219Z"
   },
   {
    "duration": 185,
    "start_time": "2021-12-13T17:34:03.424Z"
   },
   {
    "duration": 6,
    "start_time": "2021-12-13T17:34:35.292Z"
   },
   {
    "duration": 3,
    "start_time": "2021-12-13T17:34:53.326Z"
   },
   {
    "duration": 3,
    "start_time": "2021-12-13T17:37:29.173Z"
   },
   {
    "duration": 88,
    "start_time": "2021-12-13T17:37:30.935Z"
   },
   {
    "duration": 168,
    "start_time": "2021-12-13T17:37:38.385Z"
   },
   {
    "duration": 177,
    "start_time": "2021-12-13T17:38:05.756Z"
   },
   {
    "duration": 3,
    "start_time": "2021-12-13T17:38:06.433Z"
   },
   {
    "duration": 4,
    "start_time": "2021-12-13T17:38:11.584Z"
   },
   {
    "duration": 9,
    "start_time": "2021-12-13T17:38:12.467Z"
   },
   {
    "duration": 19,
    "start_time": "2021-12-13T17:38:12.690Z"
   },
   {
    "duration": 17,
    "start_time": "2021-12-13T17:38:12.932Z"
   },
   {
    "duration": 3,
    "start_time": "2021-12-13T17:38:13.989Z"
   },
   {
    "duration": 3,
    "start_time": "2021-12-13T17:38:14.688Z"
   },
   {
    "duration": 3,
    "start_time": "2021-12-13T17:38:14.933Z"
   },
   {
    "duration": 3,
    "start_time": "2021-12-13T17:38:15.152Z"
   },
   {
    "duration": 3,
    "start_time": "2021-12-13T17:38:15.530Z"
   },
   {
    "duration": 4,
    "start_time": "2021-12-13T17:38:15.916Z"
   },
   {
    "duration": 4,
    "start_time": "2021-12-13T17:38:17.613Z"
   },
   {
    "duration": 4,
    "start_time": "2021-12-13T17:38:18.499Z"
   },
   {
    "duration": 4,
    "start_time": "2021-12-13T17:38:18.817Z"
   },
   {
    "duration": 228209,
    "start_time": "2021-12-13T17:38:19.733Z"
   },
   {
    "duration": 89946,
    "start_time": "2021-12-13T17:46:34.650Z"
   },
   {
    "duration": 7,
    "start_time": "2021-12-13T17:48:04.599Z"
   },
   {
    "duration": 688,
    "start_time": "2021-12-13T17:48:04.609Z"
   },
   {
    "duration": 4,
    "start_time": "2021-12-13T17:48:05.299Z"
   },
   {
    "duration": 14,
    "start_time": "2021-12-13T17:48:05.305Z"
   },
   {
    "duration": 281,
    "start_time": "2021-12-13T17:48:05.321Z"
   },
   {
    "duration": 6,
    "start_time": "2021-12-13T17:48:05.604Z"
   },
   {
    "duration": 159,
    "start_time": "2021-12-13T17:48:05.613Z"
   },
   {
    "duration": 18,
    "start_time": "2021-12-13T17:48:05.774Z"
   },
   {
    "duration": 287,
    "start_time": "2021-12-13T17:48:05.794Z"
   },
   {
    "duration": 56,
    "start_time": "2021-12-13T17:48:06.083Z"
   },
   {
    "duration": 50,
    "start_time": "2021-12-13T17:48:06.141Z"
   },
   {
    "duration": 53,
    "start_time": "2021-12-13T17:48:06.193Z"
   },
   {
    "duration": 20,
    "start_time": "2021-12-13T17:48:06.247Z"
   },
   {
    "duration": 21,
    "start_time": "2021-12-13T17:48:06.269Z"
   },
   {
    "duration": 628,
    "start_time": "2021-12-13T17:48:06.292Z"
   },
   {
    "duration": 13,
    "start_time": "2021-12-13T17:48:06.922Z"
   },
   {
    "duration": 28,
    "start_time": "2021-12-13T17:48:06.937Z"
   },
   {
    "duration": 1598,
    "start_time": "2021-12-13T17:48:06.967Z"
   },
   {
    "duration": 1404,
    "start_time": "2021-12-13T17:48:08.567Z"
   },
   {
    "duration": 1409,
    "start_time": "2021-12-13T17:48:09.973Z"
   },
   {
    "duration": 852,
    "start_time": "2021-12-13T17:48:11.385Z"
   },
   {
    "duration": 893,
    "start_time": "2021-12-13T17:48:12.240Z"
   },
   {
    "duration": 1528,
    "start_time": "2021-12-13T17:48:13.135Z"
   },
   {
    "duration": 4,
    "start_time": "2021-12-13T17:48:14.665Z"
   },
   {
    "duration": 23,
    "start_time": "2021-12-13T17:48:14.670Z"
   },
   {
    "duration": 24,
    "start_time": "2021-12-13T17:48:14.695Z"
   },
   {
    "duration": 39,
    "start_time": "2021-12-13T17:48:14.721Z"
   },
   {
    "duration": 10,
    "start_time": "2021-12-13T17:48:14.762Z"
   },
   {
    "duration": 21,
    "start_time": "2021-12-13T17:48:14.773Z"
   },
   {
    "duration": 8,
    "start_time": "2021-12-13T17:48:14.796Z"
   },
   {
    "duration": 20,
    "start_time": "2021-12-13T17:48:14.805Z"
   },
   {
    "duration": 11,
    "start_time": "2021-12-13T17:48:14.826Z"
   },
   {
    "duration": 18,
    "start_time": "2021-12-13T17:48:14.838Z"
   },
   {
    "duration": 24,
    "start_time": "2021-12-13T17:48:14.857Z"
   },
   {
    "duration": 16,
    "start_time": "2021-12-13T17:48:14.883Z"
   },
   {
    "duration": 21,
    "start_time": "2021-12-13T17:48:14.900Z"
   },
   {
    "duration": 373964,
    "start_time": "2021-12-13T17:48:14.923Z"
   },
   {
    "duration": 61,
    "start_time": "2021-12-13T17:56:19.483Z"
   },
   {
    "duration": 3,
    "start_time": "2021-12-13T17:57:52.104Z"
   },
   {
    "duration": 104910,
    "start_time": "2021-12-13T17:58:08.556Z"
   },
   {
    "duration": 6,
    "start_time": "2021-12-13T17:59:53.468Z"
   },
   {
    "duration": 683,
    "start_time": "2021-12-13T17:59:53.476Z"
   },
   {
    "duration": 3,
    "start_time": "2021-12-13T17:59:54.161Z"
   },
   {
    "duration": 17,
    "start_time": "2021-12-13T17:59:54.166Z"
   },
   {
    "duration": 276,
    "start_time": "2021-12-13T17:59:54.192Z"
   },
   {
    "duration": 7,
    "start_time": "2021-12-13T17:59:54.469Z"
   },
   {
    "duration": 161,
    "start_time": "2021-12-13T17:59:54.478Z"
   },
   {
    "duration": 11,
    "start_time": "2021-12-13T17:59:54.641Z"
   },
   {
    "duration": 295,
    "start_time": "2021-12-13T17:59:54.653Z"
   },
   {
    "duration": 59,
    "start_time": "2021-12-13T17:59:54.950Z"
   },
   {
    "duration": 36,
    "start_time": "2021-12-13T17:59:55.011Z"
   },
   {
    "duration": 67,
    "start_time": "2021-12-13T17:59:55.049Z"
   },
   {
    "duration": 18,
    "start_time": "2021-12-13T17:59:55.118Z"
   },
   {
    "duration": 3,
    "start_time": "2021-12-13T17:59:55.138Z"
   },
   {
    "duration": 626,
    "start_time": "2021-12-13T17:59:55.143Z"
   },
   {
    "duration": 20,
    "start_time": "2021-12-13T17:59:55.771Z"
   },
   {
    "duration": 29,
    "start_time": "2021-12-13T17:59:55.793Z"
   },
   {
    "duration": 1470,
    "start_time": "2021-12-13T17:59:55.824Z"
   },
   {
    "duration": 1559,
    "start_time": "2021-12-13T17:59:57.296Z"
   },
   {
    "duration": 1566,
    "start_time": "2021-12-13T17:59:58.856Z"
   },
   {
    "duration": 889,
    "start_time": "2021-12-13T18:00:00.424Z"
   },
   {
    "duration": 918,
    "start_time": "2021-12-13T18:00:01.316Z"
   },
   {
    "duration": 1429,
    "start_time": "2021-12-13T18:00:02.236Z"
   },
   {
    "duration": 5,
    "start_time": "2021-12-13T18:00:03.668Z"
   },
   {
    "duration": 26,
    "start_time": "2021-12-13T18:00:03.675Z"
   },
   {
    "duration": 13,
    "start_time": "2021-12-13T18:00:03.703Z"
   },
   {
    "duration": 35,
    "start_time": "2021-12-13T18:00:03.717Z"
   },
   {
    "duration": 3,
    "start_time": "2021-12-13T18:00:03.754Z"
   },
   {
    "duration": 10,
    "start_time": "2021-12-13T18:00:03.759Z"
   },
   {
    "duration": 10,
    "start_time": "2021-12-13T18:00:03.770Z"
   },
   {
    "duration": 9,
    "start_time": "2021-12-13T18:00:03.782Z"
   },
   {
    "duration": 6,
    "start_time": "2021-12-13T18:00:03.793Z"
   },
   {
    "duration": 17,
    "start_time": "2021-12-13T18:00:03.801Z"
   },
   {
    "duration": 7,
    "start_time": "2021-12-13T18:00:03.819Z"
   },
   {
    "duration": 6,
    "start_time": "2021-12-13T18:00:03.827Z"
   },
   {
    "duration": 8,
    "start_time": "2021-12-13T18:00:03.834Z"
   },
   {
    "duration": 338022,
    "start_time": "2021-12-13T18:00:03.843Z"
   }
  ],
  "kernelspec": {
   "display_name": "Python 3 (ipykernel)",
   "language": "python",
   "name": "python3"
  },
  "language_info": {
   "codemirror_mode": {
    "name": "ipython",
    "version": 3
   },
   "file_extension": ".py",
   "mimetype": "text/x-python",
   "name": "python",
   "nbconvert_exporter": "python",
   "pygments_lexer": "ipython3",
   "version": "3.9.7"
  },
  "toc": {
   "base_numbering": 1,
   "nav_menu": {},
   "number_sections": true,
   "sideBar": true,
   "skip_h1_title": true,
   "title_cell": "Содержание",
   "title_sidebar": "Contents",
   "toc_cell": true,
   "toc_position": {
    "height": "calc(100% - 180px)",
    "left": "10px",
    "top": "150px",
    "width": "363.438px"
   },
   "toc_section_display": true,
   "toc_window_display": true
  }
 },
 "nbformat": 4,
 "nbformat_minor": 2
}
