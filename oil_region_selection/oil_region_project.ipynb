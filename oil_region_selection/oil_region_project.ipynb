{
 "cells": [
  {
   "cell_type": "markdown",
   "metadata": {},
   "source": [
    "## Загрузка и подготовка данных"
   ]
  },
  {
   "cell_type": "code",
   "execution_count": 29,
   "metadata": {},
   "outputs": [],
   "source": [
    "import pandas as pd\n",
    "import numpy as np\n",
    "from sklearn.pipeline import Pipeline\n",
    "from sklearn.linear_model import LinearRegression\n",
    "from sklearn.model_selection import train_test_split\n",
    "from sklearn.metrics import mean_squared_error\n",
    "from scipy import stats as st\n",
    "import warnings\n",
    "warnings.filterwarnings('ignore')"
   ]
  },
  {
   "cell_type": "code",
   "execution_count": 30,
   "metadata": {},
   "outputs": [],
   "source": [
    "df_0 = pd.read_csv('/datasets/geo_data_0.csv')\n",
    "df_1 = pd.read_csv('/datasets/geo_data_1.csv')\n",
    "df_2 = pd.read_csv('/datasets/geo_data_2.csv')"
   ]
  },
  {
   "cell_type": "code",
   "execution_count": 31,
   "metadata": {},
   "outputs": [
    {
     "data": {
      "text/plain": [
       "id         0.00%\n",
       "f0         0.00%\n",
       "f1         0.00%\n",
       "f2         0.00%\n",
       "product    0.00%\n",
       "dtype: object"
      ]
     },
     "execution_count": 31,
     "metadata": {},
     "output_type": "execute_result"
    }
   ],
   "source": [
    "df_0.isna().median().apply('{:.2%}'.format)"
   ]
  },
  {
   "cell_type": "code",
   "execution_count": 32,
   "metadata": {},
   "outputs": [
    {
     "name": "stdout",
     "output_type": "stream",
     "text": [
      "<class 'pandas.core.frame.DataFrame'>\n",
      "RangeIndex: 100000 entries, 0 to 99999\n",
      "Data columns (total 5 columns):\n",
      "id         100000 non-null object\n",
      "f0         100000 non-null float64\n",
      "f1         100000 non-null float64\n",
      "f2         100000 non-null float64\n",
      "product    100000 non-null float64\n",
      "dtypes: float64(4), object(1)\n",
      "memory usage: 3.8+ MB\n"
     ]
    }
   ],
   "source": [
    "df_0.info()"
   ]
  },
  {
   "cell_type": "code",
   "execution_count": 33,
   "metadata": {},
   "outputs": [
    {
     "data": {
      "text/html": [
       "<div>\n",
       "<style scoped>\n",
       "    .dataframe tbody tr th:only-of-type {\n",
       "        vertical-align: middle;\n",
       "    }\n",
       "\n",
       "    .dataframe tbody tr th {\n",
       "        vertical-align: top;\n",
       "    }\n",
       "\n",
       "    .dataframe thead th {\n",
       "        text-align: right;\n",
       "    }\n",
       "</style>\n",
       "<table border=\"1\" class=\"dataframe\">\n",
       "  <thead>\n",
       "    <tr style=\"text-align: right;\">\n",
       "      <th></th>\n",
       "      <th>id</th>\n",
       "      <th>f0</th>\n",
       "      <th>f1</th>\n",
       "      <th>f2</th>\n",
       "      <th>product</th>\n",
       "    </tr>\n",
       "  </thead>\n",
       "  <tbody>\n",
       "    <tr>\n",
       "      <td>13750</td>\n",
       "      <td>4TVfS</td>\n",
       "      <td>0.590369</td>\n",
       "      <td>-0.280590</td>\n",
       "      <td>3.289127</td>\n",
       "      <td>138.841534</td>\n",
       "    </tr>\n",
       "    <tr>\n",
       "      <td>47808</td>\n",
       "      <td>AjcLI</td>\n",
       "      <td>0.130646</td>\n",
       "      <td>-0.078804</td>\n",
       "      <td>-0.028835</td>\n",
       "      <td>105.105607</td>\n",
       "    </tr>\n",
       "    <tr>\n",
       "      <td>40796</td>\n",
       "      <td>uiI82</td>\n",
       "      <td>1.455173</td>\n",
       "      <td>-0.198769</td>\n",
       "      <td>8.063465</td>\n",
       "      <td>146.289967</td>\n",
       "    </tr>\n",
       "  </tbody>\n",
       "</table>\n",
       "</div>"
      ],
      "text/plain": [
       "          id        f0        f1        f2     product\n",
       "13750  4TVfS  0.590369 -0.280590  3.289127  138.841534\n",
       "47808  AjcLI  0.130646 -0.078804 -0.028835  105.105607\n",
       "40796  uiI82  1.455173 -0.198769  8.063465  146.289967"
      ]
     },
     "execution_count": 33,
     "metadata": {},
     "output_type": "execute_result"
    }
   ],
   "source": [
    "df_0.sample(3)"
   ]
  },
  {
   "cell_type": "code",
   "execution_count": 34,
   "metadata": {},
   "outputs": [
    {
     "data": {
      "text/plain": [
       "id         0.00%\n",
       "f0         0.00%\n",
       "f1         0.00%\n",
       "f2         0.00%\n",
       "product    0.00%\n",
       "dtype: object"
      ]
     },
     "execution_count": 34,
     "metadata": {},
     "output_type": "execute_result"
    }
   ],
   "source": [
    "df_1.isna().median().apply('{:.2%}'.format)"
   ]
  },
  {
   "cell_type": "code",
   "execution_count": 35,
   "metadata": {},
   "outputs": [
    {
     "name": "stdout",
     "output_type": "stream",
     "text": [
      "<class 'pandas.core.frame.DataFrame'>\n",
      "RangeIndex: 100000 entries, 0 to 99999\n",
      "Data columns (total 5 columns):\n",
      "id         100000 non-null object\n",
      "f0         100000 non-null float64\n",
      "f1         100000 non-null float64\n",
      "f2         100000 non-null float64\n",
      "product    100000 non-null float64\n",
      "dtypes: float64(4), object(1)\n",
      "memory usage: 3.8+ MB\n"
     ]
    }
   ],
   "source": [
    "df_1.info()"
   ]
  },
  {
   "cell_type": "code",
   "execution_count": 36,
   "metadata": {},
   "outputs": [
    {
     "data": {
      "text/html": [
       "<div>\n",
       "<style scoped>\n",
       "    .dataframe tbody tr th:only-of-type {\n",
       "        vertical-align: middle;\n",
       "    }\n",
       "\n",
       "    .dataframe tbody tr th {\n",
       "        vertical-align: top;\n",
       "    }\n",
       "\n",
       "    .dataframe thead th {\n",
       "        text-align: right;\n",
       "    }\n",
       "</style>\n",
       "<table border=\"1\" class=\"dataframe\">\n",
       "  <thead>\n",
       "    <tr style=\"text-align: right;\">\n",
       "      <th></th>\n",
       "      <th>id</th>\n",
       "      <th>f0</th>\n",
       "      <th>f1</th>\n",
       "      <th>f2</th>\n",
       "      <th>product</th>\n",
       "    </tr>\n",
       "  </thead>\n",
       "  <tbody>\n",
       "    <tr>\n",
       "      <td>77760</td>\n",
       "      <td>WVFjh</td>\n",
       "      <td>0.811513</td>\n",
       "      <td>0.401656</td>\n",
       "      <td>3.268257</td>\n",
       "      <td>26.782742</td>\n",
       "    </tr>\n",
       "    <tr>\n",
       "      <td>71411</td>\n",
       "      <td>DbLxS</td>\n",
       "      <td>0.062152</td>\n",
       "      <td>0.116467</td>\n",
       "      <td>-0.296881</td>\n",
       "      <td>63.694359</td>\n",
       "    </tr>\n",
       "    <tr>\n",
       "      <td>12430</td>\n",
       "      <td>LO15j</td>\n",
       "      <td>-0.672164</td>\n",
       "      <td>0.842722</td>\n",
       "      <td>3.171861</td>\n",
       "      <td>83.742034</td>\n",
       "    </tr>\n",
       "  </tbody>\n",
       "</table>\n",
       "</div>"
      ],
      "text/plain": [
       "          id        f0        f1        f2    product\n",
       "77760  WVFjh  0.811513  0.401656  3.268257  26.782742\n",
       "71411  DbLxS  0.062152  0.116467 -0.296881  63.694359\n",
       "12430  LO15j -0.672164  0.842722  3.171861  83.742034"
      ]
     },
     "execution_count": 36,
     "metadata": {},
     "output_type": "execute_result"
    }
   ],
   "source": [
    "df_0.sample(3)"
   ]
  },
  {
   "cell_type": "code",
   "execution_count": 37,
   "metadata": {},
   "outputs": [
    {
     "data": {
      "text/plain": [
       "id         0.00%\n",
       "f0         0.00%\n",
       "f1         0.00%\n",
       "f2         0.00%\n",
       "product    0.00%\n",
       "dtype: object"
      ]
     },
     "execution_count": 37,
     "metadata": {},
     "output_type": "execute_result"
    }
   ],
   "source": [
    "df_2.isna().median().apply('{:.2%}'.format)"
   ]
  },
  {
   "cell_type": "code",
   "execution_count": 38,
   "metadata": {},
   "outputs": [
    {
     "name": "stdout",
     "output_type": "stream",
     "text": [
      "<class 'pandas.core.frame.DataFrame'>\n",
      "RangeIndex: 100000 entries, 0 to 99999\n",
      "Data columns (total 5 columns):\n",
      "id         100000 non-null object\n",
      "f0         100000 non-null float64\n",
      "f1         100000 non-null float64\n",
      "f2         100000 non-null float64\n",
      "product    100000 non-null float64\n",
      "dtypes: float64(4), object(1)\n",
      "memory usage: 3.8+ MB\n"
     ]
    }
   ],
   "source": [
    "df_2.info()"
   ]
  },
  {
   "cell_type": "code",
   "execution_count": 39,
   "metadata": {},
   "outputs": [
    {
     "data": {
      "text/html": [
       "<div>\n",
       "<style scoped>\n",
       "    .dataframe tbody tr th:only-of-type {\n",
       "        vertical-align: middle;\n",
       "    }\n",
       "\n",
       "    .dataframe tbody tr th {\n",
       "        vertical-align: top;\n",
       "    }\n",
       "\n",
       "    .dataframe thead th {\n",
       "        text-align: right;\n",
       "    }\n",
       "</style>\n",
       "<table border=\"1\" class=\"dataframe\">\n",
       "  <thead>\n",
       "    <tr style=\"text-align: right;\">\n",
       "      <th></th>\n",
       "      <th>id</th>\n",
       "      <th>f0</th>\n",
       "      <th>f1</th>\n",
       "      <th>f2</th>\n",
       "      <th>product</th>\n",
       "    </tr>\n",
       "  </thead>\n",
       "  <tbody>\n",
       "    <tr>\n",
       "      <td>78011</td>\n",
       "      <td>wS8rB</td>\n",
       "      <td>1.310878</td>\n",
       "      <td>1.901410</td>\n",
       "      <td>1.343698</td>\n",
       "      <td>83.121606</td>\n",
       "    </tr>\n",
       "    <tr>\n",
       "      <td>4567</td>\n",
       "      <td>98Jcu</td>\n",
       "      <td>-1.724540</td>\n",
       "      <td>-0.742659</td>\n",
       "      <td>7.059097</td>\n",
       "      <td>64.382877</td>\n",
       "    </tr>\n",
       "    <tr>\n",
       "      <td>214</td>\n",
       "      <td>9TCCk</td>\n",
       "      <td>-1.464932</td>\n",
       "      <td>-0.684570</td>\n",
       "      <td>-1.635788</td>\n",
       "      <td>28.688793</td>\n",
       "    </tr>\n",
       "  </tbody>\n",
       "</table>\n",
       "</div>"
      ],
      "text/plain": [
       "          id        f0        f1        f2    product\n",
       "78011  wS8rB  1.310878  1.901410  1.343698  83.121606\n",
       "4567   98Jcu -1.724540 -0.742659  7.059097  64.382877\n",
       "214    9TCCk -1.464932 -0.684570 -1.635788  28.688793"
      ]
     },
     "execution_count": 39,
     "metadata": {},
     "output_type": "execute_result"
    }
   ],
   "source": [
    "df_2.sample(3)"
   ]
  },
  {
   "cell_type": "markdown",
   "metadata": {},
   "source": [
    "Все три датасета имеют одинаковые размеры и типы колонок  \n",
    "Пропущенных значений нет  \n",
    "Размеры каждого датасета - 100000 записей"
   ]
  },
  {
   "cell_type": "markdown",
   "metadata": {},
   "source": [
    "Для процесса обучения модели избавимся от колонки id, не несущей в себе полезной информации"
   ]
  },
  {
   "cell_type": "code",
   "execution_count": 40,
   "metadata": {},
   "outputs": [],
   "source": [
    "df_0 = df_0.drop('id', axis=1)\n",
    "df_1 = df_1.drop('id', axis=1)\n",
    "df_2 = df_2.drop('id', axis=1)"
   ]
  },
  {
   "cell_type": "markdown",
   "metadata": {},
   "source": [
    "Разделим данные на признаки и целевую переменную, а затем на обучающую и валидационную выборки"
   ]
  },
  {
   "cell_type": "code",
   "execution_count": 41,
   "metadata": {},
   "outputs": [],
   "source": [
    "X_0 = df_0.drop(['product'], axis=1)\n",
    "y_0 = df_0['product']\n",
    "X_1 = df_1.drop(['product'], axis=1)\n",
    "y_1 = df_1['product']\n",
    "X_2 = df_2.drop(['product'], axis=1)\n",
    "y_2 = df_2['product']"
   ]
  },
  {
   "cell_type": "code",
   "execution_count": 42,
   "metadata": {},
   "outputs": [],
   "source": [
    "X_0_train, X_0_valid, y_0_train, y_0_valid = train_test_split(X_0, y_0, test_size=0.25, random_state=42)\n",
    "X_1_train, X_1_valid, y_1_train, y_1_valid = train_test_split(X_1, y_1, test_size=0.25, random_state=42)\n",
    "X_2_train, X_2_valid, y_2_train, y_2_valid = train_test_split(X_2, y_2, test_size=0.25, random_state=42)"
   ]
  },
  {
   "cell_type": "markdown",
   "metadata": {},
   "source": [
    "Мы подготовили данные, теперь можем приступить к обучению наших моделей"
   ]
  },
  {
   "cell_type": "markdown",
   "metadata": {},
   "source": [
    "## Обучение и проверка модели"
   ]
  },
  {
   "cell_type": "markdown",
   "metadata": {},
   "source": [
    "Обучим модель на каждой из выборок и сохраним предсказания"
   ]
  },
  {
   "cell_type": "code",
   "execution_count": 43,
   "metadata": {},
   "outputs": [],
   "source": [
    "def fit_predict(X_train, y_train, X_valid, y_valid, reg):\n",
    "    model = LinearRegression()\n",
    "    model.fit(X_train, y_train)\n",
    "    pred = model.predict(X_valid)\n",
    "    print(f'Средний предсказанный запас сырья для {reg} региона: {pred.mean()}')\n",
    "    print(f'RMSE:{np.sqrt(mean_squared_error(y_valid, pred))}')\n",
    "    return pred"
   ]
  },
  {
   "cell_type": "code",
   "execution_count": 44,
   "metadata": {},
   "outputs": [
    {
     "name": "stdout",
     "output_type": "stream",
     "text": [
      "Средний предсказанный запас сырья для первого региона: 92.39879990657768\n",
      "RMSE:37.75660035026169\n"
     ]
    }
   ],
   "source": [
    "prediction_0 = fit_predict(X_0_train, y_0_train, X_0_valid, y_0_valid, 'первого')"
   ]
  },
  {
   "cell_type": "code",
   "execution_count": 45,
   "metadata": {},
   "outputs": [
    {
     "name": "stdout",
     "output_type": "stream",
     "text": [
      "Средний предсказанный запас сырья для второго региона: 68.71287803913764\n",
      "RMSE:0.8902801001028828\n"
     ]
    }
   ],
   "source": [
    "prediction_1 = fit_predict(X_1_train, y_1_train, X_1_valid, y_1_valid, 'второго')"
   ]
  },
  {
   "cell_type": "code",
   "execution_count": 46,
   "metadata": {},
   "outputs": [
    {
     "name": "stdout",
     "output_type": "stream",
     "text": [
      "Средний предсказанный запас сырья для третьего региона: 94.77102387765939\n",
      "RMSE:40.145872311342174\n"
     ]
    }
   ],
   "source": [
    "prediction_2 = fit_predict(X_2_train, y_2_train, X_2_valid, y_2_valid, 'третьего')"
   ]
  },
  {
   "cell_type": "markdown",
   "metadata": {},
   "source": [
    "**Выводы:**\n",
    "* Модель предсказала высокие и близкие друг к другу средние значения запасов нефти в скважинах первого и третьего регионов\n",
    "* В первом и третьем регионах высокое значение метрики RMSE\n",
    "* Напротив, во втором регионе среднее значение запасов ниже, но при этом очень низкое значение метрики RMSE"
   ]
  },
  {
   "cell_type": "markdown",
   "metadata": {},
   "source": [
    "## Подготовка к расчёту прибыли"
   ]
  },
  {
   "cell_type": "markdown",
   "metadata": {},
   "source": [
    "Сохраним в переменные все необходимые для расчета данные"
   ]
  },
  {
   "cell_type": "code",
   "execution_count": 47,
   "metadata": {},
   "outputs": [],
   "source": [
    "BUDGET = 1e10\n",
    "PROFIT_PER_THOUSAND_BAR = 450000\n",
    "NUM_OF_SOURCES = 200\n",
    "MIN_PRODUCT = BUDGET / PROFIT_PER_THOUSAND_BAR / NUM_OF_SOURCES"
   ]
  },
  {
   "cell_type": "markdown",
   "metadata": {},
   "source": [
    "Рассчитаем достаточный объём сырья для безубыточной разработки новой скважины"
   ]
  },
  {
   "cell_type": "code",
   "execution_count": 48,
   "metadata": {},
   "outputs": [
    {
     "name": "stdout",
     "output_type": "stream",
     "text": [
      "Необходимый запас сырья: 111.11111111111111\n"
     ]
    }
   ],
   "source": [
    "print(f'Необходимый запас сырья: {MIN_PRODUCT}')"
   ]
  },
  {
   "cell_type": "markdown",
   "metadata": {},
   "source": [
    "Видим, что необходимый для безубыточной разработки запас сырья превышает средние значения запасов сырья в скважинах каждого из регионов"
   ]
  },
  {
   "cell_type": "markdown",
   "metadata": {},
   "source": [
    "## Расчёт прибыли и рисков "
   ]
  },
  {
   "cell_type": "markdown",
   "metadata": {},
   "source": [
    "Напишем функцию для расчета прибыли"
   ]
  },
  {
   "cell_type": "code",
   "execution_count": 49,
   "metadata": {},
   "outputs": [],
   "source": [
    "def get_predicted_profit(predictions, valid):\n",
    "    valid = valid.reset_index(drop=True)\n",
    "    predictions = pd.Series(predictions).sort_values(ascending=False)[:200]\n",
    "    real_values = valid[predictions.index]\n",
    "    profit = (real_values * PROFIT_PER_THOUSAND_BAR).sum()\n",
    "    return profit - BUDGET"
   ]
  },
  {
   "cell_type": "markdown",
   "metadata": {},
   "source": [
    "И посчитаем прибыль для каждого региона для 200 скважин с наибольшим предсказанным объемом сырья с учетом вычета бюджета на разработку"
   ]
  },
  {
   "cell_type": "code",
   "execution_count": 50,
   "metadata": {},
   "outputs": [
    {
     "name": "stdout",
     "output_type": "stream",
     "text": [
      "Прибыль для первого региона: 3359141114.462179\n"
     ]
    }
   ],
   "source": [
    "print(f'Прибыль для первого региона: {get_predicted_profit(prediction_0, y_0_valid)}')"
   ]
  },
  {
   "cell_type": "code",
   "execution_count": 51,
   "metadata": {},
   "outputs": [
    {
     "name": "stdout",
     "output_type": "stream",
     "text": [
      "Прибыль для третьего региона: 2415086696.681505\n"
     ]
    }
   ],
   "source": [
    "print(f'Прибыль для третьего региона: {get_predicted_profit(prediction_1, y_1_valid)}')"
   ]
  },
  {
   "cell_type": "code",
   "execution_count": 52,
   "metadata": {},
   "outputs": [
    {
     "name": "stdout",
     "output_type": "stream",
     "text": [
      "Прибыль для третьего региона: 2598571759.374111\n"
     ]
    }
   ],
   "source": [
    "print(f'Прибыль для третьего региона: {get_predicted_profit(prediction_2, y_2_valid)}')"
   ]
  },
  {
   "cell_type": "markdown",
   "metadata": {},
   "source": [
    "**Наибольшая прибыль получилась в первом регионе. На втором месте  третий регион.**"
   ]
  },
  {
   "cell_type": "markdown",
   "metadata": {},
   "source": [
    "Применим технику Bootstrap и посмотрим на распределение прибыли в каждом регионе"
   ]
  },
  {
   "cell_type": "code",
   "execution_count": 58,
   "metadata": {},
   "outputs": [],
   "source": [
    "state = np.random.RandomState(42)\n",
    "\n",
    "\n",
    "def do_bootstrap(target, valid, title):\n",
    "    values = []\n",
    "    target = pd.Series(target)\n",
    "    for i in range(1000):\n",
    "        target_subsample = target.sample(n=500, replace=False, random_state=state)\n",
    "        new_profit = get_predicted_profit(target_subsample, valid)\n",
    "        values.append(new_profit)\n",
    "    values = pd.Series(values)\n",
    "    mean_profit = values.mean()\n",
    "    print(title)\n",
    "    print(f'Средняя прибыль с выбранных скважин региона: {mean_profit}')\n",
    "    print(f'95% доверительный интервал для средней прибыли с выбранных скважин региона: ({values.quantile(0.025)}, {values.quantile(0.975)})')\n",
    "    print(f'Риск убытков при выборе скважин в данном регионе: {(values < 0).mean()}')"
   ]
  },
  {
   "cell_type": "code",
   "execution_count": 55,
   "metadata": {},
   "outputs": [
    {
     "name": "stdout",
     "output_type": "stream",
     "text": [
      "Первый регион:\n",
      "Средняя прибыль с выбранных скважин региона: 408515053.88389707\n",
      "95% доверительный интервал для средней прибыли с выбранных скважин региона: (-138678493.88196227, 952414908.4140624)\n",
      "Риск убытков при выборе скважин в данном регионе: 0.074\n"
     ]
    }
   ],
   "source": [
    "do_bootstrap(prediction_0, y_0_valid, 'Первый регион:')"
   ]
  },
  {
   "cell_type": "code",
   "execution_count": 56,
   "metadata": {},
   "outputs": [
    {
     "name": "stdout",
     "output_type": "stream",
     "text": [
      "Второй регион:\n",
      "Средняя прибыль с выбранных скважин региона: 436119513.6368198\n",
      "95% доверительный интервал для средней прибыли с выбранных скважин региона: (28878732.655242156, 865831912.5385566)\n",
      "Риск убытков при выборе скважин в данном регионе: 0.017\n"
     ]
    }
   ],
   "source": [
    "do_bootstrap(prediction_1, y_1_valid, 'Второй регион:')"
   ]
  },
  {
   "cell_type": "code",
   "execution_count": 57,
   "metadata": {},
   "outputs": [
    {
     "name": "stdout",
     "output_type": "stream",
     "text": [
      "Третий регион:\n",
      "Средняя прибыль с выбранных скважин региона: 385037868.03615564\n",
      "95% доверительный интервал для средней прибыли с выбранных скважин региона: (-185862734.6571867, 885439396.2295961)\n",
      "Риск убытков при выборе скважин в данном регионе: 0.086\n"
     ]
    }
   ],
   "source": [
    "do_bootstrap(prediction_2, y_2_valid, 'Третий регион:')"
   ]
  },
  {
   "cell_type": "markdown",
   "metadata": {},
   "source": [
    "**Среди трех регионов два региона с риском убытков выше 2.5%**"
   ]
  },
  {
   "cell_type": "markdown",
   "metadata": {},
   "source": [
    "**Выводы:**\n",
    "* После применения техники Bootstrap можем сделать вывод, что наибольшая средняя прибыль во втором регионе\n",
    "* Лучшие показатели метрики RMSE у модели для второго региона\n",
    "* Риск убытка во второгом регионе не превышает пороговое значение\n",
    "* В первом и второго регионе риск первышает пороговое значение\n",
    "* 95% доверительный интервал для второго региона имеет наибольшее минимальное значение\n",
    "* **Учитывыя выводы выше рекомендуется выбрать второй регион для добычи нефти**"
   ]
  },
  {
   "cell_type": "code",
   "execution_count": null,
   "metadata": {},
   "outputs": [],
   "source": []
  }
 ],
 "metadata": {
  "ExecuteTimeLog": [
   {
    "duration": 1449,
    "start_time": "2021-12-03T11:58:11.687Z"
   },
   {
    "duration": 4,
    "start_time": "2021-12-03T11:58:16.455Z"
   },
   {
    "duration": 598,
    "start_time": "2021-12-03T11:59:21.196Z"
   },
   {
    "duration": 530,
    "start_time": "2021-12-03T11:59:23.715Z"
   },
   {
    "duration": 308,
    "start_time": "2021-12-03T11:59:33.148Z"
   },
   {
    "duration": 26,
    "start_time": "2021-12-03T11:59:35.897Z"
   },
   {
    "duration": 15,
    "start_time": "2021-12-03T12:00:00.867Z"
   },
   {
    "duration": 14,
    "start_time": "2021-12-03T12:00:08.594Z"
   },
   {
    "duration": 13,
    "start_time": "2021-12-03T12:00:19.444Z"
   },
   {
    "duration": 317,
    "start_time": "2021-12-03T12:00:24.522Z"
   },
   {
    "duration": 126,
    "start_time": "2021-12-03T12:00:27.055Z"
   },
   {
    "duration": 14,
    "start_time": "2021-12-03T12:00:28.658Z"
   },
   {
    "duration": 19,
    "start_time": "2021-12-03T12:00:36.573Z"
   },
   {
    "duration": 18,
    "start_time": "2021-12-03T12:00:40.453Z"
   },
   {
    "duration": 23,
    "start_time": "2021-12-03T12:00:50.267Z"
   },
   {
    "duration": 17,
    "start_time": "2021-12-03T12:01:45.262Z"
   },
   {
    "duration": 23,
    "start_time": "2021-12-03T12:01:51.174Z"
   },
   {
    "duration": 328,
    "start_time": "2021-12-03T12:02:02.191Z"
   },
   {
    "duration": 539,
    "start_time": "2021-12-03T12:02:10.877Z"
   },
   {
    "duration": 21,
    "start_time": "2021-12-03T12:02:11.418Z"
   },
   {
    "duration": 19,
    "start_time": "2021-12-03T12:02:11.498Z"
   },
   {
    "duration": 18,
    "start_time": "2021-12-03T12:02:14.654Z"
   },
   {
    "duration": 18,
    "start_time": "2021-12-03T12:02:16.635Z"
   },
   {
    "duration": 520,
    "start_time": "2021-12-03T12:03:25.115Z"
   },
   {
    "duration": 518,
    "start_time": "2021-12-03T12:03:45.702Z"
   },
   {
    "duration": 20,
    "start_time": "2021-12-03T12:03:46.222Z"
   },
   {
    "duration": 42,
    "start_time": "2021-12-03T12:03:46.245Z"
   },
   {
    "duration": 18,
    "start_time": "2021-12-03T12:03:46.424Z"
   },
   {
    "duration": 16,
    "start_time": "2021-12-03T12:04:05.941Z"
   },
   {
    "duration": 16,
    "start_time": "2021-12-03T12:04:14.109Z"
   },
   {
    "duration": 15,
    "start_time": "2021-12-03T12:04:26.361Z"
   },
   {
    "duration": 22,
    "start_time": "2021-12-03T12:04:44.749Z"
   },
   {
    "duration": 22,
    "start_time": "2021-12-03T12:07:17.335Z"
   },
   {
    "duration": 17,
    "start_time": "2021-12-03T12:07:22.096Z"
   },
   {
    "duration": 770,
    "start_time": "2021-12-03T21:07:18.332Z"
   },
   {
    "duration": 703,
    "start_time": "2021-12-03T21:07:20.469Z"
   },
   {
    "duration": 23,
    "start_time": "2021-12-03T21:07:21.174Z"
   },
   {
    "duration": 15,
    "start_time": "2021-12-03T21:07:21.199Z"
   },
   {
    "duration": 12,
    "start_time": "2021-12-03T21:07:21.243Z"
   },
   {
    "duration": 15,
    "start_time": "2021-12-03T21:07:21.464Z"
   },
   {
    "duration": 11,
    "start_time": "2021-12-03T21:07:21.761Z"
   },
   {
    "duration": 10,
    "start_time": "2021-12-03T21:07:22.016Z"
   },
   {
    "duration": 60,
    "start_time": "2021-12-03T21:07:54.265Z"
   },
   {
    "duration": 16,
    "start_time": "2021-12-03T21:22:27.574Z"
   },
   {
    "duration": 11,
    "start_time": "2021-12-03T21:22:33.020Z"
   },
   {
    "duration": 249,
    "start_time": "2021-12-03T21:24:39.986Z"
   },
   {
    "duration": 203,
    "start_time": "2021-12-03T21:24:48.581Z"
   },
   {
    "duration": 59,
    "start_time": "2021-12-03T21:26:21.404Z"
   },
   {
    "duration": 13,
    "start_time": "2021-12-03T21:30:24.857Z"
   },
   {
    "duration": 9,
    "start_time": "2021-12-03T21:33:53.543Z"
   },
   {
    "duration": 196,
    "start_time": "2021-12-03T21:33:54.200Z"
   },
   {
    "duration": 3,
    "start_time": "2021-12-03T21:33:59.995Z"
   },
   {
    "duration": 37,
    "start_time": "2021-12-03T21:34:03.308Z"
   },
   {
    "duration": 10,
    "start_time": "2021-12-03T21:38:14.025Z"
   },
   {
    "duration": 55,
    "start_time": "2021-12-03T21:38:32.286Z"
   },
   {
    "duration": 10,
    "start_time": "2021-12-03T21:40:02.178Z"
   },
   {
    "duration": 11,
    "start_time": "2021-12-03T21:40:11.165Z"
   },
   {
    "duration": 11,
    "start_time": "2021-12-03T21:40:14.233Z"
   },
   {
    "duration": 10,
    "start_time": "2021-12-03T21:40:18.443Z"
   },
   {
    "duration": 2,
    "start_time": "2021-12-03T21:41:48.500Z"
   },
   {
    "duration": 2,
    "start_time": "2021-12-03T21:41:57.204Z"
   },
   {
    "duration": 61,
    "start_time": "2021-12-03T21:42:40.685Z"
   },
   {
    "duration": 59,
    "start_time": "2021-12-03T21:42:54.677Z"
   },
   {
    "duration": 3,
    "start_time": "2021-12-03T21:43:25.650Z"
   },
   {
    "duration": 54,
    "start_time": "2021-12-03T21:45:24.399Z"
   },
   {
    "duration": 295,
    "start_time": "2021-12-03T21:48:12.134Z"
   },
   {
    "duration": 4,
    "start_time": "2021-12-03T21:48:41.901Z"
   },
   {
    "duration": 207,
    "start_time": "2021-12-03T21:49:30.673Z"
   },
   {
    "duration": 35,
    "start_time": "2021-12-03T21:50:02.424Z"
   },
   {
    "duration": 201,
    "start_time": "2021-12-03T21:50:06.116Z"
   },
   {
    "duration": 2,
    "start_time": "2021-12-03T21:54:38.686Z"
   },
   {
    "duration": 33,
    "start_time": "2021-12-03T21:55:31.754Z"
   },
   {
    "duration": 3,
    "start_time": "2021-12-03T21:55:54.614Z"
   },
   {
    "duration": 375,
    "start_time": "2021-12-03T21:57:47.019Z"
   },
   {
    "duration": 4,
    "start_time": "2021-12-03T21:57:53.064Z"
   },
   {
    "duration": 3,
    "start_time": "2021-12-03T21:58:27.393Z"
   },
   {
    "duration": 59,
    "start_time": "2021-12-03T21:58:54.795Z"
   },
   {
    "duration": 180,
    "start_time": "2021-12-03T21:58:58.054Z"
   },
   {
    "duration": 217,
    "start_time": "2021-12-03T21:59:06.083Z"
   },
   {
    "duration": 8,
    "start_time": "2021-12-03T21:59:22.637Z"
   },
   {
    "duration": 7,
    "start_time": "2021-12-03T21:59:27.649Z"
   },
   {
    "duration": 412,
    "start_time": "2021-12-03T21:59:34.082Z"
   },
   {
    "duration": 4,
    "start_time": "2021-12-03T21:59:35.181Z"
   },
   {
    "duration": 413,
    "start_time": "2021-12-03T21:59:39.881Z"
   },
   {
    "duration": 6,
    "start_time": "2021-12-03T21:59:40.622Z"
   },
   {
    "duration": 349,
    "start_time": "2021-12-04T09:02:21.321Z"
   },
   {
    "duration": -662,
    "start_time": "2021-12-04T09:02:22.335Z"
   },
   {
    "duration": 298,
    "start_time": "2021-12-04T09:02:21.944Z"
   },
   {
    "duration": 1755,
    "start_time": "2021-12-04T09:02:28.412Z"
   },
   {
    "duration": 517,
    "start_time": "2021-12-04T09:02:30.171Z"
   },
   {
    "duration": 32,
    "start_time": "2021-12-04T09:02:30.692Z"
   },
   {
    "duration": 15,
    "start_time": "2021-12-04T09:02:30.727Z"
   },
   {
    "duration": 45,
    "start_time": "2021-12-04T09:02:30.745Z"
   },
   {
    "duration": 28,
    "start_time": "2021-12-04T09:02:30.793Z"
   },
   {
    "duration": 14,
    "start_time": "2021-12-04T09:02:30.824Z"
   },
   {
    "duration": 44,
    "start_time": "2021-12-04T09:02:30.842Z"
   },
   {
    "duration": 42,
    "start_time": "2021-12-04T09:02:30.889Z"
   },
   {
    "duration": 17,
    "start_time": "2021-12-04T09:02:30.933Z"
   },
   {
    "duration": 17,
    "start_time": "2021-12-04T09:02:30.952Z"
   },
   {
    "duration": 30,
    "start_time": "2021-12-04T09:02:30.982Z"
   },
   {
    "duration": 26,
    "start_time": "2021-12-04T09:02:31.014Z"
   },
   {
    "duration": 74,
    "start_time": "2021-12-04T09:02:31.042Z"
   },
   {
    "duration": 2,
    "start_time": "2021-12-04T09:02:31.119Z"
   },
   {
    "duration": 14,
    "start_time": "2021-12-04T09:02:31.125Z"
   },
   {
    "duration": 24,
    "start_time": "2021-12-04T09:02:31.141Z"
   },
   {
    "duration": 839,
    "start_time": "2021-12-04T09:02:31.168Z"
   },
   {
    "duration": 91,
    "start_time": "2021-12-04T09:02:32.010Z"
   },
   {
    "duration": 404,
    "start_time": "2021-12-04T09:26:23.165Z"
   },
   {
    "duration": 318,
    "start_time": "2021-12-04T09:26:44.992Z"
   },
   {
    "duration": 4,
    "start_time": "2021-12-04T09:35:14.562Z"
   },
   {
    "duration": 19,
    "start_time": "2021-12-04T09:58:39.552Z"
   },
   {
    "duration": 16,
    "start_time": "2021-12-04T09:59:25.909Z"
   },
   {
    "duration": 17,
    "start_time": "2021-12-04T09:59:27.414Z"
   },
   {
    "duration": 16,
    "start_time": "2021-12-04T09:59:28.284Z"
   },
   {
    "duration": 310,
    "start_time": "2021-12-04T10:09:04.198Z"
   },
   {
    "duration": 5,
    "start_time": "2021-12-04T10:09:15.724Z"
   },
   {
    "duration": 388,
    "start_time": "2021-12-04T10:10:04.704Z"
   },
   {
    "duration": 5,
    "start_time": "2021-12-04T10:11:18.913Z"
   },
   {
    "duration": 11634,
    "start_time": "2021-12-04T10:12:26.845Z"
   },
   {
    "duration": 525,
    "start_time": "2021-12-04T10:12:42.134Z"
   },
   {
    "duration": 361,
    "start_time": "2021-12-04T10:12:48.434Z"
   },
   {
    "duration": 155,
    "start_time": "2021-12-04T10:14:26.464Z"
   },
   {
    "duration": 77,
    "start_time": "2021-12-04T10:14:29.106Z"
   },
   {
    "duration": 4,
    "start_time": "2021-12-04T10:15:07.651Z"
   },
   {
    "duration": 16,
    "start_time": "2021-12-04T10:15:07.932Z"
   },
   {
    "duration": 16,
    "start_time": "2021-12-04T10:15:08.297Z"
   },
   {
    "duration": 19,
    "start_time": "2021-12-04T10:15:08.662Z"
   },
   {
    "duration": 5,
    "start_time": "2021-12-04T10:22:32.341Z"
   },
   {
    "duration": 4,
    "start_time": "2021-12-04T10:22:53.507Z"
   },
   {
    "duration": 24,
    "start_time": "2021-12-04T10:22:53.867Z"
   },
   {
    "duration": 3,
    "start_time": "2021-12-04T10:22:54.237Z"
   },
   {
    "duration": 15,
    "start_time": "2021-12-04T10:22:54.649Z"
   },
   {
    "duration": 4,
    "start_time": "2021-12-04T10:22:55.009Z"
   },
   {
    "duration": 202,
    "start_time": "2021-12-04T10:22:55.380Z"
   },
   {
    "duration": 4,
    "start_time": "2021-12-04T10:23:08.029Z"
   },
   {
    "duration": 497,
    "start_time": "2021-12-04T10:23:08.036Z"
   },
   {
    "duration": 22,
    "start_time": "2021-12-04T10:23:08.536Z"
   },
   {
    "duration": 40,
    "start_time": "2021-12-04T10:23:08.562Z"
   },
   {
    "duration": 20,
    "start_time": "2021-12-04T10:23:08.605Z"
   },
   {
    "duration": 58,
    "start_time": "2021-12-04T10:23:08.628Z"
   },
   {
    "duration": 18,
    "start_time": "2021-12-04T10:23:08.689Z"
   },
   {
    "duration": 18,
    "start_time": "2021-12-04T10:23:08.712Z"
   },
   {
    "duration": 54,
    "start_time": "2021-12-04T10:23:08.733Z"
   },
   {
    "duration": 17,
    "start_time": "2021-12-04T10:23:08.790Z"
   },
   {
    "duration": 25,
    "start_time": "2021-12-04T10:23:08.811Z"
   },
   {
    "duration": 46,
    "start_time": "2021-12-04T10:23:08.838Z"
   },
   {
    "duration": 18,
    "start_time": "2021-12-04T10:23:08.887Z"
   },
   {
    "duration": 51,
    "start_time": "2021-12-04T10:23:08.908Z"
   },
   {
    "duration": 22,
    "start_time": "2021-12-04T10:23:08.961Z"
   },
   {
    "duration": 96,
    "start_time": "2021-12-04T10:23:08.986Z"
   },
   {
    "duration": 5,
    "start_time": "2021-12-04T10:23:09.091Z"
   },
   {
    "duration": 115,
    "start_time": "2021-12-04T10:23:09.100Z"
   },
   {
    "duration": 66,
    "start_time": "2021-12-04T10:23:09.218Z"
   },
   {
    "duration": 101,
    "start_time": "2021-12-04T10:23:09.287Z"
   },
   {
    "duration": 44,
    "start_time": "2021-12-04T10:23:34.854Z"
   },
   {
    "duration": 5,
    "start_time": "2021-12-04T10:23:37.118Z"
   },
   {
    "duration": 508,
    "start_time": "2021-12-04T10:23:37.126Z"
   },
   {
    "duration": 19,
    "start_time": "2021-12-04T10:23:37.637Z"
   },
   {
    "duration": 34,
    "start_time": "2021-12-04T10:23:37.659Z"
   },
   {
    "duration": 19,
    "start_time": "2021-12-04T10:23:37.696Z"
   },
   {
    "duration": 17,
    "start_time": "2021-12-04T10:23:37.717Z"
   },
   {
    "duration": 52,
    "start_time": "2021-12-04T10:23:37.737Z"
   },
   {
    "duration": 21,
    "start_time": "2021-12-04T10:23:37.794Z"
   },
   {
    "duration": 16,
    "start_time": "2021-12-04T10:23:37.817Z"
   },
   {
    "duration": 54,
    "start_time": "2021-12-04T10:23:37.836Z"
   },
   {
    "duration": 25,
    "start_time": "2021-12-04T10:23:37.893Z"
   },
   {
    "duration": 18,
    "start_time": "2021-12-04T10:23:37.921Z"
   },
   {
    "duration": 48,
    "start_time": "2021-12-04T10:23:37.942Z"
   },
   {
    "duration": 52,
    "start_time": "2021-12-04T10:23:37.993Z"
   },
   {
    "duration": 3,
    "start_time": "2021-12-04T10:23:38.047Z"
   },
   {
    "duration": 129,
    "start_time": "2021-12-04T10:23:38.053Z"
   },
   {
    "duration": 5,
    "start_time": "2021-12-04T10:23:38.185Z"
   },
   {
    "duration": 103,
    "start_time": "2021-12-04T10:23:38.194Z"
   },
   {
    "duration": 5,
    "start_time": "2021-12-04T10:23:38.300Z"
   },
   {
    "duration": 104,
    "start_time": "2021-12-04T10:23:38.387Z"
   },
   {
    "duration": 1115,
    "start_time": "2021-12-05T20:36:33.408Z"
   },
   {
    "duration": 375,
    "start_time": "2021-12-05T20:36:34.525Z"
   },
   {
    "duration": 22,
    "start_time": "2021-12-05T20:36:34.902Z"
   },
   {
    "duration": 27,
    "start_time": "2021-12-05T20:36:34.926Z"
   },
   {
    "duration": 22,
    "start_time": "2021-12-05T20:36:34.955Z"
   },
   {
    "duration": 17,
    "start_time": "2021-12-05T20:36:34.979Z"
   },
   {
    "duration": 19,
    "start_time": "2021-12-05T20:36:34.998Z"
   },
   {
    "duration": 31,
    "start_time": "2021-12-05T20:36:35.019Z"
   },
   {
    "duration": 13,
    "start_time": "2021-12-05T20:36:35.053Z"
   },
   {
    "duration": 19,
    "start_time": "2021-12-05T20:36:35.067Z"
   },
   {
    "duration": 19,
    "start_time": "2021-12-05T20:36:35.088Z"
   },
   {
    "duration": 16,
    "start_time": "2021-12-05T20:36:35.109Z"
   },
   {
    "duration": 26,
    "start_time": "2021-12-05T20:36:35.127Z"
   },
   {
    "duration": 38,
    "start_time": "2021-12-05T20:36:35.155Z"
   },
   {
    "duration": 3,
    "start_time": "2021-12-05T20:36:35.195Z"
   },
   {
    "duration": 89,
    "start_time": "2021-12-05T20:36:35.199Z"
   },
   {
    "duration": -159,
    "start_time": "2021-12-05T20:36:35.448Z"
   },
   {
    "duration": -162,
    "start_time": "2021-12-05T20:36:35.453Z"
   },
   {
    "duration": -164,
    "start_time": "2021-12-05T20:36:35.456Z"
   },
   {
    "duration": -168,
    "start_time": "2021-12-05T20:36:35.461Z"
   },
   {
    "duration": 3,
    "start_time": "2021-12-05T20:37:23.974Z"
   },
   {
    "duration": 393,
    "start_time": "2021-12-05T20:37:23.980Z"
   },
   {
    "duration": 17,
    "start_time": "2021-12-05T20:37:24.375Z"
   },
   {
    "duration": 16,
    "start_time": "2021-12-05T20:37:24.394Z"
   },
   {
    "duration": 33,
    "start_time": "2021-12-05T20:37:24.413Z"
   },
   {
    "duration": 22,
    "start_time": "2021-12-05T20:37:24.448Z"
   },
   {
    "duration": 17,
    "start_time": "2021-12-05T20:37:24.472Z"
   },
   {
    "duration": 15,
    "start_time": "2021-12-05T20:37:24.491Z"
   },
   {
    "duration": 54,
    "start_time": "2021-12-05T20:37:24.510Z"
   },
   {
    "duration": 16,
    "start_time": "2021-12-05T20:37:24.566Z"
   },
   {
    "duration": 14,
    "start_time": "2021-12-05T20:37:24.584Z"
   },
   {
    "duration": 48,
    "start_time": "2021-12-05T20:37:24.600Z"
   },
   {
    "duration": 10,
    "start_time": "2021-12-05T20:37:24.651Z"
   },
   {
    "duration": 33,
    "start_time": "2021-12-05T20:37:24.664Z"
   },
   {
    "duration": 2,
    "start_time": "2021-12-05T20:37:24.699Z"
   },
   {
    "duration": 54,
    "start_time": "2021-12-05T20:37:24.703Z"
   },
   {
    "duration": 86,
    "start_time": "2021-12-05T20:37:24.759Z"
   },
   {
    "duration": 110,
    "start_time": "2021-12-05T20:37:24.848Z"
   },
   {
    "duration": 4,
    "start_time": "2021-12-05T20:37:25.044Z"
   },
   {
    "duration": 105,
    "start_time": "2021-12-05T20:37:25.050Z"
   },
   {
    "duration": 3,
    "start_time": "2021-12-05T20:37:47.876Z"
   },
   {
    "duration": 369,
    "start_time": "2021-12-05T20:37:47.880Z"
   },
   {
    "duration": 16,
    "start_time": "2021-12-05T20:37:48.252Z"
   },
   {
    "duration": 10,
    "start_time": "2021-12-05T20:37:48.270Z"
   },
   {
    "duration": 11,
    "start_time": "2021-12-05T20:37:48.281Z"
   },
   {
    "duration": 15,
    "start_time": "2021-12-05T20:37:48.293Z"
   },
   {
    "duration": 42,
    "start_time": "2021-12-05T20:37:48.310Z"
   },
   {
    "duration": 13,
    "start_time": "2021-12-05T20:37:48.354Z"
   },
   {
    "duration": 16,
    "start_time": "2021-12-05T20:37:48.370Z"
   },
   {
    "duration": 9,
    "start_time": "2021-12-05T20:37:48.388Z"
   },
   {
    "duration": 10,
    "start_time": "2021-12-05T20:37:48.399Z"
   },
   {
    "duration": 46,
    "start_time": "2021-12-05T20:37:48.411Z"
   },
   {
    "duration": 10,
    "start_time": "2021-12-05T20:37:48.459Z"
   },
   {
    "duration": 31,
    "start_time": "2021-12-05T20:37:48.471Z"
   },
   {
    "duration": 2,
    "start_time": "2021-12-05T20:37:48.504Z"
   },
   {
    "duration": 49,
    "start_time": "2021-12-05T20:37:48.507Z"
   },
   {
    "duration": 87,
    "start_time": "2021-12-05T20:37:48.558Z"
   },
   {
    "duration": 16,
    "start_time": "2021-12-05T20:37:48.648Z"
   },
   {
    "duration": 3,
    "start_time": "2021-12-05T20:37:48.666Z"
   },
   {
    "duration": 22,
    "start_time": "2021-12-05T20:37:48.745Z"
   },
   {
    "duration": 337,
    "start_time": "2021-12-06T03:40:38.355Z"
   },
   {
    "duration": 1360,
    "start_time": "2021-12-06T03:40:41.923Z"
   },
   {
    "duration": 475,
    "start_time": "2021-12-06T03:40:43.286Z"
   },
   {
    "duration": 29,
    "start_time": "2021-12-06T03:40:43.765Z"
   },
   {
    "duration": 15,
    "start_time": "2021-12-06T03:40:43.797Z"
   },
   {
    "duration": 18,
    "start_time": "2021-12-06T03:40:43.815Z"
   },
   {
    "duration": 25,
    "start_time": "2021-12-06T03:40:43.869Z"
   },
   {
    "duration": 14,
    "start_time": "2021-12-06T03:40:43.896Z"
   },
   {
    "duration": 17,
    "start_time": "2021-12-06T03:40:43.912Z"
   },
   {
    "duration": 17,
    "start_time": "2021-12-06T03:40:43.968Z"
   },
   {
    "duration": 13,
    "start_time": "2021-12-06T03:40:43.988Z"
   },
   {
    "duration": 15,
    "start_time": "2021-12-06T03:40:44.004Z"
   },
   {
    "duration": 64,
    "start_time": "2021-12-06T03:40:44.021Z"
   },
   {
    "duration": 17,
    "start_time": "2021-12-06T03:40:44.087Z"
   },
   {
    "duration": 61,
    "start_time": "2021-12-06T03:40:44.106Z"
   },
   {
    "duration": 4,
    "start_time": "2021-12-06T03:40:44.169Z"
   },
   {
    "duration": 97,
    "start_time": "2021-12-06T03:40:44.175Z"
   },
   {
    "duration": 93,
    "start_time": "2021-12-06T03:40:44.276Z"
   },
   {
    "duration": 27,
    "start_time": "2021-12-06T03:40:44.372Z"
   },
   {
    "duration": 69,
    "start_time": "2021-12-06T03:40:44.402Z"
   },
   {
    "duration": 110,
    "start_time": "2021-12-06T03:40:44.474Z"
   },
   {
    "duration": 18,
    "start_time": "2021-12-06T03:41:18.723Z"
   },
   {
    "duration": 46,
    "start_time": "2021-12-06T03:41:27.521Z"
   },
   {
    "duration": 21,
    "start_time": "2021-12-06T03:41:46.441Z"
   },
   {
    "duration": 4,
    "start_time": "2021-12-06T03:42:06.059Z"
   },
   {
    "duration": 505,
    "start_time": "2021-12-06T03:42:06.066Z"
   },
   {
    "duration": 22,
    "start_time": "2021-12-06T03:42:06.576Z"
   },
   {
    "duration": 17,
    "start_time": "2021-12-06T03:42:06.602Z"
   },
   {
    "duration": 51,
    "start_time": "2021-12-06T03:42:06.622Z"
   },
   {
    "duration": 17,
    "start_time": "2021-12-06T03:42:06.676Z"
   },
   {
    "duration": 14,
    "start_time": "2021-12-06T03:42:06.696Z"
   },
   {
    "duration": 15,
    "start_time": "2021-12-06T03:42:06.714Z"
   },
   {
    "duration": 17,
    "start_time": "2021-12-06T03:42:06.768Z"
   },
   {
    "duration": 13,
    "start_time": "2021-12-06T03:42:06.788Z"
   },
   {
    "duration": 15,
    "start_time": "2021-12-06T03:42:06.804Z"
   },
   {
    "duration": 56,
    "start_time": "2021-12-06T03:42:06.821Z"
   },
   {
    "duration": 15,
    "start_time": "2021-12-06T03:42:06.880Z"
   },
   {
    "duration": 48,
    "start_time": "2021-12-06T03:42:06.898Z"
   },
   {
    "duration": 19,
    "start_time": "2021-12-06T03:42:06.948Z"
   },
   {
    "duration": 101,
    "start_time": "2021-12-06T03:42:06.971Z"
   },
   {
    "duration": 92,
    "start_time": "2021-12-06T03:42:07.076Z"
   },
   {
    "duration": 22,
    "start_time": "2021-12-06T03:42:07.170Z"
   },
   {
    "duration": 5,
    "start_time": "2021-12-06T03:42:07.268Z"
   },
   {
    "duration": 110,
    "start_time": "2021-12-06T03:42:07.275Z"
   },
   {
    "duration": 125,
    "start_time": "2021-12-06T04:06:45.906Z"
   },
   {
    "duration": 6,
    "start_time": "2021-12-06T04:18:02.398Z"
   },
   {
    "duration": 6,
    "start_time": "2021-12-06T04:18:13.433Z"
   },
   {
    "duration": 6,
    "start_time": "2021-12-06T04:18:21.829Z"
   },
   {
    "duration": 6,
    "start_time": "2021-12-06T04:18:30.638Z"
   },
   {
    "duration": 5,
    "start_time": "2021-12-06T04:18:35.850Z"
   },
   {
    "duration": 6,
    "start_time": "2021-12-06T04:18:46.513Z"
   },
   {
    "duration": 352,
    "start_time": "2021-12-06T04:22:38.490Z"
   },
   {
    "duration": 3,
    "start_time": "2021-12-06T04:22:41.258Z"
   },
   {
    "duration": 6,
    "start_time": "2021-12-06T04:22:41.571Z"
   },
   {
    "duration": 3,
    "start_time": "2021-12-06T04:23:09.910Z"
   },
   {
    "duration": 5,
    "start_time": "2021-12-06T04:23:10.176Z"
   },
   {
    "duration": 365,
    "start_time": "2021-12-06T08:54:51.321Z"
   },
   {
    "duration": 1332,
    "start_time": "2021-12-06T08:54:54.956Z"
   },
   {
    "duration": 1251,
    "start_time": "2021-12-06T08:54:56.291Z"
   },
   {
    "duration": 28,
    "start_time": "2021-12-06T08:54:57.545Z"
   },
   {
    "duration": 15,
    "start_time": "2021-12-06T08:54:57.575Z"
   },
   {
    "duration": 44,
    "start_time": "2021-12-06T08:54:57.593Z"
   },
   {
    "duration": 28,
    "start_time": "2021-12-06T08:54:57.639Z"
   },
   {
    "duration": 17,
    "start_time": "2021-12-06T08:54:57.670Z"
   },
   {
    "duration": 44,
    "start_time": "2021-12-06T08:54:57.693Z"
   },
   {
    "duration": 19,
    "start_time": "2021-12-06T08:54:57.741Z"
   },
   {
    "duration": 17,
    "start_time": "2021-12-06T08:54:57.763Z"
   },
   {
    "duration": 59,
    "start_time": "2021-12-06T08:54:57.783Z"
   },
   {
    "duration": 20,
    "start_time": "2021-12-06T08:54:57.845Z"
   },
   {
    "duration": 17,
    "start_time": "2021-12-06T08:54:57.869Z"
   },
   {
    "duration": 85,
    "start_time": "2021-12-06T08:54:57.888Z"
   },
   {
    "duration": 5,
    "start_time": "2021-12-06T08:54:57.975Z"
   },
   {
    "duration": 54,
    "start_time": "2021-12-06T08:54:57.982Z"
   },
   {
    "duration": 94,
    "start_time": "2021-12-06T08:54:58.041Z"
   },
   {
    "duration": 19,
    "start_time": "2021-12-06T08:54:58.230Z"
   },
   {
    "duration": 81,
    "start_time": "2021-12-06T08:54:58.251Z"
   },
   {
    "duration": 117,
    "start_time": "2021-12-06T08:54:58.336Z"
   },
   {
    "duration": 72,
    "start_time": "2021-12-06T08:54:58.458Z"
   },
   {
    "duration": 101,
    "start_time": "2021-12-06T08:54:58.534Z"
   },
   {
    "duration": 5,
    "start_time": "2021-12-06T08:54:58.640Z"
   },
   {
    "duration": 7,
    "start_time": "2021-12-06T08:54:58.647Z"
   },
   {
    "duration": 6,
    "start_time": "2021-12-06T08:54:58.656Z"
   },
   {
    "duration": 4,
    "start_time": "2021-12-06T08:55:09.756Z"
   },
   {
    "duration": 461,
    "start_time": "2021-12-06T08:55:09.763Z"
   },
   {
    "duration": 18,
    "start_time": "2021-12-06T08:55:10.228Z"
   },
   {
    "duration": 13,
    "start_time": "2021-12-06T08:55:10.249Z"
   },
   {
    "duration": 16,
    "start_time": "2021-12-06T08:55:10.264Z"
   },
   {
    "duration": 54,
    "start_time": "2021-12-06T08:55:10.282Z"
   },
   {
    "duration": 14,
    "start_time": "2021-12-06T08:55:10.338Z"
   },
   {
    "duration": 16,
    "start_time": "2021-12-06T08:55:10.356Z"
   },
   {
    "duration": 54,
    "start_time": "2021-12-06T08:55:10.376Z"
   },
   {
    "duration": 14,
    "start_time": "2021-12-06T08:55:10.433Z"
   },
   {
    "duration": 15,
    "start_time": "2021-12-06T08:55:10.449Z"
   },
   {
    "duration": 20,
    "start_time": "2021-12-06T08:55:10.467Z"
   },
   {
    "duration": 46,
    "start_time": "2021-12-06T08:55:10.489Z"
   },
   {
    "duration": 64,
    "start_time": "2021-12-06T08:55:10.537Z"
   },
   {
    "duration": 3,
    "start_time": "2021-12-06T08:55:10.603Z"
   },
   {
    "duration": 31,
    "start_time": "2021-12-06T08:55:10.608Z"
   },
   {
    "duration": 95,
    "start_time": "2021-12-06T08:55:10.734Z"
   },
   {
    "duration": 20,
    "start_time": "2021-12-06T08:55:10.831Z"
   },
   {
    "duration": 5,
    "start_time": "2021-12-06T08:55:10.931Z"
   },
   {
    "duration": 19,
    "start_time": "2021-12-06T08:55:11.028Z"
   },
   {
    "duration": 85,
    "start_time": "2021-12-06T08:55:11.051Z"
   },
   {
    "duration": 95,
    "start_time": "2021-12-06T08:55:11.139Z"
   },
   {
    "duration": 6,
    "start_time": "2021-12-06T08:55:11.242Z"
   },
   {
    "duration": 12,
    "start_time": "2021-12-06T08:55:11.251Z"
   },
   {
    "duration": 6,
    "start_time": "2021-12-06T08:55:11.265Z"
   },
   {
    "duration": 6,
    "start_time": "2021-12-06T09:03:08.437Z"
   },
   {
    "duration": 3,
    "start_time": "2021-12-06T09:04:37.022Z"
   },
   {
    "duration": 6,
    "start_time": "2021-12-06T09:04:41.480Z"
   },
   {
    "duration": 6,
    "start_time": "2021-12-06T09:05:00.816Z"
   },
   {
    "duration": 6,
    "start_time": "2021-12-06T09:05:01.478Z"
   },
   {
    "duration": 7,
    "start_time": "2021-12-06T09:05:02.076Z"
   },
   {
    "duration": 122,
    "start_time": "2021-12-06T09:33:17.057Z"
   },
   {
    "duration": 129,
    "start_time": "2021-12-06T09:34:09.452Z"
   },
   {
    "duration": 389,
    "start_time": "2021-12-06T09:34:40.066Z"
   },
   {
    "duration": 4,
    "start_time": "2021-12-06T09:34:45.457Z"
   },
   {
    "duration": 5,
    "start_time": "2021-12-06T09:34:49.386Z"
   },
   {
    "duration": 332,
    "start_time": "2021-12-06T11:19:39.233Z"
   },
   {
    "duration": 4,
    "start_time": "2021-12-06T11:19:42.666Z"
   },
   {
    "duration": 5,
    "start_time": "2021-12-06T11:19:43.950Z"
   },
   {
    "duration": 3,
    "start_time": "2021-12-06T11:51:41.994Z"
   },
   {
    "duration": 7,
    "start_time": "2021-12-06T11:51:53.108Z"
   },
   {
    "duration": 40,
    "start_time": "2021-12-06T11:52:02.610Z"
   },
   {
    "duration": 4,
    "start_time": "2021-12-06T11:52:13.654Z"
   },
   {
    "duration": 321,
    "start_time": "2021-12-06T11:52:19.469Z"
   },
   {
    "duration": 38,
    "start_time": "2021-12-06T11:52:46.312Z"
   },
   {
    "duration": 4,
    "start_time": "2021-12-06T11:53:01.000Z"
   },
   {
    "duration": 4,
    "start_time": "2021-12-06T11:54:12.074Z"
   },
   {
    "duration": 28,
    "start_time": "2021-12-06T11:54:25.774Z"
   },
   {
    "duration": 3,
    "start_time": "2021-12-06T11:54:30.897Z"
   },
   {
    "duration": 4,
    "start_time": "2021-12-06T11:54:37.214Z"
   },
   {
    "duration": 18,
    "start_time": "2021-12-06T11:54:37.700Z"
   },
   {
    "duration": 4,
    "start_time": "2021-12-06T11:54:38.094Z"
   },
   {
    "duration": 5,
    "start_time": "2021-12-06T11:54:53.701Z"
   },
   {
    "duration": 15,
    "start_time": "2021-12-06T11:55:26.728Z"
   },
   {
    "duration": 326,
    "start_time": "2021-12-06T11:55:27.531Z"
   },
   {
    "duration": 9,
    "start_time": "2021-12-06T11:55:35.780Z"
   },
   {
    "duration": 8,
    "start_time": "2021-12-06T11:55:51.242Z"
   },
   {
    "duration": 6,
    "start_time": "2021-12-06T11:56:00.471Z"
   },
   {
    "duration": 163,
    "start_time": "2021-12-06T11:57:11.792Z"
   },
   {
    "duration": 19,
    "start_time": "2021-12-06T11:57:33.144Z"
   },
   {
    "duration": 4,
    "start_time": "2021-12-06T11:57:34.879Z"
   },
   {
    "duration": 18,
    "start_time": "2021-12-06T11:57:35.437Z"
   },
   {
    "duration": 21,
    "start_time": "2021-12-06T11:57:42.528Z"
   },
   {
    "duration": 23,
    "start_time": "2021-12-06T11:58:18.815Z"
   },
   {
    "duration": 20,
    "start_time": "2021-12-06T11:58:27.382Z"
   },
   {
    "duration": 19,
    "start_time": "2021-12-06T11:58:44.586Z"
   },
   {
    "duration": 19,
    "start_time": "2021-12-06T11:58:46.176Z"
   },
   {
    "duration": 19,
    "start_time": "2021-12-06T11:58:47.746Z"
   },
   {
    "duration": 20,
    "start_time": "2021-12-06T11:58:50.002Z"
   },
   {
    "duration": 4,
    "start_time": "2021-12-06T11:59:05.023Z"
   },
   {
    "duration": 19,
    "start_time": "2021-12-06T11:59:05.584Z"
   },
   {
    "duration": 25,
    "start_time": "2021-12-06T11:59:06.031Z"
   },
   {
    "duration": 20,
    "start_time": "2021-12-06T11:59:06.463Z"
   },
   {
    "duration": 6,
    "start_time": "2021-12-06T11:59:31.440Z"
   },
   {
    "duration": 21,
    "start_time": "2021-12-06T11:59:32.715Z"
   },
   {
    "duration": 4,
    "start_time": "2021-12-06T11:59:57.630Z"
   },
   {
    "duration": 20,
    "start_time": "2021-12-06T11:59:58.282Z"
   },
   {
    "duration": 19,
    "start_time": "2021-12-06T11:59:58.477Z"
   },
   {
    "duration": 25,
    "start_time": "2021-12-06T11:59:58.696Z"
   },
   {
    "duration": 102,
    "start_time": "2021-12-06T12:05:48.994Z"
   },
   {
    "duration": 27,
    "start_time": "2021-12-06T12:30:07.849Z"
   },
   {
    "duration": 115,
    "start_time": "2021-12-06T12:51:04.982Z"
   },
   {
    "duration": 107,
    "start_time": "2021-12-06T14:05:35.721Z"
   },
   {
    "duration": 148,
    "start_time": "2021-12-06T14:05:48.221Z"
   },
   {
    "duration": 162,
    "start_time": "2021-12-06T14:05:56.868Z"
   },
   {
    "duration": 115,
    "start_time": "2021-12-06T14:06:01.744Z"
   },
   {
    "duration": 107,
    "start_time": "2021-12-06T14:06:16.720Z"
   },
   {
    "duration": 118,
    "start_time": "2021-12-06T14:06:20.669Z"
   },
   {
    "duration": 98,
    "start_time": "2021-12-06T14:06:40.391Z"
   },
   {
    "duration": 124,
    "start_time": "2021-12-06T14:07:28.078Z"
   },
   {
    "duration": 109,
    "start_time": "2021-12-06T14:07:40.440Z"
   },
   {
    "duration": 6,
    "start_time": "2021-12-06T14:07:44.212Z"
   },
   {
    "duration": 329,
    "start_time": "2021-12-06T14:08:20.345Z"
   },
   {
    "duration": 6,
    "start_time": "2021-12-06T14:08:24.097Z"
   },
   {
    "duration": 4127,
    "start_time": "2021-12-06T14:08:24.609Z"
   },
   {
    "duration": 6,
    "start_time": "2021-12-06T14:09:17.323Z"
   },
   {
    "duration": 4303,
    "start_time": "2021-12-06T14:09:22.690Z"
   },
   {
    "duration": 4249,
    "start_time": "2021-12-06T14:09:29.019Z"
   },
   {
    "duration": 7,
    "start_time": "2021-12-06T14:13:18.288Z"
   },
   {
    "duration": 4056,
    "start_time": "2021-12-06T14:13:19.061Z"
   },
   {
    "duration": 4121,
    "start_time": "2021-12-06T14:13:23.120Z"
   },
   {
    "duration": 4367,
    "start_time": "2021-12-06T14:13:27.243Z"
   },
   {
    "duration": 6,
    "start_time": "2021-12-06T14:20:28.987Z"
   },
   {
    "duration": 8,
    "start_time": "2021-12-06T14:39:38.725Z"
   },
   {
    "duration": 6736,
    "start_time": "2021-12-06T14:39:39.567Z"
   },
   {
    "duration": -93,
    "start_time": "2021-12-06T14:39:46.398Z"
   },
   {
    "duration": -95,
    "start_time": "2021-12-06T14:39:46.402Z"
   },
   {
    "duration": 8,
    "start_time": "2021-12-06T14:40:13.305Z"
   },
   {
    "duration": 4791,
    "start_time": "2021-12-06T14:40:15.188Z"
   },
   {
    "duration": 4561,
    "start_time": "2021-12-06T14:40:19.982Z"
   },
   {
    "duration": 4876,
    "start_time": "2021-12-06T14:40:24.548Z"
   },
   {
    "duration": 8,
    "start_time": "2021-12-06T14:43:46.924Z"
   },
   {
    "duration": 1447,
    "start_time": "2021-12-06T14:43:47.408Z"
   },
   {
    "duration": 1447,
    "start_time": "2021-12-06T14:43:48.858Z"
   },
   {
    "duration": 1511,
    "start_time": "2021-12-06T14:43:50.308Z"
   },
   {
    "duration": 8,
    "start_time": "2021-12-06T14:43:58.527Z"
   },
   {
    "duration": 5006,
    "start_time": "2021-12-06T14:43:58.989Z"
   },
   {
    "duration": 4587,
    "start_time": "2021-12-06T14:44:03.997Z"
   },
   {
    "duration": 4607,
    "start_time": "2021-12-06T14:44:08.587Z"
   },
   {
    "duration": 6,
    "start_time": "2021-12-06T14:48:35.725Z"
   },
   {
    "duration": 497,
    "start_time": "2021-12-06T14:48:35.733Z"
   },
   {
    "duration": 17,
    "start_time": "2021-12-06T14:48:36.233Z"
   },
   {
    "duration": 16,
    "start_time": "2021-12-06T14:48:36.253Z"
   },
   {
    "duration": 17,
    "start_time": "2021-12-06T14:48:36.271Z"
   },
   {
    "duration": 18,
    "start_time": "2021-12-06T14:48:36.318Z"
   },
   {
    "duration": 13,
    "start_time": "2021-12-06T14:48:36.341Z"
   },
   {
    "duration": 16,
    "start_time": "2021-12-06T14:48:36.357Z"
   },
   {
    "duration": 54,
    "start_time": "2021-12-06T14:48:36.377Z"
   },
   {
    "duration": 17,
    "start_time": "2021-12-06T14:48:36.435Z"
   },
   {
    "duration": 17,
    "start_time": "2021-12-06T14:48:36.456Z"
   },
   {
    "duration": 46,
    "start_time": "2021-12-06T14:48:36.485Z"
   },
   {
    "duration": 15,
    "start_time": "2021-12-06T14:48:36.534Z"
   },
   {
    "duration": 82,
    "start_time": "2021-12-06T14:48:36.552Z"
   },
   {
    "duration": 3,
    "start_time": "2021-12-06T14:48:36.637Z"
   },
   {
    "duration": 82,
    "start_time": "2021-12-06T14:48:36.644Z"
   },
   {
    "duration": 89,
    "start_time": "2021-12-06T14:48:36.730Z"
   },
   {
    "duration": 99,
    "start_time": "2021-12-06T14:48:36.821Z"
   },
   {
    "duration": 6,
    "start_time": "2021-12-06T14:48:36.925Z"
   },
   {
    "duration": 95,
    "start_time": "2021-12-06T14:48:37.025Z"
   },
   {
    "duration": 94,
    "start_time": "2021-12-06T14:48:37.123Z"
   },
   {
    "duration": 4,
    "start_time": "2021-12-06T14:48:37.221Z"
   },
   {
    "duration": 8,
    "start_time": "2021-12-06T14:48:37.228Z"
   },
   {
    "duration": 25,
    "start_time": "2021-12-06T14:48:37.238Z"
   },
   {
    "duration": 64,
    "start_time": "2021-12-06T14:48:37.266Z"
   },
   {
    "duration": 20,
    "start_time": "2021-12-06T14:48:37.333Z"
   },
   {
    "duration": 11,
    "start_time": "2021-12-06T14:48:37.362Z"
   },
   {
    "duration": 4654,
    "start_time": "2021-12-06T14:48:37.377Z"
   },
   {
    "duration": 7246,
    "start_time": "2021-12-06T14:48:42.034Z"
   },
   {
    "duration": 6426,
    "start_time": "2021-12-06T14:48:49.283Z"
   },
   {
    "duration": 126,
    "start_time": "2021-12-06T14:48:55.711Z"
   },
   {
    "duration": 112,
    "start_time": "2021-12-06T14:56:04.633Z"
   },
   {
    "duration": 5,
    "start_time": "2021-12-06T15:07:06.982Z"
   },
   {
    "duration": 575,
    "start_time": "2021-12-06T15:07:06.990Z"
   },
   {
    "duration": 21,
    "start_time": "2021-12-06T15:07:07.568Z"
   },
   {
    "duration": 49,
    "start_time": "2021-12-06T15:07:07.592Z"
   },
   {
    "duration": 28,
    "start_time": "2021-12-06T15:07:07.645Z"
   },
   {
    "duration": 63,
    "start_time": "2021-12-06T15:07:07.677Z"
   },
   {
    "duration": 18,
    "start_time": "2021-12-06T15:07:07.743Z"
   },
   {
    "duration": 17,
    "start_time": "2021-12-06T15:07:07.765Z"
   },
   {
    "duration": 30,
    "start_time": "2021-12-06T15:07:07.818Z"
   },
   {
    "duration": 15,
    "start_time": "2021-12-06T15:07:07.851Z"
   },
   {
    "duration": 58,
    "start_time": "2021-12-06T15:07:07.869Z"
   },
   {
    "duration": 21,
    "start_time": "2021-12-06T15:07:07.931Z"
   },
   {
    "duration": 14,
    "start_time": "2021-12-06T15:07:07.955Z"
   },
   {
    "duration": 92,
    "start_time": "2021-12-06T15:07:07.973Z"
   },
   {
    "duration": 4,
    "start_time": "2021-12-06T15:07:08.068Z"
   },
   {
    "duration": 59,
    "start_time": "2021-12-06T15:07:08.076Z"
   },
   {
    "duration": 88,
    "start_time": "2021-12-06T15:07:08.139Z"
   },
   {
    "duration": 98,
    "start_time": "2021-12-06T15:07:08.232Z"
   },
   {
    "duration": 6,
    "start_time": "2021-12-06T15:07:08.340Z"
   },
   {
    "duration": 36,
    "start_time": "2021-12-06T15:07:08.422Z"
   },
   {
    "duration": 9,
    "start_time": "2021-12-06T15:07:08.526Z"
   },
   {
    "duration": 89,
    "start_time": "2021-12-06T15:07:08.538Z"
   },
   {
    "duration": 11,
    "start_time": "2021-12-06T15:07:08.633Z"
   },
   {
    "duration": 29,
    "start_time": "2021-12-06T15:07:08.649Z"
   },
   {
    "duration": 48,
    "start_time": "2021-12-06T15:07:08.680Z"
   },
   {
    "duration": 37,
    "start_time": "2021-12-06T15:07:08.731Z"
   },
   {
    "duration": 9,
    "start_time": "2021-12-06T15:07:08.771Z"
   },
   {
    "duration": 5124,
    "start_time": "2021-12-06T15:07:08.782Z"
   },
   {
    "duration": 5539,
    "start_time": "2021-12-06T15:07:13.908Z"
   },
   {
    "duration": 6635,
    "start_time": "2021-12-06T15:07:19.450Z"
   },
   {
    "duration": 6,
    "start_time": "2021-12-06T15:12:04.205Z"
   },
   {
    "duration": 509,
    "start_time": "2021-12-06T15:12:04.214Z"
   },
   {
    "duration": 18,
    "start_time": "2021-12-06T15:12:04.726Z"
   },
   {
    "duration": 15,
    "start_time": "2021-12-06T15:12:04.747Z"
   },
   {
    "duration": 58,
    "start_time": "2021-12-06T15:12:04.765Z"
   },
   {
    "duration": 20,
    "start_time": "2021-12-06T15:12:04.826Z"
   },
   {
    "duration": 16,
    "start_time": "2021-12-06T15:12:04.848Z"
   },
   {
    "duration": 58,
    "start_time": "2021-12-06T15:12:04.868Z"
   },
   {
    "duration": 22,
    "start_time": "2021-12-06T15:12:04.930Z"
   },
   {
    "duration": 15,
    "start_time": "2021-12-06T15:12:04.955Z"
   },
   {
    "duration": 52,
    "start_time": "2021-12-06T15:12:04.972Z"
   },
   {
    "duration": 26,
    "start_time": "2021-12-06T15:12:05.026Z"
   },
   {
    "duration": 19,
    "start_time": "2021-12-06T15:12:05.055Z"
   },
   {
    "duration": 80,
    "start_time": "2021-12-06T15:12:05.076Z"
   },
   {
    "duration": 3,
    "start_time": "2021-12-06T15:12:05.159Z"
   },
   {
    "duration": 62,
    "start_time": "2021-12-06T15:12:05.165Z"
   },
   {
    "duration": 5,
    "start_time": "2021-12-06T15:12:05.318Z"
   },
   {
    "duration": 21,
    "start_time": "2021-12-06T15:12:05.326Z"
   },
   {
    "duration": 6,
    "start_time": "2021-12-06T15:12:05.424Z"
   },
   {
    "duration": 19,
    "start_time": "2021-12-06T15:12:05.518Z"
   },
   {
    "duration": 81,
    "start_time": "2021-12-06T15:12:05.541Z"
   },
   {
    "duration": 98,
    "start_time": "2021-12-06T15:12:05.626Z"
   },
   {
    "duration": 4,
    "start_time": "2021-12-06T15:12:05.729Z"
   },
   {
    "duration": 26,
    "start_time": "2021-12-06T15:12:05.736Z"
   },
   {
    "duration": 68,
    "start_time": "2021-12-06T15:12:05.764Z"
   },
   {
    "duration": 28,
    "start_time": "2021-12-06T15:12:05.835Z"
   },
   {
    "duration": 12,
    "start_time": "2021-12-06T15:12:05.866Z"
   },
   {
    "duration": 4443,
    "start_time": "2021-12-06T15:12:05.880Z"
   },
   {
    "duration": 4732,
    "start_time": "2021-12-06T15:12:10.326Z"
   },
   {
    "duration": 4381,
    "start_time": "2021-12-06T15:12:15.061Z"
   },
   {
    "duration": 5,
    "start_time": "2021-12-06T19:13:00.278Z"
   },
   {
    "duration": 1310,
    "start_time": "2021-12-06T19:14:27.376Z"
   },
   {
    "duration": 549,
    "start_time": "2021-12-06T19:14:28.688Z"
   },
   {
    "duration": 31,
    "start_time": "2021-12-06T19:14:29.239Z"
   },
   {
    "duration": 14,
    "start_time": "2021-12-06T19:14:29.273Z"
   },
   {
    "duration": 18,
    "start_time": "2021-12-06T19:14:29.290Z"
   },
   {
    "duration": 55,
    "start_time": "2021-12-06T19:14:29.310Z"
   },
   {
    "duration": 15,
    "start_time": "2021-12-06T19:14:29.368Z"
   },
   {
    "duration": 15,
    "start_time": "2021-12-06T19:14:29.386Z"
   },
   {
    "duration": 16,
    "start_time": "2021-12-06T19:14:29.403Z"
   },
   {
    "duration": 51,
    "start_time": "2021-12-06T19:14:29.421Z"
   },
   {
    "duration": 16,
    "start_time": "2021-12-06T19:14:29.475Z"
   },
   {
    "duration": 20,
    "start_time": "2021-12-06T19:14:29.493Z"
   },
   {
    "duration": 43,
    "start_time": "2021-12-06T19:14:29.516Z"
   },
   {
    "duration": 46,
    "start_time": "2021-12-06T19:14:29.573Z"
   },
   {
    "duration": 5,
    "start_time": "2021-12-06T19:14:29.621Z"
   },
   {
    "duration": 897,
    "start_time": "2021-12-06T19:14:31.655Z"
   },
   {
    "duration": 4,
    "start_time": "2021-12-06T19:15:01.208Z"
   },
   {
    "duration": 962,
    "start_time": "2021-12-06T19:15:01.843Z"
   },
   {
    "duration": 5,
    "start_time": "2021-12-06T19:15:10.778Z"
   },
   {
    "duration": 16,
    "start_time": "2021-12-06T19:15:11.916Z"
   },
   {
    "duration": 15,
    "start_time": "2021-12-06T19:15:27.938Z"
   },
   {
    "duration": 15,
    "start_time": "2021-12-06T19:15:45.097Z"
   },
   {
    "duration": 4,
    "start_time": "2021-12-06T19:18:49.419Z"
   },
   {
    "duration": 5,
    "start_time": "2021-12-06T19:18:54.546Z"
   },
   {
    "duration": 4,
    "start_time": "2021-12-06T19:19:07.400Z"
   },
   {
    "duration": 177,
    "start_time": "2021-12-06T19:19:48.463Z"
   },
   {
    "duration": 147,
    "start_time": "2021-12-06T19:20:46.034Z"
   },
   {
    "duration": 7,
    "start_time": "2021-12-06T19:33:58.178Z"
   },
   {
    "duration": 4306,
    "start_time": "2021-12-06T19:34:00.069Z"
   },
   {
    "duration": 6,
    "start_time": "2021-12-06T19:34:33.818Z"
   },
   {
    "duration": 4130,
    "start_time": "2021-12-06T19:34:35.288Z"
   },
   {
    "duration": 4075,
    "start_time": "2021-12-06T19:35:02.284Z"
   },
   {
    "duration": 4161,
    "start_time": "2021-12-06T19:35:06.362Z"
   },
   {
    "duration": 129,
    "start_time": "2021-12-06T19:38:36.147Z"
   },
   {
    "duration": 7,
    "start_time": "2021-12-06T19:40:35.149Z"
   },
   {
    "duration": 4142,
    "start_time": "2021-12-06T19:40:37.376Z"
   },
   {
    "duration": 4130,
    "start_time": "2021-12-06T19:40:41.520Z"
   },
   {
    "duration": 4169,
    "start_time": "2021-12-06T19:40:45.653Z"
   },
   {
    "duration": 1038,
    "start_time": "2021-12-07T07:18:26.346Z"
   },
   {
    "duration": 335,
    "start_time": "2021-12-07T07:18:27.387Z"
   },
   {
    "duration": 19,
    "start_time": "2021-12-07T07:18:27.724Z"
   },
   {
    "duration": 9,
    "start_time": "2021-12-07T07:18:27.745Z"
   },
   {
    "duration": 12,
    "start_time": "2021-12-07T07:18:27.755Z"
   },
   {
    "duration": 30,
    "start_time": "2021-12-07T07:18:27.768Z"
   },
   {
    "duration": 10,
    "start_time": "2021-12-07T07:18:27.800Z"
   },
   {
    "duration": 10,
    "start_time": "2021-12-07T07:18:27.812Z"
   },
   {
    "duration": 12,
    "start_time": "2021-12-07T07:18:27.824Z"
   },
   {
    "duration": 10,
    "start_time": "2021-12-07T07:18:27.838Z"
   },
   {
    "duration": 44,
    "start_time": "2021-12-07T07:18:27.849Z"
   },
   {
    "duration": 15,
    "start_time": "2021-12-07T07:18:27.895Z"
   },
   {
    "duration": 13,
    "start_time": "2021-12-07T07:18:27.911Z"
   },
   {
    "duration": 32,
    "start_time": "2021-12-07T07:18:27.925Z"
   },
   {
    "duration": 3,
    "start_time": "2021-12-07T07:18:27.959Z"
   },
   {
    "duration": 32,
    "start_time": "2021-12-07T07:18:27.963Z"
   },
   {
    "duration": 94,
    "start_time": "2021-12-07T07:18:27.998Z"
   },
   {
    "duration": 192,
    "start_time": "2021-12-07T07:18:28.095Z"
   },
   {
    "duration": 4,
    "start_time": "2021-12-07T07:18:28.290Z"
   },
   {
    "duration": 98,
    "start_time": "2021-12-07T07:18:28.296Z"
   },
   {
    "duration": 7,
    "start_time": "2021-12-07T07:18:28.396Z"
   },
   {
    "duration": 10,
    "start_time": "2021-12-07T07:18:57.593Z"
   },
   {
    "duration": 15,
    "start_time": "2021-12-07T07:19:01.540Z"
   },
   {
    "duration": 8,
    "start_time": "2021-12-07T07:19:25.303Z"
   },
   {
    "duration": 10,
    "start_time": "2021-12-07T07:19:26.154Z"
   },
   {
    "duration": 3,
    "start_time": "2021-12-07T07:19:44.850Z"
   },
   {
    "duration": 4,
    "start_time": "2021-12-07T07:19:48.580Z"
   },
   {
    "duration": 7,
    "start_time": "2021-12-07T07:19:58.183Z"
   },
   {
    "duration": 9,
    "start_time": "2021-12-07T07:19:58.475Z"
   },
   {
    "duration": 5,
    "start_time": "2021-12-07T07:20:22.850Z"
   },
   {
    "duration": 5,
    "start_time": "2021-12-07T07:20:23.538Z"
   },
   {
    "duration": 388,
    "start_time": "2021-12-07T07:39:11.452Z"
   },
   {
    "duration": 5,
    "start_time": "2021-12-07T07:39:15.757Z"
   },
   {
    "duration": 4,
    "start_time": "2021-12-07T07:39:22.982Z"
   },
   {
    "duration": 92,
    "start_time": "2021-12-07T09:44:58.531Z"
   },
   {
    "duration": 3,
    "start_time": "2021-12-07T11:06:54.415Z"
   },
   {
    "duration": 275,
    "start_time": "2021-12-07T11:07:23.610Z"
   },
   {
    "duration": 1004,
    "start_time": "2021-12-07T11:07:29.632Z"
   },
   {
    "duration": 345,
    "start_time": "2021-12-07T11:07:30.637Z"
   },
   {
    "duration": 18,
    "start_time": "2021-12-07T11:07:30.984Z"
   },
   {
    "duration": 9,
    "start_time": "2021-12-07T11:07:31.003Z"
   },
   {
    "duration": 18,
    "start_time": "2021-12-07T11:07:31.013Z"
   },
   {
    "duration": 14,
    "start_time": "2021-12-07T11:07:31.033Z"
   },
   {
    "duration": 8,
    "start_time": "2021-12-07T11:07:31.049Z"
   },
   {
    "duration": 33,
    "start_time": "2021-12-07T11:07:31.059Z"
   },
   {
    "duration": 18,
    "start_time": "2021-12-07T11:07:31.095Z"
   },
   {
    "duration": 17,
    "start_time": "2021-12-07T11:07:31.115Z"
   },
   {
    "duration": 9,
    "start_time": "2021-12-07T11:07:31.134Z"
   },
   {
    "duration": 32,
    "start_time": "2021-12-07T11:07:31.144Z"
   },
   {
    "duration": 14,
    "start_time": "2021-12-07T11:07:31.178Z"
   },
   {
    "duration": 35,
    "start_time": "2021-12-07T11:07:31.194Z"
   },
   {
    "duration": 3,
    "start_time": "2021-12-07T11:07:31.230Z"
   },
   {
    "duration": 59,
    "start_time": "2021-12-07T11:07:31.234Z"
   },
   {
    "duration": 98,
    "start_time": "2021-12-07T11:07:31.295Z"
   },
   {
    "duration": 99,
    "start_time": "2021-12-07T11:07:31.396Z"
   },
   {
    "duration": 4,
    "start_time": "2021-12-07T11:07:31.497Z"
   },
   {
    "duration": 10,
    "start_time": "2021-12-07T11:07:31.588Z"
   },
   {
    "duration": 92,
    "start_time": "2021-12-07T11:07:31.600Z"
   },
   {
    "duration": 11,
    "start_time": "2021-12-07T11:07:31.694Z"
   },
   {
    "duration": 11,
    "start_time": "2021-12-07T11:07:31.706Z"
   },
   {
    "duration": 8,
    "start_time": "2021-12-07T11:07:31.718Z"
   },
   {
    "duration": 5,
    "start_time": "2021-12-07T11:07:31.728Z"
   },
   {
    "duration": 11,
    "start_time": "2021-12-07T11:07:31.734Z"
   },
   {
    "duration": 7,
    "start_time": "2021-12-07T11:07:34.143Z"
   },
   {
    "duration": 11,
    "start_time": "2021-12-07T11:30:13.800Z"
   },
   {
    "duration": 7,
    "start_time": "2021-12-07T11:30:30.092Z"
   },
   {
    "duration": 3,
    "start_time": "2021-12-07T11:31:18.755Z"
   },
   {
    "duration": 6,
    "start_time": "2021-12-07T11:31:20.419Z"
   },
   {
    "duration": 4,
    "start_time": "2021-12-07T11:31:29.097Z"
   },
   {
    "duration": 3,
    "start_time": "2021-12-07T11:46:41.035Z"
   },
   {
    "duration": 191,
    "start_time": "2021-12-07T11:46:58.230Z"
   },
   {
    "duration": 19,
    "start_time": "2021-12-07T11:47:00.444Z"
   },
   {
    "duration": 3,
    "start_time": "2021-12-07T11:47:16.510Z"
   },
   {
    "duration": 3,
    "start_time": "2021-12-07T11:47:18.691Z"
   },
   {
    "duration": 414,
    "start_time": "2021-12-07T11:47:41.853Z"
   },
   {
    "duration": 506,
    "start_time": "2021-12-07T11:47:52.308Z"
   },
   {
    "duration": 3,
    "start_time": "2021-12-07T11:48:09.870Z"
   },
   {
    "duration": 568,
    "start_time": "2021-12-07T11:48:11.652Z"
   },
   {
    "duration": 542,
    "start_time": "2021-12-07T11:48:18.118Z"
   },
   {
    "duration": 18,
    "start_time": "2021-12-07T11:57:07.937Z"
   },
   {
    "duration": 4,
    "start_time": "2021-12-07T11:57:13.637Z"
   },
   {
    "duration": 343,
    "start_time": "2021-12-07T11:57:13.642Z"
   },
   {
    "duration": 17,
    "start_time": "2021-12-07T11:57:13.987Z"
   },
   {
    "duration": 14,
    "start_time": "2021-12-07T11:57:14.007Z"
   },
   {
    "duration": 12,
    "start_time": "2021-12-07T11:57:14.023Z"
   },
   {
    "duration": 19,
    "start_time": "2021-12-07T11:57:14.037Z"
   },
   {
    "duration": 37,
    "start_time": "2021-12-07T11:57:14.058Z"
   },
   {
    "duration": 9,
    "start_time": "2021-12-07T11:57:14.097Z"
   },
   {
    "duration": 13,
    "start_time": "2021-12-07T11:57:14.109Z"
   },
   {
    "duration": 9,
    "start_time": "2021-12-07T11:57:14.124Z"
   },
   {
    "duration": 11,
    "start_time": "2021-12-07T11:57:14.135Z"
   },
   {
    "duration": 48,
    "start_time": "2021-12-07T11:57:14.148Z"
   },
   {
    "duration": 8,
    "start_time": "2021-12-07T11:57:14.197Z"
   },
   {
    "duration": 28,
    "start_time": "2021-12-07T11:57:14.207Z"
   },
   {
    "duration": 3,
    "start_time": "2021-12-07T11:57:14.237Z"
   },
   {
    "duration": 47,
    "start_time": "2021-12-07T11:57:14.242Z"
   },
   {
    "duration": 102,
    "start_time": "2021-12-07T11:57:14.290Z"
   },
   {
    "duration": 103,
    "start_time": "2021-12-07T11:57:14.395Z"
   },
   {
    "duration": 88,
    "start_time": "2021-12-07T11:57:14.501Z"
   },
   {
    "duration": 6,
    "start_time": "2021-12-07T11:57:14.591Z"
   },
   {
    "duration": 90,
    "start_time": "2021-12-07T11:57:14.599Z"
   },
   {
    "duration": 6,
    "start_time": "2021-12-07T11:57:14.691Z"
   },
   {
    "duration": 3,
    "start_time": "2021-12-07T11:57:17.395Z"
   },
   {
    "duration": 5,
    "start_time": "2021-12-07T11:57:27.819Z"
   },
   {
    "duration": 4,
    "start_time": "2021-12-07T12:03:09.349Z"
   },
   {
    "duration": 5,
    "start_time": "2021-12-07T12:03:19.710Z"
   },
   {
    "duration": 3341,
    "start_time": "2021-12-07T12:03:43.735Z"
   },
   {
    "duration": 3528,
    "start_time": "2021-12-07T12:04:12.941Z"
   },
   {
    "duration": 4,
    "start_time": "2021-12-07T12:04:21.053Z"
   },
   {
    "duration": 579,
    "start_time": "2021-12-07T12:04:23.159Z"
   },
   {
    "duration": 3,
    "start_time": "2021-12-07T12:04:51.598Z"
   },
   {
    "duration": 479,
    "start_time": "2021-12-07T12:04:57.097Z"
   },
   {
    "duration": 3,
    "start_time": "2021-12-07T12:05:45.839Z"
   },
   {
    "duration": 3,
    "start_time": "2021-12-07T12:06:43.923Z"
   },
   {
    "duration": 5,
    "start_time": "2021-12-07T12:06:46.402Z"
   },
   {
    "duration": 8,
    "start_time": "2021-12-07T12:06:47.015Z"
   },
   {
    "duration": 7,
    "start_time": "2021-12-07T12:07:08.694Z"
   },
   {
    "duration": 4,
    "start_time": "2021-12-07T12:07:25.776Z"
   },
   {
    "duration": 2,
    "start_time": "2021-12-07T12:07:43.760Z"
   },
   {
    "duration": 4,
    "start_time": "2021-12-07T12:07:49.946Z"
   },
   {
    "duration": 5,
    "start_time": "2021-12-07T12:07:56.147Z"
   },
   {
    "duration": 8,
    "start_time": "2021-12-07T12:08:05.667Z"
   },
   {
    "duration": 6,
    "start_time": "2021-12-07T12:12:07.542Z"
   },
   {
    "duration": 370,
    "start_time": "2021-12-07T12:12:14.284Z"
   },
   {
    "duration": 5,
    "start_time": "2021-12-07T12:12:39.898Z"
   },
   {
    "duration": 7,
    "start_time": "2021-12-07T12:12:43.632Z"
   },
   {
    "duration": 5289,
    "start_time": "2021-12-07T12:12:57.746Z"
   },
   {
    "duration": 6668,
    "start_time": "2021-12-07T12:13:05.649Z"
   },
   {
    "duration": 5,
    "start_time": "2021-12-07T12:13:17.768Z"
   },
   {
    "duration": 4,
    "start_time": "2021-12-07T12:13:27.544Z"
   },
   {
    "duration": 4,
    "start_time": "2021-12-07T12:13:31.739Z"
   },
   {
    "duration": 6,
    "start_time": "2021-12-07T12:13:36.788Z"
   },
   {
    "duration": 7,
    "start_time": "2021-12-07T12:13:52.304Z"
   },
   {
    "duration": 6,
    "start_time": "2021-12-07T12:13:53.142Z"
   },
   {
    "duration": 95,
    "start_time": "2021-12-07T12:14:27.412Z"
   },
   {
    "duration": 263,
    "start_time": "2021-12-07T12:14:29.448Z"
   },
   {
    "duration": 285,
    "start_time": "2021-12-07T12:14:55.449Z"
   },
   {
    "duration": 4,
    "start_time": "2021-12-07T12:16:25.129Z"
   },
   {
    "duration": 6,
    "start_time": "2021-12-07T12:16:28.315Z"
   },
   {
    "duration": 3,
    "start_time": "2021-12-07T12:16:50.132Z"
   },
   {
    "duration": 4,
    "start_time": "2021-12-07T12:16:55.542Z"
   },
   {
    "duration": 4,
    "start_time": "2021-12-07T12:16:56.102Z"
   },
   {
    "duration": 5,
    "start_time": "2021-12-07T12:17:00.787Z"
   },
   {
    "duration": 3,
    "start_time": "2021-12-07T12:17:10.698Z"
   },
   {
    "duration": 4,
    "start_time": "2021-12-07T12:17:11.516Z"
   },
   {
    "duration": 5,
    "start_time": "2021-12-07T12:17:23.356Z"
   },
   {
    "duration": 3,
    "start_time": "2021-12-07T12:17:31.867Z"
   },
   {
    "duration": 5,
    "start_time": "2021-12-07T12:17:32.626Z"
   },
   {
    "duration": 3,
    "start_time": "2021-12-07T12:17:40.834Z"
   },
   {
    "duration": 5,
    "start_time": "2021-12-07T12:17:41.786Z"
   },
   {
    "duration": 3,
    "start_time": "2021-12-07T12:17:45.528Z"
   },
   {
    "duration": 5,
    "start_time": "2021-12-07T12:17:45.814Z"
   },
   {
    "duration": 233,
    "start_time": "2021-12-07T12:29:52.728Z"
   },
   {
    "duration": 4,
    "start_time": "2021-12-07T12:29:59.136Z"
   },
   {
    "duration": 4751,
    "start_time": "2021-12-07T12:30:18.207Z"
   },
   {
    "duration": 242,
    "start_time": "2021-12-07T12:30:29.051Z"
   },
   {
    "duration": 4014,
    "start_time": "2021-12-07T12:54:38.761Z"
   },
   {
    "duration": 4,
    "start_time": "2021-12-07T12:54:56.362Z"
   },
   {
    "duration": 7,
    "start_time": "2021-12-07T12:55:41.793Z"
   },
   {
    "duration": 5,
    "start_time": "2021-12-07T12:56:02.463Z"
   },
   {
    "duration": 2,
    "start_time": "2021-12-07T12:56:19.924Z"
   },
   {
    "duration": 3,
    "start_time": "2021-12-07T12:56:23.777Z"
   },
   {
    "duration": 6,
    "start_time": "2021-12-07T12:56:24.331Z"
   },
   {
    "duration": 4,
    "start_time": "2021-12-07T12:58:59.740Z"
   },
   {
    "duration": 246,
    "start_time": "2021-12-07T12:59:46.740Z"
   },
   {
    "duration": 10,
    "start_time": "2021-12-07T13:00:02.084Z"
   },
   {
    "duration": 3,
    "start_time": "2021-12-07T13:00:36.066Z"
   },
   {
    "duration": 13,
    "start_time": "2021-12-07T13:00:38.781Z"
   },
   {
    "duration": 7,
    "start_time": "2021-12-07T13:00:41.306Z"
   },
   {
    "duration": 8,
    "start_time": "2021-12-07T13:00:41.869Z"
   },
   {
    "duration": 3,
    "start_time": "2021-12-07T13:01:38.280Z"
   },
   {
    "duration": 8,
    "start_time": "2021-12-07T13:01:40.631Z"
   },
   {
    "duration": 3,
    "start_time": "2021-12-07T13:01:47.737Z"
   },
   {
    "duration": 8,
    "start_time": "2021-12-07T13:01:50.077Z"
   },
   {
    "duration": 8,
    "start_time": "2021-12-07T13:01:51.359Z"
   },
   {
    "duration": 9,
    "start_time": "2021-12-07T13:01:51.735Z"
   },
   {
    "duration": 3,
    "start_time": "2021-12-07T13:02:22.684Z"
   },
   {
    "duration": 339,
    "start_time": "2021-12-07T13:02:22.690Z"
   },
   {
    "duration": 12,
    "start_time": "2021-12-07T13:02:23.031Z"
   },
   {
    "duration": 10,
    "start_time": "2021-12-07T13:02:23.044Z"
   },
   {
    "duration": 11,
    "start_time": "2021-12-07T13:02:23.055Z"
   },
   {
    "duration": 13,
    "start_time": "2021-12-07T13:02:23.088Z"
   },
   {
    "duration": 9,
    "start_time": "2021-12-07T13:02:23.103Z"
   },
   {
    "duration": 9,
    "start_time": "2021-12-07T13:02:23.113Z"
   },
   {
    "duration": 23,
    "start_time": "2021-12-07T13:02:23.124Z"
   },
   {
    "duration": 11,
    "start_time": "2021-12-07T13:02:23.149Z"
   },
   {
    "duration": 45,
    "start_time": "2021-12-07T13:02:23.161Z"
   },
   {
    "duration": 10,
    "start_time": "2021-12-07T13:02:23.208Z"
   },
   {
    "duration": 10,
    "start_time": "2021-12-07T13:02:23.220Z"
   },
   {
    "duration": 31,
    "start_time": "2021-12-07T13:02:23.232Z"
   },
   {
    "duration": 2,
    "start_time": "2021-12-07T13:02:23.265Z"
   },
   {
    "duration": 40,
    "start_time": "2021-12-07T13:02:23.269Z"
   },
   {
    "duration": 84,
    "start_time": "2021-12-07T13:02:23.314Z"
   },
   {
    "duration": 93,
    "start_time": "2021-12-07T13:02:23.401Z"
   },
   {
    "duration": 7,
    "start_time": "2021-12-07T13:02:23.498Z"
   },
   {
    "duration": 82,
    "start_time": "2021-12-07T13:02:23.508Z"
   },
   {
    "duration": 5,
    "start_time": "2021-12-07T13:02:23.593Z"
   },
   {
    "duration": 17,
    "start_time": "2021-12-07T13:02:23.689Z"
   },
   {
    "duration": 7,
    "start_time": "2021-12-07T13:02:23.708Z"
   },
   {
    "duration": 7,
    "start_time": "2021-12-07T13:02:23.716Z"
   },
   {
    "duration": 3,
    "start_time": "2021-12-07T13:02:23.725Z"
   },
   {
    "duration": 6,
    "start_time": "2021-12-07T13:02:23.729Z"
   },
   {
    "duration": 2526,
    "start_time": "2021-12-07T13:02:23.737Z"
   },
   {
    "duration": 2460,
    "start_time": "2021-12-07T13:02:26.264Z"
   },
   {
    "duration": 2453,
    "start_time": "2021-12-07T13:02:28.725Z"
   },
   {
    "duration": 3,
    "start_time": "2021-12-07T13:03:26.657Z"
   },
   {
    "duration": 380,
    "start_time": "2021-12-07T13:03:26.662Z"
   },
   {
    "duration": 11,
    "start_time": "2021-12-07T13:03:27.044Z"
   },
   {
    "duration": 8,
    "start_time": "2021-12-07T13:03:27.057Z"
   },
   {
    "duration": 32,
    "start_time": "2021-12-07T13:03:27.066Z"
   },
   {
    "duration": 20,
    "start_time": "2021-12-07T13:03:27.102Z"
   },
   {
    "duration": 12,
    "start_time": "2021-12-07T13:03:27.124Z"
   },
   {
    "duration": 12,
    "start_time": "2021-12-07T13:03:27.139Z"
   },
   {
    "duration": 44,
    "start_time": "2021-12-07T13:03:27.154Z"
   },
   {
    "duration": 11,
    "start_time": "2021-12-07T13:03:27.201Z"
   },
   {
    "duration": 10,
    "start_time": "2021-12-07T13:03:27.214Z"
   },
   {
    "duration": 14,
    "start_time": "2021-12-07T13:03:27.225Z"
   },
   {
    "duration": 10,
    "start_time": "2021-12-07T13:03:27.240Z"
   },
   {
    "duration": 69,
    "start_time": "2021-12-07T13:03:27.252Z"
   },
   {
    "duration": 4,
    "start_time": "2021-12-07T13:03:27.323Z"
   },
   {
    "duration": 63,
    "start_time": "2021-12-07T13:03:27.328Z"
   },
   {
    "duration": 98,
    "start_time": "2021-12-07T13:03:27.395Z"
   },
   {
    "duration": 93,
    "start_time": "2021-12-07T13:03:27.495Z"
   },
   {
    "duration": 5,
    "start_time": "2021-12-07T13:03:27.590Z"
   },
   {
    "duration": 13,
    "start_time": "2021-12-07T13:03:27.597Z"
   },
   {
    "duration": 3,
    "start_time": "2021-12-07T13:03:27.688Z"
   },
   {
    "duration": 12,
    "start_time": "2021-12-07T13:03:27.693Z"
   },
   {
    "duration": 9,
    "start_time": "2021-12-07T13:03:27.710Z"
   },
   {
    "duration": 9,
    "start_time": "2021-12-07T13:03:27.721Z"
   },
   {
    "duration": 4,
    "start_time": "2021-12-07T13:03:27.732Z"
   },
   {
    "duration": 7,
    "start_time": "2021-12-07T13:03:27.737Z"
   },
   {
    "duration": 2792,
    "start_time": "2021-12-07T13:03:27.745Z"
   },
   {
    "duration": 2524,
    "start_time": "2021-12-07T13:03:30.539Z"
   },
   {
    "duration": 2511,
    "start_time": "2021-12-07T13:03:33.065Z"
   },
   {
    "duration": 3,
    "start_time": "2021-12-07T13:03:36.478Z"
   },
   {
    "duration": 396,
    "start_time": "2021-12-07T13:03:36.482Z"
   },
   {
    "duration": 20,
    "start_time": "2021-12-07T13:03:36.880Z"
   },
   {
    "duration": 13,
    "start_time": "2021-12-07T13:03:36.903Z"
   },
   {
    "duration": 13,
    "start_time": "2021-12-07T13:03:36.918Z"
   },
   {
    "duration": 17,
    "start_time": "2021-12-07T13:03:36.933Z"
   },
   {
    "duration": 8,
    "start_time": "2021-12-07T13:03:36.952Z"
   },
   {
    "duration": 35,
    "start_time": "2021-12-07T13:03:36.962Z"
   },
   {
    "duration": 15,
    "start_time": "2021-12-07T13:03:37.001Z"
   },
   {
    "duration": 11,
    "start_time": "2021-12-07T13:03:37.018Z"
   },
   {
    "duration": 16,
    "start_time": "2021-12-07T13:03:37.031Z"
   },
   {
    "duration": 10,
    "start_time": "2021-12-07T13:03:37.048Z"
   },
   {
    "duration": 33,
    "start_time": "2021-12-07T13:03:37.060Z"
   },
   {
    "duration": 40,
    "start_time": "2021-12-07T13:03:37.095Z"
   },
   {
    "duration": 3,
    "start_time": "2021-12-07T13:03:37.137Z"
   },
   {
    "duration": 52,
    "start_time": "2021-12-07T13:03:37.142Z"
   },
   {
    "duration": 106,
    "start_time": "2021-12-07T13:03:37.196Z"
   },
   {
    "duration": 86,
    "start_time": "2021-12-07T13:03:37.305Z"
   },
   {
    "duration": 5,
    "start_time": "2021-12-07T13:03:37.393Z"
   },
   {
    "duration": 8,
    "start_time": "2021-12-07T13:03:37.400Z"
   },
   {
    "duration": 4,
    "start_time": "2021-12-07T13:03:37.487Z"
   },
   {
    "duration": 13,
    "start_time": "2021-12-07T13:03:37.493Z"
   },
   {
    "duration": 80,
    "start_time": "2021-12-07T13:03:37.510Z"
   },
   {
    "duration": 18,
    "start_time": "2021-12-07T13:03:37.593Z"
   },
   {
    "duration": 3,
    "start_time": "2021-12-07T13:03:37.612Z"
   },
   {
    "duration": 7,
    "start_time": "2021-12-07T13:03:37.616Z"
   },
   {
    "duration": 2602,
    "start_time": "2021-12-07T13:03:37.624Z"
   },
   {
    "duration": 2572,
    "start_time": "2021-12-07T13:03:40.227Z"
   },
   {
    "duration": 2476,
    "start_time": "2021-12-07T13:03:42.801Z"
   },
   {
    "duration": 1910,
    "start_time": "2021-12-07T20:38:05.275Z"
   },
   {
    "duration": 477,
    "start_time": "2021-12-07T20:38:07.189Z"
   },
   {
    "duration": 28,
    "start_time": "2021-12-07T20:38:07.668Z"
   },
   {
    "duration": 14,
    "start_time": "2021-12-07T20:38:07.699Z"
   },
   {
    "duration": 44,
    "start_time": "2021-12-07T20:38:07.716Z"
   },
   {
    "duration": 20,
    "start_time": "2021-12-07T20:38:07.762Z"
   },
   {
    "duration": 15,
    "start_time": "2021-12-07T20:38:07.784Z"
   },
   {
    "duration": 20,
    "start_time": "2021-12-07T20:38:07.804Z"
   },
   {
    "duration": 24,
    "start_time": "2021-12-07T20:38:07.861Z"
   },
   {
    "duration": 16,
    "start_time": "2021-12-07T20:38:07.888Z"
   },
   {
    "duration": 52,
    "start_time": "2021-12-07T20:38:07.907Z"
   },
   {
    "duration": 22,
    "start_time": "2021-12-07T20:38:07.962Z"
   },
   {
    "duration": 20,
    "start_time": "2021-12-07T20:38:07.988Z"
   },
   {
    "duration": 72,
    "start_time": "2021-12-07T20:38:08.010Z"
   },
   {
    "duration": 6,
    "start_time": "2021-12-07T20:38:08.084Z"
   },
   {
    "duration": 68,
    "start_time": "2021-12-07T20:38:08.093Z"
   },
   {
    "duration": 109,
    "start_time": "2021-12-07T20:38:08.164Z"
   },
   {
    "duration": 190,
    "start_time": "2021-12-07T20:38:08.277Z"
   },
   {
    "duration": 91,
    "start_time": "2021-12-07T20:38:08.471Z"
   },
   {
    "duration": 103,
    "start_time": "2021-12-07T20:38:08.565Z"
   },
   {
    "duration": 6,
    "start_time": "2021-12-07T20:38:08.670Z"
   },
   {
    "duration": 47,
    "start_time": "2021-12-07T20:38:08.678Z"
   },
   {
    "duration": 12,
    "start_time": "2021-12-07T20:38:08.729Z"
   },
   {
    "duration": 11,
    "start_time": "2021-12-07T20:38:08.743Z"
   },
   {
    "duration": 6,
    "start_time": "2021-12-07T20:38:08.760Z"
   },
   {
    "duration": 9,
    "start_time": "2021-12-07T20:38:08.769Z"
   },
   {
    "duration": 1535,
    "start_time": "2021-12-07T20:38:08.781Z"
   },
   {
    "duration": 283,
    "start_time": "2021-12-07T20:38:10.036Z"
   },
   {
    "duration": 283,
    "start_time": "2021-12-07T20:38:10.038Z"
   },
   {
    "duration": 6,
    "start_time": "2021-12-07T20:40:49.806Z"
   },
   {
    "duration": 5,
    "start_time": "2021-12-07T20:40:51.943Z"
   },
   {
    "duration": 474,
    "start_time": "2021-12-07T20:40:51.951Z"
   },
   {
    "duration": 32,
    "start_time": "2021-12-07T20:40:52.428Z"
   },
   {
    "duration": 16,
    "start_time": "2021-12-07T20:40:52.464Z"
   },
   {
    "duration": 16,
    "start_time": "2021-12-07T20:40:52.483Z"
   },
   {
    "duration": 21,
    "start_time": "2021-12-07T20:40:52.503Z"
   },
   {
    "duration": 44,
    "start_time": "2021-12-07T20:40:52.527Z"
   },
   {
    "duration": 14,
    "start_time": "2021-12-07T20:40:52.575Z"
   },
   {
    "duration": 18,
    "start_time": "2021-12-07T20:40:52.592Z"
   },
   {
    "duration": 51,
    "start_time": "2021-12-07T20:40:52.612Z"
   },
   {
    "duration": 14,
    "start_time": "2021-12-07T20:40:52.666Z"
   },
   {
    "duration": 22,
    "start_time": "2021-12-07T20:40:52.683Z"
   },
   {
    "duration": 12,
    "start_time": "2021-12-07T20:40:52.707Z"
   },
   {
    "duration": 77,
    "start_time": "2021-12-07T20:40:52.721Z"
   },
   {
    "duration": 5,
    "start_time": "2021-12-07T20:40:52.800Z"
   },
   {
    "duration": 58,
    "start_time": "2021-12-07T20:40:52.807Z"
   },
   {
    "duration": 104,
    "start_time": "2021-12-07T20:40:52.869Z"
   },
   {
    "duration": 88,
    "start_time": "2021-12-07T20:40:52.976Z"
   },
   {
    "duration": 193,
    "start_time": "2021-12-07T20:40:53.067Z"
   },
   {
    "duration": 5,
    "start_time": "2021-12-07T20:40:53.263Z"
   },
   {
    "duration": 8,
    "start_time": "2021-12-07T20:40:53.270Z"
   },
   {
    "duration": 13,
    "start_time": "2021-12-07T20:40:53.281Z"
   },
   {
    "duration": 12,
    "start_time": "2021-12-07T20:40:53.300Z"
   },
   {
    "duration": 55,
    "start_time": "2021-12-07T20:40:53.315Z"
   },
   {
    "duration": 5,
    "start_time": "2021-12-07T20:40:53.373Z"
   },
   {
    "duration": 10,
    "start_time": "2021-12-07T20:40:53.381Z"
   },
   {
    "duration": 3582,
    "start_time": "2021-12-07T20:40:53.393Z"
   },
   {
    "duration": 3430,
    "start_time": "2021-12-07T20:40:56.977Z"
   },
   {
    "duration": 3305,
    "start_time": "2021-12-07T20:41:00.409Z"
   },
   {
    "duration": 7,
    "start_time": "2021-12-07T20:44:34.711Z"
   }
  ],
  "kernelspec": {
   "display_name": "Python 3 (ipykernel)",
   "language": "python",
   "name": "python3"
  },
  "language_info": {
   "codemirror_mode": {
    "name": "ipython",
    "version": 3
   },
   "file_extension": ".py",
   "mimetype": "text/x-python",
   "name": "python",
   "nbconvert_exporter": "python",
   "pygments_lexer": "ipython3",
   "version": "3.9.7"
  },
  "toc": {
   "base_numbering": 1,
   "nav_menu": {},
   "number_sections": true,
   "sideBar": true,
   "skip_h1_title": true,
   "title_cell": "Table of Contents",
   "title_sidebar": "Contents",
   "toc_cell": false,
   "toc_position": {},
   "toc_section_display": true,
   "toc_window_display": false
  }
 },
 "nbformat": 4,
 "nbformat_minor": 2
}
