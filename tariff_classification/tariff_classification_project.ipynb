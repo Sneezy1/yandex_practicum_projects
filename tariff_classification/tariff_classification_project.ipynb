{
 "cells": [
  {
   "cell_type": "markdown",
   "metadata": {},
   "source": [
    "## Загрузка данных"
   ]
  },
  {
   "cell_type": "code",
   "execution_count": 146,
   "metadata": {},
   "outputs": [],
   "source": [
    "import pandas as pd\n",
    "import numpy as np\n",
    "from sklearn.metrics import mean_squared_error\n",
    "from sklearn.model_selection import train_test_split\n",
    "\n",
    "from sklearn.linear_model import LogisticRegression\n",
    "from sklearn.tree import DecisionTreeClassifier\n",
    "from sklearn.ensemble import RandomForestClassifier\n",
    "\n",
    "from sklearn.metrics import accuracy_score\n",
    "\n",
    "import warnings\n",
    "warnings.simplefilter(action='ignore', category=FutureWarning)"
   ]
  },
  {
   "cell_type": "code",
   "execution_count": 147,
   "metadata": {},
   "outputs": [],
   "source": [
    "df = pd.read_csv('/datasets/users_behavior.csv')"
   ]
  },
  {
   "cell_type": "markdown",
   "metadata": {},
   "source": [
    "Посмотрим на данные в датасете"
   ]
  },
  {
   "cell_type": "code",
   "execution_count": 148,
   "metadata": {},
   "outputs": [
    {
     "data": {
      "text/html": [
       "<div>\n",
       "<style scoped>\n",
       "    .dataframe tbody tr th:only-of-type {\n",
       "        vertical-align: middle;\n",
       "    }\n",
       "\n",
       "    .dataframe tbody tr th {\n",
       "        vertical-align: top;\n",
       "    }\n",
       "\n",
       "    .dataframe thead th {\n",
       "        text-align: right;\n",
       "    }\n",
       "</style>\n",
       "<table border=\"1\" class=\"dataframe\">\n",
       "  <thead>\n",
       "    <tr style=\"text-align: right;\">\n",
       "      <th></th>\n",
       "      <th>calls</th>\n",
       "      <th>minutes</th>\n",
       "      <th>messages</th>\n",
       "      <th>mb_used</th>\n",
       "      <th>is_ultra</th>\n",
       "    </tr>\n",
       "  </thead>\n",
       "  <tbody>\n",
       "    <tr>\n",
       "      <td>2252</td>\n",
       "      <td>133.0</td>\n",
       "      <td>949.36</td>\n",
       "      <td>0.0</td>\n",
       "      <td>19036.43</td>\n",
       "      <td>1</td>\n",
       "    </tr>\n",
       "    <tr>\n",
       "      <td>1145</td>\n",
       "      <td>43.0</td>\n",
       "      <td>223.90</td>\n",
       "      <td>12.0</td>\n",
       "      <td>23090.88</td>\n",
       "      <td>0</td>\n",
       "    </tr>\n",
       "    <tr>\n",
       "      <td>821</td>\n",
       "      <td>56.0</td>\n",
       "      <td>392.72</td>\n",
       "      <td>0.0</td>\n",
       "      <td>6810.52</td>\n",
       "      <td>0</td>\n",
       "    </tr>\n",
       "    <tr>\n",
       "      <td>595</td>\n",
       "      <td>107.0</td>\n",
       "      <td>692.17</td>\n",
       "      <td>0.0</td>\n",
       "      <td>15423.29</td>\n",
       "      <td>0</td>\n",
       "    </tr>\n",
       "    <tr>\n",
       "      <td>245</td>\n",
       "      <td>65.0</td>\n",
       "      <td>471.52</td>\n",
       "      <td>7.0</td>\n",
       "      <td>15415.81</td>\n",
       "      <td>0</td>\n",
       "    </tr>\n",
       "  </tbody>\n",
       "</table>\n",
       "</div>"
      ],
      "text/plain": [
       "      calls  minutes  messages   mb_used  is_ultra\n",
       "2252  133.0   949.36       0.0  19036.43         1\n",
       "1145   43.0   223.90      12.0  23090.88         0\n",
       "821    56.0   392.72       0.0   6810.52         0\n",
       "595   107.0   692.17       0.0  15423.29         0\n",
       "245    65.0   471.52       7.0  15415.81         0"
      ]
     },
     "execution_count": 148,
     "metadata": {},
     "output_type": "execute_result"
    }
   ],
   "source": [
    "df.sample(5)"
   ]
  },
  {
   "cell_type": "code",
   "execution_count": 149,
   "metadata": {},
   "outputs": [
    {
     "data": {
      "text/plain": [
       "calls       0.00%\n",
       "minutes     0.00%\n",
       "messages    0.00%\n",
       "mb_used     0.00%\n",
       "is_ultra    0.00%\n",
       "dtype: object"
      ]
     },
     "execution_count": 149,
     "metadata": {},
     "output_type": "execute_result"
    }
   ],
   "source": [
    "df.isna().mean().apply('{:.2%}'.format)"
   ]
  },
  {
   "cell_type": "markdown",
   "metadata": {},
   "source": [
    "Пропусков в данных нет, признаков в текстовом виде тоже"
   ]
  },
  {
   "cell_type": "markdown",
   "metadata": {},
   "source": [
    "## Разделение данных на выборки"
   ]
  },
  {
   "cell_type": "markdown",
   "metadata": {},
   "source": [
    "Разделим df на две части - признаки и целевая переменная"
   ]
  },
  {
   "cell_type": "code",
   "execution_count": 150,
   "metadata": {},
   "outputs": [],
   "source": [
    "X = df.drop('is_ultra', axis=1)\n",
    "y = df['is_ultra']"
   ]
  },
  {
   "cell_type": "markdown",
   "metadata": {},
   "source": [
    "Разобьем данные на 3 части - обучающую, тестовую и валидационную выборки"
   ]
  },
  {
   "cell_type": "code",
   "execution_count": 151,
   "metadata": {},
   "outputs": [],
   "source": [
    "X_train, X_other, y_train, y_other = train_test_split(features,target, train_size=0.6)\n",
    "X_valid, X_test, y_valid, y_test = train_test_split(X_other, y_other, test_size=0.5)"
   ]
  },
  {
   "cell_type": "markdown",
   "metadata": {},
   "source": [
    "## Исследование моделей"
   ]
  },
  {
   "cell_type": "markdown",
   "metadata": {},
   "source": [
    "Используем три различных модели:"
   ]
  },
  {
   "cell_type": "code",
   "execution_count": 152,
   "metadata": {},
   "outputs": [
    {
     "name": "stdout",
     "output_type": "stream",
     "text": [
      "Значение метрики accuracy для модели LogisticRegression: \n",
      " 0.7091757387247278\n"
     ]
    }
   ],
   "source": [
    "logistic_clf = LogisticRegression(random_state=42)\n",
    "logistic_clf.fit(X_train, y_train)\n",
    "logistic_predictions = logistic_clf.predict(X_valid)\n",
    "logistic_accuracy = accuracy_score(y_valid, logistic_predictions)\n",
    "print('Значение метрики accuracy для модели LogisticRegression: \\n', logistic_accuracy)"
   ]
  },
  {
   "cell_type": "code",
   "execution_count": 190,
   "metadata": {},
   "outputs": [
    {
     "name": "stdout",
     "output_type": "stream",
     "text": [
      "Значение метрики accuracy для модели RandomForestClassifier:\n",
      " 0.8040435458786936\n",
      "Лучшие параметры для модели RandomForestClassifier:\n",
      " n_estimators: 40 max_depth: 9\n"
     ]
    }
   ],
   "source": [
    "best_random_forest_model = None\n",
    "best_random_forest_result = 0\n",
    "best_rf_est = 0\n",
    "best_rf_depth = 0\n",
    "for est in range(10, 51, 5):\n",
    "    for depth in range (1, 20):\n",
    "        random_forest_model = RandomForestClassifier(random_state=42, n_estimators=est, max_depth=depth)\n",
    "        random_forest_model.fit(X_train, y_train)\n",
    "        random_forest_predictions = random_forest_model.predict(X_valid)\n",
    "        result = accuracy_score(y_valid, random_forest_predictions)\n",
    "        if result > best_random_forest_result:\n",
    "            best_random_forest_model = random_forest_model\n",
    "            best_random_forest_result = result\n",
    "            best_rf_est = est\n",
    "            best_rf_depth = depth\n",
    "print('Значение метрики accuracy для модели RandomForestClassifier:\\n', best_random_forest_result)\n",
    "print('Лучшие параметры для модели RandomForestClassifier:\\n', 'n_estimators:', best_rf_est, 'max_depth:', best_rf_depth)"
   ]
  },
  {
   "cell_type": "code",
   "execution_count": 191,
   "metadata": {},
   "outputs": [
    {
     "name": "stdout",
     "output_type": "stream",
     "text": [
      "Значение метрики accuracy для модели DecisionTreeClassifier:\n",
      " 0.7931570762052877\n",
      "Лучшие параметры для модели DecisionTreeClassifier:\n",
      " max_depth: 8\n"
     ]
    }
   ],
   "source": [
    "best_decision_tree_model = None\n",
    "best_decision_tree_result = 0\n",
    "best_dt_depth = 0\n",
    "for depth in range (1, 20):\n",
    "    decision_tree_model = DecisionTreeClassifier(random_state=42, max_depth=depth)\n",
    "    decision_tree_model.fit(X_train, y_train)\n",
    "    decision_tree_predictions = decision_tree_model.predict(X_valid)\n",
    "    result = accuracy_score(y_valid, decision_tree_predictions)\n",
    "    if result > best_decision_tree_result:\n",
    "        best_decision_tree_model = decision_tree_model\n",
    "        best_decision_tree_result = result\n",
    "        best_dt_depth = depth\n",
    "print('Значение метрики accuracy для модели DecisionTreeClassifier:\\n', best_decision_tree_result)\n",
    "print('Лучшие параметры для модели DecisionTreeClassifier:\\n', 'max_depth:', best_dt_depth)"
   ]
  },
  {
   "cell_type": "markdown",
   "metadata": {},
   "source": [
    "Лучшее значении метрики accuracy у модели RandomForestClassifier. Худшее значение метрики accuracy у модели LogisticRegression, гиперпараметры этой модели мы не меняли."
   ]
  },
  {
   "cell_type": "markdown",
   "metadata": {},
   "source": [
    "## Проверка модели на тестовой выборке"
   ]
  },
  {
   "cell_type": "markdown",
   "metadata": {},
   "source": [
    "Проверим каждую из моделей на тестовой выборке:"
   ]
  },
  {
   "cell_type": "code",
   "execution_count": null,
   "metadata": {},
   "outputs": [],
   "source": [
    "best_random_forest_model.get_params"
   ]
  },
  {
   "cell_type": "code",
   "execution_count": 163,
   "metadata": {},
   "outputs": [
    {
     "name": "stdout",
     "output_type": "stream",
     "text": [
      "Метрика accuracy для модели LogisticRegression на тестовой выборке:\n",
      " 0.7931570762052877\n"
     ]
    }
   ],
   "source": [
    "logistic_test_predictions = logistic_clf.predict(X_valid)\n",
    "logistic_test_accuracy = accuracy_score(y_test, logistic_test_predictions)\n",
    "print('Метрика accuracy для модели LogisticRegression на тестовой выборке:\\n', best_decision_tree_result)"
   ]
  },
  {
   "cell_type": "code",
   "execution_count": 164,
   "metadata": {},
   "outputs": [
    {
     "name": "stdout",
     "output_type": "stream",
     "text": [
      "Метрика accuracy для модели RandomForestClassifier на тестовой выборке:\n",
      " 0.8118195956454122\n"
     ]
    }
   ],
   "source": [
    "random_forest_test_predictions = best_random_forest_model.predict(X_test)\n",
    "random_forest_test_accuracy = accuracy_score(y_test, random_forest_test_predictions)\n",
    "print('Метрика accuracy для модели RandomForestClassifier на тестовой выборке:\\n', random_forest_test_accuracy)"
   ]
  },
  {
   "cell_type": "code",
   "execution_count": 165,
   "metadata": {},
   "outputs": [
    {
     "name": "stdout",
     "output_type": "stream",
     "text": [
      "Метрика accuracy для модели DecisionTreeClassifier на тестовой выборке:\n",
      " 0.776049766718507\n"
     ]
    }
   ],
   "source": [
    "decision_tree_test_predictions = best_decision_tree_model.predict(X_test)\n",
    "decision_tree_test_accuracy = accuracy_score(y_test, decision_tree_test_predictions)\n",
    "print('Метрика accuracy для модели DecisionTreeClassifier на тестовой выборке:\\n', decision_tree_test_accuracy)"
   ]
  },
  {
   "cell_type": "markdown",
   "metadata": {},
   "source": [
    "На тестовой выборке лучше всего показала себя модель RandomForestClassifier.  \n",
    "При этом модель LogisticRegression показала себя лучше, чем DecisionTreeClassifier. В случае с валидационной выборкой ситуация была обратная. "
   ]
  },
  {
   "cell_type": "markdown",
   "metadata": {},
   "source": [
    "## Проверка модели на адекватность"
   ]
  },
  {
   "cell_type": "markdown",
   "metadata": {},
   "source": [
    "Вычислим accuracy для модели, которая предсказывает ответы случайным образом:"
   ]
  },
  {
   "cell_type": "code",
   "execution_count": 186,
   "metadata": {},
   "outputs": [
    {
     "name": "stdout",
     "output_type": "stream",
     "text": [
      "Accuracy для случайной модели: 0.5\n"
     ]
    }
   ],
   "source": [
    "print('Accuracy для случайной модели:', (181 *0.5 + 462 * 0.5) / 643)"
   ]
  },
  {
   "cell_type": "markdown",
   "metadata": {},
   "source": [
    "Использованные ранее модели показали лучшие результаты, чем случайная модель. Можем сделать вывод о адекватности наших моделей."
   ]
  },
  {
   "cell_type": "markdown",
   "metadata": {},
   "source": [
    "Лучшей моделью для решения нашей задачи можем считать модель RandomForestClassifier со следующими параметрами:"
   ]
  },
  {
   "cell_type": "code",
   "execution_count": 199,
   "metadata": {},
   "outputs": [
    {
     "name": "stdout",
     "output_type": "stream",
     "text": [
      "n_estimators: 40 max_depth: 9\n"
     ]
    }
   ],
   "source": [
    "print('n_estimators:', best_rf_est, 'max_depth:', best_rf_depth)"
   ]
  },
  {
   "cell_type": "markdown",
   "metadata": {},
   "source": [
    "Значение accuracy для данной модели на валидационной выборке:"
   ]
  },
  {
   "cell_type": "code",
   "execution_count": 200,
   "metadata": {},
   "outputs": [
    {
     "name": "stdout",
     "output_type": "stream",
     "text": [
      "Accuracy: 0.8118195956454122\n"
     ]
    }
   ],
   "source": [
    "print('Accuracy:', random_forest_test_accuracy)"
   ]
  },
  {
   "cell_type": "markdown",
   "metadata": {},
   "source": [
    "## Выводы"
   ]
  },
  {
   "cell_type": "markdown",
   "metadata": {},
   "source": [
    "Сравнили несколько моделей и выбрали модель с лучшим значением метрики, а также проверили модель на адекватность."
   ]
  },
  {
   "cell_type": "code",
   "execution_count": null,
   "metadata": {},
   "outputs": [],
   "source": []
  }
 ],
 "metadata": {
  "ExecuteTimeLog": [
   {
    "duration": 368,
    "start_time": "2021-11-15T18:35:07.353Z"
   },
   {
    "duration": 1377,
    "start_time": "2021-11-15T18:35:14.791Z"
   },
   {
    "duration": 4,
    "start_time": "2021-11-15T18:35:17.423Z"
   },
   {
    "duration": 4,
    "start_time": "2021-11-15T18:35:18.992Z"
   },
   {
    "duration": 23,
    "start_time": "2021-11-15T18:35:18.998Z"
   },
   {
    "duration": 26,
    "start_time": "2021-11-15T18:35:23.821Z"
   },
   {
    "duration": 125,
    "start_time": "2021-11-16T08:17:57.767Z"
   },
   {
    "duration": 290,
    "start_time": "2021-11-16T08:18:19.987Z"
   },
   {
    "duration": 996,
    "start_time": "2021-11-16T08:18:30.681Z"
   },
   {
    "duration": 420,
    "start_time": "2021-11-16T08:18:33.047Z"
   },
   {
    "duration": 20,
    "start_time": "2021-11-16T08:18:35.486Z"
   },
   {
    "duration": 17,
    "start_time": "2021-11-16T08:18:36.521Z"
   },
   {
    "duration": 5,
    "start_time": "2021-11-16T08:18:42.618Z"
   },
   {
    "duration": 90,
    "start_time": "2021-11-16T08:19:00.650Z"
   },
   {
    "duration": 251,
    "start_time": "2021-11-16T08:19:11.374Z"
   },
   {
    "duration": 7,
    "start_time": "2021-11-16T11:37:18.036Z"
   },
   {
    "duration": 6,
    "start_time": "2021-11-16T11:37:22.689Z"
   },
   {
    "duration": 9,
    "start_time": "2021-11-16T11:37:31.786Z"
   },
   {
    "duration": 14,
    "start_time": "2021-11-16T11:43:06.485Z"
   },
   {
    "duration": 32,
    "start_time": "2021-11-16T11:53:27.865Z"
   },
   {
    "duration": 18,
    "start_time": "2021-11-16T11:53:30.051Z"
   },
   {
    "duration": 8,
    "start_time": "2021-11-16T11:53:30.796Z"
   },
   {
    "duration": 5,
    "start_time": "2021-11-16T11:53:31.444Z"
   },
   {
    "duration": 4,
    "start_time": "2021-11-16T12:36:33.425Z"
   },
   {
    "duration": 11,
    "start_time": "2021-11-16T13:12:31.451Z"
   },
   {
    "duration": 6,
    "start_time": "2021-11-16T13:30:46.400Z"
   },
   {
    "duration": 3,
    "start_time": "2021-11-16T14:37:04.207Z"
   },
   {
    "duration": 99,
    "start_time": "2021-11-16T14:51:32.177Z"
   },
   {
    "duration": 3,
    "start_time": "2021-11-16T14:59:28.433Z"
   },
   {
    "duration": 6,
    "start_time": "2021-11-16T15:00:07.132Z"
   },
   {
    "duration": 403,
    "start_time": "2021-11-16T15:00:49.499Z"
   },
   {
    "duration": 3,
    "start_time": "2021-11-16T15:00:58.298Z"
   },
   {
    "duration": 249,
    "start_time": "2021-11-16T15:01:01.154Z"
   },
   {
    "duration": 12,
    "start_time": "2021-11-16T15:01:24.953Z"
   },
   {
    "duration": 249,
    "start_time": "2021-11-16T15:02:33.819Z"
   },
   {
    "duration": 3,
    "start_time": "2021-11-16T15:02:38.051Z"
   },
   {
    "duration": 3,
    "start_time": "2021-11-16T15:02:44.494Z"
   },
   {
    "duration": 11,
    "start_time": "2021-11-16T15:02:47.533Z"
   },
   {
    "duration": 11,
    "start_time": "2021-11-16T15:02:58.009Z"
   },
   {
    "duration": 91,
    "start_time": "2021-11-16T15:09:55.128Z"
   },
   {
    "duration": 3,
    "start_time": "2021-11-16T15:20:12.256Z"
   },
   {
    "duration": 3,
    "start_time": "2021-11-16T15:20:19.549Z"
   },
   {
    "duration": 11,
    "start_time": "2021-11-16T16:29:17.222Z"
   },
   {
    "duration": 258,
    "start_time": "2021-11-16T16:43:02.560Z"
   },
   {
    "duration": 291,
    "start_time": "2021-11-16T16:43:47.947Z"
   },
   {
    "duration": 269,
    "start_time": "2021-11-16T16:44:23.013Z"
   },
   {
    "duration": 13669,
    "start_time": "2021-11-16T16:44:30.753Z"
   },
   {
    "duration": 4,
    "start_time": "2021-11-16T16:45:02.227Z"
   },
   {
    "duration": 123,
    "start_time": "2021-11-16T16:50:42.514Z"
   },
   {
    "duration": 331,
    "start_time": "2021-11-16T16:50:47.831Z"
   },
   {
    "duration": 298,
    "start_time": "2021-11-16T16:51:09.401Z"
   },
   {
    "duration": 3,
    "start_time": "2021-11-16T16:51:48.320Z"
   },
   {
    "duration": 11232,
    "start_time": "2021-11-16T16:51:51.518Z"
   },
   {
    "duration": 4,
    "start_time": "2021-11-16T16:52:15.480Z"
   },
   {
    "duration": 10998,
    "start_time": "2021-11-16T16:52:54.564Z"
   },
   {
    "duration": 3,
    "start_time": "2021-11-16T16:53:08.918Z"
   },
   {
    "duration": 19784,
    "start_time": "2021-11-16T16:53:23.177Z"
   },
   {
    "duration": 4,
    "start_time": "2021-11-16T16:53:47.289Z"
   },
   {
    "duration": 3,
    "start_time": "2021-11-16T16:55:21.941Z"
   },
   {
    "duration": 21,
    "start_time": "2021-11-16T16:55:21.946Z"
   },
   {
    "duration": 7,
    "start_time": "2021-11-16T16:55:21.969Z"
   },
   {
    "duration": 7,
    "start_time": "2021-11-16T16:55:21.978Z"
   },
   {
    "duration": 4,
    "start_time": "2021-11-16T16:55:21.986Z"
   },
   {
    "duration": 7,
    "start_time": "2021-11-16T16:55:21.992Z"
   },
   {
    "duration": 4,
    "start_time": "2021-11-16T16:55:22.000Z"
   },
   {
    "duration": 12,
    "start_time": "2021-11-16T16:55:22.006Z"
   },
   {
    "duration": 12817,
    "start_time": "2021-11-16T16:55:22.019Z"
   },
   {
    "duration": 123,
    "start_time": "2021-11-16T16:55:34.838Z"
   },
   {
    "duration": 3,
    "start_time": "2021-11-16T16:55:34.963Z"
   },
   {
    "duration": 5,
    "start_time": "2021-11-16T16:55:34.967Z"
   },
   {
    "duration": 5,
    "start_time": "2021-11-16T16:55:34.974Z"
   },
   {
    "duration": 3,
    "start_time": "2021-11-16T17:08:10.787Z"
   },
   {
    "duration": 3,
    "start_time": "2021-11-16T17:08:18.575Z"
   },
   {
    "duration": 2,
    "start_time": "2021-11-16T17:08:29.843Z"
   },
   {
    "duration": 297,
    "start_time": "2021-11-16T17:10:00.010Z"
   },
   {
    "duration": 3,
    "start_time": "2021-11-16T17:10:14.866Z"
   },
   {
    "duration": 284,
    "start_time": "2021-11-16T17:12:06.343Z"
   },
   {
    "duration": 275,
    "start_time": "2021-11-16T17:12:15.883Z"
   },
   {
    "duration": 3,
    "start_time": "2021-11-16T17:16:15.960Z"
   },
   {
    "duration": 3,
    "start_time": "2021-11-16T17:16:17.176Z"
   },
   {
    "duration": 3,
    "start_time": "2021-11-16T17:16:18.666Z"
   },
   {
    "duration": 264,
    "start_time": "2021-11-16T17:16:22.627Z"
   },
   {
    "duration": 3,
    "start_time": "2021-11-16T17:16:46.048Z"
   },
   {
    "duration": 4,
    "start_time": "2021-11-16T17:16:46.715Z"
   },
   {
    "duration": 296,
    "start_time": "2021-11-16T17:16:47.356Z"
   },
   {
    "duration": 3,
    "start_time": "2021-11-16T17:16:59.806Z"
   },
   {
    "duration": 291,
    "start_time": "2021-11-16T17:17:00.411Z"
   },
   {
    "duration": 3,
    "start_time": "2021-11-16T17:17:30.575Z"
   },
   {
    "duration": 3,
    "start_time": "2021-11-16T17:17:30.871Z"
   },
   {
    "duration": 3,
    "start_time": "2021-11-16T17:17:31.143Z"
   },
   {
    "duration": 281,
    "start_time": "2021-11-16T17:17:31.513Z"
   },
   {
    "duration": 4,
    "start_time": "2021-11-16T17:20:35.368Z"
   },
   {
    "duration": 5,
    "start_time": "2021-11-16T17:22:50.258Z"
   },
   {
    "duration": 2,
    "start_time": "2021-11-16T17:28:05.830Z"
   },
   {
    "duration": 3,
    "start_time": "2021-11-16T17:28:06.382Z"
   },
   {
    "duration": 281,
    "start_time": "2021-11-16T17:28:06.930Z"
   },
   {
    "duration": 267,
    "start_time": "2021-11-16T17:28:18.110Z"
   },
   {
    "duration": 3,
    "start_time": "2021-11-16T17:33:26.576Z"
   },
   {
    "duration": 484,
    "start_time": "2021-11-16T17:33:26.848Z"
   },
   {
    "duration": 264,
    "start_time": "2021-11-16T17:34:56.847Z"
   },
   {
    "duration": 88,
    "start_time": "2021-11-16T17:35:49.726Z"
   },
   {
    "duration": 3,
    "start_time": "2021-11-16T17:35:55.848Z"
   },
   {
    "duration": 270,
    "start_time": "2021-11-16T17:40:57.016Z"
   },
   {
    "duration": 315,
    "start_time": "2021-11-16T17:41:59.632Z"
   },
   {
    "duration": 263,
    "start_time": "2021-11-16T17:42:38.100Z"
   },
   {
    "duration": 13,
    "start_time": "2021-11-16T17:43:11.975Z"
   },
   {
    "duration": 4,
    "start_time": "2021-11-16T17:43:15.760Z"
   },
   {
    "duration": 20,
    "start_time": "2021-11-16T17:43:15.766Z"
   },
   {
    "duration": 10,
    "start_time": "2021-11-16T17:43:15.788Z"
   },
   {
    "duration": 6,
    "start_time": "2021-11-16T17:43:15.800Z"
   },
   {
    "duration": 5,
    "start_time": "2021-11-16T17:43:15.807Z"
   },
   {
    "duration": 8,
    "start_time": "2021-11-16T17:43:15.813Z"
   },
   {
    "duration": 4,
    "start_time": "2021-11-16T17:43:15.822Z"
   },
   {
    "duration": 12,
    "start_time": "2021-11-16T17:43:15.828Z"
   },
   {
    "duration": 13214,
    "start_time": "2021-11-16T17:43:15.842Z"
   },
   {
    "duration": 123,
    "start_time": "2021-11-16T17:43:29.058Z"
   },
   {
    "duration": 6,
    "start_time": "2021-11-16T17:43:29.183Z"
   },
   {
    "duration": 5,
    "start_time": "2021-11-16T17:43:29.191Z"
   },
   {
    "duration": 263,
    "start_time": "2021-11-16T17:43:29.197Z"
   },
   {
    "duration": 258,
    "start_time": "2021-11-16T17:43:46.954Z"
   },
   {
    "duration": 88,
    "start_time": "2021-11-16T17:45:45.727Z"
   },
   {
    "duration": 326,
    "start_time": "2021-11-16T17:46:01.725Z"
   },
   {
    "duration": 222364,
    "start_time": "2021-11-16T17:46:34.496Z"
   },
   {
    "duration": -312,
    "start_time": "2021-11-16T17:52:11.372Z"
   },
   {
    "duration": 22624,
    "start_time": "2021-11-16T17:52:12.039Z"
   },
   {
    "duration": 2,
    "start_time": "2021-11-16T17:52:59.059Z"
   },
   {
    "duration": 3,
    "start_time": "2021-11-16T17:53:05.024Z"
   },
   {
    "duration": 17,
    "start_time": "2021-11-16T17:53:07.810Z"
   },
   {
    "duration": 8,
    "start_time": "2021-11-16T17:53:08.347Z"
   },
   {
    "duration": 6,
    "start_time": "2021-11-16T17:53:08.639Z"
   },
   {
    "duration": 4,
    "start_time": "2021-11-16T17:53:11.067Z"
   },
   {
    "duration": 7,
    "start_time": "2021-11-16T17:53:15.911Z"
   },
   {
    "duration": 3,
    "start_time": "2021-11-16T17:53:19.737Z"
   },
   {
    "duration": 15,
    "start_time": "2021-11-16T17:54:07.806Z"
   },
   {
    "duration": 6,
    "start_time": "2021-11-16T17:54:52.997Z"
   },
   {
    "duration": 11,
    "start_time": "2021-11-16T17:54:56.031Z"
   },
   {
    "duration": 16064,
    "start_time": "2021-11-16T17:55:31.884Z"
   },
   {
    "duration": 163,
    "start_time": "2021-11-16T17:56:02.485Z"
   },
   {
    "duration": 89,
    "start_time": "2021-11-16T17:56:32.110Z"
   },
   {
    "duration": 10,
    "start_time": "2021-11-16T17:58:37.645Z"
   },
   {
    "duration": 130,
    "start_time": "2021-11-16T17:58:51.164Z"
   },
   {
    "duration": 5,
    "start_time": "2021-11-16T17:58:53.073Z"
   },
   {
    "duration": 5,
    "start_time": "2021-11-16T17:59:10.026Z"
   },
   {
    "duration": 5,
    "start_time": "2021-11-16T17:59:24.877Z"
   },
   {
    "duration": 5,
    "start_time": "2021-11-16T17:59:28.126Z"
   },
   {
    "duration": 5,
    "start_time": "2021-11-16T17:59:35.464Z"
   },
   {
    "duration": 5,
    "start_time": "2021-11-16T18:01:57.393Z"
   },
   {
    "duration": 5,
    "start_time": "2021-11-16T18:02:27.579Z"
   },
   {
    "duration": 253,
    "start_time": "2021-11-16T18:02:29.085Z"
   },
   {
    "duration": 13253,
    "start_time": "2021-11-16T18:02:38.447Z"
   },
   {
    "duration": 270,
    "start_time": "2021-11-16T18:02:55.834Z"
   },
   {
    "duration": 3,
    "start_time": "2021-11-16T18:03:33.016Z"
   },
   {
    "duration": 19,
    "start_time": "2021-11-16T18:03:33.021Z"
   },
   {
    "duration": 11,
    "start_time": "2021-11-16T18:03:33.042Z"
   },
   {
    "duration": 13,
    "start_time": "2021-11-16T18:03:33.055Z"
   },
   {
    "duration": 13,
    "start_time": "2021-11-16T18:03:33.069Z"
   },
   {
    "duration": 9,
    "start_time": "2021-11-16T18:03:33.083Z"
   },
   {
    "duration": 9,
    "start_time": "2021-11-16T18:03:33.093Z"
   },
   {
    "duration": 13295,
    "start_time": "2021-11-16T18:03:33.103Z"
   },
   {
    "duration": 130,
    "start_time": "2021-11-16T18:03:46.400Z"
   },
   {
    "duration": 5,
    "start_time": "2021-11-16T18:03:46.532Z"
   },
   {
    "duration": 288,
    "start_time": "2021-11-16T18:03:46.538Z"
   },
   {
    "duration": -271,
    "start_time": "2021-11-16T18:03:47.099Z"
   },
   {
    "duration": 273,
    "start_time": "2021-11-16T18:03:57.870Z"
   },
   {
    "duration": 278,
    "start_time": "2021-11-16T18:04:32.374Z"
   },
   {
    "duration": 274,
    "start_time": "2021-11-16T18:04:33.751Z"
   },
   {
    "duration": 3,
    "start_time": "2021-11-16T18:05:02.475Z"
   },
   {
    "duration": 13553,
    "start_time": "2021-11-16T18:16:25.324Z"
   },
   {
    "duration": 172,
    "start_time": "2021-11-16T18:16:41.182Z"
   },
   {
    "duration": 6,
    "start_time": "2021-11-16T18:17:06.908Z"
   },
   {
    "duration": 14,
    "start_time": "2021-11-16T18:17:08.052Z"
   },
   {
    "duration": 5,
    "start_time": "2021-11-16T18:17:09.926Z"
   },
   {
    "duration": 261,
    "start_time": "2021-11-16T18:33:48.865Z"
   },
   {
    "duration": 6,
    "start_time": "2021-11-16T18:34:03.116Z"
   },
   {
    "duration": 261,
    "start_time": "2021-11-16T18:36:00.916Z"
   },
   {
    "duration": 5,
    "start_time": "2021-11-16T18:36:10.728Z"
   },
   {
    "duration": 384,
    "start_time": "2021-11-16T18:36:47.147Z"
   },
   {
    "duration": 7,
    "start_time": "2021-11-16T18:36:53.539Z"
   },
   {
    "duration": 3,
    "start_time": "2021-11-16T18:38:44.289Z"
   },
   {
    "duration": 4,
    "start_time": "2021-11-16T18:39:56.437Z"
   },
   {
    "duration": 81,
    "start_time": "2021-11-16T18:41:24.281Z"
   },
   {
    "duration": 4,
    "start_time": "2021-11-16T18:42:47.432Z"
   },
   {
    "duration": 2,
    "start_time": "2021-11-16T18:43:36.386Z"
   },
   {
    "duration": 4,
    "start_time": "2021-11-16T18:43:40.252Z"
   },
   {
    "duration": 3,
    "start_time": "2021-11-16T18:43:40.738Z"
   },
   {
    "duration": 3,
    "start_time": "2021-11-16T18:44:04.730Z"
   },
   {
    "duration": 4,
    "start_time": "2021-11-16T18:44:05.127Z"
   },
   {
    "duration": 3,
    "start_time": "2021-11-16T18:47:04.281Z"
   },
   {
    "duration": 5,
    "start_time": "2021-11-16T18:47:21.204Z"
   },
   {
    "duration": 3,
    "start_time": "2021-11-16T18:48:55.776Z"
   },
   {
    "duration": 4,
    "start_time": "2021-11-16T18:49:00.248Z"
   },
   {
    "duration": 5,
    "start_time": "2021-11-16T18:51:10.435Z"
   },
   {
    "duration": 4,
    "start_time": "2021-11-16T18:55:47.597Z"
   },
   {
    "duration": 80,
    "start_time": "2021-11-16T18:57:46.900Z"
   },
   {
    "duration": 91,
    "start_time": "2021-11-16T19:00:35.977Z"
   },
   {
    "duration": 14771,
    "start_time": "2021-11-16T19:01:41.175Z"
   },
   {
    "duration": 14376,
    "start_time": "2021-11-16T19:02:38.132Z"
   },
   {
    "duration": 119,
    "start_time": "2021-11-16T19:03:01.909Z"
   },
   {
    "duration": 155,
    "start_time": "2021-11-16T19:04:26.894Z"
   },
   {
    "duration": 4,
    "start_time": "2021-11-16T19:04:38.899Z"
   },
   {
    "duration": 3,
    "start_time": "2021-11-16T19:04:53.907Z"
   },
   {
    "duration": 93,
    "start_time": "2021-11-16T19:06:06.859Z"
   },
   {
    "duration": 3,
    "start_time": "2021-11-16T19:06:37.738Z"
   },
   {
    "duration": 3,
    "start_time": "2021-11-16T19:06:48.391Z"
   },
   {
    "duration": 4,
    "start_time": "2021-11-16T19:06:53.108Z"
   },
   {
    "duration": 3,
    "start_time": "2021-11-16T19:08:33.554Z"
   },
   {
    "duration": 4,
    "start_time": "2021-11-16T19:08:35.793Z"
   }
  ],
  "kernelspec": {
   "display_name": "Python 3 (ipykernel)",
   "language": "python",
   "name": "python3"
  },
  "language_info": {
   "codemirror_mode": {
    "name": "ipython",
    "version": 3
   },
   "file_extension": ".py",
   "mimetype": "text/x-python",
   "name": "python",
   "nbconvert_exporter": "python",
   "pygments_lexer": "ipython3",
   "version": "3.9.7"
  },
  "toc": {
   "base_numbering": 1,
   "nav_menu": {},
   "number_sections": true,
   "sideBar": true,
   "skip_h1_title": true,
   "title_cell": "Table of Contents",
   "title_sidebar": "Contents",
   "toc_cell": false,
   "toc_position": {},
   "toc_section_display": true,
   "toc_window_display": false
  }
 },
 "nbformat": 4,
 "nbformat_minor": 2
}
