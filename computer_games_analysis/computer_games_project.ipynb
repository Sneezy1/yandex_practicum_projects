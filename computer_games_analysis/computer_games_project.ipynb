{
 "cells": [
  {
   "cell_type": "markdown",
   "metadata": {},
   "source": [
    "## 1. Загрузка данных"
   ]
  },
  {
   "cell_type": "code",
   "execution_count": 1,
   "metadata": {},
   "outputs": [],
   "source": [
    "import pandas as pd\n",
    "import seaborn as sns\n",
    "import matplotlib.pyplot as plt\n",
    "import numpy as np\n",
    "import scipy.stats as st\n",
    "import re\n",
    "\n",
    "sns.set(rc={'figure.figsize':(15, 10)})\n",
    "pd.set_option('chained_assignment', None)"
   ]
  },
  {
   "cell_type": "markdown",
   "metadata": {},
   "source": [
    "Загрузим датасет в переменную df и сохраним копию в переменную raw_df"
   ]
  },
  {
   "cell_type": "code",
   "execution_count": 2,
   "metadata": {},
   "outputs": [],
   "source": [
    "df = pd.read_csv('/datasets/games.csv')\n",
    "df_raw = df.copy()"
   ]
  },
  {
   "cell_type": "code",
   "execution_count": 3,
   "metadata": {},
   "outputs": [
    {
     "data": {
      "text/html": [
       "<div>\n",
       "<style scoped>\n",
       "    .dataframe tbody tr th:only-of-type {\n",
       "        vertical-align: middle;\n",
       "    }\n",
       "\n",
       "    .dataframe tbody tr th {\n",
       "        vertical-align: top;\n",
       "    }\n",
       "\n",
       "    .dataframe thead th {\n",
       "        text-align: right;\n",
       "    }\n",
       "</style>\n",
       "<table border=\"1\" class=\"dataframe\">\n",
       "  <thead>\n",
       "    <tr style=\"text-align: right;\">\n",
       "      <th></th>\n",
       "      <th>Name</th>\n",
       "      <th>Platform</th>\n",
       "      <th>Year_of_Release</th>\n",
       "      <th>Genre</th>\n",
       "      <th>NA_sales</th>\n",
       "      <th>EU_sales</th>\n",
       "      <th>JP_sales</th>\n",
       "      <th>Other_sales</th>\n",
       "      <th>Critic_Score</th>\n",
       "      <th>User_Score</th>\n",
       "      <th>Rating</th>\n",
       "    </tr>\n",
       "  </thead>\n",
       "  <tbody>\n",
       "    <tr>\n",
       "      <td>8837</td>\n",
       "      <td>Adventure Time: Explore the Dungeon Because I ...</td>\n",
       "      <td>3DS</td>\n",
       "      <td>2013.0</td>\n",
       "      <td>Action</td>\n",
       "      <td>0.10</td>\n",
       "      <td>0.03</td>\n",
       "      <td>0.00</td>\n",
       "      <td>0.01</td>\n",
       "      <td>NaN</td>\n",
       "      <td>NaN</td>\n",
       "      <td>NaN</td>\n",
       "    </tr>\n",
       "    <tr>\n",
       "      <td>12492</td>\n",
       "      <td>Kurupoto Cool Cool Stars</td>\n",
       "      <td>DS</td>\n",
       "      <td>2007.0</td>\n",
       "      <td>Action</td>\n",
       "      <td>0.06</td>\n",
       "      <td>0.00</td>\n",
       "      <td>0.00</td>\n",
       "      <td>0.00</td>\n",
       "      <td>NaN</td>\n",
       "      <td>tbd</td>\n",
       "      <td>E</td>\n",
       "    </tr>\n",
       "    <tr>\n",
       "      <td>5243</td>\n",
       "      <td>Formula 1 Championship Edition</td>\n",
       "      <td>PS</td>\n",
       "      <td>1997.0</td>\n",
       "      <td>Racing</td>\n",
       "      <td>0.06</td>\n",
       "      <td>0.04</td>\n",
       "      <td>0.23</td>\n",
       "      <td>0.02</td>\n",
       "      <td>NaN</td>\n",
       "      <td>NaN</td>\n",
       "      <td>NaN</td>\n",
       "    </tr>\n",
       "    <tr>\n",
       "      <td>11682</td>\n",
       "      <td>Winter Stars</td>\n",
       "      <td>PS3</td>\n",
       "      <td>2011.0</td>\n",
       "      <td>Sports</td>\n",
       "      <td>0.01</td>\n",
       "      <td>0.05</td>\n",
       "      <td>0.00</td>\n",
       "      <td>0.01</td>\n",
       "      <td>53.0</td>\n",
       "      <td>tbd</td>\n",
       "      <td>E</td>\n",
       "    </tr>\n",
       "    <tr>\n",
       "      <td>10578</td>\n",
       "      <td>The Whispered World</td>\n",
       "      <td>PC</td>\n",
       "      <td>2009.0</td>\n",
       "      <td>Adventure</td>\n",
       "      <td>0.00</td>\n",
       "      <td>0.08</td>\n",
       "      <td>0.00</td>\n",
       "      <td>0.02</td>\n",
       "      <td>70.0</td>\n",
       "      <td>7.6</td>\n",
       "      <td>E</td>\n",
       "    </tr>\n",
       "  </tbody>\n",
       "</table>\n",
       "</div>"
      ],
      "text/plain": [
       "                                                    Name Platform  \\\n",
       "8837   Adventure Time: Explore the Dungeon Because I ...      3DS   \n",
       "12492                           Kurupoto Cool Cool Stars       DS   \n",
       "5243                      Formula 1 Championship Edition       PS   \n",
       "11682                                       Winter Stars      PS3   \n",
       "10578                                The Whispered World       PC   \n",
       "\n",
       "       Year_of_Release      Genre  NA_sales  EU_sales  JP_sales  Other_sales  \\\n",
       "8837            2013.0     Action      0.10      0.03      0.00         0.01   \n",
       "12492           2007.0     Action      0.06      0.00      0.00         0.00   \n",
       "5243            1997.0     Racing      0.06      0.04      0.23         0.02   \n",
       "11682           2011.0     Sports      0.01      0.05      0.00         0.01   \n",
       "10578           2009.0  Adventure      0.00      0.08      0.00         0.02   \n",
       "\n",
       "       Critic_Score User_Score Rating  \n",
       "8837            NaN        NaN    NaN  \n",
       "12492           NaN        tbd      E  \n",
       "5243            NaN        NaN    NaN  \n",
       "11682          53.0        tbd      E  \n",
       "10578          70.0        7.6      E  "
      ]
     },
     "execution_count": 3,
     "metadata": {},
     "output_type": "execute_result"
    }
   ],
   "source": [
    "df.sample(5)"
   ]
  },
  {
   "cell_type": "markdown",
   "metadata": {},
   "source": [
    "Посмотрим, какая доля пропущенных значений"
   ]
  },
  {
   "cell_type": "code",
   "execution_count": 4,
   "metadata": {},
   "outputs": [
    {
     "data": {
      "text/plain": [
       "Name                0.01%\n",
       "Platform            0.00%\n",
       "Year_of_Release     1.61%\n",
       "Genre               0.01%\n",
       "NA_sales            0.00%\n",
       "EU_sales            0.00%\n",
       "JP_sales            0.00%\n",
       "Other_sales         0.00%\n",
       "Critic_Score       51.32%\n",
       "User_Score         40.09%\n",
       "Rating             40.48%\n",
       "dtype: object"
      ]
     },
     "execution_count": 4,
     "metadata": {},
     "output_type": "execute_result"
    }
   ],
   "source": [
    "df.isna().mean().apply('{:.2%}'.format)"
   ]
  },
  {
   "cell_type": "markdown",
   "metadata": {},
   "source": [
    "Посмотрим на названия колонок"
   ]
  },
  {
   "cell_type": "code",
   "execution_count": 5,
   "metadata": {},
   "outputs": [
    {
     "data": {
      "text/plain": [
       "Index(['Name', 'Platform', 'Year_of_Release', 'Genre', 'NA_sales', 'EU_sales',\n",
       "       'JP_sales', 'Other_sales', 'Critic_Score', 'User_Score', 'Rating'],\n",
       "      dtype='object')"
      ]
     },
     "execution_count": 5,
     "metadata": {},
     "output_type": "execute_result"
    }
   ],
   "source": [
    "df.columns"
   ]
  },
  {
   "cell_type": "markdown",
   "metadata": {},
   "source": [
    "Проверим используемые типы данных"
   ]
  },
  {
   "cell_type": "code",
   "execution_count": 6,
   "metadata": {},
   "outputs": [
    {
     "data": {
      "text/plain": [
       "Name                object\n",
       "Platform            object\n",
       "Year_of_Release    float64\n",
       "Genre               object\n",
       "NA_sales           float64\n",
       "EU_sales           float64\n",
       "JP_sales           float64\n",
       "Other_sales        float64\n",
       "Critic_Score       float64\n",
       "User_Score          object\n",
       "Rating              object\n",
       "dtype: object"
      ]
     },
     "execution_count": 6,
     "metadata": {},
     "output_type": "execute_result"
    }
   ],
   "source": [
    "df.dtypes"
   ]
  },
  {
   "cell_type": "markdown",
   "metadata": {},
   "source": [
    "Посмотрим на описание данных"
   ]
  },
  {
   "cell_type": "code",
   "execution_count": 7,
   "metadata": {},
   "outputs": [
    {
     "data": {
      "text/html": [
       "<div>\n",
       "<style scoped>\n",
       "    .dataframe tbody tr th:only-of-type {\n",
       "        vertical-align: middle;\n",
       "    }\n",
       "\n",
       "    .dataframe tbody tr th {\n",
       "        vertical-align: top;\n",
       "    }\n",
       "\n",
       "    .dataframe thead th {\n",
       "        text-align: right;\n",
       "    }\n",
       "</style>\n",
       "<table border=\"1\" class=\"dataframe\">\n",
       "  <thead>\n",
       "    <tr style=\"text-align: right;\">\n",
       "      <th></th>\n",
       "      <th>count</th>\n",
       "      <th>mean</th>\n",
       "      <th>std</th>\n",
       "      <th>min</th>\n",
       "      <th>25%</th>\n",
       "      <th>50%</th>\n",
       "      <th>75%</th>\n",
       "      <th>max</th>\n",
       "    </tr>\n",
       "  </thead>\n",
       "  <tbody>\n",
       "    <tr>\n",
       "      <td>Year_of_Release</td>\n",
       "      <td>16446.0</td>\n",
       "      <td>2006.484616</td>\n",
       "      <td>5.877050</td>\n",
       "      <td>1980.0</td>\n",
       "      <td>2003.0</td>\n",
       "      <td>2007.00</td>\n",
       "      <td>2010.00</td>\n",
       "      <td>2016.00</td>\n",
       "    </tr>\n",
       "    <tr>\n",
       "      <td>NA_sales</td>\n",
       "      <td>16715.0</td>\n",
       "      <td>0.263377</td>\n",
       "      <td>0.813604</td>\n",
       "      <td>0.0</td>\n",
       "      <td>0.0</td>\n",
       "      <td>0.08</td>\n",
       "      <td>0.24</td>\n",
       "      <td>41.36</td>\n",
       "    </tr>\n",
       "    <tr>\n",
       "      <td>EU_sales</td>\n",
       "      <td>16715.0</td>\n",
       "      <td>0.145060</td>\n",
       "      <td>0.503339</td>\n",
       "      <td>0.0</td>\n",
       "      <td>0.0</td>\n",
       "      <td>0.02</td>\n",
       "      <td>0.11</td>\n",
       "      <td>28.96</td>\n",
       "    </tr>\n",
       "    <tr>\n",
       "      <td>JP_sales</td>\n",
       "      <td>16715.0</td>\n",
       "      <td>0.077617</td>\n",
       "      <td>0.308853</td>\n",
       "      <td>0.0</td>\n",
       "      <td>0.0</td>\n",
       "      <td>0.00</td>\n",
       "      <td>0.04</td>\n",
       "      <td>10.22</td>\n",
       "    </tr>\n",
       "    <tr>\n",
       "      <td>Other_sales</td>\n",
       "      <td>16715.0</td>\n",
       "      <td>0.047342</td>\n",
       "      <td>0.186731</td>\n",
       "      <td>0.0</td>\n",
       "      <td>0.0</td>\n",
       "      <td>0.01</td>\n",
       "      <td>0.03</td>\n",
       "      <td>10.57</td>\n",
       "    </tr>\n",
       "    <tr>\n",
       "      <td>Critic_Score</td>\n",
       "      <td>8137.0</td>\n",
       "      <td>68.967679</td>\n",
       "      <td>13.938165</td>\n",
       "      <td>13.0</td>\n",
       "      <td>60.0</td>\n",
       "      <td>71.00</td>\n",
       "      <td>79.00</td>\n",
       "      <td>98.00</td>\n",
       "    </tr>\n",
       "  </tbody>\n",
       "</table>\n",
       "</div>"
      ],
      "text/plain": [
       "                   count         mean        std     min     25%      50%  \\\n",
       "Year_of_Release  16446.0  2006.484616   5.877050  1980.0  2003.0  2007.00   \n",
       "NA_sales         16715.0     0.263377   0.813604     0.0     0.0     0.08   \n",
       "EU_sales         16715.0     0.145060   0.503339     0.0     0.0     0.02   \n",
       "JP_sales         16715.0     0.077617   0.308853     0.0     0.0     0.00   \n",
       "Other_sales      16715.0     0.047342   0.186731     0.0     0.0     0.01   \n",
       "Critic_Score      8137.0    68.967679  13.938165    13.0    60.0    71.00   \n",
       "\n",
       "                     75%      max  \n",
       "Year_of_Release  2010.00  2016.00  \n",
       "NA_sales            0.24    41.36  \n",
       "EU_sales            0.11    28.96  \n",
       "JP_sales            0.04    10.22  \n",
       "Other_sales         0.03    10.57  \n",
       "Critic_Score       79.00    98.00  "
      ]
     },
     "execution_count": 7,
     "metadata": {},
     "output_type": "execute_result"
    }
   ],
   "source": [
    "df.describe().T"
   ]
  },
  {
   "cell_type": "markdown",
   "metadata": {},
   "source": [
    "### Выводы\n",
    "Выводы после загрузки и просмотра данных о датасете:\n",
    "* Имеем около 17 тысяч записей\n",
    "* 11 колонок с данными\n",
    "* Пропуски есть в 6 колонках, но большой процент пропусков только в 3 колонках (более 40%)\n",
    "* Символы в названиях колонок имеют разный регистр\n",
    "* В некоторых колонках данные имеют некорректный тип\n",
    "* Излишнее выделение памяти на данные в некоторых колонках"
   ]
  },
  {
   "cell_type": "markdown",
   "metadata": {},
   "source": [
    "## 2. Предобработка данных"
   ]
  },
  {
   "cell_type": "markdown",
   "metadata": {},
   "source": [
    "Сначала приведем названия колонок к нижнему регистру"
   ]
  },
  {
   "cell_type": "code",
   "execution_count": 8,
   "metadata": {
    "scrolled": true
   },
   "outputs": [
    {
     "data": {
      "text/plain": [
       "Index(['name', 'platform', 'year_of_release', 'genre', 'na_sales', 'eu_sales',\n",
       "       'jp_sales', 'other_sales', 'critic_score', 'user_score', 'rating'],\n",
       "      dtype='object')"
      ]
     },
     "execution_count": 8,
     "metadata": {},
     "output_type": "execute_result"
    }
   ],
   "source": [
    "df.columns = df.columns.str.lower()\n",
    "df.columns"
   ]
  },
  {
   "cell_type": "markdown",
   "metadata": {},
   "source": [
    "Посмотрим на пропуски в колонке name"
   ]
  },
  {
   "cell_type": "code",
   "execution_count": 9,
   "metadata": {},
   "outputs": [
    {
     "data": {
      "text/html": [
       "<div>\n",
       "<style scoped>\n",
       "    .dataframe tbody tr th:only-of-type {\n",
       "        vertical-align: middle;\n",
       "    }\n",
       "\n",
       "    .dataframe tbody tr th {\n",
       "        vertical-align: top;\n",
       "    }\n",
       "\n",
       "    .dataframe thead th {\n",
       "        text-align: right;\n",
       "    }\n",
       "</style>\n",
       "<table border=\"1\" class=\"dataframe\">\n",
       "  <thead>\n",
       "    <tr style=\"text-align: right;\">\n",
       "      <th></th>\n",
       "      <th>name</th>\n",
       "      <th>platform</th>\n",
       "      <th>year_of_release</th>\n",
       "      <th>genre</th>\n",
       "      <th>na_sales</th>\n",
       "      <th>eu_sales</th>\n",
       "      <th>jp_sales</th>\n",
       "      <th>other_sales</th>\n",
       "      <th>critic_score</th>\n",
       "      <th>user_score</th>\n",
       "      <th>rating</th>\n",
       "    </tr>\n",
       "  </thead>\n",
       "  <tbody>\n",
       "    <tr>\n",
       "      <td>659</td>\n",
       "      <td>NaN</td>\n",
       "      <td>GEN</td>\n",
       "      <td>1993.0</td>\n",
       "      <td>NaN</td>\n",
       "      <td>1.78</td>\n",
       "      <td>0.53</td>\n",
       "      <td>0.00</td>\n",
       "      <td>0.08</td>\n",
       "      <td>NaN</td>\n",
       "      <td>NaN</td>\n",
       "      <td>NaN</td>\n",
       "    </tr>\n",
       "    <tr>\n",
       "      <td>14244</td>\n",
       "      <td>NaN</td>\n",
       "      <td>GEN</td>\n",
       "      <td>1993.0</td>\n",
       "      <td>NaN</td>\n",
       "      <td>0.00</td>\n",
       "      <td>0.00</td>\n",
       "      <td>0.03</td>\n",
       "      <td>0.00</td>\n",
       "      <td>NaN</td>\n",
       "      <td>NaN</td>\n",
       "      <td>NaN</td>\n",
       "    </tr>\n",
       "  </tbody>\n",
       "</table>\n",
       "</div>"
      ],
      "text/plain": [
       "      name platform  year_of_release genre  na_sales  eu_sales  jp_sales  \\\n",
       "659    NaN      GEN           1993.0   NaN      1.78      0.53      0.00   \n",
       "14244  NaN      GEN           1993.0   NaN      0.00      0.00      0.03   \n",
       "\n",
       "       other_sales  critic_score user_score rating  \n",
       "659           0.08           NaN        NaN    NaN  \n",
       "14244         0.00           NaN        NaN    NaN  "
      ]
     },
     "execution_count": 9,
     "metadata": {},
     "output_type": "execute_result"
    }
   ],
   "source": [
    "df.query('name.isna()')"
   ]
  },
  {
   "cell_type": "markdown",
   "metadata": {},
   "source": [
    "Имеем пропуски в 6 колонках для этих записей, удалим их"
   ]
  },
  {
   "cell_type": "code",
   "execution_count": 10,
   "metadata": {},
   "outputs": [],
   "source": [
    "df = df.dropna(subset=['name'])"
   ]
  },
  {
   "cell_type": "markdown",
   "metadata": {},
   "source": [
    "Посмотрим на пропуски в колонке year_of_release"
   ]
  },
  {
   "cell_type": "code",
   "execution_count": 11,
   "metadata": {},
   "outputs": [
    {
     "data": {
      "text/html": [
       "<div>\n",
       "<style scoped>\n",
       "    .dataframe tbody tr th:only-of-type {\n",
       "        vertical-align: middle;\n",
       "    }\n",
       "\n",
       "    .dataframe tbody tr th {\n",
       "        vertical-align: top;\n",
       "    }\n",
       "\n",
       "    .dataframe thead th {\n",
       "        text-align: right;\n",
       "    }\n",
       "</style>\n",
       "<table border=\"1\" class=\"dataframe\">\n",
       "  <thead>\n",
       "    <tr style=\"text-align: right;\">\n",
       "      <th></th>\n",
       "      <th>name</th>\n",
       "      <th>platform</th>\n",
       "      <th>year_of_release</th>\n",
       "      <th>genre</th>\n",
       "      <th>na_sales</th>\n",
       "      <th>eu_sales</th>\n",
       "      <th>jp_sales</th>\n",
       "      <th>other_sales</th>\n",
       "      <th>critic_score</th>\n",
       "      <th>user_score</th>\n",
       "      <th>rating</th>\n",
       "    </tr>\n",
       "  </thead>\n",
       "  <tbody>\n",
       "    <tr>\n",
       "      <td>12011</td>\n",
       "      <td>McFarlane's Evil Prophecy</td>\n",
       "      <td>PS2</td>\n",
       "      <td>NaN</td>\n",
       "      <td>Action</td>\n",
       "      <td>0.03</td>\n",
       "      <td>0.03</td>\n",
       "      <td>0.00</td>\n",
       "      <td>0.01</td>\n",
       "      <td>34.0</td>\n",
       "      <td>3.2</td>\n",
       "      <td>M</td>\n",
       "    </tr>\n",
       "    <tr>\n",
       "      <td>6293</td>\n",
       "      <td>Disgaea 3: Absence of Detention</td>\n",
       "      <td>PSV</td>\n",
       "      <td>NaN</td>\n",
       "      <td>Role-Playing</td>\n",
       "      <td>0.11</td>\n",
       "      <td>0.05</td>\n",
       "      <td>0.07</td>\n",
       "      <td>0.03</td>\n",
       "      <td>78.0</td>\n",
       "      <td>7.6</td>\n",
       "      <td>T</td>\n",
       "    </tr>\n",
       "    <tr>\n",
       "      <td>1538</td>\n",
       "      <td>LEGO Batman: The Videogame</td>\n",
       "      <td>PSP</td>\n",
       "      <td>NaN</td>\n",
       "      <td>Action</td>\n",
       "      <td>0.57</td>\n",
       "      <td>0.44</td>\n",
       "      <td>0.00</td>\n",
       "      <td>0.27</td>\n",
       "      <td>73.0</td>\n",
       "      <td>7.4</td>\n",
       "      <td>E10+</td>\n",
       "    </tr>\n",
       "    <tr>\n",
       "      <td>8260</td>\n",
       "      <td>Backbreaker</td>\n",
       "      <td>PS3</td>\n",
       "      <td>NaN</td>\n",
       "      <td>Sports</td>\n",
       "      <td>0.16</td>\n",
       "      <td>0.00</td>\n",
       "      <td>0.00</td>\n",
       "      <td>0.01</td>\n",
       "      <td>58.0</td>\n",
       "      <td>7</td>\n",
       "      <td>E</td>\n",
       "    </tr>\n",
       "    <tr>\n",
       "      <td>6773</td>\n",
       "      <td>Mega Man X Collection</td>\n",
       "      <td>PS2</td>\n",
       "      <td>NaN</td>\n",
       "      <td>Misc</td>\n",
       "      <td>0.12</td>\n",
       "      <td>0.09</td>\n",
       "      <td>0.00</td>\n",
       "      <td>0.03</td>\n",
       "      <td>73.0</td>\n",
       "      <td>8.8</td>\n",
       "      <td>E</td>\n",
       "    </tr>\n",
       "  </tbody>\n",
       "</table>\n",
       "</div>"
      ],
      "text/plain": [
       "                                  name platform  year_of_release  \\\n",
       "12011        McFarlane's Evil Prophecy      PS2              NaN   \n",
       "6293   Disgaea 3: Absence of Detention      PSV              NaN   \n",
       "1538        LEGO Batman: The Videogame      PSP              NaN   \n",
       "8260                       Backbreaker      PS3              NaN   \n",
       "6773             Mega Man X Collection      PS2              NaN   \n",
       "\n",
       "              genre  na_sales  eu_sales  jp_sales  other_sales  critic_score  \\\n",
       "12011        Action      0.03      0.03      0.00         0.01          34.0   \n",
       "6293   Role-Playing      0.11      0.05      0.07         0.03          78.0   \n",
       "1538         Action      0.57      0.44      0.00         0.27          73.0   \n",
       "8260         Sports      0.16      0.00      0.00         0.01          58.0   \n",
       "6773           Misc      0.12      0.09      0.00         0.03          73.0   \n",
       "\n",
       "      user_score rating  \n",
       "12011        3.2      M  \n",
       "6293         7.6      T  \n",
       "1538         7.4   E10+  \n",
       "8260           7      E  \n",
       "6773         8.8      E  "
      ]
     },
     "execution_count": 11,
     "metadata": {},
     "output_type": "execute_result"
    }
   ],
   "source": [
    "name_na = df.query('year_of_release.isna()')\n",
    "name_na.sample(5)"
   ]
  },
  {
   "cell_type": "markdown",
   "metadata": {},
   "source": [
    "Названий, содержащих год выхода не очень много, заменим их вручную, а остальные удалим. (Ещё можно было бы парсить результаты поиска этих игр на каком-либо ресурсе с играми)"
   ]
  },
  {
   "cell_type": "code",
   "execution_count": 12,
   "metadata": {},
   "outputs": [],
   "source": [
    "name_na_year = name_na['name'][name_na['name'].str.contains(r'[0-9]{4}')==True]\n",
    "name_na_year = name_na_year.apply(lambda x: re.sub('\\D', '', x))\n",
    "\n",
    "for i in name_na_year.index:\n",
    "    df.loc[i, 'year_of_release'] = name_na_year[i]"
   ]
  },
  {
   "cell_type": "code",
   "execution_count": 13,
   "metadata": {},
   "outputs": [],
   "source": [
    "df = df.dropna(subset=['year_of_release'])"
   ]
  },
  {
   "cell_type": "markdown",
   "metadata": {},
   "source": [
    "Посмотрим на пропуски в колонке genre"
   ]
  },
  {
   "cell_type": "code",
   "execution_count": 14,
   "metadata": {},
   "outputs": [
    {
     "data": {
      "text/html": [
       "<div>\n",
       "<style scoped>\n",
       "    .dataframe tbody tr th:only-of-type {\n",
       "        vertical-align: middle;\n",
       "    }\n",
       "\n",
       "    .dataframe tbody tr th {\n",
       "        vertical-align: top;\n",
       "    }\n",
       "\n",
       "    .dataframe thead th {\n",
       "        text-align: right;\n",
       "    }\n",
       "</style>\n",
       "<table border=\"1\" class=\"dataframe\">\n",
       "  <thead>\n",
       "    <tr style=\"text-align: right;\">\n",
       "      <th></th>\n",
       "      <th>name</th>\n",
       "      <th>platform</th>\n",
       "      <th>year_of_release</th>\n",
       "      <th>genre</th>\n",
       "      <th>na_sales</th>\n",
       "      <th>eu_sales</th>\n",
       "      <th>jp_sales</th>\n",
       "      <th>other_sales</th>\n",
       "      <th>critic_score</th>\n",
       "      <th>user_score</th>\n",
       "      <th>rating</th>\n",
       "    </tr>\n",
       "  </thead>\n",
       "  <tbody>\n",
       "  </tbody>\n",
       "</table>\n",
       "</div>"
      ],
      "text/plain": [
       "Empty DataFrame\n",
       "Columns: [name, platform, year_of_release, genre, na_sales, eu_sales, jp_sales, other_sales, critic_score, user_score, rating]\n",
       "Index: []"
      ]
     },
     "execution_count": 14,
     "metadata": {},
     "output_type": "execute_result"
    }
   ],
   "source": [
    "df.query('genre.isna()')"
   ]
  },
  {
   "cell_type": "markdown",
   "metadata": {},
   "source": [
    "Удалим эти строки"
   ]
  },
  {
   "cell_type": "code",
   "execution_count": 15,
   "metadata": {},
   "outputs": [],
   "source": [
    "df = df.dropna(subset=['genre'])"
   ]
  },
  {
   "cell_type": "markdown",
   "metadata": {},
   "source": [
    "Посмотрим на пропуски в колонке critic_score, user_score, rating"
   ]
  },
  {
   "cell_type": "code",
   "execution_count": 16,
   "metadata": {},
   "outputs": [
    {
     "data": {
      "text/html": [
       "<div>\n",
       "<style scoped>\n",
       "    .dataframe tbody tr th:only-of-type {\n",
       "        vertical-align: middle;\n",
       "    }\n",
       "\n",
       "    .dataframe tbody tr th {\n",
       "        vertical-align: top;\n",
       "    }\n",
       "\n",
       "    .dataframe thead th {\n",
       "        text-align: right;\n",
       "    }\n",
       "</style>\n",
       "<table border=\"1\" class=\"dataframe\">\n",
       "  <thead>\n",
       "    <tr style=\"text-align: right;\">\n",
       "      <th></th>\n",
       "      <th>name</th>\n",
       "      <th>platform</th>\n",
       "      <th>year_of_release</th>\n",
       "      <th>genre</th>\n",
       "      <th>na_sales</th>\n",
       "      <th>eu_sales</th>\n",
       "      <th>jp_sales</th>\n",
       "      <th>other_sales</th>\n",
       "      <th>critic_score</th>\n",
       "      <th>user_score</th>\n",
       "      <th>rating</th>\n",
       "    </tr>\n",
       "  </thead>\n",
       "  <tbody>\n",
       "    <tr>\n",
       "      <td>14945</td>\n",
       "      <td>A Ressha de Gyoukou 2001</td>\n",
       "      <td>PS2</td>\n",
       "      <td>2001</td>\n",
       "      <td>Simulation</td>\n",
       "      <td>0.00</td>\n",
       "      <td>0.00</td>\n",
       "      <td>0.03</td>\n",
       "      <td>0.00</td>\n",
       "      <td>NaN</td>\n",
       "      <td>NaN</td>\n",
       "      <td>NaN</td>\n",
       "    </tr>\n",
       "    <tr>\n",
       "      <td>3789</td>\n",
       "      <td>G-Force</td>\n",
       "      <td>DS</td>\n",
       "      <td>2009</td>\n",
       "      <td>Action</td>\n",
       "      <td>0.26</td>\n",
       "      <td>0.21</td>\n",
       "      <td>0.00</td>\n",
       "      <td>0.05</td>\n",
       "      <td>NaN</td>\n",
       "      <td>9</td>\n",
       "      <td>E10+</td>\n",
       "    </tr>\n",
       "    <tr>\n",
       "      <td>12328</td>\n",
       "      <td>Darksiders II</td>\n",
       "      <td>XOne</td>\n",
       "      <td>2015</td>\n",
       "      <td>Action</td>\n",
       "      <td>0.04</td>\n",
       "      <td>0.02</td>\n",
       "      <td>0.00</td>\n",
       "      <td>0.01</td>\n",
       "      <td>NaN</td>\n",
       "      <td>NaN</td>\n",
       "      <td>NaN</td>\n",
       "    </tr>\n",
       "    <tr>\n",
       "      <td>15633</td>\n",
       "      <td>Ginga Fukei Densetsu: Sapphire</td>\n",
       "      <td>TG16</td>\n",
       "      <td>1995</td>\n",
       "      <td>Shooter</td>\n",
       "      <td>0.00</td>\n",
       "      <td>0.00</td>\n",
       "      <td>0.02</td>\n",
       "      <td>0.00</td>\n",
       "      <td>NaN</td>\n",
       "      <td>NaN</td>\n",
       "      <td>NaN</td>\n",
       "    </tr>\n",
       "    <tr>\n",
       "      <td>13199</td>\n",
       "      <td>Fushigi no Dungeon: Fuurai no Shiren 3 Portable</td>\n",
       "      <td>PSP</td>\n",
       "      <td>2010</td>\n",
       "      <td>Role-Playing</td>\n",
       "      <td>0.00</td>\n",
       "      <td>0.00</td>\n",
       "      <td>0.05</td>\n",
       "      <td>0.00</td>\n",
       "      <td>NaN</td>\n",
       "      <td>NaN</td>\n",
       "      <td>NaN</td>\n",
       "    </tr>\n",
       "  </tbody>\n",
       "</table>\n",
       "</div>"
      ],
      "text/plain": [
       "                                                  name platform  \\\n",
       "14945                         A Ressha de Gyoukou 2001      PS2   \n",
       "3789                                           G-Force       DS   \n",
       "12328                                    Darksiders II     XOne   \n",
       "15633                   Ginga Fukei Densetsu: Sapphire     TG16   \n",
       "13199  Fushigi no Dungeon: Fuurai no Shiren 3 Portable      PSP   \n",
       "\n",
       "      year_of_release         genre  na_sales  eu_sales  jp_sales  \\\n",
       "14945            2001    Simulation      0.00      0.00      0.03   \n",
       "3789             2009        Action      0.26      0.21      0.00   \n",
       "12328            2015        Action      0.04      0.02      0.00   \n",
       "15633            1995       Shooter      0.00      0.00      0.02   \n",
       "13199            2010  Role-Playing      0.00      0.00      0.05   \n",
       "\n",
       "       other_sales  critic_score user_score rating  \n",
       "14945         0.00           NaN        NaN    NaN  \n",
       "3789          0.05           NaN          9   E10+  \n",
       "12328         0.01           NaN        NaN    NaN  \n",
       "15633         0.00           NaN        NaN    NaN  \n",
       "13199         0.00           NaN        NaN    NaN  "
      ]
     },
     "execution_count": 16,
     "metadata": {},
     "output_type": "execute_result"
    }
   ],
   "source": [
    "df.query('critic_score.isna()').sample(5)"
   ]
  },
  {
   "cell_type": "code",
   "execution_count": 17,
   "metadata": {},
   "outputs": [
    {
     "data": {
      "text/html": [
       "<div>\n",
       "<style scoped>\n",
       "    .dataframe tbody tr th:only-of-type {\n",
       "        vertical-align: middle;\n",
       "    }\n",
       "\n",
       "    .dataframe tbody tr th {\n",
       "        vertical-align: top;\n",
       "    }\n",
       "\n",
       "    .dataframe thead th {\n",
       "        text-align: right;\n",
       "    }\n",
       "</style>\n",
       "<table border=\"1\" class=\"dataframe\">\n",
       "  <thead>\n",
       "    <tr style=\"text-align: right;\">\n",
       "      <th></th>\n",
       "      <th>name</th>\n",
       "      <th>platform</th>\n",
       "      <th>year_of_release</th>\n",
       "      <th>genre</th>\n",
       "      <th>na_sales</th>\n",
       "      <th>eu_sales</th>\n",
       "      <th>jp_sales</th>\n",
       "      <th>other_sales</th>\n",
       "      <th>critic_score</th>\n",
       "      <th>user_score</th>\n",
       "      <th>rating</th>\n",
       "    </tr>\n",
       "  </thead>\n",
       "  <tbody>\n",
       "    <tr>\n",
       "      <td>2902</td>\n",
       "      <td>Command &amp; Conquer: Red Alert Retaliation</td>\n",
       "      <td>PS</td>\n",
       "      <td>1998</td>\n",
       "      <td>Strategy</td>\n",
       "      <td>0.39</td>\n",
       "      <td>0.27</td>\n",
       "      <td>0.00</td>\n",
       "      <td>0.05</td>\n",
       "      <td>NaN</td>\n",
       "      <td>NaN</td>\n",
       "      <td>NaN</td>\n",
       "    </tr>\n",
       "    <tr>\n",
       "      <td>11151</td>\n",
       "      <td>Scooby-Doo! Unmasked</td>\n",
       "      <td>DS</td>\n",
       "      <td>2005</td>\n",
       "      <td>Platform</td>\n",
       "      <td>0.07</td>\n",
       "      <td>0.01</td>\n",
       "      <td>0.00</td>\n",
       "      <td>0.01</td>\n",
       "      <td>NaN</td>\n",
       "      <td>NaN</td>\n",
       "      <td>NaN</td>\n",
       "    </tr>\n",
       "    <tr>\n",
       "      <td>12661</td>\n",
       "      <td>G-Police: Weapons of Justice</td>\n",
       "      <td>PS</td>\n",
       "      <td>1999</td>\n",
       "      <td>Action</td>\n",
       "      <td>0.03</td>\n",
       "      <td>0.02</td>\n",
       "      <td>0.00</td>\n",
       "      <td>0.00</td>\n",
       "      <td>NaN</td>\n",
       "      <td>NaN</td>\n",
       "      <td>NaN</td>\n",
       "    </tr>\n",
       "    <tr>\n",
       "      <td>5201</td>\n",
       "      <td>Tetrisphere</td>\n",
       "      <td>N64</td>\n",
       "      <td>1997</td>\n",
       "      <td>Puzzle</td>\n",
       "      <td>0.29</td>\n",
       "      <td>0.06</td>\n",
       "      <td>0.00</td>\n",
       "      <td>0.00</td>\n",
       "      <td>NaN</td>\n",
       "      <td>NaN</td>\n",
       "      <td>NaN</td>\n",
       "    </tr>\n",
       "    <tr>\n",
       "      <td>15985</td>\n",
       "      <td>Romance of the Three Kingdoms XII</td>\n",
       "      <td>WiiU</td>\n",
       "      <td>2012</td>\n",
       "      <td>Strategy</td>\n",
       "      <td>0.00</td>\n",
       "      <td>0.00</td>\n",
       "      <td>0.02</td>\n",
       "      <td>0.00</td>\n",
       "      <td>NaN</td>\n",
       "      <td>NaN</td>\n",
       "      <td>NaN</td>\n",
       "    </tr>\n",
       "  </tbody>\n",
       "</table>\n",
       "</div>"
      ],
      "text/plain": [
       "                                           name platform year_of_release  \\\n",
       "2902   Command & Conquer: Red Alert Retaliation       PS            1998   \n",
       "11151                      Scooby-Doo! Unmasked       DS            2005   \n",
       "12661              G-Police: Weapons of Justice       PS            1999   \n",
       "5201                                Tetrisphere      N64            1997   \n",
       "15985         Romance of the Three Kingdoms XII     WiiU            2012   \n",
       "\n",
       "          genre  na_sales  eu_sales  jp_sales  other_sales  critic_score  \\\n",
       "2902   Strategy      0.39      0.27      0.00         0.05           NaN   \n",
       "11151  Platform      0.07      0.01      0.00         0.01           NaN   \n",
       "12661    Action      0.03      0.02      0.00         0.00           NaN   \n",
       "5201     Puzzle      0.29      0.06      0.00         0.00           NaN   \n",
       "15985  Strategy      0.00      0.00      0.02         0.00           NaN   \n",
       "\n",
       "      user_score rating  \n",
       "2902         NaN    NaN  \n",
       "11151        NaN    NaN  \n",
       "12661        NaN    NaN  \n",
       "5201         NaN    NaN  \n",
       "15985        NaN    NaN  "
      ]
     },
     "execution_count": 17,
     "metadata": {},
     "output_type": "execute_result"
    }
   ],
   "source": [
    "df.query('user_score.isna()').sample(5)"
   ]
  },
  {
   "cell_type": "code",
   "execution_count": 18,
   "metadata": {},
   "outputs": [
    {
     "data": {
      "text/html": [
       "<div>\n",
       "<style scoped>\n",
       "    .dataframe tbody tr th:only-of-type {\n",
       "        vertical-align: middle;\n",
       "    }\n",
       "\n",
       "    .dataframe tbody tr th {\n",
       "        vertical-align: top;\n",
       "    }\n",
       "\n",
       "    .dataframe thead th {\n",
       "        text-align: right;\n",
       "    }\n",
       "</style>\n",
       "<table border=\"1\" class=\"dataframe\">\n",
       "  <thead>\n",
       "    <tr style=\"text-align: right;\">\n",
       "      <th></th>\n",
       "      <th>name</th>\n",
       "      <th>platform</th>\n",
       "      <th>year_of_release</th>\n",
       "      <th>genre</th>\n",
       "      <th>na_sales</th>\n",
       "      <th>eu_sales</th>\n",
       "      <th>jp_sales</th>\n",
       "      <th>other_sales</th>\n",
       "      <th>critic_score</th>\n",
       "      <th>user_score</th>\n",
       "      <th>rating</th>\n",
       "    </tr>\n",
       "  </thead>\n",
       "  <tbody>\n",
       "    <tr>\n",
       "      <td>16022</td>\n",
       "      <td>Violet no Atelier: Gramnad no Renkinjutsushi 2...</td>\n",
       "      <td>PSP</td>\n",
       "      <td>2011</td>\n",
       "      <td>Role-Playing</td>\n",
       "      <td>0.00</td>\n",
       "      <td>0.00</td>\n",
       "      <td>0.02</td>\n",
       "      <td>0.00</td>\n",
       "      <td>NaN</td>\n",
       "      <td>NaN</td>\n",
       "      <td>NaN</td>\n",
       "    </tr>\n",
       "    <tr>\n",
       "      <td>11099</td>\n",
       "      <td>Black &amp; White 2</td>\n",
       "      <td>PC</td>\n",
       "      <td>2005</td>\n",
       "      <td>Strategy</td>\n",
       "      <td>0.01</td>\n",
       "      <td>0.07</td>\n",
       "      <td>0.00</td>\n",
       "      <td>0.01</td>\n",
       "      <td>NaN</td>\n",
       "      <td>NaN</td>\n",
       "      <td>NaN</td>\n",
       "    </tr>\n",
       "    <tr>\n",
       "      <td>16603</td>\n",
       "      <td>Satomi Hakkenden: Hachi Tamanoki</td>\n",
       "      <td>PSP</td>\n",
       "      <td>2014</td>\n",
       "      <td>Adventure</td>\n",
       "      <td>0.00</td>\n",
       "      <td>0.00</td>\n",
       "      <td>0.01</td>\n",
       "      <td>0.00</td>\n",
       "      <td>NaN</td>\n",
       "      <td>NaN</td>\n",
       "      <td>NaN</td>\n",
       "    </tr>\n",
       "    <tr>\n",
       "      <td>15829</td>\n",
       "      <td>Nano Diver</td>\n",
       "      <td>PSP</td>\n",
       "      <td>2011</td>\n",
       "      <td>Action</td>\n",
       "      <td>0.00</td>\n",
       "      <td>0.00</td>\n",
       "      <td>0.02</td>\n",
       "      <td>0.00</td>\n",
       "      <td>NaN</td>\n",
       "      <td>NaN</td>\n",
       "      <td>NaN</td>\n",
       "    </tr>\n",
       "    <tr>\n",
       "      <td>14345</td>\n",
       "      <td>3DS Classic Collection</td>\n",
       "      <td>3DS</td>\n",
       "      <td>2016</td>\n",
       "      <td>Misc</td>\n",
       "      <td>0.03</td>\n",
       "      <td>0.00</td>\n",
       "      <td>0.00</td>\n",
       "      <td>0.00</td>\n",
       "      <td>NaN</td>\n",
       "      <td>NaN</td>\n",
       "      <td>NaN</td>\n",
       "    </tr>\n",
       "  </tbody>\n",
       "</table>\n",
       "</div>"
      ],
      "text/plain": [
       "                                                    name platform  \\\n",
       "16022  Violet no Atelier: Gramnad no Renkinjutsushi 2...      PSP   \n",
       "11099                                    Black & White 2       PC   \n",
       "16603                   Satomi Hakkenden: Hachi Tamanoki      PSP   \n",
       "15829                                         Nano Diver      PSP   \n",
       "14345                             3DS Classic Collection      3DS   \n",
       "\n",
       "      year_of_release         genre  na_sales  eu_sales  jp_sales  \\\n",
       "16022            2011  Role-Playing      0.00      0.00      0.02   \n",
       "11099            2005      Strategy      0.01      0.07      0.00   \n",
       "16603            2014     Adventure      0.00      0.00      0.01   \n",
       "15829            2011        Action      0.00      0.00      0.02   \n",
       "14345            2016          Misc      0.03      0.00      0.00   \n",
       "\n",
       "       other_sales  critic_score user_score rating  \n",
       "16022         0.00           NaN        NaN    NaN  \n",
       "11099         0.01           NaN        NaN    NaN  \n",
       "16603         0.00           NaN        NaN    NaN  \n",
       "15829         0.00           NaN        NaN    NaN  \n",
       "14345         0.00           NaN        NaN    NaN  "
      ]
     },
     "execution_count": 18,
     "metadata": {},
     "output_type": "execute_result"
    }
   ],
   "source": [
    "df.query('rating.isna()').sample(5)"
   ]
  },
  {
   "cell_type": "code",
   "execution_count": 19,
   "metadata": {},
   "outputs": [
    {
     "data": {
      "text/html": [
       "<div>\n",
       "<style scoped>\n",
       "    .dataframe tbody tr th:only-of-type {\n",
       "        vertical-align: middle;\n",
       "    }\n",
       "\n",
       "    .dataframe tbody tr th {\n",
       "        vertical-align: top;\n",
       "    }\n",
       "\n",
       "    .dataframe thead th {\n",
       "        text-align: right;\n",
       "    }\n",
       "</style>\n",
       "<table border=\"1\" class=\"dataframe\">\n",
       "  <thead>\n",
       "    <tr style=\"text-align: right;\">\n",
       "      <th></th>\n",
       "      <th>name</th>\n",
       "      <th>platform</th>\n",
       "      <th>year_of_release</th>\n",
       "      <th>genre</th>\n",
       "      <th>na_sales</th>\n",
       "      <th>eu_sales</th>\n",
       "      <th>jp_sales</th>\n",
       "      <th>other_sales</th>\n",
       "      <th>critic_score</th>\n",
       "      <th>user_score</th>\n",
       "      <th>rating</th>\n",
       "    </tr>\n",
       "  </thead>\n",
       "  <tbody>\n",
       "  </tbody>\n",
       "</table>\n",
       "</div>"
      ],
      "text/plain": [
       "Empty DataFrame\n",
       "Columns: [name, platform, year_of_release, genre, na_sales, eu_sales, jp_sales, other_sales, critic_score, user_score, rating]\n",
       "Index: []"
      ]
     },
     "execution_count": 19,
     "metadata": {},
     "output_type": "execute_result"
    }
   ],
   "source": [
    "df.query('rating == 0 or user_score == 0 or critic_score == 0')"
   ]
  },
  {
   "cell_type": "markdown",
   "metadata": {},
   "source": [
    "Заменим пропущенные значения в трех колонках на 0"
   ]
  },
  {
   "cell_type": "code",
   "execution_count": 20,
   "metadata": {},
   "outputs": [],
   "source": [
    "df.fillna(0, inplace=True)"
   ]
  },
  {
   "cell_type": "markdown",
   "metadata": {},
   "source": [
    "Теперь займемся типами данных, изменим их для более экономного использования памяти. Сохраним заранее размер занимаемой памяти."
   ]
  },
  {
   "cell_type": "code",
   "execution_count": 21,
   "metadata": {},
   "outputs": [],
   "source": [
    "before_types_change = df.memory_usage(deep=True).sum() / 1024 ** 2"
   ]
  },
  {
   "cell_type": "code",
   "execution_count": 22,
   "metadata": {},
   "outputs": [
    {
     "data": {
      "text/html": [
       "<div>\n",
       "<style scoped>\n",
       "    .dataframe tbody tr th:only-of-type {\n",
       "        vertical-align: middle;\n",
       "    }\n",
       "\n",
       "    .dataframe tbody tr th {\n",
       "        vertical-align: top;\n",
       "    }\n",
       "\n",
       "    .dataframe thead th {\n",
       "        text-align: right;\n",
       "    }\n",
       "</style>\n",
       "<table border=\"1\" class=\"dataframe\">\n",
       "  <thead>\n",
       "    <tr style=\"text-align: right;\">\n",
       "      <th></th>\n",
       "      <th>name</th>\n",
       "      <th>platform</th>\n",
       "      <th>year_of_release</th>\n",
       "      <th>genre</th>\n",
       "      <th>na_sales</th>\n",
       "      <th>eu_sales</th>\n",
       "      <th>jp_sales</th>\n",
       "      <th>other_sales</th>\n",
       "      <th>critic_score</th>\n",
       "      <th>user_score</th>\n",
       "      <th>rating</th>\n",
       "    </tr>\n",
       "  </thead>\n",
       "  <tbody>\n",
       "    <tr>\n",
       "      <td>11879</td>\n",
       "      <td>G Darius</td>\n",
       "      <td>PS</td>\n",
       "      <td>1997</td>\n",
       "      <td>Shooter</td>\n",
       "      <td>0.04</td>\n",
       "      <td>0.03</td>\n",
       "      <td>0.00</td>\n",
       "      <td>0.00</td>\n",
       "      <td>0.0</td>\n",
       "      <td>0</td>\n",
       "      <td>0</td>\n",
       "    </tr>\n",
       "    <tr>\n",
       "      <td>15344</td>\n",
       "      <td>Indigo Prophecy</td>\n",
       "      <td>PC</td>\n",
       "      <td>2005</td>\n",
       "      <td>Adventure</td>\n",
       "      <td>0.00</td>\n",
       "      <td>0.02</td>\n",
       "      <td>0.00</td>\n",
       "      <td>0.00</td>\n",
       "      <td>85.0</td>\n",
       "      <td>8.3</td>\n",
       "      <td>M</td>\n",
       "    </tr>\n",
       "    <tr>\n",
       "      <td>4119</td>\n",
       "      <td>Tiger Woods PGA Tour 06</td>\n",
       "      <td>XB</td>\n",
       "      <td>2005</td>\n",
       "      <td>Sports</td>\n",
       "      <td>0.35</td>\n",
       "      <td>0.11</td>\n",
       "      <td>0.00</td>\n",
       "      <td>0.02</td>\n",
       "      <td>81.0</td>\n",
       "      <td>5.1</td>\n",
       "      <td>E</td>\n",
       "    </tr>\n",
       "    <tr>\n",
       "      <td>6586</td>\n",
       "      <td>Metroid Prime Pinball</td>\n",
       "      <td>DS</td>\n",
       "      <td>2005</td>\n",
       "      <td>Misc</td>\n",
       "      <td>0.21</td>\n",
       "      <td>0.00</td>\n",
       "      <td>0.02</td>\n",
       "      <td>0.02</td>\n",
       "      <td>79.0</td>\n",
       "      <td>7.9</td>\n",
       "      <td>E</td>\n",
       "    </tr>\n",
       "    <tr>\n",
       "      <td>7708</td>\n",
       "      <td>The Great Escape</td>\n",
       "      <td>PS2</td>\n",
       "      <td>2003</td>\n",
       "      <td>Action</td>\n",
       "      <td>0.10</td>\n",
       "      <td>0.07</td>\n",
       "      <td>0.00</td>\n",
       "      <td>0.02</td>\n",
       "      <td>57.0</td>\n",
       "      <td>8</td>\n",
       "      <td>T</td>\n",
       "    </tr>\n",
       "    <tr>\n",
       "      <td>4402</td>\n",
       "      <td>Densetsu no Stafi 2</td>\n",
       "      <td>GBA</td>\n",
       "      <td>2003</td>\n",
       "      <td>Platform</td>\n",
       "      <td>0.00</td>\n",
       "      <td>0.00</td>\n",
       "      <td>0.43</td>\n",
       "      <td>0.01</td>\n",
       "      <td>0.0</td>\n",
       "      <td>0</td>\n",
       "      <td>0</td>\n",
       "    </tr>\n",
       "    <tr>\n",
       "      <td>3983</td>\n",
       "      <td>Burnout Revenge</td>\n",
       "      <td>X360</td>\n",
       "      <td>2006</td>\n",
       "      <td>Racing</td>\n",
       "      <td>0.42</td>\n",
       "      <td>0.04</td>\n",
       "      <td>0.00</td>\n",
       "      <td>0.04</td>\n",
       "      <td>89.0</td>\n",
       "      <td>8.1</td>\n",
       "      <td>E10+</td>\n",
       "    </tr>\n",
       "    <tr>\n",
       "      <td>1338</td>\n",
       "      <td>Smarty Pants</td>\n",
       "      <td>Wii</td>\n",
       "      <td>2007</td>\n",
       "      <td>Misc</td>\n",
       "      <td>0.52</td>\n",
       "      <td>0.75</td>\n",
       "      <td>0.00</td>\n",
       "      <td>0.16</td>\n",
       "      <td>65.0</td>\n",
       "      <td>7.6</td>\n",
       "      <td>E</td>\n",
       "    </tr>\n",
       "    <tr>\n",
       "      <td>4919</td>\n",
       "      <td>Jampack Winter 2003 (RP-T)</td>\n",
       "      <td>PS2</td>\n",
       "      <td>2003</td>\n",
       "      <td>Misc</td>\n",
       "      <td>0.19</td>\n",
       "      <td>0.15</td>\n",
       "      <td>0.00</td>\n",
       "      <td>0.05</td>\n",
       "      <td>0.0</td>\n",
       "      <td>0</td>\n",
       "      <td>0</td>\n",
       "    </tr>\n",
       "    <tr>\n",
       "      <td>15811</td>\n",
       "      <td>TV Anime Idolm@ster: Cinderella Girls G4U! Pac...</td>\n",
       "      <td>PS3</td>\n",
       "      <td>2015</td>\n",
       "      <td>Action</td>\n",
       "      <td>0.00</td>\n",
       "      <td>0.00</td>\n",
       "      <td>0.02</td>\n",
       "      <td>0.00</td>\n",
       "      <td>0.0</td>\n",
       "      <td>0</td>\n",
       "      <td>0</td>\n",
       "    </tr>\n",
       "    <tr>\n",
       "      <td>12787</td>\n",
       "      <td>Fate/Stay Night [Réalta Nua]</td>\n",
       "      <td>PSV</td>\n",
       "      <td>2012</td>\n",
       "      <td>Adventure</td>\n",
       "      <td>0.00</td>\n",
       "      <td>0.00</td>\n",
       "      <td>0.06</td>\n",
       "      <td>0.00</td>\n",
       "      <td>0.0</td>\n",
       "      <td>0</td>\n",
       "      <td>0</td>\n",
       "    </tr>\n",
       "    <tr>\n",
       "      <td>12942</td>\n",
       "      <td>Project Setsuna</td>\n",
       "      <td>PSV</td>\n",
       "      <td>2016</td>\n",
       "      <td>Role-Playing</td>\n",
       "      <td>0.00</td>\n",
       "      <td>0.00</td>\n",
       "      <td>0.05</td>\n",
       "      <td>0.00</td>\n",
       "      <td>0.0</td>\n",
       "      <td>0</td>\n",
       "      <td>0</td>\n",
       "    </tr>\n",
       "    <tr>\n",
       "      <td>15789</td>\n",
       "      <td>Ketsui Death Label</td>\n",
       "      <td>DS</td>\n",
       "      <td>2008</td>\n",
       "      <td>Shooter</td>\n",
       "      <td>0.00</td>\n",
       "      <td>0.00</td>\n",
       "      <td>0.02</td>\n",
       "      <td>0.00</td>\n",
       "      <td>0.0</td>\n",
       "      <td>0</td>\n",
       "      <td>0</td>\n",
       "    </tr>\n",
       "    <tr>\n",
       "      <td>420</td>\n",
       "      <td>Madden NFL 16</td>\n",
       "      <td>PS4</td>\n",
       "      <td>2015</td>\n",
       "      <td>Sports</td>\n",
       "      <td>2.34</td>\n",
       "      <td>0.30</td>\n",
       "      <td>0.00</td>\n",
       "      <td>0.60</td>\n",
       "      <td>83.0</td>\n",
       "      <td>5.9</td>\n",
       "      <td>E</td>\n",
       "    </tr>\n",
       "    <tr>\n",
       "      <td>507</td>\n",
       "      <td>Madden NFL 13</td>\n",
       "      <td>X360</td>\n",
       "      <td>2012</td>\n",
       "      <td>Sports</td>\n",
       "      <td>2.53</td>\n",
       "      <td>0.15</td>\n",
       "      <td>0.00</td>\n",
       "      <td>0.17</td>\n",
       "      <td>81.0</td>\n",
       "      <td>5.8</td>\n",
       "      <td>E</td>\n",
       "    </tr>\n",
       "  </tbody>\n",
       "</table>\n",
       "</div>"
      ],
      "text/plain": [
       "                                                    name platform  \\\n",
       "11879                                           G Darius       PS   \n",
       "15344                                    Indigo Prophecy       PC   \n",
       "4119                             Tiger Woods PGA Tour 06       XB   \n",
       "6586                               Metroid Prime Pinball       DS   \n",
       "7708                                    The Great Escape      PS2   \n",
       "4402                                 Densetsu no Stafi 2      GBA   \n",
       "3983                                     Burnout Revenge     X360   \n",
       "1338                                        Smarty Pants      Wii   \n",
       "4919                          Jampack Winter 2003 (RP-T)      PS2   \n",
       "15811  TV Anime Idolm@ster: Cinderella Girls G4U! Pac...      PS3   \n",
       "12787                       Fate/Stay Night [Réalta Nua]      PSV   \n",
       "12942                                    Project Setsuna      PSV   \n",
       "15789                                 Ketsui Death Label       DS   \n",
       "420                                        Madden NFL 16      PS4   \n",
       "507                                        Madden NFL 13     X360   \n",
       "\n",
       "      year_of_release         genre  na_sales  eu_sales  jp_sales  \\\n",
       "11879            1997       Shooter      0.04      0.03      0.00   \n",
       "15344            2005     Adventure      0.00      0.02      0.00   \n",
       "4119             2005        Sports      0.35      0.11      0.00   \n",
       "6586             2005          Misc      0.21      0.00      0.02   \n",
       "7708             2003        Action      0.10      0.07      0.00   \n",
       "4402             2003      Platform      0.00      0.00      0.43   \n",
       "3983             2006        Racing      0.42      0.04      0.00   \n",
       "1338             2007          Misc      0.52      0.75      0.00   \n",
       "4919             2003          Misc      0.19      0.15      0.00   \n",
       "15811            2015        Action      0.00      0.00      0.02   \n",
       "12787            2012     Adventure      0.00      0.00      0.06   \n",
       "12942            2016  Role-Playing      0.00      0.00      0.05   \n",
       "15789            2008       Shooter      0.00      0.00      0.02   \n",
       "420              2015        Sports      2.34      0.30      0.00   \n",
       "507              2012        Sports      2.53      0.15      0.00   \n",
       "\n",
       "       other_sales  critic_score user_score rating  \n",
       "11879         0.00           0.0          0      0  \n",
       "15344         0.00          85.0        8.3      M  \n",
       "4119          0.02          81.0        5.1      E  \n",
       "6586          0.02          79.0        7.9      E  \n",
       "7708          0.02          57.0          8      T  \n",
       "4402          0.01           0.0          0      0  \n",
       "3983          0.04          89.0        8.1   E10+  \n",
       "1338          0.16          65.0        7.6      E  \n",
       "4919          0.05           0.0          0      0  \n",
       "15811         0.00           0.0          0      0  \n",
       "12787         0.00           0.0          0      0  \n",
       "12942         0.00           0.0          0      0  \n",
       "15789         0.00           0.0          0      0  \n",
       "420           0.60          83.0        5.9      E  \n",
       "507           0.17          81.0        5.8      E  "
      ]
     },
     "execution_count": 22,
     "metadata": {},
     "output_type": "execute_result"
    }
   ],
   "source": [
    "df.sample(15)"
   ]
  },
  {
   "cell_type": "code",
   "execution_count": 23,
   "metadata": {},
   "outputs": [],
   "source": [
    "df['na_sales'] = df['na_sales'].astype('float16')\n",
    "df['eu_sales'] = df['eu_sales'].astype('float16')\n",
    "df['jp_sales'] = df['jp_sales'].astype('float16')\n",
    "df['other_sales'] = df['other_sales'].astype('float16')\n",
    "df['critic_score'] = df['critic_score'].astype('uint8')\n",
    "df['year_of_release'] = df['year_of_release'].astype('int16')"
   ]
  },
  {
   "cell_type": "markdown",
   "metadata": {},
   "source": [
    "Поскольку из даты у нас только год, можно не преобразовывать значение к формату datetime64"
   ]
  },
  {
   "cell_type": "code",
   "execution_count": 24,
   "metadata": {},
   "outputs": [
    {
     "data": {
      "text/plain": [
       "0      6610\n",
       "tbd    2378\n",
       "7.8     322\n",
       "8       285\n",
       "8.2     277\n",
       "       ... \n",
       "0.6       2\n",
       "0.7       2\n",
       "1         2\n",
       "0         1\n",
       "9.7       1\n",
       "Name: user_score, Length: 97, dtype: int64"
      ]
     },
     "execution_count": 24,
     "metadata": {},
     "output_type": "execute_result"
    }
   ],
   "source": [
    "df['user_score'].value_counts()"
   ]
  },
  {
   "cell_type": "markdown",
   "metadata": {},
   "source": [
    "В колонке user_score есть значения tbd, которые означают, что из-за недостаточного числа отзывов на игру, рейтинг не отображается, пока не будет набрано определенное количество отзывов. Поэтому мы можем заменить такой рейтинг на 0 и считать его пропущенным, поскольку количество отзывов слишком маленькое."
   ]
  },
  {
   "cell_type": "code",
   "execution_count": 25,
   "metadata": {},
   "outputs": [],
   "source": [
    "df.replace('tbd', 0, inplace=True)"
   ]
  },
  {
   "cell_type": "code",
   "execution_count": 26,
   "metadata": {},
   "outputs": [],
   "source": [
    "df['user_score'] = df['user_score'].astype('float16')"
   ]
  },
  {
   "cell_type": "code",
   "execution_count": 27,
   "metadata": {},
   "outputs": [],
   "source": [
    "after_types_change = df.memory_usage(deep=True).sum() / 1024 ** 2"
   ]
  },
  {
   "cell_type": "code",
   "execution_count": 28,
   "metadata": {},
   "outputs": [
    {
     "name": "stdout",
     "output_type": "stream",
     "text": [
      "Доля потерянных данных: 1.52%\n",
      "Объем сэкономленной памяти: 18.53%\n"
     ]
    }
   ],
   "source": [
    "print(f'Доля потерянных данных: {1 - len(df) / len(df_raw):.2%}')\n",
    "print(f'Объем сэкономленной памяти: {1 - after_types_change / before_types_change:.2%}')"
   ]
  },
  {
   "cell_type": "markdown",
   "metadata": {},
   "source": [
    "Добавим объем суммарных продаж по всем регионам для каждой игры"
   ]
  },
  {
   "cell_type": "code",
   "execution_count": 29,
   "metadata": {},
   "outputs": [],
   "source": [
    "df['total_sum'] = df['na_sales'] + df['eu_sales'] + df['jp_sales'] + df['other_sales']\n",
    "df['total_sum'] = df['total_sum'].astype('float16')"
   ]
  },
  {
   "cell_type": "markdown",
   "metadata": {},
   "source": [
    "### Выводы"
   ]
  },
  {
   "cell_type": "markdown",
   "metadata": {},
   "source": [
    "Выводы по результатам предобработки данных:\n",
    "* Примерно у половины игр не указан один из рейтингов\n",
    "* Был обнаружены игры, у которых недостаточное число отзывов для формирования рейтинга\n",
    "* У части игр отсутствует год выхода, возможно его забыли указать, либо название содержало в себе год выхода и парсинг был некорректным\n",
    "* После преодобработки данных мы потеряли 1.5% данных\n",
    "* После преобразования типов мы сэкономили 26% занимаемой памяти\n",
    "* Посчитали суммарные продажи по всем регионам\n"
   ]
  },
  {
   "cell_type": "markdown",
   "metadata": {},
   "source": [
    "## 3. Исследовательский анализ данных"
   ]
  },
  {
   "cell_type": "markdown",
   "metadata": {},
   "source": [
    "Посчитаем сколько игр выпускалось в каждом году"
   ]
  },
  {
   "cell_type": "code",
   "execution_count": 30,
   "metadata": {},
   "outputs": [
    {
     "data": {
      "image/png": "[encoded data removed]",
      "text/plain": [
       "<Figure size 1080x720 with 1 Axes>"
      ]
     },
     "metadata": {},
     "output_type": "display_data"
    }
   ],
   "source": [
    "release_year_pivot = pd.pivot_table(df, index='year_of_release', values='genre', aggfunc='count').reset_index()\n",
    "ax = sns.barplot(x=release_year_pivot['year_of_release'], y=release_year_pivot['genre'], data=release_year_pivot)\n",
    "ax.set(xlabel='Год', ylabel='Число вышедших игр', title='Выход игр по годам')\n",
    "ax.tick_params(axis='x', rotation=60)\n",
    "plt.show()"
   ]
  },
  {
   "cell_type": "markdown",
   "metadata": {},
   "source": [
    "Для нас нет смысла использовать данные за все периоды, поскольку в предыдущих периодах может быть достаточно много игр, которые выходили на неактуальную на данный момент платформу."
   ]
  },
  {
   "cell_type": "code",
   "execution_count": 31,
   "metadata": {},
   "outputs": [],
   "source": [
    "release_pivot = pd.pivot_table(df, index=['year_of_release', 'platform'], values='genre', aggfunc='count').reset_index()"
   ]
  },
  {
   "cell_type": "code",
   "execution_count": 32,
   "metadata": {},
   "outputs": [
    {
     "data": {
      "image/png": "[encoded data removed]",
      "text/plain": [
       "<Figure size 1080x720 with 2 Axes>"
      ]
     },
     "metadata": {},
     "output_type": "display_data"
    }
   ],
   "source": [
    "ax = sns.heatmap(release_pivot.pivot('year_of_release', 'platform', 'genre').fillna(0))\n",
    "ax.set(xlabel='Платформа', ylabel='Год выхода', title='Число вышедших игр на каждой из платформ по годам')\n",
    "plt.show()"
   ]
  },
  {
   "cell_type": "markdown",
   "metadata": {},
   "source": [
    "Сравнив предыдущий график и тепловую карту попробуем использовать данные по играм, вышедшим за последние пять лет, поскольку старые платформы становятся менее популярными, а некоторые новые только набирают популярность либо находятся на пике.  \n",
    "А примерно за 5-10 лет платформа появляется, достигает своего пика и затем её популярность снижается, но это применимо не ко всем платформам. К примеру, игры на PC появились давно и пропадать не собираются."
   ]
  },
  {
   "cell_type": "code",
   "execution_count": 33,
   "metadata": {},
   "outputs": [],
   "source": [
    "df = df.query('year_of_release > 2011')"
   ]
  },
  {
   "cell_type": "markdown",
   "metadata": {},
   "source": [
    "Посмотрим, какие платформы лидировали по продажам за выбранный актуальный период"
   ]
  },
  {
   "cell_type": "code",
   "execution_count": 34,
   "metadata": {},
   "outputs": [
    {
     "data": {
      "image/png": "[encoded data removed]",
      "text/plain": [
       "<Figure size 1080x720 with 1 Axes>"
      ]
     },
     "metadata": {},
     "output_type": "display_data"
    }
   ],
   "source": [
    "actual_period_pivot = pd.pivot_table(df, index='platform', values='genre', aggfunc='count').reset_index().sort_values(by='genre', ascending=False)\n",
    "ax = sns.barplot(x=actual_period_pivot['platform'], y=actual_period_pivot['genre'], data=release_year_pivot)\n",
    "ax.set(xlabel='Платформа', ylabel='Число вышедших игр', title='Выход игр по годам')\n",
    "\n",
    "plt.show()"
   ]
  },
  {
   "cell_type": "code",
   "execution_count": 35,
   "metadata": {
    "scrolled": false
   },
   "outputs": [
    {
     "data": {
      "image/png": "[encoded data removed]",
      "text/plain": [
       "<Figure size 1080x720 with 2 Axes>"
      ]
     },
     "metadata": {},
     "output_type": "display_data"
    }
   ],
   "source": [
    "release_pivot = pd.pivot_table(df, index=['year_of_release', 'platform'], values='genre', aggfunc='count').reset_index()\n",
    "ax = sns.heatmap(release_pivot.pivot('year_of_release', 'platform', 'genre').fillna(0), annot=True)\n",
    "ax.set(xlabel='Платформа', ylabel='Год выхода', title='Число вышедших игр на каждой из платформ по годам')\n",
    "plt.show()"
   ]
  },
  {
   "cell_type": "markdown",
   "metadata": {},
   "source": [
    "Для дальнейшего анализа выберем более-менее \"горячие\" платформы, в которых число вышедших игр за актуальный период либо растет либо не так быстро падает, т.е. по построенной тепловой карте не похоже, что их популярность уже подходит к концу.  \n",
    "Видим, что платформы DS, PSP, Wii, X360 и WiiU уже практически не представляют интереса для разработчиков игр.  \n",
    "Между числом вышедших игр на платформы 3DS и PS3 за последние два года видим снижение, но платформы окончательно ещё не потеряли свою популярность.  \n",
    "Для платформы PC наоборот наблюдается небольшой рост за последние несколько лет с 2013 года. Между 2012 и 2013 есть падение в числе вышедших игр. Возможно, это связано с длительностью разработки игр, либо обосновано какой-то другой причиной."
   ]
  },
  {
   "cell_type": "code",
   "execution_count": 36,
   "metadata": {},
   "outputs": [],
   "source": [
    "df = df.query('platform.isin([\"3DS\", \"PC\", \"PS4\", \"PS3\", \"PSV\", \"XOne\"])')"
   ]
  },
  {
   "cell_type": "markdown",
   "metadata": {},
   "source": [
    "Посмотрим диаграмму размаха по продажам для каждой платформы"
   ]
  },
  {
   "cell_type": "code",
   "execution_count": 37,
   "metadata": {},
   "outputs": [
    {
     "data": {
      "image/png": "[encoded data removed]",
      "text/plain": [
       "<Figure size 1080x720 with 1 Axes>"
      ]
     },
     "metadata": {},
     "output_type": "display_data"
    }
   ],
   "source": [
    "ax = sns.boxplot(x=df['platform'], y=df['total_sum'])\n",
    "ax.set(xlabel='Платформа', ylabel='Глобальные продажи, млн. копий', title='Глобальные продажи по платформам за актуальный период')\n",
    "ax.set_ylim(top=6)\n",
    "plt.show()"
   ]
  },
  {
   "cell_type": "code",
   "execution_count": 38,
   "metadata": {},
   "outputs": [
    {
     "data": {
      "text/html": [
       "<div>\n",
       "<style scoped>\n",
       "    .dataframe tbody tr th:only-of-type {\n",
       "        vertical-align: middle;\n",
       "    }\n",
       "\n",
       "    .dataframe tbody tr th {\n",
       "        vertical-align: top;\n",
       "    }\n",
       "\n",
       "    .dataframe thead th {\n",
       "        text-align: right;\n",
       "    }\n",
       "</style>\n",
       "<table border=\"1\" class=\"dataframe\">\n",
       "  <thead>\n",
       "    <tr style=\"text-align: right;\">\n",
       "      <th></th>\n",
       "      <th>Суммарные продажи</th>\n",
       "      <th>Средние продажи</th>\n",
       "      <th>Медианные продажи</th>\n",
       "    </tr>\n",
       "    <tr>\n",
       "      <th>platform</th>\n",
       "      <th></th>\n",
       "      <th></th>\n",
       "      <th></th>\n",
       "    </tr>\n",
       "  </thead>\n",
       "  <tbody>\n",
       "    <tr>\n",
       "      <td>XOne</td>\n",
       "      <td>159.3750</td>\n",
       "      <td>0.645020</td>\n",
       "      <td>0.219971</td>\n",
       "    </tr>\n",
       "    <tr>\n",
       "      <td>PS3</td>\n",
       "      <td>288.7500</td>\n",
       "      <td>0.585938</td>\n",
       "      <td>0.199951</td>\n",
       "    </tr>\n",
       "    <tr>\n",
       "      <td>PS4</td>\n",
       "      <td>314.2500</td>\n",
       "      <td>0.801270</td>\n",
       "      <td>0.199951</td>\n",
       "    </tr>\n",
       "    <tr>\n",
       "      <td>3DS</td>\n",
       "      <td>194.6250</td>\n",
       "      <td>0.491455</td>\n",
       "      <td>0.109985</td>\n",
       "    </tr>\n",
       "    <tr>\n",
       "      <td>PC</td>\n",
       "      <td>63.0000</td>\n",
       "      <td>0.250977</td>\n",
       "      <td>0.080017</td>\n",
       "    </tr>\n",
       "    <tr>\n",
       "      <td>PSV</td>\n",
       "      <td>49.1875</td>\n",
       "      <td>0.119629</td>\n",
       "      <td>0.049988</td>\n",
       "    </tr>\n",
       "  </tbody>\n",
       "</table>\n",
       "</div>"
      ],
      "text/plain": [
       "          Суммарные продажи  Средние продажи  Медианные продажи\n",
       "platform                                                       \n",
       "XOne               159.3750         0.645020           0.219971\n",
       "PS3                288.7500         0.585938           0.199951\n",
       "PS4                314.2500         0.801270           0.199951\n",
       "3DS                194.6250         0.491455           0.109985\n",
       "PC                  63.0000         0.250977           0.080017\n",
       "PSV                 49.1875         0.119629           0.049988"
      ]
     },
     "execution_count": 38,
     "metadata": {},
     "output_type": "execute_result"
    }
   ],
   "source": [
    "sales_pivot = pd.pivot_table(df, index='platform', values='total_sum', aggfunc=['sum', 'mean', 'median']).sort_values(by=('median', 'total_sum'), ascending=False)\n",
    "sales_pivot.columns = ['Суммарные продажи', 'Средние продажи', 'Медианные продажи']\n",
    "sales_pivot"
   ]
  },
  {
   "cell_type": "markdown",
   "metadata": {},
   "source": [
    "Лидерами по глобальным медианным и средним продажам игр являются платформы XOne и PS3"
   ]
  },
  {
   "cell_type": "markdown",
   "metadata": {},
   "source": [
    "Построим диаграмму рассеяния для лидирующей платформы - XOne. Посмотрим на зависимость продаж от отзывов критиков и отзывов пользователей"
   ]
  },
  {
   "cell_type": "code",
   "execution_count": 39,
   "metadata": {},
   "outputs": [],
   "source": [
    "xone_df = df.query('platform == \"XOne\" and user_score > 0 and critic_score > 0')"
   ]
  },
  {
   "cell_type": "code",
   "execution_count": 40,
   "metadata": {},
   "outputs": [
    {
     "name": "stdout",
     "output_type": "stream",
     "text": [
      "Корреляция между рейтингом пользователей и глобальными продажами: -0.094\n"
     ]
    },
    {
     "data": {
      "image/png": "[encoded data removed]",
      "text/plain": [
       "<Figure size 1080x720 with 1 Axes>"
      ]
     },
     "metadata": {},
     "output_type": "display_data"
    }
   ],
   "source": [
    "ax = sns.regplot(data=xone_df, x='user_score', y='total_sum')\n",
    "ax.set(xlabel='Рейтинг пользователей', ylabel='Глобальные продажи, млн. копий', title='Диаграмма рассеяния продаж игр для XOne')\n",
    "user_corr = xone_df[['user_score', 'total_sum']].corr()['user_score']['total_sum']\n",
    "print(f'Корреляция между рейтингом пользователей и глобальными продажами: {user_corr:.2}')\n",
    "plt.show()"
   ]
  },
  {
   "cell_type": "code",
   "execution_count": 41,
   "metadata": {},
   "outputs": [
    {
     "name": "stdout",
     "output_type": "stream",
     "text": [
      "Корреляция между рейтингом критиков и глобальными продажами: 0.41\n"
     ]
    },
    {
     "data": {
      "image/png": "[encoded data removed]",
      "text/plain": [
       "<Figure size 1080x720 with 1 Axes>"
      ]
     },
     "metadata": {},
     "output_type": "display_data"
    }
   ],
   "source": [
    "ax = sns.regplot(data=xone_df, x='critic_score', y='total_sum')\n",
    "ax.set(xlabel='Рейтинг критиков', ylabel='Глобальные продажи, млн. копий', title='Диаграмма рассеяния продаж игр для XOne')\n",
    "crit_corr = xone_df[['critic_score', 'total_sum']].corr()['critic_score']['total_sum']\n",
    "print(f'Корреляция между рейтингом критиков и глобальными продажами: {crit_corr:.2}')\n",
    "ax.set_ylim(bottom=-0.1)\n",
    "plt.show()"
   ]
  },
  {
   "cell_type": "markdown",
   "metadata": {},
   "source": [
    "Зависимость продаж от рейтинга пользователей имеет очень слабую отрицательную корреляцию.  \n",
    "Зависимость продаж от рейтинга критиков имеет среднюю положительную корреляцию.  \n",
    "Возможно, чем выше рейтинги критиков, тем больше игр покупают пользователи. Стоит учитывать факт, что не всегда пользователи склонны оставлять положительные или высокие оценки играм, которые им понравились, и, можно предположить, что пользователь скорее оставит низкую оценку игре, если он за неё заплатил и она ему не понравилась.\n",
    "Ситуация на других платформах аналогична платформе XOne, и корреляция между отзывами критиков и продажами выше, чем между отзывами пользователей и продажами."
   ]
  },
  {
   "cell_type": "markdown",
   "metadata": {},
   "source": [
    "Посмотрим на суммарные, средние и медианные продажи по платформам"
   ]
  },
  {
   "cell_type": "code",
   "execution_count": 42,
   "metadata": {},
   "outputs": [
    {
     "data": {
      "text/html": [
       "<div>\n",
       "<style scoped>\n",
       "    .dataframe tbody tr th:only-of-type {\n",
       "        vertical-align: middle;\n",
       "    }\n",
       "\n",
       "    .dataframe tbody tr th {\n",
       "        vertical-align: top;\n",
       "    }\n",
       "\n",
       "    .dataframe thead th {\n",
       "        text-align: right;\n",
       "    }\n",
       "</style>\n",
       "<table border=\"1\" class=\"dataframe\">\n",
       "  <thead>\n",
       "    <tr style=\"text-align: right;\">\n",
       "      <th></th>\n",
       "      <th>Количество игр</th>\n",
       "      <th>Суммарные продажи</th>\n",
       "      <th>Средние продажи</th>\n",
       "      <th>Медианные продажи</th>\n",
       "    </tr>\n",
       "    <tr>\n",
       "      <th>genre</th>\n",
       "      <th></th>\n",
       "      <th></th>\n",
       "      <th></th>\n",
       "      <th></th>\n",
       "    </tr>\n",
       "  </thead>\n",
       "  <tbody>\n",
       "    <tr>\n",
       "      <td>Shooter</td>\n",
       "      <td>176</td>\n",
       "      <td>226.000000</td>\n",
       "      <td>1.284180</td>\n",
       "      <td>0.484863</td>\n",
       "    </tr>\n",
       "    <tr>\n",
       "      <td>Sports</td>\n",
       "      <td>197</td>\n",
       "      <td>137.875000</td>\n",
       "      <td>0.699707</td>\n",
       "      <td>0.229980</td>\n",
       "    </tr>\n",
       "    <tr>\n",
       "      <td>Platform</td>\n",
       "      <td>58</td>\n",
       "      <td>34.375000</td>\n",
       "      <td>0.592773</td>\n",
       "      <td>0.160034</td>\n",
       "    </tr>\n",
       "    <tr>\n",
       "      <td>Role-Playing</td>\n",
       "      <td>316</td>\n",
       "      <td>167.125000</td>\n",
       "      <td>0.528809</td>\n",
       "      <td>0.150024</td>\n",
       "    </tr>\n",
       "    <tr>\n",
       "      <td>Fighting</td>\n",
       "      <td>84</td>\n",
       "      <td>32.875000</td>\n",
       "      <td>0.391602</td>\n",
       "      <td>0.130005</td>\n",
       "    </tr>\n",
       "    <tr>\n",
       "      <td>Racing</td>\n",
       "      <td>90</td>\n",
       "      <td>37.218750</td>\n",
       "      <td>0.413330</td>\n",
       "      <td>0.119995</td>\n",
       "    </tr>\n",
       "    <tr>\n",
       "      <td>Simulation</td>\n",
       "      <td>67</td>\n",
       "      <td>32.906250</td>\n",
       "      <td>0.490967</td>\n",
       "      <td>0.110046</td>\n",
       "    </tr>\n",
       "    <tr>\n",
       "      <td>Action</td>\n",
       "      <td>767</td>\n",
       "      <td>324.500000</td>\n",
       "      <td>0.423096</td>\n",
       "      <td>0.109985</td>\n",
       "    </tr>\n",
       "    <tr>\n",
       "      <td>Misc</td>\n",
       "      <td>129</td>\n",
       "      <td>39.000000</td>\n",
       "      <td>0.302246</td>\n",
       "      <td>0.090027</td>\n",
       "    </tr>\n",
       "    <tr>\n",
       "      <td>Strategy</td>\n",
       "      <td>61</td>\n",
       "      <td>10.226562</td>\n",
       "      <td>0.167725</td>\n",
       "      <td>0.070007</td>\n",
       "    </tr>\n",
       "    <tr>\n",
       "      <td>Puzzle</td>\n",
       "      <td>19</td>\n",
       "      <td>2.810547</td>\n",
       "      <td>0.147827</td>\n",
       "      <td>0.049988</td>\n",
       "    </tr>\n",
       "    <tr>\n",
       "      <td>Adventure</td>\n",
       "      <td>226</td>\n",
       "      <td>24.062500</td>\n",
       "      <td>0.106506</td>\n",
       "      <td>0.029999</td>\n",
       "    </tr>\n",
       "  </tbody>\n",
       "</table>\n",
       "</div>"
      ],
      "text/plain": [
       "              Количество игр  Суммарные продажи  Средние продажи  \\\n",
       "genre                                                              \n",
       "Shooter                  176         226.000000         1.284180   \n",
       "Sports                   197         137.875000         0.699707   \n",
       "Platform                  58          34.375000         0.592773   \n",
       "Role-Playing             316         167.125000         0.528809   \n",
       "Fighting                  84          32.875000         0.391602   \n",
       "Racing                    90          37.218750         0.413330   \n",
       "Simulation                67          32.906250         0.490967   \n",
       "Action                   767         324.500000         0.423096   \n",
       "Misc                     129          39.000000         0.302246   \n",
       "Strategy                  61          10.226562         0.167725   \n",
       "Puzzle                    19           2.810547         0.147827   \n",
       "Adventure                226          24.062500         0.106506   \n",
       "\n",
       "              Медианные продажи  \n",
       "genre                            \n",
       "Shooter                0.484863  \n",
       "Sports                 0.229980  \n",
       "Platform               0.160034  \n",
       "Role-Playing           0.150024  \n",
       "Fighting               0.130005  \n",
       "Racing                 0.119995  \n",
       "Simulation             0.110046  \n",
       "Action                 0.109985  \n",
       "Misc                   0.090027  \n",
       "Strategy               0.070007  \n",
       "Puzzle                 0.049988  \n",
       "Adventure              0.029999  "
      ]
     },
     "execution_count": 42,
     "metadata": {},
     "output_type": "execute_result"
    }
   ],
   "source": [
    "genres_pivot = pd.pivot_table(df, index='genre', values='total_sum', aggfunc=['count', 'sum', 'mean', 'median']).sort_values(by=('median', 'total_sum'), ascending=False)\n",
    "genres_pivot.columns = ['Количество игр', 'Суммарные продажи', 'Средние продажи', 'Медианные продажи']\n",
    "genres_pivot"
   ]
  },
  {
   "cell_type": "code",
   "execution_count": 43,
   "metadata": {},
   "outputs": [
    {
     "data": {
      "image/png": "[encoded data removed]",
      "text/plain": [
       "<Figure size 1080x720 with 1 Axes>"
      ]
     },
     "metadata": {},
     "output_type": "display_data"
    }
   ],
   "source": [
    "genres_pivot = genres_pivot.reset_index()\n",
    "ax = sns.barplot(x=genres_pivot['genre'], y=genres_pivot['Медианные продажи'], data=genres_pivot.reset_index())\n",
    "ax.set(xlabel='Жанр', ylabel='Медианные продажи, млн. копий', title='Медианные продажи игр по жанрам')\n",
    "plt.show()"
   ]
  },
  {
   "cell_type": "code",
   "execution_count": 44,
   "metadata": {},
   "outputs": [
    {
     "data": {
      "image/png": "[encoded data removed]",
      "text/plain": [
       "<Figure size 1080x720 with 1 Axes>"
      ]
     },
     "metadata": {},
     "output_type": "display_data"
    }
   ],
   "source": [
    "genres_pivot = genres_pivot.sort_values(by=('Средние продажи'), ascending=False)\n",
    "ax = sns.barplot(x=genres_pivot['genre'], y=genres_pivot['Средние продажи'], data=genres_pivot)\n",
    "ax.set(xlabel='Жанр', ylabel='Средние продажи, млн. копий', title='Средние продажи игр по жанрам')\n",
    "plt.show()"
   ]
  },
  {
   "cell_type": "markdown",
   "metadata": {},
   "source": [
    "Первые 4 лидера по медианным и средним продажам одинаковые, как и последние 3 отстающих по продажам жанров.  \n",
    "На первом месте жанр Shooter, а на последнем - Adventure  \n",
    "Некоторые жанры по средним продажам поменяли свои позиции относительно медианных продаж, возможно, какие-то игры были очень успешными."
   ]
  },
  {
   "cell_type": "markdown",
   "metadata": {},
   "source": [
    "При этом, по количеству выпущенных игр лидируют жанры Action, Role-Playing, Adventure. На последнем месте жанр Puzzle."
   ]
  },
  {
   "cell_type": "markdown",
   "metadata": {},
   "source": [
    "### Выводы"
   ]
  },
  {
   "cell_type": "markdown",
   "metadata": {},
   "source": [
    "Выводы по результатам исследовательского анализа данных:\n",
    "* Не все платформы за предыдущий период времени представляют интерес для анализа, поскольку для большинства платформ период существования составляет около 5-10 лет\n",
    "* Платформа PC не относится к таким, поскольку помимо игр, у неё есть другое предназначение - работа, учеба.\n",
    "* Между продажами игр и отзывами пользователей существует очень слабая отрицательная корреляция. Возможные причины - пользователи охотнее оставляют негативные оценки, а не положительные.\n",
    "* Между продажами игр и отзывами критиков существует средняя положительная корреляция.\n",
    "* В среднем, лучше всего продаются игры в жанре Shooter, а хуже всего - в жанре Adventure\n",
    "* По количеству выпущенных игр лидирует жанр Action, На последнем месте жанр Puzzle."
   ]
  },
  {
   "cell_type": "markdown",
   "metadata": {},
   "source": [
    "## 4. Составление портретов пользователей по регионам"
   ]
  },
  {
   "cell_type": "markdown",
   "metadata": {},
   "source": [
    "Посчитаем какие платформы были самыми популярными для каждого из регионов NA, EU, JP"
   ]
  },
  {
   "cell_type": "code",
   "execution_count": 45,
   "metadata": {},
   "outputs": [
    {
     "data": {
      "text/html": [
       "<div>\n",
       "<style scoped>\n",
       "    .dataframe tbody tr th:only-of-type {\n",
       "        vertical-align: middle;\n",
       "    }\n",
       "\n",
       "    .dataframe tbody tr th {\n",
       "        vertical-align: top;\n",
       "    }\n",
       "\n",
       "    .dataframe thead th {\n",
       "        text-align: right;\n",
       "    }\n",
       "</style>\n",
       "<table border=\"1\" class=\"dataframe\">\n",
       "  <thead>\n",
       "    <tr style=\"text-align: right;\">\n",
       "      <th></th>\n",
       "      <th>na_sales</th>\n",
       "    </tr>\n",
       "    <tr>\n",
       "      <th>platform</th>\n",
       "      <th></th>\n",
       "    </tr>\n",
       "  </thead>\n",
       "  <tbody>\n",
       "    <tr>\n",
       "      <td>PS4</td>\n",
       "      <td>108.743294</td>\n",
       "    </tr>\n",
       "    <tr>\n",
       "      <td>PS3</td>\n",
       "      <td>103.379135</td>\n",
       "    </tr>\n",
       "    <tr>\n",
       "      <td>XOne</td>\n",
       "      <td>93.119469</td>\n",
       "    </tr>\n",
       "    <tr>\n",
       "      <td>3DS</td>\n",
       "      <td>55.314072</td>\n",
       "    </tr>\n",
       "    <tr>\n",
       "      <td>PC</td>\n",
       "      <td>19.179398</td>\n",
       "    </tr>\n",
       "  </tbody>\n",
       "</table>\n",
       "</div>"
      ],
      "text/plain": [
       "            na_sales\n",
       "platform            \n",
       "PS4       108.743294\n",
       "PS3       103.379135\n",
       "XOne       93.119469\n",
       "3DS        55.314072\n",
       "PC         19.179398"
      ]
     },
     "execution_count": 45,
     "metadata": {},
     "output_type": "execute_result"
    }
   ],
   "source": [
    "na_top5 = pd.pivot_table(df, index='platform', values='na_sales', aggfunc='sum')\n",
    "na_top5.sort_values(by='na_sales', ascending=False)[:5]"
   ]
  },
  {
   "cell_type": "code",
   "execution_count": 46,
   "metadata": {},
   "outputs": [
    {
     "data": {
      "text/html": [
       "<div>\n",
       "<style scoped>\n",
       "    .dataframe tbody tr th:only-of-type {\n",
       "        vertical-align: middle;\n",
       "    }\n",
       "\n",
       "    .dataframe tbody tr th {\n",
       "        vertical-align: top;\n",
       "    }\n",
       "\n",
       "    .dataframe thead th {\n",
       "        text-align: right;\n",
       "    }\n",
       "</style>\n",
       "<table border=\"1\" class=\"dataframe\">\n",
       "  <thead>\n",
       "    <tr style=\"text-align: right;\">\n",
       "      <th></th>\n",
       "      <th>eu_sales</th>\n",
       "    </tr>\n",
       "    <tr>\n",
       "      <th>platform</th>\n",
       "      <th></th>\n",
       "    </tr>\n",
       "  </thead>\n",
       "  <tbody>\n",
       "    <tr>\n",
       "      <td>PS4</td>\n",
       "      <td>141.088257</td>\n",
       "    </tr>\n",
       "    <tr>\n",
       "      <td>PS3</td>\n",
       "      <td>106.862701</td>\n",
       "    </tr>\n",
       "    <tr>\n",
       "      <td>XOne</td>\n",
       "      <td>51.589081</td>\n",
       "    </tr>\n",
       "    <tr>\n",
       "      <td>3DS</td>\n",
       "      <td>42.641350</td>\n",
       "    </tr>\n",
       "    <tr>\n",
       "      <td>PC</td>\n",
       "      <td>38.010841</td>\n",
       "    </tr>\n",
       "  </tbody>\n",
       "</table>\n",
       "</div>"
      ],
      "text/plain": [
       "            eu_sales\n",
       "platform            \n",
       "PS4       141.088257\n",
       "PS3       106.862701\n",
       "XOne       51.589081\n",
       "3DS        42.641350\n",
       "PC         38.010841"
      ]
     },
     "execution_count": 46,
     "metadata": {},
     "output_type": "execute_result"
    }
   ],
   "source": [
    "eu_top5 = pd.pivot_table(df, index='platform', values='eu_sales', aggfunc='sum')\n",
    "eu_top5.sort_values(by='eu_sales', ascending=False)[:5]"
   ]
  },
  {
   "cell_type": "code",
   "execution_count": 47,
   "metadata": {},
   "outputs": [
    {
     "data": {
      "text/html": [
       "<div>\n",
       "<style scoped>\n",
       "    .dataframe tbody tr th:only-of-type {\n",
       "        vertical-align: middle;\n",
       "    }\n",
       "\n",
       "    .dataframe tbody tr th {\n",
       "        vertical-align: top;\n",
       "    }\n",
       "\n",
       "    .dataframe thead th {\n",
       "        text-align: right;\n",
       "    }\n",
       "</style>\n",
       "<table border=\"1\" class=\"dataframe\">\n",
       "  <thead>\n",
       "    <tr style=\"text-align: right;\">\n",
       "      <th></th>\n",
       "      <th>jp_sales</th>\n",
       "    </tr>\n",
       "    <tr>\n",
       "      <th>platform</th>\n",
       "      <th></th>\n",
       "    </tr>\n",
       "  </thead>\n",
       "  <tbody>\n",
       "    <tr>\n",
       "      <td>3DS</td>\n",
       "      <td>87.789742</td>\n",
       "    </tr>\n",
       "    <tr>\n",
       "      <td>PS3</td>\n",
       "      <td>35.289169</td>\n",
       "    </tr>\n",
       "    <tr>\n",
       "      <td>PSV</td>\n",
       "      <td>21.040649</td>\n",
       "    </tr>\n",
       "    <tr>\n",
       "      <td>PS4</td>\n",
       "      <td>15.960663</td>\n",
       "    </tr>\n",
       "    <tr>\n",
       "      <td>XOne</td>\n",
       "      <td>0.340050</td>\n",
       "    </tr>\n",
       "  </tbody>\n",
       "</table>\n",
       "</div>"
      ],
      "text/plain": [
       "           jp_sales\n",
       "platform           \n",
       "3DS       87.789742\n",
       "PS3       35.289169\n",
       "PSV       21.040649\n",
       "PS4       15.960663\n",
       "XOne       0.340050"
      ]
     },
     "execution_count": 47,
     "metadata": {},
     "output_type": "execute_result"
    }
   ],
   "source": [
    "jp_top5 = pd.pivot_table(df, index='platform', values='jp_sales', aggfunc='sum')\n",
    "jp_top5.sort_values(by='jp_sales', ascending=False)[:5]"
   ]
  },
  {
   "cell_type": "markdown",
   "metadata": {},
   "source": [
    "Видим, что топ-5 платформ для Европы и Северной Америки идентичен - первое место занимает платформа PS4, а последнее - PC. А вот на японском рынке ситуация иная - лидирует платформа 3DS, на последнем месте платформа XOne."
   ]
  },
  {
   "cell_type": "markdown",
   "metadata": {},
   "source": [
    "Посмотрим на самые популярные жанры в каждом из регионов"
   ]
  },
  {
   "cell_type": "code",
   "execution_count": 48,
   "metadata": {},
   "outputs": [
    {
     "data": {
      "image/png": "[encoded data removed]",
      "text/plain": [
       "<Figure size 1080x720 with 1 Axes>"
      ]
     },
     "metadata": {},
     "output_type": "display_data"
    }
   ],
   "source": [
    "na_top5_g = pd.pivot_table(df, index='genre', values='na_sales', aggfunc='sum')\n",
    "na_top5_g = na_top5_g.sort_values(by='na_sales', ascending=False)[:5]\n",
    "ax = sns.barplot(data=na_top5_g, x=na_top5_g.index, y='na_sales')\n",
    "ax.set(xlabel='Жанр', ylabel='Средние продажи, млн. копий', title='Самые популярные жанры в регионе NA')\n",
    "plt.show()"
   ]
  },
  {
   "cell_type": "code",
   "execution_count": 49,
   "metadata": {},
   "outputs": [
    {
     "data": {
      "image/png": "[encoded data removed]",
      "text/plain": [
       "<Figure size 1080x720 with 1 Axes>"
      ]
     },
     "metadata": {},
     "output_type": "display_data"
    }
   ],
   "source": [
    "eu_top5_g = pd.pivot_table(df, index='genre', values='eu_sales', aggfunc='sum')\n",
    "eu_top5_g = eu_top5_g.sort_values(by='eu_sales', ascending=False)[:5]\n",
    "ax = sns.barplot(data=eu_top5_g, x=eu_top5_g.index, y='eu_sales')\n",
    "ax.set(xlabel='Жанр', ylabel='Средние продажи, млн. копий', title='Самые популярные жанры в регионе EU')\n",
    "plt.show()"
   ]
  },
  {
   "cell_type": "code",
   "execution_count": 50,
   "metadata": {},
   "outputs": [
    {
     "data": {
      "image/png": "[encoded data removed]",
      "text/plain": [
       "<Figure size 1080x720 with 1 Axes>"
      ]
     },
     "metadata": {},
     "output_type": "display_data"
    }
   ],
   "source": [
    "jp_top5_g = pd.pivot_table(df, index='genre', values='jp_sales', aggfunc='sum')\n",
    "jp_top5_g = jp_top5_g.sort_values(by='jp_sales', ascending=False)[:5]\n",
    "ax = sns.barplot(data=jp_top5_g, x=jp_top5_g .index, y='jp_sales')\n",
    "ax.set(xlabel='Жанр', ylabel='Средние продажи, млн. копий', title='Самые популярные жанры в регионе JP')\n",
    "plt.show()"
   ]
  },
  {
   "cell_type": "markdown",
   "metadata": {},
   "source": [
    "В регионах EU и NA первые 4 места топ-5 занимают одни и те же жанры. В регионе JP отличи начинаются уже со второй позиции"
   ]
  },
  {
   "cell_type": "markdown",
   "metadata": {},
   "source": [
    "Посмотрим на влияние рейтинга ESRB на продажи игр в каждом из регионов"
   ]
  },
  {
   "cell_type": "markdown",
   "metadata": {},
   "source": [
    "Сначала сумму продаж"
   ]
  },
  {
   "cell_type": "code",
   "execution_count": 51,
   "metadata": {},
   "outputs": [],
   "source": [
    "rating_df = df.query('rating != 0')"
   ]
  },
  {
   "cell_type": "code",
   "execution_count": 52,
   "metadata": {},
   "outputs": [
    {
     "data": {
      "text/html": [
       "<div>\n",
       "<style scoped>\n",
       "    .dataframe tbody tr th:only-of-type {\n",
       "        vertical-align: middle;\n",
       "    }\n",
       "\n",
       "    .dataframe tbody tr th {\n",
       "        vertical-align: top;\n",
       "    }\n",
       "\n",
       "    .dataframe thead th {\n",
       "        text-align: right;\n",
       "    }\n",
       "</style>\n",
       "<table border=\"1\" class=\"dataframe\">\n",
       "  <thead>\n",
       "    <tr style=\"text-align: right;\">\n",
       "      <th>rating</th>\n",
       "      <th>E</th>\n",
       "      <th>E10+</th>\n",
       "      <th>M</th>\n",
       "      <th>T</th>\n",
       "    </tr>\n",
       "  </thead>\n",
       "  <tbody>\n",
       "    <tr>\n",
       "      <td>eu_sales</td>\n",
       "      <td>84.508293</td>\n",
       "      <td>30.640396</td>\n",
       "      <td>155.073212</td>\n",
       "      <td>44.190781</td>\n",
       "    </tr>\n",
       "    <tr>\n",
       "      <td>jp_sales</td>\n",
       "      <td>20.091499</td>\n",
       "      <td>5.100357</td>\n",
       "      <td>19.829758</td>\n",
       "      <td>25.009514</td>\n",
       "    </tr>\n",
       "    <tr>\n",
       "      <td>na_sales</td>\n",
       "      <td>71.279175</td>\n",
       "      <td>35.991234</td>\n",
       "      <td>155.239540</td>\n",
       "      <td>49.730545</td>\n",
       "    </tr>\n",
       "  </tbody>\n",
       "</table>\n",
       "</div>"
      ],
      "text/plain": [
       "rating            E       E10+           M          T\n",
       "eu_sales  84.508293  30.640396  155.073212  44.190781\n",
       "jp_sales  20.091499   5.100357   19.829758  25.009514\n",
       "na_sales  71.279175  35.991234  155.239540  49.730545"
      ]
     },
     "execution_count": 52,
     "metadata": {},
     "output_type": "execute_result"
    }
   ],
   "source": [
    "pd.pivot_table(rating_df, index='rating', values=['na_sales', 'eu_sales', 'jp_sales'], aggfunc='sum').T"
   ]
  },
  {
   "cell_type": "markdown",
   "metadata": {},
   "source": [
    "Средние продажи"
   ]
  },
  {
   "cell_type": "code",
   "execution_count": 53,
   "metadata": {},
   "outputs": [
    {
     "data": {
      "text/html": [
       "<div>\n",
       "<style scoped>\n",
       "    .dataframe tbody tr th:only-of-type {\n",
       "        vertical-align: middle;\n",
       "    }\n",
       "\n",
       "    .dataframe tbody tr th {\n",
       "        vertical-align: top;\n",
       "    }\n",
       "\n",
       "    .dataframe thead th {\n",
       "        text-align: right;\n",
       "    }\n",
       "</style>\n",
       "<table border=\"1\" class=\"dataframe\">\n",
       "  <thead>\n",
       "    <tr style=\"text-align: right;\">\n",
       "      <th>rating</th>\n",
       "      <th>E</th>\n",
       "      <th>E10+</th>\n",
       "      <th>M</th>\n",
       "      <th>T</th>\n",
       "    </tr>\n",
       "  </thead>\n",
       "  <tbody>\n",
       "    <tr>\n",
       "      <td>eu_sales</td>\n",
       "      <td>0.309554</td>\n",
       "      <td>0.150938</td>\n",
       "      <td>0.402788</td>\n",
       "      <td>0.127719</td>\n",
       "    </tr>\n",
       "    <tr>\n",
       "      <td>jp_sales</td>\n",
       "      <td>0.073595</td>\n",
       "      <td>0.025125</td>\n",
       "      <td>0.051506</td>\n",
       "      <td>0.072282</td>\n",
       "    </tr>\n",
       "    <tr>\n",
       "      <td>na_sales</td>\n",
       "      <td>0.261096</td>\n",
       "      <td>0.177297</td>\n",
       "      <td>0.403220</td>\n",
       "      <td>0.143730</td>\n",
       "    </tr>\n",
       "  </tbody>\n",
       "</table>\n",
       "</div>"
      ],
      "text/plain": [
       "rating           E      E10+         M         T\n",
       "eu_sales  0.309554  0.150938  0.402788  0.127719\n",
       "jp_sales  0.073595  0.025125  0.051506  0.072282\n",
       "na_sales  0.261096  0.177297  0.403220  0.143730"
      ]
     },
     "execution_count": 53,
     "metadata": {},
     "output_type": "execute_result"
    }
   ],
   "source": [
    "pd.pivot_table(rating_df, index='rating', values=['na_sales', 'eu_sales', 'jp_sales'], aggfunc='mean').T"
   ]
  },
  {
   "cell_type": "markdown",
   "metadata": {},
   "source": [
    "И медианные продажи"
   ]
  },
  {
   "cell_type": "code",
   "execution_count": 54,
   "metadata": {},
   "outputs": [
    {
     "data": {
      "text/html": [
       "<div>\n",
       "<style scoped>\n",
       "    .dataframe tbody tr th:only-of-type {\n",
       "        vertical-align: middle;\n",
       "    }\n",
       "\n",
       "    .dataframe tbody tr th {\n",
       "        vertical-align: top;\n",
       "    }\n",
       "\n",
       "    .dataframe thead th {\n",
       "        text-align: right;\n",
       "    }\n",
       "</style>\n",
       "<table border=\"1\" class=\"dataframe\">\n",
       "  <thead>\n",
       "    <tr style=\"text-align: right;\">\n",
       "      <th>rating</th>\n",
       "      <th>E</th>\n",
       "      <th>E10+</th>\n",
       "      <th>M</th>\n",
       "      <th>T</th>\n",
       "    </tr>\n",
       "  </thead>\n",
       "  <tbody>\n",
       "    <tr>\n",
       "      <td>eu_sales</td>\n",
       "      <td>0.059998</td>\n",
       "      <td>0.090027</td>\n",
       "      <td>0.140015</td>\n",
       "      <td>0.040009</td>\n",
       "    </tr>\n",
       "    <tr>\n",
       "      <td>jp_sales</td>\n",
       "      <td>0.000000</td>\n",
       "      <td>0.000000</td>\n",
       "      <td>0.000000</td>\n",
       "      <td>0.020004</td>\n",
       "    </tr>\n",
       "    <tr>\n",
       "      <td>na_sales</td>\n",
       "      <td>0.049988</td>\n",
       "      <td>0.109985</td>\n",
       "      <td>0.140015</td>\n",
       "      <td>0.040009</td>\n",
       "    </tr>\n",
       "  </tbody>\n",
       "</table>\n",
       "</div>"
      ],
      "text/plain": [
       "rating           E      E10+         M         T\n",
       "eu_sales  0.059998  0.090027  0.140015  0.040009\n",
       "jp_sales  0.000000  0.000000  0.000000  0.020004\n",
       "na_sales  0.049988  0.109985  0.140015  0.040009"
      ]
     },
     "execution_count": 54,
     "metadata": {},
     "output_type": "execute_result"
    }
   ],
   "source": [
    "pd.pivot_table(rating_df, index='rating', values=['na_sales', 'eu_sales', 'jp_sales'], aggfunc='median').T"
   ]
  },
  {
   "cell_type": "markdown",
   "metadata": {},
   "source": [
    "Видим, что вне зависимости от рейтинга, нет большой разницы между суммой, медианой и средними значениями продаж для регионов Северная Америка и Европа. В регионе Япония лучшие продажи у игр с рейтингом T. По остальным же трем рейтингам не менее половины игр не продавались совсем."
   ]
  },
  {
   "cell_type": "markdown",
   "metadata": {},
   "source": [
    "### Выводы"
   ]
  },
  {
   "cell_type": "markdown",
   "metadata": {},
   "source": [
    "Общие выводы по регионам:\n",
    "* Регионы NA и EU в целом очень схожи между собой, по предпочитаемой платформе, жанру игр, а так же по продажам игр в зависимости рейтинга.\n",
    "* Регион JP очень сильно отличается от двух других по всем параметрам - в топ 5 платформ нет PC, не менее половины игр с рейтингом E, E10+, M не имеют продаж в этом регионе"
   ]
  },
  {
   "cell_type": "markdown",
   "metadata": {},
   "source": [
    "## 5. Проверка гипотез"
   ]
  },
  {
   "cell_type": "markdown",
   "metadata": {},
   "source": [
    "Посмотрим на средние пользовательские рейтинги платформ XOne и PC.\n",
    "Проверим гипотезу о том, что средние пользовательские рейтинги платформ XOne и PC одинаковые.  \n",
    "Для проверки гипотез выберем стандартный критический уровень статистической значимости равный 0.05. Поскольку выборки независимые, используем тест для независимых выборок.\n",
    "\n",
    "**$H_0$**: Cредние пользовательские рейтинги платформ XOne и PC не различаются\n",
    "\n",
    "**$H_1$**: Cредние пользовательские рейтинги платформ XOne и PC различается"
   ]
  },
  {
   "cell_type": "code",
   "execution_count": 55,
   "metadata": {},
   "outputs": [
    {
     "name": "stdout",
     "output_type": "stream",
     "text": [
      "p-значение: 0.5786590845638211\n",
      "Не получилось отвергнуть нулевую гипотезу\n"
     ]
    }
   ],
   "source": [
    "df = df.query('user_score > 0')\n",
    "alpha = 0.05\n",
    "results = st.ttest_ind(df[df['platform'] == 'XOne']['user_score'], df[df['platform'] == 'PC']['user_score'], equal_var=False)\n",
    "print('p-значение:', results.pvalue)\n",
    "\n",
    "if results.pvalue < alpha:\n",
    "    print('Отвергаем нулевую гипотезу')\n",
    "else:\n",
    "    print('Не получилось отвергнуть нулевую гипотезу') "
   ]
  },
  {
   "cell_type": "code",
   "execution_count": 56,
   "metadata": {},
   "outputs": [
    {
     "name": "stdout",
     "output_type": "stream",
     "text": [
      "Средний пользовательский рейтинг игр для платформы XOne: 6.5234375\n",
      "Средний пользовательский рейтинг игр для платформы PC: 6.44140625\n"
     ]
    }
   ],
   "source": [
    "mean_xone = df[df['platform'] == 'XOne']['user_score'].mean()\n",
    "mean_pc = df[df['platform'] == 'PC']['user_score'].mean()\n",
    "print(f'Средний пользовательский рейтинг игр для платформы XOne: {mean_xone}')\n",
    "print(f'Средний пользовательский рейтинг игр для платформы PC: {mean_pc}')"
   ]
  },
  {
   "cell_type": "markdown",
   "metadata": {},
   "source": [
    "Нам не удалось отвергнуть нулевую гипотезу. Видим, что средние значения рейтинга для платформ XOne и PC различаются не очень сильно и у нас нет оснований для принятия альтернативной гипотезы."
   ]
  },
  {
   "cell_type": "markdown",
   "metadata": {},
   "source": [
    "Посмотрим на средние пользовательские рейтинги игр в жанрах Action и Sports. Проверим гипотезу о том, что средние пользовательские рейтинги игр в жанрах Action и Sports различаются.\n",
    "Уровень статистической значимости и тип используемого теста оставим без изменений.\n",
    "\n",
    "**$H_0$**: Cредние пользовательские рейтинги жанров Action и Sports не различаются\n",
    "\n",
    "**$H_1$**: Cредние пользовательские рейтинги жанров Action и Sports различаются"
   ]
  },
  {
   "cell_type": "code",
   "execution_count": 57,
   "metadata": {},
   "outputs": [
    {
     "name": "stdout",
     "output_type": "stream",
     "text": [
      "p-значение: 4.40799318278595e-15\n",
      "Отвергаем нулевую гипотезу\n"
     ]
    }
   ],
   "source": [
    "alpha = 0.05\n",
    "results = st.ttest_ind(df[df['genre'] == 'Action']['user_score'], df[df['genre'] == 'Sports']['user_score'], equal_var=False)\n",
    "print('p-значение:', results.pvalue)\n",
    "\n",
    "if results.pvalue < alpha:\n",
    "    print('Отвергаем нулевую гипотезу')\n",
    "else:\n",
    "    print('Не получилось отвергнуть нулевую гипотезу') "
   ]
  },
  {
   "cell_type": "code",
   "execution_count": 58,
   "metadata": {},
   "outputs": [
    {
     "name": "stdout",
     "output_type": "stream",
     "text": [
      "Средний пользовательский рейтинг игр для жанра Action: 6.8828125\n",
      "Средний пользовательский рейтинг игр для жанра Sports: 5.53515625\n"
     ]
    }
   ],
   "source": [
    "mean_action = df[df['genre'] == 'Action']['user_score'].mean()\n",
    "mean_sports = df[df['genre'] == 'Sports']['user_score'].mean()\n",
    "print(f'Средний пользовательский рейтинг игр для жанра Action: {mean_action}')\n",
    "print(f'Средний пользовательский рейтинг игр для жанра Sports: {mean_sports}')"
   ]
  },
  {
   "cell_type": "markdown",
   "metadata": {},
   "source": [
    "Мы отвергли нулевую гипотезу. Видим, что средние значения рейтинга для игр в жанрах Action и Sports различаются более чем на 1, поэтому у нас есть основания для принятия альтернативной гипотезы."
   ]
  },
  {
   "cell_type": "markdown",
   "metadata": {},
   "source": [
    "## 6. Общий вывод"
   ]
  },
  {
   "cell_type": "markdown",
   "metadata": {},
   "source": [
    "Выводы по обработке данных:\n",
    "* Обнаружены неверные типы данных, требующие выделение большего объема памяти\n",
    "* Возможно, при формировании датасета были проблемы с парсингом, так как у части игр не указан год выпуска, либо он указан в названии\n",
    "* В трех колонках пропущенно более 40% данных, нужно выяснить причину и обсудить решение данной проблемы.\n",
    "* Символы в названиях колонок имеют разный регистр, этого следует избегать при формировании датасета.\n",
    " \n",
    " \n",
    "Выводы по анализу данных:\n",
    "* Для большинства платформ, кроме платформы PC, период существования составляет около 5-10 лет\n",
    "* Между продажами игр и отзывами пользователей существует очень слабая отрицательная корреляция. Возможные причины - пользователи охотнее оставляют негативные оценки, а не положительные.\n",
    "* Между продажами игр и отзывами критиков существует средняя положительная корреляция. Вероятно, после прочтения отзывов критиков, пользователи принимают решение о приобретении той или иной игры, но это не единственный критерий.\n",
    "* В среднем, лучше всего продаются игры в жанре Shooter, а хуже всего - в жанре Adventure\n",
    "* По количеству выпущенных игр лидирует жанр Action, На последнем месте жанр Puzzle.\n",
    "* Регионы NA и EU очень схожи между собой по предпочитаемой платформе, жанру игр, а так же по продажам игр в зависимости рейтинга.\n",
    "* Регион JP очень сильно отличается от EU и NA по всем параметрам - в топ 5 платформ в регионе JP нет PC, не менее половины игр с рейтингом E, E10+, M не имеют продаж в этом регионе.\n",
    "* Мы приняли нулевую гипотезу о том, что средние значения рейтинга для платформ XOne и PC не различаются и сравнили средние значения рейтинга для этих платформ.\n",
    "* Мы приняли альтернативную гипотезу о том, что средние пользовательские рейтинги жанров Action и Sports различаются и сравнили средние значения рейтинга для игр в этих жанрах.\n",
    "\n",
    "Итоги:\n",
    "* При планировании кампании на следующий год НЕ стоит учитывать отзывы пользователей как один из критериев\n",
    "* При планировании кампании на следующий год можно учитывать отзывы критиков как один из критериев\n",
    "* Для различных регионов стоит учитывать популярные платформы\n",
    "* Для различных регионов стоит учитывать популярные жанры игр\n",
    "* Для различных регионов, в особенности для JP, стоит учитывать рейтинг продаваемых игр"
   ]
  },
  {
   "cell_type": "code",
   "execution_count": null,
   "metadata": {},
   "outputs": [],
   "source": []
  }
 ],
 "metadata": {
  "ExecuteTimeLog": [
   {
    "duration": 90,
    "start_time": "2021-10-14T14:17:06.370Z"
   },
   {
    "duration": 3,
    "start_time": "2021-10-14T14:18:15.415Z"
   },
   {
    "duration": 1444,
    "start_time": "2021-10-14T14:22:59.806Z"
   },
   {
    "duration": 49,
    "start_time": "2021-10-14T14:24:11.326Z"
   },
   {
    "duration": 47,
    "start_time": "2021-10-14T14:24:20.822Z"
   },
   {
    "duration": 24,
    "start_time": "2021-10-14T14:24:54.162Z"
   },
   {
    "duration": 389,
    "start_time": "2021-10-14T14:26:13.267Z"
   },
   {
    "duration": 263,
    "start_time": "2021-10-14T14:26:17.727Z"
   },
   {
    "duration": 266,
    "start_time": "2021-10-14T14:26:31.058Z"
   },
   {
    "duration": 336,
    "start_time": "2021-10-14T14:26:36.476Z"
   },
   {
    "duration": 10,
    "start_time": "2021-10-14T14:27:12.094Z"
   },
   {
    "duration": 12,
    "start_time": "2021-10-14T14:27:16.897Z"
   },
   {
    "duration": 24,
    "start_time": "2021-10-14T14:27:27.194Z"
   },
   {
    "duration": 14,
    "start_time": "2021-10-14T14:28:14.311Z"
   },
   {
    "duration": 6,
    "start_time": "2021-10-14T14:29:20.773Z"
   },
   {
    "duration": 6,
    "start_time": "2021-10-14T14:29:43.609Z"
   },
   {
    "duration": 42,
    "start_time": "2021-10-14T14:45:52.004Z"
   },
   {
    "duration": 82,
    "start_time": "2021-10-14T14:55:29.904Z"
   },
   {
    "duration": 5,
    "start_time": "2021-10-14T14:55:54.842Z"
   },
   {
    "duration": 7,
    "start_time": "2021-10-14T14:55:59.429Z"
   },
   {
    "duration": 24,
    "start_time": "2021-10-14T15:04:15.759Z"
   },
   {
    "duration": 8,
    "start_time": "2021-10-14T15:05:32.097Z"
   },
   {
    "duration": 29,
    "start_time": "2021-10-14T15:06:00.227Z"
   },
   {
    "duration": 7,
    "start_time": "2021-10-14T15:07:19.617Z"
   },
   {
    "duration": 348,
    "start_time": "2021-10-14T15:10:11.890Z"
   },
   {
    "duration": 23,
    "start_time": "2021-10-14T15:10:53.668Z"
   },
   {
    "duration": 20,
    "start_time": "2021-10-14T15:12:06.553Z"
   },
   {
    "duration": 22,
    "start_time": "2021-10-14T15:12:21.012Z"
   },
   {
    "duration": 34,
    "start_time": "2021-10-14T15:12:48.580Z"
   },
   {
    "duration": 6,
    "start_time": "2021-10-14T15:12:54.357Z"
   },
   {
    "duration": 21,
    "start_time": "2021-10-14T15:13:06.349Z"
   },
   {
    "duration": 289,
    "start_time": "2021-10-14T15:25:12.545Z"
   },
   {
    "duration": 2774,
    "start_time": "2021-10-14T15:25:22.165Z"
   },
   {
    "duration": 84,
    "start_time": "2021-10-14T15:26:24.799Z"
   },
   {
    "duration": 95,
    "start_time": "2021-10-14T15:26:31.419Z"
   },
   {
    "duration": 1861,
    "start_time": "2021-10-14T15:27:12.505Z"
   },
   {
    "duration": 1519,
    "start_time": "2021-10-14T15:27:36.150Z"
   },
   {
    "duration": 48,
    "start_time": "2021-10-14T15:27:37.672Z"
   },
   {
    "duration": 26,
    "start_time": "2021-10-14T15:27:37.724Z"
   },
   {
    "duration": 13,
    "start_time": "2021-10-14T15:27:37.767Z"
   },
   {
    "duration": 65,
    "start_time": "2021-10-14T15:27:37.783Z"
   },
   {
    "duration": -46,
    "start_time": "2021-10-14T15:27:37.897Z"
   },
   {
    "duration": -45,
    "start_time": "2021-10-14T15:27:37.898Z"
   },
   {
    "duration": -54,
    "start_time": "2021-10-14T15:27:37.908Z"
   },
   {
    "duration": -56,
    "start_time": "2021-10-14T15:27:37.912Z"
   },
   {
    "duration": -58,
    "start_time": "2021-10-14T15:27:37.915Z"
   },
   {
    "duration": -58,
    "start_time": "2021-10-14T15:27:37.916Z"
   },
   {
    "duration": -62,
    "start_time": "2021-10-14T15:27:37.922Z"
   },
   {
    "duration": -63,
    "start_time": "2021-10-14T15:27:37.924Z"
   },
   {
    "duration": -62,
    "start_time": "2021-10-14T15:27:37.925Z"
   },
   {
    "duration": -63,
    "start_time": "2021-10-14T15:27:37.928Z"
   },
   {
    "duration": -65,
    "start_time": "2021-10-14T15:27:37.931Z"
   },
   {
    "duration": -71,
    "start_time": "2021-10-14T15:27:37.938Z"
   },
   {
    "duration": -82,
    "start_time": "2021-10-14T15:27:37.951Z"
   },
   {
    "duration": -83,
    "start_time": "2021-10-14T15:27:37.953Z"
   },
   {
    "duration": 6,
    "start_time": "2021-10-14T15:27:42.915Z"
   },
   {
    "duration": 50,
    "start_time": "2021-10-14T15:27:42.924Z"
   },
   {
    "duration": 20,
    "start_time": "2021-10-14T15:27:42.978Z"
   },
   {
    "duration": 18,
    "start_time": "2021-10-14T15:27:43.002Z"
   },
   {
    "duration": 44,
    "start_time": "2021-10-14T15:27:43.023Z"
   },
   {
    "duration": 95,
    "start_time": "2021-10-14T15:27:43.070Z"
   },
   {
    "duration": -46,
    "start_time": "2021-10-14T15:27:43.215Z"
   },
   {
    "duration": -46,
    "start_time": "2021-10-14T15:27:43.216Z"
   },
   {
    "duration": -53,
    "start_time": "2021-10-14T15:27:43.224Z"
   },
   {
    "duration": -52,
    "start_time": "2021-10-14T15:27:43.225Z"
   },
   {
    "duration": -53,
    "start_time": "2021-10-14T15:27:43.227Z"
   },
   {
    "duration": -54,
    "start_time": "2021-10-14T15:27:43.229Z"
   },
   {
    "duration": -58,
    "start_time": "2021-10-14T15:27:43.234Z"
   },
   {
    "duration": -62,
    "start_time": "2021-10-14T15:27:43.239Z"
   },
   {
    "duration": -63,
    "start_time": "2021-10-14T15:27:43.241Z"
   },
   {
    "duration": -65,
    "start_time": "2021-10-14T15:27:43.245Z"
   },
   {
    "duration": -66,
    "start_time": "2021-10-14T15:27:43.247Z"
   },
   {
    "duration": -66,
    "start_time": "2021-10-14T15:27:43.248Z"
   },
   {
    "duration": 6,
    "start_time": "2021-10-14T15:27:58.095Z"
   },
   {
    "duration": 51,
    "start_time": "2021-10-14T15:27:58.104Z"
   },
   {
    "duration": 20,
    "start_time": "2021-10-14T15:27:58.158Z"
   },
   {
    "duration": 18,
    "start_time": "2021-10-14T15:27:58.181Z"
   },
   {
    "duration": 5,
    "start_time": "2021-10-14T15:27:58.201Z"
   },
   {
    "duration": 8,
    "start_time": "2021-10-14T15:27:58.208Z"
   },
   {
    "duration": 93,
    "start_time": "2021-10-14T15:27:58.218Z"
   },
   {
    "duration": 6,
    "start_time": "2021-10-14T15:27:58.313Z"
   },
   {
    "duration": 60,
    "start_time": "2021-10-14T15:27:58.322Z"
   },
   {
    "duration": 8,
    "start_time": "2021-10-14T15:27:58.384Z"
   },
   {
    "duration": 87,
    "start_time": "2021-10-14T15:27:58.394Z"
   },
   {
    "duration": -57,
    "start_time": "2021-10-14T15:27:58.541Z"
   },
   {
    "duration": -63,
    "start_time": "2021-10-14T15:27:58.549Z"
   },
   {
    "duration": -65,
    "start_time": "2021-10-14T15:27:58.552Z"
   },
   {
    "duration": -65,
    "start_time": "2021-10-14T15:27:58.553Z"
   },
   {
    "duration": -65,
    "start_time": "2021-10-14T15:27:58.555Z"
   },
   {
    "duration": -66,
    "start_time": "2021-10-14T15:27:58.557Z"
   },
   {
    "duration": 7,
    "start_time": "2021-10-14T15:28:03.845Z"
   },
   {
    "duration": 53,
    "start_time": "2021-10-14T15:28:03.855Z"
   },
   {
    "duration": 20,
    "start_time": "2021-10-14T15:28:03.911Z"
   },
   {
    "duration": 34,
    "start_time": "2021-10-14T15:28:03.934Z"
   },
   {
    "duration": 6,
    "start_time": "2021-10-14T15:28:03.971Z"
   },
   {
    "duration": 9,
    "start_time": "2021-10-14T15:28:03.980Z"
   },
   {
    "duration": 89,
    "start_time": "2021-10-14T15:28:03.991Z"
   },
   {
    "duration": 6,
    "start_time": "2021-10-14T15:28:04.083Z"
   },
   {
    "duration": 25,
    "start_time": "2021-10-14T15:28:04.091Z"
   },
   {
    "duration": 8,
    "start_time": "2021-10-14T15:28:04.118Z"
   },
   {
    "duration": 35,
    "start_time": "2021-10-14T15:28:04.168Z"
   },
   {
    "duration": 27,
    "start_time": "2021-10-14T15:28:04.206Z"
   },
   {
    "duration": 2154,
    "start_time": "2021-10-14T15:28:04.268Z"
   },
   {
    "duration": 4,
    "start_time": "2021-10-14T15:28:06.424Z"
   },
   {
    "duration": 354,
    "start_time": "2021-10-14T15:28:06.430Z"
   },
   {
    "duration": -52,
    "start_time": "2021-10-14T15:28:06.839Z"
   },
   {
    "duration": 1826,
    "start_time": "2021-10-14T15:28:43.349Z"
   },
   {
    "duration": 1454,
    "start_time": "2021-10-14T15:29:10.796Z"
   },
   {
    "duration": 48,
    "start_time": "2021-10-14T15:29:12.253Z"
   },
   {
    "duration": 25,
    "start_time": "2021-10-14T15:29:12.304Z"
   },
   {
    "duration": 37,
    "start_time": "2021-10-14T15:29:12.332Z"
   },
   {
    "duration": 6,
    "start_time": "2021-10-14T15:29:12.372Z"
   },
   {
    "duration": 11,
    "start_time": "2021-10-14T15:29:12.380Z"
   },
   {
    "duration": 88,
    "start_time": "2021-10-14T15:29:12.393Z"
   },
   {
    "duration": 8,
    "start_time": "2021-10-14T15:29:12.483Z"
   },
   {
    "duration": 25,
    "start_time": "2021-10-14T15:29:12.494Z"
   },
   {
    "duration": 49,
    "start_time": "2021-10-14T15:29:12.521Z"
   },
   {
    "duration": 42,
    "start_time": "2021-10-14T15:29:12.572Z"
   },
   {
    "duration": 23,
    "start_time": "2021-10-14T15:29:12.616Z"
   },
   {
    "duration": 1898,
    "start_time": "2021-10-14T15:29:12.641Z"
   },
   {
    "duration": 3,
    "start_time": "2021-10-14T15:29:14.542Z"
   },
   {
    "duration": 469,
    "start_time": "2021-10-14T15:29:14.547Z"
   },
   {
    "duration": 7,
    "start_time": "2021-10-14T15:32:31.608Z"
   },
   {
    "duration": 59,
    "start_time": "2021-10-14T15:32:31.618Z"
   },
   {
    "duration": 22,
    "start_time": "2021-10-14T15:32:31.680Z"
   },
   {
    "duration": 16,
    "start_time": "2021-10-14T15:32:31.705Z"
   },
   {
    "duration": 6,
    "start_time": "2021-10-14T15:32:31.723Z"
   },
   {
    "duration": 38,
    "start_time": "2021-10-14T15:32:31.732Z"
   },
   {
    "duration": 51,
    "start_time": "2021-10-14T15:32:31.772Z"
   },
   {
    "duration": 6,
    "start_time": "2021-10-14T15:32:31.825Z"
   },
   {
    "duration": 56,
    "start_time": "2021-10-14T15:32:31.834Z"
   },
   {
    "duration": 11,
    "start_time": "2021-10-14T15:32:31.892Z"
   },
   {
    "duration": 71,
    "start_time": "2021-10-14T15:32:31.905Z"
   },
   {
    "duration": 22,
    "start_time": "2021-10-14T15:32:31.979Z"
   },
   {
    "duration": 2037,
    "start_time": "2021-10-14T15:32:32.003Z"
   },
   {
    "duration": 3,
    "start_time": "2021-10-14T15:32:34.043Z"
   },
   {
    "duration": 35,
    "start_time": "2021-10-14T17:21:05.178Z"
   },
   {
    "duration": 8,
    "start_time": "2021-10-14T17:21:34.173Z"
   },
   {
    "duration": 10,
    "start_time": "2021-10-14T17:21:40.192Z"
   },
   {
    "duration": 234,
    "start_time": "2021-10-14T17:22:07.865Z"
   },
   {
    "duration": 8,
    "start_time": "2021-10-14T17:22:11.080Z"
   },
   {
    "duration": 10,
    "start_time": "2021-10-14T17:22:11.850Z"
   },
   {
    "duration": 35,
    "start_time": "2021-10-14T17:22:24.529Z"
   },
   {
    "duration": 41,
    "start_time": "2021-10-14T17:22:35.241Z"
   },
   {
    "duration": 79,
    "start_time": "2021-10-14T17:27:16.584Z"
   },
   {
    "duration": 87,
    "start_time": "2021-10-14T17:27:20.916Z"
   },
   {
    "duration": 7,
    "start_time": "2021-10-14T17:27:26.284Z"
   },
   {
    "duration": 11,
    "start_time": "2021-10-14T17:27:30.825Z"
   },
   {
    "duration": 30,
    "start_time": "2021-10-14T17:27:43.748Z"
   },
   {
    "duration": 86,
    "start_time": "2021-10-14T17:28:41.623Z"
   },
   {
    "duration": 258,
    "start_time": "2021-10-14T17:29:53.377Z"
   },
   {
    "duration": 7,
    "start_time": "2021-10-14T17:29:57.978Z"
   },
   {
    "duration": 5,
    "start_time": "2021-10-14T17:30:04.667Z"
   },
   {
    "duration": 19,
    "start_time": "2021-10-14T17:30:18.270Z"
   },
   {
    "duration": 31,
    "start_time": "2021-10-14T17:30:34.935Z"
   },
   {
    "duration": 9,
    "start_time": "2021-10-14T17:30:48.178Z"
   },
   {
    "duration": 10,
    "start_time": "2021-10-14T17:30:56.622Z"
   },
   {
    "duration": 7,
    "start_time": "2021-10-14T17:39:53.991Z"
   },
   {
    "duration": 7,
    "start_time": "2021-10-14T17:40:17.104Z"
   },
   {
    "duration": 7,
    "start_time": "2021-10-14T17:40:38.884Z"
   },
   {
    "duration": 58,
    "start_time": "2021-10-14T17:40:38.894Z"
   },
   {
    "duration": 20,
    "start_time": "2021-10-14T17:40:38.955Z"
   },
   {
    "duration": 17,
    "start_time": "2021-10-14T17:40:38.977Z"
   },
   {
    "duration": 5,
    "start_time": "2021-10-14T17:40:38.996Z"
   },
   {
    "duration": 11,
    "start_time": "2021-10-14T17:40:39.003Z"
   },
   {
    "duration": 80,
    "start_time": "2021-10-14T17:40:39.017Z"
   },
   {
    "duration": 7,
    "start_time": "2021-10-14T17:40:39.100Z"
   },
   {
    "duration": 24,
    "start_time": "2021-10-14T17:40:39.110Z"
   },
   {
    "duration": 34,
    "start_time": "2021-10-14T17:40:39.137Z"
   },
   {
    "duration": 8,
    "start_time": "2021-10-14T17:40:39.173Z"
   },
   {
    "duration": 24,
    "start_time": "2021-10-14T17:40:39.184Z"
   },
   {
    "duration": 13,
    "start_time": "2021-10-14T17:40:39.210Z"
   },
   {
    "duration": 16,
    "start_time": "2021-10-14T17:40:39.225Z"
   },
   {
    "duration": 28,
    "start_time": "2021-10-14T17:40:39.243Z"
   },
   {
    "duration": 11,
    "start_time": "2021-10-14T17:40:39.273Z"
   },
   {
    "duration": -91,
    "start_time": "2021-10-14T17:42:56.847Z"
   },
   {
    "duration": 6709,
    "start_time": "2021-10-14T17:42:59.035Z"
   },
   {
    "duration": -90,
    "start_time": "2021-10-14T17:43:25.797Z"
   },
   {
    "duration": 6,
    "start_time": "2021-10-14T17:43:28.553Z"
   },
   {
    "duration": 33,
    "start_time": "2021-10-14T17:43:41.178Z"
   },
   {
    "duration": 5,
    "start_time": "2021-10-14T17:43:41.797Z"
   },
   {
    "duration": 10,
    "start_time": "2021-10-14T17:43:42.359Z"
   },
   {
    "duration": 9,
    "start_time": "2021-10-14T17:43:42.733Z"
   },
   {
    "duration": 6,
    "start_time": "2021-10-14T17:43:43.389Z"
   },
   {
    "duration": 6,
    "start_time": "2021-10-14T17:43:43.877Z"
   },
   {
    "duration": 34,
    "start_time": "2021-10-14T17:59:11.257Z"
   },
   {
    "duration": 26,
    "start_time": "2021-10-14T17:59:16.782Z"
   },
   {
    "duration": 8,
    "start_time": "2021-10-14T17:59:29.762Z"
   },
   {
    "duration": 23,
    "start_time": "2021-10-14T18:00:09.834Z"
   },
   {
    "duration": 8,
    "start_time": "2021-10-14T18:00:46.146Z"
   },
   {
    "duration": 83,
    "start_time": "2021-10-14T18:00:51.352Z"
   },
   {
    "duration": 63,
    "start_time": "2021-10-14T18:01:21.205Z"
   },
   {
    "duration": 32,
    "start_time": "2021-10-14T18:01:37.665Z"
   },
   {
    "duration": 15,
    "start_time": "2021-10-14T18:13:28.516Z"
   },
   {
    "duration": 13,
    "start_time": "2021-10-14T18:13:36.322Z"
   },
   {
    "duration": 14,
    "start_time": "2021-10-14T18:13:41.297Z"
   },
   {
    "duration": 9,
    "start_time": "2021-10-14T18:16:29.770Z"
   },
   {
    "duration": 13,
    "start_time": "2021-10-14T18:17:14.376Z"
   },
   {
    "duration": 7,
    "start_time": "2021-10-14T18:17:18.687Z"
   },
   {
    "duration": 51,
    "start_time": "2021-10-14T18:17:18.696Z"
   },
   {
    "duration": 20,
    "start_time": "2021-10-14T18:17:18.750Z"
   },
   {
    "duration": 13,
    "start_time": "2021-10-14T18:17:18.773Z"
   },
   {
    "duration": 6,
    "start_time": "2021-10-14T18:17:18.788Z"
   },
   {
    "duration": 8,
    "start_time": "2021-10-14T18:17:18.796Z"
   },
   {
    "duration": 98,
    "start_time": "2021-10-14T18:17:18.807Z"
   },
   {
    "duration": 8,
    "start_time": "2021-10-14T18:17:18.908Z"
   },
   {
    "duration": 70,
    "start_time": "2021-10-14T18:17:18.922Z"
   },
   {
    "duration": 12,
    "start_time": "2021-10-14T18:17:18.996Z"
   },
   {
    "duration": 66,
    "start_time": "2021-10-14T18:17:19.011Z"
   },
   {
    "duration": 39,
    "start_time": "2021-10-14T18:17:19.080Z"
   },
   {
    "duration": 45,
    "start_time": "2021-10-14T18:17:19.122Z"
   },
   {
    "duration": 26,
    "start_time": "2021-10-14T18:17:19.170Z"
   },
   {
    "duration": 11,
    "start_time": "2021-10-14T18:17:19.199Z"
   },
   {
    "duration": 288,
    "start_time": "2021-10-14T18:17:19.213Z"
   },
   {
    "duration": -111,
    "start_time": "2021-10-14T18:17:19.615Z"
   },
   {
    "duration": -118,
    "start_time": "2021-10-14T18:17:19.623Z"
   },
   {
    "duration": -126,
    "start_time": "2021-10-14T18:17:19.632Z"
   },
   {
    "duration": 6,
    "start_time": "2021-10-14T18:17:23.900Z"
   },
   {
    "duration": 46,
    "start_time": "2021-10-14T18:17:23.909Z"
   },
   {
    "duration": 19,
    "start_time": "2021-10-14T18:17:23.958Z"
   },
   {
    "duration": 12,
    "start_time": "2021-10-14T18:17:23.980Z"
   },
   {
    "duration": 5,
    "start_time": "2021-10-14T18:17:23.994Z"
   },
   {
    "duration": 9,
    "start_time": "2021-10-14T18:17:24.002Z"
   },
   {
    "duration": 99,
    "start_time": "2021-10-14T18:17:24.014Z"
   },
   {
    "duration": 7,
    "start_time": "2021-10-14T18:17:24.116Z"
   },
   {
    "duration": 59,
    "start_time": "2021-10-14T18:17:24.128Z"
   },
   {
    "duration": 11,
    "start_time": "2021-10-14T18:17:24.189Z"
   },
   {
    "duration": 69,
    "start_time": "2021-10-14T18:17:24.202Z"
   },
   {
    "duration": 33,
    "start_time": "2021-10-14T18:17:24.274Z"
   },
   {
    "duration": 6,
    "start_time": "2021-10-14T18:17:24.310Z"
   },
   {
    "duration": 54,
    "start_time": "2021-10-14T18:17:24.319Z"
   },
   {
    "duration": 15,
    "start_time": "2021-10-14T18:17:24.375Z"
   },
   {
    "duration": 3,
    "start_time": "2021-10-14T18:17:24.392Z"
   },
   {
    "duration": 18,
    "start_time": "2021-10-14T18:17:24.397Z"
   },
   {
    "duration": 11,
    "start_time": "2021-10-14T18:17:24.417Z"
   },
   {
    "duration": 15,
    "start_time": "2021-10-14T18:17:24.467Z"
   },
   {
    "duration": 9,
    "start_time": "2021-10-14T18:21:09.476Z"
   },
   {
    "duration": 5,
    "start_time": "2021-10-14T18:21:13.481Z"
   },
   {
    "duration": 52,
    "start_time": "2021-10-14T18:21:13.489Z"
   },
   {
    "duration": 25,
    "start_time": "2021-10-14T18:21:13.545Z"
   },
   {
    "duration": 19,
    "start_time": "2021-10-14T18:21:13.573Z"
   },
   {
    "duration": 7,
    "start_time": "2021-10-14T18:21:13.595Z"
   },
   {
    "duration": 64,
    "start_time": "2021-10-14T18:21:13.605Z"
   },
   {
    "duration": 49,
    "start_time": "2021-10-14T18:21:13.672Z"
   },
   {
    "duration": 8,
    "start_time": "2021-10-14T18:21:13.724Z"
   },
   {
    "duration": 25,
    "start_time": "2021-10-14T18:21:13.771Z"
   },
   {
    "duration": 11,
    "start_time": "2021-10-14T18:21:13.800Z"
   },
   {
    "duration": 76,
    "start_time": "2021-10-14T18:21:13.814Z"
   },
   {
    "duration": 74,
    "start_time": "2021-10-14T18:21:13.893Z"
   },
   {
    "duration": 10,
    "start_time": "2021-10-14T18:21:13.969Z"
   },
   {
    "duration": 26,
    "start_time": "2021-10-14T18:21:13.982Z"
   },
   {
    "duration": 56,
    "start_time": "2021-10-14T18:21:14.011Z"
   },
   {
    "duration": 4,
    "start_time": "2021-10-14T18:21:14.070Z"
   },
   {
    "duration": 23,
    "start_time": "2021-10-14T18:21:14.077Z"
   },
   {
    "duration": 13,
    "start_time": "2021-10-14T18:21:14.102Z"
   },
   {
    "duration": 59,
    "start_time": "2021-10-14T18:21:14.118Z"
   },
   {
    "duration": 9,
    "start_time": "2021-10-14T18:22:13.558Z"
   },
   {
    "duration": 23,
    "start_time": "2021-10-14T18:22:19.782Z"
   },
   {
    "duration": 13,
    "start_time": "2021-10-14T18:25:03.161Z"
   },
   {
    "duration": 16,
    "start_time": "2021-10-14T18:25:06.345Z"
   },
   {
    "duration": 11,
    "start_time": "2021-10-14T18:25:34.593Z"
   },
   {
    "duration": 16,
    "start_time": "2021-10-14T18:25:43.776Z"
   },
   {
    "duration": 13,
    "start_time": "2021-10-14T18:26:07.967Z"
   },
   {
    "duration": 16,
    "start_time": "2021-10-14T18:26:10.399Z"
   },
   {
    "duration": 1300,
    "start_time": "2021-10-14T18:42:40.510Z"
   },
   {
    "duration": 2056,
    "start_time": "2021-10-14T18:42:44.719Z"
   },
   {
    "duration": 25,
    "start_time": "2021-10-14T18:43:01.169Z"
   },
   {
    "duration": 28,
    "start_time": "2021-10-14T18:43:21.020Z"
   },
   {
    "duration": 28,
    "start_time": "2021-10-14T18:43:22.792Z"
   },
   {
    "duration": 20,
    "start_time": "2021-10-14T18:47:21.310Z"
   },
   {
    "duration": 16,
    "start_time": "2021-10-14T18:58:54.351Z"
   },
   {
    "duration": 16,
    "start_time": "2021-10-14T18:59:10.861Z"
   },
   {
    "duration": 94,
    "start_time": "2021-10-14T19:04:19.533Z"
   },
   {
    "duration": 81,
    "start_time": "2021-10-14T19:04:55.420Z"
   },
   {
    "duration": 18,
    "start_time": "2021-10-14T19:09:01.938Z"
   },
   {
    "duration": 11,
    "start_time": "2021-10-14T19:11:14.913Z"
   },
   {
    "duration": 10,
    "start_time": "2021-10-14T19:11:23.344Z"
   },
   {
    "duration": 1003,
    "start_time": "2021-10-14T19:13:25.382Z"
   },
   {
    "duration": 24,
    "start_time": "2021-10-14T19:14:20.274Z"
   },
   {
    "duration": 84,
    "start_time": "2021-10-14T19:14:49.653Z"
   },
   {
    "duration": 237,
    "start_time": "2021-10-14T19:15:02.566Z"
   },
   {
    "duration": 10,
    "start_time": "2021-10-14T19:16:05.841Z"
   },
   {
    "duration": 2145,
    "start_time": "2021-10-14T19:18:58.377Z"
   },
   {
    "duration": 1715,
    "start_time": "2021-10-14T19:19:07.138Z"
   },
   {
    "duration": 8,
    "start_time": "2021-10-14T19:19:26.587Z"
   },
   {
    "duration": 10,
    "start_time": "2021-10-14T19:19:51.171Z"
   },
   {
    "duration": 99,
    "start_time": "2021-10-14T19:21:31.604Z"
   },
   {
    "duration": 29,
    "start_time": "2021-10-14T19:21:55.706Z"
   },
   {
    "duration": 11,
    "start_time": "2021-10-14T19:22:01.083Z"
   },
   {
    "duration": 7,
    "start_time": "2021-10-14T19:22:19.335Z"
   },
   {
    "duration": 1710,
    "start_time": "2021-10-14T19:24:01.000Z"
   },
   {
    "duration": 11,
    "start_time": "2021-10-14T19:24:31.640Z"
   },
   {
    "duration": 11,
    "start_time": "2021-10-14T19:25:27.873Z"
   },
   {
    "duration": 8,
    "start_time": "2021-10-14T19:25:31.966Z"
   },
   {
    "duration": 7,
    "start_time": "2021-10-14T19:25:42.168Z"
   },
   {
    "duration": 9,
    "start_time": "2021-10-14T19:25:45.109Z"
   },
   {
    "duration": 71,
    "start_time": "2021-10-14T19:58:30.107Z"
   },
   {
    "duration": 10,
    "start_time": "2021-10-14T19:58:33.716Z"
   },
   {
    "duration": 7,
    "start_time": "2021-10-14T19:58:39.100Z"
   },
   {
    "duration": 216,
    "start_time": "2021-10-14T19:59:31.623Z"
   },
   {
    "duration": 11,
    "start_time": "2021-10-14T19:59:48.530Z"
   },
   {
    "duration": 58,
    "start_time": "2021-10-14T20:00:06.002Z"
   },
   {
    "duration": 4,
    "start_time": "2021-10-14T20:00:44.440Z"
   },
   {
    "duration": 5,
    "start_time": "2021-10-14T20:00:54.015Z"
   },
   {
    "duration": 4,
    "start_time": "2021-10-14T20:01:14.719Z"
   },
   {
    "duration": 5,
    "start_time": "2021-10-14T20:02:11.456Z"
   },
   {
    "duration": 105,
    "start_time": "2021-10-14T20:26:20.823Z"
   },
   {
    "duration": 7,
    "start_time": "2021-10-14T20:40:08.572Z"
   },
   {
    "duration": 9,
    "start_time": "2021-10-14T20:41:05.530Z"
   },
   {
    "duration": 77,
    "start_time": "2021-10-14T20:41:16.679Z"
   },
   {
    "duration": 9,
    "start_time": "2021-10-14T20:41:55.327Z"
   },
   {
    "duration": 69,
    "start_time": "2021-10-14T20:41:57.354Z"
   },
   {
    "duration": 20,
    "start_time": "2021-10-14T20:42:11.252Z"
   },
   {
    "duration": 22,
    "start_time": "2021-10-14T20:42:15.661Z"
   },
   {
    "duration": 12,
    "start_time": "2021-10-14T20:43:09.368Z"
   },
   {
    "duration": 26,
    "start_time": "2021-10-14T20:43:10.127Z"
   },
   {
    "duration": 21,
    "start_time": "2021-10-14T20:44:34.281Z"
   },
   {
    "duration": 299,
    "start_time": "2021-10-14T20:45:14.642Z"
   },
   {
    "duration": 229,
    "start_time": "2021-10-14T20:45:21.600Z"
   },
   {
    "duration": 16,
    "start_time": "2021-10-14T20:45:31.656Z"
   },
   {
    "duration": 23,
    "start_time": "2021-10-14T20:45:36.015Z"
   },
   {
    "duration": 6,
    "start_time": "2021-10-14T20:50:59.911Z"
   },
   {
    "duration": 20,
    "start_time": "2021-10-14T20:51:03.279Z"
   },
   {
    "duration": 7,
    "start_time": "2021-10-14T20:51:11.076Z"
   },
   {
    "duration": 54,
    "start_time": "2021-10-14T20:51:11.085Z"
   },
   {
    "duration": 40,
    "start_time": "2021-10-14T20:51:11.144Z"
   },
   {
    "duration": 15,
    "start_time": "2021-10-14T20:51:11.187Z"
   },
   {
    "duration": 7,
    "start_time": "2021-10-14T20:51:11.205Z"
   },
   {
    "duration": 53,
    "start_time": "2021-10-14T20:51:11.214Z"
   },
   {
    "duration": 49,
    "start_time": "2021-10-14T20:51:11.270Z"
   },
   {
    "duration": 6,
    "start_time": "2021-10-14T20:51:11.322Z"
   },
   {
    "duration": 54,
    "start_time": "2021-10-14T20:51:11.332Z"
   },
   {
    "duration": 13,
    "start_time": "2021-10-14T20:51:11.390Z"
   },
   {
    "duration": 26,
    "start_time": "2021-10-14T20:51:11.405Z"
   },
   {
    "duration": 68,
    "start_time": "2021-10-14T20:51:11.433Z"
   },
   {
    "duration": 11,
    "start_time": "2021-10-14T20:51:11.503Z"
   },
   {
    "duration": 53,
    "start_time": "2021-10-14T20:51:11.516Z"
   },
   {
    "duration": 12,
    "start_time": "2021-10-14T20:51:11.571Z"
   },
   {
    "duration": 25,
    "start_time": "2021-10-14T20:51:11.586Z"
   },
   {
    "duration": 61,
    "start_time": "2021-10-14T20:51:11.614Z"
   },
   {
    "duration": 25,
    "start_time": "2021-10-14T20:51:11.677Z"
   },
   {
    "duration": 18,
    "start_time": "2021-10-14T20:51:11.704Z"
   },
   {
    "duration": 53,
    "start_time": "2021-10-14T20:51:11.724Z"
   },
   {
    "duration": 110,
    "start_time": "2021-10-14T20:51:11.779Z"
   },
   {
    "duration": 29,
    "start_time": "2021-10-14T20:51:11.891Z"
   },
   {
    "duration": 17,
    "start_time": "2021-10-14T20:51:11.922Z"
   },
   {
    "duration": 11,
    "start_time": "2021-10-14T20:51:11.968Z"
   },
   {
    "duration": 307,
    "start_time": "2021-10-14T20:51:11.981Z"
   },
   {
    "duration": -140,
    "start_time": "2021-10-14T20:51:12.430Z"
   },
   {
    "duration": -140,
    "start_time": "2021-10-14T20:51:12.432Z"
   },
   {
    "duration": -141,
    "start_time": "2021-10-14T20:51:12.435Z"
   },
   {
    "duration": -141,
    "start_time": "2021-10-14T20:51:12.436Z"
   },
   {
    "duration": -141,
    "start_time": "2021-10-14T20:51:12.438Z"
   },
   {
    "duration": 34,
    "start_time": "2021-10-14T20:52:08.942Z"
   },
   {
    "duration": 8,
    "start_time": "2021-10-14T20:52:09.713Z"
   },
   {
    "duration": 61,
    "start_time": "2021-10-14T20:52:11.551Z"
   },
   {
    "duration": 5,
    "start_time": "2021-10-14T20:52:11.809Z"
   },
   {
    "duration": 7,
    "start_time": "2021-10-14T20:52:12.256Z"
   },
   {
    "duration": 19,
    "start_time": "2021-10-14T20:52:16.359Z"
   },
   {
    "duration": 21,
    "start_time": "2021-10-14T20:52:16.662Z"
   },
   {
    "duration": 6,
    "start_time": "2021-10-14T20:52:38.465Z"
   },
   {
    "duration": 21,
    "start_time": "2021-10-14T20:52:40.746Z"
   },
   {
    "duration": 7,
    "start_time": "2021-10-14T20:52:59.457Z"
   },
   {
    "duration": 22,
    "start_time": "2021-10-14T20:53:01.563Z"
   },
   {
    "duration": 337,
    "start_time": "2021-10-15T19:29:24.120Z"
   },
   {
    "duration": 1687,
    "start_time": "2021-10-15T19:29:33.353Z"
   },
   {
    "duration": 54,
    "start_time": "2021-10-15T19:29:35.043Z"
   },
   {
    "duration": 25,
    "start_time": "2021-10-15T19:29:35.100Z"
   },
   {
    "duration": 41,
    "start_time": "2021-10-15T19:29:35.128Z"
   },
   {
    "duration": 6,
    "start_time": "2021-10-15T19:29:35.171Z"
   },
   {
    "duration": 17,
    "start_time": "2021-10-15T19:29:35.179Z"
   },
   {
    "duration": 80,
    "start_time": "2021-10-15T19:29:35.198Z"
   },
   {
    "duration": 6,
    "start_time": "2021-10-15T19:29:35.281Z"
   },
   {
    "duration": 24,
    "start_time": "2021-10-15T19:29:35.291Z"
   },
   {
    "duration": 48,
    "start_time": "2021-10-15T19:29:35.318Z"
   },
   {
    "duration": 26,
    "start_time": "2021-10-15T19:29:35.369Z"
   },
   {
    "duration": 70,
    "start_time": "2021-10-15T19:29:35.397Z"
   },
   {
    "duration": 11,
    "start_time": "2021-10-15T19:29:35.469Z"
   },
   {
    "duration": 20,
    "start_time": "2021-10-15T19:29:35.482Z"
   },
   {
    "duration": 11,
    "start_time": "2021-10-15T19:29:35.504Z"
   },
   {
    "duration": 64,
    "start_time": "2021-10-15T19:29:35.517Z"
   },
   {
    "duration": 26,
    "start_time": "2021-10-15T19:29:35.583Z"
   },
   {
    "duration": 58,
    "start_time": "2021-10-15T19:29:35.611Z"
   },
   {
    "duration": 20,
    "start_time": "2021-10-15T19:29:35.671Z"
   },
   {
    "duration": 13,
    "start_time": "2021-10-15T19:29:35.693Z"
   },
   {
    "duration": 119,
    "start_time": "2021-10-15T19:29:35.709Z"
   },
   {
    "duration": 31,
    "start_time": "2021-10-15T19:29:35.831Z"
   },
   {
    "duration": 13,
    "start_time": "2021-10-15T19:29:35.864Z"
   },
   {
    "duration": 10,
    "start_time": "2021-10-15T19:29:35.880Z"
   },
   {
    "duration": 69,
    "start_time": "2021-10-15T19:29:35.893Z"
   },
   {
    "duration": 6,
    "start_time": "2021-10-15T19:29:35.965Z"
   },
   {
    "duration": 62,
    "start_time": "2021-10-15T19:29:35.976Z"
   },
   {
    "duration": 25,
    "start_time": "2021-10-15T19:29:36.040Z"
   },
   {
    "duration": 9,
    "start_time": "2021-10-15T19:29:36.068Z"
   },
   {
    "duration": 389,
    "start_time": "2021-10-15T19:29:36.080Z"
   },
   {
    "duration": 322,
    "start_time": "2021-10-15T19:29:43.320Z"
   },
   {
    "duration": 1211,
    "start_time": "2021-10-15T19:30:08.761Z"
   },
   {
    "duration": 439,
    "start_time": "2021-10-15T19:30:39.256Z"
   },
   {
    "duration": 927,
    "start_time": "2021-10-15T19:30:45.376Z"
   },
   {
    "duration": 999,
    "start_time": "2021-10-15T19:30:51.808Z"
   },
   {
    "duration": 1028,
    "start_time": "2021-10-15T19:31:41.533Z"
   },
   {
    "duration": 997,
    "start_time": "2021-10-15T19:31:52.952Z"
   },
   {
    "duration": 1790,
    "start_time": "2021-10-15T19:33:04.836Z"
   },
   {
    "duration": 1312,
    "start_time": "2021-10-15T19:33:57.902Z"
   },
   {
    "duration": 1198,
    "start_time": "2021-10-15T19:34:42.022Z"
   },
   {
    "duration": 944,
    "start_time": "2021-10-15T19:34:48.087Z"
   },
   {
    "duration": 1038,
    "start_time": "2021-10-15T19:35:51.606Z"
   },
   {
    "duration": 1053,
    "start_time": "2021-10-15T19:36:21.934Z"
   },
   {
    "duration": 262,
    "start_time": "2021-10-15T19:38:24.741Z"
   },
   {
    "duration": 10,
    "start_time": "2021-10-15T19:38:27.135Z"
   },
   {
    "duration": 33,
    "start_time": "2021-10-15T19:49:55.857Z"
   },
   {
    "duration": 20,
    "start_time": "2021-10-15T19:53:09.002Z"
   },
   {
    "duration": 469,
    "start_time": "2021-10-15T19:53:36.413Z"
   },
   {
    "duration": 21,
    "start_time": "2021-10-15T19:53:50.413Z"
   },
   {
    "duration": 266,
    "start_time": "2021-10-15T19:53:50.655Z"
   },
   {
    "duration": 15,
    "start_time": "2021-10-15T19:54:03.066Z"
   },
   {
    "duration": 7,
    "start_time": "2021-10-15T19:54:10.175Z"
   },
   {
    "duration": 15,
    "start_time": "2021-10-15T19:54:19.566Z"
   },
   {
    "duration": 357,
    "start_time": "2021-10-15T19:56:13.816Z"
   },
   {
    "duration": 26,
    "start_time": "2021-10-15T19:56:21.070Z"
   },
   {
    "duration": 56,
    "start_time": "2021-10-15T19:57:06.751Z"
   },
   {
    "duration": 73,
    "start_time": "2021-10-15T19:57:22.329Z"
   },
   {
    "duration": 1240,
    "start_time": "2021-10-15T19:57:45.194Z"
   },
   {
    "duration": 1015,
    "start_time": "2021-10-15T19:58:23.278Z"
   },
   {
    "duration": 1028,
    "start_time": "2021-10-15T19:58:27.273Z"
   },
   {
    "duration": 348,
    "start_time": "2021-10-15T19:59:12.296Z"
   },
   {
    "duration": 20,
    "start_time": "2021-10-15T19:59:16.785Z"
   },
   {
    "duration": 67,
    "start_time": "2021-10-15T19:59:17.338Z"
   },
   {
    "duration": 1117,
    "start_time": "2021-10-15T19:59:21.929Z"
   },
   {
    "duration": 6,
    "start_time": "2021-10-15T19:59:44.705Z"
   },
   {
    "duration": 6,
    "start_time": "2021-10-15T19:59:47.874Z"
   },
   {
    "duration": 50,
    "start_time": "2021-10-15T19:59:47.882Z"
   },
   {
    "duration": 40,
    "start_time": "2021-10-15T19:59:47.935Z"
   },
   {
    "duration": 13,
    "start_time": "2021-10-15T19:59:47.978Z"
   },
   {
    "duration": 5,
    "start_time": "2021-10-15T19:59:47.994Z"
   },
   {
    "duration": 8,
    "start_time": "2021-10-15T19:59:48.002Z"
   },
   {
    "duration": 93,
    "start_time": "2021-10-15T19:59:48.012Z"
   },
   {
    "duration": 7,
    "start_time": "2021-10-15T19:59:48.108Z"
   },
   {
    "duration": 60,
    "start_time": "2021-10-15T19:59:48.118Z"
   },
   {
    "duration": 11,
    "start_time": "2021-10-15T19:59:48.181Z"
   },
   {
    "duration": 23,
    "start_time": "2021-10-15T19:59:48.194Z"
   },
   {
    "duration": 71,
    "start_time": "2021-10-15T19:59:48.220Z"
   },
   {
    "duration": 10,
    "start_time": "2021-10-15T19:59:48.293Z"
   },
   {
    "duration": 16,
    "start_time": "2021-10-15T19:59:48.305Z"
   },
   {
    "duration": 14,
    "start_time": "2021-10-15T19:59:48.362Z"
   },
   {
    "duration": 27,
    "start_time": "2021-10-15T19:59:48.378Z"
   },
   {
    "duration": 71,
    "start_time": "2021-10-15T19:59:48.408Z"
   },
   {
    "duration": 24,
    "start_time": "2021-10-15T19:59:48.483Z"
   },
   {
    "duration": 17,
    "start_time": "2021-10-15T19:59:48.510Z"
   },
   {
    "duration": 14,
    "start_time": "2021-10-15T19:59:48.563Z"
   },
   {
    "duration": 103,
    "start_time": "2021-10-15T19:59:48.580Z"
   },
   {
    "duration": 25,
    "start_time": "2021-10-15T19:59:48.685Z"
   },
   {
    "duration": 13,
    "start_time": "2021-10-15T19:59:48.715Z"
   },
   {
    "duration": 36,
    "start_time": "2021-10-15T19:59:48.731Z"
   },
   {
    "duration": 32,
    "start_time": "2021-10-15T19:59:48.770Z"
   },
   {
    "duration": 6,
    "start_time": "2021-10-15T19:59:48.804Z"
   },
   {
    "duration": 99,
    "start_time": "2021-10-15T19:59:48.813Z"
   },
   {
    "duration": 5,
    "start_time": "2021-10-15T19:59:48.914Z"
   },
   {
    "duration": 8,
    "start_time": "2021-10-15T19:59:48.922Z"
   },
   {
    "duration": 1074,
    "start_time": "2021-10-15T19:59:48.961Z"
   },
   {
    "duration": 32,
    "start_time": "2021-10-15T19:59:50.037Z"
   },
   {
    "duration": 66,
    "start_time": "2021-10-15T19:59:50.071Z"
   },
   {
    "duration": 26,
    "start_time": "2021-10-15T19:59:50.163Z"
   },
   {
    "duration": 1412,
    "start_time": "2021-10-15T19:59:50.192Z"
   },
   {
    "duration": 1382,
    "start_time": "2021-10-15T20:00:40.267Z"
   },
   {
    "duration": 16,
    "start_time": "2021-10-15T20:01:48.582Z"
   },
   {
    "duration": 23,
    "start_time": "2021-10-15T20:01:53.236Z"
   },
   {
    "duration": 24,
    "start_time": "2021-10-15T20:02:19.073Z"
   },
   {
    "duration": 7886,
    "start_time": "2021-10-15T20:03:19.460Z"
   },
   {
    "duration": 9120,
    "start_time": "2021-10-15T20:03:39.964Z"
   },
   {
    "duration": 7,
    "start_time": "2021-10-15T20:04:10.298Z"
   },
   {
    "duration": 56,
    "start_time": "2021-10-15T20:04:10.308Z"
   },
   {
    "duration": 22,
    "start_time": "2021-10-15T20:04:10.368Z"
   },
   {
    "duration": 14,
    "start_time": "2021-10-15T20:04:10.393Z"
   },
   {
    "duration": 143,
    "start_time": "2021-10-15T20:04:10.409Z"
   },
   {
    "duration": 8,
    "start_time": "2021-10-15T20:04:10.561Z"
   },
   {
    "duration": 46,
    "start_time": "2021-10-15T20:04:10.571Z"
   },
   {
    "duration": 44,
    "start_time": "2021-10-15T20:04:10.620Z"
   },
   {
    "duration": 25,
    "start_time": "2021-10-15T20:04:10.668Z"
   },
   {
    "duration": 11,
    "start_time": "2021-10-15T20:04:10.696Z"
   },
   {
    "duration": 62,
    "start_time": "2021-10-15T20:04:10.709Z"
   },
   {
    "duration": 39,
    "start_time": "2021-10-15T20:04:10.774Z"
   },
   {
    "duration": 11,
    "start_time": "2021-10-15T20:04:10.816Z"
   },
   {
    "duration": 44,
    "start_time": "2021-10-15T20:04:10.830Z"
   },
   {
    "duration": 14,
    "start_time": "2021-10-15T20:04:10.877Z"
   },
   {
    "duration": 27,
    "start_time": "2021-10-15T20:04:10.894Z"
   },
   {
    "duration": 62,
    "start_time": "2021-10-15T20:04:10.923Z"
   },
   {
    "duration": 25,
    "start_time": "2021-10-15T20:04:10.988Z"
   },
   {
    "duration": 55,
    "start_time": "2021-10-15T20:04:11.015Z"
   },
   {
    "duration": 15,
    "start_time": "2021-10-15T20:04:11.073Z"
   },
   {
    "duration": 113,
    "start_time": "2021-10-15T20:04:11.091Z"
   },
   {
    "duration": 24,
    "start_time": "2021-10-15T20:04:11.206Z"
   },
   {
    "duration": 37,
    "start_time": "2021-10-15T20:04:11.233Z"
   },
   {
    "duration": 10,
    "start_time": "2021-10-15T20:04:11.273Z"
   },
   {
    "duration": 34,
    "start_time": "2021-10-15T20:04:11.285Z"
   },
   {
    "duration": 43,
    "start_time": "2021-10-15T20:04:11.321Z"
   },
   {
    "duration": 57,
    "start_time": "2021-10-15T20:04:11.368Z"
   },
   {
    "duration": 4,
    "start_time": "2021-10-15T20:04:11.428Z"
   },
   {
    "duration": 34,
    "start_time": "2021-10-15T20:04:11.434Z"
   },
   {
    "duration": 1178,
    "start_time": "2021-10-15T20:04:11.470Z"
   },
   {
    "duration": 27,
    "start_time": "2021-10-15T20:04:12.651Z"
   },
   {
    "duration": 1425,
    "start_time": "2021-10-15T20:04:12.681Z"
   },
   {
    "duration": 81,
    "start_time": "2021-10-15T20:10:23.971Z"
   },
   {
    "duration": 34,
    "start_time": "2021-10-15T20:12:03.017Z"
   },
   {
    "duration": 16,
    "start_time": "2021-10-15T20:13:25.092Z"
   },
   {
    "duration": 25,
    "start_time": "2021-10-15T20:13:43.928Z"
   },
   {
    "duration": 23,
    "start_time": "2021-10-15T20:13:52.284Z"
   },
   {
    "duration": 22,
    "start_time": "2021-10-15T20:14:38.885Z"
   },
   {
    "duration": 5798,
    "start_time": "2021-10-15T20:22:26.084Z"
   },
   {
    "duration": 1372,
    "start_time": "2021-10-15T20:26:39.759Z"
   },
   {
    "duration": 35,
    "start_time": "2021-10-15T20:27:02.113Z"
   },
   {
    "duration": 32,
    "start_time": "2021-10-15T20:27:07.598Z"
   },
   {
    "duration": 1021,
    "start_time": "2021-10-16T09:26:27.630Z"
   },
   {
    "duration": 39,
    "start_time": "2021-10-16T09:26:28.653Z"
   },
   {
    "duration": 17,
    "start_time": "2021-10-16T09:26:28.694Z"
   },
   {
    "duration": 11,
    "start_time": "2021-10-16T09:26:28.713Z"
   },
   {
    "duration": 5,
    "start_time": "2021-10-16T09:26:28.725Z"
   },
   {
    "duration": 6,
    "start_time": "2021-10-16T09:26:28.732Z"
   },
   {
    "duration": 63,
    "start_time": "2021-10-16T09:26:28.739Z"
   },
   {
    "duration": 4,
    "start_time": "2021-10-16T09:26:28.804Z"
   },
   {
    "duration": 16,
    "start_time": "2021-10-16T09:26:28.810Z"
   },
   {
    "duration": 7,
    "start_time": "2021-10-16T09:26:28.828Z"
   },
   {
    "duration": 16,
    "start_time": "2021-10-16T09:26:28.836Z"
   },
   {
    "duration": 58,
    "start_time": "2021-10-16T09:26:28.853Z"
   },
   {
    "duration": 7,
    "start_time": "2021-10-16T09:26:28.912Z"
   },
   {
    "duration": 10,
    "start_time": "2021-10-16T09:26:28.921Z"
   },
   {
    "duration": 7,
    "start_time": "2021-10-16T09:26:28.933Z"
   },
   {
    "duration": 51,
    "start_time": "2021-10-16T09:26:28.942Z"
   },
   {
    "duration": 16,
    "start_time": "2021-10-16T09:26:28.995Z"
   },
   {
    "duration": 19,
    "start_time": "2021-10-16T09:26:29.013Z"
   },
   {
    "duration": 13,
    "start_time": "2021-10-16T09:26:29.033Z"
   },
   {
    "duration": 49,
    "start_time": "2021-10-16T09:26:29.047Z"
   },
   {
    "duration": 44,
    "start_time": "2021-10-16T09:26:29.098Z"
   },
   {
    "duration": 14,
    "start_time": "2021-10-16T09:26:29.144Z"
   },
   {
    "duration": 30,
    "start_time": "2021-10-16T09:26:29.161Z"
   },
   {
    "duration": 7,
    "start_time": "2021-10-16T09:26:29.193Z"
   },
   {
    "duration": 22,
    "start_time": "2021-10-16T09:26:29.201Z"
   },
   {
    "duration": 4,
    "start_time": "2021-10-16T09:26:29.224Z"
   },
   {
    "duration": 32,
    "start_time": "2021-10-16T09:26:29.230Z"
   },
   {
    "duration": 3,
    "start_time": "2021-10-16T09:26:29.264Z"
   },
   {
    "duration": 6,
    "start_time": "2021-10-16T09:26:29.291Z"
   },
   {
    "duration": 648,
    "start_time": "2021-10-16T09:26:29.298Z"
   },
   {
    "duration": 11,
    "start_time": "2021-10-16T09:26:29.947Z"
   },
   {
    "duration": 12,
    "start_time": "2021-10-16T09:26:29.959Z"
   },
   {
    "duration": 894,
    "start_time": "2021-10-16T09:26:29.972Z"
   },
   {
    "duration": 24,
    "start_time": "2021-10-16T09:26:30.868Z"
   },
   {
    "duration": 20,
    "start_time": "2021-10-16T09:26:30.894Z"
   },
   {
    "duration": 18,
    "start_time": "2021-10-16T09:26:30.916Z"
   },
   {
    "duration": 269,
    "start_time": "2021-10-16T10:09:50.191Z"
   },
   {
    "duration": 8,
    "start_time": "2021-10-16T10:10:03.074Z"
   },
   {
    "duration": 87,
    "start_time": "2021-10-16T10:32:20.173Z"
   },
   {
    "duration": 8,
    "start_time": "2021-10-16T10:34:39.595Z"
   },
   {
    "duration": 647,
    "start_time": "2021-10-16T10:36:01.544Z"
   },
   {
    "duration": 6,
    "start_time": "2021-10-16T10:36:07.557Z"
   },
   {
    "duration": 665,
    "start_time": "2021-10-16T10:36:09.009Z"
   },
   {
    "duration": 4,
    "start_time": "2021-10-16T10:36:31.311Z"
   },
   {
    "duration": 41,
    "start_time": "2021-10-16T10:36:31.316Z"
   },
   {
    "duration": 12,
    "start_time": "2021-10-16T10:36:31.359Z"
   },
   {
    "duration": 11,
    "start_time": "2021-10-16T10:36:31.373Z"
   },
   {
    "duration": 7,
    "start_time": "2021-10-16T10:36:31.386Z"
   },
   {
    "duration": 6,
    "start_time": "2021-10-16T10:36:31.394Z"
   },
   {
    "duration": 30,
    "start_time": "2021-10-16T10:36:31.401Z"
   },
   {
    "duration": 4,
    "start_time": "2021-10-16T10:36:31.434Z"
   },
   {
    "duration": 51,
    "start_time": "2021-10-16T10:36:31.440Z"
   },
   {
    "duration": 7,
    "start_time": "2021-10-16T10:36:31.493Z"
   },
   {
    "duration": 16,
    "start_time": "2021-10-16T10:36:31.502Z"
   },
   {
    "duration": 24,
    "start_time": "2021-10-16T10:36:31.520Z"
   },
   {
    "duration": 8,
    "start_time": "2021-10-16T10:36:31.546Z"
   },
   {
    "duration": 47,
    "start_time": "2021-10-16T10:36:31.556Z"
   },
   {
    "duration": 9,
    "start_time": "2021-10-16T10:36:31.605Z"
   },
   {
    "duration": 18,
    "start_time": "2021-10-16T10:36:31.616Z"
   },
   {
    "duration": 16,
    "start_time": "2021-10-16T10:36:31.635Z"
   },
   {
    "duration": 53,
    "start_time": "2021-10-16T10:36:31.652Z"
   },
   {
    "duration": 14,
    "start_time": "2021-10-16T10:36:31.706Z"
   },
   {
    "duration": 11,
    "start_time": "2021-10-16T10:36:31.722Z"
   },
   {
    "duration": 67,
    "start_time": "2021-10-16T10:36:31.735Z"
   },
   {
    "duration": 16,
    "start_time": "2021-10-16T10:36:31.804Z"
   },
   {
    "duration": 13,
    "start_time": "2021-10-16T10:36:31.823Z"
   },
   {
    "duration": 7,
    "start_time": "2021-10-16T10:36:31.838Z"
   },
   {
    "duration": 49,
    "start_time": "2021-10-16T10:36:31.846Z"
   },
   {
    "duration": 5,
    "start_time": "2021-10-16T10:36:31.896Z"
   },
   {
    "duration": 35,
    "start_time": "2021-10-16T10:36:31.902Z"
   },
   {
    "duration": 7,
    "start_time": "2021-10-16T10:36:31.939Z"
   },
   {
    "duration": 7,
    "start_time": "2021-10-16T10:36:31.947Z"
   },
   {
    "duration": 643,
    "start_time": "2021-10-16T10:36:31.956Z"
   },
   {
    "duration": 10,
    "start_time": "2021-10-16T10:36:32.601Z"
   },
   {
    "duration": 11,
    "start_time": "2021-10-16T10:36:32.613Z"
   },
   {
    "duration": 858,
    "start_time": "2021-10-16T10:36:32.625Z"
   },
   {
    "duration": 7,
    "start_time": "2021-10-16T10:36:33.491Z"
   },
   {
    "duration": 655,
    "start_time": "2021-10-16T10:36:33.500Z"
   },
   {
    "duration": 326,
    "start_time": "2021-10-16T10:36:46.870Z"
   },
   {
    "duration": 4697,
    "start_time": "2021-10-16T10:37:03.901Z"
   },
   {
    "duration": 19,
    "start_time": "2021-10-16T10:37:21.296Z"
   },
   {
    "duration": 350,
    "start_time": "2021-10-16T10:37:51.215Z"
   },
   {
    "duration": 342,
    "start_time": "2021-10-16T10:39:22.480Z"
   },
   {
    "duration": 59,
    "start_time": "2021-10-16T10:58:20.395Z"
   },
   {
    "duration": 435,
    "start_time": "2021-10-16T10:58:53.410Z"
   },
   {
    "duration": 342,
    "start_time": "2021-10-16T10:59:05.659Z"
   },
   {
    "duration": 480,
    "start_time": "2021-10-16T11:09:12.152Z"
   },
   {
    "duration": 643,
    "start_time": "2021-10-16T11:10:20.670Z"
   },
   {
    "duration": 7,
    "start_time": "2021-10-16T11:29:01.593Z"
   },
   {
    "duration": 19,
    "start_time": "2021-10-16T11:29:04.492Z"
   },
   {
    "duration": 6,
    "start_time": "2021-10-16T11:29:18.628Z"
   },
   {
    "duration": 19,
    "start_time": "2021-10-16T12:29:28.449Z"
   },
   {
    "duration": 323,
    "start_time": "2021-10-16T12:29:42.496Z"
   },
   {
    "duration": 323,
    "start_time": "2021-10-16T12:29:51.737Z"
   },
   {
    "duration": 342,
    "start_time": "2021-10-16T12:34:58.090Z"
   },
   {
    "duration": 10,
    "start_time": "2021-10-16T12:55:03.186Z"
   },
   {
    "duration": 39,
    "start_time": "2021-10-16T12:55:06.764Z"
   },
   {
    "duration": 25,
    "start_time": "2021-10-16T12:55:25.150Z"
   },
   {
    "duration": 21,
    "start_time": "2021-10-16T12:56:13.973Z"
   },
   {
    "duration": 22,
    "start_time": "2021-10-16T12:56:19.125Z"
   },
   {
    "duration": 339,
    "start_time": "2021-10-16T12:57:40.688Z"
   },
   {
    "duration": 189,
    "start_time": "2021-10-16T13:10:48.987Z"
   },
   {
    "duration": 34,
    "start_time": "2021-10-16T13:11:01.598Z"
   },
   {
    "duration": 62,
    "start_time": "2021-10-16T13:11:20.741Z"
   },
   {
    "duration": 25,
    "start_time": "2021-10-16T13:11:28.848Z"
   },
   {
    "duration": 27,
    "start_time": "2021-10-16T13:11:45.034Z"
   },
   {
    "duration": 24,
    "start_time": "2021-10-16T13:13:49.851Z"
   },
   {
    "duration": 66,
    "start_time": "2021-10-16T13:18:03.334Z"
   },
   {
    "duration": 21,
    "start_time": "2021-10-16T13:19:10.530Z"
   },
   {
    "duration": 184,
    "start_time": "2021-10-16T13:19:21.581Z"
   },
   {
    "duration": 1172,
    "start_time": "2021-10-16T13:19:32.449Z"
   },
   {
    "duration": 627,
    "start_time": "2021-10-16T13:20:53.068Z"
   },
   {
    "duration": 652,
    "start_time": "2021-10-16T13:21:11.484Z"
   },
   {
    "duration": 687,
    "start_time": "2021-10-16T13:21:22.905Z"
   },
   {
    "duration": 630,
    "start_time": "2021-10-16T13:21:34.925Z"
   },
   {
    "duration": 639,
    "start_time": "2021-10-16T13:22:12.569Z"
   },
   {
    "duration": 628,
    "start_time": "2021-10-16T13:22:32.936Z"
   },
   {
    "duration": 349,
    "start_time": "2021-10-16T13:23:25.275Z"
   },
   {
    "duration": 345,
    "start_time": "2021-10-16T13:23:32.289Z"
   },
   {
    "duration": 602,
    "start_time": "2021-10-16T13:23:50.151Z"
   },
   {
    "duration": 486,
    "start_time": "2021-10-16T13:27:33.035Z"
   },
   {
    "duration": 591,
    "start_time": "2021-10-16T13:27:39.964Z"
   },
   {
    "duration": 677,
    "start_time": "2021-10-16T13:28:51.983Z"
   },
   {
    "duration": 599,
    "start_time": "2021-10-16T13:29:06.222Z"
   },
   {
    "duration": 14,
    "start_time": "2021-10-16T13:30:33.826Z"
   },
   {
    "duration": 9,
    "start_time": "2021-10-16T13:31:14.434Z"
   },
   {
    "duration": 9,
    "start_time": "2021-10-16T13:31:25.038Z"
   },
   {
    "duration": 6,
    "start_time": "2021-10-16T13:32:22.409Z"
   },
   {
    "duration": 682,
    "start_time": "2021-10-16T13:32:24.272Z"
   },
   {
    "duration": 611,
    "start_time": "2021-10-16T13:32:27.868Z"
   },
   {
    "duration": 8,
    "start_time": "2021-10-16T13:32:31.735Z"
   },
   {
    "duration": 636,
    "start_time": "2021-10-16T13:38:38.476Z"
   },
   {
    "duration": 602,
    "start_time": "2021-10-16T13:39:10.411Z"
   },
   {
    "duration": 636,
    "start_time": "2021-10-16T13:39:27.697Z"
   },
   {
    "duration": 613,
    "start_time": "2021-10-16T13:39:59.632Z"
   },
   {
    "duration": 637,
    "start_time": "2021-10-16T13:40:15.592Z"
   },
   {
    "duration": 4,
    "start_time": "2021-10-16T13:40:33.422Z"
   },
   {
    "duration": 37,
    "start_time": "2021-10-16T13:40:33.428Z"
   },
   {
    "duration": 13,
    "start_time": "2021-10-16T13:40:33.467Z"
   },
   {
    "duration": 10,
    "start_time": "2021-10-16T13:40:33.482Z"
   },
   {
    "duration": 4,
    "start_time": "2021-10-16T13:40:33.493Z"
   },
   {
    "duration": 6,
    "start_time": "2021-10-16T13:40:33.499Z"
   },
   {
    "duration": 28,
    "start_time": "2021-10-16T13:40:33.508Z"
   },
   {
    "duration": 4,
    "start_time": "2021-10-16T13:40:33.538Z"
   },
   {
    "duration": 48,
    "start_time": "2021-10-16T13:40:33.544Z"
   },
   {
    "duration": 8,
    "start_time": "2021-10-16T13:40:33.594Z"
   },
   {
    "duration": 16,
    "start_time": "2021-10-16T13:40:33.603Z"
   },
   {
    "duration": 25,
    "start_time": "2021-10-16T13:40:33.620Z"
   },
   {
    "duration": 7,
    "start_time": "2021-10-16T13:40:33.646Z"
   },
   {
    "duration": 42,
    "start_time": "2021-10-16T13:40:33.654Z"
   },
   {
    "duration": 9,
    "start_time": "2021-10-16T13:40:33.698Z"
   },
   {
    "duration": 15,
    "start_time": "2021-10-16T13:40:33.709Z"
   },
   {
    "duration": 15,
    "start_time": "2021-10-16T13:40:33.726Z"
   },
   {
    "duration": 14,
    "start_time": "2021-10-16T13:40:33.743Z"
   },
   {
    "duration": 14,
    "start_time": "2021-10-16T13:40:33.792Z"
   },
   {
    "duration": 15,
    "start_time": "2021-10-16T13:40:33.808Z"
   },
   {
    "duration": 68,
    "start_time": "2021-10-16T13:40:33.824Z"
   },
   {
    "duration": 16,
    "start_time": "2021-10-16T13:40:33.894Z"
   },
   {
    "duration": 15,
    "start_time": "2021-10-16T13:40:33.911Z"
   },
   {
    "duration": 7,
    "start_time": "2021-10-16T13:40:33.928Z"
   },
   {
    "duration": 24,
    "start_time": "2021-10-16T13:40:33.936Z"
   },
   {
    "duration": 5,
    "start_time": "2021-10-16T13:40:33.961Z"
   },
   {
    "duration": 32,
    "start_time": "2021-10-16T13:40:33.992Z"
   },
   {
    "duration": 9,
    "start_time": "2021-10-16T13:40:34.026Z"
   },
   {
    "duration": 7,
    "start_time": "2021-10-16T13:40:34.036Z"
   },
   {
    "duration": 657,
    "start_time": "2021-10-16T13:40:34.045Z"
   },
   {
    "duration": 3,
    "start_time": "2021-10-16T13:40:34.704Z"
   },
   {
    "duration": 19,
    "start_time": "2021-10-16T13:40:34.708Z"
   },
   {
    "duration": 884,
    "start_time": "2021-10-16T13:40:34.728Z"
   },
   {
    "duration": 7,
    "start_time": "2021-10-16T13:40:35.613Z"
   },
   {
    "duration": 452,
    "start_time": "2021-10-16T13:40:35.622Z"
   },
   {
    "duration": 679,
    "start_time": "2021-10-16T13:40:36.076Z"
   },
   {
    "duration": 6,
    "start_time": "2021-10-16T13:40:36.757Z"
   },
   {
    "duration": 33,
    "start_time": "2021-10-16T13:40:36.765Z"
   },
   {
    "duration": 350,
    "start_time": "2021-10-16T13:40:36.800Z"
   },
   {
    "duration": 24,
    "start_time": "2021-10-16T13:40:37.152Z"
   },
   {
    "duration": 18,
    "start_time": "2021-10-16T13:40:37.177Z"
   },
   {
    "duration": 615,
    "start_time": "2021-10-16T13:40:37.197Z"
   },
   {
    "duration": 606,
    "start_time": "2021-10-16T13:40:37.814Z"
   },
   {
    "duration": 54,
    "start_time": "2021-10-16T13:41:20.986Z"
   },
   {
    "duration": 228,
    "start_time": "2021-10-16T13:42:44.252Z"
   },
   {
    "duration": 596,
    "start_time": "2021-10-16T13:42:53.431Z"
   },
   {
    "duration": 4871,
    "start_time": "2021-10-16T13:43:10.395Z"
   },
   {
    "duration": 7,
    "start_time": "2021-10-16T13:43:44.427Z"
   },
   {
    "duration": 594,
    "start_time": "2021-10-16T13:43:45.531Z"
   },
   {
    "duration": 624,
    "start_time": "2021-10-16T13:43:56.031Z"
   },
   {
    "duration": 4,
    "start_time": "2021-10-16T13:46:34.414Z"
   },
   {
    "duration": 41,
    "start_time": "2021-10-16T13:46:34.421Z"
   },
   {
    "duration": 13,
    "start_time": "2021-10-16T13:46:34.465Z"
   },
   {
    "duration": 13,
    "start_time": "2021-10-16T13:46:34.480Z"
   },
   {
    "duration": 5,
    "start_time": "2021-10-16T13:46:34.495Z"
   },
   {
    "duration": 6,
    "start_time": "2021-10-16T13:46:34.501Z"
   },
   {
    "duration": 28,
    "start_time": "2021-10-16T13:46:34.509Z"
   },
   {
    "duration": 4,
    "start_time": "2021-10-16T13:46:34.539Z"
   },
   {
    "duration": 51,
    "start_time": "2021-10-16T13:46:34.545Z"
   },
   {
    "duration": 7,
    "start_time": "2021-10-16T13:46:34.598Z"
   },
   {
    "duration": 15,
    "start_time": "2021-10-16T13:46:34.606Z"
   },
   {
    "duration": 24,
    "start_time": "2021-10-16T13:46:34.622Z"
   },
   {
    "duration": 6,
    "start_time": "2021-10-16T13:46:34.648Z"
   },
   {
    "duration": 44,
    "start_time": "2021-10-16T13:46:34.656Z"
   },
   {
    "duration": 7,
    "start_time": "2021-10-16T13:46:34.702Z"
   },
   {
    "duration": 15,
    "start_time": "2021-10-16T13:46:34.711Z"
   },
   {
    "duration": 15,
    "start_time": "2021-10-16T13:46:34.728Z"
   },
   {
    "duration": 51,
    "start_time": "2021-10-16T13:46:34.745Z"
   },
   {
    "duration": 12,
    "start_time": "2021-10-16T13:46:34.798Z"
   },
   {
    "duration": 10,
    "start_time": "2021-10-16T13:46:34.811Z"
   },
   {
    "duration": 73,
    "start_time": "2021-10-16T13:46:34.822Z"
   },
   {
    "duration": 15,
    "start_time": "2021-10-16T13:46:34.896Z"
   },
   {
    "duration": 9,
    "start_time": "2021-10-16T13:46:34.914Z"
   },
   {
    "duration": 7,
    "start_time": "2021-10-16T13:46:34.925Z"
   },
   {
    "duration": 24,
    "start_time": "2021-10-16T13:46:34.933Z"
   },
   {
    "duration": 35,
    "start_time": "2021-10-16T13:46:34.958Z"
   },
   {
    "duration": 37,
    "start_time": "2021-10-16T13:46:34.995Z"
   },
   {
    "duration": 6,
    "start_time": "2021-10-16T13:46:35.034Z"
   },
   {
    "duration": 7,
    "start_time": "2021-10-16T13:46:35.042Z"
   },
   {
    "duration": 731,
    "start_time": "2021-10-16T13:46:35.052Z"
   },
   {
    "duration": 2,
    "start_time": "2021-10-16T13:46:35.785Z"
   },
   {
    "duration": 13,
    "start_time": "2021-10-16T13:46:35.791Z"
   },
   {
    "duration": 881,
    "start_time": "2021-10-16T13:46:35.806Z"
   },
   {
    "duration": 6,
    "start_time": "2021-10-16T13:46:36.689Z"
   },
   {
    "duration": 372,
    "start_time": "2021-10-16T13:46:36.697Z"
   },
   {
    "duration": 673,
    "start_time": "2021-10-16T13:46:37.071Z"
   },
   {
    "duration": 7,
    "start_time": "2021-10-16T13:46:37.745Z"
   },
   {
    "duration": 20,
    "start_time": "2021-10-16T13:46:37.754Z"
   },
   {
    "duration": 354,
    "start_time": "2021-10-16T13:46:37.776Z"
   },
   {
    "duration": 25,
    "start_time": "2021-10-16T13:46:38.132Z"
   },
   {
    "duration": 7,
    "start_time": "2021-10-16T13:46:38.158Z"
   },
   {
    "duration": 641,
    "start_time": "2021-10-16T13:46:38.166Z"
   },
   {
    "duration": 619,
    "start_time": "2021-10-16T13:46:38.809Z"
   },
   {
    "duration": 29,
    "start_time": "2021-10-16T13:57:51.566Z"
   },
   {
    "duration": 61,
    "start_time": "2021-10-16T14:23:12.849Z"
   },
   {
    "duration": 4754,
    "start_time": "2021-10-16T14:24:22.293Z"
   },
   {
    "duration": 759,
    "start_time": "2021-10-16T14:24:47.328Z"
   },
   {
    "duration": 189,
    "start_time": "2021-10-16T14:25:26.325Z"
   },
   {
    "duration": 27,
    "start_time": "2021-10-16T14:25:48.538Z"
   },
   {
    "duration": 4367,
    "start_time": "2021-10-16T14:26:00.416Z"
   },
   {
    "duration": 375,
    "start_time": "2021-10-16T14:26:39.816Z"
   },
   {
    "duration": 381,
    "start_time": "2021-10-16T14:27:55.937Z"
   },
   {
    "duration": 32,
    "start_time": "2021-10-16T14:28:26.718Z"
   },
   {
    "duration": 52,
    "start_time": "2021-10-16T14:28:51.416Z"
   },
   {
    "duration": 360,
    "start_time": "2021-10-16T14:28:52.170Z"
   },
   {
    "duration": 447,
    "start_time": "2021-10-16T14:33:53.761Z"
   },
   {
    "duration": 203,
    "start_time": "2021-10-16T14:40:04.561Z"
   },
   {
    "duration": 6,
    "start_time": "2021-10-16T14:40:15.144Z"
   },
   {
    "duration": 46,
    "start_time": "2021-10-16T14:40:15.152Z"
   },
   {
    "duration": 17,
    "start_time": "2021-10-16T14:40:15.200Z"
   },
   {
    "duration": 16,
    "start_time": "2021-10-16T14:40:15.219Z"
   },
   {
    "duration": 6,
    "start_time": "2021-10-16T14:40:15.238Z"
   },
   {
    "duration": 8,
    "start_time": "2021-10-16T14:40:15.245Z"
   },
   {
    "duration": 69,
    "start_time": "2021-10-16T14:40:15.254Z"
   },
   {
    "duration": 4,
    "start_time": "2021-10-16T14:40:15.325Z"
   },
   {
    "duration": 14,
    "start_time": "2021-10-16T14:40:15.332Z"
   },
   {
    "duration": 7,
    "start_time": "2021-10-16T14:40:15.348Z"
   },
   {
    "duration": 47,
    "start_time": "2021-10-16T14:40:15.357Z"
   },
   {
    "duration": 25,
    "start_time": "2021-10-16T14:40:15.407Z"
   },
   {
    "duration": 9,
    "start_time": "2021-10-16T14:40:15.433Z"
   },
   {
    "duration": 47,
    "start_time": "2021-10-16T14:40:15.444Z"
   },
   {
    "duration": 10,
    "start_time": "2021-10-16T14:40:15.493Z"
   },
   {
    "duration": 17,
    "start_time": "2021-10-16T14:40:15.505Z"
   },
   {
    "duration": 17,
    "start_time": "2021-10-16T14:40:15.523Z"
   },
   {
    "duration": 57,
    "start_time": "2021-10-16T14:40:15.542Z"
   },
   {
    "duration": 12,
    "start_time": "2021-10-16T14:40:15.601Z"
   },
   {
    "duration": 11,
    "start_time": "2021-10-16T14:40:15.615Z"
   },
   {
    "duration": 70,
    "start_time": "2021-10-16T14:40:15.627Z"
   },
   {
    "duration": 17,
    "start_time": "2021-10-16T14:40:15.699Z"
   },
   {
    "duration": 11,
    "start_time": "2021-10-16T14:40:15.718Z"
   },
   {
    "duration": 9,
    "start_time": "2021-10-16T14:40:15.730Z"
   },
   {
    "duration": 59,
    "start_time": "2021-10-16T14:40:15.741Z"
   },
   {
    "duration": 6,
    "start_time": "2021-10-16T14:40:15.801Z"
   },
   {
    "duration": 31,
    "start_time": "2021-10-16T14:40:15.810Z"
   },
   {
    "duration": 8,
    "start_time": "2021-10-16T14:40:15.843Z"
   },
   {
    "duration": 7,
    "start_time": "2021-10-16T14:40:15.853Z"
   },
   {
    "duration": 646,
    "start_time": "2021-10-16T14:40:15.861Z"
   },
   {
    "duration": 12,
    "start_time": "2021-10-16T14:40:16.509Z"
   },
   {
    "duration": 842,
    "start_time": "2021-10-16T14:40:16.522Z"
   },
   {
    "duration": 6,
    "start_time": "2021-10-16T14:40:17.366Z"
   },
   {
    "duration": 357,
    "start_time": "2021-10-16T14:40:17.373Z"
   },
   {
    "duration": 641,
    "start_time": "2021-10-16T14:40:17.732Z"
   },
   {
    "duration": 8,
    "start_time": "2021-10-16T14:40:18.375Z"
   },
   {
    "duration": 345,
    "start_time": "2021-10-16T14:40:18.391Z"
   },
   {
    "duration": 25,
    "start_time": "2021-10-16T14:40:18.737Z"
   },
   {
    "duration": 6,
    "start_time": "2021-10-16T14:40:18.764Z"
   },
   {
    "duration": 643,
    "start_time": "2021-10-16T14:40:18.771Z"
   },
   {
    "duration": 622,
    "start_time": "2021-10-16T14:40:19.416Z"
   },
   {
    "duration": 51,
    "start_time": "2021-10-16T14:40:20.040Z"
   },
   {
    "duration": 398,
    "start_time": "2021-10-16T14:40:20.093Z"
   },
   {
    "duration": 469,
    "start_time": "2021-10-16T14:40:20.493Z"
   },
   {
    "duration": 63,
    "start_time": "2021-10-16T14:42:46.654Z"
   },
   {
    "duration": 5686,
    "start_time": "2021-10-16T14:45:26.237Z"
   },
   {
    "duration": 6,
    "start_time": "2021-10-16T14:46:15.696Z"
   },
   {
    "duration": 51,
    "start_time": "2021-10-16T14:46:15.704Z"
   },
   {
    "duration": 17,
    "start_time": "2021-10-16T14:46:15.758Z"
   },
   {
    "duration": 14,
    "start_time": "2021-10-16T14:46:15.792Z"
   },
   {
    "duration": 6,
    "start_time": "2021-10-16T14:46:15.807Z"
   },
   {
    "duration": 6,
    "start_time": "2021-10-16T14:46:15.815Z"
   },
   {
    "duration": 69,
    "start_time": "2021-10-16T14:46:15.823Z"
   },
   {
    "duration": 5,
    "start_time": "2021-10-16T14:46:15.896Z"
   },
   {
    "duration": 21,
    "start_time": "2021-10-16T14:46:15.903Z"
   },
   {
    "duration": 10,
    "start_time": "2021-10-16T14:46:15.926Z"
   },
   {
    "duration": 25,
    "start_time": "2021-10-16T14:46:15.937Z"
   },
   {
    "duration": 45,
    "start_time": "2021-10-16T14:46:15.963Z"
   },
   {
    "duration": 9,
    "start_time": "2021-10-16T14:46:16.010Z"
   },
   {
    "duration": 15,
    "start_time": "2021-10-16T14:46:16.021Z"
   },
   {
    "duration": 10,
    "start_time": "2021-10-16T14:46:16.038Z"
   },
   {
    "duration": 41,
    "start_time": "2021-10-16T14:46:16.050Z"
   },
   {
    "duration": 15,
    "start_time": "2021-10-16T14:46:16.093Z"
   },
   {
    "duration": 16,
    "start_time": "2021-10-16T14:46:16.110Z"
   },
   {
    "duration": 13,
    "start_time": "2021-10-16T14:46:16.128Z"
   },
   {
    "duration": 50,
    "start_time": "2021-10-16T14:46:16.142Z"
   },
   {
    "duration": 46,
    "start_time": "2021-10-16T14:46:16.193Z"
   },
   {
    "duration": 15,
    "start_time": "2021-10-16T14:46:16.241Z"
   },
   {
    "duration": 33,
    "start_time": "2021-10-16T14:46:16.259Z"
   },
   {
    "duration": 8,
    "start_time": "2021-10-16T14:46:16.294Z"
   },
   {
    "duration": 25,
    "start_time": "2021-10-16T14:46:16.303Z"
   },
   {
    "duration": 4,
    "start_time": "2021-10-16T14:46:16.330Z"
   },
   {
    "duration": 62,
    "start_time": "2021-10-16T14:46:16.336Z"
   },
   {
    "duration": 3,
    "start_time": "2021-10-16T14:46:16.400Z"
   },
   {
    "duration": 14,
    "start_time": "2021-10-16T14:46:16.404Z"
   },
   {
    "duration": 635,
    "start_time": "2021-10-16T14:46:16.419Z"
   },
   {
    "duration": 12,
    "start_time": "2021-10-16T14:46:17.056Z"
   },
   {
    "duration": 882,
    "start_time": "2021-10-16T14:46:17.070Z"
   },
   {
    "duration": 8,
    "start_time": "2021-10-16T14:46:17.954Z"
   },
   {
    "duration": 368,
    "start_time": "2021-10-16T14:46:17.964Z"
   },
   {
    "duration": 629,
    "start_time": "2021-10-16T14:46:18.334Z"
   },
   {
    "duration": 9,
    "start_time": "2021-10-16T14:46:18.965Z"
   },
   {
    "duration": 349,
    "start_time": "2021-10-16T14:46:18.976Z"
   },
   {
    "duration": 28,
    "start_time": "2021-10-16T14:46:19.327Z"
   },
   {
    "duration": 34,
    "start_time": "2021-10-16T14:46:19.357Z"
   },
   {
    "duration": 623,
    "start_time": "2021-10-16T14:46:19.393Z"
   },
   {
    "duration": 628,
    "start_time": "2021-10-16T14:46:20.018Z"
   },
   {
    "duration": 28,
    "start_time": "2021-10-16T14:46:20.647Z"
   },
   {
    "duration": 371,
    "start_time": "2021-10-16T14:46:20.677Z"
   },
   {
    "duration": 4763,
    "start_time": "2021-10-16T14:46:21.050Z"
   },
   {
    "duration": -127,
    "start_time": "2021-10-16T14:46:25.943Z"
   },
   {
    "duration": 4,
    "start_time": "2021-10-16T14:46:45.509Z"
   },
   {
    "duration": 41,
    "start_time": "2021-10-16T14:46:45.515Z"
   },
   {
    "duration": 12,
    "start_time": "2021-10-16T14:46:45.558Z"
   },
   {
    "duration": 9,
    "start_time": "2021-10-16T14:46:45.572Z"
   },
   {
    "duration": 3,
    "start_time": "2021-10-16T14:46:45.592Z"
   },
   {
    "duration": 5,
    "start_time": "2021-10-16T14:46:45.597Z"
   },
   {
    "duration": 28,
    "start_time": "2021-10-16T14:46:45.604Z"
   },
   {
    "duration": 4,
    "start_time": "2021-10-16T14:46:45.635Z"
   },
   {
    "duration": 141,
    "start_time": "2021-10-16T14:46:45.641Z"
   },
   {
    "duration": 11,
    "start_time": "2021-10-16T14:46:45.784Z"
   },
   {
    "duration": 15,
    "start_time": "2021-10-16T14:46:45.796Z"
   },
   {
    "duration": 22,
    "start_time": "2021-10-16T14:46:45.813Z"
   },
   {
    "duration": 7,
    "start_time": "2021-10-16T14:46:45.836Z"
   },
   {
    "duration": 10,
    "start_time": "2021-10-16T14:46:45.844Z"
   },
   {
    "duration": 7,
    "start_time": "2021-10-16T14:46:45.892Z"
   },
   {
    "duration": 16,
    "start_time": "2021-10-16T14:46:45.900Z"
   },
   {
    "duration": 16,
    "start_time": "2021-10-16T14:46:45.917Z"
   },
   {
    "duration": 20,
    "start_time": "2021-10-16T14:46:45.935Z"
   },
   {
    "duration": 17,
    "start_time": "2021-10-16T14:46:45.991Z"
   },
   {
    "duration": 14,
    "start_time": "2021-10-16T14:46:46.009Z"
   },
   {
    "duration": 83,
    "start_time": "2021-10-16T14:46:46.025Z"
   },
   {
    "duration": 15,
    "start_time": "2021-10-16T14:46:46.110Z"
   },
   {
    "duration": 8,
    "start_time": "2021-10-16T14:46:46.128Z"
   },
   {
    "duration": 7,
    "start_time": "2021-10-16T14:46:46.138Z"
   },
   {
    "duration": 47,
    "start_time": "2021-10-16T14:46:46.146Z"
   },
   {
    "duration": 5,
    "start_time": "2021-10-16T14:46:46.194Z"
   },
   {
    "duration": 43,
    "start_time": "2021-10-16T14:46:46.201Z"
   },
   {
    "duration": 3,
    "start_time": "2021-10-16T14:46:46.246Z"
   },
   {
    "duration": 10,
    "start_time": "2021-10-16T14:46:46.251Z"
   },
   {
    "duration": 696,
    "start_time": "2021-10-16T14:46:46.263Z"
   },
   {
    "duration": 13,
    "start_time": "2021-10-16T14:46:46.961Z"
   },
   {
    "duration": 887,
    "start_time": "2021-10-16T14:46:46.975Z"
   },
   {
    "duration": 5,
    "start_time": "2021-10-16T14:46:47.864Z"
   },
   {
    "duration": 362,
    "start_time": "2021-10-16T14:46:47.871Z"
   },
   {
    "duration": 702,
    "start_time": "2021-10-16T14:46:48.235Z"
   },
   {
    "duration": 7,
    "start_time": "2021-10-16T14:46:48.939Z"
   },
   {
    "duration": 344,
    "start_time": "2021-10-16T14:46:48.948Z"
   },
   {
    "duration": 27,
    "start_time": "2021-10-16T14:46:49.294Z"
   },
   {
    "duration": 7,
    "start_time": "2021-10-16T14:46:49.322Z"
   },
   {
    "duration": 611,
    "start_time": "2021-10-16T14:46:49.330Z"
   },
   {
    "duration": 604,
    "start_time": "2021-10-16T14:46:49.943Z"
   },
   {
    "duration": 47,
    "start_time": "2021-10-16T14:46:50.549Z"
   },
   {
    "duration": 361,
    "start_time": "2021-10-16T14:46:50.597Z"
   },
   {
    "duration": 362,
    "start_time": "2021-10-16T14:46:50.960Z"
   },
   {
    "duration": 179,
    "start_time": "2021-10-16T14:46:51.323Z"
   },
   {
    "duration": 62,
    "start_time": "2021-10-16T14:48:20.278Z"
   },
   {
    "duration": 10,
    "start_time": "2021-10-16T14:50:23.069Z"
   },
   {
    "duration": 5,
    "start_time": "2021-10-16T14:50:39.217Z"
   },
   {
    "duration": 42,
    "start_time": "2021-10-16T14:50:39.223Z"
   },
   {
    "duration": 12,
    "start_time": "2021-10-16T14:50:39.267Z"
   },
   {
    "duration": 10,
    "start_time": "2021-10-16T14:50:39.281Z"
   },
   {
    "duration": 3,
    "start_time": "2021-10-16T14:50:39.292Z"
   },
   {
    "duration": 5,
    "start_time": "2021-10-16T14:50:39.297Z"
   },
   {
    "duration": 138,
    "start_time": "2021-10-16T14:50:39.304Z"
   },
   {
    "duration": 4,
    "start_time": "2021-10-16T14:50:39.444Z"
   },
   {
    "duration": 15,
    "start_time": "2021-10-16T14:50:39.450Z"
   },
   {
    "duration": 26,
    "start_time": "2021-10-16T14:50:39.467Z"
   },
   {
    "duration": 16,
    "start_time": "2021-10-16T14:50:39.495Z"
   },
   {
    "duration": 23,
    "start_time": "2021-10-16T14:50:39.513Z"
   },
   {
    "duration": 6,
    "start_time": "2021-10-16T14:50:39.538Z"
   },
   {
    "duration": 10,
    "start_time": "2021-10-16T14:50:39.546Z"
   },
   {
    "duration": 7,
    "start_time": "2021-10-16T14:50:39.592Z"
   },
   {
    "duration": 17,
    "start_time": "2021-10-16T14:50:39.601Z"
   },
   {
    "duration": 15,
    "start_time": "2021-10-16T14:50:39.619Z"
   },
   {
    "duration": 15,
    "start_time": "2021-10-16T14:50:39.636Z"
   },
   {
    "duration": 49,
    "start_time": "2021-10-16T14:50:39.652Z"
   },
   {
    "duration": 10,
    "start_time": "2021-10-16T14:50:39.703Z"
   },
   {
    "duration": 43,
    "start_time": "2021-10-16T14:50:39.715Z"
   },
   {
    "duration": 44,
    "start_time": "2021-10-16T14:50:39.760Z"
   },
   {
    "duration": 14,
    "start_time": "2021-10-16T14:50:39.805Z"
   },
   {
    "duration": 6,
    "start_time": "2021-10-16T14:50:39.821Z"
   },
   {
    "duration": 21,
    "start_time": "2021-10-16T14:50:39.828Z"
   },
   {
    "duration": 4,
    "start_time": "2021-10-16T14:50:39.851Z"
   },
   {
    "duration": 63,
    "start_time": "2021-10-16T14:50:39.858Z"
   },
   {
    "duration": 7,
    "start_time": "2021-10-16T14:50:39.923Z"
   },
   {
    "duration": 6,
    "start_time": "2021-10-16T14:50:39.932Z"
   },
   {
    "duration": 664,
    "start_time": "2021-10-16T14:50:39.939Z"
   },
   {
    "duration": 14,
    "start_time": "2021-10-16T14:50:40.605Z"
   },
   {
    "duration": 878,
    "start_time": "2021-10-16T14:50:40.620Z"
   },
   {
    "duration": 7,
    "start_time": "2021-10-16T14:50:41.499Z"
   },
   {
    "duration": 371,
    "start_time": "2021-10-16T14:50:41.507Z"
   },
   {
    "duration": 679,
    "start_time": "2021-10-16T14:50:41.879Z"
   },
   {
    "duration": 9,
    "start_time": "2021-10-16T14:50:42.560Z"
   },
   {
    "duration": 351,
    "start_time": "2021-10-16T14:50:42.570Z"
   },
   {
    "duration": 30,
    "start_time": "2021-10-16T14:50:42.922Z"
   },
   {
    "duration": 7,
    "start_time": "2021-10-16T14:50:42.954Z"
   },
   {
    "duration": 668,
    "start_time": "2021-10-16T14:50:42.963Z"
   },
   {
    "duration": 619,
    "start_time": "2021-10-16T14:50:43.632Z"
   },
   {
    "duration": 48,
    "start_time": "2021-10-16T14:50:44.253Z"
   },
   {
    "duration": 376,
    "start_time": "2021-10-16T14:50:44.303Z"
   },
   {
    "duration": 396,
    "start_time": "2021-10-16T14:50:44.681Z"
   },
   {
    "duration": 18,
    "start_time": "2021-10-16T14:50:45.078Z"
   },
   {
    "duration": 536,
    "start_time": "2021-10-16T14:50:45.097Z"
   },
   {
    "duration": 4,
    "start_time": "2021-10-16T14:50:55.918Z"
   },
   {
    "duration": 39,
    "start_time": "2021-10-16T14:50:55.924Z"
   },
   {
    "duration": 13,
    "start_time": "2021-10-16T14:50:55.965Z"
   },
   {
    "duration": 12,
    "start_time": "2021-10-16T14:50:55.980Z"
   },
   {
    "duration": 4,
    "start_time": "2021-10-16T14:50:55.993Z"
   },
   {
    "duration": 5,
    "start_time": "2021-10-16T14:50:55.998Z"
   },
   {
    "duration": 31,
    "start_time": "2021-10-16T14:50:56.005Z"
   },
   {
    "duration": 4,
    "start_time": "2021-10-16T14:50:56.038Z"
   },
   {
    "duration": 136,
    "start_time": "2021-10-16T14:50:56.044Z"
   },
   {
    "duration": 13,
    "start_time": "2021-10-16T14:50:56.182Z"
   },
   {
    "duration": 16,
    "start_time": "2021-10-16T14:50:56.197Z"
   },
   {
    "duration": 25,
    "start_time": "2021-10-16T14:50:56.215Z"
   },
   {
    "duration": 7,
    "start_time": "2021-10-16T14:50:56.242Z"
   },
   {
    "duration": 48,
    "start_time": "2021-10-16T14:50:56.250Z"
   },
   {
    "duration": 7,
    "start_time": "2021-10-16T14:50:56.300Z"
   },
   {
    "duration": 16,
    "start_time": "2021-10-16T14:50:56.309Z"
   },
   {
    "duration": 17,
    "start_time": "2021-10-16T14:50:56.327Z"
   },
   {
    "duration": 49,
    "start_time": "2021-10-16T14:50:56.345Z"
   },
   {
    "duration": 26,
    "start_time": "2021-10-16T14:50:56.395Z"
   },
   {
    "duration": 12,
    "start_time": "2021-10-16T14:50:56.423Z"
   },
   {
    "duration": 55,
    "start_time": "2021-10-16T14:50:56.437Z"
   },
   {
    "duration": 25,
    "start_time": "2021-10-16T14:50:56.494Z"
   },
   {
    "duration": 14,
    "start_time": "2021-10-16T14:50:56.522Z"
   },
   {
    "duration": 18,
    "start_time": "2021-10-16T14:50:56.538Z"
   },
   {
    "duration": 24,
    "start_time": "2021-10-16T14:50:56.558Z"
   },
   {
    "duration": 12,
    "start_time": "2021-10-16T14:50:56.583Z"
   },
   {
    "duration": 34,
    "start_time": "2021-10-16T14:50:56.596Z"
   },
   {
    "duration": 5,
    "start_time": "2021-10-16T14:50:56.632Z"
   },
   {
    "duration": 6,
    "start_time": "2021-10-16T14:50:56.639Z"
   },
   {
    "duration": 683,
    "start_time": "2021-10-16T14:50:56.647Z"
   },
   {
    "duration": 19,
    "start_time": "2021-10-16T14:50:57.332Z"
   },
   {
    "duration": 905,
    "start_time": "2021-10-16T14:50:57.353Z"
   },
   {
    "duration": 6,
    "start_time": "2021-10-16T14:50:58.260Z"
   },
   {
    "duration": 370,
    "start_time": "2021-10-16T14:50:58.267Z"
   },
   {
    "duration": 656,
    "start_time": "2021-10-16T14:50:58.639Z"
   },
   {
    "duration": 7,
    "start_time": "2021-10-16T14:50:59.296Z"
   },
   {
    "duration": 343,
    "start_time": "2021-10-16T14:50:59.305Z"
   },
   {
    "duration": 26,
    "start_time": "2021-10-16T14:50:59.650Z"
   },
   {
    "duration": 6,
    "start_time": "2021-10-16T14:50:59.691Z"
   },
   {
    "duration": 637,
    "start_time": "2021-10-16T14:50:59.699Z"
   },
   {
    "duration": 607,
    "start_time": "2021-10-16T14:51:00.337Z"
   },
   {
    "duration": 46,
    "start_time": "2021-10-16T14:51:00.946Z"
   },
   {
    "duration": 379,
    "start_time": "2021-10-16T14:51:00.994Z"
   },
   {
    "duration": 389,
    "start_time": "2021-10-16T14:51:01.374Z"
   },
   {
    "duration": 9,
    "start_time": "2021-10-16T14:51:01.765Z"
   },
   {
    "duration": 448,
    "start_time": "2021-10-16T14:51:01.775Z"
   },
   {
    "duration": 4,
    "start_time": "2021-10-16T14:51:22.830Z"
   },
   {
    "duration": 40,
    "start_time": "2021-10-16T14:51:22.836Z"
   },
   {
    "duration": 14,
    "start_time": "2021-10-16T14:51:22.878Z"
   },
   {
    "duration": 11,
    "start_time": "2021-10-16T14:51:22.893Z"
   },
   {
    "duration": 4,
    "start_time": "2021-10-16T14:51:22.906Z"
   },
   {
    "duration": 8,
    "start_time": "2021-10-16T14:51:22.911Z"
   },
   {
    "duration": 31,
    "start_time": "2021-10-16T14:51:22.920Z"
   },
   {
    "duration": 4,
    "start_time": "2021-10-16T14:51:22.953Z"
   },
   {
    "duration": 113,
    "start_time": "2021-10-16T14:51:22.991Z"
   },
   {
    "duration": 7,
    "start_time": "2021-10-16T14:51:23.106Z"
   },
   {
    "duration": 16,
    "start_time": "2021-10-16T14:51:23.115Z"
   },
   {
    "duration": 62,
    "start_time": "2021-10-16T14:51:23.132Z"
   },
   {
    "duration": 8,
    "start_time": "2021-10-16T14:51:23.195Z"
   },
   {
    "duration": 12,
    "start_time": "2021-10-16T14:51:23.204Z"
   },
   {
    "duration": 8,
    "start_time": "2021-10-16T14:51:23.218Z"
   },
   {
    "duration": 16,
    "start_time": "2021-10-16T14:51:23.228Z"
   },
   {
    "duration": 51,
    "start_time": "2021-10-16T14:51:23.245Z"
   },
   {
    "duration": 16,
    "start_time": "2021-10-16T14:51:23.297Z"
   },
   {
    "duration": 12,
    "start_time": "2021-10-16T14:51:23.314Z"
   },
   {
    "duration": 9,
    "start_time": "2021-10-16T14:51:23.327Z"
   },
   {
    "duration": 71,
    "start_time": "2021-10-16T14:51:23.338Z"
   },
   {
    "duration": 16,
    "start_time": "2021-10-16T14:51:23.411Z"
   },
   {
    "duration": 9,
    "start_time": "2021-10-16T14:51:23.430Z"
   },
   {
    "duration": 7,
    "start_time": "2021-10-16T14:51:23.441Z"
   },
   {
    "duration": 53,
    "start_time": "2021-10-16T14:51:23.450Z"
   },
   {
    "duration": 4,
    "start_time": "2021-10-16T14:51:23.505Z"
   },
   {
    "duration": 34,
    "start_time": "2021-10-16T14:51:23.511Z"
   },
   {
    "duration": 6,
    "start_time": "2021-10-16T14:51:23.546Z"
   },
   {
    "duration": 6,
    "start_time": "2021-10-16T14:51:23.554Z"
   },
   {
    "duration": 677,
    "start_time": "2021-10-16T14:51:23.562Z"
   },
   {
    "duration": 15,
    "start_time": "2021-10-16T14:51:24.242Z"
   },
   {
    "duration": 958,
    "start_time": "2021-10-16T14:51:24.258Z"
   },
   {
    "duration": 6,
    "start_time": "2021-10-16T14:51:25.218Z"
   },
   {
    "duration": 452,
    "start_time": "2021-10-16T14:51:25.225Z"
   },
   {
    "duration": 676,
    "start_time": "2021-10-16T14:51:25.679Z"
   },
   {
    "duration": 8,
    "start_time": "2021-10-16T14:51:26.358Z"
   },
   {
    "duration": 362,
    "start_time": "2021-10-16T14:51:26.368Z"
   },
   {
    "duration": 25,
    "start_time": "2021-10-16T14:51:26.732Z"
   },
   {
    "duration": 6,
    "start_time": "2021-10-16T14:51:26.759Z"
   },
   {
    "duration": 662,
    "start_time": "2021-10-16T14:51:26.767Z"
   },
   {
    "duration": 624,
    "start_time": "2021-10-16T14:51:27.431Z"
   },
   {
    "duration": 48,
    "start_time": "2021-10-16T14:51:28.057Z"
   },
   {
    "duration": 370,
    "start_time": "2021-10-16T14:51:28.106Z"
   },
   {
    "duration": 362,
    "start_time": "2021-10-16T14:51:28.478Z"
   },
   {
    "duration": 8,
    "start_time": "2021-10-16T14:51:28.842Z"
   },
   {
    "duration": 416,
    "start_time": "2021-10-16T14:51:28.852Z"
   },
   {
    "duration": 7,
    "start_time": "2021-10-16T14:53:07.273Z"
   },
   {
    "duration": 52,
    "start_time": "2021-10-16T14:53:07.283Z"
   },
   {
    "duration": 13,
    "start_time": "2021-10-16T14:53:07.337Z"
   },
   {
    "duration": 43,
    "start_time": "2021-10-16T14:53:07.351Z"
   },
   {
    "duration": 4,
    "start_time": "2021-10-16T14:53:07.395Z"
   },
   {
    "duration": 32,
    "start_time": "2021-10-16T14:53:07.400Z"
   },
   {
    "duration": 41,
    "start_time": "2021-10-16T14:53:07.434Z"
   },
   {
    "duration": 7,
    "start_time": "2021-10-16T14:53:07.477Z"
   },
   {
    "duration": 117,
    "start_time": "2021-10-16T14:53:07.485Z"
   },
   {
    "duration": 7,
    "start_time": "2021-10-16T14:53:07.604Z"
   },
   {
    "duration": 16,
    "start_time": "2021-10-16T14:53:07.613Z"
   },
   {
    "duration": 61,
    "start_time": "2021-10-16T14:53:07.630Z"
   },
   {
    "duration": 8,
    "start_time": "2021-10-16T14:53:07.693Z"
   },
   {
    "duration": 12,
    "start_time": "2021-10-16T14:53:07.702Z"
   },
   {
    "duration": 8,
    "start_time": "2021-10-16T14:53:07.716Z"
   },
   {
    "duration": 19,
    "start_time": "2021-10-16T14:53:07.725Z"
   },
   {
    "duration": 58,
    "start_time": "2021-10-16T14:53:07.746Z"
   },
   {
    "duration": 15,
    "start_time": "2021-10-16T14:53:07.806Z"
   },
   {
    "duration": 13,
    "start_time": "2021-10-16T14:53:07.823Z"
   },
   {
    "duration": 9,
    "start_time": "2021-10-16T14:53:07.837Z"
   },
   {
    "duration": 86,
    "start_time": "2021-10-16T14:53:07.848Z"
   },
   {
    "duration": 16,
    "start_time": "2021-10-16T14:53:07.936Z"
   },
   {
    "duration": 37,
    "start_time": "2021-10-16T14:53:07.956Z"
   },
   {
    "duration": 9,
    "start_time": "2021-10-16T14:53:07.996Z"
   },
   {
    "duration": 41,
    "start_time": "2021-10-16T14:53:08.007Z"
   },
   {
    "duration": 6,
    "start_time": "2021-10-16T14:53:08.050Z"
   },
   {
    "duration": 67,
    "start_time": "2021-10-16T14:53:08.057Z"
   },
   {
    "duration": 4,
    "start_time": "2021-10-16T14:53:08.126Z"
   },
   {
    "duration": 17,
    "start_time": "2021-10-16T14:53:08.132Z"
   },
   {
    "duration": 674,
    "start_time": "2021-10-16T14:53:08.151Z"
   },
   {
    "duration": 14,
    "start_time": "2021-10-16T14:53:08.827Z"
   },
   {
    "duration": 945,
    "start_time": "2021-10-16T14:53:08.843Z"
   },
   {
    "duration": 7,
    "start_time": "2021-10-16T14:53:09.791Z"
   },
   {
    "duration": 381,
    "start_time": "2021-10-16T14:53:09.799Z"
   },
   {
    "duration": 693,
    "start_time": "2021-10-16T14:53:10.182Z"
   },
   {
    "duration": 14,
    "start_time": "2021-10-16T14:53:10.877Z"
   },
   {
    "duration": 356,
    "start_time": "2021-10-16T14:53:10.893Z"
   },
   {
    "duration": 43,
    "start_time": "2021-10-16T14:53:11.251Z"
   },
   {
    "duration": 8,
    "start_time": "2021-10-16T14:53:11.296Z"
   },
   {
    "duration": 657,
    "start_time": "2021-10-16T14:53:11.306Z"
   },
   {
    "duration": 554,
    "start_time": "2021-10-16T14:53:11.964Z"
   },
   {
    "duration": 31,
    "start_time": "2021-10-16T14:53:12.519Z"
   },
   {
    "duration": 383,
    "start_time": "2021-10-16T14:53:12.552Z"
   },
   {
    "duration": 387,
    "start_time": "2021-10-16T14:53:12.936Z"
   },
   {
    "duration": 9,
    "start_time": "2021-10-16T14:53:13.325Z"
   },
   {
    "duration": 637,
    "start_time": "2021-10-16T14:53:13.335Z"
   },
   {
    "duration": 549,
    "start_time": "2021-10-16T14:54:51.887Z"
   },
   {
    "duration": 552,
    "start_time": "2021-10-16T14:55:05.489Z"
   },
   {
    "duration": 59,
    "start_time": "2021-10-16T14:55:10.103Z"
   },
   {
    "duration": 58,
    "start_time": "2021-10-16T14:55:20.223Z"
   },
   {
    "duration": 549,
    "start_time": "2021-10-16T14:55:23.122Z"
   },
   {
    "duration": 570,
    "start_time": "2021-10-16T14:55:46.458Z"
   },
   {
    "duration": 597,
    "start_time": "2021-10-16T14:56:04.387Z"
   },
   {
    "duration": 541,
    "start_time": "2021-10-16T14:56:26.250Z"
   },
   {
    "duration": 584,
    "start_time": "2021-10-16T14:57:06.776Z"
   },
   {
    "duration": 192,
    "start_time": "2021-10-16T15:02:49.961Z"
   },
   {
    "duration": 18,
    "start_time": "2021-10-16T15:02:51.973Z"
   },
   {
    "duration": 10,
    "start_time": "2021-10-16T15:03:42.166Z"
   },
   {
    "duration": 13,
    "start_time": "2021-10-16T15:03:45.838Z"
   },
   {
    "duration": 7,
    "start_time": "2021-10-16T15:05:04.593Z"
   },
   {
    "duration": 4,
    "start_time": "2021-10-16T15:05:08.919Z"
   },
   {
    "duration": 48,
    "start_time": "2021-10-16T15:05:08.925Z"
   },
   {
    "duration": 13,
    "start_time": "2021-10-16T15:05:08.975Z"
   },
   {
    "duration": 24,
    "start_time": "2021-10-16T15:05:08.990Z"
   },
   {
    "duration": 19,
    "start_time": "2021-10-16T15:05:09.015Z"
   },
   {
    "duration": 25,
    "start_time": "2021-10-16T15:05:09.035Z"
   },
   {
    "duration": 51,
    "start_time": "2021-10-16T15:05:09.061Z"
   },
   {
    "duration": 5,
    "start_time": "2021-10-16T15:05:09.114Z"
   },
   {
    "duration": 31,
    "start_time": "2021-10-16T15:05:09.120Z"
   },
   {
    "duration": 22,
    "start_time": "2021-10-16T15:05:09.153Z"
   },
   {
    "duration": 25,
    "start_time": "2021-10-16T15:05:09.177Z"
   },
   {
    "duration": 29,
    "start_time": "2021-10-16T15:05:09.204Z"
   },
   {
    "duration": 10,
    "start_time": "2021-10-16T15:05:09.234Z"
   },
   {
    "duration": 17,
    "start_time": "2021-10-16T15:05:09.246Z"
   },
   {
    "duration": 30,
    "start_time": "2021-10-16T15:05:09.265Z"
   },
   {
    "duration": 27,
    "start_time": "2021-10-16T15:05:09.297Z"
   },
   {
    "duration": 21,
    "start_time": "2021-10-16T15:05:09.325Z"
   },
   {
    "duration": 19,
    "start_time": "2021-10-16T15:05:09.348Z"
   },
   {
    "duration": 24,
    "start_time": "2021-10-16T15:05:09.369Z"
   },
   {
    "duration": 22,
    "start_time": "2021-10-16T15:05:09.394Z"
   },
   {
    "duration": 57,
    "start_time": "2021-10-16T15:05:09.418Z"
   },
   {
    "duration": 32,
    "start_time": "2021-10-16T15:05:09.477Z"
   },
   {
    "duration": 21,
    "start_time": "2021-10-16T15:05:09.513Z"
   },
   {
    "duration": 13,
    "start_time": "2021-10-16T15:05:09.536Z"
   },
   {
    "duration": 40,
    "start_time": "2021-10-16T15:05:09.550Z"
   },
   {
    "duration": 4,
    "start_time": "2021-10-16T15:05:09.591Z"
   },
   {
    "duration": 53,
    "start_time": "2021-10-16T15:05:09.597Z"
   },
   {
    "duration": 14,
    "start_time": "2021-10-16T15:05:09.651Z"
   },
   {
    "duration": 31,
    "start_time": "2021-10-16T15:05:09.667Z"
   },
   {
    "duration": 661,
    "start_time": "2021-10-16T15:05:09.699Z"
   },
   {
    "duration": 12,
    "start_time": "2021-10-16T15:05:10.361Z"
   },
   {
    "duration": 1007,
    "start_time": "2021-10-16T15:05:10.375Z"
   },
   {
    "duration": 10,
    "start_time": "2021-10-16T15:05:11.384Z"
   },
   {
    "duration": 380,
    "start_time": "2021-10-16T15:05:11.396Z"
   },
   {
    "duration": 693,
    "start_time": "2021-10-16T15:05:11.778Z"
   },
   {
    "duration": 7,
    "start_time": "2021-10-16T15:05:12.472Z"
   },
   {
    "duration": 386,
    "start_time": "2021-10-16T15:05:12.481Z"
   },
   {
    "duration": 37,
    "start_time": "2021-10-16T15:05:12.869Z"
   },
   {
    "duration": 6,
    "start_time": "2021-10-16T15:05:12.908Z"
   },
   {
    "duration": 649,
    "start_time": "2021-10-16T15:05:12.916Z"
   },
   {
    "duration": 687,
    "start_time": "2021-10-16T15:05:13.567Z"
   },
   {
    "duration": 45,
    "start_time": "2021-10-16T15:05:14.256Z"
   },
   {
    "duration": 384,
    "start_time": "2021-10-16T15:05:14.303Z"
   },
   {
    "duration": 388,
    "start_time": "2021-10-16T15:05:14.689Z"
   },
   {
    "duration": 634,
    "start_time": "2021-10-16T15:05:15.078Z"
   },
   {
    "duration": 13,
    "start_time": "2021-10-16T15:05:15.714Z"
   },
   {
    "duration": 13,
    "start_time": "2021-10-16T15:05:15.729Z"
   },
   {
    "duration": 13,
    "start_time": "2021-10-16T15:05:56.631Z"
   },
   {
    "duration": 16,
    "start_time": "2021-10-16T15:06:03.185Z"
   },
   {
    "duration": 13,
    "start_time": "2021-10-16T15:06:08.148Z"
   },
   {
    "duration": 14,
    "start_time": "2021-10-16T15:06:26.676Z"
   },
   {
    "duration": 13,
    "start_time": "2021-10-16T15:06:33.919Z"
   },
   {
    "duration": 13,
    "start_time": "2021-10-16T15:06:51.659Z"
   },
   {
    "duration": 19,
    "start_time": "2021-10-16T15:07:13.102Z"
   },
   {
    "duration": 1193,
    "start_time": "2021-10-16T15:07:39.600Z"
   },
   {
    "duration": 14,
    "start_time": "2021-10-16T15:07:45.572Z"
   },
   {
    "duration": 189,
    "start_time": "2021-10-16T15:08:21.163Z"
   },
   {
    "duration": 300,
    "start_time": "2021-10-16T15:08:28.059Z"
   },
   {
    "duration": 16,
    "start_time": "2021-10-16T15:10:14.661Z"
   },
   {
    "duration": 13,
    "start_time": "2021-10-16T15:10:25.709Z"
   },
   {
    "duration": 19,
    "start_time": "2021-10-16T15:10:29.237Z"
   },
   {
    "duration": 12,
    "start_time": "2021-10-16T15:10:36.703Z"
   },
   {
    "duration": 214,
    "start_time": "2021-10-16T15:11:12.441Z"
   },
   {
    "duration": 10,
    "start_time": "2021-10-16T15:11:28.512Z"
   },
   {
    "duration": 6,
    "start_time": "2021-10-16T15:11:43.298Z"
   },
   {
    "duration": 29,
    "start_time": "2021-10-16T15:12:57.431Z"
   },
   {
    "duration": 12,
    "start_time": "2021-10-16T15:13:27.394Z"
   },
   {
    "duration": 11,
    "start_time": "2021-10-16T15:13:31.911Z"
   },
   {
    "duration": 11,
    "start_time": "2021-10-16T15:13:46.088Z"
   },
   {
    "duration": 21,
    "start_time": "2021-10-16T15:14:01.183Z"
   },
   {
    "duration": 7,
    "start_time": "2021-10-16T15:14:22.853Z"
   },
   {
    "duration": 7,
    "start_time": "2021-10-16T15:14:35.954Z"
   },
   {
    "duration": 95,
    "start_time": "2021-10-16T18:05:32.096Z"
   },
   {
    "duration": 302,
    "start_time": "2021-10-16T18:08:24.922Z"
   },
   {
    "duration": 283,
    "start_time": "2021-10-16T18:08:29.751Z"
   },
   {
    "duration": 1526,
    "start_time": "2021-10-16T18:08:32.035Z"
   },
   {
    "duration": 49,
    "start_time": "2021-10-16T18:08:33.564Z"
   },
   {
    "duration": 25,
    "start_time": "2021-10-16T18:08:33.616Z"
   },
   {
    "duration": 26,
    "start_time": "2021-10-16T18:08:33.644Z"
   },
   {
    "duration": 6,
    "start_time": "2021-10-16T18:08:33.672Z"
   },
   {
    "duration": 7,
    "start_time": "2021-10-16T18:08:33.680Z"
   },
   {
    "duration": 100,
    "start_time": "2021-10-16T18:08:33.690Z"
   },
   {
    "duration": 6,
    "start_time": "2021-10-16T18:08:33.793Z"
   },
   {
    "duration": 60,
    "start_time": "2021-10-16T18:08:33.802Z"
   },
   {
    "duration": 14,
    "start_time": "2021-10-16T18:08:33.864Z"
   },
   {
    "duration": 25,
    "start_time": "2021-10-16T18:08:33.881Z"
   },
   {
    "duration": 76,
    "start_time": "2021-10-16T18:08:33.909Z"
   },
   {
    "duration": 11,
    "start_time": "2021-10-16T18:08:33.987Z"
   },
   {
    "duration": 17,
    "start_time": "2021-10-16T18:08:34.001Z"
   },
   {
    "duration": 46,
    "start_time": "2021-10-16T18:08:34.020Z"
   },
   {
    "duration": 24,
    "start_time": "2021-10-16T18:08:34.069Z"
   },
   {
    "duration": 24,
    "start_time": "2021-10-16T18:08:34.096Z"
   },
   {
    "duration": 59,
    "start_time": "2021-10-16T18:08:34.123Z"
   },
   {
    "duration": 18,
    "start_time": "2021-10-16T18:08:34.185Z"
   },
   {
    "duration": 56,
    "start_time": "2021-10-16T18:08:34.206Z"
   },
   {
    "duration": 111,
    "start_time": "2021-10-16T18:08:34.264Z"
   },
   {
    "duration": 23,
    "start_time": "2021-10-16T18:08:34.377Z"
   },
   {
    "duration": 13,
    "start_time": "2021-10-16T18:08:34.406Z"
   },
   {
    "duration": 43,
    "start_time": "2021-10-16T18:08:34.423Z"
   },
   {
    "duration": 36,
    "start_time": "2021-10-16T18:08:34.468Z"
   },
   {
    "duration": 9,
    "start_time": "2021-10-16T18:08:34.507Z"
   },
   {
    "duration": 96,
    "start_time": "2021-10-16T18:08:34.519Z"
   },
   {
    "duration": 5,
    "start_time": "2021-10-16T18:08:34.617Z"
   },
   {
    "duration": 39,
    "start_time": "2021-10-16T18:08:34.625Z"
   },
   {
    "duration": 1126,
    "start_time": "2021-10-16T18:08:34.667Z"
   },
   {
    "duration": 19,
    "start_time": "2021-10-16T18:08:35.796Z"
   },
   {
    "duration": 1419,
    "start_time": "2021-10-16T18:08:35.817Z"
   },
   {
    "duration": 24,
    "start_time": "2021-10-16T18:08:37.238Z"
   },
   {
    "duration": 626,
    "start_time": "2021-10-16T18:08:37.264Z"
   },
   {
    "duration": 1052,
    "start_time": "2021-10-16T18:08:37.892Z"
   },
   {
    "duration": 20,
    "start_time": "2021-10-16T18:08:38.946Z"
   },
   {
    "duration": 760,
    "start_time": "2021-10-16T18:08:38.968Z"
   },
   {
    "duration": 56,
    "start_time": "2021-10-16T18:08:39.731Z"
   },
   {
    "duration": 14,
    "start_time": "2021-10-16T18:08:39.790Z"
   },
   {
    "duration": 1042,
    "start_time": "2021-10-16T18:08:39.806Z"
   },
   {
    "duration": 1014,
    "start_time": "2021-10-16T18:08:40.851Z"
   },
   {
    "duration": 51,
    "start_time": "2021-10-16T18:08:41.867Z"
   },
   {
    "duration": 788,
    "start_time": "2021-10-16T18:08:41.921Z"
   },
   {
    "duration": 658,
    "start_time": "2021-10-16T18:08:42.712Z"
   },
   {
    "duration": 971,
    "start_time": "2021-10-16T18:08:43.372Z"
   },
   {
    "duration": 28,
    "start_time": "2021-10-16T18:08:44.346Z"
   },
   {
    "duration": 22,
    "start_time": "2021-10-16T18:08:44.376Z"
   },
   {
    "duration": 73,
    "start_time": "2021-10-16T18:08:44.400Z"
   },
   {
    "duration": 21,
    "start_time": "2021-10-16T18:08:44.475Z"
   },
   {
    "duration": 1042,
    "start_time": "2021-10-16T18:08:44.498Z"
   },
   {
    "duration": 630,
    "start_time": "2021-10-16T18:08:55.407Z"
   },
   {
    "duration": 575,
    "start_time": "2021-10-16T18:09:57.714Z"
   },
   {
    "duration": 662,
    "start_time": "2021-10-16T18:10:31.672Z"
   },
   {
    "duration": 304,
    "start_time": "2021-10-16T18:12:27.667Z"
   },
   {
    "duration": 36,
    "start_time": "2021-10-16T18:12:39.916Z"
   },
   {
    "duration": 44,
    "start_time": "2021-10-16T18:12:45.718Z"
   },
   {
    "duration": 43,
    "start_time": "2021-10-16T18:16:31.014Z"
   },
   {
    "duration": 539,
    "start_time": "2021-10-16T18:18:50.084Z"
   },
   {
    "duration": 633,
    "start_time": "2021-10-16T18:19:57.950Z"
   },
   {
    "duration": 529,
    "start_time": "2021-10-16T18:20:04.575Z"
   },
   {
    "duration": 95,
    "start_time": "2021-10-16T18:20:38.175Z"
   },
   {
    "duration": 579,
    "start_time": "2021-10-16T18:21:10.270Z"
   },
   {
    "duration": 43,
    "start_time": "2021-10-16T18:21:36.832Z"
   },
   {
    "duration": 62,
    "start_time": "2021-10-16T18:27:42.498Z"
   },
   {
    "duration": 11,
    "start_time": "2021-10-16T18:35:14.578Z"
   },
   {
    "duration": 11,
    "start_time": "2021-10-16T18:35:25.128Z"
   },
   {
    "duration": 337,
    "start_time": "2021-10-16T18:35:34.761Z"
   },
   {
    "duration": 342,
    "start_time": "2021-10-16T18:35:51.314Z"
   },
   {
    "duration": 118,
    "start_time": "2021-10-16T18:37:01.273Z"
   },
   {
    "duration": 322,
    "start_time": "2021-10-16T18:37:06.801Z"
   },
   {
    "duration": 49,
    "start_time": "2021-10-16T18:37:55.062Z"
   },
   {
    "duration": 14,
    "start_time": "2021-10-16T18:38:07.006Z"
   },
   {
    "duration": 12,
    "start_time": "2021-10-16T18:38:23.921Z"
   },
   {
    "duration": 12,
    "start_time": "2021-10-16T18:38:34.479Z"
   },
   {
    "duration": 6,
    "start_time": "2021-10-16T18:38:44.754Z"
   },
   {
    "duration": 53,
    "start_time": "2021-10-16T18:38:44.763Z"
   },
   {
    "duration": 58,
    "start_time": "2021-10-16T18:38:44.819Z"
   },
   {
    "duration": 17,
    "start_time": "2021-10-16T18:38:44.880Z"
   },
   {
    "duration": 5,
    "start_time": "2021-10-16T18:38:44.899Z"
   },
   {
    "duration": 8,
    "start_time": "2021-10-16T18:38:44.907Z"
   },
   {
    "duration": 46,
    "start_time": "2021-10-16T18:38:44.963Z"
   },
   {
    "duration": 6,
    "start_time": "2021-10-16T18:38:45.012Z"
   },
   {
    "duration": 58,
    "start_time": "2021-10-16T18:38:45.021Z"
   },
   {
    "duration": 10,
    "start_time": "2021-10-16T18:38:45.082Z"
   },
   {
    "duration": 68,
    "start_time": "2021-10-16T18:38:45.095Z"
   },
   {
    "duration": 35,
    "start_time": "2021-10-16T18:38:45.166Z"
   },
   {
    "duration": 10,
    "start_time": "2021-10-16T18:38:45.204Z"
   },
   {
    "duration": 57,
    "start_time": "2021-10-16T18:38:45.217Z"
   },
   {
    "duration": 12,
    "start_time": "2021-10-16T18:38:45.277Z"
   },
   {
    "duration": 34,
    "start_time": "2021-10-16T18:38:45.292Z"
   },
   {
    "duration": 31,
    "start_time": "2021-10-16T18:38:45.362Z"
   },
   {
    "duration": 27,
    "start_time": "2021-10-16T18:38:45.396Z"
   },
   {
    "duration": 53,
    "start_time": "2021-10-16T18:38:45.425Z"
   },
   {
    "duration": 13,
    "start_time": "2021-10-16T18:38:45.481Z"
   },
   {
    "duration": 121,
    "start_time": "2021-10-16T18:38:45.496Z"
   },
   {
    "duration": 23,
    "start_time": "2021-10-16T18:38:45.619Z"
   },
   {
    "duration": 13,
    "start_time": "2021-10-16T18:38:45.665Z"
   },
   {
    "duration": 10,
    "start_time": "2021-10-16T18:38:45.682Z"
   },
   {
    "duration": 68,
    "start_time": "2021-10-16T18:38:45.694Z"
   },
   {
    "duration": 7,
    "start_time": "2021-10-16T18:38:45.764Z"
   },
   {
    "duration": 64,
    "start_time": "2021-10-16T18:38:45.773Z"
   },
   {
    "duration": 24,
    "start_time": "2021-10-16T18:38:45.839Z"
   },
   {
    "duration": 10,
    "start_time": "2021-10-16T18:38:45.865Z"
   },
   {
    "duration": 1213,
    "start_time": "2021-10-16T18:38:45.877Z"
   },
   {
    "duration": 21,
    "start_time": "2021-10-16T18:38:47.092Z"
   },
   {
    "duration": 1453,
    "start_time": "2021-10-16T18:38:47.115Z"
   },
   {
    "duration": 9,
    "start_time": "2021-10-16T18:38:48.571Z"
   },
   {
    "duration": 648,
    "start_time": "2021-10-16T18:38:48.582Z"
   },
   {
    "duration": 1108,
    "start_time": "2021-10-16T18:38:49.232Z"
   },
   {
    "duration": 24,
    "start_time": "2021-10-16T18:38:50.343Z"
   },
   {
    "duration": 656,
    "start_time": "2021-10-16T18:38:50.370Z"
   },
   {
    "duration": 53,
    "start_time": "2021-10-16T18:38:51.028Z"
   },
   {
    "duration": 10,
    "start_time": "2021-10-16T18:38:51.084Z"
   },
   {
    "duration": 1010,
    "start_time": "2021-10-16T18:38:51.096Z"
   },
   {
    "duration": 1114,
    "start_time": "2021-10-16T18:38:52.108Z"
   },
   {
    "duration": 67,
    "start_time": "2021-10-16T18:38:53.224Z"
   },
   {
    "duration": 734,
    "start_time": "2021-10-16T18:38:53.293Z"
   },
   {
    "duration": 643,
    "start_time": "2021-10-16T18:38:54.029Z"
   },
   {
    "duration": 944,
    "start_time": "2021-10-16T18:38:54.674Z"
   },
   {
    "duration": 20,
    "start_time": "2021-10-16T18:38:55.621Z"
   },
   {
    "duration": 20,
    "start_time": "2021-10-16T18:38:55.661Z"
   },
   {
    "duration": 25,
    "start_time": "2021-10-16T18:38:55.684Z"
   },
   {
    "duration": 52,
    "start_time": "2021-10-16T18:38:55.711Z"
   },
   {
    "duration": 564,
    "start_time": "2021-10-16T18:38:55.766Z"
   },
   {
    "duration": 57,
    "start_time": "2021-10-16T18:38:56.332Z"
   },
   {
    "duration": 574,
    "start_time": "2021-10-16T18:38:56.392Z"
   },
   {
    "duration": 43,
    "start_time": "2021-10-16T18:38:56.968Z"
   },
   {
    "duration": 90,
    "start_time": "2021-10-16T18:38:57.013Z"
   },
   {
    "duration": 327,
    "start_time": "2021-10-16T18:38:56.779Z"
   },
   {
    "duration": 325,
    "start_time": "2021-10-16T18:38:56.782Z"
   },
   {
    "duration": 9,
    "start_time": "2021-10-16T18:39:04.582Z"
   },
   {
    "duration": 76,
    "start_time": "2021-10-16T18:39:04.594Z"
   },
   {
    "duration": 19,
    "start_time": "2021-10-16T18:39:04.674Z"
   },
   {
    "duration": 13,
    "start_time": "2021-10-16T18:39:04.696Z"
   },
   {
    "duration": 6,
    "start_time": "2021-10-16T18:39:04.711Z"
   },
   {
    "duration": 7,
    "start_time": "2021-10-16T18:39:04.763Z"
   },
   {
    "duration": 44,
    "start_time": "2021-10-16T18:39:04.773Z"
   },
   {
    "duration": 43,
    "start_time": "2021-10-16T18:39:04.821Z"
   },
   {
    "duration": 23,
    "start_time": "2021-10-16T18:39:04.868Z"
   },
   {
    "duration": 10,
    "start_time": "2021-10-16T18:39:04.894Z"
   },
   {
    "duration": 69,
    "start_time": "2021-10-16T18:39:04.907Z"
   },
   {
    "duration": 36,
    "start_time": "2021-10-16T18:39:04.979Z"
   },
   {
    "duration": 10,
    "start_time": "2021-10-16T18:39:05.017Z"
   },
   {
    "duration": 45,
    "start_time": "2021-10-16T18:39:05.030Z"
   },
   {
    "duration": 13,
    "start_time": "2021-10-16T18:39:05.077Z"
   },
   {
    "duration": 26,
    "start_time": "2021-10-16T18:39:05.092Z"
   },
   {
    "duration": 62,
    "start_time": "2021-10-16T18:39:05.121Z"
   },
   {
    "duration": 29,
    "start_time": "2021-10-16T18:39:05.185Z"
   },
   {
    "duration": 58,
    "start_time": "2021-10-16T18:39:05.217Z"
   },
   {
    "duration": 13,
    "start_time": "2021-10-16T18:39:05.278Z"
   },
   {
    "duration": 107,
    "start_time": "2021-10-16T18:39:05.293Z"
   },
   {
    "duration": 24,
    "start_time": "2021-10-16T18:39:05.402Z"
   },
   {
    "duration": 35,
    "start_time": "2021-10-16T18:39:05.432Z"
   },
   {
    "duration": 10,
    "start_time": "2021-10-16T18:39:05.470Z"
   },
   {
    "duration": 42,
    "start_time": "2021-10-16T18:39:05.482Z"
   },
   {
    "duration": 6,
    "start_time": "2021-10-16T18:39:05.526Z"
   },
   {
    "duration": 81,
    "start_time": "2021-10-16T18:39:05.535Z"
   },
   {
    "duration": 5,
    "start_time": "2021-10-16T18:39:05.618Z"
   },
   {
    "duration": 37,
    "start_time": "2021-10-16T18:39:05.625Z"
   },
   {
    "duration": 1120,
    "start_time": "2021-10-16T18:39:05.664Z"
   },
   {
    "duration": 22,
    "start_time": "2021-10-16T18:39:06.786Z"
   },
   {
    "duration": 1559,
    "start_time": "2021-10-16T18:39:06.811Z"
   },
   {
    "duration": 10,
    "start_time": "2021-10-16T18:39:08.373Z"
   },
   {
    "duration": 694,
    "start_time": "2021-10-16T18:39:08.385Z"
   },
   {
    "duration": 1327,
    "start_time": "2021-10-16T18:39:09.082Z"
   },
   {
    "duration": 10,
    "start_time": "2021-10-16T18:39:10.411Z"
   },
   {
    "duration": 754,
    "start_time": "2021-10-16T18:39:10.423Z"
   },
   {
    "duration": 43,
    "start_time": "2021-10-16T18:39:11.179Z"
   },
   {
    "duration": 40,
    "start_time": "2021-10-16T18:39:11.224Z"
   },
   {
    "duration": 987,
    "start_time": "2021-10-16T18:39:11.267Z"
   },
   {
    "duration": 1005,
    "start_time": "2021-10-16T18:39:12.260Z"
   },
   {
    "duration": 52,
    "start_time": "2021-10-16T18:39:13.267Z"
   },
   {
    "duration": 669,
    "start_time": "2021-10-16T18:39:13.321Z"
   },
   {
    "duration": 669,
    "start_time": "2021-10-16T18:39:13.993Z"
   },
   {
    "duration": 981,
    "start_time": "2021-10-16T18:39:14.664Z"
   },
   {
    "duration": 30,
    "start_time": "2021-10-16T18:39:15.648Z"
   },
   {
    "duration": 21,
    "start_time": "2021-10-16T18:39:15.681Z"
   },
   {
    "duration": 59,
    "start_time": "2021-10-16T18:39:15.705Z"
   },
   {
    "duration": 22,
    "start_time": "2021-10-16T18:39:15.766Z"
   },
   {
    "duration": 570,
    "start_time": "2021-10-16T18:39:15.791Z"
   },
   {
    "duration": 43,
    "start_time": "2021-10-16T18:39:16.364Z"
   },
   {
    "duration": 587,
    "start_time": "2021-10-16T18:39:16.410Z"
   },
   {
    "duration": 64,
    "start_time": "2021-10-16T18:39:16.999Z"
   },
   {
    "duration": 52,
    "start_time": "2021-10-16T18:39:17.065Z"
   },
   {
    "duration": 3,
    "start_time": "2021-10-16T18:39:17.120Z"
   },
   {
    "duration": 13,
    "start_time": "2021-10-16T18:40:57.938Z"
   },
   {
    "duration": 12,
    "start_time": "2021-10-16T18:41:07.289Z"
   },
   {
    "duration": 12,
    "start_time": "2021-10-16T18:41:11.425Z"
   },
   {
    "duration": 8,
    "start_time": "2021-10-16T18:50:16.457Z"
   },
   {
    "duration": 50,
    "start_time": "2021-10-16T18:50:22.469Z"
   },
   {
    "duration": 13,
    "start_time": "2021-10-16T18:50:30.947Z"
   },
   {
    "duration": 25,
    "start_time": "2021-10-16T18:50:49.436Z"
   },
   {
    "duration": 22,
    "start_time": "2021-10-16T18:51:03.706Z"
   },
   {
    "duration": 24,
    "start_time": "2021-10-16T18:51:13.134Z"
   },
   {
    "duration": 96,
    "start_time": "2021-10-16T18:54:20.531Z"
   },
   {
    "duration": 25,
    "start_time": "2021-10-16T18:55:16.007Z"
   },
   {
    "duration": 26,
    "start_time": "2021-10-16T18:55:23.397Z"
   },
   {
    "duration": 23,
    "start_time": "2021-10-16T18:55:26.228Z"
   },
   {
    "duration": 23,
    "start_time": "2021-10-16T18:58:13.071Z"
   },
   {
    "duration": 23,
    "start_time": "2021-10-16T18:58:25.901Z"
   },
   {
    "duration": 7,
    "start_time": "2021-10-16T18:58:57.312Z"
   },
   {
    "duration": 54,
    "start_time": "2021-10-16T18:58:57.322Z"
   },
   {
    "duration": 21,
    "start_time": "2021-10-16T18:58:57.379Z"
   },
   {
    "duration": 17,
    "start_time": "2021-10-16T18:58:57.403Z"
   },
   {
    "duration": 6,
    "start_time": "2021-10-16T18:58:57.462Z"
   },
   {
    "duration": 12,
    "start_time": "2021-10-16T18:58:57.470Z"
   },
   {
    "duration": 78,
    "start_time": "2021-10-16T18:58:57.485Z"
   },
   {
    "duration": 8,
    "start_time": "2021-10-16T18:58:57.566Z"
   },
   {
    "duration": 24,
    "start_time": "2021-10-16T18:58:57.578Z"
   },
   {
    "duration": 10,
    "start_time": "2021-10-16T18:58:57.606Z"
   },
   {
    "duration": 65,
    "start_time": "2021-10-16T18:58:57.618Z"
   },
   {
    "duration": 37,
    "start_time": "2021-10-16T18:58:57.686Z"
   },
   {
    "duration": 42,
    "start_time": "2021-10-16T18:58:57.726Z"
   },
   {
    "duration": 26,
    "start_time": "2021-10-16T18:58:57.770Z"
   },
   {
    "duration": 10,
    "start_time": "2021-10-16T18:58:57.799Z"
   },
   {
    "duration": 59,
    "start_time": "2021-10-16T18:58:57.812Z"
   },
   {
    "duration": 26,
    "start_time": "2021-10-16T18:58:57.873Z"
   },
   {
    "duration": 24,
    "start_time": "2021-10-16T18:58:57.902Z"
   },
   {
    "duration": 18,
    "start_time": "2021-10-16T18:58:57.961Z"
   },
   {
    "duration": 15,
    "start_time": "2021-10-16T18:58:57.981Z"
   },
   {
    "duration": 115,
    "start_time": "2021-10-16T18:58:57.999Z"
   },
   {
    "duration": 23,
    "start_time": "2021-10-16T18:58:58.116Z"
   },
   {
    "duration": 13,
    "start_time": "2021-10-16T18:58:58.162Z"
   },
   {
    "duration": 10,
    "start_time": "2021-10-16T18:58:58.177Z"
   },
   {
    "duration": 37,
    "start_time": "2021-10-16T18:58:58.190Z"
   },
   {
    "duration": 7,
    "start_time": "2021-10-16T18:58:58.261Z"
   },
   {
    "duration": 58,
    "start_time": "2021-10-16T18:58:58.275Z"
   },
   {
    "duration": 29,
    "start_time": "2021-10-16T18:58:58.336Z"
   },
   {
    "duration": 10,
    "start_time": "2021-10-16T18:58:58.367Z"
   },
   {
    "duration": 1260,
    "start_time": "2021-10-16T18:58:58.379Z"
   },
   {
    "duration": 29,
    "start_time": "2021-10-16T18:58:59.641Z"
   },
   {
    "duration": 1540,
    "start_time": "2021-10-16T18:58:59.672Z"
   },
   {
    "duration": 9,
    "start_time": "2021-10-16T18:59:01.214Z"
   },
   {
    "duration": 671,
    "start_time": "2021-10-16T18:59:01.226Z"
   },
   {
    "duration": 1168,
    "start_time": "2021-10-16T18:59:01.899Z"
   },
   {
    "duration": 11,
    "start_time": "2021-10-16T18:59:03.070Z"
   },
   {
    "duration": 734,
    "start_time": "2021-10-16T18:59:03.084Z"
   },
   {
    "duration": 56,
    "start_time": "2021-10-16T18:59:03.822Z"
   },
   {
    "duration": 11,
    "start_time": "2021-10-16T18:59:03.880Z"
   },
   {
    "duration": 972,
    "start_time": "2021-10-16T18:59:03.893Z"
   },
   {
    "duration": 978,
    "start_time": "2021-10-16T18:59:04.867Z"
   },
   {
    "duration": 60,
    "start_time": "2021-10-16T18:59:05.847Z"
   },
   {
    "duration": 673,
    "start_time": "2021-10-16T18:59:05.909Z"
   },
   {
    "duration": 672,
    "start_time": "2021-10-16T18:59:06.585Z"
   },
   {
    "duration": 948,
    "start_time": "2021-10-16T18:59:07.262Z"
   },
   {
    "duration": 21,
    "start_time": "2021-10-16T18:59:08.213Z"
   },
   {
    "duration": 21,
    "start_time": "2021-10-16T18:59:08.261Z"
   },
   {
    "duration": 20,
    "start_time": "2021-10-16T18:59:08.284Z"
   },
   {
    "duration": 61,
    "start_time": "2021-10-16T18:59:08.307Z"
   },
   {
    "duration": 142,
    "start_time": "2021-10-16T18:59:08.370Z"
   },
   {
    "duration": 47,
    "start_time": "2021-10-16T18:59:08.515Z"
   },
   {
    "duration": 26,
    "start_time": "2021-10-16T18:59:08.565Z"
   },
   {
    "duration": 92,
    "start_time": "2021-10-16T18:59:08.594Z"
   },
   {
    "duration": 8,
    "start_time": "2021-10-16T19:00:21.645Z"
   },
   {
    "duration": 24,
    "start_time": "2021-10-16T19:00:23.018Z"
   },
   {
    "duration": 24,
    "start_time": "2021-10-16T19:00:24.327Z"
   },
   {
    "duration": 24,
    "start_time": "2021-10-16T19:00:25.089Z"
   },
   {
    "duration": 11,
    "start_time": "2021-10-16T19:00:59.081Z"
   },
   {
    "duration": 13,
    "start_time": "2021-10-16T19:01:20.987Z"
   },
   {
    "duration": 11,
    "start_time": "2021-10-16T19:01:27.853Z"
   },
   {
    "duration": 25,
    "start_time": "2021-10-16T19:01:39.797Z"
   },
   {
    "duration": 24,
    "start_time": "2021-10-16T19:01:42.551Z"
   },
   {
    "duration": 12,
    "start_time": "2021-10-16T19:01:52.091Z"
   },
   {
    "duration": 11,
    "start_time": "2021-10-16T19:02:03.658Z"
   },
   {
    "duration": 11,
    "start_time": "2021-10-16T19:02:14.340Z"
   },
   {
    "duration": 11,
    "start_time": "2021-10-16T19:02:30.523Z"
   },
   {
    "duration": 23,
    "start_time": "2021-10-16T19:03:24.359Z"
   },
   {
    "duration": 23,
    "start_time": "2021-10-16T19:04:24.619Z"
   },
   {
    "duration": 22,
    "start_time": "2021-10-16T19:04:31.605Z"
   },
   {
    "duration": 11,
    "start_time": "2021-10-16T19:04:57.353Z"
   },
   {
    "duration": 11,
    "start_time": "2021-10-16T19:05:41.321Z"
   },
   {
    "duration": 12,
    "start_time": "2021-10-16T19:07:06.178Z"
   },
   {
    "duration": 1615,
    "start_time": "2021-10-16T19:08:05.186Z"
   },
   {
    "duration": 46,
    "start_time": "2021-10-16T19:08:06.804Z"
   },
   {
    "duration": 30,
    "start_time": "2021-10-16T19:08:06.854Z"
   },
   {
    "duration": 18,
    "start_time": "2021-10-16T19:08:06.886Z"
   },
   {
    "duration": 20,
    "start_time": "2021-10-16T19:08:06.906Z"
   },
   {
    "duration": 36,
    "start_time": "2021-10-16T19:08:06.928Z"
   },
   {
    "duration": 47,
    "start_time": "2021-10-16T19:08:06.967Z"
   },
   {
    "duration": 7,
    "start_time": "2021-10-16T19:08:07.018Z"
   },
   {
    "duration": 56,
    "start_time": "2021-10-16T19:08:07.028Z"
   },
   {
    "duration": 12,
    "start_time": "2021-10-16T19:08:07.086Z"
   },
   {
    "duration": 23,
    "start_time": "2021-10-16T19:08:07.101Z"
   },
   {
    "duration": 37,
    "start_time": "2021-10-16T19:08:07.162Z"
   },
   {
    "duration": 11,
    "start_time": "2021-10-16T19:08:07.201Z"
   },
   {
    "duration": 53,
    "start_time": "2021-10-16T19:08:07.215Z"
   },
   {
    "duration": 11,
    "start_time": "2021-10-16T19:08:07.271Z"
   },
   {
    "duration": 25,
    "start_time": "2021-10-16T19:08:07.284Z"
   },
   {
    "duration": 63,
    "start_time": "2021-10-16T19:08:07.312Z"
   },
   {
    "duration": 24,
    "start_time": "2021-10-16T19:08:07.378Z"
   },
   {
    "duration": 17,
    "start_time": "2021-10-16T19:08:07.405Z"
   },
   {
    "duration": 49,
    "start_time": "2021-10-16T19:08:07.424Z"
   },
   {
    "duration": 100,
    "start_time": "2021-10-16T19:08:07.475Z"
   },
   {
    "duration": 25,
    "start_time": "2021-10-16T19:08:07.577Z"
   },
   {
    "duration": 15,
    "start_time": "2021-10-16T19:08:07.607Z"
   },
   {
    "duration": 40,
    "start_time": "2021-10-16T19:08:07.625Z"
   },
   {
    "duration": 37,
    "start_time": "2021-10-16T19:08:07.669Z"
   },
   {
    "duration": 9,
    "start_time": "2021-10-16T19:08:07.709Z"
   },
   {
    "duration": 54,
    "start_time": "2021-10-16T19:08:07.762Z"
   },
   {
    "duration": 5,
    "start_time": "2021-10-16T19:08:07.818Z"
   },
   {
    "duration": 38,
    "start_time": "2021-10-16T19:08:07.825Z"
   },
   {
    "duration": 1110,
    "start_time": "2021-10-16T19:08:07.866Z"
   },
   {
    "duration": 22,
    "start_time": "2021-10-16T19:08:08.978Z"
   },
   {
    "duration": 1425,
    "start_time": "2021-10-16T19:08:09.002Z"
   },
   {
    "duration": 9,
    "start_time": "2021-10-16T19:08:10.430Z"
   },
   {
    "duration": 633,
    "start_time": "2021-10-16T19:08:10.441Z"
   },
   {
    "duration": 1158,
    "start_time": "2021-10-16T19:08:11.076Z"
   },
   {
    "duration": 28,
    "start_time": "2021-10-16T19:08:12.237Z"
   },
   {
    "duration": 751,
    "start_time": "2021-10-16T19:08:12.268Z"
   },
   {
    "duration": 60,
    "start_time": "2021-10-16T19:08:13.022Z"
   },
   {
    "duration": 10,
    "start_time": "2021-10-16T19:08:13.085Z"
   },
   {
    "duration": 965,
    "start_time": "2021-10-16T19:08:13.097Z"
   },
   {
    "duration": 1100,
    "start_time": "2021-10-16T19:08:14.064Z"
   },
   {
    "duration": 51,
    "start_time": "2021-10-16T19:08:15.167Z"
   },
   {
    "duration": 681,
    "start_time": "2021-10-16T19:08:15.220Z"
   },
   {
    "duration": 800,
    "start_time": "2021-10-16T19:08:15.903Z"
   },
   {
    "duration": 1110,
    "start_time": "2021-10-16T19:08:16.706Z"
   },
   {
    "duration": 18,
    "start_time": "2021-10-16T19:08:17.819Z"
   },
   {
    "duration": 40,
    "start_time": "2021-10-16T19:08:17.839Z"
   },
   {
    "duration": 35,
    "start_time": "2021-10-16T19:08:17.882Z"
   },
   {
    "duration": 19,
    "start_time": "2021-10-16T19:08:17.919Z"
   },
   {
    "duration": 8,
    "start_time": "2021-10-16T19:08:17.962Z"
   },
   {
    "duration": 23,
    "start_time": "2021-10-16T19:08:17.972Z"
   },
   {
    "duration": 64,
    "start_time": "2021-10-16T19:08:17.997Z"
   },
   {
    "duration": 23,
    "start_time": "2021-10-16T19:08:18.064Z"
   },
   {
    "duration": 12,
    "start_time": "2021-10-16T19:08:18.090Z"
   },
   {
    "duration": 67,
    "start_time": "2021-10-16T19:08:18.104Z"
   },
   {
    "duration": 10,
    "start_time": "2021-10-16T19:08:18.174Z"
   },
   {
    "duration": 104,
    "start_time": "2021-10-16T19:09:21.717Z"
   },
   {
    "duration": 9,
    "start_time": "2021-10-16T19:10:26.517Z"
   },
   {
    "duration": 33,
    "start_time": "2021-10-16T19:10:39.845Z"
   },
   {
    "duration": 32,
    "start_time": "2021-10-16T19:10:52.567Z"
   },
   {
    "duration": 11,
    "start_time": "2021-10-16T19:11:04.288Z"
   },
   {
    "duration": 7,
    "start_time": "2021-10-16T19:13:45.261Z"
   },
   {
    "duration": 22,
    "start_time": "2021-10-16T21:41:00.641Z"
   },
   {
    "duration": 469,
    "start_time": "2021-10-16T21:41:18.021Z"
   },
   {
    "duration": 23,
    "start_time": "2021-10-16T21:41:23.207Z"
   },
   {
    "duration": 20,
    "start_time": "2021-10-16T21:41:37.726Z"
   },
   {
    "duration": 23,
    "start_time": "2021-10-16T21:44:31.904Z"
   },
   {
    "duration": 24,
    "start_time": "2021-10-16T21:44:34.399Z"
   },
   {
    "duration": 6,
    "start_time": "2021-10-16T21:44:36.671Z"
   },
   {
    "duration": 82,
    "start_time": "2021-10-16T21:44:36.680Z"
   },
   {
    "duration": 26,
    "start_time": "2021-10-16T21:44:36.767Z"
   },
   {
    "duration": 66,
    "start_time": "2021-10-16T21:44:36.797Z"
   },
   {
    "duration": 6,
    "start_time": "2021-10-16T21:44:36.867Z"
   },
   {
    "duration": 12,
    "start_time": "2021-10-16T21:44:36.876Z"
   },
   {
    "duration": 85,
    "start_time": "2021-10-16T21:44:36.890Z"
   },
   {
    "duration": 6,
    "start_time": "2021-10-16T21:44:36.979Z"
   },
   {
    "duration": 25,
    "start_time": "2021-10-16T21:44:36.988Z"
   },
   {
    "duration": 46,
    "start_time": "2021-10-16T21:44:37.017Z"
   },
   {
    "duration": 24,
    "start_time": "2021-10-16T21:44:37.065Z"
   },
   {
    "duration": 73,
    "start_time": "2021-10-16T21:44:37.091Z"
   },
   {
    "duration": 14,
    "start_time": "2021-10-16T21:44:37.167Z"
   },
   {
    "duration": 19,
    "start_time": "2021-10-16T21:44:37.184Z"
   },
   {
    "duration": 11,
    "start_time": "2021-10-16T21:44:37.205Z"
   },
   {
    "duration": 25,
    "start_time": "2021-10-16T21:44:37.262Z"
   },
   {
    "duration": 24,
    "start_time": "2021-10-16T21:44:37.289Z"
   },
   {
    "duration": 62,
    "start_time": "2021-10-16T21:44:37.315Z"
   },
   {
    "duration": 18,
    "start_time": "2021-10-16T21:44:37.379Z"
   },
   {
    "duration": 15,
    "start_time": "2021-10-16T21:44:37.400Z"
   },
   {
    "duration": 111,
    "start_time": "2021-10-16T21:44:37.418Z"
   },
   {
    "duration": 36,
    "start_time": "2021-10-16T21:44:37.532Z"
   },
   {
    "duration": 13,
    "start_time": "2021-10-16T21:44:37.575Z"
   },
   {
    "duration": 10,
    "start_time": "2021-10-16T21:44:37.592Z"
   },
   {
    "duration": 76,
    "start_time": "2021-10-16T21:44:37.604Z"
   },
   {
    "duration": 7,
    "start_time": "2021-10-16T21:44:37.682Z"
   },
   {
    "duration": 73,
    "start_time": "2021-10-16T21:44:37.691Z"
   },
   {
    "duration": 5,
    "start_time": "2021-10-16T21:44:37.766Z"
   },
   {
    "duration": 9,
    "start_time": "2021-10-16T21:44:37.773Z"
   },
   {
    "duration": 1134,
    "start_time": "2021-10-16T21:44:37.784Z"
   },
   {
    "duration": 19,
    "start_time": "2021-10-16T21:44:38.920Z"
   },
   {
    "duration": 1424,
    "start_time": "2021-10-16T21:44:38.942Z"
   },
   {
    "duration": 10,
    "start_time": "2021-10-16T21:44:40.369Z"
   },
   {
    "duration": 664,
    "start_time": "2021-10-16T21:44:40.381Z"
   },
   {
    "duration": 1217,
    "start_time": "2021-10-16T21:44:41.048Z"
   },
   {
    "duration": 13,
    "start_time": "2021-10-16T21:44:42.268Z"
   },
   {
    "duration": 718,
    "start_time": "2021-10-16T21:44:42.285Z"
   },
   {
    "duration": 63,
    "start_time": "2021-10-16T21:44:43.006Z"
   },
   {
    "duration": 11,
    "start_time": "2021-10-16T21:44:43.071Z"
   },
   {
    "duration": 1119,
    "start_time": "2021-10-16T21:44:43.084Z"
   },
   {
    "duration": 1056,
    "start_time": "2021-10-16T21:44:44.206Z"
   },
   {
    "duration": 50,
    "start_time": "2021-10-16T21:44:45.264Z"
   },
   {
    "duration": 652,
    "start_time": "2021-10-16T21:44:45.317Z"
   },
   {
    "duration": 694,
    "start_time": "2021-10-16T21:44:45.971Z"
   },
   {
    "duration": 1074,
    "start_time": "2021-10-16T21:44:46.667Z"
   },
   {
    "duration": 31,
    "start_time": "2021-10-16T21:44:47.744Z"
   },
   {
    "duration": 28,
    "start_time": "2021-10-16T21:44:47.778Z"
   },
   {
    "duration": 57,
    "start_time": "2021-10-16T21:44:47.810Z"
   },
   {
    "duration": 23,
    "start_time": "2021-10-16T21:44:47.871Z"
   },
   {
    "duration": 65,
    "start_time": "2021-10-16T21:44:47.897Z"
   },
   {
    "duration": 22,
    "start_time": "2021-10-16T21:44:47.965Z"
   },
   {
    "duration": 14,
    "start_time": "2021-10-16T21:44:47.989Z"
   },
   {
    "duration": 62,
    "start_time": "2021-10-16T21:44:48.005Z"
   },
   {
    "duration": 21,
    "start_time": "2021-10-16T21:44:48.070Z"
   },
   {
    "duration": 22,
    "start_time": "2021-10-16T21:44:48.093Z"
   },
   {
    "duration": 50,
    "start_time": "2021-10-16T21:44:48.117Z"
   },
   {
    "duration": 24,
    "start_time": "2021-10-16T21:44:48.170Z"
   },
   {
    "duration": 9,
    "start_time": "2021-10-16T21:44:48.196Z"
   },
   {
    "duration": 12,
    "start_time": "2021-10-16T21:44:48.207Z"
   },
   {
    "duration": 34,
    "start_time": "2021-10-16T21:44:48.262Z"
   },
   {
    "duration": 43,
    "start_time": "2021-10-16T21:44:48.298Z"
   },
   {
    "duration": 24,
    "start_time": "2021-10-16T21:44:48.343Z"
   },
   {
    "duration": 8,
    "start_time": "2021-10-16T21:44:48.370Z"
   },
   {
    "duration": 36,
    "start_time": "2021-10-16T22:11:51.800Z"
   },
   {
    "duration": 12,
    "start_time": "2021-10-16T22:12:15.965Z"
   },
   {
    "duration": 288,
    "start_time": "2021-10-16T22:14:09.677Z"
   },
   {
    "duration": 11,
    "start_time": "2021-10-16T22:14:23.144Z"
   },
   {
    "duration": 8,
    "start_time": "2021-10-16T22:21:55.611Z"
   },
   {
    "duration": 11,
    "start_time": "2021-10-16T22:22:26.915Z"
   },
   {
    "duration": 104,
    "start_time": "2021-10-16T22:22:36.602Z"
   },
   {
    "duration": 12,
    "start_time": "2021-10-16T22:23:37.507Z"
   },
   {
    "duration": 11,
    "start_time": "2021-10-16T22:41:03.499Z"
   },
   {
    "duration": 8,
    "start_time": "2021-10-16T22:41:33.006Z"
   },
   {
    "duration": 11,
    "start_time": "2021-10-16T22:41:35.367Z"
   },
   {
    "duration": 12,
    "start_time": "2021-10-16T22:41:38.212Z"
   },
   {
    "duration": 12,
    "start_time": "2021-10-16T22:41:49.073Z"
   },
   {
    "duration": 12,
    "start_time": "2021-10-16T22:41:51.391Z"
   },
   {
    "duration": 18,
    "start_time": "2021-10-16T22:54:30.670Z"
   },
   {
    "duration": 7,
    "start_time": "2021-10-16T22:54:39.636Z"
   },
   {
    "duration": 50,
    "start_time": "2021-10-16T22:54:39.645Z"
   },
   {
    "duration": 20,
    "start_time": "2021-10-16T22:54:39.698Z"
   },
   {
    "duration": 46,
    "start_time": "2021-10-16T22:54:39.722Z"
   },
   {
    "duration": 7,
    "start_time": "2021-10-16T22:54:39.771Z"
   },
   {
    "duration": 8,
    "start_time": "2021-10-16T22:54:39.780Z"
   },
   {
    "duration": 102,
    "start_time": "2021-10-16T22:54:39.790Z"
   },
   {
    "duration": 6,
    "start_time": "2021-10-16T22:54:39.896Z"
   },
   {
    "duration": 64,
    "start_time": "2021-10-16T22:54:39.905Z"
   },
   {
    "duration": 10,
    "start_time": "2021-10-16T22:54:39.972Z"
   },
   {
    "duration": 23,
    "start_time": "2021-10-16T22:54:39.985Z"
   },
   {
    "duration": 70,
    "start_time": "2021-10-16T22:54:40.011Z"
   },
   {
    "duration": 10,
    "start_time": "2021-10-16T22:54:40.084Z"
   },
   {
    "duration": 15,
    "start_time": "2021-10-16T22:54:40.097Z"
   },
   {
    "duration": 53,
    "start_time": "2021-10-16T22:54:40.116Z"
   },
   {
    "duration": 28,
    "start_time": "2021-10-16T22:54:40.172Z"
   },
   {
    "duration": 63,
    "start_time": "2021-10-16T22:54:40.203Z"
   },
   {
    "duration": 26,
    "start_time": "2021-10-16T22:54:40.269Z"
   },
   {
    "duration": 18,
    "start_time": "2021-10-16T22:54:40.298Z"
   },
   {
    "duration": 54,
    "start_time": "2021-10-16T22:54:40.319Z"
   },
   {
    "duration": 95,
    "start_time": "2021-10-16T22:54:40.376Z"
   },
   {
    "duration": 24,
    "start_time": "2021-10-16T22:54:40.474Z"
   },
   {
    "duration": 13,
    "start_time": "2021-10-16T22:54:40.504Z"
   },
   {
    "duration": 44,
    "start_time": "2021-10-16T22:54:40.521Z"
   },
   {
    "duration": 35,
    "start_time": "2021-10-16T22:54:40.567Z"
   },
   {
    "duration": 6,
    "start_time": "2021-10-16T22:54:40.604Z"
   },
   {
    "duration": 91,
    "start_time": "2021-10-16T22:54:40.613Z"
   },
   {
    "duration": 6,
    "start_time": "2021-10-16T22:54:40.707Z"
   },
   {
    "duration": 8,
    "start_time": "2021-10-16T22:54:40.715Z"
   },
   {
    "duration": 1128,
    "start_time": "2021-10-16T22:54:40.725Z"
   },
   {
    "duration": 25,
    "start_time": "2021-10-16T22:54:41.855Z"
   },
   {
    "duration": 1408,
    "start_time": "2021-10-16T22:54:41.883Z"
   },
   {
    "duration": 9,
    "start_time": "2021-10-16T22:54:43.294Z"
   },
   {
    "duration": 736,
    "start_time": "2021-10-16T22:54:43.306Z"
   },
   {
    "duration": 1009,
    "start_time": "2021-10-16T22:54:44.045Z"
   },
   {
    "duration": 13,
    "start_time": "2021-10-16T22:54:45.057Z"
   },
   {
    "duration": 671,
    "start_time": "2021-10-16T22:54:45.074Z"
   },
   {
    "duration": 54,
    "start_time": "2021-10-16T22:54:45.748Z"
   },
   {
    "duration": 10,
    "start_time": "2021-10-16T22:54:45.805Z"
   },
   {
    "duration": 999,
    "start_time": "2021-10-16T22:54:45.818Z"
   },
   {
    "duration": 1049,
    "start_time": "2021-10-16T22:54:46.820Z"
   },
   {
    "duration": 54,
    "start_time": "2021-10-16T22:54:47.872Z"
   },
   {
    "duration": 648,
    "start_time": "2021-10-16T22:54:47.929Z"
   },
   {
    "duration": 638,
    "start_time": "2021-10-16T22:54:48.579Z"
   },
   {
    "duration": 960,
    "start_time": "2021-10-16T22:54:49.219Z"
   },
   {
    "duration": 20,
    "start_time": "2021-10-16T22:54:50.182Z"
   },
   {
    "duration": 22,
    "start_time": "2021-10-16T22:54:50.204Z"
   },
   {
    "duration": 51,
    "start_time": "2021-10-16T22:54:50.229Z"
   },
   {
    "duration": 24,
    "start_time": "2021-10-16T22:54:50.284Z"
   },
   {
    "duration": 68,
    "start_time": "2021-10-16T22:54:50.311Z"
   },
   {
    "duration": 26,
    "start_time": "2021-10-16T22:54:50.382Z"
   },
   {
    "duration": 51,
    "start_time": "2021-10-16T22:54:50.411Z"
   },
   {
    "duration": 26,
    "start_time": "2021-10-16T22:54:50.467Z"
   },
   {
    "duration": 38,
    "start_time": "2021-10-16T22:54:50.496Z"
   },
   {
    "duration": 26,
    "start_time": "2021-10-16T22:54:50.562Z"
   },
   {
    "duration": 17,
    "start_time": "2021-10-16T22:54:50.592Z"
   },
   {
    "duration": 59,
    "start_time": "2021-10-16T22:54:50.612Z"
   },
   {
    "duration": 15,
    "start_time": "2021-10-16T22:54:50.674Z"
   },
   {
    "duration": 13,
    "start_time": "2021-10-16T22:54:50.692Z"
   },
   {
    "duration": 101,
    "start_time": "2021-10-16T23:00:56.233Z"
   },
   {
    "duration": 12,
    "start_time": "2021-10-16T23:01:25.327Z"
   },
   {
    "duration": 6,
    "start_time": "2021-10-16T23:01:30.835Z"
   },
   {
    "duration": 58,
    "start_time": "2021-10-16T23:01:30.844Z"
   },
   {
    "duration": 22,
    "start_time": "2021-10-16T23:01:30.906Z"
   },
   {
    "duration": 14,
    "start_time": "2021-10-16T23:01:30.962Z"
   },
   {
    "duration": 9,
    "start_time": "2021-10-16T23:01:30.979Z"
   },
   {
    "duration": 20,
    "start_time": "2021-10-16T23:01:30.990Z"
   },
   {
    "duration": 91,
    "start_time": "2021-10-16T23:01:31.012Z"
   },
   {
    "duration": 7,
    "start_time": "2021-10-16T23:01:31.107Z"
   },
   {
    "duration": 54,
    "start_time": "2021-10-16T23:01:31.117Z"
   },
   {
    "duration": 11,
    "start_time": "2021-10-16T23:01:31.173Z"
   },
   {
    "duration": 55,
    "start_time": "2021-10-16T23:01:31.187Z"
   },
   {
    "duration": 45,
    "start_time": "2021-10-16T23:01:31.245Z"
   },
   {
    "duration": 11,
    "start_time": "2021-10-16T23:01:31.292Z"
   },
   {
    "duration": 16,
    "start_time": "2021-10-16T23:01:31.305Z"
   },
   {
    "duration": 42,
    "start_time": "2021-10-16T23:01:31.324Z"
   },
   {
    "duration": 28,
    "start_time": "2021-10-16T23:01:31.368Z"
   },
   {
    "duration": 63,
    "start_time": "2021-10-16T23:01:31.399Z"
   },
   {
    "duration": 26,
    "start_time": "2021-10-16T23:01:31.465Z"
   },
   {
    "duration": 20,
    "start_time": "2021-10-16T23:01:31.494Z"
   },
   {
    "duration": 53,
    "start_time": "2021-10-16T23:01:31.517Z"
   },
   {
    "duration": 93,
    "start_time": "2021-10-16T23:01:31.572Z"
   },
   {
    "duration": 24,
    "start_time": "2021-10-16T23:01:31.667Z"
   },
   {
    "duration": 13,
    "start_time": "2021-10-16T23:01:31.698Z"
   },
   {
    "duration": 50,
    "start_time": "2021-10-16T23:01:31.714Z"
   },
   {
    "duration": 36,
    "start_time": "2021-10-16T23:01:31.766Z"
   },
   {
    "duration": 6,
    "start_time": "2021-10-16T23:01:31.804Z"
   },
   {
    "duration": 91,
    "start_time": "2021-10-16T23:01:31.812Z"
   },
   {
    "duration": 5,
    "start_time": "2021-10-16T23:01:31.906Z"
   },
   {
    "duration": 13,
    "start_time": "2021-10-16T23:01:31.913Z"
   },
   {
    "duration": 1225,
    "start_time": "2021-10-16T23:01:31.929Z"
   },
   {
    "duration": 25,
    "start_time": "2021-10-16T23:01:33.156Z"
   },
   {
    "duration": 1976,
    "start_time": "2021-10-16T23:01:33.183Z"
   },
   {
    "duration": 9,
    "start_time": "2021-10-16T23:01:35.161Z"
   },
   {
    "duration": 643,
    "start_time": "2021-10-16T23:01:35.173Z"
   },
   {
    "duration": 996,
    "start_time": "2021-10-16T23:01:35.819Z"
   },
   {
    "duration": 11,
    "start_time": "2021-10-16T23:01:36.817Z"
   },
   {
    "duration": 641,
    "start_time": "2021-10-16T23:01:36.830Z"
   },
   {
    "duration": 43,
    "start_time": "2021-10-16T23:01:37.474Z"
   },
   {
    "duration": 45,
    "start_time": "2021-10-16T23:01:37.519Z"
   },
   {
    "duration": 977,
    "start_time": "2021-10-16T23:01:37.566Z"
   },
   {
    "duration": 985,
    "start_time": "2021-10-16T23:01:38.546Z"
   },
   {
    "duration": 71,
    "start_time": "2021-10-16T23:01:39.535Z"
   },
   {
    "duration": 657,
    "start_time": "2021-10-16T23:01:39.609Z"
   },
   {
    "duration": 639,
    "start_time": "2021-10-16T23:01:40.268Z"
   },
   {
    "duration": 912,
    "start_time": "2021-10-16T23:01:40.910Z"
   },
   {
    "duration": 20,
    "start_time": "2021-10-16T23:01:41.825Z"
   },
   {
    "duration": 21,
    "start_time": "2021-10-16T23:01:41.863Z"
   },
   {
    "duration": 25,
    "start_time": "2021-10-16T23:01:41.887Z"
   },
   {
    "duration": 57,
    "start_time": "2021-10-16T23:01:41.914Z"
   },
   {
    "duration": 125,
    "start_time": "2021-10-16T23:01:41.973Z"
   },
   {
    "duration": 19,
    "start_time": "2021-10-16T23:01:42.101Z"
   },
   {
    "duration": 6,
    "start_time": "2021-10-16T23:01:42.122Z"
   },
   {
    "duration": 23,
    "start_time": "2021-10-16T23:01:42.162Z"
   },
   {
    "duration": 23,
    "start_time": "2021-10-16T23:01:42.187Z"
   },
   {
    "duration": 57,
    "start_time": "2021-10-16T23:01:42.213Z"
   },
   {
    "duration": 14,
    "start_time": "2021-10-16T23:01:42.272Z"
   },
   {
    "duration": 9,
    "start_time": "2021-10-16T23:01:42.289Z"
   },
   {
    "duration": 11,
    "start_time": "2021-10-16T23:01:42.300Z"
   },
   {
    "duration": 56,
    "start_time": "2021-10-16T23:01:42.313Z"
   },
   {
    "duration": 494,
    "start_time": "2021-10-16T23:04:12.328Z"
   },
   {
    "duration": 486,
    "start_time": "2021-10-16T23:04:41.975Z"
   },
   {
    "duration": 623,
    "start_time": "2021-10-16T23:05:30.867Z"
   },
   {
    "duration": 20,
    "start_time": "2021-10-16T23:05:42.004Z"
   },
   {
    "duration": 527,
    "start_time": "2021-10-16T23:05:47.878Z"
   },
   {
    "duration": 174,
    "start_time": "2021-10-17T06:32:08.391Z"
   },
   {
    "duration": 364,
    "start_time": "2021-10-17T06:40:57.890Z"
   },
   {
    "duration": 1570,
    "start_time": "2021-10-17T06:41:24.221Z"
   },
   {
    "duration": 46,
    "start_time": "2021-10-17T06:41:25.794Z"
   },
   {
    "duration": 32,
    "start_time": "2021-10-17T06:41:25.843Z"
   },
   {
    "duration": 12,
    "start_time": "2021-10-17T06:41:25.878Z"
   },
   {
    "duration": 6,
    "start_time": "2021-10-17T06:41:25.893Z"
   },
   {
    "duration": 9,
    "start_time": "2021-10-17T06:41:25.901Z"
   },
   {
    "duration": 95,
    "start_time": "2021-10-17T06:41:25.913Z"
   },
   {
    "duration": 6,
    "start_time": "2021-10-17T06:41:26.015Z"
   },
   {
    "duration": 59,
    "start_time": "2021-10-17T06:41:26.025Z"
   },
   {
    "duration": 11,
    "start_time": "2021-10-17T06:41:26.086Z"
   },
   {
    "duration": 64,
    "start_time": "2021-10-17T06:41:26.100Z"
   },
   {
    "duration": 39,
    "start_time": "2021-10-17T06:41:26.166Z"
   },
   {
    "duration": 10,
    "start_time": "2021-10-17T06:41:26.208Z"
   },
   {
    "duration": 46,
    "start_time": "2021-10-17T06:41:26.221Z"
   },
   {
    "duration": 15,
    "start_time": "2021-10-17T06:41:26.270Z"
   },
   {
    "duration": 24,
    "start_time": "2021-10-17T06:41:26.288Z"
   },
   {
    "duration": 70,
    "start_time": "2021-10-17T06:41:26.315Z"
   },
   {
    "duration": 27,
    "start_time": "2021-10-17T06:41:26.387Z"
   },
   {
    "duration": 51,
    "start_time": "2021-10-17T06:41:26.416Z"
   },
   {
    "duration": 14,
    "start_time": "2021-10-17T06:41:26.470Z"
   },
   {
    "duration": 112,
    "start_time": "2021-10-17T06:41:26.487Z"
   },
   {
    "duration": 23,
    "start_time": "2021-10-17T06:41:26.601Z"
   },
   {
    "duration": 37,
    "start_time": "2021-10-17T06:41:26.630Z"
   },
   {
    "duration": 10,
    "start_time": "2021-10-17T06:41:26.670Z"
   },
   {
    "duration": 32,
    "start_time": "2021-10-17T06:41:26.682Z"
   },
   {
    "duration": 5,
    "start_time": "2021-10-17T06:41:26.717Z"
   },
   {
    "duration": 90,
    "start_time": "2021-10-17T06:41:26.725Z"
   },
   {
    "duration": 5,
    "start_time": "2021-10-17T06:41:26.817Z"
   },
   {
    "duration": 9,
    "start_time": "2021-10-17T06:41:26.825Z"
   },
   {
    "duration": 1080,
    "start_time": "2021-10-17T06:41:26.861Z"
   },
   {
    "duration": 27,
    "start_time": "2021-10-17T06:41:27.943Z"
   },
   {
    "duration": 1342,
    "start_time": "2021-10-17T06:41:27.973Z"
   },
   {
    "duration": 9,
    "start_time": "2021-10-17T06:41:29.317Z"
   },
   {
    "duration": 601,
    "start_time": "2021-10-17T06:41:29.328Z"
   },
   {
    "duration": 1018,
    "start_time": "2021-10-17T06:41:29.931Z"
   },
   {
    "duration": 14,
    "start_time": "2021-10-17T06:41:30.951Z"
   },
   {
    "duration": 721,
    "start_time": "2021-10-17T06:41:30.967Z"
   },
   {
    "duration": 41,
    "start_time": "2021-10-17T06:41:31.690Z"
   },
   {
    "duration": 38,
    "start_time": "2021-10-17T06:41:31.733Z"
   },
   {
    "duration": 992,
    "start_time": "2021-10-17T06:41:31.773Z"
   },
   {
    "duration": 1000,
    "start_time": "2021-10-17T06:41:32.768Z"
   },
   {
    "duration": 50,
    "start_time": "2021-10-17T06:41:33.771Z"
   },
   {
    "duration": 662,
    "start_time": "2021-10-17T06:41:33.823Z"
   },
   {
    "duration": 634,
    "start_time": "2021-10-17T06:41:34.487Z"
   },
   {
    "duration": 22,
    "start_time": "2021-10-17T06:41:35.123Z"
   },
   {
    "duration": 21,
    "start_time": "2021-10-17T06:41:35.163Z"
   },
   {
    "duration": 19,
    "start_time": "2021-10-17T06:41:35.187Z"
   },
   {
    "duration": 580,
    "start_time": "2021-10-17T06:41:35.209Z"
   },
   {
    "duration": 563,
    "start_time": "2021-10-17T06:41:35.791Z"
   },
   {
    "duration": 565,
    "start_time": "2021-10-17T06:41:36.357Z"
   },
   {
    "duration": 7,
    "start_time": "2021-10-17T06:41:36.924Z"
   },
   {
    "duration": 41,
    "start_time": "2021-10-17T06:41:36.934Z"
   },
   {
    "duration": 20,
    "start_time": "2021-10-17T06:41:36.978Z"
   },
   {
    "duration": 24,
    "start_time": "2021-10-17T06:41:37.001Z"
   },
   {
    "duration": 48,
    "start_time": "2021-10-17T06:41:37.027Z"
   },
   {
    "duration": 10,
    "start_time": "2021-10-17T06:41:37.077Z"
   },
   {
    "duration": 13,
    "start_time": "2021-10-17T06:41:37.089Z"
   },
   {
    "duration": 10,
    "start_time": "2021-10-17T06:41:37.104Z"
   },
   {
    "duration": 508,
    "start_time": "2021-10-17T06:46:38.083Z"
   },
   {
    "duration": 508,
    "start_time": "2021-10-17T06:46:43.619Z"
   },
   {
    "duration": 546,
    "start_time": "2021-10-17T06:46:50.254Z"
   },
   {
    "duration": 114,
    "start_time": "2021-10-17T08:17:48.759Z"
   },
   {
    "duration": 105,
    "start_time": "2021-10-17T08:18:36.572Z"
   },
   {
    "duration": 7,
    "start_time": "2021-10-17T08:36:32.293Z"
   },
   {
    "duration": 64,
    "start_time": "2021-10-17T08:36:32.302Z"
   },
   {
    "duration": 21,
    "start_time": "2021-10-17T08:36:32.370Z"
   },
   {
    "duration": 14,
    "start_time": "2021-10-17T08:36:32.393Z"
   },
   {
    "duration": 5,
    "start_time": "2021-10-17T08:36:32.409Z"
   },
   {
    "duration": 7,
    "start_time": "2021-10-17T08:36:32.466Z"
   },
   {
    "duration": 182,
    "start_time": "2021-10-17T08:36:32.477Z"
   },
   {
    "duration": 6,
    "start_time": "2021-10-17T08:36:32.663Z"
   },
   {
    "duration": 25,
    "start_time": "2021-10-17T08:36:32.672Z"
   },
   {
    "duration": 10,
    "start_time": "2021-10-17T08:36:32.700Z"
   },
   {
    "duration": 70,
    "start_time": "2021-10-17T08:36:32.713Z"
   },
   {
    "duration": 45,
    "start_time": "2021-10-17T08:36:32.786Z"
   },
   {
    "duration": 33,
    "start_time": "2021-10-17T08:36:32.833Z"
   },
   {
    "duration": 17,
    "start_time": "2021-10-17T08:36:32.870Z"
   },
   {
    "duration": 16,
    "start_time": "2021-10-17T08:36:32.891Z"
   },
   {
    "duration": 69,
    "start_time": "2021-10-17T08:36:32.909Z"
   },
   {
    "duration": 28,
    "start_time": "2021-10-17T08:36:32.982Z"
   },
   {
    "duration": 64,
    "start_time": "2021-10-17T08:36:33.013Z"
   },
   {
    "duration": 21,
    "start_time": "2021-10-17T08:36:33.080Z"
   },
   {
    "duration": 58,
    "start_time": "2021-10-17T08:36:33.104Z"
   },
   {
    "duration": 98,
    "start_time": "2021-10-17T08:36:33.164Z"
   },
   {
    "duration": 25,
    "start_time": "2021-10-17T08:36:33.264Z"
   },
   {
    "duration": 15,
    "start_time": "2021-10-17T08:36:33.296Z"
   },
   {
    "duration": 10,
    "start_time": "2021-10-17T08:36:33.315Z"
   },
   {
    "duration": 31,
    "start_time": "2021-10-17T08:36:33.363Z"
   },
   {
    "duration": 6,
    "start_time": "2021-10-17T08:36:33.396Z"
   },
   {
    "duration": 92,
    "start_time": "2021-10-17T08:36:33.404Z"
   },
   {
    "duration": 6,
    "start_time": "2021-10-17T08:36:33.499Z"
   },
   {
    "duration": 13,
    "start_time": "2021-10-17T08:36:33.508Z"
   },
   {
    "duration": 1115,
    "start_time": "2021-10-17T08:36:33.523Z"
   },
   {
    "duration": 31,
    "start_time": "2021-10-17T08:36:34.641Z"
   },
   {
    "duration": 1360,
    "start_time": "2021-10-17T08:36:34.675Z"
   },
   {
    "duration": 9,
    "start_time": "2021-10-17T08:36:36.037Z"
   },
   {
    "duration": 662,
    "start_time": "2021-10-17T08:36:36.049Z"
   },
   {
    "duration": 1018,
    "start_time": "2021-10-17T08:36:36.713Z"
   },
   {
    "duration": 11,
    "start_time": "2021-10-17T08:36:37.733Z"
   },
   {
    "duration": 616,
    "start_time": "2021-10-17T08:36:37.762Z"
   },
   {
    "duration": 44,
    "start_time": "2021-10-17T08:36:38.380Z"
   },
   {
    "duration": 37,
    "start_time": "2021-10-17T08:36:38.427Z"
   },
   {
    "duration": 1031,
    "start_time": "2021-10-17T08:36:38.467Z"
   },
   {
    "duration": 1089,
    "start_time": "2021-10-17T08:36:39.501Z"
   },
   {
    "duration": 69,
    "start_time": "2021-10-17T08:36:40.592Z"
   },
   {
    "duration": 683,
    "start_time": "2021-10-17T08:36:40.664Z"
   },
   {
    "duration": 649,
    "start_time": "2021-10-17T08:36:41.350Z"
   },
   {
    "duration": 74,
    "start_time": "2021-10-17T08:36:42.002Z"
   },
   {
    "duration": 19,
    "start_time": "2021-10-17T08:36:42.078Z"
   },
   {
    "duration": 76,
    "start_time": "2021-10-17T08:36:42.099Z"
   },
   {
    "duration": 756,
    "start_time": "2021-10-17T08:36:42.178Z"
   },
   {
    "duration": 528,
    "start_time": "2021-10-17T08:36:42.937Z"
   },
   {
    "duration": 548,
    "start_time": "2021-10-17T08:36:43.467Z"
   },
   {
    "duration": 8,
    "start_time": "2021-10-17T08:36:44.017Z"
   },
   {
    "duration": 45,
    "start_time": "2021-10-17T08:36:44.027Z"
   },
   {
    "duration": 25,
    "start_time": "2021-10-17T08:36:44.075Z"
   },
   {
    "duration": 21,
    "start_time": "2021-10-17T08:36:44.103Z"
   },
   {
    "duration": 46,
    "start_time": "2021-10-17T08:36:44.127Z"
   },
   {
    "duration": 10,
    "start_time": "2021-10-17T08:36:44.175Z"
   },
   {
    "duration": 11,
    "start_time": "2021-10-17T08:36:44.187Z"
   },
   {
    "duration": 58,
    "start_time": "2021-10-17T08:36:44.211Z"
   },
   {
    "duration": 1478,
    "start_time": "2021-10-17T09:38:54.198Z"
   },
   {
    "duration": 47,
    "start_time": "2021-10-17T09:38:55.679Z"
   },
   {
    "duration": 24,
    "start_time": "2021-10-17T09:38:55.729Z"
   },
   {
    "duration": 24,
    "start_time": "2021-10-17T09:38:55.755Z"
   },
   {
    "duration": 6,
    "start_time": "2021-10-17T09:38:55.781Z"
   },
   {
    "duration": 34,
    "start_time": "2021-10-17T09:38:55.789Z"
   },
   {
    "duration": 45,
    "start_time": "2021-10-17T09:38:55.825Z"
   },
   {
    "duration": 6,
    "start_time": "2021-10-17T09:38:55.872Z"
   },
   {
    "duration": 50,
    "start_time": "2021-10-17T09:38:55.882Z"
   },
   {
    "duration": 11,
    "start_time": "2021-10-17T09:38:55.934Z"
   },
   {
    "duration": 38,
    "start_time": "2021-10-17T09:38:55.948Z"
   },
   {
    "duration": 64,
    "start_time": "2021-10-17T09:38:55.989Z"
   },
   {
    "duration": 15,
    "start_time": "2021-10-17T09:38:56.055Z"
   },
   {
    "duration": 23,
    "start_time": "2021-10-17T09:38:56.073Z"
   },
   {
    "duration": 35,
    "start_time": "2021-10-17T09:38:56.099Z"
   },
   {
    "duration": 31,
    "start_time": "2021-10-17T09:38:56.136Z"
   },
   {
    "duration": 23,
    "start_time": "2021-10-17T09:38:56.170Z"
   },
   {
    "duration": 48,
    "start_time": "2021-10-17T09:38:56.195Z"
   },
   {
    "duration": 25,
    "start_time": "2021-10-17T09:38:56.246Z"
   },
   {
    "duration": 48,
    "start_time": "2021-10-17T09:38:56.274Z"
   },
   {
    "duration": 84,
    "start_time": "2021-10-17T09:38:56.325Z"
   },
   {
    "duration": 32,
    "start_time": "2021-10-17T09:38:56.412Z"
   },
   {
    "duration": 13,
    "start_time": "2021-10-17T09:38:56.446Z"
   },
   {
    "duration": 10,
    "start_time": "2021-10-17T09:38:56.461Z"
   },
   {
    "duration": 65,
    "start_time": "2021-10-17T09:38:56.473Z"
   },
   {
    "duration": 6,
    "start_time": "2021-10-17T09:38:56.540Z"
   },
   {
    "duration": 71,
    "start_time": "2021-10-17T09:38:56.552Z"
   },
   {
    "duration": 4,
    "start_time": "2021-10-17T09:38:56.626Z"
   },
   {
    "duration": 14,
    "start_time": "2021-10-17T09:38:56.632Z"
   },
   {
    "duration": 1474,
    "start_time": "2021-10-17T09:38:56.648Z"
   },
   {
    "duration": 28,
    "start_time": "2021-10-17T09:38:58.126Z"
   },
   {
    "duration": 1731,
    "start_time": "2021-10-17T09:38:58.157Z"
   },
   {
    "duration": 8,
    "start_time": "2021-10-17T09:38:59.891Z"
   },
   {
    "duration": 621,
    "start_time": "2021-10-17T09:38:59.901Z"
   },
   {
    "duration": 998,
    "start_time": "2021-10-17T09:39:00.524Z"
   },
   {
    "duration": 10,
    "start_time": "2021-10-17T09:39:01.524Z"
   },
   {
    "duration": 699,
    "start_time": "2021-10-17T09:39:01.537Z"
   },
   {
    "duration": 40,
    "start_time": "2021-10-17T09:39:02.238Z"
   },
   {
    "duration": 11,
    "start_time": "2021-10-17T09:39:02.282Z"
   },
   {
    "duration": 977,
    "start_time": "2021-10-17T09:39:02.323Z"
   },
   {
    "duration": 994,
    "start_time": "2021-10-17T09:39:03.303Z"
   },
   {
    "duration": 62,
    "start_time": "2021-10-17T09:39:04.299Z"
   },
   {
    "duration": 629,
    "start_time": "2021-10-17T09:39:04.363Z"
   },
   {
    "duration": 635,
    "start_time": "2021-10-17T09:39:04.995Z"
   },
   {
    "duration": 23,
    "start_time": "2021-10-17T09:39:05.633Z"
   },
   {
    "duration": 33,
    "start_time": "2021-10-17T09:39:05.659Z"
   },
   {
    "duration": 48,
    "start_time": "2021-10-17T09:39:05.695Z"
   },
   {
    "duration": 525,
    "start_time": "2021-10-17T09:39:05.746Z"
   },
   {
    "duration": 614,
    "start_time": "2021-10-17T09:39:06.274Z"
   },
   {
    "duration": 518,
    "start_time": "2021-10-17T09:39:06.891Z"
   },
   {
    "duration": 13,
    "start_time": "2021-10-17T09:39:07.412Z"
   },
   {
    "duration": 25,
    "start_time": "2021-10-17T09:39:07.428Z"
   },
   {
    "duration": 23,
    "start_time": "2021-10-17T09:39:07.456Z"
   },
   {
    "duration": 60,
    "start_time": "2021-10-17T09:39:07.482Z"
   },
   {
    "duration": 17,
    "start_time": "2021-10-17T09:39:07.545Z"
   },
   {
    "duration": 12,
    "start_time": "2021-10-17T09:39:07.565Z"
   },
   {
    "duration": 13,
    "start_time": "2021-10-17T09:39:07.623Z"
   },
   {
    "duration": 13,
    "start_time": "2021-10-17T09:39:07.639Z"
   }
  ],
  "kernelspec": {
   "display_name": "Python 3 (ipykernel)",
   "language": "python",
   "name": "python3"
  },
  "language_info": {
   "codemirror_mode": {
    "name": "ipython",
    "version": 3
   },
   "file_extension": ".py",
   "mimetype": "text/x-python",
   "name": "python",
   "nbconvert_exporter": "python",
   "pygments_lexer": "ipython3",
   "version": "3.9.7"
  },
  "toc": {
   "base_numbering": 1,
   "nav_menu": {},
   "number_sections": false,
   "sideBar": true,
   "skip_h1_title": true,
   "title_cell": "Table of Contents",
   "title_sidebar": "Contents",
   "toc_cell": false,
   "toc_position": {},
   "toc_section_display": true,
   "toc_window_display": true
  }
 },
 "nbformat": 4,
 "nbformat_minor": 2
}
