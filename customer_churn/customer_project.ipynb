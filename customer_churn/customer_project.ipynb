{
 "cells": [
  {
   "cell_type": "markdown",
   "metadata": {},
   "source": [
    "## Подготовка данных"
   ]
  },
  {
   "cell_type": "markdown",
   "metadata": {},
   "source": [
    "Импортируем все нужные нам инструменты и посмотрим на данные"
   ]
  },
  {
   "cell_type": "code",
   "execution_count": 162,
   "metadata": {},
   "outputs": [
    {
     "name": "stdout",
     "output_type": "stream",
     "text": [
      "Defaulting to user installation because normal site-packages is not writeable\n",
      "Requirement already up-to-date: scikit-learn in /home/jovyan/.local/lib/python3.7/site-packages (1.0.1)\n",
      "Requirement already satisfied, skipping upgrade: scipy>=1.1.0 in /opt/conda/lib/python3.7/site-packages (from scikit-learn) (1.4.1)\n",
      "Requirement already satisfied, skipping upgrade: numpy>=1.14.6 in /opt/conda/lib/python3.7/site-packages (from scikit-learn) (1.19.5)\n",
      "Requirement already satisfied, skipping upgrade: joblib>=0.11 in /opt/conda/lib/python3.7/site-packages (from scikit-learn) (1.0.1)\n",
      "Requirement already satisfied, skipping upgrade: threadpoolctl>=2.0.0 in /home/jovyan/.local/lib/python3.7/site-packages (from scikit-learn) (3.0.0)\n",
      "Defaulting to user installation because normal site-packages is not writeable\n",
      "Requirement already up-to-date: imbalanced-learn in /home/jovyan/.local/lib/python3.7/site-packages (0.8.1)\n",
      "Requirement already satisfied, skipping upgrade: numpy>=1.13.3 in /opt/conda/lib/python3.7/site-packages (from imbalanced-learn) (1.19.5)\n",
      "Requirement already satisfied, skipping upgrade: scikit-learn>=0.24 in /home/jovyan/.local/lib/python3.7/site-packages (from imbalanced-learn) (1.0.1)\n",
      "Requirement already satisfied, skipping upgrade: scipy>=0.19.1 in /opt/conda/lib/python3.7/site-packages (from imbalanced-learn) (1.4.1)\n",
      "Requirement already satisfied, skipping upgrade: joblib>=0.11 in /opt/conda/lib/python3.7/site-packages (from imbalanced-learn) (1.0.1)\n",
      "Requirement already satisfied, skipping upgrade: threadpoolctl>=2.0.0 in /home/jovyan/.local/lib/python3.7/site-packages (from scikit-learn>=0.24->imbalanced-learn) (3.0.0)\n"
     ]
    }
   ],
   "source": [
    "!pip install scikit-learn --upgrade\n",
    "!pip install -U imbalanced-learn"
   ]
  },
  {
   "cell_type": "code",
   "execution_count": 163,
   "metadata": {},
   "outputs": [],
   "source": [
    "import imblearn\n",
    "import pandas as pd\n",
    "import numpy as np\n",
    "import seaborn as sns\n",
    "import matplotlib.pyplot as plt\n",
    "\n",
    "from imblearn.under_sampling import RandomUnderSampler\n",
    "from imblearn.over_sampling import SMOTENC\n",
    "from sklearn.model_selection import train_test_split\n",
    "from sklearn.pipeline import Pipeline\n",
    "from sklearn.preprocessing import StandardScaler\n",
    "from sklearn.preprocessing import OneHotEncoder\n",
    "from sklearn.compose import ColumnTransformer\n",
    "from sklearn.utils import shuffle\n",
    "from sklearn.metrics import roc_curve\n",
    "\n",
    "from sklearn.linear_model import LogisticRegression\n",
    "from sklearn.tree import DecisionTreeClassifier\n",
    "from sklearn.ensemble import RandomForestClassifier\n",
    "from sklearn.dummy import DummyClassifier\n",
    "from sklearn.model_selection import GridSearchCV\n",
    "\n",
    "from sklearn.metrics import roc_auc_score\n",
    "from sklearn.metrics import f1_score\n",
    "from sklearn.metrics import roc_auc_score\n",
    "\n",
    "import warnings\n",
    "warnings.filterwarnings('ignore')"
   ]
  },
  {
   "cell_type": "code",
   "execution_count": 164,
   "metadata": {},
   "outputs": [],
   "source": [
    "raw_df = pd.read_csv('/datasets/Churn.csv')\n",
    "df = raw_df.copy()"
   ]
  },
  {
   "cell_type": "code",
   "execution_count": 165,
   "metadata": {},
   "outputs": [
    {
     "data": {
      "text/plain": [
       "RowNumber          0.00%\n",
       "CustomerId         0.00%\n",
       "Surname            0.00%\n",
       "CreditScore        0.00%\n",
       "Geography          0.00%\n",
       "Gender             0.00%\n",
       "Age                0.00%\n",
       "Tenure             9.09%\n",
       "Balance            0.00%\n",
       "NumOfProducts      0.00%\n",
       "HasCrCard          0.00%\n",
       "IsActiveMember     0.00%\n",
       "EstimatedSalary    0.00%\n",
       "Exited             0.00%\n",
       "dtype: object"
      ]
     },
     "execution_count": 165,
     "metadata": {},
     "output_type": "execute_result"
    }
   ],
   "source": [
    "df.isna().mean().apply('{:.2%}'.format)"
   ]
  },
  {
   "cell_type": "markdown",
   "metadata": {},
   "source": [
    "Видим 9% пропущенных значений в колонке Tenure - сколько лет человек является клиентом банка"
   ]
  },
  {
   "cell_type": "code",
   "execution_count": 166,
   "metadata": {},
   "outputs": [
    {
     "name": "stdout",
     "output_type": "stream",
     "text": [
      "<class 'pandas.core.frame.DataFrame'>\n",
      "RangeIndex: 10000 entries, 0 to 9999\n",
      "Data columns (total 14 columns):\n",
      "RowNumber          10000 non-null int64\n",
      "CustomerId         10000 non-null int64\n",
      "Surname            10000 non-null object\n",
      "CreditScore        10000 non-null int64\n",
      "Geography          10000 non-null object\n",
      "Gender             10000 non-null object\n",
      "Age                10000 non-null int64\n",
      "Tenure             9091 non-null float64\n",
      "Balance            10000 non-null float64\n",
      "NumOfProducts      10000 non-null int64\n",
      "HasCrCard          10000 non-null int64\n",
      "IsActiveMember     10000 non-null int64\n",
      "EstimatedSalary    10000 non-null float64\n",
      "Exited             10000 non-null int64\n",
      "dtypes: float64(3), int64(8), object(3)\n",
      "memory usage: 1.1+ MB\n"
     ]
    }
   ],
   "source": [
    "df.info()"
   ]
  },
  {
   "cell_type": "markdown",
   "metadata": {},
   "source": [
    "Видим три колонки со строковыми значениями"
   ]
  },
  {
   "cell_type": "code",
   "execution_count": 167,
   "metadata": {},
   "outputs": [
    {
     "data": {
      "text/html": [
       "<div>\n",
       "<style scoped>\n",
       "    .dataframe tbody tr th:only-of-type {\n",
       "        vertical-align: middle;\n",
       "    }\n",
       "\n",
       "    .dataframe tbody tr th {\n",
       "        vertical-align: top;\n",
       "    }\n",
       "\n",
       "    .dataframe thead th {\n",
       "        text-align: right;\n",
       "    }\n",
       "</style>\n",
       "<table border=\"1\" class=\"dataframe\">\n",
       "  <thead>\n",
       "    <tr style=\"text-align: right;\">\n",
       "      <th></th>\n",
       "      <th>count</th>\n",
       "      <th>unique</th>\n",
       "      <th>top</th>\n",
       "      <th>freq</th>\n",
       "      <th>mean</th>\n",
       "      <th>std</th>\n",
       "      <th>min</th>\n",
       "      <th>25%</th>\n",
       "      <th>50%</th>\n",
       "      <th>75%</th>\n",
       "      <th>max</th>\n",
       "    </tr>\n",
       "  </thead>\n",
       "  <tbody>\n",
       "    <tr>\n",
       "      <td>RowNumber</td>\n",
       "      <td>10000</td>\n",
       "      <td>NaN</td>\n",
       "      <td>NaN</td>\n",
       "      <td>NaN</td>\n",
       "      <td>5000.5</td>\n",
       "      <td>2886.9</td>\n",
       "      <td>1</td>\n",
       "      <td>2500.75</td>\n",
       "      <td>5000.5</td>\n",
       "      <td>7500.25</td>\n",
       "      <td>10000</td>\n",
       "    </tr>\n",
       "    <tr>\n",
       "      <td>CustomerId</td>\n",
       "      <td>10000</td>\n",
       "      <td>NaN</td>\n",
       "      <td>NaN</td>\n",
       "      <td>NaN</td>\n",
       "      <td>1.56909e+07</td>\n",
       "      <td>71936.2</td>\n",
       "      <td>1.55657e+07</td>\n",
       "      <td>1.56285e+07</td>\n",
       "      <td>1.56907e+07</td>\n",
       "      <td>1.57532e+07</td>\n",
       "      <td>1.58157e+07</td>\n",
       "    </tr>\n",
       "    <tr>\n",
       "      <td>Surname</td>\n",
       "      <td>10000</td>\n",
       "      <td>2932</td>\n",
       "      <td>Smith</td>\n",
       "      <td>32</td>\n",
       "      <td>NaN</td>\n",
       "      <td>NaN</td>\n",
       "      <td>NaN</td>\n",
       "      <td>NaN</td>\n",
       "      <td>NaN</td>\n",
       "      <td>NaN</td>\n",
       "      <td>NaN</td>\n",
       "    </tr>\n",
       "    <tr>\n",
       "      <td>CreditScore</td>\n",
       "      <td>10000</td>\n",
       "      <td>NaN</td>\n",
       "      <td>NaN</td>\n",
       "      <td>NaN</td>\n",
       "      <td>650.529</td>\n",
       "      <td>96.6533</td>\n",
       "      <td>350</td>\n",
       "      <td>584</td>\n",
       "      <td>652</td>\n",
       "      <td>718</td>\n",
       "      <td>850</td>\n",
       "    </tr>\n",
       "    <tr>\n",
       "      <td>Geography</td>\n",
       "      <td>10000</td>\n",
       "      <td>3</td>\n",
       "      <td>France</td>\n",
       "      <td>5014</td>\n",
       "      <td>NaN</td>\n",
       "      <td>NaN</td>\n",
       "      <td>NaN</td>\n",
       "      <td>NaN</td>\n",
       "      <td>NaN</td>\n",
       "      <td>NaN</td>\n",
       "      <td>NaN</td>\n",
       "    </tr>\n",
       "    <tr>\n",
       "      <td>Gender</td>\n",
       "      <td>10000</td>\n",
       "      <td>2</td>\n",
       "      <td>Male</td>\n",
       "      <td>5457</td>\n",
       "      <td>NaN</td>\n",
       "      <td>NaN</td>\n",
       "      <td>NaN</td>\n",
       "      <td>NaN</td>\n",
       "      <td>NaN</td>\n",
       "      <td>NaN</td>\n",
       "      <td>NaN</td>\n",
       "    </tr>\n",
       "    <tr>\n",
       "      <td>Age</td>\n",
       "      <td>10000</td>\n",
       "      <td>NaN</td>\n",
       "      <td>NaN</td>\n",
       "      <td>NaN</td>\n",
       "      <td>38.9218</td>\n",
       "      <td>10.4878</td>\n",
       "      <td>18</td>\n",
       "      <td>32</td>\n",
       "      <td>37</td>\n",
       "      <td>44</td>\n",
       "      <td>92</td>\n",
       "    </tr>\n",
       "    <tr>\n",
       "      <td>Tenure</td>\n",
       "      <td>9091</td>\n",
       "      <td>NaN</td>\n",
       "      <td>NaN</td>\n",
       "      <td>NaN</td>\n",
       "      <td>4.99769</td>\n",
       "      <td>2.89472</td>\n",
       "      <td>0</td>\n",
       "      <td>2</td>\n",
       "      <td>5</td>\n",
       "      <td>7</td>\n",
       "      <td>10</td>\n",
       "    </tr>\n",
       "    <tr>\n",
       "      <td>Balance</td>\n",
       "      <td>10000</td>\n",
       "      <td>NaN</td>\n",
       "      <td>NaN</td>\n",
       "      <td>NaN</td>\n",
       "      <td>76485.9</td>\n",
       "      <td>62397.4</td>\n",
       "      <td>0</td>\n",
       "      <td>0</td>\n",
       "      <td>97198.5</td>\n",
       "      <td>127644</td>\n",
       "      <td>250898</td>\n",
       "    </tr>\n",
       "    <tr>\n",
       "      <td>NumOfProducts</td>\n",
       "      <td>10000</td>\n",
       "      <td>NaN</td>\n",
       "      <td>NaN</td>\n",
       "      <td>NaN</td>\n",
       "      <td>1.5302</td>\n",
       "      <td>0.581654</td>\n",
       "      <td>1</td>\n",
       "      <td>1</td>\n",
       "      <td>1</td>\n",
       "      <td>2</td>\n",
       "      <td>4</td>\n",
       "    </tr>\n",
       "    <tr>\n",
       "      <td>HasCrCard</td>\n",
       "      <td>10000</td>\n",
       "      <td>NaN</td>\n",
       "      <td>NaN</td>\n",
       "      <td>NaN</td>\n",
       "      <td>0.7055</td>\n",
       "      <td>0.45584</td>\n",
       "      <td>0</td>\n",
       "      <td>0</td>\n",
       "      <td>1</td>\n",
       "      <td>1</td>\n",
       "      <td>1</td>\n",
       "    </tr>\n",
       "    <tr>\n",
       "      <td>IsActiveMember</td>\n",
       "      <td>10000</td>\n",
       "      <td>NaN</td>\n",
       "      <td>NaN</td>\n",
       "      <td>NaN</td>\n",
       "      <td>0.5151</td>\n",
       "      <td>0.499797</td>\n",
       "      <td>0</td>\n",
       "      <td>0</td>\n",
       "      <td>1</td>\n",
       "      <td>1</td>\n",
       "      <td>1</td>\n",
       "    </tr>\n",
       "    <tr>\n",
       "      <td>EstimatedSalary</td>\n",
       "      <td>10000</td>\n",
       "      <td>NaN</td>\n",
       "      <td>NaN</td>\n",
       "      <td>NaN</td>\n",
       "      <td>100090</td>\n",
       "      <td>57510.5</td>\n",
       "      <td>11.58</td>\n",
       "      <td>51002.1</td>\n",
       "      <td>100194</td>\n",
       "      <td>149388</td>\n",
       "      <td>199992</td>\n",
       "    </tr>\n",
       "    <tr>\n",
       "      <td>Exited</td>\n",
       "      <td>10000</td>\n",
       "      <td>NaN</td>\n",
       "      <td>NaN</td>\n",
       "      <td>NaN</td>\n",
       "      <td>0.2037</td>\n",
       "      <td>0.402769</td>\n",
       "      <td>0</td>\n",
       "      <td>0</td>\n",
       "      <td>0</td>\n",
       "      <td>0</td>\n",
       "      <td>1</td>\n",
       "    </tr>\n",
       "  </tbody>\n",
       "</table>\n",
       "</div>"
      ],
      "text/plain": [
       "                 count unique     top  freq         mean       std  \\\n",
       "RowNumber        10000    NaN     NaN   NaN       5000.5    2886.9   \n",
       "CustomerId       10000    NaN     NaN   NaN  1.56909e+07   71936.2   \n",
       "Surname          10000   2932   Smith    32          NaN       NaN   \n",
       "CreditScore      10000    NaN     NaN   NaN      650.529   96.6533   \n",
       "Geography        10000      3  France  5014          NaN       NaN   \n",
       "Gender           10000      2    Male  5457          NaN       NaN   \n",
       "Age              10000    NaN     NaN   NaN      38.9218   10.4878   \n",
       "Tenure            9091    NaN     NaN   NaN      4.99769   2.89472   \n",
       "Balance          10000    NaN     NaN   NaN      76485.9   62397.4   \n",
       "NumOfProducts    10000    NaN     NaN   NaN       1.5302  0.581654   \n",
       "HasCrCard        10000    NaN     NaN   NaN       0.7055   0.45584   \n",
       "IsActiveMember   10000    NaN     NaN   NaN       0.5151  0.499797   \n",
       "EstimatedSalary  10000    NaN     NaN   NaN       100090   57510.5   \n",
       "Exited           10000    NaN     NaN   NaN       0.2037  0.402769   \n",
       "\n",
       "                         min          25%          50%          75%  \\\n",
       "RowNumber                  1      2500.75       5000.5      7500.25   \n",
       "CustomerId       1.55657e+07  1.56285e+07  1.56907e+07  1.57532e+07   \n",
       "Surname                  NaN          NaN          NaN          NaN   \n",
       "CreditScore              350          584          652          718   \n",
       "Geography                NaN          NaN          NaN          NaN   \n",
       "Gender                   NaN          NaN          NaN          NaN   \n",
       "Age                       18           32           37           44   \n",
       "Tenure                     0            2            5            7   \n",
       "Balance                    0            0      97198.5       127644   \n",
       "NumOfProducts              1            1            1            2   \n",
       "HasCrCard                  0            0            1            1   \n",
       "IsActiveMember             0            0            1            1   \n",
       "EstimatedSalary        11.58      51002.1       100194       149388   \n",
       "Exited                     0            0            0            0   \n",
       "\n",
       "                         max  \n",
       "RowNumber              10000  \n",
       "CustomerId       1.58157e+07  \n",
       "Surname                  NaN  \n",
       "CreditScore              850  \n",
       "Geography                NaN  \n",
       "Gender                   NaN  \n",
       "Age                       92  \n",
       "Tenure                    10  \n",
       "Balance               250898  \n",
       "NumOfProducts              4  \n",
       "HasCrCard                  1  \n",
       "IsActiveMember             1  \n",
       "EstimatedSalary       199992  \n",
       "Exited                     1  "
      ]
     },
     "execution_count": 167,
     "metadata": {},
     "output_type": "execute_result"
    }
   ],
   "source": [
    "df.describe(include='all').T"
   ]
  },
  {
   "cell_type": "code",
   "execution_count": 168,
   "metadata": {},
   "outputs": [
    {
     "data": {
      "text/html": [
       "<div>\n",
       "<style scoped>\n",
       "    .dataframe tbody tr th:only-of-type {\n",
       "        vertical-align: middle;\n",
       "    }\n",
       "\n",
       "    .dataframe tbody tr th {\n",
       "        vertical-align: top;\n",
       "    }\n",
       "\n",
       "    .dataframe thead th {\n",
       "        text-align: right;\n",
       "    }\n",
       "</style>\n",
       "<table border=\"1\" class=\"dataframe\">\n",
       "  <thead>\n",
       "    <tr style=\"text-align: right;\">\n",
       "      <th></th>\n",
       "      <th>RowNumber</th>\n",
       "      <th>CustomerId</th>\n",
       "      <th>Surname</th>\n",
       "      <th>CreditScore</th>\n",
       "      <th>Geography</th>\n",
       "      <th>Gender</th>\n",
       "      <th>Age</th>\n",
       "      <th>Tenure</th>\n",
       "      <th>Balance</th>\n",
       "      <th>NumOfProducts</th>\n",
       "      <th>HasCrCard</th>\n",
       "      <th>IsActiveMember</th>\n",
       "      <th>EstimatedSalary</th>\n",
       "      <th>Exited</th>\n",
       "    </tr>\n",
       "  </thead>\n",
       "  <tbody>\n",
       "    <tr>\n",
       "      <td>9636</td>\n",
       "      <td>9637</td>\n",
       "      <td>15613048</td>\n",
       "      <td>Anderson</td>\n",
       "      <td>648</td>\n",
       "      <td>Germany</td>\n",
       "      <td>Female</td>\n",
       "      <td>40</td>\n",
       "      <td>5.0</td>\n",
       "      <td>139973.65</td>\n",
       "      <td>1</td>\n",
       "      <td>1</td>\n",
       "      <td>1</td>\n",
       "      <td>667.66</td>\n",
       "      <td>1</td>\n",
       "    </tr>\n",
       "    <tr>\n",
       "      <td>3794</td>\n",
       "      <td>3795</td>\n",
       "      <td>15621409</td>\n",
       "      <td>Endrizzi</td>\n",
       "      <td>496</td>\n",
       "      <td>France</td>\n",
       "      <td>Male</td>\n",
       "      <td>32</td>\n",
       "      <td>4.0</td>\n",
       "      <td>127845.83</td>\n",
       "      <td>1</td>\n",
       "      <td>1</td>\n",
       "      <td>0</td>\n",
       "      <td>66469.20</td>\n",
       "      <td>0</td>\n",
       "    </tr>\n",
       "    <tr>\n",
       "      <td>8267</td>\n",
       "      <td>8268</td>\n",
       "      <td>15798737</td>\n",
       "      <td>Chao</td>\n",
       "      <td>654</td>\n",
       "      <td>France</td>\n",
       "      <td>Male</td>\n",
       "      <td>38</td>\n",
       "      <td>NaN</td>\n",
       "      <td>0.00</td>\n",
       "      <td>2</td>\n",
       "      <td>1</td>\n",
       "      <td>0</td>\n",
       "      <td>88659.44</td>\n",
       "      <td>0</td>\n",
       "    </tr>\n",
       "    <tr>\n",
       "      <td>6522</td>\n",
       "      <td>6523</td>\n",
       "      <td>15632185</td>\n",
       "      <td>Yermolayev</td>\n",
       "      <td>663</td>\n",
       "      <td>France</td>\n",
       "      <td>Female</td>\n",
       "      <td>42</td>\n",
       "      <td>1.0</td>\n",
       "      <td>82228.67</td>\n",
       "      <td>2</td>\n",
       "      <td>1</td>\n",
       "      <td>0</td>\n",
       "      <td>71359.78</td>\n",
       "      <td>0</td>\n",
       "    </tr>\n",
       "    <tr>\n",
       "      <td>9541</td>\n",
       "      <td>9542</td>\n",
       "      <td>15669290</td>\n",
       "      <td>Fan</td>\n",
       "      <td>603</td>\n",
       "      <td>France</td>\n",
       "      <td>Male</td>\n",
       "      <td>38</td>\n",
       "      <td>8.0</td>\n",
       "      <td>59360.77</td>\n",
       "      <td>1</td>\n",
       "      <td>1</td>\n",
       "      <td>1</td>\n",
       "      <td>191457.06</td>\n",
       "      <td>0</td>\n",
       "    </tr>\n",
       "  </tbody>\n",
       "</table>\n",
       "</div>"
      ],
      "text/plain": [
       "      RowNumber  CustomerId     Surname  CreditScore Geography  Gender  Age  \\\n",
       "9636       9637    15613048    Anderson          648   Germany  Female   40   \n",
       "3794       3795    15621409    Endrizzi          496    France    Male   32   \n",
       "8267       8268    15798737        Chao          654    France    Male   38   \n",
       "6522       6523    15632185  Yermolayev          663    France  Female   42   \n",
       "9541       9542    15669290         Fan          603    France    Male   38   \n",
       "\n",
       "      Tenure    Balance  NumOfProducts  HasCrCard  IsActiveMember  \\\n",
       "9636     5.0  139973.65              1          1               1   \n",
       "3794     4.0  127845.83              1          1               0   \n",
       "8267     NaN       0.00              2          1               0   \n",
       "6522     1.0   82228.67              2          1               0   \n",
       "9541     8.0   59360.77              1          1               1   \n",
       "\n",
       "      EstimatedSalary  Exited  \n",
       "9636           667.66       1  \n",
       "3794         66469.20       0  \n",
       "8267         88659.44       0  \n",
       "6522         71359.78       0  \n",
       "9541        191457.06       0  "
      ]
     },
     "execution_count": 168,
     "metadata": {},
     "output_type": "execute_result"
    }
   ],
   "source": [
    "df.sample(5)"
   ]
  },
  {
   "cell_type": "markdown",
   "metadata": {},
   "source": [
    "Чтобы избавиться от пропущенных значений, посмотрим на медианные и средние значения Tenure для каждого из значений Exited"
   ]
  },
  {
   "cell_type": "code",
   "execution_count": 169,
   "metadata": {},
   "outputs": [
    {
     "name": "stdout",
     "output_type": "stream",
     "text": [
      "5.0\n",
      "5.022246787342822\n"
     ]
    }
   ],
   "source": [
    "print(df.query('Exited == 0')['Tenure'].median())\n",
    "print(df.query('Exited == 0')['Tenure'].mean())"
   ]
  },
  {
   "cell_type": "code",
   "execution_count": 170,
   "metadata": {},
   "outputs": [
    {
     "name": "stdout",
     "output_type": "stream",
     "text": [
      "5.0\n",
      "4.901833872707659\n"
     ]
    }
   ],
   "source": [
    "print(df.query('Exited == 1')['Tenure'].median())\n",
    "print(df.query('Exited == 1')['Tenure'].mean())"
   ]
  },
  {
   "cell_type": "markdown",
   "metadata": {},
   "source": [
    "Заменим все пропущенные значения на 5."
   ]
  },
  {
   "cell_type": "code",
   "execution_count": 171,
   "metadata": {},
   "outputs": [],
   "source": [
    "df['Tenure'] = df['Tenure'].fillna(5)"
   ]
  },
  {
   "cell_type": "markdown",
   "metadata": {},
   "source": [
    "Посмотрим на уникальные значения в колонках Gender и Geography"
   ]
  },
  {
   "cell_type": "code",
   "execution_count": 172,
   "metadata": {},
   "outputs": [
    {
     "data": {
      "text/plain": [
       "array(['Female', 'Male'], dtype=object)"
      ]
     },
     "execution_count": 172,
     "metadata": {},
     "output_type": "execute_result"
    }
   ],
   "source": [
    "df['Gender'].unique()"
   ]
  },
  {
   "cell_type": "code",
   "execution_count": 173,
   "metadata": {},
   "outputs": [
    {
     "data": {
      "text/plain": [
       "array(['France', 'Spain', 'Germany'], dtype=object)"
      ]
     },
     "execution_count": 173,
     "metadata": {},
     "output_type": "execute_result"
    }
   ],
   "source": [
    "df['Geography'].unique()"
   ]
  },
  {
   "cell_type": "markdown",
   "metadata": {},
   "source": [
    "Значений немного, для использования в качестве входных данных для моделей преобразуем значений в этих колонках c помощью OHE на следующем шаге внутри конвейера. Но сначала избавимся от колонок *Surname, Row_number и CustomerId*, поскольку они не содержат полезной для обучения модели информации"
   ]
  },
  {
   "cell_type": "code",
   "execution_count": 174,
   "metadata": {},
   "outputs": [],
   "source": [
    "df = df.drop(['Surname', 'RowNumber', 'CustomerId'], axis=1)"
   ]
  },
  {
   "cell_type": "markdown",
   "metadata": {},
   "source": [
    "## Исследование задачи"
   ]
  },
  {
   "cell_type": "markdown",
   "metadata": {},
   "source": [
    "Разделим данные и посмотрим на баланс классов в задаче"
   ]
  },
  {
   "cell_type": "code",
   "execution_count": 175,
   "metadata": {},
   "outputs": [],
   "source": [
    "X = df.drop(['Exited'], axis=1)\n",
    "y= df['Exited']"
   ]
  },
  {
   "cell_type": "code",
   "execution_count": 176,
   "metadata": {},
   "outputs": [
    {
     "data": {
      "text/plain": [
       "0    7963\n",
       "1    2037\n",
       "Name: Exited, dtype: int64"
      ]
     },
     "execution_count": 176,
     "metadata": {},
     "output_type": "execute_result"
    }
   ],
   "source": [
    "y.value_counts()"
   ]
  },
  {
   "cell_type": "code",
   "execution_count": 177,
   "metadata": {},
   "outputs": [
    {
     "data": {
      "image/png": "[encoded data removed]",
      "text/plain": [
       "<Figure size 432x288 with 1 Axes>"
      ]
     },
     "metadata": {
      "needs_background": "light"
     },
     "output_type": "display_data"
    }
   ],
   "source": [
    "sns.barplot(x=[0, 1], y=y.value_counts())\n",
    "plt.show()"
   ]
  },
  {
   "cell_type": "markdown",
   "metadata": {},
   "source": [
    "**Число объектов класса 1 почти в 4 раза меньше чем число объектов класса 0**"
   ]
  },
  {
   "cell_type": "markdown",
   "metadata": {},
   "source": [
    "Для решения задачи создадим несколько пайплайнов с различными моделями. На данном этапе дисбаланс классов учитывать не будем."
   ]
  },
  {
   "cell_type": "code",
   "execution_count": 178,
   "metadata": {},
   "outputs": [],
   "source": [
    "X_train, X_test, y_train, y_test = train_test_split(X, y, test_size=0.25, random_state=42)\n",
    "\n",
    "numeric_features = X.select_dtypes(exclude='object').columns\n",
    "categorical_features = X.select_dtypes(include='object').columns"
   ]
  },
  {
   "cell_type": "markdown",
   "metadata": {},
   "source": [
    "Нам необходимо преобразовать категориальные признаки и затем стандартизировать все признаки."
   ]
  },
  {
   "cell_type": "code",
   "execution_count": 179,
   "metadata": {},
   "outputs": [],
   "source": [
    "numeric_transformer = StandardScaler()\n",
    "\n",
    "cat_transformer_std = Pipeline(steps=[\n",
    "    ('encoder', OneHotEncoder(drop='first', handle_unknown='error')),\n",
    "    ('scaler', StandardScaler(with_mean=False))\n",
    "])\n",
    "\n",
    "\n",
    "preprocessor = ColumnTransformer(transformers=[\n",
    "    ('num_transform', numeric_transformer, numeric_features),\n",
    "    ('cat_transform', cat_transformer_std, categorical_features)\n",
    "])"
   ]
  },
  {
   "cell_type": "markdown",
   "metadata": {},
   "source": [
    "Указываем гиперпараметры логистической регрессии которые будем перебирать"
   ]
  },
  {
   "cell_type": "code",
   "execution_count": 180,
   "metadata": {},
   "outputs": [],
   "source": [
    "param_grid_lr = [\n",
    "    {\n",
    "        'penalty':['l1','l2'],\n",
    "        'C': np.logspace(-2, 2, 20),\n",
    "    }\n",
    "]"
   ]
  },
  {
   "cell_type": "code",
   "execution_count": 181,
   "metadata": {},
   "outputs": [],
   "source": [
    "lr_classifier = GridSearchCV(LogisticRegression(solver='liblinear', random_state=42), param_grid_lr, scoring='f1', cv=5)"
   ]
  },
  {
   "cell_type": "markdown",
   "metadata": {},
   "source": [
    "И создаем пайплайн, включающий в себя предобработку признаков, а так же обучение и поиск наилучших гиперпараметров для логистической регрессии"
   ]
  },
  {
   "cell_type": "code",
   "execution_count": 182,
   "metadata": {},
   "outputs": [],
   "source": [
    "lr_pipeline = Pipeline(steps=[('preprocessor', preprocessor), ('classifier', lr_classifier)])"
   ]
  },
  {
   "cell_type": "markdown",
   "metadata": {},
   "source": [
    "Для двух других классификаторов создадим свой предобработчик без стандартизации"
   ]
  },
  {
   "cell_type": "code",
   "execution_count": 183,
   "metadata": {},
   "outputs": [],
   "source": [
    "categorical_transformer_ohe  = OneHotEncoder(drop='first', handle_unknown='error')\n",
    "preprocessor_ohe = ColumnTransformer(transformers=[\n",
    "    ('num_transform', numeric_transformer, numeric_features),\n",
    "    ('cat_transform', categorical_transformer_ohe, categorical_features)\n",
    "])"
   ]
  },
  {
   "cell_type": "markdown",
   "metadata": {},
   "source": [
    "Аналогично указываем перебираемые гиперпараметры для дерева решений"
   ]
  },
  {
   "cell_type": "code",
   "execution_count": 184,
   "metadata": {},
   "outputs": [],
   "source": [
    "param_grid_dt = [\n",
    "    {\n",
    "        'max_depth': [i for i in range(1, 21, 1)],\n",
    "        'min_samples_split': [i for i in range(2, 20, 2)],\n",
    "        'min_samples_leaf': [i for i in range(1,21, 2)]\n",
    "    }\n",
    "]"
   ]
  },
  {
   "cell_type": "markdown",
   "metadata": {},
   "source": [
    "И создаем пайплайн, включающий в себя предобработку признаков, а так же обучение и поиск наилучших гиперпараметров для дерева решений"
   ]
  },
  {
   "cell_type": "code",
   "execution_count": 185,
   "metadata": {},
   "outputs": [],
   "source": [
    "dt_classifier = GridSearchCV(DecisionTreeClassifier(random_state=42), param_grid_dt, scoring='f1', cv=5)"
   ]
  },
  {
   "cell_type": "code",
   "execution_count": 186,
   "metadata": {},
   "outputs": [],
   "source": [
    "dt_pipeline = Pipeline(steps=[('preprocessor', preprocessor_ohe), ('classifier', dt_classifier)])"
   ]
  },
  {
   "cell_type": "markdown",
   "metadata": {},
   "source": [
    "Указываем перебираемые параметры для случайного леса"
   ]
  },
  {
   "cell_type": "code",
   "execution_count": 187,
   "metadata": {},
   "outputs": [],
   "source": [
    "param_grid_rf = [\n",
    "    {\n",
    "        'max_depth': [i for i in range(1, 30, 5)],\n",
    "        'min_samples_split': [i for i in range(2, 20, 5)],\n",
    "        'min_samples_leaf': [2, 4],\n",
    "    }\n",
    "]"
   ]
  },
  {
   "cell_type": "markdown",
   "metadata": {},
   "source": [
    "И создаем пайплайн, включающий в себя предобработку признаков, а так же обучение и поиск наилучших гиперпараметров для случайного леса"
   ]
  },
  {
   "cell_type": "code",
   "execution_count": 188,
   "metadata": {},
   "outputs": [],
   "source": [
    "rf_classifier = GridSearchCV(RandomForestClassifier(random_state=42, n_estimators=70), param_grid_rf, scoring='f1', cv=5)"
   ]
  },
  {
   "cell_type": "code",
   "execution_count": 189,
   "metadata": {},
   "outputs": [],
   "source": [
    "rf_pipeline = Pipeline(steps=[('preprocessor', preprocessor_ohe), ('classifier', rf_classifier)])"
   ]
  },
  {
   "cell_type": "markdown",
   "metadata": {},
   "source": [
    "**Напишем небольшую функцию для запуска пайплайнов и оценки результата**"
   ]
  },
  {
   "cell_type": "code",
   "execution_count": 190,
   "metadata": {},
   "outputs": [],
   "source": [
    "def run_pipelines(pipelines, text_and_score, X_train, y_train, X_test, y_test):\n",
    "    for idx, value in enumerate(text_and_score):\n",
    "        pipelines[idx].fit(X_train, y_train)\n",
    "        pred = pipelines[idx].predict(X_test)\n",
    "        pred_proba = pipelines[idx].predict_proba(X_test)\n",
    "        pred_proba = pred_proba[:, 1]\n",
    "        text_and_score[value][1] = f1_score(y_test, pred)\n",
    "        text_and_score[value][2] = roc_auc_score(y_test, pred_proba)\n",
    "        print('Модель:', text_and_score[value][0])\n",
    "        print('Метрика F1:', text_and_score[value][1])\n",
    "        print('Метрика ROC_AUC:', text_and_score[value][2], '\\n')\n",
    "        \n",
    "        fpr, tpr, thresholds = roc_curve(y_test, pred_proba)\n",
    "        plt.figure()\n",
    "        plt.plot(fpr, tpr)\n",
    "        plt.xlim([0.0, 1.0])\n",
    "        plt.ylim([0.0, 1.0])\n",
    "        plt.xlabel('False Positive Rate')\n",
    "        plt.ylabel('True Positive Rate')\n",
    "        plt.title('ROC-кривая')\n",
    "        plt.plot([0, 1], [0, 1], linestyle='--')\n",
    "        plt.show()\n",
    "        \n",
    "        \n",
    "    return text_and_score"
   ]
  },
  {
   "cell_type": "code",
   "execution_count": 191,
   "metadata": {},
   "outputs": [],
   "source": [
    "pipelines = [lr_pipeline, dt_pipeline, rf_pipeline]\n",
    "results = {0: ['Логистическая регрессия', 0, 0], 1: ['Дерево решений', 0, 0], 2: ['Случайный лес', 0, 0]}"
   ]
  },
  {
   "cell_type": "markdown",
   "metadata": {},
   "source": [
    "**Мы подготовили пайплайны для трех различных моделей без учета дисбаланса классов**"
   ]
  },
  {
   "cell_type": "markdown",
   "metadata": {},
   "source": [
    "## Борьба с дисбалансом"
   ]
  },
  {
   "cell_type": "markdown",
   "metadata": {},
   "source": [
    "Используем те же модели что и выше, но с учетом дисбаланса классов. Добавим к моделям параметр *class_weight='balanced'*"
   ]
  },
  {
   "cell_type": "code",
   "execution_count": 192,
   "metadata": {},
   "outputs": [],
   "source": [
    "lr_classifier_bal = GridSearchCV(LogisticRegression(solver='liblinear', class_weight='balanced', random_state=42), param_grid_lr, scoring='f1', cv=5)\n",
    "dt_classifier_bal = GridSearchCV(DecisionTreeClassifier(class_weight='balanced', random_state=42), param_grid_dt, scoring='f1', cv=5)\n",
    "rf_classifier_bal = GridSearchCV(RandomForestClassifier( n_estimators=70, class_weight='balanced', random_state=42), param_grid_rf, scoring='f1', cv=5)\n",
    "lr_pipeline_bal = Pipeline(steps=[('preprocessor', preprocessor), ('classifier', lr_classifier_bal)])\n",
    "dt_pipeline_bal = Pipeline(steps=[('preprocessor', preprocessor_ohe), ('classifier', dt_classifier_bal)])\n",
    "rf_pipeline_bal = Pipeline(steps=[('preprocessor', preprocessor_ohe), ('classifier', rf_classifier_bal)])"
   ]
  },
  {
   "cell_type": "code",
   "execution_count": 193,
   "metadata": {},
   "outputs": [],
   "source": [
    "pipelines_bal = [lr_pipeline_bal, dt_pipeline_bal, rf_pipeline_bal]\n",
    "results_bal = {0: ['Логистическая регрессия с учетом взвешивания классов', 0, 0], 1: ['Дерево решений с учетом взвешивания классов', 0, 0], 2: ['Случайный лес с учетом взвешивания классов', 0, 0]}"
   ]
  },
  {
   "cell_type": "markdown",
   "metadata": {},
   "source": [
    "Создадим массивы для сохранения результатов метрик при использовании upsample и downsample"
   ]
  },
  {
   "cell_type": "code",
   "execution_count": 194,
   "metadata": {},
   "outputs": [],
   "source": [
    "lr_pipeline_us = Pipeline(steps=[('preprocessor', preprocessor), ('classifier', lr_classifier)])\n",
    "dt_pipeline_us = Pipeline(steps=[('preprocessor', preprocessor_ohe), ('classifier', dt_classifier)])\n",
    "rf_pipeline_us = Pipeline(steps=[('preprocessor', preprocessor_ohe), ('classifier', rf_classifier)])\n",
    "lr_pipeline_ds = Pipeline(steps=[('preprocessor', preprocessor), ('classifier', lr_classifier)])\n",
    "dt_pipeline_ds = Pipeline(steps=[('preprocessor', preprocessor_ohe), ('classifier', dt_classifier)])\n",
    "rf_pipeline_ds = Pipeline(steps=[('preprocessor', preprocessor_ohe), ('classifier', rf_classifier)])"
   ]
  },
  {
   "cell_type": "code",
   "execution_count": 195,
   "metadata": {},
   "outputs": [],
   "source": [
    "pipelines_us = [lr_pipeline_us, dt_pipeline_us, rf_pipeline_us]\n",
    "pipelines_ds = [lr_pipeline_ds, dt_pipeline_ds, rf_pipeline_ds]\n",
    "results_us = {0: ['Логистическая регрессия с использованием upsample', 0, 0], 1: ['Дерево решений с использованием upsample', 0, 0], 2: ['Случайный лес с использованием upsample', 0, 0]}\n",
    "results_ds = {0: ['Логистическая регрессия с использованием downsample', 0, 0], 1: ['Дерево решений с использованием downsample', 0, 0], 2: ['Случайный лес с использованием downsample', 0, 0]}"
   ]
  },
  {
   "cell_type": "markdown",
   "metadata": {},
   "source": [
    "**Мы подготовили все необходимые пайплайны с моделями с учетом дисбаланса классов и с различными параметрами.**"
   ]
  },
  {
   "cell_type": "markdown",
   "metadata": {},
   "source": [
    "## Тестирование модели"
   ]
  },
  {
   "cell_type": "markdown",
   "metadata": {},
   "source": [
    "Проведем тестирование обученных моделей на тестовых данных.  \n",
    "Сначала посмотрим на результаты тестирования **моделей без учета дисбаланса классов**"
   ]
  },
  {
   "cell_type": "code",
   "execution_count": 196,
   "metadata": {},
   "outputs": [
    {
     "name": "stdout",
     "output_type": "stream",
     "text": [
      "Модель: Логистическая регрессия\n",
      "Метрика F1: 0.2911764705882353\n",
      "Метрика ROC_AUC: 0.7741044369060093 \n",
      "\n"
     ]
    },
    {
     "data": {
      "image/png": "[encoded data removed]",
      "text/plain": [
       "<Figure size 432x288 with 1 Axes>"
      ]
     },
     "metadata": {
      "needs_background": "light"
     },
     "output_type": "display_data"
    },
    {
     "name": "stdout",
     "output_type": "stream",
     "text": [
      "Модель: Дерево решений\n",
      "Метрика F1: 0.5513784461152882\n",
      "Метрика ROC_AUC: 0.8403139757165057 \n",
      "\n"
     ]
    },
    {
     "data": {
      "image/png": "[encoded data removed]",
      "text/plain": [
       "<Figure size 432x288 with 1 Axes>"
      ]
     },
     "metadata": {
      "needs_background": "light"
     },
     "output_type": "display_data"
    },
    {
     "name": "stdout",
     "output_type": "stream",
     "text": [
      "Модель: Случайный лес\n",
      "Метрика F1: 0.5877957658779578\n",
      "Метрика ROC_AUC: 0.8611519340707249 \n",
      "\n"
     ]
    },
    {
     "data": {
      "image/png": "[encoded data removed]",
      "text/plain": [
       "<Figure size 432x288 with 1 Axes>"
      ]
     },
     "metadata": {
      "needs_background": "light"
     },
     "output_type": "display_data"
    }
   ],
   "source": [
    "results = run_pipelines(pipelines, results, X_train, y_train, X_test, y_test)"
   ]
  },
  {
   "cell_type": "markdown",
   "metadata": {},
   "source": [
    "Теперь посмотрим на результаты тестирования **моделей с использованием параметра class_weight='balanced'**"
   ]
  },
  {
   "cell_type": "code",
   "execution_count": 197,
   "metadata": {},
   "outputs": [
    {
     "name": "stdout",
     "output_type": "stream",
     "text": [
      "Модель: Логистическая регрессия с учетом взвешивания классов\n",
      "Метрика F1: 0.49621993127147757\n",
      "Метрика ROC_AUC: 0.7780552511273332 \n",
      "\n"
     ]
    },
    {
     "data": {
      "image/png": "[encoded data removed]",
      "text/plain": [
       "<Figure size 432x288 with 1 Axes>"
      ]
     },
     "metadata": {
      "needs_background": "light"
     },
     "output_type": "display_data"
    },
    {
     "name": "stdout",
     "output_type": "stream",
     "text": [
      "Модель: Дерево решений с учетом взвешивания классов\n",
      "Метрика F1: 0.5573272589217919\n",
      "Метрика ROC_AUC: 0.8316187690295542 \n",
      "\n"
     ]
    },
    {
     "data": {
      "image/png": "[encoded data removed]",
      "text/plain": [
       "<Figure size 432x288 with 1 Axes>"
      ]
     },
     "metadata": {
      "needs_background": "light"
     },
     "output_type": "display_data"
    },
    {
     "name": "stdout",
     "output_type": "stream",
     "text": [
      "Модель: Случайный лес с учетом взвешивания классов\n",
      "Метрика F1: 0.6258919469928644\n",
      "Метрика ROC_AUC: 0.8647853169943274 \n",
      "\n"
     ]
    },
    {
     "data": {
      "image/png": "[encoded data removed]",
      "text/plain": [
       "<Figure size 432x288 with 1 Axes>"
      ]
     },
     "metadata": {
      "needs_background": "light"
     },
     "output_type": "display_data"
    }
   ],
   "source": [
    "results_bal = run_pipelines(pipelines_bal, results_bal, X_train, y_train, X_test, y_test)"
   ]
  },
  {
   "cell_type": "markdown",
   "metadata": {},
   "source": [
    "Теперь посмотрим на результаты тестирования **моделей с использованием техники upsample**. Для этого воспользуемся SMOTENC из библиотеки imbalanced learn"
   ]
  },
  {
   "cell_type": "code",
   "execution_count": 198,
   "metadata": {},
   "outputs": [],
   "source": [
    "smote_nc = SMOTENC(categorical_features=[1, 2], random_state=42)\n",
    "X_train_us, y_train_us = smote_nc.fit_resample(X_train, y_train)"
   ]
  },
  {
   "cell_type": "code",
   "execution_count": 199,
   "metadata": {
    "scrolled": true
   },
   "outputs": [
    {
     "name": "stdout",
     "output_type": "stream",
     "text": [
      "Модель: Логистическая регрессия с использованием upsample\n",
      "Метрика F1: 0.47980997624703087\n",
      "Метрика ROC_AUC: 0.7550304322188748 \n",
      "\n"
     ]
    },
    {
     "data": {
      "image/png": "[encoded data removed]",
      "text/plain": [
       "<Figure size 432x288 with 1 Axes>"
      ]
     },
     "metadata": {
      "needs_background": "light"
     },
     "output_type": "display_data"
    },
    {
     "name": "stdout",
     "output_type": "stream",
     "text": [
      "Модель: Дерево решений с использованием upsample\n",
      "Метрика F1: 0.5721192586623691\n",
      "Метрика ROC_AUC: 0.8429458428052087 \n",
      "\n"
     ]
    },
    {
     "data": {
      "image/png": "[encoded data removed]",
      "text/plain": [
       "<Figure size 432x288 with 1 Axes>"
      ]
     },
     "metadata": {
      "needs_background": "light"
     },
     "output_type": "display_data"
    },
    {
     "name": "stdout",
     "output_type": "stream",
     "text": [
      "Модель: Случайный лес с использованием upsample\n",
      "Метрика F1: 0.5936651583710407\n",
      "Метрика ROC_AUC: 0.8473773243555189 \n",
      "\n"
     ]
    },
    {
     "data": {
      "image/png": "[encoded data removed]",
      "text/plain": [
       "<Figure size 432x288 with 1 Axes>"
      ]
     },
     "metadata": {
      "needs_background": "light"
     },
     "output_type": "display_data"
    }
   ],
   "source": [
    "results_us = run_pipelines(pipelines_us, results_us, X_train_us, y_train_us, X_test, y_test)"
   ]
  },
  {
   "cell_type": "markdown",
   "metadata": {},
   "source": [
    "Теперь посмотрим на результаты тестирования **моделей с использованием техники downsample**. Для этого воспользуемся RandomUnderSampler из библиотеки imbalanced learn"
   ]
  },
  {
   "cell_type": "code",
   "execution_count": 200,
   "metadata": {},
   "outputs": [],
   "source": [
    "rus = RandomUnderSampler(random_state=42)\n",
    "X_train_ds, y_train_ds = rus.fit_resample(X_train, y_train)"
   ]
  },
  {
   "cell_type": "code",
   "execution_count": 201,
   "metadata": {},
   "outputs": [
    {
     "name": "stdout",
     "output_type": "stream",
     "text": [
      "Модель: Логистическая регрессия с использованием downsample\n",
      "Метрика F1: 0.5086206896551724\n",
      "Метрика ROC_AUC: 0.777787041771347 \n",
      "\n"
     ]
    },
    {
     "data": {
      "image/png": "[encoded data removed]",
      "text/plain": [
       "<Figure size 432x288 with 1 Axes>"
      ]
     },
     "metadata": {
      "needs_background": "light"
     },
     "output_type": "display_data"
    },
    {
     "name": "stdout",
     "output_type": "stream",
     "text": [
      "Модель: Дерево решений с использованием downsample\n",
      "Метрика F1: 0.5625\n",
      "Метрика ROC_AUC: 0.8319738701806446 \n",
      "\n"
     ]
    },
    {
     "data": {
      "image/png": "[encoded data removed]",
      "text/plain": [
       "<Figure size 432x288 with 1 Axes>"
      ]
     },
     "metadata": {
      "needs_background": "light"
     },
     "output_type": "display_data"
    },
    {
     "name": "stdout",
     "output_type": "stream",
     "text": [
      "Модель: Случайный лес с использованием downsample\n",
      "Метрика F1: 0.5985748218527316\n",
      "Метрика ROC_AUC: 0.8594648269045124 \n",
      "\n"
     ]
    },
    {
     "data": {
      "image/png": "[encoded data removed]",
      "text/plain": [
       "<Figure size 432x288 with 1 Axes>"
      ]
     },
     "metadata": {
      "needs_background": "light"
     },
     "output_type": "display_data"
    }
   ],
   "source": [
    "results_ds = run_pipelines(pipelines_ds, results_ds, X_train_ds, y_train_ds, X_test, y_test)"
   ]
  },
  {
   "cell_type": "markdown",
   "metadata": {},
   "source": [
    "Выведем все результаты в итоговой таблице"
   ]
  },
  {
   "cell_type": "code",
   "execution_count": 202,
   "metadata": {},
   "outputs": [
    {
     "data": {
      "text/html": [
       "<div>\n",
       "<style scoped>\n",
       "    .dataframe tbody tr th:only-of-type {\n",
       "        vertical-align: middle;\n",
       "    }\n",
       "\n",
       "    .dataframe tbody tr th {\n",
       "        vertical-align: top;\n",
       "    }\n",
       "\n",
       "    .dataframe thead th {\n",
       "        text-align: right;\n",
       "    }\n",
       "</style>\n",
       "<table border=\"1\" class=\"dataframe\">\n",
       "  <thead>\n",
       "    <tr style=\"text-align: right;\">\n",
       "      <th></th>\n",
       "      <th>Название модели и применяемая техника</th>\n",
       "      <th>F1</th>\n",
       "      <th>ROC-AUC</th>\n",
       "    </tr>\n",
       "  </thead>\n",
       "  <tbody>\n",
       "    <tr>\n",
       "      <td>0</td>\n",
       "      <td>Логистическая регрессия</td>\n",
       "      <td>0.291176</td>\n",
       "      <td>0.774104</td>\n",
       "    </tr>\n",
       "    <tr>\n",
       "      <td>1</td>\n",
       "      <td>Логистическая регрессия с учетом взвешивания к...</td>\n",
       "      <td>0.496220</td>\n",
       "      <td>0.778055</td>\n",
       "    </tr>\n",
       "    <tr>\n",
       "      <td>2</td>\n",
       "      <td>Логистическая регрессия с использованием upsample</td>\n",
       "      <td>0.479810</td>\n",
       "      <td>0.755030</td>\n",
       "    </tr>\n",
       "    <tr>\n",
       "      <td>3</td>\n",
       "      <td>Логистическая регрессия с использованием downs...</td>\n",
       "      <td>0.508621</td>\n",
       "      <td>0.777787</td>\n",
       "    </tr>\n",
       "    <tr>\n",
       "      <td>4</td>\n",
       "      <td>Дерево решений</td>\n",
       "      <td>0.551378</td>\n",
       "      <td>0.840314</td>\n",
       "    </tr>\n",
       "    <tr>\n",
       "      <td>5</td>\n",
       "      <td>Дерево решений с учетом взвешивания классов</td>\n",
       "      <td>0.557327</td>\n",
       "      <td>0.831619</td>\n",
       "    </tr>\n",
       "    <tr>\n",
       "      <td>6</td>\n",
       "      <td>Дерево решений с использованием upsample</td>\n",
       "      <td>0.572119</td>\n",
       "      <td>0.842946</td>\n",
       "    </tr>\n",
       "    <tr>\n",
       "      <td>7</td>\n",
       "      <td>Дерево решений с использованием downsample</td>\n",
       "      <td>0.562500</td>\n",
       "      <td>0.831974</td>\n",
       "    </tr>\n",
       "    <tr>\n",
       "      <td>8</td>\n",
       "      <td>Случайный лес</td>\n",
       "      <td>0.587796</td>\n",
       "      <td>0.861152</td>\n",
       "    </tr>\n",
       "    <tr>\n",
       "      <td>9</td>\n",
       "      <td>Случайный лес с учетом взвешивания классов</td>\n",
       "      <td>0.625892</td>\n",
       "      <td>0.864785</td>\n",
       "    </tr>\n",
       "    <tr>\n",
       "      <td>10</td>\n",
       "      <td>Случайный лес с использованием upsample</td>\n",
       "      <td>0.593665</td>\n",
       "      <td>0.847377</td>\n",
       "    </tr>\n",
       "    <tr>\n",
       "      <td>11</td>\n",
       "      <td>Случайный лес с использованием downsample</td>\n",
       "      <td>0.598575</td>\n",
       "      <td>0.859465</td>\n",
       "    </tr>\n",
       "  </tbody>\n",
       "</table>\n",
       "</div>"
      ],
      "text/plain": [
       "                Название модели и применяемая техника        F1   ROC-AUC\n",
       "0                             Логистическая регрессия  0.291176  0.774104\n",
       "1   Логистическая регрессия с учетом взвешивания к...  0.496220  0.778055\n",
       "2   Логистическая регрессия с использованием upsample  0.479810  0.755030\n",
       "3   Логистическая регрессия с использованием downs...  0.508621  0.777787\n",
       "4                                      Дерево решений  0.551378  0.840314\n",
       "5         Дерево решений с учетом взвешивания классов  0.557327  0.831619\n",
       "6            Дерево решений с использованием upsample  0.572119  0.842946\n",
       "7          Дерево решений с использованием downsample  0.562500  0.831974\n",
       "8                                       Случайный лес  0.587796  0.861152\n",
       "9          Случайный лес с учетом взвешивания классов  0.625892  0.864785\n",
       "10            Случайный лес с использованием upsample  0.593665  0.847377\n",
       "11          Случайный лес с использованием downsample  0.598575  0.859465"
      ]
     },
     "execution_count": 202,
     "metadata": {},
     "output_type": "execute_result"
    }
   ],
   "source": [
    "result_df = pd.DataFrame(data=[results[0], results_bal[0], results_us[0], results_ds[0], results[1], results_bal[1], results_us[1], results_ds[1], results[2], results_bal[2], results_us[2], results_ds[2]])\n",
    "result_df.columns = ['Название модели и применяемая техника', 'F1', 'ROC-AUC']\n",
    "result_df"
   ]
  },
  {
   "cell_type": "markdown",
   "metadata": {},
   "source": [
    "## Общий вывод"
   ]
  },
  {
   "cell_type": "markdown",
   "metadata": {},
   "source": [
    "Выводы по тестированию моделей:\n",
    "* Среди моделей без учета дисбаланса классов худшее значение метрики F1 у модели логистической регрессии\n",
    "* Учитывание дисбаланса классов с помощью параметра class_weight дало наибольший прирост метрики F1 для логистической регрессии\n",
    "* Практически никакого влияния изменение параметра class_weight не оказало на значение метрики F1 для дерева решений. При этом, при отсутствии изменения метрики F1 для дерева решений мы наблюдаем улучшение значения метрики ROC-AUC\n",
    "* Применение техники upsample ухудшило значение метрики F1 и ROC-AUC для случайного леса и дерева решений в сравнении с взвешиванием классов, для логистической регрессии только незначительно снизилось значение метрики ROC_AUC\n",
    "* Применение техники downsample ухудшило значение метрики F1 для случайного леса и дерева решений в сравнении с взвешиванием классов, для этих же моделей значение метрики ROC-AUC не изменилось. Для логистической регрессии незначительно улучшилось значение обеих метрик\n",
    "* По результатам тестирования лучшей можем считать модель случайного леса с использованием взвешивания классов, со следующими значениями метрик:  \n",
    "    F1: 0.62  \n",
    "    ROC-AUC: 0.86"
   ]
  },
  {
   "cell_type": "code",
   "execution_count": null,
   "metadata": {},
   "outputs": [],
   "source": []
  }
 ],
 "metadata": {
  "ExecuteTimeLog": [
   {
    "duration": 1060,
    "start_time": "2021-11-21T20:20:31.463Z"
   },
   {
    "duration": 33,
    "start_time": "2021-11-21T20:20:54.865Z"
   },
   {
    "duration": 26,
    "start_time": "2021-11-21T20:20:59.751Z"
   },
   {
    "duration": 425,
    "start_time": "2021-11-21T20:21:26.762Z"
   },
   {
    "duration": 365,
    "start_time": "2021-11-21T20:21:33.952Z"
   },
   {
    "duration": 334,
    "start_time": "2021-11-21T20:21:40.300Z"
   },
   {
    "duration": 9,
    "start_time": "2021-11-21T20:22:01.329Z"
   },
   {
    "duration": 38,
    "start_time": "2021-11-21T20:22:10.189Z"
   },
   {
    "duration": 36,
    "start_time": "2021-11-21T20:22:16.231Z"
   },
   {
    "duration": 333,
    "start_time": "2021-11-21T20:22:48.211Z"
   },
   {
    "duration": 47,
    "start_time": "2021-11-21T20:22:50.820Z"
   },
   {
    "duration": 439,
    "start_time": "2021-11-22T08:41:40.319Z"
   },
   {
    "duration": 1353,
    "start_time": "2021-11-22T08:41:42.521Z"
   },
   {
    "duration": 31,
    "start_time": "2021-11-22T08:41:51.493Z"
   },
   {
    "duration": 357,
    "start_time": "2021-11-22T08:42:03.628Z"
   },
   {
    "duration": 360,
    "start_time": "2021-11-22T08:42:08.722Z"
   },
   {
    "duration": 275,
    "start_time": "2021-11-22T08:42:12.921Z"
   },
   {
    "duration": 5,
    "start_time": "2021-11-22T08:42:47.296Z"
   },
   {
    "duration": 35,
    "start_time": "2021-11-22T08:42:48.831Z"
   },
   {
    "duration": 21,
    "start_time": "2021-11-22T08:42:49.823Z"
   },
   {
    "duration": 351,
    "start_time": "2021-11-22T17:19:16.280Z"
   },
   {
    "duration": 1075,
    "start_time": "2021-11-22T17:19:22.279Z"
   },
   {
    "duration": 30,
    "start_time": "2021-11-22T17:19:23.357Z"
   },
   {
    "duration": 17,
    "start_time": "2021-11-22T17:19:23.389Z"
   },
   {
    "duration": 12,
    "start_time": "2021-11-22T17:19:24.265Z"
   },
   {
    "duration": 79,
    "start_time": "2021-11-22T17:19:24.921Z"
   },
   {
    "duration": 19,
    "start_time": "2021-11-22T17:19:27.440Z"
   },
   {
    "duration": 15,
    "start_time": "2021-11-22T17:19:47.850Z"
   },
   {
    "duration": 434,
    "start_time": "2021-11-22T17:20:42.817Z"
   },
   {
    "duration": 276,
    "start_time": "2021-11-22T17:20:53.486Z"
   },
   {
    "duration": 8,
    "start_time": "2021-11-22T17:21:09.080Z"
   },
   {
    "duration": 4,
    "start_time": "2021-11-22T17:28:40.856Z"
   },
   {
    "duration": 30,
    "start_time": "2021-11-22T17:28:41.204Z"
   },
   {
    "duration": 8,
    "start_time": "2021-11-22T17:28:41.469Z"
   },
   {
    "duration": 10,
    "start_time": "2021-11-22T17:28:41.731Z"
   },
   {
    "duration": 47,
    "start_time": "2021-11-22T17:28:42.080Z"
   },
   {
    "duration": 13,
    "start_time": "2021-11-22T17:28:42.603Z"
   },
   {
    "duration": 7,
    "start_time": "2021-11-22T17:28:43.606Z"
   },
   {
    "duration": 7,
    "start_time": "2021-11-22T17:28:46.107Z"
   },
   {
    "duration": 4,
    "start_time": "2021-11-22T17:28:51.027Z"
   },
   {
    "duration": 221,
    "start_time": "2021-11-24T16:25:30.322Z"
   },
   {
    "duration": 332,
    "start_time": "2021-11-24T16:26:56.242Z"
   },
   {
    "duration": 1386,
    "start_time": "2021-11-24T16:27:01.112Z"
   },
   {
    "duration": 53,
    "start_time": "2021-11-24T16:27:02.501Z"
   },
   {
    "duration": 18,
    "start_time": "2021-11-24T16:27:02.557Z"
   },
   {
    "duration": 30,
    "start_time": "2021-11-24T16:27:02.577Z"
   },
   {
    "duration": 101,
    "start_time": "2021-11-24T16:27:02.610Z"
   },
   {
    "duration": 21,
    "start_time": "2021-11-24T16:27:02.713Z"
   },
   {
    "duration": 30,
    "start_time": "2021-11-24T16:27:02.737Z"
   },
   {
    "duration": 19,
    "start_time": "2021-11-24T16:27:02.770Z"
   },
   {
    "duration": 382,
    "start_time": "2021-11-24T16:27:02.791Z"
   },
   {
    "duration": 617,
    "start_time": "2021-11-24T16:27:02.558Z"
   },
   {
    "duration": 272,
    "start_time": "2021-11-24T16:27:13.611Z"
   },
   {
    "duration": 12,
    "start_time": "2021-11-24T16:27:27.553Z"
   },
   {
    "duration": 11,
    "start_time": "2021-11-24T16:27:56.404Z"
   },
   {
    "duration": 10,
    "start_time": "2021-11-24T16:28:01.659Z"
   },
   {
    "duration": 11,
    "start_time": "2021-11-24T16:28:09.770Z"
   },
   {
    "duration": 11,
    "start_time": "2021-11-24T16:28:18.239Z"
   },
   {
    "duration": 342,
    "start_time": "2021-11-24T16:44:11.710Z"
   },
   {
    "duration": 12,
    "start_time": "2021-11-24T16:44:16.741Z"
   },
   {
    "duration": 9,
    "start_time": "2021-11-24T16:44:19.273Z"
   },
   {
    "duration": 11,
    "start_time": "2021-11-24T16:44:24.179Z"
   },
   {
    "duration": 11,
    "start_time": "2021-11-24T16:58:09.662Z"
   },
   {
    "duration": 11,
    "start_time": "2021-11-24T16:58:14.710Z"
   },
   {
    "duration": 12,
    "start_time": "2021-11-24T16:58:20.151Z"
   },
   {
    "duration": 22,
    "start_time": "2021-11-24T16:58:32.916Z"
   },
   {
    "duration": 15,
    "start_time": "2021-11-24T16:58:42.161Z"
   },
   {
    "duration": 735,
    "start_time": "2021-11-24T16:58:46.351Z"
   },
   {
    "duration": 11,
    "start_time": "2021-11-24T16:58:50.081Z"
   },
   {
    "duration": 19,
    "start_time": "2021-11-24T16:58:53.848Z"
   },
   {
    "duration": 20,
    "start_time": "2021-11-24T16:58:56.426Z"
   },
   {
    "duration": 11,
    "start_time": "2021-11-24T16:58:59.007Z"
   },
   {
    "duration": 15,
    "start_time": "2021-11-24T16:59:01.549Z"
   },
   {
    "duration": 11,
    "start_time": "2021-11-24T16:59:03.771Z"
   },
   {
    "duration": 10,
    "start_time": "2021-11-24T16:59:41.762Z"
   },
   {
    "duration": 9,
    "start_time": "2021-11-24T16:59:46.798Z"
   },
   {
    "duration": 10,
    "start_time": "2021-11-24T17:00:02.710Z"
   },
   {
    "duration": 13,
    "start_time": "2021-11-24T17:00:08.131Z"
   },
   {
    "duration": 215,
    "start_time": "2021-11-24T17:43:29.132Z"
   },
   {
    "duration": 15,
    "start_time": "2021-11-24T17:43:54.428Z"
   },
   {
    "duration": 19,
    "start_time": "2021-11-24T17:44:05.422Z"
   },
   {
    "duration": 7,
    "start_time": "2021-11-24T17:44:46.420Z"
   },
   {
    "duration": 5,
    "start_time": "2021-11-24T17:44:55.384Z"
   },
   {
    "duration": 10,
    "start_time": "2021-11-24T17:45:03.911Z"
   },
   {
    "duration": 166,
    "start_time": "2021-11-24T18:01:54.573Z"
   },
   {
    "duration": 6,
    "start_time": "2021-11-24T18:03:06.051Z"
   },
   {
    "duration": 7,
    "start_time": "2021-11-24T18:03:18.605Z"
   },
   {
    "duration": 6,
    "start_time": "2021-11-24T18:04:06.708Z"
   },
   {
    "duration": 7,
    "start_time": "2021-11-24T18:04:08.191Z"
   },
   {
    "duration": 1739,
    "start_time": "2021-11-25T15:25:53.707Z"
   },
   {
    "duration": 52,
    "start_time": "2021-11-25T15:25:57.682Z"
   },
   {
    "duration": 31,
    "start_time": "2021-11-25T15:25:57.857Z"
   },
   {
    "duration": 17,
    "start_time": "2021-11-25T15:25:58.206Z"
   },
   {
    "duration": 80,
    "start_time": "2021-11-25T15:25:58.559Z"
   },
   {
    "duration": 20,
    "start_time": "2021-11-25T15:25:58.748Z"
   },
   {
    "duration": 24,
    "start_time": "2021-11-25T15:25:59.100Z"
   },
   {
    "duration": 15,
    "start_time": "2021-11-25T15:25:59.303Z"
   },
   {
    "duration": 5,
    "start_time": "2021-11-25T15:26:00.184Z"
   },
   {
    "duration": 6,
    "start_time": "2021-11-25T15:26:00.590Z"
   },
   {
    "duration": 6,
    "start_time": "2021-11-25T15:26:00.759Z"
   },
   {
    "duration": 114,
    "start_time": "2021-11-25T15:26:01.247Z"
   },
   {
    "duration": 521,
    "start_time": "2021-11-25T15:26:30.112Z"
   },
   {
    "duration": 334,
    "start_time": "2021-11-25T15:27:07.348Z"
   },
   {
    "duration": 41,
    "start_time": "2021-11-25T15:27:11.039Z"
   },
   {
    "duration": 34,
    "start_time": "2021-11-25T15:28:48.892Z"
   },
   {
    "duration": 16,
    "start_time": "2021-11-25T15:28:51.807Z"
   },
   {
    "duration": 14,
    "start_time": "2021-11-25T15:28:53.982Z"
   },
   {
    "duration": 81,
    "start_time": "2021-11-25T15:28:54.686Z"
   },
   {
    "duration": 20,
    "start_time": "2021-11-25T15:28:54.885Z"
   },
   {
    "duration": 30,
    "start_time": "2021-11-25T15:29:18.633Z"
   },
   {
    "duration": 6,
    "start_time": "2021-11-25T15:29:22.226Z"
   },
   {
    "duration": -124,
    "start_time": "2021-11-25T15:29:35.012Z"
   },
   {
    "duration": -124,
    "start_time": "2021-11-25T15:29:35.013Z"
   },
   {
    "duration": 415,
    "start_time": "2021-11-25T15:29:41.983Z"
   },
   {
    "duration": 21,
    "start_time": "2021-11-25T15:29:45.635Z"
   },
   {
    "duration": 31,
    "start_time": "2021-11-25T15:29:47.107Z"
   },
   {
    "duration": 5,
    "start_time": "2021-11-25T15:30:08.671Z"
   },
   {
    "duration": 31,
    "start_time": "2021-11-25T15:30:12.168Z"
   },
   {
    "duration": 6,
    "start_time": "2021-11-25T16:05:08.698Z"
   },
   {
    "duration": 48,
    "start_time": "2021-11-25T16:05:08.708Z"
   },
   {
    "duration": 11,
    "start_time": "2021-11-25T16:05:08.760Z"
   },
   {
    "duration": 33,
    "start_time": "2021-11-25T16:05:08.774Z"
   },
   {
    "duration": 99,
    "start_time": "2021-11-25T16:05:08.809Z"
   },
   {
    "duration": 20,
    "start_time": "2021-11-25T16:05:08.910Z"
   },
   {
    "duration": 16,
    "start_time": "2021-11-25T16:05:08.932Z"
   },
   {
    "duration": 54,
    "start_time": "2021-11-25T16:05:08.950Z"
   },
   {
    "duration": 6,
    "start_time": "2021-11-25T16:05:09.009Z"
   },
   {
    "duration": 10,
    "start_time": "2021-11-25T16:05:09.018Z"
   },
   {
    "duration": 11,
    "start_time": "2021-11-25T16:05:09.030Z"
   },
   {
    "duration": 8,
    "start_time": "2021-11-25T16:05:09.044Z"
   },
   {
    "duration": 67,
    "start_time": "2021-11-25T16:05:09.054Z"
   },
   {
    "duration": 31,
    "start_time": "2021-11-25T16:05:09.124Z"
   },
   {
    "duration": 125,
    "start_time": "2021-11-25T16:11:37.630Z"
   },
   {
    "duration": 4,
    "start_time": "2021-11-25T16:21:22.262Z"
   },
   {
    "duration": 369,
    "start_time": "2021-11-25T16:23:49.884Z"
   },
   {
    "duration": 375,
    "start_time": "2021-11-25T16:26:10.265Z"
   },
   {
    "duration": 8,
    "start_time": "2021-11-25T16:27:02.899Z"
   },
   {
    "duration": 9,
    "start_time": "2021-11-25T16:27:03.654Z"
   },
   {
    "duration": 343,
    "start_time": "2021-11-25T16:27:21.914Z"
   },
   {
    "duration": 9931,
    "start_time": "2021-11-25T16:39:25.860Z"
   },
   {
    "duration": 5,
    "start_time": "2021-11-25T16:39:45.931Z"
   },
   {
    "duration": 40,
    "start_time": "2021-11-25T16:39:45.939Z"
   },
   {
    "duration": 10,
    "start_time": "2021-11-25T16:39:45.982Z"
   },
   {
    "duration": 11,
    "start_time": "2021-11-25T16:39:45.995Z"
   },
   {
    "duration": 73,
    "start_time": "2021-11-25T16:39:46.008Z"
   },
   {
    "duration": 33,
    "start_time": "2021-11-25T16:39:46.083Z"
   },
   {
    "duration": 15,
    "start_time": "2021-11-25T16:39:46.118Z"
   },
   {
    "duration": 12,
    "start_time": "2021-11-25T16:39:46.135Z"
   },
   {
    "duration": 4,
    "start_time": "2021-11-25T16:39:46.151Z"
   },
   {
    "duration": 45,
    "start_time": "2021-11-25T16:39:46.158Z"
   },
   {
    "duration": 7,
    "start_time": "2021-11-25T16:39:46.205Z"
   },
   {
    "duration": 17,
    "start_time": "2021-11-25T16:39:46.214Z"
   },
   {
    "duration": 5,
    "start_time": "2021-11-25T16:39:46.234Z"
   },
   {
    "duration": 10,
    "start_time": "2021-11-25T16:39:46.242Z"
   },
   {
    "duration": 9874,
    "start_time": "2021-11-25T16:39:46.254Z"
   },
   {
    "duration": -173,
    "start_time": "2021-11-25T16:39:56.303Z"
   },
   {
    "duration": -173,
    "start_time": "2021-11-25T16:39:56.305Z"
   },
   {
    "duration": -173,
    "start_time": "2021-11-25T16:39:56.306Z"
   },
   {
    "duration": -172,
    "start_time": "2021-11-25T16:39:56.307Z"
   },
   {
    "duration": 394,
    "start_time": "2021-11-25T16:40:08.412Z"
   },
   {
    "duration": 126,
    "start_time": "2021-11-25T16:40:48.059Z"
   },
   {
    "duration": 5,
    "start_time": "2021-11-25T16:40:54.311Z"
   },
   {
    "duration": 34,
    "start_time": "2021-11-25T16:40:55.837Z"
   },
   {
    "duration": 10,
    "start_time": "2021-11-25T16:40:56.102Z"
   },
   {
    "duration": 12,
    "start_time": "2021-11-25T16:40:56.468Z"
   },
   {
    "duration": 74,
    "start_time": "2021-11-25T16:40:56.782Z"
   },
   {
    "duration": 20,
    "start_time": "2021-11-25T16:40:56.970Z"
   },
   {
    "duration": 15,
    "start_time": "2021-11-25T16:40:57.318Z"
   },
   {
    "duration": 14,
    "start_time": "2021-11-25T16:40:57.495Z"
   },
   {
    "duration": 5,
    "start_time": "2021-11-25T16:40:57.861Z"
   },
   {
    "duration": 5,
    "start_time": "2021-11-25T16:40:58.244Z"
   },
   {
    "duration": 6,
    "start_time": "2021-11-25T16:40:58.448Z"
   },
   {
    "duration": 6,
    "start_time": "2021-11-25T16:40:58.853Z"
   },
   {
    "duration": 3,
    "start_time": "2021-11-25T16:40:59.053Z"
   },
   {
    "duration": 6,
    "start_time": "2021-11-25T16:40:59.738Z"
   },
   {
    "duration": 403,
    "start_time": "2021-11-25T16:40:59.948Z"
   },
   {
    "duration": -161,
    "start_time": "2021-11-25T16:41:00.514Z"
   },
   {
    "duration": 360,
    "start_time": "2021-11-25T16:41:00.427Z"
   },
   {
    "duration": -166,
    "start_time": "2021-11-25T16:41:00.955Z"
   },
   {
    "duration": 410,
    "start_time": "2021-11-25T16:41:00.934Z"
   },
   {
    "duration": 10022,
    "start_time": "2021-11-25T16:41:09.494Z"
   },
   {
    "duration": 357,
    "start_time": "2021-11-25T16:41:39.337Z"
   },
   {
    "duration": 415,
    "start_time": "2021-11-25T16:41:42.955Z"
   },
   {
    "duration": 429,
    "start_time": "2021-11-25T16:41:47.677Z"
   },
   {
    "duration": 7,
    "start_time": "2021-11-25T16:41:50.203Z"
   },
   {
    "duration": 500,
    "start_time": "2021-11-25T16:42:10.639Z"
   },
   {
    "duration": 7,
    "start_time": "2021-11-25T16:42:15.686Z"
   },
   {
    "duration": 468,
    "start_time": "2021-11-25T16:42:27.258Z"
   },
   {
    "duration": 359,
    "start_time": "2021-11-25T16:42:33.133Z"
   },
   {
    "duration": 338,
    "start_time": "2021-11-25T16:42:38.974Z"
   },
   {
    "duration": 345,
    "start_time": "2021-11-25T16:42:43.989Z"
   },
   {
    "duration": 361,
    "start_time": "2021-11-25T16:42:52.827Z"
   },
   {
    "duration": 18,
    "start_time": "2021-11-25T16:43:57.138Z"
   },
   {
    "duration": 31,
    "start_time": "2021-11-25T16:44:04.927Z"
   },
   {
    "duration": 348,
    "start_time": "2021-11-25T16:44:53.076Z"
   },
   {
    "duration": 5,
    "start_time": "2021-11-25T16:44:55.562Z"
   },
   {
    "duration": 42,
    "start_time": "2021-11-25T16:44:55.570Z"
   },
   {
    "duration": 12,
    "start_time": "2021-11-25T16:44:55.616Z"
   },
   {
    "duration": 18,
    "start_time": "2021-11-25T16:44:55.631Z"
   },
   {
    "duration": 109,
    "start_time": "2021-11-25T16:44:55.652Z"
   },
   {
    "duration": 20,
    "start_time": "2021-11-25T16:44:55.765Z"
   },
   {
    "duration": 27,
    "start_time": "2021-11-25T16:44:55.788Z"
   },
   {
    "duration": 14,
    "start_time": "2021-11-25T16:44:55.820Z"
   },
   {
    "duration": 4,
    "start_time": "2021-11-25T16:44:55.838Z"
   },
   {
    "duration": 57,
    "start_time": "2021-11-25T16:44:55.845Z"
   },
   {
    "duration": 9,
    "start_time": "2021-11-25T16:44:55.905Z"
   },
   {
    "duration": 355,
    "start_time": "2021-11-25T16:44:55.917Z"
   },
   {
    "duration": -175,
    "start_time": "2021-11-25T16:44:56.450Z"
   },
   {
    "duration": -175,
    "start_time": "2021-11-25T16:44:56.451Z"
   },
   {
    "duration": -175,
    "start_time": "2021-11-25T16:44:56.452Z"
   },
   {
    "duration": -175,
    "start_time": "2021-11-25T16:44:56.454Z"
   },
   {
    "duration": -175,
    "start_time": "2021-11-25T16:44:56.455Z"
   },
   {
    "duration": -174,
    "start_time": "2021-11-25T16:44:56.456Z"
   },
   {
    "duration": -175,
    "start_time": "2021-11-25T16:44:56.458Z"
   },
   {
    "duration": -175,
    "start_time": "2021-11-25T16:44:56.459Z"
   },
   {
    "duration": 6,
    "start_time": "2021-11-25T16:45:13.671Z"
   },
   {
    "duration": 7,
    "start_time": "2021-11-25T16:45:16.679Z"
   },
   {
    "duration": 411,
    "start_time": "2021-11-25T16:45:16.950Z"
   },
   {
    "duration": -165,
    "start_time": "2021-11-25T16:45:17.529Z"
   },
   {
    "duration": 30,
    "start_time": "2021-11-25T16:45:17.545Z"
   },
   {
    "duration": 5,
    "start_time": "2021-11-25T16:46:38.019Z"
   },
   {
    "duration": 7,
    "start_time": "2021-11-25T16:47:24.255Z"
   },
   {
    "duration": 35,
    "start_time": "2021-11-25T16:47:24.265Z"
   },
   {
    "duration": 9,
    "start_time": "2021-11-25T16:47:24.303Z"
   },
   {
    "duration": 12,
    "start_time": "2021-11-25T16:47:24.315Z"
   },
   {
    "duration": 94,
    "start_time": "2021-11-25T16:47:24.329Z"
   },
   {
    "duration": 19,
    "start_time": "2021-11-25T16:47:24.426Z"
   },
   {
    "duration": 18,
    "start_time": "2021-11-25T16:47:24.448Z"
   },
   {
    "duration": 36,
    "start_time": "2021-11-25T16:47:24.470Z"
   },
   {
    "duration": 5,
    "start_time": "2021-11-25T16:47:24.508Z"
   },
   {
    "duration": 7,
    "start_time": "2021-11-25T16:47:24.516Z"
   },
   {
    "duration": 8,
    "start_time": "2021-11-25T16:47:24.526Z"
   },
   {
    "duration": 7,
    "start_time": "2021-11-25T16:47:24.536Z"
   },
   {
    "duration": 8,
    "start_time": "2021-11-25T16:47:24.545Z"
   },
   {
    "duration": 400,
    "start_time": "2021-11-25T16:47:24.556Z"
   },
   {
    "duration": -157,
    "start_time": "2021-11-25T16:47:25.115Z"
   },
   {
    "duration": -162,
    "start_time": "2021-11-25T16:47:25.122Z"
   },
   {
    "duration": -162,
    "start_time": "2021-11-25T16:47:25.123Z"
   },
   {
    "duration": -162,
    "start_time": "2021-11-25T16:47:25.125Z"
   },
   {
    "duration": -162,
    "start_time": "2021-11-25T16:47:25.126Z"
   },
   {
    "duration": 7,
    "start_time": "2021-11-25T16:48:42.757Z"
   },
   {
    "duration": 5,
    "start_time": "2021-11-25T16:48:46.039Z"
   },
   {
    "duration": 38,
    "start_time": "2021-11-25T16:48:46.047Z"
   },
   {
    "duration": 10,
    "start_time": "2021-11-25T16:48:46.089Z"
   },
   {
    "duration": 10,
    "start_time": "2021-11-25T16:48:46.102Z"
   },
   {
    "duration": 88,
    "start_time": "2021-11-25T16:48:46.114Z"
   },
   {
    "duration": 20,
    "start_time": "2021-11-25T16:48:46.204Z"
   },
   {
    "duration": 18,
    "start_time": "2021-11-25T16:48:46.226Z"
   },
   {
    "duration": 13,
    "start_time": "2021-11-25T16:48:46.246Z"
   },
   {
    "duration": 36,
    "start_time": "2021-11-25T16:48:46.264Z"
   },
   {
    "duration": 6,
    "start_time": "2021-11-25T16:48:46.303Z"
   },
   {
    "duration": 6,
    "start_time": "2021-11-25T16:48:46.312Z"
   },
   {
    "duration": 7,
    "start_time": "2021-11-25T16:48:46.320Z"
   },
   {
    "duration": 7,
    "start_time": "2021-11-25T16:48:46.329Z"
   },
   {
    "duration": 364,
    "start_time": "2021-11-25T16:48:46.338Z"
   },
   {
    "duration": -158,
    "start_time": "2021-11-25T16:48:46.863Z"
   },
   {
    "duration": -160,
    "start_time": "2021-11-25T16:48:46.867Z"
   },
   {
    "duration": -160,
    "start_time": "2021-11-25T16:48:46.868Z"
   },
   {
    "duration": -164,
    "start_time": "2021-11-25T16:48:46.875Z"
   },
   {
    "duration": -164,
    "start_time": "2021-11-25T16:48:46.876Z"
   },
   {
    "duration": 11,
    "start_time": "2021-11-25T17:05:08.932Z"
   },
   {
    "duration": 21,
    "start_time": "2021-11-25T17:50:33.211Z"
   },
   {
    "duration": 6,
    "start_time": "2021-11-25T17:50:36.957Z"
   },
   {
    "duration": 253,
    "start_time": "2021-11-25T17:50:36.966Z"
   },
   {
    "duration": 10,
    "start_time": "2021-11-25T17:50:37.223Z"
   },
   {
    "duration": 15,
    "start_time": "2021-11-25T17:50:37.236Z"
   },
   {
    "duration": 103,
    "start_time": "2021-11-25T17:50:37.254Z"
   },
   {
    "duration": 19,
    "start_time": "2021-11-25T17:50:37.360Z"
   },
   {
    "duration": 30,
    "start_time": "2021-11-25T17:50:37.381Z"
   },
   {
    "duration": 12,
    "start_time": "2021-11-25T17:50:37.414Z"
   },
   {
    "duration": 5,
    "start_time": "2021-11-25T17:50:37.430Z"
   },
   {
    "duration": 9,
    "start_time": "2021-11-25T17:50:37.438Z"
   },
   {
    "duration": 53,
    "start_time": "2021-11-25T17:50:37.449Z"
   },
   {
    "duration": 6,
    "start_time": "2021-11-25T17:50:37.504Z"
   },
   {
    "duration": 9,
    "start_time": "2021-11-25T17:50:37.512Z"
   },
   {
    "duration": 27,
    "start_time": "2021-11-25T17:50:37.523Z"
   },
   {
    "duration": 17,
    "start_time": "2021-11-25T17:50:37.552Z"
   },
   {
    "duration": 55,
    "start_time": "2021-11-25T17:50:37.571Z"
   },
   {
    "duration": 464,
    "start_time": "2021-11-25T17:50:37.629Z"
   },
   {
    "duration": -185,
    "start_time": "2021-11-25T17:50:38.280Z"
   },
   {
    "duration": -186,
    "start_time": "2021-11-25T17:50:38.282Z"
   },
   {
    "duration": -198,
    "start_time": "2021-11-25T17:50:38.295Z"
   },
   {
    "duration": 457,
    "start_time": "2021-11-25T17:51:36.679Z"
   },
   {
    "duration": 6,
    "start_time": "2021-11-25T17:55:26.915Z"
   },
   {
    "duration": 41,
    "start_time": "2021-11-25T17:55:26.924Z"
   },
   {
    "duration": 9,
    "start_time": "2021-11-25T17:55:26.968Z"
   },
   {
    "duration": 17,
    "start_time": "2021-11-25T17:55:26.980Z"
   },
   {
    "duration": 75,
    "start_time": "2021-11-25T17:55:27.000Z"
   },
   {
    "duration": 33,
    "start_time": "2021-11-25T17:55:27.077Z"
   },
   {
    "duration": 15,
    "start_time": "2021-11-25T17:55:27.112Z"
   },
   {
    "duration": 12,
    "start_time": "2021-11-25T17:55:27.130Z"
   },
   {
    "duration": 4,
    "start_time": "2021-11-25T17:55:27.146Z"
   },
   {
    "duration": 50,
    "start_time": "2021-11-25T17:55:27.153Z"
   },
   {
    "duration": 7,
    "start_time": "2021-11-25T17:55:27.205Z"
   },
   {
    "duration": 12,
    "start_time": "2021-11-25T17:55:27.214Z"
   },
   {
    "duration": 14,
    "start_time": "2021-11-25T17:55:27.228Z"
   },
   {
    "duration": 31,
    "start_time": "2021-11-25T17:55:27.245Z"
   },
   {
    "duration": 538,
    "start_time": "2021-11-25T17:55:27.278Z"
   },
   {
    "duration": -235,
    "start_time": "2021-11-25T17:55:28.054Z"
   },
   {
    "duration": 20,
    "start_time": "2021-11-25T17:57:40.796Z"
   },
   {
    "duration": 407,
    "start_time": "2021-11-25T17:57:41.695Z"
   },
   {
    "duration": 22,
    "start_time": "2021-11-25T17:57:53.574Z"
   },
   {
    "duration": 137,
    "start_time": "2021-11-25T17:57:54.064Z"
   },
   {
    "duration": 30,
    "start_time": "2021-11-25T18:01:27.277Z"
   },
   {
    "duration": 365,
    "start_time": "2021-11-25T18:01:48.783Z"
   },
   {
    "duration": 19,
    "start_time": "2021-11-25T18:01:57.562Z"
   },
   {
    "duration": 30,
    "start_time": "2021-11-25T18:02:00.364Z"
   },
   {
    "duration": 4,
    "start_time": "2021-11-25T18:02:47.053Z"
   },
   {
    "duration": 11,
    "start_time": "2021-11-25T18:02:56.828Z"
   },
   {
    "duration": 23,
    "start_time": "2021-11-25T18:03:22.913Z"
   },
   {
    "duration": 11,
    "start_time": "2021-11-25T18:03:36.928Z"
   },
   {
    "duration": 5,
    "start_time": "2021-11-25T18:03:43.986Z"
   },
   {
    "duration": 7,
    "start_time": "2021-11-25T18:03:57.167Z"
   },
   {
    "duration": 367,
    "start_time": "2021-11-25T18:03:59.956Z"
   },
   {
    "duration": 39,
    "start_time": "2021-11-25T18:04:11.177Z"
   },
   {
    "duration": 887,
    "start_time": "2021-11-25T18:04:26.500Z"
   },
   {
    "duration": 51,
    "start_time": "2021-11-25T18:04:34.060Z"
   },
   {
    "duration": 10,
    "start_time": "2021-11-25T18:16:03.288Z"
   },
   {
    "duration": 9,
    "start_time": "2021-11-25T18:16:13.494Z"
   },
   {
    "duration": 5,
    "start_time": "2021-11-25T18:16:34.498Z"
   },
   {
    "duration": 5,
    "start_time": "2021-11-25T18:16:45.647Z"
   },
   {
    "duration": 8,
    "start_time": "2021-11-25T18:17:09.315Z"
   },
   {
    "duration": 8,
    "start_time": "2021-11-25T18:19:03.620Z"
   },
   {
    "duration": 336,
    "start_time": "2021-11-25T18:20:05.890Z"
   },
   {
    "duration": 7,
    "start_time": "2021-11-25T18:20:14.017Z"
   },
   {
    "duration": 6,
    "start_time": "2021-11-25T18:24:12.916Z"
   },
   {
    "duration": 42,
    "start_time": "2021-11-25T18:24:12.925Z"
   },
   {
    "duration": 11,
    "start_time": "2021-11-25T18:24:12.970Z"
   },
   {
    "duration": 23,
    "start_time": "2021-11-25T18:24:12.983Z"
   },
   {
    "duration": 77,
    "start_time": "2021-11-25T18:24:13.009Z"
   },
   {
    "duration": 20,
    "start_time": "2021-11-25T18:24:13.100Z"
   },
   {
    "duration": 15,
    "start_time": "2021-11-25T18:24:13.122Z"
   },
   {
    "duration": 12,
    "start_time": "2021-11-25T18:24:13.139Z"
   },
   {
    "duration": 4,
    "start_time": "2021-11-25T18:24:13.155Z"
   },
   {
    "duration": 6,
    "start_time": "2021-11-25T18:24:13.201Z"
   },
   {
    "duration": 17,
    "start_time": "2021-11-25T18:24:13.209Z"
   },
   {
    "duration": 11,
    "start_time": "2021-11-25T18:24:13.228Z"
   },
   {
    "duration": 11,
    "start_time": "2021-11-25T18:24:13.242Z"
   },
   {
    "duration": 21,
    "start_time": "2021-11-25T18:24:13.255Z"
   },
   {
    "duration": 127,
    "start_time": "2021-11-25T18:24:13.279Z"
   },
   {
    "duration": 105,
    "start_time": "2021-11-25T18:24:13.409Z"
   },
   {
    "duration": 18,
    "start_time": "2021-11-25T18:24:13.516Z"
   },
   {
    "duration": 6,
    "start_time": "2021-11-25T18:24:13.537Z"
   },
   {
    "duration": 6,
    "start_time": "2021-11-25T18:24:13.545Z"
   },
   {
    "duration": 6,
    "start_time": "2021-11-25T18:24:13.554Z"
   },
   {
    "duration": 46,
    "start_time": "2021-11-25T18:24:13.562Z"
   },
   {
    "duration": 187,
    "start_time": "2021-11-25T18:24:13.615Z"
   },
   {
    "duration": 8,
    "start_time": "2021-11-25T18:24:13.804Z"
   },
   {
    "duration": 36,
    "start_time": "2021-11-25T18:24:13.815Z"
   },
   {
    "duration": 4,
    "start_time": "2021-11-25T18:24:13.853Z"
   },
   {
    "duration": 16,
    "start_time": "2021-11-25T18:25:37.562Z"
   },
   {
    "duration": 5,
    "start_time": "2021-11-25T18:25:53.152Z"
   },
   {
    "duration": 8,
    "start_time": "2021-11-25T18:26:05.972Z"
   },
   {
    "duration": 111,
    "start_time": "2021-11-25T18:27:41.159Z"
   },
   {
    "duration": 8,
    "start_time": "2021-11-25T18:28:02.334Z"
   },
   {
    "duration": 112,
    "start_time": "2021-11-25T18:28:27.380Z"
   },
   {
    "duration": 21,
    "start_time": "2021-11-25T18:29:31.658Z"
   },
   {
    "duration": 94,
    "start_time": "2021-11-25T18:29:33.612Z"
   },
   {
    "duration": 1447,
    "start_time": "2021-11-25T18:32:56.387Z"
   },
   {
    "duration": 38,
    "start_time": "2021-11-25T18:32:57.837Z"
   },
   {
    "duration": 32,
    "start_time": "2021-11-25T18:32:57.879Z"
   },
   {
    "duration": 14,
    "start_time": "2021-11-25T18:32:57.915Z"
   },
   {
    "duration": 101,
    "start_time": "2021-11-25T18:32:57.932Z"
   },
   {
    "duration": 19,
    "start_time": "2021-11-25T18:32:58.036Z"
   },
   {
    "duration": 19,
    "start_time": "2021-11-25T18:32:58.057Z"
   },
   {
    "duration": 13,
    "start_time": "2021-11-25T18:32:58.100Z"
   },
   {
    "duration": 5,
    "start_time": "2021-11-25T18:32:58.116Z"
   },
   {
    "duration": 9,
    "start_time": "2021-11-25T18:32:58.123Z"
   },
   {
    "duration": 8,
    "start_time": "2021-11-25T18:32:58.135Z"
   },
   {
    "duration": 9,
    "start_time": "2021-11-25T18:32:58.145Z"
   },
   {
    "duration": 45,
    "start_time": "2021-11-25T18:32:58.156Z"
   },
   {
    "duration": 10,
    "start_time": "2021-11-25T18:32:58.204Z"
   },
   {
    "duration": 23,
    "start_time": "2021-11-25T18:32:58.217Z"
   },
   {
    "duration": 161,
    "start_time": "2021-11-25T18:32:58.242Z"
   },
   {
    "duration": 110,
    "start_time": "2021-11-25T18:32:58.407Z"
   },
   {
    "duration": 19,
    "start_time": "2021-11-25T18:32:58.520Z"
   },
   {
    "duration": 4,
    "start_time": "2021-11-25T18:32:58.542Z"
   },
   {
    "duration": 6,
    "start_time": "2021-11-25T18:32:58.549Z"
   },
   {
    "duration": 45,
    "start_time": "2021-11-25T18:32:58.558Z"
   },
   {
    "duration": 8,
    "start_time": "2021-11-25T18:32:58.606Z"
   },
   {
    "duration": 9,
    "start_time": "2021-11-25T18:32:58.618Z"
   },
   {
    "duration": 23,
    "start_time": "2021-11-25T18:32:58.629Z"
   },
   {
    "duration": 7,
    "start_time": "2021-11-25T18:32:58.656Z"
   },
   {
    "duration": 40,
    "start_time": "2021-11-25T18:32:58.666Z"
   },
   {
    "duration": 5,
    "start_time": "2021-11-25T18:32:58.708Z"
   },
   {
    "duration": 6,
    "start_time": "2021-11-25T18:33:34.773Z"
   },
   {
    "duration": 482,
    "start_time": "2021-11-25T18:33:45.179Z"
   },
   {
    "duration": 6,
    "start_time": "2021-11-25T18:33:52.767Z"
   },
   {
    "duration": 8,
    "start_time": "2021-11-25T18:33:56.608Z"
   },
   {
    "duration": 7,
    "start_time": "2021-11-25T18:35:37.608Z"
   },
   {
    "duration": 5,
    "start_time": "2021-11-25T18:35:40.631Z"
   },
   {
    "duration": 350,
    "start_time": "2021-11-25T18:35:46.186Z"
   },
   {
    "duration": 7,
    "start_time": "2021-11-25T18:35:57.679Z"
   },
   {
    "duration": 9,
    "start_time": "2021-11-25T18:36:23.771Z"
   },
   {
    "duration": 6,
    "start_time": "2021-11-25T18:36:32.105Z"
   },
   {
    "duration": 14,
    "start_time": "2021-11-25T18:37:28.349Z"
   },
   {
    "duration": 5,
    "start_time": "2021-11-25T18:37:29.196Z"
   },
   {
    "duration": 8,
    "start_time": "2021-11-25T18:37:30.090Z"
   },
   {
    "duration": 28,
    "start_time": "2021-11-25T18:38:07.918Z"
   },
   {
    "duration": 7,
    "start_time": "2021-11-25T18:38:18.015Z"
   },
   {
    "duration": 5,
    "start_time": "2021-11-25T18:39:46.136Z"
   },
   {
    "duration": 46,
    "start_time": "2021-11-25T18:39:46.144Z"
   },
   {
    "duration": 10,
    "start_time": "2021-11-25T18:39:46.194Z"
   },
   {
    "duration": 12,
    "start_time": "2021-11-25T18:39:46.207Z"
   },
   {
    "duration": 97,
    "start_time": "2021-11-25T18:39:46.221Z"
   },
   {
    "duration": 20,
    "start_time": "2021-11-25T18:39:46.320Z"
   },
   {
    "duration": 16,
    "start_time": "2021-11-25T18:39:46.342Z"
   },
   {
    "duration": 41,
    "start_time": "2021-11-25T18:39:46.360Z"
   },
   {
    "duration": 5,
    "start_time": "2021-11-25T18:39:46.405Z"
   },
   {
    "duration": 9,
    "start_time": "2021-11-25T18:39:46.413Z"
   },
   {
    "duration": 6,
    "start_time": "2021-11-25T18:39:46.424Z"
   },
   {
    "duration": 7,
    "start_time": "2021-11-25T18:39:46.433Z"
   },
   {
    "duration": 13,
    "start_time": "2021-11-25T18:39:46.443Z"
   },
   {
    "duration": 46,
    "start_time": "2021-11-25T18:39:46.459Z"
   },
   {
    "duration": 23,
    "start_time": "2021-11-25T18:39:46.509Z"
   },
   {
    "duration": 375,
    "start_time": "2021-11-25T18:39:46.534Z"
   },
   {
    "duration": -210,
    "start_time": "2021-11-25T18:39:47.122Z"
   },
   {
    "duration": -214,
    "start_time": "2021-11-25T18:39:47.127Z"
   },
   {
    "duration": -215,
    "start_time": "2021-11-25T18:39:47.129Z"
   },
   {
    "duration": -215,
    "start_time": "2021-11-25T18:39:47.131Z"
   },
   {
    "duration": -215,
    "start_time": "2021-11-25T18:39:47.132Z"
   },
   {
    "duration": -215,
    "start_time": "2021-11-25T18:39:47.133Z"
   },
   {
    "duration": -215,
    "start_time": "2021-11-25T18:39:47.135Z"
   },
   {
    "duration": -215,
    "start_time": "2021-11-25T18:39:47.136Z"
   },
   {
    "duration": -215,
    "start_time": "2021-11-25T18:39:47.138Z"
   },
   {
    "duration": -215,
    "start_time": "2021-11-25T18:39:47.139Z"
   },
   {
    "duration": -218,
    "start_time": "2021-11-25T18:39:47.145Z"
   },
   {
    "duration": -221,
    "start_time": "2021-11-25T18:39:47.149Z"
   },
   {
    "duration": -221,
    "start_time": "2021-11-25T18:39:47.150Z"
   },
   {
    "duration": -221,
    "start_time": "2021-11-25T18:39:47.152Z"
   },
   {
    "duration": 22,
    "start_time": "2021-11-25T18:40:14.624Z"
   },
   {
    "duration": 141,
    "start_time": "2021-11-25T18:40:15.360Z"
   },
   {
    "duration": 19,
    "start_time": "2021-11-25T18:40:21.201Z"
   },
   {
    "duration": 20,
    "start_time": "2021-11-25T18:40:21.561Z"
   },
   {
    "duration": 15,
    "start_time": "2021-11-25T18:40:27.971Z"
   },
   {
    "duration": 6,
    "start_time": "2021-11-25T18:40:29.241Z"
   },
   {
    "duration": 10,
    "start_time": "2021-11-25T18:40:30.037Z"
   },
   {
    "duration": 6,
    "start_time": "2021-11-25T18:40:31.232Z"
   },
   {
    "duration": 55,
    "start_time": "2021-11-25T18:40:41.641Z"
   },
   {
    "duration": 6,
    "start_time": "2021-11-25T18:40:42.281Z"
   },
   {
    "duration": 10,
    "start_time": "2021-11-25T18:40:42.716Z"
   },
   {
    "duration": 6,
    "start_time": "2021-11-25T18:40:57.625Z"
   },
   {
    "duration": 63,
    "start_time": "2021-11-25T18:41:01.265Z"
   },
   {
    "duration": 6,
    "start_time": "2021-11-25T18:41:01.649Z"
   },
   {
    "duration": 10,
    "start_time": "2021-11-25T18:41:02.396Z"
   },
   {
    "duration": 6,
    "start_time": "2021-11-25T18:41:13.200Z"
   },
   {
    "duration": 9,
    "start_time": "2021-11-25T18:41:13.586Z"
   },
   {
    "duration": 59,
    "start_time": "2021-11-25T18:41:19.654Z"
   },
   {
    "duration": 5,
    "start_time": "2021-11-25T18:41:20.399Z"
   },
   {
    "duration": 9,
    "start_time": "2021-11-25T18:41:20.724Z"
   },
   {
    "duration": 62,
    "start_time": "2021-11-25T18:41:25.018Z"
   },
   {
    "duration": 6,
    "start_time": "2021-11-25T18:41:25.731Z"
   },
   {
    "duration": 8,
    "start_time": "2021-11-25T18:41:26.144Z"
   },
   {
    "duration": 70,
    "start_time": "2021-11-25T18:41:29.487Z"
   },
   {
    "duration": 5,
    "start_time": "2021-11-25T18:41:29.794Z"
   },
   {
    "duration": 9,
    "start_time": "2021-11-25T18:41:30.111Z"
   },
   {
    "duration": 75,
    "start_time": "2021-11-25T18:41:32.978Z"
   },
   {
    "duration": 5,
    "start_time": "2021-11-25T18:41:33.292Z"
   },
   {
    "duration": 8,
    "start_time": "2021-11-25T18:41:33.630Z"
   },
   {
    "duration": 58,
    "start_time": "2021-11-25T18:41:36.854Z"
   },
   {
    "duration": 5,
    "start_time": "2021-11-25T18:41:37.154Z"
   },
   {
    "duration": 8,
    "start_time": "2021-11-25T18:41:37.610Z"
   },
   {
    "duration": 4,
    "start_time": "2021-11-25T18:42:51.154Z"
   },
   {
    "duration": 359,
    "start_time": "2021-11-25T19:04:11.644Z"
   },
   {
    "duration": 8,
    "start_time": "2021-11-25T19:04:39.841Z"
   },
   {
    "duration": 58,
    "start_time": "2021-11-25T19:04:39.852Z"
   },
   {
    "duration": 13,
    "start_time": "2021-11-25T19:04:39.914Z"
   },
   {
    "duration": 11,
    "start_time": "2021-11-25T19:04:39.930Z"
   },
   {
    "duration": 98,
    "start_time": "2021-11-25T19:04:39.944Z"
   },
   {
    "duration": 19,
    "start_time": "2021-11-25T19:04:40.044Z"
   },
   {
    "duration": 37,
    "start_time": "2021-11-25T19:04:40.065Z"
   },
   {
    "duration": 13,
    "start_time": "2021-11-25T19:04:40.105Z"
   },
   {
    "duration": 4,
    "start_time": "2021-11-25T19:04:40.122Z"
   },
   {
    "duration": 14,
    "start_time": "2021-11-25T19:04:40.128Z"
   },
   {
    "duration": 9,
    "start_time": "2021-11-25T19:04:40.144Z"
   },
   {
    "duration": 51,
    "start_time": "2021-11-25T19:04:40.155Z"
   },
   {
    "duration": 8,
    "start_time": "2021-11-25T19:04:40.208Z"
   },
   {
    "duration": 14,
    "start_time": "2021-11-25T19:04:40.218Z"
   },
   {
    "duration": 433,
    "start_time": "2021-11-25T19:04:40.234Z"
   },
   {
    "duration": -205,
    "start_time": "2021-11-25T19:04:40.875Z"
   },
   {
    "duration": -217,
    "start_time": "2021-11-25T19:04:40.888Z"
   },
   {
    "duration": -217,
    "start_time": "2021-11-25T19:04:40.889Z"
   },
   {
    "duration": -218,
    "start_time": "2021-11-25T19:04:40.891Z"
   },
   {
    "duration": -217,
    "start_time": "2021-11-25T19:04:40.892Z"
   },
   {
    "duration": -221,
    "start_time": "2021-11-25T19:04:40.897Z"
   },
   {
    "duration": -222,
    "start_time": "2021-11-25T19:04:40.899Z"
   },
   {
    "duration": -223,
    "start_time": "2021-11-25T19:04:40.901Z"
   },
   {
    "duration": -222,
    "start_time": "2021-11-25T19:04:40.902Z"
   },
   {
    "duration": -223,
    "start_time": "2021-11-25T19:04:40.904Z"
   },
   {
    "duration": -223,
    "start_time": "2021-11-25T19:04:40.905Z"
   },
   {
    "duration": -224,
    "start_time": "2021-11-25T19:04:40.907Z"
   },
   {
    "duration": -223,
    "start_time": "2021-11-25T19:04:40.908Z"
   },
   {
    "duration": -228,
    "start_time": "2021-11-25T19:04:40.914Z"
   },
   {
    "duration": -228,
    "start_time": "2021-11-25T19:04:40.916Z"
   },
   {
    "duration": 5,
    "start_time": "2021-11-25T19:04:59.815Z"
   },
   {
    "duration": 56,
    "start_time": "2021-11-25T19:04:59.823Z"
   },
   {
    "duration": 10,
    "start_time": "2021-11-25T19:04:59.882Z"
   },
   {
    "duration": 34,
    "start_time": "2021-11-25T19:04:59.894Z"
   },
   {
    "duration": 87,
    "start_time": "2021-11-25T19:04:59.930Z"
   },
   {
    "duration": 23,
    "start_time": "2021-11-25T19:05:00.020Z"
   },
   {
    "duration": 36,
    "start_time": "2021-11-25T19:05:00.046Z"
   },
   {
    "duration": 29,
    "start_time": "2021-11-25T19:05:00.086Z"
   },
   {
    "duration": 23,
    "start_time": "2021-11-25T19:05:00.119Z"
   },
   {
    "duration": 30,
    "start_time": "2021-11-25T19:05:00.145Z"
   },
   {
    "duration": 39,
    "start_time": "2021-11-25T19:05:00.177Z"
   },
   {
    "duration": 34,
    "start_time": "2021-11-25T19:05:00.218Z"
   },
   {
    "duration": 28,
    "start_time": "2021-11-25T19:05:00.254Z"
   },
   {
    "duration": 39,
    "start_time": "2021-11-25T19:05:00.284Z"
   },
   {
    "duration": 34,
    "start_time": "2021-11-25T19:05:00.325Z"
   },
   {
    "duration": 17,
    "start_time": "2021-11-25T19:05:00.361Z"
   },
   {
    "duration": 65,
    "start_time": "2021-11-25T19:05:00.380Z"
   },
   {
    "duration": 152,
    "start_time": "2021-11-25T19:05:00.447Z"
   },
   {
    "duration": 4,
    "start_time": "2021-11-25T19:05:00.604Z"
   },
   {
    "duration": 121,
    "start_time": "2021-11-25T19:05:00.611Z"
   },
   {
    "duration": 21,
    "start_time": "2021-11-25T19:05:00.735Z"
   },
   {
    "duration": 24,
    "start_time": "2021-11-25T19:05:00.759Z"
   },
   {
    "duration": 37,
    "start_time": "2021-11-25T19:05:00.786Z"
   },
   {
    "duration": 44,
    "start_time": "2021-11-25T19:05:00.825Z"
   },
   {
    "duration": 24,
    "start_time": "2021-11-25T19:05:00.871Z"
   },
   {
    "duration": 1194,
    "start_time": "2021-11-25T19:05:00.898Z"
   },
   {
    "duration": -208,
    "start_time": "2021-11-25T19:05:02.304Z"
   },
   {
    "duration": -208,
    "start_time": "2021-11-25T19:05:02.306Z"
   },
   {
    "duration": -207,
    "start_time": "2021-11-25T19:05:02.307Z"
   },
   {
    "duration": -205,
    "start_time": "2021-11-25T19:05:02.308Z"
   },
   {
    "duration": 341,
    "start_time": "2021-11-25T19:05:29.682Z"
   },
   {
    "duration": 6,
    "start_time": "2021-11-25T19:05:36.723Z"
   },
   {
    "duration": 5,
    "start_time": "2021-11-25T19:05:40.868Z"
   },
   {
    "duration": 6,
    "start_time": "2021-11-25T19:05:45.710Z"
   },
   {
    "duration": 4,
    "start_time": "2021-11-25T19:24:28.449Z"
   },
   {
    "duration": 364,
    "start_time": "2021-11-25T19:55:39.555Z"
   },
   {
    "duration": 357,
    "start_time": "2021-11-25T19:55:41.439Z"
   },
   {
    "duration": 6,
    "start_time": "2021-11-25T19:55:42.294Z"
   },
   {
    "duration": 6,
    "start_time": "2021-11-25T19:56:08.287Z"
   },
   {
    "duration": 723,
    "start_time": "2021-11-25T19:56:29.584Z"
   },
   {
    "duration": 3,
    "start_time": "2021-11-25T19:57:08.106Z"
   },
   {
    "duration": 398,
    "start_time": "2021-11-25T19:57:10.121Z"
   },
   {
    "duration": 364,
    "start_time": "2021-11-25T19:57:24.330Z"
   },
   {
    "duration": 4,
    "start_time": "2021-11-25T19:58:04.464Z"
   },
   {
    "duration": 406,
    "start_time": "2021-11-25T19:58:05.731Z"
   },
   {
    "duration": 19,
    "start_time": "2021-11-25T19:58:46.498Z"
   },
   {
    "duration": 26077,
    "start_time": "2021-11-25T19:58:47.511Z"
   },
   {
    "duration": 374,
    "start_time": "2021-11-25T19:59:43.460Z"
   },
   {
    "duration": 24544,
    "start_time": "2021-11-25T19:59:56.307Z"
   },
   {
    "duration": 50413,
    "start_time": "2021-11-25T20:00:31.900Z"
   },
   {
    "duration": 4725,
    "start_time": "2021-11-25T20:01:22.688Z"
   },
   {
    "duration": 16,
    "start_time": "2021-11-25T20:01:46.622Z"
   },
   {
    "duration": 4455,
    "start_time": "2021-11-25T20:01:47.450Z"
   },
   {
    "duration": 381,
    "start_time": "2021-11-25T20:05:02.025Z"
   },
   {
    "duration": 360,
    "start_time": "2021-11-25T20:05:14.786Z"
   },
   {
    "duration": 6,
    "start_time": "2021-11-25T20:05:40.336Z"
   },
   {
    "duration": 7,
    "start_time": "2021-11-25T20:05:48.769Z"
   },
   {
    "duration": 4767,
    "start_time": "2021-11-25T20:05:56.052Z"
   },
   {
    "duration": 3,
    "start_time": "2021-11-25T20:08:23.821Z"
   },
   {
    "duration": 3,
    "start_time": "2021-11-25T20:08:26.514Z"
   },
   {
    "duration": 365,
    "start_time": "2021-11-25T20:15:56.339Z"
   },
   {
    "duration": 8,
    "start_time": "2021-11-25T20:16:15.194Z"
   },
   {
    "duration": 41,
    "start_time": "2021-11-25T20:16:15.205Z"
   },
   {
    "duration": 10,
    "start_time": "2021-11-25T20:16:15.249Z"
   },
   {
    "duration": 16,
    "start_time": "2021-11-25T20:16:15.262Z"
   },
   {
    "duration": 76,
    "start_time": "2021-11-25T20:16:15.302Z"
   },
   {
    "duration": 23,
    "start_time": "2021-11-25T20:16:15.401Z"
   },
   {
    "duration": 16,
    "start_time": "2021-11-25T20:16:15.427Z"
   },
   {
    "duration": 14,
    "start_time": "2021-11-25T20:16:15.446Z"
   },
   {
    "duration": 5,
    "start_time": "2021-11-25T20:16:15.505Z"
   },
   {
    "duration": 9,
    "start_time": "2021-11-25T20:16:15.513Z"
   },
   {
    "duration": 8,
    "start_time": "2021-11-25T20:16:15.525Z"
   },
   {
    "duration": 8,
    "start_time": "2021-11-25T20:16:15.535Z"
   },
   {
    "duration": 54,
    "start_time": "2021-11-25T20:16:15.546Z"
   },
   {
    "duration": 11,
    "start_time": "2021-11-25T20:16:15.604Z"
   },
   {
    "duration": 21,
    "start_time": "2021-11-25T20:16:15.618Z"
   },
   {
    "duration": 5,
    "start_time": "2021-11-25T20:16:15.642Z"
   },
   {
    "duration": 50,
    "start_time": "2021-11-25T20:16:15.650Z"
   },
   {
    "duration": 437,
    "start_time": "2021-11-25T20:16:15.703Z"
   },
   {
    "duration": -239,
    "start_time": "2021-11-25T20:16:16.382Z"
   },
   {
    "duration": -250,
    "start_time": "2021-11-25T20:16:16.395Z"
   },
   {
    "duration": -250,
    "start_time": "2021-11-25T20:16:16.396Z"
   },
   {
    "duration": -250,
    "start_time": "2021-11-25T20:16:16.398Z"
   },
   {
    "duration": -248,
    "start_time": "2021-11-25T20:16:16.399Z"
   },
   {
    "duration": -247,
    "start_time": "2021-11-25T20:16:16.400Z"
   },
   {
    "duration": -247,
    "start_time": "2021-11-25T20:16:16.402Z"
   },
   {
    "duration": 380,
    "start_time": "2021-11-25T20:17:11.115Z"
   },
   {
    "duration": 56,
    "start_time": "2021-11-25T20:17:19.481Z"
   },
   {
    "duration": 424,
    "start_time": "2021-11-25T20:17:26.511Z"
   },
   {
    "duration": 56,
    "start_time": "2021-11-25T20:17:35.129Z"
   },
   {
    "duration": 62,
    "start_time": "2021-11-25T20:18:01.641Z"
   },
   {
    "duration": 4,
    "start_time": "2021-11-25T20:19:41.672Z"
   },
   {
    "duration": 4,
    "start_time": "2021-11-25T20:19:42.096Z"
   },
   {
    "duration": 514,
    "start_time": "2021-11-25T20:20:13.779Z"
   },
   {
    "duration": 6,
    "start_time": "2021-11-25T20:21:08.553Z"
   },
   {
    "duration": 41,
    "start_time": "2021-11-25T20:21:08.562Z"
   },
   {
    "duration": 13,
    "start_time": "2021-11-25T20:21:08.607Z"
   },
   {
    "duration": 24,
    "start_time": "2021-11-25T20:21:08.623Z"
   },
   {
    "duration": 99,
    "start_time": "2021-11-25T20:21:08.650Z"
   },
   {
    "duration": 22,
    "start_time": "2021-11-25T20:21:08.752Z"
   },
   {
    "duration": 34,
    "start_time": "2021-11-25T20:21:08.776Z"
   },
   {
    "duration": 16,
    "start_time": "2021-11-25T20:21:08.813Z"
   },
   {
    "duration": 6,
    "start_time": "2021-11-25T20:21:08.834Z"
   },
   {
    "duration": 14,
    "start_time": "2021-11-25T20:21:08.843Z"
   },
   {
    "duration": 9,
    "start_time": "2021-11-25T20:21:08.859Z"
   },
   {
    "duration": 29,
    "start_time": "2021-11-25T20:21:08.871Z"
   },
   {
    "duration": 25,
    "start_time": "2021-11-25T20:21:08.903Z"
   },
   {
    "duration": 11,
    "start_time": "2021-11-25T20:21:08.930Z"
   },
   {
    "duration": 19,
    "start_time": "2021-11-25T20:21:08.943Z"
   },
   {
    "duration": 5,
    "start_time": "2021-11-25T20:21:08.964Z"
   },
   {
    "duration": 20,
    "start_time": "2021-11-25T20:21:08.972Z"
   },
   {
    "duration": 106,
    "start_time": "2021-11-25T20:21:09.000Z"
   },
   {
    "duration": 93,
    "start_time": "2021-11-25T20:21:09.109Z"
   },
   {
    "duration": 7,
    "start_time": "2021-11-25T20:21:09.205Z"
   },
   {
    "duration": 12,
    "start_time": "2021-11-25T20:21:09.214Z"
   },
   {
    "duration": 15,
    "start_time": "2021-11-25T20:21:09.229Z"
   },
   {
    "duration": 418,
    "start_time": "2021-11-25T20:21:09.247Z"
   },
   {
    "duration": -245,
    "start_time": "2021-11-25T20:21:09.912Z"
   },
   {
    "duration": -245,
    "start_time": "2021-11-25T20:21:09.913Z"
   },
   {
    "duration": -246,
    "start_time": "2021-11-25T20:21:09.915Z"
   },
   {
    "duration": 4,
    "start_time": "2021-11-25T20:22:38.503Z"
   },
   {
    "duration": 370,
    "start_time": "2021-11-25T20:22:38.903Z"
   },
   {
    "duration": 4,
    "start_time": "2021-11-25T20:23:01.202Z"
   },
   {
    "duration": 4,
    "start_time": "2021-11-25T20:23:01.621Z"
   },
   {
    "duration": 397,
    "start_time": "2021-11-25T20:23:13.183Z"
   },
   {
    "duration": 4,
    "start_time": "2021-11-25T20:23:32.329Z"
   },
   {
    "duration": 6258,
    "start_time": "2021-11-25T20:23:33.744Z"
   },
   {
    "duration": 17,
    "start_time": "2021-11-25T20:24:03.937Z"
   },
   {
    "duration": 347,
    "start_time": "2021-11-25T20:24:29.385Z"
   },
   {
    "duration": 363,
    "start_time": "2021-11-25T20:24:54.246Z"
   },
   {
    "duration": 4,
    "start_time": "2021-11-25T20:25:44.397Z"
   },
   {
    "duration": 5,
    "start_time": "2021-11-25T20:25:50.133Z"
   },
   {
    "duration": 6374,
    "start_time": "2021-11-25T20:25:51.260Z"
   },
   {
    "duration": 5,
    "start_time": "2021-11-25T20:26:12.084Z"
   },
   {
    "duration": 23,
    "start_time": "2021-11-25T20:26:56.081Z"
   },
   {
    "duration": 6,
    "start_time": "2021-11-25T20:30:12.819Z"
   },
   {
    "duration": 6,
    "start_time": "2021-11-25T20:30:44.723Z"
   },
   {
    "duration": 30,
    "start_time": "2021-11-25T20:30:58.864Z"
   },
   {
    "duration": 7,
    "start_time": "2021-11-25T20:31:03.762Z"
   },
   {
    "duration": 29,
    "start_time": "2021-11-25T20:31:20.171Z"
   },
   {
    "duration": 9,
    "start_time": "2021-11-25T20:31:29.717Z"
   },
   {
    "duration": 710,
    "start_time": "2021-11-25T20:31:52.397Z"
   },
   {
    "duration": 6,
    "start_time": "2021-11-25T20:32:10.352Z"
   },
   {
    "duration": 21,
    "start_time": "2021-11-25T20:32:17.730Z"
   },
   {
    "duration": 27,
    "start_time": "2021-11-25T20:32:25.262Z"
   },
   {
    "duration": 11,
    "start_time": "2021-11-25T20:32:32.376Z"
   },
   {
    "duration": 30,
    "start_time": "2021-11-25T20:32:34.520Z"
   },
   {
    "duration": 710,
    "start_time": "2021-11-25T20:33:31.704Z"
   },
   {
    "duration": 34,
    "start_time": "2021-11-25T20:33:40.520Z"
   },
   {
    "duration": 30,
    "start_time": "2021-11-25T20:33:42.642Z"
   },
   {
    "duration": 29,
    "start_time": "2021-11-25T20:33:44.675Z"
   },
   {
    "duration": 15,
    "start_time": "2021-11-25T20:33:58.719Z"
   },
   {
    "duration": 17706,
    "start_time": "2021-11-25T20:34:09.968Z"
   },
   {
    "duration": 17,
    "start_time": "2021-11-25T20:34:44.225Z"
   },
   {
    "duration": 9,
    "start_time": "2021-11-25T20:36:24.034Z"
   },
   {
    "duration": 31,
    "start_time": "2021-11-25T20:37:03.978Z"
   },
   {
    "duration": 12963,
    "start_time": "2021-11-25T20:37:10.468Z"
   },
   {
    "duration": 18,
    "start_time": "2021-11-25T20:37:26.922Z"
   },
   {
    "duration": 4,
    "start_time": "2021-11-25T20:37:42.811Z"
   },
   {
    "duration": 3,
    "start_time": "2021-11-25T20:37:43.243Z"
   },
   {
    "duration": 4,
    "start_time": "2021-11-25T20:37:43.453Z"
   },
   {
    "duration": 8501,
    "start_time": "2021-11-25T20:37:43.647Z"
   },
   {
    "duration": 17,
    "start_time": "2021-11-25T20:37:52.151Z"
   },
   {
    "duration": 65,
    "start_time": "2021-11-25T20:37:52.171Z"
   },
   {
    "duration": 5,
    "start_time": "2021-11-25T20:37:52.239Z"
   },
   {
    "duration": 11,
    "start_time": "2021-11-25T20:37:52.247Z"
   },
   {
    "duration": 61,
    "start_time": "2021-11-25T20:37:52.261Z"
   },
   {
    "duration": 10,
    "start_time": "2021-11-25T20:37:52.325Z"
   },
   {
    "duration": 90,
    "start_time": "2021-11-25T20:37:52.338Z"
   },
   {
    "duration": 32482,
    "start_time": "2021-11-25T20:37:52.431Z"
   },
   {
    "duration": 16,
    "start_time": "2021-11-25T20:38:24.915Z"
   },
   {
    "duration": 86,
    "start_time": "2021-11-25T20:38:24.933Z"
   },
   {
    "duration": 27331,
    "start_time": "2021-11-25T20:38:25.021Z"
   },
   {
    "duration": 18,
    "start_time": "2021-11-25T20:38:52.355Z"
   },
   {
    "duration": 7,
    "start_time": "2021-11-25T20:40:29.704Z"
   },
   {
    "duration": 47,
    "start_time": "2021-11-25T20:40:29.713Z"
   },
   {
    "duration": 11,
    "start_time": "2021-11-25T20:40:29.763Z"
   },
   {
    "duration": 32,
    "start_time": "2021-11-25T20:40:29.777Z"
   },
   {
    "duration": 91,
    "start_time": "2021-11-25T20:40:29.812Z"
   },
   {
    "duration": 20,
    "start_time": "2021-11-25T20:40:29.906Z"
   },
   {
    "duration": 15,
    "start_time": "2021-11-25T20:40:29.928Z"
   },
   {
    "duration": 12,
    "start_time": "2021-11-25T20:40:29.946Z"
   },
   {
    "duration": 39,
    "start_time": "2021-11-25T20:40:29.962Z"
   },
   {
    "duration": 8,
    "start_time": "2021-11-25T20:40:30.005Z"
   },
   {
    "duration": 22,
    "start_time": "2021-11-25T20:40:30.015Z"
   },
   {
    "duration": 9,
    "start_time": "2021-11-25T20:40:30.040Z"
   },
   {
    "duration": 16,
    "start_time": "2021-11-25T20:40:30.051Z"
   },
   {
    "duration": 15,
    "start_time": "2021-11-25T20:40:30.070Z"
   },
   {
    "duration": 24,
    "start_time": "2021-11-25T20:40:30.100Z"
   },
   {
    "duration": 5,
    "start_time": "2021-11-25T20:40:30.127Z"
   },
   {
    "duration": 14,
    "start_time": "2021-11-25T20:40:30.134Z"
   },
   {
    "duration": 152,
    "start_time": "2021-11-25T20:40:30.151Z"
   },
   {
    "duration": 95,
    "start_time": "2021-11-25T20:40:30.305Z"
   },
   {
    "duration": 14,
    "start_time": "2021-11-25T20:40:30.403Z"
   },
   {
    "duration": 20,
    "start_time": "2021-11-25T20:40:30.420Z"
   },
   {
    "duration": 16,
    "start_time": "2021-11-25T20:40:30.442Z"
   },
   {
    "duration": 12,
    "start_time": "2021-11-25T20:40:30.460Z"
   },
   {
    "duration": 7,
    "start_time": "2021-11-25T20:40:30.475Z"
   },
   {
    "duration": 4416,
    "start_time": "2021-11-25T20:40:30.484Z"
   },
   {
    "duration": 16,
    "start_time": "2021-11-25T20:40:34.902Z"
   },
   {
    "duration": 21,
    "start_time": "2021-11-25T20:40:34.923Z"
   },
   {
    "duration": 5,
    "start_time": "2021-11-25T20:40:34.946Z"
   },
   {
    "duration": 49,
    "start_time": "2021-11-25T20:40:34.954Z"
   },
   {
    "duration": 42,
    "start_time": "2021-11-25T20:40:35.006Z"
   },
   {
    "duration": 8,
    "start_time": "2021-11-25T20:40:35.050Z"
   },
   {
    "duration": 44,
    "start_time": "2021-11-25T20:40:35.061Z"
   },
   {
    "duration": 6078,
    "start_time": "2021-11-25T20:40:35.107Z"
   },
   {
    "duration": 23,
    "start_time": "2021-11-25T20:40:41.187Z"
   },
   {
    "duration": 19,
    "start_time": "2021-11-25T20:40:41.213Z"
   },
   {
    "duration": 3684,
    "start_time": "2021-11-25T20:40:41.234Z"
   },
   {
    "duration": 16,
    "start_time": "2021-11-25T20:40:44.921Z"
   },
   {
    "duration": 555,
    "start_time": "2021-11-25T20:41:16.569Z"
   },
   {
    "duration": 4,
    "start_time": "2021-11-25T20:41:24.290Z"
   },
   {
    "duration": 782,
    "start_time": "2021-11-25T20:42:52.576Z"
   },
   {
    "duration": 7,
    "start_time": "2021-11-25T20:42:58.224Z"
   },
   {
    "duration": 4,
    "start_time": "2021-11-25T20:43:04.097Z"
   },
   {
    "duration": 2147,
    "start_time": "2021-11-25T20:43:05.156Z"
   },
   {
    "duration": 1995,
    "start_time": "2021-11-25T20:43:26.407Z"
   },
   {
    "duration": 7,
    "start_time": "2021-11-25T20:44:05.894Z"
   },
   {
    "duration": 47,
    "start_time": "2021-11-25T20:44:05.905Z"
   },
   {
    "duration": 12,
    "start_time": "2021-11-25T20:44:05.955Z"
   },
   {
    "duration": 12,
    "start_time": "2021-11-25T20:44:06.002Z"
   },
   {
    "duration": 91,
    "start_time": "2021-11-25T20:44:06.017Z"
   },
   {
    "duration": 19,
    "start_time": "2021-11-25T20:44:06.111Z"
   },
   {
    "duration": 22,
    "start_time": "2021-11-25T20:44:06.132Z"
   },
   {
    "duration": 12,
    "start_time": "2021-11-25T20:44:06.157Z"
   },
   {
    "duration": 4,
    "start_time": "2021-11-25T20:44:06.202Z"
   },
   {
    "duration": 12,
    "start_time": "2021-11-25T20:44:06.209Z"
   },
   {
    "duration": 8,
    "start_time": "2021-11-25T20:44:06.223Z"
   },
   {
    "duration": 8,
    "start_time": "2021-11-25T20:44:06.234Z"
   },
   {
    "duration": 9,
    "start_time": "2021-11-25T20:44:06.244Z"
   },
   {
    "duration": 11,
    "start_time": "2021-11-25T20:44:06.256Z"
   },
   {
    "duration": 19,
    "start_time": "2021-11-25T20:44:06.301Z"
   },
   {
    "duration": 5,
    "start_time": "2021-11-25T20:44:06.322Z"
   },
   {
    "duration": 11,
    "start_time": "2021-11-25T20:44:06.329Z"
   },
   {
    "duration": 1983,
    "start_time": "2021-11-25T20:44:06.343Z"
   },
   {
    "duration": 6,
    "start_time": "2021-11-25T20:44:08.400Z"
   },
   {
    "duration": 96,
    "start_time": "2021-11-25T20:44:08.409Z"
   },
   {
    "duration": 5,
    "start_time": "2021-11-25T20:44:08.508Z"
   },
   {
    "duration": 6,
    "start_time": "2021-11-25T20:44:08.515Z"
   },
   {
    "duration": 5,
    "start_time": "2021-11-25T20:44:08.524Z"
   },
   {
    "duration": 6,
    "start_time": "2021-11-25T20:44:08.532Z"
   },
   {
    "duration": 4215,
    "start_time": "2021-11-25T20:44:08.540Z"
   },
   {
    "duration": 16,
    "start_time": "2021-11-25T20:44:12.757Z"
   },
   {
    "duration": 39,
    "start_time": "2021-11-25T20:44:12.778Z"
   },
   {
    "duration": 5,
    "start_time": "2021-11-25T20:44:12.820Z"
   },
   {
    "duration": 10,
    "start_time": "2021-11-25T20:44:12.827Z"
   },
   {
    "duration": 38,
    "start_time": "2021-11-25T20:44:12.840Z"
   },
   {
    "duration": 8,
    "start_time": "2021-11-25T20:44:12.900Z"
   },
   {
    "duration": 24,
    "start_time": "2021-11-25T20:44:12.911Z"
   },
   {
    "duration": 6050,
    "start_time": "2021-11-25T20:44:12.938Z"
   },
   {
    "duration": 23,
    "start_time": "2021-11-25T20:44:18.991Z"
   },
   {
    "duration": 18,
    "start_time": "2021-11-25T20:44:19.017Z"
   },
   {
    "duration": 3467,
    "start_time": "2021-11-25T20:44:19.037Z"
   },
   {
    "duration": 16,
    "start_time": "2021-11-25T20:44:22.506Z"
   },
   {
    "duration": 7,
    "start_time": "2021-11-25T20:44:44.269Z"
   },
   {
    "duration": 45,
    "start_time": "2021-11-25T20:44:44.278Z"
   },
   {
    "duration": 11,
    "start_time": "2021-11-25T20:44:44.327Z"
   },
   {
    "duration": 13,
    "start_time": "2021-11-25T20:44:44.341Z"
   },
   {
    "duration": 104,
    "start_time": "2021-11-25T20:44:44.356Z"
   },
   {
    "duration": 37,
    "start_time": "2021-11-25T20:44:44.463Z"
   },
   {
    "duration": 17,
    "start_time": "2021-11-25T20:44:44.504Z"
   },
   {
    "duration": 14,
    "start_time": "2021-11-25T20:44:44.524Z"
   },
   {
    "duration": 4,
    "start_time": "2021-11-25T20:44:44.544Z"
   },
   {
    "duration": 50,
    "start_time": "2021-11-25T20:44:44.552Z"
   },
   {
    "duration": 8,
    "start_time": "2021-11-25T20:44:44.606Z"
   },
   {
    "duration": 9,
    "start_time": "2021-11-25T20:44:44.617Z"
   },
   {
    "duration": 8,
    "start_time": "2021-11-25T20:44:44.628Z"
   },
   {
    "duration": 10,
    "start_time": "2021-11-25T20:44:44.639Z"
   },
   {
    "duration": 67,
    "start_time": "2021-11-25T20:44:44.652Z"
   },
   {
    "duration": 5,
    "start_time": "2021-11-25T20:44:44.722Z"
   },
   {
    "duration": 6,
    "start_time": "2021-11-25T20:44:44.730Z"
   },
   {
    "duration": 2063,
    "start_time": "2021-11-25T20:44:44.739Z"
   },
   {
    "duration": 96,
    "start_time": "2021-11-25T20:44:46.805Z"
   },
   {
    "duration": 21,
    "start_time": "2021-11-25T20:44:46.903Z"
   },
   {
    "duration": 23,
    "start_time": "2021-11-25T20:44:46.926Z"
   },
   {
    "duration": 25,
    "start_time": "2021-11-25T20:44:46.951Z"
   },
   {
    "duration": 23,
    "start_time": "2021-11-25T20:44:46.978Z"
   },
   {
    "duration": 31,
    "start_time": "2021-11-25T20:44:47.003Z"
   },
   {
    "duration": 4350,
    "start_time": "2021-11-25T20:44:47.037Z"
   },
   {
    "duration": 23,
    "start_time": "2021-11-25T20:44:51.389Z"
   },
   {
    "duration": 32,
    "start_time": "2021-11-25T20:44:51.417Z"
   },
   {
    "duration": 5,
    "start_time": "2021-11-25T20:44:51.452Z"
   },
   {
    "duration": 17,
    "start_time": "2021-11-25T20:44:51.460Z"
   },
   {
    "duration": 56,
    "start_time": "2021-11-25T20:44:51.480Z"
   },
   {
    "duration": 20,
    "start_time": "2021-11-25T20:44:51.538Z"
   },
   {
    "duration": 27,
    "start_time": "2021-11-25T20:44:51.560Z"
   },
   {
    "duration": 6218,
    "start_time": "2021-11-25T20:44:51.591Z"
   },
   {
    "duration": 18,
    "start_time": "2021-11-25T20:44:57.811Z"
   },
   {
    "duration": 21,
    "start_time": "2021-11-25T20:44:57.832Z"
   },
   {
    "duration": 4108,
    "start_time": "2021-11-25T20:44:57.856Z"
   },
   {
    "duration": 35,
    "start_time": "2021-11-25T20:45:01.967Z"
   },
   {
    "duration": 7,
    "start_time": "2021-11-25T21:39:18.978Z"
   },
   {
    "duration": 41,
    "start_time": "2021-11-25T21:39:18.988Z"
   },
   {
    "duration": 12,
    "start_time": "2021-11-25T21:39:19.033Z"
   },
   {
    "duration": 15,
    "start_time": "2021-11-25T21:39:19.048Z"
   },
   {
    "duration": 100,
    "start_time": "2021-11-25T21:39:19.102Z"
   },
   {
    "duration": 20,
    "start_time": "2021-11-25T21:39:19.205Z"
   },
   {
    "duration": 19,
    "start_time": "2021-11-25T21:39:19.228Z"
   },
   {
    "duration": 50,
    "start_time": "2021-11-25T21:39:19.250Z"
   },
   {
    "duration": 5,
    "start_time": "2021-11-25T21:39:19.306Z"
   },
   {
    "duration": 27,
    "start_time": "2021-11-25T21:39:19.315Z"
   },
   {
    "duration": 8,
    "start_time": "2021-11-25T21:39:19.345Z"
   },
   {
    "duration": 8,
    "start_time": "2021-11-25T21:39:19.356Z"
   },
   {
    "duration": 39,
    "start_time": "2021-11-25T21:39:19.367Z"
   },
   {
    "duration": 20,
    "start_time": "2021-11-25T21:39:19.409Z"
   },
   {
    "duration": 21,
    "start_time": "2021-11-25T21:39:19.432Z"
   },
   {
    "duration": 6,
    "start_time": "2021-11-25T21:39:19.455Z"
   },
   {
    "duration": 37,
    "start_time": "2021-11-25T21:39:19.465Z"
   },
   {
    "duration": 1915,
    "start_time": "2021-11-25T21:39:19.506Z"
   },
   {
    "duration": 7,
    "start_time": "2021-11-25T21:39:21.503Z"
   },
   {
    "duration": 8,
    "start_time": "2021-11-25T21:39:21.602Z"
   },
   {
    "duration": 19,
    "start_time": "2021-11-25T21:39:21.612Z"
   },
   {
    "duration": 7,
    "start_time": "2021-11-25T21:39:21.634Z"
   },
   {
    "duration": 4,
    "start_time": "2021-11-25T21:39:21.644Z"
   },
   {
    "duration": 6,
    "start_time": "2021-11-25T21:39:21.650Z"
   },
   {
    "duration": 437,
    "start_time": "2021-11-25T21:39:21.658Z"
   },
   {
    "duration": 556,
    "start_time": "2021-11-25T21:39:21.542Z"
   },
   {
    "duration": 553,
    "start_time": "2021-11-25T21:39:21.546Z"
   },
   {
    "duration": 550,
    "start_time": "2021-11-25T21:39:21.551Z"
   },
   {
    "duration": 525,
    "start_time": "2021-11-25T21:39:21.577Z"
   },
   {
    "duration": 521,
    "start_time": "2021-11-25T21:39:21.582Z"
   },
   {
    "duration": 519,
    "start_time": "2021-11-25T21:39:21.586Z"
   },
   {
    "duration": 515,
    "start_time": "2021-11-25T21:39:21.591Z"
   },
   {
    "duration": 513,
    "start_time": "2021-11-25T21:39:21.595Z"
   },
   {
    "duration": 510,
    "start_time": "2021-11-25T21:39:21.599Z"
   },
   {
    "duration": 496,
    "start_time": "2021-11-25T21:39:21.614Z"
   },
   {
    "duration": 493,
    "start_time": "2021-11-25T21:39:21.619Z"
   },
   {
    "duration": 490,
    "start_time": "2021-11-25T21:39:21.623Z"
   },
   {
    "duration": 7,
    "start_time": "2021-11-25T21:40:15.810Z"
   },
   {
    "duration": 37,
    "start_time": "2021-11-25T21:40:15.820Z"
   },
   {
    "duration": 10,
    "start_time": "2021-11-25T21:40:15.860Z"
   },
   {
    "duration": 36,
    "start_time": "2021-11-25T21:40:15.872Z"
   },
   {
    "duration": 91,
    "start_time": "2021-11-25T21:40:15.911Z"
   },
   {
    "duration": 19,
    "start_time": "2021-11-25T21:40:16.004Z"
   },
   {
    "duration": 15,
    "start_time": "2021-11-25T21:40:16.026Z"
   },
   {
    "duration": 16,
    "start_time": "2021-11-25T21:40:16.044Z"
   },
   {
    "duration": 37,
    "start_time": "2021-11-25T21:40:16.064Z"
   },
   {
    "duration": 7,
    "start_time": "2021-11-25T21:40:16.104Z"
   },
   {
    "duration": 7,
    "start_time": "2021-11-25T21:40:16.113Z"
   },
   {
    "duration": 9,
    "start_time": "2021-11-25T21:40:16.122Z"
   },
   {
    "duration": 9,
    "start_time": "2021-11-25T21:40:16.134Z"
   },
   {
    "duration": 16,
    "start_time": "2021-11-25T21:40:16.145Z"
   },
   {
    "duration": 48,
    "start_time": "2021-11-25T21:40:16.163Z"
   },
   {
    "duration": 4,
    "start_time": "2021-11-25T21:40:16.214Z"
   },
   {
    "duration": 9,
    "start_time": "2021-11-25T21:40:16.220Z"
   },
   {
    "duration": 1869,
    "start_time": "2021-11-25T21:40:16.232Z"
   },
   {
    "duration": 96,
    "start_time": "2021-11-25T21:40:18.105Z"
   },
   {
    "duration": 7,
    "start_time": "2021-11-25T21:40:18.203Z"
   },
   {
    "duration": 8,
    "start_time": "2021-11-25T21:40:18.212Z"
   },
   {
    "duration": 6,
    "start_time": "2021-11-25T21:40:18.222Z"
   },
   {
    "duration": 5,
    "start_time": "2021-11-25T21:40:18.231Z"
   },
   {
    "duration": 7,
    "start_time": "2021-11-25T21:40:18.238Z"
   },
   {
    "duration": 382205,
    "start_time": "2021-11-25T21:40:18.247Z"
   },
   {
    "duration": -231,
    "start_time": "2021-11-25T21:46:40.686Z"
   },
   {
    "duration": -244,
    "start_time": "2021-11-25T21:46:40.701Z"
   },
   {
    "duration": -249,
    "start_time": "2021-11-25T21:46:40.707Z"
   },
   {
    "duration": -258,
    "start_time": "2021-11-25T21:46:40.717Z"
   },
   {
    "duration": -261,
    "start_time": "2021-11-25T21:46:40.722Z"
   },
   {
    "duration": -271,
    "start_time": "2021-11-25T21:46:40.733Z"
   },
   {
    "duration": -275,
    "start_time": "2021-11-25T21:46:40.738Z"
   },
   {
    "duration": -279,
    "start_time": "2021-11-25T21:46:40.744Z"
   },
   {
    "duration": -288,
    "start_time": "2021-11-25T21:46:40.755Z"
   },
   {
    "duration": -291,
    "start_time": "2021-11-25T21:46:40.759Z"
   },
   {
    "duration": -300,
    "start_time": "2021-11-25T21:46:40.770Z"
   },
   {
    "duration": -305,
    "start_time": "2021-11-25T21:46:40.776Z"
   },
   {
    "duration": 1488,
    "start_time": "2021-11-27T12:26:20.073Z"
   },
   {
    "duration": 39,
    "start_time": "2021-11-27T12:26:21.565Z"
   },
   {
    "duration": 19,
    "start_time": "2021-11-27T12:26:21.607Z"
   },
   {
    "duration": 16,
    "start_time": "2021-11-27T12:26:21.628Z"
   },
   {
    "duration": 104,
    "start_time": "2021-11-27T12:26:21.646Z"
   },
   {
    "duration": 19,
    "start_time": "2021-11-27T12:26:21.752Z"
   },
   {
    "duration": 38,
    "start_time": "2021-11-27T12:26:21.773Z"
   },
   {
    "duration": 11,
    "start_time": "2021-11-27T12:26:21.815Z"
   },
   {
    "duration": 5,
    "start_time": "2021-11-27T12:26:21.829Z"
   },
   {
    "duration": 9,
    "start_time": "2021-11-27T12:26:21.836Z"
   },
   {
    "duration": 7,
    "start_time": "2021-11-27T12:26:21.847Z"
   },
   {
    "duration": 45,
    "start_time": "2021-11-27T12:26:21.857Z"
   },
   {
    "duration": 7,
    "start_time": "2021-11-27T12:26:21.904Z"
   },
   {
    "duration": 12,
    "start_time": "2021-11-27T12:26:21.914Z"
   },
   {
    "duration": 22,
    "start_time": "2021-11-27T12:26:21.928Z"
   },
   {
    "duration": 5,
    "start_time": "2021-11-27T12:26:21.952Z"
   },
   {
    "duration": 40,
    "start_time": "2021-11-27T12:26:21.960Z"
   },
   {
    "duration": 2200,
    "start_time": "2021-11-27T12:26:22.003Z"
   },
   {
    "duration": 94,
    "start_time": "2021-11-27T12:26:24.207Z"
   },
   {
    "duration": 5,
    "start_time": "2021-11-27T12:26:24.303Z"
   },
   {
    "duration": 10,
    "start_time": "2021-11-27T12:26:24.311Z"
   },
   {
    "duration": 6,
    "start_time": "2021-11-27T12:26:24.324Z"
   },
   {
    "duration": 4,
    "start_time": "2021-11-27T12:26:24.336Z"
   },
   {
    "duration": 6,
    "start_time": "2021-11-27T12:26:24.343Z"
   },
   {
    "duration": 757522,
    "start_time": "2021-11-27T12:26:24.351Z"
   },
   {
    "duration": 30,
    "start_time": "2021-11-27T12:39:01.876Z"
   },
   {
    "duration": 29,
    "start_time": "2021-11-27T12:39:01.908Z"
   },
   {
    "duration": 6,
    "start_time": "2021-11-27T12:39:01.939Z"
   },
   {
    "duration": 12,
    "start_time": "2021-11-27T12:39:01.948Z"
   },
   {
    "duration": 53,
    "start_time": "2021-11-27T12:39:01.962Z"
   },
   {
    "duration": 8,
    "start_time": "2021-11-27T12:39:02.017Z"
   },
   {
    "duration": 37,
    "start_time": "2021-11-27T12:39:02.027Z"
   },
   {
    "duration": 1123606,
    "start_time": "2021-11-27T12:39:02.067Z"
   },
   {
    "duration": 31,
    "start_time": "2021-11-27T12:57:45.676Z"
   },
   {
    "duration": 20,
    "start_time": "2021-11-27T12:57:45.710Z"
   },
   {
    "duration": 623156,
    "start_time": "2021-11-27T12:57:45.733Z"
   },
   {
    "duration": 17,
    "start_time": "2021-11-27T13:08:08.899Z"
   },
   {
    "duration": 5,
    "start_time": "2021-11-27T13:49:19.912Z"
   },
   {
    "duration": 498,
    "start_time": "2021-11-27T13:49:26.359Z"
   },
   {
    "duration": 345,
    "start_time": "2021-11-27T13:49:33.417Z"
   },
   {
    "duration": 7,
    "start_time": "2021-11-27T13:49:51.197Z"
   },
   {
    "duration": 6,
    "start_time": "2021-11-27T13:49:54.726Z"
   },
   {
    "duration": 6,
    "start_time": "2021-11-27T13:50:07.944Z"
   },
   {
    "duration": 7,
    "start_time": "2021-11-27T13:51:26.869Z"
   },
   {
    "duration": 383,
    "start_time": "2021-11-27T13:51:36.493Z"
   },
   {
    "duration": 6,
    "start_time": "2021-11-27T13:51:39.936Z"
   },
   {
    "duration": 6,
    "start_time": "2021-11-27T13:53:08.518Z"
   },
   {
    "duration": 138,
    "start_time": "2021-11-27T13:53:08.802Z"
   },
   {
    "duration": 9,
    "start_time": "2021-11-27T13:53:09.149Z"
   },
   {
    "duration": 11,
    "start_time": "2021-11-27T13:53:09.751Z"
   },
   {
    "duration": 74,
    "start_time": "2021-11-27T13:53:10.431Z"
   },
   {
    "duration": 20,
    "start_time": "2021-11-27T13:53:10.766Z"
   },
   {
    "duration": 14,
    "start_time": "2021-11-27T13:53:11.561Z"
   },
   {
    "duration": 13,
    "start_time": "2021-11-27T13:53:11.917Z"
   },
   {
    "duration": 5,
    "start_time": "2021-11-27T13:53:12.797Z"
   },
   {
    "duration": 7,
    "start_time": "2021-11-27T13:53:13.404Z"
   },
   {
    "duration": 7,
    "start_time": "2021-11-27T13:53:13.734Z"
   },
   {
    "duration": 6,
    "start_time": "2021-11-27T13:53:14.461Z"
   },
   {
    "duration": 6,
    "start_time": "2021-11-27T13:53:16.583Z"
   },
   {
    "duration": 8,
    "start_time": "2021-11-27T13:53:17.429Z"
   },
   {
    "duration": 19,
    "start_time": "2021-11-27T13:53:18.691Z"
   },
   {
    "duration": 5,
    "start_time": "2021-11-27T13:53:19.290Z"
   },
   {
    "duration": 376,
    "start_time": "2021-11-27T13:53:22.377Z"
   },
   {
    "duration": 332,
    "start_time": "2021-11-27T13:53:29.372Z"
   },
   {
    "duration": 7,
    "start_time": "2021-11-27T13:53:40.664Z"
   },
   {
    "duration": 5,
    "start_time": "2021-11-27T13:53:45.767Z"
   },
   {
    "duration": 5,
    "start_time": "2021-11-27T13:54:48.040Z"
   },
   {
    "duration": 4,
    "start_time": "2021-11-27T13:54:48.543Z"
   },
   {
    "duration": 23065,
    "start_time": "2021-11-27T13:54:51.636Z"
   },
   {
    "duration": 5,
    "start_time": "2021-11-27T13:55:32.719Z"
   },
   {
    "duration": 4,
    "start_time": "2021-11-27T13:55:33.153Z"
   },
   {
    "duration": 1264,
    "start_time": "2021-11-27T13:55:33.638Z"
   },
   {
    "duration": 4,
    "start_time": "2021-11-27T13:56:20.138Z"
   },
   {
    "duration": 3,
    "start_time": "2021-11-27T13:56:20.668Z"
   },
   {
    "duration": 8661,
    "start_time": "2021-11-27T13:56:21.342Z"
   },
   {
    "duration": 7,
    "start_time": "2021-11-27T13:56:51.914Z"
   },
   {
    "duration": 4,
    "start_time": "2021-11-27T13:56:59.114Z"
   },
   {
    "duration": 4,
    "start_time": "2021-11-27T13:57:00.875Z"
   },
   {
    "duration": 23341,
    "start_time": "2021-11-27T13:57:02.462Z"
   },
   {
    "duration": 5,
    "start_time": "2021-11-27T13:57:55.380Z"
   },
   {
    "duration": 4,
    "start_time": "2021-11-27T13:57:57.875Z"
   },
   {
    "duration": 4,
    "start_time": "2021-11-27T13:57:58.784Z"
   },
   {
    "duration": 759100,
    "start_time": "2021-11-27T13:57:59.955Z"
   },
   {
    "duration": 15,
    "start_time": "2021-11-27T14:13:51.425Z"
   },
   {
    "duration": 23,
    "start_time": "2021-11-27T14:13:52.357Z"
   },
   {
    "duration": 18,
    "start_time": "2021-11-27T14:14:42.412Z"
   },
   {
    "duration": 310209,
    "start_time": "2021-11-27T14:14:42.921Z"
   },
   {
    "duration": 5,
    "start_time": "2021-11-27T14:19:53.133Z"
   },
   {
    "duration": 18,
    "start_time": "2021-11-27T14:31:06.210Z"
   },
   {
    "duration": 5,
    "start_time": "2021-11-27T14:31:06.468Z"
   },
   {
    "duration": 5,
    "start_time": "2021-11-27T14:31:06.724Z"
   },
   {
    "duration": 4,
    "start_time": "2021-11-27T14:31:07.069Z"
   },
   {
    "duration": 22947,
    "start_time": "2021-11-27T14:31:07.456Z"
   },
   {
    "duration": 94,
    "start_time": "2021-11-27T14:31:30.407Z"
   },
   {
    "duration": 10,
    "start_time": "2021-11-27T14:31:30.504Z"
   },
   {
    "duration": 14,
    "start_time": "2021-11-27T14:31:30.517Z"
   },
   {
    "duration": 15,
    "start_time": "2021-11-27T14:31:30.533Z"
   },
   {
    "duration": 4287,
    "start_time": "2021-11-27T14:31:30.550Z"
   },
   {
    "duration": 16,
    "start_time": "2021-11-27T14:31:34.839Z"
   },
   {
    "duration": 45,
    "start_time": "2021-11-27T14:31:34.858Z"
   },
   {
    "duration": 5,
    "start_time": "2021-11-27T14:31:34.906Z"
   },
   {
    "duration": 4,
    "start_time": "2021-11-27T14:31:34.913Z"
   },
   {
    "duration": 128,
    "start_time": "2021-11-27T14:32:15.256Z"
   },
   {
    "duration": 4,
    "start_time": "2021-11-27T14:32:28.274Z"
   },
   {
    "duration": 3,
    "start_time": "2021-11-27T14:32:44.216Z"
   },
   {
    "duration": 17,
    "start_time": "2021-11-27T14:32:58.113Z"
   },
   {
    "duration": 28,
    "start_time": "2021-11-27T14:33:07.978Z"
   },
   {
    "duration": 26,
    "start_time": "2021-11-27T14:33:13.088Z"
   },
   {
    "duration": 5,
    "start_time": "2021-11-27T14:33:16.513Z"
   },
   {
    "duration": 4,
    "start_time": "2021-11-27T14:33:26.646Z"
   },
   {
    "duration": 7,
    "start_time": "2021-11-27T14:33:33.884Z"
   },
   {
    "duration": 40,
    "start_time": "2021-11-27T14:33:33.893Z"
   },
   {
    "duration": 10,
    "start_time": "2021-11-27T14:33:33.936Z"
   },
   {
    "duration": 12,
    "start_time": "2021-11-27T14:33:33.948Z"
   },
   {
    "duration": 107,
    "start_time": "2021-11-27T14:33:33.962Z"
   },
   {
    "duration": 30,
    "start_time": "2021-11-27T14:33:34.071Z"
   },
   {
    "duration": 14,
    "start_time": "2021-11-27T14:33:34.103Z"
   },
   {
    "duration": 12,
    "start_time": "2021-11-27T14:33:34.119Z"
   },
   {
    "duration": 4,
    "start_time": "2021-11-27T14:33:34.135Z"
   },
   {
    "duration": 9,
    "start_time": "2021-11-27T14:33:34.142Z"
   },
   {
    "duration": 49,
    "start_time": "2021-11-27T14:33:34.153Z"
   },
   {
    "duration": 7,
    "start_time": "2021-11-27T14:33:34.205Z"
   },
   {
    "duration": 8,
    "start_time": "2021-11-27T14:33:34.215Z"
   },
   {
    "duration": 12,
    "start_time": "2021-11-27T14:33:34.226Z"
   },
   {
    "duration": 70,
    "start_time": "2021-11-27T14:33:34.241Z"
   },
   {
    "duration": 7,
    "start_time": "2021-11-27T14:33:34.313Z"
   },
   {
    "duration": 10,
    "start_time": "2021-11-27T14:33:34.322Z"
   },
   {
    "duration": 7,
    "start_time": "2021-11-27T14:33:34.335Z"
   },
   {
    "duration": 23457,
    "start_time": "2021-11-27T14:33:34.344Z"
   },
   {
    "duration": 91,
    "start_time": "2021-11-27T14:33:57.810Z"
   },
   {
    "duration": 11,
    "start_time": "2021-11-27T14:33:57.904Z"
   },
   {
    "duration": 8,
    "start_time": "2021-11-27T14:33:57.918Z"
   },
   {
    "duration": 10,
    "start_time": "2021-11-27T14:33:57.929Z"
   },
   {
    "duration": 6080,
    "start_time": "2021-11-27T14:33:57.941Z"
   },
   {
    "duration": 15,
    "start_time": "2021-11-27T14:34:04.024Z"
   },
   {
    "duration": 21,
    "start_time": "2021-11-27T14:34:04.041Z"
   },
   {
    "duration": 34,
    "start_time": "2021-11-27T14:34:04.067Z"
   },
   {
    "duration": 8,
    "start_time": "2021-11-27T14:34:04.104Z"
   },
   {
    "duration": 37,
    "start_time": "2021-11-27T14:34:04.115Z"
   },
   {
    "duration": 7,
    "start_time": "2021-11-27T14:34:04.154Z"
   },
   {
    "duration": 51,
    "start_time": "2021-11-27T14:34:04.164Z"
   },
   {
    "duration": 6299,
    "start_time": "2021-11-27T14:34:04.218Z"
   },
   {
    "duration": 16,
    "start_time": "2021-11-27T14:34:10.519Z"
   },
   {
    "duration": 22,
    "start_time": "2021-11-27T14:34:10.537Z"
   },
   {
    "duration": 3559,
    "start_time": "2021-11-27T14:34:10.562Z"
   },
   {
    "duration": 15,
    "start_time": "2021-11-27T14:34:14.123Z"
   },
   {
    "duration": 381,
    "start_time": "2021-11-27T14:34:14.141Z"
   },
   {
    "duration": -159,
    "start_time": "2021-11-27T14:34:14.683Z"
   },
   {
    "duration": -163,
    "start_time": "2021-11-27T14:34:14.689Z"
   },
   {
    "duration": -164,
    "start_time": "2021-11-27T14:34:14.691Z"
   },
   {
    "duration": -163,
    "start_time": "2021-11-27T14:34:14.692Z"
   },
   {
    "duration": -164,
    "start_time": "2021-11-27T14:34:14.694Z"
   },
   {
    "duration": 7,
    "start_time": "2021-11-27T14:51:42.360Z"
   },
   {
    "duration": 5,
    "start_time": "2021-11-27T14:51:44.111Z"
   },
   {
    "duration": 4,
    "start_time": "2021-11-27T14:51:45.209Z"
   },
   {
    "duration": 367,
    "start_time": "2021-11-27T14:51:46.032Z"
   },
   {
    "duration": 18,
    "start_time": "2021-11-27T15:03:04.452Z"
   },
   {
    "duration": 6,
    "start_time": "2021-11-27T15:03:05.257Z"
   },
   {
    "duration": 5,
    "start_time": "2021-11-27T15:03:06.012Z"
   },
   {
    "duration": 4,
    "start_time": "2021-11-27T15:03:07.358Z"
   },
   {
    "duration": 26731,
    "start_time": "2021-11-27T15:03:09.670Z"
   },
   {
    "duration": 3,
    "start_time": "2021-11-27T15:03:58.717Z"
   },
   {
    "duration": 5,
    "start_time": "2021-11-27T15:03:59.902Z"
   },
   {
    "duration": 5,
    "start_time": "2021-11-27T15:04:04.156Z"
   },
   {
    "duration": 386,
    "start_time": "2021-11-27T15:04:16.599Z"
   },
   {
    "duration": 4,
    "start_time": "2021-11-27T15:04:40.434Z"
   },
   {
    "duration": 4,
    "start_time": "2021-11-27T15:04:42.910Z"
   },
   {
    "duration": 200846,
    "start_time": "2021-11-27T15:18:21.980Z"
   },
   {
    "duration": -230,
    "start_time": "2021-11-27T15:21:43.059Z"
   },
   {
    "duration": -240,
    "start_time": "2021-11-27T15:21:43.070Z"
   },
   {
    "duration": -241,
    "start_time": "2021-11-27T15:21:43.072Z"
   },
   {
    "duration": 8,
    "start_time": "2021-11-27T15:21:46.712Z"
   },
   {
    "duration": 44,
    "start_time": "2021-11-27T15:21:46.724Z"
   },
   {
    "duration": 12,
    "start_time": "2021-11-27T15:21:46.800Z"
   },
   {
    "duration": 11,
    "start_time": "2021-11-27T15:21:46.814Z"
   },
   {
    "duration": 97,
    "start_time": "2021-11-27T15:21:46.827Z"
   },
   {
    "duration": 18,
    "start_time": "2021-11-27T15:21:46.927Z"
   },
   {
    "duration": 16,
    "start_time": "2021-11-27T15:21:46.948Z"
   },
   {
    "duration": 43,
    "start_time": "2021-11-27T15:21:46.967Z"
   },
   {
    "duration": 5,
    "start_time": "2021-11-27T15:21:47.014Z"
   },
   {
    "duration": 9,
    "start_time": "2021-11-27T15:21:47.022Z"
   },
   {
    "duration": 5,
    "start_time": "2021-11-27T15:21:47.033Z"
   },
   {
    "duration": 9,
    "start_time": "2021-11-27T15:21:47.041Z"
   },
   {
    "duration": 11,
    "start_time": "2021-11-27T15:21:47.053Z"
   },
   {
    "duration": 38,
    "start_time": "2021-11-27T15:21:47.066Z"
   },
   {
    "duration": 20,
    "start_time": "2021-11-27T15:21:47.106Z"
   },
   {
    "duration": 5,
    "start_time": "2021-11-27T15:21:47.128Z"
   },
   {
    "duration": 10,
    "start_time": "2021-11-27T15:21:47.135Z"
   },
   {
    "duration": 8,
    "start_time": "2021-11-27T15:21:47.147Z"
   },
   {
    "duration": 1511,
    "start_time": "2021-11-27T15:25:28.688Z"
   },
   {
    "duration": 36,
    "start_time": "2021-11-27T15:25:30.203Z"
   },
   {
    "duration": 19,
    "start_time": "2021-11-27T15:25:30.242Z"
   },
   {
    "duration": 16,
    "start_time": "2021-11-27T15:25:30.264Z"
   },
   {
    "duration": 87,
    "start_time": "2021-11-27T15:25:30.283Z"
   },
   {
    "duration": 38,
    "start_time": "2021-11-27T15:25:30.373Z"
   },
   {
    "duration": 18,
    "start_time": "2021-11-27T15:25:30.414Z"
   },
   {
    "duration": 15,
    "start_time": "2021-11-27T15:25:30.435Z"
   },
   {
    "duration": 19,
    "start_time": "2021-11-27T15:25:30.454Z"
   },
   {
    "duration": 29,
    "start_time": "2021-11-27T15:25:30.478Z"
   },
   {
    "duration": 8,
    "start_time": "2021-11-27T15:25:30.511Z"
   },
   {
    "duration": 31,
    "start_time": "2021-11-27T15:25:30.522Z"
   },
   {
    "duration": 34,
    "start_time": "2021-11-27T15:25:30.556Z"
   },
   {
    "duration": 36,
    "start_time": "2021-11-27T15:25:30.594Z"
   },
   {
    "duration": 41,
    "start_time": "2021-11-27T15:25:30.633Z"
   },
   {
    "duration": 7,
    "start_time": "2021-11-27T15:25:30.677Z"
   },
   {
    "duration": 28,
    "start_time": "2021-11-27T15:25:30.687Z"
   },
   {
    "duration": 12,
    "start_time": "2021-11-27T15:25:30.718Z"
   },
   {
    "duration": 23905,
    "start_time": "2021-11-27T15:25:30.733Z"
   },
   {
    "duration": 5,
    "start_time": "2021-11-27T15:25:54.703Z"
   },
   {
    "duration": 90,
    "start_time": "2021-11-27T15:25:54.713Z"
   },
   {
    "duration": 10,
    "start_time": "2021-11-27T15:25:54.806Z"
   },
   {
    "duration": 8,
    "start_time": "2021-11-27T15:25:54.819Z"
   },
   {
    "duration": 808627,
    "start_time": "2021-11-27T15:25:54.830Z"
   },
   {
    "duration": 16,
    "start_time": "2021-11-27T15:39:23.459Z"
   },
   {
    "duration": 42,
    "start_time": "2021-11-27T15:39:23.478Z"
   },
   {
    "duration": 5,
    "start_time": "2021-11-27T15:39:23.525Z"
   },
   {
    "duration": 16,
    "start_time": "2021-11-27T15:39:23.532Z"
   },
   {
    "duration": 57,
    "start_time": "2021-11-27T15:39:23.551Z"
   },
   {
    "duration": 8,
    "start_time": "2021-11-27T15:39:23.610Z"
   },
   {
    "duration": 28,
    "start_time": "2021-11-27T15:39:23.620Z"
   },
   {
    "duration": 146751,
    "start_time": "2021-11-27T15:39:23.650Z"
   },
   {
    "duration": -231,
    "start_time": "2021-11-27T15:41:50.635Z"
   },
   {
    "duration": -235,
    "start_time": "2021-11-27T15:41:50.641Z"
   },
   {
    "duration": -250,
    "start_time": "2021-11-27T15:41:50.657Z"
   },
   {
    "duration": -250,
    "start_time": "2021-11-27T15:41:50.659Z"
   },
   {
    "duration": -252,
    "start_time": "2021-11-27T15:41:50.662Z"
   },
   {
    "duration": -253,
    "start_time": "2021-11-27T15:41:50.664Z"
   },
   {
    "duration": -253,
    "start_time": "2021-11-27T15:41:50.666Z"
   },
   {
    "duration": -254,
    "start_time": "2021-11-27T15:41:50.668Z"
   },
   {
    "duration": -255,
    "start_time": "2021-11-27T15:41:50.670Z"
   },
   {
    "duration": -256,
    "start_time": "2021-11-27T15:41:50.672Z"
   },
   {
    "duration": -256,
    "start_time": "2021-11-27T15:41:50.675Z"
   },
   {
    "duration": 5,
    "start_time": "2021-11-27T15:41:59.098Z"
   },
   {
    "duration": 6,
    "start_time": "2021-11-27T15:42:31.089Z"
   },
   {
    "duration": 57,
    "start_time": "2021-11-27T15:42:31.098Z"
   },
   {
    "duration": 11,
    "start_time": "2021-11-27T15:42:31.158Z"
   },
   {
    "duration": 41,
    "start_time": "2021-11-27T15:42:31.172Z"
   },
   {
    "duration": 75,
    "start_time": "2021-11-27T15:42:31.215Z"
   },
   {
    "duration": 27,
    "start_time": "2021-11-27T15:42:31.292Z"
   },
   {
    "duration": 39,
    "start_time": "2021-11-27T15:42:31.321Z"
   },
   {
    "duration": 53,
    "start_time": "2021-11-27T15:42:31.363Z"
   },
   {
    "duration": 9,
    "start_time": "2021-11-27T15:42:31.421Z"
   },
   {
    "duration": 33,
    "start_time": "2021-11-27T15:42:31.433Z"
   },
   {
    "duration": 16,
    "start_time": "2021-11-27T15:42:31.468Z"
   },
   {
    "duration": 21,
    "start_time": "2021-11-27T15:42:31.487Z"
   },
   {
    "duration": 25,
    "start_time": "2021-11-27T15:42:31.511Z"
   },
   {
    "duration": 64,
    "start_time": "2021-11-27T15:42:31.539Z"
   },
   {
    "duration": 28,
    "start_time": "2021-11-27T15:42:31.606Z"
   },
   {
    "duration": 9,
    "start_time": "2021-11-27T15:42:31.636Z"
   },
   {
    "duration": 36,
    "start_time": "2021-11-27T15:42:31.647Z"
   },
   {
    "duration": 17,
    "start_time": "2021-11-27T15:42:31.685Z"
   },
   {
    "duration": 24297,
    "start_time": "2021-11-27T15:42:31.705Z"
   },
   {
    "duration": 95,
    "start_time": "2021-11-27T15:42:56.006Z"
   },
   {
    "duration": 5,
    "start_time": "2021-11-27T15:42:56.103Z"
   },
   {
    "duration": 7,
    "start_time": "2021-11-27T15:42:56.111Z"
   },
   {
    "duration": 6,
    "start_time": "2021-11-27T15:42:56.120Z"
   },
   {
    "duration": 166743,
    "start_time": "2021-11-27T15:42:56.129Z"
   },
   {
    "duration": 28,
    "start_time": "2021-11-27T15:45:42.874Z"
   },
   {
    "duration": 21,
    "start_time": "2021-11-27T15:45:42.904Z"
   },
   {
    "duration": 5,
    "start_time": "2021-11-27T15:45:42.930Z"
   },
   {
    "duration": 9,
    "start_time": "2021-11-27T15:45:42.937Z"
   },
   {
    "duration": 64,
    "start_time": "2021-11-27T15:45:42.948Z"
   },
   {
    "duration": 9,
    "start_time": "2021-11-27T15:45:43.014Z"
   },
   {
    "duration": 48,
    "start_time": "2021-11-27T15:45:43.026Z"
   },
   {
    "duration": 249526,
    "start_time": "2021-11-27T15:45:43.076Z"
   },
   {
    "duration": 16,
    "start_time": "2021-11-27T15:49:52.604Z"
   },
   {
    "duration": 19,
    "start_time": "2021-11-27T15:49:52.622Z"
   },
   {
    "duration": 143725,
    "start_time": "2021-11-27T15:49:52.643Z"
   },
   {
    "duration": 37,
    "start_time": "2021-11-27T15:52:16.371Z"
   },
   {
    "duration": 353,
    "start_time": "2021-11-27T15:52:16.411Z"
   },
   {
    "duration": -182,
    "start_time": "2021-11-27T15:52:16.948Z"
   },
   {
    "duration": -186,
    "start_time": "2021-11-27T15:52:16.954Z"
   },
   {
    "duration": -203,
    "start_time": "2021-11-27T15:52:16.972Z"
   },
   {
    "duration": -206,
    "start_time": "2021-11-27T15:52:16.977Z"
   },
   {
    "duration": -211,
    "start_time": "2021-11-27T15:52:16.983Z"
   },
   {
    "duration": 3,
    "start_time": "2021-11-27T15:55:51.692Z"
   },
   {
    "duration": 26,
    "start_time": "2021-11-27T15:55:52.171Z"
   },
   {
    "duration": 18,
    "start_time": "2021-11-27T15:55:52.759Z"
   },
   {
    "duration": 27,
    "start_time": "2021-11-27T15:55:53.167Z"
   },
   {
    "duration": 5,
    "start_time": "2021-11-27T15:55:53.519Z"
   },
   {
    "duration": 249,
    "start_time": "2021-11-27T15:56:47.094Z"
   },
   {
    "duration": 255,
    "start_time": "2021-11-27T15:57:02.027Z"
   },
   {
    "duration": 204,
    "start_time": "2021-11-27T15:57:10.422Z"
   },
   {
    "duration": 405,
    "start_time": "2021-11-27T15:57:13.969Z"
   },
   {
    "duration": 302,
    "start_time": "2021-11-27T15:57:17.371Z"
   },
   {
    "duration": 225,
    "start_time": "2021-11-27T15:59:07.073Z"
   },
   {
    "duration": 608,
    "start_time": "2021-11-27T15:59:15.850Z"
   },
   {
    "duration": 7,
    "start_time": "2021-11-27T15:59:30.424Z"
   },
   {
    "duration": 209,
    "start_time": "2021-11-27T15:59:34.860Z"
   },
   {
    "duration": 7,
    "start_time": "2021-11-27T16:00:10.230Z"
   },
   {
    "duration": 220,
    "start_time": "2021-11-27T16:00:25.520Z"
   },
   {
    "duration": 9,
    "start_time": "2021-11-27T16:00:32.623Z"
   },
   {
    "duration": 26,
    "start_time": "2021-11-27T16:02:19.584Z"
   },
   {
    "duration": 5,
    "start_time": "2021-11-27T16:14:59.181Z"
   },
   {
    "duration": 4,
    "start_time": "2021-11-27T16:17:12.789Z"
   },
   {
    "duration": 4,
    "start_time": "2021-11-27T16:17:31.857Z"
   },
   {
    "duration": 423,
    "start_time": "2021-11-27T16:17:52.337Z"
   },
   {
    "duration": 12,
    "start_time": "2021-11-27T16:19:10.412Z"
   },
   {
    "duration": 48,
    "start_time": "2021-11-27T16:19:10.428Z"
   },
   {
    "duration": 15,
    "start_time": "2021-11-27T16:19:10.503Z"
   },
   {
    "duration": 17,
    "start_time": "2021-11-27T16:19:10.522Z"
   },
   {
    "duration": 104,
    "start_time": "2021-11-27T16:19:10.542Z"
   },
   {
    "duration": 19,
    "start_time": "2021-11-27T16:19:10.648Z"
   },
   {
    "duration": 30,
    "start_time": "2021-11-27T16:19:10.670Z"
   },
   {
    "duration": 15,
    "start_time": "2021-11-27T16:19:10.704Z"
   },
   {
    "duration": 7,
    "start_time": "2021-11-27T16:19:10.722Z"
   },
   {
    "duration": 12,
    "start_time": "2021-11-27T16:19:10.731Z"
   },
   {
    "duration": 7,
    "start_time": "2021-11-27T16:19:10.745Z"
   },
   {
    "duration": 10,
    "start_time": "2021-11-27T16:19:10.754Z"
   },
   {
    "duration": 38,
    "start_time": "2021-11-27T16:19:10.767Z"
   },
   {
    "duration": 12,
    "start_time": "2021-11-27T16:19:10.808Z"
   },
   {
    "duration": 213,
    "start_time": "2021-11-27T16:19:10.822Z"
   },
   {
    "duration": 17,
    "start_time": "2021-11-27T16:19:11.037Z"
   },
   {
    "duration": 6,
    "start_time": "2021-11-27T16:19:11.056Z"
   },
   {
    "duration": 5,
    "start_time": "2021-11-27T16:19:11.100Z"
   },
   {
    "duration": 9,
    "start_time": "2021-11-27T16:19:11.108Z"
   },
   {
    "duration": 24183,
    "start_time": "2021-11-27T16:19:11.120Z"
   },
   {
    "duration": 94,
    "start_time": "2021-11-27T16:19:35.307Z"
   },
   {
    "duration": 8,
    "start_time": "2021-11-27T16:19:35.404Z"
   },
   {
    "duration": 3,
    "start_time": "2021-11-27T16:19:35.419Z"
   },
   {
    "duration": 6,
    "start_time": "2021-11-27T16:19:35.425Z"
   },
   {
    "duration": 8,
    "start_time": "2021-11-27T16:19:35.434Z"
   },
   {
    "duration": 7,
    "start_time": "2021-11-27T16:19:35.445Z"
   },
   {
    "duration": 8,
    "start_time": "2021-11-27T16:19:35.455Z"
   },
   {
    "duration": 10,
    "start_time": "2021-11-27T16:19:35.501Z"
   },
   {
    "duration": 8,
    "start_time": "2021-11-27T16:19:35.513Z"
   },
   {
    "duration": 9,
    "start_time": "2021-11-27T16:19:35.523Z"
   },
   {
    "duration": 9,
    "start_time": "2021-11-27T16:19:35.534Z"
   },
   {
    "duration": 1637,
    "start_time": "2021-11-27T16:46:38.517Z"
   },
   {
    "duration": 37,
    "start_time": "2021-11-27T16:46:40.156Z"
   },
   {
    "duration": 13,
    "start_time": "2021-11-27T16:46:40.196Z"
   },
   {
    "duration": 12,
    "start_time": "2021-11-27T16:46:40.212Z"
   },
   {
    "duration": 105,
    "start_time": "2021-11-27T16:46:40.226Z"
   },
   {
    "duration": 19,
    "start_time": "2021-11-27T16:46:40.334Z"
   },
   {
    "duration": 15,
    "start_time": "2021-11-27T16:46:40.356Z"
   },
   {
    "duration": 37,
    "start_time": "2021-11-27T16:46:40.373Z"
   },
   {
    "duration": 5,
    "start_time": "2021-11-27T16:46:40.415Z"
   },
   {
    "duration": 9,
    "start_time": "2021-11-27T16:46:40.424Z"
   },
   {
    "duration": 13,
    "start_time": "2021-11-27T16:46:40.435Z"
   },
   {
    "duration": 9,
    "start_time": "2021-11-27T16:46:40.450Z"
   },
   {
    "duration": 6,
    "start_time": "2021-11-27T16:46:40.501Z"
   },
   {
    "duration": 11,
    "start_time": "2021-11-27T16:46:40.510Z"
   },
   {
    "duration": 243,
    "start_time": "2021-11-27T16:46:40.523Z"
   },
   {
    "duration": 18,
    "start_time": "2021-11-27T16:46:40.768Z"
   },
   {
    "duration": 13,
    "start_time": "2021-11-27T16:46:40.788Z"
   },
   {
    "duration": 7,
    "start_time": "2021-11-27T16:46:40.803Z"
   },
   {
    "duration": 7,
    "start_time": "2021-11-27T16:46:40.812Z"
   },
   {
    "duration": 24180,
    "start_time": "2021-11-27T16:46:40.822Z"
   },
   {
    "duration": 95,
    "start_time": "2021-11-27T16:47:05.006Z"
   },
   {
    "duration": 12,
    "start_time": "2021-11-27T16:47:05.103Z"
   },
   {
    "duration": 17,
    "start_time": "2021-11-27T16:47:05.117Z"
   },
   {
    "duration": 6,
    "start_time": "2021-11-27T16:47:05.136Z"
   },
   {
    "duration": 6,
    "start_time": "2021-11-27T16:47:05.145Z"
   },
   {
    "duration": 8,
    "start_time": "2021-11-27T16:47:05.153Z"
   },
   {
    "duration": 7,
    "start_time": "2021-11-27T16:47:05.167Z"
   },
   {
    "duration": 4,
    "start_time": "2021-11-27T16:47:05.178Z"
   },
   {
    "duration": 8,
    "start_time": "2021-11-27T16:47:05.201Z"
   },
   {
    "duration": 58,
    "start_time": "2021-11-27T16:47:05.212Z"
   },
   {
    "duration": 37,
    "start_time": "2021-11-27T16:47:05.273Z"
   },
   {
    "duration": 15,
    "start_time": "2021-11-27T16:51:49.138Z"
   },
   {
    "duration": 6,
    "start_time": "2021-11-27T16:51:53.883Z"
   },
   {
    "duration": 5,
    "start_time": "2021-11-27T16:52:18.153Z"
   },
   {
    "duration": 1521,
    "start_time": "2021-11-27T16:52:24.634Z"
   },
   {
    "duration": 37,
    "start_time": "2021-11-27T16:52:26.157Z"
   },
   {
    "duration": 12,
    "start_time": "2021-11-27T16:52:26.197Z"
   },
   {
    "duration": 14,
    "start_time": "2021-11-27T16:52:26.213Z"
   },
   {
    "duration": 112,
    "start_time": "2021-11-27T16:52:26.229Z"
   },
   {
    "duration": 19,
    "start_time": "2021-11-27T16:52:26.344Z"
   },
   {
    "duration": 40,
    "start_time": "2021-11-27T16:52:26.366Z"
   },
   {
    "duration": 15,
    "start_time": "2021-11-27T16:52:26.409Z"
   },
   {
    "duration": 4,
    "start_time": "2021-11-27T16:52:26.429Z"
   },
   {
    "duration": 8,
    "start_time": "2021-11-27T16:52:26.436Z"
   },
   {
    "duration": 6,
    "start_time": "2021-11-27T16:52:26.446Z"
   },
   {
    "duration": 45,
    "start_time": "2021-11-27T16:52:26.455Z"
   },
   {
    "duration": 7,
    "start_time": "2021-11-27T16:52:26.503Z"
   },
   {
    "duration": 15,
    "start_time": "2021-11-27T16:52:26.513Z"
   },
   {
    "duration": 242,
    "start_time": "2021-11-27T16:52:26.530Z"
   },
   {
    "duration": 31,
    "start_time": "2021-11-27T16:52:26.775Z"
   },
   {
    "duration": 23,
    "start_time": "2021-11-27T16:52:26.808Z"
   },
   {
    "duration": 9,
    "start_time": "2021-11-27T16:52:26.834Z"
   },
   {
    "duration": 7,
    "start_time": "2021-11-27T16:52:26.848Z"
   },
   {
    "duration": 24344,
    "start_time": "2021-11-27T16:52:26.858Z"
   },
   {
    "duration": 95,
    "start_time": "2021-11-27T16:52:51.205Z"
   },
   {
    "duration": 4,
    "start_time": "2021-11-27T16:52:51.303Z"
   },
   {
    "duration": 12,
    "start_time": "2021-11-27T16:52:51.310Z"
   },
   {
    "duration": 7,
    "start_time": "2021-11-27T16:52:51.324Z"
   },
   {
    "duration": 10,
    "start_time": "2021-11-27T16:52:51.333Z"
   },
   {
    "duration": 6,
    "start_time": "2021-11-27T16:52:51.345Z"
   },
   {
    "duration": 4,
    "start_time": "2021-11-27T16:52:51.356Z"
   },
   {
    "duration": 41,
    "start_time": "2021-11-27T16:52:51.363Z"
   },
   {
    "duration": 10,
    "start_time": "2021-11-27T16:52:51.407Z"
   },
   {
    "duration": 5,
    "start_time": "2021-11-27T16:52:51.420Z"
   },
   {
    "duration": 12,
    "start_time": "2021-11-27T16:52:51.428Z"
   },
   {
    "duration": 1679,
    "start_time": "2021-11-27T18:11:08.727Z"
   },
   {
    "duration": 41,
    "start_time": "2021-11-27T18:11:10.409Z"
   },
   {
    "duration": 15,
    "start_time": "2021-11-27T18:11:10.453Z"
   },
   {
    "duration": 29,
    "start_time": "2021-11-27T18:11:10.471Z"
   },
   {
    "duration": 98,
    "start_time": "2021-11-27T18:11:10.504Z"
   },
   {
    "duration": 26,
    "start_time": "2021-11-27T18:11:10.605Z"
   },
   {
    "duration": 20,
    "start_time": "2021-11-27T18:11:10.634Z"
   },
   {
    "duration": 51,
    "start_time": "2021-11-27T18:11:10.657Z"
   },
   {
    "duration": 6,
    "start_time": "2021-11-27T18:11:10.715Z"
   },
   {
    "duration": 6,
    "start_time": "2021-11-27T18:11:10.725Z"
   },
   {
    "duration": 9,
    "start_time": "2021-11-27T18:11:10.734Z"
   },
   {
    "duration": 7,
    "start_time": "2021-11-27T18:11:10.745Z"
   },
   {
    "duration": 54,
    "start_time": "2021-11-27T18:11:10.754Z"
   },
   {
    "duration": 15,
    "start_time": "2021-11-27T18:11:10.811Z"
   },
   {
    "duration": 372,
    "start_time": "2021-11-27T18:11:10.829Z"
   },
   {
    "duration": 27,
    "start_time": "2021-11-27T18:11:11.204Z"
   },
   {
    "duration": 7,
    "start_time": "2021-11-27T18:11:11.234Z"
   },
   {
    "duration": 9,
    "start_time": "2021-11-27T18:11:11.244Z"
   },
   {
    "duration": 6,
    "start_time": "2021-11-27T18:11:11.256Z"
   },
   {
    "duration": 23676,
    "start_time": "2021-11-27T18:11:11.265Z"
   },
   {
    "duration": 88,
    "start_time": "2021-11-27T18:11:35.013Z"
   },
   {
    "duration": 10,
    "start_time": "2021-11-27T18:11:35.105Z"
   },
   {
    "duration": 4,
    "start_time": "2021-11-27T18:11:35.119Z"
   },
   {
    "duration": 6,
    "start_time": "2021-11-27T18:11:35.126Z"
   },
   {
    "duration": 7,
    "start_time": "2021-11-27T18:11:35.134Z"
   },
   {
    "duration": 7,
    "start_time": "2021-11-27T18:11:35.143Z"
   },
   {
    "duration": 47,
    "start_time": "2021-11-27T18:11:35.155Z"
   },
   {
    "duration": 5,
    "start_time": "2021-11-27T18:11:35.207Z"
   },
   {
    "duration": 7,
    "start_time": "2021-11-27T18:11:35.215Z"
   },
   {
    "duration": 14,
    "start_time": "2021-11-27T18:11:35.225Z"
   },
   {
    "duration": 14,
    "start_time": "2021-11-27T18:11:35.241Z"
   },
   {
    "duration": 5,
    "start_time": "2021-11-27T18:30:47.157Z"
   },
   {
    "duration": 1624,
    "start_time": "2021-11-27T18:30:50.494Z"
   },
   {
    "duration": 38,
    "start_time": "2021-11-27T18:30:52.121Z"
   },
   {
    "duration": 15,
    "start_time": "2021-11-27T18:30:52.163Z"
   },
   {
    "duration": 31,
    "start_time": "2021-11-27T18:30:52.182Z"
   },
   {
    "duration": 130,
    "start_time": "2021-11-27T18:30:52.216Z"
   },
   {
    "duration": 27,
    "start_time": "2021-11-27T18:30:52.348Z"
   },
   {
    "duration": 40,
    "start_time": "2021-11-27T18:30:52.378Z"
   },
   {
    "duration": 20,
    "start_time": "2021-11-27T18:30:52.421Z"
   },
   {
    "duration": 6,
    "start_time": "2021-11-27T18:30:52.447Z"
   },
   {
    "duration": 47,
    "start_time": "2021-11-27T18:30:52.457Z"
   },
   {
    "duration": 8,
    "start_time": "2021-11-27T18:30:52.507Z"
   },
   {
    "duration": 7,
    "start_time": "2021-11-27T18:30:52.517Z"
   },
   {
    "duration": 8,
    "start_time": "2021-11-27T18:30:52.529Z"
   },
   {
    "duration": 10,
    "start_time": "2021-11-27T18:30:52.539Z"
   },
   {
    "duration": 368,
    "start_time": "2021-11-27T18:30:52.552Z"
   },
   {
    "duration": 19,
    "start_time": "2021-11-27T18:30:52.922Z"
   },
   {
    "duration": 5,
    "start_time": "2021-11-27T18:30:52.943Z"
   },
   {
    "duration": 6,
    "start_time": "2021-11-27T18:30:52.951Z"
   },
   {
    "duration": 42,
    "start_time": "2021-11-27T18:30:52.959Z"
   },
   {
    "duration": 27609,
    "start_time": "2021-11-27T18:30:53.004Z"
   },
   {
    "duration": 5,
    "start_time": "2021-11-27T18:31:20.617Z"
   },
   {
    "duration": 17,
    "start_time": "2021-11-27T18:31:20.626Z"
   },
   {
    "duration": 10,
    "start_time": "2021-11-27T18:31:20.645Z"
   },
   {
    "duration": 5,
    "start_time": "2021-11-27T18:31:20.701Z"
   },
   {
    "duration": 8,
    "start_time": "2021-11-27T18:31:20.708Z"
   },
   {
    "duration": 7,
    "start_time": "2021-11-27T18:31:20.718Z"
   },
   {
    "duration": 5,
    "start_time": "2021-11-27T18:31:20.730Z"
   },
   {
    "duration": 14,
    "start_time": "2021-11-27T18:31:20.738Z"
   },
   {
    "duration": 14,
    "start_time": "2021-11-27T18:31:20.754Z"
   },
   {
    "duration": 31,
    "start_time": "2021-11-27T18:31:20.771Z"
   },
   {
    "duration": 15,
    "start_time": "2021-11-27T18:31:20.806Z"
   },
   {
    "duration": 1664,
    "start_time": "2021-11-27T18:32:25.903Z"
   },
   {
    "duration": 9,
    "start_time": "2021-11-27T18:32:27.765Z"
   },
   {
    "duration": 47,
    "start_time": "2021-11-27T18:32:27.778Z"
   },
   {
    "duration": 15,
    "start_time": "2021-11-27T18:32:27.829Z"
   },
   {
    "duration": 13,
    "start_time": "2021-11-27T18:32:27.847Z"
   },
   {
    "duration": 111,
    "start_time": "2021-11-27T18:32:27.862Z"
   },
   {
    "duration": 34,
    "start_time": "2021-11-27T18:32:27.976Z"
   },
   {
    "duration": 23,
    "start_time": "2021-11-27T18:32:28.012Z"
   },
   {
    "duration": 12,
    "start_time": "2021-11-27T18:32:28.037Z"
   },
   {
    "duration": 4,
    "start_time": "2021-11-27T18:32:28.053Z"
   },
   {
    "duration": 45,
    "start_time": "2021-11-27T18:32:28.060Z"
   },
   {
    "duration": 21,
    "start_time": "2021-11-27T18:32:28.107Z"
   },
   {
    "duration": 14,
    "start_time": "2021-11-27T18:32:28.130Z"
   },
   {
    "duration": 18,
    "start_time": "2021-11-27T18:32:28.146Z"
   },
   {
    "duration": 33,
    "start_time": "2021-11-27T18:32:28.167Z"
   },
   {
    "duration": 231,
    "start_time": "2021-11-27T18:32:28.203Z"
   },
   {
    "duration": 18,
    "start_time": "2021-11-27T18:32:28.436Z"
   },
   {
    "duration": 5,
    "start_time": "2021-11-27T18:32:28.457Z"
   },
   {
    "duration": 37,
    "start_time": "2021-11-27T18:32:28.464Z"
   },
   {
    "duration": 10,
    "start_time": "2021-11-27T18:32:28.503Z"
   },
   {
    "duration": 29519,
    "start_time": "2021-11-27T18:32:28.515Z"
   },
   {
    "duration": 6,
    "start_time": "2021-11-27T18:32:58.101Z"
   },
   {
    "duration": 92,
    "start_time": "2021-11-27T18:32:58.110Z"
   },
   {
    "duration": 6,
    "start_time": "2021-11-27T18:32:58.205Z"
   },
   {
    "duration": 13,
    "start_time": "2021-11-27T18:32:58.213Z"
   },
   {
    "duration": 8,
    "start_time": "2021-11-27T18:32:58.229Z"
   },
   {
    "duration": 9,
    "start_time": "2021-11-27T18:32:58.239Z"
   },
   {
    "duration": 5,
    "start_time": "2021-11-27T18:32:58.255Z"
   },
   {
    "duration": 37,
    "start_time": "2021-11-27T18:32:58.264Z"
   },
   {
    "duration": 14,
    "start_time": "2021-11-27T18:32:58.304Z"
   },
   {
    "duration": 9,
    "start_time": "2021-11-27T18:32:58.322Z"
   },
   {
    "duration": 14,
    "start_time": "2021-11-27T18:32:58.334Z"
   },
   {
    "duration": 993,
    "start_time": "2021-11-27T18:35:15.013Z"
   },
   {
    "duration": 1671,
    "start_time": "2021-11-27T18:35:44.902Z"
   },
   {
    "duration": 37,
    "start_time": "2021-11-27T18:35:46.575Z"
   },
   {
    "duration": 13,
    "start_time": "2021-11-27T18:35:46.616Z"
   },
   {
    "duration": 12,
    "start_time": "2021-11-27T18:35:46.631Z"
   },
   {
    "duration": 113,
    "start_time": "2021-11-27T18:35:46.646Z"
   },
   {
    "duration": 21,
    "start_time": "2021-11-27T18:35:46.762Z"
   },
   {
    "duration": 18,
    "start_time": "2021-11-27T18:35:46.801Z"
   },
   {
    "duration": 15,
    "start_time": "2021-11-27T18:35:46.822Z"
   },
   {
    "duration": 6,
    "start_time": "2021-11-27T18:35:46.842Z"
   },
   {
    "duration": 50,
    "start_time": "2021-11-27T18:35:46.852Z"
   },
   {
    "duration": 8,
    "start_time": "2021-11-27T18:35:46.905Z"
   },
   {
    "duration": 9,
    "start_time": "2021-11-27T18:35:46.916Z"
   },
   {
    "duration": 13,
    "start_time": "2021-11-27T18:35:46.928Z"
   },
   {
    "duration": 20,
    "start_time": "2021-11-27T18:35:46.944Z"
   },
   {
    "duration": 299,
    "start_time": "2021-11-27T18:35:46.967Z"
   },
   {
    "duration": 31,
    "start_time": "2021-11-27T18:35:47.269Z"
   },
   {
    "duration": 5,
    "start_time": "2021-11-27T18:35:47.303Z"
   },
   {
    "duration": 12,
    "start_time": "2021-11-27T18:35:47.310Z"
   },
   {
    "duration": 9,
    "start_time": "2021-11-27T18:35:47.325Z"
   },
   {
    "duration": 26272,
    "start_time": "2021-11-27T18:35:47.336Z"
   },
   {
    "duration": 89,
    "start_time": "2021-11-27T18:36:13.612Z"
   },
   {
    "duration": 6,
    "start_time": "2021-11-27T18:36:13.704Z"
   },
   {
    "duration": 6,
    "start_time": "2021-11-27T18:36:13.713Z"
   },
   {
    "duration": 5,
    "start_time": "2021-11-27T18:36:13.722Z"
   },
   {
    "duration": 6,
    "start_time": "2021-11-27T18:36:13.730Z"
   },
   {
    "duration": 7,
    "start_time": "2021-11-27T18:36:13.739Z"
   },
   {
    "duration": 5,
    "start_time": "2021-11-27T18:36:13.752Z"
   },
   {
    "duration": 4,
    "start_time": "2021-11-27T18:36:13.800Z"
   },
   {
    "duration": 9,
    "start_time": "2021-11-27T18:36:13.807Z"
   },
   {
    "duration": 11,
    "start_time": "2021-11-27T18:36:13.820Z"
   },
   {
    "duration": 15,
    "start_time": "2021-11-27T18:36:13.833Z"
   },
   {
    "duration": 345535,
    "start_time": "2021-11-27T18:36:13.850Z"
   },
   {
    "duration": 209,
    "start_time": "2021-11-27T18:41:59.388Z"
   },
   {
    "duration": 9,
    "start_time": "2021-11-27T18:41:59.601Z"
   },
   {
    "duration": 32,
    "start_time": "2021-11-27T18:41:59.613Z"
   },
   {
    "duration": 9,
    "start_time": "2021-11-27T18:41:59.649Z"
   },
   {
    "duration": 57,
    "start_time": "2021-11-27T18:41:59.661Z"
   },
   {
    "duration": 212435,
    "start_time": "2021-11-27T18:41:59.720Z"
   },
   {
    "duration": 16,
    "start_time": "2021-11-27T18:45:32.157Z"
   },
   {
    "duration": 40,
    "start_time": "2021-11-27T18:45:32.175Z"
   },
   {
    "duration": 2196,
    "start_time": "2021-11-27T18:47:00.023Z"
   },
   {
    "duration": 40,
    "start_time": "2021-11-27T18:47:02.222Z"
   },
   {
    "duration": 34,
    "start_time": "2021-11-27T18:47:02.265Z"
   },
   {
    "duration": 14,
    "start_time": "2021-11-27T18:47:02.302Z"
   },
   {
    "duration": 85,
    "start_time": "2021-11-27T18:47:02.319Z"
   },
   {
    "duration": 19,
    "start_time": "2021-11-27T18:47:02.407Z"
   },
   {
    "duration": 23,
    "start_time": "2021-11-27T18:47:02.429Z"
   },
   {
    "duration": 14,
    "start_time": "2021-11-27T18:47:02.455Z"
   },
   {
    "duration": 30,
    "start_time": "2021-11-27T18:47:02.473Z"
   },
   {
    "duration": 15,
    "start_time": "2021-11-27T18:47:02.507Z"
   },
   {
    "duration": 24,
    "start_time": "2021-11-27T18:47:02.524Z"
   },
   {
    "duration": 11,
    "start_time": "2021-11-27T18:47:02.551Z"
   },
   {
    "duration": 20,
    "start_time": "2021-11-27T18:47:02.564Z"
   },
   {
    "duration": 22,
    "start_time": "2021-11-27T18:47:02.587Z"
   },
   {
    "duration": 251,
    "start_time": "2021-11-27T18:47:02.611Z"
   },
   {
    "duration": 21,
    "start_time": "2021-11-27T18:47:02.865Z"
   },
   {
    "duration": 8,
    "start_time": "2021-11-27T18:47:02.901Z"
   },
   {
    "duration": 22,
    "start_time": "2021-11-27T18:47:02.912Z"
   },
   {
    "duration": 37,
    "start_time": "2021-11-27T18:47:02.937Z"
   },
   {
    "duration": 29132,
    "start_time": "2021-11-27T18:47:02.977Z"
   },
   {
    "duration": 89,
    "start_time": "2021-11-27T18:47:32.112Z"
   },
   {
    "duration": 13,
    "start_time": "2021-11-27T18:47:32.204Z"
   },
   {
    "duration": 9,
    "start_time": "2021-11-27T18:47:32.219Z"
   },
   {
    "duration": 7,
    "start_time": "2021-11-27T18:47:32.230Z"
   },
   {
    "duration": 8,
    "start_time": "2021-11-27T18:47:32.239Z"
   },
   {
    "duration": 13,
    "start_time": "2021-11-27T18:47:32.250Z"
   },
   {
    "duration": 11,
    "start_time": "2021-11-27T18:47:32.268Z"
   },
   {
    "duration": 20,
    "start_time": "2021-11-27T18:47:32.282Z"
   },
   {
    "duration": 6,
    "start_time": "2021-11-27T18:47:32.305Z"
   },
   {
    "duration": 13,
    "start_time": "2021-11-27T18:47:32.314Z"
   },
   {
    "duration": 19,
    "start_time": "2021-11-27T18:47:32.330Z"
   },
   {
    "duration": 2013,
    "start_time": "2021-11-27T18:52:55.576Z"
   },
   {
    "duration": 54,
    "start_time": "2021-11-27T18:52:57.593Z"
   },
   {
    "duration": 19,
    "start_time": "2021-11-27T18:52:57.651Z"
   },
   {
    "duration": 33,
    "start_time": "2021-11-27T18:52:57.674Z"
   },
   {
    "duration": 118,
    "start_time": "2021-11-27T18:52:57.710Z"
   },
   {
    "duration": 27,
    "start_time": "2021-11-27T18:52:57.831Z"
   },
   {
    "duration": 42,
    "start_time": "2021-11-27T18:52:57.860Z"
   },
   {
    "duration": 12,
    "start_time": "2021-11-27T18:52:57.904Z"
   },
   {
    "duration": 8,
    "start_time": "2021-11-27T18:52:57.920Z"
   },
   {
    "duration": 14,
    "start_time": "2021-11-27T18:52:57.930Z"
   },
   {
    "duration": 11,
    "start_time": "2021-11-27T18:52:57.946Z"
   },
   {
    "duration": 41,
    "start_time": "2021-11-27T18:52:57.959Z"
   },
   {
    "duration": 6,
    "start_time": "2021-11-27T18:52:58.003Z"
   },
   {
    "duration": 19,
    "start_time": "2021-11-27T18:52:58.012Z"
   },
   {
    "duration": 230,
    "start_time": "2021-11-27T18:52:58.033Z"
   },
   {
    "duration": 18,
    "start_time": "2021-11-27T18:52:58.266Z"
   },
   {
    "duration": 18,
    "start_time": "2021-11-27T18:52:58.286Z"
   },
   {
    "duration": 17,
    "start_time": "2021-11-27T18:52:58.306Z"
   },
   {
    "duration": 16,
    "start_time": "2021-11-27T18:52:58.325Z"
   },
   {
    "duration": 27186,
    "start_time": "2021-11-27T18:52:58.344Z"
   },
   {
    "duration": 7,
    "start_time": "2021-11-27T18:53:25.601Z"
   },
   {
    "duration": 93,
    "start_time": "2021-11-27T18:53:25.614Z"
   },
   {
    "duration": 15,
    "start_time": "2021-11-27T18:53:25.709Z"
   },
   {
    "duration": 8,
    "start_time": "2021-11-27T18:53:25.727Z"
   },
   {
    "duration": 10,
    "start_time": "2021-11-27T18:53:25.737Z"
   },
   {
    "duration": 7,
    "start_time": "2021-11-27T18:53:25.749Z"
   },
   {
    "duration": 3,
    "start_time": "2021-11-27T18:53:25.763Z"
   },
   {
    "duration": 8,
    "start_time": "2021-11-27T18:53:25.769Z"
   },
   {
    "duration": 24,
    "start_time": "2021-11-27T18:53:25.779Z"
   },
   {
    "duration": 11,
    "start_time": "2021-11-27T18:53:25.806Z"
   },
   {
    "duration": 8,
    "start_time": "2021-11-27T18:53:25.820Z"
   },
   {
    "duration": 11061,
    "start_time": "2021-11-27T18:53:25.830Z"
   },
   {
    "duration": 26,
    "start_time": "2021-11-27T18:53:36.901Z"
   },
   {
    "duration": 8,
    "start_time": "2021-11-27T18:53:36.930Z"
   },
   {
    "duration": 61,
    "start_time": "2021-11-27T18:53:36.941Z"
   },
   {
    "duration": 9,
    "start_time": "2021-11-27T18:53:37.004Z"
   },
   {
    "duration": 24,
    "start_time": "2021-11-27T18:53:37.016Z"
   },
   {
    "duration": 214804,
    "start_time": "2021-11-27T18:53:37.043Z"
   },
   {
    "duration": 16,
    "start_time": "2021-11-27T18:57:11.850Z"
   },
   {
    "duration": 43,
    "start_time": "2021-11-27T18:57:11.870Z"
   },
   {
    "duration": 127885,
    "start_time": "2021-11-27T18:57:11.916Z"
   },
   {
    "duration": 18,
    "start_time": "2021-11-27T18:59:19.804Z"
   },
   {
    "duration": 39,
    "start_time": "2021-11-27T18:59:19.825Z"
   },
   {
    "duration": 36,
    "start_time": "2021-11-27T18:59:19.867Z"
   },
   {
    "duration": 1566,
    "start_time": "2021-11-27T21:47:40.739Z"
   },
   {
    "duration": 39,
    "start_time": "2021-11-27T21:47:42.308Z"
   },
   {
    "duration": 19,
    "start_time": "2021-11-27T21:47:42.351Z"
   },
   {
    "duration": 17,
    "start_time": "2021-11-27T21:47:42.374Z"
   },
   {
    "duration": 109,
    "start_time": "2021-11-27T21:47:42.394Z"
   },
   {
    "duration": 19,
    "start_time": "2021-11-27T21:47:42.505Z"
   },
   {
    "duration": 37,
    "start_time": "2021-11-27T21:47:42.526Z"
   },
   {
    "duration": 13,
    "start_time": "2021-11-27T21:47:42.565Z"
   },
   {
    "duration": 4,
    "start_time": "2021-11-27T21:47:42.583Z"
   },
   {
    "duration": 12,
    "start_time": "2021-11-27T21:47:42.590Z"
   },
   {
    "duration": 7,
    "start_time": "2021-11-27T21:47:42.605Z"
   },
   {
    "duration": 44,
    "start_time": "2021-11-27T21:47:42.615Z"
   },
   {
    "duration": 9,
    "start_time": "2021-11-27T21:47:42.662Z"
   },
   {
    "duration": 11,
    "start_time": "2021-11-27T21:47:42.673Z"
   },
   {
    "duration": 233,
    "start_time": "2021-11-27T21:47:42.687Z"
   },
   {
    "duration": 37,
    "start_time": "2021-11-27T21:47:42.924Z"
   },
   {
    "duration": 6,
    "start_time": "2021-11-27T21:47:42.964Z"
   },
   {
    "duration": 10,
    "start_time": "2021-11-27T21:47:42.973Z"
   },
   {
    "duration": 6,
    "start_time": "2021-11-27T21:47:42.985Z"
   },
   {
    "duration": 24066,
    "start_time": "2021-11-27T21:47:42.993Z"
   },
   {
    "duration": 4,
    "start_time": "2021-11-27T21:48:07.062Z"
   },
   {
    "duration": 8,
    "start_time": "2021-11-27T21:48:07.068Z"
   },
   {
    "duration": 13,
    "start_time": "2021-11-27T21:48:07.079Z"
   },
   {
    "duration": 8,
    "start_time": "2021-11-27T21:48:07.094Z"
   },
   {
    "duration": 8,
    "start_time": "2021-11-27T21:48:07.104Z"
   },
   {
    "duration": 11,
    "start_time": "2021-11-27T21:48:07.115Z"
   },
   {
    "duration": 3,
    "start_time": "2021-11-27T21:48:07.131Z"
   },
   {
    "duration": 6,
    "start_time": "2021-11-27T21:48:07.136Z"
   },
   {
    "duration": 15,
    "start_time": "2021-11-27T21:48:07.144Z"
   },
   {
    "duration": 6,
    "start_time": "2021-11-27T21:48:07.161Z"
   },
   {
    "duration": 10,
    "start_time": "2021-11-27T21:48:07.170Z"
   },
   {
    "duration": 276252,
    "start_time": "2021-11-27T21:48:07.183Z"
   },
   {
    "duration": 86,
    "start_time": "2021-11-27T21:52:43.437Z"
   },
   {
    "duration": 8,
    "start_time": "2021-11-27T21:52:43.526Z"
   },
   {
    "duration": 39,
    "start_time": "2021-11-27T21:52:43.536Z"
   },
   {
    "duration": 203837,
    "start_time": "2021-11-27T21:52:43.577Z"
   },
   {
    "duration": 16,
    "start_time": "2021-11-27T21:56:07.416Z"
   },
   {
    "duration": 40,
    "start_time": "2021-11-27T21:56:07.434Z"
   },
   {
    "duration": 119994,
    "start_time": "2021-11-27T21:56:07.477Z"
   },
   {
    "duration": 16,
    "start_time": "2021-11-27T21:58:07.474Z"
   },
   {
    "duration": 24,
    "start_time": "2021-11-27T21:58:07.492Z"
   },
   {
    "duration": 40,
    "start_time": "2021-11-27T21:58:07.519Z"
   },
   {
    "duration": 7,
    "start_time": "2021-11-27T21:59:17.329Z"
   },
   {
    "duration": 56,
    "start_time": "2021-11-27T21:59:17.339Z"
   },
   {
    "duration": 10,
    "start_time": "2021-11-27T21:59:17.398Z"
   },
   {
    "duration": 27,
    "start_time": "2021-11-27T21:59:17.411Z"
   },
   {
    "duration": 94,
    "start_time": "2021-11-27T21:59:17.440Z"
   },
   {
    "duration": 25,
    "start_time": "2021-11-27T21:59:17.536Z"
   },
   {
    "duration": 21,
    "start_time": "2021-11-27T21:59:17.563Z"
   },
   {
    "duration": 30,
    "start_time": "2021-11-27T21:59:17.587Z"
   },
   {
    "duration": 8,
    "start_time": "2021-11-27T21:59:17.621Z"
   },
   {
    "duration": 28,
    "start_time": "2021-11-27T21:59:17.632Z"
   },
   {
    "duration": 22,
    "start_time": "2021-11-27T21:59:17.662Z"
   },
   {
    "duration": 12,
    "start_time": "2021-11-27T21:59:17.687Z"
   },
   {
    "duration": 28,
    "start_time": "2021-11-27T21:59:17.702Z"
   },
   {
    "duration": 44,
    "start_time": "2021-11-27T21:59:17.733Z"
   },
   {
    "duration": 195,
    "start_time": "2021-11-27T21:59:17.780Z"
   },
   {
    "duration": 19,
    "start_time": "2021-11-27T21:59:17.977Z"
   },
   {
    "duration": 14,
    "start_time": "2021-11-27T21:59:17.998Z"
   },
   {
    "duration": 36,
    "start_time": "2021-11-27T21:59:18.015Z"
   },
   {
    "duration": 23,
    "start_time": "2021-11-27T21:59:18.053Z"
   },
   {
    "duration": 23982,
    "start_time": "2021-11-27T21:59:18.079Z"
   },
   {
    "duration": 95,
    "start_time": "2021-11-27T21:59:42.065Z"
   },
   {
    "duration": 10,
    "start_time": "2021-11-27T21:59:42.162Z"
   },
   {
    "duration": 22,
    "start_time": "2021-11-27T21:59:42.174Z"
   },
   {
    "duration": 23,
    "start_time": "2021-11-27T21:59:42.198Z"
   },
   {
    "duration": 28,
    "start_time": "2021-11-27T21:59:42.224Z"
   },
   {
    "duration": 24,
    "start_time": "2021-11-27T21:59:42.255Z"
   },
   {
    "duration": 12,
    "start_time": "2021-11-27T21:59:42.284Z"
   },
   {
    "duration": 32,
    "start_time": "2021-11-27T21:59:42.299Z"
   },
   {
    "duration": 16,
    "start_time": "2021-11-27T21:59:42.334Z"
   },
   {
    "duration": 21,
    "start_time": "2021-11-27T21:59:42.352Z"
   },
   {
    "duration": 28,
    "start_time": "2021-11-27T21:59:42.375Z"
   },
   {
    "duration": 10301,
    "start_time": "2021-11-27T21:59:42.406Z"
   },
   {
    "duration": 23,
    "start_time": "2021-11-27T21:59:52.710Z"
   },
   {
    "duration": 25,
    "start_time": "2021-11-27T21:59:52.735Z"
   },
   {
    "duration": 19,
    "start_time": "2021-11-27T21:59:52.763Z"
   },
   {
    "duration": 1559,
    "start_time": "2021-11-27T22:01:55.362Z"
   },
   {
    "duration": 37,
    "start_time": "2021-11-27T22:01:56.924Z"
   },
   {
    "duration": 13,
    "start_time": "2021-11-27T22:01:56.964Z"
   },
   {
    "duration": 11,
    "start_time": "2021-11-27T22:01:56.980Z"
   },
   {
    "duration": 96,
    "start_time": "2021-11-27T22:01:56.994Z"
   },
   {
    "duration": 18,
    "start_time": "2021-11-27T22:01:57.093Z"
   },
   {
    "duration": 23,
    "start_time": "2021-11-27T22:01:57.113Z"
   },
   {
    "duration": 30,
    "start_time": "2021-11-27T22:01:57.139Z"
   },
   {
    "duration": 5,
    "start_time": "2021-11-27T22:01:57.171Z"
   },
   {
    "duration": 13,
    "start_time": "2021-11-27T22:01:57.178Z"
   },
   {
    "duration": 21,
    "start_time": "2021-11-27T22:01:57.194Z"
   },
   {
    "duration": 17,
    "start_time": "2021-11-27T22:01:57.218Z"
   },
   {
    "duration": 23,
    "start_time": "2021-11-27T22:01:57.238Z"
   },
   {
    "duration": 18,
    "start_time": "2021-11-27T22:01:57.264Z"
   },
   {
    "duration": 233,
    "start_time": "2021-11-27T22:01:57.285Z"
   },
   {
    "duration": 20,
    "start_time": "2021-11-27T22:01:57.520Z"
   },
   {
    "duration": 24,
    "start_time": "2021-11-27T22:01:57.542Z"
   },
   {
    "duration": 15,
    "start_time": "2021-11-27T22:01:57.568Z"
   },
   {
    "duration": 19,
    "start_time": "2021-11-27T22:01:57.585Z"
   },
   {
    "duration": 24256,
    "start_time": "2021-11-27T22:01:57.607Z"
   },
   {
    "duration": 93,
    "start_time": "2021-11-27T22:02:21.867Z"
   },
   {
    "duration": 19,
    "start_time": "2021-11-27T22:02:21.962Z"
   },
   {
    "duration": 4,
    "start_time": "2021-11-27T22:02:21.986Z"
   },
   {
    "duration": 19,
    "start_time": "2021-11-27T22:02:21.992Z"
   },
   {
    "duration": 9,
    "start_time": "2021-11-27T22:02:22.014Z"
   },
   {
    "duration": 13,
    "start_time": "2021-11-27T22:02:22.025Z"
   },
   {
    "duration": 8,
    "start_time": "2021-11-27T22:02:22.041Z"
   },
   {
    "duration": 11,
    "start_time": "2021-11-27T22:02:22.051Z"
   },
   {
    "duration": 7,
    "start_time": "2021-11-27T22:02:22.065Z"
   },
   {
    "duration": 9,
    "start_time": "2021-11-27T22:02:22.074Z"
   },
   {
    "duration": 15,
    "start_time": "2021-11-27T22:02:22.085Z"
   },
   {
    "duration": 10282,
    "start_time": "2021-11-27T22:02:22.103Z"
   },
   {
    "duration": 21,
    "start_time": "2021-11-27T22:02:32.387Z"
   },
   {
    "duration": 9,
    "start_time": "2021-11-27T22:02:32.410Z"
   },
   {
    "duration": 50,
    "start_time": "2021-11-27T22:02:32.422Z"
   },
   {
    "duration": 201389,
    "start_time": "2021-11-27T22:02:32.474Z"
   },
   {
    "duration": 16,
    "start_time": "2021-11-27T22:05:53.865Z"
   },
   {
    "duration": 18,
    "start_time": "2021-11-27T22:05:53.884Z"
   },
   {
    "duration": 119891,
    "start_time": "2021-11-27T22:05:53.904Z"
   },
   {
    "duration": 19,
    "start_time": "2021-11-27T22:07:53.798Z"
   },
   {
    "duration": 53,
    "start_time": "2021-11-27T22:07:53.820Z"
   },
   {
    "duration": 8,
    "start_time": "2021-11-27T22:07:53.876Z"
   },
   {
    "duration": 7,
    "start_time": "2021-11-27T22:12:21.265Z"
   },
   {
    "duration": 47,
    "start_time": "2021-11-27T22:12:21.276Z"
   },
   {
    "duration": 37,
    "start_time": "2021-11-27T22:12:21.327Z"
   },
   {
    "duration": 12,
    "start_time": "2021-11-27T22:12:21.367Z"
   },
   {
    "duration": 97,
    "start_time": "2021-11-27T22:12:21.382Z"
   },
   {
    "duration": 19,
    "start_time": "2021-11-27T22:12:21.482Z"
   },
   {
    "duration": 16,
    "start_time": "2021-11-27T22:12:21.503Z"
   },
   {
    "duration": 41,
    "start_time": "2021-11-27T22:12:21.521Z"
   },
   {
    "duration": 4,
    "start_time": "2021-11-27T22:12:21.566Z"
   },
   {
    "duration": 19,
    "start_time": "2021-11-27T22:12:21.573Z"
   },
   {
    "duration": 23,
    "start_time": "2021-11-27T22:12:21.595Z"
   },
   {
    "duration": 10,
    "start_time": "2021-11-27T22:12:21.620Z"
   },
   {
    "duration": 13,
    "start_time": "2021-11-27T22:12:21.632Z"
   },
   {
    "duration": 24,
    "start_time": "2021-11-27T22:12:21.647Z"
   },
   {
    "duration": 215,
    "start_time": "2021-11-27T22:12:21.674Z"
   },
   {
    "duration": 17,
    "start_time": "2021-11-27T22:12:21.892Z"
   },
   {
    "duration": 5,
    "start_time": "2021-11-27T22:12:21.912Z"
   },
   {
    "duration": 7,
    "start_time": "2021-11-27T22:12:21.920Z"
   },
   {
    "duration": 30,
    "start_time": "2021-11-27T22:12:21.929Z"
   },
   {
    "duration": 25808,
    "start_time": "2021-11-27T22:12:21.962Z"
   },
   {
    "duration": 5,
    "start_time": "2021-11-27T22:12:47.860Z"
   },
   {
    "duration": 11,
    "start_time": "2021-11-27T22:12:47.868Z"
   },
   {
    "duration": 21,
    "start_time": "2021-11-27T22:12:47.882Z"
   },
   {
    "duration": 16,
    "start_time": "2021-11-27T22:12:47.905Z"
   },
   {
    "duration": 10,
    "start_time": "2021-11-27T22:12:47.924Z"
   },
   {
    "duration": 17,
    "start_time": "2021-11-27T22:12:47.936Z"
   },
   {
    "duration": 10,
    "start_time": "2021-11-27T22:12:47.958Z"
   },
   {
    "duration": 6,
    "start_time": "2021-11-27T22:12:47.970Z"
   },
   {
    "duration": 10,
    "start_time": "2021-11-27T22:12:47.979Z"
   },
   {
    "duration": 559,
    "start_time": "2021-11-27T22:12:47.992Z"
   },
   {
    "duration": -308,
    "start_time": "2021-11-27T22:12:48.862Z"
   },
   {
    "duration": -309,
    "start_time": "2021-11-27T22:12:48.864Z"
   },
   {
    "duration": -309,
    "start_time": "2021-11-27T22:12:48.866Z"
   },
   {
    "duration": -310,
    "start_time": "2021-11-27T22:12:48.868Z"
   },
   {
    "duration": -311,
    "start_time": "2021-11-27T22:12:48.870Z"
   },
   {
    "duration": -317,
    "start_time": "2021-11-27T22:12:48.878Z"
   },
   {
    "duration": -318,
    "start_time": "2021-11-27T22:12:48.880Z"
   },
   {
    "duration": -319,
    "start_time": "2021-11-27T22:12:48.882Z"
   },
   {
    "duration": -319,
    "start_time": "2021-11-27T22:12:48.884Z"
   },
   {
    "duration": -319,
    "start_time": "2021-11-27T22:12:48.885Z"
   },
   {
    "duration": -319,
    "start_time": "2021-11-27T22:12:48.887Z"
   },
   {
    "duration": -320,
    "start_time": "2021-11-27T22:12:48.889Z"
   },
   {
    "duration": 5,
    "start_time": "2021-11-27T22:13:10.243Z"
   },
   {
    "duration": 4,
    "start_time": "2021-11-27T22:13:21.594Z"
   },
   {
    "duration": 4,
    "start_time": "2021-11-27T22:13:28.859Z"
   },
   {
    "duration": 68602,
    "start_time": "2021-11-27T22:13:30.246Z"
   },
   {
    "duration": 58,
    "start_time": "2021-11-27T22:14:38.851Z"
   },
   {
    "duration": 77,
    "start_time": "2021-11-28T08:06:47.718Z"
   },
   {
    "duration": 353,
    "start_time": "2021-11-28T08:37:48.625Z"
   },
   {
    "duration": 1146,
    "start_time": "2021-11-28T08:37:52.801Z"
   },
   {
    "duration": 29,
    "start_time": "2021-11-28T08:37:53.948Z"
   },
   {
    "duration": 8,
    "start_time": "2021-11-28T08:37:53.979Z"
   },
   {
    "duration": 7,
    "start_time": "2021-11-28T08:37:53.989Z"
   },
   {
    "duration": 44,
    "start_time": "2021-11-28T08:37:53.998Z"
   },
   {
    "duration": 11,
    "start_time": "2021-11-28T08:37:54.043Z"
   },
   {
    "duration": 11,
    "start_time": "2021-11-28T08:37:54.056Z"
   },
   {
    "duration": 9,
    "start_time": "2021-11-28T08:37:54.088Z"
   },
   {
    "duration": 9,
    "start_time": "2021-11-28T08:37:54.098Z"
   },
   {
    "duration": 6,
    "start_time": "2021-11-28T08:37:54.108Z"
   },
   {
    "duration": 17,
    "start_time": "2021-11-28T08:37:54.115Z"
   },
   {
    "duration": 13,
    "start_time": "2021-11-28T08:37:54.133Z"
   },
   {
    "duration": 6,
    "start_time": "2021-11-28T08:37:54.148Z"
   },
   {
    "duration": 10,
    "start_time": "2021-11-28T08:37:54.156Z"
   },
   {
    "duration": 126,
    "start_time": "2021-11-28T08:37:54.167Z"
   },
   {
    "duration": 11,
    "start_time": "2021-11-28T08:37:54.294Z"
   },
   {
    "duration": 3,
    "start_time": "2021-11-28T08:37:54.307Z"
   },
   {
    "duration": 7,
    "start_time": "2021-11-28T08:37:54.311Z"
   },
   {
    "duration": 8,
    "start_time": "2021-11-28T08:37:54.319Z"
   },
   {
    "duration": 18683,
    "start_time": "2021-11-28T08:37:54.328Z"
   },
   {
    "duration": 3,
    "start_time": "2021-11-28T08:38:13.013Z"
   },
   {
    "duration": 15,
    "start_time": "2021-11-28T08:38:13.089Z"
   },
   {
    "duration": 3,
    "start_time": "2021-11-28T08:38:13.190Z"
   },
   {
    "duration": 6,
    "start_time": "2021-11-28T08:38:13.194Z"
   },
   {
    "duration": 5,
    "start_time": "2021-11-28T08:38:13.201Z"
   },
   {
    "duration": 6,
    "start_time": "2021-11-28T08:38:13.207Z"
   },
   {
    "duration": 5,
    "start_time": "2021-11-28T08:38:13.214Z"
   },
   {
    "duration": 6,
    "start_time": "2021-11-28T08:38:13.221Z"
   },
   {
    "duration": 4,
    "start_time": "2021-11-28T08:38:13.229Z"
   },
   {
    "duration": 6,
    "start_time": "2021-11-28T08:38:13.234Z"
   },
   {
    "duration": 4,
    "start_time": "2021-11-28T08:38:13.242Z"
   },
   {
    "duration": 40729,
    "start_time": "2021-11-28T08:38:13.248Z"
   },
   {
    "duration": 302,
    "start_time": "2021-11-28T08:38:53.978Z"
   },
   {
    "duration": 1942,
    "start_time": "2021-11-28T08:38:52.340Z"
   },
   {
    "duration": 1940,
    "start_time": "2021-11-28T08:38:52.343Z"
   },
   {
    "duration": 1939,
    "start_time": "2021-11-28T08:38:52.345Z"
   },
   {
    "duration": 1938,
    "start_time": "2021-11-28T08:38:52.347Z"
   },
   {
    "duration": 1937,
    "start_time": "2021-11-28T08:38:52.349Z"
   },
   {
    "duration": 1936,
    "start_time": "2021-11-28T08:38:52.350Z"
   },
   {
    "duration": 1935,
    "start_time": "2021-11-28T08:38:52.352Z"
   },
   {
    "duration": 1934,
    "start_time": "2021-11-28T08:38:52.354Z"
   },
   {
    "duration": 1929,
    "start_time": "2021-11-28T08:38:52.360Z"
   },
   {
    "duration": 1928,
    "start_time": "2021-11-28T08:38:52.362Z"
   },
   {
    "duration": 20,
    "start_time": "2021-11-28T08:42:59.204Z"
   },
   {
    "duration": 9,
    "start_time": "2021-11-28T08:43:10.598Z"
   },
   {
    "duration": 418,
    "start_time": "2021-11-28T08:43:45.697Z"
   },
   {
    "duration": 11,
    "start_time": "2021-11-28T08:45:40.021Z"
   },
   {
    "duration": 281,
    "start_time": "2021-11-28T08:46:08.257Z"
   },
   {
    "duration": 22,
    "start_time": "2021-11-28T08:46:42.243Z"
   },
   {
    "duration": 35,
    "start_time": "2021-11-28T08:46:47.231Z"
   },
   {
    "duration": 4,
    "start_time": "2021-11-28T08:46:53.177Z"
   },
   {
    "duration": 29,
    "start_time": "2021-11-28T08:46:53.183Z"
   },
   {
    "duration": 7,
    "start_time": "2021-11-28T08:46:53.213Z"
   },
   {
    "duration": 9,
    "start_time": "2021-11-28T08:46:53.221Z"
   },
   {
    "duration": 58,
    "start_time": "2021-11-28T08:46:53.232Z"
   },
   {
    "duration": 11,
    "start_time": "2021-11-28T08:46:53.291Z"
   },
   {
    "duration": 10,
    "start_time": "2021-11-28T08:46:53.303Z"
   },
   {
    "duration": 7,
    "start_time": "2021-11-28T08:46:53.315Z"
   },
   {
    "duration": 3,
    "start_time": "2021-11-28T08:46:53.324Z"
   },
   {
    "duration": 6,
    "start_time": "2021-11-28T08:46:53.328Z"
   },
   {
    "duration": 5,
    "start_time": "2021-11-28T08:46:53.335Z"
   },
   {
    "duration": 4,
    "start_time": "2021-11-28T08:46:53.341Z"
   },
   {
    "duration": 6,
    "start_time": "2021-11-28T08:46:53.346Z"
   },
   {
    "duration": 5,
    "start_time": "2021-11-28T08:46:53.388Z"
   },
   {
    "duration": 127,
    "start_time": "2021-11-28T08:46:53.394Z"
   },
   {
    "duration": 12,
    "start_time": "2021-11-28T08:46:53.523Z"
   },
   {
    "duration": 4,
    "start_time": "2021-11-28T08:46:53.536Z"
   },
   {
    "duration": 5,
    "start_time": "2021-11-28T08:46:53.542Z"
   },
   {
    "duration": 11,
    "start_time": "2021-11-28T08:46:53.548Z"
   },
   {
    "duration": 18649,
    "start_time": "2021-11-28T08:46:53.560Z"
   },
   {
    "duration": 95,
    "start_time": "2021-11-28T08:47:12.293Z"
   },
   {
    "duration": 6,
    "start_time": "2021-11-28T08:47:12.389Z"
   },
   {
    "duration": 9,
    "start_time": "2021-11-28T08:47:12.397Z"
   },
   {
    "duration": 8,
    "start_time": "2021-11-28T08:47:12.408Z"
   },
   {
    "duration": 5,
    "start_time": "2021-11-28T08:47:12.417Z"
   },
   {
    "duration": 5,
    "start_time": "2021-11-28T08:47:12.423Z"
   },
   {
    "duration": 3,
    "start_time": "2021-11-28T08:47:12.430Z"
   },
   {
    "duration": 7,
    "start_time": "2021-11-28T08:47:12.435Z"
   },
   {
    "duration": 10,
    "start_time": "2021-11-28T08:47:12.443Z"
   },
   {
    "duration": 8,
    "start_time": "2021-11-28T08:47:12.454Z"
   },
   {
    "duration": 7,
    "start_time": "2021-11-28T08:47:12.463Z"
   },
   {
    "duration": 42108,
    "start_time": "2021-11-28T08:47:12.472Z"
   },
   {
    "duration": 22,
    "start_time": "2021-11-28T08:47:54.587Z"
   },
   {
    "duration": 35,
    "start_time": "2021-11-28T08:47:54.610Z"
   },
   {
    "duration": 5,
    "start_time": "2021-11-28T08:47:54.647Z"
   },
   {
    "duration": 18,
    "start_time": "2021-11-28T08:47:54.653Z"
   },
   {
    "duration": 259,
    "start_time": "2021-11-28T08:47:54.673Z"
   },
   {
    "duration": 1941,
    "start_time": "2021-11-28T08:47:52.993Z"
   },
   {
    "duration": 1941,
    "start_time": "2021-11-28T08:47:52.994Z"
   },
   {
    "duration": 1940,
    "start_time": "2021-11-28T08:47:52.996Z"
   },
   {
    "duration": 1938,
    "start_time": "2021-11-28T08:47:52.998Z"
   },
   {
    "duration": 1939,
    "start_time": "2021-11-28T08:47:52.999Z"
   },
   {
    "duration": 1937,
    "start_time": "2021-11-28T08:47:53.001Z"
   },
   {
    "duration": 3,
    "start_time": "2021-11-28T09:42:02.741Z"
   },
   {
    "duration": 3,
    "start_time": "2021-11-28T09:42:18.809Z"
   },
   {
    "duration": 3,
    "start_time": "2021-11-28T09:42:21.598Z"
   },
   {
    "duration": 3,
    "start_time": "2021-11-28T09:42:24.386Z"
   },
   {
    "duration": 3,
    "start_time": "2021-11-28T09:42:25.947Z"
   },
   {
    "duration": 3,
    "start_time": "2021-11-28T09:42:27.305Z"
   },
   {
    "duration": 3,
    "start_time": "2021-11-28T09:54:53.115Z"
   },
   {
    "duration": 3,
    "start_time": "2021-11-28T09:55:04.604Z"
   },
   {
    "duration": 585,
    "start_time": "2021-11-28T09:55:16.606Z"
   },
   {
    "duration": 3,
    "start_time": "2021-11-28T09:55:34.558Z"
   },
   {
    "duration": 48,
    "start_time": "2021-11-28T09:55:35.351Z"
   },
   {
    "duration": 3,
    "start_time": "2021-11-28T09:55:42.900Z"
   },
   {
    "duration": 3,
    "start_time": "2021-11-28T09:55:44.766Z"
   },
   {
    "duration": 3,
    "start_time": "2021-11-28T09:57:08.367Z"
   },
   {
    "duration": 475,
    "start_time": "2021-11-28T09:57:09.033Z"
   },
   {
    "duration": 99,
    "start_time": "2021-11-28T09:58:24.486Z"
   },
   {
    "duration": 2,
    "start_time": "2021-11-28T09:59:01.243Z"
   },
   {
    "duration": 3,
    "start_time": "2021-11-28T09:59:03.334Z"
   },
   {
    "duration": 503,
    "start_time": "2021-11-28T09:59:03.773Z"
   },
   {
    "duration": 3,
    "start_time": "2021-11-28T09:59:08.381Z"
   },
   {
    "duration": 4,
    "start_time": "2021-11-28T09:59:09.378Z"
   },
   {
    "duration": 3,
    "start_time": "2021-11-28T09:59:33.940Z"
   },
   {
    "duration": 476,
    "start_time": "2021-11-28T09:59:36.986Z"
   },
   {
    "duration": 4,
    "start_time": "2021-11-28T09:59:41.633Z"
   },
   {
    "duration": 567,
    "start_time": "2021-11-28T09:59:42.283Z"
   },
   {
    "duration": 3,
    "start_time": "2021-11-28T10:24:30.392Z"
   },
   {
    "duration": 3,
    "start_time": "2021-11-28T10:24:30.817Z"
   },
   {
    "duration": 3,
    "start_time": "2021-11-28T10:24:48.608Z"
   },
   {
    "duration": 3,
    "start_time": "2021-11-28T10:24:49.432Z"
   },
   {
    "duration": 3,
    "start_time": "2021-11-28T10:24:53.118Z"
   },
   {
    "duration": 3,
    "start_time": "2021-11-28T10:24:53.874Z"
   },
   {
    "duration": 323,
    "start_time": "2021-11-28T10:30:22.958Z"
   },
   {
    "duration": 230,
    "start_time": "2021-11-28T10:30:43.735Z"
   },
   {
    "duration": 232,
    "start_time": "2021-11-28T10:30:52.834Z"
   },
   {
    "duration": 11,
    "start_time": "2021-11-28T10:47:31.912Z"
   },
   {
    "duration": 74,
    "start_time": "2021-11-28T10:48:39.484Z"
   },
   {
    "duration": 76,
    "start_time": "2021-11-28T10:51:37.066Z"
   },
   {
    "duration": 90,
    "start_time": "2021-11-28T10:53:31.118Z"
   },
   {
    "duration": 79,
    "start_time": "2021-11-28T10:53:33.111Z"
   },
   {
    "duration": 4,
    "start_time": "2021-11-28T10:55:52.487Z"
   },
   {
    "duration": 32,
    "start_time": "2021-11-28T10:55:52.493Z"
   },
   {
    "duration": 7,
    "start_time": "2021-11-28T10:55:52.527Z"
   },
   {
    "duration": 11,
    "start_time": "2021-11-28T10:55:52.535Z"
   },
   {
    "duration": 49,
    "start_time": "2021-11-28T10:55:52.548Z"
   },
   {
    "duration": 12,
    "start_time": "2021-11-28T10:55:52.598Z"
   },
   {
    "duration": 10,
    "start_time": "2021-11-28T10:55:52.612Z"
   },
   {
    "duration": 7,
    "start_time": "2021-11-28T10:55:52.624Z"
   },
   {
    "duration": 3,
    "start_time": "2021-11-28T10:55:52.633Z"
   },
   {
    "duration": 6,
    "start_time": "2021-11-28T10:55:52.638Z"
   },
   {
    "duration": 4,
    "start_time": "2021-11-28T10:55:52.646Z"
   },
   {
    "duration": 4,
    "start_time": "2021-11-28T10:55:52.652Z"
   },
   {
    "duration": 33,
    "start_time": "2021-11-28T10:55:52.657Z"
   },
   {
    "duration": 22,
    "start_time": "2021-11-28T10:55:52.692Z"
   },
   {
    "duration": 131,
    "start_time": "2021-11-28T10:55:52.715Z"
   },
   {
    "duration": 10,
    "start_time": "2021-11-28T10:55:52.848Z"
   },
   {
    "duration": 3,
    "start_time": "2021-11-28T10:55:52.860Z"
   },
   {
    "duration": 6,
    "start_time": "2021-11-28T10:55:52.865Z"
   },
   {
    "duration": 15,
    "start_time": "2021-11-28T10:55:52.872Z"
   },
   {
    "duration": 15905,
    "start_time": "2021-11-28T10:55:54.968Z"
   },
   {
    "duration": 16264,
    "start_time": "2021-11-28T10:56:19.425Z"
   },
   {
    "duration": 4,
    "start_time": "2021-11-28T10:56:39.709Z"
   },
   {
    "duration": 3,
    "start_time": "2021-11-28T10:57:16.233Z"
   },
   {
    "duration": 3,
    "start_time": "2021-11-28T10:57:17.354Z"
   },
   {
    "duration": 15202,
    "start_time": "2021-11-28T10:57:17.895Z"
   },
   {
    "duration": 91,
    "start_time": "2021-11-28T10:57:33.099Z"
   },
   {
    "duration": 4,
    "start_time": "2021-11-28T10:58:39.505Z"
   },
   {
    "duration": 4,
    "start_time": "2021-11-28T10:58:55.885Z"
   },
   {
    "duration": 14857,
    "start_time": "2021-11-28T10:58:57.346Z"
   },
   {
    "duration": 4,
    "start_time": "2021-11-28T10:59:12.287Z"
   },
   {
    "duration": 16198,
    "start_time": "2021-11-28T11:04:00.592Z"
   },
   {
    "duration": 4,
    "start_time": "2021-11-28T11:05:19.787Z"
   },
   {
    "duration": 3,
    "start_time": "2021-11-28T11:05:27.711Z"
   },
   {
    "duration": 13818,
    "start_time": "2021-11-28T11:05:28.270Z"
   },
   {
    "duration": 12868,
    "start_time": "2021-11-28T11:15:30.449Z"
   },
   {
    "duration": 12494,
    "start_time": "2021-11-28T11:15:50.012Z"
   },
   {
    "duration": 12617,
    "start_time": "2021-11-28T11:16:39.873Z"
   },
   {
    "duration": 236,
    "start_time": "2021-11-28T11:16:53.109Z"
   },
   {
    "duration": 4,
    "start_time": "2021-11-28T11:17:20.955Z"
   },
   {
    "duration": 314,
    "start_time": "2021-11-28T11:17:26.117Z"
   },
   {
    "duration": 7,
    "start_time": "2021-11-28T11:17:30.571Z"
   },
   {
    "duration": 6,
    "start_time": "2021-11-28T11:17:40.156Z"
   },
   {
    "duration": 3,
    "start_time": "2021-11-28T12:04:18.128Z"
   },
   {
    "duration": 3,
    "start_time": "2021-11-28T12:15:03.952Z"
   },
   {
    "duration": 3,
    "start_time": "2021-11-28T12:15:14.025Z"
   },
   {
    "duration": 5,
    "start_time": "2021-11-28T12:15:48.052Z"
   },
   {
    "duration": 3,
    "start_time": "2021-11-28T12:19:54.509Z"
   },
   {
    "duration": 4,
    "start_time": "2021-11-28T12:21:04.427Z"
   },
   {
    "duration": 276,
    "start_time": "2021-11-28T12:21:17.008Z"
   },
   {
    "duration": 4,
    "start_time": "2021-11-28T12:21:42.639Z"
   },
   {
    "duration": 33,
    "start_time": "2021-11-28T12:21:42.646Z"
   },
   {
    "duration": 7,
    "start_time": "2021-11-28T12:21:42.680Z"
   },
   {
    "duration": 8,
    "start_time": "2021-11-28T12:21:42.690Z"
   },
   {
    "duration": 45,
    "start_time": "2021-11-28T12:21:42.700Z"
   },
   {
    "duration": 11,
    "start_time": "2021-11-28T12:21:42.747Z"
   },
   {
    "duration": 29,
    "start_time": "2021-11-28T12:21:42.759Z"
   },
   {
    "duration": 9,
    "start_time": "2021-11-28T12:21:42.792Z"
   },
   {
    "duration": 4,
    "start_time": "2021-11-28T12:21:42.803Z"
   },
   {
    "duration": 9,
    "start_time": "2021-11-28T12:21:42.808Z"
   },
   {
    "duration": 9,
    "start_time": "2021-11-28T12:21:42.820Z"
   },
   {
    "duration": 10,
    "start_time": "2021-11-28T12:21:42.831Z"
   },
   {
    "duration": 9,
    "start_time": "2021-11-28T12:21:42.843Z"
   },
   {
    "duration": 7,
    "start_time": "2021-11-28T12:21:42.853Z"
   },
   {
    "duration": 148,
    "start_time": "2021-11-28T12:21:42.862Z"
   },
   {
    "duration": 11,
    "start_time": "2021-11-28T12:21:43.011Z"
   },
   {
    "duration": 12,
    "start_time": "2021-11-28T12:21:43.024Z"
   },
   {
    "duration": 20,
    "start_time": "2021-11-28T12:21:43.038Z"
   },
   {
    "duration": 19,
    "start_time": "2021-11-28T12:21:43.059Z"
   },
   {
    "duration": 17,
    "start_time": "2021-11-28T12:21:43.079Z"
   },
   {
    "duration": 19,
    "start_time": "2021-11-28T12:21:43.098Z"
   },
   {
    "duration": 14,
    "start_time": "2021-11-28T12:21:43.119Z"
   },
   {
    "duration": 13,
    "start_time": "2021-11-28T12:21:43.135Z"
   },
   {
    "duration": 20,
    "start_time": "2021-11-28T12:21:43.150Z"
   },
   {
    "duration": 9,
    "start_time": "2021-11-28T12:21:43.171Z"
   },
   {
    "duration": 25,
    "start_time": "2021-11-28T12:21:43.182Z"
   },
   {
    "duration": 5,
    "start_time": "2021-11-28T12:21:45.091Z"
   },
   {
    "duration": 3,
    "start_time": "2021-11-28T12:21:47.226Z"
   },
   {
    "duration": 143322,
    "start_time": "2021-11-28T12:22:26.345Z"
   },
   {
    "duration": 4,
    "start_time": "2021-11-28T12:26:10.117Z"
   },
   {
    "duration": 1112,
    "start_time": "2021-11-28T16:05:12.021Z"
   },
   {
    "duration": 29,
    "start_time": "2021-11-28T16:05:13.135Z"
   },
   {
    "duration": 8,
    "start_time": "2021-11-28T16:05:13.166Z"
   },
   {
    "duration": 8,
    "start_time": "2021-11-28T16:05:13.176Z"
   },
   {
    "duration": 42,
    "start_time": "2021-11-28T16:05:13.185Z"
   },
   {
    "duration": 10,
    "start_time": "2021-11-28T16:05:13.228Z"
   },
   {
    "duration": 12,
    "start_time": "2021-11-28T16:05:13.240Z"
   },
   {
    "duration": 7,
    "start_time": "2021-11-28T16:05:13.253Z"
   },
   {
    "duration": 26,
    "start_time": "2021-11-28T16:05:13.262Z"
   },
   {
    "duration": 3,
    "start_time": "2021-11-28T16:05:13.290Z"
   },
   {
    "duration": 16,
    "start_time": "2021-11-28T16:05:13.295Z"
   },
   {
    "duration": 5,
    "start_time": "2021-11-28T16:05:13.313Z"
   },
   {
    "duration": 10,
    "start_time": "2021-11-28T16:05:13.319Z"
   },
   {
    "duration": 6,
    "start_time": "2021-11-28T16:05:13.331Z"
   },
   {
    "duration": 117,
    "start_time": "2021-11-28T16:05:13.339Z"
   },
   {
    "duration": 12,
    "start_time": "2021-11-28T16:05:13.457Z"
   },
   {
    "duration": 3,
    "start_time": "2021-11-28T16:05:13.470Z"
   },
   {
    "duration": 13,
    "start_time": "2021-11-28T16:05:13.475Z"
   },
   {
    "duration": 5,
    "start_time": "2021-11-28T16:05:13.490Z"
   },
   {
    "duration": 5,
    "start_time": "2021-11-28T16:05:13.496Z"
   },
   {
    "duration": 10,
    "start_time": "2021-11-28T16:05:13.502Z"
   },
   {
    "duration": 5,
    "start_time": "2021-11-28T16:05:13.513Z"
   },
   {
    "duration": 6,
    "start_time": "2021-11-28T16:05:13.519Z"
   },
   {
    "duration": 6,
    "start_time": "2021-11-28T16:05:13.526Z"
   },
   {
    "duration": 6,
    "start_time": "2021-11-28T16:05:13.533Z"
   },
   {
    "duration": 5,
    "start_time": "2021-11-28T16:05:13.540Z"
   },
   {
    "duration": 6,
    "start_time": "2021-11-28T16:05:13.547Z"
   },
   {
    "duration": 7,
    "start_time": "2021-11-28T16:05:13.554Z"
   },
   {
    "duration": 139894,
    "start_time": "2021-11-28T16:05:13.563Z"
   },
   {
    "duration": 73,
    "start_time": "2021-11-28T16:07:33.459Z"
   },
   {
    "duration": 2056,
    "start_time": "2021-11-28T16:07:31.478Z"
   },
   {
    "duration": 2055,
    "start_time": "2021-11-28T16:07:31.480Z"
   },
   {
    "duration": 2052,
    "start_time": "2021-11-28T16:07:31.484Z"
   },
   {
    "duration": 2050,
    "start_time": "2021-11-28T16:07:31.486Z"
   },
   {
    "duration": 2049,
    "start_time": "2021-11-28T16:07:31.488Z"
   },
   {
    "duration": 2049,
    "start_time": "2021-11-28T16:07:31.489Z"
   },
   {
    "duration": 4,
    "start_time": "2021-11-28T16:39:15.879Z"
   },
   {
    "duration": 5,
    "start_time": "2021-11-28T16:44:35.449Z"
   },
   {
    "duration": 38,
    "start_time": "2021-11-28T16:44:35.455Z"
   },
   {
    "duration": 6,
    "start_time": "2021-11-28T16:44:35.495Z"
   },
   {
    "duration": 6,
    "start_time": "2021-11-28T16:44:35.503Z"
   },
   {
    "duration": 42,
    "start_time": "2021-11-28T16:44:35.510Z"
   },
   {
    "duration": 40,
    "start_time": "2021-11-28T16:44:35.553Z"
   },
   {
    "duration": 8,
    "start_time": "2021-11-28T16:44:35.594Z"
   },
   {
    "duration": 12,
    "start_time": "2021-11-28T16:44:35.603Z"
   },
   {
    "duration": 3,
    "start_time": "2021-11-28T16:44:35.617Z"
   },
   {
    "duration": 11,
    "start_time": "2021-11-28T16:44:35.622Z"
   },
   {
    "duration": 12,
    "start_time": "2021-11-28T16:44:35.634Z"
   },
   {
    "duration": 11,
    "start_time": "2021-11-28T16:44:35.648Z"
   },
   {
    "duration": 6,
    "start_time": "2021-11-28T16:44:35.660Z"
   },
   {
    "duration": 10,
    "start_time": "2021-11-28T16:44:35.668Z"
   },
   {
    "duration": 116,
    "start_time": "2021-11-28T16:44:35.680Z"
   },
   {
    "duration": 10,
    "start_time": "2021-11-28T16:44:35.798Z"
   },
   {
    "duration": 3,
    "start_time": "2021-11-28T16:44:35.810Z"
   },
   {
    "duration": 13,
    "start_time": "2021-11-28T16:44:35.814Z"
   },
   {
    "duration": 5,
    "start_time": "2021-11-28T16:44:35.828Z"
   },
   {
    "duration": 6,
    "start_time": "2021-11-28T16:44:35.834Z"
   },
   {
    "duration": 6,
    "start_time": "2021-11-28T16:44:35.842Z"
   },
   {
    "duration": 5,
    "start_time": "2021-11-28T16:44:35.849Z"
   },
   {
    "duration": 5,
    "start_time": "2021-11-28T16:44:35.855Z"
   },
   {
    "duration": 10,
    "start_time": "2021-11-28T16:44:35.861Z"
   },
   {
    "duration": 5,
    "start_time": "2021-11-28T16:44:35.872Z"
   },
   {
    "duration": 10,
    "start_time": "2021-11-28T16:44:35.878Z"
   },
   {
    "duration": 8,
    "start_time": "2021-11-28T16:44:35.891Z"
   },
   {
    "duration": 8,
    "start_time": "2021-11-28T16:44:35.901Z"
   },
   {
    "duration": 140297,
    "start_time": "2021-11-28T16:44:35.910Z"
   },
   {
    "duration": 5,
    "start_time": "2021-11-28T16:46:56.208Z"
   },
   {
    "duration": 27,
    "start_time": "2021-11-28T16:46:56.214Z"
   },
   {
    "duration": 359,
    "start_time": "2021-11-28T16:46:56.242Z"
   },
   {
    "duration": 2037,
    "start_time": "2021-11-28T16:46:54.565Z"
   },
   {
    "duration": 2037,
    "start_time": "2021-11-28T16:46:54.567Z"
   },
   {
    "duration": 2037,
    "start_time": "2021-11-28T16:46:54.568Z"
   },
   {
    "duration": 2036,
    "start_time": "2021-11-28T16:46:54.570Z"
   },
   {
    "duration": 5,
    "start_time": "2021-11-28T16:48:31.942Z"
   },
   {
    "duration": 37,
    "start_time": "2021-11-28T16:48:31.949Z"
   },
   {
    "duration": 7,
    "start_time": "2021-11-28T16:48:31.988Z"
   },
   {
    "duration": 9,
    "start_time": "2021-11-28T16:48:31.996Z"
   },
   {
    "duration": 44,
    "start_time": "2021-11-28T16:48:32.006Z"
   },
   {
    "duration": 11,
    "start_time": "2021-11-28T16:48:32.052Z"
   },
   {
    "duration": 30,
    "start_time": "2021-11-28T16:48:32.064Z"
   },
   {
    "duration": 7,
    "start_time": "2021-11-28T16:48:32.095Z"
   },
   {
    "duration": 3,
    "start_time": "2021-11-28T16:48:32.105Z"
   },
   {
    "duration": 9,
    "start_time": "2021-11-28T16:48:32.110Z"
   },
   {
    "duration": 7,
    "start_time": "2021-11-28T16:48:32.121Z"
   },
   {
    "duration": 7,
    "start_time": "2021-11-28T16:48:32.129Z"
   },
   {
    "duration": 6,
    "start_time": "2021-11-28T16:48:32.137Z"
   },
   {
    "duration": 10,
    "start_time": "2021-11-28T16:48:32.145Z"
   },
   {
    "duration": 134,
    "start_time": "2021-11-28T16:48:32.157Z"
   },
   {
    "duration": 10,
    "start_time": "2021-11-28T16:48:32.293Z"
   },
   {
    "duration": 6,
    "start_time": "2021-11-28T16:48:32.305Z"
   },
   {
    "duration": 23,
    "start_time": "2021-11-28T16:48:32.312Z"
   },
   {
    "duration": 6,
    "start_time": "2021-11-28T16:48:32.337Z"
   },
   {
    "duration": 10,
    "start_time": "2021-11-28T16:48:32.344Z"
   },
   {
    "duration": 5,
    "start_time": "2021-11-28T16:48:32.356Z"
   },
   {
    "duration": 9,
    "start_time": "2021-11-28T16:48:32.363Z"
   },
   {
    "duration": 5,
    "start_time": "2021-11-28T16:48:32.373Z"
   },
   {
    "duration": 6,
    "start_time": "2021-11-28T16:48:32.380Z"
   },
   {
    "duration": 6,
    "start_time": "2021-11-28T16:48:32.387Z"
   },
   {
    "duration": 7,
    "start_time": "2021-11-28T16:48:32.394Z"
   },
   {
    "duration": 6,
    "start_time": "2021-11-28T16:48:32.403Z"
   },
   {
    "duration": 7,
    "start_time": "2021-11-28T16:48:32.410Z"
   },
   {
    "duration": 1166,
    "start_time": "2021-11-28T16:52:19.454Z"
   },
   {
    "duration": 32,
    "start_time": "2021-11-28T16:52:20.623Z"
   },
   {
    "duration": 13,
    "start_time": "2021-11-28T16:52:20.657Z"
   },
   {
    "duration": 28,
    "start_time": "2021-11-28T16:52:20.671Z"
   },
   {
    "duration": 61,
    "start_time": "2021-11-28T16:52:20.700Z"
   },
   {
    "duration": 11,
    "start_time": "2021-11-28T16:52:20.762Z"
   },
   {
    "duration": 31,
    "start_time": "2021-11-28T16:52:20.774Z"
   },
   {
    "duration": 46,
    "start_time": "2021-11-28T16:52:20.806Z"
   },
   {
    "duration": 14,
    "start_time": "2021-11-28T16:52:20.855Z"
   },
   {
    "duration": 27,
    "start_time": "2021-11-28T16:52:20.871Z"
   },
   {
    "duration": 30,
    "start_time": "2021-11-28T16:52:20.900Z"
   },
   {
    "duration": 22,
    "start_time": "2021-11-28T16:52:20.932Z"
   },
   {
    "duration": 29,
    "start_time": "2021-11-28T16:52:20.955Z"
   },
   {
    "duration": 16,
    "start_time": "2021-11-28T16:52:20.985Z"
   },
   {
    "duration": 117,
    "start_time": "2021-11-28T16:52:21.002Z"
   },
   {
    "duration": 12,
    "start_time": "2021-11-28T16:52:21.120Z"
   },
   {
    "duration": 18,
    "start_time": "2021-11-28T16:52:21.133Z"
   },
   {
    "duration": 23,
    "start_time": "2021-11-28T16:52:21.152Z"
   },
   {
    "duration": 20,
    "start_time": "2021-11-28T16:52:21.176Z"
   },
   {
    "duration": 27,
    "start_time": "2021-11-28T16:52:21.198Z"
   },
   {
    "duration": 26,
    "start_time": "2021-11-28T16:52:21.227Z"
   },
   {
    "duration": 24,
    "start_time": "2021-11-28T16:52:21.255Z"
   },
   {
    "duration": 35,
    "start_time": "2021-11-28T16:52:21.280Z"
   },
   {
    "duration": 12,
    "start_time": "2021-11-28T16:52:21.317Z"
   },
   {
    "duration": 24,
    "start_time": "2021-11-28T16:52:21.331Z"
   },
   {
    "duration": 38,
    "start_time": "2021-11-28T16:52:21.357Z"
   },
   {
    "duration": 99,
    "start_time": "2021-11-28T16:52:21.397Z"
   },
   {
    "duration": 2043,
    "start_time": "2021-11-28T16:52:19.455Z"
   },
   {
    "duration": 2042,
    "start_time": "2021-11-28T16:52:19.457Z"
   },
   {
    "duration": 2042,
    "start_time": "2021-11-28T16:52:19.458Z"
   },
   {
    "duration": 2037,
    "start_time": "2021-11-28T16:52:19.464Z"
   },
   {
    "duration": 2036,
    "start_time": "2021-11-28T16:52:19.466Z"
   },
   {
    "duration": 2035,
    "start_time": "2021-11-28T16:52:19.468Z"
   },
   {
    "duration": 2034,
    "start_time": "2021-11-28T16:52:19.470Z"
   },
   {
    "duration": 2034,
    "start_time": "2021-11-28T16:52:19.471Z"
   },
   {
    "duration": 2034,
    "start_time": "2021-11-28T16:52:19.473Z"
   },
   {
    "duration": 4,
    "start_time": "2021-11-28T16:52:40.597Z"
   },
   {
    "duration": 34,
    "start_time": "2021-11-28T16:52:40.603Z"
   },
   {
    "duration": 7,
    "start_time": "2021-11-28T16:52:40.639Z"
   },
   {
    "duration": 11,
    "start_time": "2021-11-28T16:52:40.647Z"
   },
   {
    "duration": 48,
    "start_time": "2021-11-28T16:52:40.660Z"
   },
   {
    "duration": 11,
    "start_time": "2021-11-28T16:52:40.710Z"
   },
   {
    "duration": 11,
    "start_time": "2021-11-28T16:52:40.722Z"
   },
   {
    "duration": 8,
    "start_time": "2021-11-28T16:52:40.734Z"
   },
   {
    "duration": 3,
    "start_time": "2021-11-28T16:52:40.744Z"
   },
   {
    "duration": 5,
    "start_time": "2021-11-28T16:52:40.750Z"
   },
   {
    "duration": 37,
    "start_time": "2021-11-28T16:52:40.756Z"
   },
   {
    "duration": 7,
    "start_time": "2021-11-28T16:52:40.794Z"
   },
   {
    "duration": 5,
    "start_time": "2021-11-28T16:52:40.803Z"
   },
   {
    "duration": 8,
    "start_time": "2021-11-28T16:52:40.809Z"
   },
   {
    "duration": 125,
    "start_time": "2021-11-28T16:52:40.818Z"
   },
   {
    "duration": 11,
    "start_time": "2021-11-28T16:52:40.945Z"
   },
   {
    "duration": 3,
    "start_time": "2021-11-28T16:52:40.957Z"
   },
   {
    "duration": 8,
    "start_time": "2021-11-28T16:52:40.961Z"
   },
   {
    "duration": 6,
    "start_time": "2021-11-28T16:52:40.970Z"
   },
   {
    "duration": 11,
    "start_time": "2021-11-28T16:52:40.977Z"
   },
   {
    "duration": 16,
    "start_time": "2021-11-28T16:52:40.990Z"
   },
   {
    "duration": 8,
    "start_time": "2021-11-28T16:52:41.007Z"
   },
   {
    "duration": 16,
    "start_time": "2021-11-28T16:52:41.017Z"
   },
   {
    "duration": 10,
    "start_time": "2021-11-28T16:52:41.034Z"
   },
   {
    "duration": 20,
    "start_time": "2021-11-28T16:52:41.046Z"
   },
   {
    "duration": 17,
    "start_time": "2021-11-28T16:52:41.068Z"
   },
   {
    "duration": 5,
    "start_time": "2021-11-28T16:52:41.088Z"
   },
   {
    "duration": 15,
    "start_time": "2021-11-28T16:52:41.095Z"
   },
   {
    "duration": 683,
    "start_time": "2021-11-28T16:52:41.111Z"
   },
   {
    "duration": 2044,
    "start_time": "2021-11-28T16:52:39.752Z"
   },
   {
    "duration": 2039,
    "start_time": "2021-11-28T16:52:39.758Z"
   },
   {
    "duration": 2034,
    "start_time": "2021-11-28T16:52:39.764Z"
   },
   {
    "duration": 2033,
    "start_time": "2021-11-28T16:52:39.766Z"
   },
   {
    "duration": 2032,
    "start_time": "2021-11-28T16:52:39.768Z"
   },
   {
    "duration": 2029,
    "start_time": "2021-11-28T16:52:39.772Z"
   },
   {
    "duration": 2029,
    "start_time": "2021-11-28T16:52:39.773Z"
   },
   {
    "duration": 6,
    "start_time": "2021-11-28T16:57:02.188Z"
   },
   {
    "duration": 54,
    "start_time": "2021-11-28T16:57:02.196Z"
   },
   {
    "duration": 8,
    "start_time": "2021-11-28T16:57:02.252Z"
   },
   {
    "duration": 9,
    "start_time": "2021-11-28T16:57:02.262Z"
   },
   {
    "duration": 45,
    "start_time": "2021-11-28T16:57:02.272Z"
   },
   {
    "duration": 11,
    "start_time": "2021-11-28T16:57:02.319Z"
   },
   {
    "duration": 14,
    "start_time": "2021-11-28T16:57:02.331Z"
   },
   {
    "duration": 21,
    "start_time": "2021-11-28T16:57:02.347Z"
   },
   {
    "duration": 8,
    "start_time": "2021-11-28T16:57:02.370Z"
   },
   {
    "duration": 6,
    "start_time": "2021-11-28T16:57:02.379Z"
   },
   {
    "duration": 8,
    "start_time": "2021-11-28T16:57:02.387Z"
   },
   {
    "duration": 5,
    "start_time": "2021-11-28T16:57:02.396Z"
   },
   {
    "duration": 7,
    "start_time": "2021-11-28T16:57:02.403Z"
   },
   {
    "duration": 7,
    "start_time": "2021-11-28T16:57:02.411Z"
   },
   {
    "duration": 114,
    "start_time": "2021-11-28T16:57:02.419Z"
   },
   {
    "duration": 10,
    "start_time": "2021-11-28T16:57:02.534Z"
   },
   {
    "duration": 3,
    "start_time": "2021-11-28T16:57:02.545Z"
   },
   {
    "duration": 11,
    "start_time": "2021-11-28T16:57:02.550Z"
   },
   {
    "duration": 11,
    "start_time": "2021-11-28T16:57:02.562Z"
   },
   {
    "duration": 15,
    "start_time": "2021-11-28T16:57:02.574Z"
   },
   {
    "duration": 8,
    "start_time": "2021-11-28T16:57:02.590Z"
   },
   {
    "duration": 12,
    "start_time": "2021-11-28T16:57:02.599Z"
   },
   {
    "duration": 7,
    "start_time": "2021-11-28T16:57:02.613Z"
   },
   {
    "duration": 12,
    "start_time": "2021-11-28T16:57:02.622Z"
   },
   {
    "duration": 12,
    "start_time": "2021-11-28T16:57:02.635Z"
   },
   {
    "duration": 11,
    "start_time": "2021-11-28T16:57:02.648Z"
   },
   {
    "duration": 11,
    "start_time": "2021-11-28T16:57:02.660Z"
   },
   {
    "duration": 15,
    "start_time": "2021-11-28T16:57:02.673Z"
   },
   {
    "duration": 541,
    "start_time": "2021-11-28T16:57:02.690Z"
   },
   {
    "duration": 2035,
    "start_time": "2021-11-28T16:57:01.198Z"
   },
   {
    "duration": 2032,
    "start_time": "2021-11-28T16:57:01.202Z"
   },
   {
    "duration": 2031,
    "start_time": "2021-11-28T16:57:01.204Z"
   },
   {
    "duration": 2031,
    "start_time": "2021-11-28T16:57:01.205Z"
   },
   {
    "duration": 2025,
    "start_time": "2021-11-28T16:57:01.212Z"
   },
   {
    "duration": 2024,
    "start_time": "2021-11-28T16:57:01.214Z"
   },
   {
    "duration": 2023,
    "start_time": "2021-11-28T16:57:01.216Z"
   },
   {
    "duration": 5,
    "start_time": "2021-11-28T16:57:44.975Z"
   },
   {
    "duration": 34,
    "start_time": "2021-11-28T16:57:44.981Z"
   },
   {
    "duration": 7,
    "start_time": "2021-11-28T16:57:45.017Z"
   },
   {
    "duration": 11,
    "start_time": "2021-11-28T16:57:45.026Z"
   },
   {
    "duration": 52,
    "start_time": "2021-11-28T16:57:45.039Z"
   },
   {
    "duration": 11,
    "start_time": "2021-11-28T16:57:45.093Z"
   },
   {
    "duration": 10,
    "start_time": "2021-11-28T16:57:45.106Z"
   },
   {
    "duration": 8,
    "start_time": "2021-11-28T16:57:45.118Z"
   },
   {
    "duration": 3,
    "start_time": "2021-11-28T16:57:45.128Z"
   },
   {
    "duration": 6,
    "start_time": "2021-11-28T16:57:45.133Z"
   },
   {
    "duration": 6,
    "start_time": "2021-11-28T16:57:45.140Z"
   },
   {
    "duration": 7,
    "start_time": "2021-11-28T16:57:45.147Z"
   },
   {
    "duration": 6,
    "start_time": "2021-11-28T16:57:45.187Z"
   },
   {
    "duration": 7,
    "start_time": "2021-11-28T16:57:45.194Z"
   },
   {
    "duration": 116,
    "start_time": "2021-11-28T16:57:45.202Z"
   },
   {
    "duration": 10,
    "start_time": "2021-11-28T16:57:45.319Z"
   },
   {
    "duration": 3,
    "start_time": "2021-11-28T16:57:45.330Z"
   },
   {
    "duration": 10,
    "start_time": "2021-11-28T16:57:45.334Z"
   },
   {
    "duration": 5,
    "start_time": "2021-11-28T16:57:45.346Z"
   },
   {
    "duration": 6,
    "start_time": "2021-11-28T16:57:45.353Z"
   },
   {
    "duration": 7,
    "start_time": "2021-11-28T16:57:45.360Z"
   },
   {
    "duration": 13,
    "start_time": "2021-11-28T16:57:45.368Z"
   },
   {
    "duration": 14,
    "start_time": "2021-11-28T16:57:45.382Z"
   },
   {
    "duration": 13,
    "start_time": "2021-11-28T16:57:45.397Z"
   },
   {
    "duration": 7,
    "start_time": "2021-11-28T16:57:45.412Z"
   },
   {
    "duration": 7,
    "start_time": "2021-11-28T16:57:45.420Z"
   },
   {
    "duration": 4,
    "start_time": "2021-11-28T16:57:45.429Z"
   },
   {
    "duration": 6,
    "start_time": "2021-11-28T16:57:45.435Z"
   },
   {
    "duration": 270779,
    "start_time": "2021-11-28T16:57:45.443Z"
   },
   {
    "duration": 4,
    "start_time": "2021-11-28T17:02:16.224Z"
   },
   {
    "duration": 23,
    "start_time": "2021-11-28T17:02:16.230Z"
   },
   {
    "duration": 299,
    "start_time": "2021-11-28T17:02:16.255Z"
   },
   {
    "duration": 2035,
    "start_time": "2021-11-28T17:02:14.521Z"
   },
   {
    "duration": 2034,
    "start_time": "2021-11-28T17:02:14.523Z"
   },
   {
    "duration": 2033,
    "start_time": "2021-11-28T17:02:14.525Z"
   },
   {
    "duration": 2032,
    "start_time": "2021-11-28T17:02:14.526Z"
   },
   {
    "duration": 4,
    "start_time": "2021-11-28T17:02:56.540Z"
   },
   {
    "duration": 36,
    "start_time": "2021-11-28T17:02:56.546Z"
   },
   {
    "duration": 7,
    "start_time": "2021-11-28T17:02:56.584Z"
   },
   {
    "duration": 9,
    "start_time": "2021-11-28T17:02:56.593Z"
   },
   {
    "duration": 42,
    "start_time": "2021-11-28T17:02:56.603Z"
   },
   {
    "duration": 11,
    "start_time": "2021-11-28T17:02:56.646Z"
   },
   {
    "duration": 29,
    "start_time": "2021-11-28T17:02:56.659Z"
   },
   {
    "duration": 8,
    "start_time": "2021-11-28T17:02:56.689Z"
   },
   {
    "duration": 3,
    "start_time": "2021-11-28T17:02:56.699Z"
   },
   {
    "duration": 6,
    "start_time": "2021-11-28T17:02:56.704Z"
   },
   {
    "duration": 5,
    "start_time": "2021-11-28T17:02:56.711Z"
   },
   {
    "duration": 7,
    "start_time": "2021-11-28T17:02:56.717Z"
   },
   {
    "duration": 6,
    "start_time": "2021-11-28T17:02:56.726Z"
   },
   {
    "duration": 9,
    "start_time": "2021-11-28T17:02:56.733Z"
   },
   {
    "duration": 133,
    "start_time": "2021-11-28T17:02:56.743Z"
   },
   {
    "duration": 15,
    "start_time": "2021-11-28T17:02:56.877Z"
   },
   {
    "duration": 3,
    "start_time": "2021-11-28T17:02:56.893Z"
   },
   {
    "duration": 12,
    "start_time": "2021-11-28T17:02:56.897Z"
   },
   {
    "duration": 5,
    "start_time": "2021-11-28T17:02:56.910Z"
   },
   {
    "duration": 6,
    "start_time": "2021-11-28T17:02:56.916Z"
   },
   {
    "duration": 6,
    "start_time": "2021-11-28T17:02:56.923Z"
   },
   {
    "duration": 9,
    "start_time": "2021-11-28T17:02:56.930Z"
   },
   {
    "duration": 5,
    "start_time": "2021-11-28T17:02:56.940Z"
   },
   {
    "duration": 6,
    "start_time": "2021-11-28T17:02:56.946Z"
   },
   {
    "duration": 6,
    "start_time": "2021-11-28T17:02:56.953Z"
   },
   {
    "duration": 7,
    "start_time": "2021-11-28T17:02:56.960Z"
   },
   {
    "duration": 5,
    "start_time": "2021-11-28T17:02:56.970Z"
   },
   {
    "duration": 6,
    "start_time": "2021-11-28T17:02:56.976Z"
   },
   {
    "duration": 268018,
    "start_time": "2021-11-28T17:02:56.988Z"
   },
   {
    "duration": 5,
    "start_time": "2021-11-28T17:07:25.008Z"
   },
   {
    "duration": 6,
    "start_time": "2021-11-28T17:07:25.015Z"
   },
   {
    "duration": 256,
    "start_time": "2021-11-28T17:07:25.022Z"
   },
   {
    "duration": 2025,
    "start_time": "2021-11-28T17:07:23.255Z"
   },
   {
    "duration": 2024,
    "start_time": "2021-11-28T17:07:23.257Z"
   },
   {
    "duration": 2023,
    "start_time": "2021-11-28T17:07:23.259Z"
   },
   {
    "duration": 2022,
    "start_time": "2021-11-28T17:07:23.261Z"
   },
   {
    "duration": 4,
    "start_time": "2021-11-28T17:08:13.335Z"
   },
   {
    "duration": 35,
    "start_time": "2021-11-28T17:08:13.371Z"
   },
   {
    "duration": 21,
    "start_time": "2021-11-28T17:08:13.408Z"
   },
   {
    "duration": 40,
    "start_time": "2021-11-28T17:08:13.431Z"
   },
   {
    "duration": 62,
    "start_time": "2021-11-28T17:08:13.473Z"
   },
   {
    "duration": 11,
    "start_time": "2021-11-28T17:08:13.537Z"
   },
   {
    "duration": 38,
    "start_time": "2021-11-28T17:08:13.550Z"
   },
   {
    "duration": 23,
    "start_time": "2021-11-28T17:08:13.589Z"
   },
   {
    "duration": 36,
    "start_time": "2021-11-28T17:08:13.614Z"
   },
   {
    "duration": 28,
    "start_time": "2021-11-28T17:08:13.653Z"
   },
   {
    "duration": 28,
    "start_time": "2021-11-28T17:08:13.684Z"
   },
   {
    "duration": 30,
    "start_time": "2021-11-28T17:08:13.714Z"
   },
   {
    "duration": 40,
    "start_time": "2021-11-28T17:08:13.746Z"
   },
   {
    "duration": 22,
    "start_time": "2021-11-28T17:08:13.788Z"
   },
   {
    "duration": 148,
    "start_time": "2021-11-28T17:08:13.812Z"
   },
   {
    "duration": 12,
    "start_time": "2021-11-28T17:08:13.962Z"
   },
   {
    "duration": 18,
    "start_time": "2021-11-28T17:08:13.975Z"
   },
   {
    "duration": 50,
    "start_time": "2021-11-28T17:08:13.994Z"
   },
   {
    "duration": 18,
    "start_time": "2021-11-28T17:08:14.046Z"
   },
   {
    "duration": 27,
    "start_time": "2021-11-28T17:08:14.065Z"
   },
   {
    "duration": 33,
    "start_time": "2021-11-28T17:08:14.093Z"
   },
   {
    "duration": 28,
    "start_time": "2021-11-28T17:08:14.127Z"
   },
   {
    "duration": 35,
    "start_time": "2021-11-28T17:08:14.156Z"
   },
   {
    "duration": 13,
    "start_time": "2021-11-28T17:08:14.192Z"
   },
   {
    "duration": 19,
    "start_time": "2021-11-28T17:08:14.207Z"
   },
   {
    "duration": 33,
    "start_time": "2021-11-28T17:08:14.227Z"
   },
   {
    "duration": 23,
    "start_time": "2021-11-28T17:08:14.262Z"
   },
   {
    "duration": 30,
    "start_time": "2021-11-28T17:08:14.288Z"
   },
   {
    "duration": 37860,
    "start_time": "2021-11-28T17:08:14.320Z"
   },
   {
    "duration": 2020,
    "start_time": "2021-11-28T17:08:50.162Z"
   },
   {
    "duration": 2018,
    "start_time": "2021-11-28T17:08:50.165Z"
   },
   {
    "duration": 2016,
    "start_time": "2021-11-28T17:08:50.168Z"
   },
   {
    "duration": 2016,
    "start_time": "2021-11-28T17:08:50.169Z"
   },
   {
    "duration": 2016,
    "start_time": "2021-11-28T17:08:50.171Z"
   },
   {
    "duration": 2015,
    "start_time": "2021-11-28T17:08:50.173Z"
   },
   {
    "duration": 2015,
    "start_time": "2021-11-28T17:08:50.174Z"
   },
   {
    "duration": 3,
    "start_time": "2021-11-28T17:14:20.630Z"
   },
   {
    "duration": 2,
    "start_time": "2021-11-28T17:14:45.037Z"
   },
   {
    "duration": 4,
    "start_time": "2021-11-28T17:14:57.568Z"
   },
   {
    "duration": 3,
    "start_time": "2021-11-28T17:14:58.967Z"
   },
   {
    "duration": 89240,
    "start_time": "2021-11-28T17:15:00.048Z"
   },
   {
    "duration": 4,
    "start_time": "2021-11-28T17:16:31.589Z"
   },
   {
    "duration": 3,
    "start_time": "2021-11-28T17:16:31.872Z"
   },
   {
    "duration": 209493,
    "start_time": "2021-11-28T17:16:32.264Z"
   },
   {
    "duration": 4,
    "start_time": "2021-11-28T17:20:08.334Z"
   },
   {
    "duration": 3,
    "start_time": "2021-11-28T17:20:08.759Z"
   },
   {
    "duration": 263472,
    "start_time": "2021-11-28T17:20:09.106Z"
   },
   {
    "duration": 4,
    "start_time": "2021-11-28T17:25:19.288Z"
   },
   {
    "duration": 4,
    "start_time": "2021-11-28T17:25:21.829Z"
   },
   {
    "duration": 4,
    "start_time": "2021-11-28T17:25:22.861Z"
   },
   {
    "duration": 271469,
    "start_time": "2021-11-28T17:25:23.406Z"
   },
   {
    "duration": 77,
    "start_time": "2021-11-28T17:38:10.699Z"
   },
   {
    "duration": 3,
    "start_time": "2021-11-28T17:38:22.962Z"
   },
   {
    "duration": 3,
    "start_time": "2021-11-28T17:38:34.343Z"
   },
   {
    "duration": 2,
    "start_time": "2021-11-28T17:38:58.983Z"
   },
   {
    "duration": 3,
    "start_time": "2021-11-28T17:39:00.004Z"
   },
   {
    "duration": 2,
    "start_time": "2021-11-28T17:39:43.167Z"
   },
   {
    "duration": 4,
    "start_time": "2021-11-28T17:56:55.457Z"
   },
   {
    "duration": 4,
    "start_time": "2021-11-28T17:59:32.457Z"
   },
   {
    "duration": 86,
    "start_time": "2021-11-28T18:20:12.979Z"
   },
   {
    "duration": 12,
    "start_time": "2021-11-28T18:20:42.694Z"
   },
   {
    "duration": 87,
    "start_time": "2021-11-28T18:24:12.956Z"
   },
   {
    "duration": 302,
    "start_time": "2021-11-28T18:28:31.397Z"
   },
   {
    "duration": 5,
    "start_time": "2021-11-28T18:28:50.509Z"
   },
   {
    "duration": 3,
    "start_time": "2021-11-28T18:28:51.053Z"
   },
   {
    "duration": 97,
    "start_time": "2021-11-28T18:32:28.347Z"
   },
   {
    "duration": 4,
    "start_time": "2021-11-28T18:34:13.680Z"
   },
   {
    "duration": 5,
    "start_time": "2021-11-28T18:34:39.186Z"
   },
   {
    "duration": 34,
    "start_time": "2021-11-28T18:34:39.193Z"
   },
   {
    "duration": 6,
    "start_time": "2021-11-28T18:34:39.229Z"
   },
   {
    "duration": 8,
    "start_time": "2021-11-28T18:34:39.236Z"
   },
   {
    "duration": 58,
    "start_time": "2021-11-28T18:34:39.245Z"
   },
   {
    "duration": 10,
    "start_time": "2021-11-28T18:34:39.305Z"
   },
   {
    "duration": 13,
    "start_time": "2021-11-28T18:34:39.316Z"
   },
   {
    "duration": 6,
    "start_time": "2021-11-28T18:34:39.331Z"
   },
   {
    "duration": 8,
    "start_time": "2021-11-28T18:34:39.339Z"
   },
   {
    "duration": 7,
    "start_time": "2021-11-28T18:34:39.349Z"
   },
   {
    "duration": 7,
    "start_time": "2021-11-28T18:34:39.357Z"
   },
   {
    "duration": 21,
    "start_time": "2021-11-28T18:34:39.366Z"
   },
   {
    "duration": 3,
    "start_time": "2021-11-28T18:34:39.389Z"
   },
   {
    "duration": 8,
    "start_time": "2021-11-28T18:34:39.393Z"
   },
   {
    "duration": 124,
    "start_time": "2021-11-28T18:34:39.402Z"
   },
   {
    "duration": 10,
    "start_time": "2021-11-28T18:34:39.528Z"
   },
   {
    "duration": 3,
    "start_time": "2021-11-28T18:34:39.540Z"
   },
   {
    "duration": 5,
    "start_time": "2021-11-28T18:34:39.544Z"
   },
   {
    "duration": 5,
    "start_time": "2021-11-28T18:34:39.550Z"
   },
   {
    "duration": 5,
    "start_time": "2021-11-28T18:34:39.556Z"
   },
   {
    "duration": 6,
    "start_time": "2021-11-28T18:34:39.562Z"
   },
   {
    "duration": 2,
    "start_time": "2021-11-28T18:34:39.588Z"
   },
   {
    "duration": 3,
    "start_time": "2021-11-28T18:34:39.593Z"
   },
   {
    "duration": 6,
    "start_time": "2021-11-28T18:34:39.598Z"
   },
   {
    "duration": 5,
    "start_time": "2021-11-28T18:34:39.605Z"
   },
   {
    "duration": 6,
    "start_time": "2021-11-28T18:34:39.611Z"
   },
   {
    "duration": 5,
    "start_time": "2021-11-28T18:34:39.618Z"
   },
   {
    "duration": 5,
    "start_time": "2021-11-28T18:34:39.624Z"
   },
   {
    "duration": 5,
    "start_time": "2021-11-28T18:34:39.630Z"
   },
   {
    "duration": 5,
    "start_time": "2021-11-28T18:34:39.636Z"
   },
   {
    "duration": 5,
    "start_time": "2021-11-28T18:34:39.642Z"
   },
   {
    "duration": 39,
    "start_time": "2021-11-28T18:34:39.648Z"
   },
   {
    "duration": 5,
    "start_time": "2021-11-28T18:34:39.688Z"
   },
   {
    "duration": 7,
    "start_time": "2021-11-28T18:34:39.694Z"
   },
   {
    "duration": 269764,
    "start_time": "2021-11-28T18:34:39.702Z"
   },
   {
    "duration": 476,
    "start_time": "2021-11-28T18:39:09.468Z"
   },
   {
    "duration": 1975,
    "start_time": "2021-11-28T18:39:07.972Z"
   },
   {
    "duration": 1974,
    "start_time": "2021-11-28T18:39:07.974Z"
   },
   {
    "duration": 1973,
    "start_time": "2021-11-28T18:39:07.976Z"
   },
   {
    "duration": 1973,
    "start_time": "2021-11-28T18:39:07.978Z"
   },
   {
    "duration": 3,
    "start_time": "2021-11-28T18:41:58.726Z"
   },
   {
    "duration": 5,
    "start_time": "2021-11-28T18:42:04.433Z"
   },
   {
    "duration": 2,
    "start_time": "2021-11-28T18:42:11.886Z"
   },
   {
    "duration": 3,
    "start_time": "2021-11-28T18:42:18.121Z"
   },
   {
    "duration": 3,
    "start_time": "2021-11-28T18:42:24.487Z"
   },
   {
    "duration": 3,
    "start_time": "2021-11-28T18:42:31.769Z"
   },
   {
    "duration": 4,
    "start_time": "2021-11-28T18:42:41.783Z"
   },
   {
    "duration": 4,
    "start_time": "2021-11-28T18:42:45.478Z"
   },
   {
    "duration": 4,
    "start_time": "2021-11-28T18:42:49.596Z"
   },
   {
    "duration": 4,
    "start_time": "2021-11-28T18:43:25.977Z"
   },
   {
    "duration": 31,
    "start_time": "2021-11-28T18:43:25.983Z"
   },
   {
    "duration": 7,
    "start_time": "2021-11-28T18:43:26.016Z"
   },
   {
    "duration": 7,
    "start_time": "2021-11-28T18:43:26.025Z"
   },
   {
    "duration": 61,
    "start_time": "2021-11-28T18:43:26.034Z"
   },
   {
    "duration": 11,
    "start_time": "2021-11-28T18:43:26.096Z"
   },
   {
    "duration": 10,
    "start_time": "2021-11-28T18:43:26.108Z"
   },
   {
    "duration": 7,
    "start_time": "2021-11-28T18:43:26.120Z"
   },
   {
    "duration": 10,
    "start_time": "2021-11-28T18:43:26.129Z"
   },
   {
    "duration": 6,
    "start_time": "2021-11-28T18:43:26.141Z"
   },
   {
    "duration": 7,
    "start_time": "2021-11-28T18:43:26.148Z"
   },
   {
    "duration": 33,
    "start_time": "2021-11-28T18:43:26.156Z"
   },
   {
    "duration": 4,
    "start_time": "2021-11-28T18:43:26.190Z"
   },
   {
    "duration": 8,
    "start_time": "2021-11-28T18:43:26.196Z"
   },
   {
    "duration": 123,
    "start_time": "2021-11-28T18:43:26.205Z"
   },
   {
    "duration": 10,
    "start_time": "2021-11-28T18:43:26.330Z"
   },
   {
    "duration": 3,
    "start_time": "2021-11-28T18:43:26.342Z"
   },
   {
    "duration": 5,
    "start_time": "2021-11-28T18:43:26.347Z"
   },
   {
    "duration": 4,
    "start_time": "2021-11-28T18:43:26.353Z"
   },
   {
    "duration": 5,
    "start_time": "2021-11-28T18:43:26.358Z"
   },
   {
    "duration": 4,
    "start_time": "2021-11-28T18:43:26.364Z"
   },
   {
    "duration": 3,
    "start_time": "2021-11-28T18:43:26.388Z"
   },
   {
    "duration": 3,
    "start_time": "2021-11-28T18:43:26.394Z"
   },
   {
    "duration": 5,
    "start_time": "2021-11-28T18:43:26.399Z"
   },
   {
    "duration": 7,
    "start_time": "2021-11-28T18:43:26.405Z"
   },
   {
    "duration": 5,
    "start_time": "2021-11-28T18:43:26.414Z"
   },
   {
    "duration": 8,
    "start_time": "2021-11-28T18:43:26.420Z"
   },
   {
    "duration": 5,
    "start_time": "2021-11-28T18:43:26.430Z"
   },
   {
    "duration": 5,
    "start_time": "2021-11-28T18:43:26.437Z"
   },
   {
    "duration": 6,
    "start_time": "2021-11-28T18:43:26.443Z"
   },
   {
    "duration": 7,
    "start_time": "2021-11-28T18:43:26.450Z"
   },
   {
    "duration": 30,
    "start_time": "2021-11-28T18:43:26.459Z"
   },
   {
    "duration": 7,
    "start_time": "2021-11-28T18:43:26.491Z"
   },
   {
    "duration": 5,
    "start_time": "2021-11-28T18:43:26.499Z"
   },
   {
    "duration": 265305,
    "start_time": "2021-11-28T18:43:26.506Z"
   },
   {
    "duration": 464,
    "start_time": "2021-11-28T18:47:51.813Z"
   },
   {
    "duration": 1957,
    "start_time": "2021-11-28T18:47:50.321Z"
   },
   {
    "duration": 1956,
    "start_time": "2021-11-28T18:47:50.323Z"
   },
   {
    "duration": 1954,
    "start_time": "2021-11-28T18:47:50.326Z"
   },
   {
    "duration": 1953,
    "start_time": "2021-11-28T18:47:50.328Z"
   },
   {
    "duration": 5,
    "start_time": "2021-11-28T18:49:55.397Z"
   },
   {
    "duration": 34,
    "start_time": "2021-11-28T18:49:55.403Z"
   },
   {
    "duration": 9,
    "start_time": "2021-11-28T18:49:55.439Z"
   },
   {
    "duration": 7,
    "start_time": "2021-11-28T18:49:55.450Z"
   },
   {
    "duration": 76,
    "start_time": "2021-11-28T18:49:55.459Z"
   },
   {
    "duration": 16,
    "start_time": "2021-11-28T18:49:55.537Z"
   },
   {
    "duration": 10,
    "start_time": "2021-11-28T18:49:55.555Z"
   },
   {
    "duration": 11,
    "start_time": "2021-11-28T18:49:55.587Z"
   },
   {
    "duration": 3,
    "start_time": "2021-11-28T18:49:55.601Z"
   },
   {
    "duration": 6,
    "start_time": "2021-11-28T18:49:55.607Z"
   },
   {
    "duration": 5,
    "start_time": "2021-11-28T18:49:55.615Z"
   },
   {
    "duration": 8,
    "start_time": "2021-11-28T18:49:55.621Z"
   },
   {
    "duration": 8,
    "start_time": "2021-11-28T18:49:55.630Z"
   },
   {
    "duration": 10,
    "start_time": "2021-11-28T18:49:55.639Z"
   },
   {
    "duration": 137,
    "start_time": "2021-11-28T18:49:55.650Z"
   },
   {
    "duration": 10,
    "start_time": "2021-11-28T18:49:55.789Z"
   },
   {
    "duration": 3,
    "start_time": "2021-11-28T18:49:55.801Z"
   },
   {
    "duration": 10,
    "start_time": "2021-11-28T18:49:55.805Z"
   },
   {
    "duration": 16,
    "start_time": "2021-11-28T18:49:55.816Z"
   },
   {
    "duration": 9,
    "start_time": "2021-11-28T18:49:55.833Z"
   },
   {
    "duration": 6,
    "start_time": "2021-11-28T18:49:55.843Z"
   },
   {
    "duration": 4,
    "start_time": "2021-11-28T18:49:55.851Z"
   },
   {
    "duration": 5,
    "start_time": "2021-11-28T18:49:55.856Z"
   },
   {
    "duration": 8,
    "start_time": "2021-11-28T18:49:55.862Z"
   },
   {
    "duration": 4,
    "start_time": "2021-11-28T18:49:55.871Z"
   },
   {
    "duration": 11,
    "start_time": "2021-11-28T18:49:55.877Z"
   },
   {
    "duration": 3,
    "start_time": "2021-11-28T18:49:55.890Z"
   },
   {
    "duration": 5,
    "start_time": "2021-11-28T18:49:55.895Z"
   },
   {
    "duration": 8,
    "start_time": "2021-11-28T18:49:55.901Z"
   },
   {
    "duration": 4,
    "start_time": "2021-11-28T18:49:55.911Z"
   },
   {
    "duration": 11,
    "start_time": "2021-11-28T18:49:55.917Z"
   },
   {
    "duration": 8,
    "start_time": "2021-11-28T18:49:55.929Z"
   },
   {
    "duration": 9,
    "start_time": "2021-11-28T18:49:55.938Z"
   },
   {
    "duration": 7,
    "start_time": "2021-11-28T18:49:55.948Z"
   },
   {
    "duration": 7,
    "start_time": "2021-11-28T18:49:55.956Z"
   },
   {
    "duration": 15276,
    "start_time": "2021-11-28T18:49:55.964Z"
   },
   {
    "duration": 1996,
    "start_time": "2021-11-28T18:50:09.246Z"
   },
   {
    "duration": 1992,
    "start_time": "2021-11-28T18:50:09.250Z"
   },
   {
    "duration": 1992,
    "start_time": "2021-11-28T18:50:09.251Z"
   },
   {
    "duration": 1991,
    "start_time": "2021-11-28T18:50:09.253Z"
   },
   {
    "duration": 3,
    "start_time": "2021-11-28T18:51:08.272Z"
   },
   {
    "duration": 3,
    "start_time": "2021-11-28T18:51:55.775Z"
   },
   {
    "duration": 4,
    "start_time": "2021-11-28T18:51:59.380Z"
   },
   {
    "duration": 33,
    "start_time": "2021-11-28T18:51:59.386Z"
   },
   {
    "duration": 6,
    "start_time": "2021-11-28T18:51:59.421Z"
   },
   {
    "duration": 9,
    "start_time": "2021-11-28T18:51:59.429Z"
   },
   {
    "duration": 77,
    "start_time": "2021-11-28T18:51:59.440Z"
   },
   {
    "duration": 15,
    "start_time": "2021-11-28T18:51:59.519Z"
   },
   {
    "duration": 11,
    "start_time": "2021-11-28T18:51:59.535Z"
   },
   {
    "duration": 8,
    "start_time": "2021-11-28T18:51:59.548Z"
   },
   {
    "duration": 3,
    "start_time": "2021-11-28T18:51:59.558Z"
   },
   {
    "duration": 29,
    "start_time": "2021-11-28T18:51:59.562Z"
   },
   {
    "duration": 6,
    "start_time": "2021-11-28T18:51:59.592Z"
   },
   {
    "duration": 5,
    "start_time": "2021-11-28T18:51:59.600Z"
   },
   {
    "duration": 6,
    "start_time": "2021-11-28T18:51:59.607Z"
   },
   {
    "duration": 8,
    "start_time": "2021-11-28T18:51:59.614Z"
   },
   {
    "duration": 130,
    "start_time": "2021-11-28T18:51:59.623Z"
   },
   {
    "duration": 11,
    "start_time": "2021-11-28T18:51:59.755Z"
   },
   {
    "duration": 3,
    "start_time": "2021-11-28T18:51:59.768Z"
   },
   {
    "duration": 16,
    "start_time": "2021-11-28T18:51:59.773Z"
   },
   {
    "duration": 4,
    "start_time": "2021-11-28T18:51:59.790Z"
   },
   {
    "duration": 4,
    "start_time": "2021-11-28T18:51:59.796Z"
   },
   {
    "duration": 6,
    "start_time": "2021-11-28T18:51:59.802Z"
   },
   {
    "duration": 4,
    "start_time": "2021-11-28T18:51:59.810Z"
   },
   {
    "duration": 3,
    "start_time": "2021-11-28T18:51:59.817Z"
   },
   {
    "duration": 6,
    "start_time": "2021-11-28T18:51:59.822Z"
   },
   {
    "duration": 9,
    "start_time": "2021-11-28T18:51:59.830Z"
   },
   {
    "duration": 7,
    "start_time": "2021-11-28T18:51:59.841Z"
   },
   {
    "duration": 5,
    "start_time": "2021-11-28T18:51:59.850Z"
   },
   {
    "duration": 5,
    "start_time": "2021-11-28T18:51:59.856Z"
   },
   {
    "duration": 3,
    "start_time": "2021-11-28T18:51:59.888Z"
   },
   {
    "duration": 6,
    "start_time": "2021-11-28T18:51:59.892Z"
   },
   {
    "duration": 11,
    "start_time": "2021-11-28T18:51:59.900Z"
   },
   {
    "duration": 9,
    "start_time": "2021-11-28T18:51:59.913Z"
   },
   {
    "duration": 14,
    "start_time": "2021-11-28T18:51:59.923Z"
   },
   {
    "duration": 6,
    "start_time": "2021-11-28T18:51:59.938Z"
   },
   {
    "duration": 8,
    "start_time": "2021-11-28T18:51:59.945Z"
   },
   {
    "duration": 262133,
    "start_time": "2021-11-28T18:51:59.955Z"
   },
   {
    "duration": 84,
    "start_time": "2021-11-28T18:56:22.090Z"
   },
   {
    "duration": 2005,
    "start_time": "2021-11-28T18:56:20.171Z"
   },
   {
    "duration": 1999,
    "start_time": "2021-11-28T18:56:20.179Z"
   },
   {
    "duration": 1998,
    "start_time": "2021-11-28T18:56:20.181Z"
   },
   {
    "duration": 13,
    "start_time": "2021-11-28T18:57:34.253Z"
   },
   {
    "duration": 394662,
    "start_time": "2021-11-28T18:57:34.691Z"
   },
   {
    "duration": 12,
    "start_time": "2021-11-28T19:04:09.355Z"
   },
   {
    "duration": 116415,
    "start_time": "2021-11-28T19:04:09.368Z"
   },
   {
    "duration": 4,
    "start_time": "2021-11-28T19:10:12.766Z"
   },
   {
    "duration": 3,
    "start_time": "2021-11-28T19:10:14.341Z"
   },
   {
    "duration": 258,
    "start_time": "2021-11-28T19:10:59.081Z"
   },
   {
    "duration": 3,
    "start_time": "2021-11-28T19:11:04.932Z"
   },
   {
    "duration": 5,
    "start_time": "2021-11-28T19:11:15.729Z"
   },
   {
    "duration": 5,
    "start_time": "2021-11-28T19:11:38.374Z"
   },
   {
    "duration": 6,
    "start_time": "2021-11-28T19:13:29.850Z"
   },
   {
    "duration": 40,
    "start_time": "2021-11-28T19:13:29.857Z"
   },
   {
    "duration": 9,
    "start_time": "2021-11-28T19:13:29.899Z"
   },
   {
    "duration": 9,
    "start_time": "2021-11-28T19:13:29.910Z"
   },
   {
    "duration": 84,
    "start_time": "2021-11-28T19:13:29.920Z"
   },
   {
    "duration": 12,
    "start_time": "2021-11-28T19:13:30.005Z"
   },
   {
    "duration": 16,
    "start_time": "2021-11-28T19:13:30.019Z"
   },
   {
    "duration": 12,
    "start_time": "2021-11-28T19:13:30.036Z"
   },
   {
    "duration": 3,
    "start_time": "2021-11-28T19:13:30.051Z"
   },
   {
    "duration": 33,
    "start_time": "2021-11-28T19:13:30.056Z"
   },
   {
    "duration": 4,
    "start_time": "2021-11-28T19:13:30.090Z"
   },
   {
    "duration": 26,
    "start_time": "2021-11-28T19:13:30.096Z"
   },
   {
    "duration": 11,
    "start_time": "2021-11-28T19:13:30.124Z"
   },
   {
    "duration": 11,
    "start_time": "2021-11-28T19:13:30.136Z"
   },
   {
    "duration": 116,
    "start_time": "2021-11-28T19:13:30.148Z"
   },
   {
    "duration": 11,
    "start_time": "2021-11-28T19:13:30.265Z"
   },
   {
    "duration": 3,
    "start_time": "2021-11-28T19:13:30.288Z"
   },
   {
    "duration": 8,
    "start_time": "2021-11-28T19:13:30.293Z"
   },
   {
    "duration": 15,
    "start_time": "2021-11-28T19:13:30.302Z"
   },
   {
    "duration": 9,
    "start_time": "2021-11-28T19:13:30.319Z"
   },
   {
    "duration": 7,
    "start_time": "2021-11-28T19:13:30.330Z"
   },
   {
    "duration": 15,
    "start_time": "2021-11-28T19:13:30.338Z"
   },
   {
    "duration": 12,
    "start_time": "2021-11-28T19:13:30.354Z"
   },
   {
    "duration": 14,
    "start_time": "2021-11-28T19:13:30.368Z"
   },
   {
    "duration": 9,
    "start_time": "2021-11-28T19:13:30.384Z"
   },
   {
    "duration": 76,
    "start_time": "2021-11-28T19:13:30.394Z"
   },
   {
    "duration": 15,
    "start_time": "2021-11-28T19:13:30.473Z"
   },
   {
    "duration": 13,
    "start_time": "2021-11-28T19:13:30.490Z"
   },
   {
    "duration": 37,
    "start_time": "2021-11-28T19:13:30.505Z"
   },
   {
    "duration": 8,
    "start_time": "2021-11-28T19:13:30.544Z"
   },
   {
    "duration": 13,
    "start_time": "2021-11-28T19:13:30.554Z"
   },
   {
    "duration": 5,
    "start_time": "2021-11-28T19:13:30.569Z"
   },
   {
    "duration": 12,
    "start_time": "2021-11-28T19:13:30.575Z"
   },
   {
    "duration": 14,
    "start_time": "2021-11-28T19:13:30.589Z"
   },
   {
    "duration": 270703,
    "start_time": "2021-11-28T19:13:30.604Z"
   },
   {
    "duration": 275471,
    "start_time": "2021-11-28T19:18:01.308Z"
   },
   {
    "duration": 23,
    "start_time": "2021-11-28T19:22:36.781Z"
   },
   {
    "duration": 368761,
    "start_time": "2021-11-28T19:22:36.805Z"
   },
   {
    "duration": 1886,
    "start_time": "2021-11-28T19:28:43.682Z"
   },
   {
    "duration": 1881,
    "start_time": "2021-11-28T19:28:43.688Z"
   },
   {
    "duration": 1879,
    "start_time": "2021-11-28T19:28:43.691Z"
   },
   {
    "duration": 4,
    "start_time": "2021-11-28T19:28:48.922Z"
   },
   {
    "duration": 30,
    "start_time": "2021-11-28T19:28:48.928Z"
   },
   {
    "duration": 7,
    "start_time": "2021-11-28T19:28:48.960Z"
   },
   {
    "duration": 12,
    "start_time": "2021-11-28T19:28:48.968Z"
   },
   {
    "duration": 44,
    "start_time": "2021-11-28T19:28:48.981Z"
   },
   {
    "duration": 10,
    "start_time": "2021-11-28T19:28:49.027Z"
   },
   {
    "duration": 10,
    "start_time": "2021-11-28T19:28:49.039Z"
   },
   {
    "duration": 7,
    "start_time": "2021-11-28T19:28:49.051Z"
   },
   {
    "duration": 3,
    "start_time": "2021-11-28T19:28:49.061Z"
   },
   {
    "duration": 4,
    "start_time": "2021-11-28T19:28:49.088Z"
   },
   {
    "duration": 7,
    "start_time": "2021-11-28T19:28:49.094Z"
   },
   {
    "duration": 7,
    "start_time": "2021-11-28T19:28:49.102Z"
   },
   {
    "duration": 6,
    "start_time": "2021-11-28T19:28:49.111Z"
   },
   {
    "duration": 7,
    "start_time": "2021-11-28T19:28:49.118Z"
   },
   {
    "duration": 134,
    "start_time": "2021-11-28T19:28:49.127Z"
   },
   {
    "duration": 11,
    "start_time": "2021-11-28T19:28:49.263Z"
   },
   {
    "duration": 14,
    "start_time": "2021-11-28T19:28:49.275Z"
   },
   {
    "duration": 9,
    "start_time": "2021-11-28T19:28:49.290Z"
   },
   {
    "duration": 16,
    "start_time": "2021-11-28T19:28:49.301Z"
   },
   {
    "duration": 29,
    "start_time": "2021-11-28T19:28:49.319Z"
   },
   {
    "duration": 17,
    "start_time": "2021-11-28T19:28:49.350Z"
   },
   {
    "duration": 18,
    "start_time": "2021-11-28T19:28:49.369Z"
   },
   {
    "duration": 18,
    "start_time": "2021-11-28T19:28:49.388Z"
   },
   {
    "duration": 12,
    "start_time": "2021-11-28T19:28:49.408Z"
   },
   {
    "duration": 10,
    "start_time": "2021-11-28T19:28:49.422Z"
   },
   {
    "duration": 21,
    "start_time": "2021-11-28T19:28:49.434Z"
   },
   {
    "duration": 16,
    "start_time": "2021-11-28T19:28:49.458Z"
   },
   {
    "duration": 13,
    "start_time": "2021-11-28T19:28:49.476Z"
   },
   {
    "duration": 10,
    "start_time": "2021-11-28T19:28:49.490Z"
   },
   {
    "duration": 25,
    "start_time": "2021-11-28T19:28:49.502Z"
   },
   {
    "duration": 15,
    "start_time": "2021-11-28T19:28:49.529Z"
   },
   {
    "duration": 9,
    "start_time": "2021-11-28T19:28:49.545Z"
   },
   {
    "duration": 33,
    "start_time": "2021-11-28T19:28:49.555Z"
   },
   {
    "duration": 11,
    "start_time": "2021-11-28T19:28:49.589Z"
   },
   {
    "duration": 280750,
    "start_time": "2021-11-28T19:28:49.601Z"
   },
   {
    "duration": 283222,
    "start_time": "2021-11-28T19:33:30.353Z"
   },
   {
    "duration": 26,
    "start_time": "2021-11-28T19:38:13.577Z"
   },
   {
    "duration": 411427,
    "start_time": "2021-11-28T19:38:13.605Z"
   },
   {
    "duration": 12,
    "start_time": "2021-11-28T19:45:05.034Z"
   },
   {
    "duration": 48535,
    "start_time": "2021-11-28T19:45:05.048Z"
   },
   {
    "duration": 1943,
    "start_time": "2021-11-28T19:45:51.645Z"
   },
   {
    "duration": 5,
    "start_time": "2021-11-28T19:45:55.609Z"
   },
   {
    "duration": 33,
    "start_time": "2021-11-28T19:45:55.616Z"
   },
   {
    "duration": 7,
    "start_time": "2021-11-28T19:45:55.651Z"
   },
   {
    "duration": 7,
    "start_time": "2021-11-28T19:45:55.660Z"
   },
   {
    "duration": 59,
    "start_time": "2021-11-28T19:45:55.668Z"
   },
   {
    "duration": 11,
    "start_time": "2021-11-28T19:45:55.728Z"
   },
   {
    "duration": 11,
    "start_time": "2021-11-28T19:45:55.740Z"
   },
   {
    "duration": 8,
    "start_time": "2021-11-28T19:45:55.753Z"
   },
   {
    "duration": 3,
    "start_time": "2021-11-28T19:45:55.763Z"
   },
   {
    "duration": 31,
    "start_time": "2021-11-28T19:45:55.767Z"
   },
   {
    "duration": 11,
    "start_time": "2021-11-28T19:45:55.805Z"
   },
   {
    "duration": 5,
    "start_time": "2021-11-28T19:45:55.818Z"
   },
   {
    "duration": 6,
    "start_time": "2021-11-28T19:45:55.825Z"
   },
   {
    "duration": 9,
    "start_time": "2021-11-28T19:45:55.833Z"
   },
   {
    "duration": 150,
    "start_time": "2021-11-28T19:45:55.844Z"
   },
   {
    "duration": 15,
    "start_time": "2021-11-28T19:45:55.996Z"
   },
   {
    "duration": 6,
    "start_time": "2021-11-28T19:45:56.013Z"
   },
   {
    "duration": 4,
    "start_time": "2021-11-28T19:45:56.021Z"
   },
   {
    "duration": 5,
    "start_time": "2021-11-28T19:45:56.027Z"
   },
   {
    "duration": 4,
    "start_time": "2021-11-28T19:45:56.034Z"
   },
   {
    "duration": 4,
    "start_time": "2021-11-28T19:45:56.040Z"
   },
   {
    "duration": 4,
    "start_time": "2021-11-28T19:45:56.046Z"
   },
   {
    "duration": 40,
    "start_time": "2021-11-28T19:45:56.053Z"
   },
   {
    "duration": 7,
    "start_time": "2021-11-28T19:45:56.095Z"
   },
   {
    "duration": 8,
    "start_time": "2021-11-28T19:45:56.104Z"
   },
   {
    "duration": 8,
    "start_time": "2021-11-28T19:45:56.114Z"
   },
   {
    "duration": 5,
    "start_time": "2021-11-28T19:45:56.124Z"
   },
   {
    "duration": 9,
    "start_time": "2021-11-28T19:45:56.130Z"
   },
   {
    "duration": 4,
    "start_time": "2021-11-28T19:45:56.141Z"
   },
   {
    "duration": 10,
    "start_time": "2021-11-28T19:45:56.147Z"
   },
   {
    "duration": 8,
    "start_time": "2021-11-28T19:45:56.159Z"
   },
   {
    "duration": 30,
    "start_time": "2021-11-28T19:45:56.169Z"
   },
   {
    "duration": 11,
    "start_time": "2021-11-28T19:45:56.201Z"
   },
   {
    "duration": 4,
    "start_time": "2021-11-28T19:45:56.216Z"
   },
   {
    "duration": 1102,
    "start_time": "2021-11-28T19:47:19.050Z"
   },
   {
    "duration": 29,
    "start_time": "2021-11-28T19:47:20.154Z"
   },
   {
    "duration": 15,
    "start_time": "2021-11-28T19:47:20.185Z"
   },
   {
    "duration": 17,
    "start_time": "2021-11-28T19:47:20.202Z"
   },
   {
    "duration": 53,
    "start_time": "2021-11-28T19:47:20.221Z"
   },
   {
    "duration": 13,
    "start_time": "2021-11-28T19:47:20.276Z"
   },
   {
    "duration": 21,
    "start_time": "2021-11-28T19:47:20.290Z"
   },
   {
    "duration": 8,
    "start_time": "2021-11-28T19:47:20.318Z"
   },
   {
    "duration": 2,
    "start_time": "2021-11-28T19:47:20.328Z"
   },
   {
    "duration": 5,
    "start_time": "2021-11-28T19:47:20.332Z"
   },
   {
    "duration": 5,
    "start_time": "2021-11-28T19:47:20.338Z"
   },
   {
    "duration": 7,
    "start_time": "2021-11-28T19:47:20.345Z"
   },
   {
    "duration": 8,
    "start_time": "2021-11-28T19:47:20.353Z"
   },
   {
    "duration": 7,
    "start_time": "2021-11-28T19:47:20.363Z"
   },
   {
    "duration": 134,
    "start_time": "2021-11-28T19:47:20.371Z"
   },
   {
    "duration": 14,
    "start_time": "2021-11-28T19:47:20.507Z"
   },
   {
    "duration": 3,
    "start_time": "2021-11-28T19:47:20.523Z"
   },
   {
    "duration": 6,
    "start_time": "2021-11-28T19:47:20.527Z"
   },
   {
    "duration": 7,
    "start_time": "2021-11-28T19:47:20.534Z"
   },
   {
    "duration": 7,
    "start_time": "2021-11-28T19:47:20.542Z"
   },
   {
    "duration": 7,
    "start_time": "2021-11-28T19:47:20.550Z"
   },
   {
    "duration": 20,
    "start_time": "2021-11-28T19:47:20.558Z"
   },
   {
    "duration": 4,
    "start_time": "2021-11-28T19:47:20.580Z"
   },
   {
    "duration": 6,
    "start_time": "2021-11-28T19:47:20.592Z"
   },
   {
    "duration": 14,
    "start_time": "2021-11-28T19:47:20.603Z"
   },
   {
    "duration": 20,
    "start_time": "2021-11-28T19:47:20.618Z"
   },
   {
    "duration": 5,
    "start_time": "2021-11-28T19:47:20.639Z"
   },
   {
    "duration": 6,
    "start_time": "2021-11-28T19:47:20.646Z"
   },
   {
    "duration": 6,
    "start_time": "2021-11-28T19:47:20.654Z"
   },
   {
    "duration": 6,
    "start_time": "2021-11-28T19:47:20.662Z"
   },
   {
    "duration": 6,
    "start_time": "2021-11-28T19:47:20.669Z"
   },
   {
    "duration": 20,
    "start_time": "2021-11-28T19:47:20.676Z"
   },
   {
    "duration": 9,
    "start_time": "2021-11-28T19:47:20.698Z"
   },
   {
    "duration": 15,
    "start_time": "2021-11-28T19:47:20.709Z"
   },
   {
    "duration": 270406,
    "start_time": "2021-11-28T19:47:20.726Z"
   },
   {
    "duration": 278882,
    "start_time": "2021-11-28T19:51:51.134Z"
   },
   {
    "duration": 13,
    "start_time": "2021-11-28T19:56:30.020Z"
   },
   {
    "duration": 395011,
    "start_time": "2021-11-28T19:56:30.034Z"
   },
   {
    "duration": 12,
    "start_time": "2021-11-28T20:03:05.046Z"
   },
   {
    "duration": 114392,
    "start_time": "2021-11-28T20:03:05.059Z"
   },
   {
    "duration": 5,
    "start_time": "2021-11-29T09:19:27.736Z"
   },
   {
    "duration": 355,
    "start_time": "2021-11-29T09:38:44.312Z"
   },
   {
    "duration": 1165,
    "start_time": "2021-11-29T09:38:56.855Z"
   },
   {
    "duration": 30,
    "start_time": "2021-11-29T09:38:58.022Z"
   },
   {
    "duration": 9,
    "start_time": "2021-11-29T09:38:58.054Z"
   },
   {
    "duration": 22,
    "start_time": "2021-11-29T09:38:58.065Z"
   },
   {
    "duration": 56,
    "start_time": "2021-11-29T09:38:58.089Z"
   },
   {
    "duration": 11,
    "start_time": "2021-11-29T09:38:58.147Z"
   },
   {
    "duration": 32,
    "start_time": "2021-11-29T09:38:58.160Z"
   },
   {
    "duration": 8,
    "start_time": "2021-11-29T09:38:58.195Z"
   },
   {
    "duration": 17,
    "start_time": "2021-11-29T09:38:58.205Z"
   },
   {
    "duration": 11,
    "start_time": "2021-11-29T09:38:58.224Z"
   },
   {
    "duration": 16,
    "start_time": "2021-11-29T09:38:58.237Z"
   },
   {
    "duration": 22,
    "start_time": "2021-11-29T09:38:58.255Z"
   },
   {
    "duration": 22,
    "start_time": "2021-11-29T09:38:58.278Z"
   },
   {
    "duration": 41,
    "start_time": "2021-11-29T09:38:58.301Z"
   },
   {
    "duration": 130,
    "start_time": "2021-11-29T09:38:58.344Z"
   },
   {
    "duration": 13,
    "start_time": "2021-11-29T09:38:58.476Z"
   },
   {
    "duration": 3,
    "start_time": "2021-11-29T09:38:58.491Z"
   },
   {
    "duration": 13,
    "start_time": "2021-11-29T09:38:58.495Z"
   },
   {
    "duration": 13,
    "start_time": "2021-11-29T09:38:58.509Z"
   },
   {
    "duration": 11,
    "start_time": "2021-11-29T09:38:58.523Z"
   },
   {
    "duration": 8,
    "start_time": "2021-11-29T09:38:58.535Z"
   },
   {
    "duration": 7,
    "start_time": "2021-11-29T09:38:58.545Z"
   },
   {
    "duration": 4,
    "start_time": "2021-11-29T09:38:58.555Z"
   },
   {
    "duration": 5,
    "start_time": "2021-11-29T09:38:58.561Z"
   },
   {
    "duration": 14,
    "start_time": "2021-11-29T09:38:58.568Z"
   },
   {
    "duration": 6,
    "start_time": "2021-11-29T09:38:58.583Z"
   },
   {
    "duration": 16,
    "start_time": "2021-11-29T09:38:58.590Z"
   },
   {
    "duration": 8,
    "start_time": "2021-11-29T09:38:58.608Z"
   },
   {
    "duration": 7,
    "start_time": "2021-11-29T09:38:58.618Z"
   },
   {
    "duration": 7,
    "start_time": "2021-11-29T09:38:58.627Z"
   },
   {
    "duration": 30,
    "start_time": "2021-11-29T09:38:58.635Z"
   },
   {
    "duration": 15,
    "start_time": "2021-11-29T09:38:58.667Z"
   },
   {
    "duration": 16,
    "start_time": "2021-11-29T09:38:58.684Z"
   },
   {
    "duration": 31,
    "start_time": "2021-11-29T09:38:58.702Z"
   },
   {
    "duration": 284336,
    "start_time": "2021-11-29T09:38:58.734Z"
   },
   {
    "duration": 287708,
    "start_time": "2021-11-29T09:43:43.072Z"
   },
   {
    "duration": 12,
    "start_time": "2021-11-29T09:48:30.782Z"
   },
   {
    "duration": 414804,
    "start_time": "2021-11-29T09:48:30.796Z"
   },
   {
    "duration": 11,
    "start_time": "2021-11-29T09:55:25.602Z"
   },
   {
    "duration": 118048,
    "start_time": "2021-11-29T09:55:25.615Z"
   },
   {
    "duration": 4,
    "start_time": "2021-11-29T09:57:23.664Z"
   },
   {
    "duration": 6,
    "start_time": "2021-11-29T10:58:22.851Z"
   },
   {
    "duration": 8,
    "start_time": "2021-11-29T11:00:03.110Z"
   },
   {
    "duration": 9,
    "start_time": "2021-11-29T11:03:22.426Z"
   },
   {
    "duration": 9,
    "start_time": "2021-11-29T11:03:32.748Z"
   },
   {
    "duration": 9,
    "start_time": "2021-11-29T11:03:44.860Z"
   },
   {
    "duration": 503,
    "start_time": "2021-11-29T11:04:13.223Z"
   },
   {
    "duration": 728,
    "start_time": "2021-11-29T11:04:51.486Z"
   },
   {
    "duration": 6,
    "start_time": "2021-11-29T11:05:06.590Z"
   },
   {
    "duration": 8,
    "start_time": "2021-11-29T11:05:16.152Z"
   },
   {
    "duration": 7,
    "start_time": "2021-11-29T11:05:26.124Z"
   },
   {
    "duration": 4,
    "start_time": "2021-11-29T11:47:24.622Z"
   },
   {
    "duration": 4,
    "start_time": "2021-11-29T11:47:27.340Z"
   },
   {
    "duration": 9,
    "start_time": "2021-11-29T11:47:35.241Z"
   },
   {
    "duration": 10,
    "start_time": "2021-11-29T11:48:18.289Z"
   },
   {
    "duration": 4,
    "start_time": "2021-11-29T11:48:57.868Z"
   },
   {
    "duration": 11,
    "start_time": "2021-11-29T11:49:01.187Z"
   },
   {
    "duration": 146,
    "start_time": "2021-11-29T11:49:21.501Z"
   },
   {
    "duration": 373,
    "start_time": "2021-11-29T12:41:53.618Z"
   },
   {
    "duration": 9127,
    "start_time": "2021-11-29T12:42:09.631Z"
   },
   {
    "duration": 287,
    "start_time": "2021-11-29T12:42:20.932Z"
   },
   {
    "duration": 346,
    "start_time": "2021-11-29T12:42:41.540Z"
   },
   {
    "duration": 302,
    "start_time": "2021-11-29T12:42:54.440Z"
   },
   {
    "duration": 5,
    "start_time": "2021-11-29T12:43:00.881Z"
   },
   {
    "duration": 3,
    "start_time": "2021-11-29T12:43:07.427Z"
   },
   {
    "duration": 121,
    "start_time": "2021-11-29T12:53:36.223Z"
   },
   {
    "duration": 160,
    "start_time": "2021-11-29T12:55:19.782Z"
   },
   {
    "duration": 91,
    "start_time": "2021-11-29T12:56:12.439Z"
   },
   {
    "duration": 285,
    "start_time": "2021-11-29T12:58:24.683Z"
   },
   {
    "duration": 3421,
    "start_time": "2021-11-29T12:59:08.472Z"
   },
   {
    "duration": 281,
    "start_time": "2021-11-29T12:59:14.052Z"
   },
   {
    "duration": 97,
    "start_time": "2021-11-29T12:59:29.061Z"
   },
   {
    "duration": 318,
    "start_time": "2021-11-29T12:59:34.010Z"
   },
   {
    "duration": 286,
    "start_time": "2021-11-29T12:59:43.753Z"
   },
   {
    "duration": 269,
    "start_time": "2021-11-29T12:59:46.149Z"
   },
   {
    "duration": 7,
    "start_time": "2021-11-29T16:43:02.162Z"
   },
   {
    "duration": 3,
    "start_time": "2021-11-29T16:44:00.839Z"
   },
   {
    "duration": 30,
    "start_time": "2021-11-29T16:44:00.844Z"
   },
   {
    "duration": 47,
    "start_time": "2021-11-29T16:44:00.877Z"
   },
   {
    "duration": 10,
    "start_time": "2021-11-29T16:44:00.926Z"
   },
   {
    "duration": 38,
    "start_time": "2021-11-29T16:44:00.938Z"
   },
   {
    "duration": 79,
    "start_time": "2021-11-29T16:44:00.978Z"
   },
   {
    "duration": 18,
    "start_time": "2021-11-29T16:44:01.060Z"
   },
   {
    "duration": 49,
    "start_time": "2021-11-29T16:44:01.080Z"
   },
   {
    "duration": 39,
    "start_time": "2021-11-29T16:44:01.131Z"
   },
   {
    "duration": 37,
    "start_time": "2021-11-29T16:44:01.172Z"
   },
   {
    "duration": 39,
    "start_time": "2021-11-29T16:44:01.211Z"
   },
   {
    "duration": 20,
    "start_time": "2021-11-29T16:44:01.252Z"
   },
   {
    "duration": 18,
    "start_time": "2021-11-29T16:44:01.273Z"
   },
   {
    "duration": 46,
    "start_time": "2021-11-29T16:44:01.293Z"
   },
   {
    "duration": 19,
    "start_time": "2021-11-29T16:44:01.341Z"
   },
   {
    "duration": 142,
    "start_time": "2021-11-29T16:44:01.362Z"
   },
   {
    "duration": 13,
    "start_time": "2021-11-29T16:44:01.506Z"
   },
   {
    "duration": 18,
    "start_time": "2021-11-29T16:44:01.521Z"
   },
   {
    "duration": 9,
    "start_time": "2021-11-29T16:44:01.543Z"
   },
   {
    "duration": 15,
    "start_time": "2021-11-29T16:44:01.554Z"
   },
   {
    "duration": 24,
    "start_time": "2021-11-29T16:44:01.571Z"
   },
   {
    "duration": 11,
    "start_time": "2021-11-29T16:44:01.597Z"
   },
   {
    "duration": 25,
    "start_time": "2021-11-29T16:44:01.609Z"
   },
   {
    "duration": 21,
    "start_time": "2021-11-29T16:44:01.636Z"
   },
   {
    "duration": 15,
    "start_time": "2021-11-29T16:44:01.660Z"
   },
   {
    "duration": 20,
    "start_time": "2021-11-29T16:44:01.677Z"
   },
   {
    "duration": 35,
    "start_time": "2021-11-29T16:44:01.699Z"
   },
   {
    "duration": 5,
    "start_time": "2021-11-29T16:44:01.736Z"
   },
   {
    "duration": 30,
    "start_time": "2021-11-29T16:44:01.743Z"
   },
   {
    "duration": 17,
    "start_time": "2021-11-29T16:44:01.775Z"
   },
   {
    "duration": 16,
    "start_time": "2021-11-29T16:44:01.794Z"
   },
   {
    "duration": 39,
    "start_time": "2021-11-29T16:44:01.811Z"
   },
   {
    "duration": 10,
    "start_time": "2021-11-29T16:44:01.852Z"
   },
   {
    "duration": 18,
    "start_time": "2021-11-29T16:44:01.864Z"
   },
   {
    "duration": 34,
    "start_time": "2021-11-29T16:44:01.884Z"
   },
   {
    "duration": 94790,
    "start_time": "2021-11-29T16:44:01.920Z"
   },
   {
    "duration": 700,
    "start_time": "2021-11-29T16:45:36.012Z"
   },
   {
    "duration": 699,
    "start_time": "2021-11-29T16:45:36.014Z"
   },
   {
    "duration": 696,
    "start_time": "2021-11-29T16:45:36.017Z"
   },
   {
    "duration": 695,
    "start_time": "2021-11-29T16:45:36.019Z"
   },
   {
    "duration": 694,
    "start_time": "2021-11-29T16:45:36.021Z"
   },
   {
    "duration": 688,
    "start_time": "2021-11-29T16:45:36.028Z"
   },
   {
    "duration": 686,
    "start_time": "2021-11-29T16:45:36.031Z"
   },
   {
    "duration": 684,
    "start_time": "2021-11-29T16:45:36.034Z"
   },
   {
    "duration": 683,
    "start_time": "2021-11-29T16:45:36.036Z"
   },
   {
    "duration": 681,
    "start_time": "2021-11-29T16:45:36.039Z"
   },
   {
    "duration": 2,
    "start_time": "2021-11-29T16:45:46.046Z"
   },
   {
    "duration": 6,
    "start_time": "2021-11-29T16:45:46.051Z"
   },
   {
    "duration": 32,
    "start_time": "2021-11-29T16:45:46.060Z"
   },
   {
    "duration": 7,
    "start_time": "2021-11-29T16:45:46.094Z"
   },
   {
    "duration": 10,
    "start_time": "2021-11-29T16:45:46.103Z"
   },
   {
    "duration": 46,
    "start_time": "2021-11-29T16:45:46.145Z"
   },
   {
    "duration": 11,
    "start_time": "2021-11-29T16:45:46.193Z"
   },
   {
    "duration": 12,
    "start_time": "2021-11-29T16:45:46.207Z"
   },
   {
    "duration": 31,
    "start_time": "2021-11-29T16:45:46.221Z"
   },
   {
    "duration": 7,
    "start_time": "2021-11-29T16:45:46.253Z"
   },
   {
    "duration": 10,
    "start_time": "2021-11-29T16:45:46.261Z"
   },
   {
    "duration": 5,
    "start_time": "2021-11-29T16:45:46.272Z"
   },
   {
    "duration": 5,
    "start_time": "2021-11-29T16:45:46.279Z"
   },
   {
    "duration": 9,
    "start_time": "2021-11-29T16:45:46.286Z"
   },
   {
    "duration": 10,
    "start_time": "2021-11-29T16:45:46.296Z"
   },
   {
    "duration": 144,
    "start_time": "2021-11-29T16:45:46.308Z"
   },
   {
    "duration": 12,
    "start_time": "2021-11-29T16:45:46.454Z"
   },
   {
    "duration": 8,
    "start_time": "2021-11-29T16:45:46.468Z"
   },
   {
    "duration": 31,
    "start_time": "2021-11-29T16:45:46.477Z"
   },
   {
    "duration": 30,
    "start_time": "2021-11-29T16:45:46.510Z"
   },
   {
    "duration": 19,
    "start_time": "2021-11-29T16:45:46.541Z"
   },
   {
    "duration": 18,
    "start_time": "2021-11-29T16:45:46.562Z"
   },
   {
    "duration": 14,
    "start_time": "2021-11-29T16:45:46.583Z"
   },
   {
    "duration": 27,
    "start_time": "2021-11-29T16:45:46.599Z"
   },
   {
    "duration": 26,
    "start_time": "2021-11-29T16:45:46.628Z"
   },
   {
    "duration": 22,
    "start_time": "2021-11-29T16:45:46.656Z"
   },
   {
    "duration": 34,
    "start_time": "2021-11-29T16:45:46.680Z"
   },
   {
    "duration": 27,
    "start_time": "2021-11-29T16:45:46.715Z"
   },
   {
    "duration": 19,
    "start_time": "2021-11-29T16:45:46.744Z"
   },
   {
    "duration": 25,
    "start_time": "2021-11-29T16:45:46.765Z"
   },
   {
    "duration": 14,
    "start_time": "2021-11-29T16:45:46.792Z"
   },
   {
    "duration": 16,
    "start_time": "2021-11-29T16:45:46.807Z"
   },
   {
    "duration": 16,
    "start_time": "2021-11-29T16:45:46.825Z"
   },
   {
    "duration": 7,
    "start_time": "2021-11-29T16:45:46.842Z"
   },
   {
    "duration": 6,
    "start_time": "2021-11-29T16:45:46.851Z"
   },
   {
    "duration": 284088,
    "start_time": "2021-11-29T16:45:46.858Z"
   },
   {
    "duration": 289219,
    "start_time": "2021-11-29T16:50:30.948Z"
   },
   {
    "duration": 14,
    "start_time": "2021-11-29T16:55:20.169Z"
   },
   {
    "duration": 403061,
    "start_time": "2021-11-29T16:55:20.185Z"
   },
   {
    "duration": 11,
    "start_time": "2021-11-29T17:02:03.248Z"
   },
   {
    "duration": 118165,
    "start_time": "2021-11-29T17:02:03.261Z"
   },
   {
    "duration": 4,
    "start_time": "2021-11-29T17:04:01.428Z"
   },
   {
    "duration": 29,
    "start_time": "2021-11-29T17:04:01.434Z"
   },
   {
    "duration": 2363,
    "start_time": "2021-11-29T17:04:01.465Z"
   },
   {
    "duration": 287,
    "start_time": "2021-11-29T17:04:03.830Z"
   },
   {
    "duration": 718,
    "start_time": "2021-11-29T17:04:03.401Z"
   },
   {
    "duration": 716,
    "start_time": "2021-11-29T17:04:03.404Z"
   },
   {
    "duration": 300,
    "start_time": "2021-11-29T17:09:54.850Z"
   },
   {
    "duration": 90,
    "start_time": "2021-11-29T17:11:37.623Z"
   },
   {
    "duration": 98,
    "start_time": "2021-11-29T17:11:44.285Z"
   },
   {
    "duration": 2695,
    "start_time": "2021-11-29T17:11:48.333Z"
   },
   {
    "duration": 280,
    "start_time": "2021-11-29T17:11:57.874Z"
   },
   {
    "duration": 2583,
    "start_time": "2021-11-29T17:12:47.835Z"
   },
   {
    "duration": 4663,
    "start_time": "2021-11-29T17:13:54.823Z"
   },
   {
    "duration": 298,
    "start_time": "2021-11-29T17:14:17.496Z"
   },
   {
    "duration": 272,
    "start_time": "2021-11-29T17:14:24.859Z"
   },
   {
    "duration": 4999,
    "start_time": "2021-11-29T17:15:13.842Z"
   },
   {
    "duration": 1242,
    "start_time": "2021-11-29T17:15:23.038Z"
   },
   {
    "duration": 338,
    "start_time": "2021-11-29T20:00:42.474Z"
   },
   {
    "duration": 8978,
    "start_time": "2021-11-29T20:00:48.302Z"
   },
   {
    "duration": 276,
    "start_time": "2021-11-29T20:00:57.283Z"
   },
   {
    "duration": 4053,
    "start_time": "2021-11-29T20:01:07.337Z"
   },
   {
    "duration": 337,
    "start_time": "2021-11-29T20:01:12.258Z"
   },
   {
    "duration": 288,
    "start_time": "2021-11-29T20:01:48.597Z"
   },
   {
    "duration": 4028,
    "start_time": "2021-11-29T20:02:10.385Z"
   },
   {
    "duration": 285,
    "start_time": "2021-11-29T20:02:14.821Z"
   },
   {
    "duration": 1870,
    "start_time": "2021-11-29T20:02:26.887Z"
   },
   {
    "duration": 115,
    "start_time": "2021-11-29T20:02:36.201Z"
   },
   {
    "duration": 36,
    "start_time": "2021-11-29T20:02:40.178Z"
   },
   {
    "duration": 3673,
    "start_time": "2021-11-29T20:02:45.598Z"
   },
   {
    "duration": 424,
    "start_time": "2021-11-29T20:02:54.051Z"
   },
   {
    "duration": 3825,
    "start_time": "2021-11-29T20:03:48.560Z"
   },
   {
    "duration": 9309,
    "start_time": "2021-11-29T20:03:53.883Z"
   },
   {
    "duration": 56,
    "start_time": "2021-11-29T20:04:13.707Z"
   },
   {
    "duration": 400,
    "start_time": "2021-11-29T20:54:28.579Z"
   },
   {
    "duration": 7072,
    "start_time": "2021-11-29T20:54:34.617Z"
   },
   {
    "duration": 7,
    "start_time": "2021-11-29T20:54:41.693Z"
   },
   {
    "duration": 45,
    "start_time": "2021-11-29T20:54:41.702Z"
   },
   {
    "duration": 14,
    "start_time": "2021-11-29T20:54:41.750Z"
   },
   {
    "duration": 12,
    "start_time": "2021-11-29T20:54:41.766Z"
   },
   {
    "duration": 104,
    "start_time": "2021-11-29T20:54:41.781Z"
   },
   {
    "duration": 19,
    "start_time": "2021-11-29T20:54:41.887Z"
   },
   {
    "duration": 16,
    "start_time": "2021-11-29T20:54:41.929Z"
   },
   {
    "duration": 13,
    "start_time": "2021-11-29T20:54:41.948Z"
   },
   {
    "duration": 5,
    "start_time": "2021-11-29T20:54:41.964Z"
   },
   {
    "duration": 18,
    "start_time": "2021-11-29T20:54:41.972Z"
   },
   {
    "duration": 38,
    "start_time": "2021-11-29T20:54:41.993Z"
   },
   {
    "duration": 10,
    "start_time": "2021-11-29T20:54:42.034Z"
   },
   {
    "duration": 8,
    "start_time": "2021-11-29T20:54:42.046Z"
   },
   {
    "duration": 11,
    "start_time": "2021-11-29T20:54:42.057Z"
   },
   {
    "duration": 260,
    "start_time": "2021-11-29T20:54:42.071Z"
   },
   {
    "duration": 19,
    "start_time": "2021-11-29T20:54:42.333Z"
   },
   {
    "duration": 5,
    "start_time": "2021-11-29T20:54:42.354Z"
   },
   {
    "duration": 5,
    "start_time": "2021-11-29T20:54:42.362Z"
   },
   {
    "duration": 6,
    "start_time": "2021-11-29T20:54:42.369Z"
   },
   {
    "duration": 6,
    "start_time": "2021-11-29T20:54:42.377Z"
   },
   {
    "duration": 43,
    "start_time": "2021-11-29T20:54:42.385Z"
   },
   {
    "duration": 5,
    "start_time": "2021-11-29T20:54:42.433Z"
   },
   {
    "duration": 7,
    "start_time": "2021-11-29T20:54:42.440Z"
   },
   {
    "duration": 6,
    "start_time": "2021-11-29T20:54:42.449Z"
   },
   {
    "duration": 7,
    "start_time": "2021-11-29T20:54:42.458Z"
   },
   {
    "duration": 22,
    "start_time": "2021-11-29T20:54:42.468Z"
   },
   {
    "duration": 10,
    "start_time": "2021-11-29T20:54:42.493Z"
   },
   {
    "duration": 24,
    "start_time": "2021-11-29T20:54:42.505Z"
   },
   {
    "duration": 19,
    "start_time": "2021-11-29T20:54:42.531Z"
   },
   {
    "duration": 11,
    "start_time": "2021-11-29T20:54:42.552Z"
   },
   {
    "duration": 34,
    "start_time": "2021-11-29T20:54:42.565Z"
   },
   {
    "duration": 38,
    "start_time": "2021-11-29T20:54:42.601Z"
   },
   {
    "duration": 7,
    "start_time": "2021-11-29T20:54:44.815Z"
   },
   {
    "duration": 279,
    "start_time": "2021-11-29T21:03:48.654Z"
   },
   {
    "duration": 7,
    "start_time": "2021-11-29T21:06:45.575Z"
   },
   {
    "duration": 5,
    "start_time": "2021-11-29T21:10:58.420Z"
   },
   {
    "duration": 5,
    "start_time": "2021-11-29T21:11:41.678Z"
   },
   {
    "duration": 4,
    "start_time": "2021-11-29T21:11:43.752Z"
   },
   {
    "duration": 4,
    "start_time": "2021-11-29T21:11:44.045Z"
   },
   {
    "duration": 131303,
    "start_time": "2021-11-29T21:12:09.388Z"
   },
   {
    "duration": 28225,
    "start_time": "2021-11-30T09:27:42.586Z"
   },
   {
    "duration": 1274,
    "start_time": "2021-11-30T09:28:10.813Z"
   },
   {
    "duration": 28,
    "start_time": "2021-11-30T09:28:12.089Z"
   },
   {
    "duration": 9,
    "start_time": "2021-11-30T09:28:12.119Z"
   },
   {
    "duration": 11,
    "start_time": "2021-11-30T09:28:12.130Z"
   },
   {
    "duration": 52,
    "start_time": "2021-11-30T09:28:12.143Z"
   },
   {
    "duration": 11,
    "start_time": "2021-11-30T09:28:12.197Z"
   },
   {
    "duration": 15,
    "start_time": "2021-11-30T09:28:12.210Z"
   },
   {
    "duration": 24,
    "start_time": "2021-11-30T09:28:12.227Z"
   },
   {
    "duration": 2,
    "start_time": "2021-11-30T09:28:12.253Z"
   },
   {
    "duration": 19,
    "start_time": "2021-11-30T09:28:12.257Z"
   },
   {
    "duration": 6,
    "start_time": "2021-11-30T09:28:12.278Z"
   },
   {
    "duration": 16,
    "start_time": "2021-11-30T09:28:12.285Z"
   },
   {
    "duration": 8,
    "start_time": "2021-11-30T09:28:12.303Z"
   },
   {
    "duration": 8,
    "start_time": "2021-11-30T09:28:12.312Z"
   },
   {
    "duration": 125,
    "start_time": "2021-11-30T09:28:12.322Z"
   },
   {
    "duration": 12,
    "start_time": "2021-11-30T09:28:12.449Z"
   },
   {
    "duration": 12,
    "start_time": "2021-11-30T09:28:12.462Z"
   },
   {
    "duration": 38,
    "start_time": "2021-11-30T09:28:12.476Z"
   },
   {
    "duration": 26,
    "start_time": "2021-11-30T09:28:12.516Z"
   },
   {
    "duration": 21,
    "start_time": "2021-11-30T09:28:12.543Z"
   },
   {
    "duration": 14,
    "start_time": "2021-11-30T09:28:12.566Z"
   },
   {
    "duration": 30,
    "start_time": "2021-11-30T09:28:12.583Z"
   },
   {
    "duration": 27,
    "start_time": "2021-11-30T09:28:12.615Z"
   },
   {
    "duration": 60,
    "start_time": "2021-11-30T09:28:12.644Z"
   },
   {
    "duration": 25,
    "start_time": "2021-11-30T09:28:12.706Z"
   },
   {
    "duration": 8,
    "start_time": "2021-11-30T09:28:12.732Z"
   },
   {
    "duration": 5,
    "start_time": "2021-11-30T09:28:12.742Z"
   },
   {
    "duration": 12,
    "start_time": "2021-11-30T09:28:12.748Z"
   },
   {
    "duration": 17,
    "start_time": "2021-11-30T09:28:12.762Z"
   },
   {
    "duration": 7,
    "start_time": "2021-11-30T09:28:12.780Z"
   },
   {
    "duration": 5,
    "start_time": "2021-11-30T09:28:12.789Z"
   },
   {
    "duration": 17,
    "start_time": "2021-11-30T09:28:12.796Z"
   },
   {
    "duration": 378,
    "start_time": "2021-11-30T09:28:30.926Z"
   },
   {
    "duration": 3,
    "start_time": "2021-11-30T09:29:02.621Z"
   },
   {
    "duration": 94,
    "start_time": "2021-11-30T09:29:46.888Z"
   },
   {
    "duration": 3,
    "start_time": "2021-11-30T09:29:52.350Z"
   },
   {
    "duration": 293,
    "start_time": "2021-11-30T09:53:17.325Z"
   },
   {
    "duration": 3,
    "start_time": "2021-11-30T09:53:26.777Z"
   },
   {
    "duration": 590,
    "start_time": "2021-11-30T09:53:33.182Z"
   },
   {
    "duration": 291,
    "start_time": "2021-11-30T09:56:34.836Z"
   },
   {
    "duration": 5,
    "start_time": "2021-11-30T09:56:44.112Z"
   },
   {
    "duration": 2,
    "start_time": "2021-11-30T09:57:00.599Z"
   },
   {
    "duration": 3,
    "start_time": "2021-11-30T09:57:01.795Z"
   },
   {
    "duration": 2,
    "start_time": "2021-11-30T09:57:05.863Z"
   },
   {
    "duration": 2,
    "start_time": "2021-11-30T09:57:07.705Z"
   },
   {
    "duration": 2,
    "start_time": "2021-11-30T09:57:08.937Z"
   },
   {
    "duration": 591,
    "start_time": "2021-11-30T09:57:09.494Z"
   },
   {
    "duration": 670,
    "start_time": "2021-11-30T10:16:27.709Z"
   },
   {
    "duration": 5246,
    "start_time": "2021-11-30T10:16:34.366Z"
   },
   {
    "duration": 5,
    "start_time": "2021-11-30T10:16:39.614Z"
   },
   {
    "duration": 36,
    "start_time": "2021-11-30T10:16:39.620Z"
   },
   {
    "duration": 8,
    "start_time": "2021-11-30T10:16:39.657Z"
   },
   {
    "duration": 8,
    "start_time": "2021-11-30T10:16:39.666Z"
   },
   {
    "duration": 48,
    "start_time": "2021-11-30T10:16:39.675Z"
   },
   {
    "duration": 12,
    "start_time": "2021-11-30T10:16:39.745Z"
   },
   {
    "duration": 12,
    "start_time": "2021-11-30T10:16:39.760Z"
   },
   {
    "duration": 9,
    "start_time": "2021-11-30T10:16:39.774Z"
   },
   {
    "duration": 4,
    "start_time": "2021-11-30T10:16:39.784Z"
   },
   {
    "duration": 8,
    "start_time": "2021-11-30T10:16:39.790Z"
   },
   {
    "duration": 7,
    "start_time": "2021-11-30T10:16:39.799Z"
   },
   {
    "duration": 6,
    "start_time": "2021-11-30T10:16:39.807Z"
   },
   {
    "duration": 31,
    "start_time": "2021-11-30T10:16:39.815Z"
   },
   {
    "duration": 6,
    "start_time": "2021-11-30T10:16:39.848Z"
   },
   {
    "duration": 140,
    "start_time": "2021-11-30T10:16:39.855Z"
   },
   {
    "duration": 12,
    "start_time": "2021-11-30T10:16:39.997Z"
   },
   {
    "duration": 13,
    "start_time": "2021-11-30T10:16:40.011Z"
   },
   {
    "duration": 14,
    "start_time": "2021-11-30T10:16:40.026Z"
   },
   {
    "duration": 24,
    "start_time": "2021-11-30T10:16:40.042Z"
   },
   {
    "duration": 14,
    "start_time": "2021-11-30T10:16:40.067Z"
   },
   {
    "duration": 19,
    "start_time": "2021-11-30T10:16:40.083Z"
   },
   {
    "duration": 18,
    "start_time": "2021-11-30T10:16:40.105Z"
   },
   {
    "duration": 19,
    "start_time": "2021-11-30T10:16:40.125Z"
   },
   {
    "duration": 9,
    "start_time": "2021-11-30T10:16:40.146Z"
   },
   {
    "duration": 16,
    "start_time": "2021-11-30T10:16:40.156Z"
   },
   {
    "duration": 25,
    "start_time": "2021-11-30T10:16:40.174Z"
   },
   {
    "duration": 26,
    "start_time": "2021-11-30T10:16:40.200Z"
   },
   {
    "duration": 24,
    "start_time": "2021-11-30T10:16:40.228Z"
   },
   {
    "duration": 13,
    "start_time": "2021-11-30T10:16:40.254Z"
   },
   {
    "duration": 20,
    "start_time": "2021-11-30T10:16:40.268Z"
   },
   {
    "duration": 32,
    "start_time": "2021-11-30T10:16:40.290Z"
   },
   {
    "duration": 21,
    "start_time": "2021-11-30T10:16:40.323Z"
   },
   {
    "duration": 21,
    "start_time": "2021-11-30T10:16:40.345Z"
   },
   {
    "duration": 17,
    "start_time": "2021-11-30T10:16:40.367Z"
   },
   {
    "duration": 19,
    "start_time": "2021-11-30T10:16:40.386Z"
   },
   {
    "duration": 6,
    "start_time": "2021-11-30T10:16:40.406Z"
   },
   {
    "duration": 7,
    "start_time": "2021-11-30T10:16:40.413Z"
   },
   {
    "duration": 7,
    "start_time": "2021-11-30T10:16:40.422Z"
   },
   {
    "duration": 3,
    "start_time": "2021-11-30T10:17:12.225Z"
   },
   {
    "duration": 6,
    "start_time": "2021-11-30T10:17:12.979Z"
   },
   {
    "duration": 3,
    "start_time": "2021-11-30T10:17:13.478Z"
   },
   {
    "duration": 2,
    "start_time": "2021-11-30T10:17:17.568Z"
   },
   {
    "duration": 3,
    "start_time": "2021-11-30T10:17:17.973Z"
   },
   {
    "duration": 3,
    "start_time": "2021-11-30T10:17:18.378Z"
   },
   {
    "duration": 575,
    "start_time": "2021-11-30T10:17:18.894Z"
   },
   {
    "duration": 6,
    "start_time": "2021-11-30T10:25:09.682Z"
   },
   {
    "duration": 835,
    "start_time": "2021-11-30T10:25:16.680Z"
   },
   {
    "duration": 6,
    "start_time": "2021-11-30T10:26:24.563Z"
   },
   {
    "duration": 299,
    "start_time": "2021-11-30T10:30:17.633Z"
   },
   {
    "duration": 16,
    "start_time": "2021-11-30T10:32:37.034Z"
   },
   {
    "duration": -154,
    "start_time": "2021-11-30T10:32:55.052Z"
   },
   {
    "duration": 1921,
    "start_time": "2021-11-30T10:32:56.786Z"
   },
   {
    "duration": 282,
    "start_time": "2021-11-30T10:33:02.553Z"
   },
   {
    "duration": 6,
    "start_time": "2021-11-30T10:33:06.086Z"
   },
   {
    "duration": 1911,
    "start_time": "2021-11-30T10:33:17.796Z"
   },
   {
    "duration": 279,
    "start_time": "2021-11-30T10:33:28.110Z"
   },
   {
    "duration": 5,
    "start_time": "2021-11-30T10:33:38.952Z"
   },
   {
    "duration": 18,
    "start_time": "2021-11-30T10:33:49.991Z"
   },
   {
    "duration": 5,
    "start_time": "2021-11-30T10:34:29.008Z"
   },
   {
    "duration": 411,
    "start_time": "2021-11-30T10:34:59.860Z"
   },
   {
    "duration": 366,
    "start_time": "2021-11-30T10:35:18.209Z"
   },
   {
    "duration": 5486,
    "start_time": "2021-11-30T10:36:47.835Z"
   },
   {
    "duration": 7,
    "start_time": "2021-11-30T10:36:53.323Z"
   },
   {
    "duration": 45,
    "start_time": "2021-11-30T10:36:53.333Z"
   },
   {
    "duration": 8,
    "start_time": "2021-11-30T10:36:53.380Z"
   },
   {
    "duration": 17,
    "start_time": "2021-11-30T10:36:53.390Z"
   },
   {
    "duration": 55,
    "start_time": "2021-11-30T10:36:53.409Z"
   },
   {
    "duration": 12,
    "start_time": "2021-11-30T10:36:53.466Z"
   },
   {
    "duration": 23,
    "start_time": "2021-11-30T10:36:53.481Z"
   },
   {
    "duration": 15,
    "start_time": "2021-11-30T10:36:53.506Z"
   },
   {
    "duration": 41,
    "start_time": "2021-11-30T10:36:53.522Z"
   },
   {
    "duration": 33,
    "start_time": "2021-11-30T10:36:53.565Z"
   },
   {
    "duration": 20,
    "start_time": "2021-11-30T10:36:53.600Z"
   },
   {
    "duration": 58,
    "start_time": "2021-11-30T10:36:53.622Z"
   },
   {
    "duration": 47,
    "start_time": "2021-11-30T10:36:53.682Z"
   },
   {
    "duration": 21,
    "start_time": "2021-11-30T10:36:53.731Z"
   },
   {
    "duration": 132,
    "start_time": "2021-11-30T10:36:53.753Z"
   },
   {
    "duration": 13,
    "start_time": "2021-11-30T10:36:53.886Z"
   },
   {
    "duration": 13,
    "start_time": "2021-11-30T10:36:53.901Z"
   },
   {
    "duration": 15,
    "start_time": "2021-11-30T10:36:53.916Z"
   },
   {
    "duration": 25,
    "start_time": "2021-11-30T10:36:53.933Z"
   },
   {
    "duration": 26,
    "start_time": "2021-11-30T10:36:53.960Z"
   },
   {
    "duration": 26,
    "start_time": "2021-11-30T10:36:53.987Z"
   },
   {
    "duration": 26,
    "start_time": "2021-11-30T10:36:54.016Z"
   },
   {
    "duration": 34,
    "start_time": "2021-11-30T10:36:54.044Z"
   },
   {
    "duration": 49,
    "start_time": "2021-11-30T10:36:54.080Z"
   },
   {
    "duration": 28,
    "start_time": "2021-11-30T10:36:54.131Z"
   },
   {
    "duration": 45,
    "start_time": "2021-11-30T10:36:54.161Z"
   },
   {
    "duration": 31,
    "start_time": "2021-11-30T10:36:54.208Z"
   },
   {
    "duration": 31,
    "start_time": "2021-11-30T10:36:54.241Z"
   },
   {
    "duration": 42,
    "start_time": "2021-11-30T10:36:54.274Z"
   },
   {
    "duration": 34,
    "start_time": "2021-11-30T10:36:54.317Z"
   },
   {
    "duration": 27,
    "start_time": "2021-11-30T10:36:54.353Z"
   },
   {
    "duration": 101,
    "start_time": "2021-11-30T10:36:54.382Z"
   },
   {
    "duration": 207,
    "start_time": "2021-11-30T10:36:54.485Z"
   },
   {
    "duration": -144,
    "start_time": "2021-11-30T10:36:54.838Z"
   },
   {
    "duration": -144,
    "start_time": "2021-11-30T10:36:54.840Z"
   },
   {
    "duration": -151,
    "start_time": "2021-11-30T10:36:54.848Z"
   },
   {
    "duration": -153,
    "start_time": "2021-11-30T10:36:54.851Z"
   },
   {
    "duration": 5,
    "start_time": "2021-11-30T10:37:23.533Z"
   },
   {
    "duration": 5,
    "start_time": "2021-11-30T10:42:13.559Z"
   },
   {
    "duration": 4,
    "start_time": "2021-11-30T10:42:13.951Z"
   },
   {
    "duration": 2,
    "start_time": "2021-11-30T10:42:16.153Z"
   },
   {
    "duration": 2,
    "start_time": "2021-11-30T10:42:16.587Z"
   },
   {
    "duration": 400,
    "start_time": "2021-11-30T10:42:17.195Z"
   },
   {
    "duration": 464796,
    "start_time": "2021-11-30T10:42:17.973Z"
   },
   {
    "duration": 326,
    "start_time": "2021-11-30T10:50:48.795Z"
   },
   {
    "duration": 315,
    "start_time": "2021-11-30T10:50:55.585Z"
   },
   {
    "duration": 5,
    "start_time": "2021-11-30T10:51:54.645Z"
   },
   {
    "duration": 5,
    "start_time": "2021-11-30T11:16:05.492Z"
   },
   {
    "duration": 16,
    "start_time": "2021-11-30T11:17:50.042Z"
   },
   {
    "duration": 16,
    "start_time": "2021-11-30T11:17:56.796Z"
   },
   {
    "duration": 17,
    "start_time": "2021-11-30T11:18:13.174Z"
   },
   {
    "duration": 16,
    "start_time": "2021-11-30T11:18:21.515Z"
   },
   {
    "duration": 86477,
    "start_time": "2021-11-30T11:18:28.489Z"
   },
   {
    "duration": 7399,
    "start_time": "2021-11-30T11:21:10.940Z"
   },
   {
    "duration": 5,
    "start_time": "2021-11-30T11:21:18.342Z"
   },
   {
    "duration": 50,
    "start_time": "2021-11-30T11:21:18.349Z"
   },
   {
    "duration": 8,
    "start_time": "2021-11-30T11:21:18.401Z"
   },
   {
    "duration": 18,
    "start_time": "2021-11-30T11:21:18.411Z"
   },
   {
    "duration": 74,
    "start_time": "2021-11-30T11:21:18.431Z"
   },
   {
    "duration": 14,
    "start_time": "2021-11-30T11:21:18.506Z"
   },
   {
    "duration": 29,
    "start_time": "2021-11-30T11:21:18.522Z"
   },
   {
    "duration": 20,
    "start_time": "2021-11-30T11:21:18.553Z"
   },
   {
    "duration": 8,
    "start_time": "2021-11-30T11:21:18.574Z"
   },
   {
    "duration": 33,
    "start_time": "2021-11-30T11:21:18.583Z"
   },
   {
    "duration": 11,
    "start_time": "2021-11-30T11:21:18.618Z"
   },
   {
    "duration": 11,
    "start_time": "2021-11-30T11:21:18.631Z"
   },
   {
    "duration": 21,
    "start_time": "2021-11-30T11:21:18.643Z"
   },
   {
    "duration": 39,
    "start_time": "2021-11-30T11:21:18.665Z"
   },
   {
    "duration": 161,
    "start_time": "2021-11-30T11:21:18.705Z"
   },
   {
    "duration": 12,
    "start_time": "2021-11-30T11:21:18.868Z"
   },
   {
    "duration": 5,
    "start_time": "2021-11-30T11:21:18.882Z"
   },
   {
    "duration": 46,
    "start_time": "2021-11-30T11:21:18.889Z"
   },
   {
    "duration": 40,
    "start_time": "2021-11-30T11:21:18.936Z"
   },
   {
    "duration": 15,
    "start_time": "2021-11-30T11:21:18.978Z"
   },
   {
    "duration": 15,
    "start_time": "2021-11-30T11:21:18.995Z"
   },
   {
    "duration": 9,
    "start_time": "2021-11-30T11:21:19.013Z"
   },
   {
    "duration": 14,
    "start_time": "2021-11-30T11:21:19.024Z"
   },
   {
    "duration": 11,
    "start_time": "2021-11-30T11:21:19.039Z"
   },
   {
    "duration": 13,
    "start_time": "2021-11-30T11:21:19.051Z"
   },
   {
    "duration": 31,
    "start_time": "2021-11-30T11:21:19.065Z"
   },
   {
    "duration": 24,
    "start_time": "2021-11-30T11:21:19.097Z"
   },
   {
    "duration": 7,
    "start_time": "2021-11-30T11:21:19.123Z"
   },
   {
    "duration": 40,
    "start_time": "2021-11-30T11:21:19.132Z"
   },
   {
    "duration": 10,
    "start_time": "2021-11-30T11:21:19.174Z"
   },
   {
    "duration": 41,
    "start_time": "2021-11-30T11:21:19.185Z"
   },
   {
    "duration": 27,
    "start_time": "2021-11-30T11:21:19.228Z"
   },
   {
    "duration": 21,
    "start_time": "2021-11-30T11:21:19.257Z"
   },
   {
    "duration": 288979,
    "start_time": "2021-11-30T11:21:19.280Z"
   },
   {
    "duration": 290094,
    "start_time": "2021-11-30T11:26:08.261Z"
   },
   {
    "duration": 323,
    "start_time": "2021-11-30T11:30:58.357Z"
   },
   {
    "duration": 448766,
    "start_time": "2021-11-30T11:30:58.681Z"
   },
   {
    "duration": 14,
    "start_time": "2021-11-30T11:38:27.448Z"
   },
   {
    "duration": 126842,
    "start_time": "2021-11-30T11:38:27.463Z"
   },
   {
    "duration": 11,
    "start_time": "2021-11-30T11:40:34.307Z"
   },
   {
    "duration": 89,
    "start_time": "2021-11-30T11:46:57.376Z"
   }
  ],
  "kernelspec": {
   "display_name": "Python 3 (ipykernel)",
   "language": "python",
   "name": "python3"
  },
  "language_info": {
   "codemirror_mode": {
    "name": "ipython",
    "version": 3
   },
   "file_extension": ".py",
   "mimetype": "text/x-python",
   "name": "python",
   "nbconvert_exporter": "python",
   "pygments_lexer": "ipython3",
   "version": "3.9.7"
  },
  "toc": {
   "base_numbering": 1,
   "nav_menu": {},
   "number_sections": true,
   "sideBar": true,
   "skip_h1_title": true,
   "title_cell": "Содержание",
   "title_sidebar": "Contents",
   "toc_cell": true,
   "toc_position": {},
   "toc_section_display": true,
   "toc_window_display": false
  }
 },
 "nbformat": 4,
 "nbformat_minor": 2
}
