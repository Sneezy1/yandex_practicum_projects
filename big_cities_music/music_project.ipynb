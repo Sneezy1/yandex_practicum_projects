{
 "cells": [
  {
   "cell_type": "markdown",
   "metadata": {
    "colab_type": "text",
    "deletable": false,
    "editable": false,
    "id": "5UYxO1GdF6Wy",
    "tags": [
     "f6c88c58-a82b-4f28-8bd6-fd55c0017917"
    ]
   },
   "source": [
    "# Этап 1. Получение данных"
   ]
  },
  {
   "cell_type": "markdown",
   "metadata": {
    "colab_type": "text",
    "deletable": false,
    "id": "iI4ITclJaFWh"
   },
   "source": [
    "Изучим данные, предоставленные сервисом для проекта."
   ]
  },
  {
   "cell_type": "markdown",
   "metadata": {
    "colab_type": "text",
    "deletable": false,
    "id": "0skiEFxDZ0Tr"
   },
   "source": [
    "## Импорт библиотек"
   ]
  },
  {
   "cell_type": "code",
   "execution_count": 250,
   "metadata": {
    "colab": {},
    "colab_type": "code",
    "deletable": false,
    "id": "HirRov5vZ3MT"
   },
   "outputs": [],
   "source": [
    "import pandas as pd"
   ]
  },
  {
   "cell_type": "markdown",
   "metadata": {
    "colab_type": "text",
    "deletable": false,
    "id": "Tr8dl3PWGFIk"
   },
   "source": [
    "Прочитаем файл *music_project.csv* и сохраним его в переменной *df*. "
   ]
  },
  {
   "cell_type": "code",
   "execution_count": 251,
   "metadata": {
    "colab": {},
    "colab_type": "code",
    "deletable": false,
    "id": "NB6j931yS4hy"
   },
   "outputs": [],
   "source": [
    "df = pd.read_csv('/datasets/music_project.csv')"
   ]
  },
  {
   "cell_type": "markdown",
   "metadata": {
    "colab_type": "text",
    "deletable": false,
    "editable": false,
    "id": "y2usmNMlDLbY",
    "tags": [
     "f3a2f13f-d110-4558-a520-4805b5bd1dfe"
    ]
   },
   "source": [
    "Получение первых 10 строк таблицы."
   ]
  },
  {
   "cell_type": "code",
   "execution_count": 252,
   "metadata": {
    "colab": {},
    "colab_type": "code",
    "deletable": false,
    "id": "DY5i8tgXVDGj"
   },
   "outputs": [
    {
     "data": {
      "text/html": [
       "<div>\n",
       "<style scoped>\n",
       "    .dataframe tbody tr th:only-of-type {\n",
       "        vertical-align: middle;\n",
       "    }\n",
       "\n",
       "    .dataframe tbody tr th {\n",
       "        vertical-align: top;\n",
       "    }\n",
       "\n",
       "    .dataframe thead th {\n",
       "        text-align: right;\n",
       "    }\n",
       "</style>\n",
       "<table border=\"1\" class=\"dataframe\">\n",
       "  <thead>\n",
       "    <tr style=\"text-align: right;\">\n",
       "      <th></th>\n",
       "      <th>userID</th>\n",
       "      <th>Track</th>\n",
       "      <th>artist</th>\n",
       "      <th>genre</th>\n",
       "      <th>City</th>\n",
       "      <th>time</th>\n",
       "      <th>Day</th>\n",
       "    </tr>\n",
       "  </thead>\n",
       "  <tbody>\n",
       "    <tr>\n",
       "      <td>0</td>\n",
       "      <td>FFB692EC</td>\n",
       "      <td>Kamigata To Boots</td>\n",
       "      <td>The Mass Missile</td>\n",
       "      <td>rock</td>\n",
       "      <td>Saint-Petersburg</td>\n",
       "      <td>20:28:33</td>\n",
       "      <td>Wednesday</td>\n",
       "    </tr>\n",
       "    <tr>\n",
       "      <td>1</td>\n",
       "      <td>55204538</td>\n",
       "      <td>Delayed Because of Accident</td>\n",
       "      <td>Andreas Rönnberg</td>\n",
       "      <td>rock</td>\n",
       "      <td>Moscow</td>\n",
       "      <td>14:07:09</td>\n",
       "      <td>Friday</td>\n",
       "    </tr>\n",
       "    <tr>\n",
       "      <td>2</td>\n",
       "      <td>20EC38</td>\n",
       "      <td>Funiculì funiculà</td>\n",
       "      <td>Mario Lanza</td>\n",
       "      <td>pop</td>\n",
       "      <td>Saint-Petersburg</td>\n",
       "      <td>20:58:07</td>\n",
       "      <td>Wednesday</td>\n",
       "    </tr>\n",
       "    <tr>\n",
       "      <td>3</td>\n",
       "      <td>A3DD03C9</td>\n",
       "      <td>Dragons in the Sunset</td>\n",
       "      <td>Fire + Ice</td>\n",
       "      <td>folk</td>\n",
       "      <td>Saint-Petersburg</td>\n",
       "      <td>08:37:09</td>\n",
       "      <td>Monday</td>\n",
       "    </tr>\n",
       "    <tr>\n",
       "      <td>4</td>\n",
       "      <td>E2DC1FAE</td>\n",
       "      <td>Soul People</td>\n",
       "      <td>Space Echo</td>\n",
       "      <td>dance</td>\n",
       "      <td>Moscow</td>\n",
       "      <td>08:34:34</td>\n",
       "      <td>Monday</td>\n",
       "    </tr>\n",
       "    <tr>\n",
       "      <td>5</td>\n",
       "      <td>842029A1</td>\n",
       "      <td>Преданная</td>\n",
       "      <td>IMPERVTOR</td>\n",
       "      <td>rusrap</td>\n",
       "      <td>Saint-Petersburg</td>\n",
       "      <td>13:09:41</td>\n",
       "      <td>Friday</td>\n",
       "    </tr>\n",
       "    <tr>\n",
       "      <td>6</td>\n",
       "      <td>4CB90AA5</td>\n",
       "      <td>True</td>\n",
       "      <td>Roman Messer</td>\n",
       "      <td>dance</td>\n",
       "      <td>Moscow</td>\n",
       "      <td>13:00:07</td>\n",
       "      <td>Wednesday</td>\n",
       "    </tr>\n",
       "    <tr>\n",
       "      <td>7</td>\n",
       "      <td>F03E1C1F</td>\n",
       "      <td>Feeling This Way</td>\n",
       "      <td>Polina Griffith</td>\n",
       "      <td>dance</td>\n",
       "      <td>Moscow</td>\n",
       "      <td>20:47:49</td>\n",
       "      <td>Wednesday</td>\n",
       "    </tr>\n",
       "    <tr>\n",
       "      <td>8</td>\n",
       "      <td>8FA1D3BE</td>\n",
       "      <td>И вновь продолжается бой</td>\n",
       "      <td>NaN</td>\n",
       "      <td>ruspop</td>\n",
       "      <td>Moscow</td>\n",
       "      <td>09:17:40</td>\n",
       "      <td>Friday</td>\n",
       "    </tr>\n",
       "    <tr>\n",
       "      <td>9</td>\n",
       "      <td>E772D5C0</td>\n",
       "      <td>Pessimist</td>\n",
       "      <td>NaN</td>\n",
       "      <td>dance</td>\n",
       "      <td>Saint-Petersburg</td>\n",
       "      <td>21:20:49</td>\n",
       "      <td>Wednesday</td>\n",
       "    </tr>\n",
       "  </tbody>\n",
       "</table>\n",
       "</div>"
      ],
      "text/plain": [
       "     userID                        Track            artist   genre  \\\n",
       "0  FFB692EC            Kamigata To Boots  The Mass Missile    rock   \n",
       "1  55204538  Delayed Because of Accident  Andreas Rönnberg    rock   \n",
       "2    20EC38            Funiculì funiculà       Mario Lanza     pop   \n",
       "3  A3DD03C9        Dragons in the Sunset        Fire + Ice    folk   \n",
       "4  E2DC1FAE                  Soul People        Space Echo   dance   \n",
       "5  842029A1                    Преданная         IMPERVTOR  rusrap   \n",
       "6  4CB90AA5                         True      Roman Messer   dance   \n",
       "7  F03E1C1F             Feeling This Way   Polina Griffith   dance   \n",
       "8  8FA1D3BE     И вновь продолжается бой               NaN  ruspop   \n",
       "9  E772D5C0                    Pessimist               NaN   dance   \n",
       "\n",
       "             City        time        Day  \n",
       "0  Saint-Petersburg  20:28:33  Wednesday  \n",
       "1            Moscow  14:07:09     Friday  \n",
       "2  Saint-Petersburg  20:58:07  Wednesday  \n",
       "3  Saint-Petersburg  08:37:09     Monday  \n",
       "4            Moscow  08:34:34     Monday  \n",
       "5  Saint-Petersburg  13:09:41     Friday  \n",
       "6            Moscow  13:00:07  Wednesday  \n",
       "7            Moscow  20:47:49  Wednesday  \n",
       "8            Moscow  09:17:40     Friday  \n",
       "9  Saint-Petersburg  21:20:49  Wednesday  "
      ]
     },
     "execution_count": 252,
     "metadata": {},
     "output_type": "execute_result"
    }
   ],
   "source": [
    "df.head(10)"
   ]
  },
  {
   "cell_type": "markdown",
   "metadata": {
    "colab_type": "text",
    "deletable": false,
    "editable": false,
    "id": "FrIiRHuHIBbN",
    "tags": [
     "0210c096-9595-4600-b91d-42ab36a6c3f0"
    ]
   },
   "source": [
    "Общая информация о данных таблицы *df*.\n",
    "\n",
    "\n"
   ]
  },
  {
   "cell_type": "code",
   "execution_count": 253,
   "metadata": {
    "colab": {},
    "colab_type": "code",
    "deletable": false,
    "id": "K7t8OdZsYN2y"
   },
   "outputs": [
    {
     "name": "stdout",
     "output_type": "stream",
     "text": [
      "<class 'pandas.core.frame.DataFrame'>\n",
      "RangeIndex: 65079 entries, 0 to 65078\n",
      "Data columns (total 7 columns):\n",
      "  userID    65079 non-null object\n",
      "Track       63848 non-null object\n",
      "artist      57876 non-null object\n",
      "genre       63881 non-null object\n",
      "  City      65079 non-null object\n",
      "time        65079 non-null object\n",
      "Day         65079 non-null object\n",
      "dtypes: object(7)\n",
      "memory usage: 3.5+ MB\n"
     ]
    }
   ],
   "source": [
    "df.info()"
   ]
  },
  {
   "cell_type": "markdown",
   "metadata": {
    "colab_type": "text",
    "deletable": false,
    "id": "CnHv9HZCc7LN"
   },
   "source": [
    "Рассмотрим полученную информацию подробнее.\n",
    "\n",
    "Всего в таблице 7 столбцов, тип данных у каждого столбца - object.\n",
    "\n",
    "Подробно разберём, какие в *df* столбцы и какую информацию они содержат:\n",
    "\n",
    "* userID — идентификатор пользователя;\n",
    "* Track — название трека;  \n",
    "* artist — имя исполнителя;\n",
    "* genre — название жанра;\n",
    "* City — город, в котором происходило прослушивание;\n",
    "* time — время, в которое пользователь слушал трек;\n",
    "* Day — день недели.\n",
    "\n",
    "Количество значений в столбцах различается. Это говорит о том, что в данных есть пропущенные значения.\n",
    "\n"
   ]
  },
  {
   "cell_type": "markdown",
   "metadata": {
    "colab_type": "text",
    "deletable": false,
    "id": "DCYFm5VrevuB"
   },
   "source": [
    "**Выводы**"
   ]
  },
  {
   "cell_type": "markdown",
   "metadata": {
    "colab_type": "text",
    "deletable": false,
    "id": "PCEtjdmvezRm"
   },
   "source": [
    "Каждая строка таблицы содержит информацию о композициях определённого жанра в определённом исполнении, которые пользователи слушали в одном из городов в определённое время и день недели. Две проблемы, которые нужно решать: пропуски и некачественные названия столбцов. Для проверки рабочих гипотез особенно ценны столбцы *time*, *day* и *City*. Данные из столбца *genre* позволят узнать самые популярные жанры."
   ]
  },
  {
   "cell_type": "markdown",
   "metadata": {
    "colab_type": "text",
    "deletable": false,
    "editable": false,
    "id": "ZYaC0bU-IZ0a",
    "tags": [
     "2c946931-9c91-4e15-baf8-43fb79bcb454"
    ]
   },
   "source": [
    "# Этап 2. Предобработка данных"
   ]
  },
  {
   "cell_type": "markdown",
   "metadata": {
    "colab_type": "text",
    "deletable": false,
    "id": "Dl8grmTrPxZi"
   },
   "source": [
    "Исключим пропуски, переименуем столбцы, а также проверим данные на наличие дубликатов."
   ]
  },
  {
   "cell_type": "markdown",
   "metadata": {
    "colab_type": "text",
    "deletable": false,
    "id": "6OIhlsG_IjI8"
   },
   "source": [
    "Получаем перечень названий столбцов. Какая наблюдается проблема — кроме тех, что уже были названы ранее?"
   ]
  },
  {
   "cell_type": "code",
   "execution_count": 254,
   "metadata": {
    "colab": {},
    "colab_type": "code",
    "deletable": false,
    "id": "Tag65F_Uitsx"
   },
   "outputs": [
    {
     "data": {
      "text/plain": [
       "Index(['  userID', 'Track', 'artist', 'genre', '  City  ', 'time', 'Day'], dtype='object')"
      ]
     },
     "execution_count": 254,
     "metadata": {},
     "output_type": "execute_result"
    }
   ],
   "source": [
    "df.columns"
   ]
  },
  {
   "cell_type": "markdown",
   "metadata": {
    "colab_type": "text",
    "deletable": false,
    "id": "x6iJC-cEhnRL"
   },
   "source": [
    "В названиях столбцов есть пробелы, которые могут затруднять доступ к данным."
   ]
  },
  {
   "cell_type": "markdown",
   "metadata": {
    "colab_type": "text",
    "deletable": false,
    "editable": false,
    "id": "BK6m6-DZhlTs",
    "tags": [
     "c2b469cf-2148-4115-8806-0fbb00a9d55d"
    ]
   },
   "source": [
    "Переименуем столбцы для удобства дальнейшей работы. Проверим результат.\n",
    "\n"
   ]
  },
  {
   "cell_type": "code",
   "execution_count": 255,
   "metadata": {
    "colab": {},
    "colab_type": "code",
    "deletable": false,
    "id": "XintVfCniw2-"
   },
   "outputs": [],
   "source": [
    "df.set_axis(['user_id', 'track_name', 'artist_name', 'genre_name', 'city', 'time', 'weekday'], axis='columns', inplace = True)"
   ]
  },
  {
   "cell_type": "code",
   "execution_count": 256,
   "metadata": {
    "colab": {},
    "colab_type": "code",
    "deletable": false,
    "id": "ozQL91G4izdp"
   },
   "outputs": [
    {
     "data": {
      "text/plain": [
       "Index(['user_id', 'track_name', 'artist_name', 'genre_name', 'city', 'time',\n",
       "       'weekday'],\n",
       "      dtype='object')"
      ]
     },
     "execution_count": 256,
     "metadata": {},
     "output_type": "execute_result"
    }
   ],
   "source": [
    "df.columns"
   ]
  },
  {
   "cell_type": "markdown",
   "metadata": {
    "colab_type": "text",
    "deletable": false,
    "editable": false,
    "id": "oc2qS2UBIkQu",
    "tags": [
     "325fae3b-abce-4c7c-8c41-87ed8a26ff5d"
    ]
   },
   "source": [
    "Проверим данные на наличие пропусков вызовом набора методов для суммирования пропущенных значений."
   ]
  },
  {
   "cell_type": "code",
   "execution_count": 257,
   "metadata": {
    "colab": {},
    "colab_type": "code",
    "deletable": false,
    "id": "BZh9yLHhjy_R"
   },
   "outputs": [
    {
     "data": {
      "text/plain": [
       "user_id           0\n",
       "track_name     1231\n",
       "artist_name    7203\n",
       "genre_name     1198\n",
       "city              0\n",
       "time              0\n",
       "weekday           0\n",
       "dtype: int64"
      ]
     },
     "execution_count": 257,
     "metadata": {},
     "output_type": "execute_result"
    }
   ],
   "source": [
    "df.isnull().sum()"
   ]
  },
  {
   "cell_type": "markdown",
   "metadata": {
    "colab_type": "text",
    "deletable": false,
    "id": "OJXGaa02tSJJ"
   },
   "source": [
    "Пустые значения свидетельствуют, что для некоторых треков доступна не вся информация. Причины могут быть разные: скажем,  не назван конкретный исполнитель народной песни. Хуже, если проблемы с записью данных. Каждый отдельный случай необходимо разобрать и выявить причину."
   ]
  },
  {
   "cell_type": "markdown",
   "metadata": {
    "colab_type": "text",
    "deletable": false,
    "id": "-fBDAWZUkAg-"
   },
   "source": [
    "Заменяем пропущенные значения в столбцах с названием трека и исполнителя на строку 'unknown'. После этой операции нужно убедиться, что таблица больше не содержит пропусков."
   ]
  },
  {
   "cell_type": "code",
   "execution_count": 258,
   "metadata": {
    "colab": {},
    "colab_type": "code",
    "deletable": false,
    "id": "EO8zFcJPlbvV"
   },
   "outputs": [],
   "source": [
    "df['track_name'] = df['track_name'].fillna('unknown')"
   ]
  },
  {
   "cell_type": "code",
   "execution_count": 259,
   "metadata": {
    "colab": {},
    "colab_type": "code",
    "deletable": false,
    "id": "3hsNZcLST0UW"
   },
   "outputs": [],
   "source": [
    "df['artist_name'] = df['artist_name'].fillna('unknown')"
   ]
  },
  {
   "cell_type": "code",
   "execution_count": 260,
   "metadata": {
    "colab": {},
    "colab_type": "code",
    "deletable": false,
    "id": "Ua-Z8TAblgzC"
   },
   "outputs": [
    {
     "data": {
      "text/plain": [
       "user_id           0\n",
       "track_name        0\n",
       "artist_name       0\n",
       "genre_name     1198\n",
       "city              0\n",
       "time              0\n",
       "weekday           0\n",
       "dtype: int64"
      ]
     },
     "execution_count": 260,
     "metadata": {},
     "output_type": "execute_result"
    }
   ],
   "source": [
    "df.isnull().sum()"
   ]
  },
  {
   "cell_type": "markdown",
   "metadata": {
    "colab_type": "text",
    "deletable": false,
    "editable": false,
    "id": "-cjfT0w2ln9C",
    "tags": [
     "9cb28dd4-e24e-4490-aebd-b37ba9e492c5"
    ]
   },
   "source": [
    "Удаляем в столбце с жанрами пустые значения; убеждаемся, что их больше не осталось."
   ]
  },
  {
   "cell_type": "code",
   "execution_count": 261,
   "metadata": {
    "colab": {},
    "colab_type": "code",
    "deletable": false,
    "id": "TIpk7lwtnZkZ"
   },
   "outputs": [],
   "source": [
    "df = df.dropna(subset=['genre_name'])"
   ]
  },
  {
   "cell_type": "code",
   "execution_count": 262,
   "metadata": {
    "colab": {},
    "colab_type": "code",
    "deletable": false,
    "id": "-1CT-CCZnzTA"
   },
   "outputs": [
    {
     "data": {
      "text/plain": [
       "user_id        0\n",
       "track_name     0\n",
       "artist_name    0\n",
       "genre_name     0\n",
       "city           0\n",
       "time           0\n",
       "weekday        0\n",
       "dtype: int64"
      ]
     },
     "execution_count": 262,
     "metadata": {},
     "output_type": "execute_result"
    }
   ],
   "source": [
    "df.isnull().sum()"
   ]
  },
  {
   "cell_type": "markdown",
   "metadata": {
    "colab_type": "text",
    "deletable": false,
    "editable": false,
    "id": "QsBXpJFzpxA9",
    "tags": [
     "ea46db29-6746-4c02-a47b-75283dde9025"
    ]
   },
   "source": [
    "Необходимо установить наличие дубликатов.  Если найдутся, удаляем, и проверяем, все ли удалились."
   ]
  },
  {
   "cell_type": "code",
   "execution_count": 263,
   "metadata": {
    "colab": {},
    "colab_type": "code",
    "deletable": false,
    "id": "VRVI_B0RqIgT"
   },
   "outputs": [
    {
     "data": {
      "text/plain": [
       "3755"
      ]
     },
     "execution_count": 263,
     "metadata": {},
     "output_type": "execute_result"
    }
   ],
   "source": [
    "df.duplicated().sum()"
   ]
  },
  {
   "cell_type": "code",
   "execution_count": 264,
   "metadata": {
    "colab": {},
    "colab_type": "code",
    "deletable": false,
    "id": "nSYF38OeqZn-"
   },
   "outputs": [],
   "source": [
    "df = df.drop_duplicates().reset_index(drop=True)"
   ]
  },
  {
   "cell_type": "code",
   "execution_count": 265,
   "metadata": {
    "colab": {},
    "colab_type": "code",
    "deletable": false,
    "id": "O-RfjmkCqIgV"
   },
   "outputs": [
    {
     "data": {
      "text/plain": [
       "0"
      ]
     },
     "execution_count": 265,
     "metadata": {},
     "output_type": "execute_result"
    }
   ],
   "source": [
    "df.duplicated().sum()"
   ]
  },
  {
   "cell_type": "markdown",
   "metadata": {
    "colab_type": "text",
    "deletable": false,
    "id": "e6cyWPTwsLKw"
   },
   "source": [
    "Дубликаты могли появиться вследствие сбоя в записи данных. Стоит обратить внимание и разобраться с причинами появления такого «информационного мусора»."
   ]
  },
  {
   "cell_type": "markdown",
   "metadata": {
    "colab_type": "text",
    "deletable": false,
    "editable": false,
    "id": "QH-HgrApInjO",
    "tags": [
     "46fb87e8-2d9c-497d-9c6e-746eaa2631ab"
    ]
   },
   "source": [
    "Сохраняем список уникальных значений столбца с жанрами в переменной *genres_list*. \n",
    "\n",
    "Объявим функцию *find_genre()* для поиска неявных дубликатов в столбце с жанрами. Например, когда название одного и того же жанра написано разными словами.\n",
    "\n",
    "\n",
    "\n"
   ]
  },
  {
   "cell_type": "code",
   "execution_count": 266,
   "metadata": {
    "colab": {},
    "colab_type": "code",
    "deletable": false,
    "id": "FfaTfKAN-PCx"
   },
   "outputs": [],
   "source": [
    "genres_list = df['genre_name'].unique()"
   ]
  },
  {
   "cell_type": "code",
   "execution_count": 267,
   "metadata": {
    "colab": {},
    "colab_type": "code",
    "deletable": false,
    "id": "TA_k-VLi-S0R"
   },
   "outputs": [],
   "source": [
    "def find_genre(genre):\n",
    "    count = 0\n",
    "    for uniq_genre in genres_list:\n",
    "        if uniq_genre == genre:\n",
    "            count += 1\n",
    "    return count"
   ]
  },
  {
   "cell_type": "markdown",
   "metadata": {
    "colab_type": "text",
    "deletable": false,
    "editable": false,
    "id": "vb3CTOciIL27",
    "tags": [
     "b57e3325-29fc-4ade-83a3-91113c5dad32"
    ]
   },
   "source": [
    "Вызов функции *find_genre()* для поиска различных вариантов названия жанра хип-хоп в таблице.\n",
    "\n",
    "Правильное название — *hiphop*. Поищем другие варианты:\n",
    "\n",
    "* hip\n",
    "* hop\n",
    "* hip-hop\n"
   ]
  },
  {
   "cell_type": "code",
   "execution_count": 268,
   "metadata": {
    "colab": {},
    "colab_type": "code",
    "deletable": false,
    "id": "YrwqExZS-dyQ"
   },
   "outputs": [
    {
     "data": {
      "text/plain": [
       "1"
      ]
     },
     "execution_count": 268,
     "metadata": {},
     "output_type": "execute_result"
    }
   ],
   "source": [
    "find_genre('hip')"
   ]
  },
  {
   "cell_type": "code",
   "execution_count": 269,
   "metadata": {
    "colab": {},
    "colab_type": "code",
    "deletable": false,
    "id": "ZoL4EEcR-dyU"
   },
   "outputs": [
    {
     "data": {
      "text/plain": [
       "0"
      ]
     },
     "execution_count": 269,
     "metadata": {},
     "output_type": "execute_result"
    }
   ],
   "source": [
    "find_genre('hop')"
   ]
  },
  {
   "cell_type": "code",
   "execution_count": 270,
   "metadata": {
    "colab": {},
    "colab_type": "code",
    "deletable": false,
    "id": "MFowmiug-qZD"
   },
   "outputs": [
    {
     "data": {
      "text/plain": [
       "0"
      ]
     },
     "execution_count": 270,
     "metadata": {},
     "output_type": "execute_result"
    }
   ],
   "source": [
    "find_genre('hip-hop')"
   ]
  },
  {
   "cell_type": "markdown",
   "metadata": {
    "colab_type": "text",
    "deletable": false,
    "editable": false,
    "id": "a7BQY6ORLMSG",
    "tags": [
     "11f77aa1-5478-453d-b31e-f20041047bb7"
    ]
   },
   "source": [
    "Объявим функцию *find_hip_hop()*, которая заменяет  неправильное название этого жанра в столбце *'genre_name'* на *'hiphop'* и проверяет успешность выполнения замены.\n",
    "\n",
    "Так исправляем все варианты написания, которые выявила проверка."
   ]
  },
  {
   "cell_type": "code",
   "execution_count": 271,
   "metadata": {
    "colab": {},
    "colab_type": "code",
    "deletable": false,
    "id": "31xlzL_c_FgB"
   },
   "outputs": [],
   "source": [
    "def find_hip_hop(df, wrong):\n",
    "    df['genre_name'] = df['genre_name'].replace(wrong, 'hiphop')\n",
    "    result = df[df['genre_name'] == wrong]['genre_name'].count()\n",
    "    return result"
   ]
  },
  {
   "cell_type": "code",
   "execution_count": 272,
   "metadata": {
    "colab": {},
    "colab_type": "code",
    "deletable": false,
    "id": "ZFXMV2qW_FgE"
   },
   "outputs": [
    {
     "data": {
      "text/plain": [
       "0"
      ]
     },
     "execution_count": 272,
     "metadata": {},
     "output_type": "execute_result"
    }
   ],
   "source": [
    "find_hip_hop(df, 'hip')"
   ]
  },
  {
   "cell_type": "markdown",
   "metadata": {
    "colab_type": "text",
    "deletable": false,
    "editable": false,
    "id": "i90BILA9JQpE",
    "tags": [
     "30535c8e-1643-4088-925b-2a32180e0333"
    ]
   },
   "source": [
    "Получаем общую информацию о данных. Убеждаемся, что чистка выполнена успешно."
   ]
  },
  {
   "cell_type": "code",
   "execution_count": 273,
   "metadata": {
    "colab": {},
    "colab_type": "code",
    "deletable": false,
    "id": "-yyvdzHA_uJm"
   },
   "outputs": [
    {
     "name": "stdout",
     "output_type": "stream",
     "text": [
      "<class 'pandas.core.frame.DataFrame'>\n",
      "RangeIndex: 60126 entries, 0 to 60125\n",
      "Data columns (total 7 columns):\n",
      "user_id        60126 non-null object\n",
      "track_name     60126 non-null object\n",
      "artist_name    60126 non-null object\n",
      "genre_name     60126 non-null object\n",
      "city           60126 non-null object\n",
      "time           60126 non-null object\n",
      "weekday        60126 non-null object\n",
      "dtypes: object(7)\n",
      "memory usage: 3.2+ MB\n"
     ]
    }
   ],
   "source": [
    "df.info()"
   ]
  },
  {
   "cell_type": "markdown",
   "metadata": {
    "colab_type": "text",
    "deletable": false,
    "id": "AReHO17cMRPM"
   },
   "source": [
    "**Вывод**"
   ]
  },
  {
   "cell_type": "markdown",
   "metadata": {
    "colab_type": "text",
    "deletable": false,
    "id": "yscfstUqMS4c"
   },
   "source": [
    "На этапе предобработки в данных обнаружились не только пропуски и проблемы с названиями столбцов, но и всяческие виды дубликатов. Их удаление позволит провести анализ точнее. Поскольку сведения о жанрах важно сохранить для анализа, не просто удаляем все пропущенные значения, но заполним пропущенные имена исполнителей и названия треков. Имена столбцов теперь корректны и удобны для дальнейшей работы."
   ]
  },
  {
   "cell_type": "markdown",
   "metadata": {
    "colab_type": "text",
    "deletable": false,
    "editable": false,
    "id": "MF4nnd1YJUrI",
    "tags": [
     "ac8df732-1797-479a-9c4c-a03745931a9d"
    ]
   },
   "source": [
    "# Действительно ли музыку в разных городах слушают по-разному?"
   ]
  },
  {
   "cell_type": "markdown",
   "metadata": {
    "colab_type": "text",
    "deletable": false,
    "id": "AYSL1OvyM2pL"
   },
   "source": [
    "Была выдвинута гипотеза, что в Москве и Санкт-Петербурге пользователи слушают музыку по-разному. Проверяем это предположение по данным о трёх днях недели — понедельнике, среде и пятнице.\n",
    "\n",
    "Для каждого города устанавливаем количество прослушанных  в эти дни композиций с известным жанром, и сравниваем результаты."
   ]
  },
  {
   "cell_type": "markdown",
   "metadata": {
    "colab_type": "text",
    "deletable": false,
    "id": "OM5Eeh7FNWC-"
   },
   "source": [
    "Группируем данные по городу и вызовом метода *count()* подсчитываем композиции, для которых известен жанр."
   ]
  },
  {
   "cell_type": "code",
   "execution_count": 274,
   "metadata": {
    "colab": {},
    "colab_type": "code",
    "deletable": false,
    "id": "AtH_pP1i_0m1"
   },
   "outputs": [
    {
     "data": {
      "text/plain": [
       "city\n",
       "Moscow              41892\n",
       "Saint-Petersburg    18234\n",
       "Name: genre_name, dtype: int64"
      ]
     },
     "execution_count": 274,
     "metadata": {},
     "output_type": "execute_result"
    }
   ],
   "source": [
    "df.groupby('city')['genre_name'].count()"
   ]
  },
  {
   "cell_type": "markdown",
   "metadata": {
    "colab_type": "text",
    "deletable": false,
    "id": "XBR226DMpIDf"
   },
   "source": [
    "В Москве прослушиваний больше, чем в Питере, но это не значит, что Москва более активна. У Яндекс.Музыки в целом больше пользователей в Москве, поэтому величины сопоставимы."
   ]
  },
  {
   "cell_type": "markdown",
   "metadata": {
    "colab_type": "text",
    "deletable": false,
    "editable": false,
    "id": "P7EcNQuyNbNB",
    "tags": [
     "133ddd49-3b63-45b1-b50c-9e6ab5fc4175"
    ]
   },
   "source": [
    "Сгруппируем данные по дню недели и подсчитаем прослушанные в понедельник, среду и пятницу композиции, для которых известен жанр."
   ]
  },
  {
   "cell_type": "code",
   "execution_count": 275,
   "metadata": {
    "colab": {},
    "colab_type": "code",
    "deletable": false,
    "id": "A8E_Tb2b_3un"
   },
   "outputs": [
    {
     "data": {
      "text/plain": [
       "weekday\n",
       "Friday       21482\n",
       "Monday       20866\n",
       "Wednesday    17778\n",
       "Name: genre_name, dtype: int64"
      ]
     },
     "execution_count": 275,
     "metadata": {},
     "output_type": "execute_result"
    }
   ],
   "source": [
    "df.groupby('weekday')['genre_name'].count()"
   ]
  },
  {
   "cell_type": "markdown",
   "metadata": {
    "colab_type": "text",
    "deletable": false,
    "id": "Zhh6hehCpq_U"
   },
   "source": [
    "Понедельник и пятница — время для музыки; по средам пользователи немного больше вовлечены в работу."
   ]
  },
  {
   "cell_type": "markdown",
   "metadata": {
    "colab_type": "text",
    "deletable": false,
    "editable": false,
    "id": "bYab2U5BNdmZ",
    "tags": [
     "bae0a168-5e2b-40f9-9701-bfb32d016517"
    ]
   },
   "source": [
    "Создаём функцию *number_tracks()*, которая принимает как параметры таблицу, день недели и название города, а возвращает количество прослушанных композиций, для которых известен жанр. Проверяем количество прослушанных композиций для каждого города и понедельника, затем среды и пятницы."
   ]
  },
  {
   "cell_type": "code",
   "execution_count": 276,
   "metadata": {
    "colab": {},
    "colab_type": "code",
    "deletable": false,
    "id": "4SqpGSi5_7hA"
   },
   "outputs": [],
   "source": [
    "def number_tracks(df, day, city):\n",
    "    track_list = df[ (df['weekday'] == day) & (df['city'] == city) ]\n",
    "    track_list_count = track_list['genre_name'].count()\n",
    "    return track_list_count"
   ]
  },
  {
   "cell_type": "code",
   "execution_count": 277,
   "metadata": {
    "deletable": false
   },
   "outputs": [
    {
     "data": {
      "text/plain": [
       "15347"
      ]
     },
     "execution_count": 277,
     "metadata": {},
     "output_type": "execute_result"
    }
   ],
   "source": [
    "number_tracks(df, 'Monday', 'Moscow')"
   ]
  },
  {
   "cell_type": "code",
   "execution_count": 278,
   "metadata": {
    "deletable": false
   },
   "outputs": [
    {
     "data": {
      "text/plain": [
       "5519"
      ]
     },
     "execution_count": 278,
     "metadata": {},
     "output_type": "execute_result"
    }
   ],
   "source": [
    "number_tracks(df, 'Monday', 'Saint-Petersburg')"
   ]
  },
  {
   "cell_type": "code",
   "execution_count": 279,
   "metadata": {
    "deletable": false
   },
   "outputs": [
    {
     "data": {
      "text/plain": [
       "10865"
      ]
     },
     "execution_count": 279,
     "metadata": {},
     "output_type": "execute_result"
    }
   ],
   "source": [
    "number_tracks(df, 'Wednesday', 'Moscow')"
   ]
  },
  {
   "cell_type": "code",
   "execution_count": 280,
   "metadata": {
    "deletable": false
   },
   "outputs": [
    {
     "data": {
      "text/plain": [
       "6913"
      ]
     },
     "execution_count": 280,
     "metadata": {},
     "output_type": "execute_result"
    }
   ],
   "source": [
    "number_tracks(df, 'Wednesday', 'Saint-Petersburg')"
   ]
  },
  {
   "cell_type": "code",
   "execution_count": 281,
   "metadata": {
    "deletable": false
   },
   "outputs": [
    {
     "data": {
      "text/plain": [
       "15680"
      ]
     },
     "execution_count": 281,
     "metadata": {},
     "output_type": "execute_result"
    }
   ],
   "source": [
    "number_tracks(df, 'Friday', 'Moscow')"
   ]
  },
  {
   "cell_type": "code",
   "execution_count": 282,
   "metadata": {
    "deletable": false
   },
   "outputs": [
    {
     "data": {
      "text/plain": [
       "5802"
      ]
     },
     "execution_count": 282,
     "metadata": {},
     "output_type": "execute_result"
    }
   ],
   "source": [
    "number_tracks(df, 'Friday', 'Saint-Petersburg')"
   ]
  },
  {
   "cell_type": "markdown",
   "metadata": {
    "colab_type": "text",
    "deletable": false,
    "editable": false,
    "id": "tCB9zwzzqZ8g",
    "tags": [
     "d73e12bf-3635-484b-8fb6-c7ccc2101671"
    ]
   },
   "source": [
    "Сведём полученную информацию в одну таблицу, где ['city', 'monday', 'wednesday', 'friday'] названия столбцов.\n"
   ]
  },
  {
   "cell_type": "code",
   "execution_count": 283,
   "metadata": {
    "deletable": false
   },
   "outputs": [
    {
     "data": {
      "text/html": [
       "<div>\n",
       "<style scoped>\n",
       "    .dataframe tbody tr th:only-of-type {\n",
       "        vertical-align: middle;\n",
       "    }\n",
       "\n",
       "    .dataframe tbody tr th {\n",
       "        vertical-align: top;\n",
       "    }\n",
       "\n",
       "    .dataframe thead th {\n",
       "        text-align: right;\n",
       "    }\n",
       "</style>\n",
       "<table border=\"1\" class=\"dataframe\">\n",
       "  <thead>\n",
       "    <tr style=\"text-align: right;\">\n",
       "      <th></th>\n",
       "      <th>city</th>\n",
       "      <th>monday</th>\n",
       "      <th>wednesday</th>\n",
       "      <th>friday</th>\n",
       "    </tr>\n",
       "  </thead>\n",
       "  <tbody>\n",
       "    <tr>\n",
       "      <td>0</td>\n",
       "      <td>Moscow</td>\n",
       "      <td>15347</td>\n",
       "      <td>10865</td>\n",
       "      <td>15680</td>\n",
       "    </tr>\n",
       "    <tr>\n",
       "      <td>1</td>\n",
       "      <td>Saint-Petersburg</td>\n",
       "      <td>5519</td>\n",
       "      <td>6913</td>\n",
       "      <td>5802</td>\n",
       "    </tr>\n",
       "  </tbody>\n",
       "</table>\n",
       "</div>"
      ],
      "text/plain": [
       "               city  monday  wednesday  friday\n",
       "0            Moscow   15347      10865   15680\n",
       "1  Saint-Petersburg    5519       6913    5802"
      ]
     },
     "execution_count": 283,
     "metadata": {},
     "output_type": "execute_result"
    }
   ],
   "source": [
    "data = [\n",
    "    ['Moscow', number_tracks(df, 'Monday', 'Moscow'), number_tracks(df, 'Wednesday', 'Moscow'), number_tracks(df, 'Friday', 'Moscow')],\n",
    "    ['Saint-Petersburg', number_tracks(df, 'Monday', 'Saint-Petersburg'), number_tracks(df, 'Wednesday', 'Saint-Petersburg'), number_tracks(df, 'Friday', 'Saint-Petersburg')]\n",
    "]\n",
    "columns = ['city', 'monday', 'wednesday', 'friday']\n",
    "table = pd.DataFrame(data= data, columns = columns)\n",
    "table"
   ]
  },
  {
   "cell_type": "markdown",
   "metadata": {
    "colab_type": "text",
    "deletable": false,
    "id": "LKCYeMXgqPxD"
   },
   "source": [
    "**Вывод**"
   ]
  },
  {
   "cell_type": "markdown",
   "metadata": {
    "colab_type": "text",
    "deletable": false,
    "id": "RJpg6I8jqQ0x"
   },
   "source": [
    "Результаты показывают, что относительно среды музыку в Петербурге и Москве слушают «зеркально»: в Москве пики приходятся на понедельник и пятницу, а в среду время прослушивания снижается. Тогда как в Санкт-Петербурге среда — день самого большого интереса к музыке, а в понедельник и пятницу он меньше, причём почти одинаково меньше."
   ]
  },
  {
   "cell_type": "markdown",
   "metadata": {
    "colab_type": "text",
    "deletable": false,
    "editable": false,
    "id": "tLdpUGyewzGf",
    "tags": [
     "1eb8124a-f066-4c43-b1f4-bc672c5efd57"
    ]
   },
   "source": [
    "# Утро понедельника и вечер пятницы — разная музыка или одна и та же?"
   ]
  },
  {
   "cell_type": "markdown",
   "metadata": {
    "colab_type": "text",
    "deletable": false,
    "id": "SaQlxcVntL3x"
   },
   "source": [
    "Ищем ответ на вопрос, какие жанры преобладают в разных городах в понедельник утром и в пятницу вечером. Есть предположение, что в понедельник утром пользователи слушают больше бодрящей музыки (например, жанра поп), а вечером пятницы — больше танцевальных (например, электронику)."
   ]
  },
  {
   "cell_type": "markdown",
   "metadata": {
    "colab_type": "text",
    "deletable": false,
    "id": "lYGAneOaPBhS"
   },
   "source": [
    "Получим таблицы данных по Москве *moscow_general* и по Санкт-Петербургу *spb_general*."
   ]
  },
  {
   "cell_type": "code",
   "execution_count": 284,
   "metadata": {
    "colab": {},
    "colab_type": "code",
    "deletable": false,
    "id": "Pyz1i56nA5IS"
   },
   "outputs": [],
   "source": [
    "moscow_general = df[df['city'] == 'Moscow']"
   ]
  },
  {
   "cell_type": "code",
   "execution_count": 285,
   "metadata": {
    "colab": {},
    "colab_type": "code",
    "deletable": false,
    "id": "w3NNN-2hA-al"
   },
   "outputs": [],
   "source": [
    "spb_general = df[df['city'] == 'Saint-Petersburg']"
   ]
  },
  {
   "cell_type": "markdown",
   "metadata": {
    "colab_type": "text",
    "deletable": false,
    "editable": false,
    "id": "duDdH_WiPLky",
    "tags": [
     "7f7cae13-ec1c-45c4-9204-0a4354fe1766"
    ]
   },
   "source": [
    "Создаём функцию *genre_weekday()*, которая возвращает список жанров по запрошенному дню недели и времени суток с такого-то часа по такой-то."
   ]
  },
  {
   "cell_type": "code",
   "execution_count": 286,
   "metadata": {
    "colab": {},
    "colab_type": "code",
    "deletable": false,
    "id": "JhUdQynHBEYw"
   },
   "outputs": [],
   "source": [
    "def genre_weekday(df, day, time1, time2):\n",
    "    genre_list = df[ (df['weekday'] == day) & (df['time'] > time1) & (df['time'] < time2) ]\n",
    "    genre_list_sorted = df.groupby('genre_name')['genre_name'].count().sort_values(ascending = False)\n",
    "    return genre_list_sorted[:11]"
   ]
  },
  {
   "cell_type": "markdown",
   "metadata": {
    "colab_type": "text",
    "deletable": false,
    "editable": false,
    "id": "bxGC8kXkP7B-",
    "tags": [
     "63e2c3f3-fa64-4376-8221-e8b753264535"
    ]
   },
   "source": [
    "Cравниваем полученные результаты по таблице для Москвы и Санкт-Петербурга в понедельник утром (с 7 до 11) и в пятницу вечером (с 17 до 23)."
   ]
  },
  {
   "cell_type": "code",
   "execution_count": 287,
   "metadata": {
    "colab": {},
    "colab_type": "code",
    "deletable": false,
    "id": "kbgeq-55BLEI"
   },
   "outputs": [
    {
     "data": {
      "text/plain": [
       "genre_name\n",
       "pop            5892\n",
       "dance          4435\n",
       "rock           3965\n",
       "electronic     3786\n",
       "hiphop         2096\n",
       "classical      1616\n",
       "world          1432\n",
       "alternative    1379\n",
       "ruspop         1372\n",
       "rusrap         1161\n",
       "jazz            980\n",
       "Name: genre_name, dtype: int64"
      ]
     },
     "execution_count": 287,
     "metadata": {},
     "output_type": "execute_result"
    }
   ],
   "source": [
    "genre_weekday(moscow_general, 'Monday', '07:00:00', '11:00:00')"
   ]
  },
  {
   "cell_type": "code",
   "execution_count": 288,
   "metadata": {
    "colab": {},
    "colab_type": "code",
    "deletable": false,
    "id": "XHwa8N2EBRXO"
   },
   "outputs": [
    {
     "data": {
      "text/plain": [
       "genre_name\n",
       "pop            2431\n",
       "dance          1932\n",
       "rock           1879\n",
       "electronic     1736\n",
       "hiphop          960\n",
       "alternative     649\n",
       "classical       646\n",
       "rusrap          564\n",
       "ruspop          538\n",
       "world           515\n",
       "jazz            486\n",
       "Name: genre_name, dtype: int64"
      ]
     },
     "execution_count": 288,
     "metadata": {},
     "output_type": "execute_result"
    }
   ],
   "source": [
    "genre_weekday(spb_general, 'Monday', '07:00:00', '11:00:00')"
   ]
  },
  {
   "cell_type": "code",
   "execution_count": 289,
   "metadata": {
    "colab": {},
    "colab_type": "code",
    "deletable": false,
    "id": "YvdSbg2jBUeq"
   },
   "outputs": [
    {
     "data": {
      "text/plain": [
       "genre_name\n",
       "pop            5892\n",
       "dance          4435\n",
       "rock           3965\n",
       "electronic     3786\n",
       "hiphop         2096\n",
       "classical      1616\n",
       "world          1432\n",
       "alternative    1379\n",
       "ruspop         1372\n",
       "rusrap         1161\n",
       "jazz            980\n",
       "Name: genre_name, dtype: int64"
      ]
     },
     "execution_count": 289,
     "metadata": {},
     "output_type": "execute_result"
    }
   ],
   "source": [
    "genre_weekday(moscow_general, 'Friday', '17:00:00', '23:00:00')"
   ]
  },
  {
   "cell_type": "code",
   "execution_count": 290,
   "metadata": {
    "colab": {},
    "colab_type": "code",
    "deletable": false,
    "id": "Ew3ig4fPBUeu"
   },
   "outputs": [
    {
     "data": {
      "text/plain": [
       "genre_name\n",
       "pop            2431\n",
       "dance          1932\n",
       "rock           1879\n",
       "electronic     1736\n",
       "hiphop          960\n",
       "alternative     649\n",
       "classical       646\n",
       "rusrap          564\n",
       "ruspop          538\n",
       "world           515\n",
       "jazz            486\n",
       "Name: genre_name, dtype: int64"
      ]
     },
     "execution_count": 290,
     "metadata": {},
     "output_type": "execute_result"
    }
   ],
   "source": [
    "genre_weekday(spb_general, 'Friday', '17:00:00', '23:00:00')"
   ]
  },
  {
   "cell_type": "markdown",
   "metadata": {
    "colab_type": "text",
    "deletable": false,
    "id": "UenYBZTIwYT-"
   },
   "source": [
    "Популярные жанры в понедельник утром в Питере и Москве оказались похожи: везде, как и предполагалось, популярен поп. Несмотря на это, концовка топ-10 для двух городов различается: в Питере в топ-10 входит джаз и русский рэп, а в Москве жанр *world*.\n",
    "\n",
    "В конце недели ситуация не меняется. Поп-музыка всё так же на первом месте. Опять разница заметна только в концовке топ-10, где в Питере пятничным вечером тоже присутствует жанр *world*."
   ]
  },
  {
   "cell_type": "markdown",
   "metadata": {
    "colab_type": "text",
    "deletable": false,
    "id": "MBxfrKPAykp_"
   },
   "source": [
    "**Вывод**"
   ]
  },
  {
   "cell_type": "markdown",
   "metadata": {
    "colab_type": "text",
    "deletable": false,
    "id": "j8ypBMwSymL6"
   },
   "source": [
    "Жанр поп безусловный лидер, а топ-5 в целом не различается в обеих столицах. При этом видно, что концовка списка более «живая»: для каждого города выделяются более характерные жанры, которые действительно меняют свои позиции в зависимости от дня недели и времени."
   ]
  },
  {
   "cell_type": "markdown",
   "metadata": {
    "colab_type": "text",
    "deletable": false,
    "editable": false,
    "id": "D7YMmgKRw270",
    "tags": [
     "f363205e-76b1-4883-abf1-bf21c9572dc7"
    ]
   },
   "source": [
    "# Москва и Питер — две разные столицы, два разных направления в музыке. Правда?"
   ]
  },
  {
   "cell_type": "markdown",
   "metadata": {
    "colab_type": "text",
    "deletable": false,
    "id": "Wc5srT13zb4Z"
   },
   "source": [
    "Гипотеза: Питер богат своей рэп-культурой, поэтому это направление там слушают чаще, а Москва — город контрастов, но основная масса пользователей слушает попсу.\n",
    "\n"
   ]
  },
  {
   "cell_type": "markdown",
   "metadata": {
    "colab_type": "text",
    "deletable": false,
    "id": "2SFE9_RV2KEL"
   },
   "source": [
    "Сгруппируем таблицу *moscow_general* по жанру, сосчитаем численность композиций каждого жанра методом *count()*, отсортируем в порядке убывания и сохраним результат в таблице *moscow_genres*.\n",
    "\n",
    "Просмотрим первые 10 строк этой новой таблицы."
   ]
  },
  {
   "cell_type": "code",
   "execution_count": 291,
   "metadata": {
    "colab": {},
    "colab_type": "code",
    "deletable": false,
    "id": "OohoTcsYBheo"
   },
   "outputs": [],
   "source": [
    "moscow_genres = moscow_general.groupby('genre_name')['genre_name'].count().sort_values(ascending = False)"
   ]
  },
  {
   "cell_type": "code",
   "execution_count": 292,
   "metadata": {
    "colab": {},
    "colab_type": "code",
    "deletable": false,
    "id": "h7IhIKDrBher"
   },
   "outputs": [
    {
     "data": {
      "text/plain": [
       "genre_name\n",
       "pop            5892\n",
       "dance          4435\n",
       "rock           3965\n",
       "electronic     3786\n",
       "hiphop         2096\n",
       "classical      1616\n",
       "world          1432\n",
       "alternative    1379\n",
       "ruspop         1372\n",
       "rusrap         1161\n",
       "Name: genre_name, dtype: int64"
      ]
     },
     "execution_count": 292,
     "metadata": {},
     "output_type": "execute_result"
    }
   ],
   "source": [
    "moscow_genres.head(10)"
   ]
  },
  {
   "cell_type": "markdown",
   "metadata": {
    "colab_type": "text",
    "deletable": false,
    "editable": false,
    "id": "gjnf0lol2fUy",
    "tags": [
     "f7503a48-1b28-483d-9f7b-bae79fb182b5"
    ]
   },
   "source": [
    "Сгруппируем таблицу *spb_general* по жанру, сосчитаем численность композиций каждого жанра методом *count()*, отсортируем в порядке убывания и сохраним результат в таблице *spb_genres*.\n",
    "\n",
    "Просматриваем первые 10 строк этой таблицы. Теперь можно сравнивать два города."
   ]
  },
  {
   "cell_type": "code",
   "execution_count": 293,
   "metadata": {
    "colab": {},
    "colab_type": "code",
    "deletable": false,
    "id": "eQrdA85dB1LO"
   },
   "outputs": [],
   "source": [
    "spb_genres = spb_general.groupby('genre_name')['genre_name'].count().sort_values(ascending = False)"
   ]
  },
  {
   "cell_type": "code",
   "execution_count": 294,
   "metadata": {
    "colab": {},
    "colab_type": "code",
    "deletable": false,
    "id": "AE-Z-1wCB1LS"
   },
   "outputs": [
    {
     "data": {
      "text/plain": [
       "genre_name\n",
       "pop            2431\n",
       "dance          1932\n",
       "rock           1879\n",
       "electronic     1736\n",
       "hiphop          960\n",
       "alternative     649\n",
       "classical       646\n",
       "rusrap          564\n",
       "ruspop          538\n",
       "world           515\n",
       "Name: genre_name, dtype: int64"
      ]
     },
     "execution_count": 294,
     "metadata": {},
     "output_type": "execute_result"
    }
   ],
   "source": [
    "spb_genres.head(10)"
   ]
  },
  {
   "cell_type": "markdown",
   "metadata": {
    "colab_type": "text",
    "deletable": false,
    "id": "J5E-kLgK2piO"
   },
   "source": [
    "**Вывод**"
   ]
  },
  {
   "cell_type": "markdown",
   "metadata": {
    "colab_type": "text",
    "deletable": false,
    "id": "-9R3-Qh02tNt"
   },
   "source": [
    "В Москве, кроме абсолютно популярного жанра поп, есть направление русской популярной музыки. Значит, что интерес к этому жанру шире. А рэп, вопреки предположению, занимает в обоих городах близкие позиции."
   ]
  },
  {
   "cell_type": "markdown",
   "metadata": {
    "colab_type": "text",
    "deletable": false,
    "editable": false,
    "id": "gLlT9nKMQ3ky",
    "tags": [
     "0d44c8c0-390b-4c9e-b797-ddc3993f6e58"
    ]
   },
   "source": [
    "# Этап 4. Результаты исследования\n"
   ]
  },
  {
   "cell_type": "markdown",
   "metadata": {
    "colab_type": "text",
    "deletable": false,
    "id": "GtvyRBbD7dv5"
   },
   "source": [
    "Рабочие гипотезы:\n",
    "\n",
    "* музыку в двух городах — Москве и Санкт-Петербурге — слушают в разном режиме;\n",
    "\n",
    "* списки десяти самых популярных жанров утром в понедельник и вечером в пятницу имеют характерные отличия;\n",
    "\n",
    "* население двух городов предпочитает разные музыкальные жанры.\n",
    "\n",
    "**Общие результаты**\n",
    "\n",
    "Москва и Петербург сходятся во вкусах: везде преобладает популярная музыка. При этом зависимости предпочтений от дня недели в каждом отдельном городе нет — люди постоянно слушают то, что им нравится. Но между городами в разрезе дней неделей наблюдается зеркальность относительно среды: Москва больше слушает в понедельник и пятницу, а Петербург наоборот - больше в среду, но меньше в понедельник и пятницу.\n",
    "\n",
    "В результате первая гипотеза подтверждена, вторая гипотеза не подтверждена и третья не подтверждена."
   ]
  },
  {
   "cell_type": "code",
   "execution_count": null,
   "metadata": {},
   "outputs": [],
   "source": []
  }
 ],
 "metadata": {
  "ExecuteTimeLog": [
   {
    "duration": 633,
    "start_time": "2021-08-29T16:36:57.525Z"
   },
   {
    "duration": 2126,
    "start_time": "2021-08-29T16:37:15.333Z"
   },
   {
    "duration": 127,
    "start_time": "2021-08-29T16:37:35.913Z"
   },
   {
    "duration": 16,
    "start_time": "2021-08-29T16:37:41.859Z"
   },
   {
    "duration": 23,
    "start_time": "2021-08-29T16:37:52.386Z"
   },
   {
    "duration": 4,
    "start_time": "2021-08-29T16:39:32.298Z"
   },
   {
    "duration": 3,
    "start_time": "2021-08-29T16:40:37.284Z"
   },
   {
    "duration": 341,
    "start_time": "2021-08-29T16:41:56.481Z"
   },
   {
    "duration": 1065,
    "start_time": "2021-08-29T16:42:04.680Z"
   },
   {
    "duration": 3,
    "start_time": "2021-08-29T16:42:24.481Z"
   },
   {
    "duration": 4,
    "start_time": "2021-08-29T16:42:29.292Z"
   },
   {
    "duration": 22,
    "start_time": "2021-08-29T16:42:46.799Z"
   },
   {
    "duration": 21,
    "start_time": "2021-08-29T16:43:01.085Z"
   },
   {
    "duration": 7,
    "start_time": "2021-08-29T16:46:27.864Z"
   },
   {
    "duration": 3439,
    "start_time": "2021-08-29T16:46:37.656Z"
   },
   {
    "duration": 3923,
    "start_time": "2021-08-29T16:46:56.013Z"
   },
   {
    "duration": 3,
    "start_time": "2021-08-29T16:47:10.874Z"
   },
   {
    "duration": 130,
    "start_time": "2021-08-29T16:47:10.879Z"
   },
   {
    "duration": 9,
    "start_time": "2021-08-29T16:47:11.011Z"
   },
   {
    "duration": 28,
    "start_time": "2021-08-29T16:47:11.022Z"
   },
   {
    "duration": 4,
    "start_time": "2021-08-29T16:47:11.051Z"
   },
   {
    "duration": 4,
    "start_time": "2021-08-29T16:47:11.056Z"
   },
   {
    "duration": 6,
    "start_time": "2021-08-29T16:47:11.062Z"
   },
   {
    "duration": 21,
    "start_time": "2021-08-29T16:47:11.070Z"
   },
   {
    "duration": 9,
    "start_time": "2021-08-29T16:47:17.820Z"
   },
   {
    "duration": 9,
    "start_time": "2021-08-29T16:47:24.716Z"
   },
   {
    "duration": 31,
    "start_time": "2021-08-29T16:47:48.952Z"
   },
   {
    "duration": 8,
    "start_time": "2021-08-29T16:51:33.068Z"
   },
   {
    "duration": 22,
    "start_time": "2021-08-29T16:51:35.639Z"
   },
   {
    "duration": 7,
    "start_time": "2021-08-29T16:51:40.232Z"
   },
   {
    "duration": 3404,
    "start_time": "2021-08-29T16:51:43.130Z"
   },
   {
    "duration": 2,
    "start_time": "2021-08-29T16:51:53.815Z"
   },
   {
    "duration": 132,
    "start_time": "2021-08-29T16:51:53.819Z"
   },
   {
    "duration": 10,
    "start_time": "2021-08-29T16:51:53.953Z"
   },
   {
    "duration": 24,
    "start_time": "2021-08-29T16:51:53.965Z"
   },
   {
    "duration": 4,
    "start_time": "2021-08-29T16:51:53.991Z"
   },
   {
    "duration": 4,
    "start_time": "2021-08-29T16:51:53.996Z"
   },
   {
    "duration": 14,
    "start_time": "2021-08-29T16:51:54.002Z"
   },
   {
    "duration": 36,
    "start_time": "2021-08-29T16:51:54.017Z"
   },
   {
    "duration": 9,
    "start_time": "2021-08-29T16:51:57.714Z"
   },
   {
    "duration": 4740,
    "start_time": "2021-08-29T16:52:13.041Z"
   },
   {
    "duration": 4,
    "start_time": "2021-08-29T16:52:19.992Z"
   },
   {
    "duration": 135,
    "start_time": "2021-08-29T16:52:19.998Z"
   },
   {
    "duration": 10,
    "start_time": "2021-08-29T16:52:20.135Z"
   },
   {
    "duration": 24,
    "start_time": "2021-08-29T16:52:20.147Z"
   },
   {
    "duration": 4,
    "start_time": "2021-08-29T16:52:20.173Z"
   },
   {
    "duration": 4,
    "start_time": "2021-08-29T16:52:20.179Z"
   },
   {
    "duration": 6,
    "start_time": "2021-08-29T16:52:20.184Z"
   },
   {
    "duration": 50,
    "start_time": "2021-08-29T16:52:20.192Z"
   },
   {
    "duration": 8,
    "start_time": "2021-08-29T16:52:22.094Z"
   },
   {
    "duration": 8,
    "start_time": "2021-08-29T16:52:31.071Z"
   },
   {
    "duration": 20,
    "start_time": "2021-08-29T16:52:33.131Z"
   },
   {
    "duration": 11,
    "start_time": "2021-08-29T16:52:54.984Z"
   },
   {
    "duration": 21,
    "start_time": "2021-08-29T16:55:08.284Z"
   },
   {
    "duration": 11,
    "start_time": "2021-08-29T16:55:11.507Z"
   },
   {
    "duration": 24,
    "start_time": "2021-08-29T16:55:13.687Z"
   },
   {
    "duration": 6,
    "start_time": "2021-08-29T16:55:27.572Z"
   },
   {
    "duration": 20,
    "start_time": "2021-08-29T16:55:28.956Z"
   },
   {
    "duration": 2,
    "start_time": "2021-08-29T16:55:45.950Z"
   },
   {
    "duration": 132,
    "start_time": "2021-08-29T16:55:45.954Z"
   },
   {
    "duration": 10,
    "start_time": "2021-08-29T16:55:46.088Z"
   },
   {
    "duration": 24,
    "start_time": "2021-08-29T16:55:46.100Z"
   },
   {
    "duration": 15,
    "start_time": "2021-08-29T16:55:46.126Z"
   },
   {
    "duration": 3,
    "start_time": "2021-08-29T16:55:46.143Z"
   },
   {
    "duration": 7,
    "start_time": "2021-08-29T16:55:46.148Z"
   },
   {
    "duration": 23,
    "start_time": "2021-08-29T16:55:46.157Z"
   },
   {
    "duration": 12,
    "start_time": "2021-08-29T16:55:46.182Z"
   },
   {
    "duration": 11,
    "start_time": "2021-08-29T16:55:46.195Z"
   },
   {
    "duration": 8,
    "start_time": "2021-08-29T16:55:48.962Z"
   },
   {
    "duration": 23,
    "start_time": "2021-08-29T16:55:50.788Z"
   },
   {
    "duration": 7,
    "start_time": "2021-08-29T16:55:58.571Z"
   },
   {
    "duration": 31,
    "start_time": "2021-08-29T16:56:00.374Z"
   },
   {
    "duration": 6,
    "start_time": "2021-08-29T16:56:16.305Z"
   },
   {
    "duration": 22,
    "start_time": "2021-08-29T16:56:17.296Z"
   },
   {
    "duration": 2,
    "start_time": "2021-08-29T16:56:20.871Z"
   },
   {
    "duration": 138,
    "start_time": "2021-08-29T16:56:20.876Z"
   },
   {
    "duration": 11,
    "start_time": "2021-08-29T16:56:21.016Z"
   },
   {
    "duration": 25,
    "start_time": "2021-08-29T16:56:21.041Z"
   },
   {
    "duration": 4,
    "start_time": "2021-08-29T16:56:21.068Z"
   },
   {
    "duration": 5,
    "start_time": "2021-08-29T16:56:21.074Z"
   },
   {
    "duration": 6,
    "start_time": "2021-08-29T16:56:21.081Z"
   },
   {
    "duration": 25,
    "start_time": "2021-08-29T16:56:21.088Z"
   },
   {
    "duration": 34,
    "start_time": "2021-08-29T16:56:21.115Z"
   },
   {
    "duration": 17,
    "start_time": "2021-08-29T16:56:21.151Z"
   },
   {
    "duration": 24,
    "start_time": "2021-08-29T16:56:21.170Z"
   },
   {
    "duration": 15,
    "start_time": "2021-08-29T16:58:17.738Z"
   },
   {
    "duration": 21,
    "start_time": "2021-08-29T16:58:19.571Z"
   },
   {
    "duration": 274,
    "start_time": "2021-08-29T16:58:56.383Z"
   },
   {
    "duration": 56,
    "start_time": "2021-08-29T16:59:01.667Z"
   },
   {
    "duration": 65,
    "start_time": "2021-08-29T16:59:18.350Z"
   },
   {
    "duration": 56,
    "start_time": "2021-08-29T16:59:22.630Z"
   },
   {
    "duration": 53,
    "start_time": "2021-08-29T16:59:26.557Z"
   },
   {
    "duration": 63,
    "start_time": "2021-08-29T16:59:40.105Z"
   },
   {
    "duration": 51,
    "start_time": "2021-08-29T16:59:41.599Z"
   },
   {
    "duration": 6,
    "start_time": "2021-08-29T17:00:39.950Z"
   },
   {
    "duration": 8,
    "start_time": "2021-08-29T17:01:02.892Z"
   },
   {
    "duration": 5,
    "start_time": "2021-08-29T17:20:05.040Z"
   },
   {
    "duration": 5,
    "start_time": "2021-08-29T17:20:07.425Z"
   },
   {
    "duration": 3,
    "start_time": "2021-08-29T17:21:46.871Z"
   },
   {
    "duration": 271,
    "start_time": "2021-08-29T17:21:49.077Z"
   },
   {
    "duration": 4,
    "start_time": "2021-08-29T17:21:53.566Z"
   },
   {
    "duration": 4,
    "start_time": "2021-08-29T17:22:00.605Z"
   },
   {
    "duration": 4,
    "start_time": "2021-08-29T17:22:07.905Z"
   },
   {
    "duration": 4,
    "start_time": "2021-08-29T17:35:26.874Z"
   },
   {
    "duration": 2,
    "start_time": "2021-08-29T17:35:31.828Z"
   },
   {
    "duration": 6918,
    "start_time": "2021-08-29T17:35:55.415Z"
   },
   {
    "duration": 3,
    "start_time": "2021-08-29T17:36:12.028Z"
   },
   {
    "duration": 35,
    "start_time": "2021-08-29T17:36:14.224Z"
   },
   {
    "duration": 3,
    "start_time": "2021-08-29T17:45:22.503Z"
   },
   {
    "duration": 31,
    "start_time": "2021-08-29T17:45:24.679Z"
   },
   {
    "duration": 3,
    "start_time": "2021-08-29T17:45:30.323Z"
   },
   {
    "duration": 143,
    "start_time": "2021-08-29T17:45:30.328Z"
   },
   {
    "duration": 8,
    "start_time": "2021-08-29T17:45:30.473Z"
   },
   {
    "duration": 31,
    "start_time": "2021-08-29T17:45:30.483Z"
   },
   {
    "duration": 14,
    "start_time": "2021-08-29T17:45:30.516Z"
   },
   {
    "duration": 14,
    "start_time": "2021-08-29T17:45:30.532Z"
   },
   {
    "duration": 12,
    "start_time": "2021-08-29T17:45:30.548Z"
   },
   {
    "duration": 27,
    "start_time": "2021-08-29T17:45:30.562Z"
   },
   {
    "duration": 21,
    "start_time": "2021-08-29T17:45:30.590Z"
   },
   {
    "duration": 11,
    "start_time": "2021-08-29T17:45:30.613Z"
   },
   {
    "duration": 35,
    "start_time": "2021-08-29T17:45:30.626Z"
   },
   {
    "duration": 31,
    "start_time": "2021-08-29T17:45:30.662Z"
   },
   {
    "duration": 29,
    "start_time": "2021-08-29T17:45:30.694Z"
   },
   {
    "duration": 63,
    "start_time": "2021-08-29T17:45:30.725Z"
   },
   {
    "duration": 59,
    "start_time": "2021-08-29T17:45:30.789Z"
   },
   {
    "duration": 45,
    "start_time": "2021-08-29T17:45:30.849Z"
   },
   {
    "duration": 5,
    "start_time": "2021-08-29T17:45:30.896Z"
   },
   {
    "duration": 18,
    "start_time": "2021-08-29T17:45:30.903Z"
   },
   {
    "duration": 26,
    "start_time": "2021-08-29T17:45:30.924Z"
   },
   {
    "duration": 17,
    "start_time": "2021-08-29T17:45:30.952Z"
   },
   {
    "duration": 11,
    "start_time": "2021-08-29T17:45:30.970Z"
   },
   {
    "duration": 3,
    "start_time": "2021-08-29T17:45:35.302Z"
   },
   {
    "duration": 30,
    "start_time": "2021-08-29T17:45:36.159Z"
   },
   {
    "duration": 4,
    "start_time": "2021-08-29T17:45:49.057Z"
   },
   {
    "duration": 48,
    "start_time": "2021-08-29T17:45:50.112Z"
   },
   {
    "duration": 3,
    "start_time": "2021-08-29T17:46:01.528Z"
   },
   {
    "duration": 137,
    "start_time": "2021-08-29T17:46:01.532Z"
   },
   {
    "duration": 11,
    "start_time": "2021-08-29T17:46:01.671Z"
   },
   {
    "duration": 25,
    "start_time": "2021-08-29T17:46:01.684Z"
   },
   {
    "duration": 4,
    "start_time": "2021-08-29T17:46:01.711Z"
   },
   {
    "duration": 24,
    "start_time": "2021-08-29T17:46:01.717Z"
   },
   {
    "duration": 7,
    "start_time": "2021-08-29T17:46:01.743Z"
   },
   {
    "duration": 22,
    "start_time": "2021-08-29T17:46:01.753Z"
   },
   {
    "duration": 8,
    "start_time": "2021-08-29T17:46:01.777Z"
   },
   {
    "duration": 16,
    "start_time": "2021-08-29T17:46:01.786Z"
   },
   {
    "duration": 24,
    "start_time": "2021-08-29T17:46:01.804Z"
   },
   {
    "duration": 25,
    "start_time": "2021-08-29T17:46:01.829Z"
   },
   {
    "duration": 22,
    "start_time": "2021-08-29T17:46:01.855Z"
   },
   {
    "duration": 74,
    "start_time": "2021-08-29T17:46:01.878Z"
   },
   {
    "duration": 57,
    "start_time": "2021-08-29T17:46:01.954Z"
   },
   {
    "duration": 59,
    "start_time": "2021-08-29T17:46:02.012Z"
   },
   {
    "duration": 4,
    "start_time": "2021-08-29T17:46:02.074Z"
   },
   {
    "duration": 5,
    "start_time": "2021-08-29T17:46:02.080Z"
   },
   {
    "duration": 14,
    "start_time": "2021-08-29T17:46:02.086Z"
   },
   {
    "duration": 7,
    "start_time": "2021-08-29T17:46:02.101Z"
   },
   {
    "duration": 8,
    "start_time": "2021-08-29T17:46:02.109Z"
   },
   {
    "duration": 3,
    "start_time": "2021-08-29T17:46:04.900Z"
   },
   {
    "duration": 31,
    "start_time": "2021-08-29T17:46:05.908Z"
   },
   {
    "duration": 3,
    "start_time": "2021-08-29T17:46:44.552Z"
   },
   {
    "duration": 27,
    "start_time": "2021-08-29T17:46:46.318Z"
   },
   {
    "duration": 27,
    "start_time": "2021-08-29T17:51:51.945Z"
   },
   {
    "duration": 3,
    "start_time": "2021-08-29T17:51:54.461Z"
   },
   {
    "duration": 3,
    "start_time": "2021-08-29T17:54:08.632Z"
   },
   {
    "duration": 9,
    "start_time": "2021-08-29T17:55:45.262Z"
   },
   {
    "duration": 9,
    "start_time": "2021-08-29T17:56:05.553Z"
   },
   {
    "duration": 3,
    "start_time": "2021-08-29T18:03:13.851Z"
   },
   {
    "duration": 7006,
    "start_time": "2021-08-29T18:03:14.424Z"
   },
   {
    "duration": -270,
    "start_time": "2021-08-29T18:03:21.703Z"
   },
   {
    "duration": -270,
    "start_time": "2021-08-29T18:03:21.705Z"
   },
   {
    "duration": -271,
    "start_time": "2021-08-29T18:03:21.707Z"
   },
   {
    "duration": -272,
    "start_time": "2021-08-29T18:03:21.709Z"
   },
   {
    "duration": -272,
    "start_time": "2021-08-29T18:03:21.711Z"
   },
   {
    "duration": 5,
    "start_time": "2021-08-29T18:04:09.400Z"
   },
   {
    "duration": 8256,
    "start_time": "2021-08-29T18:04:11.642Z"
   },
   {
    "duration": 2,
    "start_time": "2021-08-29T18:06:52.679Z"
   },
   {
    "duration": 130,
    "start_time": "2021-08-29T18:06:52.683Z"
   },
   {
    "duration": 9,
    "start_time": "2021-08-29T18:06:52.815Z"
   },
   {
    "duration": 31,
    "start_time": "2021-08-29T18:06:52.826Z"
   },
   {
    "duration": 7,
    "start_time": "2021-08-29T18:06:52.858Z"
   },
   {
    "duration": 17,
    "start_time": "2021-08-29T18:06:52.866Z"
   },
   {
    "duration": 19,
    "start_time": "2021-08-29T18:06:52.885Z"
   },
   {
    "duration": 29,
    "start_time": "2021-08-29T18:06:52.906Z"
   },
   {
    "duration": 8,
    "start_time": "2021-08-29T18:06:52.937Z"
   },
   {
    "duration": 11,
    "start_time": "2021-08-29T18:06:52.946Z"
   },
   {
    "duration": 22,
    "start_time": "2021-08-29T18:06:52.959Z"
   },
   {
    "duration": 17,
    "start_time": "2021-08-29T18:06:52.983Z"
   },
   {
    "duration": 23,
    "start_time": "2021-08-29T18:06:53.001Z"
   },
   {
    "duration": 61,
    "start_time": "2021-08-29T18:06:53.025Z"
   },
   {
    "duration": 65,
    "start_time": "2021-08-29T18:06:53.088Z"
   },
   {
    "duration": 44,
    "start_time": "2021-08-29T18:06:53.155Z"
   },
   {
    "duration": 5,
    "start_time": "2021-08-29T18:06:53.200Z"
   },
   {
    "duration": 5,
    "start_time": "2021-08-29T18:06:53.206Z"
   },
   {
    "duration": 10,
    "start_time": "2021-08-29T18:06:53.212Z"
   },
   {
    "duration": 18,
    "start_time": "2021-08-29T18:06:53.223Z"
   },
   {
    "duration": 3,
    "start_time": "2021-08-29T18:06:53.242Z"
   },
   {
    "duration": 5,
    "start_time": "2021-08-29T18:06:53.247Z"
   },
   {
    "duration": 11,
    "start_time": "2021-08-29T18:06:53.255Z"
   },
   {
    "duration": 22,
    "start_time": "2021-08-29T18:06:53.268Z"
   },
   {
    "duration": 10,
    "start_time": "2021-08-29T18:06:53.291Z"
   },
   {
    "duration": 9,
    "start_time": "2021-08-29T18:06:53.302Z"
   },
   {
    "duration": 3,
    "start_time": "2021-08-29T18:06:57.602Z"
   },
   {
    "duration": 7540,
    "start_time": "2021-08-29T18:07:00.188Z"
   },
   {
    "duration": 3,
    "start_time": "2021-08-29T18:08:27.879Z"
   },
   {
    "duration": 7344,
    "start_time": "2021-08-29T18:08:35.051Z"
   },
   {
    "duration": 3,
    "start_time": "2021-08-29T18:08:50.571Z"
   },
   {
    "duration": 6888,
    "start_time": "2021-08-29T18:08:52.966Z"
   },
   {
    "duration": 11,
    "start_time": "2021-08-29T18:09:15.545Z"
   },
   {
    "duration": 3,
    "start_time": "2021-08-29T18:10:27.472Z"
   },
   {
    "duration": 6769,
    "start_time": "2021-08-29T18:10:30.876Z"
   },
   {
    "duration": 3,
    "start_time": "2021-08-29T18:10:54.291Z"
   },
   {
    "duration": 7,
    "start_time": "2021-08-29T18:10:56.998Z"
   },
   {
    "duration": 3,
    "start_time": "2021-08-29T18:11:24.760Z"
   },
   {
    "duration": 8458,
    "start_time": "2021-08-29T18:11:26.897Z"
   },
   {
    "duration": 4,
    "start_time": "2021-08-29T18:11:45.582Z"
   },
   {
    "duration": 6915,
    "start_time": "2021-08-29T18:11:48.605Z"
   },
   {
    "duration": 3,
    "start_time": "2021-08-29T18:13:16.191Z"
   },
   {
    "duration": 7539,
    "start_time": "2021-08-29T18:13:18.058Z"
   },
   {
    "duration": 91,
    "start_time": "2021-08-29T18:58:37.508Z"
   },
   {
    "duration": 4,
    "start_time": "2021-08-29T18:58:57.039Z"
   },
   {
    "duration": 21,
    "start_time": "2021-08-29T18:58:58.648Z"
   },
   {
    "duration": 58,
    "start_time": "2021-08-29T19:07:55.014Z"
   },
   {
    "duration": 63,
    "start_time": "2021-08-29T19:08:02.636Z"
   },
   {
    "duration": 3,
    "start_time": "2021-08-29T19:20:00.643Z"
   },
   {
    "duration": 4,
    "start_time": "2021-08-29T19:20:35.033Z"
   },
   {
    "duration": 98,
    "start_time": "2021-08-29T19:21:00.804Z"
   },
   {
    "duration": 24,
    "start_time": "2021-08-29T19:21:04.124Z"
   },
   {
    "duration": 260,
    "start_time": "2021-08-29T19:21:43.219Z"
   },
   {
    "duration": 11,
    "start_time": "2021-08-29T19:21:47.069Z"
   },
   {
    "duration": 8,
    "start_time": "2021-08-29T19:21:48.601Z"
   },
   {
    "duration": 20,
    "start_time": "2021-08-29T19:21:50.752Z"
   },
   {
    "duration": 14,
    "start_time": "2021-08-29T19:21:58.157Z"
   },
   {
    "duration": 20,
    "start_time": "2021-08-29T19:22:47.287Z"
   },
   {
    "duration": 14,
    "start_time": "2021-08-29T19:22:49.525Z"
   },
   {
    "duration": 282,
    "start_time": "2021-08-29T19:26:05.294Z"
   },
   {
    "duration": 7,
    "start_time": "2021-08-29T19:26:20.157Z"
   },
   {
    "duration": 276,
    "start_time": "2021-08-29T19:26:32.668Z"
   },
   {
    "duration": 8,
    "start_time": "2021-08-29T19:26:35.215Z"
   },
   {
    "duration": 283,
    "start_time": "2021-08-29T19:26:37.391Z"
   },
   {
    "duration": 88,
    "start_time": "2021-08-29T19:26:43.370Z"
   },
   {
    "duration": 281,
    "start_time": "2021-08-29T19:26:56.760Z"
   },
   {
    "duration": 271,
    "start_time": "2021-08-29T19:27:03.387Z"
   },
   {
    "duration": 348,
    "start_time": "2021-08-29T19:27:10.042Z"
   },
   {
    "duration": 374,
    "start_time": "2021-08-29T19:27:13.062Z"
   },
   {
    "duration": 5,
    "start_time": "2021-08-29T19:27:18.696Z"
   },
   {
    "duration": 4,
    "start_time": "2021-08-29T19:27:24.650Z"
   },
   {
    "duration": 270,
    "start_time": "2021-08-29T19:27:56.268Z"
   },
   {
    "duration": 5,
    "start_time": "2021-08-29T19:28:15.496Z"
   },
   {
    "duration": 3,
    "start_time": "2021-08-29T19:28:25.296Z"
   },
   {
    "duration": 90,
    "start_time": "2021-08-29T19:29:01.152Z"
   },
   {
    "duration": 631,
    "start_time": "2021-08-29T19:31:40.339Z"
   },
   {
    "duration": 5,
    "start_time": "2021-08-29T19:32:56.658Z"
   },
   {
    "duration": 5,
    "start_time": "2021-08-29T19:33:16.085Z"
   },
   {
    "duration": 8,
    "start_time": "2021-08-29T19:33:31.264Z"
   },
   {
    "duration": 4,
    "start_time": "2021-08-29T19:33:39.399Z"
   },
   {
    "duration": 3,
    "start_time": "2021-08-29T19:49:02.350Z"
   },
   {
    "duration": 142,
    "start_time": "2021-08-29T19:49:02.355Z"
   },
   {
    "duration": 11,
    "start_time": "2021-08-29T19:49:02.499Z"
   },
   {
    "duration": 39,
    "start_time": "2021-08-29T19:49:02.513Z"
   },
   {
    "duration": 13,
    "start_time": "2021-08-29T19:49:02.554Z"
   },
   {
    "duration": 20,
    "start_time": "2021-08-29T19:49:02.569Z"
   },
   {
    "duration": 28,
    "start_time": "2021-08-29T19:49:02.591Z"
   },
   {
    "duration": 36,
    "start_time": "2021-08-29T19:49:02.621Z"
   },
   {
    "duration": 36,
    "start_time": "2021-08-29T19:49:02.660Z"
   },
   {
    "duration": 36,
    "start_time": "2021-08-29T19:49:02.698Z"
   },
   {
    "duration": 34,
    "start_time": "2021-08-29T19:49:02.737Z"
   },
   {
    "duration": 16,
    "start_time": "2021-08-29T19:49:02.772Z"
   },
   {
    "duration": 42,
    "start_time": "2021-08-29T19:49:02.790Z"
   },
   {
    "duration": 64,
    "start_time": "2021-08-29T19:49:02.833Z"
   },
   {
    "duration": 56,
    "start_time": "2021-08-29T19:49:02.899Z"
   },
   {
    "duration": 47,
    "start_time": "2021-08-29T19:49:02.957Z"
   },
   {
    "duration": 5,
    "start_time": "2021-08-29T19:49:03.006Z"
   },
   {
    "duration": 5,
    "start_time": "2021-08-29T19:49:03.012Z"
   },
   {
    "duration": 9,
    "start_time": "2021-08-29T19:49:03.019Z"
   },
   {
    "duration": 4,
    "start_time": "2021-08-29T19:49:03.041Z"
   },
   {
    "duration": 20,
    "start_time": "2021-08-29T19:49:03.046Z"
   },
   {
    "duration": 5,
    "start_time": "2021-08-29T19:49:03.067Z"
   },
   {
    "duration": 13,
    "start_time": "2021-08-29T19:49:03.073Z"
   },
   {
    "duration": 21,
    "start_time": "2021-08-29T19:49:03.088Z"
   },
   {
    "duration": 12,
    "start_time": "2021-08-29T19:49:03.111Z"
   },
   {
    "duration": 22,
    "start_time": "2021-08-29T19:49:03.125Z"
   },
   {
    "duration": 3,
    "start_time": "2021-08-29T19:49:03.151Z"
   },
   {
    "duration": 18,
    "start_time": "2021-08-29T19:49:03.155Z"
   },
   {
    "duration": 13,
    "start_time": "2021-08-29T19:49:03.175Z"
   },
   {
    "duration": 13,
    "start_time": "2021-08-29T19:49:03.189Z"
   },
   {
    "duration": 39,
    "start_time": "2021-08-29T19:49:03.203Z"
   },
   {
    "duration": 15,
    "start_time": "2021-08-29T19:49:03.243Z"
   },
   {
    "duration": 15,
    "start_time": "2021-08-29T19:49:03.259Z"
   },
   {
    "duration": 89,
    "start_time": "2021-08-29T19:49:03.276Z"
   },
   {
    "duration": 11,
    "start_time": "2021-08-29T19:49:03.367Z"
   },
   {
    "duration": 55,
    "start_time": "2021-08-29T19:49:03.379Z"
   },
   {
    "duration": 13,
    "start_time": "2021-08-29T19:49:03.436Z"
   },
   {
    "duration": 32,
    "start_time": "2021-08-29T19:49:03.451Z"
   },
   {
    "duration": 20,
    "start_time": "2021-08-29T19:49:03.485Z"
   },
   {
    "duration": 22,
    "start_time": "2021-08-29T19:49:03.507Z"
   },
   {
    "duration": 20,
    "start_time": "2021-08-29T19:49:03.530Z"
   },
   {
    "duration": 19,
    "start_time": "2021-08-29T19:49:03.552Z"
   },
   {
    "duration": 17,
    "start_time": "2021-08-29T19:49:03.572Z"
   },
   {
    "duration": 15,
    "start_time": "2021-08-29T19:49:03.590Z"
   },
   {
    "duration": 21,
    "start_time": "2021-08-29T19:49:03.607Z"
   }
  ],
  "kernelspec": {
   "display_name": "Python 3 (ipykernel)",
   "language": "python",
   "name": "python3"
  },
  "language_info": {
   "codemirror_mode": {
    "name": "ipython",
    "version": 3
   },
   "file_extension": ".py",
   "mimetype": "text/x-python",
   "name": "python",
   "nbconvert_exporter": "python",
   "pygments_lexer": "ipython3",
   "version": "3.9.7"
  },
  "toc": {
   "base_numbering": 1,
   "nav_menu": {},
   "number_sections": true,
   "sideBar": true,
   "skip_h1_title": true,
   "title_cell": "Table of Contents",
   "title_sidebar": "Contents",
   "toc_cell": false,
   "toc_position": {},
   "toc_section_display": true,
   "toc_window_display": false
  }
 },
 "nbformat": 4,
 "nbformat_minor": 1
}
