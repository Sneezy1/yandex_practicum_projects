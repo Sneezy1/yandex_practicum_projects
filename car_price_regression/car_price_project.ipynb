{
 "cells": [
  {
   "cell_type": "markdown",
   "metadata": {},
   "source": [
    "## Подготовка данных"
   ]
  },
  {
   "cell_type": "code",
   "execution_count": 145,
   "metadata": {},
   "outputs": [
    {
     "name": "stdout",
     "output_type": "stream",
     "text": [
      "Defaulting to user installation because normal site-packages is not writeable\n",
      "\u001b[33mWARNING: Retrying (Retry(total=4, connect=None, read=None, redirect=None, status=None)) after connection broken by 'ReadTimeoutError(\"HTTPSConnectionPool(host='pypi.org', port=443): Read timed out. (read timeout=15)\")': /simple/seaborn/\u001b[0m\n",
      "\u001b[33mWARNING: Retrying (Retry(total=3, connect=None, read=None, redirect=None, status=None)) after connection broken by 'ReadTimeoutError(\"HTTPSConnectionPool(host='pypi.org', port=443): Read timed out. (read timeout=15)\")': /simple/seaborn/\u001b[0m\n",
      "\u001b[33mWARNING: Retrying (Retry(total=2, connect=None, read=None, redirect=None, status=None)) after connection broken by 'ReadTimeoutError(\"HTTPSConnectionPool(host='pypi.org', port=443): Read timed out. (read timeout=15)\")': /simple/seaborn/\u001b[0m\n",
      "\u001b[33mWARNING: Retrying (Retry(total=1, connect=None, read=None, redirect=None, status=None)) after connection broken by 'ReadTimeoutError(\"HTTPSConnectionPool(host='pypi.org', port=443): Read timed out. (read timeout=15)\")': /simple/seaborn/\u001b[0m\n",
      "\u001b[33mWARNING: Retrying (Retry(total=0, connect=None, read=None, redirect=None, status=None)) after connection broken by 'ReadTimeoutError(\"HTTPSConnectionPool(host='pypi.org', port=443): Read timed out. (read timeout=15)\")': /simple/seaborn/\u001b[0m\n",
      "Requirement already up-to-date: seaborn in /home/jovyan/.local/lib/python3.7/site-packages (0.11.2)\n",
      "Requirement already satisfied, skipping upgrade: pandas>=0.23 in /opt/conda/lib/python3.7/site-packages (from seaborn) (0.25.1)\n",
      "Requirement already satisfied, skipping upgrade: scipy>=1.0 in /opt/conda/lib/python3.7/site-packages (from seaborn) (1.4.1)\n",
      "Requirement already satisfied, skipping upgrade: numpy>=1.15 in /opt/conda/lib/python3.7/site-packages (from seaborn) (1.19.5)\n",
      "Requirement already satisfied, skipping upgrade: matplotlib>=2.2 in /opt/conda/lib/python3.7/site-packages (from seaborn) (3.1.0)\n",
      "Requirement already satisfied, skipping upgrade: python-dateutil>=2.6.1 in /opt/conda/lib/python3.7/site-packages (from pandas>=0.23->seaborn) (2.8.1)\n",
      "Requirement already satisfied, skipping upgrade: pytz>=2017.2 in /opt/conda/lib/python3.7/site-packages (from pandas>=0.23->seaborn) (2021.1)\n",
      "Requirement already satisfied, skipping upgrade: pyparsing!=2.0.4,!=2.1.2,!=2.1.6,>=2.0.1 in /opt/conda/lib/python3.7/site-packages (from matplotlib>=2.2->seaborn) (2.4.7)\n",
      "Requirement already satisfied, skipping upgrade: cycler>=0.10 in /opt/conda/lib/python3.7/site-packages (from matplotlib>=2.2->seaborn) (0.10.0)\n",
      "Requirement already satisfied, skipping upgrade: kiwisolver>=1.0.1 in /opt/conda/lib/python3.7/site-packages (from matplotlib>=2.2->seaborn) (1.3.1)\n",
      "Requirement already satisfied, skipping upgrade: six>=1.5 in /opt/conda/lib/python3.7/site-packages (from python-dateutil>=2.6.1->pandas>=0.23->seaborn) (1.15.0)\n"
     ]
    }
   ],
   "source": [
    "#%%capture\n",
    "import pandas as pd\n",
    "import numpy as np\n",
    "import seaborn as sns\n",
    "import matplotlib.pyplot as plt\n",
    "from sklearn.preprocessing import OrdinalEncoder\n",
    "from sklearn.model_selection import train_test_split\n",
    "from sklearn.model_selection import GridSearchCV\n",
    "from sklearn.metrics import mean_squared_error\n",
    "from sklearn.pipeline import Pipeline\n",
    "from sklearn.metrics import make_scorer\n",
    "\n",
    "from sklearn.tree import DecisionTreeRegressor\n",
    "from sklearn.linear_model import LinearRegression\n",
    "from sklearn.ensemble import RandomForestRegressor\n",
    "from xgboost import XGBRegressor\n",
    "from catboost import CatBoostRegressor\n",
    "from lightgbm import LGBMRegressor\n",
    "\n",
    "!pip install -U seaborn\n",
    "sns.set(rc={'figure.figsize':(15, 10)})\n",
    "\n",
    "import warnings\n",
    "warnings.filterwarnings('ignore')"
   ]
  },
  {
   "cell_type": "markdown",
   "metadata": {},
   "source": [
    "Загрузим данные и посмотрим их описание"
   ]
  },
  {
   "cell_type": "code",
   "execution_count": 146,
   "metadata": {},
   "outputs": [],
   "source": [
    "raw_df = pd.read_csv('/datasets/autos.csv')\n",
    "df = raw_df.copy(deep=True)"
   ]
  },
  {
   "cell_type": "code",
   "execution_count": 147,
   "metadata": {},
   "outputs": [
    {
     "data": {
      "text/plain": [
       "DateCrawled           0.00%\n",
       "Price                 0.00%\n",
       "VehicleType          10.58%\n",
       "RegistrationYear      0.00%\n",
       "Gearbox               5.60%\n",
       "Power                 0.00%\n",
       "Model                 5.56%\n",
       "Kilometer             0.00%\n",
       "RegistrationMonth     0.00%\n",
       "FuelType              9.28%\n",
       "Brand                 0.00%\n",
       "NotRepaired          20.08%\n",
       "DateCreated           0.00%\n",
       "NumberOfPictures      0.00%\n",
       "PostalCode            0.00%\n",
       "LastSeen              0.00%\n",
       "dtype: object"
      ]
     },
     "execution_count": 147,
     "metadata": {},
     "output_type": "execute_result"
    }
   ],
   "source": [
    "df.isna().mean().apply('{:.2%}'.format)"
   ]
  },
  {
   "cell_type": "markdown",
   "metadata": {},
   "source": [
    "Видим пропуски в 5 колонках"
   ]
  },
  {
   "cell_type": "code",
   "execution_count": 148,
   "metadata": {},
   "outputs": [
    {
     "data": {
      "text/html": [
       "<div>\n",
       "<style scoped>\n",
       "    .dataframe tbody tr th:only-of-type {\n",
       "        vertical-align: middle;\n",
       "    }\n",
       "\n",
       "    .dataframe tbody tr th {\n",
       "        vertical-align: top;\n",
       "    }\n",
       "\n",
       "    .dataframe thead th {\n",
       "        text-align: right;\n",
       "    }\n",
       "</style>\n",
       "<table border=\"1\" class=\"dataframe\">\n",
       "  <thead>\n",
       "    <tr style=\"text-align: right;\">\n",
       "      <th></th>\n",
       "      <th>Price</th>\n",
       "      <th>RegistrationYear</th>\n",
       "      <th>Power</th>\n",
       "      <th>Kilometer</th>\n",
       "      <th>RegistrationMonth</th>\n",
       "      <th>NumberOfPictures</th>\n",
       "      <th>PostalCode</th>\n",
       "    </tr>\n",
       "  </thead>\n",
       "  <tbody>\n",
       "    <tr>\n",
       "      <td>count</td>\n",
       "      <td>354369.000000</td>\n",
       "      <td>354369.000000</td>\n",
       "      <td>354369.000000</td>\n",
       "      <td>354369.000000</td>\n",
       "      <td>354369.000000</td>\n",
       "      <td>354369.0</td>\n",
       "      <td>354369.000000</td>\n",
       "    </tr>\n",
       "    <tr>\n",
       "      <td>mean</td>\n",
       "      <td>4416.656776</td>\n",
       "      <td>2004.234448</td>\n",
       "      <td>110.094337</td>\n",
       "      <td>128211.172535</td>\n",
       "      <td>5.714645</td>\n",
       "      <td>0.0</td>\n",
       "      <td>50508.689087</td>\n",
       "    </tr>\n",
       "    <tr>\n",
       "      <td>std</td>\n",
       "      <td>4514.158514</td>\n",
       "      <td>90.227958</td>\n",
       "      <td>189.850405</td>\n",
       "      <td>37905.341530</td>\n",
       "      <td>3.726421</td>\n",
       "      <td>0.0</td>\n",
       "      <td>25783.096248</td>\n",
       "    </tr>\n",
       "    <tr>\n",
       "      <td>min</td>\n",
       "      <td>0.000000</td>\n",
       "      <td>1000.000000</td>\n",
       "      <td>0.000000</td>\n",
       "      <td>5000.000000</td>\n",
       "      <td>0.000000</td>\n",
       "      <td>0.0</td>\n",
       "      <td>1067.000000</td>\n",
       "    </tr>\n",
       "    <tr>\n",
       "      <td>25%</td>\n",
       "      <td>1050.000000</td>\n",
       "      <td>1999.000000</td>\n",
       "      <td>69.000000</td>\n",
       "      <td>125000.000000</td>\n",
       "      <td>3.000000</td>\n",
       "      <td>0.0</td>\n",
       "      <td>30165.000000</td>\n",
       "    </tr>\n",
       "    <tr>\n",
       "      <td>50%</td>\n",
       "      <td>2700.000000</td>\n",
       "      <td>2003.000000</td>\n",
       "      <td>105.000000</td>\n",
       "      <td>150000.000000</td>\n",
       "      <td>6.000000</td>\n",
       "      <td>0.0</td>\n",
       "      <td>49413.000000</td>\n",
       "    </tr>\n",
       "    <tr>\n",
       "      <td>75%</td>\n",
       "      <td>6400.000000</td>\n",
       "      <td>2008.000000</td>\n",
       "      <td>143.000000</td>\n",
       "      <td>150000.000000</td>\n",
       "      <td>9.000000</td>\n",
       "      <td>0.0</td>\n",
       "      <td>71083.000000</td>\n",
       "    </tr>\n",
       "    <tr>\n",
       "      <td>max</td>\n",
       "      <td>20000.000000</td>\n",
       "      <td>9999.000000</td>\n",
       "      <td>20000.000000</td>\n",
       "      <td>150000.000000</td>\n",
       "      <td>12.000000</td>\n",
       "      <td>0.0</td>\n",
       "      <td>99998.000000</td>\n",
       "    </tr>\n",
       "  </tbody>\n",
       "</table>\n",
       "</div>"
      ],
      "text/plain": [
       "               Price  RegistrationYear          Power      Kilometer  \\\n",
       "count  354369.000000     354369.000000  354369.000000  354369.000000   \n",
       "mean     4416.656776       2004.234448     110.094337  128211.172535   \n",
       "std      4514.158514         90.227958     189.850405   37905.341530   \n",
       "min         0.000000       1000.000000       0.000000    5000.000000   \n",
       "25%      1050.000000       1999.000000      69.000000  125000.000000   \n",
       "50%      2700.000000       2003.000000     105.000000  150000.000000   \n",
       "75%      6400.000000       2008.000000     143.000000  150000.000000   \n",
       "max     20000.000000       9999.000000   20000.000000  150000.000000   \n",
       "\n",
       "       RegistrationMonth  NumberOfPictures     PostalCode  \n",
       "count      354369.000000          354369.0  354369.000000  \n",
       "mean            5.714645               0.0   50508.689087  \n",
       "std             3.726421               0.0   25783.096248  \n",
       "min             0.000000               0.0    1067.000000  \n",
       "25%             3.000000               0.0   30165.000000  \n",
       "50%             6.000000               0.0   49413.000000  \n",
       "75%             9.000000               0.0   71083.000000  \n",
       "max            12.000000               0.0   99998.000000  "
      ]
     },
     "execution_count": 148,
     "metadata": {},
     "output_type": "execute_result"
    }
   ],
   "source": [
    "df.describe()"
   ]
  },
  {
   "cell_type": "code",
   "execution_count": 149,
   "metadata": {},
   "outputs": [
    {
     "data": {
      "text/html": [
       "<div>\n",
       "<style scoped>\n",
       "    .dataframe tbody tr th:only-of-type {\n",
       "        vertical-align: middle;\n",
       "    }\n",
       "\n",
       "    .dataframe tbody tr th {\n",
       "        vertical-align: top;\n",
       "    }\n",
       "\n",
       "    .dataframe thead th {\n",
       "        text-align: right;\n",
       "    }\n",
       "</style>\n",
       "<table border=\"1\" class=\"dataframe\">\n",
       "  <thead>\n",
       "    <tr style=\"text-align: right;\">\n",
       "      <th></th>\n",
       "      <th>DateCrawled</th>\n",
       "      <th>Price</th>\n",
       "      <th>VehicleType</th>\n",
       "      <th>RegistrationYear</th>\n",
       "      <th>Gearbox</th>\n",
       "      <th>Power</th>\n",
       "      <th>Model</th>\n",
       "      <th>Kilometer</th>\n",
       "      <th>RegistrationMonth</th>\n",
       "      <th>FuelType</th>\n",
       "      <th>Brand</th>\n",
       "      <th>NotRepaired</th>\n",
       "      <th>DateCreated</th>\n",
       "      <th>NumberOfPictures</th>\n",
       "      <th>PostalCode</th>\n",
       "      <th>LastSeen</th>\n",
       "    </tr>\n",
       "  </thead>\n",
       "  <tbody>\n",
       "    <tr>\n",
       "      <td>286707</td>\n",
       "      <td>2016-03-20 18:54:48</td>\n",
       "      <td>1000</td>\n",
       "      <td>sedan</td>\n",
       "      <td>1989</td>\n",
       "      <td>manual</td>\n",
       "      <td>129</td>\n",
       "      <td>5er</td>\n",
       "      <td>150000</td>\n",
       "      <td>4</td>\n",
       "      <td>petrol</td>\n",
       "      <td>bmw</td>\n",
       "      <td>no</td>\n",
       "      <td>2016-03-20 00:00:00</td>\n",
       "      <td>0</td>\n",
       "      <td>35708</td>\n",
       "      <td>2016-04-06 00:46:24</td>\n",
       "    </tr>\n",
       "    <tr>\n",
       "      <td>61905</td>\n",
       "      <td>2016-03-11 22:40:34</td>\n",
       "      <td>480</td>\n",
       "      <td>small</td>\n",
       "      <td>1996</td>\n",
       "      <td>manual</td>\n",
       "      <td>45</td>\n",
       "      <td>polo</td>\n",
       "      <td>150000</td>\n",
       "      <td>0</td>\n",
       "      <td>petrol</td>\n",
       "      <td>volkswagen</td>\n",
       "      <td>NaN</td>\n",
       "      <td>2016-03-11 00:00:00</td>\n",
       "      <td>0</td>\n",
       "      <td>51375</td>\n",
       "      <td>2016-03-14 21:18:16</td>\n",
       "    </tr>\n",
       "    <tr>\n",
       "      <td>4010</td>\n",
       "      <td>2016-03-17 10:56:05</td>\n",
       "      <td>1700</td>\n",
       "      <td>small</td>\n",
       "      <td>2004</td>\n",
       "      <td>manual</td>\n",
       "      <td>60</td>\n",
       "      <td>ka</td>\n",
       "      <td>90000</td>\n",
       "      <td>1</td>\n",
       "      <td>petrol</td>\n",
       "      <td>ford</td>\n",
       "      <td>no</td>\n",
       "      <td>2016-03-17 00:00:00</td>\n",
       "      <td>0</td>\n",
       "      <td>66299</td>\n",
       "      <td>2016-03-19 10:16:04</td>\n",
       "    </tr>\n",
       "    <tr>\n",
       "      <td>222478</td>\n",
       "      <td>2016-03-11 18:52:18</td>\n",
       "      <td>500</td>\n",
       "      <td>sedan</td>\n",
       "      <td>1995</td>\n",
       "      <td>manual</td>\n",
       "      <td>0</td>\n",
       "      <td>astra</td>\n",
       "      <td>90000</td>\n",
       "      <td>5</td>\n",
       "      <td>petrol</td>\n",
       "      <td>opel</td>\n",
       "      <td>yes</td>\n",
       "      <td>2016-03-11 00:00:00</td>\n",
       "      <td>0</td>\n",
       "      <td>79774</td>\n",
       "      <td>2016-03-18 04:15:55</td>\n",
       "    </tr>\n",
       "    <tr>\n",
       "      <td>15422</td>\n",
       "      <td>2016-03-24 21:47:08</td>\n",
       "      <td>2450</td>\n",
       "      <td>sedan</td>\n",
       "      <td>1996</td>\n",
       "      <td>auto</td>\n",
       "      <td>299</td>\n",
       "      <td>a8</td>\n",
       "      <td>150000</td>\n",
       "      <td>6</td>\n",
       "      <td>petrol</td>\n",
       "      <td>audi</td>\n",
       "      <td>no</td>\n",
       "      <td>2016-03-24 00:00:00</td>\n",
       "      <td>0</td>\n",
       "      <td>89278</td>\n",
       "      <td>2016-04-05 15:17:43</td>\n",
       "    </tr>\n",
       "  </tbody>\n",
       "</table>\n",
       "</div>"
      ],
      "text/plain": [
       "                DateCrawled  Price VehicleType  RegistrationYear Gearbox  \\\n",
       "286707  2016-03-20 18:54:48   1000       sedan              1989  manual   \n",
       "61905   2016-03-11 22:40:34    480       small              1996  manual   \n",
       "4010    2016-03-17 10:56:05   1700       small              2004  manual   \n",
       "222478  2016-03-11 18:52:18    500       sedan              1995  manual   \n",
       "15422   2016-03-24 21:47:08   2450       sedan              1996    auto   \n",
       "\n",
       "        Power  Model  Kilometer  RegistrationMonth FuelType       Brand  \\\n",
       "286707    129    5er     150000                  4   petrol         bmw   \n",
       "61905      45   polo     150000                  0   petrol  volkswagen   \n",
       "4010       60     ka      90000                  1   petrol        ford   \n",
       "222478      0  astra      90000                  5   petrol        opel   \n",
       "15422     299     a8     150000                  6   petrol        audi   \n",
       "\n",
       "       NotRepaired          DateCreated  NumberOfPictures  PostalCode  \\\n",
       "286707          no  2016-03-20 00:00:00                 0       35708   \n",
       "61905          NaN  2016-03-11 00:00:00                 0       51375   \n",
       "4010            no  2016-03-17 00:00:00                 0       66299   \n",
       "222478         yes  2016-03-11 00:00:00                 0       79774   \n",
       "15422           no  2016-03-24 00:00:00                 0       89278   \n",
       "\n",
       "                   LastSeen  \n",
       "286707  2016-04-06 00:46:24  \n",
       "61905   2016-03-14 21:18:16  \n",
       "4010    2016-03-19 10:16:04  \n",
       "222478  2016-03-18 04:15:55  \n",
       "15422   2016-04-05 15:17:43  "
      ]
     },
     "execution_count": 149,
     "metadata": {},
     "output_type": "execute_result"
    }
   ],
   "source": [
    "df.sample(5)"
   ]
  },
  {
   "cell_type": "markdown",
   "metadata": {},
   "source": [
    "Приведем имена колонок к одному регистру"
   ]
  },
  {
   "cell_type": "code",
   "execution_count": 150,
   "metadata": {},
   "outputs": [
    {
     "data": {
      "text/plain": [
       "Index(['datecrawled', 'price', 'vehicletype', 'registrationyear', 'gearbox',\n",
       "       'power', 'model', 'kilometer', 'registrationmonth', 'fueltype', 'brand',\n",
       "       'notrepaired', 'datecreated', 'numberofpictures', 'postalcode',\n",
       "       'lastseen'],\n",
       "      dtype='object')"
      ]
     },
     "execution_count": 150,
     "metadata": {},
     "output_type": "execute_result"
    }
   ],
   "source": [
    "df.columns = map(str.lower, df.columns)\n",
    "df.columns"
   ]
  },
  {
   "cell_type": "markdown",
   "metadata": {},
   "source": [
    "Поменяем тип данных в некоторых колонках на datetime"
   ]
  },
  {
   "cell_type": "code",
   "execution_count": 151,
   "metadata": {},
   "outputs": [],
   "source": [
    "to_dt = ['datecrawled', 'datecreated', 'lastseen']"
   ]
  },
  {
   "cell_type": "code",
   "execution_count": 152,
   "metadata": {},
   "outputs": [],
   "source": [
    "for col in to_dt:\n",
    "    df[col] = pd.to_datetime(df[col])"
   ]
  },
  {
   "cell_type": "markdown",
   "metadata": {},
   "source": [
    "Посмотрим, сколько объявлений были созданы до 2016 года"
   ]
  },
  {
   "cell_type": "code",
   "execution_count": 153,
   "metadata": {},
   "outputs": [
    {
     "data": {
      "text/plain": [
       "26"
      ]
     },
     "execution_count": 153,
     "metadata": {},
     "output_type": "execute_result"
    }
   ],
   "source": [
    "len(df[df['datecreated'].dt.year < 2016])"
   ]
  },
  {
   "cell_type": "markdown",
   "metadata": {},
   "source": [
    "Уберем такие объявления"
   ]
  },
  {
   "cell_type": "code",
   "execution_count": 154,
   "metadata": {},
   "outputs": [],
   "source": [
    "df = df.query('datecreated.dt.year == 2016')"
   ]
  },
  {
   "cell_type": "markdown",
   "metadata": {},
   "source": [
    "Заменим месяц регистрации равный 0 на 1"
   ]
  },
  {
   "cell_type": "code",
   "execution_count": 155,
   "metadata": {},
   "outputs": [],
   "source": [
    "df['registrationmonth'] = df['registrationmonth'].replace(0, 1)"
   ]
  },
  {
   "cell_type": "markdown",
   "metadata": {},
   "source": [
    "Посмотрим на распределение стоимости автомобилей"
   ]
  },
  {
   "cell_type": "code",
   "execution_count": 156,
   "metadata": {},
   "outputs": [
    {
     "data": {
      "text/plain": [
       "<matplotlib.axes._subplots.AxesSubplot at 0x7f45402ef8d0>"
      ]
     },
     "execution_count": 156,
     "metadata": {},
     "output_type": "execute_result"
    },
    {
     "data": {
      "image/png": "[encoded data removed]",
      "text/plain": [
       "<Figure size 1080x720 with 1 Axes>"
      ]
     },
     "metadata": {},
     "output_type": "display_data"
    }
   ],
   "source": [
    "sns.histplot(data=df['price'])"
   ]
  },
  {
   "cell_type": "code",
   "execution_count": 157,
   "metadata": {},
   "outputs": [
    {
     "data": {
      "text/plain": [
       "10772"
      ]
     },
     "execution_count": 157,
     "metadata": {},
     "output_type": "execute_result"
    }
   ],
   "source": [
    "len(df[df['price'] == 0])"
   ]
  },
  {
   "cell_type": "markdown",
   "metadata": {},
   "source": [
    "Значения медианы и среднего очень сильно отличаются. Избавимся от автомобилей с ценой 0"
   ]
  },
  {
   "cell_type": "code",
   "execution_count": 158,
   "metadata": {},
   "outputs": [],
   "source": [
    "df = df.query('price > 0')"
   ]
  },
  {
   "cell_type": "markdown",
   "metadata": {},
   "source": [
    "Посмотрим на распределение мощности в л.с. у автомобилей"
   ]
  },
  {
   "cell_type": "code",
   "execution_count": 159,
   "metadata": {},
   "outputs": [
    {
     "data": {
      "text/plain": [
       "<matplotlib.axes._subplots.AxesSubplot at 0x7f45d29befd0>"
      ]
     },
     "execution_count": 159,
     "metadata": {},
     "output_type": "execute_result"
    },
    {
     "data": {
      "image/png": "[encoded data removed]",
      "text/plain": [
       "<Figure size 1080x720 with 1 Axes>"
      ]
     },
     "metadata": {},
     "output_type": "display_data"
    }
   ],
   "source": [
    "sns.histplot(data=df['power'])"
   ]
  },
  {
   "cell_type": "markdown",
   "metadata": {},
   "source": [
    "Выберем автомобили, мощность которых не превышает 1500 л.с."
   ]
  },
  {
   "cell_type": "code",
   "execution_count": 160,
   "metadata": {},
   "outputs": [],
   "source": [
    "df = df.query('power < 1500')"
   ]
  },
  {
   "cell_type": "markdown",
   "metadata": {},
   "source": [
    "Заменим пропущенные значения в колонке мощность на медиану"
   ]
  },
  {
   "cell_type": "code",
   "execution_count": 161,
   "metadata": {},
   "outputs": [],
   "source": [
    "df['power'] = df['power'].fillna(df['power'].median())"
   ]
  },
  {
   "cell_type": "markdown",
   "metadata": {},
   "source": [
    "Заменим пропуски в колонке vehicletype на other"
   ]
  },
  {
   "cell_type": "code",
   "execution_count": 162,
   "metadata": {},
   "outputs": [],
   "source": [
    "df['vehicletype'] = df['vehicletype'].fillna('other')"
   ]
  },
  {
   "cell_type": "markdown",
   "metadata": {},
   "source": [
    "Посмотрим на колонку gearbox"
   ]
  },
  {
   "cell_type": "code",
   "execution_count": 163,
   "metadata": {},
   "outputs": [
    {
     "data": {
      "text/plain": [
       "manual    261224\n",
       "auto       64812\n",
       "Name: gearbox, dtype: int64"
      ]
     },
     "execution_count": 163,
     "metadata": {},
     "output_type": "execute_result"
    }
   ],
   "source": [
    "df['gearbox'].value_counts()"
   ]
  },
  {
   "cell_type": "markdown",
   "metadata": {},
   "source": [
    "Заменим пропуски в колонке gearbox на other"
   ]
  },
  {
   "cell_type": "code",
   "execution_count": 164,
   "metadata": {},
   "outputs": [],
   "source": [
    "df['gearbox'] = df['gearbox'].fillna('other')"
   ]
  },
  {
   "cell_type": "markdown",
   "metadata": {},
   "source": [
    "Посмотрим на колонку fueltype"
   ]
  },
  {
   "cell_type": "code",
   "execution_count": 165,
   "metadata": {},
   "outputs": [
    {
     "data": {
      "text/plain": [
       "petrol      210636\n",
       "gasoline     97120\n",
       "lpg           5163\n",
       "cng            552\n",
       "hybrid         227\n",
       "other          169\n",
       "electric        88\n",
       "Name: fueltype, dtype: int64"
      ]
     },
     "execution_count": 165,
     "metadata": {},
     "output_type": "execute_result"
    }
   ],
   "source": [
    "df['fueltype'].value_counts()"
   ]
  },
  {
   "cell_type": "markdown",
   "metadata": {},
   "source": [
    "Переименуем схожие категории в одну и уберем пропуски"
   ]
  },
  {
   "cell_type": "code",
   "execution_count": 166,
   "metadata": {},
   "outputs": [],
   "source": [
    "df['fueltype'] = df['fueltype'].replace('petrol', 'gasoline')\n",
    "df['fueltype'] = df['fueltype'].replace('lpg', 'gas')\n",
    "df['fueltype'] = df['fueltype'].replace('cng', 'gas')\n",
    "df['fueltype'] = df['fueltype'].fillna('other')"
   ]
  },
  {
   "cell_type": "code",
   "execution_count": 167,
   "metadata": {},
   "outputs": [
    {
     "data": {
      "text/plain": [
       "gasoline    307756\n",
       "other        29591\n",
       "gas           5715\n",
       "hybrid         227\n",
       "electric        88\n",
       "Name: fueltype, dtype: int64"
      ]
     },
     "execution_count": 167,
     "metadata": {},
     "output_type": "execute_result"
    }
   ],
   "source": [
    "df['fueltype'].value_counts()"
   ]
  },
  {
   "cell_type": "markdown",
   "metadata": {},
   "source": [
    "Посмотрим на колонку notrepaired"
   ]
  },
  {
   "cell_type": "code",
   "execution_count": 168,
   "metadata": {},
   "outputs": [
    {
     "data": {
      "text/plain": [
       "no     243569\n",
       "yes     34018\n",
       "Name: notrepaired, dtype: int64"
      ]
     },
     "execution_count": 168,
     "metadata": {},
     "output_type": "execute_result"
    }
   ],
   "source": [
    "df['notrepaired'].value_counts()"
   ]
  },
  {
   "cell_type": "markdown",
   "metadata": {},
   "source": [
    "Заменим пропуски на категорию other, поскольку мы не можем знать точно, была машина в ремонте или нет"
   ]
  },
  {
   "cell_type": "code",
   "execution_count": 169,
   "metadata": {},
   "outputs": [],
   "source": [
    "df['notrepaired'] = df['notrepaired'].fillna('other')"
   ]
  },
  {
   "cell_type": "markdown",
   "metadata": {},
   "source": [
    "Посмотрим на колонку model"
   ]
  },
  {
   "cell_type": "code",
   "execution_count": 170,
   "metadata": {},
   "outputs": [
    {
     "data": {
      "text/plain": [
       "golf                  28234\n",
       "other                 23698\n",
       "3er                   19170\n",
       "polo                  12617\n",
       "corsa                 12188\n",
       "                      ...  \n",
       "i3                        8\n",
       "rangerover                4\n",
       "serie_3                   3\n",
       "range_rover_evoque        2\n",
       "serie_1                   1\n",
       "Name: model, Length: 250, dtype: int64"
      ]
     },
     "execution_count": 170,
     "metadata": {},
     "output_type": "execute_result"
    }
   ],
   "source": [
    "df['model'].value_counts()"
   ]
  },
  {
   "cell_type": "code",
   "execution_count": 171,
   "metadata": {},
   "outputs": [
    {
     "data": {
      "text/plain": [
       "array(['golf', nan, 'grand', 'fabia', '3er', '2_reihe', 'c_max',\n",
       "       '3_reihe', 'passat', 'navara', 'ka', 'polo', 'twingo', 'a_klasse',\n",
       "       'scirocco', '5er', 'meriva', 'arosa', 'other', 'c4', 'civic',\n",
       "       'transporter', 'punto', 'e_klasse', 'clio', 'kadett', 'kangoo',\n",
       "       'one', 'fortwo', '1er', 'b_klasse', 'signum', 'astra', 'a8',\n",
       "       'jetta', 'fiesta', 'c_klasse', 'micra', 'vito', 'sprinter', '156',\n",
       "       'escort', 'forester', 'xc_reihe', 'scenic', 'a4', 'a1', 'insignia',\n",
       "       'combo', 'focus', 'tt', 'corsa', 'a6', 'jazz', 'omega', 'slk',\n",
       "       '7er', '80', '147', '100', 'z_reihe', 'sportage', 'sorento', 'v40',\n",
       "       'ibiza', 'mustang', 'eos', 'touran', 'getz', 'a3', 'almera',\n",
       "       'megane', 'lupo', 'r19', 'zafira', 'caddy', 'mondeo', 'cordoba',\n",
       "       'colt', 'impreza', 'vectra', 'berlingo', 'tiguan', 'i_reihe',\n",
       "       'espace', 'sharan', '6_reihe', 'panda', 'up', 'seicento', 'ceed',\n",
       "       '5_reihe', 'yeti', 'octavia', 'mii', 'rx_reihe', '6er', 'modus',\n",
       "       'fox', 'matiz', 'beetle', 'c1', 'rio', 'touareg', 'logan',\n",
       "       'spider', 'cuore', 's_max', 'a2', 'galaxy', 'c3', 'viano',\n",
       "       's_klasse', '1_reihe', 'avensis', 'roomster', 'sl', 'kaefer',\n",
       "       'santa', 'cooper', 'leon', '4_reihe', 'a5', '500', 'laguna',\n",
       "       'ptcruiser', 'clk', 'primera', 'x_reihe', 'exeo', '159', 'transit',\n",
       "       'juke', 'qashqai', 'carisma', 'accord', 'corolla', 'lanos',\n",
       "       'phaeton', 'verso', 'swift', 'rav', 'picanto', 'boxster', 'kalos',\n",
       "       'superb', 'stilo', 'alhambra', 'mx_reihe', 'roadster', 'ypsilon',\n",
       "       'cayenne', 'galant', 'justy', '90', 'sirion', 'crossfire', 'agila',\n",
       "       'duster', 'cr_reihe', 'v50', 'c_reihe', 'v_klasse', 'm_klasse',\n",
       "       'yaris', 'c5', 'aygo', 'cc', 'carnival', 'fusion', '911', 'bora',\n",
       "       'forfour', 'cl', 'tigra', '300c', 'spark', 'v70', 'kuga', 'x_type',\n",
       "       'ducato', 's_type', 'x_trail', 'toledo', 'altea', 'voyager',\n",
       "       'calibra', 'bravo', 'antara', 'tucson', 'citigo', 'jimny',\n",
       "       'wrangler', 'lybra', 'q7', 'lancer', 'captiva', 'c2', 'discovery',\n",
       "       'freelander', 'sandero', 'note', '900', 'cherokee', 'clubman',\n",
       "       'samara', 'defender', '601', 'cx_reihe', 'legacy', 'pajero',\n",
       "       'auris', 'niva', 's60', 'm_reihe', 'nubira', 'vivaro', 'g_klasse',\n",
       "       'lodgy', '850', 'range_rover', 'q3', 'serie_2', 'glk', 'charade',\n",
       "       'croma', 'outlander', 'doblo', 'musa', 'move', '9000', 'v60',\n",
       "       '145', 'aveo', '200', 'b_max', 'range_rover_sport', 'terios',\n",
       "       'rangerover', 'q5', 'range_rover_evoque', 'materia', 'delta', 'gl',\n",
       "       'kalina', 'amarok', 'elefantino', 'i3', 'kappa', 'serie_3',\n",
       "       'serie_1'], dtype=object)"
      ]
     },
     "execution_count": 171,
     "metadata": {},
     "output_type": "execute_result"
    }
   ],
   "source": [
    "df['model'].unique()"
   ]
  },
  {
   "cell_type": "markdown",
   "metadata": {},
   "source": [
    "250 уникальных значений. Заменим пропуски на other"
   ]
  },
  {
   "cell_type": "code",
   "execution_count": 172,
   "metadata": {},
   "outputs": [],
   "source": [
    "df['model'] = df['model'].fillna('other')"
   ]
  },
  {
   "cell_type": "markdown",
   "metadata": {},
   "source": [
    "Посмотрим сколько данных мы потеряли"
   ]
  },
  {
   "cell_type": "code",
   "execution_count": 173,
   "metadata": {},
   "outputs": [
    {
     "name": "stdout",
     "output_type": "stream",
     "text": [
      "Доля потерянных данных: 3.10%\n"
     ]
    }
   ],
   "source": [
    "print(f'Доля потерянных данных: {(1 - (df.shape[0] / raw_df.shape[0])):.2%}')"
   ]
  },
  {
   "cell_type": "code",
   "execution_count": 174,
   "metadata": {},
   "outputs": [
    {
     "data": {
      "text/plain": [
       "Index(['datecrawled', 'price', 'vehicletype', 'registrationyear', 'gearbox',\n",
       "       'power', 'model', 'kilometer', 'registrationmonth', 'fueltype', 'brand',\n",
       "       'notrepaired', 'datecreated', 'numberofpictures', 'postalcode',\n",
       "       'lastseen'],\n",
       "      dtype='object')"
      ]
     },
     "execution_count": 174,
     "metadata": {},
     "output_type": "execute_result"
    }
   ],
   "source": [
    "df.columns"
   ]
  },
  {
   "cell_type": "markdown",
   "metadata": {},
   "source": [
    "Удалим колонки с месяцами и годами, которые не несут важной для нас информации, кроме registrationyear"
   ]
  },
  {
   "cell_type": "code",
   "execution_count": 175,
   "metadata": {},
   "outputs": [],
   "source": [
    "df = df.drop(['datecrawled', 'datecreated', 'lastseen'], axis=1)"
   ]
  },
  {
   "cell_type": "markdown",
   "metadata": {},
   "source": [
    "Перед обучением моделей нам необходимо преобразовать категориальные признаки с помощью LabelEncoding"
   ]
  },
  {
   "cell_type": "code",
   "execution_count": 176,
   "metadata": {},
   "outputs": [],
   "source": [
    "encoder = OrdinalEncoder()"
   ]
  },
  {
   "cell_type": "code",
   "execution_count": 177,
   "metadata": {},
   "outputs": [
    {
     "data": {
      "text/plain": [
       "Index(['vehicletype', 'gearbox', 'model', 'fueltype', 'brand', 'notrepaired'], dtype='object')"
      ]
     },
     "execution_count": 177,
     "metadata": {},
     "output_type": "execute_result"
    }
   ],
   "source": [
    "X_cat.columns"
   ]
  },
  {
   "cell_type": "code",
   "execution_count": 178,
   "metadata": {},
   "outputs": [
    {
     "data": {
      "text/html": [
       "<div>\n",
       "<style scoped>\n",
       "    .dataframe tbody tr th:only-of-type {\n",
       "        vertical-align: middle;\n",
       "    }\n",
       "\n",
       "    .dataframe tbody tr th {\n",
       "        vertical-align: top;\n",
       "    }\n",
       "\n",
       "    .dataframe thead th {\n",
       "        text-align: right;\n",
       "    }\n",
       "</style>\n",
       "<table border=\"1\" class=\"dataframe\">\n",
       "  <thead>\n",
       "    <tr style=\"text-align: right;\">\n",
       "      <th></th>\n",
       "      <th>vehicletype</th>\n",
       "      <th>registrationyear</th>\n",
       "      <th>gearbox</th>\n",
       "      <th>power</th>\n",
       "      <th>model</th>\n",
       "      <th>kilometer</th>\n",
       "      <th>registrationmonth</th>\n",
       "      <th>fueltype</th>\n",
       "      <th>brand</th>\n",
       "      <th>notrepaired</th>\n",
       "      <th>numberofpictures</th>\n",
       "      <th>postalcode</th>\n",
       "    </tr>\n",
       "  </thead>\n",
       "  <tbody>\n",
       "    <tr>\n",
       "      <td>354363</td>\n",
       "      <td>bus</td>\n",
       "      <td>2000</td>\n",
       "      <td>manual</td>\n",
       "      <td>0</td>\n",
       "      <td>zafira</td>\n",
       "      <td>150000</td>\n",
       "      <td>3</td>\n",
       "      <td>gasoline</td>\n",
       "      <td>opel</td>\n",
       "      <td>no</td>\n",
       "      <td>0</td>\n",
       "      <td>26624</td>\n",
       "    </tr>\n",
       "    <tr>\n",
       "      <td>354365</td>\n",
       "      <td>other</td>\n",
       "      <td>2005</td>\n",
       "      <td>other</td>\n",
       "      <td>0</td>\n",
       "      <td>other</td>\n",
       "      <td>20000</td>\n",
       "      <td>1</td>\n",
       "      <td>other</td>\n",
       "      <td>sonstige_autos</td>\n",
       "      <td>other</td>\n",
       "      <td>0</td>\n",
       "      <td>39576</td>\n",
       "    </tr>\n",
       "    <tr>\n",
       "      <td>354366</td>\n",
       "      <td>convertible</td>\n",
       "      <td>2000</td>\n",
       "      <td>auto</td>\n",
       "      <td>101</td>\n",
       "      <td>fortwo</td>\n",
       "      <td>125000</td>\n",
       "      <td>3</td>\n",
       "      <td>gasoline</td>\n",
       "      <td>smart</td>\n",
       "      <td>no</td>\n",
       "      <td>0</td>\n",
       "      <td>26135</td>\n",
       "    </tr>\n",
       "    <tr>\n",
       "      <td>354367</td>\n",
       "      <td>bus</td>\n",
       "      <td>1996</td>\n",
       "      <td>manual</td>\n",
       "      <td>102</td>\n",
       "      <td>transporter</td>\n",
       "      <td>150000</td>\n",
       "      <td>3</td>\n",
       "      <td>gasoline</td>\n",
       "      <td>volkswagen</td>\n",
       "      <td>no</td>\n",
       "      <td>0</td>\n",
       "      <td>87439</td>\n",
       "    </tr>\n",
       "    <tr>\n",
       "      <td>354368</td>\n",
       "      <td>wagon</td>\n",
       "      <td>2002</td>\n",
       "      <td>manual</td>\n",
       "      <td>100</td>\n",
       "      <td>golf</td>\n",
       "      <td>150000</td>\n",
       "      <td>6</td>\n",
       "      <td>gasoline</td>\n",
       "      <td>volkswagen</td>\n",
       "      <td>other</td>\n",
       "      <td>0</td>\n",
       "      <td>40764</td>\n",
       "    </tr>\n",
       "  </tbody>\n",
       "</table>\n",
       "</div>"
      ],
      "text/plain": [
       "        vehicletype  registrationyear gearbox  power        model  kilometer  \\\n",
       "354363          bus              2000  manual      0       zafira     150000   \n",
       "354365        other              2005   other      0        other      20000   \n",
       "354366  convertible              2000    auto    101       fortwo     125000   \n",
       "354367          bus              1996  manual    102  transporter     150000   \n",
       "354368        wagon              2002  manual    100         golf     150000   \n",
       "\n",
       "        registrationmonth  fueltype           brand notrepaired  \\\n",
       "354363                  3  gasoline            opel          no   \n",
       "354365                  1     other  sonstige_autos       other   \n",
       "354366                  3  gasoline           smart          no   \n",
       "354367                  3  gasoline      volkswagen          no   \n",
       "354368                  6  gasoline      volkswagen       other   \n",
       "\n",
       "        numberofpictures  postalcode  \n",
       "354363                 0       26624  \n",
       "354365                 0       39576  \n",
       "354366                 0       26135  \n",
       "354367                 0       87439  \n",
       "354368                 0       40764  "
      ]
     },
     "execution_count": 178,
     "metadata": {},
     "output_type": "execute_result"
    }
   ],
   "source": [
    "raw_X.tail()"
   ]
  },
  {
   "cell_type": "code",
   "execution_count": 179,
   "metadata": {},
   "outputs": [],
   "source": [
    "raw_X = df.drop('price', axis=1)\n",
    "y = df['price']"
   ]
  },
  {
   "cell_type": "code",
   "execution_count": 180,
   "metadata": {},
   "outputs": [],
   "source": [
    "X = raw_X.copy()\n",
    "X_cat = X.copy()\n",
    "X_cat = X.select_dtypes(include=['object'])\n",
    "X = X.drop(X_cat.columns, axis=1)\n",
    "X_enc = encoder.fit_transform(X_cat)\n",
    "X_enc = pd.DataFrame(data=X_enc, index=X.index, columns=X_cat.columns)\n",
    "new_X = pd.concat([X, X_enc], axis=1)\n",
    "cat_type_X = raw_X.copy()\n",
    "cat_type_X = cat_type_X[X_cat.columns].astype('category')\n",
    "cat_type_X = pd.concat([cat_type_X, X], axis=1)"
   ]
  },
  {
   "cell_type": "markdown",
   "metadata": {},
   "source": [
    "Для использования моделей из библиотек CatBoost и LightGBM не обязательно делать кодирование категориальных признаков.  \n",
    "Для CatBoost при создании модели укажем список категориальных признаков.  \n",
    "Для LightGBM приведем тип категориальных признаков к category."
   ]
  },
  {
   "cell_type": "markdown",
   "metadata": {},
   "source": [
    "Разделим данные на тестовую и обучающую выборки"
   ]
  },
  {
   "cell_type": "code",
   "execution_count": 181,
   "metadata": {},
   "outputs": [],
   "source": [
    "X_train, X_test, y_train, y_test = train_test_split(new_X, y, test_size=0.2, random_state=42)"
   ]
  },
  {
   "cell_type": "code",
   "execution_count": 182,
   "metadata": {},
   "outputs": [],
   "source": [
    "raw_X_train, raw_X_test, y_train, y_test = train_test_split(raw_X, y, test_size=0.2, random_state=42)"
   ]
  },
  {
   "cell_type": "code",
   "execution_count": 183,
   "metadata": {},
   "outputs": [],
   "source": [
    "cat_X_train, cat_X_test, y_train, y_test = train_test_split(cat_type_X, y, test_size=0.2, random_state=42)"
   ]
  },
  {
   "cell_type": "markdown",
   "metadata": {},
   "source": [
    "## Обучение моделей"
   ]
  },
  {
   "cell_type": "markdown",
   "metadata": {},
   "source": [
    "Для использования GridSearchCV создадим свою метрику MSE, поскольку нам нужно минимальное значение метрики, а не максимальное."
   ]
  },
  {
   "cell_type": "code",
   "execution_count": 184,
   "metadata": {},
   "outputs": [],
   "source": [
    "mse = make_scorer(mean_squared_error,greater_is_better=False)"
   ]
  },
  {
   "cell_type": "markdown",
   "metadata": {},
   "source": [
    "Сначала обучим линейную регрессию"
   ]
  },
  {
   "cell_type": "code",
   "execution_count": 185,
   "metadata": {},
   "outputs": [],
   "source": [
    "linear_reg = LinearRegression()"
   ]
  },
  {
   "cell_type": "code",
   "execution_count": 186,
   "metadata": {},
   "outputs": [
    {
     "name": "stdout",
     "output_type": "stream",
     "text": [
      "CPU times: user 159 ms, sys: 88.7 ms, total: 248 ms\n",
      "Wall time: 231 ms\n"
     ]
    },
    {
     "data": {
      "text/plain": [
       "LinearRegression(copy_X=True, fit_intercept=True, n_jobs=None, normalize=False)"
      ]
     },
     "execution_count": 186,
     "metadata": {},
     "output_type": "execute_result"
    }
   ],
   "source": [
    "%%time\n",
    "linear_reg.fit(X_train, y_train)"
   ]
  },
  {
   "cell_type": "code",
   "execution_count": 187,
   "metadata": {},
   "outputs": [
    {
     "name": "stdout",
     "output_type": "stream",
     "text": [
      "CPU times: user 26.3 ms, sys: 35.7 ms, total: 62 ms\n",
      "Wall time: 84.6 ms\n"
     ]
    }
   ],
   "source": [
    "%%time\n",
    "linear_reg_pred = linear_reg.predict(X_test)"
   ]
  },
  {
   "cell_type": "code",
   "execution_count": 188,
   "metadata": {},
   "outputs": [],
   "source": [
    "linear_reg_score = mean_squared_error(y_test, linear_reg_pred) ** (1/2)"
   ]
  },
  {
   "cell_type": "code",
   "execution_count": 189,
   "metadata": {},
   "outputs": [
    {
     "name": "stdout",
     "output_type": "stream",
     "text": [
      "Значение метрики RMSE для линейной регресии: 3511.02\n"
     ]
    }
   ],
   "source": [
    "print(f'Значение метрики RMSE для линейной регресии: {linear_reg_score:.2f}')"
   ]
  },
  {
   "cell_type": "markdown",
   "metadata": {},
   "source": [
    "Теперь обучим дерево решений"
   ]
  },
  {
   "cell_type": "code",
   "execution_count": 190,
   "metadata": {},
   "outputs": [],
   "source": [
    "param_grid_dt = [\n",
    "    {\n",
    "        'max_depth': [i for i in range(1, 10, 1)],\n",
    "        'min_samples_split': [i for i in range(2, 10, 2)]\n",
    "    }\n",
    "]"
   ]
  },
  {
   "cell_type": "code",
   "execution_count": 191,
   "metadata": {},
   "outputs": [],
   "source": [
    "dt_regressor = GridSearchCV(DecisionTreeRegressor(random_state=42), param_grid_dt, scoring=mse, cv=5)"
   ]
  },
  {
   "cell_type": "code",
   "execution_count": 192,
   "metadata": {},
   "outputs": [],
   "source": [
    "dt_pipeline = Pipeline(steps=[('regressor', dt_regressor)])"
   ]
  },
  {
   "cell_type": "code",
   "execution_count": 193,
   "metadata": {},
   "outputs": [
    {
     "name": "stdout",
     "output_type": "stream",
     "text": [
      "CPU times: user 1min 6s, sys: 466 ms, total: 1min 7s\n",
      "Wall time: 1min 7s\n"
     ]
    },
    {
     "data": {
      "text/plain": [
       "Pipeline(memory=None,\n",
       "         steps=[('regressor',\n",
       "                 GridSearchCV(cv=5, error_score='raise-deprecating',\n",
       "                              estimator=DecisionTreeRegressor(criterion='mse',\n",
       "                                                              max_depth=None,\n",
       "                                                              max_features=None,\n",
       "                                                              max_leaf_nodes=None,\n",
       "                                                              min_impurity_decrease=0.0,\n",
       "                                                              min_impurity_split=None,\n",
       "                                                              min_samples_leaf=1,\n",
       "                                                              min_samples_split=2,\n",
       "                                                              min_weight_fraction_leaf=0.0,\n",
       "                                                              presort=False,\n",
       "                                                              random_state=42,\n",
       "                                                              splitter='best'),\n",
       "                              iid='warn', n_jobs=None,\n",
       "                              param_grid=[{'max_depth': [1, 2, 3, 4, 5, 6, 7, 8,\n",
       "                                                         9],\n",
       "                                           'min_samples_split': [2, 4, 6, 8]}],\n",
       "                              pre_dispatch='2*n_jobs', refit=True,\n",
       "                              return_train_score=False,\n",
       "                              scoring=make_scorer(mean_squared_error, greater_is_better=False),\n",
       "                              verbose=0))],\n",
       "         verbose=False)"
      ]
     },
     "execution_count": 193,
     "metadata": {},
     "output_type": "execute_result"
    }
   ],
   "source": [
    "%%time\n",
    "dt_pipeline.fit(X_train, y_train)"
   ]
  },
  {
   "cell_type": "code",
   "execution_count": 194,
   "metadata": {},
   "outputs": [
    {
     "name": "stdout",
     "output_type": "stream",
     "text": [
      "CPU times: user 10.3 ms, sys: 0 ns, total: 10.3 ms\n",
      "Wall time: 8.93 ms\n"
     ]
    }
   ],
   "source": [
    "%%time\n",
    "dt_pred = dt_pipeline.predict(X_test)"
   ]
  },
  {
   "cell_type": "code",
   "execution_count": 195,
   "metadata": {},
   "outputs": [],
   "source": [
    "dt_pipeline_score = mean_squared_error(y_test, dt_pred) ** (1/2)"
   ]
  },
  {
   "cell_type": "code",
   "execution_count": 196,
   "metadata": {},
   "outputs": [
    {
     "name": "stdout",
     "output_type": "stream",
     "text": [
      "Значение метрики RMSE для дерева решений: 2101.24\n"
     ]
    }
   ],
   "source": [
    "print(f'Значение метрики RMSE для дерева решений: {dt_pipeline_score:.2f}')"
   ]
  },
  {
   "cell_type": "markdown",
   "metadata": {},
   "source": [
    "Обучим случайный лес"
   ]
  },
  {
   "cell_type": "code",
   "execution_count": 197,
   "metadata": {},
   "outputs": [],
   "source": [
    "param_grid_rf = [\n",
    "    {\n",
    "        'max_depth': [i for i in range(1, 6, 2)],\n",
    "        'min_samples_split': [i for i in range(2, 4, 2)]\n",
    "    }\n",
    "]"
   ]
  },
  {
   "cell_type": "code",
   "execution_count": 198,
   "metadata": {},
   "outputs": [],
   "source": [
    "rf_regressor = GridSearchCV(RandomForestRegressor(random_state=42, n_estimators=100), param_grid_rf, scoring=mse, cv=5)"
   ]
  },
  {
   "cell_type": "code",
   "execution_count": 199,
   "metadata": {},
   "outputs": [],
   "source": [
    "rf_pipeline = Pipeline(steps=[('regressor', rf_regressor)])"
   ]
  },
  {
   "cell_type": "code",
   "execution_count": 200,
   "metadata": {},
   "outputs": [
    {
     "name": "stdout",
     "output_type": "stream",
     "text": [
      "CPU times: user 4min 10s, sys: 1.46 s, total: 4min 12s\n",
      "Wall time: 4min 12s\n"
     ]
    },
    {
     "data": {
      "text/plain": [
       "Pipeline(memory=None,\n",
       "         steps=[('regressor',\n",
       "                 GridSearchCV(cv=5, error_score='raise-deprecating',\n",
       "                              estimator=RandomForestRegressor(bootstrap=True,\n",
       "                                                              criterion='mse',\n",
       "                                                              max_depth=None,\n",
       "                                                              max_features='auto',\n",
       "                                                              max_leaf_nodes=None,\n",
       "                                                              min_impurity_decrease=0.0,\n",
       "                                                              min_impurity_split=None,\n",
       "                                                              min_samples_leaf=1,\n",
       "                                                              min_samples_split=2,\n",
       "                                                              min_weight_fraction_leaf=0.0,\n",
       "                                                              n_estimators=100,\n",
       "                                                              n_jobs=None,\n",
       "                                                              oob_score=False,\n",
       "                                                              random_state=42,\n",
       "                                                              verbose=0,\n",
       "                                                              warm_start=False),\n",
       "                              iid='warn', n_jobs=None,\n",
       "                              param_grid=[{'max_depth': [1, 3, 5],\n",
       "                                           'min_samples_split': [2]}],\n",
       "                              pre_dispatch='2*n_jobs', refit=True,\n",
       "                              return_train_score=False,\n",
       "                              scoring=make_scorer(mean_squared_error, greater_is_better=False),\n",
       "                              verbose=0))],\n",
       "         verbose=False)"
      ]
     },
     "execution_count": 200,
     "metadata": {},
     "output_type": "execute_result"
    }
   ],
   "source": [
    "%%time\n",
    "rf_pipeline.fit(X_train, y_train)"
   ]
  },
  {
   "cell_type": "code",
   "execution_count": 201,
   "metadata": {},
   "outputs": [
    {
     "name": "stdout",
     "output_type": "stream",
     "text": [
      "CPU times: user 236 ms, sys: 799 µs, total: 237 ms\n",
      "Wall time: 243 ms\n"
     ]
    }
   ],
   "source": [
    "%%time\n",
    "rf_pred = rf_pipeline.predict(X_test)"
   ]
  },
  {
   "cell_type": "code",
   "execution_count": 202,
   "metadata": {},
   "outputs": [],
   "source": [
    "rf_pipeline_score = mean_squared_error(y_test, rf_pred) ** (1/2)"
   ]
  },
  {
   "cell_type": "code",
   "execution_count": 203,
   "metadata": {},
   "outputs": [
    {
     "name": "stdout",
     "output_type": "stream",
     "text": [
      "Значение метрики RMSE для случайного леса: 2457.70\n"
     ]
    }
   ],
   "source": [
    "print(f'Значение метрики RMSE для случайного леса: {rf_pipeline_score:.2f}')"
   ]
  },
  {
   "cell_type": "markdown",
   "metadata": {},
   "source": [
    "Теперь обучим модель из библиотеки LightGBM"
   ]
  },
  {
   "cell_type": "code",
   "execution_count": 204,
   "metadata": {},
   "outputs": [],
   "source": [
    "param_grid_lgbm = [\n",
    "    {\n",
    "        'max_depth': [i for i in range(1, 6, 2)],\n",
    "        'learning_rate': [0.1, 0.01, 0.2]\n",
    "    }\n",
    "]"
   ]
  },
  {
   "cell_type": "code",
   "execution_count": 205,
   "metadata": {},
   "outputs": [],
   "source": [
    "lgbm_regressor = GridSearchCV(LGBMRegressor(random_state=42), param_grid_lgbm, scoring=mse, cv=5)"
   ]
  },
  {
   "cell_type": "code",
   "execution_count": 206,
   "metadata": {},
   "outputs": [],
   "source": [
    "lgbm_pipeline = Pipeline(steps=[('regressor', lgbm_regressor)])"
   ]
  },
  {
   "cell_type": "code",
   "execution_count": 207,
   "metadata": {},
   "outputs": [
    {
     "name": "stdout",
     "output_type": "stream",
     "text": [
      "CPU times: user 4min 6s, sys: 971 ms, total: 4min 7s\n",
      "Wall time: 4min 9s\n"
     ]
    },
    {
     "data": {
      "text/plain": [
       "Pipeline(memory=None,\n",
       "         steps=[('regressor',\n",
       "                 GridSearchCV(cv=5, error_score='raise-deprecating',\n",
       "                              estimator=LGBMRegressor(boosting_type='gbdt',\n",
       "                                                      class_weight=None,\n",
       "                                                      colsample_bytree=1.0,\n",
       "                                                      importance_type='split',\n",
       "                                                      learning_rate=0.1,\n",
       "                                                      max_depth=-1,\n",
       "                                                      min_child_samples=20,\n",
       "                                                      min_child_weight=0.001,\n",
       "                                                      min_split_gain=0.0,\n",
       "                                                      n_estimators=100,\n",
       "                                                      n_jobs=-1, num_leaves=31,\n",
       "                                                      objective=None,\n",
       "                                                      random_state=42,\n",
       "                                                      reg_alpha=0.0,\n",
       "                                                      reg_lambda=0.0,\n",
       "                                                      silent=True,\n",
       "                                                      subsample=1.0,\n",
       "                                                      subsample_for_bin=200000,\n",
       "                                                      subsample_freq=0),\n",
       "                              iid='warn', n_jobs=None,\n",
       "                              param_grid=[{'learning_rate': [0.1, 0.01, 0.2],\n",
       "                                           'max_depth': [1, 3, 5]}],\n",
       "                              pre_dispatch='2*n_jobs', refit=True,\n",
       "                              return_train_score=False,\n",
       "                              scoring=make_scorer(mean_squared_error, greater_is_better=False),\n",
       "                              verbose=0))],\n",
       "         verbose=False)"
      ]
     },
     "execution_count": 207,
     "metadata": {},
     "output_type": "execute_result"
    }
   ],
   "source": [
    "%%time\n",
    "lgbm_pipeline.fit(cat_X_train, y_train)"
   ]
  },
  {
   "cell_type": "code",
   "execution_count": 208,
   "metadata": {},
   "outputs": [
    {
     "name": "stdout",
     "output_type": "stream",
     "text": [
      "CPU times: user 577 ms, sys: 3.93 ms, total: 581 ms\n",
      "Wall time: 595 ms\n"
     ]
    }
   ],
   "source": [
    "%%time\n",
    "lgbm_pred = lgbm_pipeline.predict(cat_X_test)"
   ]
  },
  {
   "cell_type": "code",
   "execution_count": 209,
   "metadata": {},
   "outputs": [],
   "source": [
    "lgbm_pipeline_score = mean_squared_error(y_test, lgbm_pred) ** (1/2)"
   ]
  },
  {
   "cell_type": "code",
   "execution_count": 210,
   "metadata": {},
   "outputs": [
    {
     "name": "stdout",
     "output_type": "stream",
     "text": [
      "Значение метрики RMSE для LGBMRegressor: 1694.99\n"
     ]
    }
   ],
   "source": [
    "print(f'Значение метрики RMSE для LGBMRegressor: {lgbm_pipeline_score:.2f}')"
   ]
  },
  {
   "cell_type": "markdown",
   "metadata": {},
   "source": [
    "Обучим модель из библиотеки XGBoost"
   ]
  },
  {
   "cell_type": "code",
   "execution_count": 211,
   "metadata": {},
   "outputs": [],
   "source": [
    "param_grid_xgb = [\n",
    "    {\n",
    "        'max_depth': [i for i in range(1, 6, 2)],\n",
    "        'eta': [0.1, 0.01, 0.2]\n",
    "    }\n",
    "]"
   ]
  },
  {
   "cell_type": "code",
   "execution_count": 212,
   "metadata": {},
   "outputs": [],
   "source": [
    "xgb_regressor = GridSearchCV(XGBRegressor(n_estimators=100, random_state=42), param_grid_xgb, scoring=mse, cv=5)"
   ]
  },
  {
   "cell_type": "code",
   "execution_count": 213,
   "metadata": {},
   "outputs": [],
   "source": [
    "xgb_pipeline = Pipeline(steps=[('regressor', xgb_regressor)])"
   ]
  },
  {
   "cell_type": "code",
   "execution_count": 214,
   "metadata": {},
   "outputs": [
    {
     "name": "stdout",
     "output_type": "stream",
     "text": [
      "[11:01:11] WARNING: /workspace/src/objective/regression_obj.cu:152: reg:linear is now deprecated in favor of reg:squarederror.\n",
      "[11:01:17] WARNING: /workspace/src/objective/regression_obj.cu:152: reg:linear is now deprecated in favor of reg:squarederror.\n",
      "[11:01:22] WARNING: /workspace/src/objective/regression_obj.cu:152: reg:linear is now deprecated in favor of reg:squarederror.\n",
      "[11:01:28] WARNING: /workspace/src/objective/regression_obj.cu:152: reg:linear is now deprecated in favor of reg:squarederror.\n",
      "[11:01:34] WARNING: /workspace/src/objective/regression_obj.cu:152: reg:linear is now deprecated in favor of reg:squarederror.\n",
      "[11:01:39] WARNING: /workspace/src/objective/regression_obj.cu:152: reg:linear is now deprecated in favor of reg:squarederror.\n",
      "[11:01:50] WARNING: /workspace/src/objective/regression_obj.cu:152: reg:linear is now deprecated in favor of reg:squarederror.\n",
      "[11:02:01] WARNING: /workspace/src/objective/regression_obj.cu:152: reg:linear is now deprecated in favor of reg:squarederror.\n",
      "[11:02:12] WARNING: /workspace/src/objective/regression_obj.cu:152: reg:linear is now deprecated in favor of reg:squarederror.\n",
      "[11:02:23] WARNING: /workspace/src/objective/regression_obj.cu:152: reg:linear is now deprecated in favor of reg:squarederror.\n",
      "[11:02:34] WARNING: /workspace/src/objective/regression_obj.cu:152: reg:linear is now deprecated in favor of reg:squarederror.\n",
      "[11:02:51] WARNING: /workspace/src/objective/regression_obj.cu:152: reg:linear is now deprecated in favor of reg:squarederror.\n",
      "[11:03:10] WARNING: /workspace/src/objective/regression_obj.cu:152: reg:linear is now deprecated in favor of reg:squarederror.\n",
      "[11:03:28] WARNING: /workspace/src/objective/regression_obj.cu:152: reg:linear is now deprecated in favor of reg:squarederror.\n",
      "[11:03:46] WARNING: /workspace/src/objective/regression_obj.cu:152: reg:linear is now deprecated in favor of reg:squarederror.\n",
      "[11:04:04] WARNING: /workspace/src/objective/regression_obj.cu:152: reg:linear is now deprecated in favor of reg:squarederror.\n",
      "[11:04:10] WARNING: /workspace/src/objective/regression_obj.cu:152: reg:linear is now deprecated in favor of reg:squarederror.\n",
      "[11:04:16] WARNING: /workspace/src/objective/regression_obj.cu:152: reg:linear is now deprecated in favor of reg:squarederror.\n",
      "[11:04:22] WARNING: /workspace/src/objective/regression_obj.cu:152: reg:linear is now deprecated in favor of reg:squarederror.\n",
      "[11:04:27] WARNING: /workspace/src/objective/regression_obj.cu:152: reg:linear is now deprecated in favor of reg:squarederror.\n",
      "[11:04:33] WARNING: /workspace/src/objective/regression_obj.cu:152: reg:linear is now deprecated in favor of reg:squarederror.\n",
      "[11:04:44] WARNING: /workspace/src/objective/regression_obj.cu:152: reg:linear is now deprecated in favor of reg:squarederror.\n",
      "[11:04:55] WARNING: /workspace/src/objective/regression_obj.cu:152: reg:linear is now deprecated in favor of reg:squarederror.\n",
      "[11:05:06] WARNING: /workspace/src/objective/regression_obj.cu:152: reg:linear is now deprecated in favor of reg:squarederror.\n",
      "[11:05:18] WARNING: /workspace/src/objective/regression_obj.cu:152: reg:linear is now deprecated in favor of reg:squarederror.\n",
      "[11:05:28] WARNING: /workspace/src/objective/regression_obj.cu:152: reg:linear is now deprecated in favor of reg:squarederror.\n",
      "[11:05:47] WARNING: /workspace/src/objective/regression_obj.cu:152: reg:linear is now deprecated in favor of reg:squarederror.\n",
      "[11:06:05] WARNING: /workspace/src/objective/regression_obj.cu:152: reg:linear is now deprecated in favor of reg:squarederror.\n",
      "[11:06:23] WARNING: /workspace/src/objective/regression_obj.cu:152: reg:linear is now deprecated in favor of reg:squarederror.\n",
      "[11:06:41] WARNING: /workspace/src/objective/regression_obj.cu:152: reg:linear is now deprecated in favor of reg:squarederror.\n",
      "[11:06:59] WARNING: /workspace/src/objective/regression_obj.cu:152: reg:linear is now deprecated in favor of reg:squarederror.\n",
      "[11:07:05] WARNING: /workspace/src/objective/regression_obj.cu:152: reg:linear is now deprecated in favor of reg:squarederror.\n",
      "[11:07:10] WARNING: /workspace/src/objective/regression_obj.cu:152: reg:linear is now deprecated in favor of reg:squarederror.\n",
      "[11:07:16] WARNING: /workspace/src/objective/regression_obj.cu:152: reg:linear is now deprecated in favor of reg:squarederror.\n",
      "[11:07:22] WARNING: /workspace/src/objective/regression_obj.cu:152: reg:linear is now deprecated in favor of reg:squarederror.\n",
      "[11:07:28] WARNING: /workspace/src/objective/regression_obj.cu:152: reg:linear is now deprecated in favor of reg:squarederror.\n",
      "[11:07:39] WARNING: /workspace/src/objective/regression_obj.cu:152: reg:linear is now deprecated in favor of reg:squarederror.\n",
      "[11:07:50] WARNING: /workspace/src/objective/regression_obj.cu:152: reg:linear is now deprecated in favor of reg:squarederror.\n",
      "[11:08:01] WARNING: /workspace/src/objective/regression_obj.cu:152: reg:linear is now deprecated in favor of reg:squarederror.\n",
      "[11:08:12] WARNING: /workspace/src/objective/regression_obj.cu:152: reg:linear is now deprecated in favor of reg:squarederror.\n",
      "[11:08:23] WARNING: /workspace/src/objective/regression_obj.cu:152: reg:linear is now deprecated in favor of reg:squarederror.\n",
      "[11:08:41] WARNING: /workspace/src/objective/regression_obj.cu:152: reg:linear is now deprecated in favor of reg:squarederror.\n",
      "[11:08:59] WARNING: /workspace/src/objective/regression_obj.cu:152: reg:linear is now deprecated in favor of reg:squarederror.\n",
      "[11:09:17] WARNING: /workspace/src/objective/regression_obj.cu:152: reg:linear is now deprecated in favor of reg:squarederror.\n",
      "[11:09:35] WARNING: /workspace/src/objective/regression_obj.cu:152: reg:linear is now deprecated in favor of reg:squarederror.\n",
      "[11:09:53] WARNING: /workspace/src/objective/regression_obj.cu:152: reg:linear is now deprecated in favor of reg:squarederror.\n",
      "CPU times: user 9min 2s, sys: 2.32 s, total: 9min 4s\n",
      "Wall time: 9min 5s\n"
     ]
    },
    {
     "data": {
      "text/plain": [
       "Pipeline(memory=None,\n",
       "         steps=[('regressor',\n",
       "                 GridSearchCV(cv=5, error_score='raise-deprecating',\n",
       "                              estimator=XGBRegressor(base_score=0.5,\n",
       "                                                     booster='gbtree',\n",
       "                                                     colsample_bylevel=1,\n",
       "                                                     colsample_bynode=1,\n",
       "                                                     colsample_bytree=1,\n",
       "                                                     gamma=0,\n",
       "                                                     importance_type='gain',\n",
       "                                                     learning_rate=0.1,\n",
       "                                                     max_delta_step=0,\n",
       "                                                     max_depth=3,\n",
       "                                                     min_child_weight=1,\n",
       "                                                     missing=None,\n",
       "                                                     n_estimators=100, n_jobs=1,\n",
       "                                                     nthread=None,\n",
       "                                                     objective='reg:linear',\n",
       "                                                     random_state=42,\n",
       "                                                     reg_alpha=0, reg_lambda=1,\n",
       "                                                     scale_pos_weight=1,\n",
       "                                                     seed=None, silent=None,\n",
       "                                                     subsample=1, verbosity=1),\n",
       "                              iid='warn', n_jobs=None,\n",
       "                              param_grid=[{'eta': [0.1, 0.01, 0.2],\n",
       "                                           'max_depth': [1, 3, 5]}],\n",
       "                              pre_dispatch='2*n_jobs', refit=True,\n",
       "                              return_train_score=False,\n",
       "                              scoring=make_scorer(mean_squared_error, greater_is_better=False),\n",
       "                              verbose=0))],\n",
       "         verbose=False)"
      ]
     },
     "execution_count": 214,
     "metadata": {},
     "output_type": "execute_result"
    }
   ],
   "source": [
    "%%time\n",
    "xgb_pipeline.fit(X_train, y_train)"
   ]
  },
  {
   "cell_type": "code",
   "execution_count": 215,
   "metadata": {},
   "outputs": [
    {
     "name": "stdout",
     "output_type": "stream",
     "text": [
      "CPU times: user 313 ms, sys: 653 µs, total: 313 ms\n",
      "Wall time: 327 ms\n"
     ]
    }
   ],
   "source": [
    "%%time\n",
    "xgb_pred = xgb_pipeline.predict(X_test)"
   ]
  },
  {
   "cell_type": "code",
   "execution_count": 216,
   "metadata": {},
   "outputs": [],
   "source": [
    "xgb_pipeline_score = mean_squared_error(y_test, xgb_pred) ** (1/2)"
   ]
  },
  {
   "cell_type": "code",
   "execution_count": 217,
   "metadata": {},
   "outputs": [
    {
     "name": "stdout",
     "output_type": "stream",
     "text": [
      "Значение метрики RMSE для XGBRegressor: 1827.55\n"
     ]
    }
   ],
   "source": [
    "print(f'Значение метрики RMSE для XGBRegressor: {xgb_pipeline_score:.2f}')"
   ]
  },
  {
   "cell_type": "markdown",
   "metadata": {},
   "source": [
    "Воспользуемся моделью из библиотеки CatBoost"
   ]
  },
  {
   "cell_type": "code",
   "execution_count": 219,
   "metadata": {},
   "outputs": [],
   "source": [
    "param_grid_cb = [\n",
    "    {\n",
    "        'depth': [i for i in range(1, 6, 2)],\n",
    "        'learning_rate': [0.1, 0.01, 0.2]\n",
    "    }\n",
    "]"
   ]
  },
  {
   "cell_type": "code",
   "execution_count": 220,
   "metadata": {},
   "outputs": [],
   "source": [
    "cb_regressor = GridSearchCV(CatBoostRegressor(loss_function=\"RMSE\", iterations=100, random_state=42, cat_features=X_cat),\\\n",
    "                            param_grid_cb, scoring=mse, cv=5)"
   ]
  },
  {
   "cell_type": "code",
   "execution_count": 221,
   "metadata": {},
   "outputs": [],
   "source": [
    "cb_pipeline = Pipeline(steps=[('regressor', cb_regressor)])"
   ]
  },
  {
   "cell_type": "code",
   "execution_count": 222,
   "metadata": {},
   "outputs": [
    {
     "name": "stdout",
     "output_type": "stream",
     "text": [
      "0:\tlearn: 4377.6043682\ttotal: 88.4ms\tremaining: 8.75s\n",
      "1:\tlearn: 4266.9275486\ttotal: 187ms\tremaining: 9.18s\n",
      "2:\tlearn: 4173.8085323\ttotal: 285ms\tremaining: 9.21s\n",
      "3:\tlearn: 4085.6466116\ttotal: 296ms\tremaining: 7.11s\n",
      "4:\tlearn: 4007.5181600\ttotal: 392ms\tremaining: 7.44s\n",
      "5:\tlearn: 3936.2688675\ttotal: 495ms\tremaining: 7.75s\n",
      "6:\tlearn: 3871.0415131\ttotal: 595ms\tremaining: 7.9s\n",
      "7:\tlearn: 3810.0898255\ttotal: 691ms\tremaining: 7.95s\n",
      "8:\tlearn: 3755.0358438\ttotal: 790ms\tremaining: 7.99s\n",
      "9:\tlearn: 3701.6141189\ttotal: 885ms\tremaining: 7.96s\n",
      "10:\tlearn: 3654.1647507\ttotal: 983ms\tremaining: 7.95s\n",
      "11:\tlearn: 3608.6981579\ttotal: 1.08s\tremaining: 7.89s\n",
      "12:\tlearn: 3567.6398209\ttotal: 1.09s\tremaining: 7.29s\n",
      "13:\tlearn: 3527.6993407\ttotal: 1.18s\tremaining: 7.28s\n",
      "14:\tlearn: 3492.0190204\ttotal: 1.28s\tremaining: 7.25s\n",
      "15:\tlearn: 3456.5233957\ttotal: 1.38s\tremaining: 7.23s\n",
      "16:\tlearn: 3424.9890785\ttotal: 1.47s\tremaining: 7.2s\n",
      "17:\tlearn: 3394.3286222\ttotal: 1.49s\tremaining: 6.77s\n",
      "18:\tlearn: 3365.8685086\ttotal: 1.58s\tremaining: 6.74s\n",
      "19:\tlearn: 3339.2288128\ttotal: 1.68s\tremaining: 6.71s\n",
      "20:\tlearn: 3312.4903681\ttotal: 1.77s\tremaining: 6.67s\n",
      "21:\tlearn: 3286.8535384\ttotal: 1.87s\tremaining: 6.64s\n",
      "22:\tlearn: 3262.9636553\ttotal: 1.97s\tremaining: 6.6s\n",
      "23:\tlearn: 3238.7772429\ttotal: 2.07s\tremaining: 6.55s\n",
      "24:\tlearn: 3216.5541323\ttotal: 2.08s\tremaining: 6.24s\n",
      "25:\tlearn: 3194.8423426\ttotal: 2.18s\tremaining: 6.19s\n",
      "26:\tlearn: 3174.1618612\ttotal: 2.27s\tremaining: 6.15s\n",
      "27:\tlearn: 3154.8458347\ttotal: 2.37s\tremaining: 6.1s\n",
      "28:\tlearn: 3135.6430871\ttotal: 2.47s\tremaining: 6.04s\n",
      "29:\tlearn: 3117.2744192\ttotal: 2.56s\tremaining: 5.98s\n",
      "30:\tlearn: 3099.2004757\ttotal: 2.58s\tremaining: 5.74s\n",
      "31:\tlearn: 3079.6571040\ttotal: 2.67s\tremaining: 5.68s\n",
      "32:\tlearn: 3062.8833701\ttotal: 2.77s\tremaining: 5.62s\n",
      "33:\tlearn: 3046.5026853\ttotal: 2.86s\tremaining: 5.56s\n",
      "34:\tlearn: 3029.1186605\ttotal: 2.88s\tremaining: 5.34s\n",
      "35:\tlearn: 3011.7228904\ttotal: 2.97s\tremaining: 5.29s\n",
      "36:\tlearn: 2997.0344862\ttotal: 3.07s\tremaining: 5.23s\n",
      "37:\tlearn: 2967.5076665\ttotal: 3.17s\tremaining: 5.17s\n",
      "38:\tlearn: 2943.1853043\ttotal: 3.26s\tremaining: 5.11s\n",
      "39:\tlearn: 2923.0939622\ttotal: 3.36s\tremaining: 5.04s\n",
      "40:\tlearn: 2906.1617149\ttotal: 3.46s\tremaining: 4.97s\n",
      "41:\tlearn: 2891.3601242\ttotal: 3.47s\tremaining: 4.79s\n",
      "42:\tlearn: 2877.8262921\ttotal: 3.57s\tremaining: 4.73s\n",
      "43:\tlearn: 2864.3667274\ttotal: 3.66s\tremaining: 4.66s\n",
      "44:\tlearn: 2851.3880918\ttotal: 3.76s\tremaining: 4.59s\n",
      "45:\tlearn: 2838.9530325\ttotal: 3.86s\tremaining: 4.53s\n",
      "46:\tlearn: 2826.8892299\ttotal: 3.95s\tremaining: 4.46s\n",
      "47:\tlearn: 2815.0115317\ttotal: 3.96s\tremaining: 4.29s\n",
      "48:\tlearn: 2803.6809814\ttotal: 4.06s\tremaining: 4.22s\n",
      "49:\tlearn: 2792.7492540\ttotal: 4.16s\tremaining: 4.16s\n",
      "50:\tlearn: 2782.9021744\ttotal: 4.25s\tremaining: 4.09s\n",
      "51:\tlearn: 2772.5471493\ttotal: 4.26s\tremaining: 3.94s\n",
      "52:\tlearn: 2762.7686177\ttotal: 4.36s\tremaining: 3.87s\n",
      "53:\tlearn: 2753.1925985\ttotal: 4.46s\tremaining: 3.8s\n",
      "54:\tlearn: 2743.7205621\ttotal: 4.55s\tremaining: 3.73s\n",
      "55:\tlearn: 2734.7895503\ttotal: 4.65s\tremaining: 3.65s\n",
      "56:\tlearn: 2726.1086088\ttotal: 4.75s\tremaining: 3.58s\n",
      "57:\tlearn: 2717.2805857\ttotal: 4.76s\tremaining: 3.45s\n",
      "58:\tlearn: 2709.0287304\ttotal: 4.85s\tremaining: 3.37s\n",
      "59:\tlearn: 2700.7872716\ttotal: 4.95s\tremaining: 3.3s\n",
      "60:\tlearn: 2691.9335817\ttotal: 5.05s\tremaining: 3.23s\n",
      "61:\tlearn: 2684.4156387\ttotal: 5.15s\tremaining: 3.15s\n",
      "62:\tlearn: 2676.8102016\ttotal: 5.16s\tremaining: 3.03s\n",
      "63:\tlearn: 2668.8374785\ttotal: 5.25s\tremaining: 2.96s\n",
      "64:\tlearn: 2661.4299993\ttotal: 5.35s\tremaining: 2.88s\n",
      "65:\tlearn: 2654.0927853\ttotal: 5.45s\tremaining: 2.81s\n",
      "66:\tlearn: 2647.2695777\ttotal: 5.54s\tremaining: 2.73s\n",
      "67:\tlearn: 2640.4510054\ttotal: 5.64s\tremaining: 2.65s\n",
      "68:\tlearn: 2634.1769149\ttotal: 5.65s\tremaining: 2.54s\n",
      "69:\tlearn: 2627.1989465\ttotal: 5.75s\tremaining: 2.46s\n",
      "70:\tlearn: 2620.5855821\ttotal: 5.85s\tremaining: 2.39s\n",
      "71:\tlearn: 2614.1600100\ttotal: 5.94s\tremaining: 2.31s\n",
      "72:\tlearn: 2608.1230768\ttotal: 6.04s\tremaining: 2.23s\n",
      "73:\tlearn: 2602.2792434\ttotal: 6.14s\tremaining: 2.16s\n",
      "74:\tlearn: 2596.3433073\ttotal: 6.24s\tremaining: 2.08s\n",
      "75:\tlearn: 2590.7098255\ttotal: 6.25s\tremaining: 1.97s\n",
      "76:\tlearn: 2585.4431385\ttotal: 6.34s\tremaining: 1.89s\n",
      "77:\tlearn: 2579.5967601\ttotal: 6.44s\tremaining: 1.82s\n",
      "78:\tlearn: 2574.1789600\ttotal: 6.54s\tremaining: 1.74s\n",
      "79:\tlearn: 2569.0027756\ttotal: 6.63s\tremaining: 1.66s\n",
      "80:\tlearn: 2563.5301683\ttotal: 6.64s\tremaining: 1.56s\n",
      "81:\tlearn: 2558.4934198\ttotal: 6.74s\tremaining: 1.48s\n",
      "82:\tlearn: 2553.6785517\ttotal: 6.84s\tremaining: 1.4s\n",
      "83:\tlearn: 2548.8513754\ttotal: 6.93s\tremaining: 1.32s\n",
      "84:\tlearn: 2544.1189444\ttotal: 7.03s\tremaining: 1.24s\n",
      "85:\tlearn: 2539.5260299\ttotal: 7.13s\tremaining: 1.16s\n",
      "86:\tlearn: 2534.4118796\ttotal: 7.15s\tremaining: 1.07s\n",
      "87:\tlearn: 2530.0407649\ttotal: 7.24s\tremaining: 987ms\n",
      "88:\tlearn: 2525.7680712\ttotal: 7.34s\tremaining: 907ms\n",
      "89:\tlearn: 2521.1425653\ttotal: 7.43s\tremaining: 826ms\n",
      "90:\tlearn: 2517.1793565\ttotal: 7.53s\tremaining: 745ms\n",
      "91:\tlearn: 2513.1096917\ttotal: 7.63s\tremaining: 663ms\n",
      "92:\tlearn: 2508.9767606\ttotal: 7.64s\tremaining: 575ms\n",
      "93:\tlearn: 2504.9997308\ttotal: 7.74s\tremaining: 494ms\n",
      "94:\tlearn: 2500.2196960\ttotal: 7.83s\tremaining: 412ms\n",
      "95:\tlearn: 2496.2449609\ttotal: 7.93s\tremaining: 330ms\n",
      "96:\tlearn: 2492.2819720\ttotal: 8.02s\tremaining: 248ms\n",
      "97:\tlearn: 2488.4018916\ttotal: 8.04s\tremaining: 164ms\n",
      "98:\tlearn: 2484.6695561\ttotal: 8.13s\tremaining: 82.2ms\n",
      "99:\tlearn: 2480.8402046\ttotal: 8.23s\tremaining: 0us\n",
      "0:\tlearn: 4385.8336051\ttotal: 58.7ms\tremaining: 5.81s\n",
      "1:\tlearn: 4274.4596402\ttotal: 156ms\tremaining: 7.67s\n",
      "2:\tlearn: 4180.5034142\ttotal: 253ms\tremaining: 8.17s\n",
      "3:\tlearn: 4091.3827979\ttotal: 355ms\tremaining: 8.52s\n",
      "4:\tlearn: 4013.9672405\ttotal: 457ms\tremaining: 8.68s\n",
      "5:\tlearn: 3941.3440947\ttotal: 555ms\tremaining: 8.69s\n",
      "6:\tlearn: 3876.0987905\ttotal: 653ms\tremaining: 8.68s\n",
      "7:\tlearn: 3814.9840769\ttotal: 749ms\tremaining: 8.61s\n",
      "8:\tlearn: 3758.0117870\ttotal: 762ms\tremaining: 7.7s\n",
      "9:\tlearn: 3703.5399148\ttotal: 858ms\tremaining: 7.72s\n",
      "10:\tlearn: 3657.3981370\ttotal: 953ms\tremaining: 7.71s\n",
      "11:\tlearn: 3611.0099714\ttotal: 1.05s\tremaining: 7.7s\n",
      "12:\tlearn: 3570.1746263\ttotal: 1.15s\tremaining: 7.69s\n",
      "13:\tlearn: 3530.6673457\ttotal: 1.25s\tremaining: 7.67s\n",
      "14:\tlearn: 3493.7086279\ttotal: 1.34s\tremaining: 7.62s\n",
      "15:\tlearn: 3458.5798402\ttotal: 1.36s\tremaining: 7.12s\n",
      "16:\tlearn: 3427.4661475\ttotal: 1.45s\tremaining: 7.09s\n",
      "17:\tlearn: 3395.5750942\ttotal: 1.55s\tremaining: 7.06s\n",
      "18:\tlearn: 3365.7513446\ttotal: 1.65s\tremaining: 7.02s\n",
      "19:\tlearn: 3338.0732407\ttotal: 1.75s\tremaining: 6.99s\n",
      "20:\tlearn: 3311.3323805\ttotal: 1.84s\tremaining: 6.94s\n",
      "21:\tlearn: 3285.1183566\ttotal: 1.94s\tremaining: 6.88s\n",
      "22:\tlearn: 3261.0334180\ttotal: 1.95s\tremaining: 6.54s\n",
      "23:\tlearn: 3237.5983446\ttotal: 2.05s\tremaining: 6.49s\n",
      "24:\tlearn: 3215.8448040\ttotal: 2.15s\tremaining: 6.45s\n",
      "25:\tlearn: 3194.0513045\ttotal: 2.24s\tremaining: 6.39s\n",
      "26:\tlearn: 3173.1433963\ttotal: 2.34s\tremaining: 6.34s\n",
      "27:\tlearn: 3152.8400522\ttotal: 2.44s\tremaining: 6.28s\n",
      "28:\tlearn: 3133.8441352\ttotal: 2.54s\tremaining: 6.22s\n",
      "29:\tlearn: 3115.4008885\ttotal: 2.55s\tremaining: 5.96s\n",
      "30:\tlearn: 3096.2256982\ttotal: 2.65s\tremaining: 5.89s\n",
      "31:\tlearn: 3078.3455059\ttotal: 2.74s\tremaining: 5.83s\n",
      "32:\tlearn: 3061.2489960\ttotal: 2.84s\tremaining: 5.77s\n",
      "33:\tlearn: 3043.9393914\ttotal: 2.94s\tremaining: 5.7s\n",
      "34:\tlearn: 3027.5140692\ttotal: 3.03s\tremaining: 5.63s\n",
      "35:\tlearn: 3009.7184711\ttotal: 3.13s\tremaining: 5.57s\n",
      "36:\tlearn: 2994.1452498\ttotal: 3.23s\tremaining: 5.5s\n",
      "37:\tlearn: 2978.6358581\ttotal: 3.33s\tremaining: 5.43s\n",
      "38:\tlearn: 2950.8184975\ttotal: 3.43s\tremaining: 5.36s\n",
      "39:\tlearn: 2928.2149098\ttotal: 3.44s\tremaining: 5.17s\n",
      "40:\tlearn: 2907.8282897\ttotal: 3.54s\tremaining: 5.09s\n",
      "41:\tlearn: 2891.5468624\ttotal: 3.63s\tremaining: 5.02s\n",
      "42:\tlearn: 2876.9760260\ttotal: 3.73s\tremaining: 4.95s\n",
      "43:\tlearn: 2863.4655507\ttotal: 3.83s\tremaining: 4.87s\n",
      "44:\tlearn: 2850.5873949\ttotal: 3.93s\tremaining: 4.8s\n",
      "45:\tlearn: 2838.0211141\ttotal: 4.02s\tremaining: 4.72s\n",
      "46:\tlearn: 2826.1158177\ttotal: 4.04s\tremaining: 4.56s\n",
      "47:\tlearn: 2814.2072440\ttotal: 4.13s\tremaining: 4.48s\n",
      "48:\tlearn: 2803.3809778\ttotal: 4.23s\tremaining: 4.4s\n",
      "49:\tlearn: 2792.6938109\ttotal: 4.33s\tremaining: 4.33s\n",
      "50:\tlearn: 2781.8626024\ttotal: 4.42s\tremaining: 4.25s\n",
      "51:\tlearn: 2771.8422902\ttotal: 4.52s\tremaining: 4.17s\n",
      "52:\tlearn: 2762.1142414\ttotal: 4.62s\tremaining: 4.09s\n",
      "53:\tlearn: 2752.3005297\ttotal: 4.63s\tremaining: 3.95s\n",
      "54:\tlearn: 2742.7956655\ttotal: 4.73s\tremaining: 3.87s\n",
      "55:\tlearn: 2733.8415080\ttotal: 4.83s\tremaining: 3.79s\n",
      "56:\tlearn: 2724.8211460\ttotal: 4.92s\tremaining: 3.71s\n",
      "57:\tlearn: 2716.2842875\ttotal: 5.02s\tremaining: 3.63s\n",
      "58:\tlearn: 2707.3863132\ttotal: 5.12s\tremaining: 3.56s\n",
      "59:\tlearn: 2699.0832156\ttotal: 5.22s\tremaining: 3.48s\n",
      "60:\tlearn: 2691.0718396\ttotal: 5.32s\tremaining: 3.4s\n",
      "61:\tlearn: 2683.0326873\ttotal: 5.41s\tremaining: 3.32s\n",
      "62:\tlearn: 2675.3066236\ttotal: 5.42s\tremaining: 3.19s\n",
      "63:\tlearn: 2667.8935192\ttotal: 5.52s\tremaining: 3.1s\n",
      "64:\tlearn: 2660.5498080\ttotal: 5.62s\tremaining: 3.02s\n",
      "65:\tlearn: 2653.3821880\ttotal: 5.71s\tremaining: 2.94s\n",
      "66:\tlearn: 2646.4755592\ttotal: 5.81s\tremaining: 2.86s\n",
      "67:\tlearn: 2639.6115735\ttotal: 5.83s\tremaining: 2.74s\n",
      "68:\tlearn: 2632.7512907\ttotal: 5.92s\tremaining: 2.66s\n",
      "69:\tlearn: 2625.9632149\ttotal: 6.02s\tremaining: 2.58s\n",
      "70:\tlearn: 2619.4440334\ttotal: 6.12s\tremaining: 2.5s\n",
      "71:\tlearn: 2613.1898324\ttotal: 6.21s\tremaining: 2.42s\n",
      "72:\tlearn: 2607.1653720\ttotal: 6.31s\tremaining: 2.33s\n",
      "73:\tlearn: 2601.3977446\ttotal: 6.41s\tremaining: 2.25s\n",
      "74:\tlearn: 2595.9136821\ttotal: 6.51s\tremaining: 2.17s\n",
      "75:\tlearn: 2590.1865020\ttotal: 6.61s\tremaining: 2.09s\n",
      "76:\tlearn: 2584.7307888\ttotal: 6.7s\tremaining: 2s\n",
      "77:\tlearn: 2578.6971950\ttotal: 6.8s\tremaining: 1.92s\n",
      "78:\tlearn: 2573.3561151\ttotal: 6.81s\tremaining: 1.81s\n",
      "79:\tlearn: 2568.3359421\ttotal: 6.91s\tremaining: 1.73s\n",
      "80:\tlearn: 2563.3923431\ttotal: 7.01s\tremaining: 1.64s\n",
      "81:\tlearn: 2558.3502271\ttotal: 7.11s\tremaining: 1.56s\n",
      "82:\tlearn: 2553.4450473\ttotal: 7.21s\tremaining: 1.48s\n",
      "83:\tlearn: 2548.4469705\ttotal: 7.31s\tremaining: 1.39s\n",
      "84:\tlearn: 2543.3829960\ttotal: 7.4s\tremaining: 1.31s\n",
      "85:\tlearn: 2538.5180693\ttotal: 7.5s\tremaining: 1.22s\n",
      "86:\tlearn: 2534.0311893\ttotal: 7.6s\tremaining: 1.14s\n",
      "87:\tlearn: 2529.4320111\ttotal: 7.7s\tremaining: 1.05s\n",
      "88:\tlearn: 2524.7666911\ttotal: 7.71s\tremaining: 953ms\n",
      "89:\tlearn: 2520.6900661\ttotal: 7.8s\tremaining: 867ms\n",
      "90:\tlearn: 2515.9099951\ttotal: 7.9s\tremaining: 781ms\n",
      "91:\tlearn: 2512.0065544\ttotal: 8s\tremaining: 696ms\n",
      "92:\tlearn: 2508.1278648\ttotal: 8.1s\tremaining: 609ms\n",
      "93:\tlearn: 2503.7706450\ttotal: 8.2s\tremaining: 523ms\n",
      "94:\tlearn: 2499.8198027\ttotal: 8.29s\tremaining: 436ms\n",
      "95:\tlearn: 2495.6589618\ttotal: 8.39s\tremaining: 350ms\n",
      "96:\tlearn: 2491.6891988\ttotal: 8.49s\tremaining: 263ms\n",
      "97:\tlearn: 2487.7682223\ttotal: 8.59s\tremaining: 175ms\n",
      "98:\tlearn: 2483.7695839\ttotal: 8.6s\tremaining: 86.9ms\n",
      "99:\tlearn: 2480.2387726\ttotal: 8.7s\tremaining: 0us\n",
      "0:\tlearn: 4380.3120249\ttotal: 31.5ms\tremaining: 3.12s\n",
      "1:\tlearn: 4268.3379693\ttotal: 129ms\tremaining: 6.31s\n",
      "2:\tlearn: 4177.0840966\ttotal: 140ms\tremaining: 4.54s\n",
      "3:\tlearn: 4089.0859888\ttotal: 241ms\tremaining: 5.79s\n",
      "4:\tlearn: 4009.0790376\ttotal: 338ms\tremaining: 6.41s\n",
      "5:\tlearn: 3937.4337863\ttotal: 526ms\tremaining: 8.23s\n",
      "6:\tlearn: 3872.2154253\ttotal: 539ms\tremaining: 7.16s\n",
      "7:\tlearn: 3811.4270685\ttotal: 635ms\tremaining: 7.3s\n",
      "8:\tlearn: 3756.4541369\ttotal: 735ms\tremaining: 7.43s\n",
      "9:\tlearn: 3703.1266153\ttotal: 833ms\tremaining: 7.5s\n",
      "10:\tlearn: 3657.0226279\ttotal: 928ms\tremaining: 7.51s\n",
      "11:\tlearn: 3612.0435490\ttotal: 1.03s\tremaining: 7.53s\n",
      "12:\tlearn: 3571.3158271\ttotal: 1.13s\tremaining: 7.53s\n",
      "13:\tlearn: 3531.4525017\ttotal: 1.22s\tremaining: 7.5s\n",
      "14:\tlearn: 3495.0223503\ttotal: 1.23s\tremaining: 6.99s\n",
      "15:\tlearn: 3459.7068139\ttotal: 1.33s\tremaining: 6.99s\n",
      "16:\tlearn: 3427.7553058\ttotal: 1.43s\tremaining: 6.96s\n",
      "17:\tlearn: 3396.3862451\ttotal: 1.52s\tremaining: 6.94s\n",
      "18:\tlearn: 3368.4125918\ttotal: 1.62s\tremaining: 6.91s\n",
      "19:\tlearn: 3340.2008164\ttotal: 1.72s\tremaining: 6.88s\n",
      "20:\tlearn: 3313.3295465\ttotal: 1.82s\tremaining: 6.84s\n",
      "21:\tlearn: 3287.6316194\ttotal: 1.91s\tremaining: 6.79s\n",
      "22:\tlearn: 3263.6865066\ttotal: 1.93s\tremaining: 6.45s\n",
      "23:\tlearn: 3240.4895939\ttotal: 2.02s\tremaining: 6.41s\n",
      "24:\tlearn: 3218.4259037\ttotal: 2.12s\tremaining: 6.36s\n",
      "25:\tlearn: 3196.7411716\ttotal: 2.22s\tremaining: 6.31s\n",
      "26:\tlearn: 3175.8457355\ttotal: 2.31s\tremaining: 6.26s\n",
      "27:\tlearn: 3156.4042614\ttotal: 2.33s\tremaining: 5.99s\n",
      "28:\tlearn: 3136.5396755\ttotal: 2.42s\tremaining: 5.93s\n",
      "29:\tlearn: 3117.1179113\ttotal: 2.52s\tremaining: 5.88s\n",
      "30:\tlearn: 3098.9486366\ttotal: 2.62s\tremaining: 5.83s\n",
      "31:\tlearn: 3080.5771445\ttotal: 2.71s\tremaining: 5.77s\n",
      "32:\tlearn: 3063.5272363\ttotal: 2.81s\tremaining: 5.71s\n",
      "33:\tlearn: 3046.1313799\ttotal: 2.91s\tremaining: 5.65s\n",
      "34:\tlearn: 3029.8247177\ttotal: 3.01s\tremaining: 5.59s\n",
      "35:\tlearn: 3011.9839458\ttotal: 3.02s\tremaining: 5.38s\n",
      "36:\tlearn: 2996.4139578\ttotal: 3.12s\tremaining: 5.31s\n",
      "37:\tlearn: 2980.8734963\ttotal: 3.21s\tremaining: 5.25s\n",
      "38:\tlearn: 2966.5736914\ttotal: 3.31s\tremaining: 5.18s\n",
      "39:\tlearn: 2938.9799539\ttotal: 3.41s\tremaining: 5.12s\n",
      "40:\tlearn: 2916.2374766\ttotal: 3.5s\tremaining: 5.04s\n",
      "41:\tlearn: 2896.6196375\ttotal: 3.52s\tremaining: 4.86s\n",
      "42:\tlearn: 2880.4321449\ttotal: 3.61s\tremaining: 4.79s\n",
      "43:\tlearn: 2866.7020961\ttotal: 3.71s\tremaining: 4.72s\n",
      "44:\tlearn: 2853.9978714\ttotal: 3.8s\tremaining: 4.65s\n",
      "45:\tlearn: 2841.3300650\ttotal: 3.9s\tremaining: 4.58s\n",
      "46:\tlearn: 2829.4254303\ttotal: 3.91s\tremaining: 4.41s\n",
      "47:\tlearn: 2817.5650603\ttotal: 4.01s\tremaining: 4.34s\n",
      "48:\tlearn: 2805.8872168\ttotal: 4.1s\tremaining: 4.27s\n",
      "49:\tlearn: 2795.1903486\ttotal: 4.2s\tremaining: 4.2s\n",
      "50:\tlearn: 2784.2925138\ttotal: 4.3s\tremaining: 4.13s\n",
      "51:\tlearn: 2773.9650770\ttotal: 4.4s\tremaining: 4.06s\n",
      "52:\tlearn: 2764.2222856\ttotal: 4.41s\tremaining: 3.91s\n",
      "53:\tlearn: 2754.4302411\ttotal: 4.51s\tremaining: 3.84s\n",
      "54:\tlearn: 2744.9459779\ttotal: 4.61s\tremaining: 3.77s\n",
      "55:\tlearn: 2735.6844357\ttotal: 4.7s\tremaining: 3.7s\n",
      "56:\tlearn: 2726.9311256\ttotal: 4.8s\tremaining: 3.62s\n",
      "57:\tlearn: 2718.3471276\ttotal: 4.9s\tremaining: 3.55s\n",
      "58:\tlearn: 2710.0125283\ttotal: 5s\tremaining: 3.47s\n",
      "59:\tlearn: 2701.3509439\ttotal: 5.09s\tremaining: 3.4s\n",
      "60:\tlearn: 2692.9250926\ttotal: 5.19s\tremaining: 3.32s\n",
      "61:\tlearn: 2685.7204416\ttotal: 5.2s\tremaining: 3.19s\n",
      "62:\tlearn: 2678.0543736\ttotal: 5.3s\tremaining: 3.11s\n",
      "63:\tlearn: 2670.2469105\ttotal: 5.4s\tremaining: 3.04s\n",
      "64:\tlearn: 2662.6946266\ttotal: 5.49s\tremaining: 2.96s\n",
      "65:\tlearn: 2655.6815180\ttotal: 5.59s\tremaining: 2.88s\n",
      "66:\tlearn: 2648.9876988\ttotal: 5.69s\tremaining: 2.8s\n",
      "67:\tlearn: 2642.2616076\ttotal: 5.79s\tremaining: 2.72s\n",
      "68:\tlearn: 2635.1093985\ttotal: 5.88s\tremaining: 2.64s\n",
      "69:\tlearn: 2628.7323001\ttotal: 5.89s\tremaining: 2.53s\n",
      "70:\tlearn: 2622.4103688\ttotal: 5.99s\tremaining: 2.45s\n",
      "71:\tlearn: 2615.7030269\ttotal: 6.09s\tremaining: 2.37s\n",
      "72:\tlearn: 2609.3046087\ttotal: 6.19s\tremaining: 2.29s\n",
      "73:\tlearn: 2603.1234984\ttotal: 6.29s\tremaining: 2.21s\n",
      "74:\tlearn: 2597.2234898\ttotal: 6.38s\tremaining: 2.13s\n",
      "75:\tlearn: 2591.2099457\ttotal: 6.48s\tremaining: 2.05s\n",
      "76:\tlearn: 2585.0204528\ttotal: 6.58s\tremaining: 1.97s\n",
      "77:\tlearn: 2579.9732571\ttotal: 6.68s\tremaining: 1.88s\n",
      "78:\tlearn: 2574.5767003\ttotal: 6.69s\tremaining: 1.78s\n",
      "79:\tlearn: 2568.9976923\ttotal: 6.79s\tremaining: 1.7s\n",
      "80:\tlearn: 2563.9347726\ttotal: 6.88s\tremaining: 1.61s\n",
      "81:\tlearn: 2558.8439130\ttotal: 6.98s\tremaining: 1.53s\n",
      "82:\tlearn: 2553.7134064\ttotal: 7.08s\tremaining: 1.45s\n",
      "83:\tlearn: 2548.6849971\ttotal: 7.1s\tremaining: 1.35s\n",
      "84:\tlearn: 2543.8354759\ttotal: 7.19s\tremaining: 1.27s\n",
      "85:\tlearn: 2539.1317937\ttotal: 7.28s\tremaining: 1.19s\n",
      "86:\tlearn: 2533.8572368\ttotal: 7.38s\tremaining: 1.1s\n",
      "87:\tlearn: 2529.5069382\ttotal: 7.48s\tremaining: 1.02s\n",
      "88:\tlearn: 2525.0769197\ttotal: 7.57s\tremaining: 936ms\n",
      "89:\tlearn: 2520.2795072\ttotal: 7.67s\tremaining: 853ms\n",
      "90:\tlearn: 2515.5265512\ttotal: 7.69s\tremaining: 760ms\n",
      "91:\tlearn: 2511.4752450\ttotal: 7.78s\tremaining: 677ms\n",
      "92:\tlearn: 2507.2507272\ttotal: 7.88s\tremaining: 593ms\n",
      "93:\tlearn: 2502.9621463\ttotal: 7.97s\tremaining: 509ms\n",
      "94:\tlearn: 2499.0602384\ttotal: 8.07s\tremaining: 425ms\n",
      "95:\tlearn: 2495.1256709\ttotal: 8.17s\tremaining: 340ms\n",
      "96:\tlearn: 2491.1102437\ttotal: 8.18s\tremaining: 253ms\n",
      "97:\tlearn: 2487.1646165\ttotal: 8.28s\tremaining: 169ms\n",
      "98:\tlearn: 2483.3133529\ttotal: 8.38s\tremaining: 84.6ms\n",
      "99:\tlearn: 2479.5427300\ttotal: 8.47s\tremaining: 0us\n",
      "0:\tlearn: 4385.8272187\ttotal: 54.1ms\tremaining: 5.36s\n",
      "1:\tlearn: 4274.2843309\ttotal: 150ms\tremaining: 7.37s\n",
      "2:\tlearn: 4181.7534855\ttotal: 163ms\tremaining: 5.25s\n",
      "3:\tlearn: 4093.9409095\ttotal: 349ms\tremaining: 8.37s\n",
      "4:\tlearn: 4016.3810289\ttotal: 366ms\tremaining: 6.96s\n",
      "5:\tlearn: 3945.2907789\ttotal: 550ms\tremaining: 8.62s\n",
      "6:\tlearn: 3880.2542135\ttotal: 648ms\tremaining: 8.6s\n",
      "7:\tlearn: 3819.3078635\ttotal: 661ms\tremaining: 7.6s\n",
      "8:\tlearn: 3764.0425520\ttotal: 757ms\tremaining: 7.66s\n",
      "9:\tlearn: 3710.2988934\ttotal: 855ms\tremaining: 7.7s\n",
      "10:\tlearn: 3664.6450454\ttotal: 951ms\tremaining: 7.69s\n",
      "11:\tlearn: 3619.0811328\ttotal: 1.05s\tremaining: 7.69s\n",
      "12:\tlearn: 3578.9102834\ttotal: 1.15s\tremaining: 7.68s\n",
      "13:\tlearn: 3539.9354636\ttotal: 1.25s\tremaining: 7.65s\n",
      "14:\tlearn: 3502.4089355\ttotal: 1.34s\tremaining: 7.61s\n",
      "15:\tlearn: 3466.4494411\ttotal: 1.35s\tremaining: 7.11s\n",
      "16:\tlearn: 3434.9761315\ttotal: 1.45s\tremaining: 7.08s\n",
      "17:\tlearn: 3403.7770256\ttotal: 1.55s\tremaining: 7.07s\n",
      "18:\tlearn: 3375.7599647\ttotal: 1.65s\tremaining: 7.02s\n",
      "19:\tlearn: 3348.2145946\ttotal: 1.74s\tremaining: 6.97s\n",
      "20:\tlearn: 3320.9951885\ttotal: 1.84s\tremaining: 6.93s\n",
      "21:\tlearn: 3295.1816324\ttotal: 1.94s\tremaining: 6.87s\n",
      "22:\tlearn: 3271.4533043\ttotal: 1.95s\tremaining: 6.53s\n",
      "23:\tlearn: 3247.4025602\ttotal: 2.06s\tremaining: 6.52s\n",
      "24:\tlearn: 3225.2312390\ttotal: 2.15s\tremaining: 6.44s\n",
      "25:\tlearn: 3203.4254282\ttotal: 2.24s\tremaining: 6.38s\n",
      "26:\tlearn: 3182.5246209\ttotal: 2.34s\tremaining: 6.33s\n",
      "27:\tlearn: 3163.1166609\ttotal: 2.44s\tremaining: 6.27s\n",
      "28:\tlearn: 3143.7260210\ttotal: 2.45s\tremaining: 6s\n",
      "29:\tlearn: 3125.4692216\ttotal: 2.55s\tremaining: 5.95s\n",
      "30:\tlearn: 3105.8321294\ttotal: 2.64s\tremaining: 5.88s\n",
      "31:\tlearn: 3087.7630537\ttotal: 2.74s\tremaining: 5.82s\n",
      "32:\tlearn: 3071.0144470\ttotal: 2.84s\tremaining: 5.76s\n",
      "33:\tlearn: 3054.8625315\ttotal: 2.94s\tremaining: 5.7s\n",
      "34:\tlearn: 3037.3036346\ttotal: 3.03s\tremaining: 5.63s\n",
      "35:\tlearn: 3019.4883611\ttotal: 3.13s\tremaining: 5.57s\n",
      "36:\tlearn: 3004.5691314\ttotal: 3.14s\tremaining: 5.35s\n",
      "37:\tlearn: 2990.2184126\ttotal: 3.24s\tremaining: 5.28s\n",
      "38:\tlearn: 2975.2056362\ttotal: 3.33s\tremaining: 5.22s\n",
      "39:\tlearn: 2959.8587588\ttotal: 3.43s\tremaining: 5.15s\n",
      "40:\tlearn: 2945.7873155\ttotal: 3.44s\tremaining: 4.96s\n",
      "41:\tlearn: 2932.3725692\ttotal: 3.54s\tremaining: 4.88s\n",
      "42:\tlearn: 2919.5820275\ttotal: 3.63s\tremaining: 4.82s\n",
      "43:\tlearn: 2906.8222801\ttotal: 3.73s\tremaining: 4.75s\n",
      "44:\tlearn: 2883.1085332\ttotal: 3.83s\tremaining: 4.68s\n",
      "45:\tlearn: 2863.7561159\ttotal: 3.92s\tremaining: 4.61s\n",
      "46:\tlearn: 2846.1419215\ttotal: 3.94s\tremaining: 4.44s\n",
      "47:\tlearn: 2832.2770728\ttotal: 4.03s\tremaining: 4.37s\n",
      "48:\tlearn: 2819.4916050\ttotal: 4.13s\tremaining: 4.3s\n",
      "49:\tlearn: 2807.8746455\ttotal: 4.22s\tremaining: 4.22s\n",
      "50:\tlearn: 2797.1453919\ttotal: 4.32s\tremaining: 4.15s\n",
      "51:\tlearn: 2786.1518524\ttotal: 4.33s\tremaining: 4s\n",
      "52:\tlearn: 2775.9517725\ttotal: 4.43s\tremaining: 3.93s\n",
      "53:\tlearn: 2765.8185424\ttotal: 4.53s\tremaining: 3.85s\n",
      "54:\tlearn: 2755.8722572\ttotal: 4.62s\tremaining: 3.78s\n",
      "55:\tlearn: 2746.9116996\ttotal: 4.71s\tremaining: 3.71s\n",
      "56:\tlearn: 2738.1204227\ttotal: 4.73s\tremaining: 3.57s\n",
      "57:\tlearn: 2729.6198647\ttotal: 4.82s\tremaining: 3.49s\n",
      "58:\tlearn: 2720.9617132\ttotal: 4.92s\tremaining: 3.42s\n",
      "59:\tlearn: 2712.4324887\ttotal: 5.01s\tremaining: 3.34s\n",
      "60:\tlearn: 2704.1972062\ttotal: 5.11s\tremaining: 3.27s\n",
      "61:\tlearn: 2696.2240757\ttotal: 5.13s\tremaining: 3.14s\n",
      "62:\tlearn: 2688.2547124\ttotal: 5.22s\tremaining: 3.07s\n",
      "63:\tlearn: 2680.4091219\ttotal: 5.32s\tremaining: 2.99s\n",
      "64:\tlearn: 2673.3189415\ttotal: 5.41s\tremaining: 2.91s\n",
      "65:\tlearn: 2666.2241453\ttotal: 5.51s\tremaining: 2.84s\n",
      "66:\tlearn: 2659.1459057\ttotal: 5.52s\tremaining: 2.72s\n",
      "67:\tlearn: 2652.3234414\ttotal: 5.62s\tremaining: 2.64s\n",
      "68:\tlearn: 2645.2894740\ttotal: 5.71s\tremaining: 2.57s\n",
      "69:\tlearn: 2638.7723505\ttotal: 5.81s\tremaining: 2.49s\n",
      "70:\tlearn: 2632.4480876\ttotal: 5.91s\tremaining: 2.41s\n",
      "71:\tlearn: 2625.9121895\ttotal: 6s\tremaining: 2.33s\n",
      "72:\tlearn: 2620.0445325\ttotal: 6.02s\tremaining: 2.23s\n",
      "73:\tlearn: 2614.5018349\ttotal: 6.11s\tremaining: 2.15s\n",
      "74:\tlearn: 2608.5693502\ttotal: 6.21s\tremaining: 2.07s\n",
      "75:\tlearn: 2603.2638977\ttotal: 6.31s\tremaining: 1.99s\n",
      "76:\tlearn: 2597.4820503\ttotal: 6.4s\tremaining: 1.91s\n",
      "77:\tlearn: 2592.0672626\ttotal: 6.5s\tremaining: 1.83s\n",
      "78:\tlearn: 2586.3726523\ttotal: 6.51s\tremaining: 1.73s\n",
      "79:\tlearn: 2581.0353869\ttotal: 6.61s\tremaining: 1.65s\n",
      "80:\tlearn: 2575.9549361\ttotal: 6.71s\tremaining: 1.57s\n",
      "81:\tlearn: 2570.7195704\ttotal: 6.8s\tremaining: 1.49s\n",
      "82:\tlearn: 2565.7632092\ttotal: 6.9s\tremaining: 1.41s\n",
      "83:\tlearn: 2560.9418046\ttotal: 7s\tremaining: 1.33s\n",
      "84:\tlearn: 2556.1800266\ttotal: 7.01s\tremaining: 1.24s\n",
      "85:\tlearn: 2551.5950953\ttotal: 7.11s\tremaining: 1.16s\n",
      "86:\tlearn: 2546.9957678\ttotal: 7.2s\tremaining: 1.08s\n",
      "87:\tlearn: 2542.2110567\ttotal: 7.3s\tremaining: 995ms\n",
      "88:\tlearn: 2537.9035540\ttotal: 7.4s\tremaining: 914ms\n",
      "89:\tlearn: 2533.9190845\ttotal: 7.49s\tremaining: 833ms\n",
      "90:\tlearn: 2529.0521800\ttotal: 7.51s\tremaining: 743ms\n",
      "91:\tlearn: 2525.0356249\ttotal: 7.6s\tremaining: 661ms\n",
      "92:\tlearn: 2520.9031589\ttotal: 7.7s\tremaining: 579ms\n",
      "93:\tlearn: 2516.7369312\ttotal: 7.8s\tremaining: 498ms\n",
      "94:\tlearn: 2512.2046177\ttotal: 7.89s\tremaining: 415ms\n",
      "95:\tlearn: 2508.3400224\ttotal: 7.99s\tremaining: 333ms\n",
      "96:\tlearn: 2504.1979034\ttotal: 8.01s\tremaining: 248ms\n",
      "97:\tlearn: 2500.1889949\ttotal: 8.1s\tremaining: 165ms\n",
      "98:\tlearn: 2496.8284343\ttotal: 8.19s\tremaining: 82.8ms\n",
      "99:\tlearn: 2493.2957261\ttotal: 8.29s\tremaining: 0us\n",
      "0:\tlearn: 4376.5847524\ttotal: 54.7ms\tremaining: 5.41s\n",
      "1:\tlearn: 4266.5068994\ttotal: 152ms\tremaining: 7.44s\n",
      "2:\tlearn: 4175.2163692\ttotal: 250ms\tremaining: 8.07s\n",
      "3:\tlearn: 4087.2959340\ttotal: 352ms\tremaining: 8.44s\n",
      "4:\tlearn: 4009.1756856\ttotal: 451ms\tremaining: 8.56s\n",
      "5:\tlearn: 3937.2681983\ttotal: 551ms\tremaining: 8.62s\n",
      "6:\tlearn: 3872.8750796\ttotal: 649ms\tremaining: 8.62s\n",
      "7:\tlearn: 3812.6897707\ttotal: 745ms\tremaining: 8.57s\n",
      "8:\tlearn: 3756.6317126\ttotal: 757ms\tremaining: 7.66s\n",
      "9:\tlearn: 3703.0012496\ttotal: 855ms\tremaining: 7.69s\n",
      "10:\tlearn: 3656.7838629\ttotal: 953ms\tremaining: 7.71s\n",
      "11:\tlearn: 3611.1326376\ttotal: 1.05s\tremaining: 7.72s\n",
      "12:\tlearn: 3570.2277855\ttotal: 1.15s\tremaining: 7.69s\n",
      "13:\tlearn: 3530.6312629\ttotal: 1.25s\tremaining: 7.65s\n",
      "14:\tlearn: 3494.4003230\ttotal: 1.34s\tremaining: 7.62s\n",
      "15:\tlearn: 3459.8821034\ttotal: 1.36s\tremaining: 7.13s\n",
      "16:\tlearn: 3428.2187189\ttotal: 1.45s\tremaining: 7.1s\n",
      "17:\tlearn: 3396.4936296\ttotal: 1.55s\tremaining: 7.05s\n",
      "18:\tlearn: 3368.9274512\ttotal: 1.65s\tremaining: 7.01s\n",
      "19:\tlearn: 3342.7926445\ttotal: 1.74s\tremaining: 6.97s\n",
      "20:\tlearn: 3314.6924797\ttotal: 1.84s\tremaining: 6.93s\n",
      "21:\tlearn: 3288.7498850\ttotal: 1.94s\tremaining: 6.88s\n",
      "22:\tlearn: 3264.0583358\ttotal: 2.04s\tremaining: 6.83s\n",
      "23:\tlearn: 3241.3355194\ttotal: 2.14s\tremaining: 6.77s\n",
      "24:\tlearn: 3218.8293584\ttotal: 2.23s\tremaining: 6.7s\n",
      "25:\tlearn: 3197.5847133\ttotal: 2.33s\tremaining: 6.64s\n",
      "26:\tlearn: 3176.6391521\ttotal: 2.35s\tremaining: 6.34s\n",
      "27:\tlearn: 3157.1005548\ttotal: 2.44s\tremaining: 6.29s\n",
      "28:\tlearn: 3136.9469748\ttotal: 2.54s\tremaining: 6.22s\n",
      "29:\tlearn: 3117.9190746\ttotal: 2.64s\tremaining: 6.15s\n",
      "30:\tlearn: 3099.9705361\ttotal: 2.73s\tremaining: 6.09s\n",
      "31:\tlearn: 3081.2761144\ttotal: 2.83s\tremaining: 6.02s\n",
      "32:\tlearn: 3063.8272093\ttotal: 2.93s\tremaining: 5.95s\n",
      "33:\tlearn: 3047.0899310\ttotal: 2.94s\tremaining: 5.71s\n",
      "34:\tlearn: 3030.3459455\ttotal: 3.04s\tremaining: 5.64s\n",
      "35:\tlearn: 3012.6498773\ttotal: 3.13s\tremaining: 5.57s\n",
      "36:\tlearn: 2997.6010122\ttotal: 3.23s\tremaining: 5.5s\n",
      "37:\tlearn: 2982.1459888\ttotal: 3.33s\tremaining: 5.43s\n",
      "38:\tlearn: 2967.3912107\ttotal: 3.42s\tremaining: 5.36s\n",
      "39:\tlearn: 2940.7246540\ttotal: 3.52s\tremaining: 5.29s\n",
      "40:\tlearn: 2918.9457621\ttotal: 3.54s\tremaining: 5.09s\n",
      "41:\tlearn: 2899.5559544\ttotal: 3.63s\tremaining: 5.01s\n",
      "42:\tlearn: 2883.3384167\ttotal: 3.73s\tremaining: 4.94s\n",
      "43:\tlearn: 2869.1204789\ttotal: 3.83s\tremaining: 4.87s\n",
      "44:\tlearn: 2856.2774286\ttotal: 3.92s\tremaining: 4.8s\n",
      "45:\tlearn: 2843.2829458\ttotal: 4.02s\tremaining: 4.72s\n",
      "46:\tlearn: 2831.9006529\ttotal: 4.03s\tremaining: 4.55s\n",
      "47:\tlearn: 2820.0853040\ttotal: 4.13s\tremaining: 4.47s\n",
      "48:\tlearn: 2808.6114009\ttotal: 4.23s\tremaining: 4.4s\n",
      "49:\tlearn: 2797.8452566\ttotal: 4.32s\tremaining: 4.32s\n",
      "50:\tlearn: 2787.3645276\ttotal: 4.42s\tremaining: 4.25s\n",
      "51:\tlearn: 2777.3581423\ttotal: 4.52s\tremaining: 4.17s\n",
      "52:\tlearn: 2767.5209832\ttotal: 4.53s\tremaining: 4.02s\n",
      "53:\tlearn: 2757.9619517\ttotal: 4.63s\tremaining: 3.94s\n",
      "54:\tlearn: 2748.4938370\ttotal: 4.72s\tremaining: 3.86s\n",
      "55:\tlearn: 2739.2457135\ttotal: 4.82s\tremaining: 3.79s\n",
      "56:\tlearn: 2730.1105685\ttotal: 4.92s\tremaining: 3.71s\n",
      "57:\tlearn: 2721.5181225\ttotal: 5.01s\tremaining: 3.63s\n",
      "58:\tlearn: 2713.5494281\ttotal: 5.03s\tremaining: 3.49s\n",
      "59:\tlearn: 2705.2781320\ttotal: 5.12s\tremaining: 3.41s\n",
      "60:\tlearn: 2697.1579263\ttotal: 5.22s\tremaining: 3.34s\n",
      "61:\tlearn: 2688.3170287\ttotal: 5.32s\tremaining: 3.26s\n",
      "62:\tlearn: 2680.6371699\ttotal: 5.41s\tremaining: 3.18s\n",
      "63:\tlearn: 2673.3013830\ttotal: 5.51s\tremaining: 3.1s\n",
      "64:\tlearn: 2665.1494036\ttotal: 5.53s\tremaining: 2.98s\n",
      "65:\tlearn: 2658.6713439\ttotal: 5.62s\tremaining: 2.89s\n",
      "66:\tlearn: 2651.9956315\ttotal: 5.71s\tremaining: 2.81s\n",
      "67:\tlearn: 2644.5775784\ttotal: 5.81s\tremaining: 2.73s\n",
      "68:\tlearn: 2637.9006391\ttotal: 5.91s\tremaining: 2.65s\n",
      "69:\tlearn: 2631.4913052\ttotal: 5.92s\tremaining: 2.54s\n",
      "70:\tlearn: 2625.1526373\ttotal: 6.02s\tremaining: 2.46s\n",
      "71:\tlearn: 2618.8807555\ttotal: 6.11s\tremaining: 2.38s\n",
      "72:\tlearn: 2612.5095532\ttotal: 6.21s\tremaining: 2.3s\n",
      "73:\tlearn: 2606.8939803\ttotal: 6.31s\tremaining: 2.22s\n",
      "74:\tlearn: 2601.4196571\ttotal: 6.4s\tremaining: 2.13s\n",
      "75:\tlearn: 2596.2476717\ttotal: 6.42s\tremaining: 2.03s\n",
      "76:\tlearn: 2590.5110301\ttotal: 6.51s\tremaining: 1.94s\n",
      "77:\tlearn: 2585.0800054\ttotal: 6.61s\tremaining: 1.86s\n",
      "78:\tlearn: 2578.8061286\ttotal: 6.7s\tremaining: 1.78s\n",
      "79:\tlearn: 2573.7129982\ttotal: 6.8s\tremaining: 1.7s\n",
      "80:\tlearn: 2568.0186134\ttotal: 6.81s\tremaining: 1.6s\n",
      "81:\tlearn: 2563.1890385\ttotal: 6.91s\tremaining: 1.52s\n",
      "82:\tlearn: 2558.0477019\ttotal: 7s\tremaining: 1.43s\n",
      "83:\tlearn: 2553.4735015\ttotal: 7.1s\tremaining: 1.35s\n",
      "84:\tlearn: 2548.8069342\ttotal: 7.2s\tremaining: 1.27s\n",
      "85:\tlearn: 2543.7705704\ttotal: 7.3s\tremaining: 1.19s\n",
      "86:\tlearn: 2538.9426742\ttotal: 7.32s\tremaining: 1.09s\n",
      "87:\tlearn: 2534.3511875\ttotal: 7.41s\tremaining: 1.01s\n",
      "88:\tlearn: 2530.0442006\ttotal: 7.5s\tremaining: 927ms\n",
      "89:\tlearn: 2525.4082203\ttotal: 7.6s\tremaining: 844ms\n",
      "90:\tlearn: 2521.2063117\ttotal: 7.7s\tremaining: 761ms\n",
      "91:\tlearn: 2517.0901744\ttotal: 7.79s\tremaining: 678ms\n",
      "92:\tlearn: 2513.1634473\ttotal: 7.89s\tremaining: 594ms\n",
      "93:\tlearn: 2509.0320533\ttotal: 7.9s\tremaining: 504ms\n",
      "94:\tlearn: 2504.8898320\ttotal: 8s\tremaining: 421ms\n",
      "95:\tlearn: 2500.2080810\ttotal: 8.1s\tremaining: 338ms\n",
      "96:\tlearn: 2496.7227175\ttotal: 8.2s\tremaining: 253ms\n",
      "97:\tlearn: 2492.9410783\ttotal: 8.29s\tremaining: 169ms\n",
      "98:\tlearn: 2489.0691074\ttotal: 8.39s\tremaining: 84.8ms\n",
      "99:\tlearn: 2485.2482441\ttotal: 8.49s\tremaining: 0us\n",
      "0:\tlearn: 4495.3706720\ttotal: 38.5ms\tremaining: 3.81s\n",
      "1:\tlearn: 4482.0244408\ttotal: 134ms\tremaining: 6.58s\n",
      "2:\tlearn: 4468.9051151\ttotal: 146ms\tremaining: 4.73s\n",
      "3:\tlearn: 4456.0093755\ttotal: 243ms\tremaining: 5.84s\n",
      "4:\tlearn: 4443.3890293\ttotal: 342ms\tremaining: 6.5s\n",
      "5:\tlearn: 4430.8992621\ttotal: 442ms\tremaining: 6.92s\n",
      "6:\tlearn: 4418.6237765\ttotal: 630ms\tremaining: 8.38s\n",
      "7:\tlearn: 4406.5835553\ttotal: 644ms\tremaining: 7.41s\n",
      "8:\tlearn: 4394.6974051\ttotal: 739ms\tremaining: 7.47s\n",
      "9:\tlearn: 4383.0405801\ttotal: 839ms\tremaining: 7.55s\n",
      "10:\tlearn: 4371.5855582\ttotal: 934ms\tremaining: 7.56s\n",
      "11:\tlearn: 4360.3292837\ttotal: 1.03s\tremaining: 7.57s\n",
      "12:\tlearn: 4349.1614687\ttotal: 1.13s\tremaining: 7.56s\n",
      "13:\tlearn: 4338.1879894\ttotal: 1.23s\tremaining: 7.53s\n",
      "14:\tlearn: 4327.4058739\ttotal: 1.24s\tremaining: 7.02s\n",
      "15:\tlearn: 4316.8121838\ttotal: 1.34s\tremaining: 7.02s\n",
      "16:\tlearn: 4306.4030707\ttotal: 1.44s\tremaining: 7.01s\n",
      "17:\tlearn: 4296.1520756\ttotal: 1.53s\tremaining: 6.99s\n",
      "18:\tlearn: 4286.0805722\ttotal: 1.63s\tremaining: 6.95s\n",
      "19:\tlearn: 4276.1625167\ttotal: 1.73s\tremaining: 6.91s\n",
      "20:\tlearn: 4266.4189715\ttotal: 1.82s\tremaining: 6.87s\n",
      "21:\tlearn: 4256.8243051\ttotal: 1.92s\tremaining: 6.82s\n",
      "22:\tlearn: 4247.3995354\ttotal: 2.02s\tremaining: 6.77s\n",
      "23:\tlearn: 4238.1186472\ttotal: 2.03s\tremaining: 6.44s\n",
      "24:\tlearn: 4229.0026797\ttotal: 2.13s\tremaining: 6.39s\n",
      "25:\tlearn: 4219.8699464\ttotal: 2.23s\tremaining: 6.34s\n",
      "26:\tlearn: 4210.8462972\ttotal: 2.32s\tremaining: 6.28s\n",
      "27:\tlearn: 4201.8724088\ttotal: 2.42s\tremaining: 6.23s\n",
      "28:\tlearn: 4193.0208912\ttotal: 2.52s\tremaining: 6.16s\n",
      "29:\tlearn: 4184.1840222\ttotal: 2.53s\tremaining: 5.91s\n",
      "30:\tlearn: 4175.5008921\ttotal: 2.63s\tremaining: 5.84s\n",
      "31:\tlearn: 4166.8248438\ttotal: 2.72s\tremaining: 5.78s\n",
      "32:\tlearn: 4158.2696464\ttotal: 2.82s\tremaining: 5.72s\n",
      "33:\tlearn: 4149.8121378\ttotal: 2.92s\tremaining: 5.67s\n",
      "34:\tlearn: 4141.4230508\ttotal: 3.02s\tremaining: 5.6s\n",
      "35:\tlearn: 4133.1141558\ttotal: 3.11s\tremaining: 5.54s\n",
      "36:\tlearn: 4124.8388755\ttotal: 3.13s\tremaining: 5.32s\n",
      "37:\tlearn: 4116.6928163\ttotal: 3.22s\tremaining: 5.26s\n",
      "38:\tlearn: 4108.5895341\ttotal: 3.32s\tremaining: 5.2s\n",
      "39:\tlearn: 4100.6077519\ttotal: 3.42s\tremaining: 5.13s\n",
      "40:\tlearn: 4092.7696964\ttotal: 3.51s\tremaining: 5.06s\n",
      "41:\tlearn: 4084.8349186\ttotal: 3.61s\tremaining: 4.99s\n",
      "42:\tlearn: 4076.9476353\ttotal: 3.71s\tremaining: 4.92s\n",
      "43:\tlearn: 4069.2131425\ttotal: 3.81s\tremaining: 4.85s\n",
      "44:\tlearn: 4061.4748174\ttotal: 3.82s\tremaining: 4.67s\n",
      "45:\tlearn: 4053.8868300\ttotal: 3.92s\tremaining: 4.6s\n",
      "46:\tlearn: 4046.3372542\ttotal: 4.01s\tremaining: 4.53s\n",
      "47:\tlearn: 4038.8638789\ttotal: 4.11s\tremaining: 4.45s\n",
      "48:\tlearn: 4031.4297157\ttotal: 4.21s\tremaining: 4.38s\n",
      "49:\tlearn: 4024.1701017\ttotal: 4.31s\tremaining: 4.31s\n",
      "50:\tlearn: 4016.8460187\ttotal: 4.32s\tremaining: 4.15s\n",
      "51:\tlearn: 4009.6832871\ttotal: 4.42s\tremaining: 4.08s\n",
      "52:\tlearn: 4002.6047458\ttotal: 4.51s\tremaining: 4s\n",
      "53:\tlearn: 3995.4609404\ttotal: 4.61s\tremaining: 3.93s\n",
      "54:\tlearn: 3988.4858520\ttotal: 4.71s\tremaining: 3.85s\n",
      "55:\tlearn: 3981.5987863\ttotal: 4.8s\tremaining: 3.78s\n",
      "56:\tlearn: 3974.6705227\ttotal: 4.9s\tremaining: 3.7s\n",
      "57:\tlearn: 3967.8071651\ttotal: 5s\tremaining: 3.62s\n",
      "58:\tlearn: 3961.1001272\ttotal: 5.1s\tremaining: 3.54s\n",
      "59:\tlearn: 3954.4167292\ttotal: 5.11s\tremaining: 3.41s\n",
      "60:\tlearn: 3947.7822882\ttotal: 5.21s\tremaining: 3.33s\n",
      "61:\tlearn: 3941.1927251\ttotal: 5.31s\tremaining: 3.25s\n",
      "62:\tlearn: 3934.5925112\ttotal: 5.4s\tremaining: 3.17s\n",
      "63:\tlearn: 3928.0540625\ttotal: 5.5s\tremaining: 3.09s\n",
      "64:\tlearn: 3921.6351472\ttotal: 5.6s\tremaining: 3.01s\n",
      "65:\tlearn: 3915.2203815\ttotal: 5.61s\tremaining: 2.89s\n",
      "66:\tlearn: 3908.8337537\ttotal: 5.71s\tremaining: 2.81s\n",
      "67:\tlearn: 3902.5194616\ttotal: 5.8s\tremaining: 2.73s\n",
      "68:\tlearn: 3896.2545317\ttotal: 5.9s\tremaining: 2.65s\n",
      "69:\tlearn: 3890.0577128\ttotal: 6s\tremaining: 2.57s\n",
      "70:\tlearn: 3883.9094741\ttotal: 6.09s\tremaining: 2.49s\n",
      "71:\tlearn: 3877.7971218\ttotal: 6.11s\tremaining: 2.38s\n",
      "72:\tlearn: 3871.8186159\ttotal: 6.2s\tremaining: 2.29s\n",
      "73:\tlearn: 3865.6795390\ttotal: 6.3s\tremaining: 2.21s\n",
      "74:\tlearn: 3859.6531469\ttotal: 6.39s\tremaining: 2.13s\n",
      "75:\tlearn: 3853.7992167\ttotal: 6.49s\tremaining: 2.05s\n",
      "76:\tlearn: 3847.9929455\ttotal: 6.59s\tremaining: 1.97s\n",
      "77:\tlearn: 3842.2148321\ttotal: 6.6s\tremaining: 1.86s\n",
      "78:\tlearn: 3836.3050540\ttotal: 6.7s\tremaining: 1.78s\n",
      "79:\tlearn: 3830.5040287\ttotal: 6.8s\tremaining: 1.7s\n",
      "80:\tlearn: 3824.7493395\ttotal: 6.89s\tremaining: 1.62s\n",
      "81:\tlearn: 3819.0236041\ttotal: 6.99s\tremaining: 1.53s\n",
      "82:\tlearn: 3813.4034656\ttotal: 7.08s\tremaining: 1.45s\n",
      "83:\tlearn: 3807.7870151\ttotal: 7.1s\tremaining: 1.35s\n",
      "84:\tlearn: 3802.2373706\ttotal: 7.19s\tremaining: 1.27s\n",
      "85:\tlearn: 3796.8390391\ttotal: 7.29s\tremaining: 1.19s\n",
      "86:\tlearn: 3791.3856901\ttotal: 7.39s\tremaining: 1.1s\n",
      "87:\tlearn: 3785.9090115\ttotal: 7.49s\tremaining: 1.02s\n",
      "88:\tlearn: 3780.5652304\ttotal: 7.58s\tremaining: 937ms\n",
      "89:\tlearn: 3775.1365054\ttotal: 7.59s\tremaining: 844ms\n",
      "90:\tlearn: 3769.8443099\ttotal: 7.69s\tremaining: 761ms\n",
      "91:\tlearn: 3764.5156684\ttotal: 7.79s\tremaining: 677ms\n",
      "92:\tlearn: 3759.2529208\ttotal: 7.88s\tremaining: 594ms\n",
      "93:\tlearn: 3754.1369787\ttotal: 7.98s\tremaining: 509ms\n",
      "94:\tlearn: 3749.0292584\ttotal: 8.08s\tremaining: 425ms\n",
      "95:\tlearn: 3743.8434986\ttotal: 8.18s\tremaining: 341ms\n",
      "96:\tlearn: 3738.7539493\ttotal: 8.28s\tremaining: 256ms\n",
      "97:\tlearn: 3733.7419426\ttotal: 8.29s\tremaining: 169ms\n",
      "98:\tlearn: 3728.6826641\ttotal: 8.38s\tremaining: 84.7ms\n",
      "99:\tlearn: 3723.7149237\ttotal: 8.48s\tremaining: 0us\n",
      "0:\tlearn: 4504.6077448\ttotal: 74.4ms\tremaining: 7.36s\n",
      "1:\tlearn: 4491.1483285\ttotal: 86ms\tremaining: 4.21s\n",
      "2:\tlearn: 4477.9174906\ttotal: 182ms\tremaining: 5.87s\n",
      "3:\tlearn: 4464.9118938\ttotal: 284ms\tremaining: 6.81s\n",
      "4:\tlearn: 4452.2118927\ttotal: 381ms\tremaining: 7.24s\n",
      "5:\tlearn: 4439.7293629\ttotal: 570ms\tremaining: 8.93s\n",
      "6:\tlearn: 4427.3171096\ttotal: 585ms\tremaining: 7.77s\n",
      "7:\tlearn: 4415.1179924\ttotal: 679ms\tremaining: 7.81s\n",
      "8:\tlearn: 4403.1288338\ttotal: 774ms\tremaining: 7.83s\n",
      "9:\tlearn: 4391.3990310\ttotal: 870ms\tremaining: 7.83s\n",
      "10:\tlearn: 4379.7913072\ttotal: 967ms\tremaining: 7.82s\n",
      "11:\tlearn: 4368.3846402\ttotal: 1.06s\tremaining: 7.8s\n",
      "12:\tlearn: 4357.1998303\ttotal: 1.08s\tremaining: 7.2s\n",
      "13:\tlearn: 4346.1586605\ttotal: 1.17s\tremaining: 7.21s\n",
      "14:\tlearn: 4335.3099173\ttotal: 1.27s\tremaining: 7.21s\n",
      "15:\tlearn: 4324.6477499\ttotal: 1.37s\tremaining: 7.2s\n",
      "16:\tlearn: 4314.1721843\ttotal: 1.47s\tremaining: 7.16s\n",
      "17:\tlearn: 4303.8803352\ttotal: 1.57s\tremaining: 7.14s\n",
      "18:\tlearn: 4293.6959863\ttotal: 1.66s\tremaining: 7.1s\n",
      "19:\tlearn: 4283.6908045\ttotal: 1.76s\tremaining: 7.05s\n",
      "20:\tlearn: 4273.8619918\ttotal: 1.86s\tremaining: 6.99s\n",
      "21:\tlearn: 4264.2459207\ttotal: 1.87s\tremaining: 6.64s\n",
      "22:\tlearn: 4254.7197584\ttotal: 1.97s\tremaining: 6.59s\n",
      "23:\tlearn: 4245.3624189\ttotal: 2.06s\tremaining: 6.54s\n",
      "24:\tlearn: 4236.1452419\ttotal: 2.16s\tremaining: 6.48s\n",
      "25:\tlearn: 4226.8091543\ttotal: 2.26s\tremaining: 6.43s\n",
      "26:\tlearn: 4217.6868967\ttotal: 2.36s\tremaining: 6.38s\n",
      "27:\tlearn: 4208.6491883\ttotal: 2.45s\tremaining: 6.31s\n",
      "28:\tlearn: 4199.7724527\ttotal: 2.47s\tremaining: 6.04s\n",
      "29:\tlearn: 4190.8183010\ttotal: 2.56s\tremaining: 5.98s\n",
      "30:\tlearn: 4182.0467450\ttotal: 2.66s\tremaining: 5.93s\n",
      "31:\tlearn: 4173.2227573\ttotal: 2.76s\tremaining: 5.86s\n",
      "32:\tlearn: 4164.6030602\ttotal: 2.85s\tremaining: 5.8s\n",
      "33:\tlearn: 4156.0117060\ttotal: 2.96s\tremaining: 5.74s\n",
      "34:\tlearn: 4147.5615500\ttotal: 3.05s\tremaining: 5.67s\n",
      "35:\tlearn: 4139.2123951\ttotal: 3.15s\tremaining: 5.6s\n",
      "36:\tlearn: 4130.7620688\ttotal: 3.17s\tremaining: 5.39s\n",
      "37:\tlearn: 4122.5695698\ttotal: 3.26s\tremaining: 5.32s\n",
      "38:\tlearn: 4114.2716835\ttotal: 3.35s\tremaining: 5.25s\n",
      "39:\tlearn: 4106.1082248\ttotal: 3.45s\tremaining: 5.18s\n",
      "40:\tlearn: 4098.0914343\ttotal: 3.55s\tremaining: 5.11s\n",
      "41:\tlearn: 4090.1086606\ttotal: 3.65s\tremaining: 5.04s\n",
      "42:\tlearn: 4082.2207913\ttotal: 3.75s\tremaining: 4.96s\n",
      "43:\tlearn: 4074.3529863\ttotal: 3.76s\tremaining: 4.78s\n",
      "44:\tlearn: 4066.5674543\ttotal: 3.85s\tremaining: 4.71s\n",
      "45:\tlearn: 4058.8970263\ttotal: 3.95s\tremaining: 4.64s\n",
      "46:\tlearn: 4051.2637319\ttotal: 4.05s\tremaining: 4.56s\n",
      "47:\tlearn: 4043.7470082\ttotal: 4.15s\tremaining: 4.49s\n",
      "48:\tlearn: 4036.2370058\ttotal: 4.25s\tremaining: 4.42s\n",
      "49:\tlearn: 4028.9179804\ttotal: 4.34s\tremaining: 4.34s\n",
      "50:\tlearn: 4021.5731489\ttotal: 4.35s\tremaining: 4.18s\n",
      "51:\tlearn: 4014.3220356\ttotal: 4.45s\tremaining: 4.11s\n",
      "52:\tlearn: 4007.1707115\ttotal: 4.54s\tremaining: 4.03s\n",
      "53:\tlearn: 3999.9054251\ttotal: 4.64s\tremaining: 3.96s\n",
      "54:\tlearn: 3992.7718844\ttotal: 4.74s\tremaining: 3.88s\n",
      "55:\tlearn: 3985.7655851\ttotal: 4.84s\tremaining: 3.8s\n",
      "56:\tlearn: 3978.7692077\ttotal: 4.94s\tremaining: 3.72s\n",
      "57:\tlearn: 3971.8812931\ttotal: 4.95s\tremaining: 3.58s\n",
      "58:\tlearn: 3965.0239674\ttotal: 5.04s\tremaining: 3.51s\n",
      "59:\tlearn: 3958.2560911\ttotal: 5.14s\tremaining: 3.43s\n",
      "60:\tlearn: 3951.6393901\ttotal: 5.24s\tremaining: 3.35s\n",
      "61:\tlearn: 3944.9591371\ttotal: 5.33s\tremaining: 3.27s\n",
      "62:\tlearn: 3938.3167479\ttotal: 5.43s\tremaining: 3.19s\n",
      "63:\tlearn: 3931.7550630\ttotal: 5.53s\tremaining: 3.11s\n",
      "64:\tlearn: 3925.2849242\ttotal: 5.54s\tremaining: 2.98s\n",
      "65:\tlearn: 3918.8455410\ttotal: 5.64s\tremaining: 2.91s\n",
      "66:\tlearn: 3912.4055462\ttotal: 5.73s\tremaining: 2.82s\n",
      "67:\tlearn: 3906.0833963\ttotal: 5.83s\tremaining: 2.74s\n",
      "68:\tlearn: 3899.7284035\ttotal: 5.93s\tremaining: 2.66s\n",
      "69:\tlearn: 3893.4898065\ttotal: 5.94s\tremaining: 2.55s\n",
      "70:\tlearn: 3887.2514646\ttotal: 6.04s\tremaining: 2.46s\n",
      "71:\tlearn: 3881.1228423\ttotal: 6.13s\tremaining: 2.38s\n",
      "72:\tlearn: 3875.0021983\ttotal: 6.23s\tremaining: 2.3s\n",
      "73:\tlearn: 3868.9495923\ttotal: 6.33s\tremaining: 2.22s\n",
      "74:\tlearn: 3862.9459639\ttotal: 6.43s\tremaining: 2.14s\n",
      "75:\tlearn: 3856.9973390\ttotal: 6.52s\tremaining: 2.06s\n",
      "76:\tlearn: 3851.0031776\ttotal: 6.54s\tremaining: 1.95s\n",
      "77:\tlearn: 3845.1201350\ttotal: 6.63s\tremaining: 1.87s\n",
      "78:\tlearn: 3839.2522918\ttotal: 6.73s\tremaining: 1.79s\n",
      "79:\tlearn: 3833.4424061\ttotal: 6.83s\tremaining: 1.71s\n",
      "80:\tlearn: 3827.6852008\ttotal: 6.92s\tremaining: 1.62s\n",
      "81:\tlearn: 3821.8957110\ttotal: 7.02s\tremaining: 1.54s\n",
      "82:\tlearn: 3816.1786891\ttotal: 7.04s\tremaining: 1.44s\n",
      "83:\tlearn: 3810.5764106\ttotal: 7.13s\tremaining: 1.36s\n",
      "84:\tlearn: 3804.8983950\ttotal: 7.22s\tremaining: 1.27s\n",
      "85:\tlearn: 3799.3251336\ttotal: 7.32s\tremaining: 1.19s\n",
      "86:\tlearn: 3793.8477116\ttotal: 7.42s\tremaining: 1.11s\n",
      "87:\tlearn: 3788.3758943\ttotal: 7.43s\tremaining: 1.01s\n",
      "88:\tlearn: 3782.9356908\ttotal: 7.53s\tremaining: 930ms\n",
      "89:\tlearn: 3777.5384596\ttotal: 7.63s\tremaining: 848ms\n",
      "90:\tlearn: 3772.1207143\ttotal: 7.72s\tremaining: 764ms\n",
      "91:\tlearn: 3766.8032141\ttotal: 7.82s\tremaining: 680ms\n",
      "92:\tlearn: 3761.5055279\ttotal: 7.91s\tremaining: 596ms\n",
      "93:\tlearn: 3756.2870119\ttotal: 7.93s\tremaining: 506ms\n",
      "94:\tlearn: 3751.0484666\ttotal: 8.02s\tremaining: 422ms\n",
      "95:\tlearn: 3745.9167996\ttotal: 8.12s\tremaining: 338ms\n",
      "96:\tlearn: 3740.7816812\ttotal: 8.21s\tremaining: 254ms\n",
      "97:\tlearn: 3735.7418994\ttotal: 8.31s\tremaining: 170ms\n",
      "98:\tlearn: 3730.7175661\ttotal: 8.41s\tremaining: 85ms\n",
      "99:\tlearn: 3725.6314364\ttotal: 8.51s\tremaining: 0us\n",
      "0:\tlearn: 4496.0085917\ttotal: 55.5ms\tremaining: 5.5s\n",
      "1:\tlearn: 4482.6887731\ttotal: 154ms\tremaining: 7.56s\n",
      "2:\tlearn: 4469.5954933\ttotal: 167ms\tremaining: 5.38s\n",
      "3:\tlearn: 4456.8637450\ttotal: 353ms\tremaining: 8.48s\n",
      "4:\tlearn: 4444.1812081\ttotal: 452ms\tremaining: 8.58s\n",
      "5:\tlearn: 4431.7158276\ttotal: 554ms\tremaining: 8.68s\n",
      "6:\tlearn: 4419.5695472\ttotal: 653ms\tremaining: 8.67s\n",
      "7:\tlearn: 4407.4981422\ttotal: 750ms\tremaining: 8.62s\n",
      "8:\tlearn: 4395.7386740\ttotal: 846ms\tremaining: 8.56s\n",
      "9:\tlearn: 4384.1826062\ttotal: 859ms\tremaining: 7.73s\n",
      "10:\tlearn: 4372.6671847\ttotal: 954ms\tremaining: 7.72s\n",
      "11:\tlearn: 4361.3514100\ttotal: 1.05s\tremaining: 7.7s\n",
      "12:\tlearn: 4350.2322505\ttotal: 1.15s\tremaining: 7.68s\n",
      "13:\tlearn: 4339.3067081\ttotal: 1.25s\tremaining: 7.65s\n",
      "14:\tlearn: 4328.7653392\ttotal: 1.34s\tremaining: 7.62s\n",
      "15:\tlearn: 4318.1708391\ttotal: 1.44s\tremaining: 7.56s\n",
      "16:\tlearn: 4307.7618794\ttotal: 1.45s\tremaining: 7.09s\n",
      "17:\tlearn: 4297.5355878\ttotal: 1.55s\tremaining: 7.06s\n",
      "18:\tlearn: 4287.4813167\ttotal: 1.65s\tremaining: 7.02s\n",
      "19:\tlearn: 4277.6041887\ttotal: 1.74s\tremaining: 6.97s\n",
      "20:\tlearn: 4267.8603905\ttotal: 1.84s\tremaining: 6.93s\n",
      "21:\tlearn: 4258.3057169\ttotal: 1.94s\tremaining: 6.88s\n",
      "22:\tlearn: 4248.9203272\ttotal: 2.04s\tremaining: 6.82s\n",
      "23:\tlearn: 4239.6385861\ttotal: 2.14s\tremaining: 6.77s\n",
      "24:\tlearn: 4230.5217856\ttotal: 2.23s\tremaining: 6.71s\n",
      "25:\tlearn: 4221.3330432\ttotal: 2.25s\tremaining: 6.4s\n",
      "26:\tlearn: 4212.2649420\ttotal: 2.35s\tremaining: 6.34s\n",
      "27:\tlearn: 4203.3223422\ttotal: 2.44s\tremaining: 6.28s\n",
      "28:\tlearn: 4194.5437031\ttotal: 2.54s\tremaining: 6.22s\n",
      "29:\tlearn: 4185.7127001\ttotal: 2.64s\tremaining: 6.15s\n",
      "30:\tlearn: 4177.0393107\ttotal: 2.73s\tremaining: 6.09s\n",
      "31:\tlearn: 4168.4360221\ttotal: 2.83s\tremaining: 6.02s\n",
      "32:\tlearn: 4159.8725812\ttotal: 2.93s\tremaining: 5.95s\n",
      "33:\tlearn: 4151.3987862\ttotal: 2.94s\tremaining: 5.72s\n",
      "34:\tlearn: 4143.0005027\ttotal: 3.04s\tremaining: 5.64s\n",
      "35:\tlearn: 4134.5888766\ttotal: 3.13s\tremaining: 5.57s\n",
      "36:\tlearn: 4126.3926981\ttotal: 3.23s\tremaining: 5.5s\n",
      "37:\tlearn: 4118.2092795\ttotal: 3.33s\tremaining: 5.43s\n",
      "38:\tlearn: 4110.0673822\ttotal: 3.43s\tremaining: 5.36s\n",
      "39:\tlearn: 4102.0440144\ttotal: 3.53s\tremaining: 5.29s\n",
      "40:\tlearn: 4094.0551813\ttotal: 3.54s\tremaining: 5.1s\n",
      "41:\tlearn: 4086.1766783\ttotal: 3.64s\tremaining: 5.02s\n",
      "42:\tlearn: 4078.3385270\ttotal: 3.73s\tremaining: 4.95s\n",
      "43:\tlearn: 4070.6417049\ttotal: 3.83s\tremaining: 4.87s\n",
      "44:\tlearn: 4062.8739030\ttotal: 3.93s\tremaining: 4.8s\n",
      "45:\tlearn: 4055.2462363\ttotal: 4.02s\tremaining: 4.72s\n",
      "46:\tlearn: 4047.7027115\ttotal: 4.12s\tremaining: 4.65s\n",
      "47:\tlearn: 4040.2497365\ttotal: 4.22s\tremaining: 4.57s\n",
      "48:\tlearn: 4032.8171690\ttotal: 4.23s\tremaining: 4.41s\n",
      "49:\tlearn: 4025.5301224\ttotal: 4.33s\tremaining: 4.33s\n",
      "50:\tlearn: 4018.2399096\ttotal: 4.42s\tremaining: 4.25s\n",
      "51:\tlearn: 4011.1110240\ttotal: 4.52s\tremaining: 4.17s\n",
      "52:\tlearn: 4003.9243098\ttotal: 4.62s\tremaining: 4.09s\n",
      "53:\tlearn: 3996.8859674\ttotal: 4.63s\tremaining: 3.94s\n",
      "54:\tlearn: 3989.8371375\ttotal: 4.72s\tremaining: 3.87s\n",
      "55:\tlearn: 3982.8799163\ttotal: 4.82s\tremaining: 3.79s\n",
      "56:\tlearn: 3975.9710412\ttotal: 4.92s\tremaining: 3.71s\n",
      "57:\tlearn: 3969.2289395\ttotal: 5.02s\tremaining: 3.63s\n",
      "58:\tlearn: 3962.4372426\ttotal: 5.11s\tremaining: 3.55s\n",
      "59:\tlearn: 3955.7763906\ttotal: 5.13s\tremaining: 3.42s\n",
      "60:\tlearn: 3949.1445950\ttotal: 5.22s\tremaining: 3.34s\n",
      "61:\tlearn: 3942.4915632\ttotal: 5.32s\tremaining: 3.26s\n",
      "62:\tlearn: 3935.9125662\ttotal: 5.42s\tremaining: 3.18s\n",
      "63:\tlearn: 3929.4174806\ttotal: 5.51s\tremaining: 3.1s\n",
      "64:\tlearn: 3922.9714540\ttotal: 5.61s\tremaining: 3.02s\n",
      "65:\tlearn: 3916.6067696\ttotal: 5.71s\tremaining: 2.94s\n",
      "66:\tlearn: 3910.3048965\ttotal: 5.72s\tremaining: 2.82s\n",
      "67:\tlearn: 3903.9378455\ttotal: 5.82s\tremaining: 2.74s\n",
      "68:\tlearn: 3897.7373565\ttotal: 5.92s\tremaining: 2.66s\n",
      "69:\tlearn: 3891.5524979\ttotal: 6.01s\tremaining: 2.58s\n",
      "70:\tlearn: 3885.3637336\ttotal: 6.11s\tremaining: 2.5s\n",
      "71:\tlearn: 3879.2885407\ttotal: 6.21s\tremaining: 2.42s\n",
      "72:\tlearn: 3873.1868031\ttotal: 6.31s\tremaining: 2.33s\n",
      "73:\tlearn: 3867.1857012\ttotal: 6.41s\tremaining: 2.25s\n",
      "74:\tlearn: 3861.2053086\ttotal: 6.51s\tremaining: 2.17s\n",
      "75:\tlearn: 3855.3196387\ttotal: 6.52s\tremaining: 2.06s\n",
      "76:\tlearn: 3849.4158430\ttotal: 6.61s\tremaining: 1.98s\n",
      "77:\tlearn: 3843.6285505\ttotal: 6.71s\tremaining: 1.89s\n",
      "78:\tlearn: 3837.8769130\ttotal: 6.81s\tremaining: 1.81s\n",
      "79:\tlearn: 3832.1031904\ttotal: 6.91s\tremaining: 1.73s\n",
      "80:\tlearn: 3826.4027253\ttotal: 7s\tremaining: 1.64s\n",
      "81:\tlearn: 3820.7075313\ttotal: 7.1s\tremaining: 1.56s\n",
      "82:\tlearn: 3815.0477235\ttotal: 7.2s\tremaining: 1.47s\n",
      "83:\tlearn: 3809.5269886\ttotal: 7.21s\tremaining: 1.37s\n",
      "84:\tlearn: 3803.9308085\ttotal: 7.31s\tremaining: 1.29s\n",
      "85:\tlearn: 3798.4262560\ttotal: 7.4s\tremaining: 1.21s\n",
      "86:\tlearn: 3792.9860099\ttotal: 7.5s\tremaining: 1.12s\n",
      "87:\tlearn: 3787.5802423\ttotal: 7.6s\tremaining: 1.04s\n",
      "88:\tlearn: 3782.1901519\ttotal: 7.7s\tremaining: 951ms\n",
      "89:\tlearn: 3776.8793179\ttotal: 7.8s\tremaining: 866ms\n",
      "90:\tlearn: 3771.5353947\ttotal: 7.89s\tremaining: 781ms\n",
      "91:\tlearn: 3766.2904511\ttotal: 7.91s\tremaining: 687ms\n",
      "92:\tlearn: 3761.0195761\ttotal: 8.01s\tremaining: 603ms\n",
      "93:\tlearn: 3755.8464100\ttotal: 8.1s\tremaining: 517ms\n",
      "94:\tlearn: 3750.6289366\ttotal: 8.2s\tremaining: 431ms\n",
      "95:\tlearn: 3745.5545983\ttotal: 8.29s\tremaining: 346ms\n",
      "96:\tlearn: 3740.4367371\ttotal: 8.39s\tremaining: 259ms\n",
      "97:\tlearn: 3735.3664145\ttotal: 8.4s\tremaining: 171ms\n",
      "98:\tlearn: 3730.3822368\ttotal: 8.5s\tremaining: 85.9ms\n",
      "99:\tlearn: 3725.4431286\ttotal: 8.6s\tremaining: 0us\n",
      "0:\tlearn: 4501.1746493\ttotal: 43.2ms\tremaining: 4.27s\n",
      "1:\tlearn: 4487.9022620\ttotal: 141ms\tremaining: 6.92s\n",
      "2:\tlearn: 4474.8557884\ttotal: 240ms\tremaining: 7.75s\n",
      "3:\tlearn: 4462.0319164\ttotal: 341ms\tremaining: 8.18s\n",
      "4:\tlearn: 4449.4273671\ttotal: 440ms\tremaining: 8.35s\n",
      "5:\tlearn: 4437.0388959\ttotal: 540ms\tremaining: 8.45s\n",
      "6:\tlearn: 4424.8992680\ttotal: 638ms\tremaining: 8.48s\n",
      "7:\tlearn: 4412.9033307\ttotal: 738ms\tremaining: 8.49s\n",
      "8:\tlearn: 4401.1500886\ttotal: 835ms\tremaining: 8.44s\n",
      "9:\tlearn: 4389.5359322\ttotal: 849ms\tremaining: 7.64s\n",
      "10:\tlearn: 4378.1584297\ttotal: 942ms\tremaining: 7.62s\n",
      "11:\tlearn: 4366.9155076\ttotal: 1.04s\tremaining: 7.61s\n",
      "12:\tlearn: 4355.9033056\ttotal: 1.13s\tremaining: 7.59s\n",
      "13:\tlearn: 4345.0212779\ttotal: 1.23s\tremaining: 7.58s\n",
      "14:\tlearn: 4334.3641438\ttotal: 1.24s\tremaining: 7.05s\n",
      "15:\tlearn: 4323.8328770\ttotal: 1.34s\tremaining: 7.04s\n",
      "16:\tlearn: 4313.4862265\ttotal: 1.44s\tremaining: 7.02s\n",
      "17:\tlearn: 4303.4195339\ttotal: 1.53s\tremaining: 6.98s\n",
      "18:\tlearn: 4293.3892179\ttotal: 1.63s\tremaining: 6.95s\n",
      "19:\tlearn: 4283.5357083\ttotal: 1.73s\tremaining: 6.92s\n",
      "20:\tlearn: 4273.8384380\ttotal: 1.74s\tremaining: 6.55s\n",
      "21:\tlearn: 4264.3066958\ttotal: 1.84s\tremaining: 6.51s\n",
      "22:\tlearn: 4254.9265978\ttotal: 1.94s\tremaining: 6.48s\n",
      "23:\tlearn: 4245.7073022\ttotal: 2.03s\tremaining: 6.43s\n",
      "24:\tlearn: 4236.6305510\ttotal: 2.13s\tremaining: 6.39s\n",
      "25:\tlearn: 4227.5203739\ttotal: 2.23s\tremaining: 6.34s\n",
      "26:\tlearn: 4218.6164775\ttotal: 2.33s\tremaining: 6.29s\n",
      "27:\tlearn: 4209.6796728\ttotal: 2.45s\tremaining: 6.31s\n",
      "28:\tlearn: 4200.9075231\ttotal: 2.57s\tremaining: 6.28s\n",
      "29:\tlearn: 4192.1499757\ttotal: 2.73s\tremaining: 6.37s\n",
      "30:\tlearn: 4183.5433921\ttotal: 2.78s\tremaining: 6.18s\n",
      "31:\tlearn: 4175.0168389\ttotal: 2.81s\tremaining: 5.97s\n",
      "32:\tlearn: 4166.3825560\ttotal: 2.9s\tremaining: 5.9s\n",
      "33:\tlearn: 4157.9389710\ttotal: 3s\tremaining: 5.83s\n",
      "34:\tlearn: 4149.6467356\ttotal: 3.1s\tremaining: 5.76s\n",
      "35:\tlearn: 4141.4671007\ttotal: 3.2s\tremaining: 5.68s\n",
      "36:\tlearn: 4133.1176950\ttotal: 3.21s\tremaining: 5.47s\n",
      "37:\tlearn: 4124.9618732\ttotal: 3.31s\tremaining: 5.4s\n",
      "38:\tlearn: 4116.8891905\ttotal: 3.4s\tremaining: 5.33s\n",
      "39:\tlearn: 4108.9617593\ttotal: 3.5s\tremaining: 5.26s\n",
      "40:\tlearn: 4100.9929804\ttotal: 3.59s\tremaining: 5.17s\n",
      "41:\tlearn: 4093.1732946\ttotal: 3.69s\tremaining: 5.1s\n",
      "42:\tlearn: 4085.3701988\ttotal: 3.79s\tremaining: 5.02s\n",
      "43:\tlearn: 4077.7078912\ttotal: 3.89s\tremaining: 4.95s\n",
      "44:\tlearn: 4070.0114639\ttotal: 3.9s\tremaining: 4.77s\n",
      "45:\tlearn: 4062.4540409\ttotal: 4s\tremaining: 4.69s\n",
      "46:\tlearn: 4054.9083455\ttotal: 4.09s\tremaining: 4.62s\n",
      "47:\tlearn: 4047.5481304\ttotal: 4.19s\tremaining: 4.54s\n",
      "48:\tlearn: 4040.1774237\ttotal: 4.29s\tremaining: 4.47s\n",
      "49:\tlearn: 4032.8907970\ttotal: 4.39s\tremaining: 4.39s\n",
      "50:\tlearn: 4025.6657213\ttotal: 4.49s\tremaining: 4.31s\n",
      "51:\tlearn: 4018.5102552\ttotal: 4.58s\tremaining: 4.23s\n",
      "52:\tlearn: 4011.3889836\ttotal: 4.68s\tremaining: 4.15s\n",
      "53:\tlearn: 4004.3749877\ttotal: 4.78s\tremaining: 4.07s\n",
      "54:\tlearn: 3997.4311336\ttotal: 4.88s\tremaining: 3.99s\n",
      "55:\tlearn: 3990.5632368\ttotal: 4.89s\tremaining: 3.84s\n",
      "56:\tlearn: 3983.7047979\ttotal: 4.99s\tremaining: 3.76s\n",
      "57:\tlearn: 3976.9597993\ttotal: 5.08s\tremaining: 3.68s\n",
      "58:\tlearn: 3970.1945525\ttotal: 5.18s\tremaining: 3.6s\n",
      "59:\tlearn: 3963.4724099\ttotal: 5.28s\tremaining: 3.52s\n",
      "60:\tlearn: 3956.8098728\ttotal: 5.37s\tremaining: 3.44s\n",
      "61:\tlearn: 3950.2592763\ttotal: 5.39s\tremaining: 3.3s\n",
      "62:\tlearn: 3943.6686646\ttotal: 5.48s\tremaining: 3.22s\n",
      "63:\tlearn: 3937.1769629\ttotal: 5.58s\tremaining: 3.14s\n",
      "64:\tlearn: 3930.7913301\ttotal: 5.68s\tremaining: 3.06s\n",
      "65:\tlearn: 3924.4304962\ttotal: 5.78s\tremaining: 2.98s\n",
      "66:\tlearn: 3918.1640067\ttotal: 5.87s\tremaining: 2.89s\n",
      "67:\tlearn: 3911.8323225\ttotal: 5.97s\tremaining: 2.81s\n",
      "68:\tlearn: 3905.5963699\ttotal: 5.98s\tremaining: 2.69s\n",
      "69:\tlearn: 3899.3826636\ttotal: 6.08s\tremaining: 2.6s\n",
      "70:\tlearn: 3893.2657521\ttotal: 6.17s\tremaining: 2.52s\n",
      "71:\tlearn: 3887.1164850\ttotal: 6.27s\tremaining: 2.44s\n",
      "72:\tlearn: 3881.0219121\ttotal: 6.37s\tremaining: 2.36s\n",
      "73:\tlearn: 3875.0323801\ttotal: 6.47s\tremaining: 2.27s\n",
      "74:\tlearn: 3869.0303406\ttotal: 6.57s\tremaining: 2.19s\n",
      "75:\tlearn: 3863.0493293\ttotal: 6.58s\tremaining: 2.08s\n",
      "76:\tlearn: 3857.1946556\ttotal: 6.67s\tremaining: 1.99s\n",
      "77:\tlearn: 3851.3952842\ttotal: 6.77s\tremaining: 1.91s\n",
      "78:\tlearn: 3845.5496555\ttotal: 6.87s\tremaining: 1.82s\n",
      "79:\tlearn: 3839.7607765\ttotal: 6.97s\tremaining: 1.74s\n",
      "80:\tlearn: 3834.0500662\ttotal: 7.07s\tremaining: 1.66s\n",
      "81:\tlearn: 3828.3694050\ttotal: 7.16s\tremaining: 1.57s\n",
      "82:\tlearn: 3822.6946122\ttotal: 7.18s\tremaining: 1.47s\n",
      "83:\tlearn: 3817.1623671\ttotal: 7.27s\tremaining: 1.38s\n",
      "84:\tlearn: 3811.5543393\ttotal: 7.37s\tremaining: 1.3s\n",
      "85:\tlearn: 3806.0931508\ttotal: 7.46s\tremaining: 1.22s\n",
      "86:\tlearn: 3800.6135598\ttotal: 7.56s\tremaining: 1.13s\n",
      "87:\tlearn: 3795.1327434\ttotal: 7.66s\tremaining: 1.04s\n",
      "88:\tlearn: 3789.6978039\ttotal: 7.76s\tremaining: 959ms\n",
      "89:\tlearn: 3784.3634418\ttotal: 7.77s\tremaining: 863ms\n",
      "90:\tlearn: 3778.9831349\ttotal: 7.87s\tremaining: 778ms\n",
      "91:\tlearn: 3773.7024458\ttotal: 7.97s\tremaining: 693ms\n",
      "92:\tlearn: 3768.5223222\ttotal: 8.06s\tremaining: 607ms\n",
      "93:\tlearn: 3763.3702641\ttotal: 8.16s\tremaining: 521ms\n",
      "94:\tlearn: 3758.1565668\ttotal: 8.26s\tremaining: 435ms\n",
      "95:\tlearn: 3753.0740452\ttotal: 8.36s\tremaining: 348ms\n",
      "96:\tlearn: 3747.9677584\ttotal: 8.45s\tremaining: 261ms\n",
      "97:\tlearn: 3742.8707020\ttotal: 8.46s\tremaining: 173ms\n",
      "98:\tlearn: 3737.8826092\ttotal: 8.56s\tremaining: 86.5ms\n",
      "99:\tlearn: 3732.8802582\ttotal: 8.66s\tremaining: 0us\n",
      "0:\tlearn: 4493.7447185\ttotal: 40.5ms\tremaining: 4.01s\n",
      "1:\tlearn: 4480.6221745\ttotal: 140ms\tremaining: 6.84s\n",
      "2:\tlearn: 4467.7233614\ttotal: 236ms\tremaining: 7.64s\n",
      "3:\tlearn: 4454.8272674\ttotal: 340ms\tremaining: 8.17s\n",
      "4:\tlearn: 4442.1514689\ttotal: 439ms\tremaining: 8.33s\n",
      "5:\tlearn: 4429.6927141\ttotal: 539ms\tremaining: 8.44s\n",
      "6:\tlearn: 4417.4477845\ttotal: 637ms\tremaining: 8.46s\n",
      "7:\tlearn: 4405.5034867\ttotal: 736ms\tremaining: 8.46s\n",
      "8:\tlearn: 4393.6465472\ttotal: 833ms\tremaining: 8.42s\n",
      "9:\tlearn: 4381.9944219\ttotal: 845ms\tremaining: 7.61s\n",
      "10:\tlearn: 4370.6037474\ttotal: 941ms\tremaining: 7.62s\n",
      "11:\tlearn: 4359.3234959\ttotal: 1.04s\tremaining: 7.61s\n",
      "12:\tlearn: 4348.2393187\ttotal: 1.14s\tremaining: 7.6s\n",
      "13:\tlearn: 4337.5705153\ttotal: 1.23s\tremaining: 7.58s\n",
      "14:\tlearn: 4326.8762230\ttotal: 1.33s\tremaining: 7.55s\n",
      "15:\tlearn: 4316.2881351\ttotal: 1.43s\tremaining: 7.52s\n",
      "16:\tlearn: 4305.8854796\ttotal: 1.53s\tremaining: 7.46s\n",
      "17:\tlearn: 4295.6938136\ttotal: 1.54s\tremaining: 7.02s\n",
      "18:\tlearn: 4285.6281400\ttotal: 1.64s\tremaining: 6.98s\n",
      "19:\tlearn: 4275.7397737\ttotal: 1.74s\tremaining: 6.95s\n",
      "20:\tlearn: 4266.0259388\ttotal: 1.83s\tremaining: 6.9s\n",
      "21:\tlearn: 4256.4838922\ttotal: 1.93s\tremaining: 6.85s\n",
      "22:\tlearn: 4247.0674286\ttotal: 2.03s\tremaining: 6.79s\n",
      "23:\tlearn: 4237.8470958\ttotal: 2.13s\tremaining: 6.74s\n",
      "24:\tlearn: 4228.7422964\ttotal: 2.22s\tremaining: 6.67s\n",
      "25:\tlearn: 4219.5511984\ttotal: 2.23s\tremaining: 6.36s\n",
      "26:\tlearn: 4210.5693900\ttotal: 2.33s\tremaining: 6.31s\n",
      "27:\tlearn: 4201.6448486\ttotal: 2.43s\tremaining: 6.25s\n",
      "28:\tlearn: 4192.8288153\ttotal: 2.53s\tremaining: 6.19s\n",
      "29:\tlearn: 4184.0276292\ttotal: 2.63s\tremaining: 6.13s\n",
      "30:\tlearn: 4175.3751515\ttotal: 2.72s\tremaining: 6.06s\n",
      "31:\tlearn: 4166.7373208\ttotal: 2.82s\tremaining: 6s\n",
      "32:\tlearn: 4158.2031729\ttotal: 2.92s\tremaining: 5.93s\n",
      "33:\tlearn: 4149.7342847\ttotal: 2.93s\tremaining: 5.69s\n",
      "34:\tlearn: 4141.3623879\ttotal: 3.03s\tremaining: 5.62s\n",
      "35:\tlearn: 4133.1406305\ttotal: 3.13s\tremaining: 5.56s\n",
      "36:\tlearn: 4124.8424904\ttotal: 3.22s\tremaining: 5.49s\n",
      "37:\tlearn: 4116.6307008\ttotal: 3.32s\tremaining: 5.42s\n",
      "38:\tlearn: 4108.5663944\ttotal: 3.42s\tremaining: 5.34s\n",
      "39:\tlearn: 4100.5957867\ttotal: 3.43s\tremaining: 5.14s\n",
      "40:\tlearn: 4092.5565081\ttotal: 3.52s\tremaining: 5.07s\n",
      "41:\tlearn: 4084.7038860\ttotal: 3.62s\tremaining: 5s\n",
      "42:\tlearn: 4076.9518344\ttotal: 3.71s\tremaining: 4.92s\n",
      "43:\tlearn: 4069.2716254\ttotal: 3.81s\tremaining: 4.85s\n",
      "44:\tlearn: 4061.5885891\ttotal: 3.83s\tremaining: 4.68s\n",
      "45:\tlearn: 4053.9955427\ttotal: 3.92s\tremaining: 4.6s\n",
      "46:\tlearn: 4046.4397399\ttotal: 4.01s\tremaining: 4.53s\n",
      "47:\tlearn: 4039.0250368\ttotal: 4.11s\tremaining: 4.45s\n",
      "48:\tlearn: 4031.5880116\ttotal: 4.21s\tremaining: 4.38s\n",
      "49:\tlearn: 4024.3304283\ttotal: 4.31s\tremaining: 4.31s\n",
      "50:\tlearn: 4017.0279734\ttotal: 4.41s\tremaining: 4.23s\n",
      "51:\tlearn: 4009.8579284\ttotal: 4.42s\tremaining: 4.08s\n",
      "52:\tlearn: 4002.7019424\ttotal: 4.51s\tremaining: 4s\n",
      "53:\tlearn: 3995.7678126\ttotal: 4.61s\tremaining: 3.93s\n",
      "54:\tlearn: 3988.7723018\ttotal: 4.71s\tremaining: 3.85s\n",
      "55:\tlearn: 3981.8900475\ttotal: 4.81s\tremaining: 3.78s\n",
      "56:\tlearn: 3974.9663912\ttotal: 4.83s\tremaining: 3.64s\n",
      "57:\tlearn: 3968.2068256\ttotal: 4.91s\tremaining: 3.56s\n",
      "58:\tlearn: 3961.4933776\ttotal: 5.01s\tremaining: 3.48s\n",
      "59:\tlearn: 3954.8033751\ttotal: 5.11s\tremaining: 3.4s\n",
      "60:\tlearn: 3948.0651166\ttotal: 5.2s\tremaining: 3.33s\n",
      "61:\tlearn: 3941.5008153\ttotal: 5.3s\tremaining: 3.25s\n",
      "62:\tlearn: 3934.8961218\ttotal: 5.4s\tremaining: 3.17s\n",
      "63:\tlearn: 3928.4761145\ttotal: 5.5s\tremaining: 3.09s\n",
      "64:\tlearn: 3922.0176786\ttotal: 5.51s\tremaining: 2.97s\n",
      "65:\tlearn: 3915.6493338\ttotal: 5.61s\tremaining: 2.89s\n",
      "66:\tlearn: 3909.2494781\ttotal: 5.71s\tremaining: 2.81s\n",
      "67:\tlearn: 3902.9667885\ttotal: 5.8s\tremaining: 2.73s\n",
      "68:\tlearn: 3896.6733013\ttotal: 5.9s\tremaining: 2.65s\n",
      "69:\tlearn: 3890.4951717\ttotal: 6s\tremaining: 2.57s\n",
      "70:\tlearn: 3884.3411406\ttotal: 6.09s\tremaining: 2.49s\n",
      "71:\tlearn: 3878.2741386\ttotal: 6.11s\tremaining: 2.38s\n",
      "72:\tlearn: 3872.1963648\ttotal: 6.2s\tremaining: 2.29s\n",
      "73:\tlearn: 3866.2250108\ttotal: 6.3s\tremaining: 2.21s\n",
      "74:\tlearn: 3860.2351121\ttotal: 6.4s\tremaining: 2.13s\n",
      "75:\tlearn: 3854.2836907\ttotal: 6.5s\tremaining: 2.05s\n",
      "76:\tlearn: 3848.4280296\ttotal: 6.59s\tremaining: 1.97s\n",
      "77:\tlearn: 3842.6076499\ttotal: 6.69s\tremaining: 1.89s\n",
      "78:\tlearn: 3836.7411139\ttotal: 6.7s\tremaining: 1.78s\n",
      "79:\tlearn: 3830.9826015\ttotal: 6.8s\tremaining: 1.7s\n",
      "80:\tlearn: 3825.2791426\ttotal: 6.9s\tremaining: 1.62s\n",
      "81:\tlearn: 3819.5793953\ttotal: 6.99s\tremaining: 1.53s\n",
      "82:\tlearn: 3813.9660617\ttotal: 7.09s\tremaining: 1.45s\n",
      "83:\tlearn: 3808.4561927\ttotal: 7.19s\tremaining: 1.37s\n",
      "84:\tlearn: 3802.8675723\ttotal: 7.2s\tremaining: 1.27s\n",
      "85:\tlearn: 3797.3813269\ttotal: 7.3s\tremaining: 1.19s\n",
      "86:\tlearn: 3791.9817086\ttotal: 7.39s\tremaining: 1.1s\n",
      "87:\tlearn: 3786.5742887\ttotal: 7.49s\tremaining: 1.02s\n",
      "88:\tlearn: 3781.1552829\ttotal: 7.59s\tremaining: 938ms\n",
      "89:\tlearn: 3775.8506835\ttotal: 7.69s\tremaining: 854ms\n",
      "90:\tlearn: 3770.5516603\ttotal: 7.79s\tremaining: 770ms\n",
      "91:\tlearn: 3765.3815213\ttotal: 7.88s\tremaining: 686ms\n",
      "92:\tlearn: 3760.1701441\ttotal: 7.98s\tremaining: 601ms\n",
      "93:\tlearn: 3755.0075701\ttotal: 7.99s\tremaining: 510ms\n",
      "94:\tlearn: 3749.8189712\ttotal: 8.09s\tremaining: 426ms\n",
      "95:\tlearn: 3744.7521427\ttotal: 8.18s\tremaining: 341ms\n",
      "96:\tlearn: 3739.6231187\ttotal: 8.28s\tremaining: 256ms\n",
      "97:\tlearn: 3734.5893243\ttotal: 8.38s\tremaining: 171ms\n",
      "98:\tlearn: 3729.6268144\ttotal: 8.39s\tremaining: 84.8ms\n",
      "99:\tlearn: 3724.6164015\ttotal: 8.49s\tremaining: 0us\n",
      "0:\tlearn: 4256.6527841\ttotal: 42.8ms\tremaining: 4.24s\n",
      "1:\tlearn: 4079.2686399\ttotal: 139ms\tremaining: 6.82s\n",
      "2:\tlearn: 3913.4869984\ttotal: 152ms\tremaining: 4.9s\n",
      "3:\tlearn: 3797.7761307\ttotal: 249ms\tremaining: 5.97s\n",
      "4:\tlearn: 3684.0560301\ttotal: 347ms\tremaining: 6.6s\n",
      "5:\tlearn: 3590.0829352\ttotal: 450ms\tremaining: 7.05s\n",
      "6:\tlearn: 3508.7667346\ttotal: 636ms\tremaining: 8.45s\n",
      "7:\tlearn: 3436.8472340\ttotal: 650ms\tremaining: 7.47s\n",
      "8:\tlearn: 3372.9191307\ttotal: 747ms\tremaining: 7.55s\n",
      "9:\tlearn: 3321.0732239\ttotal: 845ms\tremaining: 7.61s\n",
      "10:\tlearn: 3270.1145366\ttotal: 945ms\tremaining: 7.65s\n",
      "11:\tlearn: 3224.6605486\ttotal: 1.04s\tremaining: 7.65s\n",
      "12:\tlearn: 3177.3092194\ttotal: 1.14s\tremaining: 7.65s\n",
      "13:\tlearn: 3139.0112669\ttotal: 1.24s\tremaining: 7.63s\n",
      "14:\tlearn: 3104.2670622\ttotal: 1.34s\tremaining: 7.59s\n",
      "15:\tlearn: 3068.7860979\ttotal: 1.44s\tremaining: 7.54s\n",
      "16:\tlearn: 3034.7088219\ttotal: 1.54s\tremaining: 7.5s\n",
      "17:\tlearn: 2999.5260382\ttotal: 1.63s\tremaining: 7.44s\n",
      "18:\tlearn: 2967.1997113\ttotal: 1.73s\tremaining: 7.38s\n",
      "19:\tlearn: 2935.0984169\ttotal: 1.83s\tremaining: 7.32s\n",
      "20:\tlearn: 2908.8616372\ttotal: 1.93s\tremaining: 7.25s\n",
      "21:\tlearn: 2880.5503909\ttotal: 1.94s\tremaining: 6.88s\n",
      "22:\tlearn: 2856.8920588\ttotal: 2.04s\tremaining: 6.81s\n",
      "23:\tlearn: 2811.3034690\ttotal: 2.13s\tremaining: 6.76s\n",
      "24:\tlearn: 2781.8837460\ttotal: 2.23s\tremaining: 6.69s\n",
      "25:\tlearn: 2758.5518551\ttotal: 2.33s\tremaining: 6.62s\n",
      "26:\tlearn: 2738.0599239\ttotal: 2.43s\tremaining: 6.56s\n",
      "27:\tlearn: 2717.9691065\ttotal: 2.52s\tremaining: 6.49s\n",
      "28:\tlearn: 2701.0853324\ttotal: 2.54s\tremaining: 6.21s\n",
      "29:\tlearn: 2684.0669168\ttotal: 2.63s\tremaining: 6.15s\n",
      "30:\tlearn: 2669.7853470\ttotal: 2.73s\tremaining: 6.07s\n",
      "31:\tlearn: 2656.9112023\ttotal: 2.83s\tremaining: 6.01s\n",
      "32:\tlearn: 2643.0085780\ttotal: 2.92s\tremaining: 5.94s\n",
      "33:\tlearn: 2628.3401284\ttotal: 3.02s\tremaining: 5.87s\n",
      "34:\tlearn: 2615.9535319\ttotal: 3.12s\tremaining: 5.8s\n",
      "35:\tlearn: 2603.6924686\ttotal: 3.22s\tremaining: 5.72s\n",
      "36:\tlearn: 2592.3370220\ttotal: 3.23s\tremaining: 5.5s\n",
      "37:\tlearn: 2580.1135434\ttotal: 3.33s\tremaining: 5.43s\n",
      "38:\tlearn: 2568.5271954\ttotal: 3.42s\tremaining: 5.36s\n",
      "39:\tlearn: 2557.7179331\ttotal: 3.52s\tremaining: 5.28s\n",
      "40:\tlearn: 2547.5992115\ttotal: 3.62s\tremaining: 5.21s\n",
      "41:\tlearn: 2538.5068470\ttotal: 3.72s\tremaining: 5.13s\n",
      "42:\tlearn: 2530.1753208\ttotal: 3.73s\tremaining: 4.94s\n",
      "43:\tlearn: 2521.4695634\ttotal: 3.83s\tremaining: 4.87s\n",
      "44:\tlearn: 2513.8154882\ttotal: 3.92s\tremaining: 4.79s\n",
      "45:\tlearn: 2505.9074716\ttotal: 4.02s\tremaining: 4.72s\n",
      "46:\tlearn: 2498.4762142\ttotal: 4.12s\tremaining: 4.64s\n",
      "47:\tlearn: 2491.3281722\ttotal: 4.21s\tremaining: 4.57s\n",
      "48:\tlearn: 2483.2515778\ttotal: 4.31s\tremaining: 4.49s\n",
      "49:\tlearn: 2476.2287493\ttotal: 4.41s\tremaining: 4.41s\n",
      "50:\tlearn: 2469.0122665\ttotal: 4.51s\tremaining: 4.33s\n",
      "51:\tlearn: 2462.6996676\ttotal: 4.61s\tremaining: 4.25s\n",
      "52:\tlearn: 2456.7428814\ttotal: 4.62s\tremaining: 4.1s\n",
      "53:\tlearn: 2450.4239650\ttotal: 4.72s\tremaining: 4.02s\n",
      "54:\tlearn: 2444.6546287\ttotal: 4.81s\tremaining: 3.94s\n",
      "55:\tlearn: 2439.0847296\ttotal: 4.91s\tremaining: 3.86s\n",
      "56:\tlearn: 2433.6292125\ttotal: 5.01s\tremaining: 3.78s\n",
      "57:\tlearn: 2428.6029978\ttotal: 5.11s\tremaining: 3.7s\n",
      "58:\tlearn: 2423.7119172\ttotal: 5.21s\tremaining: 3.62s\n",
      "59:\tlearn: 2419.2257281\ttotal: 5.3s\tremaining: 3.54s\n",
      "60:\tlearn: 2414.9812100\ttotal: 5.32s\tremaining: 3.4s\n",
      "61:\tlearn: 2410.9137690\ttotal: 5.41s\tremaining: 3.32s\n",
      "62:\tlearn: 2406.7578742\ttotal: 5.51s\tremaining: 3.23s\n",
      "63:\tlearn: 2402.3703226\ttotal: 5.6s\tremaining: 3.15s\n",
      "64:\tlearn: 2398.4574133\ttotal: 5.7s\tremaining: 3.07s\n",
      "65:\tlearn: 2394.4818726\ttotal: 5.8s\tremaining: 2.99s\n",
      "66:\tlearn: 2390.6858438\ttotal: 5.81s\tremaining: 2.86s\n",
      "67:\tlearn: 2386.9394196\ttotal: 5.91s\tremaining: 2.78s\n",
      "68:\tlearn: 2383.4169251\ttotal: 6s\tremaining: 2.7s\n",
      "69:\tlearn: 2380.1708376\ttotal: 6.1s\tremaining: 2.61s\n",
      "70:\tlearn: 2376.9747378\ttotal: 6.2s\tremaining: 2.53s\n",
      "71:\tlearn: 2373.8687785\ttotal: 6.21s\tremaining: 2.42s\n",
      "72:\tlearn: 2370.7618084\ttotal: 6.31s\tremaining: 2.33s\n",
      "73:\tlearn: 2367.9506614\ttotal: 6.4s\tremaining: 2.25s\n",
      "74:\tlearn: 2365.1231459\ttotal: 6.5s\tremaining: 2.17s\n",
      "75:\tlearn: 2362.4816577\ttotal: 6.6s\tremaining: 2.08s\n",
      "76:\tlearn: 2359.6917965\ttotal: 6.7s\tremaining: 2s\n",
      "77:\tlearn: 2357.2467228\ttotal: 6.71s\tremaining: 1.89s\n",
      "78:\tlearn: 2354.8364881\ttotal: 6.8s\tremaining: 1.81s\n",
      "79:\tlearn: 2352.3705000\ttotal: 6.89s\tremaining: 1.72s\n",
      "80:\tlearn: 2349.9532228\ttotal: 6.99s\tremaining: 1.64s\n",
      "81:\tlearn: 2347.6995712\ttotal: 7.09s\tremaining: 1.56s\n",
      "82:\tlearn: 2345.4531678\ttotal: 7.19s\tremaining: 1.47s\n",
      "83:\tlearn: 2343.3694045\ttotal: 7.2s\tremaining: 1.37s\n",
      "84:\tlearn: 2341.2820345\ttotal: 7.3s\tremaining: 1.29s\n",
      "85:\tlearn: 2339.2219103\ttotal: 7.39s\tremaining: 1.2s\n",
      "86:\tlearn: 2337.2624135\ttotal: 7.49s\tremaining: 1.12s\n",
      "87:\tlearn: 2335.2639111\ttotal: 7.59s\tremaining: 1.03s\n",
      "88:\tlearn: 2333.3841065\ttotal: 7.69s\tremaining: 950ms\n",
      "89:\tlearn: 2331.6160514\ttotal: 7.7s\tremaining: 855ms\n",
      "90:\tlearn: 2329.7997564\ttotal: 7.79s\tremaining: 771ms\n",
      "91:\tlearn: 2328.1594349\ttotal: 7.89s\tremaining: 686ms\n",
      "92:\tlearn: 2326.5597476\ttotal: 7.98s\tremaining: 601ms\n",
      "93:\tlearn: 2325.0953061\ttotal: 8.08s\tremaining: 516ms\n",
      "94:\tlearn: 2323.4756132\ttotal: 8.09s\tremaining: 426ms\n",
      "95:\tlearn: 2321.8959596\ttotal: 8.19s\tremaining: 341ms\n",
      "96:\tlearn: 2320.3398433\ttotal: 8.29s\tremaining: 256ms\n",
      "97:\tlearn: 2318.8207316\ttotal: 8.38s\tremaining: 171ms\n",
      "98:\tlearn: 2317.3571083\ttotal: 8.48s\tremaining: 85.7ms\n",
      "99:\tlearn: 2315.9202710\ttotal: 8.49s\tremaining: 0us\n",
      "0:\tlearn: 4263.8244234\ttotal: 53.6ms\tremaining: 5.3s\n",
      "1:\tlearn: 4085.3436523\ttotal: 152ms\tremaining: 7.43s\n",
      "2:\tlearn: 3917.0143277\ttotal: 248ms\tremaining: 8.03s\n",
      "3:\tlearn: 3797.4066028\ttotal: 352ms\tremaining: 8.44s\n",
      "4:\tlearn: 3685.7134856\ttotal: 451ms\tremaining: 8.56s\n",
      "5:\tlearn: 3592.6279720\ttotal: 551ms\tremaining: 8.63s\n",
      "6:\tlearn: 3503.9080883\ttotal: 650ms\tremaining: 8.63s\n",
      "7:\tlearn: 3432.9872045\ttotal: 749ms\tremaining: 8.61s\n",
      "8:\tlearn: 3367.6051492\ttotal: 760ms\tremaining: 7.68s\n",
      "9:\tlearn: 3315.7645710\ttotal: 857ms\tremaining: 7.71s\n",
      "10:\tlearn: 3263.6685596\ttotal: 954ms\tremaining: 7.72s\n",
      "11:\tlearn: 3214.7491887\ttotal: 1.06s\tremaining: 7.75s\n",
      "12:\tlearn: 3167.3499317\ttotal: 1.15s\tremaining: 7.7s\n",
      "13:\tlearn: 3129.0230424\ttotal: 1.25s\tremaining: 7.66s\n",
      "14:\tlearn: 3091.7290985\ttotal: 1.35s\tremaining: 7.64s\n",
      "15:\tlearn: 3054.9617073\ttotal: 1.44s\tremaining: 7.57s\n",
      "16:\tlearn: 3021.1804062\ttotal: 1.54s\tremaining: 7.51s\n",
      "17:\tlearn: 2987.1051210\ttotal: 1.55s\tremaining: 7.07s\n",
      "18:\tlearn: 2956.5487346\ttotal: 1.65s\tremaining: 7.02s\n",
      "19:\tlearn: 2923.9134877\ttotal: 1.75s\tremaining: 6.99s\n",
      "20:\tlearn: 2897.3490651\ttotal: 1.84s\tremaining: 6.94s\n",
      "21:\tlearn: 2870.2878214\ttotal: 1.94s\tremaining: 6.88s\n",
      "22:\tlearn: 2844.9906682\ttotal: 2.04s\tremaining: 6.83s\n",
      "23:\tlearn: 2801.6591131\ttotal: 2.14s\tremaining: 6.78s\n",
      "24:\tlearn: 2771.9400741\ttotal: 2.24s\tremaining: 6.71s\n",
      "25:\tlearn: 2748.3646861\ttotal: 2.33s\tremaining: 6.64s\n",
      "26:\tlearn: 2727.7973207\ttotal: 2.35s\tremaining: 6.35s\n",
      "27:\tlearn: 2708.6687599\ttotal: 2.44s\tremaining: 6.28s\n",
      "28:\tlearn: 2691.8334031\ttotal: 2.54s\tremaining: 6.21s\n",
      "29:\tlearn: 2675.5193588\ttotal: 2.63s\tremaining: 6.14s\n",
      "30:\tlearn: 2661.8222245\ttotal: 2.73s\tremaining: 6.08s\n",
      "31:\tlearn: 2648.4445043\ttotal: 2.75s\tremaining: 5.84s\n",
      "32:\tlearn: 2633.2449224\ttotal: 2.84s\tremaining: 5.76s\n",
      "33:\tlearn: 2619.8561510\ttotal: 2.94s\tremaining: 5.7s\n",
      "34:\tlearn: 2607.5250410\ttotal: 3.03s\tremaining: 5.63s\n",
      "35:\tlearn: 2595.8266917\ttotal: 3.13s\tremaining: 5.56s\n",
      "36:\tlearn: 2583.7202550\ttotal: 3.23s\tremaining: 5.5s\n",
      "37:\tlearn: 2572.3743127\ttotal: 3.33s\tremaining: 5.43s\n",
      "38:\tlearn: 2560.9952018\ttotal: 3.34s\tremaining: 5.22s\n",
      "39:\tlearn: 2550.2271373\ttotal: 3.43s\tremaining: 5.15s\n",
      "40:\tlearn: 2539.7427597\ttotal: 3.53s\tremaining: 5.08s\n",
      "41:\tlearn: 2530.3067133\ttotal: 3.63s\tremaining: 5.01s\n",
      "42:\tlearn: 2521.5355178\ttotal: 3.64s\tremaining: 4.82s\n",
      "43:\tlearn: 2512.6259704\ttotal: 3.73s\tremaining: 4.75s\n",
      "44:\tlearn: 2504.5498710\ttotal: 3.83s\tremaining: 4.68s\n",
      "45:\tlearn: 2495.9118272\ttotal: 3.93s\tremaining: 4.61s\n",
      "46:\tlearn: 2488.1135591\ttotal: 4.02s\tremaining: 4.54s\n",
      "47:\tlearn: 2479.7481562\ttotal: 4.12s\tremaining: 4.46s\n",
      "48:\tlearn: 2472.3079636\ttotal: 4.22s\tremaining: 4.39s\n",
      "49:\tlearn: 2465.2700421\ttotal: 4.23s\tremaining: 4.23s\n",
      "50:\tlearn: 2458.6510273\ttotal: 4.33s\tremaining: 4.16s\n",
      "51:\tlearn: 2453.0395953\ttotal: 4.42s\tremaining: 4.08s\n",
      "52:\tlearn: 2447.2803117\ttotal: 4.52s\tremaining: 4.01s\n",
      "53:\tlearn: 2441.4376065\ttotal: 4.62s\tremaining: 3.93s\n",
      "54:\tlearn: 2435.3873106\ttotal: 4.71s\tremaining: 3.86s\n",
      "55:\tlearn: 2428.7134207\ttotal: 4.73s\tremaining: 3.71s\n",
      "56:\tlearn: 2423.5304950\ttotal: 4.82s\tremaining: 3.64s\n",
      "57:\tlearn: 2418.0581348\ttotal: 4.92s\tremaining: 3.56s\n",
      "58:\tlearn: 2413.2096540\ttotal: 5.01s\tremaining: 3.48s\n",
      "59:\tlearn: 2408.8375919\ttotal: 5.11s\tremaining: 3.41s\n",
      "60:\tlearn: 2404.4852331\ttotal: 5.21s\tremaining: 3.33s\n",
      "61:\tlearn: 2399.8966249\ttotal: 5.23s\tremaining: 3.21s\n",
      "62:\tlearn: 2395.6737696\ttotal: 5.32s\tremaining: 3.12s\n",
      "63:\tlearn: 2391.5828102\ttotal: 5.42s\tremaining: 3.05s\n",
      "64:\tlearn: 2387.6398717\ttotal: 5.51s\tremaining: 2.97s\n",
      "65:\tlearn: 2383.6624183\ttotal: 5.61s\tremaining: 2.89s\n",
      "66:\tlearn: 2380.0001342\ttotal: 5.71s\tremaining: 2.81s\n",
      "67:\tlearn: 2376.0804975\ttotal: 5.8s\tremaining: 2.73s\n",
      "68:\tlearn: 2372.7462214\ttotal: 5.82s\tremaining: 2.61s\n",
      "69:\tlearn: 2369.4032662\ttotal: 5.91s\tremaining: 2.53s\n",
      "70:\tlearn: 2366.3214419\ttotal: 6.01s\tremaining: 2.46s\n",
      "71:\tlearn: 2363.1802549\ttotal: 6.11s\tremaining: 2.38s\n",
      "72:\tlearn: 2360.1441776\ttotal: 6.21s\tremaining: 2.29s\n",
      "73:\tlearn: 2357.0540800\ttotal: 6.3s\tremaining: 2.21s\n",
      "74:\tlearn: 2354.2783487\ttotal: 6.4s\tremaining: 2.13s\n",
      "75:\tlearn: 2351.6282309\ttotal: 6.41s\tremaining: 2.02s\n",
      "76:\tlearn: 2348.8876346\ttotal: 6.51s\tremaining: 1.94s\n",
      "77:\tlearn: 2346.3876100\ttotal: 6.61s\tremaining: 1.86s\n",
      "78:\tlearn: 2344.1232052\ttotal: 6.7s\tremaining: 1.78s\n",
      "79:\tlearn: 2341.7098510\ttotal: 6.8s\tremaining: 1.7s\n",
      "80:\tlearn: 2339.4356289\ttotal: 6.9s\tremaining: 1.62s\n",
      "81:\tlearn: 2337.0463054\ttotal: 7s\tremaining: 1.53s\n",
      "82:\tlearn: 2334.8306830\ttotal: 7.01s\tremaining: 1.44s\n",
      "83:\tlearn: 2332.6511611\ttotal: 7.11s\tremaining: 1.35s\n",
      "84:\tlearn: 2330.5793457\ttotal: 7.2s\tremaining: 1.27s\n",
      "85:\tlearn: 2328.5209047\ttotal: 7.3s\tremaining: 1.19s\n",
      "86:\tlearn: 2326.5992974\ttotal: 7.4s\tremaining: 1.1s\n",
      "87:\tlearn: 2324.7013797\ttotal: 7.41s\tremaining: 1.01s\n",
      "88:\tlearn: 2322.8059997\ttotal: 7.5s\tremaining: 927ms\n",
      "89:\tlearn: 2321.1159323\ttotal: 7.6s\tremaining: 844ms\n",
      "90:\tlearn: 2319.4320309\ttotal: 7.7s\tremaining: 761ms\n",
      "91:\tlearn: 2317.6233936\ttotal: 7.79s\tremaining: 678ms\n",
      "92:\tlearn: 2316.0610036\ttotal: 7.89s\tremaining: 594ms\n",
      "93:\tlearn: 2314.5068447\ttotal: 7.91s\tremaining: 505ms\n",
      "94:\tlearn: 2312.9308584\ttotal: 8s\tremaining: 421ms\n",
      "95:\tlearn: 2311.5869622\ttotal: 8.09s\tremaining: 337ms\n",
      "96:\tlearn: 2310.1937093\ttotal: 8.19s\tremaining: 253ms\n",
      "97:\tlearn: 2308.8002358\ttotal: 8.29s\tremaining: 169ms\n",
      "98:\tlearn: 2307.3741776\ttotal: 8.39s\tremaining: 84.7ms\n",
      "99:\tlearn: 2305.9712315\ttotal: 8.4s\tremaining: 0us\n",
      "0:\tlearn: 4261.5459514\ttotal: 61.8ms\tremaining: 6.12s\n",
      "1:\tlearn: 4081.5756780\ttotal: 161ms\tremaining: 7.9s\n",
      "2:\tlearn: 3915.2027147\ttotal: 258ms\tremaining: 8.33s\n",
      "3:\tlearn: 3797.8640945\ttotal: 360ms\tremaining: 8.64s\n",
      "4:\tlearn: 3687.9569615\ttotal: 459ms\tremaining: 8.72s\n",
      "5:\tlearn: 3596.9456735\ttotal: 559ms\tremaining: 8.76s\n",
      "6:\tlearn: 3508.5018667\ttotal: 659ms\tremaining: 8.76s\n",
      "7:\tlearn: 3436.9950629\ttotal: 670ms\tremaining: 7.71s\n",
      "8:\tlearn: 3373.6818729\ttotal: 766ms\tremaining: 7.75s\n",
      "9:\tlearn: 3319.9965992\ttotal: 866ms\tremaining: 7.79s\n",
      "10:\tlearn: 3267.1857985\ttotal: 963ms\tremaining: 7.79s\n",
      "11:\tlearn: 3220.8682531\ttotal: 1.06s\tremaining: 7.78s\n",
      "12:\tlearn: 3174.4275057\ttotal: 1.16s\tremaining: 7.75s\n",
      "13:\tlearn: 3134.7555872\ttotal: 1.25s\tremaining: 7.71s\n",
      "14:\tlearn: 3096.9254423\ttotal: 1.35s\tremaining: 7.67s\n",
      "15:\tlearn: 3060.6123891\ttotal: 1.45s\tremaining: 7.63s\n",
      "16:\tlearn: 3023.9831785\ttotal: 1.55s\tremaining: 7.56s\n",
      "17:\tlearn: 2990.9325227\ttotal: 1.56s\tremaining: 7.12s\n",
      "18:\tlearn: 2960.4629932\ttotal: 1.66s\tremaining: 7.07s\n",
      "19:\tlearn: 2927.2070233\ttotal: 1.76s\tremaining: 7.03s\n",
      "20:\tlearn: 2899.3239778\ttotal: 1.85s\tremaining: 6.97s\n",
      "21:\tlearn: 2873.0576949\ttotal: 1.95s\tremaining: 6.92s\n",
      "22:\tlearn: 2828.1102891\ttotal: 2.05s\tremaining: 6.86s\n",
      "23:\tlearn: 2797.4380197\ttotal: 2.15s\tremaining: 6.79s\n",
      "24:\tlearn: 2774.4897529\ttotal: 2.16s\tremaining: 6.48s\n",
      "25:\tlearn: 2753.9358528\ttotal: 2.25s\tremaining: 6.41s\n",
      "26:\tlearn: 2734.3998380\ttotal: 2.35s\tremaining: 6.35s\n",
      "27:\tlearn: 2712.7836490\ttotal: 2.45s\tremaining: 6.3s\n",
      "28:\tlearn: 2697.3340577\ttotal: 2.55s\tremaining: 6.24s\n",
      "29:\tlearn: 2681.1016401\ttotal: 2.65s\tremaining: 6.17s\n",
      "30:\tlearn: 2665.5224133\ttotal: 2.74s\tremaining: 6.11s\n",
      "31:\tlearn: 2651.7636940\ttotal: 2.84s\tremaining: 6.04s\n",
      "32:\tlearn: 2637.3469331\ttotal: 2.85s\tremaining: 5.8s\n",
      "33:\tlearn: 2623.8071556\ttotal: 2.95s\tremaining: 5.73s\n",
      "34:\tlearn: 2610.4290318\ttotal: 3.05s\tremaining: 5.66s\n",
      "35:\tlearn: 2597.8302206\ttotal: 3.15s\tremaining: 5.6s\n",
      "36:\tlearn: 2586.0366950\ttotal: 3.24s\tremaining: 5.52s\n",
      "37:\tlearn: 2574.2549178\ttotal: 3.34s\tremaining: 5.45s\n",
      "38:\tlearn: 2564.6237752\ttotal: 3.44s\tremaining: 5.38s\n",
      "39:\tlearn: 2554.3991137\ttotal: 3.45s\tremaining: 5.18s\n",
      "40:\tlearn: 2543.3222877\ttotal: 3.56s\tremaining: 5.13s\n",
      "41:\tlearn: 2533.8695528\ttotal: 3.64s\tremaining: 5.03s\n",
      "42:\tlearn: 2525.1639225\ttotal: 3.74s\tremaining: 4.96s\n",
      "43:\tlearn: 2515.7642089\ttotal: 3.84s\tremaining: 4.89s\n",
      "44:\tlearn: 2506.6899664\ttotal: 3.93s\tremaining: 4.81s\n",
      "45:\tlearn: 2498.9233464\ttotal: 4.03s\tremaining: 4.73s\n",
      "46:\tlearn: 2490.8674327\ttotal: 4.05s\tremaining: 4.56s\n",
      "47:\tlearn: 2483.9386786\ttotal: 4.14s\tremaining: 4.49s\n",
      "48:\tlearn: 2477.3184160\ttotal: 4.24s\tremaining: 4.41s\n",
      "49:\tlearn: 2469.9667088\ttotal: 4.33s\tremaining: 4.33s\n",
      "50:\tlearn: 2462.3566650\ttotal: 4.43s\tremaining: 4.26s\n",
      "51:\tlearn: 2455.9521749\ttotal: 4.44s\tremaining: 4.1s\n",
      "52:\tlearn: 2449.7105609\ttotal: 4.54s\tremaining: 4.03s\n",
      "53:\tlearn: 2443.4898897\ttotal: 4.64s\tremaining: 3.95s\n",
      "54:\tlearn: 2436.9288558\ttotal: 4.73s\tremaining: 3.87s\n",
      "55:\tlearn: 2431.0480391\ttotal: 4.83s\tremaining: 3.8s\n",
      "56:\tlearn: 2425.8711241\ttotal: 4.93s\tremaining: 3.72s\n",
      "57:\tlearn: 2420.7889805\ttotal: 5.03s\tremaining: 3.64s\n",
      "58:\tlearn: 2415.2186597\ttotal: 5.04s\tremaining: 3.5s\n",
      "59:\tlearn: 2410.6432736\ttotal: 5.13s\tremaining: 3.42s\n",
      "60:\tlearn: 2406.1690675\ttotal: 5.23s\tremaining: 3.35s\n",
      "61:\tlearn: 2401.6499416\ttotal: 5.33s\tremaining: 3.27s\n",
      "62:\tlearn: 2396.9451048\ttotal: 5.42s\tremaining: 3.19s\n",
      "63:\tlearn: 2392.7684836\ttotal: 5.52s\tremaining: 3.11s\n",
      "64:\tlearn: 2388.7429507\ttotal: 5.62s\tremaining: 3.03s\n",
      "65:\tlearn: 2384.8210226\ttotal: 5.64s\tremaining: 2.9s\n",
      "66:\tlearn: 2381.0922059\ttotal: 5.73s\tremaining: 2.82s\n",
      "67:\tlearn: 2377.3050107\ttotal: 5.83s\tremaining: 2.74s\n",
      "68:\tlearn: 2373.9651685\ttotal: 5.93s\tremaining: 2.66s\n",
      "69:\tlearn: 2370.6549352\ttotal: 6.02s\tremaining: 2.58s\n",
      "70:\tlearn: 2367.3576096\ttotal: 6.12s\tremaining: 2.5s\n",
      "71:\tlearn: 2364.6344581\ttotal: 6.22s\tremaining: 2.42s\n",
      "72:\tlearn: 2361.4734852\ttotal: 6.24s\tremaining: 2.31s\n",
      "73:\tlearn: 2358.6840768\ttotal: 6.33s\tremaining: 2.23s\n",
      "74:\tlearn: 2355.7568710\ttotal: 6.43s\tremaining: 2.14s\n",
      "75:\tlearn: 2352.8797850\ttotal: 6.52s\tremaining: 2.06s\n",
      "76:\tlearn: 2350.2535617\ttotal: 6.62s\tremaining: 1.98s\n",
      "77:\tlearn: 2347.5588467\ttotal: 6.71s\tremaining: 1.89s\n",
      "78:\tlearn: 2345.0978853\ttotal: 6.73s\tremaining: 1.79s\n",
      "79:\tlearn: 2342.5415760\ttotal: 6.82s\tremaining: 1.71s\n",
      "80:\tlearn: 2340.1744784\ttotal: 6.92s\tremaining: 1.62s\n",
      "81:\tlearn: 2337.8164119\ttotal: 7.02s\tremaining: 1.54s\n",
      "82:\tlearn: 2335.6262182\ttotal: 7.11s\tremaining: 1.46s\n",
      "83:\tlearn: 2333.4488655\ttotal: 7.21s\tremaining: 1.37s\n",
      "84:\tlearn: 2331.3725176\ttotal: 7.22s\tremaining: 1.27s\n",
      "85:\tlearn: 2329.3504300\ttotal: 7.32s\tremaining: 1.19s\n",
      "86:\tlearn: 2327.3587607\ttotal: 7.41s\tremaining: 1.11s\n",
      "87:\tlearn: 2325.2767621\ttotal: 7.51s\tremaining: 1.02s\n",
      "88:\tlearn: 2323.3311235\ttotal: 7.61s\tremaining: 940ms\n",
      "89:\tlearn: 2321.5492179\ttotal: 7.62s\tremaining: 847ms\n",
      "90:\tlearn: 2319.7590874\ttotal: 7.72s\tremaining: 763ms\n",
      "91:\tlearn: 2318.0225835\ttotal: 7.82s\tremaining: 680ms\n",
      "92:\tlearn: 2316.3408185\ttotal: 7.91s\tremaining: 596ms\n",
      "93:\tlearn: 2314.7042629\ttotal: 8.01s\tremaining: 511ms\n",
      "94:\tlearn: 2313.1077777\ttotal: 8.11s\tremaining: 427ms\n",
      "95:\tlearn: 2311.5057147\ttotal: 8.2s\tremaining: 342ms\n",
      "96:\tlearn: 2309.9940223\ttotal: 8.21s\tremaining: 254ms\n",
      "97:\tlearn: 2308.4114027\ttotal: 8.31s\tremaining: 170ms\n",
      "98:\tlearn: 2307.0217628\ttotal: 8.42s\tremaining: 85ms\n",
      "99:\tlearn: 2305.7163190\ttotal: 8.51s\tremaining: 0us\n",
      "0:\tlearn: 4267.4332747\ttotal: 45.4ms\tremaining: 4.49s\n",
      "1:\tlearn: 4088.2166691\ttotal: 137ms\tremaining: 6.72s\n",
      "2:\tlearn: 3923.1408836\ttotal: 233ms\tremaining: 7.53s\n",
      "3:\tlearn: 3805.4577585\ttotal: 337ms\tremaining: 8.08s\n",
      "4:\tlearn: 3692.8001818\ttotal: 434ms\tremaining: 8.24s\n",
      "5:\tlearn: 3598.0203457\ttotal: 535ms\tremaining: 8.39s\n",
      "6:\tlearn: 3517.7121672\ttotal: 632ms\tremaining: 8.39s\n",
      "7:\tlearn: 3446.2290919\ttotal: 648ms\tremaining: 7.45s\n",
      "8:\tlearn: 3383.1954956\ttotal: 745ms\tremaining: 7.54s\n",
      "9:\tlearn: 3329.5274883\ttotal: 849ms\tremaining: 7.64s\n",
      "10:\tlearn: 3276.0488371\ttotal: 940ms\tremaining: 7.61s\n",
      "11:\tlearn: 3230.3828561\ttotal: 1.03s\tremaining: 7.59s\n",
      "12:\tlearn: 3183.0580152\ttotal: 1.14s\tremaining: 7.6s\n",
      "13:\tlearn: 3142.1271464\ttotal: 1.21s\tremaining: 7.43s\n",
      "14:\tlearn: 3104.2869128\ttotal: 1.31s\tremaining: 7.42s\n",
      "15:\tlearn: 3068.7846258\ttotal: 1.32s\tremaining: 6.95s\n",
      "16:\tlearn: 3031.5634008\ttotal: 1.42s\tremaining: 6.93s\n",
      "17:\tlearn: 2999.0358905\ttotal: 1.51s\tremaining: 6.9s\n",
      "18:\tlearn: 2968.3731123\ttotal: 1.61s\tremaining: 6.86s\n",
      "19:\tlearn: 2935.3514169\ttotal: 1.71s\tremaining: 6.83s\n",
      "20:\tlearn: 2907.9716276\ttotal: 1.8s\tremaining: 6.79s\n",
      "21:\tlearn: 2879.9953980\ttotal: 1.82s\tremaining: 6.46s\n",
      "22:\tlearn: 2855.4342130\ttotal: 1.92s\tremaining: 6.41s\n",
      "23:\tlearn: 2814.5332513\ttotal: 2.02s\tremaining: 6.38s\n",
      "24:\tlearn: 2786.1105704\ttotal: 2.11s\tremaining: 6.33s\n",
      "25:\tlearn: 2763.4083463\ttotal: 2.21s\tremaining: 6.29s\n",
      "26:\tlearn: 2743.8980726\ttotal: 2.31s\tremaining: 6.24s\n",
      "27:\tlearn: 2722.5248110\ttotal: 2.41s\tremaining: 6.19s\n",
      "28:\tlearn: 2706.2269157\ttotal: 2.5s\tremaining: 6.13s\n",
      "29:\tlearn: 2688.8363593\ttotal: 2.6s\tremaining: 6.07s\n",
      "30:\tlearn: 2674.4126959\ttotal: 2.7s\tremaining: 6s\n",
      "31:\tlearn: 2660.8082257\ttotal: 2.71s\tremaining: 5.76s\n",
      "32:\tlearn: 2646.5597230\ttotal: 2.81s\tremaining: 5.7s\n",
      "33:\tlearn: 2631.6059896\ttotal: 2.9s\tremaining: 5.64s\n",
      "34:\tlearn: 2618.9680029\ttotal: 3s\tremaining: 5.57s\n",
      "35:\tlearn: 2606.0766242\ttotal: 3.1s\tremaining: 5.5s\n",
      "36:\tlearn: 2594.3566648\ttotal: 3.19s\tremaining: 5.43s\n",
      "37:\tlearn: 2585.1240437\ttotal: 3.21s\tremaining: 5.24s\n",
      "38:\tlearn: 2574.4598661\ttotal: 3.3s\tremaining: 5.16s\n",
      "39:\tlearn: 2562.2311610\ttotal: 3.4s\tremaining: 5.09s\n",
      "40:\tlearn: 2553.3225810\ttotal: 3.49s\tremaining: 5.03s\n",
      "41:\tlearn: 2542.8894016\ttotal: 3.59s\tremaining: 4.96s\n",
      "42:\tlearn: 2534.1611778\ttotal: 3.69s\tremaining: 4.89s\n",
      "43:\tlearn: 2526.1654769\ttotal: 3.7s\tremaining: 4.71s\n",
      "44:\tlearn: 2518.7965843\ttotal: 3.79s\tremaining: 4.64s\n",
      "45:\tlearn: 2511.0176634\ttotal: 3.89s\tremaining: 4.57s\n",
      "46:\tlearn: 2503.6956362\ttotal: 3.99s\tremaining: 4.5s\n",
      "47:\tlearn: 2495.1987419\ttotal: 4.09s\tremaining: 4.43s\n",
      "48:\tlearn: 2487.7128714\ttotal: 4.1s\tremaining: 4.27s\n",
      "49:\tlearn: 2480.0161025\ttotal: 4.2s\tremaining: 4.2s\n",
      "50:\tlearn: 2473.3301623\ttotal: 4.29s\tremaining: 4.12s\n",
      "51:\tlearn: 2466.4303480\ttotal: 4.39s\tremaining: 4.05s\n",
      "52:\tlearn: 2460.0421316\ttotal: 4.49s\tremaining: 3.98s\n",
      "53:\tlearn: 2454.2555791\ttotal: 4.58s\tremaining: 3.9s\n",
      "54:\tlearn: 2448.0309140\ttotal: 4.68s\tremaining: 3.83s\n",
      "55:\tlearn: 2442.4072018\ttotal: 4.69s\tremaining: 3.69s\n",
      "56:\tlearn: 2436.9390668\ttotal: 4.79s\tremaining: 3.61s\n",
      "57:\tlearn: 2431.8039856\ttotal: 4.89s\tremaining: 3.54s\n",
      "58:\tlearn: 2427.6396600\ttotal: 4.98s\tremaining: 3.46s\n",
      "59:\tlearn: 2422.7626818\ttotal: 5.08s\tremaining: 3.39s\n",
      "60:\tlearn: 2418.3601317\ttotal: 5.18s\tremaining: 3.31s\n",
      "61:\tlearn: 2413.8649286\ttotal: 5.28s\tremaining: 3.23s\n",
      "62:\tlearn: 2409.5106987\ttotal: 5.37s\tremaining: 3.16s\n",
      "63:\tlearn: 2405.3495164\ttotal: 5.39s\tremaining: 3.03s\n",
      "64:\tlearn: 2400.9078699\ttotal: 5.48s\tremaining: 2.95s\n",
      "65:\tlearn: 2396.7527988\ttotal: 5.58s\tremaining: 2.87s\n",
      "66:\tlearn: 2392.8671589\ttotal: 5.68s\tremaining: 2.8s\n",
      "67:\tlearn: 2389.3531314\ttotal: 5.77s\tremaining: 2.72s\n",
      "68:\tlearn: 2385.8028764\ttotal: 5.87s\tremaining: 2.64s\n",
      "69:\tlearn: 2382.6707408\ttotal: 5.97s\tremaining: 2.56s\n",
      "70:\tlearn: 2379.5617626\ttotal: 5.98s\tremaining: 2.44s\n",
      "71:\tlearn: 2376.4814744\ttotal: 6.08s\tremaining: 2.36s\n",
      "72:\tlearn: 2373.3799845\ttotal: 6.17s\tremaining: 2.28s\n",
      "73:\tlearn: 2370.2542664\ttotal: 6.27s\tremaining: 2.2s\n",
      "74:\tlearn: 2367.4456888\ttotal: 6.37s\tremaining: 2.12s\n",
      "75:\tlearn: 2364.6111090\ttotal: 6.47s\tremaining: 2.04s\n",
      "76:\tlearn: 2362.0593632\ttotal: 6.57s\tremaining: 1.96s\n",
      "77:\tlearn: 2359.4298629\ttotal: 6.58s\tremaining: 1.85s\n",
      "78:\tlearn: 2356.9558584\ttotal: 6.67s\tremaining: 1.77s\n",
      "79:\tlearn: 2354.4577971\ttotal: 6.77s\tremaining: 1.69s\n",
      "80:\tlearn: 2352.0323040\ttotal: 6.87s\tremaining: 1.61s\n",
      "81:\tlearn: 2349.6702030\ttotal: 6.96s\tremaining: 1.53s\n",
      "82:\tlearn: 2347.3973500\ttotal: 7.06s\tremaining: 1.45s\n",
      "83:\tlearn: 2345.1853483\ttotal: 7.07s\tremaining: 1.35s\n",
      "84:\tlearn: 2343.0621668\ttotal: 7.17s\tremaining: 1.26s\n",
      "85:\tlearn: 2340.9651691\ttotal: 7.27s\tremaining: 1.18s\n",
      "86:\tlearn: 2339.0803843\ttotal: 7.36s\tremaining: 1.1s\n",
      "87:\tlearn: 2337.3759228\ttotal: 7.46s\tremaining: 1.02s\n",
      "88:\tlearn: 2335.6582716\ttotal: 7.56s\tremaining: 934ms\n",
      "89:\tlearn: 2333.8477760\ttotal: 7.57s\tremaining: 841ms\n",
      "90:\tlearn: 2332.0715438\ttotal: 7.67s\tremaining: 758ms\n",
      "91:\tlearn: 2330.3556537\ttotal: 7.76s\tremaining: 675ms\n",
      "92:\tlearn: 2328.5288913\ttotal: 7.86s\tremaining: 592ms\n",
      "93:\tlearn: 2326.8034626\ttotal: 7.96s\tremaining: 508ms\n",
      "94:\tlearn: 2325.1847942\ttotal: 7.97s\tremaining: 419ms\n",
      "95:\tlearn: 2323.6087633\ttotal: 8.06s\tremaining: 336ms\n",
      "96:\tlearn: 2322.0789693\ttotal: 8.16s\tremaining: 252ms\n",
      "97:\tlearn: 2320.8567550\ttotal: 8.26s\tremaining: 169ms\n",
      "98:\tlearn: 2319.4195446\ttotal: 8.36s\tremaining: 84.4ms\n",
      "99:\tlearn: 2318.1025598\ttotal: 8.45s\tremaining: 0us\n",
      "0:\tlearn: 4256.2722727\ttotal: 19ms\tremaining: 1.88s\n",
      "1:\tlearn: 4079.8622559\ttotal: 117ms\tremaining: 5.73s\n",
      "2:\tlearn: 3913.1495508\ttotal: 126ms\tremaining: 4.09s\n",
      "3:\tlearn: 3794.7304818\ttotal: 316ms\tremaining: 7.59s\n",
      "4:\tlearn: 3681.1528127\ttotal: 326ms\tremaining: 6.19s\n",
      "5:\tlearn: 3589.5258910\ttotal: 514ms\tremaining: 8.05s\n",
      "6:\tlearn: 3502.5936206\ttotal: 525ms\tremaining: 6.97s\n",
      "7:\tlearn: 3431.6095757\ttotal: 621ms\tremaining: 7.14s\n",
      "8:\tlearn: 3367.1174715\ttotal: 719ms\tremaining: 7.27s\n",
      "9:\tlearn: 3316.7045094\ttotal: 816ms\tremaining: 7.34s\n",
      "10:\tlearn: 3263.9574064\ttotal: 915ms\tremaining: 7.4s\n",
      "11:\tlearn: 3214.8328147\ttotal: 1.01s\tremaining: 7.42s\n",
      "12:\tlearn: 3168.2421335\ttotal: 1.11s\tremaining: 7.43s\n",
      "13:\tlearn: 3129.7076409\ttotal: 1.12s\tremaining: 6.88s\n",
      "14:\tlearn: 3092.4899397\ttotal: 1.22s\tremaining: 6.9s\n",
      "15:\tlearn: 3055.9568659\ttotal: 1.31s\tremaining: 6.91s\n",
      "16:\tlearn: 3021.3836574\ttotal: 1.41s\tremaining: 6.89s\n",
      "17:\tlearn: 2988.8369777\ttotal: 1.51s\tremaining: 6.88s\n",
      "18:\tlearn: 2958.3876182\ttotal: 1.61s\tremaining: 6.85s\n",
      "19:\tlearn: 2924.8816070\ttotal: 1.71s\tremaining: 6.83s\n",
      "20:\tlearn: 2897.3636822\ttotal: 1.72s\tremaining: 6.46s\n",
      "21:\tlearn: 2869.3479377\ttotal: 1.82s\tremaining: 6.45s\n",
      "22:\tlearn: 2825.8297949\ttotal: 1.91s\tremaining: 6.4s\n",
      "23:\tlearn: 2794.4582140\ttotal: 2.01s\tremaining: 6.37s\n",
      "24:\tlearn: 2771.9858663\ttotal: 2.11s\tremaining: 6.32s\n",
      "25:\tlearn: 2752.5133161\ttotal: 2.2s\tremaining: 6.27s\n",
      "26:\tlearn: 2731.1208782\ttotal: 2.3s\tremaining: 6.22s\n",
      "27:\tlearn: 2711.4350238\ttotal: 2.4s\tremaining: 6.17s\n",
      "28:\tlearn: 2695.2539156\ttotal: 2.41s\tremaining: 5.9s\n",
      "29:\tlearn: 2677.6166234\ttotal: 2.51s\tremaining: 5.85s\n",
      "30:\tlearn: 2662.8381469\ttotal: 2.6s\tremaining: 5.8s\n",
      "31:\tlearn: 2648.9922213\ttotal: 2.7s\tremaining: 5.74s\n",
      "32:\tlearn: 2635.1219864\ttotal: 2.8s\tremaining: 5.68s\n",
      "33:\tlearn: 2622.3930492\ttotal: 2.9s\tremaining: 5.62s\n",
      "34:\tlearn: 2607.6476620\ttotal: 3s\tremaining: 5.57s\n",
      "35:\tlearn: 2595.0443116\ttotal: 3.01s\tremaining: 5.35s\n",
      "36:\tlearn: 2583.9973544\ttotal: 3.1s\tremaining: 5.29s\n",
      "37:\tlearn: 2573.1484734\ttotal: 3.2s\tremaining: 5.22s\n",
      "38:\tlearn: 2562.0810701\ttotal: 3.3s\tremaining: 5.16s\n",
      "39:\tlearn: 2550.9941328\ttotal: 3.39s\tremaining: 5.09s\n",
      "40:\tlearn: 2541.2274050\ttotal: 3.49s\tremaining: 5.03s\n",
      "41:\tlearn: 2532.7028365\ttotal: 3.5s\tremaining: 4.84s\n",
      "42:\tlearn: 2524.4509627\ttotal: 3.6s\tremaining: 4.77s\n",
      "43:\tlearn: 2515.0147709\ttotal: 3.7s\tremaining: 4.71s\n",
      "44:\tlearn: 2507.0673303\ttotal: 3.79s\tremaining: 4.64s\n",
      "45:\tlearn: 2499.3215372\ttotal: 3.89s\tremaining: 4.57s\n",
      "46:\tlearn: 2492.0475132\ttotal: 3.99s\tremaining: 4.5s\n",
      "47:\tlearn: 2484.1871146\ttotal: 4.09s\tremaining: 4.43s\n",
      "48:\tlearn: 2476.2508689\ttotal: 4.19s\tremaining: 4.36s\n",
      "49:\tlearn: 2469.6630360\ttotal: 4.2s\tremaining: 4.2s\n",
      "50:\tlearn: 2461.5877523\ttotal: 4.29s\tremaining: 4.12s\n",
      "51:\tlearn: 2454.9648609\ttotal: 4.39s\tremaining: 4.05s\n",
      "52:\tlearn: 2449.0120135\ttotal: 4.49s\tremaining: 3.98s\n",
      "53:\tlearn: 2443.5127121\ttotal: 4.58s\tremaining: 3.9s\n",
      "54:\tlearn: 2436.7357789\ttotal: 4.68s\tremaining: 3.83s\n",
      "55:\tlearn: 2431.0415425\ttotal: 4.69s\tremaining: 3.69s\n",
      "56:\tlearn: 2426.0167797\ttotal: 4.79s\tremaining: 3.61s\n",
      "57:\tlearn: 2420.8140291\ttotal: 4.89s\tremaining: 3.54s\n",
      "58:\tlearn: 2415.8082467\ttotal: 4.98s\tremaining: 3.46s\n",
      "59:\tlearn: 2411.1972027\ttotal: 5.08s\tremaining: 3.39s\n",
      "60:\tlearn: 2406.6420315\ttotal: 5.18s\tremaining: 3.31s\n",
      "61:\tlearn: 2402.4887726\ttotal: 5.19s\tremaining: 3.18s\n",
      "62:\tlearn: 2398.2044600\ttotal: 5.28s\tremaining: 3.1s\n",
      "63:\tlearn: 2393.7945793\ttotal: 5.38s\tremaining: 3.03s\n",
      "64:\tlearn: 2389.8023450\ttotal: 5.48s\tremaining: 2.95s\n",
      "65:\tlearn: 2385.8255807\ttotal: 5.58s\tremaining: 2.87s\n",
      "66:\tlearn: 2382.1857408\ttotal: 5.67s\tremaining: 2.79s\n",
      "67:\tlearn: 2378.2802762\ttotal: 5.68s\tremaining: 2.67s\n",
      "68:\tlearn: 2375.0874102\ttotal: 5.78s\tremaining: 2.6s\n",
      "69:\tlearn: 2371.9269795\ttotal: 5.88s\tremaining: 2.52s\n",
      "70:\tlearn: 2368.5739378\ttotal: 5.98s\tremaining: 2.44s\n",
      "71:\tlearn: 2365.3845057\ttotal: 6.08s\tremaining: 2.36s\n",
      "72:\tlearn: 2362.3672956\ttotal: 6.17s\tremaining: 2.28s\n",
      "73:\tlearn: 2359.5501332\ttotal: 6.18s\tremaining: 2.17s\n",
      "74:\tlearn: 2356.6776971\ttotal: 6.28s\tremaining: 2.09s\n",
      "75:\tlearn: 2353.8832682\ttotal: 6.37s\tremaining: 2.01s\n",
      "76:\tlearn: 2351.0985299\ttotal: 6.47s\tremaining: 1.93s\n",
      "77:\tlearn: 2348.5571938\ttotal: 6.57s\tremaining: 1.85s\n",
      "78:\tlearn: 2346.0837463\ttotal: 6.67s\tremaining: 1.77s\n",
      "79:\tlearn: 2343.6534393\ttotal: 6.77s\tremaining: 1.69s\n",
      "80:\tlearn: 2341.3634002\ttotal: 6.78s\tremaining: 1.59s\n",
      "81:\tlearn: 2338.7614990\ttotal: 6.87s\tremaining: 1.51s\n",
      "82:\tlearn: 2336.5533173\ttotal: 6.97s\tremaining: 1.43s\n",
      "83:\tlearn: 2334.5158431\ttotal: 7.07s\tremaining: 1.35s\n",
      "84:\tlearn: 2332.3547884\ttotal: 7.17s\tremaining: 1.26s\n",
      "85:\tlearn: 2330.4144692\ttotal: 7.18s\tremaining: 1.17s\n",
      "86:\tlearn: 2328.7370301\ttotal: 7.27s\tremaining: 1.09s\n",
      "87:\tlearn: 2326.7871959\ttotal: 7.37s\tremaining: 1s\n",
      "88:\tlearn: 2324.9300492\ttotal: 7.46s\tremaining: 922ms\n",
      "89:\tlearn: 2323.2749436\ttotal: 7.56s\tremaining: 840ms\n",
      "90:\tlearn: 2321.5159355\ttotal: 7.66s\tremaining: 758ms\n",
      "91:\tlearn: 2319.7577741\ttotal: 7.67s\tremaining: 667ms\n",
      "92:\tlearn: 2318.0559428\ttotal: 7.76s\tremaining: 584ms\n",
      "93:\tlearn: 2316.2935557\ttotal: 7.86s\tremaining: 502ms\n",
      "94:\tlearn: 2314.6466197\ttotal: 7.96s\tremaining: 419ms\n",
      "95:\tlearn: 2312.9458497\ttotal: 8.06s\tremaining: 336ms\n",
      "96:\tlearn: 2311.3895779\ttotal: 8.15s\tremaining: 252ms\n",
      "97:\tlearn: 2309.8907011\ttotal: 8.16s\tremaining: 167ms\n",
      "98:\tlearn: 2308.4040238\ttotal: 8.26s\tremaining: 83.4ms\n",
      "99:\tlearn: 2307.0983701\ttotal: 8.36s\tremaining: 0us\n",
      "0:\tlearn: 4276.6091549\ttotal: 91.9ms\tremaining: 9.1s\n",
      "1:\tlearn: 4077.8808420\ttotal: 285ms\tremaining: 13.9s\n",
      "2:\tlearn: 3898.1837971\ttotal: 393ms\tremaining: 12.7s\n",
      "3:\tlearn: 3741.9093205\ttotal: 584ms\tremaining: 14s\n",
      "4:\tlearn: 3597.9422318\ttotal: 693ms\tremaining: 13.2s\n",
      "5:\tlearn: 3465.1631113\ttotal: 882ms\tremaining: 13.8s\n",
      "6:\tlearn: 3353.8676725\ttotal: 986ms\tremaining: 13.1s\n",
      "7:\tlearn: 3256.5055602\ttotal: 1.09s\tremaining: 12.5s\n",
      "8:\tlearn: 3163.0402393\ttotal: 1.28s\tremaining: 12.9s\n",
      "9:\tlearn: 3077.0413153\ttotal: 1.38s\tremaining: 12.4s\n",
      "10:\tlearn: 3009.1305371\ttotal: 1.49s\tremaining: 12s\n",
      "11:\tlearn: 2950.4401002\ttotal: 1.68s\tremaining: 12.3s\n",
      "12:\tlearn: 2886.2368047\ttotal: 1.78s\tremaining: 11.9s\n",
      "13:\tlearn: 2838.5496320\ttotal: 1.98s\tremaining: 12.1s\n",
      "14:\tlearn: 2783.0219099\ttotal: 2.08s\tremaining: 11.8s\n",
      "15:\tlearn: 2733.2995201\ttotal: 2.27s\tremaining: 11.9s\n",
      "16:\tlearn: 2691.8119860\ttotal: 2.38s\tremaining: 11.6s\n",
      "17:\tlearn: 2648.8154144\ttotal: 2.49s\tremaining: 11.4s\n",
      "18:\tlearn: 2617.5889083\ttotal: 2.67s\tremaining: 11.4s\n",
      "19:\tlearn: 2587.2236407\ttotal: 2.78s\tremaining: 11.1s\n",
      "20:\tlearn: 2557.0490523\ttotal: 2.88s\tremaining: 10.8s\n",
      "21:\tlearn: 2526.3799454\ttotal: 3.07s\tremaining: 10.9s\n",
      "22:\tlearn: 2500.5268590\ttotal: 3.17s\tremaining: 10.6s\n",
      "23:\tlearn: 2472.1984847\ttotal: 3.37s\tremaining: 10.7s\n",
      "24:\tlearn: 2448.1340299\ttotal: 3.47s\tremaining: 10.4s\n",
      "25:\tlearn: 2424.6024992\ttotal: 3.58s\tremaining: 10.2s\n",
      "26:\tlearn: 2405.5269063\ttotal: 3.77s\tremaining: 10.2s\n",
      "27:\tlearn: 2387.8664011\ttotal: 3.87s\tremaining: 9.95s\n",
      "28:\tlearn: 2372.9482864\ttotal: 4.06s\tremaining: 9.95s\n",
      "29:\tlearn: 2359.8167514\ttotal: 4.17s\tremaining: 9.72s\n",
      "30:\tlearn: 2345.9161224\ttotal: 4.27s\tremaining: 9.51s\n",
      "31:\tlearn: 2332.2769736\ttotal: 4.46s\tremaining: 9.48s\n",
      "32:\tlearn: 2321.5172079\ttotal: 4.57s\tremaining: 9.27s\n",
      "33:\tlearn: 2308.2608285\ttotal: 4.67s\tremaining: 9.07s\n",
      "34:\tlearn: 2294.3251760\ttotal: 4.86s\tremaining: 9.03s\n",
      "35:\tlearn: 2283.2678357\ttotal: 4.97s\tremaining: 8.83s\n",
      "36:\tlearn: 2275.2724881\ttotal: 5.07s\tremaining: 8.63s\n",
      "37:\tlearn: 2265.0736466\ttotal: 5.26s\tremaining: 8.59s\n",
      "38:\tlearn: 2255.1146505\ttotal: 5.37s\tremaining: 8.39s\n",
      "39:\tlearn: 2244.1298970\ttotal: 5.56s\tremaining: 8.34s\n",
      "40:\tlearn: 2236.8279427\ttotal: 5.67s\tremaining: 8.15s\n",
      "41:\tlearn: 2222.0259962\ttotal: 5.86s\tremaining: 8.09s\n",
      "42:\tlearn: 2214.7824351\ttotal: 5.96s\tremaining: 7.91s\n",
      "43:\tlearn: 2204.0644775\ttotal: 6.16s\tremaining: 7.84s\n",
      "44:\tlearn: 2197.9478380\ttotal: 6.26s\tremaining: 7.65s\n",
      "45:\tlearn: 2192.8740031\ttotal: 6.36s\tremaining: 7.47s\n",
      "46:\tlearn: 2187.5455918\ttotal: 6.55s\tremaining: 7.39s\n",
      "47:\tlearn: 2182.6002520\ttotal: 6.66s\tremaining: 7.21s\n",
      "48:\tlearn: 2172.5416338\ttotal: 6.85s\tremaining: 7.13s\n",
      "49:\tlearn: 2167.5598284\ttotal: 6.96s\tremaining: 6.96s\n",
      "50:\tlearn: 2162.9551556\ttotal: 7.06s\tremaining: 6.78s\n",
      "51:\tlearn: 2155.9793148\ttotal: 7.25s\tremaining: 6.7s\n",
      "52:\tlearn: 2152.3783748\ttotal: 7.36s\tremaining: 6.53s\n",
      "53:\tlearn: 2145.1104122\ttotal: 7.55s\tremaining: 6.43s\n",
      "54:\tlearn: 2141.6423087\ttotal: 7.66s\tremaining: 6.26s\n",
      "55:\tlearn: 2137.9495537\ttotal: 7.85s\tremaining: 6.17s\n",
      "56:\tlearn: 2134.9644283\ttotal: 7.95s\tremaining: 6s\n",
      "57:\tlearn: 2130.2149286\ttotal: 8.14s\tremaining: 5.9s\n",
      "58:\tlearn: 2124.2058139\ttotal: 8.25s\tremaining: 5.74s\n",
      "59:\tlearn: 2121.5699242\ttotal: 8.44s\tremaining: 5.63s\n",
      "60:\tlearn: 2116.9225628\ttotal: 8.55s\tremaining: 5.46s\n",
      "61:\tlearn: 2113.5843928\ttotal: 8.65s\tremaining: 5.3s\n",
      "62:\tlearn: 2108.8008604\ttotal: 8.84s\tremaining: 5.19s\n",
      "63:\tlearn: 2106.3241939\ttotal: 8.95s\tremaining: 5.03s\n",
      "64:\tlearn: 2103.7023173\ttotal: 9.05s\tremaining: 4.87s\n",
      "65:\tlearn: 2100.3465769\ttotal: 9.24s\tremaining: 4.76s\n",
      "66:\tlearn: 2098.2073023\ttotal: 9.35s\tremaining: 4.6s\n",
      "67:\tlearn: 2095.8872111\ttotal: 9.54s\tremaining: 4.49s\n",
      "68:\tlearn: 2092.2226288\ttotal: 9.64s\tremaining: 4.33s\n",
      "69:\tlearn: 2089.9802131\ttotal: 9.75s\tremaining: 4.18s\n",
      "70:\tlearn: 2087.8175301\ttotal: 9.94s\tremaining: 4.06s\n",
      "71:\tlearn: 2085.6327266\ttotal: 10s\tremaining: 3.9s\n",
      "72:\tlearn: 2083.1637234\ttotal: 10.2s\tremaining: 3.79s\n",
      "73:\tlearn: 2079.6959266\ttotal: 10.3s\tremaining: 3.63s\n",
      "74:\tlearn: 2077.8174412\ttotal: 10.5s\tremaining: 3.51s\n",
      "75:\tlearn: 2074.3346745\ttotal: 10.6s\tremaining: 3.36s\n",
      "76:\tlearn: 2072.3570037\ttotal: 10.8s\tremaining: 3.21s\n",
      "77:\tlearn: 2070.6490823\ttotal: 10.9s\tremaining: 3.08s\n",
      "78:\tlearn: 2067.9783608\ttotal: 11s\tremaining: 2.94s\n",
      "79:\tlearn: 2066.3451583\ttotal: 11.2s\tremaining: 2.81s\n",
      "80:\tlearn: 2063.7248629\ttotal: 11.3s\tremaining: 2.66s\n",
      "81:\tlearn: 2062.4258080\ttotal: 11.5s\tremaining: 2.53s\n",
      "82:\tlearn: 2060.4881776\ttotal: 11.6s\tremaining: 2.38s\n",
      "83:\tlearn: 2057.9803707\ttotal: 11.8s\tremaining: 2.25s\n",
      "84:\tlearn: 2056.0887711\ttotal: 11.9s\tremaining: 2.1s\n",
      "85:\tlearn: 2054.1442041\ttotal: 12.1s\tremaining: 1.97s\n",
      "86:\tlearn: 2052.9613209\ttotal: 12.2s\tremaining: 1.83s\n",
      "87:\tlearn: 2051.6494029\ttotal: 12.3s\tremaining: 1.68s\n",
      "88:\tlearn: 2049.5619087\ttotal: 12.5s\tremaining: 1.55s\n",
      "89:\tlearn: 2047.7115024\ttotal: 12.6s\tremaining: 1.4s\n",
      "90:\tlearn: 2046.0308096\ttotal: 12.7s\tremaining: 1.26s\n",
      "91:\tlearn: 2044.3471133\ttotal: 12.9s\tremaining: 1.12s\n",
      "92:\tlearn: 2042.9078554\ttotal: 13s\tremaining: 981ms\n",
      "93:\tlearn: 2041.8632364\ttotal: 13.2s\tremaining: 844ms\n",
      "94:\tlearn: 2040.8301850\ttotal: 13.3s\tremaining: 701ms\n",
      "95:\tlearn: 2039.3870267\ttotal: 13.5s\tremaining: 563ms\n",
      "96:\tlearn: 2038.1152083\ttotal: 13.6s\tremaining: 421ms\n",
      "97:\tlearn: 2037.3289211\ttotal: 13.7s\tremaining: 280ms\n",
      "98:\tlearn: 2035.1536088\ttotal: 13.9s\tremaining: 141ms\n",
      "99:\tlearn: 2033.2750422\ttotal: 14s\tremaining: 0us\n",
      "0:\tlearn: 4287.8707987\ttotal: 45.4ms\tremaining: 4.49s\n",
      "1:\tlearn: 4083.4869571\ttotal: 240ms\tremaining: 11.8s\n",
      "2:\tlearn: 3905.7506215\ttotal: 346ms\tremaining: 11.2s\n",
      "3:\tlearn: 3745.6309899\ttotal: 537ms\tremaining: 12.9s\n",
      "4:\tlearn: 3607.7403538\ttotal: 735ms\tremaining: 14s\n",
      "5:\tlearn: 3468.1273819\ttotal: 839ms\tremaining: 13.2s\n",
      "6:\tlearn: 3360.9618628\ttotal: 946ms\tremaining: 12.6s\n",
      "7:\tlearn: 3254.4640946\ttotal: 1.14s\tremaining: 13.1s\n",
      "8:\tlearn: 3165.5545358\ttotal: 1.25s\tremaining: 12.6s\n",
      "9:\tlearn: 3087.0358495\ttotal: 1.43s\tremaining: 12.9s\n",
      "10:\tlearn: 3006.5647087\ttotal: 1.54s\tremaining: 12.5s\n",
      "11:\tlearn: 2940.6626906\ttotal: 1.73s\tremaining: 12.7s\n",
      "12:\tlearn: 2886.8064257\ttotal: 1.83s\tremaining: 12.3s\n",
      "13:\tlearn: 2839.1395605\ttotal: 1.94s\tremaining: 11.9s\n",
      "14:\tlearn: 2788.2219158\ttotal: 2.13s\tremaining: 12.1s\n",
      "15:\tlearn: 2739.2642962\ttotal: 2.24s\tremaining: 11.7s\n",
      "16:\tlearn: 2696.8248662\ttotal: 2.43s\tremaining: 11.9s\n",
      "17:\tlearn: 2653.2274067\ttotal: 2.53s\tremaining: 11.5s\n",
      "18:\tlearn: 2618.4734871\ttotal: 2.72s\tremaining: 11.6s\n",
      "19:\tlearn: 2585.0020230\ttotal: 2.83s\tremaining: 11.3s\n",
      "20:\tlearn: 2552.1541482\ttotal: 3.02s\tremaining: 11.4s\n",
      "21:\tlearn: 2523.8318740\ttotal: 3.13s\tremaining: 11.1s\n",
      "22:\tlearn: 2495.3083800\ttotal: 3.23s\tremaining: 10.8s\n",
      "23:\tlearn: 2469.3279257\ttotal: 3.42s\tremaining: 10.8s\n",
      "24:\tlearn: 2448.6384253\ttotal: 3.53s\tremaining: 10.6s\n",
      "25:\tlearn: 2429.2705944\ttotal: 3.72s\tremaining: 10.6s\n",
      "26:\tlearn: 2413.5555675\ttotal: 3.83s\tremaining: 10.3s\n",
      "27:\tlearn: 2398.8091137\ttotal: 3.93s\tremaining: 10.1s\n",
      "28:\tlearn: 2382.8910581\ttotal: 4.12s\tremaining: 10.1s\n",
      "29:\tlearn: 2367.8353423\ttotal: 4.22s\tremaining: 9.86s\n",
      "30:\tlearn: 2351.4251805\ttotal: 4.42s\tremaining: 9.83s\n",
      "31:\tlearn: 2337.6545531\ttotal: 4.52s\tremaining: 9.61s\n",
      "32:\tlearn: 2327.2201013\ttotal: 4.62s\tremaining: 9.39s\n",
      "33:\tlearn: 2306.8800172\ttotal: 4.73s\tremaining: 9.18s\n",
      "34:\tlearn: 2295.8420478\ttotal: 4.92s\tremaining: 9.13s\n",
      "35:\tlearn: 2280.1149012\ttotal: 5.02s\tremaining: 8.93s\n",
      "36:\tlearn: 2270.4597201\ttotal: 5.21s\tremaining: 8.88s\n",
      "37:\tlearn: 2258.1687036\ttotal: 5.32s\tremaining: 8.68s\n",
      "38:\tlearn: 2248.5748200\ttotal: 5.42s\tremaining: 8.48s\n",
      "39:\tlearn: 2240.2562808\ttotal: 5.61s\tremaining: 8.42s\n",
      "40:\tlearn: 2232.4914821\ttotal: 5.72s\tremaining: 8.23s\n",
      "41:\tlearn: 2219.2873166\ttotal: 5.91s\tremaining: 8.16s\n",
      "42:\tlearn: 2212.7519467\ttotal: 6.02s\tremaining: 7.98s\n",
      "43:\tlearn: 2200.6938651\ttotal: 6.21s\tremaining: 7.9s\n",
      "44:\tlearn: 2194.9288036\ttotal: 6.31s\tremaining: 7.71s\n",
      "45:\tlearn: 2189.4038668\ttotal: 6.42s\tremaining: 7.53s\n",
      "46:\tlearn: 2184.5043654\ttotal: 6.61s\tremaining: 7.45s\n",
      "47:\tlearn: 2175.1435461\ttotal: 6.72s\tremaining: 7.28s\n",
      "48:\tlearn: 2169.6006136\ttotal: 6.91s\tremaining: 7.19s\n",
      "49:\tlearn: 2161.0787523\ttotal: 7.01s\tremaining: 7.01s\n",
      "50:\tlearn: 2155.0757654\ttotal: 7.2s\tremaining: 6.92s\n",
      "51:\tlearn: 2151.0752581\ttotal: 7.31s\tremaining: 6.74s\n",
      "52:\tlearn: 2147.5735749\ttotal: 7.42s\tremaining: 6.58s\n",
      "53:\tlearn: 2143.4918745\ttotal: 7.61s\tremaining: 6.48s\n",
      "54:\tlearn: 2136.6892780\ttotal: 7.8s\tremaining: 6.38s\n",
      "55:\tlearn: 2133.3267720\ttotal: 7.9s\tremaining: 6.21s\n",
      "56:\tlearn: 2128.2755922\ttotal: 8.1s\tremaining: 6.11s\n",
      "57:\tlearn: 2123.2516339\ttotal: 8.2s\tremaining: 5.94s\n",
      "58:\tlearn: 2119.7695713\ttotal: 8.3s\tremaining: 5.77s\n",
      "59:\tlearn: 2117.0802592\ttotal: 8.5s\tremaining: 5.67s\n",
      "60:\tlearn: 2114.4007116\ttotal: 8.6s\tremaining: 5.5s\n",
      "61:\tlearn: 2109.2580711\ttotal: 8.79s\tremaining: 5.39s\n",
      "62:\tlearn: 2106.1843779\ttotal: 8.9s\tremaining: 5.22s\n",
      "63:\tlearn: 2101.8765048\ttotal: 9s\tremaining: 5.06s\n",
      "64:\tlearn: 2099.2471962\ttotal: 9.19s\tremaining: 4.95s\n",
      "65:\tlearn: 2096.5341470\ttotal: 9.3s\tremaining: 4.79s\n",
      "66:\tlearn: 2094.3570216\ttotal: 9.49s\tremaining: 4.67s\n",
      "67:\tlearn: 2091.7051931\ttotal: 9.6s\tremaining: 4.52s\n",
      "68:\tlearn: 2089.6341817\ttotal: 9.71s\tremaining: 4.36s\n",
      "69:\tlearn: 2087.4717824\ttotal: 9.89s\tremaining: 4.24s\n",
      "70:\tlearn: 2085.0253197\ttotal: 10s\tremaining: 4.08s\n",
      "71:\tlearn: 2083.0352007\ttotal: 10.2s\tremaining: 3.96s\n",
      "72:\tlearn: 2079.6563369\ttotal: 10.3s\tremaining: 3.81s\n",
      "73:\tlearn: 2077.6772202\ttotal: 10.5s\tremaining: 3.68s\n",
      "74:\tlearn: 2076.2281597\ttotal: 10.6s\tremaining: 3.53s\n",
      "75:\tlearn: 2072.5106841\ttotal: 10.7s\tremaining: 3.38s\n",
      "76:\tlearn: 2070.1413218\ttotal: 10.9s\tremaining: 3.25s\n",
      "77:\tlearn: 2068.5585523\ttotal: 11s\tremaining: 3.1s\n",
      "78:\tlearn: 2066.9913486\ttotal: 11.2s\tremaining: 2.97s\n",
      "79:\tlearn: 2065.4498417\ttotal: 11.3s\tremaining: 2.82s\n",
      "80:\tlearn: 2062.1455803\ttotal: 11.4s\tremaining: 2.67s\n",
      "81:\tlearn: 2060.7992455\ttotal: 11.6s\tremaining: 2.54s\n",
      "82:\tlearn: 2058.2298474\ttotal: 11.7s\tremaining: 2.39s\n",
      "83:\tlearn: 2057.1242364\ttotal: 11.8s\tremaining: 2.25s\n",
      "84:\tlearn: 2055.9762750\ttotal: 12s\tremaining: 2.11s\n",
      "85:\tlearn: 2054.4787570\ttotal: 12.1s\tremaining: 1.97s\n",
      "86:\tlearn: 2053.0974231\ttotal: 12.3s\tremaining: 1.83s\n",
      "87:\tlearn: 2050.1288878\ttotal: 12.4s\tremaining: 1.69s\n",
      "88:\tlearn: 2049.1360937\ttotal: 12.6s\tremaining: 1.55s\n",
      "89:\tlearn: 2046.8514612\ttotal: 12.7s\tremaining: 1.41s\n",
      "90:\tlearn: 2044.9408984\ttotal: 12.9s\tremaining: 1.27s\n",
      "91:\tlearn: 2042.9720687\ttotal: 13s\tremaining: 1.13s\n",
      "92:\tlearn: 2042.0367142\ttotal: 13.2s\tremaining: 991ms\n",
      "93:\tlearn: 2039.7273553\ttotal: 13.3s\tremaining: 847ms\n",
      "94:\tlearn: 2038.7732151\ttotal: 13.4s\tremaining: 704ms\n",
      "95:\tlearn: 2037.2656454\ttotal: 13.6s\tremaining: 566ms\n",
      "96:\tlearn: 2035.8804082\ttotal: 13.7s\tremaining: 423ms\n",
      "97:\tlearn: 2034.1024859\ttotal: 13.9s\tremaining: 283ms\n",
      "98:\tlearn: 2032.3394151\ttotal: 14s\tremaining: 141ms\n",
      "99:\tlearn: 2030.6777286\ttotal: 14.2s\tremaining: 0us\n",
      "0:\tlearn: 4277.7687160\ttotal: 21.9ms\tremaining: 2.17s\n",
      "1:\tlearn: 4074.6735582\ttotal: 218ms\tremaining: 10.7s\n",
      "2:\tlearn: 3897.3231478\ttotal: 408ms\tremaining: 13.2s\n",
      "3:\tlearn: 3738.7938948\ttotal: 514ms\tremaining: 12.3s\n",
      "4:\tlearn: 3599.6048752\ttotal: 708ms\tremaining: 13.5s\n",
      "5:\tlearn: 3462.3500601\ttotal: 814ms\tremaining: 12.8s\n",
      "6:\tlearn: 3346.5356172\ttotal: 1.01s\tremaining: 13.4s\n",
      "7:\tlearn: 3246.3645147\ttotal: 1.11s\tremaining: 12.8s\n",
      "8:\tlearn: 3159.9546394\ttotal: 1.3s\tremaining: 13.2s\n",
      "9:\tlearn: 3071.2422387\ttotal: 1.41s\tremaining: 12.7s\n",
      "10:\tlearn: 3005.3662982\ttotal: 1.51s\tremaining: 12.2s\n",
      "11:\tlearn: 2937.5931865\ttotal: 1.7s\tremaining: 12.5s\n",
      "12:\tlearn: 2885.2245843\ttotal: 1.8s\tremaining: 12.1s\n",
      "13:\tlearn: 2826.4157367\ttotal: 1.91s\tremaining: 11.7s\n",
      "14:\tlearn: 2775.0331254\ttotal: 2.1s\tremaining: 11.9s\n",
      "15:\tlearn: 2724.7441529\ttotal: 2.21s\tremaining: 11.6s\n",
      "16:\tlearn: 2682.7747115\ttotal: 2.4s\tremaining: 11.7s\n",
      "17:\tlearn: 2648.7958281\ttotal: 2.5s\tremaining: 11.4s\n",
      "18:\tlearn: 2615.5881613\ttotal: 2.6s\tremaining: 11.1s\n",
      "19:\tlearn: 2582.3436788\ttotal: 2.79s\tremaining: 11.2s\n",
      "20:\tlearn: 2551.9526279\ttotal: 2.9s\tremaining: 10.9s\n",
      "21:\tlearn: 2520.1085417\ttotal: 3.09s\tremaining: 11s\n",
      "22:\tlearn: 2493.3959144\ttotal: 3.2s\tremaining: 10.7s\n",
      "23:\tlearn: 2466.3691321\ttotal: 3.3s\tremaining: 10.5s\n",
      "24:\tlearn: 2444.6887313\ttotal: 3.49s\tremaining: 10.5s\n",
      "25:\tlearn: 2426.2609829\ttotal: 3.6s\tremaining: 10.2s\n",
      "26:\tlearn: 2410.8172587\ttotal: 3.79s\tremaining: 10.3s\n",
      "27:\tlearn: 2396.0005552\ttotal: 3.89s\tremaining: 10s\n",
      "28:\tlearn: 2380.9890503\ttotal: 4.09s\tremaining: 10s\n",
      "29:\tlearn: 2365.3146843\ttotal: 4.19s\tremaining: 9.78s\n",
      "30:\tlearn: 2344.5433067\ttotal: 4.38s\tremaining: 9.76s\n",
      "31:\tlearn: 2332.0664996\ttotal: 4.49s\tremaining: 9.54s\n",
      "32:\tlearn: 2316.2953610\ttotal: 4.59s\tremaining: 9.33s\n",
      "33:\tlearn: 2305.1546244\ttotal: 4.79s\tremaining: 9.29s\n",
      "34:\tlearn: 2295.7986771\ttotal: 4.89s\tremaining: 9.09s\n",
      "35:\tlearn: 2282.2376398\ttotal: 5.08s\tremaining: 9.04s\n",
      "36:\tlearn: 2269.1018610\ttotal: 5.19s\tremaining: 8.84s\n",
      "37:\tlearn: 2258.2297101\ttotal: 5.38s\tremaining: 8.78s\n",
      "38:\tlearn: 2243.8801955\ttotal: 5.49s\tremaining: 8.58s\n",
      "39:\tlearn: 2236.3101386\ttotal: 5.68s\tremaining: 8.52s\n",
      "40:\tlearn: 2228.2316353\ttotal: 5.78s\tremaining: 8.32s\n",
      "41:\tlearn: 2220.1853924\ttotal: 5.89s\tremaining: 8.13s\n",
      "42:\tlearn: 2213.0875401\ttotal: 6.08s\tremaining: 8.06s\n",
      "43:\tlearn: 2200.8691176\ttotal: 6.18s\tremaining: 7.87s\n",
      "44:\tlearn: 2194.7812394\ttotal: 6.38s\tremaining: 7.79s\n",
      "45:\tlearn: 2189.8292547\ttotal: 6.48s\tremaining: 7.61s\n",
      "46:\tlearn: 2179.5825959\ttotal: 6.58s\tremaining: 7.42s\n",
      "47:\tlearn: 2174.8114429\ttotal: 6.78s\tremaining: 7.34s\n",
      "48:\tlearn: 2170.2740354\ttotal: 6.88s\tremaining: 7.16s\n",
      "49:\tlearn: 2161.3529564\ttotal: 6.98s\tremaining: 6.98s\n",
      "50:\tlearn: 2157.3090999\ttotal: 7.18s\tremaining: 6.9s\n",
      "51:\tlearn: 2151.0064067\ttotal: 7.28s\tremaining: 6.72s\n",
      "52:\tlearn: 2147.3048379\ttotal: 7.47s\tremaining: 6.63s\n",
      "53:\tlearn: 2143.7031171\ttotal: 7.58s\tremaining: 6.46s\n",
      "54:\tlearn: 2139.7706418\ttotal: 7.77s\tremaining: 6.36s\n",
      "55:\tlearn: 2135.9819314\ttotal: 7.88s\tremaining: 6.19s\n",
      "56:\tlearn: 2129.4963024\ttotal: 8.07s\tremaining: 6.09s\n",
      "57:\tlearn: 2126.3003738\ttotal: 8.17s\tremaining: 5.92s\n",
      "58:\tlearn: 2120.9656358\ttotal: 8.37s\tremaining: 5.81s\n",
      "59:\tlearn: 2117.4574039\ttotal: 8.47s\tremaining: 5.65s\n",
      "60:\tlearn: 2112.0737562\ttotal: 8.58s\tremaining: 5.48s\n",
      "61:\tlearn: 2109.6694590\ttotal: 8.77s\tremaining: 5.37s\n",
      "62:\tlearn: 2106.4974333\ttotal: 8.87s\tremaining: 5.21s\n",
      "63:\tlearn: 2103.4061457\ttotal: 8.97s\tremaining: 5.05s\n",
      "64:\tlearn: 2101.1463321\ttotal: 9.16s\tremaining: 4.93s\n",
      "65:\tlearn: 2098.7273935\ttotal: 9.27s\tremaining: 4.78s\n",
      "66:\tlearn: 2095.0981148\ttotal: 9.46s\tremaining: 4.66s\n",
      "67:\tlearn: 2092.4323015\ttotal: 9.57s\tremaining: 4.5s\n",
      "68:\tlearn: 2090.1330099\ttotal: 9.76s\tremaining: 4.38s\n",
      "69:\tlearn: 2087.0451097\ttotal: 9.86s\tremaining: 4.23s\n",
      "70:\tlearn: 2085.1636636\ttotal: 9.97s\tremaining: 4.07s\n",
      "71:\tlearn: 2082.1087423\ttotal: 10.2s\tremaining: 3.95s\n",
      "72:\tlearn: 2079.8704853\ttotal: 10.3s\tremaining: 3.8s\n",
      "73:\tlearn: 2076.5516350\ttotal: 10.5s\tremaining: 3.67s\n",
      "74:\tlearn: 2074.7923115\ttotal: 10.6s\tremaining: 3.52s\n",
      "75:\tlearn: 2072.7987197\ttotal: 10.8s\tremaining: 3.4s\n",
      "76:\tlearn: 2070.9693815\ttotal: 10.9s\tremaining: 3.24s\n",
      "77:\tlearn: 2069.3115643\ttotal: 11s\tremaining: 3.09s\n",
      "78:\tlearn: 2065.9384774\ttotal: 11.2s\tremaining: 2.96s\n",
      "79:\tlearn: 2064.7352385\ttotal: 11.3s\tremaining: 2.81s\n",
      "80:\tlearn: 2063.3628121\ttotal: 11.5s\tremaining: 2.69s\n",
      "81:\tlearn: 2061.5672744\ttotal: 11.6s\tremaining: 2.54s\n",
      "82:\tlearn: 2060.2748285\ttotal: 11.8s\tremaining: 2.41s\n",
      "83:\tlearn: 2059.0629549\ttotal: 11.9s\tremaining: 2.26s\n",
      "84:\tlearn: 2055.9107868\ttotal: 12s\tremaining: 2.11s\n",
      "85:\tlearn: 2054.6894516\ttotal: 12.2s\tremaining: 1.98s\n",
      "86:\tlearn: 2052.0290785\ttotal: 12.3s\tremaining: 1.83s\n",
      "87:\tlearn: 2050.7536703\ttotal: 12.4s\tremaining: 1.7s\n",
      "88:\tlearn: 2047.4238428\ttotal: 12.5s\tremaining: 1.55s\n",
      "89:\tlearn: 2046.5274789\ttotal: 12.7s\tremaining: 1.41s\n",
      "90:\tlearn: 2045.5511305\ttotal: 12.8s\tremaining: 1.27s\n",
      "91:\tlearn: 2042.1198561\ttotal: 13s\tremaining: 1.13s\n",
      "92:\tlearn: 2039.2694983\ttotal: 13.1s\tremaining: 989ms\n",
      "93:\tlearn: 2037.0147786\ttotal: 13.2s\tremaining: 846ms\n",
      "94:\tlearn: 2035.7037868\ttotal: 13.3s\tremaining: 703ms\n",
      "95:\tlearn: 2034.6140665\ttotal: 13.5s\tremaining: 564ms\n",
      "96:\tlearn: 2033.3727817\ttotal: 13.6s\tremaining: 422ms\n",
      "97:\tlearn: 2032.1099643\ttotal: 13.8s\tremaining: 281ms\n",
      "98:\tlearn: 2029.0931736\ttotal: 13.9s\tremaining: 141ms\n",
      "99:\tlearn: 2027.7680890\ttotal: 14s\tremaining: 0us\n",
      "0:\tlearn: 4283.1538373\ttotal: 65.9ms\tremaining: 6.52s\n",
      "1:\tlearn: 4080.9475411\ttotal: 261ms\tremaining: 12.8s\n",
      "2:\tlearn: 3904.1042505\ttotal: 368ms\tremaining: 11.9s\n",
      "3:\tlearn: 3745.5918645\ttotal: 559ms\tremaining: 13.4s\n",
      "4:\tlearn: 3606.9347612\ttotal: 667ms\tremaining: 12.7s\n",
      "5:\tlearn: 3469.7176117\ttotal: 861ms\tremaining: 13.5s\n",
      "6:\tlearn: 3359.3335193\ttotal: 973ms\tremaining: 12.9s\n",
      "7:\tlearn: 3253.7427813\ttotal: 1.16s\tremaining: 13.3s\n",
      "8:\tlearn: 3169.4551211\ttotal: 1.26s\tremaining: 12.8s\n",
      "9:\tlearn: 3081.0301951\ttotal: 1.46s\tremaining: 13.1s\n",
      "10:\tlearn: 3014.4828185\ttotal: 1.56s\tremaining: 12.6s\n",
      "11:\tlearn: 2946.4295147\ttotal: 1.66s\tremaining: 12.2s\n",
      "12:\tlearn: 2893.9207113\ttotal: 1.97s\tremaining: 13.2s\n",
      "13:\tlearn: 2834.6118589\ttotal: 2.07s\tremaining: 12.7s\n",
      "14:\tlearn: 2782.9188830\ttotal: 2.24s\tremaining: 12.7s\n",
      "15:\tlearn: 2731.7577884\ttotal: 2.35s\tremaining: 12.3s\n",
      "16:\tlearn: 2689.6649183\ttotal: 2.54s\tremaining: 12.4s\n",
      "17:\tlearn: 2649.4544858\ttotal: 2.65s\tremaining: 12.1s\n",
      "18:\tlearn: 2613.7748086\ttotal: 2.84s\tremaining: 12.1s\n",
      "19:\tlearn: 2582.0298948\ttotal: 2.94s\tremaining: 11.8s\n",
      "20:\tlearn: 2550.3267439\ttotal: 3.06s\tremaining: 11.5s\n",
      "21:\tlearn: 2519.5761134\ttotal: 3.24s\tremaining: 11.5s\n",
      "22:\tlearn: 2494.6008690\ttotal: 3.34s\tremaining: 11.2s\n",
      "23:\tlearn: 2471.1106080\ttotal: 3.53s\tremaining: 11.2s\n",
      "24:\tlearn: 2450.4930534\ttotal: 3.64s\tremaining: 10.9s\n",
      "25:\tlearn: 2432.8834370\ttotal: 3.74s\tremaining: 10.6s\n",
      "26:\tlearn: 2418.8535931\ttotal: 3.93s\tremaining: 10.6s\n",
      "27:\tlearn: 2403.4708595\ttotal: 4.04s\tremaining: 10.4s\n",
      "28:\tlearn: 2389.0721351\ttotal: 4.14s\tremaining: 10.1s\n",
      "29:\tlearn: 2375.3277357\ttotal: 4.33s\tremaining: 10.1s\n",
      "30:\tlearn: 2360.9999597\ttotal: 4.44s\tremaining: 9.88s\n",
      "31:\tlearn: 2346.2513703\ttotal: 4.63s\tremaining: 9.84s\n",
      "32:\tlearn: 2330.2407474\ttotal: 4.74s\tremaining: 9.62s\n",
      "33:\tlearn: 2318.4774666\ttotal: 4.93s\tremaining: 9.57s\n",
      "34:\tlearn: 2303.0119484\ttotal: 5.03s\tremaining: 9.35s\n",
      "35:\tlearn: 2292.8883299\ttotal: 5.22s\tremaining: 9.29s\n",
      "36:\tlearn: 2281.6212433\ttotal: 5.33s\tremaining: 9.08s\n",
      "37:\tlearn: 2272.5774940\ttotal: 5.43s\tremaining: 8.86s\n",
      "38:\tlearn: 2264.1343083\ttotal: 5.63s\tremaining: 8.8s\n",
      "39:\tlearn: 2253.0491668\ttotal: 5.73s\tremaining: 8.6s\n",
      "40:\tlearn: 2243.8669217\ttotal: 5.92s\tremaining: 8.52s\n",
      "41:\tlearn: 2230.6641341\ttotal: 6.03s\tremaining: 8.32s\n",
      "42:\tlearn: 2224.1151729\ttotal: 6.13s\tremaining: 8.13s\n",
      "43:\tlearn: 2218.0400715\ttotal: 6.32s\tremaining: 8.05s\n",
      "44:\tlearn: 2207.2958619\ttotal: 6.43s\tremaining: 7.86s\n",
      "45:\tlearn: 2201.9025806\ttotal: 6.62s\tremaining: 7.77s\n",
      "46:\tlearn: 2195.4342478\ttotal: 6.72s\tremaining: 7.58s\n",
      "47:\tlearn: 2190.1412811\ttotal: 6.83s\tremaining: 7.4s\n",
      "48:\tlearn: 2181.7977513\ttotal: 7.02s\tremaining: 7.31s\n",
      "49:\tlearn: 2177.2039193\ttotal: 7.13s\tremaining: 7.13s\n",
      "50:\tlearn: 2172.9934761\ttotal: 7.32s\tremaining: 7.03s\n",
      "51:\tlearn: 2165.0903404\ttotal: 7.42s\tremaining: 6.85s\n",
      "52:\tlearn: 2161.2474149\ttotal: 7.62s\tremaining: 6.75s\n",
      "53:\tlearn: 2156.3798508\ttotal: 7.72s\tremaining: 6.58s\n",
      "54:\tlearn: 2150.0336836\ttotal: 7.92s\tremaining: 6.48s\n",
      "55:\tlearn: 2146.9964126\ttotal: 8.02s\tremaining: 6.3s\n",
      "56:\tlearn: 2142.4531383\ttotal: 8.21s\tremaining: 6.2s\n",
      "57:\tlearn: 2138.8988448\ttotal: 8.31s\tremaining: 6.02s\n",
      "58:\tlearn: 2135.6809927\ttotal: 8.42s\tremaining: 5.85s\n",
      "59:\tlearn: 2132.2015092\ttotal: 8.62s\tremaining: 5.74s\n",
      "60:\tlearn: 2126.8919172\ttotal: 8.72s\tremaining: 5.57s\n",
      "61:\tlearn: 2123.8659243\ttotal: 8.91s\tremaining: 5.46s\n",
      "62:\tlearn: 2121.1438367\ttotal: 9.01s\tremaining: 5.29s\n",
      "63:\tlearn: 2116.7018367\ttotal: 9.13s\tremaining: 5.13s\n",
      "64:\tlearn: 2114.3599385\ttotal: 9.31s\tremaining: 5.01s\n",
      "65:\tlearn: 2111.3919308\ttotal: 9.41s\tremaining: 4.85s\n",
      "66:\tlearn: 2108.2548152\ttotal: 9.61s\tremaining: 4.73s\n",
      "67:\tlearn: 2106.1261547\ttotal: 9.71s\tremaining: 4.57s\n",
      "68:\tlearn: 2104.2656954\ttotal: 9.82s\tremaining: 4.41s\n",
      "69:\tlearn: 2102.4192843\ttotal: 10s\tremaining: 4.29s\n",
      "70:\tlearn: 2100.3617706\ttotal: 10.1s\tremaining: 4.13s\n",
      "71:\tlearn: 2098.0369404\ttotal: 10.3s\tremaining: 4.01s\n",
      "72:\tlearn: 2094.5641642\ttotal: 10.4s\tremaining: 3.85s\n",
      "73:\tlearn: 2092.7772793\ttotal: 10.6s\tremaining: 3.73s\n",
      "74:\tlearn: 2090.6937412\ttotal: 10.7s\tremaining: 3.57s\n",
      "75:\tlearn: 2087.0902898\ttotal: 10.9s\tremaining: 3.44s\n",
      "76:\tlearn: 2085.5586645\ttotal: 11s\tremaining: 3.29s\n",
      "77:\tlearn: 2084.0351737\ttotal: 11.2s\tremaining: 3.16s\n",
      "78:\tlearn: 2082.1893569\ttotal: 11.3s\tremaining: 3s\n",
      "79:\tlearn: 2080.6768195\ttotal: 11.4s\tremaining: 2.85s\n",
      "80:\tlearn: 2079.1975873\ttotal: 11.6s\tremaining: 2.72s\n",
      "81:\tlearn: 2077.4075014\ttotal: 11.7s\tremaining: 2.57s\n",
      "82:\tlearn: 2074.4259338\ttotal: 11.9s\tremaining: 2.44s\n",
      "83:\tlearn: 2071.6348190\ttotal: 12s\tremaining: 2.29s\n",
      "84:\tlearn: 2068.8383023\ttotal: 12.1s\tremaining: 2.14s\n",
      "85:\tlearn: 2067.7359027\ttotal: 12.3s\tremaining: 2s\n",
      "86:\tlearn: 2066.5519060\ttotal: 12.4s\tremaining: 1.85s\n",
      "87:\tlearn: 2064.2411879\ttotal: 12.6s\tremaining: 1.72s\n",
      "88:\tlearn: 2063.0673434\ttotal: 12.7s\tremaining: 1.57s\n",
      "89:\tlearn: 2060.5321641\ttotal: 12.8s\tremaining: 1.42s\n",
      "90:\tlearn: 2057.4034795\ttotal: 13s\tremaining: 1.28s\n",
      "91:\tlearn: 2055.5707734\ttotal: 13.1s\tremaining: 1.14s\n",
      "92:\tlearn: 2054.4441195\ttotal: 13.3s\tremaining: 1s\n",
      "93:\tlearn: 2051.5230526\ttotal: 13.4s\tremaining: 855ms\n",
      "94:\tlearn: 2050.3733870\ttotal: 13.5s\tremaining: 710ms\n",
      "95:\tlearn: 2049.0991664\ttotal: 13.7s\tremaining: 570ms\n",
      "96:\tlearn: 2046.9811067\ttotal: 13.8s\tremaining: 427ms\n",
      "97:\tlearn: 2045.8341030\ttotal: 13.9s\tremaining: 284ms\n",
      "98:\tlearn: 2043.8839608\ttotal: 14.1s\tremaining: 142ms\n",
      "99:\tlearn: 2043.0936341\ttotal: 14.2s\tremaining: 0us\n",
      "0:\tlearn: 4279.0216984\ttotal: 47.5ms\tremaining: 4.71s\n",
      "1:\tlearn: 4073.6455528\ttotal: 241ms\tremaining: 11.8s\n",
      "2:\tlearn: 3895.8686322\ttotal: 347ms\tremaining: 11.2s\n",
      "3:\tlearn: 3736.3146834\ttotal: 448ms\tremaining: 10.8s\n",
      "4:\tlearn: 3585.6884685\ttotal: 643ms\tremaining: 12.2s\n",
      "5:\tlearn: 3462.7909117\ttotal: 836ms\tremaining: 13.1s\n",
      "6:\tlearn: 3346.2108373\ttotal: 939ms\tremaining: 12.5s\n",
      "7:\tlearn: 3246.3327829\ttotal: 1.04s\tremaining: 12s\n",
      "8:\tlearn: 3162.4929578\ttotal: 1.15s\tremaining: 11.6s\n",
      "9:\tlearn: 3079.8006642\ttotal: 1.34s\tremaining: 12.1s\n",
      "10:\tlearn: 3001.9248239\ttotal: 1.44s\tremaining: 11.7s\n",
      "11:\tlearn: 2941.5554032\ttotal: 1.64s\tremaining: 12s\n",
      "12:\tlearn: 2881.3348209\ttotal: 1.74s\tremaining: 11.7s\n",
      "13:\tlearn: 2824.9108896\ttotal: 1.93s\tremaining: 11.9s\n",
      "14:\tlearn: 2771.6728299\ttotal: 2.04s\tremaining: 11.6s\n",
      "15:\tlearn: 2726.5609670\ttotal: 2.23s\tremaining: 11.7s\n",
      "16:\tlearn: 2685.1564860\ttotal: 2.34s\tremaining: 11.4s\n",
      "17:\tlearn: 2647.2019593\ttotal: 2.53s\tremaining: 11.5s\n",
      "18:\tlearn: 2610.3706023\ttotal: 2.63s\tremaining: 11.2s\n",
      "19:\tlearn: 2579.5307828\ttotal: 2.74s\tremaining: 10.9s\n",
      "20:\tlearn: 2551.3994755\ttotal: 2.93s\tremaining: 11s\n",
      "21:\tlearn: 2520.4739183\ttotal: 3.03s\tremaining: 10.8s\n",
      "22:\tlearn: 2490.4350390\ttotal: 3.23s\tremaining: 10.8s\n",
      "23:\tlearn: 2466.7006578\ttotal: 3.33s\tremaining: 10.6s\n",
      "24:\tlearn: 2442.9695513\ttotal: 3.52s\tremaining: 10.6s\n",
      "25:\tlearn: 2424.4557967\ttotal: 3.63s\tremaining: 10.3s\n",
      "26:\tlearn: 2404.7363311\ttotal: 3.73s\tremaining: 10.1s\n",
      "27:\tlearn: 2388.3651477\ttotal: 3.92s\tremaining: 10.1s\n",
      "28:\tlearn: 2374.4944476\ttotal: 4.03s\tremaining: 9.86s\n",
      "29:\tlearn: 2359.8962101\ttotal: 4.13s\tremaining: 9.64s\n",
      "30:\tlearn: 2347.1639103\ttotal: 4.32s\tremaining: 9.62s\n",
      "31:\tlearn: 2336.1480006\ttotal: 4.42s\tremaining: 9.4s\n",
      "32:\tlearn: 2317.9002610\ttotal: 4.53s\tremaining: 9.2s\n",
      "33:\tlearn: 2307.2891658\ttotal: 4.72s\tremaining: 9.17s\n",
      "34:\tlearn: 2293.1561953\ttotal: 4.83s\tremaining: 8.96s\n",
      "35:\tlearn: 2275.4573416\ttotal: 5.02s\tremaining: 8.92s\n",
      "36:\tlearn: 2264.6172637\ttotal: 5.12s\tremaining: 8.72s\n",
      "37:\tlearn: 2256.0834171\ttotal: 5.31s\tremaining: 8.67s\n",
      "38:\tlearn: 2242.9642459\ttotal: 5.42s\tremaining: 8.48s\n",
      "39:\tlearn: 2234.2964697\ttotal: 5.61s\tremaining: 8.42s\n",
      "40:\tlearn: 2227.2135887\ttotal: 5.72s\tremaining: 8.23s\n",
      "41:\tlearn: 2216.4456202\ttotal: 5.82s\tremaining: 8.04s\n",
      "42:\tlearn: 2209.3968172\ttotal: 6.01s\tremaining: 7.97s\n",
      "43:\tlearn: 2202.5781970\ttotal: 6.12s\tremaining: 7.79s\n",
      "44:\tlearn: 2197.2474823\ttotal: 6.31s\tremaining: 7.71s\n",
      "45:\tlearn: 2192.2655561\ttotal: 6.41s\tremaining: 7.53s\n",
      "46:\tlearn: 2185.8735353\ttotal: 6.61s\tremaining: 7.45s\n",
      "47:\tlearn: 2176.5824191\ttotal: 6.71s\tremaining: 7.27s\n",
      "48:\tlearn: 2171.7433474\ttotal: 6.91s\tremaining: 7.19s\n",
      "49:\tlearn: 2167.7077011\ttotal: 7.01s\tremaining: 7.01s\n",
      "50:\tlearn: 2163.6977686\ttotal: 7.12s\tremaining: 6.84s\n",
      "51:\tlearn: 2158.7603070\ttotal: 7.31s\tremaining: 6.75s\n",
      "52:\tlearn: 2151.0052842\ttotal: 7.42s\tremaining: 6.58s\n",
      "53:\tlearn: 2145.3522261\ttotal: 7.61s\tremaining: 6.48s\n",
      "54:\tlearn: 2140.8891952\ttotal: 7.71s\tremaining: 6.31s\n",
      "55:\tlearn: 2136.9295583\ttotal: 7.9s\tremaining: 6.21s\n",
      "56:\tlearn: 2133.6786443\ttotal: 8.01s\tremaining: 6.04s\n",
      "57:\tlearn: 2130.4689296\ttotal: 8.12s\tremaining: 5.88s\n",
      "58:\tlearn: 2125.8708842\ttotal: 8.3s\tremaining: 5.77s\n",
      "59:\tlearn: 2122.3916946\ttotal: 8.41s\tremaining: 5.61s\n",
      "60:\tlearn: 2117.3835884\ttotal: 8.6s\tremaining: 5.5s\n",
      "61:\tlearn: 2114.4903661\ttotal: 8.7s\tremaining: 5.33s\n",
      "62:\tlearn: 2110.2301266\ttotal: 8.81s\tremaining: 5.17s\n",
      "63:\tlearn: 2107.5105625\ttotal: 9s\tremaining: 5.06s\n",
      "64:\tlearn: 2104.8596171\ttotal: 9.1s\tremaining: 4.9s\n",
      "65:\tlearn: 2100.3713600\ttotal: 9.29s\tremaining: 4.79s\n",
      "66:\tlearn: 2097.2198111\ttotal: 9.4s\tremaining: 4.63s\n",
      "67:\tlearn: 2094.5477620\ttotal: 9.5s\tremaining: 4.47s\n",
      "68:\tlearn: 2092.5389020\ttotal: 9.7s\tremaining: 4.36s\n",
      "69:\tlearn: 2090.4938804\ttotal: 9.8s\tremaining: 4.2s\n",
      "70:\tlearn: 2088.2929979\ttotal: 9.99s\tremaining: 4.08s\n",
      "71:\tlearn: 2086.3185326\ttotal: 10.1s\tremaining: 3.93s\n",
      "72:\tlearn: 2082.4329690\ttotal: 10.2s\tremaining: 3.77s\n",
      "73:\tlearn: 2080.6327820\ttotal: 10.4s\tremaining: 3.65s\n",
      "74:\tlearn: 2078.9380201\ttotal: 10.5s\tremaining: 3.5s\n",
      "75:\tlearn: 2075.5649782\ttotal: 10.7s\tremaining: 3.38s\n",
      "76:\tlearn: 2073.2209487\ttotal: 10.8s\tremaining: 3.22s\n",
      "77:\tlearn: 2071.9127040\ttotal: 10.9s\tremaining: 3.07s\n",
      "78:\tlearn: 2069.1829728\ttotal: 11.1s\tremaining: 2.95s\n",
      "79:\tlearn: 2067.8065751\ttotal: 11.2s\tremaining: 2.8s\n",
      "80:\tlearn: 2066.3419146\ttotal: 11.4s\tremaining: 2.67s\n",
      "81:\tlearn: 2064.9928163\ttotal: 11.5s\tremaining: 2.52s\n",
      "82:\tlearn: 2062.3759957\ttotal: 11.6s\tremaining: 2.38s\n",
      "83:\tlearn: 2059.8008378\ttotal: 11.8s\tremaining: 2.24s\n",
      "84:\tlearn: 2058.3935410\ttotal: 11.9s\tremaining: 2.1s\n",
      "85:\tlearn: 2055.5301412\ttotal: 12s\tremaining: 1.95s\n",
      "86:\tlearn: 2054.0298235\ttotal: 12.2s\tremaining: 1.82s\n",
      "87:\tlearn: 2053.0680080\ttotal: 12.3s\tremaining: 1.68s\n",
      "88:\tlearn: 2052.2034361\ttotal: 12.5s\tremaining: 1.54s\n",
      "89:\tlearn: 2050.9191341\ttotal: 12.6s\tremaining: 1.4s\n",
      "90:\tlearn: 2048.9290141\ttotal: 12.8s\tremaining: 1.26s\n",
      "91:\tlearn: 2047.1110808\ttotal: 12.9s\tremaining: 1.12s\n",
      "92:\tlearn: 2045.6533428\ttotal: 13.1s\tremaining: 984ms\n",
      "93:\tlearn: 2044.8654678\ttotal: 13.2s\tremaining: 842ms\n",
      "94:\tlearn: 2042.3681104\ttotal: 13.4s\tremaining: 704ms\n",
      "95:\tlearn: 2041.1352197\ttotal: 13.5s\tremaining: 562ms\n",
      "96:\tlearn: 2038.9272595\ttotal: 13.6s\tremaining: 420ms\n",
      "97:\tlearn: 2036.6610676\ttotal: 13.8s\tremaining: 281ms\n",
      "98:\tlearn: 2035.4001689\ttotal: 13.9s\tremaining: 140ms\n",
      "99:\tlearn: 2033.5173159\ttotal: 14.1s\tremaining: 0us\n",
      "0:\tlearn: 4485.1772683\ttotal: 59.1ms\tremaining: 5.85s\n",
      "1:\tlearn: 4461.7574532\ttotal: 251ms\tremaining: 12.3s\n",
      "2:\tlearn: 4438.6712286\ttotal: 447ms\tremaining: 14.4s\n",
      "3:\tlearn: 4416.0853624\ttotal: 550ms\tremaining: 13.2s\n",
      "4:\tlearn: 4393.6957911\ttotal: 656ms\tremaining: 12.5s\n",
      "5:\tlearn: 4371.7000582\ttotal: 848ms\tremaining: 13.3s\n",
      "6:\tlearn: 4349.9616479\ttotal: 952ms\tremaining: 12.6s\n",
      "7:\tlearn: 4328.4439716\ttotal: 1.14s\tremaining: 13.1s\n",
      "8:\tlearn: 4307.1426485\ttotal: 1.25s\tremaining: 12.6s\n",
      "9:\tlearn: 4286.4788970\ttotal: 1.35s\tremaining: 12.2s\n",
      "10:\tlearn: 4265.7108350\ttotal: 1.54s\tremaining: 12.5s\n",
      "11:\tlearn: 4245.4887568\ttotal: 1.65s\tremaining: 12.1s\n",
      "12:\tlearn: 4225.2680262\ttotal: 1.84s\tremaining: 12.3s\n",
      "13:\tlearn: 4205.4125476\ttotal: 1.94s\tremaining: 11.9s\n",
      "14:\tlearn: 4185.3435221\ttotal: 2.05s\tremaining: 11.6s\n",
      "15:\tlearn: 4165.9517025\ttotal: 2.24s\tremaining: 11.8s\n",
      "16:\tlearn: 4146.8666878\ttotal: 2.34s\tremaining: 11.4s\n",
      "17:\tlearn: 4128.0168832\ttotal: 2.45s\tremaining: 11.2s\n",
      "18:\tlearn: 4109.2164643\ttotal: 2.64s\tremaining: 11.2s\n",
      "19:\tlearn: 4090.3432727\ttotal: 2.74s\tremaining: 11s\n",
      "20:\tlearn: 4072.0152359\ttotal: 2.93s\tremaining: 11s\n",
      "21:\tlearn: 4053.2804013\ttotal: 3.04s\tremaining: 10.8s\n",
      "22:\tlearn: 4035.2437645\ttotal: 3.14s\tremaining: 10.5s\n",
      "23:\tlearn: 4017.5792091\ttotal: 3.33s\tremaining: 10.6s\n",
      "24:\tlearn: 3999.9882095\ttotal: 3.44s\tremaining: 10.3s\n",
      "25:\tlearn: 3982.9102379\ttotal: 3.54s\tremaining: 10.1s\n",
      "26:\tlearn: 3966.0482595\ttotal: 3.73s\tremaining: 10.1s\n",
      "27:\tlearn: 3949.1401512\ttotal: 3.84s\tremaining: 9.87s\n",
      "28:\tlearn: 3931.9823155\ttotal: 4.03s\tremaining: 9.86s\n",
      "29:\tlearn: 3915.6553669\ttotal: 4.13s\tremaining: 9.65s\n",
      "30:\tlearn: 3899.4247724\ttotal: 4.24s\tremaining: 9.43s\n",
      "31:\tlearn: 3882.8764296\ttotal: 4.43s\tremaining: 9.41s\n",
      "32:\tlearn: 3867.0039836\ttotal: 4.54s\tremaining: 9.21s\n",
      "33:\tlearn: 3850.8993424\ttotal: 4.64s\tremaining: 9s\n",
      "34:\tlearn: 3834.9835678\ttotal: 4.83s\tremaining: 8.97s\n",
      "35:\tlearn: 3819.6193199\ttotal: 4.93s\tremaining: 8.77s\n",
      "36:\tlearn: 3804.2041873\ttotal: 5.04s\tremaining: 8.58s\n",
      "37:\tlearn: 3789.1804162\ttotal: 5.23s\tremaining: 8.53s\n",
      "38:\tlearn: 3774.1020544\ttotal: 5.33s\tremaining: 8.34s\n",
      "39:\tlearn: 3759.6825895\ttotal: 5.52s\tremaining: 8.28s\n",
      "40:\tlearn: 3745.3444204\ttotal: 5.63s\tremaining: 8.1s\n",
      "41:\tlearn: 3731.1094196\ttotal: 5.73s\tremaining: 7.92s\n",
      "42:\tlearn: 3717.0591885\ttotal: 5.92s\tremaining: 7.85s\n",
      "43:\tlearn: 3703.2452557\ttotal: 6.03s\tremaining: 7.67s\n",
      "44:\tlearn: 3689.1759283\ttotal: 6.13s\tremaining: 7.49s\n",
      "45:\tlearn: 3675.7698668\ttotal: 6.23s\tremaining: 7.31s\n",
      "46:\tlearn: 3661.0842304\ttotal: 6.42s\tremaining: 7.24s\n",
      "47:\tlearn: 3647.9596632\ttotal: 6.53s\tremaining: 7.07s\n",
      "48:\tlearn: 3633.6001336\ttotal: 6.72s\tremaining: 6.99s\n",
      "49:\tlearn: 3620.4203271\ttotal: 6.82s\tremaining: 6.82s\n",
      "50:\tlearn: 3607.6206194\ttotal: 6.92s\tremaining: 6.65s\n",
      "51:\tlearn: 3593.8281409\ttotal: 7.12s\tremaining: 6.57s\n",
      "52:\tlearn: 3581.3201764\ttotal: 7.22s\tremaining: 6.4s\n",
      "53:\tlearn: 3567.9216165\ttotal: 7.33s\tremaining: 6.24s\n",
      "54:\tlearn: 3555.8514339\ttotal: 7.52s\tremaining: 6.15s\n",
      "55:\tlearn: 3543.7956945\ttotal: 7.62s\tremaining: 5.99s\n",
      "56:\tlearn: 3530.8669872\ttotal: 7.81s\tremaining: 5.89s\n",
      "57:\tlearn: 3519.4244224\ttotal: 7.92s\tremaining: 5.73s\n",
      "58:\tlearn: 3507.5423832\ttotal: 8.02s\tremaining: 5.57s\n",
      "59:\tlearn: 3496.0985809\ttotal: 8.21s\tremaining: 5.47s\n",
      "60:\tlearn: 3483.7141299\ttotal: 8.32s\tremaining: 5.32s\n",
      "61:\tlearn: 3472.3963377\ttotal: 8.43s\tremaining: 5.16s\n",
      "62:\tlearn: 3460.3576713\ttotal: 8.61s\tremaining: 5.06s\n",
      "63:\tlearn: 3449.2884844\ttotal: 8.71s\tremaining: 4.9s\n",
      "64:\tlearn: 3437.6088827\ttotal: 8.9s\tremaining: 4.79s\n",
      "65:\tlearn: 3426.7712151\ttotal: 9.01s\tremaining: 4.64s\n",
      "66:\tlearn: 3416.2778318\ttotal: 9.11s\tremaining: 4.49s\n",
      "67:\tlearn: 3404.9110984\ttotal: 9.22s\tremaining: 4.34s\n",
      "68:\tlearn: 3394.6181698\ttotal: 9.41s\tremaining: 4.23s\n",
      "69:\tlearn: 3384.3303265\ttotal: 9.51s\tremaining: 4.08s\n",
      "70:\tlearn: 3373.3487561\ttotal: 9.61s\tremaining: 3.93s\n",
      "71:\tlearn: 3363.6387458\ttotal: 9.8s\tremaining: 3.81s\n",
      "72:\tlearn: 3353.0052602\ttotal: 9.91s\tremaining: 3.67s\n",
      "73:\tlearn: 3343.2205307\ttotal: 10.1s\tremaining: 3.55s\n",
      "74:\tlearn: 3332.1595120\ttotal: 10.2s\tremaining: 3.4s\n",
      "75:\tlearn: 3322.5070429\ttotal: 10.3s\tremaining: 3.25s\n",
      "76:\tlearn: 3313.2196201\ttotal: 10.5s\tremaining: 3.14s\n",
      "77:\tlearn: 3304.0159761\ttotal: 10.6s\tremaining: 2.99s\n",
      "78:\tlearn: 3294.0303937\ttotal: 10.8s\tremaining: 2.87s\n",
      "79:\tlearn: 3284.8911150\ttotal: 10.9s\tremaining: 2.73s\n",
      "80:\tlearn: 3275.1800698\ttotal: 11.1s\tremaining: 2.6s\n",
      "81:\tlearn: 3265.6490945\ttotal: 11.2s\tremaining: 2.46s\n",
      "82:\tlearn: 3256.8358508\ttotal: 11.4s\tremaining: 2.33s\n",
      "83:\tlearn: 3247.5036751\ttotal: 11.5s\tremaining: 2.19s\n",
      "84:\tlearn: 3238.9872070\ttotal: 11.6s\tremaining: 2.05s\n",
      "85:\tlearn: 3229.8209486\ttotal: 11.8s\tremaining: 1.92s\n",
      "86:\tlearn: 3220.8861342\ttotal: 11.9s\tremaining: 1.78s\n",
      "87:\tlearn: 3212.0704570\ttotal: 12.1s\tremaining: 1.65s\n",
      "88:\tlearn: 3203.8839569\ttotal: 12.2s\tremaining: 1.51s\n",
      "89:\tlearn: 3194.5817331\ttotal: 12.4s\tremaining: 1.38s\n",
      "90:\tlearn: 3186.3122224\ttotal: 12.5s\tremaining: 1.24s\n",
      "91:\tlearn: 3177.7508584\ttotal: 12.7s\tremaining: 1.1s\n",
      "92:\tlearn: 3169.5056142\ttotal: 12.8s\tremaining: 963ms\n",
      "93:\tlearn: 3161.8527736\ttotal: 12.9s\tremaining: 823ms\n",
      "94:\tlearn: 3154.2639209\ttotal: 13.1s\tremaining: 689ms\n",
      "95:\tlearn: 3146.3103978\ttotal: 13.2s\tremaining: 550ms\n",
      "96:\tlearn: 3139.0230080\ttotal: 13.4s\tremaining: 414ms\n",
      "97:\tlearn: 3131.7410477\ttotal: 13.5s\tremaining: 275ms\n",
      "98:\tlearn: 3124.3777971\ttotal: 13.6s\tremaining: 137ms\n",
      "99:\tlearn: 3117.1271136\ttotal: 13.8s\tremaining: 0us\n",
      "0:\tlearn: 4494.7187552\ttotal: 38.2ms\tremaining: 3.78s\n",
      "1:\tlearn: 4471.2529629\ttotal: 233ms\tremaining: 11.4s\n",
      "2:\tlearn: 4448.0094346\ttotal: 431ms\tremaining: 13.9s\n",
      "3:\tlearn: 4425.2222014\ttotal: 536ms\tremaining: 12.9s\n",
      "4:\tlearn: 4402.5864498\ttotal: 732ms\tremaining: 13.9s\n",
      "5:\tlearn: 4380.1195618\ttotal: 835ms\tremaining: 13.1s\n",
      "6:\tlearn: 4357.9978767\ttotal: 1.03s\tremaining: 13.7s\n",
      "7:\tlearn: 4336.2577307\ttotal: 1.13s\tremaining: 13s\n",
      "8:\tlearn: 4314.9539753\ttotal: 1.33s\tremaining: 13.4s\n",
      "9:\tlearn: 4293.8246666\ttotal: 1.43s\tremaining: 12.9s\n",
      "10:\tlearn: 4272.9821778\ttotal: 1.63s\tremaining: 13.2s\n",
      "11:\tlearn: 4252.4788072\ttotal: 1.82s\tremaining: 13.4s\n",
      "12:\tlearn: 4232.3541561\ttotal: 1.92s\tremaining: 12.9s\n",
      "13:\tlearn: 4211.9304758\ttotal: 2.03s\tremaining: 12.5s\n",
      "14:\tlearn: 4192.2245290\ttotal: 2.22s\tremaining: 12.6s\n",
      "15:\tlearn: 4172.9238370\ttotal: 2.42s\tremaining: 12.7s\n",
      "16:\tlearn: 4153.5567379\ttotal: 2.52s\tremaining: 12.3s\n",
      "17:\tlearn: 4134.6060997\ttotal: 2.62s\tremaining: 12s\n",
      "18:\tlearn: 4116.0421241\ttotal: 2.78s\tremaining: 11.9s\n",
      "19:\tlearn: 4097.3983625\ttotal: 2.89s\tremaining: 11.6s\n",
      "20:\tlearn: 4079.2350909\ttotal: 3.09s\tremaining: 11.6s\n",
      "21:\tlearn: 4061.0711314\ttotal: 3.28s\tremaining: 11.6s\n",
      "22:\tlearn: 4042.5296487\ttotal: 3.48s\tremaining: 11.6s\n",
      "23:\tlearn: 4025.1806493\ttotal: 3.58s\tremaining: 11.4s\n",
      "24:\tlearn: 4007.7935519\ttotal: 3.78s\tremaining: 11.3s\n",
      "25:\tlearn: 3990.4136560\ttotal: 3.89s\tremaining: 11.1s\n",
      "26:\tlearn: 3972.7305205\ttotal: 4.08s\tremaining: 11s\n",
      "27:\tlearn: 3955.8265574\ttotal: 4.18s\tremaining: 10.8s\n",
      "28:\tlearn: 3939.1664480\ttotal: 4.38s\tremaining: 10.7s\n",
      "29:\tlearn: 3922.5301854\ttotal: 4.48s\tremaining: 10.5s\n",
      "30:\tlearn: 3906.0876496\ttotal: 4.67s\tremaining: 10.4s\n",
      "31:\tlearn: 3889.8842398\ttotal: 4.78s\tremaining: 10.2s\n",
      "32:\tlearn: 3873.5930062\ttotal: 4.89s\tremaining: 9.93s\n",
      "33:\tlearn: 3857.7286046\ttotal: 5.08s\tremaining: 9.85s\n",
      "34:\tlearn: 3841.9202447\ttotal: 5.18s\tremaining: 9.62s\n",
      "35:\tlearn: 3826.3210765\ttotal: 5.37s\tremaining: 9.55s\n",
      "36:\tlearn: 3811.1566696\ttotal: 5.48s\tremaining: 9.33s\n",
      "37:\tlearn: 3796.1202739\ttotal: 5.67s\tremaining: 9.25s\n",
      "38:\tlearn: 3781.0566861\ttotal: 5.77s\tremaining: 9.03s\n",
      "39:\tlearn: 3766.4267373\ttotal: 5.97s\tremaining: 8.95s\n",
      "40:\tlearn: 3751.9235672\ttotal: 6.07s\tremaining: 8.74s\n",
      "41:\tlearn: 3737.6165083\ttotal: 6.18s\tremaining: 8.53s\n",
      "42:\tlearn: 3723.4315228\ttotal: 6.37s\tremaining: 8.44s\n",
      "43:\tlearn: 3709.4670958\ttotal: 6.47s\tremaining: 8.24s\n",
      "44:\tlearn: 3695.5310458\ttotal: 6.58s\tremaining: 8.04s\n",
      "45:\tlearn: 3680.6239519\ttotal: 6.77s\tremaining: 7.95s\n",
      "46:\tlearn: 3666.9202942\ttotal: 6.88s\tremaining: 7.75s\n",
      "47:\tlearn: 3653.5861265\ttotal: 7.07s\tremaining: 7.66s\n",
      "48:\tlearn: 3640.3086523\ttotal: 7.17s\tremaining: 7.46s\n",
      "49:\tlearn: 3627.2699761\ttotal: 7.37s\tremaining: 7.37s\n",
      "50:\tlearn: 3614.5757797\ttotal: 7.47s\tremaining: 7.17s\n",
      "51:\tlearn: 3600.5890982\ttotal: 7.57s\tremaining: 6.99s\n",
      "52:\tlearn: 3586.8345016\ttotal: 7.76s\tremaining: 6.88s\n",
      "53:\tlearn: 3573.2964802\ttotal: 7.87s\tremaining: 6.7s\n",
      "54:\tlearn: 3560.8226268\ttotal: 8.06s\tremaining: 6.59s\n",
      "55:\tlearn: 3547.6639193\ttotal: 8.16s\tremaining: 6.41s\n",
      "56:\tlearn: 3535.7433702\ttotal: 8.36s\tremaining: 6.3s\n",
      "57:\tlearn: 3523.8007083\ttotal: 8.46s\tremaining: 6.13s\n",
      "58:\tlearn: 3511.9381650\ttotal: 8.57s\tremaining: 5.96s\n",
      "59:\tlearn: 3500.4375090\ttotal: 8.76s\tremaining: 5.84s\n",
      "60:\tlearn: 3488.8659394\ttotal: 8.86s\tremaining: 5.67s\n",
      "61:\tlearn: 3477.6885093\ttotal: 9.06s\tremaining: 5.55s\n",
      "62:\tlearn: 3465.4437494\ttotal: 9.16s\tremaining: 5.38s\n",
      "63:\tlearn: 3453.3322542\ttotal: 9.35s\tremaining: 5.26s\n",
      "64:\tlearn: 3442.3502611\ttotal: 9.46s\tremaining: 5.09s\n",
      "65:\tlearn: 3430.5723586\ttotal: 9.57s\tremaining: 4.93s\n",
      "66:\tlearn: 3419.8731725\ttotal: 9.76s\tremaining: 4.8s\n",
      "67:\tlearn: 3408.4077154\ttotal: 9.86s\tremaining: 4.64s\n",
      "68:\tlearn: 3398.0796050\ttotal: 10.1s\tremaining: 4.52s\n",
      "69:\tlearn: 3386.9741632\ttotal: 10.2s\tremaining: 4.35s\n",
      "70:\tlearn: 3376.0018674\ttotal: 10.3s\tremaining: 4.23s\n",
      "71:\tlearn: 3365.7527370\ttotal: 10.5s\tremaining: 4.06s\n",
      "72:\tlearn: 3354.9992993\ttotal: 10.6s\tremaining: 3.9s\n",
      "73:\tlearn: 3344.4236404\ttotal: 10.7s\tremaining: 3.78s\n",
      "74:\tlearn: 3334.7899261\ttotal: 10.9s\tremaining: 3.62s\n",
      "75:\tlearn: 3324.4833014\ttotal: 11s\tremaining: 3.46s\n",
      "76:\tlearn: 3314.5532439\ttotal: 11.1s\tremaining: 3.33s\n",
      "77:\tlearn: 3305.0719018\ttotal: 11.3s\tremaining: 3.17s\n",
      "78:\tlearn: 3295.7605409\ttotal: 11.4s\tremaining: 3.02s\n",
      "79:\tlearn: 3286.5097582\ttotal: 11.5s\tremaining: 2.89s\n",
      "80:\tlearn: 3276.7873467\ttotal: 11.7s\tremaining: 2.73s\n",
      "81:\tlearn: 3267.2770655\ttotal: 11.8s\tremaining: 2.58s\n",
      "82:\tlearn: 3258.4157932\ttotal: 11.9s\tremaining: 2.45s\n",
      "83:\tlearn: 3249.0777110\ttotal: 12s\tremaining: 2.29s\n",
      "84:\tlearn: 3239.7590429\ttotal: 12.2s\tremaining: 2.16s\n",
      "85:\tlearn: 3231.4699454\ttotal: 12.3s\tremaining: 2.01s\n",
      "86:\tlearn: 3222.4842842\ttotal: 12.4s\tremaining: 1.86s\n",
      "87:\tlearn: 3214.1204605\ttotal: 12.6s\tremaining: 1.72s\n",
      "88:\tlearn: 3205.4235520\ttotal: 12.7s\tremaining: 1.57s\n",
      "89:\tlearn: 3197.3392725\ttotal: 12.8s\tremaining: 1.43s\n",
      "90:\tlearn: 3188.0406042\ttotal: 13s\tremaining: 1.29s\n",
      "91:\tlearn: 3180.1039185\ttotal: 13.1s\tremaining: 1.14s\n",
      "92:\tlearn: 3172.1319327\ttotal: 13.3s\tremaining: 1s\n",
      "93:\tlearn: 3164.4613023\ttotal: 13.4s\tremaining: 858ms\n",
      "94:\tlearn: 3156.1060496\ttotal: 13.5s\tremaining: 713ms\n",
      "95:\tlearn: 3148.3703424\ttotal: 13.7s\tremaining: 572ms\n",
      "96:\tlearn: 3139.5907841\ttotal: 13.8s\tremaining: 428ms\n",
      "97:\tlearn: 3132.2044317\ttotal: 13.9s\tremaining: 285ms\n",
      "98:\tlearn: 3124.9231585\ttotal: 14.1s\tremaining: 143ms\n",
      "99:\tlearn: 3116.4131690\ttotal: 14.2s\tremaining: 0us\n",
      "0:\tlearn: 4485.6556102\ttotal: 69.6ms\tremaining: 6.89s\n",
      "1:\tlearn: 4462.2867185\ttotal: 264ms\tremaining: 13s\n",
      "2:\tlearn: 4439.1442369\ttotal: 368ms\tremaining: 11.9s\n",
      "3:\tlearn: 4416.5511727\ttotal: 472ms\tremaining: 11.3s\n",
      "4:\tlearn: 4394.2541142\ttotal: 665ms\tremaining: 12.6s\n",
      "5:\tlearn: 4372.2073177\ttotal: 769ms\tremaining: 12.1s\n",
      "6:\tlearn: 4350.2994261\ttotal: 961ms\tremaining: 12.8s\n",
      "7:\tlearn: 4328.7304614\ttotal: 1.06s\tremaining: 12.2s\n",
      "8:\tlearn: 4307.8138610\ttotal: 1.26s\tremaining: 12.7s\n",
      "9:\tlearn: 4286.9558479\ttotal: 1.36s\tremaining: 12.2s\n",
      "10:\tlearn: 4266.3040627\ttotal: 1.46s\tremaining: 11.9s\n",
      "11:\tlearn: 4246.0305804\ttotal: 1.66s\tremaining: 12.2s\n",
      "12:\tlearn: 4226.1544060\ttotal: 1.76s\tremaining: 11.8s\n",
      "13:\tlearn: 4206.1258178\ttotal: 1.96s\tremaining: 12s\n",
      "14:\tlearn: 4186.4327335\ttotal: 2.06s\tremaining: 11.7s\n",
      "15:\tlearn: 4166.6548047\ttotal: 2.25s\tremaining: 11.8s\n",
      "16:\tlearn: 4147.5372438\ttotal: 2.36s\tremaining: 11.5s\n",
      "17:\tlearn: 4128.5451592\ttotal: 2.46s\tremaining: 11.2s\n",
      "18:\tlearn: 4109.8488465\ttotal: 2.65s\tremaining: 11.3s\n",
      "19:\tlearn: 4091.0705847\ttotal: 2.76s\tremaining: 11s\n",
      "20:\tlearn: 4072.1469195\ttotal: 2.95s\tremaining: 11.1s\n",
      "21:\tlearn: 4054.0419888\ttotal: 3.06s\tremaining: 10.8s\n",
      "22:\tlearn: 4035.5731700\ttotal: 3.16s\tremaining: 10.6s\n",
      "23:\tlearn: 4017.7948361\ttotal: 3.35s\tremaining: 10.6s\n",
      "24:\tlearn: 4000.2779377\ttotal: 3.45s\tremaining: 10.4s\n",
      "25:\tlearn: 3982.9566680\ttotal: 3.56s\tremaining: 10.1s\n",
      "26:\tlearn: 3965.8259144\ttotal: 3.75s\tremaining: 10.1s\n",
      "27:\tlearn: 3948.7445515\ttotal: 3.85s\tremaining: 9.91s\n",
      "28:\tlearn: 3932.1170845\ttotal: 4.05s\tremaining: 9.91s\n",
      "29:\tlearn: 3916.0176468\ttotal: 4.15s\tremaining: 9.69s\n",
      "30:\tlearn: 3899.4538961\ttotal: 4.25s\tremaining: 9.47s\n",
      "31:\tlearn: 3883.2773778\ttotal: 4.45s\tremaining: 9.45s\n",
      "32:\tlearn: 3867.5033327\ttotal: 4.55s\tremaining: 9.24s\n",
      "33:\tlearn: 3851.8415547\ttotal: 4.65s\tremaining: 9.03s\n",
      "34:\tlearn: 3836.8408501\ttotal: 4.84s\tremaining: 8.99s\n",
      "35:\tlearn: 3821.3702105\ttotal: 4.95s\tremaining: 8.8s\n",
      "36:\tlearn: 3806.0634402\ttotal: 5.14s\tremaining: 8.75s\n",
      "37:\tlearn: 3790.9111443\ttotal: 5.24s\tremaining: 8.55s\n",
      "38:\tlearn: 3776.0250768\ttotal: 5.35s\tremaining: 8.36s\n",
      "39:\tlearn: 3761.4212761\ttotal: 5.54s\tremaining: 8.31s\n",
      "40:\tlearn: 3747.1883424\ttotal: 5.64s\tremaining: 8.12s\n",
      "41:\tlearn: 3732.9542178\ttotal: 5.83s\tremaining: 8.06s\n",
      "42:\tlearn: 3717.9096795\ttotal: 5.94s\tremaining: 7.87s\n",
      "43:\tlearn: 3703.1096462\ttotal: 6.04s\tremaining: 7.69s\n",
      "44:\tlearn: 3689.0243420\ttotal: 6.23s\tremaining: 7.62s\n",
      "45:\tlearn: 3675.1806324\ttotal: 6.34s\tremaining: 7.44s\n",
      "46:\tlearn: 3660.8731218\ttotal: 6.44s\tremaining: 7.26s\n",
      "47:\tlearn: 3647.4418065\ttotal: 6.63s\tremaining: 7.18s\n",
      "48:\tlearn: 3634.1469879\ttotal: 6.74s\tremaining: 7.01s\n",
      "49:\tlearn: 3621.1482582\ttotal: 6.84s\tremaining: 6.84s\n",
      "50:\tlearn: 3608.4249054\ttotal: 7.03s\tremaining: 6.75s\n",
      "51:\tlearn: 3595.9213235\ttotal: 7.13s\tremaining: 6.58s\n",
      "52:\tlearn: 3583.3348415\ttotal: 7.24s\tremaining: 6.42s\n",
      "53:\tlearn: 3569.9371398\ttotal: 7.43s\tremaining: 6.33s\n",
      "54:\tlearn: 3557.6331146\ttotal: 7.53s\tremaining: 6.16s\n",
      "55:\tlearn: 3545.5254487\ttotal: 7.63s\tremaining: 6s\n",
      "56:\tlearn: 3533.5279754\ttotal: 7.83s\tremaining: 5.9s\n",
      "57:\tlearn: 3521.6370441\ttotal: 7.93s\tremaining: 5.74s\n",
      "58:\tlearn: 3510.0649720\ttotal: 8.12s\tremaining: 5.64s\n",
      "59:\tlearn: 3498.4151746\ttotal: 8.22s\tremaining: 5.48s\n",
      "60:\tlearn: 3486.0778762\ttotal: 8.33s\tremaining: 5.33s\n",
      "61:\tlearn: 3473.9580832\ttotal: 8.52s\tremaining: 5.22s\n",
      "62:\tlearn: 3461.9665872\ttotal: 8.63s\tremaining: 5.07s\n",
      "63:\tlearn: 3451.1310650\ttotal: 8.73s\tremaining: 4.91s\n",
      "64:\tlearn: 3440.1203116\ttotal: 8.92s\tremaining: 4.8s\n",
      "65:\tlearn: 3429.5130606\ttotal: 9.03s\tremaining: 4.65s\n",
      "66:\tlearn: 3418.0603712\ttotal: 9.22s\tremaining: 4.54s\n",
      "67:\tlearn: 3406.8123506\ttotal: 9.32s\tremaining: 4.38s\n",
      "68:\tlearn: 3396.2907436\ttotal: 9.43s\tremaining: 4.23s\n",
      "69:\tlearn: 3385.2996946\ttotal: 9.53s\tremaining: 4.08s\n",
      "70:\tlearn: 3375.2261234\ttotal: 9.72s\tremaining: 3.97s\n",
      "71:\tlearn: 3365.0673063\ttotal: 9.82s\tremaining: 3.82s\n",
      "72:\tlearn: 3354.4605301\ttotal: 9.92s\tremaining: 3.67s\n",
      "73:\tlearn: 3343.9941856\ttotal: 10.1s\tremaining: 3.55s\n",
      "74:\tlearn: 3334.1423679\ttotal: 10.2s\tremaining: 3.41s\n",
      "75:\tlearn: 3324.4350288\ttotal: 10.3s\tremaining: 3.26s\n",
      "76:\tlearn: 3314.8829708\ttotal: 10.5s\tremaining: 3.14s\n",
      "77:\tlearn: 3305.4312876\ttotal: 10.6s\tremaining: 2.99s\n",
      "78:\tlearn: 3295.5738438\ttotal: 10.8s\tremaining: 2.87s\n",
      "79:\tlearn: 3286.5385147\ttotal: 10.9s\tremaining: 2.73s\n",
      "80:\tlearn: 3277.4329457\ttotal: 11.1s\tremaining: 2.6s\n",
      "81:\tlearn: 3268.5384528\ttotal: 11.2s\tremaining: 2.46s\n",
      "82:\tlearn: 3258.8844496\ttotal: 11.3s\tremaining: 2.32s\n",
      "83:\tlearn: 3250.4001492\ttotal: 11.4s\tremaining: 2.17s\n",
      "84:\tlearn: 3240.9864065\ttotal: 11.6s\tremaining: 2.05s\n",
      "85:\tlearn: 3232.6800226\ttotal: 11.8s\tremaining: 1.92s\n",
      "86:\tlearn: 3222.9256396\ttotal: 11.9s\tremaining: 1.78s\n",
      "87:\tlearn: 3214.0232608\ttotal: 12s\tremaining: 1.64s\n",
      "88:\tlearn: 3205.7047635\ttotal: 12.2s\tremaining: 1.51s\n",
      "89:\tlearn: 3197.0552391\ttotal: 12.3s\tremaining: 1.37s\n",
      "90:\tlearn: 3189.0727592\ttotal: 12.4s\tremaining: 1.23s\n",
      "91:\tlearn: 3179.8692026\ttotal: 12.6s\tremaining: 1.09s\n",
      "92:\tlearn: 3171.9540093\ttotal: 12.7s\tremaining: 956ms\n",
      "93:\tlearn: 3163.7853547\ttotal: 12.8s\tremaining: 818ms\n",
      "94:\tlearn: 3156.0856643\ttotal: 13s\tremaining: 684ms\n",
      "95:\tlearn: 3148.6488854\ttotal: 13.1s\tremaining: 546ms\n",
      "96:\tlearn: 3141.2578384\ttotal: 13.2s\tremaining: 409ms\n",
      "97:\tlearn: 3132.6542169\ttotal: 13.4s\tremaining: 273ms\n",
      "98:\tlearn: 3124.9020918\ttotal: 13.5s\tremaining: 136ms\n",
      "99:\tlearn: 3117.7345577\ttotal: 13.7s\tremaining: 0us\n",
      "0:\tlearn: 4490.8073936\ttotal: 83.4ms\tremaining: 8.26s\n",
      "1:\tlearn: 4467.4702754\ttotal: 277ms\tremaining: 13.6s\n",
      "2:\tlearn: 4444.4785885\ttotal: 382ms\tremaining: 12.4s\n",
      "3:\tlearn: 4422.0926481\ttotal: 574ms\tremaining: 13.8s\n",
      "4:\tlearn: 4399.9073273\ttotal: 681ms\tremaining: 12.9s\n",
      "5:\tlearn: 4377.8805091\ttotal: 784ms\tremaining: 12.3s\n",
      "6:\tlearn: 4356.0657057\ttotal: 974ms\tremaining: 12.9s\n",
      "7:\tlearn: 4334.5226958\ttotal: 1.08s\tremaining: 12.4s\n",
      "8:\tlearn: 4313.2355280\ttotal: 1.18s\tremaining: 11.9s\n",
      "9:\tlearn: 4292.3946206\ttotal: 1.37s\tremaining: 12.3s\n",
      "10:\tlearn: 4271.7089269\ttotal: 1.48s\tremaining: 11.9s\n",
      "11:\tlearn: 4251.5484179\ttotal: 1.58s\tremaining: 11.6s\n",
      "12:\tlearn: 4231.5505706\ttotal: 1.77s\tremaining: 11.9s\n",
      "13:\tlearn: 4211.8879102\ttotal: 1.87s\tremaining: 11.5s\n",
      "14:\tlearn: 4192.5956353\ttotal: 2.07s\tremaining: 11.7s\n",
      "15:\tlearn: 4172.8825333\ttotal: 2.17s\tremaining: 11.4s\n",
      "16:\tlearn: 4153.5650965\ttotal: 2.37s\tremaining: 11.6s\n",
      "17:\tlearn: 4134.1004213\ttotal: 2.47s\tremaining: 11.2s\n",
      "18:\tlearn: 4115.3245086\ttotal: 2.58s\tremaining: 11s\n",
      "19:\tlearn: 4096.7520796\ttotal: 2.77s\tremaining: 11.1s\n",
      "20:\tlearn: 4078.3950386\ttotal: 2.87s\tremaining: 10.8s\n",
      "21:\tlearn: 4060.1819443\ttotal: 3.06s\tremaining: 10.9s\n",
      "22:\tlearn: 4041.9153647\ttotal: 3.16s\tremaining: 10.6s\n",
      "23:\tlearn: 4024.3923441\ttotal: 3.27s\tremaining: 10.3s\n",
      "24:\tlearn: 4006.8849046\ttotal: 3.37s\tremaining: 10.1s\n",
      "25:\tlearn: 3989.8598593\ttotal: 3.56s\tremaining: 10.1s\n",
      "26:\tlearn: 3972.8758400\ttotal: 3.67s\tremaining: 9.91s\n",
      "27:\tlearn: 3955.8866178\ttotal: 3.86s\tremaining: 9.92s\n",
      "28:\tlearn: 3939.8072056\ttotal: 3.96s\tremaining: 9.7s\n",
      "29:\tlearn: 3923.2704988\ttotal: 4.07s\tremaining: 9.48s\n",
      "30:\tlearn: 3907.5796904\ttotal: 4.26s\tremaining: 9.48s\n",
      "31:\tlearn: 3891.2152146\ttotal: 4.36s\tremaining: 9.27s\n",
      "32:\tlearn: 3875.1126166\ttotal: 4.47s\tremaining: 9.07s\n",
      "33:\tlearn: 3859.5562857\ttotal: 4.66s\tremaining: 9.04s\n",
      "34:\tlearn: 3844.0047325\ttotal: 4.76s\tremaining: 8.85s\n",
      "35:\tlearn: 3828.5453037\ttotal: 4.95s\tremaining: 8.8s\n",
      "36:\tlearn: 3813.3691855\ttotal: 5.06s\tremaining: 8.61s\n",
      "37:\tlearn: 3797.4126461\ttotal: 5.16s\tremaining: 8.41s\n",
      "38:\tlearn: 3782.4139154\ttotal: 5.35s\tremaining: 8.37s\n",
      "39:\tlearn: 3766.8403292\ttotal: 5.45s\tremaining: 8.18s\n",
      "40:\tlearn: 3752.3450792\ttotal: 5.56s\tremaining: 8s\n",
      "41:\tlearn: 3738.0049800\ttotal: 5.75s\tremaining: 7.94s\n",
      "42:\tlearn: 3723.8148981\ttotal: 5.85s\tremaining: 7.76s\n",
      "43:\tlearn: 3708.9654709\ttotal: 6.05s\tremaining: 7.7s\n",
      "44:\tlearn: 3695.2817407\ttotal: 6.15s\tremaining: 7.51s\n",
      "45:\tlearn: 3681.5445006\ttotal: 6.25s\tremaining: 7.34s\n",
      "46:\tlearn: 3667.2190186\ttotal: 6.45s\tremaining: 7.27s\n",
      "47:\tlearn: 3653.7633012\ttotal: 6.55s\tremaining: 7.09s\n",
      "48:\tlearn: 3640.5519773\ttotal: 6.74s\tremaining: 7.02s\n",
      "49:\tlearn: 3627.4300456\ttotal: 6.84s\tremaining: 6.84s\n",
      "50:\tlearn: 3614.6195389\ttotal: 6.95s\tremaining: 6.68s\n",
      "51:\tlearn: 3601.8887071\ttotal: 7.05s\tremaining: 6.51s\n",
      "52:\tlearn: 3589.4222494\ttotal: 7.24s\tremaining: 6.42s\n",
      "53:\tlearn: 3577.2072792\ttotal: 7.35s\tremaining: 6.26s\n",
      "54:\tlearn: 3565.2483899\ttotal: 7.54s\tremaining: 6.17s\n",
      "55:\tlearn: 3552.1435531\ttotal: 7.65s\tremaining: 6.01s\n",
      "56:\tlearn: 3540.2937078\ttotal: 7.76s\tremaining: 5.85s\n",
      "57:\tlearn: 3528.3952726\ttotal: 7.94s\tremaining: 5.75s\n",
      "58:\tlearn: 3516.6635860\ttotal: 8.05s\tremaining: 5.59s\n",
      "59:\tlearn: 3504.1042376\ttotal: 8.24s\tremaining: 5.49s\n",
      "60:\tlearn: 3491.8108683\ttotal: 8.34s\tremaining: 5.33s\n",
      "61:\tlearn: 3480.4310462\ttotal: 8.53s\tremaining: 5.23s\n",
      "62:\tlearn: 3468.4342278\ttotal: 8.64s\tremaining: 5.07s\n",
      "63:\tlearn: 3456.5825093\ttotal: 8.74s\tremaining: 4.92s\n",
      "64:\tlearn: 3445.5972934\ttotal: 8.93s\tremaining: 4.81s\n",
      "65:\tlearn: 3434.0618470\ttotal: 9.04s\tremaining: 4.65s\n",
      "66:\tlearn: 3422.7433575\ttotal: 9.14s\tremaining: 4.5s\n",
      "67:\tlearn: 3412.1699862\ttotal: 9.33s\tremaining: 4.39s\n",
      "68:\tlearn: 3401.6643216\ttotal: 9.44s\tremaining: 4.24s\n",
      "69:\tlearn: 3391.3519207\ttotal: 9.54s\tremaining: 4.09s\n",
      "70:\tlearn: 3380.4764202\ttotal: 9.73s\tremaining: 3.98s\n",
      "71:\tlearn: 3369.8347519\ttotal: 9.84s\tremaining: 3.83s\n",
      "72:\tlearn: 3360.0600521\ttotal: 10s\tremaining: 3.71s\n",
      "73:\tlearn: 3349.6428327\ttotal: 10.1s\tremaining: 3.56s\n",
      "74:\tlearn: 3339.9076732\ttotal: 10.3s\tremaining: 3.44s\n",
      "75:\tlearn: 3330.4418500\ttotal: 10.4s\tremaining: 3.29s\n",
      "76:\tlearn: 3321.1381805\ttotal: 10.5s\tremaining: 3.15s\n",
      "77:\tlearn: 3312.0643899\ttotal: 10.7s\tremaining: 3.02s\n",
      "78:\tlearn: 3302.2149267\ttotal: 10.8s\tremaining: 2.88s\n",
      "79:\tlearn: 3292.5068985\ttotal: 10.9s\tremaining: 2.73s\n",
      "80:\tlearn: 3283.0369561\ttotal: 11.1s\tremaining: 2.61s\n",
      "81:\tlearn: 3273.6744866\ttotal: 11.2s\tremaining: 2.46s\n",
      "82:\tlearn: 3264.8338110\ttotal: 11.4s\tremaining: 2.34s\n",
      "83:\tlearn: 3255.9964413\ttotal: 11.5s\tremaining: 2.19s\n",
      "84:\tlearn: 3247.3599507\ttotal: 11.6s\tremaining: 2.05s\n",
      "85:\tlearn: 3238.7642995\ttotal: 11.8s\tremaining: 1.92s\n",
      "86:\tlearn: 3229.0940822\ttotal: 11.9s\tremaining: 1.78s\n",
      "87:\tlearn: 3220.8321379\ttotal: 12s\tremaining: 1.64s\n",
      "88:\tlearn: 3212.8375922\ttotal: 12.2s\tremaining: 1.51s\n",
      "89:\tlearn: 3204.2829260\ttotal: 12.3s\tremaining: 1.37s\n",
      "90:\tlearn: 3196.2771985\ttotal: 12.4s\tremaining: 1.23s\n",
      "91:\tlearn: 3188.4285980\ttotal: 12.6s\tremaining: 1.1s\n",
      "92:\tlearn: 3179.3489559\ttotal: 12.7s\tremaining: 958ms\n",
      "93:\tlearn: 3170.4392951\ttotal: 12.9s\tremaining: 824ms\n",
      "94:\tlearn: 3161.7172237\ttotal: 13s\tremaining: 685ms\n",
      "95:\tlearn: 3154.0599901\ttotal: 13.2s\tremaining: 551ms\n",
      "96:\tlearn: 3145.5151791\ttotal: 13.3s\tremaining: 412ms\n",
      "97:\tlearn: 3138.2441359\ttotal: 13.4s\tremaining: 274ms\n",
      "98:\tlearn: 3131.1033527\ttotal: 13.6s\tremaining: 137ms\n",
      "99:\tlearn: 3123.9731701\ttotal: 13.7s\tremaining: 0us\n",
      "0:\tlearn: 4483.8928883\ttotal: 97.3ms\tremaining: 9.63s\n",
      "1:\tlearn: 4460.5078336\ttotal: 293ms\tremaining: 14.3s\n",
      "2:\tlearn: 4437.4684860\ttotal: 399ms\tremaining: 12.9s\n",
      "3:\tlearn: 4415.1746379\ttotal: 591ms\tremaining: 14.2s\n",
      "4:\tlearn: 4392.6864926\ttotal: 790ms\tremaining: 15s\n",
      "5:\tlearn: 4370.6919976\ttotal: 894ms\tremaining: 14s\n",
      "6:\tlearn: 4348.8828255\ttotal: 1s\tremaining: 13.3s\n",
      "7:\tlearn: 4327.2992220\ttotal: 1.19s\tremaining: 13.7s\n",
      "8:\tlearn: 4306.0328474\ttotal: 1.29s\tremaining: 13.1s\n",
      "9:\tlearn: 4285.3870269\ttotal: 1.49s\tremaining: 13.4s\n",
      "10:\tlearn: 4264.6685195\ttotal: 1.59s\tremaining: 12.9s\n",
      "11:\tlearn: 4244.5057846\ttotal: 1.69s\tremaining: 12.4s\n",
      "12:\tlearn: 4224.2839707\ttotal: 1.89s\tremaining: 12.6s\n",
      "13:\tlearn: 4204.6537461\ttotal: 1.99s\tremaining: 12.2s\n",
      "14:\tlearn: 4185.4715358\ttotal: 2.09s\tremaining: 11.9s\n",
      "15:\tlearn: 4165.8360959\ttotal: 2.28s\tremaining: 12s\n",
      "16:\tlearn: 4146.6496940\ttotal: 2.39s\tremaining: 11.7s\n",
      "17:\tlearn: 4127.6857400\ttotal: 2.49s\tremaining: 11.3s\n",
      "18:\tlearn: 4109.0141899\ttotal: 2.68s\tremaining: 11.4s\n",
      "19:\tlearn: 4090.5652198\ttotal: 2.78s\tremaining: 11.1s\n",
      "20:\tlearn: 4072.2311557\ttotal: 2.98s\tremaining: 11.2s\n",
      "21:\tlearn: 4053.9442047\ttotal: 3.08s\tremaining: 10.9s\n",
      "22:\tlearn: 4035.6090427\ttotal: 3.19s\tremaining: 10.7s\n",
      "23:\tlearn: 4017.4766479\ttotal: 3.38s\tremaining: 10.7s\n",
      "24:\tlearn: 4000.1894743\ttotal: 3.48s\tremaining: 10.4s\n",
      "25:\tlearn: 3982.9819249\ttotal: 3.59s\tremaining: 10.2s\n",
      "26:\tlearn: 3965.7924429\ttotal: 3.77s\tremaining: 10.2s\n",
      "27:\tlearn: 3948.8887387\ttotal: 3.88s\tremaining: 9.97s\n",
      "28:\tlearn: 3932.3391224\ttotal: 3.98s\tremaining: 9.76s\n",
      "29:\tlearn: 3916.2028066\ttotal: 4.17s\tremaining: 9.74s\n",
      "30:\tlearn: 3899.6166474\ttotal: 4.28s\tremaining: 9.52s\n",
      "31:\tlearn: 3883.2878606\ttotal: 4.38s\tremaining: 9.31s\n",
      "32:\tlearn: 3867.3269610\ttotal: 4.57s\tremaining: 9.28s\n",
      "33:\tlearn: 3851.6139081\ttotal: 4.67s\tremaining: 9.07s\n",
      "34:\tlearn: 3836.4856843\ttotal: 4.87s\tremaining: 9.04s\n",
      "35:\tlearn: 3821.3099741\ttotal: 4.97s\tremaining: 8.83s\n",
      "36:\tlearn: 3806.3234468\ttotal: 5.07s\tremaining: 8.64s\n",
      "37:\tlearn: 3791.1748750\ttotal: 5.26s\tremaining: 8.59s\n",
      "38:\tlearn: 3776.3427733\ttotal: 5.37s\tremaining: 8.39s\n",
      "39:\tlearn: 3761.5555533\ttotal: 5.47s\tremaining: 8.21s\n",
      "40:\tlearn: 3747.1231998\ttotal: 5.67s\tremaining: 8.15s\n",
      "41:\tlearn: 3732.6633285\ttotal: 5.77s\tremaining: 7.97s\n",
      "42:\tlearn: 3718.4718996\ttotal: 5.87s\tremaining: 7.78s\n",
      "43:\tlearn: 3704.6610023\ttotal: 6.06s\tremaining: 7.72s\n",
      "44:\tlearn: 3690.6119292\ttotal: 6.17s\tremaining: 7.54s\n",
      "45:\tlearn: 3677.0723830\ttotal: 6.36s\tremaining: 7.46s\n",
      "46:\tlearn: 3663.8279171\ttotal: 6.46s\tremaining: 7.29s\n",
      "47:\tlearn: 3649.3347405\ttotal: 6.56s\tremaining: 7.11s\n",
      "48:\tlearn: 3636.3213801\ttotal: 6.76s\tremaining: 7.03s\n",
      "49:\tlearn: 3622.2600282\ttotal: 6.86s\tremaining: 6.86s\n",
      "50:\tlearn: 3609.4681479\ttotal: 6.96s\tremaining: 6.69s\n",
      "51:\tlearn: 3596.6818125\ttotal: 7.16s\tremaining: 6.61s\n",
      "52:\tlearn: 3583.1910189\ttotal: 7.26s\tremaining: 6.44s\n",
      "53:\tlearn: 3570.8179542\ttotal: 7.46s\tremaining: 6.35s\n",
      "54:\tlearn: 3558.6311994\ttotal: 7.56s\tremaining: 6.19s\n",
      "55:\tlearn: 3546.5918222\ttotal: 7.75s\tremaining: 6.09s\n",
      "56:\tlearn: 3533.5861347\ttotal: 7.86s\tremaining: 5.93s\n",
      "57:\tlearn: 3521.9030777\ttotal: 7.96s\tremaining: 5.76s\n",
      "58:\tlearn: 3510.1151545\ttotal: 8.15s\tremaining: 5.66s\n",
      "59:\tlearn: 3498.5813793\ttotal: 8.25s\tremaining: 5.5s\n",
      "60:\tlearn: 3486.1025745\ttotal: 8.36s\tremaining: 5.34s\n",
      "61:\tlearn: 3474.9745954\ttotal: 8.55s\tremaining: 5.24s\n",
      "62:\tlearn: 3462.7937905\ttotal: 8.66s\tremaining: 5.09s\n",
      "63:\tlearn: 3451.8005687\ttotal: 8.85s\tremaining: 4.98s\n",
      "64:\tlearn: 3439.9077654\ttotal: 8.95s\tremaining: 4.82s\n",
      "65:\tlearn: 3429.1359874\ttotal: 9.06s\tremaining: 4.67s\n",
      "66:\tlearn: 3418.6107620\ttotal: 9.25s\tremaining: 4.55s\n",
      "67:\tlearn: 3407.1571151\ttotal: 9.35s\tremaining: 4.4s\n",
      "68:\tlearn: 3395.8652740\ttotal: 9.54s\tremaining: 4.29s\n",
      "69:\tlearn: 3384.7818888\ttotal: 9.64s\tremaining: 4.13s\n",
      "70:\tlearn: 3374.7211141\ttotal: 9.75s\tremaining: 3.98s\n",
      "71:\tlearn: 3364.5587322\ttotal: 9.85s\tremaining: 3.83s\n",
      "72:\tlearn: 3353.9043992\ttotal: 10s\tremaining: 3.71s\n",
      "73:\tlearn: 3344.0231389\ttotal: 10.1s\tremaining: 3.56s\n",
      "74:\tlearn: 3334.4169762\ttotal: 10.3s\tremaining: 3.42s\n",
      "75:\tlearn: 3324.0513067\ttotal: 10.4s\tremaining: 3.3s\n",
      "76:\tlearn: 3313.9196179\ttotal: 10.5s\tremaining: 3.15s\n",
      "77:\tlearn: 3304.4858092\ttotal: 10.7s\tremaining: 3.03s\n",
      "78:\tlearn: 3295.4216176\ttotal: 10.8s\tremaining: 2.88s\n",
      "79:\tlearn: 3285.6121274\ttotal: 10.9s\tremaining: 2.74s\n",
      "80:\tlearn: 3276.6002925\ttotal: 11.1s\tremaining: 2.61s\n",
      "81:\tlearn: 3267.8736676\ttotal: 11.2s\tremaining: 2.47s\n",
      "82:\tlearn: 3257.7339870\ttotal: 11.4s\tremaining: 2.34s\n",
      "83:\tlearn: 3248.3733053\ttotal: 11.5s\tremaining: 2.2s\n",
      "84:\tlearn: 3239.1809550\ttotal: 11.6s\tremaining: 2.05s\n",
      "85:\tlearn: 3230.1399021\ttotal: 11.8s\tremaining: 1.93s\n",
      "86:\tlearn: 3221.7660011\ttotal: 11.9s\tremaining: 1.78s\n",
      "87:\tlearn: 3213.4848737\ttotal: 12s\tremaining: 1.64s\n",
      "88:\tlearn: 3205.3938508\ttotal: 12.2s\tremaining: 1.51s\n",
      "89:\tlearn: 3197.2997666\ttotal: 12.3s\tremaining: 1.37s\n",
      "90:\tlearn: 3189.4361700\ttotal: 12.4s\tremaining: 1.23s\n",
      "91:\tlearn: 3181.7867562\ttotal: 12.6s\tremaining: 1.1s\n",
      "92:\tlearn: 3173.4007873\ttotal: 12.7s\tremaining: 959ms\n",
      "93:\tlearn: 3165.9300240\ttotal: 12.9s\tremaining: 825ms\n",
      "94:\tlearn: 3157.7653458\ttotal: 13s\tremaining: 686ms\n",
      "95:\tlearn: 3148.9570839\ttotal: 13.2s\tremaining: 551ms\n",
      "96:\tlearn: 3141.4798353\ttotal: 13.3s\tremaining: 412ms\n",
      "97:\tlearn: 3132.8637696\ttotal: 13.5s\tremaining: 276ms\n",
      "98:\tlearn: 3125.4166270\ttotal: 13.6s\tremaining: 138ms\n",
      "99:\tlearn: 3117.7465600\ttotal: 13.8s\tremaining: 0us\n",
      "0:\tlearn: 4057.4623947\ttotal: 34.1ms\tremaining: 3.37s\n",
      "1:\tlearn: 3716.8304403\ttotal: 225ms\tremaining: 11s\n",
      "2:\tlearn: 3438.9255533\ttotal: 421ms\tremaining: 13.6s\n",
      "3:\tlearn: 3225.2668818\ttotal: 524ms\tremaining: 12.6s\n",
      "4:\tlearn: 3058.7038412\ttotal: 718ms\tremaining: 13.6s\n",
      "5:\tlearn: 2921.6659843\ttotal: 820ms\tremaining: 12.8s\n",
      "6:\tlearn: 2824.2818108\ttotal: 927ms\tremaining: 12.3s\n",
      "7:\tlearn: 2732.0808184\ttotal: 1.12s\tremaining: 12.8s\n",
      "8:\tlearn: 2651.6957047\ttotal: 1.22s\tremaining: 12.4s\n",
      "9:\tlearn: 2590.4487441\ttotal: 1.42s\tremaining: 12.7s\n",
      "10:\tlearn: 2536.4619805\ttotal: 1.52s\tremaining: 12.3s\n",
      "11:\tlearn: 2480.2780408\ttotal: 1.71s\tremaining: 12.6s\n",
      "12:\tlearn: 2435.7457226\ttotal: 1.82s\tremaining: 12.2s\n",
      "13:\tlearn: 2402.2782545\ttotal: 2.01s\tremaining: 12.4s\n",
      "14:\tlearn: 2353.6001812\ttotal: 2.12s\tremaining: 12s\n",
      "15:\tlearn: 2326.8592111\ttotal: 2.31s\tremaining: 12.1s\n",
      "16:\tlearn: 2297.6725290\ttotal: 2.42s\tremaining: 11.8s\n",
      "17:\tlearn: 2281.0215940\ttotal: 2.61s\tremaining: 11.9s\n",
      "18:\tlearn: 2256.6593708\ttotal: 2.72s\tremaining: 11.6s\n",
      "19:\tlearn: 2241.0630001\ttotal: 2.82s\tremaining: 11.3s\n",
      "20:\tlearn: 2227.9825404\ttotal: 3.01s\tremaining: 11.3s\n",
      "21:\tlearn: 2204.8738440\ttotal: 3.11s\tremaining: 11s\n",
      "22:\tlearn: 2192.6516865\ttotal: 3.31s\tremaining: 11.1s\n",
      "23:\tlearn: 2182.9021919\ttotal: 3.41s\tremaining: 10.8s\n",
      "24:\tlearn: 2166.1005247\ttotal: 3.6s\tremaining: 10.8s\n",
      "25:\tlearn: 2155.3909500\ttotal: 3.71s\tremaining: 10.6s\n",
      "26:\tlearn: 2148.2374061\ttotal: 3.81s\tremaining: 10.3s\n",
      "27:\tlearn: 2142.3049971\ttotal: 4s\tremaining: 10.3s\n",
      "28:\tlearn: 2135.9992083\ttotal: 4.11s\tremaining: 10.1s\n",
      "29:\tlearn: 2129.6857721\ttotal: 4.3s\tremaining: 10s\n",
      "30:\tlearn: 2121.1675377\ttotal: 4.41s\tremaining: 9.81s\n",
      "31:\tlearn: 2116.7967075\ttotal: 4.6s\tremaining: 9.77s\n",
      "32:\tlearn: 2112.3072188\ttotal: 4.7s\tremaining: 9.54s\n",
      "33:\tlearn: 2104.7434058\ttotal: 4.81s\tremaining: 9.33s\n",
      "34:\tlearn: 2099.3154406\ttotal: 5s\tremaining: 9.29s\n",
      "35:\tlearn: 2095.4336482\ttotal: 5.1s\tremaining: 9.07s\n",
      "36:\tlearn: 2089.6746907\ttotal: 5.3s\tremaining: 9.02s\n",
      "37:\tlearn: 2083.8249707\ttotal: 5.4s\tremaining: 8.81s\n",
      "38:\tlearn: 2080.9265613\ttotal: 5.59s\tremaining: 8.75s\n",
      "39:\tlearn: 2077.0314098\ttotal: 5.7s\tremaining: 8.55s\n",
      "40:\tlearn: 2073.6066382\ttotal: 5.89s\tremaining: 8.48s\n",
      "41:\tlearn: 2070.3532665\ttotal: 5.99s\tremaining: 8.28s\n",
      "42:\tlearn: 2064.6738302\ttotal: 6.1s\tremaining: 8.09s\n",
      "43:\tlearn: 2059.3633020\ttotal: 6.29s\tremaining: 8.01s\n",
      "44:\tlearn: 2057.0417514\ttotal: 6.4s\tremaining: 7.82s\n",
      "45:\tlearn: 2051.3507270\ttotal: 6.5s\tremaining: 7.63s\n",
      "46:\tlearn: 2048.5163496\ttotal: 6.69s\tremaining: 7.55s\n",
      "47:\tlearn: 2046.1427209\ttotal: 6.8s\tremaining: 7.37s\n",
      "48:\tlearn: 2044.2497073\ttotal: 6.99s\tremaining: 7.28s\n",
      "49:\tlearn: 2040.9065166\ttotal: 7.09s\tremaining: 7.09s\n",
      "50:\tlearn: 2037.1445499\ttotal: 7.28s\tremaining: 7s\n",
      "51:\tlearn: 2034.9402312\ttotal: 7.39s\tremaining: 6.82s\n",
      "52:\tlearn: 2032.0389650\ttotal: 7.49s\tremaining: 6.64s\n",
      "53:\tlearn: 2029.3433641\ttotal: 7.68s\tremaining: 6.55s\n",
      "54:\tlearn: 2026.4101035\ttotal: 7.79s\tremaining: 6.38s\n",
      "55:\tlearn: 2024.7264066\ttotal: 7.98s\tremaining: 6.27s\n",
      "56:\tlearn: 2023.0960650\ttotal: 8.08s\tremaining: 6.1s\n",
      "57:\tlearn: 2021.8619905\ttotal: 8.19s\tremaining: 5.93s\n",
      "58:\tlearn: 2017.5692527\ttotal: 8.38s\tremaining: 5.82s\n",
      "59:\tlearn: 2015.2255074\ttotal: 8.49s\tremaining: 5.66s\n",
      "60:\tlearn: 2013.7298192\ttotal: 8.68s\tremaining: 5.55s\n",
      "61:\tlearn: 2011.7269144\ttotal: 8.78s\tremaining: 5.38s\n",
      "62:\tlearn: 2009.1341638\ttotal: 8.98s\tremaining: 5.27s\n",
      "63:\tlearn: 2006.4256498\ttotal: 9.08s\tremaining: 5.11s\n",
      "64:\tlearn: 2004.5094321\ttotal: 9.19s\tremaining: 4.95s\n",
      "65:\tlearn: 2002.4581386\ttotal: 9.38s\tremaining: 4.83s\n",
      "66:\tlearn: 1998.7968646\ttotal: 9.48s\tremaining: 4.67s\n",
      "67:\tlearn: 1997.5038304\ttotal: 9.58s\tremaining: 4.51s\n",
      "68:\tlearn: 1994.8494344\ttotal: 9.77s\tremaining: 4.39s\n",
      "69:\tlearn: 1993.7303616\ttotal: 9.88s\tremaining: 4.23s\n",
      "70:\tlearn: 1992.7101543\ttotal: 10.1s\tremaining: 4.11s\n",
      "71:\tlearn: 1990.5219048\ttotal: 10.2s\tremaining: 3.96s\n",
      "72:\tlearn: 1988.5456913\ttotal: 10.3s\tremaining: 3.8s\n",
      "73:\tlearn: 1985.9070668\ttotal: 10.5s\tremaining: 3.68s\n",
      "74:\tlearn: 1984.2941020\ttotal: 10.6s\tremaining: 3.52s\n",
      "75:\tlearn: 1981.2788991\ttotal: 10.8s\tremaining: 3.41s\n",
      "76:\tlearn: 1980.2652785\ttotal: 10.9s\tremaining: 3.25s\n",
      "77:\tlearn: 1978.1215010\ttotal: 11.1s\tremaining: 3.12s\n",
      "78:\tlearn: 1976.7380658\ttotal: 11.2s\tremaining: 2.97s\n",
      "79:\tlearn: 1975.2008267\ttotal: 11.4s\tremaining: 2.84s\n",
      "80:\tlearn: 1973.0891682\ttotal: 11.5s\tremaining: 2.69s\n",
      "81:\tlearn: 1971.2880387\ttotal: 11.7s\tremaining: 2.56s\n",
      "82:\tlearn: 1970.0191187\ttotal: 11.8s\tremaining: 2.41s\n",
      "83:\tlearn: 1968.0318161\ttotal: 11.9s\tremaining: 2.26s\n",
      "84:\tlearn: 1966.3098764\ttotal: 12.1s\tremaining: 2.13s\n",
      "85:\tlearn: 1965.4980418\ttotal: 12.2s\tremaining: 1.98s\n",
      "86:\tlearn: 1964.7175927\ttotal: 12.3s\tremaining: 1.83s\n",
      "87:\tlearn: 1963.8346435\ttotal: 12.5s\tremaining: 1.7s\n",
      "88:\tlearn: 1961.6032333\ttotal: 12.6s\tremaining: 1.55s\n",
      "89:\tlearn: 1959.8861266\ttotal: 12.8s\tremaining: 1.42s\n",
      "90:\tlearn: 1958.7502213\ttotal: 12.9s\tremaining: 1.27s\n",
      "91:\tlearn: 1958.1237948\ttotal: 13s\tremaining: 1.13s\n",
      "92:\tlearn: 1956.7892320\ttotal: 13.2s\tremaining: 990ms\n",
      "93:\tlearn: 1955.8513778\ttotal: 13.3s\tremaining: 846ms\n",
      "94:\tlearn: 1954.3382418\ttotal: 13.4s\tremaining: 703ms\n",
      "95:\tlearn: 1951.7937356\ttotal: 13.6s\tremaining: 565ms\n",
      "96:\tlearn: 1950.1167680\ttotal: 13.7s\tremaining: 423ms\n",
      "97:\tlearn: 1948.0631225\ttotal: 13.9s\tremaining: 283ms\n",
      "98:\tlearn: 1946.6372214\ttotal: 14s\tremaining: 141ms\n",
      "99:\tlearn: 1945.7497209\ttotal: 14.1s\tremaining: 0us\n",
      "0:\tlearn: 4070.6540842\ttotal: 25.8ms\tremaining: 2.56s\n",
      "1:\tlearn: 3720.8015428\ttotal: 221ms\tremaining: 10.8s\n",
      "2:\tlearn: 3457.4699126\ttotal: 327ms\tremaining: 10.6s\n",
      "3:\tlearn: 3220.7588350\ttotal: 521ms\tremaining: 12.5s\n",
      "4:\tlearn: 3042.4494168\ttotal: 624ms\tremaining: 11.9s\n",
      "5:\tlearn: 2905.1886364\ttotal: 816ms\tremaining: 12.8s\n",
      "6:\tlearn: 2812.1169765\ttotal: 925ms\tremaining: 12.3s\n",
      "7:\tlearn: 2710.0374409\ttotal: 1.12s\tremaining: 12.8s\n",
      "8:\tlearn: 2622.4632146\ttotal: 1.22s\tremaining: 12.4s\n",
      "9:\tlearn: 2558.7737171\ttotal: 1.41s\tremaining: 12.7s\n",
      "10:\tlearn: 2498.6482192\ttotal: 1.52s\tremaining: 12.3s\n",
      "11:\tlearn: 2441.8500134\ttotal: 1.62s\tremaining: 11.9s\n",
      "12:\tlearn: 2407.3034958\ttotal: 1.81s\tremaining: 12.1s\n",
      "13:\tlearn: 2375.0790489\ttotal: 1.92s\tremaining: 11.8s\n",
      "14:\tlearn: 2346.0931724\ttotal: 2.11s\tremaining: 12s\n",
      "15:\tlearn: 2320.4178504\ttotal: 2.22s\tremaining: 11.6s\n",
      "16:\tlearn: 2285.0325117\ttotal: 2.41s\tremaining: 11.8s\n",
      "17:\tlearn: 2259.4315761\ttotal: 2.51s\tremaining: 11.4s\n",
      "18:\tlearn: 2242.8530399\ttotal: 2.62s\tremaining: 11.2s\n",
      "19:\tlearn: 2216.4872753\ttotal: 2.81s\tremaining: 11.2s\n",
      "20:\tlearn: 2200.8794273\ttotal: 2.91s\tremaining: 11s\n",
      "21:\tlearn: 2190.0737881\ttotal: 3.1s\tremaining: 11s\n",
      "22:\tlearn: 2176.9419603\ttotal: 3.21s\tremaining: 10.8s\n",
      "23:\tlearn: 2165.4246963\ttotal: 3.4s\tremaining: 10.8s\n",
      "24:\tlearn: 2156.4097266\ttotal: 3.51s\tremaining: 10.5s\n",
      "25:\tlearn: 2142.8938367\ttotal: 3.7s\tremaining: 10.5s\n",
      "26:\tlearn: 2136.3644992\ttotal: 3.81s\tremaining: 10.3s\n",
      "27:\tlearn: 2128.7956553\ttotal: 4s\tremaining: 10.3s\n",
      "28:\tlearn: 2118.9439980\ttotal: 4.11s\tremaining: 10.1s\n",
      "29:\tlearn: 2114.3083398\ttotal: 4.21s\tremaining: 9.83s\n",
      "30:\tlearn: 2109.0886606\ttotal: 4.4s\tremaining: 9.8s\n",
      "31:\tlearn: 2099.0706308\ttotal: 4.51s\tremaining: 9.58s\n",
      "32:\tlearn: 2094.2046414\ttotal: 4.7s\tremaining: 9.54s\n",
      "33:\tlearn: 2088.8687788\ttotal: 4.8s\tremaining: 9.32s\n",
      "34:\tlearn: 2085.5151521\ttotal: 4.91s\tremaining: 9.12s\n",
      "35:\tlearn: 2081.3202830\ttotal: 5.1s\tremaining: 9.07s\n",
      "36:\tlearn: 2077.9225531\ttotal: 5.21s\tremaining: 8.86s\n",
      "37:\tlearn: 2074.7052035\ttotal: 5.39s\tremaining: 8.8s\n",
      "38:\tlearn: 2071.9611526\ttotal: 5.5s\tremaining: 8.6s\n",
      "39:\tlearn: 2069.2373977\ttotal: 5.69s\tremaining: 8.54s\n",
      "40:\tlearn: 2062.9851687\ttotal: 5.8s\tremaining: 8.34s\n",
      "41:\tlearn: 2057.1156304\ttotal: 5.9s\tremaining: 8.15s\n",
      "42:\tlearn: 2054.4385623\ttotal: 6.08s\tremaining: 8.06s\n",
      "43:\tlearn: 2052.4066715\ttotal: 6.18s\tremaining: 7.87s\n",
      "44:\tlearn: 2048.8248892\ttotal: 6.37s\tremaining: 7.79s\n",
      "45:\tlearn: 2045.0245632\ttotal: 6.48s\tremaining: 7.61s\n",
      "46:\tlearn: 2043.2232244\ttotal: 6.67s\tremaining: 7.52s\n",
      "47:\tlearn: 2039.2922913\ttotal: 6.78s\tremaining: 7.34s\n",
      "48:\tlearn: 2036.3129068\ttotal: 6.88s\tremaining: 7.16s\n",
      "49:\tlearn: 2034.2624301\ttotal: 7.07s\tremaining: 7.07s\n",
      "50:\tlearn: 2030.6290246\ttotal: 7.17s\tremaining: 6.89s\n",
      "51:\tlearn: 2026.5428859\ttotal: 7.28s\tremaining: 6.72s\n",
      "52:\tlearn: 2023.6404520\ttotal: 7.47s\tremaining: 6.62s\n",
      "53:\tlearn: 2021.0557171\ttotal: 7.57s\tremaining: 6.45s\n",
      "54:\tlearn: 2019.4739010\ttotal: 7.76s\tremaining: 6.35s\n",
      "55:\tlearn: 2013.1991967\ttotal: 7.87s\tremaining: 6.18s\n",
      "56:\tlearn: 2010.3157400\ttotal: 7.97s\tremaining: 6.01s\n",
      "57:\tlearn: 2008.1295368\ttotal: 8.16s\tremaining: 5.91s\n",
      "58:\tlearn: 2005.9119006\ttotal: 8.27s\tremaining: 5.75s\n",
      "59:\tlearn: 2004.3444751\ttotal: 8.46s\tremaining: 5.64s\n",
      "60:\tlearn: 2001.7929571\ttotal: 8.56s\tremaining: 5.47s\n",
      "61:\tlearn: 1999.3238367\ttotal: 8.67s\tremaining: 5.31s\n",
      "62:\tlearn: 1996.8411929\ttotal: 8.77s\tremaining: 5.15s\n",
      "63:\tlearn: 1993.8398984\ttotal: 8.96s\tremaining: 5.04s\n",
      "64:\tlearn: 1991.9310670\ttotal: 9.07s\tremaining: 4.88s\n",
      "65:\tlearn: 1990.3414539\ttotal: 9.26s\tremaining: 4.77s\n",
      "66:\tlearn: 1988.6215277\ttotal: 9.36s\tremaining: 4.61s\n",
      "67:\tlearn: 1987.5829956\ttotal: 9.55s\tremaining: 4.5s\n",
      "68:\tlearn: 1986.3848637\ttotal: 9.66s\tremaining: 4.34s\n",
      "69:\tlearn: 1985.2899707\ttotal: 9.76s\tremaining: 4.18s\n",
      "70:\tlearn: 1983.5571829\ttotal: 9.87s\tremaining: 4.03s\n",
      "71:\tlearn: 1981.8669915\ttotal: 10.1s\tremaining: 3.91s\n",
      "72:\tlearn: 1981.0954100\ttotal: 10.2s\tremaining: 3.76s\n",
      "73:\tlearn: 1980.3439971\ttotal: 10.4s\tremaining: 3.64s\n",
      "74:\tlearn: 1978.1047070\ttotal: 10.5s\tremaining: 3.49s\n",
      "75:\tlearn: 1975.8613579\ttotal: 10.7s\tremaining: 3.36s\n",
      "76:\tlearn: 1974.1564143\ttotal: 10.8s\tremaining: 3.21s\n",
      "77:\tlearn: 1972.8171151\ttotal: 10.9s\tremaining: 3.06s\n",
      "78:\tlearn: 1969.2252934\ttotal: 11.1s\tremaining: 2.94s\n",
      "79:\tlearn: 1967.9812036\ttotal: 11.2s\tremaining: 2.79s\n",
      "80:\tlearn: 1964.8200692\ttotal: 11.3s\tremaining: 2.66s\n",
      "81:\tlearn: 1963.4659607\ttotal: 11.4s\tremaining: 2.51s\n",
      "82:\tlearn: 1962.2183630\ttotal: 11.6s\tremaining: 2.37s\n",
      "83:\tlearn: 1960.8189380\ttotal: 11.7s\tremaining: 2.24s\n",
      "84:\tlearn: 1960.0795890\ttotal: 11.9s\tremaining: 2.09s\n",
      "85:\tlearn: 1958.5549246\ttotal: 12s\tremaining: 1.95s\n",
      "86:\tlearn: 1957.1721843\ttotal: 12.1s\tremaining: 1.81s\n",
      "87:\tlearn: 1955.8313061\ttotal: 12.3s\tremaining: 1.67s\n",
      "88:\tlearn: 1954.5875291\ttotal: 12.4s\tremaining: 1.54s\n",
      "89:\tlearn: 1954.1137805\ttotal: 12.5s\tremaining: 1.39s\n",
      "90:\tlearn: 1953.3602399\ttotal: 12.7s\tremaining: 1.26s\n",
      "91:\tlearn: 1951.3768435\ttotal: 12.8s\tremaining: 1.12s\n",
      "92:\tlearn: 1949.9136790\ttotal: 12.9s\tremaining: 975ms\n",
      "93:\tlearn: 1949.5802535\ttotal: 13.1s\tremaining: 839ms\n",
      "94:\tlearn: 1948.9472523\ttotal: 13.2s\tremaining: 697ms\n",
      "95:\tlearn: 1947.8761906\ttotal: 13.4s\tremaining: 560ms\n",
      "96:\tlearn: 1946.9453316\ttotal: 13.5s\tremaining: 419ms\n",
      "97:\tlearn: 1945.4529911\ttotal: 13.6s\tremaining: 279ms\n",
      "98:\tlearn: 1944.2925467\ttotal: 13.8s\tremaining: 140ms\n",
      "99:\tlearn: 1943.1508854\ttotal: 13.9s\tremaining: 0us\n",
      "0:\tlearn: 4059.3772491\ttotal: 99.3ms\tremaining: 9.83s\n",
      "1:\tlearn: 3703.8978888\ttotal: 294ms\tremaining: 14.4s\n",
      "2:\tlearn: 3437.5516973\ttotal: 398ms\tremaining: 12.9s\n",
      "3:\tlearn: 3203.6200208\ttotal: 594ms\tremaining: 14.2s\n",
      "4:\tlearn: 3041.5733847\ttotal: 699ms\tremaining: 13.3s\n",
      "5:\tlearn: 2915.5283650\ttotal: 890ms\tremaining: 13.9s\n",
      "6:\tlearn: 2801.8194172\ttotal: 1000ms\tremaining: 13.3s\n",
      "7:\tlearn: 2707.4601052\ttotal: 1.19s\tremaining: 13.7s\n",
      "8:\tlearn: 2626.9659350\ttotal: 1.29s\tremaining: 13.1s\n",
      "9:\tlearn: 2557.1533854\ttotal: 1.49s\tremaining: 13.4s\n",
      "10:\tlearn: 2502.8944745\ttotal: 1.59s\tremaining: 12.9s\n",
      "11:\tlearn: 2456.4528147\ttotal: 1.7s\tremaining: 12.5s\n",
      "12:\tlearn: 2411.1379716\ttotal: 1.89s\tremaining: 12.6s\n",
      "13:\tlearn: 2371.2342029\ttotal: 1.99s\tremaining: 12.2s\n",
      "14:\tlearn: 2344.7921029\ttotal: 2.18s\tremaining: 12.4s\n",
      "15:\tlearn: 2318.9756541\ttotal: 2.29s\tremaining: 12s\n",
      "16:\tlearn: 2290.2150642\ttotal: 2.39s\tremaining: 11.7s\n",
      "17:\tlearn: 2270.5794325\ttotal: 2.58s\tremaining: 11.8s\n",
      "18:\tlearn: 2252.2303312\ttotal: 2.69s\tremaining: 11.5s\n",
      "19:\tlearn: 2236.8937028\ttotal: 2.88s\tremaining: 11.5s\n",
      "20:\tlearn: 2218.7573969\ttotal: 2.98s\tremaining: 11.2s\n",
      "21:\tlearn: 2207.0620320\ttotal: 3.09s\tremaining: 10.9s\n",
      "22:\tlearn: 2188.2890135\ttotal: 3.28s\tremaining: 11s\n",
      "23:\tlearn: 2177.0595751\ttotal: 3.38s\tremaining: 10.7s\n",
      "24:\tlearn: 2167.8401114\ttotal: 3.57s\tremaining: 10.7s\n",
      "25:\tlearn: 2153.8457194\ttotal: 3.68s\tremaining: 10.5s\n",
      "26:\tlearn: 2144.4049168\ttotal: 3.79s\tremaining: 10.3s\n",
      "27:\tlearn: 2136.9499540\ttotal: 3.98s\tremaining: 10.2s\n",
      "28:\tlearn: 2130.6399473\ttotal: 4.08s\tremaining: 10s\n",
      "29:\tlearn: 2125.4522700\ttotal: 4.28s\tremaining: 9.98s\n",
      "30:\tlearn: 2120.9749516\ttotal: 4.38s\tremaining: 9.76s\n",
      "31:\tlearn: 2116.5703222\ttotal: 4.58s\tremaining: 9.72s\n",
      "32:\tlearn: 2103.7001135\ttotal: 4.68s\tremaining: 9.5s\n",
      "33:\tlearn: 2100.0509973\ttotal: 4.87s\tremaining: 9.46s\n",
      "34:\tlearn: 2093.0275986\ttotal: 4.98s\tremaining: 9.24s\n",
      "35:\tlearn: 2089.3009540\ttotal: 5.17s\tremaining: 9.19s\n",
      "36:\tlearn: 2081.2423395\ttotal: 5.27s\tremaining: 8.97s\n",
      "37:\tlearn: 2077.1386559\ttotal: 5.38s\tremaining: 8.77s\n",
      "38:\tlearn: 2073.2491398\ttotal: 5.57s\tremaining: 8.71s\n",
      "39:\tlearn: 2069.1698791\ttotal: 5.67s\tremaining: 8.51s\n",
      "40:\tlearn: 2064.3080708\ttotal: 5.88s\tremaining: 8.46s\n",
      "41:\tlearn: 2062.4380471\ttotal: 5.98s\tremaining: 8.25s\n",
      "42:\tlearn: 2058.0789423\ttotal: 6.17s\tremaining: 8.18s\n",
      "43:\tlearn: 2056.2866089\ttotal: 6.27s\tremaining: 7.98s\n",
      "44:\tlearn: 2052.9206776\ttotal: 6.46s\tremaining: 7.9s\n",
      "45:\tlearn: 2047.4547128\ttotal: 6.57s\tremaining: 7.71s\n",
      "46:\tlearn: 2042.3614434\ttotal: 6.76s\tremaining: 7.63s\n",
      "47:\tlearn: 2040.0635218\ttotal: 6.86s\tremaining: 7.43s\n",
      "48:\tlearn: 2035.7967697\ttotal: 6.97s\tremaining: 7.25s\n",
      "49:\tlearn: 2032.4273213\ttotal: 7.16s\tremaining: 7.16s\n",
      "50:\tlearn: 2030.0400972\ttotal: 7.26s\tremaining: 6.98s\n",
      "51:\tlearn: 2028.1639723\ttotal: 7.37s\tremaining: 6.81s\n",
      "52:\tlearn: 2023.0363778\ttotal: 7.56s\tremaining: 6.71s\n",
      "53:\tlearn: 2021.3950066\ttotal: 7.67s\tremaining: 6.53s\n",
      "54:\tlearn: 2019.2293323\ttotal: 7.86s\tremaining: 6.43s\n",
      "55:\tlearn: 2015.2681160\ttotal: 7.96s\tremaining: 6.26s\n",
      "56:\tlearn: 2012.1986147\ttotal: 8.16s\tremaining: 6.15s\n",
      "57:\tlearn: 2010.0514465\ttotal: 8.26s\tremaining: 5.98s\n",
      "58:\tlearn: 2007.4580683\ttotal: 8.36s\tremaining: 5.81s\n",
      "59:\tlearn: 2005.8101881\ttotal: 8.55s\tremaining: 5.7s\n",
      "60:\tlearn: 2004.6196853\ttotal: 8.66s\tremaining: 5.54s\n",
      "61:\tlearn: 2003.2548600\ttotal: 8.85s\tremaining: 5.43s\n",
      "62:\tlearn: 2000.2664246\ttotal: 8.96s\tremaining: 5.26s\n",
      "63:\tlearn: 1999.1864250\ttotal: 9.15s\tremaining: 5.15s\n",
      "64:\tlearn: 1996.9960109\ttotal: 9.25s\tremaining: 4.98s\n",
      "65:\tlearn: 1993.9736849\ttotal: 9.36s\tremaining: 4.82s\n",
      "66:\tlearn: 1992.2519512\ttotal: 9.55s\tremaining: 4.7s\n",
      "67:\tlearn: 1990.0833841\ttotal: 9.65s\tremaining: 4.54s\n",
      "68:\tlearn: 1989.2176640\ttotal: 9.85s\tremaining: 4.42s\n",
      "69:\tlearn: 1987.3443221\ttotal: 9.95s\tremaining: 4.26s\n",
      "70:\tlearn: 1984.9712672\ttotal: 10.1s\tremaining: 4.14s\n",
      "71:\tlearn: 1984.0675486\ttotal: 10.2s\tremaining: 3.98s\n",
      "72:\tlearn: 1981.4989748\ttotal: 10.4s\tremaining: 3.83s\n",
      "73:\tlearn: 1979.5932201\ttotal: 10.5s\tremaining: 3.7s\n",
      "74:\tlearn: 1978.1865183\ttotal: 10.6s\tremaining: 3.55s\n",
      "75:\tlearn: 1976.8785712\ttotal: 10.8s\tremaining: 3.4s\n",
      "76:\tlearn: 1975.0214295\ttotal: 10.9s\tremaining: 3.27s\n",
      "77:\tlearn: 1973.4104303\ttotal: 11s\tremaining: 3.12s\n",
      "78:\tlearn: 1971.5609401\ttotal: 11.2s\tremaining: 2.99s\n",
      "79:\tlearn: 1970.8096180\ttotal: 11.3s\tremaining: 2.83s\n",
      "80:\tlearn: 1969.2293278\ttotal: 11.4s\tremaining: 2.69s\n",
      "81:\tlearn: 1966.9538473\ttotal: 11.6s\tremaining: 2.56s\n",
      "82:\tlearn: 1965.4737352\ttotal: 11.7s\tremaining: 2.4s\n",
      "83:\tlearn: 1964.2875258\ttotal: 11.8s\tremaining: 2.26s\n",
      "84:\tlearn: 1962.8547049\ttotal: 12s\tremaining: 2.12s\n",
      "85:\tlearn: 1961.4497026\ttotal: 12.1s\tremaining: 1.98s\n",
      "86:\tlearn: 1959.4060133\ttotal: 12.3s\tremaining: 1.84s\n",
      "87:\tlearn: 1958.7777707\ttotal: 12.4s\tremaining: 1.7s\n",
      "88:\tlearn: 1956.4206853\ttotal: 12.5s\tremaining: 1.55s\n",
      "89:\tlearn: 1954.9600597\ttotal: 12.7s\tremaining: 1.41s\n",
      "90:\tlearn: 1953.6571685\ttotal: 12.8s\tremaining: 1.27s\n",
      "91:\tlearn: 1952.2419286\ttotal: 13s\tremaining: 1.13s\n",
      "92:\tlearn: 1951.4689824\ttotal: 13.1s\tremaining: 989ms\n",
      "93:\tlearn: 1950.9248532\ttotal: 13.3s\tremaining: 851ms\n",
      "94:\tlearn: 1949.3486513\ttotal: 13.4s\tremaining: 707ms\n",
      "95:\tlearn: 1947.3592922\ttotal: 13.5s\tremaining: 564ms\n",
      "96:\tlearn: 1946.7725937\ttotal: 13.7s\tremaining: 425ms\n",
      "97:\tlearn: 1946.0094232\ttotal: 13.8s\tremaining: 282ms\n",
      "98:\tlearn: 1944.9494203\ttotal: 14s\tremaining: 142ms\n",
      "99:\tlearn: 1943.8545161\ttotal: 14.1s\tremaining: 0us\n",
      "0:\tlearn: 4065.0341011\ttotal: 103ms\tremaining: 10.2s\n",
      "1:\tlearn: 3710.6992623\ttotal: 299ms\tremaining: 14.7s\n",
      "2:\tlearn: 3444.8066772\ttotal: 403ms\tremaining: 13s\n",
      "3:\tlearn: 3211.7230161\ttotal: 597ms\tremaining: 14.3s\n",
      "4:\tlearn: 3034.2431221\ttotal: 703ms\tremaining: 13.4s\n",
      "5:\tlearn: 2908.3491148\ttotal: 895ms\tremaining: 14s\n",
      "6:\tlearn: 2815.9733519\ttotal: 1s\tremaining: 13.3s\n",
      "7:\tlearn: 2717.0388819\ttotal: 1.2s\tremaining: 13.8s\n",
      "8:\tlearn: 2630.8616068\ttotal: 1.3s\tremaining: 13.2s\n",
      "9:\tlearn: 2570.5924964\ttotal: 1.49s\tremaining: 13.4s\n",
      "10:\tlearn: 2517.9629784\ttotal: 1.6s\tremaining: 12.9s\n",
      "11:\tlearn: 2467.0652103\ttotal: 1.79s\tremaining: 13.1s\n",
      "12:\tlearn: 2420.7783358\ttotal: 1.89s\tremaining: 12.7s\n",
      "13:\tlearn: 2387.7467570\ttotal: 1.99s\tremaining: 12.3s\n",
      "14:\tlearn: 2348.0682189\ttotal: 2.19s\tremaining: 12.4s\n",
      "15:\tlearn: 2322.9675905\ttotal: 2.29s\tremaining: 12s\n",
      "16:\tlearn: 2302.9791037\ttotal: 2.48s\tremaining: 12.1s\n",
      "17:\tlearn: 2274.3954926\ttotal: 2.59s\tremaining: 11.8s\n",
      "18:\tlearn: 2250.2490434\ttotal: 2.69s\tremaining: 11.5s\n",
      "19:\tlearn: 2233.3187337\ttotal: 2.89s\tremaining: 11.5s\n",
      "20:\tlearn: 2221.1340027\ttotal: 2.99s\tremaining: 11.3s\n",
      "21:\tlearn: 2209.3392028\ttotal: 3.18s\tremaining: 11.3s\n",
      "22:\tlearn: 2198.3381923\ttotal: 3.29s\tremaining: 11s\n",
      "23:\tlearn: 2180.9625874\ttotal: 3.48s\tremaining: 11s\n",
      "24:\tlearn: 2172.2432830\ttotal: 3.58s\tremaining: 10.8s\n",
      "25:\tlearn: 2165.3642203\ttotal: 3.69s\tremaining: 10.5s\n",
      "26:\tlearn: 2154.0818148\ttotal: 3.88s\tremaining: 10.5s\n",
      "27:\tlearn: 2145.6395864\ttotal: 3.98s\tremaining: 10.2s\n",
      "28:\tlearn: 2135.8796876\ttotal: 4.18s\tremaining: 10.2s\n",
      "29:\tlearn: 2131.3077565\ttotal: 4.28s\tremaining: 9.99s\n",
      "30:\tlearn: 2125.5554150\ttotal: 4.38s\tremaining: 9.76s\n",
      "31:\tlearn: 2115.7999007\ttotal: 4.58s\tremaining: 9.73s\n",
      "32:\tlearn: 2110.8719476\ttotal: 4.69s\tremaining: 9.52s\n",
      "33:\tlearn: 2106.5516277\ttotal: 4.88s\tremaining: 9.47s\n",
      "34:\tlearn: 2099.3409822\ttotal: 4.98s\tremaining: 9.25s\n",
      "35:\tlearn: 2095.9162849\ttotal: 5.17s\tremaining: 9.2s\n",
      "36:\tlearn: 2091.8655736\ttotal: 5.28s\tremaining: 8.99s\n",
      "37:\tlearn: 2087.2782435\ttotal: 5.39s\tremaining: 8.8s\n",
      "38:\tlearn: 2083.3950808\ttotal: 5.58s\tremaining: 8.72s\n",
      "39:\tlearn: 2080.6788092\ttotal: 5.68s\tremaining: 8.52s\n",
      "40:\tlearn: 2078.0295700\ttotal: 5.87s\tremaining: 8.45s\n",
      "41:\tlearn: 2074.0705502\ttotal: 5.97s\tremaining: 8.25s\n",
      "42:\tlearn: 2069.3365577\ttotal: 6.08s\tremaining: 8.07s\n",
      "43:\tlearn: 2067.2540496\ttotal: 6.27s\tremaining: 7.98s\n",
      "44:\tlearn: 2064.2553237\ttotal: 6.38s\tremaining: 7.79s\n",
      "45:\tlearn: 2060.6931267\ttotal: 6.57s\tremaining: 7.71s\n",
      "46:\tlearn: 2054.0399870\ttotal: 6.67s\tremaining: 7.52s\n",
      "47:\tlearn: 2051.8486039\ttotal: 6.77s\tremaining: 7.34s\n",
      "48:\tlearn: 2047.7960951\ttotal: 6.97s\tremaining: 7.25s\n",
      "49:\tlearn: 2043.6259382\ttotal: 7.07s\tremaining: 7.07s\n",
      "50:\tlearn: 2041.7314334\ttotal: 7.26s\tremaining: 6.98s\n",
      "51:\tlearn: 2039.7599084\ttotal: 7.37s\tremaining: 6.8s\n",
      "52:\tlearn: 2037.5250855\ttotal: 7.47s\tremaining: 6.62s\n",
      "53:\tlearn: 2034.3343539\ttotal: 7.66s\tremaining: 6.53s\n",
      "54:\tlearn: 2031.4224679\ttotal: 7.77s\tremaining: 6.35s\n",
      "55:\tlearn: 2029.6266413\ttotal: 7.96s\tremaining: 6.25s\n",
      "56:\tlearn: 2027.6802092\ttotal: 8.07s\tremaining: 6.09s\n",
      "57:\tlearn: 2026.0464947\ttotal: 8.26s\tremaining: 5.98s\n",
      "58:\tlearn: 2024.0129943\ttotal: 8.36s\tremaining: 5.81s\n",
      "59:\tlearn: 2021.4639144\ttotal: 8.47s\tremaining: 5.64s\n",
      "60:\tlearn: 2020.3880624\ttotal: 8.66s\tremaining: 5.54s\n",
      "61:\tlearn: 2017.1432912\ttotal: 8.76s\tremaining: 5.37s\n",
      "62:\tlearn: 2015.0339760\ttotal: 8.96s\tremaining: 5.26s\n",
      "63:\tlearn: 2012.4927352\ttotal: 9.06s\tremaining: 5.1s\n",
      "64:\tlearn: 2011.4709279\ttotal: 9.26s\tremaining: 4.98s\n",
      "65:\tlearn: 2010.2685494\ttotal: 9.36s\tremaining: 4.82s\n",
      "66:\tlearn: 2007.9466503\ttotal: 9.55s\tremaining: 4.71s\n",
      "67:\tlearn: 2006.2618367\ttotal: 9.66s\tremaining: 4.54s\n",
      "68:\tlearn: 2003.6085120\ttotal: 9.85s\tremaining: 4.42s\n",
      "69:\tlearn: 2001.3706095\ttotal: 9.95s\tremaining: 4.26s\n",
      "70:\tlearn: 1999.3052267\ttotal: 10.1s\tremaining: 4.11s\n",
      "71:\tlearn: 1997.8971683\ttotal: 10.2s\tremaining: 3.98s\n",
      "72:\tlearn: 1996.5813192\ttotal: 10.4s\tremaining: 3.83s\n",
      "73:\tlearn: 1994.6526114\ttotal: 10.5s\tremaining: 3.71s\n",
      "74:\tlearn: 1991.6199760\ttotal: 10.7s\tremaining: 3.55s\n",
      "75:\tlearn: 1990.1930538\ttotal: 10.8s\tremaining: 3.4s\n",
      "76:\tlearn: 1988.1941189\ttotal: 10.9s\tremaining: 3.27s\n",
      "77:\tlearn: 1985.4101713\ttotal: 11.1s\tremaining: 3.12s\n",
      "78:\tlearn: 1984.1348925\ttotal: 11.2s\tremaining: 2.99s\n",
      "79:\tlearn: 1982.9775399\ttotal: 11.3s\tremaining: 2.84s\n",
      "80:\tlearn: 1981.5713645\ttotal: 11.5s\tremaining: 2.69s\n",
      "81:\tlearn: 1979.4917214\ttotal: 11.6s\tremaining: 2.56s\n",
      "82:\tlearn: 1977.7129783\ttotal: 11.7s\tremaining: 2.41s\n",
      "83:\tlearn: 1976.1421118\ttotal: 11.9s\tremaining: 2.26s\n",
      "84:\tlearn: 1974.1274742\ttotal: 12s\tremaining: 2.13s\n",
      "85:\tlearn: 1973.4066683\ttotal: 12.1s\tremaining: 1.98s\n",
      "86:\tlearn: 1971.6615759\ttotal: 12.3s\tremaining: 1.84s\n",
      "87:\tlearn: 1970.3237200\ttotal: 12.4s\tremaining: 1.7s\n",
      "88:\tlearn: 1968.9848346\ttotal: 12.6s\tremaining: 1.55s\n",
      "89:\tlearn: 1968.0165673\ttotal: 12.7s\tremaining: 1.42s\n",
      "90:\tlearn: 1966.2490580\ttotal: 12.8s\tremaining: 1.27s\n",
      "91:\tlearn: 1965.7413951\ttotal: 12.9s\tremaining: 1.13s\n",
      "92:\tlearn: 1965.1337748\ttotal: 13.1s\tremaining: 989ms\n",
      "93:\tlearn: 1964.2140781\ttotal: 13.2s\tremaining: 845ms\n",
      "94:\tlearn: 1962.2577949\ttotal: 13.3s\tremaining: 703ms\n",
      "95:\tlearn: 1961.3855880\ttotal: 13.5s\tremaining: 564ms\n",
      "96:\tlearn: 1961.0097259\ttotal: 13.7s\tremaining: 425ms\n",
      "97:\tlearn: 1960.5406517\ttotal: 13.8s\tremaining: 282ms\n",
      "98:\tlearn: 1959.8978397\ttotal: 13.9s\tremaining: 141ms\n",
      "99:\tlearn: 1958.4774442\ttotal: 14.1s\tremaining: 0us\n",
      "0:\tlearn: 4063.9629642\ttotal: 57.7ms\tremaining: 5.71s\n",
      "1:\tlearn: 3715.4948237\ttotal: 254ms\tremaining: 12.4s\n",
      "2:\tlearn: 3452.5517442\ttotal: 358ms\tremaining: 11.6s\n",
      "3:\tlearn: 3217.4736170\ttotal: 552ms\tremaining: 13.3s\n",
      "4:\tlearn: 3039.0306252\ttotal: 657ms\tremaining: 12.5s\n",
      "5:\tlearn: 2904.3146069\ttotal: 760ms\tremaining: 11.9s\n",
      "6:\tlearn: 2809.3967760\ttotal: 957ms\tremaining: 12.7s\n",
      "7:\tlearn: 2705.5641497\ttotal: 1.15s\tremaining: 13.2s\n",
      "8:\tlearn: 2624.8206600\ttotal: 1.26s\tremaining: 12.7s\n",
      "9:\tlearn: 2558.0760037\ttotal: 1.45s\tremaining: 13s\n",
      "10:\tlearn: 2495.7840790\ttotal: 1.55s\tremaining: 12.6s\n",
      "11:\tlearn: 2449.1605541\ttotal: 1.75s\tremaining: 12.8s\n",
      "12:\tlearn: 2400.9875692\ttotal: 1.85s\tremaining: 12.4s\n",
      "13:\tlearn: 2366.2179401\ttotal: 2.05s\tremaining: 12.6s\n",
      "14:\tlearn: 2341.3308047\ttotal: 2.15s\tremaining: 12.2s\n",
      "15:\tlearn: 2318.1891290\ttotal: 2.34s\tremaining: 12.3s\n",
      "16:\tlearn: 2298.5735526\ttotal: 2.45s\tremaining: 12s\n",
      "17:\tlearn: 2276.6759923\ttotal: 2.64s\tremaining: 12s\n",
      "18:\tlearn: 2258.4662366\ttotal: 2.75s\tremaining: 11.7s\n",
      "19:\tlearn: 2239.8295286\ttotal: 2.94s\tremaining: 11.8s\n",
      "20:\tlearn: 2213.3487808\ttotal: 3.04s\tremaining: 11.4s\n",
      "21:\tlearn: 2202.6732195\ttotal: 3.24s\tremaining: 11.5s\n",
      "22:\tlearn: 2191.3322613\ttotal: 3.34s\tremaining: 11.2s\n",
      "23:\tlearn: 2182.8370267\ttotal: 3.54s\tremaining: 11.2s\n",
      "24:\tlearn: 2167.9434336\ttotal: 3.64s\tremaining: 10.9s\n",
      "25:\tlearn: 2161.2224810\ttotal: 3.75s\tremaining: 10.7s\n",
      "26:\tlearn: 2153.9525724\ttotal: 3.94s\tremaining: 10.6s\n",
      "27:\tlearn: 2146.7943648\ttotal: 4.04s\tremaining: 10.4s\n",
      "28:\tlearn: 2131.2914156\ttotal: 4.24s\tremaining: 10.4s\n",
      "29:\tlearn: 2125.3307943\ttotal: 4.34s\tremaining: 10.1s\n",
      "30:\tlearn: 2119.8044985\ttotal: 4.54s\tremaining: 10.1s\n",
      "31:\tlearn: 2113.4982803\ttotal: 4.64s\tremaining: 9.86s\n",
      "32:\tlearn: 2109.4230500\ttotal: 4.83s\tremaining: 9.81s\n",
      "33:\tlearn: 2105.1310952\ttotal: 4.93s\tremaining: 9.58s\n",
      "34:\tlearn: 2095.4079761\ttotal: 5.04s\tremaining: 9.36s\n",
      "35:\tlearn: 2091.8015976\ttotal: 5.23s\tremaining: 9.3s\n",
      "36:\tlearn: 2088.3715283\ttotal: 5.34s\tremaining: 9.09s\n",
      "37:\tlearn: 2082.9181008\ttotal: 5.53s\tremaining: 9.02s\n",
      "38:\tlearn: 2079.3929207\ttotal: 5.64s\tremaining: 8.82s\n",
      "39:\tlearn: 2076.0686864\ttotal: 5.83s\tremaining: 8.74s\n",
      "40:\tlearn: 2073.0133520\ttotal: 5.93s\tremaining: 8.53s\n",
      "41:\tlearn: 2070.8317508\ttotal: 6.03s\tremaining: 8.33s\n",
      "42:\tlearn: 2066.1705100\ttotal: 6.22s\tremaining: 8.25s\n",
      "43:\tlearn: 2061.9851165\ttotal: 6.33s\tremaining: 8.05s\n",
      "44:\tlearn: 2055.2969802\ttotal: 6.52s\tremaining: 7.97s\n",
      "45:\tlearn: 2052.9551443\ttotal: 6.63s\tremaining: 7.78s\n",
      "46:\tlearn: 2049.2315040\ttotal: 6.74s\tremaining: 7.6s\n",
      "47:\tlearn: 2047.4889384\ttotal: 6.93s\tremaining: 7.5s\n",
      "48:\tlearn: 2044.2540549\ttotal: 7.03s\tremaining: 7.32s\n",
      "49:\tlearn: 2040.4025606\ttotal: 7.22s\tremaining: 7.22s\n",
      "50:\tlearn: 2037.9463615\ttotal: 7.33s\tremaining: 7.04s\n",
      "51:\tlearn: 2034.6801007\ttotal: 7.52s\tremaining: 6.94s\n",
      "52:\tlearn: 2031.9697260\ttotal: 7.63s\tremaining: 6.76s\n",
      "53:\tlearn: 2028.7280308\ttotal: 7.73s\tremaining: 6.59s\n",
      "54:\tlearn: 2024.8131425\ttotal: 7.92s\tremaining: 6.48s\n",
      "55:\tlearn: 2021.9182854\ttotal: 8.03s\tremaining: 6.31s\n",
      "56:\tlearn: 2019.7187677\ttotal: 8.22s\tremaining: 6.2s\n",
      "57:\tlearn: 2016.6623671\ttotal: 8.32s\tremaining: 6.03s\n",
      "58:\tlearn: 2015.1732042\ttotal: 8.51s\tremaining: 5.92s\n",
      "59:\tlearn: 2012.0022409\ttotal: 8.62s\tremaining: 5.74s\n",
      "60:\tlearn: 2009.9718678\ttotal: 8.72s\tremaining: 5.58s\n",
      "61:\tlearn: 2007.8532972\ttotal: 8.91s\tremaining: 5.46s\n",
      "62:\tlearn: 2006.9057197\ttotal: 9.02s\tremaining: 5.3s\n",
      "63:\tlearn: 2005.9293770\ttotal: 9.21s\tremaining: 5.18s\n",
      "64:\tlearn: 2003.9758066\ttotal: 9.31s\tremaining: 5.01s\n",
      "65:\tlearn: 2000.0103385\ttotal: 9.42s\tremaining: 4.85s\n",
      "66:\tlearn: 1998.8668415\ttotal: 9.61s\tremaining: 4.73s\n",
      "67:\tlearn: 1995.3710625\ttotal: 9.72s\tremaining: 4.57s\n",
      "68:\tlearn: 1993.6523811\ttotal: 9.91s\tremaining: 4.45s\n",
      "69:\tlearn: 1992.1310846\ttotal: 10s\tremaining: 4.29s\n",
      "70:\tlearn: 1990.9321231\ttotal: 10.2s\tremaining: 4.17s\n",
      "71:\tlearn: 1989.2044245\ttotal: 10.3s\tremaining: 4.01s\n",
      "72:\tlearn: 1987.3263609\ttotal: 10.4s\tremaining: 3.85s\n",
      "73:\tlearn: 1986.4493170\ttotal: 10.6s\tremaining: 3.73s\n",
      "74:\tlearn: 1983.1081779\ttotal: 10.7s\tremaining: 3.57s\n",
      "75:\tlearn: 1982.1783572\ttotal: 10.9s\tremaining: 3.44s\n",
      "76:\tlearn: 1979.6353900\ttotal: 11s\tremaining: 3.29s\n",
      "77:\tlearn: 1978.6098662\ttotal: 11.1s\tremaining: 3.13s\n",
      "78:\tlearn: 1976.8711187\ttotal: 11.3s\tremaining: 3s\n",
      "79:\tlearn: 1975.0788586\ttotal: 11.4s\tremaining: 2.85s\n",
      "80:\tlearn: 1973.8175121\ttotal: 11.5s\tremaining: 2.7s\n",
      "81:\tlearn: 1972.9403799\ttotal: 11.7s\tremaining: 2.57s\n",
      "82:\tlearn: 1970.6255354\ttotal: 11.8s\tremaining: 2.42s\n",
      "83:\tlearn: 1969.4578196\ttotal: 11.9s\tremaining: 2.27s\n",
      "84:\tlearn: 1967.3847049\ttotal: 12.1s\tremaining: 2.13s\n",
      "85:\tlearn: 1961.8424818\ttotal: 12.2s\tremaining: 1.99s\n",
      "86:\tlearn: 1959.2394957\ttotal: 12.4s\tremaining: 1.85s\n",
      "87:\tlearn: 1957.8275802\ttotal: 12.5s\tremaining: 1.7s\n",
      "88:\tlearn: 1956.6806735\ttotal: 12.7s\tremaining: 1.57s\n",
      "89:\tlearn: 1956.0701474\ttotal: 12.8s\tremaining: 1.42s\n",
      "90:\tlearn: 1954.5040070\ttotal: 13s\tremaining: 1.28s\n",
      "91:\tlearn: 1953.1088646\ttotal: 13.1s\tremaining: 1.14s\n",
      "92:\tlearn: 1950.6553634\ttotal: 13.3s\tremaining: 1s\n",
      "93:\tlearn: 1949.6143297\ttotal: 13.4s\tremaining: 855ms\n",
      "94:\tlearn: 1948.9872669\ttotal: 13.6s\tremaining: 715ms\n",
      "95:\tlearn: 1947.6591486\ttotal: 13.7s\tremaining: 571ms\n",
      "96:\tlearn: 1946.3961203\ttotal: 13.9s\tremaining: 430ms\n",
      "97:\tlearn: 1944.7231616\ttotal: 14s\tremaining: 286ms\n",
      "98:\tlearn: 1943.0289619\ttotal: 14.1s\tremaining: 142ms\n",
      "99:\tlearn: 1941.9489537\ttotal: 14.3s\tremaining: 0us\n",
      "0:\tlearn: 4246.3560414\ttotal: 151ms\tremaining: 14.9s\n",
      "1:\tlearn: 4014.4831859\ttotal: 356ms\tremaining: 17.4s\n",
      "2:\tlearn: 3803.5010475\ttotal: 648ms\tremaining: 20.9s\n",
      "3:\tlearn: 3611.8256528\ttotal: 848ms\tremaining: 20.3s\n",
      "4:\tlearn: 3445.3880707\ttotal: 1.04s\tremaining: 19.9s\n",
      "5:\tlearn: 3299.7010304\ttotal: 1.25s\tremaining: 19.5s\n",
      "6:\tlearn: 3177.6261367\ttotal: 1.45s\tremaining: 19.2s\n",
      "7:\tlearn: 3055.5265294\ttotal: 1.64s\tremaining: 18.9s\n",
      "8:\tlearn: 2949.0579908\ttotal: 1.76s\tremaining: 17.8s\n",
      "9:\tlearn: 2866.0289264\ttotal: 1.95s\tremaining: 17.6s\n",
      "10:\tlearn: 2791.4491524\ttotal: 2.15s\tremaining: 17.4s\n",
      "11:\tlearn: 2721.1785714\ttotal: 2.35s\tremaining: 17.2s\n",
      "12:\tlearn: 2656.3223940\ttotal: 2.55s\tremaining: 17.1s\n",
      "13:\tlearn: 2596.1941769\ttotal: 2.75s\tremaining: 16.9s\n",
      "14:\tlearn: 2539.7573397\ttotal: 2.95s\tremaining: 16.7s\n",
      "15:\tlearn: 2496.5883077\ttotal: 3.15s\tremaining: 16.5s\n",
      "16:\tlearn: 2453.2985002\ttotal: 3.44s\tremaining: 16.8s\n",
      "17:\tlearn: 2418.9815828\ttotal: 3.55s\tremaining: 16.2s\n",
      "18:\tlearn: 2381.9410537\ttotal: 3.84s\tremaining: 16.4s\n",
      "19:\tlearn: 2350.1137628\ttotal: 4.04s\tremaining: 16.1s\n",
      "20:\tlearn: 2317.9672249\ttotal: 4.24s\tremaining: 15.9s\n",
      "21:\tlearn: 2291.4236093\ttotal: 4.44s\tremaining: 15.7s\n",
      "22:\tlearn: 2269.1999888\ttotal: 4.63s\tremaining: 15.5s\n",
      "23:\tlearn: 2246.3164007\ttotal: 4.83s\tremaining: 15.3s\n",
      "24:\tlearn: 2223.7939892\ttotal: 5.03s\tremaining: 15.1s\n",
      "25:\tlearn: 2203.3847107\ttotal: 5.23s\tremaining: 14.9s\n",
      "26:\tlearn: 2185.2995767\ttotal: 5.43s\tremaining: 14.7s\n",
      "27:\tlearn: 2169.7355943\ttotal: 5.63s\tremaining: 14.5s\n",
      "28:\tlearn: 2153.7077328\ttotal: 5.83s\tremaining: 14.3s\n",
      "29:\tlearn: 2142.0157882\ttotal: 6.03s\tremaining: 14.1s\n",
      "30:\tlearn: 2132.2582391\ttotal: 6.23s\tremaining: 13.9s\n",
      "31:\tlearn: 2120.8904718\ttotal: 6.43s\tremaining: 13.7s\n",
      "32:\tlearn: 2111.0968865\ttotal: 6.63s\tremaining: 13.5s\n",
      "33:\tlearn: 2103.1402689\ttotal: 6.83s\tremaining: 13.3s\n",
      "34:\tlearn: 2095.5188757\ttotal: 7.03s\tremaining: 13.1s\n",
      "35:\tlearn: 2086.1586347\ttotal: 7.23s\tremaining: 12.9s\n",
      "36:\tlearn: 2078.7992213\ttotal: 7.43s\tremaining: 12.6s\n",
      "37:\tlearn: 2071.0811616\ttotal: 7.63s\tremaining: 12.4s\n",
      "38:\tlearn: 2064.4227705\ttotal: 7.83s\tremaining: 12.2s\n",
      "39:\tlearn: 2057.9548319\ttotal: 8.03s\tremaining: 12s\n",
      "40:\tlearn: 2050.7118541\ttotal: 8.22s\tremaining: 11.8s\n",
      "41:\tlearn: 2044.5088928\ttotal: 8.42s\tremaining: 11.6s\n",
      "42:\tlearn: 2037.7420799\ttotal: 8.63s\tremaining: 11.4s\n",
      "43:\tlearn: 2032.1812170\ttotal: 8.83s\tremaining: 11.2s\n",
      "44:\tlearn: 2027.2030053\ttotal: 9.12s\tremaining: 11.1s\n",
      "45:\tlearn: 2023.7039168\ttotal: 9.23s\tremaining: 10.8s\n",
      "46:\tlearn: 2017.8584347\ttotal: 9.52s\tremaining: 10.7s\n",
      "47:\tlearn: 2012.5536658\ttotal: 9.72s\tremaining: 10.5s\n",
      "48:\tlearn: 2009.3543928\ttotal: 9.92s\tremaining: 10.3s\n",
      "49:\tlearn: 2005.2052938\ttotal: 10.1s\tremaining: 10.1s\n",
      "50:\tlearn: 2001.8795980\ttotal: 10.3s\tremaining: 9.91s\n",
      "51:\tlearn: 1998.7854471\ttotal: 10.5s\tremaining: 9.71s\n",
      "52:\tlearn: 1995.4407558\ttotal: 10.7s\tremaining: 9.5s\n",
      "53:\tlearn: 1992.9881650\ttotal: 10.9s\tremaining: 9.3s\n",
      "54:\tlearn: 1990.6702399\ttotal: 11.1s\tremaining: 9.1s\n",
      "55:\tlearn: 1987.3888612\ttotal: 11.3s\tremaining: 8.89s\n",
      "56:\tlearn: 1983.9627977\ttotal: 11.5s\tremaining: 8.69s\n",
      "57:\tlearn: 1980.3180983\ttotal: 11.7s\tremaining: 8.48s\n",
      "58:\tlearn: 1977.7917855\ttotal: 11.9s\tremaining: 8.28s\n",
      "59:\tlearn: 1974.9033818\ttotal: 12.1s\tremaining: 8.08s\n",
      "60:\tlearn: 1972.3374132\ttotal: 12.3s\tremaining: 7.87s\n",
      "61:\tlearn: 1969.9484256\ttotal: 12.5s\tremaining: 7.67s\n",
      "62:\tlearn: 1966.5155402\ttotal: 12.7s\tremaining: 7.47s\n",
      "63:\tlearn: 1963.7043967\ttotal: 12.9s\tremaining: 7.26s\n",
      "64:\tlearn: 1960.8512302\ttotal: 13.1s\tremaining: 7.05s\n",
      "65:\tlearn: 1959.6751967\ttotal: 13.4s\tremaining: 6.9s\n",
      "66:\tlearn: 1958.1949696\ttotal: 13.6s\tremaining: 6.7s\n",
      "67:\tlearn: 1955.5837969\ttotal: 13.8s\tremaining: 6.5s\n",
      "68:\tlearn: 1953.5756931\ttotal: 14s\tremaining: 6.29s\n",
      "69:\tlearn: 1951.0019084\ttotal: 14.2s\tremaining: 6.09s\n",
      "70:\tlearn: 1948.3345725\ttotal: 14.5s\tremaining: 5.92s\n",
      "71:\tlearn: 1944.7344885\ttotal: 14.7s\tremaining: 5.71s\n",
      "72:\tlearn: 1943.6745079\ttotal: 14.9s\tremaining: 5.51s\n",
      "73:\tlearn: 1941.3041527\ttotal: 15.1s\tremaining: 5.3s\n",
      "74:\tlearn: 1939.0057770\ttotal: 15.3s\tremaining: 5.1s\n",
      "75:\tlearn: 1937.1800167\ttotal: 15.5s\tremaining: 4.89s\n",
      "76:\tlearn: 1934.7428692\ttotal: 15.7s\tremaining: 4.69s\n",
      "77:\tlearn: 1933.4564929\ttotal: 15.9s\tremaining: 4.48s\n",
      "78:\tlearn: 1932.2808039\ttotal: 16.1s\tremaining: 4.28s\n",
      "79:\tlearn: 1930.8055775\ttotal: 16.3s\tremaining: 4.07s\n",
      "80:\tlearn: 1928.6339815\ttotal: 16.5s\tremaining: 3.87s\n",
      "81:\tlearn: 1926.9749516\ttotal: 16.7s\tremaining: 3.66s\n",
      "82:\tlearn: 1924.6962412\ttotal: 16.9s\tremaining: 3.46s\n",
      "83:\tlearn: 1923.0700298\ttotal: 17.1s\tremaining: 3.25s\n",
      "84:\tlearn: 1920.8563115\ttotal: 17.3s\tremaining: 3.05s\n",
      "85:\tlearn: 1918.9590545\ttotal: 17.4s\tremaining: 2.83s\n",
      "86:\tlearn: 1917.5055448\ttotal: 17.7s\tremaining: 2.64s\n",
      "87:\tlearn: 1916.3756431\ttotal: 17.9s\tremaining: 2.44s\n",
      "88:\tlearn: 1914.8146650\ttotal: 18.1s\tremaining: 2.23s\n",
      "89:\tlearn: 1913.4017866\ttotal: 18.3s\tremaining: 2.03s\n",
      "90:\tlearn: 1911.3839189\ttotal: 18.5s\tremaining: 1.83s\n",
      "91:\tlearn: 1910.3845396\ttotal: 18.7s\tremaining: 1.62s\n",
      "92:\tlearn: 1908.6305835\ttotal: 18.9s\tremaining: 1.42s\n",
      "93:\tlearn: 1907.2821888\ttotal: 19.1s\tremaining: 1.22s\n",
      "94:\tlearn: 1906.0967526\ttotal: 19.3s\tremaining: 1.01s\n",
      "95:\tlearn: 1904.5826530\ttotal: 19.5s\tremaining: 812ms\n",
      "96:\tlearn: 1903.2810189\ttotal: 19.7s\tremaining: 609ms\n",
      "97:\tlearn: 1901.7924406\ttotal: 19.9s\tremaining: 406ms\n",
      "98:\tlearn: 1900.8714982\ttotal: 20.1s\tremaining: 203ms\n",
      "99:\tlearn: 1900.3455359\ttotal: 20.3s\tremaining: 0us\n",
      "0:\tlearn: 4245.4311221\ttotal: 157ms\tremaining: 15.6s\n",
      "1:\tlearn: 4010.9549528\ttotal: 368ms\tremaining: 18s\n",
      "2:\tlearn: 3800.6363920\ttotal: 654ms\tremaining: 21.2s\n",
      "3:\tlearn: 3609.9984751\ttotal: 853ms\tremaining: 20.5s\n",
      "4:\tlearn: 3446.2476989\ttotal: 1.05s\tremaining: 20s\n",
      "5:\tlearn: 3299.9046407\ttotal: 1.25s\tremaining: 19.6s\n",
      "6:\tlearn: 3170.7413857\ttotal: 1.45s\tremaining: 19.3s\n",
      "7:\tlearn: 3057.1422371\ttotal: 1.65s\tremaining: 19s\n",
      "8:\tlearn: 2958.7869138\ttotal: 1.85s\tremaining: 18.7s\n",
      "9:\tlearn: 2874.0554837\ttotal: 2.05s\tremaining: 18.4s\n",
      "10:\tlearn: 2797.9539291\ttotal: 2.25s\tremaining: 18.2s\n",
      "11:\tlearn: 2724.5705577\ttotal: 2.45s\tremaining: 18s\n",
      "12:\tlearn: 2656.6851830\ttotal: 2.65s\tremaining: 17.7s\n",
      "13:\tlearn: 2596.9727096\ttotal: 2.85s\tremaining: 17.5s\n",
      "14:\tlearn: 2540.5809663\ttotal: 3.05s\tremaining: 17.3s\n",
      "15:\tlearn: 2495.3656704\ttotal: 3.25s\tremaining: 17.1s\n",
      "16:\tlearn: 2454.9060393\ttotal: 3.45s\tremaining: 16.8s\n",
      "17:\tlearn: 2413.8182920\ttotal: 3.65s\tremaining: 16.6s\n",
      "18:\tlearn: 2381.6820037\ttotal: 3.85s\tremaining: 16.4s\n",
      "19:\tlearn: 2348.5406211\ttotal: 4.04s\tremaining: 16.2s\n",
      "20:\tlearn: 2318.3066217\ttotal: 4.25s\tremaining: 16s\n",
      "21:\tlearn: 2290.7542064\ttotal: 4.44s\tremaining: 15.8s\n",
      "22:\tlearn: 2263.3512161\ttotal: 4.64s\tremaining: 15.5s\n",
      "23:\tlearn: 2237.3065904\ttotal: 4.84s\tremaining: 15.3s\n",
      "24:\tlearn: 2212.7967492\ttotal: 5.04s\tremaining: 15.1s\n",
      "25:\tlearn: 2193.1744788\ttotal: 5.25s\tremaining: 14.9s\n",
      "26:\tlearn: 2178.4513762\ttotal: 5.44s\tremaining: 14.7s\n",
      "27:\tlearn: 2164.3541978\ttotal: 5.64s\tremaining: 14.5s\n",
      "28:\tlearn: 2153.7410194\ttotal: 5.84s\tremaining: 14.3s\n",
      "29:\tlearn: 2142.3391714\ttotal: 6.04s\tremaining: 14.1s\n",
      "30:\tlearn: 2130.1115123\ttotal: 6.24s\tremaining: 13.9s\n",
      "31:\tlearn: 2120.8202469\ttotal: 6.44s\tremaining: 13.7s\n",
      "32:\tlearn: 2113.2672605\ttotal: 6.63s\tremaining: 13.5s\n",
      "33:\tlearn: 2103.3126369\ttotal: 6.83s\tremaining: 13.3s\n",
      "34:\tlearn: 2094.7317019\ttotal: 7.03s\tremaining: 13.1s\n",
      "35:\tlearn: 2085.1239087\ttotal: 7.23s\tremaining: 12.9s\n",
      "36:\tlearn: 2078.8040001\ttotal: 7.43s\tremaining: 12.7s\n",
      "37:\tlearn: 2071.7143141\ttotal: 7.63s\tremaining: 12.4s\n",
      "38:\tlearn: 2064.9085086\ttotal: 7.83s\tremaining: 12.3s\n",
      "39:\tlearn: 2058.4458107\ttotal: 8.04s\tremaining: 12.1s\n",
      "40:\tlearn: 2051.8452836\ttotal: 8.23s\tremaining: 11.8s\n",
      "41:\tlearn: 2045.8527637\ttotal: 8.43s\tremaining: 11.6s\n",
      "42:\tlearn: 2041.3138653\ttotal: 8.63s\tremaining: 11.4s\n",
      "43:\tlearn: 2036.3050394\ttotal: 8.83s\tremaining: 11.2s\n",
      "44:\tlearn: 2031.4439868\ttotal: 9.03s\tremaining: 11s\n",
      "45:\tlearn: 2025.9901935\ttotal: 9.23s\tremaining: 10.8s\n",
      "46:\tlearn: 2021.6881004\ttotal: 9.43s\tremaining: 10.6s\n",
      "47:\tlearn: 2017.4826305\ttotal: 9.62s\tremaining: 10.4s\n",
      "48:\tlearn: 2013.2719952\ttotal: 9.82s\tremaining: 10.2s\n",
      "49:\tlearn: 2009.8810113\ttotal: 10s\tremaining: 10s\n",
      "50:\tlearn: 2006.9380939\ttotal: 10.2s\tremaining: 9.82s\n",
      "51:\tlearn: 2002.7868162\ttotal: 10.4s\tremaining: 9.62s\n",
      "52:\tlearn: 1999.8451791\ttotal: 10.6s\tremaining: 9.42s\n",
      "53:\tlearn: 1997.1659856\ttotal: 10.8s\tremaining: 9.22s\n",
      "54:\tlearn: 1993.7006797\ttotal: 11s\tremaining: 9.02s\n",
      "55:\tlearn: 1991.8882766\ttotal: 11.2s\tremaining: 8.82s\n",
      "56:\tlearn: 1988.5569467\ttotal: 11.4s\tremaining: 8.62s\n",
      "57:\tlearn: 1986.8824608\ttotal: 11.6s\tremaining: 8.41s\n",
      "58:\tlearn: 1984.0888058\ttotal: 11.8s\tremaining: 8.21s\n",
      "59:\tlearn: 1981.6960562\ttotal: 12s\tremaining: 8.01s\n",
      "60:\tlearn: 1979.2861661\ttotal: 12.2s\tremaining: 7.81s\n",
      "61:\tlearn: 1976.6119603\ttotal: 12.4s\tremaining: 7.61s\n",
      "62:\tlearn: 1974.5586281\ttotal: 12.6s\tremaining: 7.41s\n",
      "63:\tlearn: 1971.6503285\ttotal: 12.8s\tremaining: 7.21s\n",
      "64:\tlearn: 1969.0992721\ttotal: 13s\tremaining: 7.01s\n",
      "65:\tlearn: 1966.5995331\ttotal: 13.2s\tremaining: 6.81s\n",
      "66:\tlearn: 1964.0075073\ttotal: 13.4s\tremaining: 6.61s\n",
      "67:\tlearn: 1962.3312993\ttotal: 13.6s\tremaining: 6.41s\n",
      "68:\tlearn: 1960.2814110\ttotal: 13.8s\tremaining: 6.21s\n",
      "69:\tlearn: 1958.7120117\ttotal: 14s\tremaining: 6s\n",
      "70:\tlearn: 1956.9982136\ttotal: 14.2s\tremaining: 5.8s\n",
      "71:\tlearn: 1955.8955886\ttotal: 14.4s\tremaining: 5.6s\n",
      "72:\tlearn: 1953.5750004\ttotal: 14.6s\tremaining: 5.4s\n",
      "73:\tlearn: 1951.1807759\ttotal: 14.8s\tremaining: 5.2s\n",
      "74:\tlearn: 1948.7566291\ttotal: 15s\tremaining: 5s\n",
      "75:\tlearn: 1946.5109570\ttotal: 15.2s\tremaining: 4.8s\n",
      "76:\tlearn: 1944.5504091\ttotal: 15.4s\tremaining: 4.6s\n",
      "77:\tlearn: 1941.6842046\ttotal: 15.6s\tremaining: 4.4s\n",
      "78:\tlearn: 1940.4479402\ttotal: 15.8s\tremaining: 4.2s\n",
      "79:\tlearn: 1938.7164664\ttotal: 16s\tremaining: 4s\n",
      "80:\tlearn: 1934.6971371\ttotal: 16.2s\tremaining: 3.8s\n",
      "81:\tlearn: 1933.6235351\ttotal: 16.4s\tremaining: 3.6s\n",
      "82:\tlearn: 1931.7002852\ttotal: 16.6s\tremaining: 3.4s\n",
      "83:\tlearn: 1929.9275048\ttotal: 16.8s\tremaining: 3.2s\n",
      "84:\tlearn: 1928.3739103\ttotal: 17s\tremaining: 3s\n",
      "85:\tlearn: 1927.3279307\ttotal: 17.2s\tremaining: 2.8s\n",
      "86:\tlearn: 1926.1369838\ttotal: 17.4s\tremaining: 2.6s\n",
      "87:\tlearn: 1925.5124963\ttotal: 17.6s\tremaining: 2.4s\n",
      "88:\tlearn: 1924.2096317\ttotal: 17.8s\tremaining: 2.2s\n",
      "89:\tlearn: 1922.5588419\ttotal: 18s\tremaining: 2s\n",
      "90:\tlearn: 1920.7172808\ttotal: 18.2s\tremaining: 1.8s\n",
      "91:\tlearn: 1919.7169567\ttotal: 18.4s\tremaining: 1.6s\n",
      "92:\tlearn: 1918.5240240\ttotal: 18.6s\tremaining: 1.4s\n",
      "93:\tlearn: 1916.5112367\ttotal: 18.8s\tremaining: 1.2s\n",
      "94:\tlearn: 1914.8615725\ttotal: 19s\tremaining: 999ms\n",
      "95:\tlearn: 1913.8548093\ttotal: 19.2s\tremaining: 800ms\n",
      "96:\tlearn: 1913.1832042\ttotal: 19.4s\tremaining: 600ms\n",
      "97:\tlearn: 1912.4022374\ttotal: 19.6s\tremaining: 400ms\n",
      "98:\tlearn: 1910.7357474\ttotal: 19.8s\tremaining: 200ms\n",
      "99:\tlearn: 1908.6578492\ttotal: 20s\tremaining: 0us\n",
      "0:\tlearn: 4249.0510887\ttotal: 151ms\tremaining: 14.9s\n",
      "1:\tlearn: 4009.1755348\ttotal: 363ms\tremaining: 17.8s\n",
      "2:\tlearn: 3801.9939550\ttotal: 555ms\tremaining: 17.9s\n",
      "3:\tlearn: 3609.1736123\ttotal: 756ms\tremaining: 18.1s\n",
      "4:\tlearn: 3440.1318096\ttotal: 1.05s\tremaining: 19.9s\n",
      "5:\tlearn: 3292.0123354\ttotal: 1.25s\tremaining: 19.5s\n",
      "6:\tlearn: 3173.6072524\ttotal: 1.45s\tremaining: 19.2s\n",
      "7:\tlearn: 3060.6184110\ttotal: 1.65s\tremaining: 18.9s\n",
      "8:\tlearn: 2966.9682512\ttotal: 1.84s\tremaining: 18.6s\n",
      "9:\tlearn: 2878.1526509\ttotal: 2.04s\tremaining: 18.4s\n",
      "10:\tlearn: 2795.9856785\ttotal: 2.24s\tremaining: 18.1s\n",
      "11:\tlearn: 2721.4126705\ttotal: 2.44s\tremaining: 17.9s\n",
      "12:\tlearn: 2657.8252090\ttotal: 2.64s\tremaining: 17.7s\n",
      "13:\tlearn: 2596.8796283\ttotal: 2.84s\tremaining: 17.4s\n",
      "14:\tlearn: 2548.2308484\ttotal: 3.04s\tremaining: 17.2s\n",
      "15:\tlearn: 2496.8265656\ttotal: 3.24s\tremaining: 17s\n",
      "16:\tlearn: 2454.8262436\ttotal: 3.44s\tremaining: 16.8s\n",
      "17:\tlearn: 2416.6458499\ttotal: 3.64s\tremaining: 16.6s\n",
      "18:\tlearn: 2384.3456692\ttotal: 3.84s\tremaining: 16.4s\n",
      "19:\tlearn: 2351.9995455\ttotal: 4.04s\tremaining: 16.2s\n",
      "20:\tlearn: 2322.3827360\ttotal: 4.29s\tremaining: 16.2s\n",
      "21:\tlearn: 2292.5385580\ttotal: 4.43s\tremaining: 15.7s\n",
      "22:\tlearn: 2264.6621585\ttotal: 4.62s\tremaining: 15.5s\n",
      "23:\tlearn: 2237.4526594\ttotal: 4.82s\tremaining: 15.3s\n",
      "24:\tlearn: 2215.9601719\ttotal: 5.03s\tremaining: 15.1s\n",
      "25:\tlearn: 2198.9281975\ttotal: 5.22s\tremaining: 14.8s\n",
      "26:\tlearn: 2183.9495783\ttotal: 5.42s\tremaining: 14.6s\n",
      "27:\tlearn: 2169.9438123\ttotal: 5.62s\tremaining: 14.4s\n",
      "28:\tlearn: 2157.8222499\ttotal: 5.82s\tremaining: 14.2s\n",
      "29:\tlearn: 2144.8075047\ttotal: 6.01s\tremaining: 14s\n",
      "30:\tlearn: 2133.8780007\ttotal: 6.21s\tremaining: 13.8s\n",
      "31:\tlearn: 2124.6961956\ttotal: 6.41s\tremaining: 13.6s\n",
      "32:\tlearn: 2116.3576069\ttotal: 6.61s\tremaining: 13.4s\n",
      "33:\tlearn: 2107.8555051\ttotal: 6.81s\tremaining: 13.2s\n",
      "34:\tlearn: 2098.4599369\ttotal: 7.01s\tremaining: 13s\n",
      "35:\tlearn: 2090.2653399\ttotal: 7.21s\tremaining: 12.8s\n",
      "36:\tlearn: 2081.9057583\ttotal: 7.41s\tremaining: 12.6s\n",
      "37:\tlearn: 2075.0138386\ttotal: 7.61s\tremaining: 12.4s\n",
      "38:\tlearn: 2068.7236898\ttotal: 7.81s\tremaining: 12.2s\n",
      "39:\tlearn: 2062.5905366\ttotal: 8.01s\tremaining: 12s\n",
      "40:\tlearn: 2055.9161778\ttotal: 8.21s\tremaining: 11.8s\n",
      "41:\tlearn: 2050.7943102\ttotal: 8.41s\tremaining: 11.6s\n",
      "42:\tlearn: 2044.8570511\ttotal: 8.61s\tremaining: 11.4s\n",
      "43:\tlearn: 2040.8730399\ttotal: 8.8s\tremaining: 11.2s\n",
      "44:\tlearn: 2036.1177586\ttotal: 9.01s\tremaining: 11s\n",
      "45:\tlearn: 2030.9859492\ttotal: 9.2s\tremaining: 10.8s\n",
      "46:\tlearn: 2027.3449161\ttotal: 9.41s\tremaining: 10.6s\n",
      "47:\tlearn: 2022.3374001\ttotal: 9.61s\tremaining: 10.4s\n",
      "48:\tlearn: 2019.2885292\ttotal: 9.81s\tremaining: 10.2s\n",
      "49:\tlearn: 2015.3077947\ttotal: 10s\tremaining: 10s\n",
      "50:\tlearn: 2011.9956552\ttotal: 10.3s\tremaining: 9.89s\n",
      "51:\tlearn: 2008.6574470\ttotal: 10.5s\tremaining: 9.69s\n",
      "52:\tlearn: 2005.7853381\ttotal: 10.7s\tremaining: 9.49s\n",
      "53:\tlearn: 2002.9025828\ttotal: 10.9s\tremaining: 9.28s\n",
      "54:\tlearn: 1998.1048647\ttotal: 11.1s\tremaining: 9.08s\n",
      "55:\tlearn: 1995.7859944\ttotal: 11.3s\tremaining: 8.88s\n",
      "56:\tlearn: 1992.7344928\ttotal: 11.5s\tremaining: 8.67s\n",
      "57:\tlearn: 1990.6844450\ttotal: 11.7s\tremaining: 8.47s\n",
      "58:\tlearn: 1987.0849139\ttotal: 11.9s\tremaining: 8.27s\n",
      "59:\tlearn: 1984.3557562\ttotal: 12.1s\tremaining: 8.06s\n",
      "60:\tlearn: 1981.0287069\ttotal: 12.3s\tremaining: 7.86s\n",
      "61:\tlearn: 1976.5463526\ttotal: 12.5s\tremaining: 7.66s\n",
      "62:\tlearn: 1973.5183247\ttotal: 12.7s\tremaining: 7.45s\n",
      "63:\tlearn: 1971.0014498\ttotal: 12.9s\tremaining: 7.25s\n",
      "64:\tlearn: 1969.6523874\ttotal: 13.1s\tremaining: 7.05s\n",
      "65:\tlearn: 1966.3366663\ttotal: 13.3s\tremaining: 6.84s\n",
      "66:\tlearn: 1963.6173109\ttotal: 13.5s\tremaining: 6.64s\n",
      "67:\tlearn: 1961.7449808\ttotal: 13.7s\tremaining: 6.44s\n",
      "68:\tlearn: 1959.0423158\ttotal: 13.9s\tremaining: 6.24s\n",
      "69:\tlearn: 1957.7712589\ttotal: 14.1s\tremaining: 6.04s\n",
      "70:\tlearn: 1954.6554450\ttotal: 14.3s\tremaining: 5.84s\n",
      "71:\tlearn: 1952.4824820\ttotal: 14.5s\tremaining: 5.63s\n",
      "72:\tlearn: 1950.6945939\ttotal: 14.7s\tremaining: 5.43s\n",
      "73:\tlearn: 1948.7081569\ttotal: 14.9s\tremaining: 5.23s\n",
      "74:\tlearn: 1946.6548577\ttotal: 15.1s\tremaining: 5.03s\n",
      "75:\tlearn: 1944.0886156\ttotal: 15.3s\tremaining: 4.83s\n",
      "76:\tlearn: 1941.9768196\ttotal: 15.5s\tremaining: 4.62s\n",
      "77:\tlearn: 1940.4168548\ttotal: 15.7s\tremaining: 4.42s\n",
      "78:\tlearn: 1938.9909804\ttotal: 15.9s\tremaining: 4.22s\n",
      "79:\tlearn: 1937.9139890\ttotal: 16.1s\tremaining: 4.02s\n",
      "80:\tlearn: 1936.7118144\ttotal: 16.3s\tremaining: 3.82s\n",
      "81:\tlearn: 1935.1569502\ttotal: 16.5s\tremaining: 3.62s\n",
      "82:\tlearn: 1934.0725974\ttotal: 16.7s\tremaining: 3.42s\n",
      "83:\tlearn: 1932.2739469\ttotal: 16.9s\tremaining: 3.21s\n",
      "84:\tlearn: 1930.6882666\ttotal: 17.1s\tremaining: 3.01s\n",
      "85:\tlearn: 1928.7275607\ttotal: 17.3s\tremaining: 2.81s\n",
      "86:\tlearn: 1926.9396135\ttotal: 17.5s\tremaining: 2.61s\n",
      "87:\tlearn: 1924.9405857\ttotal: 17.7s\tremaining: 2.41s\n",
      "88:\tlearn: 1923.7920625\ttotal: 17.9s\tremaining: 2.21s\n",
      "89:\tlearn: 1922.6824362\ttotal: 18.1s\tremaining: 2.01s\n",
      "90:\tlearn: 1920.5516733\ttotal: 18.3s\tremaining: 1.81s\n",
      "91:\tlearn: 1918.9586410\ttotal: 18.5s\tremaining: 1.61s\n",
      "92:\tlearn: 1916.6361170\ttotal: 18.7s\tremaining: 1.41s\n",
      "93:\tlearn: 1915.4771750\ttotal: 18.9s\tremaining: 1.2s\n",
      "94:\tlearn: 1914.5233942\ttotal: 19.1s\tremaining: 1s\n",
      "95:\tlearn: 1913.4312911\ttotal: 19.3s\tremaining: 803ms\n",
      "96:\tlearn: 1912.0463072\ttotal: 19.5s\tremaining: 602ms\n",
      "97:\tlearn: 1911.4637673\ttotal: 19.7s\tremaining: 401ms\n",
      "98:\tlearn: 1910.9112177\ttotal: 19.9s\tremaining: 201ms\n",
      "99:\tlearn: 1909.8565619\ttotal: 20.1s\tremaining: 0us\n",
      "0:\tlearn: 4252.7434191\ttotal: 146ms\tremaining: 14.5s\n",
      "1:\tlearn: 4014.8649236\ttotal: 349ms\tremaining: 17.1s\n",
      "2:\tlearn: 3799.9214273\ttotal: 553ms\tremaining: 17.9s\n",
      "3:\tlearn: 3615.9711156\ttotal: 846ms\tremaining: 20.3s\n",
      "4:\tlearn: 3451.5826783\ttotal: 1.04s\tremaining: 19.8s\n",
      "5:\tlearn: 3305.6919434\ttotal: 1.24s\tremaining: 19.5s\n",
      "6:\tlearn: 3173.2150473\ttotal: 1.44s\tremaining: 19.2s\n",
      "7:\tlearn: 3065.2155109\ttotal: 1.64s\tremaining: 18.9s\n",
      "8:\tlearn: 2964.4495555\ttotal: 1.84s\tremaining: 18.6s\n",
      "9:\tlearn: 2873.8084274\ttotal: 2.04s\tremaining: 18.4s\n",
      "10:\tlearn: 2799.2316700\ttotal: 2.24s\tremaining: 18.2s\n",
      "11:\tlearn: 2732.8253291\ttotal: 2.44s\tremaining: 17.9s\n",
      "12:\tlearn: 2673.5293738\ttotal: 2.64s\tremaining: 17.7s\n",
      "13:\tlearn: 2611.0998896\ttotal: 2.84s\tremaining: 17.5s\n",
      "14:\tlearn: 2558.2172593\ttotal: 3.04s\tremaining: 17.2s\n",
      "15:\tlearn: 2505.6446749\ttotal: 3.24s\tremaining: 17s\n",
      "16:\tlearn: 2463.3633618\ttotal: 3.44s\tremaining: 16.8s\n",
      "17:\tlearn: 2426.9593609\ttotal: 3.64s\tremaining: 16.6s\n",
      "18:\tlearn: 2392.3566195\ttotal: 3.84s\tremaining: 16.4s\n",
      "19:\tlearn: 2358.5543989\ttotal: 4.04s\tremaining: 16.1s\n",
      "20:\tlearn: 2326.3416866\ttotal: 4.24s\tremaining: 15.9s\n",
      "21:\tlearn: 2300.2560315\ttotal: 4.43s\tremaining: 15.7s\n",
      "22:\tlearn: 2277.9610170\ttotal: 4.63s\tremaining: 15.5s\n",
      "23:\tlearn: 2255.0298229\ttotal: 4.83s\tremaining: 15.3s\n",
      "24:\tlearn: 2233.6927883\ttotal: 5.03s\tremaining: 15.1s\n",
      "25:\tlearn: 2214.8724067\ttotal: 5.23s\tremaining: 14.9s\n",
      "26:\tlearn: 2200.3638735\ttotal: 5.43s\tremaining: 14.7s\n",
      "27:\tlearn: 2184.4744869\ttotal: 5.63s\tremaining: 14.5s\n",
      "28:\tlearn: 2172.8035126\ttotal: 5.83s\tremaining: 14.3s\n",
      "29:\tlearn: 2161.2678953\ttotal: 6.03s\tremaining: 14.1s\n",
      "30:\tlearn: 2146.4438581\ttotal: 6.22s\tremaining: 13.9s\n",
      "31:\tlearn: 2135.2127384\ttotal: 6.42s\tremaining: 13.7s\n",
      "32:\tlearn: 2126.1228088\ttotal: 6.62s\tremaining: 13.4s\n",
      "33:\tlearn: 2116.5776480\ttotal: 6.82s\tremaining: 13.2s\n",
      "34:\tlearn: 2105.5326763\ttotal: 7.03s\tremaining: 13s\n",
      "35:\tlearn: 2096.0279174\ttotal: 7.22s\tremaining: 12.8s\n",
      "36:\tlearn: 2088.1257906\ttotal: 7.42s\tremaining: 12.6s\n",
      "37:\tlearn: 2080.6656714\ttotal: 7.62s\tremaining: 12.4s\n",
      "38:\tlearn: 2074.4262738\ttotal: 7.82s\tremaining: 12.2s\n",
      "39:\tlearn: 2068.7978905\ttotal: 8.02s\tremaining: 12s\n",
      "40:\tlearn: 2062.4223794\ttotal: 8.22s\tremaining: 11.8s\n",
      "41:\tlearn: 2056.8047770\ttotal: 8.42s\tremaining: 11.6s\n",
      "42:\tlearn: 2051.4718243\ttotal: 8.62s\tremaining: 11.4s\n",
      "43:\tlearn: 2046.2731751\ttotal: 8.82s\tremaining: 11.2s\n",
      "44:\tlearn: 2041.0413077\ttotal: 9.02s\tremaining: 11s\n",
      "45:\tlearn: 2036.2775209\ttotal: 9.22s\tremaining: 10.8s\n",
      "46:\tlearn: 2031.9971982\ttotal: 9.42s\tremaining: 10.6s\n",
      "47:\tlearn: 2028.0567103\ttotal: 9.62s\tremaining: 10.4s\n",
      "48:\tlearn: 2024.9233542\ttotal: 9.81s\tremaining: 10.2s\n",
      "49:\tlearn: 2021.6085469\ttotal: 10s\tremaining: 10s\n",
      "50:\tlearn: 2018.5092235\ttotal: 10.2s\tremaining: 9.81s\n",
      "51:\tlearn: 2014.8850947\ttotal: 10.4s\tremaining: 9.61s\n",
      "52:\tlearn: 2010.9856346\ttotal: 10.6s\tremaining: 9.41s\n",
      "53:\tlearn: 2007.8686143\ttotal: 10.8s\tremaining: 9.21s\n",
      "54:\tlearn: 2004.9710951\ttotal: 11s\tremaining: 9.01s\n",
      "55:\tlearn: 2000.1450804\ttotal: 11.2s\tremaining: 8.81s\n",
      "56:\tlearn: 1997.7221858\ttotal: 11.4s\tremaining: 8.61s\n",
      "57:\tlearn: 1994.2310852\ttotal: 11.6s\tremaining: 8.41s\n",
      "58:\tlearn: 1990.9798613\ttotal: 11.8s\tremaining: 8.21s\n",
      "59:\tlearn: 1989.0345501\ttotal: 12s\tremaining: 8.01s\n",
      "60:\tlearn: 1986.5189927\ttotal: 12.2s\tremaining: 7.81s\n",
      "61:\tlearn: 1984.4660828\ttotal: 12.4s\tremaining: 7.6s\n",
      "62:\tlearn: 1981.9977837\ttotal: 12.6s\tremaining: 7.4s\n",
      "63:\tlearn: 1980.6887301\ttotal: 12.8s\tremaining: 7.2s\n",
      "64:\tlearn: 1977.5367435\ttotal: 13s\tremaining: 7s\n",
      "65:\tlearn: 1975.0363061\ttotal: 13.2s\tremaining: 6.8s\n",
      "66:\tlearn: 1972.6921173\ttotal: 13.4s\tremaining: 6.6s\n",
      "67:\tlearn: 1970.7689433\ttotal: 13.6s\tremaining: 6.4s\n",
      "68:\tlearn: 1968.9105887\ttotal: 13.8s\tremaining: 6.2s\n",
      "69:\tlearn: 1967.2553044\ttotal: 14s\tremaining: 6s\n",
      "70:\tlearn: 1964.8219883\ttotal: 14.2s\tremaining: 5.8s\n",
      "71:\tlearn: 1963.6273432\ttotal: 14.4s\tremaining: 5.6s\n",
      "72:\tlearn: 1961.6679327\ttotal: 14.6s\tremaining: 5.4s\n",
      "73:\tlearn: 1959.4830586\ttotal: 14.8s\tremaining: 5.2s\n",
      "74:\tlearn: 1957.8667225\ttotal: 15s\tremaining: 5s\n",
      "75:\tlearn: 1954.5570107\ttotal: 15.2s\tremaining: 4.8s\n",
      "76:\tlearn: 1952.4029520\ttotal: 15.4s\tremaining: 4.6s\n",
      "77:\tlearn: 1951.0603873\ttotal: 15.6s\tremaining: 4.4s\n",
      "78:\tlearn: 1949.3259757\ttotal: 15.8s\tremaining: 4.2s\n",
      "79:\tlearn: 1947.8994136\ttotal: 16s\tremaining: 4s\n",
      "80:\tlearn: 1947.1840015\ttotal: 16.2s\tremaining: 3.8s\n",
      "81:\tlearn: 1944.9728976\ttotal: 16.4s\tremaining: 3.6s\n",
      "82:\tlearn: 1942.3449505\ttotal: 16.6s\tremaining: 3.4s\n",
      "83:\tlearn: 1941.0308337\ttotal: 16.8s\tremaining: 3.2s\n",
      "84:\tlearn: 1939.3734883\ttotal: 17s\tremaining: 3s\n",
      "85:\tlearn: 1937.6432993\ttotal: 17.2s\tremaining: 2.8s\n",
      "86:\tlearn: 1935.9388535\ttotal: 17.4s\tremaining: 2.6s\n",
      "87:\tlearn: 1933.7988632\ttotal: 17.6s\tremaining: 2.4s\n",
      "88:\tlearn: 1932.7855906\ttotal: 17.8s\tremaining: 2.2s\n",
      "89:\tlearn: 1931.3783756\ttotal: 18s\tremaining: 2s\n",
      "90:\tlearn: 1930.7910099\ttotal: 18.2s\tremaining: 1.8s\n",
      "91:\tlearn: 1929.8902933\ttotal: 18.4s\tremaining: 1.6s\n",
      "92:\tlearn: 1928.0982725\ttotal: 18.6s\tremaining: 1.4s\n",
      "93:\tlearn: 1925.2665015\ttotal: 18.8s\tremaining: 1.2s\n",
      "94:\tlearn: 1924.3031547\ttotal: 19s\tremaining: 999ms\n",
      "95:\tlearn: 1923.5848722\ttotal: 19.2s\tremaining: 799ms\n",
      "96:\tlearn: 1922.0010664\ttotal: 19.4s\tremaining: 600ms\n",
      "97:\tlearn: 1918.9542072\ttotal: 19.6s\tremaining: 400ms\n",
      "98:\tlearn: 1917.2542941\ttotal: 19.8s\tremaining: 200ms\n",
      "99:\tlearn: 1915.6427328\ttotal: 20s\tremaining: 0us\n",
      "0:\tlearn: 4236.2619308\ttotal: 141ms\tremaining: 14s\n",
      "1:\tlearn: 3994.2372245\ttotal: 345ms\tremaining: 16.9s\n",
      "2:\tlearn: 3791.7532327\ttotal: 636ms\tremaining: 20.6s\n",
      "3:\tlearn: 3607.1172264\ttotal: 836ms\tremaining: 20.1s\n",
      "4:\tlearn: 3440.3116116\ttotal: 1.03s\tremaining: 19.6s\n",
      "5:\tlearn: 3292.4341957\ttotal: 1.23s\tremaining: 19.3s\n",
      "6:\tlearn: 3162.2253925\ttotal: 1.44s\tremaining: 19.1s\n",
      "7:\tlearn: 3054.4378142\ttotal: 1.65s\tremaining: 18.9s\n",
      "8:\tlearn: 2954.2615355\ttotal: 1.93s\tremaining: 19.5s\n",
      "9:\tlearn: 2870.6989406\ttotal: 2.13s\tremaining: 19.2s\n",
      "10:\tlearn: 2788.4468092\ttotal: 2.33s\tremaining: 18.8s\n",
      "11:\tlearn: 2716.6735104\ttotal: 2.53s\tremaining: 18.5s\n",
      "12:\tlearn: 2648.4537250\ttotal: 2.74s\tremaining: 18.3s\n",
      "13:\tlearn: 2589.0886771\ttotal: 2.92s\tremaining: 18s\n",
      "14:\tlearn: 2538.9551387\ttotal: 3.13s\tremaining: 17.7s\n",
      "15:\tlearn: 2490.8500277\ttotal: 3.33s\tremaining: 17.5s\n",
      "16:\tlearn: 2448.8768849\ttotal: 3.52s\tremaining: 17.2s\n",
      "17:\tlearn: 2412.1737690\ttotal: 3.72s\tremaining: 17s\n",
      "18:\tlearn: 2377.1860322\ttotal: 3.92s\tremaining: 16.7s\n",
      "19:\tlearn: 2347.3038697\ttotal: 4.12s\tremaining: 16.5s\n",
      "20:\tlearn: 2315.2611076\ttotal: 4.32s\tremaining: 16.3s\n",
      "21:\tlearn: 2290.3607065\ttotal: 4.52s\tremaining: 16s\n",
      "22:\tlearn: 2266.3810235\ttotal: 4.72s\tremaining: 15.8s\n",
      "23:\tlearn: 2244.7228011\ttotal: 4.92s\tremaining: 15.6s\n",
      "24:\tlearn: 2226.9709359\ttotal: 5.13s\tremaining: 15.4s\n",
      "25:\tlearn: 2205.7580627\ttotal: 5.32s\tremaining: 15.1s\n",
      "26:\tlearn: 2188.3797609\ttotal: 5.52s\tremaining: 14.9s\n",
      "27:\tlearn: 2173.7845203\ttotal: 5.71s\tremaining: 14.7s\n",
      "28:\tlearn: 2157.5481298\ttotal: 5.91s\tremaining: 14.5s\n",
      "29:\tlearn: 2147.1801918\ttotal: 6.12s\tremaining: 14.3s\n",
      "30:\tlearn: 2133.7003857\ttotal: 6.32s\tremaining: 14.1s\n",
      "31:\tlearn: 2121.6423724\ttotal: 6.61s\tremaining: 14s\n",
      "32:\tlearn: 2112.5107492\ttotal: 6.81s\tremaining: 13.8s\n",
      "33:\tlearn: 2101.7284960\ttotal: 7.01s\tremaining: 13.6s\n",
      "34:\tlearn: 2092.8825159\ttotal: 7.21s\tremaining: 13.4s\n",
      "35:\tlearn: 2085.2605760\ttotal: 7.41s\tremaining: 13.2s\n",
      "36:\tlearn: 2078.0595246\ttotal: 7.61s\tremaining: 13s\n",
      "37:\tlearn: 2070.8250611\ttotal: 7.81s\tremaining: 12.7s\n",
      "38:\tlearn: 2065.0846564\ttotal: 8.01s\tremaining: 12.5s\n",
      "39:\tlearn: 2058.5671776\ttotal: 8.21s\tremaining: 12.3s\n",
      "40:\tlearn: 2052.5512973\ttotal: 8.41s\tremaining: 12.1s\n",
      "41:\tlearn: 2045.2165296\ttotal: 8.61s\tremaining: 11.9s\n",
      "42:\tlearn: 2040.4473913\ttotal: 8.82s\tremaining: 11.7s\n",
      "43:\tlearn: 2035.2058189\ttotal: 9.1s\tremaining: 11.6s\n",
      "44:\tlearn: 2030.7154998\ttotal: 9.3s\tremaining: 11.4s\n",
      "45:\tlearn: 2024.6002381\ttotal: 9.5s\tremaining: 11.2s\n",
      "46:\tlearn: 2020.4645871\ttotal: 9.7s\tremaining: 10.9s\n",
      "47:\tlearn: 2015.6948363\ttotal: 9.9s\tremaining: 10.7s\n",
      "48:\tlearn: 2011.7511170\ttotal: 10.1s\tremaining: 10.5s\n",
      "49:\tlearn: 2007.8505154\ttotal: 10.3s\tremaining: 10.3s\n",
      "50:\tlearn: 2004.4210468\ttotal: 10.5s\tremaining: 10.1s\n",
      "51:\tlearn: 2001.8086588\ttotal: 10.7s\tremaining: 9.88s\n",
      "52:\tlearn: 1998.1363106\ttotal: 11s\tremaining: 9.75s\n",
      "53:\tlearn: 1995.3223971\ttotal: 11.2s\tremaining: 9.54s\n",
      "54:\tlearn: 1992.3188989\ttotal: 11.4s\tremaining: 9.33s\n",
      "55:\tlearn: 1989.4745439\ttotal: 11.6s\tremaining: 9.11s\n",
      "56:\tlearn: 1986.3099407\ttotal: 11.8s\tremaining: 8.9s\n",
      "57:\tlearn: 1983.5799732\ttotal: 12s\tremaining: 8.68s\n",
      "58:\tlearn: 1981.2282796\ttotal: 12.2s\tremaining: 8.47s\n",
      "59:\tlearn: 1978.4689243\ttotal: 12.4s\tremaining: 8.26s\n",
      "60:\tlearn: 1975.9974236\ttotal: 12.6s\tremaining: 8.05s\n",
      "61:\tlearn: 1973.3221938\ttotal: 12.8s\tremaining: 7.84s\n",
      "62:\tlearn: 1970.5349865\ttotal: 13s\tremaining: 7.63s\n",
      "63:\tlearn: 1968.3054598\ttotal: 13.2s\tremaining: 7.42s\n",
      "64:\tlearn: 1965.1781564\ttotal: 13.4s\tremaining: 7.21s\n",
      "65:\tlearn: 1963.0522623\ttotal: 13.6s\tremaining: 7s\n",
      "66:\tlearn: 1960.6978330\ttotal: 13.8s\tremaining: 6.79s\n",
      "67:\tlearn: 1956.6841567\ttotal: 14s\tremaining: 6.58s\n",
      "68:\tlearn: 1955.2324496\ttotal: 14.2s\tremaining: 6.37s\n",
      "69:\tlearn: 1953.8263801\ttotal: 14.4s\tremaining: 6.17s\n",
      "70:\tlearn: 1951.7114964\ttotal: 14.6s\tremaining: 5.96s\n",
      "71:\tlearn: 1950.1869405\ttotal: 14.8s\tremaining: 5.75s\n",
      "72:\tlearn: 1948.1582716\ttotal: 15s\tremaining: 5.54s\n",
      "73:\tlearn: 1946.3682392\ttotal: 15.2s\tremaining: 5.33s\n",
      "74:\tlearn: 1945.0261312\ttotal: 15.4s\tremaining: 5.13s\n",
      "75:\tlearn: 1943.0675928\ttotal: 15.6s\tremaining: 4.92s\n",
      "76:\tlearn: 1941.5983138\ttotal: 15.8s\tremaining: 4.71s\n",
      "77:\tlearn: 1939.1997948\ttotal: 16s\tremaining: 4.51s\n",
      "78:\tlearn: 1938.0622738\ttotal: 16.2s\tremaining: 4.3s\n",
      "79:\tlearn: 1936.4541788\ttotal: 16.4s\tremaining: 4.09s\n",
      "80:\tlearn: 1935.3534968\ttotal: 16.6s\tremaining: 3.89s\n",
      "81:\tlearn: 1933.4764379\ttotal: 16.8s\tremaining: 3.68s\n",
      "82:\tlearn: 1932.3848985\ttotal: 17s\tremaining: 3.48s\n",
      "83:\tlearn: 1929.4145067\ttotal: 17.2s\tremaining: 3.27s\n",
      "84:\tlearn: 1928.5271387\ttotal: 17.4s\tremaining: 3.07s\n",
      "85:\tlearn: 1927.5416130\ttotal: 17.6s\tremaining: 2.86s\n",
      "86:\tlearn: 1926.3323134\ttotal: 17.8s\tremaining: 2.66s\n",
      "87:\tlearn: 1924.9705237\ttotal: 18s\tremaining: 2.45s\n",
      "88:\tlearn: 1923.5180784\ttotal: 18.2s\tremaining: 2.25s\n",
      "89:\tlearn: 1922.2087795\ttotal: 18.4s\tremaining: 2.04s\n",
      "90:\tlearn: 1918.3409366\ttotal: 18.6s\tremaining: 1.84s\n",
      "91:\tlearn: 1917.3975997\ttotal: 18.8s\tremaining: 1.63s\n",
      "92:\tlearn: 1916.7978563\ttotal: 19s\tremaining: 1.43s\n",
      "93:\tlearn: 1915.1869525\ttotal: 19.2s\tremaining: 1.22s\n",
      "94:\tlearn: 1913.6775560\ttotal: 19.4s\tremaining: 1.02s\n",
      "95:\tlearn: 1912.8458150\ttotal: 19.6s\tremaining: 815ms\n",
      "96:\tlearn: 1911.8996067\ttotal: 19.8s\tremaining: 611ms\n",
      "97:\tlearn: 1910.0789885\ttotal: 20s\tremaining: 407ms\n",
      "98:\tlearn: 1908.9835390\ttotal: 20.2s\tremaining: 204ms\n",
      "99:\tlearn: 1907.9724437\ttotal: 20.4s\tremaining: 0us\n",
      "0:\tlearn: 4482.1660795\ttotal: 144ms\tremaining: 14.3s\n",
      "1:\tlearn: 4454.9582685\ttotal: 348ms\tremaining: 17.1s\n",
      "2:\tlearn: 4428.0361877\ttotal: 546ms\tremaining: 17.7s\n",
      "3:\tlearn: 4401.3414609\ttotal: 746ms\tremaining: 17.9s\n",
      "4:\tlearn: 4375.1278189\ttotal: 945ms\tremaining: 18s\n",
      "5:\tlearn: 4349.3698502\ttotal: 1.24s\tremaining: 19.4s\n",
      "6:\tlearn: 4323.2824979\ttotal: 1.35s\tremaining: 17.9s\n",
      "7:\tlearn: 4298.2972188\ttotal: 1.54s\tremaining: 17.8s\n",
      "8:\tlearn: 4273.5058019\ttotal: 1.83s\tremaining: 18.6s\n",
      "9:\tlearn: 4248.2952839\ttotal: 2.04s\tremaining: 18.3s\n",
      "10:\tlearn: 4223.6351881\ttotal: 2.24s\tremaining: 18.1s\n",
      "11:\tlearn: 4199.8064262\ttotal: 2.44s\tremaining: 17.9s\n",
      "12:\tlearn: 4176.0886807\ttotal: 2.64s\tremaining: 17.6s\n",
      "13:\tlearn: 4152.7640604\ttotal: 2.84s\tremaining: 17.4s\n",
      "14:\tlearn: 4129.7614515\ttotal: 3.04s\tremaining: 17.2s\n",
      "15:\tlearn: 4106.7840427\ttotal: 3.23s\tremaining: 17s\n",
      "16:\tlearn: 4084.4039423\ttotal: 3.43s\tremaining: 16.8s\n",
      "17:\tlearn: 4062.0756718\ttotal: 3.63s\tremaining: 16.6s\n",
      "18:\tlearn: 4040.2309812\ttotal: 3.83s\tremaining: 16.3s\n",
      "19:\tlearn: 4018.4984651\ttotal: 4.03s\tremaining: 16.1s\n",
      "20:\tlearn: 3997.0608407\ttotal: 4.23s\tremaining: 15.9s\n",
      "21:\tlearn: 3975.2155341\ttotal: 4.43s\tremaining: 15.7s\n",
      "22:\tlearn: 3954.2305324\ttotal: 4.63s\tremaining: 15.5s\n",
      "23:\tlearn: 3933.2649516\ttotal: 4.83s\tremaining: 15.3s\n",
      "24:\tlearn: 3912.8852645\ttotal: 5.03s\tremaining: 15.1s\n",
      "25:\tlearn: 3891.9682320\ttotal: 5.23s\tremaining: 14.9s\n",
      "26:\tlearn: 3872.3074514\ttotal: 5.43s\tremaining: 14.7s\n",
      "27:\tlearn: 3852.0321500\ttotal: 5.63s\tremaining: 14.5s\n",
      "28:\tlearn: 3831.5550241\ttotal: 5.83s\tremaining: 14.3s\n",
      "29:\tlearn: 3810.9141693\ttotal: 6.03s\tremaining: 14.1s\n",
      "30:\tlearn: 3792.1110886\ttotal: 6.22s\tremaining: 13.9s\n",
      "31:\tlearn: 3772.8082661\ttotal: 6.43s\tremaining: 13.7s\n",
      "32:\tlearn: 3754.0551856\ttotal: 6.62s\tremaining: 13.4s\n",
      "33:\tlearn: 3735.9269278\ttotal: 6.82s\tremaining: 13.2s\n",
      "34:\tlearn: 3717.4909745\ttotal: 7.02s\tremaining: 13s\n",
      "35:\tlearn: 3699.2979306\ttotal: 7.22s\tremaining: 12.8s\n",
      "36:\tlearn: 3681.8382100\ttotal: 7.42s\tremaining: 12.6s\n",
      "37:\tlearn: 3664.6998272\ttotal: 7.62s\tremaining: 12.4s\n",
      "38:\tlearn: 3646.0818284\ttotal: 7.82s\tremaining: 12.2s\n",
      "39:\tlearn: 3628.5636696\ttotal: 8.02s\tremaining: 12s\n",
      "40:\tlearn: 3611.5592365\ttotal: 8.22s\tremaining: 11.8s\n",
      "41:\tlearn: 3595.2671167\ttotal: 8.42s\tremaining: 11.6s\n",
      "42:\tlearn: 3578.4837612\ttotal: 8.62s\tremaining: 11.4s\n",
      "43:\tlearn: 3561.9234388\ttotal: 8.81s\tremaining: 11.2s\n",
      "44:\tlearn: 3544.6378855\ttotal: 9.02s\tremaining: 11s\n",
      "45:\tlearn: 3528.0214918\ttotal: 9.21s\tremaining: 10.8s\n",
      "46:\tlearn: 3512.3509018\ttotal: 9.41s\tremaining: 10.6s\n",
      "47:\tlearn: 3497.1111784\ttotal: 9.61s\tremaining: 10.4s\n",
      "48:\tlearn: 3482.1214870\ttotal: 9.81s\tremaining: 10.2s\n",
      "49:\tlearn: 3466.9821106\ttotal: 10s\tremaining: 10s\n",
      "50:\tlearn: 3452.1673718\ttotal: 10.2s\tremaining: 9.81s\n",
      "51:\tlearn: 3437.1685913\ttotal: 10.4s\tremaining: 9.61s\n",
      "52:\tlearn: 3422.3767427\ttotal: 10.6s\tremaining: 9.4s\n",
      "53:\tlearn: 3407.9883226\ttotal: 10.8s\tremaining: 9.2s\n",
      "54:\tlearn: 3393.3581964\ttotal: 11s\tremaining: 9.01s\n",
      "55:\tlearn: 3379.6217134\ttotal: 11.2s\tremaining: 8.8s\n",
      "56:\tlearn: 3366.1988076\ttotal: 11.4s\tremaining: 8.6s\n",
      "57:\tlearn: 3352.8677126\ttotal: 11.6s\tremaining: 8.4s\n",
      "58:\tlearn: 3339.7417364\ttotal: 11.8s\tremaining: 8.2s\n",
      "59:\tlearn: 3325.6769734\ttotal: 12s\tremaining: 8s\n",
      "60:\tlearn: 3312.4465755\ttotal: 12.2s\tremaining: 7.8s\n",
      "61:\tlearn: 3299.6896096\ttotal: 12.4s\tremaining: 7.6s\n",
      "62:\tlearn: 3286.1214495\ttotal: 12.6s\tremaining: 7.4s\n",
      "63:\tlearn: 3272.7525847\ttotal: 12.8s\tremaining: 7.2s\n",
      "64:\tlearn: 3260.4778175\ttotal: 13s\tremaining: 7s\n",
      "65:\tlearn: 3247.8874895\ttotal: 13.2s\tremaining: 6.8s\n",
      "66:\tlearn: 3235.6534676\ttotal: 13.4s\tremaining: 6.6s\n",
      "67:\tlearn: 3223.6900656\ttotal: 13.6s\tremaining: 6.4s\n",
      "68:\tlearn: 3212.0795117\ttotal: 13.8s\tremaining: 6.2s\n",
      "69:\tlearn: 3199.8288635\ttotal: 14s\tremaining: 6s\n",
      "70:\tlearn: 3187.8258298\ttotal: 14.2s\tremaining: 5.8s\n",
      "71:\tlearn: 3176.2454670\ttotal: 14.4s\tremaining: 5.6s\n",
      "72:\tlearn: 3163.8436800\ttotal: 14.6s\tremaining: 5.4s\n",
      "73:\tlearn: 3152.1135751\ttotal: 14.8s\tremaining: 5.2s\n",
      "74:\tlearn: 3140.0765702\ttotal: 15s\tremaining: 5s\n",
      "75:\tlearn: 3129.1639908\ttotal: 15.2s\tremaining: 4.8s\n",
      "76:\tlearn: 3117.9054701\ttotal: 15.4s\tremaining: 4.6s\n",
      "77:\tlearn: 3107.4806834\ttotal: 15.6s\tremaining: 4.4s\n",
      "78:\tlearn: 3096.8893337\ttotal: 15.8s\tremaining: 4.2s\n",
      "79:\tlearn: 3085.6070107\ttotal: 16s\tremaining: 4s\n",
      "80:\tlearn: 3075.7309137\ttotal: 16.2s\tremaining: 3.8s\n",
      "81:\tlearn: 3064.7211573\ttotal: 16.4s\tremaining: 3.6s\n",
      "82:\tlearn: 3053.9171801\ttotal: 16.6s\tremaining: 3.4s\n",
      "83:\tlearn: 3043.2558005\ttotal: 16.8s\tremaining: 3.2s\n",
      "84:\tlearn: 3033.1534299\ttotal: 17s\tremaining: 3s\n",
      "85:\tlearn: 3023.3713155\ttotal: 17.2s\tremaining: 2.8s\n",
      "86:\tlearn: 3013.8462073\ttotal: 17.4s\tremaining: 2.6s\n",
      "87:\tlearn: 3003.7564054\ttotal: 17.6s\tremaining: 2.4s\n",
      "88:\tlearn: 2994.4863954\ttotal: 17.8s\tremaining: 2.2s\n",
      "89:\tlearn: 2984.6391229\ttotal: 18s\tremaining: 2s\n",
      "90:\tlearn: 2975.6637121\ttotal: 18.2s\tremaining: 1.8s\n",
      "91:\tlearn: 2966.4799659\ttotal: 18.4s\tremaining: 1.6s\n",
      "92:\tlearn: 2957.6631117\ttotal: 18.6s\tremaining: 1.4s\n",
      "93:\tlearn: 2948.3655657\ttotal: 18.8s\tremaining: 1.2s\n",
      "94:\tlearn: 2939.2987375\ttotal: 19s\tremaining: 999ms\n",
      "95:\tlearn: 2930.9288901\ttotal: 19.2s\tremaining: 799ms\n",
      "96:\tlearn: 2921.7782164\ttotal: 19.4s\tremaining: 599ms\n",
      "97:\tlearn: 2913.7746573\ttotal: 19.6s\tremaining: 399ms\n",
      "98:\tlearn: 2904.8365662\ttotal: 19.8s\tremaining: 200ms\n",
      "99:\tlearn: 2896.7361012\ttotal: 20s\tremaining: 0us\n",
      "0:\tlearn: 4490.4977764\ttotal: 148ms\tremaining: 14.7s\n",
      "1:\tlearn: 4463.9410116\ttotal: 351ms\tremaining: 17.2s\n",
      "2:\tlearn: 4437.4652363\ttotal: 554ms\tremaining: 17.9s\n",
      "3:\tlearn: 4411.2943542\ttotal: 843ms\tremaining: 20.2s\n",
      "4:\tlearn: 4385.7179357\ttotal: 1.04s\tremaining: 19.8s\n",
      "5:\tlearn: 4360.2207059\ttotal: 1.15s\tremaining: 18.1s\n",
      "6:\tlearn: 4334.3263768\ttotal: 1.44s\tremaining: 19.2s\n",
      "7:\tlearn: 4309.3676698\ttotal: 1.55s\tremaining: 17.9s\n",
      "8:\tlearn: 4285.0658226\ttotal: 1.75s\tremaining: 17.7s\n",
      "9:\tlearn: 4260.9865537\ttotal: 1.95s\tremaining: 17.6s\n",
      "10:\tlearn: 4237.0136330\ttotal: 2.15s\tremaining: 17.4s\n",
      "11:\tlearn: 4213.5340240\ttotal: 2.44s\tremaining: 17.9s\n",
      "12:\tlearn: 4189.8554693\ttotal: 2.64s\tremaining: 17.7s\n",
      "13:\tlearn: 4165.9555827\ttotal: 2.84s\tremaining: 17.4s\n",
      "14:\tlearn: 4142.3886149\ttotal: 3.04s\tremaining: 17.2s\n",
      "15:\tlearn: 4119.5810567\ttotal: 3.24s\tremaining: 17s\n",
      "16:\tlearn: 4096.5170201\ttotal: 3.44s\tremaining: 16.8s\n",
      "17:\tlearn: 4073.8746590\ttotal: 3.63s\tremaining: 16.6s\n",
      "18:\tlearn: 4051.7144680\ttotal: 3.83s\tremaining: 16.4s\n",
      "19:\tlearn: 4028.6451296\ttotal: 4.03s\tremaining: 16.1s\n",
      "20:\tlearn: 4006.9535574\ttotal: 4.23s\tremaining: 15.9s\n",
      "21:\tlearn: 3985.3670510\ttotal: 4.44s\tremaining: 15.7s\n",
      "22:\tlearn: 3963.7554365\ttotal: 4.64s\tremaining: 15.5s\n",
      "23:\tlearn: 3942.9098011\ttotal: 4.84s\tremaining: 15.3s\n",
      "24:\tlearn: 3921.6158101\ttotal: 5.04s\tremaining: 15.1s\n",
      "25:\tlearn: 3900.9132969\ttotal: 5.24s\tremaining: 14.9s\n",
      "26:\tlearn: 3880.0215532\ttotal: 5.43s\tremaining: 14.7s\n",
      "27:\tlearn: 3860.1837592\ttotal: 5.63s\tremaining: 14.5s\n",
      "28:\tlearn: 3839.5972603\ttotal: 5.84s\tremaining: 14.3s\n",
      "29:\tlearn: 3820.5748564\ttotal: 6.04s\tremaining: 14.1s\n",
      "30:\tlearn: 3801.5143639\ttotal: 6.24s\tremaining: 13.9s\n",
      "31:\tlearn: 3782.9238380\ttotal: 6.43s\tremaining: 13.7s\n",
      "32:\tlearn: 3764.1115145\ttotal: 6.63s\tremaining: 13.5s\n",
      "33:\tlearn: 3745.5458754\ttotal: 6.83s\tremaining: 13.3s\n",
      "34:\tlearn: 3727.0973563\ttotal: 7.03s\tremaining: 13.1s\n",
      "35:\tlearn: 3709.1938302\ttotal: 7.23s\tremaining: 12.9s\n",
      "36:\tlearn: 3690.7674213\ttotal: 7.43s\tremaining: 12.6s\n",
      "37:\tlearn: 3673.2681558\ttotal: 7.63s\tremaining: 12.4s\n",
      "38:\tlearn: 3654.8446262\ttotal: 7.83s\tremaining: 12.2s\n",
      "39:\tlearn: 3636.1651525\ttotal: 8.03s\tremaining: 12s\n",
      "40:\tlearn: 3619.5786940\ttotal: 8.23s\tremaining: 11.8s\n",
      "41:\tlearn: 3602.4583790\ttotal: 8.43s\tremaining: 11.6s\n",
      "42:\tlearn: 3584.5477140\ttotal: 8.62s\tremaining: 11.4s\n",
      "43:\tlearn: 3567.4008922\ttotal: 8.91s\tremaining: 11.3s\n",
      "44:\tlearn: 3551.6851556\ttotal: 9.12s\tremaining: 11.1s\n",
      "45:\tlearn: 3535.3973645\ttotal: 9.32s\tremaining: 10.9s\n",
      "46:\tlearn: 3519.2865820\ttotal: 9.52s\tremaining: 10.7s\n",
      "47:\tlearn: 3503.6585532\ttotal: 9.72s\tremaining: 10.5s\n",
      "48:\tlearn: 3486.9732056\ttotal: 9.92s\tremaining: 10.3s\n",
      "49:\tlearn: 3471.8492050\ttotal: 10.1s\tremaining: 10.1s\n",
      "50:\tlearn: 3456.4332442\ttotal: 10.3s\tremaining: 9.91s\n",
      "51:\tlearn: 3441.1708229\ttotal: 10.5s\tremaining: 9.71s\n",
      "52:\tlearn: 3426.5287016\ttotal: 10.7s\tremaining: 9.5s\n",
      "53:\tlearn: 3411.9178736\ttotal: 10.9s\tremaining: 9.3s\n",
      "54:\tlearn: 3397.7460751\ttotal: 11.1s\tremaining: 9.09s\n",
      "55:\tlearn: 3383.3106192\ttotal: 11.3s\tremaining: 8.89s\n",
      "56:\tlearn: 3368.9086959\ttotal: 11.5s\tremaining: 8.68s\n",
      "57:\tlearn: 3355.6336779\ttotal: 11.7s\tremaining: 8.48s\n",
      "58:\tlearn: 3342.0100883\ttotal: 11.9s\tremaining: 8.28s\n",
      "59:\tlearn: 3328.2539576\ttotal: 12.1s\tremaining: 8.07s\n",
      "60:\tlearn: 3314.0668323\ttotal: 12.3s\tremaining: 7.87s\n",
      "61:\tlearn: 3301.5168604\ttotal: 12.5s\tremaining: 7.67s\n",
      "62:\tlearn: 3288.4934095\ttotal: 12.7s\tremaining: 7.46s\n",
      "63:\tlearn: 3275.5966628\ttotal: 12.9s\tremaining: 7.26s\n",
      "64:\tlearn: 3262.2544523\ttotal: 13.1s\tremaining: 7.06s\n",
      "65:\tlearn: 3248.8562374\ttotal: 13.3s\tremaining: 6.85s\n",
      "66:\tlearn: 3235.6088578\ttotal: 13.5s\tremaining: 6.65s\n",
      "67:\tlearn: 3223.7284796\ttotal: 13.7s\tremaining: 6.45s\n",
      "68:\tlearn: 3210.6757118\ttotal: 13.9s\tremaining: 6.25s\n",
      "69:\tlearn: 3199.0143569\ttotal: 14.1s\tremaining: 6.04s\n",
      "70:\tlearn: 3187.5504122\ttotal: 14.3s\tremaining: 5.84s\n",
      "71:\tlearn: 3176.2807174\ttotal: 14.5s\tremaining: 5.64s\n",
      "72:\tlearn: 3164.8278928\ttotal: 14.7s\tremaining: 5.44s\n",
      "73:\tlearn: 3152.6669393\ttotal: 14.9s\tremaining: 5.24s\n",
      "74:\tlearn: 3141.6331585\ttotal: 15.1s\tremaining: 5.03s\n",
      "75:\tlearn: 3130.6145983\ttotal: 15.4s\tremaining: 4.86s\n",
      "76:\tlearn: 3119.2773973\ttotal: 15.6s\tremaining: 4.66s\n",
      "77:\tlearn: 3108.1544589\ttotal: 15.8s\tremaining: 4.46s\n",
      "78:\tlearn: 3097.2270611\ttotal: 16s\tremaining: 4.25s\n",
      "79:\tlearn: 3085.8573004\ttotal: 16.2s\tremaining: 4.05s\n",
      "80:\tlearn: 3075.5379181\ttotal: 16.4s\tremaining: 3.85s\n",
      "81:\tlearn: 3064.3901251\ttotal: 16.6s\tremaining: 3.64s\n",
      "82:\tlearn: 3053.7536189\ttotal: 16.8s\tremaining: 3.44s\n",
      "83:\tlearn: 3043.1234023\ttotal: 17s\tremaining: 3.24s\n",
      "84:\tlearn: 3033.5443132\ttotal: 17.2s\tremaining: 3.03s\n",
      "85:\tlearn: 3024.1310734\ttotal: 17.4s\tremaining: 2.83s\n",
      "86:\tlearn: 3014.7136822\ttotal: 17.6s\tremaining: 2.63s\n",
      "87:\tlearn: 3004.4476657\ttotal: 17.8s\tremaining: 2.43s\n",
      "88:\tlearn: 2995.2358543\ttotal: 18s\tremaining: 2.22s\n",
      "89:\tlearn: 2985.3622996\ttotal: 18.2s\tremaining: 2.02s\n",
      "90:\tlearn: 2975.5832212\ttotal: 18.4s\tremaining: 1.82s\n",
      "91:\tlearn: 2966.0661567\ttotal: 18.6s\tremaining: 1.62s\n",
      "92:\tlearn: 2957.1729551\ttotal: 18.8s\tremaining: 1.41s\n",
      "93:\tlearn: 2948.3440033\ttotal: 19s\tremaining: 1.21s\n",
      "94:\tlearn: 2939.4142968\ttotal: 19.2s\tremaining: 1.01s\n",
      "95:\tlearn: 2930.6322450\ttotal: 19.4s\tremaining: 808ms\n",
      "96:\tlearn: 2921.3715533\ttotal: 19.6s\tremaining: 606ms\n",
      "97:\tlearn: 2912.7520440\ttotal: 19.8s\tremaining: 404ms\n",
      "98:\tlearn: 2903.8399238\ttotal: 20.1s\tremaining: 203ms\n",
      "99:\tlearn: 2895.1453448\ttotal: 20.3s\tremaining: 0us\n",
      "0:\tlearn: 4482.7961408\ttotal: 136ms\tremaining: 13.5s\n",
      "1:\tlearn: 4455.6305144\ttotal: 349ms\tremaining: 17.1s\n",
      "2:\tlearn: 4428.8531212\ttotal: 636ms\tremaining: 20.6s\n",
      "3:\tlearn: 4402.3319573\ttotal: 840ms\tremaining: 20.1s\n",
      "4:\tlearn: 4376.1235858\ttotal: 1.04s\tremaining: 19.8s\n",
      "5:\tlearn: 4350.5030827\ttotal: 1.33s\tremaining: 20.8s\n",
      "6:\tlearn: 4325.1048223\ttotal: 1.53s\tremaining: 20.3s\n",
      "7:\tlearn: 4299.5622054\ttotal: 1.73s\tremaining: 19.9s\n",
      "8:\tlearn: 4274.6794586\ttotal: 1.93s\tremaining: 19.5s\n",
      "9:\tlearn: 4250.2630172\ttotal: 2.13s\tremaining: 19.1s\n",
      "10:\tlearn: 4225.7902376\ttotal: 2.33s\tremaining: 18.8s\n",
      "11:\tlearn: 4201.8768481\ttotal: 2.53s\tremaining: 18.6s\n",
      "12:\tlearn: 4177.5555200\ttotal: 2.73s\tremaining: 18.3s\n",
      "13:\tlearn: 4153.5341050\ttotal: 3.02s\tremaining: 18.6s\n",
      "14:\tlearn: 4130.3399509\ttotal: 3.14s\tremaining: 17.8s\n",
      "15:\tlearn: 4107.6394690\ttotal: 3.34s\tremaining: 17.5s\n",
      "16:\tlearn: 4084.5949567\ttotal: 3.53s\tremaining: 17.2s\n",
      "17:\tlearn: 4062.4727684\ttotal: 3.73s\tremaining: 17s\n",
      "18:\tlearn: 4039.8925479\ttotal: 3.93s\tremaining: 16.7s\n",
      "19:\tlearn: 4018.3595976\ttotal: 4.13s\tremaining: 16.5s\n",
      "20:\tlearn: 3997.1499810\ttotal: 4.34s\tremaining: 16.3s\n",
      "21:\tlearn: 3975.0510456\ttotal: 4.53s\tremaining: 16.1s\n",
      "22:\tlearn: 3954.1479202\ttotal: 4.81s\tremaining: 16.1s\n",
      "23:\tlearn: 3933.3339533\ttotal: 5.01s\tremaining: 15.9s\n",
      "24:\tlearn: 3913.1947290\ttotal: 5.21s\tremaining: 15.6s\n",
      "25:\tlearn: 3892.3550339\ttotal: 5.41s\tremaining: 15.4s\n",
      "26:\tlearn: 3872.0142905\ttotal: 5.61s\tremaining: 15.2s\n",
      "27:\tlearn: 3851.7317691\ttotal: 5.81s\tremaining: 14.9s\n",
      "28:\tlearn: 3832.1838698\ttotal: 6.01s\tremaining: 14.7s\n",
      "29:\tlearn: 3812.3757560\ttotal: 6.22s\tremaining: 14.5s\n",
      "30:\tlearn: 3792.0097941\ttotal: 6.41s\tremaining: 14.3s\n",
      "31:\tlearn: 3773.1331387\ttotal: 6.62s\tremaining: 14.1s\n",
      "32:\tlearn: 3753.5784447\ttotal: 6.82s\tremaining: 13.8s\n",
      "33:\tlearn: 3733.8916400\ttotal: 7.01s\tremaining: 13.6s\n",
      "34:\tlearn: 3716.2080205\ttotal: 7.22s\tremaining: 13.4s\n",
      "35:\tlearn: 3698.5089799\ttotal: 7.5s\tremaining: 13.3s\n",
      "36:\tlearn: 3679.6902399\ttotal: 7.71s\tremaining: 13.1s\n",
      "37:\tlearn: 3662.3360325\ttotal: 7.91s\tremaining: 12.9s\n",
      "38:\tlearn: 3644.4735381\ttotal: 8.11s\tremaining: 12.7s\n",
      "39:\tlearn: 3626.9726371\ttotal: 8.31s\tremaining: 12.5s\n",
      "40:\tlearn: 3609.7142410\ttotal: 8.5s\tremaining: 12.2s\n",
      "41:\tlearn: 3593.0028394\ttotal: 8.71s\tremaining: 12s\n",
      "42:\tlearn: 3576.8505715\ttotal: 8.91s\tremaining: 11.8s\n",
      "43:\tlearn: 3559.8112144\ttotal: 9.11s\tremaining: 11.6s\n",
      "44:\tlearn: 3543.8056799\ttotal: 9.31s\tremaining: 11.4s\n",
      "45:\tlearn: 3527.9641805\ttotal: 9.51s\tremaining: 11.2s\n",
      "46:\tlearn: 3512.0749754\ttotal: 9.79s\tremaining: 11s\n",
      "47:\tlearn: 3495.8708798\ttotal: 9.91s\tremaining: 10.7s\n",
      "48:\tlearn: 3480.6197699\ttotal: 10.2s\tremaining: 10.6s\n",
      "49:\tlearn: 3464.9022760\ttotal: 10.4s\tremaining: 10.4s\n",
      "50:\tlearn: 3449.4151753\ttotal: 10.6s\tremaining: 10.2s\n",
      "51:\tlearn: 3434.8031059\ttotal: 10.8s\tremaining: 9.97s\n",
      "52:\tlearn: 3420.3441411\ttotal: 11s\tremaining: 9.75s\n",
      "53:\tlearn: 3406.1869249\ttotal: 11.2s\tremaining: 9.54s\n",
      "54:\tlearn: 3392.0960576\ttotal: 11.4s\tremaining: 9.32s\n",
      "55:\tlearn: 3378.2238654\ttotal: 11.6s\tremaining: 9.11s\n",
      "56:\tlearn: 3364.4759034\ttotal: 11.8s\tremaining: 8.9s\n",
      "57:\tlearn: 3350.6983221\ttotal: 12s\tremaining: 8.69s\n",
      "58:\tlearn: 3337.1998794\ttotal: 12.2s\tremaining: 8.47s\n",
      "59:\tlearn: 3323.0940947\ttotal: 12.4s\tremaining: 8.26s\n",
      "60:\tlearn: 3309.5425210\ttotal: 12.6s\tremaining: 8.05s\n",
      "61:\tlearn: 3296.1746750\ttotal: 12.8s\tremaining: 7.84s\n",
      "62:\tlearn: 3283.6152671\ttotal: 13s\tremaining: 7.63s\n",
      "63:\tlearn: 3270.5158970\ttotal: 13.2s\tremaining: 7.42s\n",
      "64:\tlearn: 3257.8189052\ttotal: 13.5s\tremaining: 7.26s\n",
      "65:\tlearn: 3245.5044918\ttotal: 13.7s\tremaining: 7.04s\n",
      "66:\tlearn: 3233.7242258\ttotal: 13.9s\tremaining: 6.83s\n",
      "67:\tlearn: 3221.8435511\ttotal: 14.1s\tremaining: 6.62s\n",
      "68:\tlearn: 3209.3923785\ttotal: 14.3s\tremaining: 6.42s\n",
      "69:\tlearn: 3196.7204803\ttotal: 14.5s\tremaining: 6.2s\n",
      "70:\tlearn: 3185.2886058\ttotal: 14.7s\tremaining: 6s\n",
      "71:\tlearn: 3173.7387230\ttotal: 14.9s\tremaining: 5.79s\n",
      "72:\tlearn: 3161.4387316\ttotal: 15.1s\tremaining: 5.58s\n",
      "73:\tlearn: 3150.6189954\ttotal: 15.3s\tremaining: 5.37s\n",
      "74:\tlearn: 3139.1824317\ttotal: 15.5s\tremaining: 5.16s\n",
      "75:\tlearn: 3127.3942480\ttotal: 15.7s\tremaining: 4.95s\n",
      "76:\tlearn: 3116.5605866\ttotal: 15.9s\tremaining: 4.74s\n",
      "77:\tlearn: 3106.2489346\ttotal: 16.1s\tremaining: 4.53s\n",
      "78:\tlearn: 3095.9227438\ttotal: 16.3s\tremaining: 4.33s\n",
      "79:\tlearn: 3084.6649404\ttotal: 16.5s\tremaining: 4.12s\n",
      "80:\tlearn: 3074.4422683\ttotal: 16.7s\tremaining: 3.91s\n",
      "81:\tlearn: 3064.7267031\ttotal: 16.9s\tremaining: 3.7s\n",
      "82:\tlearn: 3054.6278587\ttotal: 17.1s\tremaining: 3.5s\n",
      "83:\tlearn: 3044.9858041\ttotal: 17.3s\tremaining: 3.29s\n",
      "84:\tlearn: 3034.2595393\ttotal: 17.5s\tremaining: 3.08s\n",
      "85:\tlearn: 3024.0097803\ttotal: 17.7s\tremaining: 2.88s\n",
      "86:\tlearn: 3014.4615269\ttotal: 17.9s\tremaining: 2.67s\n",
      "87:\tlearn: 3004.1244798\ttotal: 18.1s\tremaining: 2.46s\n",
      "88:\tlearn: 2994.2047567\ttotal: 18.3s\tremaining: 2.26s\n",
      "89:\tlearn: 2984.1926804\ttotal: 18.5s\tremaining: 2.05s\n",
      "90:\tlearn: 2974.9681567\ttotal: 18.7s\tremaining: 1.84s\n",
      "91:\tlearn: 2965.9628700\ttotal: 18.9s\tremaining: 1.64s\n",
      "92:\tlearn: 2957.4713287\ttotal: 19.1s\tremaining: 1.43s\n",
      "93:\tlearn: 2948.8534504\ttotal: 19.3s\tremaining: 1.23s\n",
      "94:\tlearn: 2940.3154478\ttotal: 19.5s\tremaining: 1.02s\n",
      "95:\tlearn: 2930.9571631\ttotal: 19.7s\tremaining: 819ms\n",
      "96:\tlearn: 2922.6216172\ttotal: 19.9s\tremaining: 614ms\n",
      "97:\tlearn: 2913.4723344\ttotal: 20.1s\tremaining: 409ms\n",
      "98:\tlearn: 2905.1790423\ttotal: 20.3s\tremaining: 205ms\n",
      "99:\tlearn: 2897.1303641\ttotal: 20.5s\tremaining: 0us\n",
      "0:\tlearn: 4487.7798107\ttotal: 159ms\tremaining: 15.8s\n",
      "1:\tlearn: 4460.6224556\ttotal: 451ms\tremaining: 22.1s\n",
      "2:\tlearn: 4433.8989731\ttotal: 564ms\tremaining: 18.2s\n",
      "3:\tlearn: 4407.5302606\ttotal: 854ms\tremaining: 20.5s\n",
      "4:\tlearn: 4381.4775525\ttotal: 1.05s\tremaining: 20s\n",
      "5:\tlearn: 4355.9068783\ttotal: 1.26s\tremaining: 19.7s\n",
      "6:\tlearn: 4330.2687958\ttotal: 1.45s\tremaining: 19.3s\n",
      "7:\tlearn: 4305.1222036\ttotal: 1.65s\tremaining: 19s\n",
      "8:\tlearn: 4280.2517401\ttotal: 1.85s\tremaining: 18.7s\n",
      "9:\tlearn: 4255.7280674\ttotal: 2.05s\tremaining: 18.5s\n",
      "10:\tlearn: 4231.2235435\ttotal: 2.25s\tremaining: 18.2s\n",
      "11:\tlearn: 4207.3429725\ttotal: 2.46s\tremaining: 18s\n",
      "12:\tlearn: 4183.0419713\ttotal: 2.65s\tremaining: 17.7s\n",
      "13:\tlearn: 4159.1721163\ttotal: 2.85s\tremaining: 17.5s\n",
      "14:\tlearn: 4136.1704763\ttotal: 3.05s\tremaining: 17.3s\n",
      "15:\tlearn: 4113.5722626\ttotal: 3.25s\tremaining: 17.1s\n",
      "16:\tlearn: 4091.2277893\ttotal: 3.45s\tremaining: 16.8s\n",
      "17:\tlearn: 4068.9417944\ttotal: 3.65s\tremaining: 16.6s\n",
      "18:\tlearn: 4046.3624269\ttotal: 3.85s\tremaining: 16.4s\n",
      "19:\tlearn: 4024.8679081\ttotal: 4.05s\tremaining: 16.2s\n",
      "20:\tlearn: 4003.6793887\ttotal: 4.26s\tremaining: 16s\n",
      "21:\tlearn: 3981.6646343\ttotal: 4.45s\tremaining: 15.8s\n",
      "22:\tlearn: 3960.2112725\ttotal: 4.74s\tremaining: 15.9s\n",
      "23:\tlearn: 3938.9935100\ttotal: 4.94s\tremaining: 15.6s\n",
      "24:\tlearn: 3918.5385886\ttotal: 5.14s\tremaining: 15.4s\n",
      "25:\tlearn: 3897.3054997\ttotal: 5.34s\tremaining: 15.2s\n",
      "26:\tlearn: 3877.0022187\ttotal: 5.54s\tremaining: 15s\n",
      "27:\tlearn: 3857.5547163\ttotal: 5.74s\tremaining: 14.8s\n",
      "28:\tlearn: 3838.0134090\ttotal: 5.95s\tremaining: 14.6s\n",
      "29:\tlearn: 3819.0679369\ttotal: 6.14s\tremaining: 14.3s\n",
      "30:\tlearn: 3799.5511709\ttotal: 6.34s\tremaining: 14.1s\n",
      "31:\tlearn: 3780.0986302\ttotal: 6.54s\tremaining: 13.9s\n",
      "32:\tlearn: 3761.3027267\ttotal: 6.74s\tremaining: 13.7s\n",
      "33:\tlearn: 3742.9386382\ttotal: 6.94s\tremaining: 13.5s\n",
      "34:\tlearn: 3724.6804894\ttotal: 7.14s\tremaining: 13.3s\n",
      "35:\tlearn: 3706.0412656\ttotal: 7.34s\tremaining: 13s\n",
      "36:\tlearn: 3688.5817130\ttotal: 7.54s\tremaining: 12.8s\n",
      "37:\tlearn: 3671.6000037\ttotal: 7.74s\tremaining: 12.6s\n",
      "38:\tlearn: 3654.3406491\ttotal: 7.94s\tremaining: 12.4s\n",
      "39:\tlearn: 3637.2792170\ttotal: 8.14s\tremaining: 12.2s\n",
      "40:\tlearn: 3620.0486142\ttotal: 8.34s\tremaining: 12s\n",
      "41:\tlearn: 3603.4505200\ttotal: 8.54s\tremaining: 11.8s\n",
      "42:\tlearn: 3586.9980249\ttotal: 8.74s\tremaining: 11.6s\n",
      "43:\tlearn: 3570.0419053\ttotal: 9.02s\tremaining: 11.5s\n",
      "44:\tlearn: 3553.6890225\ttotal: 9.23s\tremaining: 11.3s\n",
      "45:\tlearn: 3537.1142020\ttotal: 9.43s\tremaining: 11.1s\n",
      "46:\tlearn: 3520.7952756\ttotal: 9.63s\tremaining: 10.9s\n",
      "47:\tlearn: 3505.3780718\ttotal: 9.82s\tremaining: 10.6s\n",
      "48:\tlearn: 3489.5706739\ttotal: 10s\tremaining: 10.4s\n",
      "49:\tlearn: 3474.9824943\ttotal: 10.2s\tremaining: 10.2s\n",
      "50:\tlearn: 3459.3820331\ttotal: 10.4s\tremaining: 10s\n",
      "51:\tlearn: 3444.8068810\ttotal: 10.6s\tremaining: 9.81s\n",
      "52:\tlearn: 3430.3985909\ttotal: 10.8s\tremaining: 9.6s\n",
      "53:\tlearn: 3416.4688372\ttotal: 11s\tremaining: 9.39s\n",
      "54:\tlearn: 3402.7850485\ttotal: 11.2s\tremaining: 9.18s\n",
      "55:\tlearn: 3387.4558031\ttotal: 11.4s\tremaining: 8.98s\n",
      "56:\tlearn: 3374.0014190\ttotal: 11.6s\tremaining: 8.77s\n",
      "57:\tlearn: 3360.0363976\ttotal: 11.8s\tremaining: 8.56s\n",
      "58:\tlearn: 3346.4717417\ttotal: 12s\tremaining: 8.35s\n",
      "59:\tlearn: 3333.7582190\ttotal: 12.2s\tremaining: 8.15s\n",
      "60:\tlearn: 3319.3987409\ttotal: 12.4s\tremaining: 7.94s\n",
      "61:\tlearn: 3306.8445939\ttotal: 12.6s\tremaining: 7.74s\n",
      "62:\tlearn: 3294.5927275\ttotal: 12.8s\tremaining: 7.54s\n",
      "63:\tlearn: 3281.0250468\ttotal: 13s\tremaining: 7.32s\n",
      "64:\tlearn: 3267.3522291\ttotal: 13.2s\tremaining: 7.12s\n",
      "65:\tlearn: 3254.5722875\ttotal: 13.4s\tremaining: 6.91s\n",
      "66:\tlearn: 3242.2372129\ttotal: 13.6s\tremaining: 6.7s\n",
      "67:\tlearn: 3229.2825915\ttotal: 13.8s\tremaining: 6.5s\n",
      "68:\tlearn: 3216.5256322\ttotal: 14s\tremaining: 6.29s\n",
      "69:\tlearn: 3204.0360905\ttotal: 14.2s\tremaining: 6.09s\n",
      "70:\tlearn: 3192.5787880\ttotal: 14.4s\tremaining: 5.89s\n",
      "71:\tlearn: 3181.4723126\ttotal: 14.6s\tremaining: 5.68s\n",
      "72:\tlearn: 3169.1450930\ttotal: 14.8s\tremaining: 5.48s\n",
      "73:\tlearn: 3158.4315127\ttotal: 15s\tremaining: 5.27s\n",
      "74:\tlearn: 3147.1429750\ttotal: 15.2s\tremaining: 5.07s\n",
      "75:\tlearn: 3135.5382496\ttotal: 15.4s\tremaining: 4.87s\n",
      "76:\tlearn: 3123.8208426\ttotal: 15.6s\tremaining: 4.66s\n",
      "77:\tlearn: 3113.0896253\ttotal: 15.8s\tremaining: 4.46s\n",
      "78:\tlearn: 3102.6552606\ttotal: 16s\tremaining: 4.26s\n",
      "79:\tlearn: 3092.5918990\ttotal: 16.2s\tremaining: 4.05s\n",
      "80:\tlearn: 3082.7381280\ttotal: 16.4s\tremaining: 3.85s\n",
      "81:\tlearn: 3071.9555246\ttotal: 16.6s\tremaining: 3.65s\n",
      "82:\tlearn: 3061.8079317\ttotal: 16.9s\tremaining: 3.46s\n",
      "83:\tlearn: 3051.0982569\ttotal: 17.1s\tremaining: 3.26s\n",
      "84:\tlearn: 3041.5959351\ttotal: 17.3s\tremaining: 3.05s\n",
      "85:\tlearn: 3032.0726881\ttotal: 17.5s\tremaining: 2.85s\n",
      "86:\tlearn: 3022.2419072\ttotal: 17.7s\tremaining: 2.64s\n",
      "87:\tlearn: 3013.1305646\ttotal: 17.9s\tremaining: 2.44s\n",
      "88:\tlearn: 3003.7995306\ttotal: 18.1s\tremaining: 2.24s\n",
      "89:\tlearn: 2994.9739852\ttotal: 18.3s\tremaining: 2.03s\n",
      "90:\tlearn: 2985.9530242\ttotal: 18.5s\tremaining: 1.83s\n",
      "91:\tlearn: 2976.1268343\ttotal: 18.7s\tremaining: 1.63s\n",
      "92:\tlearn: 2967.0965790\ttotal: 18.9s\tremaining: 1.42s\n",
      "93:\tlearn: 2957.8857108\ttotal: 19.1s\tremaining: 1.22s\n",
      "94:\tlearn: 2948.5158081\ttotal: 19.3s\tremaining: 1.01s\n",
      "95:\tlearn: 2939.1884006\ttotal: 19.5s\tremaining: 812ms\n",
      "96:\tlearn: 2930.0249782\ttotal: 19.7s\tremaining: 609ms\n",
      "97:\tlearn: 2921.7195863\ttotal: 19.9s\tremaining: 406ms\n",
      "98:\tlearn: 2913.5211240\ttotal: 20.2s\tremaining: 204ms\n",
      "99:\tlearn: 2904.7407263\ttotal: 20.4s\tremaining: 0us\n",
      "0:\tlearn: 4479.6387930\ttotal: 155ms\tremaining: 15.3s\n",
      "1:\tlearn: 4452.4610834\ttotal: 359ms\tremaining: 17.6s\n",
      "2:\tlearn: 4425.7980670\ttotal: 557ms\tremaining: 18s\n",
      "3:\tlearn: 4399.4391954\ttotal: 759ms\tremaining: 18.2s\n",
      "4:\tlearn: 4373.4315274\ttotal: 958ms\tremaining: 18.2s\n",
      "5:\tlearn: 4347.7704911\ttotal: 1.16s\tremaining: 18.1s\n",
      "6:\tlearn: 4322.1495831\ttotal: 1.35s\tremaining: 18s\n",
      "7:\tlearn: 4296.7522083\ttotal: 1.55s\tremaining: 17.9s\n",
      "8:\tlearn: 4271.8622540\ttotal: 1.75s\tremaining: 17.7s\n",
      "9:\tlearn: 4247.5933119\ttotal: 1.95s\tremaining: 17.6s\n",
      "10:\tlearn: 4222.5247608\ttotal: 2.24s\tremaining: 18.1s\n",
      "11:\tlearn: 4198.5624270\ttotal: 2.35s\tremaining: 17.3s\n",
      "12:\tlearn: 4174.4540184\ttotal: 2.64s\tremaining: 17.7s\n",
      "13:\tlearn: 4151.0419228\ttotal: 2.84s\tremaining: 17.5s\n",
      "14:\tlearn: 4128.1078808\ttotal: 3.04s\tremaining: 17.2s\n",
      "15:\tlearn: 4105.1532680\ttotal: 3.24s\tremaining: 17s\n",
      "16:\tlearn: 4082.0827934\ttotal: 3.45s\tremaining: 16.8s\n",
      "17:\tlearn: 4060.0758822\ttotal: 3.65s\tremaining: 16.6s\n",
      "18:\tlearn: 4038.4095048\ttotal: 3.85s\tremaining: 16.4s\n",
      "19:\tlearn: 4016.6033017\ttotal: 3.97s\tremaining: 15.9s\n",
      "20:\tlearn: 3995.2662201\ttotal: 4.17s\tremaining: 15.7s\n",
      "21:\tlearn: 3974.2226914\ttotal: 4.36s\tremaining: 15.5s\n",
      "22:\tlearn: 3953.3140667\ttotal: 4.56s\tremaining: 15.3s\n",
      "23:\tlearn: 3932.9170717\ttotal: 4.76s\tremaining: 15.1s\n",
      "24:\tlearn: 3912.4382207\ttotal: 4.96s\tremaining: 14.9s\n",
      "25:\tlearn: 3892.3903965\ttotal: 5.16s\tremaining: 14.7s\n",
      "26:\tlearn: 3872.3854102\ttotal: 5.45s\tremaining: 14.7s\n",
      "27:\tlearn: 3852.9293568\ttotal: 5.65s\tremaining: 14.5s\n",
      "28:\tlearn: 3833.5787999\ttotal: 5.85s\tremaining: 14.3s\n",
      "29:\tlearn: 3814.8939935\ttotal: 6.05s\tremaining: 14.1s\n",
      "30:\tlearn: 3795.5093375\ttotal: 6.25s\tremaining: 13.9s\n",
      "31:\tlearn: 3777.2974689\ttotal: 6.45s\tremaining: 13.7s\n",
      "32:\tlearn: 3758.0033540\ttotal: 6.65s\tremaining: 13.5s\n",
      "33:\tlearn: 3739.6497407\ttotal: 6.85s\tremaining: 13.3s\n",
      "34:\tlearn: 3721.4958410\ttotal: 7.05s\tremaining: 13.1s\n",
      "35:\tlearn: 3703.1615241\ttotal: 7.25s\tremaining: 12.9s\n",
      "36:\tlearn: 3684.8423528\ttotal: 7.45s\tremaining: 12.7s\n",
      "37:\tlearn: 3667.1877509\ttotal: 7.65s\tremaining: 12.5s\n",
      "38:\tlearn: 3649.1628233\ttotal: 7.85s\tremaining: 12.3s\n",
      "39:\tlearn: 3632.3440689\ttotal: 8.04s\tremaining: 12.1s\n",
      "40:\tlearn: 3615.2952527\ttotal: 8.24s\tremaining: 11.9s\n",
      "41:\tlearn: 3598.0689281\ttotal: 8.45s\tremaining: 11.7s\n",
      "42:\tlearn: 3581.7001429\ttotal: 8.64s\tremaining: 11.5s\n",
      "43:\tlearn: 3564.6479793\ttotal: 8.84s\tremaining: 11.3s\n",
      "44:\tlearn: 3549.1383993\ttotal: 9.04s\tremaining: 11.1s\n",
      "45:\tlearn: 3533.2302825\ttotal: 9.24s\tremaining: 10.8s\n",
      "46:\tlearn: 3516.7457768\ttotal: 9.44s\tremaining: 10.6s\n",
      "47:\tlearn: 3501.1029237\ttotal: 9.64s\tremaining: 10.4s\n",
      "48:\tlearn: 3485.3661574\ttotal: 9.86s\tremaining: 10.3s\n",
      "49:\tlearn: 3470.4377670\ttotal: 10s\tremaining: 10s\n",
      "50:\tlearn: 3455.4079316\ttotal: 10.2s\tremaining: 9.84s\n",
      "51:\tlearn: 3440.7955132\ttotal: 10.4s\tremaining: 9.64s\n",
      "52:\tlearn: 3425.2858855\ttotal: 10.6s\tremaining: 9.44s\n",
      "53:\tlearn: 3411.1067133\ttotal: 10.9s\tremaining: 9.31s\n",
      "54:\tlearn: 3396.4552137\ttotal: 11s\tremaining: 9.03s\n",
      "55:\tlearn: 3382.4112362\ttotal: 11.3s\tremaining: 8.9s\n",
      "56:\tlearn: 3368.9489365\ttotal: 11.5s\tremaining: 8.7s\n",
      "57:\tlearn: 3355.7070666\ttotal: 11.7s\tremaining: 8.5s\n",
      "58:\tlearn: 3342.3510649\ttotal: 11.9s\tremaining: 8.29s\n",
      "59:\tlearn: 3328.4329226\ttotal: 12.1s\tremaining: 8.09s\n",
      "60:\tlearn: 3315.4042039\ttotal: 12.3s\tremaining: 7.88s\n",
      "61:\tlearn: 3302.6299665\ttotal: 12.5s\tremaining: 7.68s\n",
      "62:\tlearn: 3288.9917925\ttotal: 12.7s\tremaining: 7.48s\n",
      "63:\tlearn: 3276.6984260\ttotal: 12.9s\tremaining: 7.27s\n",
      "64:\tlearn: 3263.4193873\ttotal: 13.1s\tremaining: 7.07s\n",
      "65:\tlearn: 3250.8211684\ttotal: 13.3s\tremaining: 6.87s\n",
      "66:\tlearn: 3237.7818068\ttotal: 13.5s\tremaining: 6.66s\n",
      "67:\tlearn: 3224.8792728\ttotal: 13.7s\tremaining: 6.46s\n",
      "68:\tlearn: 3213.0652555\ttotal: 13.9s\tremaining: 6.26s\n",
      "69:\tlearn: 3201.4926455\ttotal: 14.1s\tremaining: 6.05s\n",
      "70:\tlearn: 3189.8585093\ttotal: 14.3s\tremaining: 5.85s\n",
      "71:\tlearn: 3178.7069508\ttotal: 14.5s\tremaining: 5.65s\n",
      "72:\tlearn: 3167.7229326\ttotal: 14.7s\tremaining: 5.45s\n",
      "73:\tlearn: 3156.3249712\ttotal: 14.9s\tremaining: 5.25s\n",
      "74:\tlearn: 3144.1434713\ttotal: 15.1s\tremaining: 5.04s\n",
      "75:\tlearn: 3132.2339971\ttotal: 15.3s\tremaining: 4.84s\n",
      "76:\tlearn: 3121.6621580\ttotal: 15.5s\tremaining: 4.64s\n",
      "77:\tlearn: 3110.1649478\ttotal: 15.7s\tremaining: 4.43s\n",
      "78:\tlearn: 3100.0145605\ttotal: 15.9s\tremaining: 4.23s\n",
      "79:\tlearn: 3089.7977733\ttotal: 16.1s\tremaining: 4.03s\n",
      "80:\tlearn: 3079.9103914\ttotal: 16.3s\tremaining: 3.83s\n",
      "81:\tlearn: 3068.7023928\ttotal: 16.5s\tremaining: 3.62s\n",
      "82:\tlearn: 3058.3423352\ttotal: 16.7s\tremaining: 3.42s\n",
      "83:\tlearn: 3047.4311645\ttotal: 16.9s\tremaining: 3.22s\n",
      "84:\tlearn: 3036.7200124\ttotal: 17.1s\tremaining: 3.02s\n",
      "85:\tlearn: 3026.1602164\ttotal: 17.3s\tremaining: 2.82s\n",
      "86:\tlearn: 3015.7321731\ttotal: 17.5s\tremaining: 2.62s\n",
      "87:\tlearn: 3005.9777662\ttotal: 17.7s\tremaining: 2.42s\n",
      "88:\tlearn: 2996.0271618\ttotal: 17.9s\tremaining: 2.21s\n",
      "89:\tlearn: 2986.1872185\ttotal: 18.1s\tremaining: 2.01s\n",
      "90:\tlearn: 2977.4324589\ttotal: 18.3s\tremaining: 1.81s\n",
      "91:\tlearn: 2968.5418587\ttotal: 18.5s\tremaining: 1.61s\n",
      "92:\tlearn: 2959.7978133\ttotal: 18.7s\tremaining: 1.41s\n",
      "93:\tlearn: 2950.3022127\ttotal: 18.9s\tremaining: 1.21s\n",
      "94:\tlearn: 2940.8650756\ttotal: 19.1s\tremaining: 1s\n",
      "95:\tlearn: 2931.9845892\ttotal: 19.3s\tremaining: 804ms\n",
      "96:\tlearn: 2923.0154004\ttotal: 19.5s\tremaining: 603ms\n",
      "97:\tlearn: 2914.6611659\ttotal: 19.7s\tremaining: 402ms\n",
      "98:\tlearn: 2906.5033977\ttotal: 19.9s\tremaining: 201ms\n",
      "99:\tlearn: 2897.7275034\ttotal: 20.1s\tremaining: 0us\n",
      "0:\tlearn: 3996.7949084\ttotal: 121ms\tremaining: 12s\n",
      "1:\tlearn: 3604.3512170\ttotal: 324ms\tremaining: 15.9s\n",
      "2:\tlearn: 3294.4055405\ttotal: 616ms\tremaining: 19.9s\n",
      "3:\tlearn: 3028.1667636\ttotal: 818ms\tremaining: 19.6s\n",
      "4:\tlearn: 2827.0215939\ttotal: 1.02s\tremaining: 19.3s\n",
      "5:\tlearn: 2683.1247536\ttotal: 1.22s\tremaining: 19.1s\n",
      "6:\tlearn: 2557.6744419\ttotal: 1.42s\tremaining: 18.8s\n",
      "7:\tlearn: 2468.3869604\ttotal: 1.62s\tremaining: 18.6s\n",
      "8:\tlearn: 2399.7331416\ttotal: 1.82s\tremaining: 18.4s\n",
      "9:\tlearn: 2328.0297270\ttotal: 2.02s\tremaining: 18.1s\n",
      "10:\tlearn: 2272.8433311\ttotal: 2.22s\tremaining: 17.9s\n",
      "11:\tlearn: 2225.0754396\ttotal: 2.42s\tremaining: 17.7s\n",
      "12:\tlearn: 2185.4793538\ttotal: 2.62s\tremaining: 17.5s\n",
      "13:\tlearn: 2153.1984277\ttotal: 2.81s\tremaining: 17.3s\n",
      "14:\tlearn: 2127.7970958\ttotal: 3.01s\tremaining: 17.1s\n",
      "15:\tlearn: 2109.7492233\ttotal: 3.21s\tremaining: 16.9s\n",
      "16:\tlearn: 2093.1395854\ttotal: 3.41s\tremaining: 16.7s\n",
      "17:\tlearn: 2080.1707184\ttotal: 3.61s\tremaining: 16.5s\n",
      "18:\tlearn: 2063.9363219\ttotal: 3.81s\tremaining: 16.2s\n",
      "19:\tlearn: 2051.5405991\ttotal: 4.01s\tremaining: 16s\n",
      "20:\tlearn: 2040.1133919\ttotal: 4.21s\tremaining: 15.8s\n",
      "21:\tlearn: 2030.2200445\ttotal: 4.41s\tremaining: 15.6s\n",
      "22:\tlearn: 2020.3533943\ttotal: 4.61s\tremaining: 15.4s\n",
      "23:\tlearn: 2013.5148139\ttotal: 4.81s\tremaining: 15.2s\n",
      "24:\tlearn: 2003.8819972\ttotal: 5.01s\tremaining: 15s\n",
      "25:\tlearn: 1999.0474426\ttotal: 5.3s\tremaining: 15.1s\n",
      "26:\tlearn: 1993.1537393\ttotal: 5.5s\tremaining: 14.9s\n",
      "27:\tlearn: 1989.0602010\ttotal: 5.7s\tremaining: 14.7s\n",
      "28:\tlearn: 1983.0667073\ttotal: 5.9s\tremaining: 14.4s\n",
      "29:\tlearn: 1976.4363909\ttotal: 6.1s\tremaining: 14.2s\n",
      "30:\tlearn: 1971.5215653\ttotal: 6.3s\tremaining: 14s\n",
      "31:\tlearn: 1966.2682570\ttotal: 6.5s\tremaining: 13.8s\n",
      "32:\tlearn: 1961.5295610\ttotal: 6.7s\tremaining: 13.6s\n",
      "33:\tlearn: 1955.9081399\ttotal: 6.9s\tremaining: 13.4s\n",
      "34:\tlearn: 1952.0133761\ttotal: 7.1s\tremaining: 13.2s\n",
      "35:\tlearn: 1949.6397836\ttotal: 7.3s\tremaining: 13s\n",
      "36:\tlearn: 1946.3003813\ttotal: 7.5s\tremaining: 12.8s\n",
      "37:\tlearn: 1942.2588513\ttotal: 7.7s\tremaining: 12.6s\n",
      "38:\tlearn: 1938.1894313\ttotal: 7.9s\tremaining: 12.4s\n",
      "39:\tlearn: 1935.3565397\ttotal: 8.1s\tremaining: 12.1s\n",
      "40:\tlearn: 1931.0138414\ttotal: 8.3s\tremaining: 11.9s\n",
      "41:\tlearn: 1927.8984541\ttotal: 8.49s\tremaining: 11.7s\n",
      "42:\tlearn: 1925.1914252\ttotal: 8.69s\tremaining: 11.5s\n",
      "43:\tlearn: 1922.2160453\ttotal: 8.89s\tremaining: 11.3s\n",
      "44:\tlearn: 1918.7454422\ttotal: 9.09s\tremaining: 11.1s\n",
      "45:\tlearn: 1917.1078326\ttotal: 9.29s\tremaining: 10.9s\n",
      "46:\tlearn: 1914.1932785\ttotal: 9.49s\tremaining: 10.7s\n",
      "47:\tlearn: 1911.7767480\ttotal: 9.69s\tremaining: 10.5s\n",
      "48:\tlearn: 1908.1460728\ttotal: 9.89s\tremaining: 10.3s\n",
      "49:\tlearn: 1905.8782522\ttotal: 10.1s\tremaining: 10.1s\n",
      "50:\tlearn: 1901.8943246\ttotal: 10.3s\tremaining: 9.88s\n",
      "51:\tlearn: 1900.4775218\ttotal: 10.5s\tremaining: 9.68s\n",
      "52:\tlearn: 1898.2869786\ttotal: 10.7s\tremaining: 9.48s\n",
      "53:\tlearn: 1897.0684101\ttotal: 10.9s\tremaining: 9.27s\n",
      "54:\tlearn: 1894.3838163\ttotal: 11.1s\tremaining: 9.07s\n",
      "55:\tlearn: 1893.0001751\ttotal: 11.3s\tremaining: 8.87s\n",
      "56:\tlearn: 1890.0006471\ttotal: 11.5s\tremaining: 8.66s\n",
      "57:\tlearn: 1887.8822907\ttotal: 11.7s\tremaining: 8.46s\n",
      "58:\tlearn: 1886.4303329\ttotal: 11.9s\tremaining: 8.26s\n",
      "59:\tlearn: 1885.0034801\ttotal: 12.1s\tremaining: 8.05s\n",
      "60:\tlearn: 1882.3324470\ttotal: 12.3s\tremaining: 7.85s\n",
      "61:\tlearn: 1880.7623444\ttotal: 12.5s\tremaining: 7.65s\n",
      "62:\tlearn: 1878.8472983\ttotal: 12.7s\tremaining: 7.45s\n",
      "63:\tlearn: 1877.4209052\ttotal: 12.9s\tremaining: 7.25s\n",
      "64:\tlearn: 1874.3070976\ttotal: 13.1s\tremaining: 7.04s\n",
      "65:\tlearn: 1872.6261064\ttotal: 13.3s\tremaining: 6.84s\n",
      "66:\tlearn: 1871.3544980\ttotal: 13.5s\tremaining: 6.64s\n",
      "67:\tlearn: 1870.0243907\ttotal: 13.7s\tremaining: 6.44s\n",
      "68:\tlearn: 1868.4229318\ttotal: 13.9s\tremaining: 6.24s\n",
      "69:\tlearn: 1865.5930057\ttotal: 14.1s\tremaining: 6.04s\n",
      "70:\tlearn: 1864.3857510\ttotal: 14.3s\tremaining: 5.83s\n",
      "71:\tlearn: 1863.5412519\ttotal: 14.6s\tremaining: 5.67s\n",
      "72:\tlearn: 1862.0267688\ttotal: 14.8s\tremaining: 5.46s\n",
      "73:\tlearn: 1859.4633782\ttotal: 15s\tremaining: 5.26s\n",
      "74:\tlearn: 1858.3465286\ttotal: 15.2s\tremaining: 5.06s\n",
      "75:\tlearn: 1856.3342641\ttotal: 15.4s\tremaining: 4.85s\n",
      "76:\tlearn: 1854.6599215\ttotal: 15.6s\tremaining: 4.65s\n",
      "77:\tlearn: 1853.5006368\ttotal: 15.8s\tremaining: 4.45s\n",
      "78:\tlearn: 1847.8183466\ttotal: 16s\tremaining: 4.25s\n",
      "79:\tlearn: 1844.7527738\ttotal: 16.2s\tremaining: 4.04s\n",
      "80:\tlearn: 1842.8950605\ttotal: 16.4s\tremaining: 3.84s\n",
      "81:\tlearn: 1841.1128434\ttotal: 16.6s\tremaining: 3.64s\n",
      "82:\tlearn: 1839.8887014\ttotal: 16.8s\tremaining: 3.43s\n",
      "83:\tlearn: 1838.0173917\ttotal: 17s\tremaining: 3.23s\n",
      "84:\tlearn: 1836.8449248\ttotal: 17.2s\tremaining: 3.03s\n",
      "85:\tlearn: 1834.2261327\ttotal: 17.4s\tremaining: 2.83s\n",
      "86:\tlearn: 1833.0653681\ttotal: 17.6s\tremaining: 2.63s\n",
      "87:\tlearn: 1832.3103462\ttotal: 17.8s\tremaining: 2.42s\n",
      "88:\tlearn: 1828.7392885\ttotal: 18s\tremaining: 2.22s\n",
      "89:\tlearn: 1826.3542596\ttotal: 18.2s\tremaining: 2.02s\n",
      "90:\tlearn: 1825.8250345\ttotal: 18.4s\tremaining: 1.82s\n",
      "91:\tlearn: 1824.3363076\ttotal: 18.6s\tremaining: 1.61s\n",
      "92:\tlearn: 1822.5727329\ttotal: 18.8s\tremaining: 1.41s\n",
      "93:\tlearn: 1821.8948445\ttotal: 19.1s\tremaining: 1.22s\n",
      "94:\tlearn: 1821.0412477\ttotal: 19.3s\tremaining: 1.01s\n",
      "95:\tlearn: 1820.0913930\ttotal: 19.5s\tremaining: 811ms\n",
      "96:\tlearn: 1819.7231192\ttotal: 19.7s\tremaining: 608ms\n",
      "97:\tlearn: 1818.6192035\ttotal: 19.9s\tremaining: 405ms\n",
      "98:\tlearn: 1817.5997513\ttotal: 20.1s\tremaining: 203ms\n",
      "99:\tlearn: 1816.7963813\ttotal: 20.3s\tremaining: 0us\n",
      "0:\tlearn: 3985.4677999\ttotal: 187ms\tremaining: 18.5s\n",
      "1:\tlearn: 3585.0483632\ttotal: 391ms\tremaining: 19.2s\n",
      "2:\tlearn: 3271.8900990\ttotal: 597ms\tremaining: 19.3s\n",
      "3:\tlearn: 3023.3712248\ttotal: 885ms\tremaining: 21.2s\n",
      "4:\tlearn: 2822.9206995\ttotal: 1.09s\tremaining: 20.6s\n",
      "5:\tlearn: 2684.3859581\ttotal: 1.28s\tremaining: 20.1s\n",
      "6:\tlearn: 2558.7465893\ttotal: 1.49s\tremaining: 19.8s\n",
      "7:\tlearn: 2460.2032840\ttotal: 1.69s\tremaining: 19.4s\n",
      "8:\tlearn: 2386.7146091\ttotal: 1.89s\tremaining: 19.1s\n",
      "9:\tlearn: 2324.2936533\ttotal: 2.09s\tremaining: 18.8s\n",
      "10:\tlearn: 2269.4423707\ttotal: 2.38s\tremaining: 19.2s\n",
      "11:\tlearn: 2228.8602904\ttotal: 2.58s\tremaining: 18.9s\n",
      "12:\tlearn: 2187.7403763\ttotal: 2.78s\tremaining: 18.6s\n",
      "13:\tlearn: 2157.8378214\ttotal: 2.98s\tremaining: 18.3s\n",
      "14:\tlearn: 2129.0748918\ttotal: 3.19s\tremaining: 18s\n",
      "15:\tlearn: 2111.3536688\ttotal: 3.38s\tremaining: 17.8s\n",
      "16:\tlearn: 2093.0602533\ttotal: 3.59s\tremaining: 17.5s\n",
      "17:\tlearn: 2077.9383002\ttotal: 3.79s\tremaining: 17.2s\n",
      "18:\tlearn: 2065.7578390\ttotal: 4.07s\tremaining: 17.4s\n",
      "19:\tlearn: 2057.1492468\ttotal: 4.19s\tremaining: 16.8s\n",
      "20:\tlearn: 2044.4830235\ttotal: 4.47s\tremaining: 16.8s\n",
      "21:\tlearn: 2033.2092399\ttotal: 4.67s\tremaining: 16.6s\n",
      "22:\tlearn: 2025.8899205\ttotal: 4.88s\tremaining: 16.3s\n",
      "23:\tlearn: 2017.7465910\ttotal: 5.08s\tremaining: 16.1s\n",
      "24:\tlearn: 2011.9203085\ttotal: 5.28s\tremaining: 15.8s\n",
      "25:\tlearn: 2003.0184265\ttotal: 5.48s\tremaining: 15.6s\n",
      "26:\tlearn: 1998.5477391\ttotal: 5.68s\tremaining: 15.4s\n",
      "27:\tlearn: 1991.2129109\ttotal: 5.88s\tremaining: 15.1s\n",
      "28:\tlearn: 1985.5332664\ttotal: 6.08s\tremaining: 14.9s\n",
      "29:\tlearn: 1982.5262581\ttotal: 6.28s\tremaining: 14.6s\n",
      "30:\tlearn: 1976.3479099\ttotal: 6.56s\tremaining: 14.6s\n",
      "31:\tlearn: 1971.1163942\ttotal: 6.76s\tremaining: 14.4s\n",
      "32:\tlearn: 1966.9245940\ttotal: 6.88s\tremaining: 14s\n",
      "33:\tlearn: 1962.8298246\ttotal: 7.16s\tremaining: 13.9s\n",
      "34:\tlearn: 1956.7265397\ttotal: 7.36s\tremaining: 13.7s\n",
      "35:\tlearn: 1951.3332284\ttotal: 7.48s\tremaining: 13.3s\n",
      "36:\tlearn: 1946.0739134\ttotal: 7.67s\tremaining: 13.1s\n",
      "37:\tlearn: 1940.7538134\ttotal: 7.87s\tremaining: 12.8s\n",
      "38:\tlearn: 1936.8807306\ttotal: 8.07s\tremaining: 12.6s\n",
      "39:\tlearn: 1934.8764011\ttotal: 8.28s\tremaining: 12.4s\n",
      "40:\tlearn: 1933.4951534\ttotal: 8.56s\tremaining: 12.3s\n",
      "41:\tlearn: 1929.7469650\ttotal: 8.76s\tremaining: 12.1s\n",
      "42:\tlearn: 1926.0492541\ttotal: 8.96s\tremaining: 11.9s\n",
      "43:\tlearn: 1925.0128039\ttotal: 9.15s\tremaining: 11.7s\n",
      "44:\tlearn: 1921.9942301\ttotal: 9.35s\tremaining: 11.4s\n",
      "45:\tlearn: 1917.6454942\ttotal: 9.47s\tremaining: 11.1s\n",
      "46:\tlearn: 1914.9463496\ttotal: 9.66s\tremaining: 10.9s\n",
      "47:\tlearn: 1912.6648796\ttotal: 9.87s\tremaining: 10.7s\n",
      "48:\tlearn: 1910.0969023\ttotal: 10.1s\tremaining: 10.5s\n",
      "49:\tlearn: 1906.8158168\ttotal: 10.3s\tremaining: 10.3s\n",
      "50:\tlearn: 1902.4790965\ttotal: 10.5s\tremaining: 10.1s\n",
      "51:\tlearn: 1900.2603821\ttotal: 10.7s\tremaining: 9.84s\n",
      "52:\tlearn: 1898.4118610\ttotal: 10.9s\tremaining: 9.63s\n",
      "53:\tlearn: 1896.9738221\ttotal: 11.1s\tremaining: 9.42s\n",
      "54:\tlearn: 1894.8785640\ttotal: 11.3s\tremaining: 9.21s\n",
      "55:\tlearn: 1892.8851095\ttotal: 11.5s\tremaining: 9s\n",
      "56:\tlearn: 1891.3328006\ttotal: 11.7s\tremaining: 8.79s\n",
      "57:\tlearn: 1889.1269359\ttotal: 11.9s\tremaining: 8.65s\n",
      "58:\tlearn: 1886.1808488\ttotal: 12.1s\tremaining: 8.44s\n",
      "59:\tlearn: 1885.0700169\ttotal: 12.3s\tremaining: 8.23s\n",
      "60:\tlearn: 1883.7589416\ttotal: 12.5s\tremaining: 7.97s\n",
      "61:\tlearn: 1881.9212716\ttotal: 12.7s\tremaining: 7.76s\n",
      "62:\tlearn: 1879.4701244\ttotal: 12.9s\tremaining: 7.6s\n",
      "63:\tlearn: 1878.5016961\ttotal: 13.1s\tremaining: 7.39s\n",
      "64:\tlearn: 1876.5233573\ttotal: 13.3s\tremaining: 7.18s\n",
      "65:\tlearn: 1873.5482423\ttotal: 13.5s\tremaining: 6.98s\n",
      "66:\tlearn: 1872.5882874\ttotal: 13.7s\tremaining: 6.77s\n",
      "67:\tlearn: 1870.5603874\ttotal: 13.9s\tremaining: 6.56s\n",
      "68:\tlearn: 1868.8522736\ttotal: 14.1s\tremaining: 6.35s\n",
      "69:\tlearn: 1866.5015785\ttotal: 14.3s\tremaining: 6.15s\n",
      "70:\tlearn: 1865.0055424\ttotal: 14.5s\tremaining: 5.94s\n",
      "71:\tlearn: 1863.1901869\ttotal: 14.7s\tremaining: 5.73s\n",
      "72:\tlearn: 1860.6948631\ttotal: 14.9s\tremaining: 5.53s\n",
      "73:\tlearn: 1859.5364333\ttotal: 15.1s\tremaining: 5.32s\n",
      "74:\tlearn: 1856.9558368\ttotal: 15.3s\tremaining: 5.11s\n",
      "75:\tlearn: 1855.1862351\ttotal: 15.5s\tremaining: 4.91s\n",
      "76:\tlearn: 1853.7899401\ttotal: 15.7s\tremaining: 4.7s\n",
      "77:\tlearn: 1853.0265794\ttotal: 15.9s\tremaining: 4.49s\n",
      "78:\tlearn: 1851.4337259\ttotal: 16.1s\tremaining: 4.29s\n",
      "79:\tlearn: 1847.5406193\ttotal: 16.3s\tremaining: 4.08s\n",
      "80:\tlearn: 1845.6662915\ttotal: 16.5s\tremaining: 3.88s\n",
      "81:\tlearn: 1844.0720570\ttotal: 16.7s\tremaining: 3.67s\n",
      "82:\tlearn: 1842.5874499\ttotal: 16.9s\tremaining: 3.47s\n",
      "83:\tlearn: 1841.0551125\ttotal: 17.1s\tremaining: 3.26s\n",
      "84:\tlearn: 1836.8921222\ttotal: 17.3s\tremaining: 3.06s\n",
      "85:\tlearn: 1835.7656778\ttotal: 17.5s\tremaining: 2.85s\n",
      "86:\tlearn: 1833.4979275\ttotal: 17.7s\tremaining: 2.65s\n",
      "87:\tlearn: 1832.0049309\ttotal: 17.9s\tremaining: 2.44s\n",
      "88:\tlearn: 1830.9228003\ttotal: 18.1s\tremaining: 2.24s\n",
      "89:\tlearn: 1829.2169697\ttotal: 18.3s\tremaining: 2.04s\n",
      "90:\tlearn: 1828.1272266\ttotal: 18.5s\tremaining: 1.83s\n",
      "91:\tlearn: 1826.6021659\ttotal: 18.7s\tremaining: 1.63s\n",
      "92:\tlearn: 1824.3556868\ttotal: 18.9s\tremaining: 1.42s\n",
      "93:\tlearn: 1822.8109820\ttotal: 19.1s\tremaining: 1.22s\n",
      "94:\tlearn: 1821.6352968\ttotal: 19.3s\tremaining: 1.02s\n",
      "95:\tlearn: 1820.2965928\ttotal: 19.5s\tremaining: 814ms\n",
      "96:\tlearn: 1819.4146845\ttotal: 19.7s\tremaining: 610ms\n",
      "97:\tlearn: 1818.3583337\ttotal: 19.9s\tremaining: 407ms\n",
      "98:\tlearn: 1817.6880084\ttotal: 20.1s\tremaining: 203ms\n",
      "99:\tlearn: 1816.6265022\ttotal: 20.3s\tremaining: 0us\n",
      "0:\tlearn: 4001.8167337\ttotal: 169ms\tremaining: 16.8s\n",
      "1:\tlearn: 3589.1020860\ttotal: 464ms\tremaining: 22.7s\n",
      "2:\tlearn: 3266.1513055\ttotal: 664ms\tremaining: 21.5s\n",
      "3:\tlearn: 3021.7749529\ttotal: 867ms\tremaining: 20.8s\n",
      "4:\tlearn: 2847.1820379\ttotal: 1.07s\tremaining: 20.3s\n",
      "5:\tlearn: 2692.2024296\ttotal: 1.27s\tremaining: 19.9s\n",
      "6:\tlearn: 2563.3148710\ttotal: 1.47s\tremaining: 19.6s\n",
      "7:\tlearn: 2459.4511498\ttotal: 1.66s\tremaining: 19.1s\n",
      "8:\tlearn: 2383.8583427\ttotal: 1.86s\tremaining: 18.8s\n",
      "9:\tlearn: 2320.2171133\ttotal: 2.06s\tremaining: 18.5s\n",
      "10:\tlearn: 2276.5720139\ttotal: 2.26s\tremaining: 18.3s\n",
      "11:\tlearn: 2227.7438432\ttotal: 2.46s\tremaining: 18s\n",
      "12:\tlearn: 2184.9764892\ttotal: 2.66s\tremaining: 17.8s\n",
      "13:\tlearn: 2154.0164479\ttotal: 2.85s\tremaining: 17.5s\n",
      "14:\tlearn: 2131.7797902\ttotal: 3.05s\tremaining: 17.3s\n",
      "15:\tlearn: 2111.8748973\ttotal: 3.25s\tremaining: 17.1s\n",
      "16:\tlearn: 2097.5722700\ttotal: 3.45s\tremaining: 16.9s\n",
      "17:\tlearn: 2078.3479682\ttotal: 3.65s\tremaining: 16.6s\n",
      "18:\tlearn: 2062.5799815\ttotal: 3.85s\tremaining: 16.4s\n",
      "19:\tlearn: 2052.0558104\ttotal: 4.05s\tremaining: 16.2s\n",
      "20:\tlearn: 2040.9957434\ttotal: 4.25s\tremaining: 16s\n",
      "21:\tlearn: 2030.5494748\ttotal: 4.45s\tremaining: 15.8s\n",
      "22:\tlearn: 2023.7229967\ttotal: 4.65s\tremaining: 15.6s\n",
      "23:\tlearn: 2016.3399821\ttotal: 4.85s\tremaining: 15.4s\n",
      "24:\tlearn: 2008.9897929\ttotal: 5.05s\tremaining: 15.1s\n",
      "25:\tlearn: 2002.1133057\ttotal: 5.25s\tremaining: 14.9s\n",
      "26:\tlearn: 1994.8046192\ttotal: 5.45s\tremaining: 14.7s\n",
      "27:\tlearn: 1986.8277594\ttotal: 5.66s\tremaining: 14.5s\n",
      "28:\tlearn: 1983.7118593\ttotal: 5.94s\tremaining: 14.5s\n",
      "29:\tlearn: 1977.7653240\ttotal: 6.14s\tremaining: 14.3s\n",
      "30:\tlearn: 1972.9218795\ttotal: 6.34s\tremaining: 14.1s\n",
      "31:\tlearn: 1968.4370935\ttotal: 6.54s\tremaining: 13.9s\n",
      "32:\tlearn: 1963.5589275\ttotal: 6.74s\tremaining: 13.7s\n",
      "33:\tlearn: 1956.2805022\ttotal: 6.94s\tremaining: 13.5s\n",
      "34:\tlearn: 1952.0099311\ttotal: 7.14s\tremaining: 13.3s\n",
      "35:\tlearn: 1946.4958897\ttotal: 7.34s\tremaining: 13s\n",
      "36:\tlearn: 1943.8673628\ttotal: 7.54s\tremaining: 12.8s\n",
      "37:\tlearn: 1941.0682582\ttotal: 7.74s\tremaining: 12.6s\n",
      "38:\tlearn: 1938.1001105\ttotal: 7.94s\tremaining: 12.4s\n",
      "39:\tlearn: 1933.9353366\ttotal: 8.14s\tremaining: 12.2s\n",
      "40:\tlearn: 1930.8174872\ttotal: 8.34s\tremaining: 12s\n",
      "41:\tlearn: 1928.6441361\ttotal: 8.54s\tremaining: 11.8s\n",
      "42:\tlearn: 1927.1881747\ttotal: 8.74s\tremaining: 11.6s\n",
      "43:\tlearn: 1925.2199020\ttotal: 8.94s\tremaining: 11.4s\n",
      "44:\tlearn: 1919.8041579\ttotal: 9.14s\tremaining: 11.2s\n",
      "45:\tlearn: 1916.6127566\ttotal: 9.34s\tremaining: 11s\n",
      "46:\tlearn: 1914.6858814\ttotal: 9.54s\tremaining: 10.8s\n",
      "47:\tlearn: 1912.2339162\ttotal: 9.73s\tremaining: 10.5s\n",
      "48:\tlearn: 1909.0539386\ttotal: 9.94s\tremaining: 10.3s\n",
      "49:\tlearn: 1906.2296867\ttotal: 10.1s\tremaining: 10.1s\n",
      "50:\tlearn: 1904.1571315\ttotal: 10.3s\tremaining: 9.93s\n",
      "51:\tlearn: 1900.6173033\ttotal: 10.5s\tremaining: 9.72s\n",
      "52:\tlearn: 1898.1536493\ttotal: 10.7s\tremaining: 9.52s\n",
      "53:\tlearn: 1896.9953078\ttotal: 11s\tremaining: 9.39s\n",
      "54:\tlearn: 1893.9961145\ttotal: 11.2s\tremaining: 9.18s\n",
      "55:\tlearn: 1892.5958226\ttotal: 11.4s\tremaining: 8.97s\n",
      "56:\tlearn: 1890.4342145\ttotal: 11.6s\tremaining: 8.76s\n",
      "57:\tlearn: 1887.7543484\ttotal: 11.7s\tremaining: 8.5s\n",
      "58:\tlearn: 1886.1464962\ttotal: 12s\tremaining: 8.35s\n",
      "59:\tlearn: 1885.0120299\ttotal: 12.2s\tremaining: 8.15s\n",
      "60:\tlearn: 1883.9769476\ttotal: 12.4s\tremaining: 7.94s\n",
      "61:\tlearn: 1881.2086885\ttotal: 12.6s\tremaining: 7.74s\n",
      "62:\tlearn: 1879.7805861\ttotal: 12.8s\tremaining: 7.53s\n",
      "63:\tlearn: 1877.4683521\ttotal: 13s\tremaining: 7.32s\n",
      "64:\tlearn: 1875.1818184\ttotal: 13.2s\tremaining: 7.12s\n",
      "65:\tlearn: 1874.2132818\ttotal: 13.4s\tremaining: 6.92s\n",
      "66:\tlearn: 1872.4758519\ttotal: 13.6s\tremaining: 6.71s\n",
      "67:\tlearn: 1868.4497828\ttotal: 13.8s\tremaining: 6.5s\n",
      "68:\tlearn: 1866.5452645\ttotal: 14s\tremaining: 6.3s\n",
      "69:\tlearn: 1863.5826134\ttotal: 14.2s\tremaining: 6.09s\n",
      "70:\tlearn: 1860.2247429\ttotal: 14.4s\tremaining: 5.89s\n",
      "71:\tlearn: 1858.9424912\ttotal: 14.6s\tremaining: 5.69s\n",
      "72:\tlearn: 1857.4594243\ttotal: 14.8s\tremaining: 5.48s\n",
      "73:\tlearn: 1856.2391133\ttotal: 15.1s\tremaining: 5.31s\n",
      "74:\tlearn: 1854.8549795\ttotal: 15.2s\tremaining: 5.07s\n",
      "75:\tlearn: 1853.2371124\ttotal: 15.5s\tremaining: 4.9s\n",
      "76:\tlearn: 1852.3747286\ttotal: 15.7s\tremaining: 4.69s\n",
      "77:\tlearn: 1850.1574200\ttotal: 15.9s\tremaining: 4.49s\n",
      "78:\tlearn: 1849.4078689\ttotal: 16.1s\tremaining: 4.28s\n",
      "79:\tlearn: 1846.7414038\ttotal: 16.3s\tremaining: 4.08s\n",
      "80:\tlearn: 1844.9060923\ttotal: 16.5s\tremaining: 3.87s\n",
      "81:\tlearn: 1844.1797543\ttotal: 16.7s\tremaining: 3.67s\n",
      "82:\tlearn: 1842.3901615\ttotal: 16.9s\tremaining: 3.46s\n",
      "83:\tlearn: 1840.9168086\ttotal: 17.1s\tremaining: 3.26s\n",
      "84:\tlearn: 1840.2746895\ttotal: 17.3s\tremaining: 3.05s\n",
      "85:\tlearn: 1838.8772930\ttotal: 17.5s\tremaining: 2.85s\n",
      "86:\tlearn: 1837.6620490\ttotal: 17.6s\tremaining: 2.63s\n",
      "87:\tlearn: 1837.0011303\ttotal: 17.8s\tremaining: 2.43s\n",
      "88:\tlearn: 1836.2162079\ttotal: 18s\tremaining: 2.23s\n",
      "89:\tlearn: 1834.9226824\ttotal: 18.2s\tremaining: 2.02s\n",
      "90:\tlearn: 1833.2794973\ttotal: 18.5s\tremaining: 1.83s\n",
      "91:\tlearn: 1832.0573515\ttotal: 18.7s\tremaining: 1.63s\n",
      "92:\tlearn: 1830.7200234\ttotal: 18.9s\tremaining: 1.42s\n",
      "93:\tlearn: 1829.7673886\ttotal: 19.1s\tremaining: 1.22s\n",
      "94:\tlearn: 1827.7881682\ttotal: 19.3s\tremaining: 1.01s\n",
      "95:\tlearn: 1825.7514940\ttotal: 19.5s\tremaining: 813ms\n",
      "96:\tlearn: 1824.3764135\ttotal: 19.7s\tremaining: 609ms\n",
      "97:\tlearn: 1823.3939127\ttotal: 19.9s\tremaining: 406ms\n",
      "98:\tlearn: 1822.3174119\ttotal: 20.1s\tremaining: 203ms\n",
      "99:\tlearn: 1821.0701967\ttotal: 20.3s\tremaining: 0us\n",
      "0:\tlearn: 4004.0695392\ttotal: 148ms\tremaining: 14.6s\n",
      "1:\tlearn: 3593.6472726\ttotal: 354ms\tremaining: 17.4s\n",
      "2:\tlearn: 3294.2048998\ttotal: 646ms\tremaining: 20.9s\n",
      "3:\tlearn: 3033.2689351\ttotal: 848ms\tremaining: 20.4s\n",
      "4:\tlearn: 2842.6728233\ttotal: 1.05s\tremaining: 20s\n",
      "5:\tlearn: 2699.2110323\ttotal: 1.25s\tremaining: 19.6s\n",
      "6:\tlearn: 2567.5350247\ttotal: 1.45s\tremaining: 19.2s\n",
      "7:\tlearn: 2477.1187050\ttotal: 1.65s\tremaining: 18.9s\n",
      "8:\tlearn: 2399.2361001\ttotal: 1.85s\tremaining: 18.7s\n",
      "9:\tlearn: 2338.7141383\ttotal: 2.05s\tremaining: 18.4s\n",
      "10:\tlearn: 2286.1727487\ttotal: 2.34s\tremaining: 18.9s\n",
      "11:\tlearn: 2244.5184761\ttotal: 2.54s\tremaining: 18.6s\n",
      "12:\tlearn: 2201.3371576\ttotal: 2.74s\tremaining: 18.3s\n",
      "13:\tlearn: 2174.5260514\ttotal: 2.94s\tremaining: 18.1s\n",
      "14:\tlearn: 2147.2567141\ttotal: 3.14s\tremaining: 17.8s\n",
      "15:\tlearn: 2127.7162398\ttotal: 3.34s\tremaining: 17.5s\n",
      "16:\tlearn: 2111.1449610\ttotal: 3.54s\tremaining: 17.3s\n",
      "17:\tlearn: 2093.2111622\ttotal: 3.74s\tremaining: 17s\n",
      "18:\tlearn: 2079.5821577\ttotal: 3.94s\tremaining: 16.8s\n",
      "19:\tlearn: 2066.0448155\ttotal: 4.14s\tremaining: 16.6s\n",
      "20:\tlearn: 2055.9749352\ttotal: 4.43s\tremaining: 16.7s\n",
      "21:\tlearn: 2048.6488728\ttotal: 4.63s\tremaining: 16.4s\n",
      "22:\tlearn: 2037.8604959\ttotal: 4.83s\tremaining: 16.2s\n",
      "23:\tlearn: 2028.9410012\ttotal: 5.03s\tremaining: 15.9s\n",
      "24:\tlearn: 2021.1283973\ttotal: 5.23s\tremaining: 15.7s\n",
      "25:\tlearn: 2013.2760251\ttotal: 5.43s\tremaining: 15.5s\n",
      "26:\tlearn: 2008.4315156\ttotal: 5.63s\tremaining: 15.2s\n",
      "27:\tlearn: 2004.2250537\ttotal: 5.83s\tremaining: 15s\n",
      "28:\tlearn: 1998.2864146\ttotal: 6.04s\tremaining: 14.8s\n",
      "29:\tlearn: 1991.3766305\ttotal: 6.24s\tremaining: 14.6s\n",
      "30:\tlearn: 1987.7033709\ttotal: 6.44s\tremaining: 14.3s\n",
      "31:\tlearn: 1980.1012451\ttotal: 6.72s\tremaining: 14.3s\n",
      "32:\tlearn: 1975.6361239\ttotal: 6.92s\tremaining: 14.1s\n",
      "33:\tlearn: 1970.8834011\ttotal: 7.12s\tremaining: 13.8s\n",
      "34:\tlearn: 1968.1045286\ttotal: 7.33s\tremaining: 13.6s\n",
      "35:\tlearn: 1962.8312086\ttotal: 7.53s\tremaining: 13.4s\n",
      "36:\tlearn: 1958.7309450\ttotal: 7.73s\tremaining: 13.2s\n",
      "37:\tlearn: 1954.1339977\ttotal: 7.92s\tremaining: 12.9s\n",
      "38:\tlearn: 1951.0946356\ttotal: 8.13s\tremaining: 12.7s\n",
      "39:\tlearn: 1947.5152343\ttotal: 8.32s\tremaining: 12.5s\n",
      "40:\tlearn: 1944.4632512\ttotal: 8.52s\tremaining: 12.3s\n",
      "41:\tlearn: 1940.2589539\ttotal: 8.72s\tremaining: 12s\n",
      "42:\tlearn: 1937.7964805\ttotal: 8.93s\tremaining: 11.8s\n",
      "43:\tlearn: 1934.2600558\ttotal: 9.12s\tremaining: 11.6s\n",
      "44:\tlearn: 1931.9632429\ttotal: 9.32s\tremaining: 11.4s\n",
      "45:\tlearn: 1929.8154441\ttotal: 9.52s\tremaining: 11.2s\n",
      "46:\tlearn: 1926.5638093\ttotal: 9.72s\tremaining: 11s\n",
      "47:\tlearn: 1924.3929229\ttotal: 9.92s\tremaining: 10.7s\n",
      "48:\tlearn: 1922.6899671\ttotal: 10.1s\tremaining: 10.5s\n",
      "49:\tlearn: 1919.8911319\ttotal: 10.3s\tremaining: 10.3s\n",
      "50:\tlearn: 1918.1555381\ttotal: 10.5s\tremaining: 10.1s\n",
      "51:\tlearn: 1917.0072227\ttotal: 10.7s\tremaining: 9.89s\n",
      "52:\tlearn: 1915.3273338\ttotal: 10.9s\tremaining: 9.68s\n",
      "53:\tlearn: 1912.2998237\ttotal: 11.1s\tremaining: 9.47s\n",
      "54:\tlearn: 1908.7247725\ttotal: 11.3s\tremaining: 9.26s\n",
      "55:\tlearn: 1906.8470219\ttotal: 11.5s\tremaining: 9.05s\n",
      "56:\tlearn: 1904.3197313\ttotal: 11.7s\tremaining: 8.84s\n",
      "57:\tlearn: 1902.1477130\ttotal: 11.9s\tremaining: 8.63s\n",
      "58:\tlearn: 1900.0020859\ttotal: 12.1s\tremaining: 8.42s\n",
      "59:\tlearn: 1896.9696423\ttotal: 12.3s\tremaining: 8.21s\n",
      "60:\tlearn: 1895.0026118\ttotal: 12.5s\tremaining: 8s\n",
      "61:\tlearn: 1891.4689798\ttotal: 12.8s\tremaining: 7.85s\n",
      "62:\tlearn: 1889.4023093\ttotal: 12.9s\tremaining: 7.58s\n",
      "63:\tlearn: 1887.1306106\ttotal: 13.2s\tremaining: 7.42s\n",
      "64:\tlearn: 1884.8318510\ttotal: 13.3s\tremaining: 7.17s\n",
      "65:\tlearn: 1882.9949759\ttotal: 13.5s\tremaining: 6.96s\n",
      "66:\tlearn: 1882.1190649\ttotal: 13.8s\tremaining: 6.8s\n",
      "67:\tlearn: 1880.4641746\ttotal: 14s\tremaining: 6.59s\n",
      "68:\tlearn: 1879.4143485\ttotal: 14.2s\tremaining: 6.38s\n",
      "69:\tlearn: 1877.4499257\ttotal: 14.4s\tremaining: 6.17s\n",
      "70:\tlearn: 1876.4356310\ttotal: 14.6s\tremaining: 5.96s\n",
      "71:\tlearn: 1874.9621835\ttotal: 14.8s\tremaining: 5.75s\n",
      "72:\tlearn: 1873.0744928\ttotal: 15s\tremaining: 5.55s\n",
      "73:\tlearn: 1871.3523383\ttotal: 15.2s\tremaining: 5.34s\n",
      "74:\tlearn: 1870.3284219\ttotal: 15.4s\tremaining: 5.13s\n",
      "75:\tlearn: 1868.4447215\ttotal: 15.6s\tremaining: 4.92s\n",
      "76:\tlearn: 1865.9265124\ttotal: 15.8s\tremaining: 4.72s\n",
      "77:\tlearn: 1863.9795464\ttotal: 16s\tremaining: 4.51s\n",
      "78:\tlearn: 1861.3926399\ttotal: 16.2s\tremaining: 4.3s\n",
      "79:\tlearn: 1859.6768757\ttotal: 16.4s\tremaining: 4.1s\n",
      "80:\tlearn: 1858.0015533\ttotal: 16.6s\tremaining: 3.89s\n",
      "81:\tlearn: 1856.4438552\ttotal: 16.8s\tremaining: 3.69s\n",
      "82:\tlearn: 1854.7409342\ttotal: 17s\tremaining: 3.48s\n",
      "83:\tlearn: 1853.5859535\ttotal: 17.2s\tremaining: 3.27s\n",
      "84:\tlearn: 1852.7231484\ttotal: 17.4s\tremaining: 3.07s\n",
      "85:\tlearn: 1851.5841724\ttotal: 17.6s\tremaining: 2.87s\n",
      "86:\tlearn: 1851.0349678\ttotal: 17.8s\tremaining: 2.66s\n",
      "87:\tlearn: 1849.3131748\ttotal: 18s\tremaining: 2.45s\n",
      "88:\tlearn: 1848.2335573\ttotal: 18.2s\tremaining: 2.25s\n",
      "89:\tlearn: 1845.7584666\ttotal: 18.4s\tremaining: 2.04s\n",
      "90:\tlearn: 1844.7509241\ttotal: 18.6s\tremaining: 1.84s\n",
      "91:\tlearn: 1842.4229203\ttotal: 18.8s\tremaining: 1.63s\n",
      "92:\tlearn: 1841.0432472\ttotal: 19s\tremaining: 1.43s\n",
      "93:\tlearn: 1839.8534675\ttotal: 19.2s\tremaining: 1.22s\n",
      "94:\tlearn: 1839.0584067\ttotal: 19.4s\tremaining: 1.02s\n",
      "95:\tlearn: 1838.1960118\ttotal: 19.6s\tremaining: 816ms\n",
      "96:\tlearn: 1836.5690362\ttotal: 19.8s\tremaining: 612ms\n",
      "97:\tlearn: 1835.1550303\ttotal: 20.1s\tremaining: 410ms\n",
      "98:\tlearn: 1834.2037885\ttotal: 20.3s\tremaining: 205ms\n",
      "99:\tlearn: 1832.6983317\ttotal: 20.5s\tremaining: 0us\n",
      "0:\tlearn: 3978.1662423\ttotal: 140ms\tremaining: 13.9s\n",
      "1:\tlearn: 3562.3896117\ttotal: 344ms\tremaining: 16.8s\n",
      "2:\tlearn: 3263.5952558\ttotal: 549ms\tremaining: 17.7s\n",
      "3:\tlearn: 3009.2938500\ttotal: 833ms\tremaining: 20s\n",
      "4:\tlearn: 2820.5299077\ttotal: 1.04s\tremaining: 19.7s\n",
      "5:\tlearn: 2682.9183237\ttotal: 1.24s\tremaining: 19.4s\n",
      "6:\tlearn: 2555.4411605\ttotal: 1.44s\tremaining: 19.1s\n",
      "7:\tlearn: 2461.6250915\ttotal: 1.64s\tremaining: 18.8s\n",
      "8:\tlearn: 2393.5505096\ttotal: 1.84s\tremaining: 18.6s\n",
      "9:\tlearn: 2328.8081302\ttotal: 2.04s\tremaining: 18.4s\n",
      "10:\tlearn: 2276.4012405\ttotal: 2.24s\tremaining: 18.1s\n",
      "11:\tlearn: 2232.0275416\ttotal: 2.53s\tremaining: 18.6s\n",
      "12:\tlearn: 2190.1841487\ttotal: 2.73s\tremaining: 18.3s\n",
      "13:\tlearn: 2158.6799878\ttotal: 2.93s\tremaining: 18s\n",
      "14:\tlearn: 2137.9551078\ttotal: 3.13s\tremaining: 17.8s\n",
      "15:\tlearn: 2119.0985860\ttotal: 3.33s\tremaining: 17.5s\n",
      "16:\tlearn: 2102.1877328\ttotal: 3.53s\tremaining: 17.3s\n",
      "17:\tlearn: 2087.0453960\ttotal: 3.73s\tremaining: 17s\n",
      "18:\tlearn: 2071.6935528\ttotal: 3.93s\tremaining: 16.8s\n",
      "19:\tlearn: 2061.2684493\ttotal: 4.13s\tremaining: 16.5s\n",
      "20:\tlearn: 2052.4560530\ttotal: 4.33s\tremaining: 16.3s\n",
      "21:\tlearn: 2043.7865474\ttotal: 4.53s\tremaining: 16.1s\n",
      "22:\tlearn: 2034.6500518\ttotal: 4.73s\tremaining: 15.8s\n",
      "23:\tlearn: 2025.0193275\ttotal: 5.02s\tremaining: 15.9s\n",
      "24:\tlearn: 2018.0145683\ttotal: 5.22s\tremaining: 15.7s\n",
      "25:\tlearn: 2011.0224491\ttotal: 5.43s\tremaining: 15.4s\n",
      "26:\tlearn: 2005.2674210\ttotal: 5.62s\tremaining: 15.2s\n",
      "27:\tlearn: 1999.2451005\ttotal: 5.82s\tremaining: 15s\n",
      "28:\tlearn: 1995.0107193\ttotal: 6.02s\tremaining: 14.7s\n",
      "29:\tlearn: 1987.0642835\ttotal: 6.22s\tremaining: 14.5s\n",
      "30:\tlearn: 1982.1344104\ttotal: 6.42s\tremaining: 14.3s\n",
      "31:\tlearn: 1976.1276740\ttotal: 6.62s\tremaining: 14.1s\n",
      "32:\tlearn: 1972.2893643\ttotal: 6.82s\tremaining: 13.9s\n",
      "33:\tlearn: 1966.0695860\ttotal: 7.02s\tremaining: 13.6s\n",
      "34:\tlearn: 1960.7311935\ttotal: 7.21s\tremaining: 13.4s\n",
      "35:\tlearn: 1956.3156953\ttotal: 7.42s\tremaining: 13.2s\n",
      "36:\tlearn: 1953.6276609\ttotal: 7.61s\tremaining: 13s\n",
      "37:\tlearn: 1951.5930332\ttotal: 7.81s\tremaining: 12.7s\n",
      "38:\tlearn: 1949.5552280\ttotal: 8.02s\tremaining: 12.5s\n",
      "39:\tlearn: 1946.1513127\ttotal: 8.21s\tremaining: 12.3s\n",
      "40:\tlearn: 1942.0527747\ttotal: 8.41s\tremaining: 12.1s\n",
      "41:\tlearn: 1938.0164187\ttotal: 8.61s\tremaining: 11.9s\n",
      "42:\tlearn: 1934.9175753\ttotal: 8.81s\tremaining: 11.7s\n",
      "43:\tlearn: 1932.3971855\ttotal: 9.01s\tremaining: 11.5s\n",
      "44:\tlearn: 1929.3254503\ttotal: 9.21s\tremaining: 11.3s\n",
      "45:\tlearn: 1927.1550623\ttotal: 9.41s\tremaining: 11s\n",
      "46:\tlearn: 1924.6708808\ttotal: 9.61s\tremaining: 10.8s\n",
      "47:\tlearn: 1922.8934433\ttotal: 9.81s\tremaining: 10.6s\n",
      "48:\tlearn: 1920.6211418\ttotal: 10s\tremaining: 10.4s\n",
      "49:\tlearn: 1918.7184288\ttotal: 10.2s\tremaining: 10.2s\n",
      "50:\tlearn: 1916.8466139\ttotal: 10.4s\tremaining: 10s\n",
      "51:\tlearn: 1913.7957142\ttotal: 10.6s\tremaining: 9.79s\n",
      "52:\tlearn: 1911.5169219\ttotal: 10.8s\tremaining: 9.58s\n",
      "53:\tlearn: 1909.9150541\ttotal: 11s\tremaining: 9.37s\n",
      "54:\tlearn: 1906.8895851\ttotal: 11.2s\tremaining: 9.16s\n",
      "55:\tlearn: 1901.1288207\ttotal: 11.4s\tremaining: 8.96s\n",
      "56:\tlearn: 1897.7993767\ttotal: 11.6s\tremaining: 8.75s\n",
      "57:\tlearn: 1895.4002189\ttotal: 11.7s\tremaining: 8.48s\n",
      "58:\tlearn: 1892.2706088\ttotal: 11.9s\tremaining: 8.27s\n",
      "59:\tlearn: 1889.6378849\ttotal: 12.1s\tremaining: 8.07s\n",
      "60:\tlearn: 1887.7319100\ttotal: 12.3s\tremaining: 7.87s\n",
      "61:\tlearn: 1884.6748715\ttotal: 12.5s\tremaining: 7.66s\n",
      "62:\tlearn: 1881.4246582\ttotal: 12.7s\tremaining: 7.46s\n",
      "63:\tlearn: 1879.4017078\ttotal: 12.9s\tremaining: 7.26s\n",
      "64:\tlearn: 1878.1444575\ttotal: 13.1s\tremaining: 7.05s\n",
      "65:\tlearn: 1876.8199337\ttotal: 13.3s\tremaining: 6.85s\n",
      "66:\tlearn: 1875.8523984\ttotal: 13.5s\tremaining: 6.65s\n",
      "67:\tlearn: 1873.7542410\ttotal: 13.7s\tremaining: 6.44s\n",
      "68:\tlearn: 1872.5035608\ttotal: 13.9s\tremaining: 6.24s\n",
      "69:\tlearn: 1870.4556686\ttotal: 14.1s\tremaining: 6.04s\n",
      "70:\tlearn: 1867.6617827\ttotal: 14.3s\tremaining: 5.84s\n",
      "71:\tlearn: 1866.0692701\ttotal: 14.5s\tremaining: 5.64s\n",
      "72:\tlearn: 1864.3022842\ttotal: 14.7s\tremaining: 5.43s\n",
      "73:\tlearn: 1862.7778163\ttotal: 14.9s\tremaining: 5.23s\n",
      "74:\tlearn: 1861.2978417\ttotal: 15.1s\tremaining: 5.03s\n",
      "75:\tlearn: 1860.1061604\ttotal: 15.3s\tremaining: 4.83s\n",
      "76:\tlearn: 1858.8576224\ttotal: 15.5s\tremaining: 4.63s\n",
      "77:\tlearn: 1857.1766289\ttotal: 15.7s\tremaining: 4.42s\n",
      "78:\tlearn: 1856.0706046\ttotal: 15.9s\tremaining: 4.22s\n",
      "79:\tlearn: 1854.7594073\ttotal: 16.1s\tremaining: 4.02s\n",
      "80:\tlearn: 1851.0801282\ttotal: 16.4s\tremaining: 3.84s\n",
      "81:\tlearn: 1849.4324320\ttotal: 16.5s\tremaining: 3.62s\n",
      "82:\tlearn: 1847.9978854\ttotal: 16.7s\tremaining: 3.42s\n",
      "83:\tlearn: 1844.5497469\ttotal: 16.9s\tremaining: 3.22s\n",
      "84:\tlearn: 1842.7744134\ttotal: 17.1s\tremaining: 3.02s\n",
      "85:\tlearn: 1840.0036136\ttotal: 17.3s\tremaining: 2.81s\n",
      "86:\tlearn: 1839.1954631\ttotal: 17.5s\tremaining: 2.61s\n",
      "87:\tlearn: 1837.9734575\ttotal: 17.7s\tremaining: 2.41s\n",
      "88:\tlearn: 1835.9265008\ttotal: 17.9s\tremaining: 2.21s\n",
      "89:\tlearn: 1833.1921412\ttotal: 18.1s\tremaining: 2.01s\n",
      "90:\tlearn: 1832.3170047\ttotal: 18.3s\tremaining: 1.81s\n",
      "91:\tlearn: 1831.6232117\ttotal: 18.6s\tremaining: 1.61s\n",
      "92:\tlearn: 1830.3523682\ttotal: 18.8s\tremaining: 1.41s\n",
      "93:\tlearn: 1829.4498028\ttotal: 19s\tremaining: 1.21s\n",
      "94:\tlearn: 1828.5305267\ttotal: 19.2s\tremaining: 1.01s\n",
      "95:\tlearn: 1827.0565006\ttotal: 19.4s\tremaining: 807ms\n",
      "96:\tlearn: 1825.5359297\ttotal: 19.6s\tremaining: 605ms\n",
      "97:\tlearn: 1823.9805064\ttotal: 19.8s\tremaining: 404ms\n",
      "98:\tlearn: 1823.2499888\ttotal: 20s\tremaining: 202ms\n",
      "99:\tlearn: 1822.5635139\ttotal: 20.2s\tremaining: 0us\n",
      "0:\tlearn: 3999.9521817\ttotal: 271ms\tremaining: 26.9s\n",
      "1:\tlearn: 3590.4550217\ttotal: 568ms\tremaining: 27.8s\n",
      "2:\tlearn: 3253.5552175\ttotal: 862ms\tremaining: 27.9s\n",
      "3:\tlearn: 3019.4825327\ttotal: 1.16s\tremaining: 27.8s\n",
      "4:\tlearn: 2819.8568882\ttotal: 1.36s\tremaining: 25.9s\n",
      "5:\tlearn: 2685.3040339\ttotal: 1.57s\tremaining: 24.6s\n",
      "6:\tlearn: 2566.6637791\ttotal: 1.85s\tremaining: 24.6s\n",
      "7:\tlearn: 2472.2707507\ttotal: 2.15s\tremaining: 24.8s\n",
      "8:\tlearn: 2401.2425150\ttotal: 2.45s\tremaining: 24.8s\n",
      "9:\tlearn: 2337.2793354\ttotal: 2.75s\tremaining: 24.8s\n",
      "10:\tlearn: 2280.5669664\ttotal: 3.04s\tremaining: 24.6s\n",
      "11:\tlearn: 2227.6792851\ttotal: 3.25s\tremaining: 23.8s\n",
      "12:\tlearn: 2189.1727797\ttotal: 3.46s\tremaining: 23.1s\n",
      "13:\tlearn: 2163.9704441\ttotal: 3.75s\tremaining: 23s\n",
      "14:\tlearn: 2140.0853291\ttotal: 3.96s\tremaining: 22.4s\n",
      "15:\tlearn: 2115.8875961\ttotal: 4.25s\tremaining: 22.3s\n",
      "16:\tlearn: 2095.1747163\ttotal: 4.54s\tremaining: 22.2s\n",
      "17:\tlearn: 2080.9315133\ttotal: 4.75s\tremaining: 21.6s\n",
      "18:\tlearn: 2068.5219267\ttotal: 4.95s\tremaining: 21.1s\n",
      "19:\tlearn: 2057.2757710\ttotal: 5.24s\tremaining: 21s\n",
      "20:\tlearn: 2046.0615742\ttotal: 5.45s\tremaining: 20.5s\n",
      "21:\tlearn: 2036.2236805\ttotal: 5.74s\tremaining: 20.4s\n",
      "22:\tlearn: 2026.1509787\ttotal: 5.95s\tremaining: 19.9s\n",
      "23:\tlearn: 2017.4959593\ttotal: 6.24s\tremaining: 19.8s\n",
      "24:\tlearn: 2009.5064529\ttotal: 6.45s\tremaining: 19.3s\n",
      "25:\tlearn: 2003.1911570\ttotal: 6.74s\tremaining: 19.2s\n",
      "26:\tlearn: 1996.1017722\ttotal: 7.04s\tremaining: 19s\n",
      "27:\tlearn: 1990.3695803\ttotal: 7.24s\tremaining: 18.6s\n",
      "28:\tlearn: 1986.3339102\ttotal: 7.45s\tremaining: 18.2s\n",
      "29:\tlearn: 1983.1754768\ttotal: 7.74s\tremaining: 18.1s\n",
      "30:\tlearn: 1979.6068683\ttotal: 7.95s\tremaining: 17.7s\n",
      "31:\tlearn: 1973.7469774\ttotal: 8.24s\tremaining: 17.5s\n",
      "32:\tlearn: 1968.0767174\ttotal: 8.44s\tremaining: 17.1s\n",
      "33:\tlearn: 1964.5399075\ttotal: 8.73s\tremaining: 17s\n",
      "34:\tlearn: 1956.1121844\ttotal: 8.94s\tremaining: 16.6s\n",
      "35:\tlearn: 1951.7116544\ttotal: 9.14s\tremaining: 16.3s\n",
      "36:\tlearn: 1948.6655541\ttotal: 9.43s\tremaining: 16.1s\n",
      "37:\tlearn: 1941.9985527\ttotal: 9.64s\tremaining: 15.7s\n",
      "38:\tlearn: 1938.8119376\ttotal: 9.93s\tremaining: 15.5s\n",
      "39:\tlearn: 1936.1604926\ttotal: 10.1s\tremaining: 15.2s\n",
      "40:\tlearn: 1932.5972951\ttotal: 10.4s\tremaining: 15s\n",
      "41:\tlearn: 1926.8996090\ttotal: 10.6s\tremaining: 14.7s\n",
      "42:\tlearn: 1923.2591203\ttotal: 10.9s\tremaining: 14.5s\n",
      "43:\tlearn: 1921.1330827\ttotal: 11.1s\tremaining: 14.2s\n",
      "44:\tlearn: 1919.0404360\ttotal: 11.4s\tremaining: 14s\n",
      "45:\tlearn: 1915.8692105\ttotal: 11.6s\tremaining: 13.7s\n",
      "46:\tlearn: 1911.7612433\ttotal: 11.9s\tremaining: 13.4s\n",
      "47:\tlearn: 1908.0845680\ttotal: 12.1s\tremaining: 13.1s\n",
      "48:\tlearn: 1906.3863181\ttotal: 12.3s\tremaining: 12.8s\n",
      "49:\tlearn: 1905.4448552\ttotal: 12.6s\tremaining: 12.6s\n",
      "50:\tlearn: 1903.2705579\ttotal: 12.8s\tremaining: 12.3s\n",
      "51:\tlearn: 1901.9145640\ttotal: 13.1s\tremaining: 12.1s\n",
      "52:\tlearn: 1898.4787140\ttotal: 13.3s\tremaining: 11.8s\n",
      "53:\tlearn: 1896.2475566\ttotal: 13.6s\tremaining: 11.6s\n",
      "54:\tlearn: 1894.5578422\ttotal: 13.8s\tremaining: 11.3s\n",
      "55:\tlearn: 1891.7247824\ttotal: 14.1s\tremaining: 11.1s\n",
      "56:\tlearn: 1888.5245054\ttotal: 14.3s\tremaining: 10.8s\n",
      "57:\tlearn: 1885.2159685\ttotal: 14.5s\tremaining: 10.5s\n",
      "58:\tlearn: 1882.8865534\ttotal: 14.8s\tremaining: 10.3s\n",
      "59:\tlearn: 1878.3017448\ttotal: 15s\tremaining: 10s\n",
      "60:\tlearn: 1876.9613116\ttotal: 15.2s\tremaining: 9.73s\n",
      "61:\tlearn: 1875.0827390\ttotal: 15.5s\tremaining: 9.51s\n",
      "62:\tlearn: 1874.0343613\ttotal: 15.7s\tremaining: 9.23s\n",
      "63:\tlearn: 1872.0509425\ttotal: 16s\tremaining: 9s\n",
      "64:\tlearn: 1870.2723683\ttotal: 16.2s\tremaining: 8.73s\n",
      "65:\tlearn: 1869.0551066\ttotal: 16.4s\tremaining: 8.46s\n",
      "66:\tlearn: 1866.5985356\ttotal: 16.7s\tremaining: 8.23s\n",
      "67:\tlearn: 1864.8644741\ttotal: 16.9s\tremaining: 7.96s\n",
      "68:\tlearn: 1863.0017994\ttotal: 17.2s\tremaining: 7.73s\n",
      "69:\tlearn: 1861.8317913\ttotal: 17.4s\tremaining: 7.46s\n",
      "70:\tlearn: 1859.5612538\ttotal: 17.6s\tremaining: 7.2s\n",
      "71:\tlearn: 1858.5522567\ttotal: 17.9s\tremaining: 6.96s\n",
      "72:\tlearn: 1857.6042290\ttotal: 18.1s\tremaining: 6.7s\n",
      "73:\tlearn: 1855.0708337\ttotal: 18.3s\tremaining: 6.43s\n",
      "74:\tlearn: 1853.0823105\ttotal: 18.6s\tremaining: 6.2s\n",
      "75:\tlearn: 1850.1964392\ttotal: 18.8s\tremaining: 5.94s\n",
      "76:\tlearn: 1848.6578657\ttotal: 19s\tremaining: 5.68s\n",
      "77:\tlearn: 1847.5373962\ttotal: 19.3s\tremaining: 5.44s\n",
      "78:\tlearn: 1846.4496298\ttotal: 19.5s\tremaining: 5.18s\n",
      "79:\tlearn: 1845.2468343\ttotal: 19.7s\tremaining: 4.93s\n",
      "80:\tlearn: 1842.9915504\ttotal: 20s\tremaining: 4.69s\n",
      "81:\tlearn: 1842.0439223\ttotal: 20.2s\tremaining: 4.43s\n",
      "82:\tlearn: 1841.2504533\ttotal: 20.5s\tremaining: 4.2s\n",
      "83:\tlearn: 1840.0269929\ttotal: 20.7s\tremaining: 3.94s\n",
      "84:\tlearn: 1838.7848575\ttotal: 21s\tremaining: 3.7s\n",
      "85:\tlearn: 1835.0729654\ttotal: 21.2s\tremaining: 3.45s\n",
      "86:\tlearn: 1833.6746497\ttotal: 21.4s\tremaining: 3.2s\n",
      "87:\tlearn: 1833.1057156\ttotal: 21.7s\tremaining: 2.96s\n",
      "88:\tlearn: 1831.5174368\ttotal: 21.9s\tremaining: 2.71s\n",
      "89:\tlearn: 1830.3262794\ttotal: 22.1s\tremaining: 2.46s\n",
      "90:\tlearn: 1828.1500980\ttotal: 22.4s\tremaining: 2.21s\n",
      "91:\tlearn: 1826.5675417\ttotal: 22.6s\tremaining: 1.96s\n",
      "92:\tlearn: 1825.8548905\ttotal: 22.8s\tremaining: 1.72s\n",
      "93:\tlearn: 1824.5726599\ttotal: 23.1s\tremaining: 1.47s\n",
      "94:\tlearn: 1823.4186356\ttotal: 23.3s\tremaining: 1.23s\n",
      "95:\tlearn: 1822.2715336\ttotal: 23.6s\tremaining: 983ms\n",
      "96:\tlearn: 1821.3114675\ttotal: 23.8s\tremaining: 736ms\n",
      "97:\tlearn: 1820.6238342\ttotal: 24.1s\tremaining: 492ms\n",
      "98:\tlearn: 1819.0550701\ttotal: 24.3s\tremaining: 245ms\n",
      "99:\tlearn: 1817.8497377\ttotal: 24.5s\tremaining: 0us\n",
      "CPU times: user 10min 46s, sys: 1min 14s, total: 12min\n",
      "Wall time: 12min 40s\n"
     ]
    },
    {
     "data": {
      "text/plain": [
       "Pipeline(memory=None,\n",
       "         steps=[('regressor',\n",
       "                 GridSearchCV(cv=5, error_score='raise-deprecating',\n",
       "                              estimator=<catboost.core.CatBoostRegressor object at 0x7f4542caf990>,\n",
       "                              iid='warn', n_jobs=None,\n",
       "                              param_grid=[{'depth': [1, 3, 5],\n",
       "                                           'learning_rate': [0.1, 0.01, 0.2]}],\n",
       "                              pre_dispatch='2*n_jobs', refit=True,\n",
       "                              return_train_score=False,\n",
       "                              scoring=make_scorer(mean_squared_error, greater_is_better=False),\n",
       "                              verbose=0))],\n",
       "         verbose=False)"
      ]
     },
     "execution_count": 222,
     "metadata": {},
     "output_type": "execute_result"
    }
   ],
   "source": [
    "%%time\n",
    "cb_pipeline.fit(raw_X_train, y_train)"
   ]
  },
  {
   "cell_type": "code",
   "execution_count": 234,
   "metadata": {},
   "outputs": [
    {
     "name": "stdout",
     "output_type": "stream",
     "text": [
      "CPU times: user 198 ms, sys: 31 ms, total: 229 ms\n",
      "Wall time: 184 ms\n"
     ]
    }
   ],
   "source": [
    "%%time\n",
    "cb_pred = cb_pipeline.predict(raw_X_test)"
   ]
  },
  {
   "cell_type": "code",
   "execution_count": 224,
   "metadata": {},
   "outputs": [
    {
     "name": "stdout",
     "output_type": "stream",
     "text": [
      "Значение метрики RMSE для CatBoostRegressor: 1824.34\n"
     ]
    }
   ],
   "source": [
    "cb_pipeline_score = mean_squared_error(y_test, cb_pred) ** (1/2)\n",
    "print(f'Значение метрики RMSE для CatBoostRegressor: {cb_pipeline_score:.2f}')"
   ]
  },
  {
   "cell_type": "markdown",
   "metadata": {},
   "source": [
    "## Анализ моделей"
   ]
  },
  {
   "cell_type": "markdown",
   "metadata": {},
   "source": [
    "Сохраним в массив все данные по каждой модели"
   ]
  },
  {
   "cell_type": "code",
   "execution_count": 235,
   "metadata": {},
   "outputs": [],
   "source": [
    "models_scores = np.array([['LinearRegression', 0.231, 0.086, 3511.02], ['DecisionTree', 67, 0.008, 2101.24],\\\n",
    "                          ['RandomForest', 252.7, 0.243, 2457.70], ['LightGBM', 249, 0.595, 1694.99],\\\n",
    "                          ['XGBoost', 545, 0.327, 1827.55], ['CatBoost', 760, 0.184, 1824.34]])"
   ]
  },
  {
   "cell_type": "code",
   "execution_count": 236,
   "metadata": {},
   "outputs": [],
   "source": [
    "plot_df = pd.DataFrame(data=models_scores, columns=['model', 'learning_time', 'predict_time', 'score'])\n",
    "plot_df[['learning_time', 'predict_time', 'score']] = plot_df[['learning_time', 'predict_time', 'score']].astype('float32')"
   ]
  },
  {
   "cell_type": "markdown",
   "metadata": {},
   "source": [
    "Построим графики и оценим все три важных для нас параметра у каждой модели:  \n",
    "* время обучения\n",
    "* скорость предсказания \n",
    "* качество предсказания "
   ]
  },
  {
   "cell_type": "code",
   "execution_count": 237,
   "metadata": {},
   "outputs": [
    {
     "data": {
      "image/png": "[encoded data removed]",
      "text/plain": [
       "<Figure size 1080x720 with 1 Axes>"
      ]
     },
     "metadata": {},
     "output_type": "display_data"
    }
   ],
   "source": [
    "plot_df = plot_df.sort_values(['learning_time'], ascending=True)\n",
    "ax = sns.barplot(x=plot_df['model'], y=plot_df['learning_time'], data=plot_df)\n",
    "plt.xlabel(\"Модель\")\n",
    "plt.ylabel(\"Время обучения, с\")\n",
    "plt.title(\"Продолжительность обучения моделей\")\n",
    "plt.show()"
   ]
  },
  {
   "cell_type": "code",
   "execution_count": 238,
   "metadata": {},
   "outputs": [
    {
     "data": {
      "image/png": "[encoded data removed]",
      "text/plain": [
       "<Figure size 1080x720 with 1 Axes>"
      ]
     },
     "metadata": {},
     "output_type": "display_data"
    }
   ],
   "source": [
    "plot_df = plot_df.sort_values(['predict_time'], ascending=True)\n",
    "ax = sns.barplot(x=plot_df['model'], y=plot_df['predict_time'], data=plot_df)\n",
    "plt.xlabel(\"Модель\")\n",
    "plt.ylabel(\"Время предсказания, с\")\n",
    "plt.title(\"Продолжительность предсказания моделями\")\n",
    "plt.show()"
   ]
  },
  {
   "cell_type": "code",
   "execution_count": 239,
   "metadata": {},
   "outputs": [
    {
     "data": {
      "image/png": "[encoded data removed]",
      "text/plain": [
       "<Figure size 1080x720 with 1 Axes>"
      ]
     },
     "metadata": {},
     "output_type": "display_data"
    }
   ],
   "source": [
    "plot_df = plot_df.sort_values(['score'], ascending=True)\n",
    "ax = sns.barplot(x=plot_df['model'], y=plot_df['score'], data=plot_df)\n",
    "plt.xlabel(\"Модель\")\n",
    "plt.ylabel(\"Значение метрики RMSE, €\")\n",
    "plt.title(\"Значение метрики RMSE на тестовой выборке\")\n",
    "plt.show()"
   ]
  },
  {
   "cell_type": "markdown",
   "metadata": {},
   "source": [
    "## Выводы"
   ]
  },
  {
   "cell_type": "markdown",
   "metadata": {},
   "source": [
    "Видим, что простые модели обучаются быстро, быстро делают предсказание, но их точность очень низкая.  \n",
    "\n",
    "\n",
    "Если учитывать что время предсказания в 0.6с не является критичным, то лучшим выбором будет модель из библиотеки LightGBM, поскольку у неё лучшее значение метрики RMSE, время обучения в три раза быстрее чем у CatBoost, почти в два раза быстрее чем у XGBoost.  \n",
    "\n",
    "\n",
    "Если критично время предсказания, то стоит выбрать модель из библиотеки СatBoost: высокая скорость предсказания, значение RMSE больше чем у LightGBM не более чем на 150 евро, но время обучения больше всех."
   ]
  },
  {
   "cell_type": "code",
   "execution_count": null,
   "metadata": {},
   "outputs": [],
   "source": []
  }
 ],
 "metadata": {
  "ExecuteTimeLog": [
   {
    "duration": 1083,
    "start_time": "2022-02-01T14:50:40.724Z"
   },
   {
    "duration": 691,
    "start_time": "2022-02-01T14:50:59.960Z"
   },
   {
    "duration": 700,
    "start_time": "2022-02-01T14:51:07.074Z"
   },
   {
    "duration": 699,
    "start_time": "2022-02-01T14:51:13.358Z"
   },
   {
    "duration": 107,
    "start_time": "2022-02-01T14:51:18.411Z"
   },
   {
    "duration": 81,
    "start_time": "2022-02-01T14:51:24.737Z"
   },
   {
    "duration": 19,
    "start_time": "2022-02-01T14:51:28.375Z"
   },
   {
    "duration": 189,
    "start_time": "2022-02-02T10:43:38.141Z"
   },
   {
    "duration": 374,
    "start_time": "2022-02-02T10:44:53.228Z"
   },
   {
    "duration": 1482,
    "start_time": "2022-02-02T10:44:55.175Z"
   },
   {
    "duration": 1088,
    "start_time": "2022-02-02T10:44:56.660Z"
   },
   {
    "duration": 163,
    "start_time": "2022-02-02T10:44:57.750Z"
   },
   {
    "duration": 344,
    "start_time": "2022-02-02T10:45:45.153Z"
   },
   {
    "duration": 2007,
    "start_time": "2022-02-02T10:45:48.466Z"
   },
   {
    "duration": 1453,
    "start_time": "2022-02-02T10:45:51.882Z"
   },
   {
    "duration": 153,
    "start_time": "2022-02-02T10:45:55.160Z"
   },
   {
    "duration": 277,
    "start_time": "2022-02-02T11:11:47.460Z"
   },
   {
    "duration": 331,
    "start_time": "2022-02-02T11:11:57.086Z"
   },
   {
    "duration": 291,
    "start_time": "2022-02-02T11:12:05.673Z"
   },
   {
    "duration": 358,
    "start_time": "2022-02-02T11:12:16.560Z"
   },
   {
    "duration": 301,
    "start_time": "2022-02-02T11:12:20.318Z"
   },
   {
    "duration": 309,
    "start_time": "2022-02-02T11:12:47.450Z"
   },
   {
    "duration": 4,
    "start_time": "2022-02-02T11:12:51.603Z"
   },
   {
    "duration": 91,
    "start_time": "2022-02-02T11:12:59.542Z"
   },
   {
    "duration": 6,
    "start_time": "2022-02-02T11:13:02.165Z"
   },
   {
    "duration": 303,
    "start_time": "2022-02-02T11:13:21.965Z"
   },
   {
    "duration": 34,
    "start_time": "2022-02-02T11:13:24.529Z"
   },
   {
    "duration": 33,
    "start_time": "2022-02-02T11:18:56.572Z"
   },
   {
    "duration": 307,
    "start_time": "2022-02-02T11:19:19.481Z"
   },
   {
    "duration": 289,
    "start_time": "2022-02-02T11:19:21.904Z"
   },
   {
    "duration": 46,
    "start_time": "2022-02-02T11:20:07.290Z"
   },
   {
    "duration": 42,
    "start_time": "2022-02-02T11:20:17.868Z"
   },
   {
    "duration": 4,
    "start_time": "2022-02-02T12:09:40.749Z"
   },
   {
    "duration": 339,
    "start_time": "2022-02-02T12:10:04.785Z"
   },
   {
    "duration": 446,
    "start_time": "2022-02-02T12:10:54.173Z"
   },
   {
    "duration": 332,
    "start_time": "2022-02-02T12:11:00.113Z"
   },
   {
    "duration": 399,
    "start_time": "2022-02-02T12:11:33.970Z"
   },
   {
    "duration": 54,
    "start_time": "2022-02-02T12:11:38.963Z"
   },
   {
    "duration": 7,
    "start_time": "2022-02-02T12:12:09.297Z"
   },
   {
    "duration": 119,
    "start_time": "2022-02-02T12:26:04.936Z"
   },
   {
    "duration": 176,
    "start_time": "2022-02-02T12:26:40.741Z"
   },
   {
    "duration": 73,
    "start_time": "2022-02-02T12:26:45.463Z"
   },
   {
    "duration": 51,
    "start_time": "2022-02-02T12:27:38.339Z"
   },
   {
    "duration": 49,
    "start_time": "2022-02-02T12:27:42.767Z"
   },
   {
    "duration": 48,
    "start_time": "2022-02-02T12:27:45.939Z"
   },
   {
    "duration": 50,
    "start_time": "2022-02-02T12:28:01.537Z"
   },
   {
    "duration": 1068,
    "start_time": "2022-02-02T12:28:53.988Z"
   },
   {
    "duration": 1093,
    "start_time": "2022-02-02T12:29:01.494Z"
   },
   {
    "duration": 1091,
    "start_time": "2022-02-02T12:29:05.802Z"
   },
   {
    "duration": 156,
    "start_time": "2022-02-02T12:29:13.982Z"
   },
   {
    "duration": 114,
    "start_time": "2022-02-02T12:29:15.193Z"
   },
   {
    "duration": 34,
    "start_time": "2022-02-02T12:29:15.518Z"
   },
   {
    "duration": 6,
    "start_time": "2022-02-02T12:29:17.536Z"
   },
   {
    "duration": 4,
    "start_time": "2022-02-02T12:29:19.520Z"
   },
   {
    "duration": 361,
    "start_time": "2022-02-02T12:29:19.766Z"
   },
   {
    "duration": 59,
    "start_time": "2022-02-02T12:29:20.186Z"
   },
   {
    "duration": 109,
    "start_time": "2022-02-02T12:29:40.951Z"
   },
   {
    "duration": 47,
    "start_time": "2022-02-02T12:30:35.568Z"
   },
   {
    "duration": 102,
    "start_time": "2022-02-02T12:30:40.083Z"
   },
   {
    "duration": 303,
    "start_time": "2022-02-02T12:31:16.434Z"
   },
   {
    "duration": 312,
    "start_time": "2022-02-02T12:31:39.881Z"
   },
   {
    "duration": 121,
    "start_time": "2022-02-02T12:31:54.749Z"
   },
   {
    "duration": 5845,
    "start_time": "2022-02-02T12:31:56.893Z"
   },
   {
    "duration": 533,
    "start_time": "2022-02-02T12:32:08.747Z"
   },
   {
    "duration": 391,
    "start_time": "2022-02-02T12:32:17.887Z"
   },
   {
    "duration": 5386,
    "start_time": "2022-02-02T12:32:37.868Z"
   },
   {
    "duration": 2739,
    "start_time": "2022-02-02T12:32:44.362Z"
   },
   {
    "duration": 168,
    "start_time": "2022-02-02T12:32:47.104Z"
   },
   {
    "duration": 142,
    "start_time": "2022-02-02T12:32:47.276Z"
   },
   {
    "duration": 41,
    "start_time": "2022-02-02T12:32:47.424Z"
   },
   {
    "duration": 6,
    "start_time": "2022-02-02T12:32:47.468Z"
   },
   {
    "duration": 12,
    "start_time": "2022-02-02T12:32:47.476Z"
   },
   {
    "duration": 439,
    "start_time": "2022-02-02T12:32:47.490Z"
   },
   {
    "duration": 52,
    "start_time": "2022-02-02T12:32:50.663Z"
   },
   {
    "duration": 1092,
    "start_time": "2022-02-02T12:32:52.255Z"
   },
   {
    "duration": 544,
    "start_time": "2022-02-02T12:33:01.275Z"
   },
   {
    "duration": 2699,
    "start_time": "2022-02-02T12:33:08.139Z"
   },
   {
    "duration": 7279,
    "start_time": "2022-02-02T12:33:22.611Z"
   },
   {
    "duration": 3496,
    "start_time": "2022-02-02T12:33:45.445Z"
   },
   {
    "duration": 1056,
    "start_time": "2022-02-02T12:34:10.196Z"
   },
   {
    "duration": 324,
    "start_time": "2022-02-02T12:37:10.704Z"
   },
   {
    "duration": 433,
    "start_time": "2022-02-02T12:37:16.248Z"
   },
   {
    "duration": 52,
    "start_time": "2022-02-02T12:37:21.718Z"
   },
   {
    "duration": 47,
    "start_time": "2022-02-02T12:37:27.454Z"
   },
   {
    "duration": 51,
    "start_time": "2022-02-02T12:37:36.349Z"
   },
   {
    "duration": 52,
    "start_time": "2022-02-02T12:37:40.366Z"
   },
   {
    "duration": 147,
    "start_time": "2022-02-02T12:37:44.802Z"
   },
   {
    "duration": 45,
    "start_time": "2022-02-02T12:37:56.850Z"
   },
   {
    "duration": 102,
    "start_time": "2022-02-02T12:38:49.257Z"
   },
   {
    "duration": 88,
    "start_time": "2022-02-02T12:38:52.033Z"
   },
   {
    "duration": 49,
    "start_time": "2022-02-02T12:38:58.915Z"
   },
   {
    "duration": 47,
    "start_time": "2022-02-02T12:39:03.007Z"
   },
   {
    "duration": 3752,
    "start_time": "2022-02-02T12:39:52.837Z"
   },
   {
    "duration": 3530,
    "start_time": "2022-02-02T12:40:30.239Z"
   },
   {
    "duration": 30265,
    "start_time": "2022-02-02T12:41:33.801Z"
   },
   {
    "duration": 66,
    "start_time": "2022-02-02T12:44:01.347Z"
   },
   {
    "duration": 104,
    "start_time": "2022-02-02T12:44:05.422Z"
   },
   {
    "duration": 39,
    "start_time": "2022-02-02T12:44:08.054Z"
   },
   {
    "duration": 297,
    "start_time": "2022-02-02T12:44:58.441Z"
   },
   {
    "duration": 9,
    "start_time": "2022-02-02T12:45:21.399Z"
   },
   {
    "duration": 3401,
    "start_time": "2022-02-02T12:45:25.737Z"
   },
   {
    "duration": 1061,
    "start_time": "2022-02-02T12:45:29.141Z"
   },
   {
    "duration": 180,
    "start_time": "2022-02-02T12:45:30.205Z"
   },
   {
    "duration": 128,
    "start_time": "2022-02-02T12:45:30.388Z"
   },
   {
    "duration": 38,
    "start_time": "2022-02-02T12:45:30.518Z"
   },
   {
    "duration": 6,
    "start_time": "2022-02-02T12:45:30.558Z"
   },
   {
    "duration": 29,
    "start_time": "2022-02-02T12:45:30.566Z"
   },
   {
    "duration": 345,
    "start_time": "2022-02-02T12:45:30.597Z"
   },
   {
    "duration": 50,
    "start_time": "2022-02-02T12:45:30.946Z"
   },
   {
    "duration": 117,
    "start_time": "2022-02-02T12:45:30.999Z"
   },
   {
    "duration": 31256,
    "start_time": "2022-02-02T12:45:31.123Z"
   },
   {
    "duration": 12,
    "start_time": "2022-02-02T12:46:02.382Z"
   },
   {
    "duration": 77,
    "start_time": "2022-02-02T12:46:02.396Z"
   },
   {
    "duration": 63,
    "start_time": "2022-02-02T12:46:02.475Z"
   },
   {
    "duration": 3972,
    "start_time": "2022-02-02T13:03:26.708Z"
   },
   {
    "duration": 1270,
    "start_time": "2022-02-02T13:03:30.683Z"
   },
   {
    "duration": 173,
    "start_time": "2022-02-02T13:03:31.956Z"
   },
   {
    "duration": 142,
    "start_time": "2022-02-02T13:03:32.131Z"
   },
   {
    "duration": 30,
    "start_time": "2022-02-02T13:03:32.276Z"
   },
   {
    "duration": 22,
    "start_time": "2022-02-02T13:03:32.309Z"
   },
   {
    "duration": 5,
    "start_time": "2022-02-02T13:03:32.334Z"
   },
   {
    "duration": 387,
    "start_time": "2022-02-02T13:03:32.341Z"
   },
   {
    "duration": 56,
    "start_time": "2022-02-02T13:03:32.730Z"
   },
   {
    "duration": 115,
    "start_time": "2022-02-02T13:03:32.788Z"
   },
   {
    "duration": 32533,
    "start_time": "2022-02-02T13:03:32.905Z"
   },
   {
    "duration": 9,
    "start_time": "2022-02-02T13:04:05.441Z"
   },
   {
    "duration": 83,
    "start_time": "2022-02-02T13:04:05.452Z"
   },
   {
    "duration": 39,
    "start_time": "2022-02-02T13:04:05.538Z"
   },
   {
    "duration": 8,
    "start_time": "2022-02-02T13:04:31.072Z"
   },
   {
    "duration": 3584,
    "start_time": "2022-02-02T13:04:38.405Z"
   },
   {
    "duration": 1149,
    "start_time": "2022-02-02T13:04:41.992Z"
   },
   {
    "duration": 167,
    "start_time": "2022-02-02T13:04:43.144Z"
   },
   {
    "duration": 143,
    "start_time": "2022-02-02T13:04:43.314Z"
   },
   {
    "duration": 30,
    "start_time": "2022-02-02T13:04:43.459Z"
   },
   {
    "duration": 6,
    "start_time": "2022-02-02T13:04:43.491Z"
   },
   {
    "duration": 12,
    "start_time": "2022-02-02T13:04:43.523Z"
   },
   {
    "duration": 386,
    "start_time": "2022-02-02T13:04:43.539Z"
   },
   {
    "duration": 55,
    "start_time": "2022-02-02T13:04:43.928Z"
   },
   {
    "duration": 112,
    "start_time": "2022-02-02T13:04:43.985Z"
   },
   {
    "duration": 2,
    "start_time": "2022-02-02T13:04:44.100Z"
   },
   {
    "duration": 27,
    "start_time": "2022-02-02T13:04:44.105Z"
   },
   {
    "duration": 5,
    "start_time": "2022-02-02T13:04:44.134Z"
   },
   {
    "duration": 60,
    "start_time": "2022-02-02T13:04:44.142Z"
   },
   {
    "duration": 57,
    "start_time": "2022-02-02T13:04:44.205Z"
   },
   {
    "duration": 3508,
    "start_time": "2022-02-02T13:04:57.942Z"
   },
   {
    "duration": 1146,
    "start_time": "2022-02-02T13:05:01.453Z"
   },
   {
    "duration": 173,
    "start_time": "2022-02-02T13:05:02.602Z"
   },
   {
    "duration": 126,
    "start_time": "2022-02-02T13:05:02.777Z"
   },
   {
    "duration": 38,
    "start_time": "2022-02-02T13:05:02.905Z"
   },
   {
    "duration": 6,
    "start_time": "2022-02-02T13:05:02.946Z"
   },
   {
    "duration": 5,
    "start_time": "2022-02-02T13:05:02.955Z"
   },
   {
    "duration": 380,
    "start_time": "2022-02-02T13:05:02.965Z"
   },
   {
    "duration": 59,
    "start_time": "2022-02-02T13:05:03.348Z"
   },
   {
    "duration": 125,
    "start_time": "2022-02-02T13:05:03.409Z"
   },
   {
    "duration": 3,
    "start_time": "2022-02-02T13:05:03.537Z"
   },
   {
    "duration": 29,
    "start_time": "2022-02-02T13:05:03.543Z"
   },
   {
    "duration": 5,
    "start_time": "2022-02-02T13:05:03.574Z"
   },
   {
    "duration": 78,
    "start_time": "2022-02-02T13:05:03.581Z"
   },
   {
    "duration": 40,
    "start_time": "2022-02-02T13:05:03.661Z"
   },
   {
    "duration": 41,
    "start_time": "2022-02-02T13:05:28.553Z"
   },
   {
    "duration": 49,
    "start_time": "2022-02-02T13:05:29.589Z"
   },
   {
    "duration": 3541,
    "start_time": "2022-02-02T13:05:33.467Z"
   },
   {
    "duration": 1237,
    "start_time": "2022-02-02T13:05:37.011Z"
   },
   {
    "duration": 181,
    "start_time": "2022-02-02T13:05:38.252Z"
   },
   {
    "duration": 131,
    "start_time": "2022-02-02T13:05:38.436Z"
   },
   {
    "duration": 31,
    "start_time": "2022-02-02T13:05:38.569Z"
   },
   {
    "duration": 34,
    "start_time": "2022-02-02T13:05:38.602Z"
   },
   {
    "duration": 4,
    "start_time": "2022-02-02T13:05:38.640Z"
   },
   {
    "duration": 342,
    "start_time": "2022-02-02T13:05:38.647Z"
   },
   {
    "duration": 62,
    "start_time": "2022-02-02T13:05:38.993Z"
   },
   {
    "duration": 105,
    "start_time": "2022-02-02T13:05:39.058Z"
   },
   {
    "duration": 3,
    "start_time": "2022-02-02T13:05:39.165Z"
   },
   {
    "duration": 24,
    "start_time": "2022-02-02T13:05:39.171Z"
   },
   {
    "duration": 10,
    "start_time": "2022-02-02T13:05:39.197Z"
   },
   {
    "duration": 61,
    "start_time": "2022-02-02T13:05:39.223Z"
   },
   {
    "duration": 62,
    "start_time": "2022-02-02T13:05:39.286Z"
   },
   {
    "duration": 17,
    "start_time": "2022-02-02T13:07:22.218Z"
   },
   {
    "duration": 110,
    "start_time": "2022-02-02T13:07:38.782Z"
   },
   {
    "duration": 45,
    "start_time": "2022-02-02T13:08:05.053Z"
   },
   {
    "duration": 26,
    "start_time": "2022-02-02T13:08:27.091Z"
   },
   {
    "duration": 46,
    "start_time": "2022-02-02T13:08:49.162Z"
   },
   {
    "duration": 29,
    "start_time": "2022-02-02T13:08:59.036Z"
   },
   {
    "duration": 25,
    "start_time": "2022-02-02T13:09:47.284Z"
   },
   {
    "duration": 27,
    "start_time": "2022-02-02T13:10:05.043Z"
   },
   {
    "duration": 111,
    "start_time": "2022-02-02T13:17:43.357Z"
   },
   {
    "duration": 97,
    "start_time": "2022-02-02T13:18:25.195Z"
   },
   {
    "duration": 28,
    "start_time": "2022-02-02T13:18:30.481Z"
   },
   {
    "duration": 119,
    "start_time": "2022-02-02T13:18:35.365Z"
   },
   {
    "duration": 7,
    "start_time": "2022-02-02T13:18:53.877Z"
   },
   {
    "duration": 52,
    "start_time": "2022-02-02T13:18:56.685Z"
   },
   {
    "duration": 47,
    "start_time": "2022-02-02T13:35:11.803Z"
   },
   {
    "duration": 32,
    "start_time": "2022-02-02T13:35:27.941Z"
   },
   {
    "duration": 117,
    "start_time": "2022-02-02T13:35:30.393Z"
   },
   {
    "duration": 43,
    "start_time": "2022-02-02T13:35:55.355Z"
   },
   {
    "duration": 25,
    "start_time": "2022-02-02T13:37:21.671Z"
   },
   {
    "duration": 51,
    "start_time": "2022-02-02T13:39:01.153Z"
   },
   {
    "duration": 48,
    "start_time": "2022-02-02T13:39:05.191Z"
   },
   {
    "duration": 79,
    "start_time": "2022-02-02T13:39:19.993Z"
   },
   {
    "duration": 43,
    "start_time": "2022-02-02T13:39:20.448Z"
   },
   {
    "duration": 64,
    "start_time": "2022-02-02T13:40:11.847Z"
   },
   {
    "duration": 40,
    "start_time": "2022-02-02T13:40:12.083Z"
   },
   {
    "duration": 103,
    "start_time": "2022-02-02T13:40:14.557Z"
   },
   {
    "duration": 9,
    "start_time": "2022-02-02T13:40:38.861Z"
   },
   {
    "duration": 43,
    "start_time": "2022-02-02T13:40:45.471Z"
   },
   {
    "duration": 44,
    "start_time": "2022-02-02T13:41:00.270Z"
   },
   {
    "duration": 29,
    "start_time": "2022-02-02T13:43:04.343Z"
   },
   {
    "duration": 43,
    "start_time": "2022-02-02T13:43:06.552Z"
   },
   {
    "duration": 25,
    "start_time": "2022-02-02T13:43:07.749Z"
   },
   {
    "duration": 119,
    "start_time": "2022-02-02T13:43:11.416Z"
   },
   {
    "duration": 7,
    "start_time": "2022-02-02T13:43:50.060Z"
   },
   {
    "duration": 59,
    "start_time": "2022-02-02T13:43:54.016Z"
   },
   {
    "duration": 37,
    "start_time": "2022-02-02T13:44:26.915Z"
   },
   {
    "duration": 317,
    "start_time": "2022-02-02T13:45:24.253Z"
   },
   {
    "duration": 35,
    "start_time": "2022-02-02T13:45:35.454Z"
   },
   {
    "duration": 51,
    "start_time": "2022-02-02T13:53:05.406Z"
   },
   {
    "duration": 26,
    "start_time": "2022-02-02T13:57:12.065Z"
   },
   {
    "duration": 116,
    "start_time": "2022-02-02T13:57:14.319Z"
   },
   {
    "duration": 1500,
    "start_time": "2022-02-02T13:57:58.408Z"
   },
   {
    "duration": 15,
    "start_time": "2022-02-02T13:58:32.887Z"
   },
   {
    "duration": 44,
    "start_time": "2022-02-02T13:59:50.071Z"
   },
   {
    "duration": 315,
    "start_time": "2022-02-02T14:00:00.823Z"
   },
   {
    "duration": 5,
    "start_time": "2022-02-02T14:01:12.608Z"
   },
   {
    "duration": 5,
    "start_time": "2022-02-02T14:01:15.150Z"
   },
   {
    "duration": 5,
    "start_time": "2022-02-02T14:01:28.069Z"
   },
   {
    "duration": 6,
    "start_time": "2022-02-02T14:01:32.194Z"
   },
   {
    "duration": 11,
    "start_time": "2022-02-02T14:01:44.524Z"
   },
   {
    "duration": 5,
    "start_time": "2022-02-02T14:01:51.393Z"
   },
   {
    "duration": 5,
    "start_time": "2022-02-02T14:02:00.738Z"
   },
   {
    "duration": 5,
    "start_time": "2022-02-02T14:02:05.737Z"
   },
   {
    "duration": 5,
    "start_time": "2022-02-02T14:02:10.155Z"
   },
   {
    "duration": 5,
    "start_time": "2022-02-02T14:02:14.646Z"
   },
   {
    "duration": 6,
    "start_time": "2022-02-02T14:02:18.961Z"
   },
   {
    "duration": 106,
    "start_time": "2022-02-02T14:03:03.587Z"
   },
   {
    "duration": 4,
    "start_time": "2022-02-02T14:03:07.505Z"
   },
   {
    "duration": 5,
    "start_time": "2022-02-02T14:03:12.138Z"
   },
   {
    "duration": 5,
    "start_time": "2022-02-02T14:03:18.863Z"
   },
   {
    "duration": 4891,
    "start_time": "2022-02-03T10:49:01.878Z"
   },
   {
    "duration": 905,
    "start_time": "2022-02-03T10:49:06.772Z"
   },
   {
    "duration": 138,
    "start_time": "2022-02-03T10:49:07.679Z"
   },
   {
    "duration": 118,
    "start_time": "2022-02-03T10:49:07.819Z"
   },
   {
    "duration": 22,
    "start_time": "2022-02-03T10:49:07.939Z"
   },
   {
    "duration": 4,
    "start_time": "2022-02-03T10:49:07.963Z"
   },
   {
    "duration": 6,
    "start_time": "2022-02-03T10:49:07.969Z"
   },
   {
    "duration": 308,
    "start_time": "2022-02-03T10:49:07.978Z"
   },
   {
    "duration": 49,
    "start_time": "2022-02-03T10:49:08.289Z"
   },
   {
    "duration": 79,
    "start_time": "2022-02-03T10:49:08.340Z"
   },
   {
    "duration": 357,
    "start_time": "2022-02-03T10:49:08.421Z"
   },
   {
    "duration": -40,
    "start_time": "2022-02-03T10:49:08.820Z"
   },
   {
    "duration": -42,
    "start_time": "2022-02-03T10:49:08.823Z"
   },
   {
    "duration": -43,
    "start_time": "2022-02-03T10:49:08.825Z"
   },
   {
    "duration": -42,
    "start_time": "2022-02-03T10:49:08.826Z"
   },
   {
    "duration": -45,
    "start_time": "2022-02-03T10:49:08.830Z"
   },
   {
    "duration": -46,
    "start_time": "2022-02-03T10:49:08.832Z"
   },
   {
    "duration": -49,
    "start_time": "2022-02-03T10:49:08.836Z"
   },
   {
    "duration": -51,
    "start_time": "2022-02-03T10:49:08.839Z"
   },
   {
    "duration": -52,
    "start_time": "2022-02-03T10:49:08.841Z"
   },
   {
    "duration": -53,
    "start_time": "2022-02-03T10:49:08.843Z"
   },
   {
    "duration": -54,
    "start_time": "2022-02-03T10:49:08.845Z"
   },
   {
    "duration": -61,
    "start_time": "2022-02-03T10:49:08.853Z"
   },
   {
    "duration": -64,
    "start_time": "2022-02-03T10:49:08.857Z"
   },
   {
    "duration": -66,
    "start_time": "2022-02-03T10:49:08.860Z"
   },
   {
    "duration": -67,
    "start_time": "2022-02-03T10:49:08.863Z"
   },
   {
    "duration": -68,
    "start_time": "2022-02-03T10:49:08.865Z"
   },
   {
    "duration": -69,
    "start_time": "2022-02-03T10:49:08.867Z"
   },
   {
    "duration": 2594,
    "start_time": "2022-02-03T10:50:30.219Z"
   },
   {
    "duration": 3889,
    "start_time": "2022-02-03T10:50:39.219Z"
   },
   {
    "duration": 877,
    "start_time": "2022-02-03T10:50:43.111Z"
   },
   {
    "duration": 135,
    "start_time": "2022-02-03T10:50:43.991Z"
   },
   {
    "duration": 119,
    "start_time": "2022-02-03T10:50:44.128Z"
   },
   {
    "duration": 23,
    "start_time": "2022-02-03T10:50:44.249Z"
   },
   {
    "duration": 4,
    "start_time": "2022-02-03T10:50:44.274Z"
   },
   {
    "duration": 5,
    "start_time": "2022-02-03T10:50:44.280Z"
   },
   {
    "duration": 277,
    "start_time": "2022-02-03T10:50:44.308Z"
   },
   {
    "duration": 43,
    "start_time": "2022-02-03T10:50:44.588Z"
   },
   {
    "duration": 80,
    "start_time": "2022-02-03T10:50:44.634Z"
   },
   {
    "duration": 903,
    "start_time": "2022-02-03T10:50:44.716Z"
   },
   {
    "duration": 10,
    "start_time": "2022-02-03T10:50:45.622Z"
   },
   {
    "duration": 43,
    "start_time": "2022-02-03T10:50:45.634Z"
   },
   {
    "duration": 18887,
    "start_time": "2022-02-03T10:50:45.679Z"
   },
   {
    "duration": 45,
    "start_time": "2022-02-03T10:51:04.567Z"
   },
   {
    "duration": 12,
    "start_time": "2022-02-03T10:51:04.614Z"
   },
   {
    "duration": 22,
    "start_time": "2022-02-03T10:51:04.628Z"
   },
   {
    "duration": 57,
    "start_time": "2022-02-03T10:51:04.652Z"
   },
   {
    "duration": 23,
    "start_time": "2022-02-03T10:51:04.711Z"
   },
   {
    "duration": 38,
    "start_time": "2022-02-03T10:51:04.736Z"
   },
   {
    "duration": 87,
    "start_time": "2022-02-03T10:51:04.777Z"
   },
   {
    "duration": 45,
    "start_time": "2022-02-03T10:51:04.867Z"
   },
   {
    "duration": 36,
    "start_time": "2022-02-03T10:51:04.914Z"
   },
   {
    "duration": 33,
    "start_time": "2022-02-03T10:51:04.952Z"
   },
   {
    "duration": 53,
    "start_time": "2022-02-03T10:51:04.987Z"
   },
   {
    "duration": 23,
    "start_time": "2022-02-03T10:51:05.042Z"
   },
   {
    "duration": 44,
    "start_time": "2022-02-03T10:51:05.069Z"
   },
   {
    "duration": 4,
    "start_time": "2022-02-03T10:51:05.115Z"
   },
   {
    "duration": 123,
    "start_time": "2022-02-03T10:51:05.120Z"
   },
   {
    "duration": 3043,
    "start_time": "2022-02-03T13:25:26.035Z"
   },
   {
    "duration": 3,
    "start_time": "2022-02-03T13:26:29.213Z"
   },
   {
    "duration": 402,
    "start_time": "2022-02-03T13:26:43.314Z"
   },
   {
    "duration": 6,
    "start_time": "2022-02-03T13:29:06.155Z"
   },
   {
    "duration": 37,
    "start_time": "2022-02-03T13:32:53.271Z"
   },
   {
    "duration": 107,
    "start_time": "2022-02-03T13:33:04.303Z"
   },
   {
    "duration": 4,
    "start_time": "2022-02-03T13:33:19.774Z"
   },
   {
    "duration": 10,
    "start_time": "2022-02-03T13:35:11.224Z"
   },
   {
    "duration": 272,
    "start_time": "2022-02-03T13:35:27.380Z"
   },
   {
    "duration": 279,
    "start_time": "2022-02-03T13:35:36.209Z"
   },
   {
    "duration": 6,
    "start_time": "2022-02-03T13:35:46.831Z"
   },
   {
    "duration": 4038,
    "start_time": "2022-02-03T13:36:15.735Z"
   },
   {
    "duration": 2542,
    "start_time": "2022-02-03T13:36:22.092Z"
   },
   {
    "duration": 902,
    "start_time": "2022-02-03T13:36:24.636Z"
   },
   {
    "duration": 129,
    "start_time": "2022-02-03T13:36:25.540Z"
   },
   {
    "duration": 119,
    "start_time": "2022-02-03T13:36:25.671Z"
   },
   {
    "duration": 28,
    "start_time": "2022-02-03T13:36:25.792Z"
   },
   {
    "duration": 12,
    "start_time": "2022-02-03T13:36:25.821Z"
   },
   {
    "duration": 5,
    "start_time": "2022-02-03T13:36:25.835Z"
   },
   {
    "duration": 238,
    "start_time": "2022-02-03T13:36:25.843Z"
   },
   {
    "duration": 49,
    "start_time": "2022-02-03T13:36:26.083Z"
   },
   {
    "duration": 76,
    "start_time": "2022-02-03T13:36:26.134Z"
   },
   {
    "duration": 6,
    "start_time": "2022-02-03T13:36:26.213Z"
   },
   {
    "duration": 912,
    "start_time": "2022-02-03T13:36:26.221Z"
   },
   {
    "duration": 12,
    "start_time": "2022-02-03T13:36:27.135Z"
   },
   {
    "duration": 33,
    "start_time": "2022-02-03T13:36:27.149Z"
   },
   {
    "duration": 18860,
    "start_time": "2022-02-03T13:36:27.184Z"
   },
   {
    "duration": 41,
    "start_time": "2022-02-03T13:36:46.046Z"
   },
   {
    "duration": 29,
    "start_time": "2022-02-03T13:36:46.089Z"
   },
   {
    "duration": 23,
    "start_time": "2022-02-03T13:36:46.121Z"
   },
   {
    "duration": 34,
    "start_time": "2022-02-03T13:36:46.146Z"
   },
   {
    "duration": 39,
    "start_time": "2022-02-03T13:36:46.182Z"
   },
   {
    "duration": 38,
    "start_time": "2022-02-03T13:36:46.223Z"
   },
   {
    "duration": 74,
    "start_time": "2022-02-03T13:36:46.262Z"
   },
   {
    "duration": 35,
    "start_time": "2022-02-03T13:36:46.340Z"
   },
   {
    "duration": 50,
    "start_time": "2022-02-03T13:36:46.377Z"
   },
   {
    "duration": 23,
    "start_time": "2022-02-03T13:36:46.429Z"
   },
   {
    "duration": 38,
    "start_time": "2022-02-03T13:36:46.455Z"
   },
   {
    "duration": 34,
    "start_time": "2022-02-03T13:36:46.495Z"
   },
   {
    "duration": 22,
    "start_time": "2022-02-03T13:36:46.531Z"
   },
   {
    "duration": 3,
    "start_time": "2022-02-03T13:36:46.555Z"
   },
   {
    "duration": 10,
    "start_time": "2022-02-03T13:36:46.560Z"
   },
   {
    "duration": 274,
    "start_time": "2022-02-03T13:36:46.572Z"
   },
   {
    "duration": -52,
    "start_time": "2022-02-03T13:36:46.900Z"
   },
   {
    "duration": -53,
    "start_time": "2022-02-03T13:36:46.902Z"
   },
   {
    "duration": 18,
    "start_time": "2022-02-03T13:37:00.783Z"
   },
   {
    "duration": 450,
    "start_time": "2022-02-03T13:54:00.082Z"
   },
   {
    "duration": 15,
    "start_time": "2022-02-03T13:54:09.604Z"
   },
   {
    "duration": 3950,
    "start_time": "2022-02-03T14:00:55.188Z"
   },
   {
    "duration": 7,
    "start_time": "2022-02-04T08:08:07.006Z"
   },
   {
    "duration": 338,
    "start_time": "2022-02-04T10:45:33.908Z"
   },
   {
    "duration": 6569,
    "start_time": "2022-02-04T10:45:43.069Z"
   },
   {
    "duration": 3019,
    "start_time": "2022-02-04T10:45:49.641Z"
   },
   {
    "duration": 165,
    "start_time": "2022-02-04T10:45:52.663Z"
   },
   {
    "duration": 133,
    "start_time": "2022-02-04T10:45:52.831Z"
   },
   {
    "duration": 32,
    "start_time": "2022-02-04T10:45:52.967Z"
   },
   {
    "duration": 30,
    "start_time": "2022-02-04T10:45:53.002Z"
   },
   {
    "duration": 5,
    "start_time": "2022-02-04T10:45:53.035Z"
   },
   {
    "duration": 412,
    "start_time": "2022-02-04T10:45:53.046Z"
   },
   {
    "duration": 54,
    "start_time": "2022-02-04T10:45:53.462Z"
   },
   {
    "duration": 127,
    "start_time": "2022-02-04T10:45:53.519Z"
   },
   {
    "duration": 7,
    "start_time": "2022-02-04T10:45:53.648Z"
   },
   {
    "duration": 339,
    "start_time": "2022-02-04T10:45:53.657Z"
   },
   {
    "duration": -21,
    "start_time": "2022-02-04T10:45:54.020Z"
   },
   {
    "duration": -21,
    "start_time": "2022-02-04T10:45:54.022Z"
   },
   {
    "duration": -31,
    "start_time": "2022-02-04T10:45:54.033Z"
   },
   {
    "duration": -32,
    "start_time": "2022-02-04T10:45:54.036Z"
   },
   {
    "duration": -33,
    "start_time": "2022-02-04T10:45:54.038Z"
   },
   {
    "duration": -33,
    "start_time": "2022-02-04T10:45:54.040Z"
   },
   {
    "duration": -33,
    "start_time": "2022-02-04T10:45:54.041Z"
   },
   {
    "duration": -35,
    "start_time": "2022-02-04T10:45:54.044Z"
   },
   {
    "duration": -35,
    "start_time": "2022-02-04T10:45:54.046Z"
   },
   {
    "duration": -35,
    "start_time": "2022-02-04T10:45:54.047Z"
   },
   {
    "duration": -40,
    "start_time": "2022-02-04T10:45:54.053Z"
   },
   {
    "duration": -40,
    "start_time": "2022-02-04T10:45:54.055Z"
   },
   {
    "duration": -41,
    "start_time": "2022-02-04T10:45:54.058Z"
   },
   {
    "duration": -43,
    "start_time": "2022-02-04T10:45:54.061Z"
   },
   {
    "duration": -42,
    "start_time": "2022-02-04T10:45:54.062Z"
   },
   {
    "duration": -43,
    "start_time": "2022-02-04T10:45:54.064Z"
   },
   {
    "duration": -43,
    "start_time": "2022-02-04T10:45:54.066Z"
   },
   {
    "duration": -47,
    "start_time": "2022-02-04T10:45:54.071Z"
   },
   {
    "duration": -47,
    "start_time": "2022-02-04T10:45:54.073Z"
   },
   {
    "duration": -48,
    "start_time": "2022-02-04T10:45:54.075Z"
   },
   {
    "duration": -49,
    "start_time": "2022-02-04T10:45:54.077Z"
   },
   {
    "duration": 4899,
    "start_time": "2022-02-04T10:46:06.270Z"
   },
   {
    "duration": 1169,
    "start_time": "2022-02-04T10:46:11.173Z"
   },
   {
    "duration": 160,
    "start_time": "2022-02-04T10:46:12.345Z"
   },
   {
    "duration": 126,
    "start_time": "2022-02-04T10:46:12.507Z"
   },
   {
    "duration": 34,
    "start_time": "2022-02-04T10:46:12.635Z"
   },
   {
    "duration": 6,
    "start_time": "2022-02-04T10:46:12.672Z"
   },
   {
    "duration": 4,
    "start_time": "2022-02-04T10:46:12.681Z"
   },
   {
    "duration": 449,
    "start_time": "2022-02-04T10:46:12.689Z"
   },
   {
    "duration": 52,
    "start_time": "2022-02-04T10:46:13.141Z"
   },
   {
    "duration": 124,
    "start_time": "2022-02-04T10:46:13.196Z"
   },
   {
    "duration": 13,
    "start_time": "2022-02-04T10:46:13.323Z"
   },
   {
    "duration": 1356,
    "start_time": "2022-02-04T10:46:13.338Z"
   },
   {
    "duration": 14,
    "start_time": "2022-02-04T10:46:14.697Z"
   },
   {
    "duration": 73,
    "start_time": "2022-02-04T10:46:14.714Z"
   },
   {
    "duration": 29020,
    "start_time": "2022-02-04T10:46:14.790Z"
   },
   {
    "duration": 76,
    "start_time": "2022-02-04T10:46:43.813Z"
   },
   {
    "duration": 13,
    "start_time": "2022-02-04T10:46:43.891Z"
   },
   {
    "duration": 38,
    "start_time": "2022-02-04T10:46:43.906Z"
   },
   {
    "duration": 42,
    "start_time": "2022-02-04T10:46:43.947Z"
   },
   {
    "duration": 52,
    "start_time": "2022-02-04T10:46:43.991Z"
   },
   {
    "duration": 44,
    "start_time": "2022-02-04T10:46:44.046Z"
   },
   {
    "duration": 99,
    "start_time": "2022-02-04T10:46:44.092Z"
   },
   {
    "duration": 46,
    "start_time": "2022-02-04T10:46:44.196Z"
   },
   {
    "duration": 57,
    "start_time": "2022-02-04T10:46:44.245Z"
   },
   {
    "duration": 44,
    "start_time": "2022-02-04T10:46:44.306Z"
   },
   {
    "duration": 51,
    "start_time": "2022-02-04T10:46:44.352Z"
   },
   {
    "duration": 57,
    "start_time": "2022-02-04T10:46:44.405Z"
   },
   {
    "duration": 26,
    "start_time": "2022-02-04T10:46:44.465Z"
   },
   {
    "duration": 9,
    "start_time": "2022-02-04T10:46:44.493Z"
   },
   {
    "duration": 28,
    "start_time": "2022-02-04T10:46:44.504Z"
   },
   {
    "duration": 47,
    "start_time": "2022-02-04T10:46:44.535Z"
   },
   {
    "duration": 4,
    "start_time": "2022-02-04T10:46:44.585Z"
   },
   {
    "duration": 647,
    "start_time": "2022-02-04T10:46:44.591Z"
   },
   {
    "duration": 108,
    "start_time": "2022-02-04T10:46:45.241Z"
   },
   {
    "duration": 5,
    "start_time": "2022-02-04T10:46:45.351Z"
   },
   {
    "duration": 14,
    "start_time": "2022-02-04T10:46:45.358Z"
   },
   {
    "duration": 419,
    "start_time": "2022-02-04T10:46:45.374Z"
   },
   {
    "duration": -25,
    "start_time": "2022-02-04T10:46:45.821Z"
   },
   {
    "duration": 3894,
    "start_time": "2022-02-04T10:48:36.964Z"
   },
   {
    "duration": 4,
    "start_time": "2022-02-04T10:51:38.428Z"
   },
   {
    "duration": 248,
    "start_time": "2022-02-04T10:51:42.296Z"
   },
   {
    "duration": 11,
    "start_time": "2022-02-04T10:52:07.949Z"
   },
   {
    "duration": 3202,
    "start_time": "2022-02-04T10:52:38.853Z"
   },
   {
    "duration": 16,
    "start_time": "2022-02-04T10:52:56.822Z"
   },
   {
    "duration": 263,
    "start_time": "2022-02-04T10:52:59.975Z"
   },
   {
    "duration": 112,
    "start_time": "2022-02-04T10:53:03.528Z"
   },
   {
    "duration": 77,
    "start_time": "2022-02-04T10:53:06.770Z"
   },
   {
    "duration": 200,
    "start_time": "2022-02-04T10:53:59.043Z"
   },
   {
    "duration": 4780,
    "start_time": "2022-02-04T10:54:50.363Z"
   },
   {
    "duration": 187,
    "start_time": "2022-02-04T10:54:58.188Z"
   },
   {
    "duration": 7,
    "start_time": "2022-02-04T10:55:20.713Z"
   },
   {
    "duration": 5,
    "start_time": "2022-02-04T10:55:57.617Z"
   },
   {
    "duration": 6,
    "start_time": "2022-02-04T10:56:03.089Z"
   },
   {
    "duration": 254,
    "start_time": "2022-02-04T10:56:10.051Z"
   },
   {
    "duration": 5,
    "start_time": "2022-02-04T10:56:16.185Z"
   },
   {
    "duration": 7,
    "start_time": "2022-02-04T10:56:22.884Z"
   },
   {
    "duration": 5,
    "start_time": "2022-02-04T10:56:26.948Z"
   },
   {
    "duration": 5,
    "start_time": "2022-02-04T10:56:34.366Z"
   },
   {
    "duration": 6,
    "start_time": "2022-02-04T10:56:43.439Z"
   },
   {
    "duration": 5,
    "start_time": "2022-02-04T10:56:46.359Z"
   },
   {
    "duration": 5,
    "start_time": "2022-02-04T10:56:51.449Z"
   },
   {
    "duration": 268,
    "start_time": "2022-02-04T11:10:28.392Z"
   },
   {
    "duration": 3488,
    "start_time": "2022-02-04T11:10:53.085Z"
   },
   {
    "duration": 4,
    "start_time": "2022-02-04T11:11:13.260Z"
   },
   {
    "duration": 4,
    "start_time": "2022-02-04T11:11:13.660Z"
   },
   {
    "duration": 264,
    "start_time": "2022-02-04T11:11:23.044Z"
   },
   {
    "duration": 3205,
    "start_time": "2022-02-04T11:11:42.861Z"
   },
   {
    "duration": 5,
    "start_time": "2022-02-04T11:11:56.284Z"
   },
   {
    "duration": 202,
    "start_time": "2022-02-04T11:12:51.659Z"
   },
   {
    "duration": 254,
    "start_time": "2022-02-04T11:13:03.234Z"
   },
   {
    "duration": 3,
    "start_time": "2022-02-04T11:13:15.068Z"
   },
   {
    "duration": 260,
    "start_time": "2022-02-04T11:13:19.398Z"
   },
   {
    "duration": 7,
    "start_time": "2022-02-04T11:13:23.367Z"
   },
   {
    "duration": 5,
    "start_time": "2022-02-04T11:13:45.948Z"
   },
   {
    "duration": 4,
    "start_time": "2022-02-04T11:13:46.355Z"
   },
   {
    "duration": 342,
    "start_time": "2022-02-04T11:13:47.265Z"
   },
   {
    "duration": 4,
    "start_time": "2022-02-04T11:14:33.867Z"
   },
   {
    "duration": 3,
    "start_time": "2022-02-04T11:14:35.028Z"
   },
   {
    "duration": 246024,
    "start_time": "2022-02-04T11:14:35.561Z"
   },
   {
    "duration": 3461,
    "start_time": "2022-02-04T11:18:41.587Z"
   },
   {
    "duration": 5,
    "start_time": "2022-02-04T11:18:53.590Z"
   },
   {
    "duration": 4,
    "start_time": "2022-02-04T11:18:54.058Z"
   },
   {
    "duration": 4,
    "start_time": "2022-02-04T11:18:54.428Z"
   },
   {
    "duration": 83985,
    "start_time": "2022-02-04T11:18:54.900Z"
   },
   {
    "duration": 3345,
    "start_time": "2022-02-04T11:20:42.566Z"
   },
   {
    "duration": 5,
    "start_time": "2022-02-04T11:20:53.199Z"
   },
   {
    "duration": 5,
    "start_time": "2022-02-04T11:20:58.210Z"
   },
   {
    "duration": 5,
    "start_time": "2022-02-04T11:21:01.467Z"
   },
   {
    "duration": 3281,
    "start_time": "2022-02-04T11:21:31.028Z"
   },
   {
    "duration": 3339,
    "start_time": "2022-02-04T11:21:47.303Z"
   },
   {
    "duration": 14,
    "start_time": "2022-02-04T11:22:24.171Z"
   },
   {
    "duration": 14,
    "start_time": "2022-02-04T11:22:28.609Z"
   },
   {
    "duration": 5,
    "start_time": "2022-02-04T11:23:13.919Z"
   },
   {
    "duration": 4,
    "start_time": "2022-02-04T11:23:17.652Z"
   },
   {
    "duration": 4,
    "start_time": "2022-02-04T11:23:22.328Z"
   },
   {
    "duration": 6,
    "start_time": "2022-02-04T11:23:37.941Z"
   },
   {
    "duration": 4,
    "start_time": "2022-02-04T11:24:07.398Z"
   },
   {
    "duration": 3,
    "start_time": "2022-02-04T11:24:47.121Z"
   },
   {
    "duration": 4,
    "start_time": "2022-02-04T11:24:47.459Z"
   },
   {
    "duration": 4,
    "start_time": "2022-02-04T11:24:47.845Z"
   },
   {
    "duration": 5,
    "start_time": "2022-02-04T11:24:48.582Z"
   },
   {
    "duration": 83965,
    "start_time": "2022-02-04T11:24:49.387Z"
   },
   {
    "duration": 14,
    "start_time": "2022-02-04T11:29:11.768Z"
   },
   {
    "duration": 4,
    "start_time": "2022-02-04T11:29:13.241Z"
   },
   {
    "duration": 4,
    "start_time": "2022-02-04T11:29:13.741Z"
   },
   {
    "duration": 4,
    "start_time": "2022-02-04T11:29:17.519Z"
   },
   {
    "duration": 4,
    "start_time": "2022-02-04T11:29:17.780Z"
   },
   {
    "duration": 5,
    "start_time": "2022-02-04T11:29:18.013Z"
   },
   {
    "duration": 84110,
    "start_time": "2022-02-04T11:29:18.256Z"
   },
   {
    "duration": 14,
    "start_time": "2022-02-04T11:30:42.370Z"
   },
   {
    "duration": 4,
    "start_time": "2022-02-04T11:30:42.388Z"
   },
   {
    "duration": 38,
    "start_time": "2022-02-04T11:30:42.394Z"
   },
   {
    "duration": 4,
    "start_time": "2022-02-04T11:31:54.230Z"
   },
   {
    "duration": 257,
    "start_time": "2022-02-04T11:31:54.484Z"
   },
   {
    "duration": 89,
    "start_time": "2022-02-04T11:31:54.744Z"
   },
   {
    "duration": 5,
    "start_time": "2022-02-04T11:31:54.974Z"
   },
   {
    "duration": 5,
    "start_time": "2022-02-04T11:31:55.278Z"
   },
   {
    "duration": 4,
    "start_time": "2022-02-04T11:32:13.825Z"
   },
   {
    "duration": 5,
    "start_time": "2022-02-04T11:33:33.497Z"
   },
   {
    "duration": 5,
    "start_time": "2022-02-04T11:34:45.971Z"
   },
   {
    "duration": 4,
    "start_time": "2022-02-04T11:34:46.460Z"
   },
   {
    "duration": 4,
    "start_time": "2022-02-04T11:34:48.160Z"
   },
   {
    "duration": 349301,
    "start_time": "2022-02-04T11:35:02.063Z"
   },
   {
    "duration": 5,
    "start_time": "2022-02-04T11:40:56.665Z"
   },
   {
    "duration": 492781,
    "start_time": "2022-02-04T11:40:58.498Z"
   },
   {
    "duration": 4,
    "start_time": "2022-02-04T11:49:12.464Z"
   },
   {
    "duration": 4,
    "start_time": "2022-02-04T11:49:13.050Z"
   },
   {
    "duration": 4,
    "start_time": "2022-02-04T11:49:13.476Z"
   },
   {
    "duration": 220596,
    "start_time": "2022-02-04T11:49:13.898Z"
   },
   {
    "duration": 249,
    "start_time": "2022-02-04T11:52:54.496Z"
   },
   {
    "duration": 5,
    "start_time": "2022-02-04T11:52:54.748Z"
   },
   {
    "duration": 10,
    "start_time": "2022-02-04T11:52:54.755Z"
   },
   {
    "duration": 3677,
    "start_time": "2022-02-04T11:53:46.832Z"
   },
   {
    "duration": 4262,
    "start_time": "2022-02-04T11:53:53.481Z"
   },
   {
    "duration": 3296,
    "start_time": "2022-02-04T11:54:05.051Z"
   },
   {
    "duration": 4,
    "start_time": "2022-02-04T11:54:44.172Z"
   },
   {
    "duration": 4,
    "start_time": "2022-02-04T11:56:38.068Z"
   },
   {
    "duration": 5,
    "start_time": "2022-02-04T11:56:39.174Z"
   },
   {
    "duration": 3,
    "start_time": "2022-02-04T11:56:46.664Z"
   },
   {
    "duration": 3,
    "start_time": "2022-02-04T11:56:57.425Z"
   },
   {
    "duration": 4,
    "start_time": "2022-02-04T11:57:21.540Z"
   },
   {
    "duration": 4,
    "start_time": "2022-02-04T11:57:21.952Z"
   },
   {
    "duration": 3,
    "start_time": "2022-02-04T11:57:22.319Z"
   },
   {
    "duration": 318865,
    "start_time": "2022-02-04T11:57:22.685Z"
   },
   {
    "duration": 693,
    "start_time": "2022-02-04T12:02:41.553Z"
   },
   {
    "duration": 5,
    "start_time": "2022-02-04T12:02:42.250Z"
   },
   {
    "duration": 5,
    "start_time": "2022-02-04T12:02:42.333Z"
   },
   {
    "duration": 4,
    "start_time": "2022-02-04T12:03:33.679Z"
   },
   {
    "duration": 3308,
    "start_time": "2022-02-04T12:03:46.406Z"
   },
   {
    "duration": 1115,
    "start_time": "2022-02-04T12:03:49.717Z"
   },
   {
    "duration": 173,
    "start_time": "2022-02-04T12:03:50.836Z"
   },
   {
    "duration": 125,
    "start_time": "2022-02-04T12:03:51.012Z"
   },
   {
    "duration": 32,
    "start_time": "2022-02-04T12:03:51.139Z"
   },
   {
    "duration": 6,
    "start_time": "2022-02-04T12:03:51.173Z"
   },
   {
    "duration": 10,
    "start_time": "2022-02-04T12:03:51.182Z"
   },
   {
    "duration": 362,
    "start_time": "2022-02-04T12:03:51.197Z"
   },
   {
    "duration": 52,
    "start_time": "2022-02-04T12:03:51.562Z"
   },
   {
    "duration": 126,
    "start_time": "2022-02-04T12:03:51.616Z"
   },
   {
    "duration": 7,
    "start_time": "2022-02-04T12:03:51.744Z"
   },
   {
    "duration": 1526,
    "start_time": "2022-02-04T12:03:51.754Z"
   },
   {
    "duration": 17,
    "start_time": "2022-02-04T12:03:53.283Z"
   },
   {
    "duration": 76,
    "start_time": "2022-02-04T12:03:53.303Z"
   },
   {
    "duration": 29213,
    "start_time": "2022-02-04T12:03:53.381Z"
   },
   {
    "duration": 58,
    "start_time": "2022-02-04T12:04:22.597Z"
   },
   {
    "duration": 11,
    "start_time": "2022-02-04T12:04:22.658Z"
   },
   {
    "duration": 27,
    "start_time": "2022-02-04T12:04:22.671Z"
   },
   {
    "duration": 53,
    "start_time": "2022-02-04T12:04:22.700Z"
   },
   {
    "duration": 30,
    "start_time": "2022-02-04T12:04:22.755Z"
   },
   {
    "duration": 48,
    "start_time": "2022-02-04T12:04:22.787Z"
   },
   {
    "duration": 95,
    "start_time": "2022-02-04T12:04:22.838Z"
   },
   {
    "duration": 38,
    "start_time": "2022-02-04T12:04:22.939Z"
   },
   {
    "duration": 45,
    "start_time": "2022-02-04T12:04:23.034Z"
   },
   {
    "duration": 39,
    "start_time": "2022-02-04T12:04:23.082Z"
   },
   {
    "duration": 47,
    "start_time": "2022-02-04T12:04:23.124Z"
   },
   {
    "duration": 63,
    "start_time": "2022-02-04T12:04:23.174Z"
   },
   {
    "duration": 26,
    "start_time": "2022-02-04T12:04:23.240Z"
   },
   {
    "duration": 5,
    "start_time": "2022-02-04T12:04:23.268Z"
   },
   {
    "duration": 60,
    "start_time": "2022-02-04T12:04:23.275Z"
   },
   {
    "duration": 38,
    "start_time": "2022-02-04T12:04:23.338Z"
   },
   {
    "duration": 53,
    "start_time": "2022-02-04T12:04:23.379Z"
   },
   {
    "duration": 649,
    "start_time": "2022-02-04T12:04:23.435Z"
   },
   {
    "duration": 102,
    "start_time": "2022-02-04T12:04:24.087Z"
   },
   {
    "duration": 4,
    "start_time": "2022-02-04T12:04:24.191Z"
   },
   {
    "duration": 8,
    "start_time": "2022-02-04T12:04:24.197Z"
   },
   {
    "duration": 242,
    "start_time": "2022-02-04T12:04:24.207Z"
   },
   {
    "duration": 182,
    "start_time": "2022-02-04T12:04:24.451Z"
   },
   {
    "duration": 96,
    "start_time": "2022-02-04T12:04:24.637Z"
   },
   {
    "duration": 4,
    "start_time": "2022-02-04T12:04:24.735Z"
   },
   {
    "duration": 11,
    "start_time": "2022-02-04T12:04:24.741Z"
   },
   {
    "duration": 6,
    "start_time": "2022-02-04T12:04:24.754Z"
   },
   {
    "duration": 9,
    "start_time": "2022-02-04T12:04:24.763Z"
   },
   {
    "duration": 83738,
    "start_time": "2022-02-04T12:04:24.774Z"
   },
   {
    "duration": 23,
    "start_time": "2022-02-04T12:05:48.515Z"
   },
   {
    "duration": 5,
    "start_time": "2022-02-04T12:05:48.540Z"
   },
   {
    "duration": 10,
    "start_time": "2022-02-04T12:05:48.548Z"
   },
   {
    "duration": 88,
    "start_time": "2022-02-04T12:05:48.560Z"
   },
   {
    "duration": -34,
    "start_time": "2022-02-04T12:05:48.684Z"
   },
   {
    "duration": -35,
    "start_time": "2022-02-04T12:05:48.687Z"
   },
   {
    "duration": -37,
    "start_time": "2022-02-04T12:05:48.690Z"
   },
   {
    "duration": -37,
    "start_time": "2022-02-04T12:05:48.692Z"
   },
   {
    "duration": -37,
    "start_time": "2022-02-04T12:05:48.694Z"
   },
   {
    "duration": -38,
    "start_time": "2022-02-04T12:05:48.696Z"
   },
   {
    "duration": -38,
    "start_time": "2022-02-04T12:05:48.698Z"
   },
   {
    "duration": -39,
    "start_time": "2022-02-04T12:05:48.700Z"
   },
   {
    "duration": -39,
    "start_time": "2022-02-04T12:05:48.702Z"
   },
   {
    "duration": -41,
    "start_time": "2022-02-04T12:05:48.705Z"
   },
   {
    "duration": -43,
    "start_time": "2022-02-04T12:05:48.708Z"
   },
   {
    "duration": -43,
    "start_time": "2022-02-04T12:05:48.710Z"
   },
   {
    "duration": -44,
    "start_time": "2022-02-04T12:05:48.712Z"
   },
   {
    "duration": -44,
    "start_time": "2022-02-04T12:05:48.714Z"
   },
   {
    "duration": 5,
    "start_time": "2022-02-04T12:21:41.671Z"
   },
   {
    "duration": 4,
    "start_time": "2022-02-04T12:21:41.929Z"
   },
   {
    "duration": 4,
    "start_time": "2022-02-04T12:21:42.138Z"
   },
   {
    "duration": 31678,
    "start_time": "2022-02-04T12:21:42.342Z"
   },
   {
    "duration": 48,
    "start_time": "2022-02-04T12:22:14.023Z"
   },
   {
    "duration": 5,
    "start_time": "2022-02-04T12:22:14.074Z"
   },
   {
    "duration": 6,
    "start_time": "2022-02-04T12:22:14.082Z"
   },
   {
    "duration": 8,
    "start_time": "2022-02-04T12:22:14.090Z"
   },
   {
    "duration": 33,
    "start_time": "2022-02-04T12:22:14.101Z"
   },
   {
    "duration": 7,
    "start_time": "2022-02-04T12:22:14.137Z"
   },
   {
    "duration": 297588,
    "start_time": "2022-02-04T12:22:14.149Z"
   },
   {
    "duration": 706,
    "start_time": "2022-02-04T12:27:11.740Z"
   },
   {
    "duration": 5,
    "start_time": "2022-02-04T12:27:12.448Z"
   },
   {
    "duration": 11,
    "start_time": "2022-02-04T12:27:12.456Z"
   },
   {
    "duration": 3471,
    "start_time": "2022-02-04T13:26:02.026Z"
   },
   {
    "duration": 5,
    "start_time": "2022-02-04T13:26:57.293Z"
   },
   {
    "duration": 276,
    "start_time": "2022-02-04T13:38:31.187Z"
   },
   {
    "duration": 3286,
    "start_time": "2022-02-04T13:38:47.200Z"
   },
   {
    "duration": 5,
    "start_time": "2022-02-04T13:38:55.579Z"
   },
   {
    "duration": 5,
    "start_time": "2022-02-04T13:48:44.918Z"
   },
   {
    "duration": 6,
    "start_time": "2022-02-04T13:48:46.247Z"
   },
   {
    "duration": 4,
    "start_time": "2022-02-04T13:48:51.520Z"
   },
   {
    "duration": 13981,
    "start_time": "2022-02-04T13:48:52.984Z"
   },
   {
    "duration": 705,
    "start_time": "2022-02-04T13:49:06.968Z"
   },
   {
    "duration": 4,
    "start_time": "2022-02-04T13:50:35.045Z"
   },
   {
    "duration": 4,
    "start_time": "2022-02-04T13:50:35.269Z"
   },
   {
    "duration": 828549,
    "start_time": "2022-02-04T13:50:35.546Z"
   },
   {
    "duration": 488,
    "start_time": "2022-02-04T14:04:24.097Z"
   },
   {
    "duration": 5,
    "start_time": "2022-02-04T14:04:24.588Z"
   },
   {
    "duration": 6,
    "start_time": "2022-02-04T14:04:24.595Z"
   },
   {
    "duration": 28,
    "start_time": "2022-02-04T14:04:24.604Z"
   },
   {
    "duration": 4,
    "start_time": "2022-02-04T14:06:10.088Z"
   },
   {
    "duration": 5,
    "start_time": "2022-02-04T14:06:19.338Z"
   },
   {
    "duration": 6,
    "start_time": "2022-02-04T14:06:23.548Z"
   },
   {
    "duration": 4,
    "start_time": "2022-02-04T14:13:19.362Z"
   },
   {
    "duration": 4,
    "start_time": "2022-02-04T14:14:44.546Z"
   },
   {
    "duration": 4,
    "start_time": "2022-02-04T14:15:00.347Z"
   },
   {
    "duration": 3,
    "start_time": "2022-02-04T14:16:42.437Z"
   },
   {
    "duration": 4,
    "start_time": "2022-02-04T14:18:24.084Z"
   },
   {
    "duration": 4,
    "start_time": "2022-02-04T14:18:24.352Z"
   },
   {
    "duration": 4,
    "start_time": "2022-02-04T14:18:24.640Z"
   },
   {
    "duration": 607439,
    "start_time": "2022-02-04T14:18:24.924Z"
   },
   {
    "duration": 19,
    "start_time": "2022-02-04T14:28:32.366Z"
   },
   {
    "duration": 6,
    "start_time": "2022-02-04T14:28:32.387Z"
   },
   {
    "duration": 5,
    "start_time": "2022-02-04T14:47:28.290Z"
   },
   {
    "duration": 6,
    "start_time": "2022-02-04T14:47:40.955Z"
   },
   {
    "duration": 5,
    "start_time": "2022-02-04T14:47:46.197Z"
   },
   {
    "duration": 4,
    "start_time": "2022-02-04T14:47:58.620Z"
   },
   {
    "duration": 258,
    "start_time": "2022-02-04T14:49:23.943Z"
   },
   {
    "duration": 270,
    "start_time": "2022-02-04T14:50:07.150Z"
   },
   {
    "duration": 5,
    "start_time": "2022-02-04T14:50:11.293Z"
   },
   {
    "duration": 6,
    "start_time": "2022-02-04T14:50:49.157Z"
   },
   {
    "duration": 4,
    "start_time": "2022-02-04T14:50:55.037Z"
   },
   {
    "duration": 338,
    "start_time": "2022-02-04T14:50:56.830Z"
   },
   {
    "duration": 3,
    "start_time": "2022-02-04T14:51:25.119Z"
   },
   {
    "duration": 246,
    "start_time": "2022-02-04T14:51:39.614Z"
   },
   {
    "duration": 256,
    "start_time": "2022-02-04T14:51:43.051Z"
   },
   {
    "duration": 605,
    "start_time": "2022-02-04T14:51:54.034Z"
   },
   {
    "duration": 4,
    "start_time": "2022-02-04T14:52:46.800Z"
   },
   {
    "duration": 12,
    "start_time": "2022-02-04T14:52:51.804Z"
   },
   {
    "duration": 4926,
    "start_time": "2022-02-04T14:53:15.958Z"
   },
   {
    "duration": 310,
    "start_time": "2022-02-04T14:53:28.196Z"
   },
   {
    "duration": 14,
    "start_time": "2022-02-04T14:54:10.140Z"
   },
   {
    "duration": 258,
    "start_time": "2022-02-04T14:54:34.406Z"
   },
   {
    "duration": 8,
    "start_time": "2022-02-04T14:55:02.810Z"
   },
   {
    "duration": 267,
    "start_time": "2022-02-04T14:55:46.774Z"
   },
   {
    "duration": 1021,
    "start_time": "2022-02-04T14:56:53.301Z"
   },
   {
    "duration": 12,
    "start_time": "2022-02-04T14:57:03.848Z"
   },
   {
    "duration": 10,
    "start_time": "2022-02-04T14:57:06.542Z"
   },
   {
    "duration": 557,
    "start_time": "2022-02-04T14:57:10.369Z"
   },
   {
    "duration": 556,
    "start_time": "2022-02-04T14:58:41.027Z"
   },
   {
    "duration": 532,
    "start_time": "2022-02-04T14:58:46.917Z"
   },
   {
    "duration": 531,
    "start_time": "2022-02-04T14:59:22.207Z"
   },
   {
    "duration": 558,
    "start_time": "2022-02-04T14:59:44.802Z"
   },
   {
    "duration": 1294,
    "start_time": "2022-02-04T15:00:08.313Z"
   },
   {
    "duration": 547,
    "start_time": "2022-02-04T15:00:31.038Z"
   },
   {
    "duration": 551,
    "start_time": "2022-02-04T15:00:37.810Z"
   },
   {
    "duration": 541,
    "start_time": "2022-02-04T15:00:54.384Z"
   },
   {
    "duration": 560,
    "start_time": "2022-02-04T15:00:59.246Z"
   },
   {
    "duration": 546,
    "start_time": "2022-02-04T15:01:25.080Z"
   },
   {
    "duration": 570,
    "start_time": "2022-02-04T15:02:02.743Z"
   },
   {
    "duration": 90,
    "start_time": "2022-02-04T15:02:42.602Z"
   },
   {
    "duration": 13,
    "start_time": "2022-02-04T15:04:19.129Z"
   },
   {
    "duration": 14,
    "start_time": "2022-02-04T15:21:02.117Z"
   },
   {
    "duration": 697,
    "start_time": "2022-02-04T15:23:47.186Z"
   },
   {
    "duration": 755,
    "start_time": "2022-02-04T15:24:36.002Z"
   },
   {
    "duration": 739,
    "start_time": "2022-02-04T15:24:40.835Z"
   },
   {
    "duration": 590,
    "start_time": "2022-02-04T15:25:00.585Z"
   },
   {
    "duration": 580,
    "start_time": "2022-02-04T15:25:18.673Z"
   },
   {
    "duration": 545,
    "start_time": "2022-02-04T15:25:44.020Z"
   },
   {
    "duration": 95392,
    "start_time": "2022-02-05T06:26:04.174Z"
   },
   {
    "duration": 7880,
    "start_time": "2022-02-05T06:27:41.584Z"
   },
   {
    "duration": 908,
    "start_time": "2022-02-05T06:27:49.466Z"
   },
   {
    "duration": 131,
    "start_time": "2022-02-05T06:27:50.376Z"
   },
   {
    "duration": 122,
    "start_time": "2022-02-05T06:27:50.509Z"
   },
   {
    "duration": 31,
    "start_time": "2022-02-05T06:27:50.633Z"
   },
   {
    "duration": 5,
    "start_time": "2022-02-05T06:27:50.666Z"
   },
   {
    "duration": 6,
    "start_time": "2022-02-05T06:27:50.673Z"
   },
   {
    "duration": 311,
    "start_time": "2022-02-05T06:27:50.683Z"
   },
   {
    "duration": 36,
    "start_time": "2022-02-05T06:27:50.997Z"
   },
   {
    "duration": 86,
    "start_time": "2022-02-05T06:27:51.035Z"
   },
   {
    "duration": 6,
    "start_time": "2022-02-05T06:27:51.123Z"
   },
   {
    "duration": 268,
    "start_time": "2022-02-05T06:27:51.131Z"
   },
   {
    "duration": -24,
    "start_time": "2022-02-05T06:27:51.427Z"
   },
   {
    "duration": -32,
    "start_time": "2022-02-05T06:27:51.436Z"
   },
   {
    "duration": -35,
    "start_time": "2022-02-05T06:27:51.439Z"
   },
   {
    "duration": -37,
    "start_time": "2022-02-05T06:27:51.442Z"
   },
   {
    "duration": -38,
    "start_time": "2022-02-05T06:27:51.444Z"
   },
   {
    "duration": -47,
    "start_time": "2022-02-05T06:27:51.454Z"
   },
   {
    "duration": -49,
    "start_time": "2022-02-05T06:27:51.457Z"
   },
   {
    "duration": -50,
    "start_time": "2022-02-05T06:27:51.459Z"
   },
   {
    "duration": -52,
    "start_time": "2022-02-05T06:27:51.462Z"
   },
   {
    "duration": -60,
    "start_time": "2022-02-05T06:27:51.471Z"
   },
   {
    "duration": -61,
    "start_time": "2022-02-05T06:27:51.474Z"
   },
   {
    "duration": -64,
    "start_time": "2022-02-05T06:27:51.477Z"
   },
   {
    "duration": -65,
    "start_time": "2022-02-05T06:27:51.479Z"
   },
   {
    "duration": -67,
    "start_time": "2022-02-05T06:27:51.482Z"
   },
   {
    "duration": -68,
    "start_time": "2022-02-05T06:27:51.484Z"
   },
   {
    "duration": -71,
    "start_time": "2022-02-05T06:27:51.488Z"
   },
   {
    "duration": -72,
    "start_time": "2022-02-05T06:27:51.490Z"
   },
   {
    "duration": -74,
    "start_time": "2022-02-05T06:27:51.493Z"
   },
   {
    "duration": -75,
    "start_time": "2022-02-05T06:27:51.495Z"
   },
   {
    "duration": -77,
    "start_time": "2022-02-05T06:27:51.498Z"
   },
   {
    "duration": -78,
    "start_time": "2022-02-05T06:27:51.500Z"
   },
   {
    "duration": -80,
    "start_time": "2022-02-05T06:27:51.503Z"
   },
   {
    "duration": -82,
    "start_time": "2022-02-05T06:27:51.506Z"
   },
   {
    "duration": -84,
    "start_time": "2022-02-05T06:27:51.509Z"
   },
   {
    "duration": -85,
    "start_time": "2022-02-05T06:27:51.511Z"
   },
   {
    "duration": -87,
    "start_time": "2022-02-05T06:27:51.514Z"
   },
   {
    "duration": -88,
    "start_time": "2022-02-05T06:27:51.516Z"
   },
   {
    "duration": -90,
    "start_time": "2022-02-05T06:27:51.519Z"
   },
   {
    "duration": -92,
    "start_time": "2022-02-05T06:27:51.522Z"
   },
   {
    "duration": -94,
    "start_time": "2022-02-05T06:27:51.525Z"
   },
   {
    "duration": -95,
    "start_time": "2022-02-05T06:27:51.527Z"
   },
   {
    "duration": -97,
    "start_time": "2022-02-05T06:27:51.530Z"
   },
   {
    "duration": -99,
    "start_time": "2022-02-05T06:27:51.532Z"
   },
   {
    "duration": -101,
    "start_time": "2022-02-05T06:27:51.535Z"
   },
   {
    "duration": -103,
    "start_time": "2022-02-05T06:27:51.538Z"
   },
   {
    "duration": -105,
    "start_time": "2022-02-05T06:27:51.541Z"
   },
   {
    "duration": -107,
    "start_time": "2022-02-05T06:27:51.544Z"
   },
   {
    "duration": -119,
    "start_time": "2022-02-05T06:27:51.557Z"
   },
   {
    "duration": -120,
    "start_time": "2022-02-05T06:27:51.559Z"
   },
   {
    "duration": -123,
    "start_time": "2022-02-05T06:27:51.562Z"
   },
   {
    "duration": -124,
    "start_time": "2022-02-05T06:27:51.564Z"
   },
   {
    "duration": -126,
    "start_time": "2022-02-05T06:27:51.567Z"
   },
   {
    "duration": -111,
    "start_time": "2022-02-05T06:27:51.570Z"
   },
   {
    "duration": -113,
    "start_time": "2022-02-05T06:27:51.573Z"
   },
   {
    "duration": -115,
    "start_time": "2022-02-05T06:27:51.575Z"
   },
   {
    "duration": -117,
    "start_time": "2022-02-05T06:27:51.578Z"
   },
   {
    "duration": -119,
    "start_time": "2022-02-05T06:27:51.581Z"
   },
   {
    "duration": -120,
    "start_time": "2022-02-05T06:27:51.583Z"
   },
   {
    "duration": -122,
    "start_time": "2022-02-05T06:27:51.586Z"
   },
   {
    "duration": -124,
    "start_time": "2022-02-05T06:27:51.589Z"
   },
   {
    "duration": -127,
    "start_time": "2022-02-05T06:27:51.592Z"
   },
   {
    "duration": -128,
    "start_time": "2022-02-05T06:27:51.594Z"
   },
   {
    "duration": -130,
    "start_time": "2022-02-05T06:27:51.597Z"
   },
   {
    "duration": -132,
    "start_time": "2022-02-05T06:27:51.600Z"
   },
   {
    "duration": -133,
    "start_time": "2022-02-05T06:27:51.602Z"
   },
   {
    "duration": -135,
    "start_time": "2022-02-05T06:27:51.605Z"
   },
   {
    "duration": -137,
    "start_time": "2022-02-05T06:27:51.608Z"
   },
   {
    "duration": -139,
    "start_time": "2022-02-05T06:27:51.610Z"
   },
   {
    "duration": -141,
    "start_time": "2022-02-05T06:27:51.613Z"
   },
   {
    "duration": -143,
    "start_time": "2022-02-05T06:27:51.616Z"
   },
   {
    "duration": -144,
    "start_time": "2022-02-05T06:27:51.618Z"
   },
   {
    "duration": -146,
    "start_time": "2022-02-05T06:27:51.621Z"
   },
   {
    "duration": -150,
    "start_time": "2022-02-05T06:27:51.626Z"
   },
   {
    "duration": -152,
    "start_time": "2022-02-05T06:27:51.629Z"
   },
   {
    "duration": -153,
    "start_time": "2022-02-05T06:27:51.631Z"
   },
   {
    "duration": -155,
    "start_time": "2022-02-05T06:27:51.634Z"
   },
   {
    "duration": -157,
    "start_time": "2022-02-05T06:27:51.637Z"
   },
   {
    "duration": -159,
    "start_time": "2022-02-05T06:27:51.640Z"
   },
   {
    "duration": 104915,
    "start_time": "2022-02-05T06:28:07.928Z"
   },
   {
    "duration": 39025,
    "start_time": "2022-02-05T06:30:19.562Z"
   },
   {
    "duration": 839,
    "start_time": "2022-02-05T06:30:58.589Z"
   },
   {
    "duration": 122,
    "start_time": "2022-02-05T06:30:59.431Z"
   },
   {
    "duration": 112,
    "start_time": "2022-02-05T06:30:59.555Z"
   },
   {
    "duration": 21,
    "start_time": "2022-02-05T06:30:59.669Z"
   },
   {
    "duration": 5,
    "start_time": "2022-02-05T06:30:59.692Z"
   },
   {
    "duration": 4,
    "start_time": "2022-02-05T06:30:59.698Z"
   },
   {
    "duration": 293,
    "start_time": "2022-02-05T06:30:59.704Z"
   },
   {
    "duration": 40,
    "start_time": "2022-02-05T06:30:59.999Z"
   },
   {
    "duration": 73,
    "start_time": "2022-02-05T06:31:00.234Z"
   },
   {
    "duration": 7,
    "start_time": "2022-02-05T06:31:00.739Z"
   },
   {
    "duration": 826,
    "start_time": "2022-02-05T06:31:01.136Z"
   },
   {
    "duration": 12,
    "start_time": "2022-02-05T06:31:02.795Z"
   },
   {
    "duration": 39,
    "start_time": "2022-02-05T06:31:03.982Z"
   },
   {
    "duration": 17060,
    "start_time": "2022-02-05T06:31:04.404Z"
   },
   {
    "duration": 37,
    "start_time": "2022-02-05T06:31:21.465Z"
   },
   {
    "duration": 10,
    "start_time": "2022-02-05T06:31:21.504Z"
   },
   {
    "duration": 17,
    "start_time": "2022-02-05T06:31:21.516Z"
   },
   {
    "duration": 48,
    "start_time": "2022-02-05T06:31:21.535Z"
   },
   {
    "duration": 19,
    "start_time": "2022-02-05T06:31:21.584Z"
   },
   {
    "duration": 33,
    "start_time": "2022-02-05T06:31:21.604Z"
   },
   {
    "duration": 63,
    "start_time": "2022-02-05T06:31:21.639Z"
   },
   {
    "duration": 29,
    "start_time": "2022-02-05T06:31:21.704Z"
   },
   {
    "duration": 46,
    "start_time": "2022-02-05T06:31:21.734Z"
   },
   {
    "duration": 18,
    "start_time": "2022-02-05T06:31:21.782Z"
   },
   {
    "duration": 31,
    "start_time": "2022-02-05T06:31:21.802Z"
   },
   {
    "duration": 35,
    "start_time": "2022-02-05T06:31:21.835Z"
   },
   {
    "duration": 19,
    "start_time": "2022-02-05T06:31:21.872Z"
   },
   {
    "duration": 3,
    "start_time": "2022-02-05T06:31:21.893Z"
   },
   {
    "duration": 5,
    "start_time": "2022-02-05T06:31:21.897Z"
   },
   {
    "duration": 26,
    "start_time": "2022-02-05T06:31:21.904Z"
   },
   {
    "duration": 3,
    "start_time": "2022-02-05T06:31:21.931Z"
   },
   {
    "duration": 3,
    "start_time": "2022-02-05T06:31:26.027Z"
   },
   {
    "duration": 358,
    "start_time": "2022-02-05T06:31:28.616Z"
   },
   {
    "duration": 11,
    "start_time": "2022-02-05T06:31:57.481Z"
   },
   {
    "duration": 745,
    "start_time": "2022-02-05T07:02:34.016Z"
   },
   {
    "duration": 11,
    "start_time": "2022-02-05T07:03:11.331Z"
   },
   {
    "duration": 537,
    "start_time": "2022-02-05T07:03:39.797Z"
   },
   {
    "duration": 18,
    "start_time": "2022-02-05T07:03:45.603Z"
   },
   {
    "duration": 526,
    "start_time": "2022-02-05T07:04:15.354Z"
   },
   {
    "duration": 501,
    "start_time": "2022-02-05T07:04:20.304Z"
   },
   {
    "duration": 19,
    "start_time": "2022-02-05T07:04:21.220Z"
   },
   {
    "duration": 13,
    "start_time": "2022-02-05T07:09:13.112Z"
   },
   {
    "duration": 11,
    "start_time": "2022-02-05T07:09:28.614Z"
   },
   {
    "duration": 100078,
    "start_time": "2022-02-05T07:09:46.795Z"
   },
   {
    "duration": 745,
    "start_time": "2022-02-05T07:11:26.875Z"
   },
   {
    "duration": 115,
    "start_time": "2022-02-05T07:11:27.622Z"
   },
   {
    "duration": 95,
    "start_time": "2022-02-05T07:11:27.739Z"
   },
   {
    "duration": 30,
    "start_time": "2022-02-05T07:11:27.836Z"
   },
   {
    "duration": 4,
    "start_time": "2022-02-05T07:11:27.868Z"
   },
   {
    "duration": 5,
    "start_time": "2022-02-05T07:11:27.874Z"
   },
   {
    "duration": 217,
    "start_time": "2022-02-05T07:11:27.881Z"
   },
   {
    "duration": 35,
    "start_time": "2022-02-05T07:11:28.100Z"
   },
   {
    "duration": 75,
    "start_time": "2022-02-05T07:11:28.136Z"
   },
   {
    "duration": 6,
    "start_time": "2022-02-05T07:11:28.213Z"
   },
   {
    "duration": 805,
    "start_time": "2022-02-05T07:11:28.220Z"
   },
   {
    "duration": 10,
    "start_time": "2022-02-05T07:11:29.027Z"
   },
   {
    "duration": 42,
    "start_time": "2022-02-05T07:11:29.038Z"
   },
   {
    "duration": 18327,
    "start_time": "2022-02-05T07:11:29.082Z"
   },
   {
    "duration": 30,
    "start_time": "2022-02-05T07:11:47.411Z"
   },
   {
    "duration": 22,
    "start_time": "2022-02-05T07:11:47.442Z"
   },
   {
    "duration": 17,
    "start_time": "2022-02-05T07:11:47.466Z"
   },
   {
    "duration": 29,
    "start_time": "2022-02-05T07:11:47.485Z"
   },
   {
    "duration": 22,
    "start_time": "2022-02-05T07:11:47.516Z"
   },
   {
    "duration": 46,
    "start_time": "2022-02-05T07:11:47.540Z"
   },
   {
    "duration": 49,
    "start_time": "2022-02-05T07:11:47.587Z"
   },
   {
    "duration": 41,
    "start_time": "2022-02-05T07:11:47.639Z"
   },
   {
    "duration": 31,
    "start_time": "2022-02-05T07:11:47.682Z"
   },
   {
    "duration": 21,
    "start_time": "2022-02-05T07:11:47.714Z"
   },
   {
    "duration": 53,
    "start_time": "2022-02-05T07:11:47.737Z"
   },
   {
    "duration": 20,
    "start_time": "2022-02-05T07:11:47.792Z"
   },
   {
    "duration": 18,
    "start_time": "2022-02-05T07:11:47.813Z"
   },
   {
    "duration": 27,
    "start_time": "2022-02-05T07:11:47.832Z"
   },
   {
    "duration": 4,
    "start_time": "2022-02-05T07:11:47.861Z"
   },
   {
    "duration": 32,
    "start_time": "2022-02-05T07:11:47.866Z"
   },
   {
    "duration": 2,
    "start_time": "2022-02-05T07:11:47.900Z"
   },
   {
    "duration": 6,
    "start_time": "2022-02-05T07:11:47.904Z"
   },
   {
    "duration": 15,
    "start_time": "2022-02-05T07:11:47.912Z"
   },
   {
    "duration": 508,
    "start_time": "2022-02-05T07:11:47.928Z"
   },
   {
    "duration": 13,
    "start_time": "2022-02-05T07:11:48.438Z"
   },
   {
    "duration": 13,
    "start_time": "2022-02-05T07:18:01.606Z"
   },
   {
    "duration": 13,
    "start_time": "2022-02-05T07:18:05.078Z"
   },
   {
    "duration": 522,
    "start_time": "2022-02-05T07:18:12.258Z"
   },
   {
    "duration": 21,
    "start_time": "2022-02-05T07:18:42.356Z"
   },
   {
    "duration": 13,
    "start_time": "2022-02-05T07:18:42.736Z"
   },
   {
    "duration": 12,
    "start_time": "2022-02-05T07:18:55.780Z"
   },
   {
    "duration": 30,
    "start_time": "2022-02-05T07:18:59.889Z"
   },
   {
    "duration": 40,
    "start_time": "2022-02-05T07:19:12.347Z"
   },
   {
    "duration": 62,
    "start_time": "2022-02-05T07:19:28.630Z"
   },
   {
    "duration": 61,
    "start_time": "2022-02-05T07:19:43.813Z"
   },
   {
    "duration": 432,
    "start_time": "2022-02-05T07:20:00.239Z"
   },
   {
    "duration": 433,
    "start_time": "2022-02-05T07:20:24.520Z"
   },
   {
    "duration": 491,
    "start_time": "2022-02-05T07:20:46.808Z"
   },
   {
    "duration": 435,
    "start_time": "2022-02-05T07:20:52.588Z"
   },
   {
    "duration": 434,
    "start_time": "2022-02-05T07:21:48.535Z"
   },
   {
    "duration": 440,
    "start_time": "2022-02-05T07:21:58.264Z"
   },
   {
    "duration": 468,
    "start_time": "2022-02-05T07:26:52.447Z"
   },
   {
    "duration": 457,
    "start_time": "2022-02-05T07:26:55.584Z"
   },
   {
    "duration": 62,
    "start_time": "2022-02-05T07:37:39.437Z"
   },
   {
    "duration": 121,
    "start_time": "2022-02-05T07:38:22.031Z"
   },
   {
    "duration": 3,
    "start_time": "2022-02-05T07:38:25.279Z"
   },
   {
    "duration": 193,
    "start_time": "2022-02-05T07:38:25.672Z"
   },
   {
    "duration": 181,
    "start_time": "2022-02-05T07:38:26.069Z"
   },
   {
    "duration": 2,
    "start_time": "2022-02-05T07:38:34.343Z"
   },
   {
    "duration": 60,
    "start_time": "2022-02-05T07:38:35.997Z"
   },
   {
    "duration": 3,
    "start_time": "2022-02-05T07:38:36.750Z"
   },
   {
    "duration": 3,
    "start_time": "2022-02-05T07:38:41.394Z"
   },
   {
    "duration": 3,
    "start_time": "2022-02-05T07:38:41.849Z"
   },
   {
    "duration": 3,
    "start_time": "2022-02-05T07:38:42.371Z"
   },
   {
    "duration": 130,
    "start_time": "2022-02-05T07:38:42.979Z"
   },
   {
    "duration": 3,
    "start_time": "2022-02-05T10:11:57.444Z"
   },
   {
    "duration": 3,
    "start_time": "2022-02-05T10:11:57.854Z"
   },
   {
    "duration": 2,
    "start_time": "2022-02-05T10:11:58.522Z"
   },
   {
    "duration": 4654,
    "start_time": "2022-02-05T10:11:58.907Z"
   },
   {
    "duration": 195,
    "start_time": "2022-02-05T10:12:49.156Z"
   },
   {
    "duration": 61,
    "start_time": "2022-02-05T10:13:00.832Z"
   },
   {
    "duration": 78,
    "start_time": "2022-02-05T10:13:40.772Z"
   },
   {
    "duration": 750189,
    "start_time": "2022-02-05T10:13:50.757Z"
   },
   {
    "duration": 4427,
    "start_time": "2022-02-05T10:30:02.298Z"
   },
   {
    "duration": 198,
    "start_time": "2022-02-05T10:30:06.727Z"
   },
   {
    "duration": 175,
    "start_time": "2022-02-05T10:30:16.295Z"
   },
   {
    "duration": 5,
    "start_time": "2022-02-05T10:30:24.177Z"
   },
   {
    "duration": 59,
    "start_time": "2022-02-05T10:38:08.442Z"
   },
   {
    "duration": 630,
    "start_time": "2022-02-05T10:39:28.506Z"
   },
   {
    "duration": 619,
    "start_time": "2022-02-05T10:39:52.306Z"
   },
   {
    "duration": 664,
    "start_time": "2022-02-05T10:40:03.759Z"
   },
   {
    "duration": 590,
    "start_time": "2022-02-05T10:40:30.156Z"
   },
   {
    "duration": 10,
    "start_time": "2022-02-05T10:40:58.139Z"
   },
   {
    "duration": 549,
    "start_time": "2022-02-05T10:41:33.098Z"
   },
   {
    "duration": 14,
    "start_time": "2022-02-05T10:41:36.084Z"
   },
   {
    "duration": 21,
    "start_time": "2022-02-05T10:41:50.516Z"
   },
   {
    "duration": 73,
    "start_time": "2022-02-05T10:41:55.437Z"
   },
   {
    "duration": 3,
    "start_time": "2022-02-05T10:42:29.079Z"
   },
   {
    "duration": 3,
    "start_time": "2022-02-05T10:42:29.506Z"
   },
   {
    "duration": 3,
    "start_time": "2022-02-05T10:42:29.982Z"
   },
   {
    "duration": 135,
    "start_time": "2022-02-05T10:42:30.822Z"
   },
   {
    "duration": 59,
    "start_time": "2022-02-05T10:42:41.674Z"
   },
   {
    "duration": 2,
    "start_time": "2022-02-05T10:42:46.594Z"
   },
   {
    "duration": 246104,
    "start_time": "2022-02-05T10:42:46.963Z"
   },
   {
    "duration": 610,
    "start_time": "2022-02-05T10:48:49.072Z"
   },
   {
    "duration": 4,
    "start_time": "2022-02-05T10:48:50.384Z"
   },
   {
    "duration": 3,
    "start_time": "2022-02-05T10:48:51.564Z"
   },
   {
    "duration": 94,
    "start_time": "2022-02-05T10:49:10.671Z"
   },
   {
    "duration": 56,
    "start_time": "2022-02-05T10:49:17.758Z"
   },
   {
    "duration": 99832,
    "start_time": "2022-02-05T10:49:37.863Z"
   },
   {
    "duration": 740,
    "start_time": "2022-02-05T10:51:17.698Z"
   },
   {
    "duration": 119,
    "start_time": "2022-02-05T10:51:18.440Z"
   },
   {
    "duration": 84,
    "start_time": "2022-02-05T10:51:18.561Z"
   },
   {
    "duration": 27,
    "start_time": "2022-02-05T10:51:18.647Z"
   },
   {
    "duration": 4,
    "start_time": "2022-02-05T10:51:18.675Z"
   },
   {
    "duration": 4,
    "start_time": "2022-02-05T10:51:18.681Z"
   },
   {
    "duration": 225,
    "start_time": "2022-02-05T10:51:18.687Z"
   },
   {
    "duration": 35,
    "start_time": "2022-02-05T10:51:18.914Z"
   },
   {
    "duration": 62,
    "start_time": "2022-02-05T10:51:18.951Z"
   },
   {
    "duration": 6,
    "start_time": "2022-02-05T10:51:19.015Z"
   },
   {
    "duration": 823,
    "start_time": "2022-02-05T10:51:19.022Z"
   },
   {
    "duration": 19,
    "start_time": "2022-02-05T10:51:19.847Z"
   },
   {
    "duration": 30,
    "start_time": "2022-02-05T10:51:19.868Z"
   },
   {
    "duration": 18936,
    "start_time": "2022-02-05T10:51:19.900Z"
   },
   {
    "duration": 39,
    "start_time": "2022-02-05T10:51:38.837Z"
   },
   {
    "duration": 10,
    "start_time": "2022-02-05T10:51:38.878Z"
   },
   {
    "duration": 17,
    "start_time": "2022-02-05T10:51:38.890Z"
   },
   {
    "duration": 51,
    "start_time": "2022-02-05T10:51:38.909Z"
   },
   {
    "duration": 17,
    "start_time": "2022-02-05T10:51:38.962Z"
   },
   {
    "duration": 31,
    "start_time": "2022-02-05T10:51:38.981Z"
   },
   {
    "duration": 70,
    "start_time": "2022-02-05T10:51:39.014Z"
   },
   {
    "duration": 29,
    "start_time": "2022-02-05T10:51:39.088Z"
   },
   {
    "duration": 42,
    "start_time": "2022-02-05T10:51:39.119Z"
   },
   {
    "duration": 20,
    "start_time": "2022-02-05T10:51:39.163Z"
   },
   {
    "duration": 32,
    "start_time": "2022-02-05T10:51:39.184Z"
   },
   {
    "duration": 19,
    "start_time": "2022-02-05T10:51:39.218Z"
   },
   {
    "duration": 36,
    "start_time": "2022-02-05T10:51:39.239Z"
   },
   {
    "duration": 17,
    "start_time": "2022-02-05T10:51:39.277Z"
   },
   {
    "duration": 18,
    "start_time": "2022-02-05T10:51:39.295Z"
   },
   {
    "duration": 34,
    "start_time": "2022-02-05T10:51:39.315Z"
   },
   {
    "duration": 7,
    "start_time": "2022-02-05T10:51:39.350Z"
   },
   {
    "duration": 8,
    "start_time": "2022-02-05T10:51:39.359Z"
   },
   {
    "duration": 25,
    "start_time": "2022-02-05T10:51:39.369Z"
   },
   {
    "duration": 27,
    "start_time": "2022-02-05T10:51:39.395Z"
   },
   {
    "duration": 552,
    "start_time": "2022-02-05T10:51:39.424Z"
   },
   {
    "duration": 62,
    "start_time": "2022-02-05T10:51:39.977Z"
   },
   {
    "duration": 95,
    "start_time": "2022-02-05T10:51:40.041Z"
   },
   {
    "duration": 63,
    "start_time": "2022-02-05T10:51:40.138Z"
   },
   {
    "duration": 2,
    "start_time": "2022-02-05T10:51:40.203Z"
   },
   {
    "duration": 15,
    "start_time": "2022-02-05T10:51:40.207Z"
   },
   {
    "duration": 246,
    "start_time": "2022-02-05T10:51:40.223Z"
   },
   {
    "duration": 90,
    "start_time": "2022-02-05T10:51:40.472Z"
   },
   {
    "duration": 111,
    "start_time": "2022-02-05T10:51:40.564Z"
   },
   {
    "duration": 10,
    "start_time": "2022-02-05T10:51:40.677Z"
   },
   {
    "duration": 24,
    "start_time": "2022-02-05T10:51:40.689Z"
   },
   {
    "duration": 17,
    "start_time": "2022-02-05T10:51:40.715Z"
   },
   {
    "duration": 20,
    "start_time": "2022-02-05T10:51:40.734Z"
   },
   {
    "duration": 67392,
    "start_time": "2022-02-05T10:51:40.756Z"
   },
   {
    "duration": 20,
    "start_time": "2022-02-05T10:52:48.149Z"
   },
   {
    "duration": 4,
    "start_time": "2022-02-05T10:52:48.170Z"
   },
   {
    "duration": 5,
    "start_time": "2022-02-05T10:52:48.176Z"
   },
   {
    "duration": 5,
    "start_time": "2022-02-05T10:52:48.182Z"
   },
   {
    "duration": 6,
    "start_time": "2022-02-05T10:52:48.188Z"
   },
   {
    "duration": 5,
    "start_time": "2022-02-05T10:52:48.195Z"
   },
   {
    "duration": 252503,
    "start_time": "2022-02-05T10:52:48.201Z"
   },
   {
    "duration": 247,
    "start_time": "2022-02-05T10:57:00.705Z"
   },
   {
    "duration": 5,
    "start_time": "2022-02-05T10:57:00.953Z"
   },
   {
    "duration": 6,
    "start_time": "2022-02-05T10:57:00.960Z"
   },
   {
    "duration": 9,
    "start_time": "2022-02-05T10:57:00.968Z"
   },
   {
    "duration": 12,
    "start_time": "2022-02-05T10:57:00.978Z"
   },
   {
    "duration": 15,
    "start_time": "2022-02-05T10:57:00.991Z"
   },
   {
    "duration": 249366,
    "start_time": "2022-02-05T10:57:01.008Z"
   },
   {
    "duration": 599,
    "start_time": "2022-02-05T11:01:10.376Z"
   },
   {
    "duration": 4,
    "start_time": "2022-02-05T11:01:10.976Z"
   },
   {
    "duration": 80,
    "start_time": "2022-02-05T11:01:10.981Z"
   },
   {
    "duration": 6,
    "start_time": "2022-02-05T11:01:11.063Z"
   },
   {
    "duration": 3,
    "start_time": "2022-02-05T11:01:11.074Z"
   },
   {
    "duration": 5,
    "start_time": "2022-02-05T11:01:11.078Z"
   },
   {
    "duration": 545496,
    "start_time": "2022-02-05T11:01:11.085Z"
   },
   {
    "duration": 332,
    "start_time": "2022-02-05T11:10:16.583Z"
   },
   {
    "duration": 4,
    "start_time": "2022-02-05T11:10:16.917Z"
   },
   {
    "duration": 9,
    "start_time": "2022-02-05T11:10:16.923Z"
   },
   {
    "duration": 61,
    "start_time": "2022-02-05T11:10:16.935Z"
   },
   {
    "duration": -61,
    "start_time": "2022-02-05T11:10:17.059Z"
   },
   {
    "duration": -63,
    "start_time": "2022-02-05T11:10:17.062Z"
   },
   {
    "duration": -64,
    "start_time": "2022-02-05T11:10:17.065Z"
   },
   {
    "duration": -66,
    "start_time": "2022-02-05T11:10:17.068Z"
   },
   {
    "duration": -67,
    "start_time": "2022-02-05T11:10:17.071Z"
   },
   {
    "duration": -69,
    "start_time": "2022-02-05T11:10:17.074Z"
   },
   {
    "duration": -71,
    "start_time": "2022-02-05T11:10:17.077Z"
   },
   {
    "duration": -72,
    "start_time": "2022-02-05T11:10:17.080Z"
   },
   {
    "duration": -74,
    "start_time": "2022-02-05T11:10:17.083Z"
   },
   {
    "duration": -76,
    "start_time": "2022-02-05T11:10:17.086Z"
   },
   {
    "duration": -77,
    "start_time": "2022-02-05T11:10:17.089Z"
   },
   {
    "duration": 3,
    "start_time": "2022-02-05T11:15:45.564Z"
   },
   {
    "duration": 3,
    "start_time": "2022-02-05T11:15:45.772Z"
   },
   {
    "duration": 3,
    "start_time": "2022-02-05T11:15:46.154Z"
   },
   {
    "duration": 760034,
    "start_time": "2022-02-05T11:15:46.340Z"
   },
   {
    "duration": 210,
    "start_time": "2022-02-05T11:28:26.376Z"
   },
   {
    "duration": 4,
    "start_time": "2022-02-05T11:28:26.588Z"
   },
   {
    "duration": 6,
    "start_time": "2022-02-05T11:28:26.594Z"
   },
   {
    "duration": 65,
    "start_time": "2022-02-05T11:28:26.601Z"
   },
   {
    "duration": 361,
    "start_time": "2022-02-05T11:28:26.668Z"
   },
   {
    "duration": 335,
    "start_time": "2022-02-05T11:28:27.031Z"
   },
   {
    "duration": 329,
    "start_time": "2022-02-05T11:28:27.368Z"
   },
   {
    "duration": 163,
    "start_time": "2022-02-05T12:35:27.246Z"
   },
   {
    "duration": 225,
    "start_time": "2022-02-05T12:35:30.666Z"
   },
   {
    "duration": 209,
    "start_time": "2022-02-05T12:35:32.461Z"
   },
   {
    "duration": 213,
    "start_time": "2022-02-05T12:35:35.073Z"
   },
   {
    "duration": 188,
    "start_time": "2022-02-05T12:35:38.482Z"
   },
   {
    "duration": 4,
    "start_time": "2022-02-05T12:35:52.238Z"
   },
   {
    "duration": 6,
    "start_time": "2022-02-05T12:35:52.630Z"
   },
   {
    "duration": 332,
    "start_time": "2022-02-05T12:35:53.260Z"
   },
   {
    "duration": 338,
    "start_time": "2022-02-05T12:35:53.595Z"
   },
   {
    "duration": 336,
    "start_time": "2022-02-05T12:35:53.935Z"
   }
  ],
  "kernelspec": {
   "display_name": "Python 3 (ipykernel)",
   "language": "python",
   "name": "python3"
  },
  "language_info": {
   "codemirror_mode": {
    "name": "ipython",
    "version": 3
   },
   "file_extension": ".py",
   "mimetype": "text/x-python",
   "name": "python",
   "nbconvert_exporter": "python",
   "pygments_lexer": "ipython3",
   "version": "3.9.7"
  },
  "toc": {
   "base_numbering": 1,
   "nav_menu": {},
   "number_sections": true,
   "sideBar": true,
   "skip_h1_title": true,
   "title_cell": "Table of Contents",
   "title_sidebar": "Contents",
   "toc_cell": false,
   "toc_position": {},
   "toc_section_display": true,
   "toc_window_display": false
  }
 },
 "nbformat": 4,
 "nbformat_minor": 2
}
