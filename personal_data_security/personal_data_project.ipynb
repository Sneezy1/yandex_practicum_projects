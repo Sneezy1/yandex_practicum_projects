{
 "cells": [
  {
   "cell_type": "markdown",
   "metadata": {},
   "source": [
    "## Загрузка данных"
   ]
  },
  {
   "cell_type": "code",
   "execution_count": 5,
   "metadata": {},
   "outputs": [],
   "source": [
    "import pandas as pd\n",
    "import numpy as np\n",
    "import seaborn as sns\n",
    "np.random.seed(42)\n",
    "from sklearn.model_selection import train_test_split\n",
    "from sklearn.linear_model import LinearRegression\n",
    "from sklearn.metrics import r2_score"
   ]
  },
  {
   "cell_type": "code",
   "execution_count": 6,
   "metadata": {},
   "outputs": [],
   "source": [
    "data = pd.read_csv('/datasets/insurance.csv')"
   ]
  },
  {
   "cell_type": "code",
   "execution_count": 7,
   "metadata": {},
   "outputs": [
    {
     "data": {
      "text/html": [
       "<div>\n",
       "<style scoped>\n",
       "    .dataframe tbody tr th:only-of-type {\n",
       "        vertical-align: middle;\n",
       "    }\n",
       "\n",
       "    .dataframe tbody tr th {\n",
       "        vertical-align: top;\n",
       "    }\n",
       "\n",
       "    .dataframe thead th {\n",
       "        text-align: right;\n",
       "    }\n",
       "</style>\n",
       "<table border=\"1\" class=\"dataframe\">\n",
       "  <thead>\n",
       "    <tr style=\"text-align: right;\">\n",
       "      <th></th>\n",
       "      <th>Пол</th>\n",
       "      <th>Возраст</th>\n",
       "      <th>Зарплата</th>\n",
       "      <th>Члены семьи</th>\n",
       "      <th>Страховые выплаты</th>\n",
       "    </tr>\n",
       "  </thead>\n",
       "  <tbody>\n",
       "    <tr>\n",
       "      <td>1501</td>\n",
       "      <td>1</td>\n",
       "      <td>28.0</td>\n",
       "      <td>56100.0</td>\n",
       "      <td>0</td>\n",
       "      <td>0</td>\n",
       "    </tr>\n",
       "    <tr>\n",
       "      <td>2586</td>\n",
       "      <td>1</td>\n",
       "      <td>32.0</td>\n",
       "      <td>41900.0</td>\n",
       "      <td>2</td>\n",
       "      <td>0</td>\n",
       "    </tr>\n",
       "    <tr>\n",
       "      <td>2653</td>\n",
       "      <td>1</td>\n",
       "      <td>30.0</td>\n",
       "      <td>26300.0</td>\n",
       "      <td>0</td>\n",
       "      <td>0</td>\n",
       "    </tr>\n",
       "    <tr>\n",
       "      <td>1055</td>\n",
       "      <td>1</td>\n",
       "      <td>30.0</td>\n",
       "      <td>37300.0</td>\n",
       "      <td>2</td>\n",
       "      <td>0</td>\n",
       "    </tr>\n",
       "    <tr>\n",
       "      <td>705</td>\n",
       "      <td>0</td>\n",
       "      <td>44.0</td>\n",
       "      <td>30000.0</td>\n",
       "      <td>1</td>\n",
       "      <td>1</td>\n",
       "    </tr>\n",
       "  </tbody>\n",
       "</table>\n",
       "</div>"
      ],
      "text/plain": [
       "      Пол  Возраст  Зарплата  Члены семьи  Страховые выплаты\n",
       "1501    1     28.0   56100.0            0                  0\n",
       "2586    1     32.0   41900.0            2                  0\n",
       "2653    1     30.0   26300.0            0                  0\n",
       "1055    1     30.0   37300.0            2                  0\n",
       "705     0     44.0   30000.0            1                  1"
      ]
     },
     "execution_count": 7,
     "metadata": {},
     "output_type": "execute_result"
    }
   ],
   "source": [
    "data.sample(5)"
   ]
  },
  {
   "cell_type": "markdown",
   "metadata": {},
   "source": [
    "## Умножение матриц"
   ]
  },
  {
   "cell_type": "markdown",
   "metadata": {},
   "source": [
    "В этом задании вы можете записывать формулы в *Jupyter Notebook.*\n",
    "\n",
    "Чтобы записать формулу внутри текста, окружите её символами доллара \\\\$; если снаружи —  двойными символами \\\\$\\\\$. Эти формулы записываются на языке вёрстки *LaTeX.* \n",
    "\n",
    "Для примера мы записали формулы линейной регрессии. Можете их скопировать и отредактировать, чтобы решить задачу.\n",
    "\n",
    "Работать в *LaTeX* необязательно."
   ]
  },
  {
   "cell_type": "markdown",
   "metadata": {},
   "source": [
    "Обозначения:\n",
    "\n",
    "- $X$ — матрица признаков (нулевой столбец состоит из единиц)\n",
    "\n",
    "- $y$ — вектор целевого признака\n",
    "\n",
    "- $P$ — матрица, на которую умножаются признаки\n",
    "\n",
    "- $w$ — вектор весов линейной регрессии (нулевой элемент равен сдвигу)"
   ]
  },
  {
   "cell_type": "markdown",
   "metadata": {},
   "source": [
    "Предсказания:\n",
    "\n",
    "$$\n",
    "a = Xw\n",
    "$$\n",
    "\n",
    "Задача обучения:\n",
    "\n",
    "$$\n",
    "w = \\arg\\min_w MSE(Xw, y)\n",
    "$$\n",
    "\n",
    "Формула обучения:\n",
    "\n",
    "$$\n",
    "w = (X^T X)^{-1} X^T y\n",
    "$$"
   ]
  },
  {
   "cell_type": "markdown",
   "metadata": {},
   "source": [
    "**Ответ:** Изменятся\n",
    "\n",
    "**Обоснование:** Обучение модели заново позволит сохранить качество, поскольку если даже мы умножаем на обратимую матрицу, мы все равно можем обучить нашу линейную регрессию заново, либо умножить коэффициенты регрессии на обратную матрицу."
   ]
  },
  {
   "cell_type": "markdown",
   "metadata": {},
   "source": [
    "$w' = ((XP)^T XP)^{-1} (XP)^T y$"
   ]
  },
  {
   "cell_type": "markdown",
   "metadata": {},
   "source": [
    "Вынесем P из траспонирования"
   ]
  },
  {
   "cell_type": "markdown",
   "metadata": {},
   "source": [
    "$w' = (P^T (X^T X) P)^{-1} (XP)^T y$"
   ]
  },
  {
   "cell_type": "markdown",
   "metadata": {},
   "source": [
    "И для второго P"
   ]
  },
  {
   "cell_type": "markdown",
   "metadata": {},
   "source": [
    "$w' = (P^T (X^T X) P)^{-1} P^T X^T y$"
   ]
  },
  {
   "cell_type": "markdown",
   "metadata": {},
   "source": [
    "Раскроем получение обратной матрицы"
   ]
  },
  {
   "cell_type": "markdown",
   "metadata": {},
   "source": [
    "$w' = P^{-1} (X^T X)^{-1} (P^T)^{-1} P^T X^T y$"
   ]
  },
  {
   "cell_type": "markdown",
   "metadata": {},
   "source": [
    "Умножение $(P^{-1})^T$ на $P^T$ даст нам единичную матрицу"
   ]
  },
  {
   "cell_type": "markdown",
   "metadata": {},
   "source": [
    "$w' = P^{-1} (X^T X)^{-1} E X^T y$"
   ]
  },
  {
   "cell_type": "markdown",
   "metadata": {},
   "source": [
    "Результат умножения матрицы на единичную - та же матрица. Единичная транспонированная матрица равна самой себе."
   ]
  },
  {
   "cell_type": "markdown",
   "metadata": {},
   "source": [
    "$w' = P^{-1} (X^T X)^{-1}X^T y$"
   ]
  },
  {
   "cell_type": "markdown",
   "metadata": {},
   "source": [
    "Мы знаем, что $w = (X^T X)^{-1} X^T y$, получаем"
   ]
  },
  {
   "cell_type": "markdown",
   "metadata": {},
   "source": [
    "$w' =  P^{-1}w$"
   ]
  },
  {
   "cell_type": "markdown",
   "metadata": {},
   "source": [
    "Видим, что при умножении признаков на обратимую матрицу, для обновления весов линейной регресии, достаточно умножить веса на матрицу, обратную к матрице, на которую умножали признаки."
   ]
  },
  {
   "cell_type": "markdown",
   "metadata": {},
   "source": [
    "Пример такой обратимой матрицы:"
   ]
  },
  {
   "cell_type": "code",
   "execution_count": 8,
   "metadata": {},
   "outputs": [
    {
     "data": {
      "text/plain": [
       "array([[0.37454012, 0.95071431, 0.73199394, 0.59865848],\n",
       "       [0.15601864, 0.15599452, 0.05808361, 0.86617615],\n",
       "       [0.60111501, 0.70807258, 0.02058449, 0.96990985],\n",
       "       [0.83244264, 0.21233911, 0.18182497, 0.18340451]])"
      ]
     },
     "execution_count": 8,
     "metadata": {},
     "output_type": "execute_result"
    }
   ],
   "source": [
    "np.random.seed(42)\n",
    "matrix = np.random.rand(4, 4)\n",
    "matrix"
   ]
  },
  {
   "cell_type": "markdown",
   "metadata": {},
   "source": [
    "И теперь найдем обратную матрицу от созданной. И проверим что при умножении матриц друг на друга мы получим единичную матрицу."
   ]
  },
  {
   "cell_type": "code",
   "execution_count": 9,
   "metadata": {},
   "outputs": [
    {
     "data": {
      "text/plain": [
       "array([[-0.32076901, -0.12766508,  0.06141427,  1.32518674],\n",
       "       [ 0.35151041, -1.88500014,  1.65560045, -1.0003883 ],\n",
       "       [ 1.14080312,  1.3467702 , -2.0407373 ,  0.70794071],\n",
       "       [-0.08202687,  1.42666425, -0.17238177, -0.10600441]])"
      ]
     },
     "execution_count": 9,
     "metadata": {},
     "output_type": "execute_result"
    }
   ],
   "source": [
    "inv_matrix = np.linalg.inv(matrix)\n",
    "inv_matrix"
   ]
  },
  {
   "cell_type": "code",
   "execution_count": 10,
   "metadata": {},
   "outputs": [
    {
     "data": {
      "text/plain": [
       "array([[ 1.,  0.,  0.,  0.],\n",
       "       [-0.,  1., -0.,  0.],\n",
       "       [ 0., -0.,  1., -0.],\n",
       "       [ 0., -0., -0.,  1.]])"
      ]
     },
     "execution_count": 10,
     "metadata": {},
     "output_type": "execute_result"
    }
   ],
   "source": [
    "inv_matrix.dot(matrix).round(2)"
   ]
  },
  {
   "cell_type": "markdown",
   "metadata": {},
   "source": [
    "При попытке найти обратную матрицу от матрицы с ЛЗ столбцами или строками мы получим ошибку"
   ]
  },
  {
   "cell_type": "code",
   "execution_count": 11,
   "metadata": {},
   "outputs": [],
   "source": [
    "new_matrix = np.array([[1, 2, 4, 6],\n",
    "                       [1, 2, 4, 6],\n",
    "                       [1, 2, 4, 6],\n",
    "                       [1, 2, 4, 6]])"
   ]
  },
  {
   "cell_type": "code",
   "execution_count": 12,
   "metadata": {},
   "outputs": [],
   "source": [
    "np.linalg.inv(new_matrix)"
   ]
  },
  {
   "cell_type": "markdown",
   "metadata": {},
   "source": [
    "## Алгоритм преобразования"
   ]
  },
  {
   "cell_type": "markdown",
   "metadata": {},
   "source": [
    "**Алгоритм**\n",
    "\n",
    "Для сокрытия персональных данных пользователя, мы можем произвести операцию сложения/деления/умножения/вычитания над матрицей признаков "
   ]
  },
  {
   "cell_type": "markdown",
   "metadata": {},
   "source": [
    "**Обоснование**\n",
    "Произведение указанных операций над матрицей признаков не изменит зависимость признаков от друг друга"
   ]
  },
  {
   "cell_type": "markdown",
   "metadata": {},
   "source": [
    "## Проверка алгоритма"
   ]
  },
  {
   "cell_type": "markdown",
   "metadata": {},
   "source": [
    "Разделим данные на признаки и целевой призак"
   ]
  },
  {
   "cell_type": "code",
   "execution_count": 13,
   "metadata": {},
   "outputs": [
    {
     "name": "stdout",
     "output_type": "stream",
     "text": [
      "(5000, 4) (5000,)\n"
     ]
    }
   ],
   "source": [
    "X = data.drop('Страховые выплаты', axis=1)\n",
    "y = data['Страховые выплаты']\n",
    "print(X.shape, y.shape)"
   ]
  },
  {
   "cell_type": "markdown",
   "metadata": {},
   "source": [
    "Создадим отдельную выборку с измененными признаками пользователей. Для этого умножим матрицу признаков на 3.14"
   ]
  },
  {
   "cell_type": "code",
   "execution_count": 14,
   "metadata": {},
   "outputs": [
    {
     "data": {
      "text/html": [
       "<div>\n",
       "<style scoped>\n",
       "    .dataframe tbody tr th:only-of-type {\n",
       "        vertical-align: middle;\n",
       "    }\n",
       "\n",
       "    .dataframe tbody tr th {\n",
       "        vertical-align: top;\n",
       "    }\n",
       "\n",
       "    .dataframe thead th {\n",
       "        text-align: right;\n",
       "    }\n",
       "</style>\n",
       "<table border=\"1\" class=\"dataframe\">\n",
       "  <thead>\n",
       "    <tr style=\"text-align: right;\">\n",
       "      <th></th>\n",
       "      <th>Пол</th>\n",
       "      <th>Возраст</th>\n",
       "      <th>Зарплата</th>\n",
       "      <th>Члены семьи</th>\n",
       "    </tr>\n",
       "  </thead>\n",
       "  <tbody>\n",
       "    <tr>\n",
       "      <td>4873</td>\n",
       "      <td>3.14</td>\n",
       "      <td>106.76</td>\n",
       "      <td>116494.0</td>\n",
       "      <td>3.14</td>\n",
       "    </tr>\n",
       "    <tr>\n",
       "      <td>1025</td>\n",
       "      <td>3.14</td>\n",
       "      <td>91.06</td>\n",
       "      <td>135648.0</td>\n",
       "      <td>6.28</td>\n",
       "    </tr>\n",
       "    <tr>\n",
       "      <td>3193</td>\n",
       "      <td>3.14</td>\n",
       "      <td>56.52</td>\n",
       "      <td>167676.0</td>\n",
       "      <td>9.42</td>\n",
       "    </tr>\n",
       "    <tr>\n",
       "      <td>2895</td>\n",
       "      <td>0.00</td>\n",
       "      <td>109.90</td>\n",
       "      <td>168618.0</td>\n",
       "      <td>3.14</td>\n",
       "    </tr>\n",
       "    <tr>\n",
       "      <td>4393</td>\n",
       "      <td>3.14</td>\n",
       "      <td>59.66</td>\n",
       "      <td>88548.0</td>\n",
       "      <td>3.14</td>\n",
       "    </tr>\n",
       "  </tbody>\n",
       "</table>\n",
       "</div>"
      ],
      "text/plain": [
       "       Пол  Возраст  Зарплата  Члены семьи\n",
       "4873  3.14   106.76  116494.0         3.14\n",
       "1025  3.14    91.06  135648.0         6.28\n",
       "3193  3.14    56.52  167676.0         9.42\n",
       "2895  0.00   109.90  168618.0         3.14\n",
       "4393  3.14    59.66   88548.0         3.14"
      ]
     },
     "execution_count": 14,
     "metadata": {},
     "output_type": "execute_result"
    }
   ],
   "source": [
    "new_X = X * 3.14\n",
    "new_X.sample(5)"
   ]
  },
  {
   "cell_type": "markdown",
   "metadata": {},
   "source": [
    "И создадим обратимую матрицу для проверки влияния на качество регрессии при умножении этой матрицы на признаки"
   ]
  },
  {
   "cell_type": "code",
   "execution_count": 15,
   "metadata": {},
   "outputs": [
    {
     "data": {
      "text/plain": [
       "array([[0.37454012, 0.95071431, 0.73199394, 0.59865848],\n",
       "       [0.15601864, 0.15599452, 0.05808361, 0.86617615],\n",
       "       [0.60111501, 0.70807258, 0.02058449, 0.96990985],\n",
       "       [0.83244264, 0.21233911, 0.18182497, 0.18340451]])"
      ]
     },
     "execution_count": 15,
     "metadata": {},
     "output_type": "execute_result"
    }
   ],
   "source": [
    "np.random.seed(42)\n",
    "matrix = np.random.rand(4, 4)\n",
    "matrix"
   ]
  },
  {
   "cell_type": "markdown",
   "metadata": {},
   "source": [
    "Убедимся, что для неё существует обратная матрица"
   ]
  },
  {
   "cell_type": "code",
   "execution_count": 16,
   "metadata": {},
   "outputs": [
    {
     "data": {
      "text/plain": [
       "array([[-0.32076901, -0.12766508,  0.06141427,  1.32518674],\n",
       "       [ 0.35151041, -1.88500014,  1.65560045, -1.0003883 ],\n",
       "       [ 1.14080312,  1.3467702 , -2.0407373 ,  0.70794071],\n",
       "       [-0.08202687,  1.42666425, -0.17238177, -0.10600441]])"
      ]
     },
     "execution_count": 16,
     "metadata": {},
     "output_type": "execute_result"
    }
   ],
   "source": [
    "inv_matrix = np.linalg.inv(matrix)\n",
    "inv_matrix"
   ]
  },
  {
   "cell_type": "markdown",
   "metadata": {},
   "source": [
    "Умножим матрицу признаков на созданную обратимую матрицу."
   ]
  },
  {
   "cell_type": "code",
   "execution_count": 17,
   "metadata": {},
   "outputs": [
    {
     "data": {
      "text/html": [
       "<div>\n",
       "<style scoped>\n",
       "    .dataframe tbody tr th:only-of-type {\n",
       "        vertical-align: middle;\n",
       "    }\n",
       "\n",
       "    .dataframe tbody tr th {\n",
       "        vertical-align: top;\n",
       "    }\n",
       "\n",
       "    .dataframe thead th {\n",
       "        text-align: right;\n",
       "    }\n",
       "</style>\n",
       "<table border=\"1\" class=\"dataframe\">\n",
       "  <thead>\n",
       "    <tr style=\"text-align: right;\">\n",
       "      <th></th>\n",
       "      <th>0</th>\n",
       "      <th>1</th>\n",
       "      <th>2</th>\n",
       "      <th>3</th>\n",
       "    </tr>\n",
       "  </thead>\n",
       "  <tbody>\n",
       "    <tr>\n",
       "      <td>4873</td>\n",
       "      <td>22307.878552</td>\n",
       "      <td>26275.959503</td>\n",
       "      <td>766.573400</td>\n",
       "      <td>36013.887567</td>\n",
       "    </tr>\n",
       "    <tr>\n",
       "      <td>1025</td>\n",
       "      <td>25974.732473</td>\n",
       "      <td>30594.634594</td>\n",
       "      <td>892.030222</td>\n",
       "      <td>41926.190189</td>\n",
       "    </tr>\n",
       "    <tr>\n",
       "      <td>3193</td>\n",
       "      <td>32105.221831</td>\n",
       "      <td>37815.471287</td>\n",
       "      <td>1101.534969</td>\n",
       "      <td>51809.926148</td>\n",
       "    </tr>\n",
       "    <tr>\n",
       "      <td>2895</td>\n",
       "      <td>32286.169226</td>\n",
       "      <td>38029.169575</td>\n",
       "      <td>1107.602095</td>\n",
       "      <td>52114.658631</td>\n",
       "    </tr>\n",
       "    <tr>\n",
       "      <td>4393</td>\n",
       "      <td>16955.614668</td>\n",
       "      <td>19971.773643</td>\n",
       "      <td>582.500147</td>\n",
       "      <td>27368.697241</td>\n",
       "    </tr>\n",
       "  </tbody>\n",
       "</table>\n",
       "</div>"
      ],
      "text/plain": [
       "                 0             1            2             3\n",
       "4873  22307.878552  26275.959503   766.573400  36013.887567\n",
       "1025  25974.732473  30594.634594   892.030222  41926.190189\n",
       "3193  32105.221831  37815.471287  1101.534969  51809.926148\n",
       "2895  32286.169226  38029.169575  1107.602095  52114.658631\n",
       "4393  16955.614668  19971.773643   582.500147  27368.697241"
      ]
     },
     "execution_count": 17,
     "metadata": {},
     "output_type": "execute_result"
    }
   ],
   "source": [
    "new_X_mult = X.dot(matrix)\n",
    "new_X_mult.sample(5)"
   ]
  },
  {
   "cell_type": "markdown",
   "metadata": {},
   "source": [
    "И посмотрим на старую матрицу признаков"
   ]
  },
  {
   "cell_type": "code",
   "execution_count": 18,
   "metadata": {},
   "outputs": [
    {
     "data": {
      "text/html": [
       "<div>\n",
       "<style scoped>\n",
       "    .dataframe tbody tr th:only-of-type {\n",
       "        vertical-align: middle;\n",
       "    }\n",
       "\n",
       "    .dataframe tbody tr th {\n",
       "        vertical-align: top;\n",
       "    }\n",
       "\n",
       "    .dataframe thead th {\n",
       "        text-align: right;\n",
       "    }\n",
       "</style>\n",
       "<table border=\"1\" class=\"dataframe\">\n",
       "  <thead>\n",
       "    <tr style=\"text-align: right;\">\n",
       "      <th></th>\n",
       "      <th>Пол</th>\n",
       "      <th>Возраст</th>\n",
       "      <th>Зарплата</th>\n",
       "      <th>Члены семьи</th>\n",
       "    </tr>\n",
       "  </thead>\n",
       "  <tbody>\n",
       "    <tr>\n",
       "      <td>482</td>\n",
       "      <td>1</td>\n",
       "      <td>37.0</td>\n",
       "      <td>41200.0</td>\n",
       "      <td>4</td>\n",
       "    </tr>\n",
       "    <tr>\n",
       "      <td>3127</td>\n",
       "      <td>0</td>\n",
       "      <td>47.0</td>\n",
       "      <td>49700.0</td>\n",
       "      <td>1</td>\n",
       "    </tr>\n",
       "    <tr>\n",
       "      <td>1712</td>\n",
       "      <td>0</td>\n",
       "      <td>26.0</td>\n",
       "      <td>35900.0</td>\n",
       "      <td>1</td>\n",
       "    </tr>\n",
       "    <tr>\n",
       "      <td>2178</td>\n",
       "      <td>0</td>\n",
       "      <td>18.0</td>\n",
       "      <td>43400.0</td>\n",
       "      <td>1</td>\n",
       "    </tr>\n",
       "    <tr>\n",
       "      <td>107</td>\n",
       "      <td>1</td>\n",
       "      <td>24.0</td>\n",
       "      <td>53900.0</td>\n",
       "      <td>2</td>\n",
       "    </tr>\n",
       "  </tbody>\n",
       "</table>\n",
       "</div>"
      ],
      "text/plain": [
       "      Пол  Возраст  Зарплата  Члены семьи\n",
       "482     1     37.0   41200.0            4\n",
       "3127    0     47.0   49700.0            1\n",
       "1712    0     26.0   35900.0            1\n",
       "2178    0     18.0   43400.0            1\n",
       "107     1     24.0   53900.0            2"
      ]
     },
     "execution_count": 18,
     "metadata": {},
     "output_type": "execute_result"
    }
   ],
   "source": [
    "X.sample(5)"
   ]
  },
  {
   "cell_type": "markdown",
   "metadata": {},
   "source": [
    "Разобьем выборки на обучающие и тестовые"
   ]
  },
  {
   "cell_type": "code",
   "execution_count": 19,
   "metadata": {},
   "outputs": [],
   "source": [
    "X_train, X_test, y_train, y_test = train_test_split(X, y, test_size=0.2, random_state=42)"
   ]
  },
  {
   "cell_type": "code",
   "execution_count": 20,
   "metadata": {},
   "outputs": [],
   "source": [
    "X_new_train, X_new_test, y_train, y_test = train_test_split(new_X, y, test_size=0.2, random_state=42)"
   ]
  },
  {
   "cell_type": "code",
   "execution_count": 21,
   "metadata": {},
   "outputs": [],
   "source": [
    "X_new_train_mult, X_new_test_mult, y_train, y_test = train_test_split(new_X_mult, y, test_size=0.2, random_state=42)"
   ]
  },
  {
   "cell_type": "markdown",
   "metadata": {},
   "source": [
    "Обучим модели Линейной регрессии без умножения признаков, с умножением на число и с умножением на обратимую матрицу.   \n",
    "И сравним значение метрики $R^2$"
   ]
  },
  {
   "cell_type": "code",
   "execution_count": 22,
   "metadata": {},
   "outputs": [
    {
     "data": {
      "text/plain": [
       "0.4368694923137991"
      ]
     },
     "execution_count": 22,
     "metadata": {},
     "output_type": "execute_result"
    }
   ],
   "source": [
    "model1 = LinearRegression()\n",
    "model1.fit(X_train, y_train)\n",
    "pred1 = model1.predict(X_test)\n",
    "r2_score(y_test, pred1)"
   ]
  },
  {
   "cell_type": "code",
   "execution_count": 23,
   "metadata": {},
   "outputs": [
    {
     "data": {
      "text/plain": [
       "0.4368694923137998"
      ]
     },
     "execution_count": 23,
     "metadata": {},
     "output_type": "execute_result"
    }
   ],
   "source": [
    "model2 = LinearRegression()\n",
    "model2.fit(X_new_train, y_train)\n",
    "pred2 = model2.predict(X_new_test)\n",
    "r2_score(y_test, pred2)"
   ]
  },
  {
   "cell_type": "code",
   "execution_count": 24,
   "metadata": {},
   "outputs": [
    {
     "data": {
      "text/plain": [
       "0.43686949231383965"
      ]
     },
     "execution_count": 24,
     "metadata": {},
     "output_type": "execute_result"
    }
   ],
   "source": [
    "model3 = LinearRegression()\n",
    "model3.fit(X_new_train_mult, y_train)\n",
    "pred3 = model3.predict(X_new_test_mult)\n",
    "r2_score(y_test, pred3)"
   ]
  },
  {
   "cell_type": "markdown",
   "metadata": {},
   "source": [
    "## Выводы"
   ]
  },
  {
   "cell_type": "markdown",
   "metadata": {},
   "source": [
    "Видим, что мы получили абсолютно одинаковые значения метрики $R^2$, следовательно, нам удалось скрыть данные пользователей и сохранить качество модели, также мы убедились что умножение признаков на обратимую матрицу и переобучение линейной регрессии не влияют на качество регрессии"
   ]
  },
  {
   "cell_type": "code",
   "execution_count": null,
   "metadata": {},
   "outputs": [],
   "source": []
  }
 ],
 "metadata": {
  "ExecuteTimeLog": [
   {
    "duration": 1104,
    "start_time": "2022-01-09T18:51:40.201Z"
   },
   {
    "duration": 19,
    "start_time": "2022-01-09T18:57:32.507Z"
   },
   {
    "duration": 3,
    "start_time": "2022-01-09T18:57:34.319Z"
   },
   {
    "duration": 18,
    "start_time": "2022-01-09T18:57:34.722Z"
   },
   {
    "duration": 11,
    "start_time": "2022-01-09T18:57:44.402Z"
   },
   {
    "duration": 106,
    "start_time": "2022-01-09T19:40:19.896Z"
   },
   {
    "duration": 440,
    "start_time": "2022-01-09T19:50:12.223Z"
   },
   {
    "duration": 4,
    "start_time": "2022-01-09T19:50:19.466Z"
   },
   {
    "duration": 5,
    "start_time": "2022-01-09T19:51:58.207Z"
   },
   {
    "duration": 6,
    "start_time": "2022-01-09T19:52:01.002Z"
   },
   {
    "duration": 4,
    "start_time": "2022-01-09T19:52:08.288Z"
   },
   {
    "duration": 4,
    "start_time": "2022-01-09T20:00:29.986Z"
   },
   {
    "duration": 4,
    "start_time": "2022-01-09T20:00:33.227Z"
   },
   {
    "duration": 4,
    "start_time": "2022-01-09T20:00:42.954Z"
   },
   {
    "duration": 2,
    "start_time": "2022-01-09T20:00:51.715Z"
   },
   {
    "duration": 322,
    "start_time": "2022-01-09T20:01:11.610Z"
   },
   {
    "duration": 329,
    "start_time": "2022-01-09T20:01:20.231Z"
   },
   {
    "duration": 614,
    "start_time": "2022-01-09T20:01:28.452Z"
   },
   {
    "duration": 604,
    "start_time": "2022-01-09T20:01:37.283Z"
   },
   {
    "duration": 3,
    "start_time": "2022-01-09T20:01:45.821Z"
   },
   {
    "duration": 554,
    "start_time": "2022-01-09T20:02:15.960Z"
   },
   {
    "duration": 6,
    "start_time": "2022-01-09T20:07:46.810Z"
   },
   {
    "duration": 5,
    "start_time": "2022-01-09T20:07:55.177Z"
   },
   {
    "duration": 6,
    "start_time": "2022-01-09T20:08:33.639Z"
   },
   {
    "duration": 4,
    "start_time": "2022-01-09T20:08:37.337Z"
   },
   {
    "duration": 3,
    "start_time": "2022-01-09T20:08:54.260Z"
   },
   {
    "duration": 3,
    "start_time": "2022-01-09T20:09:03.631Z"
   },
   {
    "duration": 4,
    "start_time": "2022-01-09T20:09:07.018Z"
   },
   {
    "duration": 4,
    "start_time": "2022-01-09T20:09:10.319Z"
   },
   {
    "duration": 3,
    "start_time": "2022-01-09T20:09:27.160Z"
   },
   {
    "duration": 2,
    "start_time": "2022-01-09T20:09:48.708Z"
   },
   {
    "duration": 4,
    "start_time": "2022-01-09T20:09:57.432Z"
   },
   {
    "duration": 6,
    "start_time": "2022-01-09T20:10:01.260Z"
   },
   {
    "duration": 6,
    "start_time": "2022-01-09T20:10:11.955Z"
   },
   {
    "duration": 638,
    "start_time": "2022-01-09T20:10:35.087Z"
   },
   {
    "duration": 4,
    "start_time": "2022-01-09T20:10:53.136Z"
   },
   {
    "duration": 574,
    "start_time": "2022-01-09T20:11:57.689Z"
   },
   {
    "duration": 5,
    "start_time": "2022-01-09T20:12:00.381Z"
   },
   {
    "duration": 353,
    "start_time": "2022-01-09T20:12:24.151Z"
   },
   {
    "duration": 4,
    "start_time": "2022-01-09T20:12:28.191Z"
   },
   {
    "duration": 5,
    "start_time": "2022-01-09T20:12:33.797Z"
   },
   {
    "duration": 3,
    "start_time": "2022-01-09T20:12:40.919Z"
   },
   {
    "duration": 246,
    "start_time": "2022-01-09T20:13:24.583Z"
   },
   {
    "duration": 6813,
    "start_time": "2022-01-09T20:13:31.762Z"
   },
   {
    "duration": 232,
    "start_time": "2022-01-09T20:48:49.795Z"
   },
   {
    "duration": 6537,
    "start_time": "2022-01-09T20:48:50.340Z"
   },
   {
    "duration": 16704,
    "start_time": "2022-01-09T20:48:56.878Z"
   },
   {
    "duration": 10445,
    "start_time": "2022-01-09T20:49:13.584Z"
   },
   {
    "duration": 6449,
    "start_time": "2022-01-09T20:49:24.031Z"
   },
   {
    "duration": 557,
    "start_time": "2022-01-09T20:49:54.172Z"
   },
   {
    "duration": 6383,
    "start_time": "2022-01-09T20:50:42.102Z"
   },
   {
    "duration": 11125,
    "start_time": "2022-01-09T20:52:21.409Z"
   },
   {
    "duration": 11506,
    "start_time": "2022-01-09T20:52:48.622Z"
   },
   {
    "duration": 10869,
    "start_time": "2022-01-09T20:53:04.659Z"
   },
   {
    "duration": 5,
    "start_time": "2022-01-09T20:53:15.530Z"
   },
   {
    "duration": 733,
    "start_time": "2022-01-09T20:54:00.937Z"
   },
   {
    "duration": 4,
    "start_time": "2022-01-09T20:54:09.238Z"
   },
   {
    "duration": 203,
    "start_time": "2022-01-09T20:54:13.227Z"
   },
   {
    "duration": 5,
    "start_time": "2022-01-09T20:54:18.191Z"
   },
   {
    "duration": 3,
    "start_time": "2022-01-09T20:54:26.391Z"
   },
   {
    "duration": 6,
    "start_time": "2022-01-09T20:54:38.650Z"
   },
   {
    "duration": 7,
    "start_time": "2022-01-09T20:54:42.389Z"
   },
   {
    "duration": 4,
    "start_time": "2022-01-09T20:55:00.565Z"
   },
   {
    "duration": 540,
    "start_time": "2022-01-09T20:55:01.980Z"
   },
   {
    "duration": -201,
    "start_time": "2022-01-09T20:55:02.723Z"
   },
   {
    "duration": 528,
    "start_time": "2022-01-09T20:55:02.654Z"
   },
   {
    "duration": -198,
    "start_time": "2022-01-09T20:55:03.382Z"
   },
   {
    "duration": 6,
    "start_time": "2022-01-09T20:55:03.431Z"
   },
   {
    "duration": 3,
    "start_time": "2022-01-09T20:55:22.715Z"
   },
   {
    "duration": 6,
    "start_time": "2022-01-09T20:55:23.834Z"
   },
   {
    "duration": 5,
    "start_time": "2022-01-09T20:55:29.470Z"
   },
   {
    "duration": 352,
    "start_time": "2022-01-09T20:56:02.826Z"
   },
   {
    "duration": 310,
    "start_time": "2022-01-09T20:57:28.371Z"
   },
   {
    "duration": 317,
    "start_time": "2022-01-09T20:57:32.359Z"
   },
   {
    "duration": 3,
    "start_time": "2022-01-09T20:57:36.158Z"
   },
   {
    "duration": 372,
    "start_time": "2022-01-09T20:57:42.543Z"
   },
   {
    "duration": 5,
    "start_time": "2022-01-09T20:57:45.376Z"
   },
   {
    "duration": 6,
    "start_time": "2022-01-09T20:57:50.130Z"
   },
   {
    "duration": 5,
    "start_time": "2022-01-09T20:58:45.664Z"
   },
   {
    "duration": 6,
    "start_time": "2022-01-09T20:58:53.845Z"
   },
   {
    "duration": 5,
    "start_time": "2022-01-09T20:59:02.622Z"
   },
   {
    "duration": 6,
    "start_time": "2022-01-09T20:59:09.084Z"
   },
   {
    "duration": 5,
    "start_time": "2022-01-09T20:59:18.876Z"
   },
   {
    "duration": 5,
    "start_time": "2022-01-09T20:59:22.160Z"
   },
   {
    "duration": 4,
    "start_time": "2022-01-09T20:59:32.741Z"
   },
   {
    "duration": 5,
    "start_time": "2022-01-09T21:00:59.363Z"
   },
   {
    "duration": 5,
    "start_time": "2022-01-09T21:01:02.091Z"
   },
   {
    "duration": 5,
    "start_time": "2022-01-09T21:01:07.954Z"
   },
   {
    "duration": 6,
    "start_time": "2022-01-09T21:01:13.733Z"
   },
   {
    "duration": 3,
    "start_time": "2022-01-09T21:01:20.025Z"
   },
   {
    "duration": 6,
    "start_time": "2022-01-09T21:01:22.735Z"
   },
   {
    "duration": 1123,
    "start_time": "2022-01-11T17:11:07.903Z"
   },
   {
    "duration": 17,
    "start_time": "2022-01-11T17:11:09.028Z"
   },
   {
    "duration": 12,
    "start_time": "2022-01-11T17:11:09.047Z"
   },
   {
    "duration": 4,
    "start_time": "2022-01-11T17:11:13.524Z"
   },
   {
    "duration": 9,
    "start_time": "2022-01-11T17:11:14.865Z"
   },
   {
    "duration": 4,
    "start_time": "2022-01-11T17:11:20.332Z"
   },
   {
    "duration": 3,
    "start_time": "2022-01-11T17:43:11.225Z"
   },
   {
    "duration": 407,
    "start_time": "2022-01-11T17:43:16.698Z"
   },
   {
    "duration": 3,
    "start_time": "2022-01-11T17:43:39.336Z"
   },
   {
    "duration": 7,
    "start_time": "2022-01-11T17:43:40.725Z"
   },
   {
    "duration": 12,
    "start_time": "2022-01-11T17:43:50.176Z"
   },
   {
    "duration": 4,
    "start_time": "2022-01-11T17:44:01.941Z"
   },
   {
    "duration": 12,
    "start_time": "2022-01-11T17:44:05.360Z"
   },
   {
    "duration": 60,
    "start_time": "2022-01-11T19:49:06.192Z"
   },
   {
    "duration": 219,
    "start_time": "2022-01-11T19:53:41.617Z"
   },
   {
    "duration": 1078,
    "start_time": "2022-01-11T19:53:46.350Z"
   },
   {
    "duration": 16,
    "start_time": "2022-01-11T19:53:47.430Z"
   },
   {
    "duration": 19,
    "start_time": "2022-01-11T19:53:47.448Z"
   },
   {
    "duration": 5,
    "start_time": "2022-01-11T19:53:50.668Z"
   },
   {
    "duration": 3,
    "start_time": "2022-01-11T19:53:51.233Z"
   },
   {
    "duration": 5,
    "start_time": "2022-01-11T19:53:55.507Z"
   },
   {
    "duration": 4,
    "start_time": "2022-01-11T19:53:57.145Z"
   },
   {
    "duration": 6,
    "start_time": "2022-01-11T19:54:28.471Z"
   },
   {
    "duration": 739,
    "start_time": "2022-01-11T19:55:06.283Z"
   },
   {
    "duration": 3,
    "start_time": "2022-01-11T19:57:36.750Z"
   },
   {
    "duration": 172,
    "start_time": "2022-01-11T19:57:45.296Z"
   },
   {
    "duration": 175,
    "start_time": "2022-01-11T19:57:59.137Z"
   },
   {
    "duration": 662,
    "start_time": "2022-01-11T19:58:04.389Z"
   },
   {
    "duration": 6,
    "start_time": "2022-01-11T19:59:07.726Z"
   },
   {
    "duration": 4,
    "start_time": "2022-01-11T19:59:09.981Z"
   },
   {
    "duration": 3,
    "start_time": "2022-01-11T19:59:39.545Z"
   },
   {
    "duration": 3,
    "start_time": "2022-01-11T19:59:48.112Z"
   },
   {
    "duration": 3,
    "start_time": "2022-01-11T19:59:51.292Z"
   },
   {
    "duration": 4,
    "start_time": "2022-01-11T19:59:53.871Z"
   },
   {
    "duration": 5,
    "start_time": "2022-01-11T19:59:57.014Z"
   },
   {
    "duration": 4,
    "start_time": "2022-01-11T20:00:04.157Z"
   },
   {
    "duration": 3,
    "start_time": "2022-01-11T20:00:42.601Z"
   },
   {
    "duration": 4,
    "start_time": "2022-01-11T20:00:44.745Z"
   },
   {
    "duration": 5,
    "start_time": "2022-01-11T20:00:46.509Z"
   },
   {
    "duration": 4,
    "start_time": "2022-01-11T20:00:48.274Z"
   },
   {
    "duration": 3,
    "start_time": "2022-01-11T20:11:56.139Z"
   },
   {
    "duration": 5,
    "start_time": "2022-01-11T20:11:59.480Z"
   },
   {
    "duration": 5,
    "start_time": "2022-01-11T20:12:03.519Z"
   },
   {
    "duration": 3,
    "start_time": "2022-01-11T20:12:10.386Z"
   },
   {
    "duration": 4,
    "start_time": "2022-01-11T20:12:10.730Z"
   },
   {
    "duration": 3,
    "start_time": "2022-01-11T20:12:13.712Z"
   },
   {
    "duration": 2,
    "start_time": "2022-01-11T20:12:14.775Z"
   },
   {
    "duration": 3,
    "start_time": "2022-01-11T20:12:19.481Z"
   },
   {
    "duration": 5,
    "start_time": "2022-01-11T20:12:19.948Z"
   },
   {
    "duration": 3,
    "start_time": "2022-01-11T20:12:47.359Z"
   },
   {
    "duration": 3,
    "start_time": "2022-01-11T20:12:50.979Z"
   },
   {
    "duration": 3,
    "start_time": "2022-01-11T20:12:52.015Z"
   },
   {
    "duration": 4,
    "start_time": "2022-01-11T20:13:06.858Z"
   },
   {
    "duration": 3,
    "start_time": "2022-01-11T20:13:08.712Z"
   },
   {
    "duration": 5,
    "start_time": "2022-01-11T20:13:09.081Z"
   },
   {
    "duration": 228,
    "start_time": "2022-01-11T20:13:29.043Z"
   },
   {
    "duration": 5,
    "start_time": "2022-01-11T20:13:34.077Z"
   },
   {
    "duration": 193,
    "start_time": "2022-01-11T20:22:50.596Z"
   },
   {
    "duration": 46,
    "start_time": "2022-01-11T20:22:55.051Z"
   },
   {
    "duration": 7,
    "start_time": "2022-01-11T20:22:57.945Z"
   },
   {
    "duration": 6,
    "start_time": "2022-01-11T20:23:22.366Z"
   },
   {
    "duration": 14,
    "start_time": "2022-01-11T20:23:27.335Z"
   },
   {
    "duration": 14,
    "start_time": "2022-01-11T20:23:31.430Z"
   },
   {
    "duration": 14,
    "start_time": "2022-01-11T20:24:10.655Z"
   },
   {
    "duration": 14,
    "start_time": "2022-01-11T20:24:12.789Z"
   },
   {
    "duration": 7,
    "start_time": "2022-01-11T20:24:35.010Z"
   },
   {
    "duration": 4,
    "start_time": "2022-01-11T20:25:17.591Z"
   },
   {
    "duration": 11,
    "start_time": "2022-01-11T20:25:21.280Z"
   },
   {
    "duration": 13,
    "start_time": "2022-01-11T20:25:24.870Z"
   },
   {
    "duration": 12,
    "start_time": "2022-01-11T20:25:25.102Z"
   },
   {
    "duration": 6,
    "start_time": "2022-01-11T20:25:42.425Z"
   },
   {
    "duration": 2,
    "start_time": "2022-01-11T20:26:15.230Z"
   },
   {
    "duration": 16,
    "start_time": "2022-01-11T20:27:00.616Z"
   },
   {
    "duration": 57,
    "start_time": "2022-01-11T20:27:26.387Z"
   },
   {
    "duration": 3,
    "start_time": "2022-01-11T20:27:38.049Z"
   },
   {
    "duration": 180,
    "start_time": "2022-01-11T20:27:48.682Z"
   },
   {
    "duration": 40,
    "start_time": "2022-01-11T20:28:01.222Z"
   },
   {
    "duration": 39,
    "start_time": "2022-01-11T20:28:13.875Z"
   },
   {
    "duration": 181,
    "start_time": "2022-01-11T20:28:31.840Z"
   },
   {
    "duration": 37,
    "start_time": "2022-01-11T20:28:54.889Z"
   },
   {
    "duration": 39,
    "start_time": "2022-01-11T20:29:42.216Z"
   },
   {
    "duration": 34,
    "start_time": "2022-01-11T20:30:16.039Z"
   },
   {
    "duration": 3,
    "start_time": "2022-01-11T20:36:00.687Z"
   },
   {
    "duration": 317,
    "start_time": "2022-01-11T20:36:01.131Z"
   },
   {
    "duration": 3,
    "start_time": "2022-01-11T20:36:19.807Z"
   },
   {
    "duration": 311,
    "start_time": "2022-01-11T20:36:20.005Z"
   },
   {
    "duration": 3,
    "start_time": "2022-01-11T20:37:09.361Z"
   },
   {
    "duration": 3,
    "start_time": "2022-01-11T20:37:09.721Z"
   },
   {
    "duration": 5,
    "start_time": "2022-01-11T20:37:10.443Z"
   },
   {
    "duration": 14,
    "start_time": "2022-01-11T20:37:10.912Z"
   },
   {
    "duration": 12,
    "start_time": "2022-01-11T20:37:12.942Z"
   },
   {
    "duration": 39,
    "start_time": "2022-01-11T20:37:15.212Z"
   },
   {
    "duration": 34,
    "start_time": "2022-01-11T20:37:15.527Z"
   },
   {
    "duration": 5,
    "start_time": "2022-01-11T20:37:56.338Z"
   },
   {
    "duration": 6,
    "start_time": "2022-01-11T20:38:04.308Z"
   },
   {
    "duration": 15,
    "start_time": "2022-01-11T20:38:05.091Z"
   },
   {
    "duration": 13,
    "start_time": "2022-01-11T20:38:06.941Z"
   },
   {
    "duration": 41,
    "start_time": "2022-01-11T20:38:08.610Z"
   },
   {
    "duration": 18,
    "start_time": "2022-01-11T20:38:08.876Z"
   },
   {
    "duration": 4,
    "start_time": "2022-01-11T20:38:18.708Z"
   },
   {
    "duration": 19,
    "start_time": "2022-01-11T20:38:18.714Z"
   },
   {
    "duration": 9,
    "start_time": "2022-01-11T20:38:18.735Z"
   },
   {
    "duration": 7,
    "start_time": "2022-01-11T20:38:18.746Z"
   },
   {
    "duration": 3,
    "start_time": "2022-01-11T20:38:18.757Z"
   },
   {
    "duration": 6,
    "start_time": "2022-01-11T20:38:18.762Z"
   },
   {
    "duration": 8,
    "start_time": "2022-01-11T20:38:18.770Z"
   },
   {
    "duration": 18,
    "start_time": "2022-01-11T20:38:18.780Z"
   },
   {
    "duration": 13,
    "start_time": "2022-01-11T20:38:18.800Z"
   },
   {
    "duration": 39,
    "start_time": "2022-01-11T20:38:18.815Z"
   },
   {
    "duration": 46,
    "start_time": "2022-01-11T20:38:18.856Z"
   },
   {
    "duration": 294,
    "start_time": "2022-01-11T20:38:26.163Z"
   },
   {
    "duration": 3,
    "start_time": "2022-01-11T20:39:15.697Z"
   },
   {
    "duration": 2,
    "start_time": "2022-01-11T20:39:26.726Z"
   },
   {
    "duration": 5,
    "start_time": "2022-01-11T20:39:27.159Z"
   },
   {
    "duration": 14,
    "start_time": "2022-01-11T20:39:27.624Z"
   },
   {
    "duration": 13,
    "start_time": "2022-01-11T20:39:28.066Z"
   },
   {
    "duration": 39,
    "start_time": "2022-01-11T20:39:34.396Z"
   },
   {
    "duration": 17,
    "start_time": "2022-01-11T20:39:34.773Z"
   },
   {
    "duration": 3,
    "start_time": "2022-01-11T20:39:45.686Z"
   },
   {
    "duration": 2,
    "start_time": "2022-01-11T20:39:45.994Z"
   },
   {
    "duration": 5,
    "start_time": "2022-01-11T20:39:46.182Z"
   },
   {
    "duration": 14,
    "start_time": "2022-01-11T20:39:46.387Z"
   },
   {
    "duration": 14,
    "start_time": "2022-01-11T20:39:46.585Z"
   },
   {
    "duration": 39,
    "start_time": "2022-01-11T20:39:46.806Z"
   },
   {
    "duration": 18,
    "start_time": "2022-01-11T20:39:47.075Z"
   },
   {
    "duration": 3,
    "start_time": "2022-01-11T20:40:20.719Z"
   },
   {
    "duration": 3,
    "start_time": "2022-01-11T20:40:21.108Z"
   },
   {
    "duration": 7,
    "start_time": "2022-01-11T20:40:21.334Z"
   },
   {
    "duration": 14,
    "start_time": "2022-01-11T20:40:21.551Z"
   },
   {
    "duration": 15,
    "start_time": "2022-01-11T20:40:21.779Z"
   },
   {
    "duration": 40,
    "start_time": "2022-01-11T20:40:22.112Z"
   },
   {
    "duration": 18,
    "start_time": "2022-01-11T20:40:24.062Z"
   },
   {
    "duration": 42,
    "start_time": "2022-01-11T20:54:52.425Z"
   },
   {
    "duration": 20,
    "start_time": "2022-01-11T20:54:52.731Z"
   },
   {
    "duration": 4,
    "start_time": "2022-01-11T20:54:57.398Z"
   },
   {
    "duration": 21,
    "start_time": "2022-01-11T20:54:57.404Z"
   },
   {
    "duration": 8,
    "start_time": "2022-01-11T20:54:57.428Z"
   },
   {
    "duration": 8,
    "start_time": "2022-01-11T20:54:57.438Z"
   },
   {
    "duration": 5,
    "start_time": "2022-01-11T20:54:57.448Z"
   },
   {
    "duration": 6,
    "start_time": "2022-01-11T20:54:57.455Z"
   },
   {
    "duration": 11,
    "start_time": "2022-01-11T20:54:57.462Z"
   },
   {
    "duration": 24,
    "start_time": "2022-01-11T20:54:57.475Z"
   },
   {
    "duration": 15,
    "start_time": "2022-01-11T20:54:57.501Z"
   },
   {
    "duration": 44,
    "start_time": "2022-01-11T20:54:57.518Z"
   },
   {
    "duration": 30,
    "start_time": "2022-01-11T20:54:57.563Z"
   },
   {
    "duration": 4,
    "start_time": "2022-01-11T20:55:14.940Z"
   },
   {
    "duration": 2,
    "start_time": "2022-01-11T20:55:18.872Z"
   },
   {
    "duration": 6,
    "start_time": "2022-01-11T20:55:19.291Z"
   },
   {
    "duration": 15,
    "start_time": "2022-01-11T20:55:19.456Z"
   },
   {
    "duration": 14,
    "start_time": "2022-01-11T20:55:19.618Z"
   },
   {
    "duration": 40,
    "start_time": "2022-01-11T20:55:19.799Z"
   },
   {
    "duration": 19,
    "start_time": "2022-01-11T20:55:19.959Z"
   },
   {
    "duration": 3,
    "start_time": "2022-01-11T20:57:49.991Z"
   },
   {
    "duration": 3,
    "start_time": "2022-01-11T20:57:50.332Z"
   },
   {
    "duration": 6,
    "start_time": "2022-01-11T20:57:50.658Z"
   },
   {
    "duration": 14,
    "start_time": "2022-01-11T20:57:50.859Z"
   },
   {
    "duration": 12,
    "start_time": "2022-01-11T20:57:51.042Z"
   },
   {
    "duration": 39,
    "start_time": "2022-01-11T20:57:51.225Z"
   },
   {
    "duration": 19,
    "start_time": "2022-01-11T20:57:51.412Z"
   },
   {
    "duration": 403,
    "start_time": "2022-01-12T20:18:26.908Z"
   },
   {
    "duration": 1495,
    "start_time": "2022-01-12T20:18:30.700Z"
   },
   {
    "duration": 21,
    "start_time": "2022-01-12T20:18:32.197Z"
   },
   {
    "duration": 17,
    "start_time": "2022-01-12T20:18:32.221Z"
   },
   {
    "duration": 7,
    "start_time": "2022-01-12T20:18:32.996Z"
   },
   {
    "duration": 3,
    "start_time": "2022-01-12T20:18:36.131Z"
   },
   {
    "duration": 4,
    "start_time": "2022-01-12T20:18:36.611Z"
   },
   {
    "duration": 611,
    "start_time": "2022-01-12T20:18:39.972Z"
   },
   {
    "duration": 5,
    "start_time": "2022-01-12T20:18:45.616Z"
   },
   {
    "duration": 4,
    "start_time": "2022-01-12T20:18:46.461Z"
   },
   {
    "duration": 6,
    "start_time": "2022-01-12T20:18:53.679Z"
   },
   {
    "duration": 7,
    "start_time": "2022-01-12T20:18:55.083Z"
   },
   {
    "duration": 8,
    "start_time": "2022-01-12T20:19:00.578Z"
   },
   {
    "duration": 16,
    "start_time": "2022-01-12T20:19:09.203Z"
   },
   {
    "duration": 15,
    "start_time": "2022-01-12T20:19:22.948Z"
   },
   {
    "duration": 6,
    "start_time": "2022-01-12T20:19:58.531Z"
   },
   {
    "duration": 6,
    "start_time": "2022-01-12T20:20:10.579Z"
   },
   {
    "duration": 7,
    "start_time": "2022-01-12T20:20:11.154Z"
   },
   {
    "duration": 7,
    "start_time": "2022-01-12T20:20:12.220Z"
   },
   {
    "duration": 15,
    "start_time": "2022-01-12T20:20:12.657Z"
   },
   {
    "duration": 6,
    "start_time": "2022-01-12T20:20:12.996Z"
   },
   {
    "duration": 22,
    "start_time": "2022-01-12T20:20:13.558Z"
   },
   {
    "duration": 20,
    "start_time": "2022-01-12T20:20:17.472Z"
   },
   {
    "duration": 75,
    "start_time": "2022-01-12T20:20:21.593Z"
   },
   {
    "duration": 73,
    "start_time": "2022-01-12T20:20:21.858Z"
   },
   {
    "duration": 17,
    "start_time": "2022-01-12T20:24:40.077Z"
   },
   {
    "duration": 16,
    "start_time": "2022-01-12T20:25:22.747Z"
   },
   {
    "duration": 7,
    "start_time": "2022-01-12T20:31:30.450Z"
   },
   {
    "duration": 9,
    "start_time": "2022-01-12T20:31:30.746Z"
   },
   {
    "duration": 8,
    "start_time": "2022-01-12T20:31:31.074Z"
   },
   {
    "duration": 16,
    "start_time": "2022-01-12T20:31:31.391Z"
   },
   {
    "duration": 7,
    "start_time": "2022-01-12T20:31:31.718Z"
   },
   {
    "duration": 17,
    "start_time": "2022-01-12T20:31:32.114Z"
   },
   {
    "duration": 17,
    "start_time": "2022-01-12T20:31:32.456Z"
   },
   {
    "duration": 21,
    "start_time": "2022-01-12T20:31:32.817Z"
   },
   {
    "duration": 20,
    "start_time": "2022-01-12T20:31:33.145Z"
   },
   {
    "duration": 76,
    "start_time": "2022-01-12T20:31:33.420Z"
   },
   {
    "duration": 73,
    "start_time": "2022-01-12T20:31:33.669Z"
   },
   {
    "duration": 15,
    "start_time": "2022-01-12T20:31:57.637Z"
   },
   {
    "duration": 21,
    "start_time": "2022-01-12T20:32:03.455Z"
   },
   {
    "duration": 7,
    "start_time": "2022-01-12T20:33:58.971Z"
   },
   {
    "duration": 16,
    "start_time": "2022-01-12T20:33:59.816Z"
   },
   {
    "duration": 374,
    "start_time": "2022-01-12T20:39:09.716Z"
   },
   {
    "duration": 5,
    "start_time": "2022-01-12T20:39:34.620Z"
   },
   {
    "duration": 77,
    "start_time": "2022-01-12T20:39:40.027Z"
   },
   {
    "duration": 71,
    "start_time": "2022-01-12T20:39:40.383Z"
   },
   {
    "duration": 43,
    "start_time": "2022-01-12T20:40:00.072Z"
   },
   {
    "duration": 294,
    "start_time": "2022-01-12T20:40:01.538Z"
   },
   {
    "duration": 172,
    "start_time": "2022-01-12T20:40:10.391Z"
   },
   {
    "duration": 9,
    "start_time": "2022-01-12T20:50:28.198Z"
   },
   {
    "duration": 18,
    "start_time": "2022-01-12T20:50:30.827Z"
   },
   {
    "duration": 3,
    "start_time": "2022-01-12T20:50:42.824Z"
   },
   {
    "duration": 5,
    "start_time": "2022-01-12T20:51:51.300Z"
   },
   {
    "duration": 23,
    "start_time": "2022-01-12T20:52:03.528Z"
   },
   {
    "duration": 293,
    "start_time": "2022-01-12T20:52:32.000Z"
   },
   {
    "duration": 302,
    "start_time": "2022-01-12T20:52:39.326Z"
   },
   {
    "duration": 7,
    "start_time": "2022-01-12T20:53:15.811Z"
   },
   {
    "duration": 19,
    "start_time": "2022-01-12T20:53:23.379Z"
   },
   {
    "duration": 4,
    "start_time": "2022-01-12T20:53:32.996Z"
   },
   {
    "duration": 22,
    "start_time": "2022-01-12T20:53:33.004Z"
   },
   {
    "duration": 14,
    "start_time": "2022-01-12T20:53:33.030Z"
   },
   {
    "duration": 7,
    "start_time": "2022-01-12T20:53:33.047Z"
   },
   {
    "duration": 7,
    "start_time": "2022-01-12T20:53:33.056Z"
   },
   {
    "duration": 11,
    "start_time": "2022-01-12T20:53:33.066Z"
   },
   {
    "duration": 8,
    "start_time": "2022-01-12T20:53:36.368Z"
   },
   {
    "duration": 18,
    "start_time": "2022-01-12T20:53:39.521Z"
   },
   {
    "duration": 298,
    "start_time": "2022-01-12T20:53:49.529Z"
   },
   {
    "duration": 19,
    "start_time": "2022-01-12T20:53:53.019Z"
   },
   {
    "duration": 4,
    "start_time": "2022-01-12T20:54:02.641Z"
   },
   {
    "duration": 17,
    "start_time": "2022-01-12T20:54:06.495Z"
   },
   {
    "duration": 300,
    "start_time": "2022-01-12T20:54:58.052Z"
   },
   {
    "duration": 10,
    "start_time": "2022-01-12T20:55:03.756Z"
   },
   {
    "duration": 26,
    "start_time": "2022-01-12T20:55:09.187Z"
   },
   {
    "duration": 19,
    "start_time": "2022-01-12T20:55:17.883Z"
   },
   {
    "duration": 18,
    "start_time": "2022-01-12T20:55:24.099Z"
   },
   {
    "duration": 1252,
    "start_time": "2022-01-14T14:09:04.623Z"
   },
   {
    "duration": 17,
    "start_time": "2022-01-14T14:09:05.877Z"
   },
   {
    "duration": 12,
    "start_time": "2022-01-14T14:09:05.896Z"
   },
   {
    "duration": 5,
    "start_time": "2022-01-14T14:09:10.646Z"
   },
   {
    "duration": 6,
    "start_time": "2022-01-14T14:09:17.929Z"
   },
   {
    "duration": 7,
    "start_time": "2022-01-14T14:09:19.719Z"
   },
   {
    "duration": 16,
    "start_time": "2022-01-14T14:09:22.523Z"
   },
   {
    "duration": 11,
    "start_time": "2022-01-14T14:09:35.480Z"
   },
   {
    "duration": 12,
    "start_time": "2022-01-14T14:11:08.181Z"
   },
   {
    "duration": 5,
    "start_time": "2022-01-14T14:11:47.875Z"
   },
   {
    "duration": 13,
    "start_time": "2022-01-14T14:11:50.415Z"
   },
   {
    "duration": 13,
    "start_time": "2022-01-14T14:12:04.967Z"
   },
   {
    "duration": 8,
    "start_time": "2022-01-14T14:12:11.212Z"
   },
   {
    "duration": 14,
    "start_time": "2022-01-14T14:14:20.396Z"
   },
   {
    "duration": 11,
    "start_time": "2022-01-14T14:14:24.955Z"
   },
   {
    "duration": 4,
    "start_time": "2022-01-14T14:15:07.897Z"
   },
   {
    "duration": 12,
    "start_time": "2022-01-14T14:15:11.300Z"
   },
   {
    "duration": 5,
    "start_time": "2022-01-14T14:15:50.400Z"
   },
   {
    "duration": 1619,
    "start_time": "2022-01-14T18:55:58.249Z"
   },
   {
    "duration": 21,
    "start_time": "2022-01-14T18:55:59.870Z"
   },
   {
    "duration": 18,
    "start_time": "2022-01-14T18:55:59.893Z"
   },
   {
    "duration": 8,
    "start_time": "2022-01-14T18:56:01.206Z"
   },
   {
    "duration": 7,
    "start_time": "2022-01-14T18:56:01.689Z"
   },
   {
    "duration": 8,
    "start_time": "2022-01-14T18:56:01.933Z"
   },
   {
    "duration": 9,
    "start_time": "2022-01-14T18:56:02.146Z"
   },
   {
    "duration": 16,
    "start_time": "2022-01-14T18:56:11.304Z"
   },
   {
    "duration": 498,
    "start_time": "2022-01-14T18:56:38.035Z"
   },
   {
    "duration": 9,
    "start_time": "2022-01-14T18:56:44.100Z"
   },
   {
    "duration": 23,
    "start_time": "2022-01-14T18:56:44.567Z"
   },
   {
    "duration": 4,
    "start_time": "2022-01-14T18:56:45.192Z"
   },
   {
    "duration": 25,
    "start_time": "2022-01-14T18:56:47.440Z"
   },
   {
    "duration": 22,
    "start_time": "2022-01-14T18:56:49.957Z"
   },
   {
    "duration": 10,
    "start_time": "2022-01-14T18:56:53.703Z"
   },
   {
    "duration": 9,
    "start_time": "2022-01-14T18:56:55.709Z"
   },
   {
    "duration": 8,
    "start_time": "2022-01-14T18:57:07.799Z"
   },
   {
    "duration": 8,
    "start_time": "2022-01-14T18:57:11.282Z"
   },
   {
    "duration": 22,
    "start_time": "2022-01-14T18:57:14.741Z"
   },
   {
    "duration": 19,
    "start_time": "2022-01-14T18:57:15.613Z"
   },
   {
    "duration": 15,
    "start_time": "2022-01-14T18:57:23.135Z"
   },
   {
    "duration": 17,
    "start_time": "2022-01-14T18:57:25.708Z"
   },
   {
    "duration": 387,
    "start_time": "2022-01-14T18:57:37.521Z"
   },
   {
    "duration": 376,
    "start_time": "2022-01-14T18:57:38.101Z"
   },
   {
    "duration": 17,
    "start_time": "2022-01-14T18:59:23.669Z"
   },
   {
    "duration": 14,
    "start_time": "2022-01-14T18:59:51.279Z"
   },
   {
    "duration": 343,
    "start_time": "2022-01-14T19:00:06.784Z"
   },
   {
    "duration": 364,
    "start_time": "2022-01-14T19:00:34.273Z"
   },
   {
    "duration": 18,
    "start_time": "2022-01-14T19:00:40.315Z"
   },
   {
    "duration": 6,
    "start_time": "2022-01-14T19:00:56.362Z"
   },
   {
    "duration": 5,
    "start_time": "2022-01-14T19:01:12.912Z"
   },
   {
    "duration": 19,
    "start_time": "2022-01-14T19:01:17.609Z"
   },
   {
    "duration": 159,
    "start_time": "2022-01-14T19:01:23.224Z"
   },
   {
    "duration": 5,
    "start_time": "2022-01-14T19:12:07.384Z"
   },
   {
    "duration": 5,
    "start_time": "2022-01-14T19:12:12.883Z"
   },
   {
    "duration": 4,
    "start_time": "2022-01-14T19:12:27.353Z"
   },
   {
    "duration": 16,
    "start_time": "2022-01-14T19:12:29.011Z"
   },
   {
    "duration": 6,
    "start_time": "2022-01-14T19:13:07.677Z"
   },
   {
    "duration": 26,
    "start_time": "2022-01-14T19:13:07.686Z"
   },
   {
    "duration": 18,
    "start_time": "2022-01-14T19:13:07.716Z"
   },
   {
    "duration": 22,
    "start_time": "2022-01-14T19:13:07.738Z"
   },
   {
    "duration": 7,
    "start_time": "2022-01-14T19:13:07.763Z"
   },
   {
    "duration": 12,
    "start_time": "2022-01-14T19:13:07.772Z"
   },
   {
    "duration": 14,
    "start_time": "2022-01-14T19:13:07.787Z"
   },
   {
    "duration": 4,
    "start_time": "2022-01-14T19:13:07.862Z"
   },
   {
    "duration": 89,
    "start_time": "2022-01-14T19:13:07.871Z"
   },
   {
    "duration": 4,
    "start_time": "2022-01-14T19:13:07.963Z"
   },
   {
    "duration": 7,
    "start_time": "2022-01-14T19:13:07.969Z"
   },
   {
    "duration": 21,
    "start_time": "2022-01-14T19:13:07.978Z"
   },
   {
    "duration": 18,
    "start_time": "2022-01-14T19:13:08.001Z"
   },
   {
    "duration": 3,
    "start_time": "2022-01-14T19:13:08.060Z"
   },
   {
    "duration": 5,
    "start_time": "2022-01-14T19:13:08.066Z"
   },
   {
    "duration": 41,
    "start_time": "2022-01-14T19:13:08.073Z"
   },
   {
    "duration": 194,
    "start_time": "2022-01-14T19:13:08.117Z"
   },
   {
    "duration": 406,
    "start_time": "2022-01-14T19:25:03.493Z"
   },
   {
    "duration": 6,
    "start_time": "2022-01-14T19:25:15.936Z"
   },
   {
    "duration": 19,
    "start_time": "2022-01-14T19:25:20.718Z"
   },
   {
    "duration": 6880,
    "start_time": "2022-01-14T19:25:39.694Z"
   },
   {
    "duration": 7765,
    "start_time": "2022-01-14T19:25:56.386Z"
   },
   {
    "duration": 10,
    "start_time": "2022-01-14T19:26:12.003Z"
   },
   {
    "duration": 7,
    "start_time": "2022-01-14T19:26:12.207Z"
   },
   {
    "duration": 10,
    "start_time": "2022-01-14T19:26:59.777Z"
   },
   {
    "duration": 20,
    "start_time": "2022-01-14T19:27:06.684Z"
   },
   {
    "duration": 18,
    "start_time": "2022-01-14T19:28:17.760Z"
   },
   {
    "duration": 18,
    "start_time": "2022-01-14T19:29:34.508Z"
   },
   {
    "duration": 10,
    "start_time": "2022-01-14T19:29:44.397Z"
   },
   {
    "duration": 13,
    "start_time": "2022-01-14T19:30:01.092Z"
   },
   {
    "duration": 786,
    "start_time": "2022-01-14T19:33:38.859Z"
   },
   {
    "duration": 6,
    "start_time": "2022-01-14T19:33:47.021Z"
   },
   {
    "duration": 5,
    "start_time": "2022-01-14T19:33:49.690Z"
   },
   {
    "duration": 42,
    "start_time": "2022-01-14T19:33:58.888Z"
   },
   {
    "duration": 174,
    "start_time": "2022-01-14T19:33:59.736Z"
   },
   {
    "duration": 20,
    "start_time": "2022-01-14T19:34:07.243Z"
   },
   {
    "duration": 42,
    "start_time": "2022-01-14T19:34:10.935Z"
   },
   {
    "duration": 199,
    "start_time": "2022-01-14T19:34:10.979Z"
   },
   {
    "duration": 5,
    "start_time": "2022-01-14T19:35:22.138Z"
   },
   {
    "duration": 7,
    "start_time": "2022-01-14T19:35:23.015Z"
   },
   {
    "duration": 7,
    "start_time": "2022-01-14T19:35:23.839Z"
   },
   {
    "duration": 3,
    "start_time": "2022-01-14T19:35:24.334Z"
   },
   {
    "duration": 4,
    "start_time": "2022-01-14T19:35:25.796Z"
   },
   {
    "duration": 3,
    "start_time": "2022-01-14T19:35:26.068Z"
   },
   {
    "duration": 3,
    "start_time": "2022-01-14T19:35:26.632Z"
   },
   {
    "duration": 20,
    "start_time": "2022-01-14T19:35:27.004Z"
   },
   {
    "duration": 10,
    "start_time": "2022-01-14T19:35:28.244Z"
   },
   {
    "duration": 1516,
    "start_time": "2022-01-14T19:38:01.472Z"
   },
   {
    "duration": 9,
    "start_time": "2022-01-14T19:38:22.056Z"
   },
   {
    "duration": 402,
    "start_time": "2022-01-14T19:38:59.379Z"
   },
   {
    "duration": 23,
    "start_time": "2022-01-14T19:39:07.135Z"
   },
   {
    "duration": 20,
    "start_time": "2022-01-14T19:39:10.956Z"
   },
   {
    "duration": 20,
    "start_time": "2022-01-14T19:39:11.282Z"
   },
   {
    "duration": 4,
    "start_time": "2022-01-14T19:39:14.841Z"
   },
   {
    "duration": 3,
    "start_time": "2022-01-14T19:39:15.214Z"
   },
   {
    "duration": 40,
    "start_time": "2022-01-14T19:39:15.734Z"
   },
   {
    "duration": 40,
    "start_time": "2022-01-14T19:39:16.143Z"
   },
   {
    "duration": 6,
    "start_time": "2022-01-14T19:44:22.194Z"
   },
   {
    "duration": 124,
    "start_time": "2022-01-14T19:44:42.866Z"
   },
   {
    "duration": 9,
    "start_time": "2022-01-14T19:44:58.437Z"
   },
   {
    "duration": 6,
    "start_time": "2022-01-14T19:45:46.675Z"
   },
   {
    "duration": 14,
    "start_time": "2022-01-14T19:45:59.249Z"
   },
   {
    "duration": 6,
    "start_time": "2022-01-14T19:46:28.137Z"
   },
   {
    "duration": 6,
    "start_time": "2022-01-14T19:46:34.421Z"
   },
   {
    "duration": 6,
    "start_time": "2022-01-14T19:46:36.613Z"
   },
   {
    "duration": 7,
    "start_time": "2022-01-14T19:46:39.823Z"
   },
   {
    "duration": 6,
    "start_time": "2022-01-14T19:46:44.528Z"
   },
   {
    "duration": 6,
    "start_time": "2022-01-14T19:46:46.351Z"
   },
   {
    "duration": 419,
    "start_time": "2022-01-14T19:51:16.330Z"
   },
   {
    "duration": 4,
    "start_time": "2022-01-14T19:51:29.256Z"
   },
   {
    "duration": 918,
    "start_time": "2022-01-14T19:52:04.984Z"
   },
   {
    "duration": 7,
    "start_time": "2022-01-14T20:08:25.216Z"
   },
   {
    "duration": 23,
    "start_time": "2022-01-14T20:08:27.196Z"
   },
   {
    "duration": 8,
    "start_time": "2022-01-14T20:08:32.189Z"
   },
   {
    "duration": 8,
    "start_time": "2022-01-14T20:08:40.087Z"
   },
   {
    "duration": 7,
    "start_time": "2022-01-14T20:08:42.428Z"
   },
   {
    "duration": 43,
    "start_time": "2022-01-14T20:09:50.627Z"
   },
   {
    "duration": 43,
    "start_time": "2022-01-14T20:09:51.039Z"
   },
   {
    "duration": 41,
    "start_time": "2022-01-14T20:10:15.763Z"
   },
   {
    "duration": 47,
    "start_time": "2022-01-14T20:10:19.089Z"
   },
   {
    "duration": 21,
    "start_time": "2022-01-14T20:10:32.220Z"
   },
   {
    "duration": 228,
    "start_time": "2022-01-14T20:11:01.835Z"
   },
   {
    "duration": 11,
    "start_time": "2022-01-14T20:11:04.073Z"
   },
   {
    "duration": 13,
    "start_time": "2022-01-14T20:11:06.700Z"
   },
   {
    "duration": 12,
    "start_time": "2022-01-14T20:11:08.530Z"
   },
   {
    "duration": 18,
    "start_time": "2022-01-14T20:11:14.179Z"
   },
   {
    "duration": 130,
    "start_time": "2022-01-14T20:12:31.705Z"
   },
   {
    "duration": 40,
    "start_time": "2022-01-14T20:13:46.304Z"
   },
   {
    "duration": 40,
    "start_time": "2022-01-14T20:13:46.615Z"
   },
   {
    "duration": 1648,
    "start_time": "2022-01-14T20:18:12.443Z"
   },
   {
    "duration": 22,
    "start_time": "2022-01-14T20:18:14.094Z"
   },
   {
    "duration": 16,
    "start_time": "2022-01-14T20:18:14.118Z"
   },
   {
    "duration": 6,
    "start_time": "2022-01-14T20:18:50.942Z"
   },
   {
    "duration": 7,
    "start_time": "2022-01-14T20:18:52.792Z"
   },
   {
    "duration": 6,
    "start_time": "2022-01-14T20:19:20.137Z"
   },
   {
    "duration": 4,
    "start_time": "2022-01-14T20:19:33.815Z"
   },
   {
    "duration": 4,
    "start_time": "2022-01-14T20:19:34.535Z"
   },
   {
    "duration": 7,
    "start_time": "2022-01-14T20:20:32.063Z"
   },
   {
    "duration": 20,
    "start_time": "2022-01-14T20:20:33.196Z"
   },
   {
    "duration": 11,
    "start_time": "2022-01-14T20:20:33.852Z"
   },
   {
    "duration": 8,
    "start_time": "2022-01-14T20:20:34.968Z"
   },
   {
    "duration": 8,
    "start_time": "2022-01-14T20:20:35.157Z"
   },
   {
    "duration": 41,
    "start_time": "2022-01-14T20:20:35.490Z"
   },
   {
    "duration": 40,
    "start_time": "2022-01-14T20:20:35.642Z"
   },
   {
    "duration": 7,
    "start_time": "2022-01-14T20:21:51.304Z"
   },
   {
    "duration": 41,
    "start_time": "2022-01-14T20:21:57.705Z"
   },
   {
    "duration": 39,
    "start_time": "2022-01-14T20:22:00.195Z"
   },
   {
    "duration": 41,
    "start_time": "2022-01-14T20:22:21.192Z"
   },
   {
    "duration": 40,
    "start_time": "2022-01-14T20:23:06.532Z"
   },
   {
    "duration": 7,
    "start_time": "2022-01-14T20:23:44.696Z"
   },
   {
    "duration": 7,
    "start_time": "2022-01-14T20:23:45.120Z"
   },
   {
    "duration": 40,
    "start_time": "2022-01-14T20:23:45.517Z"
   },
   {
    "duration": 39,
    "start_time": "2022-01-14T20:23:45.708Z"
   },
   {
    "duration": 1124,
    "start_time": "2022-01-15T06:59:39.856Z"
   },
   {
    "duration": 400,
    "start_time": "2022-01-15T07:00:05.293Z"
   },
   {
    "duration": 328,
    "start_time": "2022-01-15T07:00:14.721Z"
   },
   {
    "duration": 3,
    "start_time": "2022-01-15T07:00:21.010Z"
   },
   {
    "duration": 115,
    "start_time": "2022-01-15T07:00:21.442Z"
   },
   {
    "duration": 11,
    "start_time": "2022-01-15T07:00:21.807Z"
   },
   {
    "duration": 4,
    "start_time": "2022-01-15T07:00:26.057Z"
   },
   {
    "duration": 5,
    "start_time": "2022-01-15T07:00:26.561Z"
   },
   {
    "duration": 4,
    "start_time": "2022-01-15T07:00:26.761Z"
   },
   {
    "duration": 2,
    "start_time": "2022-01-15T07:00:28.022Z"
   },
   {
    "duration": 3,
    "start_time": "2022-01-15T07:00:28.274Z"
   },
   {
    "duration": 5,
    "start_time": "2022-01-15T07:00:30.856Z"
   },
   {
    "duration": 13,
    "start_time": "2022-01-15T07:00:31.372Z"
   },
   {
    "duration": 8,
    "start_time": "2022-01-15T07:00:32.740Z"
   },
   {
    "duration": 6,
    "start_time": "2022-01-15T07:00:33.931Z"
   },
   {
    "duration": 6,
    "start_time": "2022-01-15T07:00:34.237Z"
   },
   {
    "duration": 7,
    "start_time": "2022-01-15T07:00:34.821Z"
   },
   {
    "duration": 335,
    "start_time": "2022-01-15T07:00:35.102Z"
   },
   {
    "duration": 7,
    "start_time": "2022-01-15T07:00:40.057Z"
   },
   {
    "duration": 1166,
    "start_time": "2022-01-16T20:46:50.516Z"
   },
   {
    "duration": 37,
    "start_time": "2022-01-16T20:46:51.684Z"
   },
   {
    "duration": 11,
    "start_time": "2022-01-16T20:46:51.723Z"
   },
   {
    "duration": 5,
    "start_time": "2022-01-16T20:46:54.639Z"
   },
   {
    "duration": 5,
    "start_time": "2022-01-16T20:46:55.847Z"
   },
   {
    "duration": 7,
    "start_time": "2022-01-16T20:46:56.185Z"
   },
   {
    "duration": 94,
    "start_time": "2022-01-17T19:03:41.755Z"
   },
   {
    "duration": 1789,
    "start_time": "2022-01-17T19:20:06.598Z"
   },
   {
    "duration": 130,
    "start_time": "2022-01-17T19:26:38.995Z"
   },
   {
    "duration": 94,
    "start_time": "2022-01-17T19:28:40.968Z"
   },
   {
    "duration": 94,
    "start_time": "2022-01-17T19:29:57.743Z"
   },
   {
    "duration": 1147,
    "start_time": "2022-01-17T19:53:17.015Z"
   },
   {
    "duration": 17,
    "start_time": "2022-01-17T19:53:18.163Z"
   },
   {
    "duration": 11,
    "start_time": "2022-01-17T19:53:18.182Z"
   },
   {
    "duration": 85,
    "start_time": "2022-01-17T19:53:21.164Z"
   },
   {
    "duration": 5,
    "start_time": "2022-01-17T19:53:23.443Z"
   },
   {
    "duration": 6,
    "start_time": "2022-01-17T19:53:25.825Z"
   },
   {
    "duration": 5,
    "start_time": "2022-01-17T19:53:26.001Z"
   },
   {
    "duration": 4,
    "start_time": "2022-01-17T19:53:51.238Z"
   },
   {
    "duration": 4,
    "start_time": "2022-01-17T19:53:58.674Z"
   },
   {
    "duration": 4,
    "start_time": "2022-01-17T19:54:15.930Z"
   },
   {
    "duration": 5,
    "start_time": "2022-01-17T19:54:17.802Z"
   },
   {
    "duration": 5,
    "start_time": "2022-01-17T19:54:19.542Z"
   },
   {
    "duration": 5,
    "start_time": "2022-01-17T19:54:19.986Z"
   },
   {
    "duration": 3,
    "start_time": "2022-01-17T19:55:07.708Z"
   },
   {
    "duration": 4,
    "start_time": "2022-01-17T19:55:13.597Z"
   },
   {
    "duration": 4,
    "start_time": "2022-01-17T19:55:17.628Z"
   },
   {
    "duration": 4,
    "start_time": "2022-01-17T19:56:01.496Z"
   },
   {
    "duration": 5,
    "start_time": "2022-01-17T19:56:11.268Z"
   },
   {
    "duration": 3,
    "start_time": "2022-01-17T19:57:54.055Z"
   },
   {
    "duration": 4,
    "start_time": "2022-01-17T19:57:54.449Z"
   },
   {
    "duration": 5,
    "start_time": "2022-01-17T19:57:54.881Z"
   },
   {
    "duration": 4,
    "start_time": "2022-01-17T19:57:55.611Z"
   },
   {
    "duration": 4,
    "start_time": "2022-01-17T19:57:56.261Z"
   },
   {
    "duration": 5,
    "start_time": "2022-01-17T19:58:20.696Z"
   },
   {
    "duration": 5,
    "start_time": "2022-01-17T19:58:21.760Z"
   },
   {
    "duration": 5,
    "start_time": "2022-01-17T19:58:54.157Z"
   },
   {
    "duration": 5,
    "start_time": "2022-01-17T19:58:54.573Z"
   },
   {
    "duration": 78,
    "start_time": "2022-01-17T20:08:28.352Z"
   },
   {
    "duration": 97,
    "start_time": "2022-01-17T20:08:40.636Z"
   },
   {
    "duration": 4,
    "start_time": "2022-01-17T20:10:12.917Z"
   },
   {
    "duration": 5,
    "start_time": "2022-01-17T20:10:13.500Z"
   },
   {
    "duration": 5,
    "start_time": "2022-01-17T20:10:13.747Z"
   },
   {
    "duration": 4,
    "start_time": "2022-01-17T20:10:15.194Z"
   },
   {
    "duration": 3,
    "start_time": "2022-01-17T20:10:15.548Z"
   },
   {
    "duration": 5,
    "start_time": "2022-01-17T20:11:32.049Z"
   },
   {
    "duration": 89,
    "start_time": "2022-01-17T20:12:01.784Z"
   },
   {
    "duration": 6,
    "start_time": "2022-01-17T20:12:06.819Z"
   },
   {
    "duration": 357,
    "start_time": "2022-01-17T20:13:15.822Z"
   },
   {
    "duration": 5,
    "start_time": "2022-01-17T20:13:20.846Z"
   },
   {
    "duration": 13,
    "start_time": "2022-01-17T20:13:21.232Z"
   },
   {
    "duration": 5,
    "start_time": "2022-01-17T20:13:21.593Z"
   },
   {
    "duration": 10,
    "start_time": "2022-01-17T20:13:22.179Z"
   },
   {
    "duration": 11,
    "start_time": "2022-01-17T20:13:22.832Z"
   },
   {
    "duration": 9,
    "start_time": "2022-01-17T20:13:30.175Z"
   },
   {
    "duration": 8,
    "start_time": "2022-01-17T20:14:00.390Z"
   },
   {
    "duration": 6,
    "start_time": "2022-01-17T20:14:00.868Z"
   },
   {
    "duration": 6,
    "start_time": "2022-01-17T20:14:01.326Z"
   },
   {
    "duration": 10,
    "start_time": "2022-01-17T20:14:03.135Z"
   },
   {
    "duration": 9,
    "start_time": "2022-01-17T20:14:03.617Z"
   },
   {
    "duration": 8,
    "start_time": "2022-01-17T20:14:32.135Z"
   },
   {
    "duration": 3,
    "start_time": "2022-01-17T20:14:38.951Z"
   },
   {
    "duration": 29,
    "start_time": "2022-01-17T20:14:38.956Z"
   },
   {
    "duration": 16,
    "start_time": "2022-01-17T20:14:38.987Z"
   },
   {
    "duration": 6,
    "start_time": "2022-01-17T20:14:39.004Z"
   },
   {
    "duration": 19,
    "start_time": "2022-01-17T20:14:39.011Z"
   },
   {
    "duration": 70,
    "start_time": "2022-01-17T20:14:39.032Z"
   },
   {
    "duration": 4,
    "start_time": "2022-01-17T20:14:39.104Z"
   },
   {
    "duration": 86,
    "start_time": "2022-01-17T20:14:39.112Z"
   },
   {
    "duration": 4,
    "start_time": "2022-01-17T20:14:39.201Z"
   },
   {
    "duration": 25,
    "start_time": "2022-01-17T20:14:39.207Z"
   },
   {
    "duration": 4,
    "start_time": "2022-01-17T20:14:39.234Z"
   },
   {
    "duration": 21,
    "start_time": "2022-01-17T20:14:39.240Z"
   },
   {
    "duration": 41,
    "start_time": "2022-01-17T20:14:39.263Z"
   },
   {
    "duration": 98,
    "start_time": "2022-01-17T20:14:39.306Z"
   },
   {
    "duration": 10,
    "start_time": "2022-01-17T20:14:39.406Z"
   },
   {
    "duration": 7,
    "start_time": "2022-01-17T20:14:39.418Z"
   },
   {
    "duration": 15,
    "start_time": "2022-01-17T20:14:39.427Z"
   },
   {
    "duration": 20,
    "start_time": "2022-01-17T20:14:39.444Z"
   },
   {
    "duration": 8,
    "start_time": "2022-01-17T20:14:39.466Z"
   },
   {
    "duration": 9,
    "start_time": "2022-01-17T20:14:39.475Z"
   },
   {
    "duration": 4,
    "start_time": "2022-01-17T20:14:45.871Z"
   },
   {
    "duration": 22,
    "start_time": "2022-01-17T20:14:45.877Z"
   },
   {
    "duration": 9,
    "start_time": "2022-01-17T20:14:45.902Z"
   },
   {
    "duration": 6,
    "start_time": "2022-01-17T20:14:45.913Z"
   },
   {
    "duration": 5,
    "start_time": "2022-01-17T20:14:45.921Z"
   },
   {
    "duration": 70,
    "start_time": "2022-01-17T20:14:45.928Z"
   },
   {
    "duration": 5,
    "start_time": "2022-01-17T20:14:46.001Z"
   },
   {
    "duration": 6,
    "start_time": "2022-01-17T20:14:46.009Z"
   },
   {
    "duration": 85,
    "start_time": "2022-01-17T20:14:46.018Z"
   },
   {
    "duration": 13,
    "start_time": "2022-01-17T20:14:46.105Z"
   },
   {
    "duration": 5,
    "start_time": "2022-01-17T20:14:46.120Z"
   },
   {
    "duration": 6,
    "start_time": "2022-01-17T20:14:46.127Z"
   },
   {
    "duration": 76,
    "start_time": "2022-01-17T20:14:46.136Z"
   },
   {
    "duration": 89,
    "start_time": "2022-01-17T20:14:46.214Z"
   },
   {
    "duration": 7,
    "start_time": "2022-01-17T20:14:46.304Z"
   },
   {
    "duration": 5,
    "start_time": "2022-01-17T20:14:46.312Z"
   },
   {
    "duration": 8,
    "start_time": "2022-01-17T20:14:46.319Z"
   },
   {
    "duration": 10,
    "start_time": "2022-01-17T20:14:46.328Z"
   },
   {
    "duration": 7,
    "start_time": "2022-01-17T20:14:46.339Z"
   },
   {
    "duration": 8,
    "start_time": "2022-01-17T20:14:46.348Z"
   },
   {
    "duration": 6,
    "start_time": "2022-01-17T20:15:10.746Z"
   },
   {
    "duration": 6,
    "start_time": "2022-01-17T20:15:10.941Z"
   },
   {
    "duration": 5,
    "start_time": "2022-01-17T20:15:11.132Z"
   },
   {
    "duration": 8,
    "start_time": "2022-01-17T20:15:11.579Z"
   },
   {
    "duration": 8,
    "start_time": "2022-01-17T20:15:11.800Z"
   },
   {
    "duration": 9,
    "start_time": "2022-01-17T20:15:12.045Z"
   },
   {
    "duration": 10,
    "start_time": "2022-01-17T20:15:28.002Z"
   },
   {
    "duration": 5,
    "start_time": "2022-01-17T20:15:41.360Z"
   },
   {
    "duration": 41,
    "start_time": "2022-01-17T20:15:41.368Z"
   },
   {
    "duration": 30,
    "start_time": "2022-01-17T20:15:41.412Z"
   },
   {
    "duration": 7,
    "start_time": "2022-01-17T20:15:41.445Z"
   },
   {
    "duration": 23,
    "start_time": "2022-01-17T20:15:41.455Z"
   },
   {
    "duration": 17,
    "start_time": "2022-01-17T20:15:41.499Z"
   },
   {
    "duration": 85,
    "start_time": "2022-01-17T20:15:41.519Z"
   },
   {
    "duration": 4,
    "start_time": "2022-01-17T20:15:41.607Z"
   },
   {
    "duration": 7,
    "start_time": "2022-01-17T20:15:41.613Z"
   },
   {
    "duration": 16,
    "start_time": "2022-01-17T20:15:41.621Z"
   },
   {
    "duration": 6,
    "start_time": "2022-01-17T20:15:41.639Z"
   },
   {
    "duration": 60,
    "start_time": "2022-01-17T20:15:41.646Z"
   },
   {
    "duration": 92,
    "start_time": "2022-01-17T20:15:41.708Z"
   },
   {
    "duration": 9,
    "start_time": "2022-01-17T20:15:41.802Z"
   },
   {
    "duration": 8,
    "start_time": "2022-01-17T20:15:41.813Z"
   },
   {
    "duration": 8,
    "start_time": "2022-01-17T20:15:41.822Z"
   },
   {
    "duration": 8,
    "start_time": "2022-01-17T20:15:41.832Z"
   },
   {
    "duration": 11,
    "start_time": "2022-01-17T20:15:41.842Z"
   },
   {
    "duration": 10,
    "start_time": "2022-01-17T20:15:41.854Z"
   },
   {
    "duration": 37,
    "start_time": "2022-01-17T20:15:41.866Z"
   },
   {
    "duration": 3,
    "start_time": "2022-01-17T20:16:56.681Z"
   },
   {
    "duration": 16,
    "start_time": "2022-01-17T20:16:57.165Z"
   },
   {
    "duration": 10,
    "start_time": "2022-01-17T20:16:57.457Z"
   },
   {
    "duration": 5,
    "start_time": "2022-01-17T20:17:02.438Z"
   },
   {
    "duration": 7,
    "start_time": "2022-01-17T20:17:02.963Z"
   },
   {
    "duration": 6,
    "start_time": "2022-01-17T20:17:03.242Z"
   },
   {
    "duration": 3,
    "start_time": "2022-01-17T20:17:04.086Z"
   },
   {
    "duration": 3,
    "start_time": "2022-01-17T20:17:04.359Z"
   },
   {
    "duration": 5,
    "start_time": "2022-01-17T20:17:06.249Z"
   },
   {
    "duration": 14,
    "start_time": "2022-01-17T20:17:06.815Z"
   },
   {
    "duration": 5,
    "start_time": "2022-01-17T20:17:07.428Z"
   },
   {
    "duration": 5,
    "start_time": "2022-01-17T20:17:07.970Z"
   },
   {
    "duration": 11,
    "start_time": "2022-01-17T20:17:08.529Z"
   },
   {
    "duration": 10,
    "start_time": "2022-01-17T20:17:09.103Z"
   },
   {
    "duration": 7,
    "start_time": "2022-01-17T20:17:09.675Z"
   },
   {
    "duration": 5,
    "start_time": "2022-01-17T20:17:09.976Z"
   },
   {
    "duration": 6,
    "start_time": "2022-01-17T20:17:10.220Z"
   },
   {
    "duration": 9,
    "start_time": "2022-01-17T20:17:10.764Z"
   },
   {
    "duration": 8,
    "start_time": "2022-01-17T20:17:11.049Z"
   },
   {
    "duration": 7,
    "start_time": "2022-01-17T20:17:11.328Z"
   },
   {
    "duration": 105,
    "start_time": "2022-01-18T09:58:18.561Z"
   },
   {
    "duration": 105,
    "start_time": "2022-01-18T10:00:25.538Z"
   },
   {
    "duration": 97,
    "start_time": "2022-01-18T10:01:14.529Z"
   },
   {
    "duration": 105,
    "start_time": "2022-01-18T10:02:15.587Z"
   },
   {
    "duration": 1170,
    "start_time": "2022-01-18T10:03:08.542Z"
   },
   {
    "duration": 18,
    "start_time": "2022-01-18T10:03:09.714Z"
   },
   {
    "duration": 16,
    "start_time": "2022-01-18T10:03:09.733Z"
   },
   {
    "duration": 4,
    "start_time": "2022-01-18T10:03:09.751Z"
   },
   {
    "duration": 15,
    "start_time": "2022-01-18T10:03:09.756Z"
   },
   {
    "duration": 5,
    "start_time": "2022-01-18T10:03:09.773Z"
   },
   {
    "duration": 4,
    "start_time": "2022-01-18T10:03:09.780Z"
   },
   {
    "duration": 87,
    "start_time": "2022-01-18T10:03:09.785Z"
   },
   {
    "duration": 6,
    "start_time": "2022-01-18T10:03:09.876Z"
   },
   {
    "duration": 93,
    "start_time": "2022-01-18T10:03:09.884Z"
   },
   {
    "duration": 4,
    "start_time": "2022-01-18T10:03:09.978Z"
   },
   {
    "duration": 8,
    "start_time": "2022-01-18T10:03:09.984Z"
   },
   {
    "duration": 79,
    "start_time": "2022-01-18T10:03:09.994Z"
   },
   {
    "duration": 10,
    "start_time": "2022-01-18T10:03:10.076Z"
   },
   {
    "duration": 85,
    "start_time": "2022-01-18T10:03:10.088Z"
   },
   {
    "duration": 5,
    "start_time": "2022-01-18T10:03:10.174Z"
   },
   {
    "duration": 6,
    "start_time": "2022-01-18T10:03:10.180Z"
   },
   {
    "duration": 7,
    "start_time": "2022-01-18T10:03:10.188Z"
   },
   {
    "duration": 6,
    "start_time": "2022-01-18T10:03:10.196Z"
   },
   {
    "duration": 8,
    "start_time": "2022-01-18T10:03:10.203Z"
   },
   {
    "duration": 123,
    "start_time": "2022-01-18T14:18:22.168Z"
   },
   {
    "duration": 85,
    "start_time": "2022-01-18T17:25:32.890Z"
   }
  ],
  "kernelspec": {
   "display_name": "Python 3 (ipykernel)",
   "language": "python",
   "name": "python3"
  },
  "language_info": {
   "codemirror_mode": {
    "name": "ipython",
    "version": 3
   },
   "file_extension": ".py",
   "mimetype": "text/x-python",
   "name": "python",
   "nbconvert_exporter": "python",
   "pygments_lexer": "ipython3",
   "version": "3.9.7"
  },
  "toc": {
   "base_numbering": 1,
   "nav_menu": {},
   "number_sections": true,
   "sideBar": true,
   "skip_h1_title": true,
   "title_cell": "Содержание",
   "title_sidebar": "Contents",
   "toc_cell": true,
   "toc_position": {},
   "toc_section_display": true,
   "toc_window_display": false
  }
 },
 "nbformat": 4,
 "nbformat_minor": 2
}
