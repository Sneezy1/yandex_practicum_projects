{
 "cells": [
  {
   "cell_type": "markdown",
   "metadata": {},
   "source": [
    "## 1. Загрузка данных и изучение общей информации"
   ]
  },
  {
   "cell_type": "code",
   "execution_count": 976,
   "metadata": {},
   "outputs": [],
   "source": [
    "import pandas as pd\n",
    "import seaborn as sns\n",
    "import scipy.stats as st\n",
    "import matplotlib.pyplot as plt\n",
    "import numpy as np\n",
    "sns.set(rc={'figure.figsize':(10.7,6)})\n",
    "\n",
    "pd.set_option('chained_assignment', None)"
   ]
  },
  {
   "cell_type": "markdown",
   "metadata": {},
   "source": [
    "Загрузим все датасеты и по очереди посмотрим на каждый"
   ]
  },
  {
   "cell_type": "code",
   "execution_count": 977,
   "metadata": {},
   "outputs": [],
   "source": [
    "calls_df = pd.read_csv('/datasets/calls.csv')\n",
    "internet_df = pd.read_csv('/datasets/internet.csv', index_col='Unnamed: 0')\n",
    "messages_df = pd.read_csv('/datasets/messages.csv')\n",
    "tariffs_df = pd.read_csv('/datasets/tariffs.csv')\n",
    "users_df = pd.read_csv('/datasets/users.csv')"
   ]
  },
  {
   "cell_type": "code",
   "execution_count": 978,
   "metadata": {},
   "outputs": [
    {
     "data": {
      "text/html": [
       "<div>\n",
       "<style scoped>\n",
       "    .dataframe tbody tr th:only-of-type {\n",
       "        vertical-align: middle;\n",
       "    }\n",
       "\n",
       "    .dataframe tbody tr th {\n",
       "        vertical-align: top;\n",
       "    }\n",
       "\n",
       "    .dataframe thead th {\n",
       "        text-align: right;\n",
       "    }\n",
       "</style>\n",
       "<table border=\"1\" class=\"dataframe\">\n",
       "  <thead>\n",
       "    <tr style=\"text-align: right;\">\n",
       "      <th></th>\n",
       "      <th>id</th>\n",
       "      <th>call_date</th>\n",
       "      <th>duration</th>\n",
       "      <th>user_id</th>\n",
       "    </tr>\n",
       "  </thead>\n",
       "  <tbody>\n",
       "    <tr>\n",
       "      <td>159467</td>\n",
       "      <td>1393_719</td>\n",
       "      <td>2018-05-07</td>\n",
       "      <td>0.00</td>\n",
       "      <td>1393</td>\n",
       "    </tr>\n",
       "    <tr>\n",
       "      <td>176221</td>\n",
       "      <td>1435_139</td>\n",
       "      <td>2018-06-07</td>\n",
       "      <td>17.89</td>\n",
       "      <td>1435</td>\n",
       "    </tr>\n",
       "    <tr>\n",
       "      <td>163358</td>\n",
       "      <td>1402_181</td>\n",
       "      <td>2018-11-11</td>\n",
       "      <td>3.58</td>\n",
       "      <td>1402</td>\n",
       "    </tr>\n",
       "    <tr>\n",
       "      <td>24177</td>\n",
       "      <td>1061_257</td>\n",
       "      <td>2018-11-07</td>\n",
       "      <td>7.57</td>\n",
       "      <td>1061</td>\n",
       "    </tr>\n",
       "    <tr>\n",
       "      <td>121167</td>\n",
       "      <td>1313_131</td>\n",
       "      <td>2018-12-10</td>\n",
       "      <td>14.76</td>\n",
       "      <td>1313</td>\n",
       "    </tr>\n",
       "  </tbody>\n",
       "</table>\n",
       "</div>"
      ],
      "text/plain": [
       "              id   call_date  duration  user_id\n",
       "159467  1393_719  2018-05-07      0.00     1393\n",
       "176221  1435_139  2018-06-07     17.89     1435\n",
       "163358  1402_181  2018-11-11      3.58     1402\n",
       "24177   1061_257  2018-11-07      7.57     1061\n",
       "121167  1313_131  2018-12-10     14.76     1313"
      ]
     },
     "execution_count": 978,
     "metadata": {},
     "output_type": "execute_result"
    }
   ],
   "source": [
    "calls_df.sample(5)"
   ]
  },
  {
   "cell_type": "code",
   "execution_count": 979,
   "metadata": {
    "scrolled": true
   },
   "outputs": [
    {
     "data": {
      "text/plain": [
       "id           0.0%\n",
       "call_date    0.0%\n",
       "duration     0.0%\n",
       "user_id      0.0%\n",
       "dtype: object"
      ]
     },
     "execution_count": 979,
     "metadata": {},
     "output_type": "execute_result"
    }
   ],
   "source": [
    "calls_df.isna().mean().apply(\"{:.1%}\".format)"
   ]
  },
  {
   "cell_type": "code",
   "execution_count": 980,
   "metadata": {},
   "outputs": [
    {
     "data": {
      "text/html": [
       "<div>\n",
       "<style scoped>\n",
       "    .dataframe tbody tr th:only-of-type {\n",
       "        vertical-align: middle;\n",
       "    }\n",
       "\n",
       "    .dataframe tbody tr th {\n",
       "        vertical-align: top;\n",
       "    }\n",
       "\n",
       "    .dataframe thead th {\n",
       "        text-align: right;\n",
       "    }\n",
       "</style>\n",
       "<table border=\"1\" class=\"dataframe\">\n",
       "  <thead>\n",
       "    <tr style=\"text-align: right;\">\n",
       "      <th></th>\n",
       "      <th>count</th>\n",
       "      <th>mean</th>\n",
       "      <th>std</th>\n",
       "      <th>min</th>\n",
       "      <th>25%</th>\n",
       "      <th>50%</th>\n",
       "      <th>75%</th>\n",
       "      <th>max</th>\n",
       "    </tr>\n",
       "  </thead>\n",
       "  <tbody>\n",
       "    <tr>\n",
       "      <td>duration</td>\n",
       "      <td>202607.0</td>\n",
       "      <td>6.755887</td>\n",
       "      <td>5.843365</td>\n",
       "      <td>0.0</td>\n",
       "      <td>1.3</td>\n",
       "      <td>6.0</td>\n",
       "      <td>10.7</td>\n",
       "      <td>38.0</td>\n",
       "    </tr>\n",
       "    <tr>\n",
       "      <td>user_id</td>\n",
       "      <td>202607.0</td>\n",
       "      <td>1253.940619</td>\n",
       "      <td>144.722751</td>\n",
       "      <td>1000.0</td>\n",
       "      <td>1126.0</td>\n",
       "      <td>1260.0</td>\n",
       "      <td>1379.0</td>\n",
       "      <td>1499.0</td>\n",
       "    </tr>\n",
       "  </tbody>\n",
       "</table>\n",
       "</div>"
      ],
      "text/plain": [
       "             count         mean         std     min     25%     50%     75%  \\\n",
       "duration  202607.0     6.755887    5.843365     0.0     1.3     6.0    10.7   \n",
       "user_id   202607.0  1253.940619  144.722751  1000.0  1126.0  1260.0  1379.0   \n",
       "\n",
       "             max  \n",
       "duration    38.0  \n",
       "user_id   1499.0  "
      ]
     },
     "execution_count": 980,
     "metadata": {},
     "output_type": "execute_result"
    }
   ],
   "source": [
    "calls_df.describe().T"
   ]
  },
  {
   "cell_type": "code",
   "execution_count": 981,
   "metadata": {},
   "outputs": [
    {
     "data": {
      "text/plain": [
       "id            object\n",
       "call_date     object\n",
       "duration     float64\n",
       "user_id        int64\n",
       "dtype: object"
      ]
     },
     "execution_count": 981,
     "metadata": {},
     "output_type": "execute_result"
    }
   ],
   "source": [
    "calls_df.dtypes"
   ]
  },
  {
   "cell_type": "code",
   "execution_count": 982,
   "metadata": {},
   "outputs": [
    {
     "data": {
      "text/html": [
       "<div>\n",
       "<style scoped>\n",
       "    .dataframe tbody tr th:only-of-type {\n",
       "        vertical-align: middle;\n",
       "    }\n",
       "\n",
       "    .dataframe tbody tr th {\n",
       "        vertical-align: top;\n",
       "    }\n",
       "\n",
       "    .dataframe thead th {\n",
       "        text-align: right;\n",
       "    }\n",
       "</style>\n",
       "<table border=\"1\" class=\"dataframe\">\n",
       "  <thead>\n",
       "    <tr style=\"text-align: right;\">\n",
       "      <th></th>\n",
       "      <th>id</th>\n",
       "      <th>mb_used</th>\n",
       "      <th>session_date</th>\n",
       "      <th>user_id</th>\n",
       "    </tr>\n",
       "  </thead>\n",
       "  <tbody>\n",
       "    <tr>\n",
       "      <td>78515</td>\n",
       "      <td>1264_134</td>\n",
       "      <td>210.78</td>\n",
       "      <td>2018-04-25</td>\n",
       "      <td>1264</td>\n",
       "    </tr>\n",
       "    <tr>\n",
       "      <td>117552</td>\n",
       "      <td>1395_236</td>\n",
       "      <td>0.00</td>\n",
       "      <td>2018-11-09</td>\n",
       "      <td>1395</td>\n",
       "    </tr>\n",
       "    <tr>\n",
       "      <td>53080</td>\n",
       "      <td>1178_259</td>\n",
       "      <td>486.77</td>\n",
       "      <td>2018-06-20</td>\n",
       "      <td>1178</td>\n",
       "    </tr>\n",
       "    <tr>\n",
       "      <td>136453</td>\n",
       "      <td>1457_295</td>\n",
       "      <td>265.76</td>\n",
       "      <td>2018-11-15</td>\n",
       "      <td>1457</td>\n",
       "    </tr>\n",
       "    <tr>\n",
       "      <td>96679</td>\n",
       "      <td>1326_42</td>\n",
       "      <td>288.02</td>\n",
       "      <td>2018-06-09</td>\n",
       "      <td>1326</td>\n",
       "    </tr>\n",
       "  </tbody>\n",
       "</table>\n",
       "</div>"
      ],
      "text/plain": [
       "              id  mb_used session_date  user_id\n",
       "78515   1264_134   210.78   2018-04-25     1264\n",
       "117552  1395_236     0.00   2018-11-09     1395\n",
       "53080   1178_259   486.77   2018-06-20     1178\n",
       "136453  1457_295   265.76   2018-11-15     1457\n",
       "96679    1326_42   288.02   2018-06-09     1326"
      ]
     },
     "execution_count": 982,
     "metadata": {},
     "output_type": "execute_result"
    }
   ],
   "source": [
    "internet_df.sample(5)"
   ]
  },
  {
   "cell_type": "code",
   "execution_count": 983,
   "metadata": {},
   "outputs": [
    {
     "data": {
      "text/plain": [
       "id              0.0%\n",
       "mb_used         0.0%\n",
       "session_date    0.0%\n",
       "user_id         0.0%\n",
       "dtype: object"
      ]
     },
     "execution_count": 983,
     "metadata": {},
     "output_type": "execute_result"
    }
   ],
   "source": [
    "internet_df.isna().mean().apply(\"{:.1%}\".format)"
   ]
  },
  {
   "cell_type": "code",
   "execution_count": 984,
   "metadata": {},
   "outputs": [
    {
     "data": {
      "text/html": [
       "<div>\n",
       "<style scoped>\n",
       "    .dataframe tbody tr th:only-of-type {\n",
       "        vertical-align: middle;\n",
       "    }\n",
       "\n",
       "    .dataframe tbody tr th {\n",
       "        vertical-align: top;\n",
       "    }\n",
       "\n",
       "    .dataframe thead th {\n",
       "        text-align: right;\n",
       "    }\n",
       "</style>\n",
       "<table border=\"1\" class=\"dataframe\">\n",
       "  <thead>\n",
       "    <tr style=\"text-align: right;\">\n",
       "      <th></th>\n",
       "      <th>count</th>\n",
       "      <th>mean</th>\n",
       "      <th>std</th>\n",
       "      <th>min</th>\n",
       "      <th>25%</th>\n",
       "      <th>50%</th>\n",
       "      <th>75%</th>\n",
       "      <th>max</th>\n",
       "    </tr>\n",
       "  </thead>\n",
       "  <tbody>\n",
       "    <tr>\n",
       "      <td>mb_used</td>\n",
       "      <td>149396.0</td>\n",
       "      <td>370.192426</td>\n",
       "      <td>278.300951</td>\n",
       "      <td>0.0</td>\n",
       "      <td>138.1875</td>\n",
       "      <td>348.015</td>\n",
       "      <td>559.5525</td>\n",
       "      <td>1724.83</td>\n",
       "    </tr>\n",
       "    <tr>\n",
       "      <td>user_id</td>\n",
       "      <td>149396.0</td>\n",
       "      <td>1252.099842</td>\n",
       "      <td>144.050823</td>\n",
       "      <td>1000.0</td>\n",
       "      <td>1130.0000</td>\n",
       "      <td>1251.000</td>\n",
       "      <td>1380.0000</td>\n",
       "      <td>1499.00</td>\n",
       "    </tr>\n",
       "  </tbody>\n",
       "</table>\n",
       "</div>"
      ],
      "text/plain": [
       "            count         mean         std     min        25%       50%  \\\n",
       "mb_used  149396.0   370.192426  278.300951     0.0   138.1875   348.015   \n",
       "user_id  149396.0  1252.099842  144.050823  1000.0  1130.0000  1251.000   \n",
       "\n",
       "               75%      max  \n",
       "mb_used   559.5525  1724.83  \n",
       "user_id  1380.0000  1499.00  "
      ]
     },
     "execution_count": 984,
     "metadata": {},
     "output_type": "execute_result"
    }
   ],
   "source": [
    "internet_df.describe().T"
   ]
  },
  {
   "cell_type": "code",
   "execution_count": 985,
   "metadata": {},
   "outputs": [
    {
     "data": {
      "text/plain": [
       "id               object\n",
       "mb_used         float64\n",
       "session_date     object\n",
       "user_id           int64\n",
       "dtype: object"
      ]
     },
     "execution_count": 985,
     "metadata": {},
     "output_type": "execute_result"
    }
   ],
   "source": [
    "internet_df.dtypes"
   ]
  },
  {
   "cell_type": "code",
   "execution_count": 986,
   "metadata": {},
   "outputs": [
    {
     "data": {
      "text/html": [
       "<div>\n",
       "<style scoped>\n",
       "    .dataframe tbody tr th:only-of-type {\n",
       "        vertical-align: middle;\n",
       "    }\n",
       "\n",
       "    .dataframe tbody tr th {\n",
       "        vertical-align: top;\n",
       "    }\n",
       "\n",
       "    .dataframe thead th {\n",
       "        text-align: right;\n",
       "    }\n",
       "</style>\n",
       "<table border=\"1\" class=\"dataframe\">\n",
       "  <thead>\n",
       "    <tr style=\"text-align: right;\">\n",
       "      <th></th>\n",
       "      <th>id</th>\n",
       "      <th>message_date</th>\n",
       "      <th>user_id</th>\n",
       "    </tr>\n",
       "  </thead>\n",
       "  <tbody>\n",
       "    <tr>\n",
       "      <td>60894</td>\n",
       "      <td>1268_209</td>\n",
       "      <td>2018-10-26</td>\n",
       "      <td>1268</td>\n",
       "    </tr>\n",
       "    <tr>\n",
       "      <td>104357</td>\n",
       "      <td>1424_210</td>\n",
       "      <td>2018-10-17</td>\n",
       "      <td>1424</td>\n",
       "    </tr>\n",
       "    <tr>\n",
       "      <td>33681</td>\n",
       "      <td>1146_479</td>\n",
       "      <td>2018-11-13</td>\n",
       "      <td>1146</td>\n",
       "    </tr>\n",
       "    <tr>\n",
       "      <td>11416</td>\n",
       "      <td>1048_62</td>\n",
       "      <td>2018-09-04</td>\n",
       "      <td>1048</td>\n",
       "    </tr>\n",
       "    <tr>\n",
       "      <td>58712</td>\n",
       "      <td>1257_504</td>\n",
       "      <td>2018-12-15</td>\n",
       "      <td>1257</td>\n",
       "    </tr>\n",
       "  </tbody>\n",
       "</table>\n",
       "</div>"
      ],
      "text/plain": [
       "              id message_date  user_id\n",
       "60894   1268_209   2018-10-26     1268\n",
       "104357  1424_210   2018-10-17     1424\n",
       "33681   1146_479   2018-11-13     1146\n",
       "11416    1048_62   2018-09-04     1048\n",
       "58712   1257_504   2018-12-15     1257"
      ]
     },
     "execution_count": 986,
     "metadata": {},
     "output_type": "execute_result"
    }
   ],
   "source": [
    "messages_df.sample(5)"
   ]
  },
  {
   "cell_type": "code",
   "execution_count": 987,
   "metadata": {},
   "outputs": [
    {
     "data": {
      "text/plain": [
       "id              0.0%\n",
       "message_date    0.0%\n",
       "user_id         0.0%\n",
       "dtype: object"
      ]
     },
     "execution_count": 987,
     "metadata": {},
     "output_type": "execute_result"
    }
   ],
   "source": [
    "messages_df.isna().mean().apply(\"{:.1%}\".format)"
   ]
  },
  {
   "cell_type": "code",
   "execution_count": 988,
   "metadata": {},
   "outputs": [
    {
     "data": {
      "text/html": [
       "<div>\n",
       "<style scoped>\n",
       "    .dataframe tbody tr th:only-of-type {\n",
       "        vertical-align: middle;\n",
       "    }\n",
       "\n",
       "    .dataframe tbody tr th {\n",
       "        vertical-align: top;\n",
       "    }\n",
       "\n",
       "    .dataframe thead th {\n",
       "        text-align: right;\n",
       "    }\n",
       "</style>\n",
       "<table border=\"1\" class=\"dataframe\">\n",
       "  <thead>\n",
       "    <tr style=\"text-align: right;\">\n",
       "      <th></th>\n",
       "      <th>count</th>\n",
       "      <th>mean</th>\n",
       "      <th>std</th>\n",
       "      <th>min</th>\n",
       "      <th>25%</th>\n",
       "      <th>50%</th>\n",
       "      <th>75%</th>\n",
       "      <th>max</th>\n",
       "    </tr>\n",
       "  </thead>\n",
       "  <tbody>\n",
       "    <tr>\n",
       "      <td>user_id</td>\n",
       "      <td>123036.0</td>\n",
       "      <td>1256.98941</td>\n",
       "      <td>143.523967</td>\n",
       "      <td>1000.0</td>\n",
       "      <td>1134.0</td>\n",
       "      <td>1271.0</td>\n",
       "      <td>1381.0</td>\n",
       "      <td>1499.0</td>\n",
       "    </tr>\n",
       "  </tbody>\n",
       "</table>\n",
       "</div>"
      ],
      "text/plain": [
       "            count        mean         std     min     25%     50%     75%  \\\n",
       "user_id  123036.0  1256.98941  143.523967  1000.0  1134.0  1271.0  1381.0   \n",
       "\n",
       "            max  \n",
       "user_id  1499.0  "
      ]
     },
     "execution_count": 988,
     "metadata": {},
     "output_type": "execute_result"
    }
   ],
   "source": [
    "messages_df.describe().T"
   ]
  },
  {
   "cell_type": "code",
   "execution_count": 989,
   "metadata": {},
   "outputs": [
    {
     "data": {
      "text/plain": [
       "id              object\n",
       "message_date    object\n",
       "user_id          int64\n",
       "dtype: object"
      ]
     },
     "execution_count": 989,
     "metadata": {},
     "output_type": "execute_result"
    }
   ],
   "source": [
    "messages_df.dtypes"
   ]
  },
  {
   "cell_type": "code",
   "execution_count": 990,
   "metadata": {},
   "outputs": [
    {
     "data": {
      "text/html": [
       "<div>\n",
       "<style scoped>\n",
       "    .dataframe tbody tr th:only-of-type {\n",
       "        vertical-align: middle;\n",
       "    }\n",
       "\n",
       "    .dataframe tbody tr th {\n",
       "        vertical-align: top;\n",
       "    }\n",
       "\n",
       "    .dataframe thead th {\n",
       "        text-align: right;\n",
       "    }\n",
       "</style>\n",
       "<table border=\"1\" class=\"dataframe\">\n",
       "  <thead>\n",
       "    <tr style=\"text-align: right;\">\n",
       "      <th></th>\n",
       "      <th>messages_included</th>\n",
       "      <th>mb_per_month_included</th>\n",
       "      <th>minutes_included</th>\n",
       "      <th>rub_monthly_fee</th>\n",
       "      <th>rub_per_gb</th>\n",
       "      <th>rub_per_message</th>\n",
       "      <th>rub_per_minute</th>\n",
       "      <th>tariff_name</th>\n",
       "    </tr>\n",
       "  </thead>\n",
       "  <tbody>\n",
       "    <tr>\n",
       "      <td>0</td>\n",
       "      <td>50</td>\n",
       "      <td>15360</td>\n",
       "      <td>500</td>\n",
       "      <td>550</td>\n",
       "      <td>200</td>\n",
       "      <td>3</td>\n",
       "      <td>3</td>\n",
       "      <td>smart</td>\n",
       "    </tr>\n",
       "    <tr>\n",
       "      <td>1</td>\n",
       "      <td>1000</td>\n",
       "      <td>30720</td>\n",
       "      <td>3000</td>\n",
       "      <td>1950</td>\n",
       "      <td>150</td>\n",
       "      <td>1</td>\n",
       "      <td>1</td>\n",
       "      <td>ultra</td>\n",
       "    </tr>\n",
       "  </tbody>\n",
       "</table>\n",
       "</div>"
      ],
      "text/plain": [
       "   messages_included  mb_per_month_included  minutes_included  \\\n",
       "0                 50                  15360               500   \n",
       "1               1000                  30720              3000   \n",
       "\n",
       "   rub_monthly_fee  rub_per_gb  rub_per_message  rub_per_minute tariff_name  \n",
       "0              550         200                3               3       smart  \n",
       "1             1950         150                1               1       ultra  "
      ]
     },
     "execution_count": 990,
     "metadata": {},
     "output_type": "execute_result"
    }
   ],
   "source": [
    "tariffs_df"
   ]
  },
  {
   "cell_type": "code",
   "execution_count": 991,
   "metadata": {},
   "outputs": [
    {
     "data": {
      "text/html": [
       "<div>\n",
       "<style scoped>\n",
       "    .dataframe tbody tr th:only-of-type {\n",
       "        vertical-align: middle;\n",
       "    }\n",
       "\n",
       "    .dataframe tbody tr th {\n",
       "        vertical-align: top;\n",
       "    }\n",
       "\n",
       "    .dataframe thead th {\n",
       "        text-align: right;\n",
       "    }\n",
       "</style>\n",
       "<table border=\"1\" class=\"dataframe\">\n",
       "  <thead>\n",
       "    <tr style=\"text-align: right;\">\n",
       "      <th></th>\n",
       "      <th>user_id</th>\n",
       "      <th>age</th>\n",
       "      <th>churn_date</th>\n",
       "      <th>city</th>\n",
       "      <th>first_name</th>\n",
       "      <th>last_name</th>\n",
       "      <th>reg_date</th>\n",
       "      <th>tariff</th>\n",
       "    </tr>\n",
       "  </thead>\n",
       "  <tbody>\n",
       "    <tr>\n",
       "      <td>378</td>\n",
       "      <td>1378</td>\n",
       "      <td>21</td>\n",
       "      <td>NaN</td>\n",
       "      <td>Иркутск</td>\n",
       "      <td>Евгения</td>\n",
       "      <td>Бычкова</td>\n",
       "      <td>2018-01-19</td>\n",
       "      <td>smart</td>\n",
       "    </tr>\n",
       "    <tr>\n",
       "      <td>302</td>\n",
       "      <td>1302</td>\n",
       "      <td>43</td>\n",
       "      <td>NaN</td>\n",
       "      <td>Уфа</td>\n",
       "      <td>Владислав</td>\n",
       "      <td>Абаимов</td>\n",
       "      <td>2018-01-23</td>\n",
       "      <td>smart</td>\n",
       "    </tr>\n",
       "    <tr>\n",
       "      <td>470</td>\n",
       "      <td>1470</td>\n",
       "      <td>23</td>\n",
       "      <td>NaN</td>\n",
       "      <td>Новокузнецк</td>\n",
       "      <td>Эллада</td>\n",
       "      <td>Лосева</td>\n",
       "      <td>2018-10-19</td>\n",
       "      <td>smart</td>\n",
       "    </tr>\n",
       "    <tr>\n",
       "      <td>491</td>\n",
       "      <td>1491</td>\n",
       "      <td>56</td>\n",
       "      <td>NaN</td>\n",
       "      <td>Челябинск</td>\n",
       "      <td>Радислав</td>\n",
       "      <td>Андрейкин</td>\n",
       "      <td>2018-04-25</td>\n",
       "      <td>ultra</td>\n",
       "    </tr>\n",
       "    <tr>\n",
       "      <td>356</td>\n",
       "      <td>1356</td>\n",
       "      <td>75</td>\n",
       "      <td>NaN</td>\n",
       "      <td>Москва</td>\n",
       "      <td>Евгений</td>\n",
       "      <td>Гончаров</td>\n",
       "      <td>2018-04-18</td>\n",
       "      <td>ultra</td>\n",
       "    </tr>\n",
       "  </tbody>\n",
       "</table>\n",
       "</div>"
      ],
      "text/plain": [
       "     user_id  age churn_date         city first_name  last_name    reg_date  \\\n",
       "378     1378   21        NaN      Иркутск    Евгения    Бычкова  2018-01-19   \n",
       "302     1302   43        NaN          Уфа  Владислав    Абаимов  2018-01-23   \n",
       "470     1470   23        NaN  Новокузнецк     Эллада     Лосева  2018-10-19   \n",
       "491     1491   56        NaN    Челябинск   Радислав  Андрейкин  2018-04-25   \n",
       "356     1356   75        NaN       Москва    Евгений   Гончаров  2018-04-18   \n",
       "\n",
       "    tariff  \n",
       "378  smart  \n",
       "302  smart  \n",
       "470  smart  \n",
       "491  ultra  \n",
       "356  ultra  "
      ]
     },
     "execution_count": 991,
     "metadata": {},
     "output_type": "execute_result"
    }
   ],
   "source": [
    "users_df.sample(5)"
   ]
  },
  {
   "cell_type": "code",
   "execution_count": 992,
   "metadata": {},
   "outputs": [
    {
     "data": {
      "text/plain": [
       "user_id        0.0%\n",
       "age            0.0%\n",
       "churn_date    92.4%\n",
       "city           0.0%\n",
       "first_name     0.0%\n",
       "last_name      0.0%\n",
       "reg_date       0.0%\n",
       "tariff         0.0%\n",
       "dtype: object"
      ]
     },
     "execution_count": 992,
     "metadata": {},
     "output_type": "execute_result"
    }
   ],
   "source": [
    "users_df.isna().mean().apply(\"{:.1%}\".format)"
   ]
  },
  {
   "cell_type": "code",
   "execution_count": 993,
   "metadata": {},
   "outputs": [
    {
     "data": {
      "text/html": [
       "<div>\n",
       "<style scoped>\n",
       "    .dataframe tbody tr th:only-of-type {\n",
       "        vertical-align: middle;\n",
       "    }\n",
       "\n",
       "    .dataframe tbody tr th {\n",
       "        vertical-align: top;\n",
       "    }\n",
       "\n",
       "    .dataframe thead th {\n",
       "        text-align: right;\n",
       "    }\n",
       "</style>\n",
       "<table border=\"1\" class=\"dataframe\">\n",
       "  <thead>\n",
       "    <tr style=\"text-align: right;\">\n",
       "      <th></th>\n",
       "      <th>count</th>\n",
       "      <th>mean</th>\n",
       "      <th>std</th>\n",
       "      <th>min</th>\n",
       "      <th>25%</th>\n",
       "      <th>50%</th>\n",
       "      <th>75%</th>\n",
       "      <th>max</th>\n",
       "    </tr>\n",
       "  </thead>\n",
       "  <tbody>\n",
       "    <tr>\n",
       "      <td>user_id</td>\n",
       "      <td>500.0</td>\n",
       "      <td>1249.500</td>\n",
       "      <td>144.481833</td>\n",
       "      <td>1000.0</td>\n",
       "      <td>1124.75</td>\n",
       "      <td>1249.5</td>\n",
       "      <td>1374.25</td>\n",
       "      <td>1499.0</td>\n",
       "    </tr>\n",
       "    <tr>\n",
       "      <td>age</td>\n",
       "      <td>500.0</td>\n",
       "      <td>46.588</td>\n",
       "      <td>16.667630</td>\n",
       "      <td>18.0</td>\n",
       "      <td>32.00</td>\n",
       "      <td>46.0</td>\n",
       "      <td>62.00</td>\n",
       "      <td>75.0</td>\n",
       "    </tr>\n",
       "  </tbody>\n",
       "</table>\n",
       "</div>"
      ],
      "text/plain": [
       "         count      mean         std     min      25%     50%      75%     max\n",
       "user_id  500.0  1249.500  144.481833  1000.0  1124.75  1249.5  1374.25  1499.0\n",
       "age      500.0    46.588   16.667630    18.0    32.00    46.0    62.00    75.0"
      ]
     },
     "execution_count": 993,
     "metadata": {},
     "output_type": "execute_result"
    }
   ],
   "source": [
    "users_df.describe().T"
   ]
  },
  {
   "cell_type": "code",
   "execution_count": 994,
   "metadata": {},
   "outputs": [
    {
     "data": {
      "text/plain": [
       "user_id        int64\n",
       "age            int64\n",
       "churn_date    object\n",
       "city          object\n",
       "first_name    object\n",
       "last_name     object\n",
       "reg_date      object\n",
       "tariff        object\n",
       "dtype: object"
      ]
     },
     "execution_count": 994,
     "metadata": {},
     "output_type": "execute_result"
    }
   ],
   "source": [
    "users_df.dtypes"
   ]
  },
  {
   "cell_type": "markdown",
   "metadata": {},
   "source": [
    "### Выводы"
   ]
  },
  {
   "cell_type": "markdown",
   "metadata": {},
   "source": [
    "После загрузки и изучения общей информации можем сказать следующее:\n",
    " * Три из пяти загруженных датафреймов содержат от 100 до 200 тысяч записей\n",
    " * Пропуски есть только в одной колонке датафрейма users_df\n",
    " * Возможно, необходимо будет объединить некоторые датафреймы между собой для более удобной работы\n",
    " * Необходимо произвести преобразования типов в различных колонках"
   ]
  },
  {
   "cell_type": "markdown",
   "metadata": {},
   "source": [
    "## 2. Преодработка данных"
   ]
  },
  {
   "cell_type": "markdown",
   "metadata": {},
   "source": [
    "### Обработка пропусков"
   ]
  },
  {
   "cell_type": "markdown",
   "metadata": {},
   "source": [
    "Пропущенные значения есть только в колонке churn_date датафрейма users_df. Пропуски объясняются тем фактом, что на момент выгрузки данных клиент не прекратил пользоваться тарифом. Пока что оставим пропущенные значения без изменений, если будет необходимо, то создадим колонку с категориальной переменной, отвечающей за текущий статус сипользования тарифа пользователем."
   ]
  },
  {
   "cell_type": "markdown",
   "metadata": {},
   "source": [
    "### Изменение используемых типов данных"
   ]
  },
  {
   "cell_type": "markdown",
   "metadata": {},
   "source": [
    "Изменим типы данных для датафреймов в том же порядке, в котором мы их загружали. В датафрейме tariffs_df менять смысла нет, так как там всего две строчки и нет дат."
   ]
  },
  {
   "cell_type": "code",
   "execution_count": 995,
   "metadata": {},
   "outputs": [],
   "source": [
    "calls_df['call_date'] = pd.to_datetime(calls_df['call_date'], format='%Y-%m-%d', errors='raise')\n",
    "calls_df['duration'] = np.ceil(calls_df['duration']).astype('uint16')\n",
    "calls_df['user_id'] = calls_df['user_id'].astype('uint16')"
   ]
  },
  {
   "cell_type": "code",
   "execution_count": 996,
   "metadata": {},
   "outputs": [],
   "source": [
    "internet_df['mb_used'] = internet_df['mb_used'].astype('float16')\n",
    "internet_df['session_date'] = pd.to_datetime(internet_df['session_date'], format='%Y-%m-%d', errors='raise')\n",
    "internet_df['user_id'] = internet_df['user_id'].astype('uint16')"
   ]
  },
  {
   "cell_type": "code",
   "execution_count": 997,
   "metadata": {},
   "outputs": [],
   "source": [
    "messages_df['message_date'] = pd.to_datetime(messages_df['message_date'], format='%Y-%m-%d', errors='raise')\n",
    "messages_df['user_id'] = messages_df['user_id'].astype('uint16')"
   ]
  },
  {
   "cell_type": "code",
   "execution_count": 998,
   "metadata": {},
   "outputs": [],
   "source": [
    "users_df['user_id'] = users_df['user_id'].astype('uint16')\n",
    "users_df['age'] = users_df['age'].astype('uint8')\n",
    "users_df['reg_date'] = pd.to_datetime(users_df['reg_date'], format='%Y-%m-%d', errors='raise')"
   ]
  },
  {
   "cell_type": "markdown",
   "metadata": {},
   "source": [
    "Проверим наличие дубликатов в датафрейме с пользователями"
   ]
  },
  {
   "cell_type": "code",
   "execution_count": 999,
   "metadata": {},
   "outputs": [
    {
     "data": {
      "text/plain": [
       "0"
      ]
     },
     "execution_count": 999,
     "metadata": {},
     "output_type": "execute_result"
    }
   ],
   "source": [
    "users_df.duplicated().sum()"
   ]
  },
  {
   "cell_type": "markdown",
   "metadata": {},
   "source": [
    "### Выводы"
   ]
  },
  {
   "cell_type": "markdown",
   "metadata": {},
   "source": [
    "Пропущенные значения оставили без изменений, поскольку они отвечают за дату прекращения клиентом использования тарифа.\n",
    "Преобразовали типы данных для экономии используемой памяти.\n",
    "Проверили датафрейм с пользователями на отсутствие дубликатов."
   ]
  },
  {
   "cell_type": "markdown",
   "metadata": {},
   "source": [
    "## 3. Расчеты и добавление результатов в таблицу"
   ]
  },
  {
   "cell_type": "markdown",
   "metadata": {},
   "source": [
    "Добавим для каждого пользователя количество сделанных звонков за каждый месяц и количество израсходованным минут"
   ]
  },
  {
   "cell_type": "code",
   "execution_count": 1000,
   "metadata": {},
   "outputs": [],
   "source": [
    "calls_df['month'] = calls_df['call_date'].dt.month"
   ]
  },
  {
   "cell_type": "markdown",
   "metadata": {},
   "source": [
    "Для этого создадим сводную таблицу и посчитаем необходимые нам параметры"
   ]
  },
  {
   "cell_type": "code",
   "execution_count": 1001,
   "metadata": {},
   "outputs": [],
   "source": [
    "f2 = lambda x: (x > 0).count()\n",
    "    \n",
    "f1 = lambda x: (x > 0).sum()"
   ]
  },
  {
   "cell_type": "code",
   "execution_count": 1002,
   "metadata": {},
   "outputs": [],
   "source": [
    "grouped_calls = calls_df.copy()\n",
    "grouped_calls = grouped_calls.query('duration > 0')\n",
    "grouped_calls = grouped_calls.groupby(['user_id','month']).agg(minutes_sum=('duration','sum'), calls_count=('duration','count')).reset_index() "
   ]
  },
  {
   "cell_type": "code",
   "execution_count": 1003,
   "metadata": {},
   "outputs": [
    {
     "data": {
      "text/html": [
       "<div>\n",
       "<style scoped>\n",
       "    .dataframe tbody tr th:only-of-type {\n",
       "        vertical-align: middle;\n",
       "    }\n",
       "\n",
       "    .dataframe tbody tr th {\n",
       "        vertical-align: top;\n",
       "    }\n",
       "\n",
       "    .dataframe thead th {\n",
       "        text-align: right;\n",
       "    }\n",
       "</style>\n",
       "<table border=\"1\" class=\"dataframe\">\n",
       "  <thead>\n",
       "    <tr style=\"text-align: right;\">\n",
       "      <th></th>\n",
       "      <th>user_id</th>\n",
       "      <th>month</th>\n",
       "      <th>minutes_sum</th>\n",
       "      <th>calls_count</th>\n",
       "    </tr>\n",
       "  </thead>\n",
       "  <tbody>\n",
       "    <tr>\n",
       "      <td>166</td>\n",
       "      <td>1025</td>\n",
       "      <td>8</td>\n",
       "      <td>444</td>\n",
       "      <td>52</td>\n",
       "    </tr>\n",
       "    <tr>\n",
       "      <td>2835</td>\n",
       "      <td>1448</td>\n",
       "      <td>12</td>\n",
       "      <td>471</td>\n",
       "      <td>44</td>\n",
       "    </tr>\n",
       "    <tr>\n",
       "      <td>612</td>\n",
       "      <td>1098</td>\n",
       "      <td>9</td>\n",
       "      <td>456</td>\n",
       "      <td>54</td>\n",
       "    </tr>\n",
       "    <tr>\n",
       "      <td>2637</td>\n",
       "      <td>1416</td>\n",
       "      <td>11</td>\n",
       "      <td>861</td>\n",
       "      <td>107</td>\n",
       "    </tr>\n",
       "    <tr>\n",
       "      <td>930</td>\n",
       "      <td>1149</td>\n",
       "      <td>10</td>\n",
       "      <td>261</td>\n",
       "      <td>30</td>\n",
       "    </tr>\n",
       "  </tbody>\n",
       "</table>\n",
       "</div>"
      ],
      "text/plain": [
       "      user_id  month  minutes_sum  calls_count\n",
       "166      1025      8          444           52\n",
       "2835     1448     12          471           44\n",
       "612      1098      9          456           54\n",
       "2637     1416     11          861          107\n",
       "930      1149     10          261           30"
      ]
     },
     "execution_count": 1003,
     "metadata": {},
     "output_type": "execute_result"
    }
   ],
   "source": [
    "grouped_calls.sample(5)"
   ]
  },
  {
   "cell_type": "markdown",
   "metadata": {},
   "source": [
    "Теперь посчитаем количество отправленных сообщений по месяцам для каждого пользователя"
   ]
  },
  {
   "cell_type": "code",
   "execution_count": 1004,
   "metadata": {},
   "outputs": [],
   "source": [
    "messages_df['month'] = messages_df['message_date'].dt.month"
   ]
  },
  {
   "cell_type": "code",
   "execution_count": 1005,
   "metadata": {},
   "outputs": [],
   "source": [
    "grouped_messages = messages_df.copy()\n",
    "grouped_messages = grouped_messages.groupby(['user_id','month']).agg(messages_count=('id','count')).reset_index()"
   ]
  },
  {
   "cell_type": "code",
   "execution_count": 1006,
   "metadata": {},
   "outputs": [
    {
     "data": {
      "text/html": [
       "<div>\n",
       "<style scoped>\n",
       "    .dataframe tbody tr th:only-of-type {\n",
       "        vertical-align: middle;\n",
       "    }\n",
       "\n",
       "    .dataframe tbody tr th {\n",
       "        vertical-align: top;\n",
       "    }\n",
       "\n",
       "    .dataframe thead th {\n",
       "        text-align: right;\n",
       "    }\n",
       "</style>\n",
       "<table border=\"1\" class=\"dataframe\">\n",
       "  <thead>\n",
       "    <tr style=\"text-align: right;\">\n",
       "      <th></th>\n",
       "      <th>user_id</th>\n",
       "      <th>month</th>\n",
       "      <th>messages_count</th>\n",
       "    </tr>\n",
       "  </thead>\n",
       "  <tbody>\n",
       "    <tr>\n",
       "      <td>2234</td>\n",
       "      <td>1415</td>\n",
       "      <td>6</td>\n",
       "      <td>3</td>\n",
       "    </tr>\n",
       "    <tr>\n",
       "      <td>1369</td>\n",
       "      <td>1268</td>\n",
       "      <td>5</td>\n",
       "      <td>4</td>\n",
       "    </tr>\n",
       "    <tr>\n",
       "      <td>992</td>\n",
       "      <td>1187</td>\n",
       "      <td>11</td>\n",
       "      <td>63</td>\n",
       "    </tr>\n",
       "    <tr>\n",
       "      <td>948</td>\n",
       "      <td>1178</td>\n",
       "      <td>9</td>\n",
       "      <td>18</td>\n",
       "    </tr>\n",
       "    <tr>\n",
       "      <td>2506</td>\n",
       "      <td>1464</td>\n",
       "      <td>7</td>\n",
       "      <td>25</td>\n",
       "    </tr>\n",
       "  </tbody>\n",
       "</table>\n",
       "</div>"
      ],
      "text/plain": [
       "      user_id  month  messages_count\n",
       "2234     1415      6               3\n",
       "1369     1268      5               4\n",
       "992      1187     11              63\n",
       "948      1178      9              18\n",
       "2506     1464      7              25"
      ]
     },
     "execution_count": 1006,
     "metadata": {},
     "output_type": "execute_result"
    }
   ],
   "source": [
    "grouped_messages.sample(5)"
   ]
  },
  {
   "cell_type": "markdown",
   "metadata": {},
   "source": [
    "Посчитаем объем израсходованного интернет-трафика по месяцам для каждого пользователя"
   ]
  },
  {
   "cell_type": "code",
   "execution_count": 1007,
   "metadata": {},
   "outputs": [],
   "source": [
    "internet_df['month'] = internet_df['session_date'].dt.month"
   ]
  },
  {
   "cell_type": "code",
   "execution_count": 1008,
   "metadata": {},
   "outputs": [],
   "source": [
    "grouped_internet = internet_df.copy()\n",
    "grouped_internet = grouped_internet.query('mb_used > 0')\n",
    "grouped_internet = grouped_internet.groupby(['user_id','month']).agg(mb_sum=('mb_used','sum')).reset_index()"
   ]
  },
  {
   "cell_type": "code",
   "execution_count": 1009,
   "metadata": {},
   "outputs": [
    {
     "data": {
      "text/html": [
       "<div>\n",
       "<style scoped>\n",
       "    .dataframe tbody tr th:only-of-type {\n",
       "        vertical-align: middle;\n",
       "    }\n",
       "\n",
       "    .dataframe tbody tr th {\n",
       "        vertical-align: top;\n",
       "    }\n",
       "\n",
       "    .dataframe thead th {\n",
       "        text-align: right;\n",
       "    }\n",
       "</style>\n",
       "<table border=\"1\" class=\"dataframe\">\n",
       "  <thead>\n",
       "    <tr style=\"text-align: right;\">\n",
       "      <th></th>\n",
       "      <th>user_id</th>\n",
       "      <th>month</th>\n",
       "      <th>mb_sum</th>\n",
       "    </tr>\n",
       "  </thead>\n",
       "  <tbody>\n",
       "    <tr>\n",
       "      <td>1853</td>\n",
       "      <td>1293</td>\n",
       "      <td>10</td>\n",
       "      <td>7024.0</td>\n",
       "    </tr>\n",
       "    <tr>\n",
       "      <td>262</td>\n",
       "      <td>1043</td>\n",
       "      <td>8</td>\n",
       "      <td>19424.0</td>\n",
       "    </tr>\n",
       "    <tr>\n",
       "      <td>641</td>\n",
       "      <td>1101</td>\n",
       "      <td>7</td>\n",
       "      <td>8608.0</td>\n",
       "    </tr>\n",
       "    <tr>\n",
       "      <td>312</td>\n",
       "      <td>1050</td>\n",
       "      <td>8</td>\n",
       "      <td>25008.0</td>\n",
       "    </tr>\n",
       "    <tr>\n",
       "      <td>2553</td>\n",
       "      <td>1401</td>\n",
       "      <td>2</td>\n",
       "      <td>7880.0</td>\n",
       "    </tr>\n",
       "  </tbody>\n",
       "</table>\n",
       "</div>"
      ],
      "text/plain": [
       "      user_id  month   mb_sum\n",
       "1853     1293     10   7024.0\n",
       "262      1043      8  19424.0\n",
       "641      1101      7   8608.0\n",
       "312      1050      8  25008.0\n",
       "2553     1401      2   7880.0"
      ]
     },
     "execution_count": 1009,
     "metadata": {},
     "output_type": "execute_result"
    }
   ],
   "source": [
    "grouped_internet.sample(5)"
   ]
  },
  {
   "cell_type": "markdown",
   "metadata": {},
   "source": [
    "Также необходимо округлить число использованных мегабайт до гигабайта, как это было указано в примечании"
   ]
  },
  {
   "cell_type": "code",
   "execution_count": 1010,
   "metadata": {},
   "outputs": [],
   "source": [
    "grouped_internet['gb_sum'] = np.ceil(grouped_internet['mb_sum'] / 1024)"
   ]
  },
  {
   "cell_type": "code",
   "execution_count": 1011,
   "metadata": {},
   "outputs": [
    {
     "data": {
      "text/html": [
       "<div>\n",
       "<style scoped>\n",
       "    .dataframe tbody tr th:only-of-type {\n",
       "        vertical-align: middle;\n",
       "    }\n",
       "\n",
       "    .dataframe tbody tr th {\n",
       "        vertical-align: top;\n",
       "    }\n",
       "\n",
       "    .dataframe thead th {\n",
       "        text-align: right;\n",
       "    }\n",
       "</style>\n",
       "<table border=\"1\" class=\"dataframe\">\n",
       "  <thead>\n",
       "    <tr style=\"text-align: right;\">\n",
       "      <th></th>\n",
       "      <th>user_id</th>\n",
       "      <th>month</th>\n",
       "      <th>mb_sum</th>\n",
       "      <th>gb_sum</th>\n",
       "    </tr>\n",
       "  </thead>\n",
       "  <tbody>\n",
       "    <tr>\n",
       "      <td>1418</td>\n",
       "      <td>1222</td>\n",
       "      <td>12</td>\n",
       "      <td>24752.0</td>\n",
       "      <td>25.0</td>\n",
       "    </tr>\n",
       "    <tr>\n",
       "      <td>2203</td>\n",
       "      <td>1350</td>\n",
       "      <td>12</td>\n",
       "      <td>22368.0</td>\n",
       "      <td>22.0</td>\n",
       "    </tr>\n",
       "    <tr>\n",
       "      <td>960</td>\n",
       "      <td>1152</td>\n",
       "      <td>4</td>\n",
       "      <td>27840.0</td>\n",
       "      <td>28.0</td>\n",
       "    </tr>\n",
       "    <tr>\n",
       "      <td>1183</td>\n",
       "      <td>1185</td>\n",
       "      <td>6</td>\n",
       "      <td>39200.0</td>\n",
       "      <td>39.0</td>\n",
       "    </tr>\n",
       "    <tr>\n",
       "      <td>1539</td>\n",
       "      <td>1243</td>\n",
       "      <td>7</td>\n",
       "      <td>26384.0</td>\n",
       "      <td>26.0</td>\n",
       "    </tr>\n",
       "  </tbody>\n",
       "</table>\n",
       "</div>"
      ],
      "text/plain": [
       "      user_id  month   mb_sum  gb_sum\n",
       "1418     1222     12  24752.0    25.0\n",
       "2203     1350     12  22368.0    22.0\n",
       "960      1152      4  27840.0    28.0\n",
       "1183     1185      6  39200.0    39.0\n",
       "1539     1243      7  26384.0    26.0"
      ]
     },
     "execution_count": 1011,
     "metadata": {},
     "output_type": "execute_result"
    }
   ],
   "source": [
    "grouped_internet.sample(5)"
   ]
  },
  {
   "cell_type": "markdown",
   "metadata": {},
   "source": [
    "Соединим между собой датафреймы users_df, grouped_calls, grouped_messages и grouped_internet"
   ]
  },
  {
   "cell_type": "code",
   "execution_count": 1012,
   "metadata": {},
   "outputs": [],
   "source": [
    "df = grouped_calls.merge(grouped_messages, how='outer', on=['user_id', 'month'])"
   ]
  },
  {
   "cell_type": "code",
   "execution_count": 1013,
   "metadata": {},
   "outputs": [],
   "source": [
    "df = df.merge(grouped_internet, how='outer', on=['user_id', 'month'])"
   ]
  },
  {
   "cell_type": "code",
   "execution_count": 1014,
   "metadata": {},
   "outputs": [],
   "source": [
    "df = df.merge(users_df, how='right', on='user_id')"
   ]
  },
  {
   "cell_type": "markdown",
   "metadata": {},
   "source": [
    "Посмотрим сколько клиентов не пользовались услугами связи и интернета"
   ]
  },
  {
   "cell_type": "code",
   "execution_count": 1015,
   "metadata": {},
   "outputs": [
    {
     "data": {
      "text/plain": [
       "2"
      ]
     },
     "execution_count": 1015,
     "metadata": {},
     "output_type": "execute_result"
    }
   ],
   "source": [
    "(df['month'].isna()).sum()"
   ]
  },
  {
   "cell_type": "markdown",
   "metadata": {},
   "source": [
    "Таких клиентов всего 2"
   ]
  },
  {
   "cell_type": "markdown",
   "metadata": {},
   "source": [
    "Посчитаем помесячную выручку с каждого пользователя. \n",
    "\n",
    "Для этого вычтем бесплатный лимит из суммарного количества звонков, сообщений и интернет-трафика; остаток умножим на значение из тарифного плана; прибавим абонентскую плату, соответствующую тарифному плану)."
   ]
  },
  {
   "cell_type": "code",
   "execution_count": 1016,
   "metadata": {},
   "outputs": [],
   "source": [
    "tariffs_df = tariffs_df.rename(columns={'tariff_name': 'tariff'}, errors='raise')\n",
    "df = df.merge(tariffs_df, how='inner', on='tariff')"
   ]
  },
  {
   "cell_type": "code",
   "execution_count": 1017,
   "metadata": {},
   "outputs": [],
   "source": [
    "def get_profit(row, service_type, price, service_s, div):\n",
    "    smart_min = row[service_type] / div\n",
    "    smart_price = row[price]\n",
    "    ultra_min = row[service_type] / div\n",
    "    ultra_price = tariffs_df.loc[1, price]\n",
    "    \n",
    "    tarif = row['tariff']\n",
    "    service_sum = row[service_s]\n",
    "    if tarif == 'smart':\n",
    "        delta = service_sum - smart_min\n",
    "        if delta > 0:\n",
    "            return delta * smart_price\n",
    "        return 0\n",
    "    if tarif == 'ultra':\n",
    "        delta = service_sum - ultra_min\n",
    "        if delta > 0:\n",
    "            return delta * ultra_price\n",
    "        return 0"
   ]
  },
  {
   "cell_type": "markdown",
   "metadata": {},
   "source": [
    "Посчитаем прибыль по каждому пользователю в зависимости от тарифа"
   ]
  },
  {
   "cell_type": "code",
   "execution_count": 1018,
   "metadata": {},
   "outputs": [],
   "source": [
    "df['min_profit'] = df.apply(get_profit, args=('minutes_included', 'rub_per_minute', 'minutes_sum', 1), axis=1)\n",
    "df['msg_profit'] = df.apply(get_profit, args=('messages_included', 'rub_per_message', 'messages_count', 1), axis=1)\n",
    "df['gb_profit'] = df.apply(get_profit, args=('mb_per_month_included', 'rub_per_gb', 'gb_sum', 1024), axis=1)"
   ]
  },
  {
   "cell_type": "markdown",
   "metadata": {},
   "source": [
    "Добавим также ежемесячный платеж по тарифу"
   ]
  },
  {
   "cell_type": "code",
   "execution_count": 1019,
   "metadata": {},
   "outputs": [],
   "source": [
    "def get_fee_profit(row):\n",
    "    smart_fee = tariffs_df.loc[0, 'rub_monthly_fee']\n",
    "    ultra_fee = tariffs_df.loc[1, 'rub_monthly_fee']\n",
    "    tarif = row['tariff']\n",
    "    \n",
    "    if tarif == 'smart':\n",
    "        return smart_fee\n",
    "    if tarif == 'ultra':\n",
    "        return ultra_fee"
   ]
  },
  {
   "cell_type": "code",
   "execution_count": 1020,
   "metadata": {},
   "outputs": [],
   "source": [
    "df['fee_profit'] = df.apply(get_fee_profit, axis=1)"
   ]
  },
  {
   "cell_type": "markdown",
   "metadata": {},
   "source": [
    "### Выводы\n",
    "Общие выводы и результаты:\n",
    "* только 2 клиента из 500 не пользовались никакими услугами связи\n",
    "* Посчитали использование услуг связи по месяца для каждого пользователя и объединили сводные таблицы в одну"
   ]
  },
  {
   "cell_type": "markdown",
   "metadata": {},
   "source": [
    "## 4. Анализ данных"
   ]
  },
  {
   "cell_type": "markdown",
   "metadata": {},
   "source": [
    "Посчитаем среднее, дисперсию и стандартное отклонение для каждого из тарифов по использованию интернета, звонкам и сообщениям"
   ]
  },
  {
   "cell_type": "code",
   "execution_count": 1021,
   "metadata": {},
   "outputs": [
    {
     "data": {
      "text/html": [
       "<div>\n",
       "<style scoped>\n",
       "    .dataframe tbody tr th:only-of-type {\n",
       "        vertical-align: middle;\n",
       "    }\n",
       "\n",
       "    .dataframe tbody tr th {\n",
       "        vertical-align: top;\n",
       "    }\n",
       "\n",
       "    .dataframe thead th {\n",
       "        text-align: right;\n",
       "    }\n",
       "</style>\n",
       "<table border=\"1\" class=\"dataframe\">\n",
       "  <thead>\n",
       "    <tr style=\"text-align: right;\">\n",
       "      <th></th>\n",
       "      <th>Тариф</th>\n",
       "      <th>Исп. услуга</th>\n",
       "      <th>Среднее</th>\n",
       "      <th>Дисперсия</th>\n",
       "      <th>Станд. отклонение</th>\n",
       "    </tr>\n",
       "  </thead>\n",
       "  <tbody>\n",
       "    <tr>\n",
       "      <td>3</td>\n",
       "      <td>smart</td>\n",
       "      <td>minutes_sum</td>\n",
       "      <td>419.440342</td>\n",
       "      <td>35718.128534</td>\n",
       "      <td>188.992403</td>\n",
       "    </tr>\n",
       "    <tr>\n",
       "      <td>7</td>\n",
       "      <td>ultra</td>\n",
       "      <td>minutes_sum</td>\n",
       "      <td>547.755016</td>\n",
       "      <td>93338.428291</td>\n",
       "      <td>305.513385</td>\n",
       "    </tr>\n",
       "    <tr>\n",
       "      <td>2</td>\n",
       "      <td>smart</td>\n",
       "      <td>messages_count</td>\n",
       "      <td>38.716441</td>\n",
       "      <td>717.594201</td>\n",
       "      <td>26.787949</td>\n",
       "    </tr>\n",
       "    <tr>\n",
       "      <td>6</td>\n",
       "      <td>ultra</td>\n",
       "      <td>messages_count</td>\n",
       "      <td>61.161006</td>\n",
       "      <td>2109.659183</td>\n",
       "      <td>45.931026</td>\n",
       "    </tr>\n",
       "    <tr>\n",
       "      <td>1</td>\n",
       "      <td>smart</td>\n",
       "      <td>gb_sum</td>\n",
       "      <td>16.336777</td>\n",
       "      <td>32.801178</td>\n",
       "      <td>5.727231</td>\n",
       "    </tr>\n",
       "    <tr>\n",
       "      <td>5</td>\n",
       "      <td>ultra</td>\n",
       "      <td>gb_sum</td>\n",
       "      <td>19.707392</td>\n",
       "      <td>93.810493</td>\n",
       "      <td>9.685582</td>\n",
       "    </tr>\n",
       "    <tr>\n",
       "      <td>0</td>\n",
       "      <td>smart</td>\n",
       "      <td>calls_count</td>\n",
       "      <td>47.116614</td>\n",
       "      <td>436.270629</td>\n",
       "      <td>20.887092</td>\n",
       "    </tr>\n",
       "    <tr>\n",
       "      <td>4</td>\n",
       "      <td>ultra</td>\n",
       "      <td>calls_count</td>\n",
       "      <td>61.613516</td>\n",
       "      <td>1168.901212</td>\n",
       "      <td>34.189197</td>\n",
       "    </tr>\n",
       "  </tbody>\n",
       "</table>\n",
       "</div>"
      ],
      "text/plain": [
       "   Тариф     Исп. услуга     Среднее     Дисперсия  Станд. отклонение\n",
       "3  smart     minutes_sum  419.440342  35718.128534         188.992403\n",
       "7  ultra     minutes_sum  547.755016  93338.428291         305.513385\n",
       "2  smart  messages_count   38.716441    717.594201          26.787949\n",
       "6  ultra  messages_count   61.161006   2109.659183          45.931026\n",
       "1  smart          gb_sum   16.336777     32.801178           5.727231\n",
       "5  ultra          gb_sum   19.707392     93.810493           9.685582\n",
       "0  smart     calls_count   47.116614    436.270629          20.887092\n",
       "4  ultra     calls_count   61.613516   1168.901212          34.189197"
      ]
     },
     "execution_count": 1021,
     "metadata": {},
     "output_type": "execute_result"
    }
   ],
   "source": [
    "statistic_pivot = pd.pivot_table(df, index=['tariff'], values=['minutes_sum', 'calls_count', 'messages_count', 'gb_sum'], aggfunc=['mean', np.var, np.std])\n",
    "statistic_pivot = statistic_pivot.stack().reset_index()\n",
    "statistic_pivot.columns = ['Тариф', 'Исп. услуга', 'Среднее', 'Дисперсия', 'Станд. отклонение']\n",
    "statistic_pivot.sort_values(by='Исп. услуга', ascending=False)"
   ]
  },
  {
   "cell_type": "markdown",
   "metadata": {},
   "source": [
    "Видим, что клиенты с тарифом ultra в среднем разговаривают больше, отправляют больше сообщений и больше пользуются Интернетом. \n",
    "\n",
    "При этом, с тарифом ultra стандартное отклонение в полтора раза больше, чем с тарифом smart, значит у клиентов с тарифом ultra больше разброс значений вокруг среднего по выбранным параметрам использования."
   ]
  },
  {
   "cell_type": "markdown",
   "metadata": {},
   "source": [
    "Посмотрим на распределения использования каждого из параметров в зависимости от тарифа"
   ]
  },
  {
   "cell_type": "code",
   "execution_count": 1022,
   "metadata": {},
   "outputs": [],
   "source": [
    "df.fillna(0, inplace=True)"
   ]
  },
  {
   "cell_type": "code",
   "execution_count": 1023,
   "metadata": {},
   "outputs": [
    {
     "data": {
      "image/png": "[encoded data removed]",
      "text/plain": [
       "<Figure size 770.4x432 with 1 Axes>"
      ]
     },
     "metadata": {},
     "output_type": "display_data"
    },
    {
     "data": {
      "image/png": "[encoded data removed]",
      "text/plain": [
       "<Figure size 770.4x432 with 1 Axes>"
      ]
     },
     "metadata": {},
     "output_type": "display_data"
    },
    {
     "data": {
      "image/png": "[encoded data removed]",
      "text/plain": [
       "<Figure size 770.4x432 with 1 Axes>"
      ]
     },
     "metadata": {},
     "output_type": "display_data"
    },
    {
     "data": {
      "image/png": "[encoded data removed]",
      "text/plain": [
       "<Figure size 770.4x432 with 1 Axes>"
      ]
     },
     "metadata": {},
     "output_type": "display_data"
    },
    {
     "data": {
      "image/png": "[encoded data removed]",
      "text/plain": [
       "<Figure size 770.4x432 with 1 Axes>"
      ]
     },
     "metadata": {},
     "output_type": "display_data"
    },
    {
     "data": {
      "image/png": "[encoded data removed]",
      "text/plain": [
       "<Figure size 770.4x432 with 1 Axes>"
      ]
     },
     "metadata": {},
     "output_type": "display_data"
    },
    {
     "data": {
      "image/png": "[encoded data removed]",
      "text/plain": [
       "<Figure size 770.4x432 with 1 Axes>"
      ]
     },
     "metadata": {},
     "output_type": "display_data"
    },
    {
     "data": {
      "image/png": "[encoded data removed]",
      "text/plain": [
       "<Figure size 770.4x432 with 1 Axes>"
      ]
     },
     "metadata": {},
     "output_type": "display_data"
    }
   ],
   "source": [
    "distplot_cols = {'minutes_sum': ['количество минут', 500, 3000], 'messages_count': ['количество сообщений', 50, 1000],\\\n",
    "                 'gb_sum': ['количество гигабайт', 15360/1024, 30720/1024], 'calls_count': 'количество звонков'}\n",
    "tarif_list = ['smart', 'ultra']\n",
    "for col in distplot_cols:\n",
    "    for tarif in tarif_list:\n",
    "            ax = sns.distplot(df[df['tariff'] == tarif][col])\n",
    "            name = 'Распределение параметра ' + distplot_cols[col][0] + ' для тарифа ' + tarif\n",
    "            ax.set(xlabel=distplot_cols[col][0], ylabel='Плотность частоты', title=name)\n",
    "            if col != 'calls_count':\n",
    "                if tarif == 'smart':\n",
    "                    plt.axvline(distplot_cols[col][1], color='red')\n",
    "                else:\n",
    "                    plt.axvline(distplot_cols[col][2], color='red')\n",
    "            plt.show()"
   ]
  },
  {
   "cell_type": "markdown",
   "metadata": {},
   "source": [
    "### Выводы"
   ]
  },
  {
   "cell_type": "markdown",
   "metadata": {},
   "source": [
    "Клиенты с тарифом ultra в среднем превосходят клиентов с тарифом smart по объему используемых услуг. \n",
    "Распределения некоторых услуг по своей форме напоминают нормальное распределение, а распределение количества сообщений похоже на распределение Пуассона. Также наблюдаются экстремальные значения частоты для некоторых параметров"
   ]
  },
  {
   "cell_type": "markdown",
   "metadata": {},
   "source": [
    "## 5. Проверка гипотез"
   ]
  },
  {
   "cell_type": "markdown",
   "metadata": {},
   "source": [
    "Проверим гипотезу о том, что средняя выручка пользователей тарифов ultra и smart различаются.\n",
    "Для проверки гипотез выберем стандартный критический уровень статистической значимости равный 0.05. Поскольку выборки независимые, используем тест для независимых выборок.\n",
    "\n",
    "**$H_0$**: средняя выручка для пользователей тарифов ultra и smart не различается\n",
    "\n",
    "**$H_1$**: средняя выручка для пользователей тарифов ultra и smart различается"
   ]
  },
  {
   "cell_type": "code",
   "execution_count": 1024,
   "metadata": {},
   "outputs": [],
   "source": [
    "df['sum_profit'] = df['min_profit'] + df['msg_profit'] + df['gb_profit'] + df['fee_profit']\n",
    "mean_smart = df[df['tariff'] == 'smart']['sum_profit'].mean()\n",
    "mean_ultra = df[df['tariff'] == 'ultra']['sum_profit'].mean()"
   ]
  },
  {
   "cell_type": "code",
   "execution_count": 1025,
   "metadata": {},
   "outputs": [
    {
     "name": "stdout",
     "output_type": "stream",
     "text": [
      "p-значение: 3.518266427086176e-251\n",
      "Отвергаем нулевую гипотезу\n"
     ]
    }
   ],
   "source": [
    "alpha = 0.05\n",
    "results = st.ttest_ind(df[df['tariff'] == 'smart']['sum_profit'], df[df['tariff'] == 'ultra']['sum_profit'], equal_var=False)\n",
    "print('p-значение:', results.pvalue)\n",
    "\n",
    "if results.pvalue < alpha:\n",
    "    print('Отвергаем нулевую гипотезу')\n",
    "else:\n",
    "    print('Не получилось отвергнуть нулевую гипотезу') "
   ]
  },
  {
   "cell_type": "markdown",
   "metadata": {},
   "source": [
    "И посмотрим на средние значения выручки по каждому из тарифов"
   ]
  },
  {
   "cell_type": "code",
   "execution_count": 1026,
   "metadata": {},
   "outputs": [
    {
     "name": "stdout",
     "output_type": "stream",
     "text": [
      "Средняя выручка по тарифу smart: 1288.5654708520178\n",
      "Средняя выручка по тарифу ultra: 2069.8782961460447\n"
     ]
    }
   ],
   "source": [
    "print(f'Средняя выручка по тарифу smart: {mean_smart}')\n",
    "print(f'Средняя выручка по тарифу ultra: {mean_ultra}')"
   ]
  },
  {
   "cell_type": "markdown",
   "metadata": {},
   "source": [
    "Видим что среднее значение прибыли по тарифу ultra более чем в полтора раза выше, чем по тарифу smart, у нас есть основания для принятия альтернативной гипотезы."
   ]
  },
  {
   "cell_type": "markdown",
   "metadata": {},
   "source": [
    "Так же проверим средние значения выручки по клиентам из Москвы и клиентам из других регионов. Тип теста и уровень статистической значимости оставим без изменений."
   ]
  },
  {
   "cell_type": "markdown",
   "metadata": {},
   "source": [
    "**$H_0$**: средняя выручка для клиентов в Москве и остальных городах не различается\n",
    "\n",
    "**$H_1$**: средняя выручка для клиентов в Москве и остальных городах различается"
   ]
  },
  {
   "cell_type": "code",
   "execution_count": 1027,
   "metadata": {},
   "outputs": [],
   "source": [
    "profit_moscow = df.query('city.isin([\"Москва\"])')['sum_profit'].mean()\n",
    "profit_other = df.query('~city.isin([\"Москва\"])')['sum_profit'].mean()"
   ]
  },
  {
   "cell_type": "code",
   "execution_count": 1028,
   "metadata": {},
   "outputs": [
    {
     "name": "stdout",
     "output_type": "stream",
     "text": [
      "p-значение: 0.5242559985967266\n",
      "Не получилось отвергнуть нулевую гипотезу\n"
     ]
    }
   ],
   "source": [
    "results = st.ttest_ind(df.query('city.isin([\"Москва\"])')['sum_profit'], df.query('~city.isin([\"Москва\"])')['sum_profit'], equal_var=False)\n",
    "print('p-значение:', results.pvalue)\n",
    "\n",
    "if results.pvalue < alpha:\n",
    "    print('Отвергаем нулевую гипотезу')\n",
    "else:\n",
    "    print('Не получилось отвергнуть нулевую гипотезу') "
   ]
  },
  {
   "cell_type": "code",
   "execution_count": 1029,
   "metadata": {},
   "outputs": [
    {
     "name": "stdout",
     "output_type": "stream",
     "text": [
      "Средняя выручка по клиентам из Москвы: 1545.8134206219313\n",
      "Средняя выручка по клиентам из других городов: 1523.9573896353168\n"
     ]
    }
   ],
   "source": [
    "print(f'Средняя выручка по клиентам из Москвы: {profit_moscow}')\n",
    "print(f'Средняя выручка по клиентам из других городов: {profit_other}')"
   ]
  },
  {
   "cell_type": "markdown",
   "metadata": {},
   "source": [
    "Нам не удалось отвергнуть нулевую гипотезу и мы видимо что средние значения выручки не сильно отличаются для Москвы и других городов"
   ]
  },
  {
   "cell_type": "markdown",
   "metadata": {},
   "source": [
    "# Общий вывод"
   ]
  },
  {
   "cell_type": "markdown",
   "metadata": {},
   "source": [
    "Вывод по данным:\n",
    " * Данные собраны хорошо, пропущенных значений нет\n",
    " * Пришлось изменить используемый тип данных в колонках для экономии занимаемой памяти"
   ]
  },
  {
   "cell_type": "markdown",
   "metadata": {},
   "source": [
    "Вывод по результатам анализа:\n",
    " * Распределения использования некоторых услуг близки к нормальному, так и же и присутствуют явные пики частоты некоторых значение\n",
    " * 2 клиента не пользовались услугами связи\n",
    " * В среднем клиенты с тарифом ultra больше пользуются услугами связи, чем клиенты с тарифом smart\n",
    " * Приняли альтернативную гипотезу о том, что средняя выручка для пользователей тарифов ultra и smart различается и убедились в разнице средних значений\n",
    " * Не смогли отвергнуть нулевую гипотезу о том, что средняя выручка для клиентов в Москве и остальных городах не различается и убедились в небольшой разнице между средними значениями прибыли от клиентов\n",
    " * По результатам сравнения наиболее прибыльным является тариф ultra, так как не смотря на переплаты при превышении лимита, входящего в тариф smart, прибыль от клиентов с тарифом ultra все равно выше"
   ]
  },
  {
   "cell_type": "code",
   "execution_count": null,
   "metadata": {},
   "outputs": [],
   "source": []
  }
 ],
 "metadata": {
  "ExecuteTimeLog": [
   {
    "duration": 3,
    "start_time": "2021-09-30T12:06:25.780Z"
   },
   {
    "duration": 68,
    "start_time": "2021-09-30T12:27:26.917Z"
   },
   {
    "duration": 784,
    "start_time": "2021-09-30T12:27:32.206Z"
   },
   {
    "duration": 532,
    "start_time": "2021-09-30T12:27:36.480Z"
   },
   {
    "duration": 152,
    "start_time": "2021-09-30T12:27:59.015Z"
   },
   {
    "duration": 411,
    "start_time": "2021-09-30T12:28:51.174Z"
   },
   {
    "duration": 406,
    "start_time": "2021-09-30T12:28:53.186Z"
   },
   {
    "duration": 218,
    "start_time": "2021-09-30T12:31:20.913Z"
   },
   {
    "duration": 17,
    "start_time": "2021-09-30T12:31:24.010Z"
   },
   {
    "duration": 13,
    "start_time": "2021-09-30T12:31:27.468Z"
   },
   {
    "duration": 22,
    "start_time": "2021-09-30T12:31:35.074Z"
   },
   {
    "duration": 4,
    "start_time": "2021-09-30T12:31:54.273Z"
   },
   {
    "duration": 23,
    "start_time": "2021-09-30T12:32:10.350Z"
   },
   {
    "duration": 4,
    "start_time": "2021-09-30T12:32:16.296Z"
   },
   {
    "duration": 21,
    "start_time": "2021-09-30T12:34:23.407Z"
   },
   {
    "duration": 9,
    "start_time": "2021-09-30T12:34:32.731Z"
   },
   {
    "duration": 29,
    "start_time": "2021-09-30T12:34:41.292Z"
   },
   {
    "duration": 7,
    "start_time": "2021-09-30T12:35:21.791Z"
   },
   {
    "duration": 20,
    "start_time": "2021-09-30T12:35:23.713Z"
   },
   {
    "duration": 6,
    "start_time": "2021-09-30T12:38:46.636Z"
   },
   {
    "duration": 12,
    "start_time": "2021-09-30T12:39:00.412Z"
   },
   {
    "duration": 12,
    "start_time": "2021-09-30T12:39:03.154Z"
   },
   {
    "duration": 17,
    "start_time": "2021-09-30T12:39:11.350Z"
   },
   {
    "duration": 30,
    "start_time": "2021-09-30T12:39:18.758Z"
   },
   {
    "duration": 11,
    "start_time": "2021-09-30T12:39:30.450Z"
   },
   {
    "duration": 17,
    "start_time": "2021-09-30T12:39:39.287Z"
   },
   {
    "duration": 16,
    "start_time": "2021-09-30T12:43:44.186Z"
   },
   {
    "duration": 14,
    "start_time": "2021-09-30T12:43:51.345Z"
   },
   {
    "duration": 16,
    "start_time": "2021-09-30T12:43:54.105Z"
   },
   {
    "duration": 5,
    "start_time": "2021-09-30T12:44:10.177Z"
   },
   {
    "duration": 5,
    "start_time": "2021-09-30T12:44:32.913Z"
   },
   {
    "duration": 5,
    "start_time": "2021-09-30T12:44:52.690Z"
   },
   {
    "duration": 6,
    "start_time": "2021-09-30T12:44:59.030Z"
   },
   {
    "duration": 5,
    "start_time": "2021-09-30T12:45:08.887Z"
   },
   {
    "duration": 4,
    "start_time": "2021-09-30T12:45:16.081Z"
   },
   {
    "duration": 755,
    "start_time": "2021-09-30T12:45:31.393Z"
   },
   {
    "duration": 7,
    "start_time": "2021-09-30T12:45:42.528Z"
   },
   {
    "duration": 8,
    "start_time": "2021-09-30T12:45:46.029Z"
   },
   {
    "duration": 8,
    "start_time": "2021-09-30T12:46:08.304Z"
   },
   {
    "duration": 11,
    "start_time": "2021-09-30T12:46:19.627Z"
   },
   {
    "duration": 7,
    "start_time": "2021-09-30T12:46:30.416Z"
   },
   {
    "duration": 18,
    "start_time": "2021-09-30T12:53:39.262Z"
   },
   {
    "duration": 120,
    "start_time": "2021-09-30T12:54:13.803Z"
   },
   {
    "duration": 2,
    "start_time": "2021-09-30T13:03:46.568Z"
   },
   {
    "duration": 63,
    "start_time": "2021-09-30T13:04:26.844Z"
   },
   {
    "duration": 411,
    "start_time": "2021-09-30T13:08:02.483Z"
   },
   {
    "duration": 11,
    "start_time": "2021-09-30T13:08:06.354Z"
   },
   {
    "duration": 12,
    "start_time": "2021-09-30T13:08:10.503Z"
   },
   {
    "duration": 18,
    "start_time": "2021-09-30T13:08:11.177Z"
   },
   {
    "duration": 11,
    "start_time": "2021-09-30T13:08:13.222Z"
   },
   {
    "duration": 3,
    "start_time": "2021-09-30T17:28:03.435Z"
   },
   {
    "duration": 446,
    "start_time": "2021-09-30T17:28:03.440Z"
   },
   {
    "duration": 13,
    "start_time": "2021-09-30T17:28:03.888Z"
   },
   {
    "duration": 28,
    "start_time": "2021-09-30T17:28:03.903Z"
   },
   {
    "duration": 34,
    "start_time": "2021-09-30T17:28:03.933Z"
   },
   {
    "duration": 4,
    "start_time": "2021-09-30T17:28:03.968Z"
   },
   {
    "duration": 26,
    "start_time": "2021-09-30T17:28:03.974Z"
   },
   {
    "duration": 16,
    "start_time": "2021-09-30T17:28:04.002Z"
   },
   {
    "duration": 25,
    "start_time": "2021-09-30T17:28:04.021Z"
   },
   {
    "duration": 4,
    "start_time": "2021-09-30T17:28:04.047Z"
   },
   {
    "duration": 11,
    "start_time": "2021-09-30T17:28:04.053Z"
   },
   {
    "duration": 14,
    "start_time": "2021-09-30T17:28:04.099Z"
   },
   {
    "duration": 16,
    "start_time": "2021-09-30T17:28:04.115Z"
   },
   {
    "duration": 4,
    "start_time": "2021-09-30T17:28:04.133Z"
   },
   {
    "duration": 10,
    "start_time": "2021-09-30T17:28:04.138Z"
   },
   {
    "duration": 10,
    "start_time": "2021-09-30T17:28:04.149Z"
   },
   {
    "duration": 6,
    "start_time": "2021-09-30T17:28:04.200Z"
   },
   {
    "duration": 22,
    "start_time": "2021-09-30T17:28:04.207Z"
   },
   {
    "duration": 3,
    "start_time": "2021-09-30T17:35:48.821Z"
   },
   {
    "duration": 63,
    "start_time": "2021-09-30T17:37:15.589Z"
   },
   {
    "duration": 209,
    "start_time": "2021-09-30T17:39:23.757Z"
   },
   {
    "duration": 31,
    "start_time": "2021-09-30T17:39:35.139Z"
   },
   {
    "duration": 11,
    "start_time": "2021-09-30T17:41:23.282Z"
   },
   {
    "duration": 10,
    "start_time": "2021-09-30T17:44:22.647Z"
   },
   {
    "duration": 27,
    "start_time": "2021-09-30T17:44:23.128Z"
   },
   {
    "duration": 19,
    "start_time": "2021-09-30T17:45:49.288Z"
   },
   {
    "duration": 6,
    "start_time": "2021-09-30T17:47:25.278Z"
   },
   {
    "duration": 12,
    "start_time": "2021-09-30T17:47:47.699Z"
   },
   {
    "duration": 6,
    "start_time": "2021-09-30T17:51:00.001Z"
   },
   {
    "duration": 6,
    "start_time": "2021-09-30T17:52:53.101Z"
   },
   {
    "duration": 65,
    "start_time": "2021-09-30T18:08:28.363Z"
   },
   {
    "duration": 3,
    "start_time": "2021-09-30T18:20:36.227Z"
   },
   {
    "duration": 3,
    "start_time": "2021-09-30T18:21:54.319Z"
   },
   {
    "duration": 3,
    "start_time": "2021-09-30T18:21:56.899Z"
   },
   {
    "duration": 3,
    "start_time": "2021-09-30T18:22:02.365Z"
   },
   {
    "duration": 3,
    "start_time": "2021-09-30T18:22:05.418Z"
   },
   {
    "duration": 12,
    "start_time": "2021-09-30T18:22:31.242Z"
   },
   {
    "duration": 13,
    "start_time": "2021-09-30T18:22:39.909Z"
   },
   {
    "duration": 5,
    "start_time": "2021-09-30T18:22:46.155Z"
   },
   {
    "duration": 1127,
    "start_time": "2021-10-01T09:10:26.982Z"
   },
   {
    "duration": 387,
    "start_time": "2021-10-01T09:10:28.110Z"
   },
   {
    "duration": 17,
    "start_time": "2021-10-01T09:10:28.499Z"
   },
   {
    "duration": 19,
    "start_time": "2021-10-01T09:10:28.518Z"
   },
   {
    "duration": 43,
    "start_time": "2021-10-01T09:10:28.539Z"
   },
   {
    "duration": 19,
    "start_time": "2021-10-01T09:10:28.583Z"
   },
   {
    "duration": 20,
    "start_time": "2021-10-01T09:10:28.604Z"
   },
   {
    "duration": 30,
    "start_time": "2021-10-01T09:10:28.625Z"
   },
   {
    "duration": 24,
    "start_time": "2021-10-01T09:10:28.657Z"
   },
   {
    "duration": 4,
    "start_time": "2021-10-01T09:10:28.683Z"
   },
   {
    "duration": 10,
    "start_time": "2021-10-01T09:10:28.700Z"
   },
   {
    "duration": 25,
    "start_time": "2021-10-01T09:10:28.712Z"
   },
   {
    "duration": 21,
    "start_time": "2021-10-01T09:10:28.739Z"
   },
   {
    "duration": 7,
    "start_time": "2021-10-01T09:10:28.762Z"
   },
   {
    "duration": 22,
    "start_time": "2021-10-01T09:10:28.771Z"
   },
   {
    "duration": 14,
    "start_time": "2021-10-01T09:10:28.795Z"
   },
   {
    "duration": 16,
    "start_time": "2021-10-01T09:10:28.811Z"
   },
   {
    "duration": 20,
    "start_time": "2021-10-01T09:10:28.828Z"
   },
   {
    "duration": 9,
    "start_time": "2021-10-01T09:10:28.849Z"
   },
   {
    "duration": 48,
    "start_time": "2021-10-01T09:10:28.860Z"
   },
   {
    "duration": 23,
    "start_time": "2021-10-01T09:10:28.910Z"
   },
   {
    "duration": 18,
    "start_time": "2021-10-01T09:10:28.934Z"
   },
   {
    "duration": 6,
    "start_time": "2021-10-01T09:10:28.954Z"
   },
   {
    "duration": 6,
    "start_time": "2021-10-01T09:10:28.962Z"
   },
   {
    "duration": 30,
    "start_time": "2021-10-01T09:10:28.970Z"
   },
   {
    "duration": 263,
    "start_time": "2021-10-01T09:11:12.523Z"
   },
   {
    "duration": 8,
    "start_time": "2021-10-01T09:11:18.340Z"
   },
   {
    "duration": 7,
    "start_time": "2021-10-01T09:11:22.227Z"
   },
   {
    "duration": 7,
    "start_time": "2021-10-01T09:11:56.850Z"
   },
   {
    "duration": 59,
    "start_time": "2021-10-01T10:19:42.517Z"
   },
   {
    "duration": 21,
    "start_time": "2021-10-01T10:20:09.703Z"
   },
   {
    "duration": 6,
    "start_time": "2021-10-01T10:20:12.859Z"
   },
   {
    "duration": 9,
    "start_time": "2021-10-01T10:20:19.154Z"
   },
   {
    "duration": 8,
    "start_time": "2021-10-01T10:36:29.992Z"
   },
   {
    "duration": 12,
    "start_time": "2021-10-01T10:51:22.278Z"
   },
   {
    "duration": 478,
    "start_time": "2021-10-01T11:09:48.989Z"
   },
   {
    "duration": 1282,
    "start_time": "2021-10-01T11:09:56.162Z"
   },
   {
    "duration": 35,
    "start_time": "2021-10-01T11:10:02.401Z"
   },
   {
    "duration": 201,
    "start_time": "2021-10-01T11:10:33.112Z"
   },
   {
    "duration": 2,
    "start_time": "2021-10-01T11:10:41.202Z"
   },
   {
    "duration": 445,
    "start_time": "2021-10-01T11:10:41.206Z"
   },
   {
    "duration": 14,
    "start_time": "2021-10-01T11:10:41.654Z"
   },
   {
    "duration": 27,
    "start_time": "2021-10-01T11:10:41.670Z"
   },
   {
    "duration": 34,
    "start_time": "2021-10-01T11:10:41.699Z"
   },
   {
    "duration": 4,
    "start_time": "2021-10-01T11:10:41.735Z"
   },
   {
    "duration": 14,
    "start_time": "2021-10-01T11:10:41.741Z"
   },
   {
    "duration": 30,
    "start_time": "2021-10-01T11:10:41.756Z"
   },
   {
    "duration": 25,
    "start_time": "2021-10-01T11:10:41.801Z"
   },
   {
    "duration": 5,
    "start_time": "2021-10-01T11:10:41.828Z"
   },
   {
    "duration": 15,
    "start_time": "2021-10-01T11:10:41.834Z"
   },
   {
    "duration": 15,
    "start_time": "2021-10-01T11:10:41.851Z"
   },
   {
    "duration": 46,
    "start_time": "2021-10-01T11:10:41.867Z"
   },
   {
    "duration": 5,
    "start_time": "2021-10-01T11:10:41.915Z"
   },
   {
    "duration": 16,
    "start_time": "2021-10-01T11:10:41.921Z"
   },
   {
    "duration": 18,
    "start_time": "2021-10-01T11:10:41.938Z"
   },
   {
    "duration": 14,
    "start_time": "2021-10-01T11:10:41.957Z"
   },
   {
    "duration": 39,
    "start_time": "2021-10-01T11:10:41.972Z"
   },
   {
    "duration": 6,
    "start_time": "2021-10-01T11:10:42.013Z"
   },
   {
    "duration": 33,
    "start_time": "2021-10-01T11:10:42.020Z"
   },
   {
    "duration": 52,
    "start_time": "2021-10-01T11:10:42.055Z"
   },
   {
    "duration": 20,
    "start_time": "2021-10-01T11:10:42.109Z"
   },
   {
    "duration": 10,
    "start_time": "2021-10-01T11:10:42.131Z"
   },
   {
    "duration": 13,
    "start_time": "2021-10-01T11:10:42.143Z"
   },
   {
    "duration": 41,
    "start_time": "2021-10-01T11:10:42.158Z"
   },
   {
    "duration": 4,
    "start_time": "2021-10-01T11:10:42.201Z"
   },
   {
    "duration": 39,
    "start_time": "2021-10-01T11:10:42.209Z"
   },
   {
    "duration": 7,
    "start_time": "2021-10-01T11:10:42.250Z"
   },
   {
    "duration": 1202,
    "start_time": "2021-10-01T11:10:42.258Z"
   },
   {
    "duration": 47,
    "start_time": "2021-10-01T11:10:43.462Z"
   },
   {
    "duration": 2,
    "start_time": "2021-10-01T11:12:03.950Z"
   },
   {
    "duration": 413,
    "start_time": "2021-10-01T11:12:03.955Z"
   },
   {
    "duration": 12,
    "start_time": "2021-10-01T11:12:04.370Z"
   },
   {
    "duration": 34,
    "start_time": "2021-10-01T11:12:04.383Z"
   },
   {
    "duration": 34,
    "start_time": "2021-10-01T11:12:04.419Z"
   },
   {
    "duration": 17,
    "start_time": "2021-10-01T11:12:04.455Z"
   },
   {
    "duration": 25,
    "start_time": "2021-10-01T11:12:04.474Z"
   },
   {
    "duration": 34,
    "start_time": "2021-10-01T11:12:04.501Z"
   },
   {
    "duration": 36,
    "start_time": "2021-10-01T11:12:04.537Z"
   },
   {
    "duration": 7,
    "start_time": "2021-10-01T11:12:04.576Z"
   },
   {
    "duration": 24,
    "start_time": "2021-10-01T11:12:04.585Z"
   },
   {
    "duration": 31,
    "start_time": "2021-10-01T11:12:04.611Z"
   },
   {
    "duration": 24,
    "start_time": "2021-10-01T11:12:04.644Z"
   },
   {
    "duration": 34,
    "start_time": "2021-10-01T11:12:04.670Z"
   },
   {
    "duration": 25,
    "start_time": "2021-10-01T11:12:04.706Z"
   },
   {
    "duration": 28,
    "start_time": "2021-10-01T11:12:04.732Z"
   },
   {
    "duration": 10,
    "start_time": "2021-10-01T11:12:04.762Z"
   },
   {
    "duration": 32,
    "start_time": "2021-10-01T11:12:04.773Z"
   },
   {
    "duration": 24,
    "start_time": "2021-10-01T11:12:04.808Z"
   },
   {
    "duration": 47,
    "start_time": "2021-10-01T11:12:04.834Z"
   },
   {
    "duration": 24,
    "start_time": "2021-10-01T11:12:04.883Z"
   },
   {
    "duration": 20,
    "start_time": "2021-10-01T11:12:04.908Z"
   },
   {
    "duration": 17,
    "start_time": "2021-10-01T11:12:04.930Z"
   },
   {
    "duration": 17,
    "start_time": "2021-10-01T11:12:04.948Z"
   },
   {
    "duration": 44,
    "start_time": "2021-10-01T11:12:04.967Z"
   },
   {
    "duration": 2,
    "start_time": "2021-10-01T11:12:05.013Z"
   },
   {
    "duration": 28,
    "start_time": "2021-10-01T11:12:05.019Z"
   },
   {
    "duration": 5014,
    "start_time": "2021-10-01T11:12:05.049Z"
   },
   {
    "duration": -48,
    "start_time": "2021-10-01T11:12:10.113Z"
   },
   {
    "duration": 3,
    "start_time": "2021-10-01T11:12:18.573Z"
   },
   {
    "duration": 730,
    "start_time": "2021-10-01T11:12:56.479Z"
   },
   {
    "duration": 33,
    "start_time": "2021-10-01T11:12:58.930Z"
   },
   {
    "duration": 216,
    "start_time": "2021-10-01T11:13:08.172Z"
   },
   {
    "duration": 4,
    "start_time": "2021-10-01T11:13:12.135Z"
   },
   {
    "duration": 423,
    "start_time": "2021-10-01T11:13:12.144Z"
   },
   {
    "duration": 12,
    "start_time": "2021-10-01T11:13:12.569Z"
   },
   {
    "duration": 28,
    "start_time": "2021-10-01T11:13:12.583Z"
   },
   {
    "duration": 29,
    "start_time": "2021-10-01T11:13:12.614Z"
   },
   {
    "duration": 4,
    "start_time": "2021-10-01T11:13:12.645Z"
   },
   {
    "duration": 14,
    "start_time": "2021-10-01T11:13:12.650Z"
   },
   {
    "duration": 53,
    "start_time": "2021-10-01T11:13:12.665Z"
   },
   {
    "duration": 27,
    "start_time": "2021-10-01T11:13:12.720Z"
   },
   {
    "duration": 4,
    "start_time": "2021-10-01T11:13:12.749Z"
   },
   {
    "duration": 11,
    "start_time": "2021-10-01T11:13:12.754Z"
   },
   {
    "duration": 42,
    "start_time": "2021-10-01T11:13:12.767Z"
   },
   {
    "duration": 19,
    "start_time": "2021-10-01T11:13:12.812Z"
   },
   {
    "duration": 5,
    "start_time": "2021-10-01T11:13:12.832Z"
   },
   {
    "duration": 14,
    "start_time": "2021-10-01T11:13:12.839Z"
   },
   {
    "duration": 46,
    "start_time": "2021-10-01T11:13:12.855Z"
   },
   {
    "duration": 7,
    "start_time": "2021-10-01T11:13:12.903Z"
   },
   {
    "duration": 35,
    "start_time": "2021-10-01T11:13:12.912Z"
   },
   {
    "duration": 4,
    "start_time": "2021-10-01T11:13:12.949Z"
   },
   {
    "duration": 52,
    "start_time": "2021-10-01T11:13:12.955Z"
   },
   {
    "duration": 24,
    "start_time": "2021-10-01T11:13:13.010Z"
   },
   {
    "duration": 19,
    "start_time": "2021-10-01T11:13:13.035Z"
   },
   {
    "duration": 6,
    "start_time": "2021-10-01T11:13:13.055Z"
   },
   {
    "duration": 36,
    "start_time": "2021-10-01T11:13:13.064Z"
   },
   {
    "duration": 26,
    "start_time": "2021-10-01T11:13:13.103Z"
   },
   {
    "duration": 2,
    "start_time": "2021-10-01T11:13:13.131Z"
   },
   {
    "duration": 9,
    "start_time": "2021-10-01T11:13:13.134Z"
   },
   {
    "duration": 671,
    "start_time": "2021-10-01T11:13:13.145Z"
   },
   {
    "duration": 13,
    "start_time": "2021-10-01T11:13:13.818Z"
   },
   {
    "duration": 4571,
    "start_time": "2021-10-01T11:13:25.877Z"
   },
   {
    "duration": 4,
    "start_time": "2021-10-01T11:13:31.498Z"
   },
   {
    "duration": 447,
    "start_time": "2021-10-01T11:13:31.505Z"
   },
   {
    "duration": 16,
    "start_time": "2021-10-01T11:13:31.955Z"
   },
   {
    "duration": 21,
    "start_time": "2021-10-01T11:13:31.972Z"
   },
   {
    "duration": 41,
    "start_time": "2021-10-01T11:13:31.995Z"
   },
   {
    "duration": 5,
    "start_time": "2021-10-01T11:13:32.037Z"
   },
   {
    "duration": 15,
    "start_time": "2021-10-01T11:13:32.043Z"
   },
   {
    "duration": 42,
    "start_time": "2021-10-01T11:13:32.059Z"
   },
   {
    "duration": 35,
    "start_time": "2021-10-01T11:13:32.105Z"
   },
   {
    "duration": 5,
    "start_time": "2021-10-01T11:13:32.142Z"
   },
   {
    "duration": 12,
    "start_time": "2021-10-01T11:13:32.149Z"
   },
   {
    "duration": 58,
    "start_time": "2021-10-01T11:13:32.164Z"
   },
   {
    "duration": 18,
    "start_time": "2021-10-01T11:13:32.225Z"
   },
   {
    "duration": 4,
    "start_time": "2021-10-01T11:13:32.245Z"
   },
   {
    "duration": 14,
    "start_time": "2021-10-01T11:13:32.250Z"
   },
   {
    "duration": 38,
    "start_time": "2021-10-01T11:13:32.265Z"
   },
   {
    "duration": 7,
    "start_time": "2021-10-01T11:13:32.306Z"
   },
   {
    "duration": 20,
    "start_time": "2021-10-01T11:13:32.315Z"
   },
   {
    "duration": 4,
    "start_time": "2021-10-01T11:13:32.336Z"
   },
   {
    "duration": 66,
    "start_time": "2021-10-01T11:13:32.342Z"
   },
   {
    "duration": 22,
    "start_time": "2021-10-01T11:13:32.410Z"
   },
   {
    "duration": 18,
    "start_time": "2021-10-01T11:13:32.433Z"
   },
   {
    "duration": 6,
    "start_time": "2021-10-01T11:13:32.453Z"
   },
   {
    "duration": 9,
    "start_time": "2021-10-01T11:13:32.460Z"
   },
   {
    "duration": 51,
    "start_time": "2021-10-01T11:13:32.471Z"
   },
   {
    "duration": 2,
    "start_time": "2021-10-01T11:13:32.524Z"
   },
   {
    "duration": 8,
    "start_time": "2021-10-01T11:13:32.529Z"
   },
   {
    "duration": 4422,
    "start_time": "2021-10-01T11:13:32.539Z"
   },
   {
    "duration": -48,
    "start_time": "2021-10-01T11:13:37.011Z"
   },
   {
    "duration": 614,
    "start_time": "2021-10-01T11:13:58.766Z"
   },
   {
    "duration": 14,
    "start_time": "2021-10-01T11:14:00.679Z"
   },
   {
    "duration": 66,
    "start_time": "2021-10-01T11:25:51.530Z"
   },
   {
    "duration": 185,
    "start_time": "2021-10-01T11:25:56.530Z"
   },
   {
    "duration": 3,
    "start_time": "2021-10-01T11:25:59.782Z"
   },
   {
    "duration": 415,
    "start_time": "2021-10-01T11:25:59.788Z"
   },
   {
    "duration": 15,
    "start_time": "2021-10-01T11:26:00.205Z"
   },
   {
    "duration": 26,
    "start_time": "2021-10-01T11:26:00.222Z"
   },
   {
    "duration": 57,
    "start_time": "2021-10-01T11:26:00.250Z"
   },
   {
    "duration": 6,
    "start_time": "2021-10-01T11:26:00.309Z"
   },
   {
    "duration": 39,
    "start_time": "2021-10-01T11:26:00.316Z"
   },
   {
    "duration": 25,
    "start_time": "2021-10-01T11:26:00.358Z"
   },
   {
    "duration": 34,
    "start_time": "2021-10-01T11:26:00.385Z"
   },
   {
    "duration": 4,
    "start_time": "2021-10-01T11:26:00.420Z"
   },
   {
    "duration": 24,
    "start_time": "2021-10-01T11:26:00.426Z"
   },
   {
    "duration": 19,
    "start_time": "2021-10-01T11:26:00.452Z"
   },
   {
    "duration": 35,
    "start_time": "2021-10-01T11:26:00.472Z"
   },
   {
    "duration": 4,
    "start_time": "2021-10-01T11:26:00.509Z"
   },
   {
    "duration": 17,
    "start_time": "2021-10-01T11:26:00.514Z"
   },
   {
    "duration": 16,
    "start_time": "2021-10-01T11:26:00.532Z"
   },
   {
    "duration": 14,
    "start_time": "2021-10-01T11:26:00.550Z"
   },
   {
    "duration": 34,
    "start_time": "2021-10-01T11:26:00.566Z"
   },
   {
    "duration": 10,
    "start_time": "2021-10-01T11:26:00.602Z"
   },
   {
    "duration": 47,
    "start_time": "2021-10-01T11:26:00.614Z"
   },
   {
    "duration": 23,
    "start_time": "2021-10-01T11:26:00.663Z"
   },
   {
    "duration": 18,
    "start_time": "2021-10-01T11:26:00.687Z"
   },
   {
    "duration": 10,
    "start_time": "2021-10-01T11:26:00.708Z"
   },
   {
    "duration": 24,
    "start_time": "2021-10-01T11:26:00.720Z"
   },
   {
    "duration": 43,
    "start_time": "2021-10-01T11:26:00.746Z"
   },
   {
    "duration": 16,
    "start_time": "2021-10-01T11:26:00.791Z"
   },
   {
    "duration": 10,
    "start_time": "2021-10-01T11:26:00.809Z"
   },
   {
    "duration": 597,
    "start_time": "2021-10-01T11:26:00.820Z"
   },
   {
    "duration": 13,
    "start_time": "2021-10-01T11:26:01.418Z"
   },
   {
    "duration": 700,
    "start_time": "2021-10-01T11:26:57.985Z"
   },
   {
    "duration": 3,
    "start_time": "2021-10-01T11:27:20.379Z"
   },
   {
    "duration": 14,
    "start_time": "2021-10-01T11:27:23.707Z"
   },
   {
    "duration": 2,
    "start_time": "2021-10-01T11:28:39.420Z"
   },
   {
    "duration": 15,
    "start_time": "2021-10-01T11:28:42.289Z"
   },
   {
    "duration": 763,
    "start_time": "2021-10-01T11:29:03.994Z"
   },
   {
    "duration": 3,
    "start_time": "2021-10-01T11:34:45.795Z"
   },
   {
    "duration": 413,
    "start_time": "2021-10-01T11:34:45.800Z"
   },
   {
    "duration": 13,
    "start_time": "2021-10-01T11:34:46.215Z"
   },
   {
    "duration": 22,
    "start_time": "2021-10-01T11:34:46.230Z"
   },
   {
    "duration": 28,
    "start_time": "2021-10-01T11:34:46.254Z"
   },
   {
    "duration": 18,
    "start_time": "2021-10-01T11:34:46.283Z"
   },
   {
    "duration": 16,
    "start_time": "2021-10-01T11:34:46.303Z"
   },
   {
    "duration": 18,
    "start_time": "2021-10-01T11:34:46.323Z"
   },
   {
    "duration": 66,
    "start_time": "2021-10-01T11:34:46.343Z"
   },
   {
    "duration": 4,
    "start_time": "2021-10-01T11:34:46.411Z"
   },
   {
    "duration": 14,
    "start_time": "2021-10-01T11:34:46.416Z"
   },
   {
    "duration": 15,
    "start_time": "2021-10-01T11:34:46.431Z"
   },
   {
    "duration": 15,
    "start_time": "2021-10-01T11:34:46.447Z"
   },
   {
    "duration": 37,
    "start_time": "2021-10-01T11:34:46.464Z"
   },
   {
    "duration": 11,
    "start_time": "2021-10-01T11:34:46.502Z"
   },
   {
    "duration": 10,
    "start_time": "2021-10-01T11:34:46.515Z"
   },
   {
    "duration": 7,
    "start_time": "2021-10-01T11:34:46.527Z"
   },
   {
    "duration": 27,
    "start_time": "2021-10-01T11:34:46.535Z"
   },
   {
    "duration": 35,
    "start_time": "2021-10-01T11:34:46.564Z"
   },
   {
    "duration": 42,
    "start_time": "2021-10-01T11:34:46.602Z"
   },
   {
    "duration": 22,
    "start_time": "2021-10-01T11:34:46.646Z"
   },
   {
    "duration": 41,
    "start_time": "2021-10-01T11:34:46.672Z"
   },
   {
    "duration": 6,
    "start_time": "2021-10-01T11:34:46.717Z"
   },
   {
    "duration": 10,
    "start_time": "2021-10-01T11:34:46.726Z"
   },
   {
    "duration": 23,
    "start_time": "2021-10-01T11:34:46.738Z"
   },
   {
    "duration": 39,
    "start_time": "2021-10-01T11:34:46.762Z"
   },
   {
    "duration": 11,
    "start_time": "2021-10-01T11:34:46.803Z"
   },
   {
    "duration": 621,
    "start_time": "2021-10-01T11:34:46.815Z"
   },
   {
    "duration": 723,
    "start_time": "2021-10-01T11:34:47.438Z"
   },
   {
    "duration": -46,
    "start_time": "2021-10-01T11:34:48.209Z"
   },
   {
    "duration": -47,
    "start_time": "2021-10-01T11:34:48.211Z"
   },
   {
    "duration": -49,
    "start_time": "2021-10-01T11:34:48.214Z"
   },
   {
    "duration": -52,
    "start_time": "2021-10-01T11:34:48.217Z"
   },
   {
    "duration": 14,
    "start_time": "2021-10-01T11:34:56.274Z"
   },
   {
    "duration": 210,
    "start_time": "2021-10-01T11:35:00.058Z"
   },
   {
    "duration": 15,
    "start_time": "2021-10-01T11:35:56.769Z"
   },
   {
    "duration": 9,
    "start_time": "2021-10-01T11:36:43.852Z"
   },
   {
    "duration": 201,
    "start_time": "2021-10-01T11:37:09.490Z"
   },
   {
    "duration": 198,
    "start_time": "2021-10-01T11:37:20.039Z"
   },
   {
    "duration": 26,
    "start_time": "2021-10-01T11:37:32.058Z"
   },
   {
    "duration": 3,
    "start_time": "2021-10-01T11:37:38.671Z"
   },
   {
    "duration": 400,
    "start_time": "2021-10-01T11:37:38.676Z"
   },
   {
    "duration": 12,
    "start_time": "2021-10-01T11:37:39.078Z"
   },
   {
    "duration": 34,
    "start_time": "2021-10-01T11:37:39.092Z"
   },
   {
    "duration": 27,
    "start_time": "2021-10-01T11:37:39.128Z"
   },
   {
    "duration": 4,
    "start_time": "2021-10-01T11:37:39.156Z"
   },
   {
    "duration": 29,
    "start_time": "2021-10-01T11:37:39.162Z"
   },
   {
    "duration": 27,
    "start_time": "2021-10-01T11:37:39.192Z"
   },
   {
    "duration": 27,
    "start_time": "2021-10-01T11:37:39.222Z"
   },
   {
    "duration": 5,
    "start_time": "2021-10-01T11:37:39.251Z"
   },
   {
    "duration": 23,
    "start_time": "2021-10-01T11:37:39.257Z"
   },
   {
    "duration": 27,
    "start_time": "2021-10-01T11:37:39.282Z"
   },
   {
    "duration": 22,
    "start_time": "2021-10-01T11:37:39.311Z"
   },
   {
    "duration": 4,
    "start_time": "2021-10-01T11:37:39.335Z"
   },
   {
    "duration": 13,
    "start_time": "2021-10-01T11:37:39.340Z"
   },
   {
    "duration": 16,
    "start_time": "2021-10-01T11:37:39.355Z"
   },
   {
    "duration": 13,
    "start_time": "2021-10-01T11:37:39.373Z"
   },
   {
    "duration": 26,
    "start_time": "2021-10-01T11:37:39.388Z"
   },
   {
    "duration": 7,
    "start_time": "2021-10-01T11:37:39.416Z"
   },
   {
    "duration": 38,
    "start_time": "2021-10-01T11:37:39.424Z"
   },
   {
    "duration": 42,
    "start_time": "2021-10-01T11:37:39.463Z"
   },
   {
    "duration": 18,
    "start_time": "2021-10-01T11:37:39.507Z"
   },
   {
    "duration": 6,
    "start_time": "2021-10-01T11:37:39.526Z"
   },
   {
    "duration": 14,
    "start_time": "2021-10-01T11:37:39.533Z"
   },
   {
    "duration": 30,
    "start_time": "2021-10-01T11:37:39.549Z"
   },
   {
    "duration": 2,
    "start_time": "2021-10-01T11:37:39.580Z"
   },
   {
    "duration": 6,
    "start_time": "2021-10-01T11:37:39.600Z"
   },
   {
    "duration": 603,
    "start_time": "2021-10-01T11:37:39.607Z"
   },
   {
    "duration": 2,
    "start_time": "2021-10-01T11:37:40.212Z"
   },
   {
    "duration": 23,
    "start_time": "2021-10-01T11:37:40.215Z"
   },
   {
    "duration": 30,
    "start_time": "2021-10-01T11:37:40.239Z"
   },
   {
    "duration": 16,
    "start_time": "2021-10-01T11:37:40.271Z"
   },
   {
    "duration": 13,
    "start_time": "2021-10-01T11:37:40.288Z"
   },
   {
    "duration": 3,
    "start_time": "2021-10-01T11:38:30.137Z"
   },
   {
    "duration": 413,
    "start_time": "2021-10-01T11:38:30.142Z"
   },
   {
    "duration": 13,
    "start_time": "2021-10-01T11:38:30.557Z"
   },
   {
    "duration": 22,
    "start_time": "2021-10-01T11:38:30.572Z"
   },
   {
    "duration": 28,
    "start_time": "2021-10-01T11:38:30.596Z"
   },
   {
    "duration": 5,
    "start_time": "2021-10-01T11:38:30.626Z"
   },
   {
    "duration": 23,
    "start_time": "2021-10-01T11:38:30.632Z"
   },
   {
    "duration": 23,
    "start_time": "2021-10-01T11:38:30.657Z"
   },
   {
    "duration": 44,
    "start_time": "2021-10-01T11:38:30.682Z"
   },
   {
    "duration": 4,
    "start_time": "2021-10-01T11:38:30.728Z"
   },
   {
    "duration": 29,
    "start_time": "2021-10-01T11:38:30.733Z"
   },
   {
    "duration": 34,
    "start_time": "2021-10-01T11:38:30.763Z"
   },
   {
    "duration": 29,
    "start_time": "2021-10-01T11:38:30.798Z"
   },
   {
    "duration": 4,
    "start_time": "2021-10-01T11:38:30.829Z"
   },
   {
    "duration": 25,
    "start_time": "2021-10-01T11:38:30.834Z"
   },
   {
    "duration": 20,
    "start_time": "2021-10-01T11:38:30.860Z"
   },
   {
    "duration": 14,
    "start_time": "2021-10-01T11:38:30.881Z"
   },
   {
    "duration": 25,
    "start_time": "2021-10-01T11:38:30.896Z"
   },
   {
    "duration": 19,
    "start_time": "2021-10-01T11:38:30.922Z"
   },
   {
    "duration": 49,
    "start_time": "2021-10-01T11:38:30.942Z"
   },
   {
    "duration": 23,
    "start_time": "2021-10-01T11:38:30.993Z"
   },
   {
    "duration": 19,
    "start_time": "2021-10-01T11:38:31.017Z"
   },
   {
    "duration": 23,
    "start_time": "2021-10-01T11:38:31.038Z"
   },
   {
    "duration": 25,
    "start_time": "2021-10-01T11:38:31.063Z"
   },
   {
    "duration": 29,
    "start_time": "2021-10-01T11:38:31.089Z"
   },
   {
    "duration": 2,
    "start_time": "2021-10-01T11:38:31.120Z"
   },
   {
    "duration": 24,
    "start_time": "2021-10-01T11:38:31.125Z"
   },
   {
    "duration": 622,
    "start_time": "2021-10-01T11:38:31.151Z"
   },
   {
    "duration": 2,
    "start_time": "2021-10-01T11:38:31.775Z"
   },
   {
    "duration": 741,
    "start_time": "2021-10-01T11:38:31.779Z"
   },
   {
    "duration": 185,
    "start_time": "2021-10-01T11:38:57.285Z"
   },
   {
    "duration": 3,
    "start_time": "2021-10-01T11:38:59.653Z"
   },
   {
    "duration": 379,
    "start_time": "2021-10-01T11:38:59.658Z"
   },
   {
    "duration": 13,
    "start_time": "2021-10-01T11:39:00.039Z"
   },
   {
    "duration": 23,
    "start_time": "2021-10-01T11:39:00.054Z"
   },
   {
    "duration": 29,
    "start_time": "2021-10-01T11:39:00.078Z"
   },
   {
    "duration": 5,
    "start_time": "2021-10-01T11:39:00.108Z"
   },
   {
    "duration": 14,
    "start_time": "2021-10-01T11:39:00.115Z"
   },
   {
    "duration": 16,
    "start_time": "2021-10-01T11:39:00.131Z"
   },
   {
    "duration": 53,
    "start_time": "2021-10-01T11:39:00.150Z"
   },
   {
    "duration": 5,
    "start_time": "2021-10-01T11:39:00.205Z"
   },
   {
    "duration": 12,
    "start_time": "2021-10-01T11:39:00.212Z"
   },
   {
    "duration": 16,
    "start_time": "2021-10-01T11:39:00.226Z"
   },
   {
    "duration": 16,
    "start_time": "2021-10-01T11:39:00.244Z"
   },
   {
    "duration": 4,
    "start_time": "2021-10-01T11:39:00.262Z"
   },
   {
    "duration": 8,
    "start_time": "2021-10-01T11:39:00.300Z"
   },
   {
    "duration": 22,
    "start_time": "2021-10-01T11:39:00.310Z"
   },
   {
    "duration": 12,
    "start_time": "2021-10-01T11:39:00.334Z"
   },
   {
    "duration": 29,
    "start_time": "2021-10-01T11:39:00.348Z"
   },
   {
    "duration": 21,
    "start_time": "2021-10-01T11:39:00.379Z"
   },
   {
    "duration": 32,
    "start_time": "2021-10-01T11:39:00.401Z"
   },
   {
    "duration": 22,
    "start_time": "2021-10-01T11:39:00.435Z"
   },
   {
    "duration": 48,
    "start_time": "2021-10-01T11:39:00.459Z"
   },
   {
    "duration": 6,
    "start_time": "2021-10-01T11:39:00.508Z"
   },
   {
    "duration": 17,
    "start_time": "2021-10-01T11:39:00.515Z"
   },
   {
    "duration": 31,
    "start_time": "2021-10-01T11:39:00.534Z"
   },
   {
    "duration": 2,
    "start_time": "2021-10-01T11:39:00.567Z"
   },
   {
    "duration": 15,
    "start_time": "2021-10-01T11:39:00.572Z"
   },
   {
    "duration": 604,
    "start_time": "2021-10-01T11:39:00.599Z"
   },
   {
    "duration": 3,
    "start_time": "2021-10-01T11:39:01.205Z"
   },
   {
    "duration": 22,
    "start_time": "2021-10-01T11:39:01.209Z"
   },
   {
    "duration": 223,
    "start_time": "2021-10-01T11:39:15.737Z"
   },
   {
    "duration": 3,
    "start_time": "2021-10-01T11:39:23.201Z"
   },
   {
    "duration": 397,
    "start_time": "2021-10-01T11:39:23.206Z"
   },
   {
    "duration": 13,
    "start_time": "2021-10-01T11:39:23.605Z"
   },
   {
    "duration": 21,
    "start_time": "2021-10-01T11:39:23.621Z"
   },
   {
    "duration": 29,
    "start_time": "2021-10-01T11:39:23.643Z"
   },
   {
    "duration": 28,
    "start_time": "2021-10-01T11:39:23.674Z"
   },
   {
    "duration": 13,
    "start_time": "2021-10-01T11:39:23.704Z"
   },
   {
    "duration": 20,
    "start_time": "2021-10-01T11:39:23.718Z"
   },
   {
    "duration": 60,
    "start_time": "2021-10-01T11:39:23.741Z"
   },
   {
    "duration": 5,
    "start_time": "2021-10-01T11:39:23.803Z"
   },
   {
    "duration": 12,
    "start_time": "2021-10-01T11:39:23.810Z"
   },
   {
    "duration": 15,
    "start_time": "2021-10-01T11:39:23.824Z"
   },
   {
    "duration": 17,
    "start_time": "2021-10-01T11:39:23.841Z"
   },
   {
    "duration": 42,
    "start_time": "2021-10-01T11:39:23.860Z"
   },
   {
    "duration": 9,
    "start_time": "2021-10-01T11:39:23.904Z"
   },
   {
    "duration": 10,
    "start_time": "2021-10-01T11:39:23.915Z"
   },
   {
    "duration": 6,
    "start_time": "2021-10-01T11:39:23.926Z"
   },
   {
    "duration": 18,
    "start_time": "2021-10-01T11:39:23.934Z"
   },
   {
    "duration": 47,
    "start_time": "2021-10-01T11:39:23.953Z"
   },
   {
    "duration": 32,
    "start_time": "2021-10-01T11:39:24.002Z"
   },
   {
    "duration": 23,
    "start_time": "2021-10-01T11:39:24.036Z"
   },
   {
    "duration": 47,
    "start_time": "2021-10-01T11:39:24.060Z"
   },
   {
    "duration": 6,
    "start_time": "2021-10-01T11:39:24.109Z"
   },
   {
    "duration": 15,
    "start_time": "2021-10-01T11:39:24.117Z"
   },
   {
    "duration": 28,
    "start_time": "2021-10-01T11:39:24.134Z"
   },
   {
    "duration": 2,
    "start_time": "2021-10-01T11:39:24.163Z"
   },
   {
    "duration": 7,
    "start_time": "2021-10-01T11:39:24.168Z"
   },
   {
    "duration": 626,
    "start_time": "2021-10-01T11:39:24.199Z"
   },
   {
    "duration": 2,
    "start_time": "2021-10-01T11:39:24.827Z"
   },
   {
    "duration": 19,
    "start_time": "2021-10-01T11:39:24.831Z"
   },
   {
    "duration": 6,
    "start_time": "2021-10-01T11:39:43.877Z"
   },
   {
    "duration": 3872,
    "start_time": "2021-10-01T11:39:58.140Z"
   },
   {
    "duration": 4703,
    "start_time": "2021-10-01T11:40:04.944Z"
   },
   {
    "duration": 11,
    "start_time": "2021-10-01T11:41:00.026Z"
   },
   {
    "duration": 7,
    "start_time": "2021-10-01T11:41:08.440Z"
   },
   {
    "duration": 8,
    "start_time": "2021-10-01T11:41:17.938Z"
   },
   {
    "duration": 9,
    "start_time": "2021-10-01T11:41:23.116Z"
   },
   {
    "duration": 9,
    "start_time": "2021-10-01T11:41:26.255Z"
   },
   {
    "duration": 9,
    "start_time": "2021-10-01T11:41:32.979Z"
   },
   {
    "duration": 170,
    "start_time": "2021-10-01T11:41:59.614Z"
   },
   {
    "duration": 15,
    "start_time": "2021-10-01T11:42:04.549Z"
   },
   {
    "duration": 8,
    "start_time": "2021-10-01T11:42:18.645Z"
   },
   {
    "duration": 8,
    "start_time": "2021-10-01T11:42:27.087Z"
   },
   {
    "duration": 11,
    "start_time": "2021-10-01T11:58:50.708Z"
   },
   {
    "duration": 16,
    "start_time": "2021-10-01T11:59:05.619Z"
   },
   {
    "duration": 27,
    "start_time": "2021-10-01T12:00:30.730Z"
   },
   {
    "duration": 12,
    "start_time": "2021-10-01T12:00:37.861Z"
   },
   {
    "duration": 13,
    "start_time": "2021-10-01T12:01:00.255Z"
   },
   {
    "duration": 3,
    "start_time": "2021-10-01T12:01:38.006Z"
   },
   {
    "duration": 415,
    "start_time": "2021-10-01T12:01:38.011Z"
   },
   {
    "duration": 13,
    "start_time": "2021-10-01T12:01:38.428Z"
   },
   {
    "duration": 21,
    "start_time": "2021-10-01T12:01:38.442Z"
   },
   {
    "duration": 27,
    "start_time": "2021-10-01T12:01:38.465Z"
   },
   {
    "duration": 7,
    "start_time": "2021-10-01T12:01:38.493Z"
   },
   {
    "duration": 11,
    "start_time": "2021-10-01T12:01:38.502Z"
   },
   {
    "duration": 18,
    "start_time": "2021-10-01T12:01:38.514Z"
   },
   {
    "duration": 24,
    "start_time": "2021-10-01T12:01:38.534Z"
   },
   {
    "duration": 4,
    "start_time": "2021-10-01T12:01:38.560Z"
   },
   {
    "duration": 39,
    "start_time": "2021-10-01T12:01:38.565Z"
   },
   {
    "duration": 14,
    "start_time": "2021-10-01T12:01:38.606Z"
   },
   {
    "duration": 16,
    "start_time": "2021-10-01T12:01:38.621Z"
   },
   {
    "duration": 5,
    "start_time": "2021-10-01T12:01:38.638Z"
   },
   {
    "duration": 10,
    "start_time": "2021-10-01T12:01:38.644Z"
   },
   {
    "duration": 11,
    "start_time": "2021-10-01T12:01:38.699Z"
   },
   {
    "duration": 8,
    "start_time": "2021-10-01T12:01:38.712Z"
   },
   {
    "duration": 26,
    "start_time": "2021-10-01T12:01:38.722Z"
   },
   {
    "duration": 8,
    "start_time": "2021-10-01T12:01:38.750Z"
   },
   {
    "duration": 59,
    "start_time": "2021-10-01T12:01:38.759Z"
   },
   {
    "duration": 23,
    "start_time": "2021-10-01T12:01:38.819Z"
   },
   {
    "duration": 19,
    "start_time": "2021-10-01T12:01:38.843Z"
   },
   {
    "duration": 5,
    "start_time": "2021-10-01T12:01:38.863Z"
   },
   {
    "duration": 30,
    "start_time": "2021-10-01T12:01:38.870Z"
   },
   {
    "duration": 23,
    "start_time": "2021-10-01T12:01:38.902Z"
   },
   {
    "duration": 617,
    "start_time": "2021-10-01T12:01:38.926Z"
   },
   {
    "duration": 15,
    "start_time": "2021-10-01T12:01:39.546Z"
   },
   {
    "duration": 63,
    "start_time": "2021-10-01T12:01:39.563Z"
   },
   {
    "duration": -43,
    "start_time": "2021-10-01T12:01:39.671Z"
   },
   {
    "duration": -44,
    "start_time": "2021-10-01T12:01:39.673Z"
   },
   {
    "duration": -44,
    "start_time": "2021-10-01T12:01:39.674Z"
   },
   {
    "duration": -45,
    "start_time": "2021-10-01T12:01:39.676Z"
   },
   {
    "duration": 11,
    "start_time": "2021-10-01T12:01:45.327Z"
   },
   {
    "duration": 16,
    "start_time": "2021-10-01T12:01:45.677Z"
   },
   {
    "duration": 27,
    "start_time": "2021-10-01T12:01:46.115Z"
   },
   {
    "duration": 13,
    "start_time": "2021-10-01T12:01:46.515Z"
   },
   {
    "duration": 12,
    "start_time": "2021-10-01T12:07:45.341Z"
   },
   {
    "duration": 18,
    "start_time": "2021-10-01T12:08:20.781Z"
   },
   {
    "duration": 4,
    "start_time": "2021-10-01T12:09:31.147Z"
   },
   {
    "duration": 405,
    "start_time": "2021-10-01T12:09:31.157Z"
   },
   {
    "duration": 13,
    "start_time": "2021-10-01T12:09:31.563Z"
   },
   {
    "duration": 24,
    "start_time": "2021-10-01T12:09:31.578Z"
   },
   {
    "duration": 31,
    "start_time": "2021-10-01T12:09:31.604Z"
   },
   {
    "duration": 6,
    "start_time": "2021-10-01T12:09:31.637Z"
   },
   {
    "duration": 19,
    "start_time": "2021-10-01T12:09:31.645Z"
   },
   {
    "duration": 45,
    "start_time": "2021-10-01T12:09:31.666Z"
   },
   {
    "duration": 26,
    "start_time": "2021-10-01T12:09:31.713Z"
   },
   {
    "duration": 4,
    "start_time": "2021-10-01T12:09:31.742Z"
   },
   {
    "duration": 25,
    "start_time": "2021-10-01T12:09:31.748Z"
   },
   {
    "duration": 39,
    "start_time": "2021-10-01T12:09:31.775Z"
   },
   {
    "duration": 30,
    "start_time": "2021-10-01T12:09:31.815Z"
   },
   {
    "duration": 15,
    "start_time": "2021-10-01T12:09:31.846Z"
   },
   {
    "duration": 21,
    "start_time": "2021-10-01T12:09:31.863Z"
   },
   {
    "duration": 26,
    "start_time": "2021-10-01T12:09:31.885Z"
   },
   {
    "duration": 29,
    "start_time": "2021-10-01T12:09:31.912Z"
   },
   {
    "duration": 28,
    "start_time": "2021-10-01T12:09:31.942Z"
   },
   {
    "duration": 24,
    "start_time": "2021-10-01T12:09:31.971Z"
   },
   {
    "duration": 34,
    "start_time": "2021-10-01T12:09:31.996Z"
   },
   {
    "duration": 23,
    "start_time": "2021-10-01T12:09:32.032Z"
   },
   {
    "duration": 21,
    "start_time": "2021-10-01T12:09:32.057Z"
   },
   {
    "duration": 12,
    "start_time": "2021-10-01T12:09:32.079Z"
   },
   {
    "duration": 30,
    "start_time": "2021-10-01T12:09:32.099Z"
   },
   {
    "duration": 34,
    "start_time": "2021-10-01T12:09:32.130Z"
   },
   {
    "duration": 594,
    "start_time": "2021-10-01T12:09:32.166Z"
   },
   {
    "duration": 16,
    "start_time": "2021-10-01T12:09:32.761Z"
   },
   {
    "duration": 30,
    "start_time": "2021-10-01T12:09:32.780Z"
   },
   {
    "duration": 25,
    "start_time": "2021-10-01T12:09:32.812Z"
   },
   {
    "duration": 13,
    "start_time": "2021-10-01T12:09:32.839Z"
   },
   {
    "duration": 21,
    "start_time": "2021-10-01T12:09:32.853Z"
   },
   {
    "duration": 45,
    "start_time": "2021-10-01T12:09:32.875Z"
   },
   {
    "duration": 12,
    "start_time": "2021-10-01T12:09:32.921Z"
   },
   {
    "duration": 3,
    "start_time": "2021-10-01T12:10:33.444Z"
   },
   {
    "duration": 419,
    "start_time": "2021-10-01T12:10:33.450Z"
   },
   {
    "duration": 15,
    "start_time": "2021-10-01T12:10:33.871Z"
   },
   {
    "duration": 21,
    "start_time": "2021-10-01T12:10:33.888Z"
   },
   {
    "duration": 30,
    "start_time": "2021-10-01T12:10:33.911Z"
   },
   {
    "duration": 5,
    "start_time": "2021-10-01T12:10:33.942Z"
   },
   {
    "duration": 13,
    "start_time": "2021-10-01T12:10:33.948Z"
   },
   {
    "duration": 48,
    "start_time": "2021-10-01T12:10:33.964Z"
   },
   {
    "duration": 26,
    "start_time": "2021-10-01T12:10:34.014Z"
   },
   {
    "duration": 4,
    "start_time": "2021-10-01T12:10:34.042Z"
   },
   {
    "duration": 13,
    "start_time": "2021-10-01T12:10:34.047Z"
   },
   {
    "duration": 40,
    "start_time": "2021-10-01T12:10:34.061Z"
   },
   {
    "duration": 16,
    "start_time": "2021-10-01T12:10:34.102Z"
   },
   {
    "duration": 4,
    "start_time": "2021-10-01T12:10:34.120Z"
   },
   {
    "duration": 9,
    "start_time": "2021-10-01T12:10:34.126Z"
   },
   {
    "duration": 10,
    "start_time": "2021-10-01T12:10:34.137Z"
   },
   {
    "duration": 7,
    "start_time": "2021-10-01T12:10:34.149Z"
   },
   {
    "duration": 57,
    "start_time": "2021-10-01T12:10:34.157Z"
   },
   {
    "duration": 5,
    "start_time": "2021-10-01T12:10:34.216Z"
   },
   {
    "duration": 30,
    "start_time": "2021-10-01T12:10:34.222Z"
   },
   {
    "duration": 50,
    "start_time": "2021-10-01T12:10:34.253Z"
   },
   {
    "duration": 19,
    "start_time": "2021-10-01T12:10:34.305Z"
   },
   {
    "duration": 5,
    "start_time": "2021-10-01T12:10:34.327Z"
   },
   {
    "duration": 8,
    "start_time": "2021-10-01T12:10:34.333Z"
   },
   {
    "duration": 21,
    "start_time": "2021-10-01T12:10:34.343Z"
   },
   {
    "duration": 636,
    "start_time": "2021-10-01T12:10:34.366Z"
   },
   {
    "duration": 16,
    "start_time": "2021-10-01T12:10:35.004Z"
   },
   {
    "duration": 15,
    "start_time": "2021-10-01T12:10:35.021Z"
   },
   {
    "duration": 32,
    "start_time": "2021-10-01T12:10:35.037Z"
   },
   {
    "duration": 34,
    "start_time": "2021-10-01T12:10:35.072Z"
   },
   {
    "duration": 18,
    "start_time": "2021-10-01T12:10:35.108Z"
   },
   {
    "duration": 30,
    "start_time": "2021-10-01T12:10:35.128Z"
   },
   {
    "duration": 43,
    "start_time": "2021-10-01T12:10:35.160Z"
   },
   {
    "duration": 55,
    "start_time": "2021-10-01T13:58:22.751Z"
   },
   {
    "duration": 3,
    "start_time": "2021-10-01T13:58:28.713Z"
   },
   {
    "duration": 6,
    "start_time": "2021-10-01T13:58:30.620Z"
   },
   {
    "duration": 10,
    "start_time": "2021-10-01T13:58:40.983Z"
   },
   {
    "duration": 4855,
    "start_time": "2021-10-01T13:59:14.019Z"
   },
   {
    "duration": 9,
    "start_time": "2021-10-01T13:59:35.294Z"
   },
   {
    "duration": 8,
    "start_time": "2021-10-01T14:16:24.796Z"
   },
   {
    "duration": 9,
    "start_time": "2021-10-01T14:16:29.756Z"
   },
   {
    "duration": 4,
    "start_time": "2021-10-01T17:32:12.295Z"
   },
   {
    "duration": 453,
    "start_time": "2021-10-01T17:32:12.301Z"
   },
   {
    "duration": 13,
    "start_time": "2021-10-01T17:32:12.756Z"
   },
   {
    "duration": 28,
    "start_time": "2021-10-01T17:32:12.771Z"
   },
   {
    "duration": 32,
    "start_time": "2021-10-01T17:32:12.801Z"
   },
   {
    "duration": 4,
    "start_time": "2021-10-01T17:32:12.834Z"
   },
   {
    "duration": 13,
    "start_time": "2021-10-01T17:32:12.840Z"
   },
   {
    "duration": 16,
    "start_time": "2021-10-01T17:32:12.856Z"
   },
   {
    "duration": 26,
    "start_time": "2021-10-01T17:32:12.900Z"
   },
   {
    "duration": 4,
    "start_time": "2021-10-01T17:32:12.927Z"
   },
   {
    "duration": 12,
    "start_time": "2021-10-01T17:32:12.933Z"
   },
   {
    "duration": 13,
    "start_time": "2021-10-01T17:32:12.947Z"
   },
   {
    "duration": 49,
    "start_time": "2021-10-01T17:32:12.962Z"
   },
   {
    "duration": 4,
    "start_time": "2021-10-01T17:32:13.013Z"
   },
   {
    "duration": 33,
    "start_time": "2021-10-01T17:32:13.018Z"
   },
   {
    "duration": 30,
    "start_time": "2021-10-01T17:32:13.053Z"
   },
   {
    "duration": 30,
    "start_time": "2021-10-01T17:32:13.085Z"
   },
   {
    "duration": 35,
    "start_time": "2021-10-01T17:32:13.117Z"
   },
   {
    "duration": 18,
    "start_time": "2021-10-01T17:32:13.154Z"
   },
   {
    "duration": 44,
    "start_time": "2021-10-01T17:32:13.173Z"
   },
   {
    "duration": 34,
    "start_time": "2021-10-01T17:32:13.219Z"
   },
   {
    "duration": 19,
    "start_time": "2021-10-01T17:32:13.255Z"
   },
   {
    "duration": 15,
    "start_time": "2021-10-01T17:32:13.277Z"
   },
   {
    "duration": 28,
    "start_time": "2021-10-01T17:32:13.294Z"
   },
   {
    "duration": 42,
    "start_time": "2021-10-01T17:32:13.323Z"
   },
   {
    "duration": 586,
    "start_time": "2021-10-01T17:32:13.367Z"
   },
   {
    "duration": 16,
    "start_time": "2021-10-01T17:32:13.955Z"
   },
   {
    "duration": 30,
    "start_time": "2021-10-01T17:32:13.972Z"
   },
   {
    "duration": 27,
    "start_time": "2021-10-01T17:32:14.003Z"
   },
   {
    "duration": 12,
    "start_time": "2021-10-01T17:32:14.032Z"
   },
   {
    "duration": 20,
    "start_time": "2021-10-01T17:32:14.046Z"
   },
   {
    "duration": 51,
    "start_time": "2021-10-01T17:32:14.068Z"
   },
   {
    "duration": 12,
    "start_time": "2021-10-01T17:32:14.121Z"
   },
   {
    "duration": 3,
    "start_time": "2021-10-01T17:32:14.135Z"
   },
   {
    "duration": 20,
    "start_time": "2021-10-01T17:32:14.139Z"
   },
   {
    "duration": 18,
    "start_time": "2021-10-01T17:32:14.160Z"
   },
   {
    "duration": 10,
    "start_time": "2021-10-01T17:40:36.077Z"
   },
   {
    "duration": 183,
    "start_time": "2021-10-01T17:41:29.502Z"
   },
   {
    "duration": 9,
    "start_time": "2021-10-01T17:41:50.710Z"
   },
   {
    "duration": 15,
    "start_time": "2021-10-01T17:41:59.134Z"
   },
   {
    "duration": 14,
    "start_time": "2021-10-01T17:43:13.507Z"
   },
   {
    "duration": 13,
    "start_time": "2021-10-01T17:43:33.293Z"
   },
   {
    "duration": 4,
    "start_time": "2021-10-01T17:43:50.340Z"
   },
   {
    "duration": 417,
    "start_time": "2021-10-01T17:43:50.346Z"
   },
   {
    "duration": 14,
    "start_time": "2021-10-01T17:43:50.765Z"
   },
   {
    "duration": 24,
    "start_time": "2021-10-01T17:43:50.781Z"
   },
   {
    "duration": 29,
    "start_time": "2021-10-01T17:43:50.807Z"
   },
   {
    "duration": 5,
    "start_time": "2021-10-01T17:43:50.838Z"
   },
   {
    "duration": 15,
    "start_time": "2021-10-01T17:43:50.844Z"
   },
   {
    "duration": 52,
    "start_time": "2021-10-01T17:43:50.862Z"
   },
   {
    "duration": 27,
    "start_time": "2021-10-01T17:43:50.917Z"
   },
   {
    "duration": 5,
    "start_time": "2021-10-01T17:43:50.946Z"
   },
   {
    "duration": 52,
    "start_time": "2021-10-01T17:43:50.953Z"
   },
   {
    "duration": 14,
    "start_time": "2021-10-01T17:43:51.006Z"
   },
   {
    "duration": 26,
    "start_time": "2021-10-01T17:43:51.022Z"
   },
   {
    "duration": 7,
    "start_time": "2021-10-01T17:43:51.049Z"
   },
   {
    "duration": 17,
    "start_time": "2021-10-01T17:43:51.058Z"
   },
   {
    "duration": 22,
    "start_time": "2021-10-01T17:43:51.077Z"
   },
   {
    "duration": 5,
    "start_time": "2021-10-01T17:43:51.101Z"
   },
   {
    "duration": 26,
    "start_time": "2021-10-01T17:43:51.107Z"
   },
   {
    "duration": 6,
    "start_time": "2021-10-01T17:43:51.135Z"
   },
   {
    "duration": 32,
    "start_time": "2021-10-01T17:43:51.142Z"
   },
   {
    "duration": 41,
    "start_time": "2021-10-01T17:43:51.176Z"
   },
   {
    "duration": 18,
    "start_time": "2021-10-01T17:43:51.218Z"
   },
   {
    "duration": 5,
    "start_time": "2021-10-01T17:43:51.239Z"
   },
   {
    "duration": 9,
    "start_time": "2021-10-01T17:43:51.246Z"
   },
   {
    "duration": 47,
    "start_time": "2021-10-01T17:43:51.257Z"
   },
   {
    "duration": 596,
    "start_time": "2021-10-01T17:43:51.306Z"
   },
   {
    "duration": 15,
    "start_time": "2021-10-01T17:43:51.904Z"
   },
   {
    "duration": 35,
    "start_time": "2021-10-01T17:43:51.920Z"
   },
   {
    "duration": 30,
    "start_time": "2021-10-01T17:43:51.957Z"
   },
   {
    "duration": 12,
    "start_time": "2021-10-01T17:43:51.989Z"
   },
   {
    "duration": 16,
    "start_time": "2021-10-01T17:43:52.003Z"
   },
   {
    "duration": 22,
    "start_time": "2021-10-01T17:43:52.020Z"
   },
   {
    "duration": 11,
    "start_time": "2021-10-01T17:43:52.044Z"
   },
   {
    "duration": 2,
    "start_time": "2021-10-01T17:43:52.057Z"
   },
   {
    "duration": 41,
    "start_time": "2021-10-01T17:43:52.061Z"
   },
   {
    "duration": 11,
    "start_time": "2021-10-01T17:43:52.104Z"
   },
   {
    "duration": 7,
    "start_time": "2021-10-01T17:43:52.117Z"
   },
   {
    "duration": 13,
    "start_time": "2021-10-01T17:43:52.125Z"
   },
   {
    "duration": 5,
    "start_time": "2021-10-01T17:43:52.139Z"
   },
   {
    "duration": 10,
    "start_time": "2021-10-01T17:43:52.145Z"
   },
   {
    "duration": 180,
    "start_time": "2021-10-01T17:44:02.935Z"
   },
   {
    "duration": 7,
    "start_time": "2021-10-01T17:44:16.379Z"
   },
   {
    "duration": 18,
    "start_time": "2021-10-01T17:44:18.624Z"
   },
   {
    "duration": 14,
    "start_time": "2021-10-01T17:44:57.493Z"
   },
   {
    "duration": 14,
    "start_time": "2021-10-01T17:45:01.108Z"
   },
   {
    "duration": 11,
    "start_time": "2021-10-01T17:50:46.797Z"
   },
   {
    "duration": 19,
    "start_time": "2021-10-01T17:50:48.846Z"
   },
   {
    "duration": 17,
    "start_time": "2021-10-01T17:51:15.461Z"
   },
   {
    "duration": 23,
    "start_time": "2021-10-01T17:51:20.573Z"
   },
   {
    "duration": 3,
    "start_time": "2021-10-01T17:51:24.890Z"
   },
   {
    "duration": 404,
    "start_time": "2021-10-01T17:51:24.894Z"
   },
   {
    "duration": 12,
    "start_time": "2021-10-01T17:51:25.300Z"
   },
   {
    "duration": 19,
    "start_time": "2021-10-01T17:51:25.314Z"
   },
   {
    "duration": 38,
    "start_time": "2021-10-01T17:51:25.334Z"
   },
   {
    "duration": 27,
    "start_time": "2021-10-01T17:51:25.373Z"
   },
   {
    "duration": 11,
    "start_time": "2021-10-01T17:51:25.402Z"
   },
   {
    "duration": 25,
    "start_time": "2021-10-01T17:51:25.414Z"
   },
   {
    "duration": 24,
    "start_time": "2021-10-01T17:51:25.441Z"
   },
   {
    "duration": 5,
    "start_time": "2021-10-01T17:51:25.467Z"
   },
   {
    "duration": 9,
    "start_time": "2021-10-01T17:51:25.500Z"
   },
   {
    "duration": 17,
    "start_time": "2021-10-01T17:51:25.510Z"
   },
   {
    "duration": 25,
    "start_time": "2021-10-01T17:51:25.529Z"
   },
   {
    "duration": 4,
    "start_time": "2021-10-01T17:51:25.556Z"
   },
   {
    "duration": 12,
    "start_time": "2021-10-01T17:51:25.561Z"
   },
   {
    "duration": 10,
    "start_time": "2021-10-01T17:51:25.600Z"
   },
   {
    "duration": 7,
    "start_time": "2021-10-01T17:51:25.611Z"
   },
   {
    "duration": 16,
    "start_time": "2021-10-01T17:51:25.620Z"
   },
   {
    "duration": 4,
    "start_time": "2021-10-01T17:51:25.637Z"
   },
   {
    "duration": 68,
    "start_time": "2021-10-01T17:51:25.642Z"
   },
   {
    "duration": 22,
    "start_time": "2021-10-01T17:51:25.711Z"
   },
   {
    "duration": 18,
    "start_time": "2021-10-01T17:51:25.734Z"
   },
   {
    "duration": 5,
    "start_time": "2021-10-01T17:51:25.754Z"
   },
   {
    "duration": 10,
    "start_time": "2021-10-01T17:51:25.760Z"
   },
   {
    "duration": 50,
    "start_time": "2021-10-01T17:51:25.771Z"
   },
   {
    "duration": 626,
    "start_time": "2021-10-01T17:51:25.822Z"
   },
   {
    "duration": 16,
    "start_time": "2021-10-01T17:51:26.451Z"
   },
   {
    "duration": 35,
    "start_time": "2021-10-01T17:51:26.468Z"
   },
   {
    "duration": 27,
    "start_time": "2021-10-01T17:51:26.505Z"
   },
   {
    "duration": 12,
    "start_time": "2021-10-01T17:51:26.534Z"
   },
   {
    "duration": 17,
    "start_time": "2021-10-01T17:51:26.547Z"
   },
   {
    "duration": 51,
    "start_time": "2021-10-01T17:51:26.565Z"
   },
   {
    "duration": 15,
    "start_time": "2021-10-01T17:51:26.618Z"
   },
   {
    "duration": 3,
    "start_time": "2021-10-01T17:51:26.635Z"
   },
   {
    "duration": 8,
    "start_time": "2021-10-01T17:51:26.639Z"
   },
   {
    "duration": 11,
    "start_time": "2021-10-01T17:51:26.648Z"
   },
   {
    "duration": 45,
    "start_time": "2021-10-01T17:51:26.660Z"
   },
   {
    "duration": 14,
    "start_time": "2021-10-01T17:51:26.706Z"
   },
   {
    "duration": 7,
    "start_time": "2021-10-01T17:51:26.722Z"
   },
   {
    "duration": 12,
    "start_time": "2021-10-01T17:51:26.731Z"
   },
   {
    "duration": 11,
    "start_time": "2021-10-01T18:08:38.519Z"
   },
   {
    "duration": 7,
    "start_time": "2021-10-01T18:08:59.248Z"
   },
   {
    "duration": 10,
    "start_time": "2021-10-01T18:12:36.299Z"
   },
   {
    "duration": 6,
    "start_time": "2021-10-01T18:14:11.336Z"
   },
   {
    "duration": 173,
    "start_time": "2021-10-01T18:14:36.864Z"
   },
   {
    "duration": 5,
    "start_time": "2021-10-01T18:14:42.136Z"
   },
   {
    "duration": 5,
    "start_time": "2021-10-01T18:14:48.893Z"
   },
   {
    "duration": 10,
    "start_time": "2021-10-01T18:30:01.922Z"
   },
   {
    "duration": 7,
    "start_time": "2021-10-01T18:30:26.804Z"
   },
   {
    "duration": 12,
    "start_time": "2021-10-01T18:32:11.582Z"
   },
   {
    "duration": 55,
    "start_time": "2021-10-01T18:32:22.916Z"
   },
   {
    "duration": 8,
    "start_time": "2021-10-01T18:32:29.240Z"
   },
   {
    "duration": 4,
    "start_time": "2021-10-01T18:32:59.215Z"
   },
   {
    "duration": 402,
    "start_time": "2021-10-01T18:32:59.220Z"
   },
   {
    "duration": 14,
    "start_time": "2021-10-01T18:32:59.624Z"
   },
   {
    "duration": 11,
    "start_time": "2021-10-01T18:32:59.640Z"
   },
   {
    "duration": 23,
    "start_time": "2021-10-01T18:32:59.652Z"
   },
   {
    "duration": 48,
    "start_time": "2021-10-01T18:32:59.676Z"
   },
   {
    "duration": 5,
    "start_time": "2021-10-01T18:32:59.725Z"
   },
   {
    "duration": 15,
    "start_time": "2021-10-01T18:32:59.731Z"
   },
   {
    "duration": 17,
    "start_time": "2021-10-01T18:32:59.748Z"
   },
   {
    "duration": 50,
    "start_time": "2021-10-01T18:32:59.767Z"
   },
   {
    "duration": 5,
    "start_time": "2021-10-01T18:32:59.818Z"
   },
   {
    "duration": 11,
    "start_time": "2021-10-01T18:32:59.825Z"
   },
   {
    "duration": 14,
    "start_time": "2021-10-01T18:32:59.838Z"
   },
   {
    "duration": 53,
    "start_time": "2021-10-01T18:32:59.854Z"
   },
   {
    "duration": 5,
    "start_time": "2021-10-01T18:32:59.908Z"
   },
   {
    "duration": 12,
    "start_time": "2021-10-01T18:32:59.914Z"
   },
   {
    "duration": 11,
    "start_time": "2021-10-01T18:32:59.927Z"
   },
   {
    "duration": 7,
    "start_time": "2021-10-01T18:32:59.940Z"
   },
   {
    "duration": 19,
    "start_time": "2021-10-01T18:33:00.000Z"
   },
   {
    "duration": 12,
    "start_time": "2021-10-01T18:33:00.021Z"
   },
   {
    "duration": 37,
    "start_time": "2021-10-01T18:33:00.035Z"
   },
   {
    "duration": 24,
    "start_time": "2021-10-01T18:33:00.100Z"
   },
   {
    "duration": 18,
    "start_time": "2021-10-01T18:33:00.125Z"
   },
   {
    "duration": 5,
    "start_time": "2021-10-01T18:33:00.144Z"
   },
   {
    "duration": 8,
    "start_time": "2021-10-01T18:33:00.151Z"
   },
   {
    "duration": 50,
    "start_time": "2021-10-01T18:33:00.160Z"
   },
   {
    "duration": 623,
    "start_time": "2021-10-01T18:33:00.213Z"
   },
   {
    "duration": 15,
    "start_time": "2021-10-01T18:33:00.838Z"
   },
   {
    "duration": 19,
    "start_time": "2021-10-01T18:33:00.854Z"
   },
   {
    "duration": 51,
    "start_time": "2021-10-01T18:33:00.874Z"
   },
   {
    "duration": 12,
    "start_time": "2021-10-01T18:33:00.927Z"
   },
   {
    "duration": 21,
    "start_time": "2021-10-01T18:33:00.940Z"
   },
   {
    "duration": 55,
    "start_time": "2021-10-01T18:33:00.963Z"
   },
   {
    "duration": 13,
    "start_time": "2021-10-01T18:33:01.020Z"
   },
   {
    "duration": 9,
    "start_time": "2021-10-01T18:33:01.035Z"
   },
   {
    "duration": 16,
    "start_time": "2021-10-01T18:33:01.046Z"
   },
   {
    "duration": 24,
    "start_time": "2021-10-01T18:33:01.064Z"
   },
   {
    "duration": 29,
    "start_time": "2021-10-01T18:33:01.090Z"
   },
   {
    "duration": 17,
    "start_time": "2021-10-01T18:33:01.121Z"
   },
   {
    "duration": 32,
    "start_time": "2021-10-01T18:33:01.139Z"
   },
   {
    "duration": 21,
    "start_time": "2021-10-01T18:33:01.172Z"
   },
   {
    "duration": 2,
    "start_time": "2021-10-01T18:33:01.195Z"
   },
   {
    "duration": 196,
    "start_time": "2021-10-01T18:33:01.199Z"
   },
   {
    "duration": -113,
    "start_time": "2021-10-01T18:33:01.510Z"
   },
   {
    "duration": -114,
    "start_time": "2021-10-01T18:33:01.512Z"
   },
   {
    "duration": -113,
    "start_time": "2021-10-01T18:33:01.513Z"
   },
   {
    "duration": -114,
    "start_time": "2021-10-01T18:33:01.515Z"
   },
   {
    "duration": -123,
    "start_time": "2021-10-01T18:33:01.525Z"
   },
   {
    "duration": -124,
    "start_time": "2021-10-01T18:33:01.527Z"
   },
   {
    "duration": 15,
    "start_time": "2021-10-01T18:33:31.413Z"
   },
   {
    "duration": 2,
    "start_time": "2021-10-01T18:36:09.473Z"
   },
   {
    "duration": 5,
    "start_time": "2021-10-01T18:36:09.699Z"
   },
   {
    "duration": 5,
    "start_time": "2021-10-01T18:36:09.884Z"
   },
   {
    "duration": 8,
    "start_time": "2021-10-01T18:36:10.071Z"
   },
   {
    "duration": 6,
    "start_time": "2021-10-01T18:36:10.243Z"
   },
   {
    "duration": 7,
    "start_time": "2021-10-01T18:36:10.424Z"
   },
   {
    "duration": 8,
    "start_time": "2021-10-01T18:36:10.984Z"
   },
   {
    "duration": 26,
    "start_time": "2021-10-01T18:36:32.251Z"
   },
   {
    "duration": 8,
    "start_time": "2021-10-01T18:37:10.489Z"
   },
   {
    "duration": 3,
    "start_time": "2021-10-01T18:37:12.544Z"
   },
   {
    "duration": 377,
    "start_time": "2021-10-01T18:37:12.548Z"
   },
   {
    "duration": 13,
    "start_time": "2021-10-01T18:37:12.927Z"
   },
   {
    "duration": 20,
    "start_time": "2021-10-01T18:37:12.942Z"
   },
   {
    "duration": 28,
    "start_time": "2021-10-01T18:37:12.964Z"
   },
   {
    "duration": 8,
    "start_time": "2021-10-01T18:37:12.994Z"
   },
   {
    "duration": 13,
    "start_time": "2021-10-01T18:37:13.004Z"
   },
   {
    "duration": 18,
    "start_time": "2021-10-01T18:37:13.019Z"
   },
   {
    "duration": 25,
    "start_time": "2021-10-01T18:37:13.038Z"
   },
   {
    "duration": 37,
    "start_time": "2021-10-01T18:37:13.064Z"
   },
   {
    "duration": 16,
    "start_time": "2021-10-01T18:37:13.103Z"
   },
   {
    "duration": 14,
    "start_time": "2021-10-01T18:37:13.120Z"
   },
   {
    "duration": 25,
    "start_time": "2021-10-01T18:37:13.135Z"
   },
   {
    "duration": 4,
    "start_time": "2021-10-01T18:37:13.161Z"
   },
   {
    "duration": 33,
    "start_time": "2021-10-01T18:37:13.167Z"
   },
   {
    "duration": 9,
    "start_time": "2021-10-01T18:37:13.202Z"
   },
   {
    "duration": 8,
    "start_time": "2021-10-01T18:37:13.212Z"
   },
   {
    "duration": 18,
    "start_time": "2021-10-01T18:37:13.222Z"
   },
   {
    "duration": 5,
    "start_time": "2021-10-01T18:37:13.243Z"
   },
   {
    "duration": 63,
    "start_time": "2021-10-01T18:37:13.250Z"
   },
   {
    "duration": 22,
    "start_time": "2021-10-01T18:37:13.315Z"
   },
   {
    "duration": 19,
    "start_time": "2021-10-01T18:37:13.338Z"
   },
   {
    "duration": 5,
    "start_time": "2021-10-01T18:37:13.358Z"
   },
   {
    "duration": 36,
    "start_time": "2021-10-01T18:37:13.365Z"
   },
   {
    "duration": 23,
    "start_time": "2021-10-01T18:37:13.402Z"
   },
   {
    "duration": 607,
    "start_time": "2021-10-01T18:37:13.426Z"
   },
   {
    "duration": 16,
    "start_time": "2021-10-01T18:37:14.034Z"
   },
   {
    "duration": 15,
    "start_time": "2021-10-01T18:37:14.051Z"
   },
   {
    "duration": 51,
    "start_time": "2021-10-01T18:37:14.067Z"
   },
   {
    "duration": 12,
    "start_time": "2021-10-01T18:37:14.119Z"
   },
   {
    "duration": 16,
    "start_time": "2021-10-01T18:37:14.133Z"
   },
   {
    "duration": 22,
    "start_time": "2021-10-01T18:37:14.151Z"
   },
   {
    "duration": 13,
    "start_time": "2021-10-01T18:37:14.199Z"
   },
   {
    "duration": 3,
    "start_time": "2021-10-01T18:37:14.214Z"
   },
   {
    "duration": 11,
    "start_time": "2021-10-01T18:37:14.218Z"
   },
   {
    "duration": 11,
    "start_time": "2021-10-01T18:37:14.230Z"
   },
   {
    "duration": 9,
    "start_time": "2021-10-01T18:37:14.243Z"
   },
   {
    "duration": 49,
    "start_time": "2021-10-01T18:37:14.254Z"
   },
   {
    "duration": 8,
    "start_time": "2021-10-01T18:37:14.305Z"
   },
   {
    "duration": 14,
    "start_time": "2021-10-01T18:37:14.315Z"
   },
   {
    "duration": 2,
    "start_time": "2021-10-01T18:37:14.331Z"
   },
   {
    "duration": 5,
    "start_time": "2021-10-01T18:37:14.334Z"
   },
   {
    "duration": 10,
    "start_time": "2021-10-01T18:37:14.340Z"
   },
   {
    "duration": 4,
    "start_time": "2021-10-01T18:37:14.352Z"
   },
   {
    "duration": 46,
    "start_time": "2021-10-01T18:37:14.358Z"
   },
   {
    "duration": 10,
    "start_time": "2021-10-01T18:37:14.406Z"
   },
   {
    "duration": 7,
    "start_time": "2021-10-01T18:37:14.418Z"
   },
   {
    "duration": 11,
    "start_time": "2021-10-01T18:37:14.426Z"
   },
   {
    "duration": 16,
    "start_time": "2021-10-01T18:37:14.439Z"
   },
   {
    "duration": 4,
    "start_time": "2021-10-01T18:37:38.151Z"
   },
   {
    "duration": 201,
    "start_time": "2021-10-01T18:53:42.008Z"
   },
   {
    "duration": 7,
    "start_time": "2021-10-01T18:53:47.680Z"
   },
   {
    "duration": 8,
    "start_time": "2021-10-01T18:54:41.124Z"
   },
   {
    "duration": 11,
    "start_time": "2021-10-01T18:54:44.186Z"
   },
   {
    "duration": 14,
    "start_time": "2021-10-01T18:55:24.658Z"
   },
   {
    "duration": 14,
    "start_time": "2021-10-01T18:55:39.333Z"
   },
   {
    "duration": 15,
    "start_time": "2021-10-01T19:06:36.049Z"
   },
   {
    "duration": 25,
    "start_time": "2021-10-01T19:06:56.632Z"
   },
   {
    "duration": 25,
    "start_time": "2021-10-01T19:07:07.474Z"
   },
   {
    "duration": 18,
    "start_time": "2021-10-01T19:07:13.829Z"
   },
   {
    "duration": 6,
    "start_time": "2021-10-01T19:07:46.680Z"
   },
   {
    "duration": 14,
    "start_time": "2021-10-01T19:07:54.837Z"
   },
   {
    "duration": 13,
    "start_time": "2021-10-01T19:08:21.199Z"
   },
   {
    "duration": 6,
    "start_time": "2021-10-01T19:09:41.621Z"
   },
   {
    "duration": 21,
    "start_time": "2021-10-01T19:09:44.639Z"
   },
   {
    "duration": 5604,
    "start_time": "2021-10-01T19:24:18.984Z"
   },
   {
    "duration": 18,
    "start_time": "2021-10-01T19:24:39.215Z"
   },
   {
    "duration": 4703,
    "start_time": "2021-10-01T19:24:57.456Z"
   },
   {
    "duration": 3,
    "start_time": "2021-10-01T19:25:08.657Z"
   },
   {
    "duration": 392,
    "start_time": "2021-10-01T19:25:08.662Z"
   },
   {
    "duration": 14,
    "start_time": "2021-10-01T19:25:09.056Z"
   },
   {
    "duration": 21,
    "start_time": "2021-10-01T19:25:09.073Z"
   },
   {
    "duration": 31,
    "start_time": "2021-10-01T19:25:09.096Z"
   },
   {
    "duration": 5,
    "start_time": "2021-10-01T19:25:09.129Z"
   },
   {
    "duration": 15,
    "start_time": "2021-10-01T19:25:09.136Z"
   },
   {
    "duration": 15,
    "start_time": "2021-10-01T19:25:09.153Z"
   },
   {
    "duration": 23,
    "start_time": "2021-10-01T19:25:09.199Z"
   },
   {
    "duration": 4,
    "start_time": "2021-10-01T19:25:09.224Z"
   },
   {
    "duration": 12,
    "start_time": "2021-10-01T19:25:09.229Z"
   },
   {
    "duration": 14,
    "start_time": "2021-10-01T19:25:09.243Z"
   },
   {
    "duration": 48,
    "start_time": "2021-10-01T19:25:09.259Z"
   },
   {
    "duration": 4,
    "start_time": "2021-10-01T19:25:09.309Z"
   },
   {
    "duration": 11,
    "start_time": "2021-10-01T19:25:09.314Z"
   },
   {
    "duration": 11,
    "start_time": "2021-10-01T19:25:09.326Z"
   },
   {
    "duration": 9,
    "start_time": "2021-10-01T19:25:09.339Z"
   },
   {
    "duration": 21,
    "start_time": "2021-10-01T19:25:09.350Z"
   },
   {
    "duration": 5,
    "start_time": "2021-10-01T19:25:09.400Z"
   },
   {
    "duration": 30,
    "start_time": "2021-10-01T19:25:09.406Z"
   },
   {
    "duration": 22,
    "start_time": "2021-10-01T19:25:09.437Z"
   },
   {
    "duration": 49,
    "start_time": "2021-10-01T19:25:09.461Z"
   },
   {
    "duration": 5,
    "start_time": "2021-10-01T19:25:09.514Z"
   },
   {
    "duration": 10,
    "start_time": "2021-10-01T19:25:09.521Z"
   },
   {
    "duration": 22,
    "start_time": "2021-10-01T19:25:09.532Z"
   },
   {
    "duration": 604,
    "start_time": "2021-10-01T19:25:09.556Z"
   },
   {
    "duration": 15,
    "start_time": "2021-10-01T19:25:10.161Z"
   },
   {
    "duration": 26,
    "start_time": "2021-10-01T19:25:10.177Z"
   },
   {
    "duration": 25,
    "start_time": "2021-10-01T19:25:10.204Z"
   },
   {
    "duration": 12,
    "start_time": "2021-10-01T19:25:10.230Z"
   },
   {
    "duration": 16,
    "start_time": "2021-10-01T19:25:10.244Z"
   },
   {
    "duration": 53,
    "start_time": "2021-10-01T19:25:10.261Z"
   },
   {
    "duration": 12,
    "start_time": "2021-10-01T19:25:10.315Z"
   },
   {
    "duration": 2,
    "start_time": "2021-10-01T19:25:10.329Z"
   },
   {
    "duration": 6,
    "start_time": "2021-10-01T19:25:10.333Z"
   },
   {
    "duration": 11,
    "start_time": "2021-10-01T19:25:10.341Z"
   },
   {
    "duration": 8,
    "start_time": "2021-10-01T19:25:10.354Z"
   },
   {
    "duration": 48,
    "start_time": "2021-10-01T19:25:10.363Z"
   },
   {
    "duration": 9,
    "start_time": "2021-10-01T19:25:10.412Z"
   },
   {
    "duration": 4246,
    "start_time": "2021-10-01T19:25:10.423Z"
   },
   {
    "duration": -138,
    "start_time": "2021-10-01T19:25:14.809Z"
   },
   {
    "duration": -139,
    "start_time": "2021-10-01T19:25:14.811Z"
   },
   {
    "duration": -140,
    "start_time": "2021-10-01T19:25:14.813Z"
   },
   {
    "duration": -140,
    "start_time": "2021-10-01T19:25:14.814Z"
   },
   {
    "duration": -142,
    "start_time": "2021-10-01T19:25:14.817Z"
   },
   {
    "duration": -143,
    "start_time": "2021-10-01T19:25:14.819Z"
   },
   {
    "duration": 5,
    "start_time": "2021-10-01T19:25:40.390Z"
   },
   {
    "duration": 4380,
    "start_time": "2021-10-01T19:25:47.523Z"
   },
   {
    "duration": 9,
    "start_time": "2021-10-01T19:26:04.782Z"
   },
   {
    "duration": 3,
    "start_time": "2021-10-01T19:26:45.789Z"
   },
   {
    "duration": 393,
    "start_time": "2021-10-01T19:26:45.794Z"
   },
   {
    "duration": 12,
    "start_time": "2021-10-01T19:26:46.189Z"
   },
   {
    "duration": 19,
    "start_time": "2021-10-01T19:26:46.203Z"
   },
   {
    "duration": 28,
    "start_time": "2021-10-01T19:26:46.223Z"
   },
   {
    "duration": 4,
    "start_time": "2021-10-01T19:26:46.252Z"
   },
   {
    "duration": 42,
    "start_time": "2021-10-01T19:26:46.257Z"
   },
   {
    "duration": 16,
    "start_time": "2021-10-01T19:26:46.301Z"
   },
   {
    "duration": 24,
    "start_time": "2021-10-01T19:26:46.319Z"
   },
   {
    "duration": 3,
    "start_time": "2021-10-01T19:26:46.345Z"
   },
   {
    "duration": 11,
    "start_time": "2021-10-01T19:26:46.350Z"
   },
   {
    "duration": 45,
    "start_time": "2021-10-01T19:26:46.363Z"
   },
   {
    "duration": 24,
    "start_time": "2021-10-01T19:26:46.409Z"
   },
   {
    "duration": 3,
    "start_time": "2021-10-01T19:26:46.435Z"
   },
   {
    "duration": 23,
    "start_time": "2021-10-01T19:26:46.440Z"
   },
   {
    "duration": 18,
    "start_time": "2021-10-01T19:26:46.464Z"
   },
   {
    "duration": 18,
    "start_time": "2021-10-01T19:26:46.483Z"
   },
   {
    "duration": 29,
    "start_time": "2021-10-01T19:26:46.502Z"
   },
   {
    "duration": 6,
    "start_time": "2021-10-01T19:26:46.533Z"
   },
   {
    "duration": 41,
    "start_time": "2021-10-01T19:26:46.540Z"
   },
   {
    "duration": 21,
    "start_time": "2021-10-01T19:26:46.583Z"
   },
   {
    "duration": 17,
    "start_time": "2021-10-01T19:26:46.605Z"
   },
   {
    "duration": 6,
    "start_time": "2021-10-01T19:26:46.626Z"
   },
   {
    "duration": 11,
    "start_time": "2021-10-01T19:26:46.634Z"
   },
   {
    "duration": 26,
    "start_time": "2021-10-01T19:26:46.647Z"
   },
   {
    "duration": 701,
    "start_time": "2021-10-01T19:26:46.674Z"
   },
   {
    "duration": 25,
    "start_time": "2021-10-01T19:26:47.376Z"
   },
   {
    "duration": 14,
    "start_time": "2021-10-01T19:26:47.403Z"
   },
   {
    "duration": 25,
    "start_time": "2021-10-01T19:26:47.419Z"
   },
   {
    "duration": 12,
    "start_time": "2021-10-01T19:26:47.446Z"
   },
   {
    "duration": 44,
    "start_time": "2021-10-01T19:26:47.460Z"
   },
   {
    "duration": 23,
    "start_time": "2021-10-01T19:26:47.505Z"
   },
   {
    "duration": 13,
    "start_time": "2021-10-01T19:26:47.529Z"
   },
   {
    "duration": 3,
    "start_time": "2021-10-01T19:26:47.543Z"
   },
   {
    "duration": 7,
    "start_time": "2021-10-01T19:26:47.547Z"
   },
   {
    "duration": 9,
    "start_time": "2021-10-01T19:26:47.556Z"
   },
   {
    "duration": 39,
    "start_time": "2021-10-01T19:26:47.567Z"
   },
   {
    "duration": 14,
    "start_time": "2021-10-01T19:26:47.608Z"
   },
   {
    "duration": 6,
    "start_time": "2021-10-01T19:26:47.624Z"
   },
   {
    "duration": 5,
    "start_time": "2021-10-01T19:26:47.631Z"
   },
   {
    "duration": 10,
    "start_time": "2021-10-01T19:26:47.637Z"
   },
   {
    "duration": 2,
    "start_time": "2021-10-01T19:26:47.648Z"
   },
   {
    "duration": 48,
    "start_time": "2021-10-01T19:26:47.652Z"
   },
   {
    "duration": 8,
    "start_time": "2021-10-01T19:26:47.702Z"
   },
   {
    "duration": 14,
    "start_time": "2021-10-01T19:26:47.711Z"
   },
   {
    "duration": 6,
    "start_time": "2021-10-01T19:26:47.727Z"
   },
   {
    "duration": 14,
    "start_time": "2021-10-01T19:26:47.735Z"
   },
   {
    "duration": 16,
    "start_time": "2021-10-01T19:26:55.256Z"
   },
   {
    "duration": 3,
    "start_time": "2021-10-01T19:29:23.956Z"
   },
   {
    "duration": 408,
    "start_time": "2021-10-01T19:29:23.961Z"
   },
   {
    "duration": 12,
    "start_time": "2021-10-01T19:29:24.371Z"
   },
   {
    "duration": 23,
    "start_time": "2021-10-01T19:29:24.384Z"
   },
   {
    "duration": 28,
    "start_time": "2021-10-01T19:29:24.408Z"
   },
   {
    "duration": 4,
    "start_time": "2021-10-01T19:29:24.437Z"
   },
   {
    "duration": 12,
    "start_time": "2021-10-01T19:29:24.443Z"
   },
   {
    "duration": 46,
    "start_time": "2021-10-01T19:29:24.457Z"
   },
   {
    "duration": 25,
    "start_time": "2021-10-01T19:29:24.506Z"
   },
   {
    "duration": 4,
    "start_time": "2021-10-01T19:29:24.533Z"
   },
   {
    "duration": 9,
    "start_time": "2021-10-01T19:29:24.539Z"
   },
   {
    "duration": 16,
    "start_time": "2021-10-01T19:29:24.550Z"
   },
   {
    "duration": 47,
    "start_time": "2021-10-01T19:29:24.567Z"
   },
   {
    "duration": 4,
    "start_time": "2021-10-01T19:29:24.615Z"
   },
   {
    "duration": 8,
    "start_time": "2021-10-01T19:29:24.621Z"
   },
   {
    "duration": 11,
    "start_time": "2021-10-01T19:29:24.630Z"
   },
   {
    "duration": 6,
    "start_time": "2021-10-01T19:29:24.643Z"
   },
   {
    "duration": 54,
    "start_time": "2021-10-01T19:29:24.651Z"
   },
   {
    "duration": 4,
    "start_time": "2021-10-01T19:29:24.706Z"
   },
   {
    "duration": 34,
    "start_time": "2021-10-01T19:29:24.712Z"
   },
   {
    "duration": 23,
    "start_time": "2021-10-01T19:29:24.748Z"
   },
   {
    "duration": 43,
    "start_time": "2021-10-01T19:29:24.773Z"
   },
   {
    "duration": 6,
    "start_time": "2021-10-01T19:29:24.818Z"
   },
   {
    "duration": 9,
    "start_time": "2021-10-01T19:29:24.825Z"
   },
   {
    "duration": 21,
    "start_time": "2021-10-01T19:29:24.836Z"
   },
   {
    "duration": 624,
    "start_time": "2021-10-01T19:29:24.859Z"
   },
   {
    "duration": 22,
    "start_time": "2021-10-01T19:29:25.487Z"
   },
   {
    "duration": 7,
    "start_time": "2021-10-01T19:29:25.511Z"
   },
   {
    "duration": 7,
    "start_time": "2021-10-01T19:29:25.519Z"
   },
   {
    "duration": 16,
    "start_time": "2021-10-01T19:29:25.528Z"
   },
   {
    "duration": 55,
    "start_time": "2021-10-01T19:29:25.545Z"
   },
   {
    "duration": 13,
    "start_time": "2021-10-01T19:29:25.602Z"
   },
   {
    "duration": 18,
    "start_time": "2021-10-01T19:29:25.616Z"
   },
   {
    "duration": 22,
    "start_time": "2021-10-01T19:29:25.635Z"
   },
   {
    "duration": 46,
    "start_time": "2021-10-01T19:29:25.659Z"
   },
   {
    "duration": 3,
    "start_time": "2021-10-01T19:29:25.706Z"
   },
   {
    "duration": 7,
    "start_time": "2021-10-01T19:29:25.711Z"
   },
   {
    "duration": 9,
    "start_time": "2021-10-01T19:29:25.719Z"
   },
   {
    "duration": 7,
    "start_time": "2021-10-01T19:29:25.730Z"
   },
   {
    "duration": 4,
    "start_time": "2021-10-01T19:29:25.739Z"
   },
   {
    "duration": 13,
    "start_time": "2021-10-01T19:29:25.745Z"
   },
   {
    "duration": 3,
    "start_time": "2021-10-01T19:29:25.759Z"
   },
   {
    "duration": 2,
    "start_time": "2021-10-01T19:29:25.800Z"
   },
   {
    "duration": 11,
    "start_time": "2021-10-01T19:29:25.804Z"
   },
   {
    "duration": 13,
    "start_time": "2021-10-01T19:29:25.817Z"
   },
   {
    "duration": 7,
    "start_time": "2021-10-01T19:29:25.832Z"
   },
   {
    "duration": 15,
    "start_time": "2021-10-01T19:29:25.840Z"
   },
   {
    "duration": 11,
    "start_time": "2021-10-01T20:12:24.522Z"
   },
   {
    "duration": 15,
    "start_time": "2021-10-01T20:12:50.825Z"
   },
   {
    "duration": 10,
    "start_time": "2021-10-01T20:13:20.799Z"
   },
   {
    "duration": 8,
    "start_time": "2021-10-01T20:13:41.852Z"
   },
   {
    "duration": 4,
    "start_time": "2021-10-01T20:13:46.462Z"
   },
   {
    "duration": 185,
    "start_time": "2021-10-01T20:13:59.443Z"
   },
   {
    "duration": 2,
    "start_time": "2021-10-01T20:14:10.751Z"
   },
   {
    "duration": 402,
    "start_time": "2021-10-01T20:14:10.755Z"
   },
   {
    "duration": 12,
    "start_time": "2021-10-01T20:14:11.158Z"
   },
   {
    "duration": 20,
    "start_time": "2021-10-01T20:14:11.172Z"
   },
   {
    "duration": 30,
    "start_time": "2021-10-01T20:14:11.194Z"
   },
   {
    "duration": 5,
    "start_time": "2021-10-01T20:14:11.225Z"
   },
   {
    "duration": 13,
    "start_time": "2021-10-01T20:14:11.232Z"
   },
   {
    "duration": 14,
    "start_time": "2021-10-01T20:14:11.247Z"
   },
   {
    "duration": 47,
    "start_time": "2021-10-01T20:14:11.263Z"
   },
   {
    "duration": 4,
    "start_time": "2021-10-01T20:14:11.312Z"
   },
   {
    "duration": 12,
    "start_time": "2021-10-01T20:14:11.317Z"
   },
   {
    "duration": 13,
    "start_time": "2021-10-01T20:14:11.330Z"
   },
   {
    "duration": 15,
    "start_time": "2021-10-01T20:14:11.345Z"
   },
   {
    "duration": 39,
    "start_time": "2021-10-01T20:14:11.361Z"
   },
   {
    "duration": 6,
    "start_time": "2021-10-01T20:14:11.402Z"
   },
   {
    "duration": 11,
    "start_time": "2021-10-01T20:14:11.410Z"
   },
   {
    "duration": 7,
    "start_time": "2021-10-01T20:14:11.423Z"
   },
   {
    "duration": 18,
    "start_time": "2021-10-01T20:14:11.431Z"
   },
   {
    "duration": 4,
    "start_time": "2021-10-01T20:14:11.450Z"
   },
   {
    "duration": 66,
    "start_time": "2021-10-01T20:14:11.455Z"
   },
   {
    "duration": 22,
    "start_time": "2021-10-01T20:14:11.523Z"
   },
   {
    "duration": 18,
    "start_time": "2021-10-01T20:14:11.546Z"
   },
   {
    "duration": 5,
    "start_time": "2021-10-01T20:14:11.567Z"
   },
   {
    "duration": 29,
    "start_time": "2021-10-01T20:14:11.573Z"
   },
   {
    "duration": 21,
    "start_time": "2021-10-01T20:14:11.604Z"
   },
   {
    "duration": 600,
    "start_time": "2021-10-01T20:14:11.627Z"
   },
   {
    "duration": 16,
    "start_time": "2021-10-01T20:14:12.228Z"
   },
   {
    "duration": 15,
    "start_time": "2021-10-01T20:14:12.245Z"
   },
   {
    "duration": 44,
    "start_time": "2021-10-01T20:14:12.261Z"
   },
   {
    "duration": 12,
    "start_time": "2021-10-01T20:14:12.307Z"
   },
   {
    "duration": 17,
    "start_time": "2021-10-01T20:14:12.320Z"
   },
   {
    "duration": 22,
    "start_time": "2021-10-01T20:14:12.338Z"
   },
   {
    "duration": 40,
    "start_time": "2021-10-01T20:14:12.361Z"
   },
   {
    "duration": 3,
    "start_time": "2021-10-01T20:14:12.402Z"
   },
   {
    "duration": 7,
    "start_time": "2021-10-01T20:14:12.407Z"
   },
   {
    "duration": 13,
    "start_time": "2021-10-01T20:14:12.416Z"
   },
   {
    "duration": 7,
    "start_time": "2021-10-01T20:14:12.430Z"
   },
   {
    "duration": 9,
    "start_time": "2021-10-01T20:14:12.438Z"
   },
   {
    "duration": 16,
    "start_time": "2021-10-01T20:14:12.448Z"
   },
   {
    "duration": 7,
    "start_time": "2021-10-01T20:14:12.465Z"
   },
   {
    "duration": 2,
    "start_time": "2021-10-01T20:14:12.499Z"
   },
   {
    "duration": 14,
    "start_time": "2021-10-01T20:14:12.503Z"
   },
   {
    "duration": 13,
    "start_time": "2021-10-01T20:14:12.519Z"
   },
   {
    "duration": 8,
    "start_time": "2021-10-01T20:14:12.533Z"
   },
   {
    "duration": 14,
    "start_time": "2021-10-01T20:14:12.542Z"
   },
   {
    "duration": 52,
    "start_time": "2021-10-01T20:14:12.558Z"
   },
   {
    "duration": 8,
    "start_time": "2021-10-01T20:14:12.612Z"
   },
   {
    "duration": 9,
    "start_time": "2021-10-01T20:15:00.766Z"
   },
   {
    "duration": 5,
    "start_time": "2021-10-01T20:17:04.187Z"
   },
   {
    "duration": 5,
    "start_time": "2021-10-01T20:17:05.259Z"
   },
   {
    "duration": 3,
    "start_time": "2021-10-01T20:17:15.876Z"
   },
   {
    "duration": 397,
    "start_time": "2021-10-01T20:17:15.881Z"
   },
   {
    "duration": 12,
    "start_time": "2021-10-01T20:17:16.280Z"
   },
   {
    "duration": 20,
    "start_time": "2021-10-01T20:17:16.294Z"
   },
   {
    "duration": 28,
    "start_time": "2021-10-01T20:17:16.315Z"
   },
   {
    "duration": 4,
    "start_time": "2021-10-01T20:17:16.344Z"
   },
   {
    "duration": 14,
    "start_time": "2021-10-01T20:17:16.349Z"
   },
   {
    "duration": 43,
    "start_time": "2021-10-01T20:17:16.365Z"
   },
   {
    "duration": 23,
    "start_time": "2021-10-01T20:17:16.410Z"
   },
   {
    "duration": 4,
    "start_time": "2021-10-01T20:17:16.435Z"
   },
   {
    "duration": 11,
    "start_time": "2021-10-01T20:17:16.440Z"
   },
   {
    "duration": 13,
    "start_time": "2021-10-01T20:17:16.453Z"
   },
   {
    "duration": 16,
    "start_time": "2021-10-01T20:17:16.500Z"
   },
   {
    "duration": 4,
    "start_time": "2021-10-01T20:17:16.517Z"
   },
   {
    "duration": 8,
    "start_time": "2021-10-01T20:17:16.523Z"
   },
   {
    "duration": 10,
    "start_time": "2021-10-01T20:17:16.533Z"
   },
   {
    "duration": 7,
    "start_time": "2021-10-01T20:17:16.544Z"
   },
   {
    "duration": 58,
    "start_time": "2021-10-01T20:17:16.552Z"
   },
   {
    "duration": 4,
    "start_time": "2021-10-01T20:17:16.612Z"
   },
   {
    "duration": 32,
    "start_time": "2021-10-01T20:17:16.617Z"
   },
   {
    "duration": 23,
    "start_time": "2021-10-01T20:17:16.651Z"
   },
   {
    "duration": 39,
    "start_time": "2021-10-01T20:17:16.676Z"
   },
   {
    "duration": 5,
    "start_time": "2021-10-01T20:17:16.719Z"
   },
   {
    "duration": 8,
    "start_time": "2021-10-01T20:17:16.726Z"
   },
   {
    "duration": 22,
    "start_time": "2021-10-01T20:17:16.736Z"
   },
   {
    "duration": 624,
    "start_time": "2021-10-01T20:17:16.759Z"
   },
   {
    "duration": 24,
    "start_time": "2021-10-01T20:17:17.385Z"
   },
   {
    "duration": 15,
    "start_time": "2021-10-01T20:17:17.411Z"
   },
   {
    "duration": 28,
    "start_time": "2021-10-01T20:17:17.427Z"
   },
   {
    "duration": 13,
    "start_time": "2021-10-01T20:17:17.456Z"
   },
   {
    "duration": 44,
    "start_time": "2021-10-01T20:17:17.471Z"
   },
   {
    "duration": 26,
    "start_time": "2021-10-01T20:17:17.516Z"
   },
   {
    "duration": 13,
    "start_time": "2021-10-01T20:17:17.543Z"
   },
   {
    "duration": 6,
    "start_time": "2021-10-01T20:17:17.558Z"
   },
   {
    "duration": 20,
    "start_time": "2021-10-01T20:17:17.565Z"
   },
   {
    "duration": 20,
    "start_time": "2021-10-01T20:17:17.586Z"
   },
   {
    "duration": 28,
    "start_time": "2021-10-01T20:17:17.608Z"
   },
   {
    "duration": 11,
    "start_time": "2021-10-01T20:17:17.637Z"
   },
   {
    "duration": 32,
    "start_time": "2021-10-01T20:17:17.649Z"
   },
   {
    "duration": 9,
    "start_time": "2021-10-01T20:17:17.683Z"
   },
   {
    "duration": 22,
    "start_time": "2021-10-01T20:17:17.693Z"
   },
   {
    "duration": 9,
    "start_time": "2021-10-01T20:17:17.716Z"
   },
   {
    "duration": 16,
    "start_time": "2021-10-01T20:17:17.727Z"
   },
   {
    "duration": 9,
    "start_time": "2021-10-01T20:17:17.744Z"
   },
   {
    "duration": 14,
    "start_time": "2021-10-01T20:17:17.755Z"
   },
   {
    "duration": 12,
    "start_time": "2021-10-01T20:17:17.771Z"
   },
   {
    "duration": 16,
    "start_time": "2021-10-01T20:17:17.784Z"
   },
   {
    "duration": 4,
    "start_time": "2021-10-01T20:18:41.249Z"
   },
   {
    "duration": 361,
    "start_time": "2021-10-01T20:18:41.255Z"
   },
   {
    "duration": 12,
    "start_time": "2021-10-01T20:18:41.618Z"
   },
   {
    "duration": 21,
    "start_time": "2021-10-01T20:18:41.631Z"
   },
   {
    "duration": 28,
    "start_time": "2021-10-01T20:18:41.653Z"
   },
   {
    "duration": 4,
    "start_time": "2021-10-01T20:18:41.683Z"
   },
   {
    "duration": 9,
    "start_time": "2021-10-01T20:18:41.700Z"
   },
   {
    "duration": 17,
    "start_time": "2021-10-01T20:18:41.711Z"
   },
   {
    "duration": 26,
    "start_time": "2021-10-01T20:18:41.730Z"
   },
   {
    "duration": 5,
    "start_time": "2021-10-01T20:18:41.757Z"
   },
   {
    "duration": 45,
    "start_time": "2021-10-01T20:18:41.763Z"
   },
   {
    "duration": 14,
    "start_time": "2021-10-01T20:18:41.810Z"
   },
   {
    "duration": 15,
    "start_time": "2021-10-01T20:18:41.826Z"
   },
   {
    "duration": 4,
    "start_time": "2021-10-01T20:18:41.843Z"
   },
   {
    "duration": 9,
    "start_time": "2021-10-01T20:18:41.848Z"
   },
   {
    "duration": 50,
    "start_time": "2021-10-01T20:18:41.858Z"
   },
   {
    "duration": 6,
    "start_time": "2021-10-01T20:18:41.910Z"
   },
   {
    "duration": 19,
    "start_time": "2021-10-01T20:18:41.918Z"
   },
   {
    "duration": 4,
    "start_time": "2021-10-01T20:18:41.939Z"
   },
   {
    "duration": 68,
    "start_time": "2021-10-01T20:18:41.944Z"
   },
   {
    "duration": 22,
    "start_time": "2021-10-01T20:18:42.013Z"
   },
   {
    "duration": 18,
    "start_time": "2021-10-01T20:18:42.036Z"
   },
   {
    "duration": 5,
    "start_time": "2021-10-01T20:18:42.057Z"
   },
   {
    "duration": 10,
    "start_time": "2021-10-01T20:18:42.064Z"
   },
   {
    "duration": 44,
    "start_time": "2021-10-01T20:18:42.075Z"
   },
   {
    "duration": 1418,
    "start_time": "2021-10-01T20:18:42.120Z"
   },
   {
    "duration": -145,
    "start_time": "2021-10-01T20:18:43.685Z"
   },
   {
    "duration": -145,
    "start_time": "2021-10-01T20:18:43.687Z"
   },
   {
    "duration": -146,
    "start_time": "2021-10-01T20:18:43.689Z"
   },
   {
    "duration": -146,
    "start_time": "2021-10-01T20:18:43.691Z"
   },
   {
    "duration": -147,
    "start_time": "2021-10-01T20:18:43.693Z"
   },
   {
    "duration": -147,
    "start_time": "2021-10-01T20:18:43.694Z"
   },
   {
    "duration": -148,
    "start_time": "2021-10-01T20:18:43.697Z"
   },
   {
    "duration": -148,
    "start_time": "2021-10-01T20:18:43.698Z"
   },
   {
    "duration": -149,
    "start_time": "2021-10-01T20:18:43.700Z"
   },
   {
    "duration": -154,
    "start_time": "2021-10-01T20:18:43.707Z"
   },
   {
    "duration": -156,
    "start_time": "2021-10-01T20:18:43.710Z"
   },
   {
    "duration": -156,
    "start_time": "2021-10-01T20:18:43.711Z"
   },
   {
    "duration": -156,
    "start_time": "2021-10-01T20:18:43.713Z"
   },
   {
    "duration": -157,
    "start_time": "2021-10-01T20:18:43.715Z"
   },
   {
    "duration": -157,
    "start_time": "2021-10-01T20:18:43.717Z"
   },
   {
    "duration": -158,
    "start_time": "2021-10-01T20:18:43.719Z"
   },
   {
    "duration": -159,
    "start_time": "2021-10-01T20:18:43.721Z"
   },
   {
    "duration": -163,
    "start_time": "2021-10-01T20:18:43.727Z"
   },
   {
    "duration": -165,
    "start_time": "2021-10-01T20:18:43.730Z"
   },
   {
    "duration": 4903,
    "start_time": "2021-10-01T20:19:33.857Z"
   },
   {
    "duration": 89,
    "start_time": "2021-10-01T20:19:56.353Z"
   },
   {
    "duration": 604,
    "start_time": "2021-10-01T20:20:06.724Z"
   },
   {
    "duration": 489,
    "start_time": "2021-10-01T20:29:15.187Z"
   },
   {
    "duration": 3,
    "start_time": "2021-10-01T20:29:17.742Z"
   },
   {
    "duration": 3,
    "start_time": "2021-10-01T20:29:19.819Z"
   },
   {
    "duration": 405,
    "start_time": "2021-10-01T20:29:19.823Z"
   },
   {
    "duration": 13,
    "start_time": "2021-10-01T20:29:20.230Z"
   },
   {
    "duration": 20,
    "start_time": "2021-10-01T20:29:20.245Z"
   },
   {
    "duration": 27,
    "start_time": "2021-10-01T20:29:20.266Z"
   },
   {
    "duration": 4,
    "start_time": "2021-10-01T20:29:20.300Z"
   },
   {
    "duration": 16,
    "start_time": "2021-10-01T20:29:20.305Z"
   },
   {
    "duration": 15,
    "start_time": "2021-10-01T20:29:20.323Z"
   },
   {
    "duration": 24,
    "start_time": "2021-10-01T20:29:20.341Z"
   },
   {
    "duration": 4,
    "start_time": "2021-10-01T20:29:20.399Z"
   },
   {
    "duration": 10,
    "start_time": "2021-10-01T20:29:20.405Z"
   },
   {
    "duration": 14,
    "start_time": "2021-10-01T20:29:20.416Z"
   },
   {
    "duration": 16,
    "start_time": "2021-10-01T20:29:20.432Z"
   },
   {
    "duration": 4,
    "start_time": "2021-10-01T20:29:20.449Z"
   },
   {
    "duration": 45,
    "start_time": "2021-10-01T20:29:20.455Z"
   },
   {
    "duration": 14,
    "start_time": "2021-10-01T20:29:20.502Z"
   },
   {
    "duration": 13,
    "start_time": "2021-10-01T20:29:20.518Z"
   },
   {
    "duration": 27,
    "start_time": "2021-10-01T20:29:20.533Z"
   },
   {
    "duration": 7,
    "start_time": "2021-10-01T20:29:20.562Z"
   },
   {
    "duration": 55,
    "start_time": "2021-10-01T20:29:20.571Z"
   },
   {
    "duration": 24,
    "start_time": "2021-10-01T20:29:20.628Z"
   },
   {
    "duration": 20,
    "start_time": "2021-10-01T20:29:20.654Z"
   },
   {
    "duration": 29,
    "start_time": "2021-10-01T20:29:20.675Z"
   },
   {
    "duration": 14,
    "start_time": "2021-10-01T20:29:20.706Z"
   },
   {
    "duration": 27,
    "start_time": "2021-10-01T20:29:20.721Z"
   },
   {
    "duration": 4,
    "start_time": "2021-10-01T20:29:20.750Z"
   },
   {
    "duration": 2094,
    "start_time": "2021-10-01T20:29:20.758Z"
   },
   {
    "duration": -192,
    "start_time": "2021-10-01T20:29:23.047Z"
   },
   {
    "duration": -194,
    "start_time": "2021-10-01T20:29:23.050Z"
   },
   {
    "duration": -194,
    "start_time": "2021-10-01T20:29:23.052Z"
   },
   {
    "duration": -195,
    "start_time": "2021-10-01T20:29:23.054Z"
   },
   {
    "duration": -237,
    "start_time": "2021-10-01T20:29:23.097Z"
   },
   {
    "duration": -237,
    "start_time": "2021-10-01T20:29:23.099Z"
   },
   {
    "duration": -238,
    "start_time": "2021-10-01T20:29:23.101Z"
   },
   {
    "duration": -237,
    "start_time": "2021-10-01T20:29:23.102Z"
   },
   {
    "duration": -238,
    "start_time": "2021-10-01T20:29:23.104Z"
   },
   {
    "duration": -238,
    "start_time": "2021-10-01T20:29:23.106Z"
   },
   {
    "duration": -245,
    "start_time": "2021-10-01T20:29:23.114Z"
   },
   {
    "duration": -246,
    "start_time": "2021-10-01T20:29:23.116Z"
   },
   {
    "duration": -248,
    "start_time": "2021-10-01T20:29:23.120Z"
   },
   {
    "duration": -248,
    "start_time": "2021-10-01T20:29:23.121Z"
   },
   {
    "duration": -248,
    "start_time": "2021-10-01T20:29:23.123Z"
   },
   {
    "duration": -255,
    "start_time": "2021-10-01T20:29:23.131Z"
   },
   {
    "duration": -256,
    "start_time": "2021-10-01T20:29:23.133Z"
   },
   {
    "duration": -256,
    "start_time": "2021-10-01T20:29:23.135Z"
   },
   {
    "duration": -257,
    "start_time": "2021-10-01T20:29:23.137Z"
   },
   {
    "duration": 3,
    "start_time": "2021-10-01T20:31:06.142Z"
   },
   {
    "duration": 1413,
    "start_time": "2021-10-01T20:31:12.197Z"
   },
   {
    "duration": 3,
    "start_time": "2021-10-01T20:31:38.531Z"
   },
   {
    "duration": 395,
    "start_time": "2021-10-01T20:31:38.536Z"
   },
   {
    "duration": 13,
    "start_time": "2021-10-01T20:31:38.933Z"
   },
   {
    "duration": 20,
    "start_time": "2021-10-01T20:31:38.948Z"
   },
   {
    "duration": 29,
    "start_time": "2021-10-01T20:31:38.970Z"
   },
   {
    "duration": 4,
    "start_time": "2021-10-01T20:31:39.001Z"
   },
   {
    "duration": 14,
    "start_time": "2021-10-01T20:31:39.007Z"
   },
   {
    "duration": 17,
    "start_time": "2021-10-01T20:31:39.023Z"
   },
   {
    "duration": 26,
    "start_time": "2021-10-01T20:31:39.042Z"
   },
   {
    "duration": 34,
    "start_time": "2021-10-01T20:31:39.069Z"
   },
   {
    "duration": 14,
    "start_time": "2021-10-01T20:31:39.104Z"
   },
   {
    "duration": 14,
    "start_time": "2021-10-01T20:31:39.120Z"
   },
   {
    "duration": 16,
    "start_time": "2021-10-01T20:31:39.136Z"
   },
   {
    "duration": 4,
    "start_time": "2021-10-01T20:31:39.154Z"
   },
   {
    "duration": 47,
    "start_time": "2021-10-01T20:31:39.160Z"
   },
   {
    "duration": 18,
    "start_time": "2021-10-01T20:31:39.208Z"
   },
   {
    "duration": 10,
    "start_time": "2021-10-01T20:31:39.228Z"
   },
   {
    "duration": 20,
    "start_time": "2021-10-01T20:31:39.239Z"
   },
   {
    "duration": 11,
    "start_time": "2021-10-01T20:31:39.261Z"
   },
   {
    "duration": 55,
    "start_time": "2021-10-01T20:31:39.273Z"
   },
   {
    "duration": 23,
    "start_time": "2021-10-01T20:31:39.329Z"
   },
   {
    "duration": 18,
    "start_time": "2021-10-01T20:31:39.353Z"
   },
   {
    "duration": 28,
    "start_time": "2021-10-01T20:31:39.374Z"
   },
   {
    "duration": 7,
    "start_time": "2021-10-01T20:31:39.404Z"
   },
   {
    "duration": 22,
    "start_time": "2021-10-01T20:31:39.413Z"
   },
   {
    "duration": 3,
    "start_time": "2021-10-01T20:31:39.436Z"
   },
   {
    "duration": 1442,
    "start_time": "2021-10-01T20:31:39.440Z"
   },
   {
    "duration": -157,
    "start_time": "2021-10-01T20:31:41.041Z"
   },
   {
    "duration": -159,
    "start_time": "2021-10-01T20:31:41.044Z"
   },
   {
    "duration": -160,
    "start_time": "2021-10-01T20:31:41.045Z"
   },
   {
    "duration": -161,
    "start_time": "2021-10-01T20:31:41.047Z"
   },
   {
    "duration": -162,
    "start_time": "2021-10-01T20:31:41.049Z"
   },
   {
    "duration": -163,
    "start_time": "2021-10-01T20:31:41.051Z"
   },
   {
    "duration": -165,
    "start_time": "2021-10-01T20:31:41.053Z"
   },
   {
    "duration": -166,
    "start_time": "2021-10-01T20:31:41.055Z"
   },
   {
    "duration": -166,
    "start_time": "2021-10-01T20:31:41.056Z"
   },
   {
    "duration": -167,
    "start_time": "2021-10-01T20:31:41.058Z"
   },
   {
    "duration": -169,
    "start_time": "2021-10-01T20:31:41.060Z"
   },
   {
    "duration": -170,
    "start_time": "2021-10-01T20:31:41.062Z"
   },
   {
    "duration": -170,
    "start_time": "2021-10-01T20:31:41.063Z"
   },
   {
    "duration": -171,
    "start_time": "2021-10-01T20:31:41.065Z"
   },
   {
    "duration": -174,
    "start_time": "2021-10-01T20:31:41.068Z"
   },
   {
    "duration": -175,
    "start_time": "2021-10-01T20:31:41.070Z"
   },
   {
    "duration": -176,
    "start_time": "2021-10-01T20:31:41.072Z"
   },
   {
    "duration": -177,
    "start_time": "2021-10-01T20:31:41.074Z"
   },
   {
    "duration": -178,
    "start_time": "2021-10-01T20:31:41.075Z"
   },
   {
    "duration": 48,
    "start_time": "2021-10-01T20:33:01.384Z"
   },
   {
    "duration": 21,
    "start_time": "2021-10-01T20:33:06.419Z"
   },
   {
    "duration": 7,
    "start_time": "2021-10-01T20:33:17.437Z"
   },
   {
    "duration": 13,
    "start_time": "2021-10-01T20:33:18.233Z"
   },
   {
    "duration": 8,
    "start_time": "2021-10-01T20:33:23.216Z"
   },
   {
    "duration": 16,
    "start_time": "2021-10-01T20:33:24.736Z"
   },
   {
    "duration": 9,
    "start_time": "2021-10-01T20:33:33.167Z"
   },
   {
    "duration": 5,
    "start_time": "2021-10-01T20:33:33.889Z"
   },
   {
    "duration": 10,
    "start_time": "2021-10-01T20:33:35.822Z"
   },
   {
    "duration": 17,
    "start_time": "2021-10-01T20:33:46.004Z"
   },
   {
    "duration": 5,
    "start_time": "2021-10-01T20:34:08.976Z"
   },
   {
    "duration": 9,
    "start_time": "2021-10-01T20:34:32.598Z"
   },
   {
    "duration": 9,
    "start_time": "2021-10-01T20:34:39.117Z"
   },
   {
    "duration": 30,
    "start_time": "2021-10-01T20:35:05.759Z"
   },
   {
    "duration": 3,
    "start_time": "2021-10-01T20:35:11.592Z"
   },
   {
    "duration": 388,
    "start_time": "2021-10-01T20:35:11.597Z"
   },
   {
    "duration": 11,
    "start_time": "2021-10-01T20:35:11.987Z"
   },
   {
    "duration": 19,
    "start_time": "2021-10-01T20:35:12.000Z"
   },
   {
    "duration": 27,
    "start_time": "2021-10-01T20:35:12.020Z"
   },
   {
    "duration": 4,
    "start_time": "2021-10-01T20:35:12.049Z"
   },
   {
    "duration": 45,
    "start_time": "2021-10-01T20:35:12.055Z"
   },
   {
    "duration": 16,
    "start_time": "2021-10-01T20:35:12.102Z"
   },
   {
    "duration": 25,
    "start_time": "2021-10-01T20:35:12.120Z"
   },
   {
    "duration": 4,
    "start_time": "2021-10-01T20:35:12.146Z"
   },
   {
    "duration": 11,
    "start_time": "2021-10-01T20:35:12.152Z"
   },
   {
    "duration": 46,
    "start_time": "2021-10-01T20:35:12.164Z"
   },
   {
    "duration": 26,
    "start_time": "2021-10-01T20:35:12.212Z"
   },
   {
    "duration": 4,
    "start_time": "2021-10-01T20:35:12.239Z"
   },
   {
    "duration": 8,
    "start_time": "2021-10-01T20:35:12.244Z"
   },
   {
    "duration": 12,
    "start_time": "2021-10-01T20:35:12.254Z"
   },
   {
    "duration": 33,
    "start_time": "2021-10-01T20:35:12.267Z"
   },
   {
    "duration": 17,
    "start_time": "2021-10-01T20:35:12.301Z"
   },
   {
    "duration": 4,
    "start_time": "2021-10-01T20:35:12.319Z"
   },
   {
    "duration": 28,
    "start_time": "2021-10-01T20:35:12.325Z"
   },
   {
    "duration": 50,
    "start_time": "2021-10-01T20:35:12.355Z"
   },
   {
    "duration": 18,
    "start_time": "2021-10-01T20:35:12.406Z"
   },
   {
    "duration": 4,
    "start_time": "2021-10-01T20:35:12.427Z"
   },
   {
    "duration": 10,
    "start_time": "2021-10-01T20:35:12.433Z"
   },
   {
    "duration": 20,
    "start_time": "2021-10-01T20:35:12.444Z"
   },
   {
    "duration": 3,
    "start_time": "2021-10-01T20:35:12.465Z"
   },
   {
    "duration": 75,
    "start_time": "2021-10-01T20:35:12.469Z"
   },
   {
    "duration": 19,
    "start_time": "2021-10-01T20:35:12.546Z"
   },
   {
    "duration": 34,
    "start_time": "2021-10-01T20:35:12.566Z"
   },
   {
    "duration": 25,
    "start_time": "2021-10-01T20:35:12.601Z"
   },
   {
    "duration": 11,
    "start_time": "2021-10-01T20:35:12.627Z"
   },
   {
    "duration": 15,
    "start_time": "2021-10-01T20:35:12.640Z"
   },
   {
    "duration": 46,
    "start_time": "2021-10-01T20:35:12.657Z"
   },
   {
    "duration": 13,
    "start_time": "2021-10-01T20:35:12.704Z"
   },
   {
    "duration": 3,
    "start_time": "2021-10-01T20:35:12.718Z"
   },
   {
    "duration": 6,
    "start_time": "2021-10-01T20:35:12.722Z"
   },
   {
    "duration": 9,
    "start_time": "2021-10-01T20:35:12.730Z"
   },
   {
    "duration": 6,
    "start_time": "2021-10-01T20:35:12.741Z"
   },
   {
    "duration": 5,
    "start_time": "2021-10-01T20:35:12.748Z"
   },
   {
    "duration": 69,
    "start_time": "2021-10-01T20:35:12.755Z"
   },
   {
    "duration": 2,
    "start_time": "2021-10-01T20:35:12.826Z"
   },
   {
    "duration": 6,
    "start_time": "2021-10-01T20:35:12.829Z"
   },
   {
    "duration": 14,
    "start_time": "2021-10-01T20:35:12.836Z"
   },
   {
    "duration": 14,
    "start_time": "2021-10-01T20:35:12.851Z"
   },
   {
    "duration": 7,
    "start_time": "2021-10-01T20:35:12.866Z"
   },
   {
    "duration": 39,
    "start_time": "2021-10-01T20:35:12.874Z"
   },
   {
    "duration": 17,
    "start_time": "2021-10-01T20:35:20.568Z"
   },
   {
    "duration": 4,
    "start_time": "2021-10-01T20:35:40.661Z"
   },
   {
    "duration": 73,
    "start_time": "2021-10-01T20:35:55.862Z"
   },
   {
    "duration": 5,
    "start_time": "2021-10-01T20:36:22.218Z"
   },
   {
    "duration": 5,
    "start_time": "2021-10-01T20:36:29.842Z"
   },
   {
    "duration": 4652,
    "start_time": "2021-10-01T20:36:41.589Z"
   },
   {
    "duration": 4,
    "start_time": "2021-10-01T20:36:51.588Z"
   },
   {
    "duration": 5,
    "start_time": "2021-10-01T20:36:54.001Z"
   },
   {
    "duration": 4,
    "start_time": "2021-10-01T20:36:55.849Z"
   },
   {
    "duration": 375,
    "start_time": "2021-10-01T20:36:55.854Z"
   },
   {
    "duration": 12,
    "start_time": "2021-10-01T20:36:56.231Z"
   },
   {
    "duration": 25,
    "start_time": "2021-10-01T20:36:56.245Z"
   },
   {
    "duration": 27,
    "start_time": "2021-10-01T20:36:56.271Z"
   },
   {
    "duration": 4,
    "start_time": "2021-10-01T20:36:56.299Z"
   },
   {
    "duration": 15,
    "start_time": "2021-10-01T20:36:56.305Z"
   },
   {
    "duration": 21,
    "start_time": "2021-10-01T20:36:56.321Z"
   },
   {
    "duration": 26,
    "start_time": "2021-10-01T20:36:56.344Z"
   },
   {
    "duration": 28,
    "start_time": "2021-10-01T20:36:56.372Z"
   },
   {
    "duration": 9,
    "start_time": "2021-10-01T20:36:56.402Z"
   },
   {
    "duration": 16,
    "start_time": "2021-10-01T20:36:56.412Z"
   },
   {
    "duration": 18,
    "start_time": "2021-10-01T20:36:56.429Z"
   },
   {
    "duration": 4,
    "start_time": "2021-10-01T20:36:56.448Z"
   },
   {
    "duration": 7,
    "start_time": "2021-10-01T20:36:56.454Z"
   },
   {
    "duration": 44,
    "start_time": "2021-10-01T20:36:56.463Z"
   },
   {
    "duration": 7,
    "start_time": "2021-10-01T20:36:56.509Z"
   },
   {
    "duration": 18,
    "start_time": "2021-10-01T20:36:56.517Z"
   },
   {
    "duration": 6,
    "start_time": "2021-10-01T20:36:56.536Z"
   },
   {
    "duration": 63,
    "start_time": "2021-10-01T20:36:56.543Z"
   },
   {
    "duration": 23,
    "start_time": "2021-10-01T20:36:56.607Z"
   },
   {
    "duration": 19,
    "start_time": "2021-10-01T20:36:56.631Z"
   },
   {
    "duration": 5,
    "start_time": "2021-10-01T20:36:56.652Z"
   },
   {
    "duration": 9,
    "start_time": "2021-10-01T20:36:56.658Z"
   },
   {
    "duration": 48,
    "start_time": "2021-10-01T20:36:56.669Z"
   },
   {
    "duration": 3,
    "start_time": "2021-10-01T20:36:56.719Z"
   },
   {
    "duration": 49,
    "start_time": "2021-10-01T20:36:56.725Z"
   },
   {
    "duration": 40,
    "start_time": "2021-10-01T20:36:56.776Z"
   },
   {
    "duration": 14,
    "start_time": "2021-10-01T20:36:56.818Z"
   },
   {
    "duration": 26,
    "start_time": "2021-10-01T20:36:56.834Z"
   },
   {
    "duration": 40,
    "start_time": "2021-10-01T20:36:56.861Z"
   },
   {
    "duration": 16,
    "start_time": "2021-10-01T20:36:56.903Z"
   },
   {
    "duration": 22,
    "start_time": "2021-10-01T20:36:56.921Z"
   },
   {
    "duration": 13,
    "start_time": "2021-10-01T20:36:56.944Z"
   },
   {
    "duration": 3,
    "start_time": "2021-10-01T20:36:56.958Z"
   },
   {
    "duration": 37,
    "start_time": "2021-10-01T20:36:56.963Z"
   },
   {
    "duration": 10,
    "start_time": "2021-10-01T20:36:57.001Z"
   },
   {
    "duration": 7,
    "start_time": "2021-10-01T20:36:57.012Z"
   },
   {
    "duration": 5,
    "start_time": "2021-10-01T20:36:57.020Z"
   },
   {
    "duration": 4,
    "start_time": "2021-10-01T20:36:57.026Z"
   },
   {
    "duration": 3,
    "start_time": "2021-10-01T20:36:57.032Z"
   },
   {
    "duration": 4,
    "start_time": "2021-10-01T20:36:57.036Z"
   },
   {
    "duration": 8,
    "start_time": "2021-10-01T20:36:57.041Z"
   },
   {
    "duration": 61,
    "start_time": "2021-10-01T20:36:57.050Z"
   },
   {
    "duration": 8,
    "start_time": "2021-10-01T20:36:57.112Z"
   },
   {
    "duration": 13,
    "start_time": "2021-10-01T20:36:57.122Z"
   },
   {
    "duration": 371,
    "start_time": "2021-10-01T20:41:46.889Z"
   },
   {
    "duration": 11,
    "start_time": "2021-10-01T20:42:03.107Z"
   },
   {
    "duration": 11,
    "start_time": "2021-10-01T20:42:08.227Z"
   },
   {
    "duration": 11,
    "start_time": "2021-10-01T20:42:12.525Z"
   },
   {
    "duration": 4,
    "start_time": "2021-10-01T20:42:15.146Z"
   },
   {
    "duration": 406,
    "start_time": "2021-10-01T20:42:15.152Z"
   },
   {
    "duration": 15,
    "start_time": "2021-10-01T20:42:15.560Z"
   },
   {
    "duration": 22,
    "start_time": "2021-10-01T20:42:15.577Z"
   },
   {
    "duration": 31,
    "start_time": "2021-10-01T20:42:15.601Z"
   },
   {
    "duration": 6,
    "start_time": "2021-10-01T20:42:15.634Z"
   },
   {
    "duration": 14,
    "start_time": "2021-10-01T20:42:15.642Z"
   },
   {
    "duration": 48,
    "start_time": "2021-10-01T20:42:15.659Z"
   },
   {
    "duration": 27,
    "start_time": "2021-10-01T20:42:15.709Z"
   },
   {
    "duration": 5,
    "start_time": "2021-10-01T20:42:15.738Z"
   },
   {
    "duration": 16,
    "start_time": "2021-10-01T20:42:15.744Z"
   },
   {
    "duration": 42,
    "start_time": "2021-10-01T20:42:15.762Z"
   },
   {
    "duration": 19,
    "start_time": "2021-10-01T20:42:15.806Z"
   },
   {
    "duration": 5,
    "start_time": "2021-10-01T20:42:15.827Z"
   },
   {
    "duration": 12,
    "start_time": "2021-10-01T20:42:15.834Z"
   },
   {
    "duration": 12,
    "start_time": "2021-10-01T20:42:15.847Z"
   },
   {
    "duration": 6,
    "start_time": "2021-10-01T20:42:15.860Z"
   },
   {
    "duration": 48,
    "start_time": "2021-10-01T20:42:15.868Z"
   },
   {
    "duration": 4,
    "start_time": "2021-10-01T20:42:15.917Z"
   },
   {
    "duration": 31,
    "start_time": "2021-10-01T20:42:15.923Z"
   },
   {
    "duration": 54,
    "start_time": "2021-10-01T20:42:15.956Z"
   },
   {
    "duration": 19,
    "start_time": "2021-10-01T20:42:16.012Z"
   },
   {
    "duration": 5,
    "start_time": "2021-10-01T20:42:16.034Z"
   },
   {
    "duration": 10,
    "start_time": "2021-10-01T20:42:16.041Z"
   },
   {
    "duration": 49,
    "start_time": "2021-10-01T20:42:16.052Z"
   },
   {
    "duration": 2,
    "start_time": "2021-10-01T20:42:16.103Z"
   },
   {
    "duration": 54,
    "start_time": "2021-10-01T20:42:16.107Z"
   },
   {
    "duration": 21,
    "start_time": "2021-10-01T20:42:16.162Z"
   },
   {
    "duration": 15,
    "start_time": "2021-10-01T20:42:16.200Z"
   },
   {
    "duration": 26,
    "start_time": "2021-10-01T20:42:16.217Z"
   },
   {
    "duration": 13,
    "start_time": "2021-10-01T20:42:16.245Z"
   },
   {
    "duration": 45,
    "start_time": "2021-10-01T20:42:16.259Z"
   },
   {
    "duration": 24,
    "start_time": "2021-10-01T20:42:16.306Z"
   },
   {
    "duration": 14,
    "start_time": "2021-10-01T20:42:16.332Z"
   },
   {
    "duration": 2,
    "start_time": "2021-10-01T20:42:16.348Z"
   },
   {
    "duration": 7,
    "start_time": "2021-10-01T20:42:16.352Z"
   },
   {
    "duration": 40,
    "start_time": "2021-10-01T20:42:16.360Z"
   },
   {
    "duration": 8,
    "start_time": "2021-10-01T20:42:16.402Z"
   },
   {
    "duration": 16,
    "start_time": "2021-10-01T20:42:16.411Z"
   },
   {
    "duration": 25,
    "start_time": "2021-10-01T20:42:16.428Z"
   },
   {
    "duration": 6,
    "start_time": "2021-10-01T20:42:16.455Z"
   },
   {
    "duration": 15,
    "start_time": "2021-10-01T20:42:16.465Z"
   },
   {
    "duration": 13,
    "start_time": "2021-10-01T20:42:16.481Z"
   },
   {
    "duration": 23,
    "start_time": "2021-10-01T20:42:16.496Z"
   },
   {
    "duration": 13,
    "start_time": "2021-10-01T20:42:16.521Z"
   },
   {
    "duration": 17,
    "start_time": "2021-10-01T20:42:16.535Z"
   },
   {
    "duration": 10,
    "start_time": "2021-10-01T20:42:32.167Z"
   },
   {
    "duration": 9,
    "start_time": "2021-10-01T20:42:33.879Z"
   },
   {
    "duration": 9,
    "start_time": "2021-10-01T20:42:56.665Z"
   },
   {
    "duration": 11,
    "start_time": "2021-10-01T20:43:19.493Z"
   },
   {
    "duration": 13,
    "start_time": "2021-10-01T20:45:47.318Z"
   },
   {
    "duration": 3,
    "start_time": "2021-10-01T20:45:52.940Z"
   },
   {
    "duration": 361,
    "start_time": "2021-10-01T20:45:52.945Z"
   },
   {
    "duration": 12,
    "start_time": "2021-10-01T20:45:53.308Z"
   },
   {
    "duration": 22,
    "start_time": "2021-10-01T20:45:53.322Z"
   },
   {
    "duration": 27,
    "start_time": "2021-10-01T20:45:53.345Z"
   },
   {
    "duration": 27,
    "start_time": "2021-10-01T20:45:53.374Z"
   },
   {
    "duration": 13,
    "start_time": "2021-10-01T20:45:53.402Z"
   },
   {
    "duration": 15,
    "start_time": "2021-10-01T20:45:53.417Z"
   },
   {
    "duration": 24,
    "start_time": "2021-10-01T20:45:53.434Z"
   },
   {
    "duration": 4,
    "start_time": "2021-10-01T20:45:53.459Z"
   },
   {
    "duration": 10,
    "start_time": "2021-10-01T20:45:53.499Z"
   },
   {
    "duration": 15,
    "start_time": "2021-10-01T20:45:53.510Z"
   },
   {
    "duration": 16,
    "start_time": "2021-10-01T20:45:53.526Z"
   },
   {
    "duration": 4,
    "start_time": "2021-10-01T20:45:53.543Z"
   },
   {
    "duration": 8,
    "start_time": "2021-10-01T20:45:53.548Z"
   },
   {
    "duration": 45,
    "start_time": "2021-10-01T20:45:53.558Z"
   },
   {
    "duration": 7,
    "start_time": "2021-10-01T20:45:53.604Z"
   },
   {
    "duration": 17,
    "start_time": "2021-10-01T20:45:53.612Z"
   },
   {
    "duration": 5,
    "start_time": "2021-10-01T20:45:53.631Z"
   },
   {
    "duration": 70,
    "start_time": "2021-10-01T20:45:53.638Z"
   },
   {
    "duration": 24,
    "start_time": "2021-10-01T20:45:53.709Z"
   },
   {
    "duration": 20,
    "start_time": "2021-10-01T20:45:53.735Z"
   },
   {
    "duration": 6,
    "start_time": "2021-10-01T20:45:53.759Z"
   },
   {
    "duration": 35,
    "start_time": "2021-10-01T20:45:53.768Z"
   },
   {
    "duration": 22,
    "start_time": "2021-10-01T20:45:53.805Z"
   },
   {
    "duration": 3,
    "start_time": "2021-10-01T20:45:53.829Z"
   },
   {
    "duration": 75,
    "start_time": "2021-10-01T20:45:53.834Z"
   },
   {
    "duration": 21,
    "start_time": "2021-10-01T20:45:53.911Z"
   },
   {
    "duration": 14,
    "start_time": "2021-10-01T20:45:53.934Z"
   },
   {
    "duration": 54,
    "start_time": "2021-10-01T20:45:53.950Z"
   },
   {
    "duration": 15,
    "start_time": "2021-10-01T20:45:54.005Z"
   },
   {
    "duration": 17,
    "start_time": "2021-10-01T20:45:54.021Z"
   },
   {
    "duration": 24,
    "start_time": "2021-10-01T20:45:54.040Z"
   },
   {
    "duration": 40,
    "start_time": "2021-10-01T20:45:54.065Z"
   },
   {
    "duration": 3,
    "start_time": "2021-10-01T20:45:54.107Z"
   },
   {
    "duration": 7,
    "start_time": "2021-10-01T20:45:54.111Z"
   },
   {
    "duration": 11,
    "start_time": "2021-10-01T20:45:54.119Z"
   },
   {
    "duration": 6,
    "start_time": "2021-10-01T20:45:54.132Z"
   },
   {
    "duration": 4,
    "start_time": "2021-10-01T20:45:54.140Z"
   },
   {
    "duration": 7,
    "start_time": "2021-10-01T20:45:54.146Z"
   },
   {
    "duration": 3,
    "start_time": "2021-10-01T20:45:54.155Z"
   },
   {
    "duration": 43,
    "start_time": "2021-10-01T20:45:54.160Z"
   },
   {
    "duration": 10,
    "start_time": "2021-10-01T20:45:54.204Z"
   },
   {
    "duration": 13,
    "start_time": "2021-10-01T20:45:54.215Z"
   },
   {
    "duration": 7,
    "start_time": "2021-10-01T20:45:54.230Z"
   },
   {
    "duration": 13,
    "start_time": "2021-10-01T20:45:54.239Z"
   },
   {
    "duration": 4,
    "start_time": "2021-10-01T20:46:22.077Z"
   },
   {
    "duration": 3,
    "start_time": "2021-10-01T20:46:24.624Z"
   },
   {
    "duration": 385,
    "start_time": "2021-10-01T20:46:24.629Z"
   },
   {
    "duration": 13,
    "start_time": "2021-10-01T20:46:25.016Z"
   },
   {
    "duration": 21,
    "start_time": "2021-10-01T20:46:25.031Z"
   },
   {
    "duration": 28,
    "start_time": "2021-10-01T20:46:25.053Z"
   },
   {
    "duration": 17,
    "start_time": "2021-10-01T20:46:25.083Z"
   },
   {
    "duration": 11,
    "start_time": "2021-10-01T20:46:25.102Z"
   },
   {
    "duration": 16,
    "start_time": "2021-10-01T20:46:25.115Z"
   },
   {
    "duration": 24,
    "start_time": "2021-10-01T20:46:25.133Z"
   },
   {
    "duration": 40,
    "start_time": "2021-10-01T20:46:25.159Z"
   },
   {
    "duration": 12,
    "start_time": "2021-10-01T20:46:25.201Z"
   },
   {
    "duration": 16,
    "start_time": "2021-10-01T20:46:25.215Z"
   },
   {
    "duration": 17,
    "start_time": "2021-10-01T20:46:25.234Z"
   },
   {
    "duration": 5,
    "start_time": "2021-10-01T20:46:25.252Z"
   },
   {
    "duration": 8,
    "start_time": "2021-10-01T20:46:25.300Z"
   },
   {
    "duration": 16,
    "start_time": "2021-10-01T20:46:25.310Z"
   },
   {
    "duration": 9,
    "start_time": "2021-10-01T20:46:25.329Z"
   },
   {
    "duration": 19,
    "start_time": "2021-10-01T20:46:25.339Z"
   },
   {
    "duration": 40,
    "start_time": "2021-10-01T20:46:25.360Z"
   },
   {
    "duration": 30,
    "start_time": "2021-10-01T20:46:25.402Z"
   },
   {
    "duration": 23,
    "start_time": "2021-10-01T20:46:25.434Z"
   },
   {
    "duration": 42,
    "start_time": "2021-10-01T20:46:25.459Z"
   },
   {
    "duration": 6,
    "start_time": "2021-10-01T20:46:25.504Z"
   },
   {
    "duration": 12,
    "start_time": "2021-10-01T20:46:25.512Z"
   },
   {
    "duration": 21,
    "start_time": "2021-10-01T20:46:25.526Z"
   },
   {
    "duration": 2,
    "start_time": "2021-10-01T20:46:25.549Z"
   },
   {
    "duration": 72,
    "start_time": "2021-10-01T20:46:25.553Z"
   },
   {
    "duration": 20,
    "start_time": "2021-10-01T20:46:25.627Z"
   },
   {
    "duration": 14,
    "start_time": "2021-10-01T20:46:25.649Z"
   },
   {
    "duration": 50,
    "start_time": "2021-10-01T20:46:25.665Z"
   },
   {
    "duration": 12,
    "start_time": "2021-10-01T20:46:25.717Z"
   },
   {
    "duration": 17,
    "start_time": "2021-10-01T20:46:25.731Z"
   },
   {
    "duration": 23,
    "start_time": "2021-10-01T20:46:25.750Z"
   },
   {
    "duration": 39,
    "start_time": "2021-10-01T20:46:25.775Z"
   },
   {
    "duration": 2,
    "start_time": "2021-10-01T20:46:25.816Z"
   },
   {
    "duration": 7,
    "start_time": "2021-10-01T20:46:25.820Z"
   },
   {
    "duration": 11,
    "start_time": "2021-10-01T20:46:25.829Z"
   },
   {
    "duration": 15,
    "start_time": "2021-10-01T20:46:25.841Z"
   },
   {
    "duration": 5,
    "start_time": "2021-10-01T20:46:25.858Z"
   },
   {
    "duration": 37,
    "start_time": "2021-10-01T20:46:25.865Z"
   },
   {
    "duration": 4,
    "start_time": "2021-10-01T20:46:25.904Z"
   },
   {
    "duration": 4,
    "start_time": "2021-10-01T20:46:25.910Z"
   },
   {
    "duration": 9,
    "start_time": "2021-10-01T20:46:25.916Z"
   },
   {
    "duration": 13,
    "start_time": "2021-10-01T20:46:25.927Z"
   },
   {
    "duration": 8,
    "start_time": "2021-10-01T20:46:25.942Z"
   },
   {
    "duration": 58,
    "start_time": "2021-10-01T20:46:25.951Z"
   },
   {
    "duration": 4,
    "start_time": "2021-10-01T20:47:21.488Z"
   },
   {
    "duration": 386,
    "start_time": "2021-10-01T20:47:21.494Z"
   },
   {
    "duration": 13,
    "start_time": "2021-10-01T20:47:21.882Z"
   },
   {
    "duration": 21,
    "start_time": "2021-10-01T20:47:21.897Z"
   },
   {
    "duration": 27,
    "start_time": "2021-10-01T20:47:21.920Z"
   },
   {
    "duration": 4,
    "start_time": "2021-10-01T20:47:21.948Z"
   },
   {
    "duration": 12,
    "start_time": "2021-10-01T20:47:21.954Z"
   },
   {
    "duration": 45,
    "start_time": "2021-10-01T20:47:21.969Z"
   },
   {
    "duration": 26,
    "start_time": "2021-10-01T20:47:22.016Z"
   },
   {
    "duration": 4,
    "start_time": "2021-10-01T20:47:22.043Z"
   },
   {
    "duration": 10,
    "start_time": "2021-10-01T20:47:22.049Z"
   },
   {
    "duration": 42,
    "start_time": "2021-10-01T20:47:22.061Z"
   },
   {
    "duration": 15,
    "start_time": "2021-10-01T20:47:22.105Z"
   },
   {
    "duration": 4,
    "start_time": "2021-10-01T20:47:22.122Z"
   },
   {
    "duration": 11,
    "start_time": "2021-10-01T20:47:22.128Z"
   },
   {
    "duration": 14,
    "start_time": "2021-10-01T20:47:22.140Z"
   },
   {
    "duration": 46,
    "start_time": "2021-10-01T20:47:22.156Z"
   },
   {
    "duration": 17,
    "start_time": "2021-10-01T20:47:22.203Z"
   },
   {
    "duration": 7,
    "start_time": "2021-10-01T20:47:22.222Z"
   },
   {
    "duration": 37,
    "start_time": "2021-10-01T20:47:22.230Z"
   },
   {
    "duration": 43,
    "start_time": "2021-10-01T20:47:22.269Z"
   },
   {
    "duration": 19,
    "start_time": "2021-10-01T20:47:22.314Z"
   },
   {
    "duration": 6,
    "start_time": "2021-10-01T20:47:22.336Z"
   },
   {
    "duration": 10,
    "start_time": "2021-10-01T20:47:22.343Z"
   },
   {
    "duration": 47,
    "start_time": "2021-10-01T20:47:22.355Z"
   },
   {
    "duration": 3,
    "start_time": "2021-10-01T20:47:22.403Z"
   },
   {
    "duration": 53,
    "start_time": "2021-10-01T20:47:22.408Z"
   },
   {
    "duration": 38,
    "start_time": "2021-10-01T20:47:22.462Z"
   },
   {
    "duration": 14,
    "start_time": "2021-10-01T20:47:22.502Z"
   },
   {
    "duration": 26,
    "start_time": "2021-10-01T20:47:22.518Z"
   },
   {
    "duration": 12,
    "start_time": "2021-10-01T20:47:22.546Z"
   },
   {
    "duration": 44,
    "start_time": "2021-10-01T20:47:22.560Z"
   },
   {
    "duration": 23,
    "start_time": "2021-10-01T20:47:22.606Z"
   },
   {
    "duration": 12,
    "start_time": "2021-10-01T20:47:22.631Z"
   },
   {
    "duration": 2,
    "start_time": "2021-10-01T20:47:22.645Z"
   },
   {
    "duration": 6,
    "start_time": "2021-10-01T20:47:22.649Z"
   },
   {
    "duration": 45,
    "start_time": "2021-10-01T20:47:22.657Z"
   },
   {
    "duration": 10,
    "start_time": "2021-10-01T20:47:22.704Z"
   },
   {
    "duration": 2,
    "start_time": "2021-10-01T20:47:22.716Z"
   },
   {
    "duration": 4,
    "start_time": "2021-10-01T20:47:22.719Z"
   },
   {
    "duration": 10,
    "start_time": "2021-10-01T20:47:22.725Z"
   },
   {
    "duration": 14,
    "start_time": "2021-10-01T20:47:22.736Z"
   },
   {
    "duration": 48,
    "start_time": "2021-10-01T20:47:22.752Z"
   },
   {
    "duration": 18,
    "start_time": "2021-10-01T20:47:22.801Z"
   },
   {
    "duration": 3,
    "start_time": "2021-10-01T20:48:14.400Z"
   },
   {
    "duration": 406,
    "start_time": "2021-10-01T20:48:14.405Z"
   },
   {
    "duration": 15,
    "start_time": "2021-10-01T20:48:14.813Z"
   },
   {
    "duration": 20,
    "start_time": "2021-10-01T20:48:14.829Z"
   },
   {
    "duration": 28,
    "start_time": "2021-10-01T20:48:14.851Z"
   },
   {
    "duration": 20,
    "start_time": "2021-10-01T20:48:14.881Z"
   },
   {
    "duration": 12,
    "start_time": "2021-10-01T20:48:14.903Z"
   },
   {
    "duration": 15,
    "start_time": "2021-10-01T20:48:14.917Z"
   },
   {
    "duration": 24,
    "start_time": "2021-10-01T20:48:14.934Z"
   },
   {
    "duration": 41,
    "start_time": "2021-10-01T20:48:14.960Z"
   },
   {
    "duration": 10,
    "start_time": "2021-10-01T20:48:15.003Z"
   },
   {
    "duration": 15,
    "start_time": "2021-10-01T20:48:15.015Z"
   },
   {
    "duration": 18,
    "start_time": "2021-10-01T20:48:15.032Z"
   },
   {
    "duration": 4,
    "start_time": "2021-10-01T20:48:15.052Z"
   },
   {
    "duration": 45,
    "start_time": "2021-10-01T20:48:15.058Z"
   },
   {
    "duration": 10,
    "start_time": "2021-10-01T20:48:15.105Z"
   },
   {
    "duration": 6,
    "start_time": "2021-10-01T20:48:15.116Z"
   },
   {
    "duration": 17,
    "start_time": "2021-10-01T20:48:15.124Z"
   },
   {
    "duration": 4,
    "start_time": "2021-10-01T20:48:15.142Z"
   },
   {
    "duration": 72,
    "start_time": "2021-10-01T20:48:15.148Z"
   },
   {
    "duration": 23,
    "start_time": "2021-10-01T20:48:15.222Z"
   },
   {
    "duration": 20,
    "start_time": "2021-10-01T20:48:15.246Z"
   },
   {
    "duration": 33,
    "start_time": "2021-10-01T20:48:15.270Z"
   },
   {
    "duration": 7,
    "start_time": "2021-10-01T20:48:15.305Z"
   },
   {
    "duration": 22,
    "start_time": "2021-10-01T20:48:15.314Z"
   },
   {
    "duration": 3,
    "start_time": "2021-10-01T20:48:15.337Z"
   },
   {
    "duration": 76,
    "start_time": "2021-10-01T20:48:15.342Z"
   },
   {
    "duration": 21,
    "start_time": "2021-10-01T20:48:15.419Z"
   },
   {
    "duration": 15,
    "start_time": "2021-10-01T20:48:15.442Z"
   },
   {
    "duration": 56,
    "start_time": "2021-10-01T20:48:15.459Z"
   },
   {
    "duration": 12,
    "start_time": "2021-10-01T20:48:15.517Z"
   },
   {
    "duration": 17,
    "start_time": "2021-10-01T20:48:15.531Z"
   },
   {
    "duration": 51,
    "start_time": "2021-10-01T20:48:15.549Z"
   },
   {
    "duration": 13,
    "start_time": "2021-10-01T20:48:15.602Z"
   },
   {
    "duration": 3,
    "start_time": "2021-10-01T20:48:15.616Z"
   },
   {
    "duration": 7,
    "start_time": "2021-10-01T20:48:15.620Z"
   },
   {
    "duration": 10,
    "start_time": "2021-10-01T20:48:15.628Z"
   },
   {
    "duration": 14,
    "start_time": "2021-10-01T20:48:15.639Z"
   },
   {
    "duration": 3,
    "start_time": "2021-10-01T20:48:15.654Z"
   },
   {
    "duration": 5,
    "start_time": "2021-10-01T20:48:15.658Z"
   },
   {
    "duration": 43,
    "start_time": "2021-10-01T20:48:15.664Z"
   },
   {
    "duration": 12,
    "start_time": "2021-10-01T20:48:15.709Z"
   },
   {
    "duration": 10,
    "start_time": "2021-10-01T20:48:15.723Z"
   },
   {
    "duration": 14,
    "start_time": "2021-10-01T20:48:15.734Z"
   },
   {
    "duration": 3,
    "start_time": "2021-10-01T20:48:36.217Z"
   },
   {
    "duration": 389,
    "start_time": "2021-10-01T20:48:36.221Z"
   },
   {
    "duration": 13,
    "start_time": "2021-10-01T20:48:36.612Z"
   },
   {
    "duration": 20,
    "start_time": "2021-10-01T20:48:36.626Z"
   },
   {
    "duration": 27,
    "start_time": "2021-10-01T20:48:36.648Z"
   },
   {
    "duration": 23,
    "start_time": "2021-10-01T20:48:36.677Z"
   },
   {
    "duration": 10,
    "start_time": "2021-10-01T20:48:36.702Z"
   },
   {
    "duration": 16,
    "start_time": "2021-10-01T20:48:36.714Z"
   },
   {
    "duration": 24,
    "start_time": "2021-10-01T20:48:36.732Z"
   },
   {
    "duration": 4,
    "start_time": "2021-10-01T20:48:36.758Z"
   },
   {
    "duration": 38,
    "start_time": "2021-10-01T20:48:36.763Z"
   },
   {
    "duration": 14,
    "start_time": "2021-10-01T20:48:36.803Z"
   },
   {
    "duration": 16,
    "start_time": "2021-10-01T20:48:36.818Z"
   },
   {
    "duration": 4,
    "start_time": "2021-10-01T20:48:36.835Z"
   },
   {
    "duration": 8,
    "start_time": "2021-10-01T20:48:36.841Z"
   },
   {
    "duration": 55,
    "start_time": "2021-10-01T20:48:36.850Z"
   },
   {
    "duration": 7,
    "start_time": "2021-10-01T20:48:36.907Z"
   },
   {
    "duration": 16,
    "start_time": "2021-10-01T20:48:36.915Z"
   },
   {
    "duration": 3,
    "start_time": "2021-10-01T20:48:36.933Z"
   },
   {
    "duration": 29,
    "start_time": "2021-10-01T20:48:36.938Z"
   },
   {
    "duration": 50,
    "start_time": "2021-10-01T20:48:36.969Z"
   },
   {
    "duration": 18,
    "start_time": "2021-10-01T20:48:37.020Z"
   },
   {
    "duration": 5,
    "start_time": "2021-10-01T20:48:37.039Z"
   },
   {
    "duration": 8,
    "start_time": "2021-10-01T20:48:37.045Z"
   },
   {
    "duration": 50,
    "start_time": "2021-10-01T20:48:37.054Z"
   },
   {
    "duration": 3,
    "start_time": "2021-10-01T20:48:37.105Z"
   },
   {
    "duration": 47,
    "start_time": "2021-10-01T20:48:37.111Z"
   },
   {
    "duration": 41,
    "start_time": "2021-10-01T20:48:37.159Z"
   },
   {
    "duration": 14,
    "start_time": "2021-10-01T20:48:37.202Z"
   },
   {
    "duration": 24,
    "start_time": "2021-10-01T20:48:37.218Z"
   },
   {
    "duration": 12,
    "start_time": "2021-10-01T20:48:37.243Z"
   },
   {
    "duration": 18,
    "start_time": "2021-10-01T20:48:40.078Z"
   },
   {
    "duration": 23,
    "start_time": "2021-10-01T20:48:40.097Z"
   },
   {
    "duration": 12,
    "start_time": "2021-10-01T20:48:40.122Z"
   },
   {
    "duration": 2,
    "start_time": "2021-10-01T20:48:40.136Z"
   },
   {
    "duration": 6,
    "start_time": "2021-10-01T20:48:40.140Z"
   },
   {
    "duration": 12,
    "start_time": "2021-10-01T20:48:40.147Z"
   },
   {
    "duration": 46,
    "start_time": "2021-10-01T20:48:40.161Z"
   },
   {
    "duration": 2,
    "start_time": "2021-10-01T20:48:40.208Z"
   },
   {
    "duration": 7,
    "start_time": "2021-10-01T20:48:40.213Z"
   },
   {
    "duration": 9,
    "start_time": "2021-10-01T20:48:40.222Z"
   },
   {
    "duration": 12,
    "start_time": "2021-10-01T20:48:40.232Z"
   },
   {
    "duration": 10,
    "start_time": "2021-10-01T20:48:40.246Z"
   },
   {
    "duration": 45,
    "start_time": "2021-10-01T20:48:40.257Z"
   },
   {
    "duration": 4,
    "start_time": "2021-10-01T20:50:25.749Z"
   },
   {
    "duration": 390,
    "start_time": "2021-10-01T20:50:25.754Z"
   },
   {
    "duration": 12,
    "start_time": "2021-10-01T20:50:26.146Z"
   },
   {
    "duration": 19,
    "start_time": "2021-10-01T20:50:26.160Z"
   },
   {
    "duration": 29,
    "start_time": "2021-10-01T20:50:26.181Z"
   },
   {
    "duration": 4,
    "start_time": "2021-10-01T20:50:26.212Z"
   },
   {
    "duration": 13,
    "start_time": "2021-10-01T20:50:26.217Z"
   },
   {
    "duration": 17,
    "start_time": "2021-10-01T20:50:26.231Z"
   },
   {
    "duration": 52,
    "start_time": "2021-10-01T20:50:26.251Z"
   },
   {
    "duration": 4,
    "start_time": "2021-10-01T20:50:26.305Z"
   },
   {
    "duration": 17,
    "start_time": "2021-10-01T20:50:26.311Z"
   },
   {
    "duration": 16,
    "start_time": "2021-10-01T20:50:26.330Z"
   },
   {
    "duration": 52,
    "start_time": "2021-10-01T20:50:26.348Z"
   },
   {
    "duration": 5,
    "start_time": "2021-10-01T20:50:26.402Z"
   },
   {
    "duration": 11,
    "start_time": "2021-10-01T20:50:26.409Z"
   },
   {
    "duration": 12,
    "start_time": "2021-10-01T20:50:26.422Z"
   },
   {
    "duration": 7,
    "start_time": "2021-10-01T20:50:26.436Z"
   },
   {
    "duration": 66,
    "start_time": "2021-10-01T20:50:26.445Z"
   },
   {
    "duration": 6,
    "start_time": "2021-10-01T20:50:26.513Z"
   },
   {
    "duration": 32,
    "start_time": "2021-10-01T20:50:26.521Z"
   },
   {
    "duration": 59,
    "start_time": "2021-10-01T20:50:26.555Z"
   },
   {
    "duration": 19,
    "start_time": "2021-10-01T20:50:26.616Z"
   },
   {
    "duration": 6,
    "start_time": "2021-10-01T20:50:26.637Z"
   },
   {
    "duration": 11,
    "start_time": "2021-10-01T20:50:26.644Z"
   },
   {
    "duration": 46,
    "start_time": "2021-10-01T20:50:26.656Z"
   },
   {
    "duration": 2,
    "start_time": "2021-10-01T20:50:26.704Z"
   },
   {
    "duration": 48,
    "start_time": "2021-10-01T20:50:26.710Z"
   },
   {
    "duration": 40,
    "start_time": "2021-10-01T20:50:26.760Z"
   },
   {
    "duration": 15,
    "start_time": "2021-10-01T20:50:26.802Z"
   },
   {
    "duration": 25,
    "start_time": "2021-10-01T20:50:26.818Z"
   },
   {
    "duration": 12,
    "start_time": "2021-10-01T20:50:26.845Z"
   },
   {
    "duration": 44,
    "start_time": "2021-10-01T20:50:26.859Z"
   },
   {
    "duration": 33,
    "start_time": "2021-10-01T20:50:26.905Z"
   },
   {
    "duration": 13,
    "start_time": "2021-10-01T20:50:26.940Z"
   },
   {
    "duration": 14,
    "start_time": "2021-10-01T20:50:26.954Z"
   },
   {
    "duration": 7,
    "start_time": "2021-10-01T20:50:26.970Z"
   },
   {
    "duration": 25,
    "start_time": "2021-10-01T20:50:26.979Z"
   },
   {
    "duration": 10,
    "start_time": "2021-10-01T20:50:27.006Z"
   },
   {
    "duration": 2,
    "start_time": "2021-10-01T20:50:27.017Z"
   },
   {
    "duration": 4,
    "start_time": "2021-10-01T20:50:27.021Z"
   },
   {
    "duration": 9,
    "start_time": "2021-10-01T20:50:27.026Z"
   },
   {
    "duration": 13,
    "start_time": "2021-10-01T20:50:27.036Z"
   },
   {
    "duration": 50,
    "start_time": "2021-10-01T20:50:27.050Z"
   },
   {
    "duration": 14,
    "start_time": "2021-10-01T20:50:27.102Z"
   },
   {
    "duration": 11,
    "start_time": "2021-10-01T20:50:42.490Z"
   },
   {
    "duration": 12,
    "start_time": "2021-10-01T20:50:46.257Z"
   },
   {
    "duration": 12,
    "start_time": "2021-10-01T20:51:01.299Z"
   },
   {
    "duration": 7,
    "start_time": "2021-10-01T20:55:55.326Z"
   },
   {
    "duration": 4,
    "start_time": "2021-10-01T21:01:15.607Z"
   },
   {
    "duration": 5,
    "start_time": "2021-10-01T21:01:33.405Z"
   },
   {
    "duration": 4,
    "start_time": "2021-10-01T21:04:32.771Z"
   },
   {
    "duration": 120,
    "start_time": "2021-10-01T21:04:39.902Z"
   },
   {
    "duration": 20,
    "start_time": "2021-10-01T21:04:47.464Z"
   },
   {
    "duration": 4,
    "start_time": "2021-10-01T21:06:13.716Z"
   },
   {
    "duration": 156,
    "start_time": "2021-10-01T21:06:14.660Z"
   },
   {
    "duration": 19,
    "start_time": "2021-10-01T21:06:15.579Z"
   },
   {
    "duration": 166,
    "start_time": "2021-10-01T21:06:34.139Z"
   },
   {
    "duration": 7,
    "start_time": "2021-10-01T21:06:42.349Z"
   },
   {
    "duration": 4,
    "start_time": "2021-10-01T21:09:19.034Z"
   },
   {
    "duration": 162,
    "start_time": "2021-10-01T21:09:23.486Z"
   },
   {
    "duration": 4,
    "start_time": "2021-10-01T21:11:27.825Z"
   },
   {
    "duration": 139,
    "start_time": "2021-10-01T21:11:28.845Z"
   },
   {
    "duration": 17,
    "start_time": "2021-10-01T21:11:33.199Z"
   },
   {
    "duration": 8,
    "start_time": "2021-10-01T21:12:10.523Z"
   },
   {
    "duration": 5,
    "start_time": "2021-10-01T21:15:44.137Z"
   },
   {
    "duration": 171,
    "start_time": "2021-10-01T21:15:44.863Z"
   },
   {
    "duration": 20,
    "start_time": "2021-10-01T21:15:48.376Z"
   },
   {
    "duration": 1120,
    "start_time": "2021-10-02T08:51:11.781Z"
   },
   {
    "duration": 408,
    "start_time": "2021-10-02T08:51:12.903Z"
   },
   {
    "duration": 15,
    "start_time": "2021-10-02T08:51:13.313Z"
   },
   {
    "duration": 19,
    "start_time": "2021-10-02T08:51:13.330Z"
   },
   {
    "duration": 30,
    "start_time": "2021-10-02T08:51:13.350Z"
   },
   {
    "duration": 4,
    "start_time": "2021-10-02T08:51:13.382Z"
   },
   {
    "duration": 14,
    "start_time": "2021-10-02T08:51:13.388Z"
   },
   {
    "duration": 49,
    "start_time": "2021-10-02T08:51:13.405Z"
   },
   {
    "duration": 25,
    "start_time": "2021-10-02T08:51:13.456Z"
   },
   {
    "duration": 4,
    "start_time": "2021-10-02T08:51:13.483Z"
   },
   {
    "duration": 13,
    "start_time": "2021-10-02T08:51:13.489Z"
   },
   {
    "duration": 48,
    "start_time": "2021-10-02T08:51:13.504Z"
   },
   {
    "duration": 17,
    "start_time": "2021-10-02T08:51:13.554Z"
   },
   {
    "duration": 5,
    "start_time": "2021-10-02T08:51:13.573Z"
   },
   {
    "duration": 10,
    "start_time": "2021-10-02T08:51:13.580Z"
   },
   {
    "duration": 53,
    "start_time": "2021-10-02T08:51:13.592Z"
   },
   {
    "duration": 7,
    "start_time": "2021-10-02T08:51:13.647Z"
   },
   {
    "duration": 17,
    "start_time": "2021-10-02T08:51:13.655Z"
   },
   {
    "duration": 4,
    "start_time": "2021-10-02T08:51:13.673Z"
   },
   {
    "duration": 36,
    "start_time": "2021-10-02T08:51:13.679Z"
   },
   {
    "duration": 47,
    "start_time": "2021-10-02T08:51:13.716Z"
   },
   {
    "duration": 18,
    "start_time": "2021-10-02T08:51:13.764Z"
   },
   {
    "duration": 5,
    "start_time": "2021-10-02T08:51:13.785Z"
   },
   {
    "duration": 15,
    "start_time": "2021-10-02T08:51:13.792Z"
   },
   {
    "duration": 45,
    "start_time": "2021-10-02T08:51:13.809Z"
   },
   {
    "duration": 3,
    "start_time": "2021-10-02T08:51:13.856Z"
   },
   {
    "duration": 68,
    "start_time": "2021-10-02T08:51:13.860Z"
   },
   {
    "duration": 25,
    "start_time": "2021-10-02T08:51:13.930Z"
   },
   {
    "duration": 14,
    "start_time": "2021-10-02T08:51:13.957Z"
   },
   {
    "duration": 28,
    "start_time": "2021-10-02T08:51:13.972Z"
   },
   {
    "duration": 12,
    "start_time": "2021-10-02T08:51:14.001Z"
   },
   {
    "duration": 41,
    "start_time": "2021-10-02T08:51:14.015Z"
   },
   {
    "duration": 36,
    "start_time": "2021-10-02T08:51:14.057Z"
   },
   {
    "duration": 13,
    "start_time": "2021-10-02T08:51:14.094Z"
   },
   {
    "duration": 3,
    "start_time": "2021-10-02T08:51:14.108Z"
   },
   {
    "duration": 34,
    "start_time": "2021-10-02T08:51:14.113Z"
   },
   {
    "duration": 11,
    "start_time": "2021-10-02T08:51:14.149Z"
   },
   {
    "duration": 10,
    "start_time": "2021-10-02T08:51:14.162Z"
   },
   {
    "duration": 11,
    "start_time": "2021-10-02T08:51:14.173Z"
   },
   {
    "duration": 8,
    "start_time": "2021-10-02T08:51:14.185Z"
   },
   {
    "duration": 183,
    "start_time": "2021-10-02T08:51:14.194Z"
   },
   {
    "duration": 4,
    "start_time": "2021-10-02T08:51:14.378Z"
   },
   {
    "duration": 15,
    "start_time": "2021-10-02T08:51:14.383Z"
   },
   {
    "duration": 19,
    "start_time": "2021-10-02T08:51:14.400Z"
   },
   {
    "duration": 22,
    "start_time": "2021-10-02T08:51:14.421Z"
   },
   {
    "duration": 147,
    "start_time": "2021-10-02T08:51:14.445Z"
   },
   {
    "duration": 9,
    "start_time": "2021-10-02T08:51:14.593Z"
   },
   {
    "duration": 20,
    "start_time": "2021-10-02T08:51:14.604Z"
   },
   {
    "duration": 13,
    "start_time": "2021-10-02T08:51:14.625Z"
   },
   {
    "duration": 159,
    "start_time": "2021-10-02T08:51:14.644Z"
   },
   {
    "duration": 354,
    "start_time": "2021-10-02T09:52:14.866Z"
   },
   {
    "duration": 3,
    "start_time": "2021-10-02T09:54:12.883Z"
   },
   {
    "duration": 404,
    "start_time": "2021-10-02T09:54:12.887Z"
   },
   {
    "duration": 11,
    "start_time": "2021-10-02T09:54:13.293Z"
   },
   {
    "duration": 33,
    "start_time": "2021-10-02T09:54:13.306Z"
   },
   {
    "duration": 40,
    "start_time": "2021-10-02T09:54:13.340Z"
   },
   {
    "duration": 3,
    "start_time": "2021-10-02T09:54:13.382Z"
   },
   {
    "duration": 38,
    "start_time": "2021-10-02T09:54:13.386Z"
   },
   {
    "duration": 40,
    "start_time": "2021-10-02T09:54:13.426Z"
   },
   {
    "duration": 29,
    "start_time": "2021-10-02T09:54:13.468Z"
   },
   {
    "duration": 5,
    "start_time": "2021-10-02T09:54:13.498Z"
   },
   {
    "duration": 31,
    "start_time": "2021-10-02T09:54:13.504Z"
   },
   {
    "duration": 24,
    "start_time": "2021-10-02T09:54:13.537Z"
   },
   {
    "duration": 38,
    "start_time": "2021-10-02T09:54:13.563Z"
   },
   {
    "duration": 26,
    "start_time": "2021-10-02T09:54:13.603Z"
   },
   {
    "duration": 27,
    "start_time": "2021-10-02T09:54:13.631Z"
   },
   {
    "duration": 32,
    "start_time": "2021-10-02T09:54:13.660Z"
   },
   {
    "duration": 25,
    "start_time": "2021-10-02T09:54:13.694Z"
   },
   {
    "duration": 30,
    "start_time": "2021-10-02T09:54:13.720Z"
   },
   {
    "duration": 21,
    "start_time": "2021-10-02T09:54:13.752Z"
   },
   {
    "duration": 39,
    "start_time": "2021-10-02T09:54:13.774Z"
   },
   {
    "duration": 41,
    "start_time": "2021-10-02T09:54:13.815Z"
   },
   {
    "duration": 19,
    "start_time": "2021-10-02T09:54:13.857Z"
   },
   {
    "duration": 8,
    "start_time": "2021-10-02T09:54:13.881Z"
   },
   {
    "duration": 16,
    "start_time": "2021-10-02T09:54:13.891Z"
   },
   {
    "duration": 34,
    "start_time": "2021-10-02T09:54:13.909Z"
   },
   {
    "duration": 2,
    "start_time": "2021-10-02T09:54:13.945Z"
   },
   {
    "duration": 57,
    "start_time": "2021-10-02T09:54:13.949Z"
   },
   {
    "duration": 17,
    "start_time": "2021-10-02T09:54:14.007Z"
   },
   {
    "duration": 43,
    "start_time": "2021-10-02T09:54:14.025Z"
   },
   {
    "duration": 36,
    "start_time": "2021-10-02T09:54:14.069Z"
   },
   {
    "duration": 12,
    "start_time": "2021-10-02T09:54:14.106Z"
   },
   {
    "duration": 41,
    "start_time": "2021-10-02T09:54:14.119Z"
   },
   {
    "duration": 44,
    "start_time": "2021-10-02T09:54:14.161Z"
   },
   {
    "duration": 11,
    "start_time": "2021-10-02T09:54:14.207Z"
   },
   {
    "duration": 15,
    "start_time": "2021-10-02T09:54:14.220Z"
   },
   {
    "duration": 24,
    "start_time": "2021-10-02T09:54:14.236Z"
   },
   {
    "duration": 23,
    "start_time": "2021-10-02T09:54:14.261Z"
   },
   {
    "duration": 34,
    "start_time": "2021-10-02T09:54:14.286Z"
   },
   {
    "duration": 31,
    "start_time": "2021-10-02T09:54:14.321Z"
   },
   {
    "duration": 25,
    "start_time": "2021-10-02T09:54:14.354Z"
   },
   {
    "duration": 175,
    "start_time": "2021-10-02T09:54:14.380Z"
   },
   {
    "duration": 8,
    "start_time": "2021-10-02T09:54:14.556Z"
   },
   {
    "duration": 27,
    "start_time": "2021-10-02T09:54:14.565Z"
   },
   {
    "duration": 17,
    "start_time": "2021-10-02T09:54:14.594Z"
   },
   {
    "duration": 162,
    "start_time": "2021-10-02T09:54:14.612Z"
   },
   {
    "duration": 10,
    "start_time": "2021-10-02T09:54:14.775Z"
   },
   {
    "duration": 21,
    "start_time": "2021-10-02T09:54:14.786Z"
   },
   {
    "duration": 7,
    "start_time": "2021-10-02T09:54:14.809Z"
   },
   {
    "duration": 173,
    "start_time": "2021-10-02T09:54:14.817Z"
   },
   {
    "duration": 20,
    "start_time": "2021-10-02T10:00:02.437Z"
   },
   {
    "duration": 14,
    "start_time": "2021-10-02T10:00:07.501Z"
   },
   {
    "duration": 14,
    "start_time": "2021-10-02T10:00:14.743Z"
   },
   {
    "duration": 13,
    "start_time": "2021-10-02T10:00:24.079Z"
   },
   {
    "duration": 5,
    "start_time": "2021-10-02T10:02:54.358Z"
   },
   {
    "duration": 5,
    "start_time": "2021-10-02T10:03:00.974Z"
   },
   {
    "duration": 13,
    "start_time": "2021-10-02T10:06:05.135Z"
   },
   {
    "duration": 12,
    "start_time": "2021-10-02T10:06:06.447Z"
   },
   {
    "duration": 15,
    "start_time": "2021-10-02T10:06:19.036Z"
   },
   {
    "duration": 42,
    "start_time": "2021-10-02T10:06:22.804Z"
   },
   {
    "duration": 3,
    "start_time": "2021-10-02T10:07:22.952Z"
   },
   {
    "duration": 404,
    "start_time": "2021-10-02T10:07:22.957Z"
   },
   {
    "duration": 12,
    "start_time": "2021-10-02T10:07:23.363Z"
   },
   {
    "duration": 18,
    "start_time": "2021-10-02T10:07:23.377Z"
   },
   {
    "duration": 25,
    "start_time": "2021-10-02T10:07:23.397Z"
   },
   {
    "duration": 4,
    "start_time": "2021-10-02T10:07:23.424Z"
   },
   {
    "duration": 11,
    "start_time": "2021-10-02T10:07:23.444Z"
   },
   {
    "duration": 18,
    "start_time": "2021-10-02T10:07:23.457Z"
   },
   {
    "duration": 23,
    "start_time": "2021-10-02T10:07:23.478Z"
   },
   {
    "duration": 4,
    "start_time": "2021-10-02T10:07:23.504Z"
   },
   {
    "duration": 42,
    "start_time": "2021-10-02T10:07:23.509Z"
   },
   {
    "duration": 13,
    "start_time": "2021-10-02T10:07:23.552Z"
   },
   {
    "duration": 15,
    "start_time": "2021-10-02T10:07:23.567Z"
   },
   {
    "duration": 4,
    "start_time": "2021-10-02T10:07:23.584Z"
   },
   {
    "duration": 9,
    "start_time": "2021-10-02T10:07:23.589Z"
   },
   {
    "duration": 51,
    "start_time": "2021-10-02T10:07:23.600Z"
   },
   {
    "duration": 7,
    "start_time": "2021-10-02T10:07:23.653Z"
   },
   {
    "duration": 16,
    "start_time": "2021-10-02T10:07:23.662Z"
   },
   {
    "duration": 4,
    "start_time": "2021-10-02T10:07:23.680Z"
   },
   {
    "duration": 61,
    "start_time": "2021-10-02T10:07:23.685Z"
   },
   {
    "duration": 25,
    "start_time": "2021-10-02T10:07:23.747Z"
   },
   {
    "duration": 19,
    "start_time": "2021-10-02T10:07:23.773Z"
   },
   {
    "duration": 6,
    "start_time": "2021-10-02T10:07:23.794Z"
   },
   {
    "duration": 8,
    "start_time": "2021-10-02T10:07:23.802Z"
   },
   {
    "duration": 53,
    "start_time": "2021-10-02T10:07:23.812Z"
   },
   {
    "duration": 4,
    "start_time": "2021-10-02T10:07:23.866Z"
   },
   {
    "duration": 69,
    "start_time": "2021-10-02T10:07:23.875Z"
   },
   {
    "duration": 19,
    "start_time": "2021-10-02T10:07:23.947Z"
   },
   {
    "duration": 13,
    "start_time": "2021-10-02T10:07:23.968Z"
   },
   {
    "duration": 24,
    "start_time": "2021-10-02T10:07:23.983Z"
   },
   {
    "duration": 42,
    "start_time": "2021-10-02T10:07:24.009Z"
   },
   {
    "duration": 16,
    "start_time": "2021-10-02T10:07:24.053Z"
   },
   {
    "duration": 29,
    "start_time": "2021-10-02T10:07:24.071Z"
   },
   {
    "duration": 11,
    "start_time": "2021-10-02T10:07:24.102Z"
   },
   {
    "duration": 3,
    "start_time": "2021-10-02T10:07:24.114Z"
   },
   {
    "duration": 29,
    "start_time": "2021-10-02T10:07:24.118Z"
   },
   {
    "duration": 10,
    "start_time": "2021-10-02T10:07:24.149Z"
   },
   {
    "duration": 15,
    "start_time": "2021-10-02T10:07:24.160Z"
   },
   {
    "duration": 10,
    "start_time": "2021-10-02T10:07:24.177Z"
   },
   {
    "duration": 3,
    "start_time": "2021-10-02T10:07:24.189Z"
   },
   {
    "duration": 185,
    "start_time": "2021-10-02T10:07:24.194Z"
   },
   {
    "duration": 7,
    "start_time": "2021-10-02T10:07:24.381Z"
   },
   {
    "duration": 11,
    "start_time": "2021-10-02T10:07:24.390Z"
   },
   {
    "duration": 4,
    "start_time": "2021-10-02T10:07:24.403Z"
   },
   {
    "duration": 157,
    "start_time": "2021-10-02T10:07:24.408Z"
   },
   {
    "duration": 9,
    "start_time": "2021-10-02T10:07:24.567Z"
   },
   {
    "duration": 12,
    "start_time": "2021-10-02T10:07:24.577Z"
   },
   {
    "duration": 5,
    "start_time": "2021-10-02T10:07:24.590Z"
   },
   {
    "duration": 174,
    "start_time": "2021-10-02T10:07:24.596Z"
   },
   {
    "duration": 12,
    "start_time": "2021-10-02T10:07:24.772Z"
   },
   {
    "duration": 14,
    "start_time": "2021-10-02T10:07:24.786Z"
   },
   {
    "duration": 16,
    "start_time": "2021-10-02T10:07:24.802Z"
   },
   {
    "duration": 34,
    "start_time": "2021-10-02T10:07:24.820Z"
   },
   {
    "duration": 2,
    "start_time": "2021-10-02T10:07:24.856Z"
   },
   {
    "duration": 37,
    "start_time": "2021-10-02T10:07:24.860Z"
   },
   {
    "duration": 4,
    "start_time": "2021-10-02T10:07:38.558Z"
   },
   {
    "duration": 4,
    "start_time": "2021-10-02T10:07:44.848Z"
   },
   {
    "duration": 10,
    "start_time": "2021-10-02T10:13:36.959Z"
   },
   {
    "duration": 12,
    "start_time": "2021-10-02T10:13:39.810Z"
   },
   {
    "duration": 3,
    "start_time": "2021-10-02T10:14:54.366Z"
   },
   {
    "duration": 481,
    "start_time": "2021-10-02T10:14:54.371Z"
   },
   {
    "duration": 12,
    "start_time": "2021-10-02T10:14:54.854Z"
   },
   {
    "duration": 20,
    "start_time": "2021-10-02T10:14:54.867Z"
   },
   {
    "duration": 27,
    "start_time": "2021-10-02T10:14:54.888Z"
   },
   {
    "duration": 4,
    "start_time": "2021-10-02T10:14:54.916Z"
   },
   {
    "duration": 13,
    "start_time": "2021-10-02T10:14:54.922Z"
   },
   {
    "duration": 17,
    "start_time": "2021-10-02T10:14:54.937Z"
   },
   {
    "duration": 26,
    "start_time": "2021-10-02T10:14:54.955Z"
   },
   {
    "duration": 4,
    "start_time": "2021-10-02T10:14:54.983Z"
   },
   {
    "duration": 11,
    "start_time": "2021-10-02T10:14:54.989Z"
   },
   {
    "duration": 14,
    "start_time": "2021-10-02T10:14:55.002Z"
   },
   {
    "duration": 27,
    "start_time": "2021-10-02T10:14:55.017Z"
   },
   {
    "duration": 4,
    "start_time": "2021-10-02T10:14:55.046Z"
   },
   {
    "duration": 10,
    "start_time": "2021-10-02T10:14:55.052Z"
   },
   {
    "duration": 17,
    "start_time": "2021-10-02T10:14:55.063Z"
   },
   {
    "duration": 15,
    "start_time": "2021-10-02T10:14:55.081Z"
   },
   {
    "duration": 20,
    "start_time": "2021-10-02T10:14:55.098Z"
   },
   {
    "duration": 4,
    "start_time": "2021-10-02T10:14:55.120Z"
   },
   {
    "duration": 39,
    "start_time": "2021-10-02T10:14:55.125Z"
   },
   {
    "duration": 22,
    "start_time": "2021-10-02T10:14:55.166Z"
   },
   {
    "duration": 19,
    "start_time": "2021-10-02T10:14:55.189Z"
   },
   {
    "duration": 6,
    "start_time": "2021-10-02T10:14:55.212Z"
   },
   {
    "duration": 15,
    "start_time": "2021-10-02T10:14:55.220Z"
   },
   {
    "duration": 31,
    "start_time": "2021-10-02T10:14:55.236Z"
   },
   {
    "duration": 3,
    "start_time": "2021-10-02T10:14:55.268Z"
   },
   {
    "duration": 63,
    "start_time": "2021-10-02T10:14:55.272Z"
   },
   {
    "duration": 17,
    "start_time": "2021-10-02T10:14:55.337Z"
   },
   {
    "duration": 20,
    "start_time": "2021-10-02T10:14:55.356Z"
   },
   {
    "duration": 25,
    "start_time": "2021-10-02T10:14:55.377Z"
   },
   {
    "duration": 11,
    "start_time": "2021-10-02T10:14:55.404Z"
   },
   {
    "duration": 37,
    "start_time": "2021-10-02T10:14:55.416Z"
   },
   {
    "duration": 32,
    "start_time": "2021-10-02T10:14:55.455Z"
   },
   {
    "duration": 11,
    "start_time": "2021-10-02T10:14:55.489Z"
   },
   {
    "duration": 7,
    "start_time": "2021-10-02T10:14:55.501Z"
   },
   {
    "duration": 15,
    "start_time": "2021-10-02T10:14:55.509Z"
   },
   {
    "duration": 17,
    "start_time": "2021-10-02T10:14:55.526Z"
   },
   {
    "duration": 8,
    "start_time": "2021-10-02T10:14:55.545Z"
   },
   {
    "duration": 10,
    "start_time": "2021-10-02T10:14:55.555Z"
   },
   {
    "duration": 4,
    "start_time": "2021-10-02T10:14:55.567Z"
   },
   {
    "duration": 214,
    "start_time": "2021-10-02T10:14:55.572Z"
   },
   {
    "duration": 7,
    "start_time": "2021-10-02T10:14:55.788Z"
   },
   {
    "duration": 17,
    "start_time": "2021-10-02T10:14:55.796Z"
   },
   {
    "duration": 4,
    "start_time": "2021-10-02T10:14:55.814Z"
   },
   {
    "duration": 254,
    "start_time": "2021-10-02T10:14:55.819Z"
   },
   {
    "duration": 9,
    "start_time": "2021-10-02T10:14:56.075Z"
   },
   {
    "duration": 63,
    "start_time": "2021-10-02T10:14:56.086Z"
   },
   {
    "duration": 10,
    "start_time": "2021-10-02T10:14:56.151Z"
   },
   {
    "duration": 223,
    "start_time": "2021-10-02T10:14:56.162Z"
   },
   {
    "duration": 11,
    "start_time": "2021-10-02T10:14:56.386Z"
   },
   {
    "duration": 11,
    "start_time": "2021-10-02T10:14:56.398Z"
   },
   {
    "duration": 34,
    "start_time": "2021-10-02T10:14:56.410Z"
   },
   {
    "duration": 258,
    "start_time": "2021-10-02T10:14:56.446Z"
   },
   {
    "duration": -47,
    "start_time": "2021-10-02T10:14:56.753Z"
   },
   {
    "duration": -48,
    "start_time": "2021-10-02T10:14:56.755Z"
   },
   {
    "duration": 279,
    "start_time": "2021-10-02T10:15:55.570Z"
   },
   {
    "duration": 3,
    "start_time": "2021-10-02T10:16:03.784Z"
   },
   {
    "duration": 408,
    "start_time": "2021-10-02T10:16:03.793Z"
   },
   {
    "duration": 13,
    "start_time": "2021-10-02T10:16:04.203Z"
   },
   {
    "duration": 21,
    "start_time": "2021-10-02T10:16:04.218Z"
   },
   {
    "duration": 32,
    "start_time": "2021-10-02T10:16:04.242Z"
   },
   {
    "duration": 4,
    "start_time": "2021-10-02T10:16:04.276Z"
   },
   {
    "duration": 13,
    "start_time": "2021-10-02T10:16:04.281Z"
   },
   {
    "duration": 16,
    "start_time": "2021-10-02T10:16:04.296Z"
   },
   {
    "duration": 54,
    "start_time": "2021-10-02T10:16:04.314Z"
   },
   {
    "duration": 4,
    "start_time": "2021-10-02T10:16:04.371Z"
   },
   {
    "duration": 11,
    "start_time": "2021-10-02T10:16:04.377Z"
   },
   {
    "duration": 14,
    "start_time": "2021-10-02T10:16:04.390Z"
   },
   {
    "duration": 54,
    "start_time": "2021-10-02T10:16:04.406Z"
   },
   {
    "duration": 5,
    "start_time": "2021-10-02T10:16:04.462Z"
   },
   {
    "duration": 9,
    "start_time": "2021-10-02T10:16:04.469Z"
   },
   {
    "duration": 12,
    "start_time": "2021-10-02T10:16:04.480Z"
   },
   {
    "duration": 7,
    "start_time": "2021-10-02T10:16:04.494Z"
   },
   {
    "duration": 16,
    "start_time": "2021-10-02T10:16:04.544Z"
   },
   {
    "duration": 7,
    "start_time": "2021-10-02T10:16:04.562Z"
   },
   {
    "duration": 31,
    "start_time": "2021-10-02T10:16:04.570Z"
   },
   {
    "duration": 47,
    "start_time": "2021-10-02T10:16:04.603Z"
   },
   {
    "duration": 17,
    "start_time": "2021-10-02T10:16:04.652Z"
   },
   {
    "duration": 5,
    "start_time": "2021-10-02T10:16:04.670Z"
   },
   {
    "duration": 7,
    "start_time": "2021-10-02T10:16:04.677Z"
   },
   {
    "duration": 21,
    "start_time": "2021-10-02T10:16:04.686Z"
   },
   {
    "duration": 3,
    "start_time": "2021-10-02T10:16:04.708Z"
   },
   {
    "duration": 75,
    "start_time": "2021-10-02T10:16:04.712Z"
   },
   {
    "duration": 17,
    "start_time": "2021-10-02T10:16:04.791Z"
   },
   {
    "duration": 40,
    "start_time": "2021-10-02T10:16:04.811Z"
   },
   {
    "duration": 27,
    "start_time": "2021-10-02T10:16:04.852Z"
   },
   {
    "duration": 12,
    "start_time": "2021-10-02T10:16:04.881Z"
   },
   {
    "duration": 17,
    "start_time": "2021-10-02T10:16:04.895Z"
   },
   {
    "duration": 60,
    "start_time": "2021-10-02T10:16:04.913Z"
   },
   {
    "duration": 11,
    "start_time": "2021-10-02T10:16:04.974Z"
   },
   {
    "duration": 4,
    "start_time": "2021-10-02T10:16:04.987Z"
   },
   {
    "duration": 16,
    "start_time": "2021-10-02T10:16:04.992Z"
   },
   {
    "duration": 20,
    "start_time": "2021-10-02T10:16:05.009Z"
   },
   {
    "duration": 13,
    "start_time": "2021-10-02T10:16:05.044Z"
   },
   {
    "duration": 31,
    "start_time": "2021-10-02T10:16:05.059Z"
   },
   {
    "duration": 18,
    "start_time": "2021-10-02T10:16:05.091Z"
   },
   {
    "duration": 160,
    "start_time": "2021-10-02T10:16:05.110Z"
   },
   {
    "duration": 7,
    "start_time": "2021-10-02T10:16:05.272Z"
   },
   {
    "duration": 14,
    "start_time": "2021-10-02T10:16:05.281Z"
   },
   {
    "duration": 4,
    "start_time": "2021-10-02T10:16:05.296Z"
   },
   {
    "duration": 155,
    "start_time": "2021-10-02T10:16:05.302Z"
   },
   {
    "duration": 10,
    "start_time": "2021-10-02T10:16:05.458Z"
   },
   {
    "duration": 16,
    "start_time": "2021-10-02T10:16:05.469Z"
   },
   {
    "duration": 7,
    "start_time": "2021-10-02T10:16:05.487Z"
   },
   {
    "duration": 227,
    "start_time": "2021-10-02T10:16:05.495Z"
   },
   {
    "duration": 12,
    "start_time": "2021-10-02T10:16:05.723Z"
   },
   {
    "duration": 21,
    "start_time": "2021-10-02T10:16:05.737Z"
   },
   {
    "duration": 14,
    "start_time": "2021-10-02T10:16:05.760Z"
   },
   {
    "duration": 262,
    "start_time": "2021-10-02T10:16:05.776Z"
   },
   {
    "duration": -60,
    "start_time": "2021-10-02T10:16:06.099Z"
   },
   {
    "duration": -63,
    "start_time": "2021-10-02T10:16:06.103Z"
   },
   {
    "duration": 13,
    "start_time": "2021-10-02T10:16:21.414Z"
   },
   {
    "duration": 23,
    "start_time": "2021-10-02T10:16:25.020Z"
   },
   {
    "duration": 15,
    "start_time": "2021-10-02T10:16:48.429Z"
   },
   {
    "duration": 13,
    "start_time": "2021-10-02T10:17:41.848Z"
   },
   {
    "duration": 12,
    "start_time": "2021-10-02T10:43:51.320Z"
   },
   {
    "duration": 15,
    "start_time": "2021-10-02T10:43:56.089Z"
   },
   {
    "duration": 14,
    "start_time": "2021-10-02T10:43:58.489Z"
   },
   {
    "duration": 23,
    "start_time": "2021-10-02T10:44:21.351Z"
   },
   {
    "duration": 16,
    "start_time": "2021-10-02T10:54:50.061Z"
   },
   {
    "duration": 2,
    "start_time": "2021-10-02T10:54:54.054Z"
   },
   {
    "duration": 383,
    "start_time": "2021-10-02T10:54:54.058Z"
   },
   {
    "duration": 11,
    "start_time": "2021-10-02T10:54:54.443Z"
   },
   {
    "duration": 21,
    "start_time": "2021-10-02T10:54:54.456Z"
   },
   {
    "duration": 28,
    "start_time": "2021-10-02T10:54:54.479Z"
   },
   {
    "duration": 4,
    "start_time": "2021-10-02T10:54:54.509Z"
   },
   {
    "duration": 36,
    "start_time": "2021-10-02T10:54:54.516Z"
   },
   {
    "duration": 21,
    "start_time": "2021-10-02T10:54:54.554Z"
   },
   {
    "duration": 30,
    "start_time": "2021-10-02T10:54:54.577Z"
   },
   {
    "duration": 37,
    "start_time": "2021-10-02T10:54:54.609Z"
   },
   {
    "duration": 13,
    "start_time": "2021-10-02T10:54:54.648Z"
   },
   {
    "duration": 19,
    "start_time": "2021-10-02T10:54:54.663Z"
   },
   {
    "duration": 19,
    "start_time": "2021-10-02T10:54:54.684Z"
   },
   {
    "duration": 40,
    "start_time": "2021-10-02T10:54:54.705Z"
   },
   {
    "duration": 10,
    "start_time": "2021-10-02T10:54:54.747Z"
   },
   {
    "duration": 11,
    "start_time": "2021-10-02T10:54:54.758Z"
   },
   {
    "duration": 7,
    "start_time": "2021-10-02T10:54:54.770Z"
   },
   {
    "duration": 29,
    "start_time": "2021-10-02T10:54:54.778Z"
   },
   {
    "duration": 5,
    "start_time": "2021-10-02T10:54:54.810Z"
   },
   {
    "duration": 29,
    "start_time": "2021-10-02T10:54:54.817Z"
   },
   {
    "duration": 23,
    "start_time": "2021-10-02T10:54:54.848Z"
   },
   {
    "duration": 17,
    "start_time": "2021-10-02T10:54:54.872Z"
   },
   {
    "duration": 5,
    "start_time": "2021-10-02T10:54:54.891Z"
   },
   {
    "duration": 9,
    "start_time": "2021-10-02T10:54:54.897Z"
   },
   {
    "duration": 21,
    "start_time": "2021-10-02T10:54:54.907Z"
   },
   {
    "duration": 2,
    "start_time": "2021-10-02T10:54:54.930Z"
   },
   {
    "duration": 50,
    "start_time": "2021-10-02T10:54:54.934Z"
   },
   {
    "duration": 16,
    "start_time": "2021-10-02T10:54:54.986Z"
   },
   {
    "duration": 14,
    "start_time": "2021-10-02T10:54:55.004Z"
   },
   {
    "duration": 28,
    "start_time": "2021-10-02T10:54:55.020Z"
   },
   {
    "duration": 10,
    "start_time": "2021-10-02T10:54:55.050Z"
   },
   {
    "duration": 19,
    "start_time": "2021-10-02T10:54:55.062Z"
   },
   {
    "duration": 30,
    "start_time": "2021-10-02T10:54:55.082Z"
   },
   {
    "duration": 10,
    "start_time": "2021-10-02T10:54:55.114Z"
   },
   {
    "duration": 2,
    "start_time": "2021-10-02T10:54:55.126Z"
   },
   {
    "duration": 16,
    "start_time": "2021-10-02T10:54:55.129Z"
   },
   {
    "duration": 10,
    "start_time": "2021-10-02T10:54:55.146Z"
   },
   {
    "duration": 9,
    "start_time": "2021-10-02T10:54:55.157Z"
   },
   {
    "duration": 11,
    "start_time": "2021-10-02T10:54:55.167Z"
   },
   {
    "duration": 6,
    "start_time": "2021-10-02T10:54:55.179Z"
   },
   {
    "duration": 163,
    "start_time": "2021-10-02T10:54:55.186Z"
   },
   {
    "duration": 7,
    "start_time": "2021-10-02T10:54:55.351Z"
   },
   {
    "duration": 11,
    "start_time": "2021-10-02T10:54:55.359Z"
   },
   {
    "duration": 4,
    "start_time": "2021-10-02T10:54:55.371Z"
   },
   {
    "duration": 143,
    "start_time": "2021-10-02T10:54:55.376Z"
   },
   {
    "duration": 23,
    "start_time": "2021-10-02T10:54:55.521Z"
   },
   {
    "duration": 10,
    "start_time": "2021-10-02T10:54:55.546Z"
   },
   {
    "duration": 5,
    "start_time": "2021-10-02T10:54:55.557Z"
   },
   {
    "duration": 248,
    "start_time": "2021-10-02T10:54:55.564Z"
   },
   {
    "duration": 13,
    "start_time": "2021-10-02T10:54:55.814Z"
   },
   {
    "duration": 16,
    "start_time": "2021-10-02T10:54:55.829Z"
   },
   {
    "duration": 11,
    "start_time": "2021-10-02T10:54:55.846Z"
   },
   {
    "duration": 9,
    "start_time": "2021-10-02T10:54:55.859Z"
   },
   {
    "duration": 9,
    "start_time": "2021-10-02T10:54:55.870Z"
   },
   {
    "duration": 17,
    "start_time": "2021-10-02T10:54:55.882Z"
   },
   {
    "duration": 2,
    "start_time": "2021-10-02T11:09:14.219Z"
   },
   {
    "duration": 6,
    "start_time": "2021-10-02T11:16:21.639Z"
   },
   {
    "duration": 5,
    "start_time": "2021-10-02T11:16:42.241Z"
   },
   {
    "duration": 4,
    "start_time": "2021-10-02T11:16:52.572Z"
   },
   {
    "duration": 255,
    "start_time": "2021-10-02T11:18:29.756Z"
   },
   {
    "duration": 16,
    "start_time": "2021-10-02T11:18:34.521Z"
   },
   {
    "duration": 16,
    "start_time": "2021-10-02T11:19:15.837Z"
   },
   {
    "duration": 16,
    "start_time": "2021-10-02T11:19:23.684Z"
   },
   {
    "duration": 17,
    "start_time": "2021-10-02T11:19:31.337Z"
   },
   {
    "duration": 17,
    "start_time": "2021-10-02T11:19:42.882Z"
   },
   {
    "duration": 20,
    "start_time": "2021-10-02T11:59:06.852Z"
   },
   {
    "duration": 321,
    "start_time": "2021-10-02T12:00:30.952Z"
   },
   {
    "duration": 7,
    "start_time": "2021-10-02T12:00:36.818Z"
   },
   {
    "duration": 5,
    "start_time": "2021-10-02T12:00:47.655Z"
   },
   {
    "duration": 20,
    "start_time": "2021-10-02T12:01:00.484Z"
   },
   {
    "duration": 5,
    "start_time": "2021-10-02T12:03:13.516Z"
   },
   {
    "duration": 24,
    "start_time": "2021-10-02T12:03:41.162Z"
   },
   {
    "duration": 17,
    "start_time": "2021-10-02T12:09:46.746Z"
   },
   {
    "duration": 1488,
    "start_time": "2021-10-04T08:18:07.824Z"
   },
   {
    "duration": 600,
    "start_time": "2021-10-04T08:18:09.315Z"
   },
   {
    "duration": 25,
    "start_time": "2021-10-04T08:18:09.918Z"
   },
   {
    "duration": 37,
    "start_time": "2021-10-04T08:18:09.946Z"
   },
   {
    "duration": 51,
    "start_time": "2021-10-04T08:18:09.987Z"
   },
   {
    "duration": 6,
    "start_time": "2021-10-04T08:18:10.041Z"
   },
   {
    "duration": 37,
    "start_time": "2021-10-04T08:18:10.049Z"
   },
   {
    "duration": 23,
    "start_time": "2021-10-04T08:18:10.090Z"
   },
   {
    "duration": 76,
    "start_time": "2021-10-04T08:18:10.117Z"
   },
   {
    "duration": 5,
    "start_time": "2021-10-04T08:18:10.197Z"
   },
   {
    "duration": 25,
    "start_time": "2021-10-04T08:18:10.205Z"
   },
   {
    "duration": 59,
    "start_time": "2021-10-04T08:18:10.232Z"
   },
   {
    "duration": 27,
    "start_time": "2021-10-04T08:18:10.294Z"
   },
   {
    "duration": 7,
    "start_time": "2021-10-04T08:18:10.323Z"
   },
   {
    "duration": 47,
    "start_time": "2021-10-04T08:18:10.332Z"
   },
   {
    "duration": 26,
    "start_time": "2021-10-04T08:18:10.381Z"
   },
   {
    "duration": 24,
    "start_time": "2021-10-04T08:18:10.409Z"
   },
   {
    "duration": 57,
    "start_time": "2021-10-04T08:18:10.435Z"
   },
   {
    "duration": 13,
    "start_time": "2021-10-04T08:18:10.495Z"
   },
   {
    "duration": 93,
    "start_time": "2021-10-04T08:18:10.511Z"
   },
   {
    "duration": 38,
    "start_time": "2021-10-04T08:18:10.606Z"
   },
   {
    "duration": 36,
    "start_time": "2021-10-04T08:18:10.647Z"
   },
   {
    "duration": 12,
    "start_time": "2021-10-04T08:18:10.687Z"
   },
   {
    "duration": 20,
    "start_time": "2021-10-04T08:18:10.701Z"
   },
   {
    "duration": 58,
    "start_time": "2021-10-04T08:18:10.724Z"
   },
   {
    "duration": 6,
    "start_time": "2021-10-04T08:18:10.784Z"
   },
   {
    "duration": 100,
    "start_time": "2021-10-04T08:18:10.796Z"
   },
   {
    "duration": 30,
    "start_time": "2021-10-04T08:18:10.899Z"
   },
   {
    "duration": 45,
    "start_time": "2021-10-04T08:18:10.931Z"
   },
   {
    "duration": 52,
    "start_time": "2021-10-04T08:18:10.982Z"
   },
   {
    "duration": 39,
    "start_time": "2021-10-04T08:18:11.036Z"
   },
   {
    "duration": 28,
    "start_time": "2021-10-04T08:18:11.078Z"
   },
   {
    "duration": 106,
    "start_time": "2021-10-04T08:18:11.108Z"
   },
   {
    "duration": 25,
    "start_time": "2021-10-04T08:18:11.217Z"
   },
   {
    "duration": 10,
    "start_time": "2021-10-04T08:18:11.261Z"
   },
   {
    "duration": 18,
    "start_time": "2021-10-04T08:18:11.277Z"
   },
   {
    "duration": 27,
    "start_time": "2021-10-04T08:18:11.298Z"
   },
   {
    "duration": 17,
    "start_time": "2021-10-04T08:18:11.327Z"
   },
   {
    "duration": 41,
    "start_time": "2021-10-04T08:18:11.347Z"
   },
   {
    "duration": 7,
    "start_time": "2021-10-04T08:18:11.391Z"
   },
   {
    "duration": 366,
    "start_time": "2021-10-04T08:18:11.401Z"
   },
   {
    "duration": 14,
    "start_time": "2021-10-04T08:18:11.769Z"
   },
   {
    "duration": 24,
    "start_time": "2021-10-04T08:18:11.785Z"
   },
   {
    "duration": 8,
    "start_time": "2021-10-04T08:18:11.812Z"
   },
   {
    "duration": 327,
    "start_time": "2021-10-04T08:18:11.822Z"
   },
   {
    "duration": 20,
    "start_time": "2021-10-04T08:18:12.151Z"
   },
   {
    "duration": 23,
    "start_time": "2021-10-04T08:18:12.178Z"
   },
   {
    "duration": 6,
    "start_time": "2021-10-04T08:18:12.203Z"
   },
   {
    "duration": 364,
    "start_time": "2021-10-04T08:18:12.211Z"
   },
   {
    "duration": 27,
    "start_time": "2021-10-04T08:18:12.577Z"
   },
   {
    "duration": 38,
    "start_time": "2021-10-04T08:18:12.606Z"
   },
   {
    "duration": 41,
    "start_time": "2021-10-04T08:18:12.647Z"
   },
   {
    "duration": 29,
    "start_time": "2021-10-04T08:18:12.691Z"
   },
   {
    "duration": 24,
    "start_time": "2021-10-04T08:18:12.723Z"
   },
   {
    "duration": 17,
    "start_time": "2021-10-04T08:18:12.749Z"
   },
   {
    "duration": 32,
    "start_time": "2021-10-04T08:18:12.772Z"
   },
   {
    "duration": 18,
    "start_time": "2021-10-04T08:18:12.807Z"
   },
   {
    "duration": 61,
    "start_time": "2021-10-04T08:18:12.828Z"
   },
   {
    "duration": 33,
    "start_time": "2021-10-04T08:18:12.892Z"
   },
   {
    "duration": 68,
    "start_time": "2021-10-04T08:18:12.927Z"
   },
   {
    "duration": 22,
    "start_time": "2021-10-04T08:18:12.997Z"
   },
   {
    "duration": 8,
    "start_time": "2021-10-04T08:18:13.021Z"
   },
   {
    "duration": 65,
    "start_time": "2021-10-04T08:18:13.031Z"
   },
   {
    "duration": 40,
    "start_time": "2021-10-04T08:18:13.099Z"
   },
   {
    "duration": 38,
    "start_time": "2021-10-04T08:18:13.161Z"
   },
   {
    "duration": 7,
    "start_time": "2021-10-04T08:39:45.980Z"
   },
   {
    "duration": 4,
    "start_time": "2021-10-04T09:12:10.733Z"
   },
   {
    "duration": 562,
    "start_time": "2021-10-04T09:12:10.740Z"
   },
   {
    "duration": 20,
    "start_time": "2021-10-04T09:12:11.306Z"
   },
   {
    "duration": 38,
    "start_time": "2021-10-04T09:12:11.330Z"
   },
   {
    "duration": 43,
    "start_time": "2021-10-04T09:12:11.372Z"
   },
   {
    "duration": 6,
    "start_time": "2021-10-04T09:12:11.418Z"
   },
   {
    "duration": 45,
    "start_time": "2021-10-04T09:12:11.426Z"
   },
   {
    "duration": 36,
    "start_time": "2021-10-04T09:12:11.474Z"
   },
   {
    "duration": 69,
    "start_time": "2021-10-04T09:12:11.512Z"
   },
   {
    "duration": 6,
    "start_time": "2021-10-04T09:12:11.584Z"
   },
   {
    "duration": 18,
    "start_time": "2021-10-04T09:12:11.592Z"
   },
   {
    "duration": 50,
    "start_time": "2021-10-04T09:12:11.613Z"
   },
   {
    "duration": 28,
    "start_time": "2021-10-04T09:12:11.665Z"
   },
   {
    "duration": 6,
    "start_time": "2021-10-04T09:12:11.695Z"
   },
   {
    "duration": 14,
    "start_time": "2021-10-04T09:12:11.703Z"
   },
   {
    "duration": 56,
    "start_time": "2021-10-04T09:12:11.719Z"
   },
   {
    "duration": 27,
    "start_time": "2021-10-04T09:12:11.778Z"
   },
   {
    "duration": 26,
    "start_time": "2021-10-04T09:12:11.808Z"
   },
   {
    "duration": 29,
    "start_time": "2021-10-04T09:12:11.836Z"
   },
   {
    "duration": 46,
    "start_time": "2021-10-04T09:12:11.867Z"
   },
   {
    "duration": 65,
    "start_time": "2021-10-04T09:12:11.915Z"
   },
   {
    "duration": 26,
    "start_time": "2021-10-04T09:12:11.982Z"
   },
   {
    "duration": 8,
    "start_time": "2021-10-04T09:12:12.013Z"
   },
   {
    "duration": 39,
    "start_time": "2021-10-04T09:12:12.025Z"
   },
   {
    "duration": 32,
    "start_time": "2021-10-04T09:12:12.067Z"
   },
   {
    "duration": 4,
    "start_time": "2021-10-04T09:12:12.101Z"
   },
   {
    "duration": 106,
    "start_time": "2021-10-04T09:12:12.107Z"
   },
   {
    "duration": 28,
    "start_time": "2021-10-04T09:12:12.215Z"
   },
   {
    "duration": 31,
    "start_time": "2021-10-04T09:12:12.245Z"
   },
   {
    "duration": 36,
    "start_time": "2021-10-04T09:12:12.279Z"
   },
   {
    "duration": 53,
    "start_time": "2021-10-04T09:12:12.317Z"
   },
   {
    "duration": 24,
    "start_time": "2021-10-04T09:12:12.373Z"
   },
   {
    "duration": 71,
    "start_time": "2021-10-04T09:12:12.399Z"
   },
   {
    "duration": 17,
    "start_time": "2021-10-04T09:12:12.473Z"
   },
   {
    "duration": 4,
    "start_time": "2021-10-04T09:12:12.492Z"
   },
   {
    "duration": 11,
    "start_time": "2021-10-04T09:12:12.498Z"
   },
   {
    "duration": 52,
    "start_time": "2021-10-04T09:12:12.511Z"
   },
   {
    "duration": 16,
    "start_time": "2021-10-04T09:12:12.566Z"
   },
   {
    "duration": 17,
    "start_time": "2021-10-04T09:12:12.585Z"
   },
   {
    "duration": 14,
    "start_time": "2021-10-04T09:12:12.604Z"
   },
   {
    "duration": 330,
    "start_time": "2021-10-04T09:12:12.621Z"
   },
   {
    "duration": 14,
    "start_time": "2021-10-04T09:12:12.954Z"
   },
   {
    "duration": 18,
    "start_time": "2021-10-04T09:12:12.970Z"
   },
   {
    "duration": 6,
    "start_time": "2021-10-04T09:12:12.990Z"
   },
   {
    "duration": 302,
    "start_time": "2021-10-04T09:12:12.998Z"
   },
   {
    "duration": 16,
    "start_time": "2021-10-04T09:12:13.302Z"
   },
   {
    "duration": 41,
    "start_time": "2021-10-04T09:12:13.320Z"
   },
   {
    "duration": 7,
    "start_time": "2021-10-04T09:12:13.364Z"
   },
   {
    "duration": 364,
    "start_time": "2021-10-04T09:12:13.373Z"
   },
   {
    "duration": 31,
    "start_time": "2021-10-04T09:12:13.740Z"
   },
   {
    "duration": 20,
    "start_time": "2021-10-04T09:12:13.774Z"
   },
   {
    "duration": 23,
    "start_time": "2021-10-04T09:12:13.796Z"
   },
   {
    "duration": 54,
    "start_time": "2021-10-04T09:12:13.821Z"
   },
   {
    "duration": 52,
    "start_time": "2021-10-04T09:12:13.877Z"
   },
   {
    "duration": 108,
    "start_time": "2021-10-04T09:12:13.931Z"
   },
   {
    "duration": 44,
    "start_time": "2021-10-04T09:12:14.042Z"
   },
   {
    "duration": 8,
    "start_time": "2021-10-04T09:12:14.088Z"
   },
   {
    "duration": 69,
    "start_time": "2021-10-04T09:12:14.098Z"
   },
   {
    "duration": 46,
    "start_time": "2021-10-04T09:12:14.169Z"
   },
   {
    "duration": 75,
    "start_time": "2021-10-04T09:12:14.217Z"
   },
   {
    "duration": 213,
    "start_time": "2021-10-04T09:12:14.295Z"
   },
   {
    "duration": 14,
    "start_time": "2021-10-04T09:12:14.511Z"
   },
   {
    "duration": 64,
    "start_time": "2021-10-04T09:12:14.527Z"
   },
   {
    "duration": 43,
    "start_time": "2021-10-04T09:12:14.593Z"
   },
   {
    "duration": 50,
    "start_time": "2021-10-04T09:12:14.663Z"
   },
   {
    "duration": 23,
    "start_time": "2021-10-04T09:15:30.312Z"
   },
   {
    "duration": 21,
    "start_time": "2021-10-04T09:19:13.757Z"
   },
   {
    "duration": 23,
    "start_time": "2021-10-04T09:19:23.802Z"
   },
   {
    "duration": 10,
    "start_time": "2021-10-04T09:19:43.046Z"
   },
   {
    "duration": 10,
    "start_time": "2021-10-04T09:19:54.120Z"
   },
   {
    "duration": 10,
    "start_time": "2021-10-04T10:20:47.825Z"
   },
   {
    "duration": 12,
    "start_time": "2021-10-04T10:22:50.837Z"
   },
   {
    "duration": 60,
    "start_time": "2021-10-04T10:23:25.887Z"
   },
   {
    "duration": 4,
    "start_time": "2021-10-04T10:35:33.926Z"
   },
   {
    "duration": 687,
    "start_time": "2021-10-04T10:35:33.932Z"
   },
   {
    "duration": 25,
    "start_time": "2021-10-04T10:35:34.623Z"
   },
   {
    "duration": 38,
    "start_time": "2021-10-04T10:35:34.652Z"
   },
   {
    "duration": 47,
    "start_time": "2021-10-04T10:35:34.692Z"
   },
   {
    "duration": 23,
    "start_time": "2021-10-04T10:35:34.741Z"
   },
   {
    "duration": 33,
    "start_time": "2021-10-04T10:35:34.766Z"
   },
   {
    "duration": 42,
    "start_time": "2021-10-04T10:35:34.803Z"
   },
   {
    "duration": 44,
    "start_time": "2021-10-04T10:35:34.848Z"
   },
   {
    "duration": 5,
    "start_time": "2021-10-04T10:35:34.895Z"
   },
   {
    "duration": 27,
    "start_time": "2021-10-04T10:35:34.902Z"
   },
   {
    "duration": 44,
    "start_time": "2021-10-04T10:35:34.931Z"
   },
   {
    "duration": 50,
    "start_time": "2021-10-04T10:35:34.977Z"
   },
   {
    "duration": 7,
    "start_time": "2021-10-04T10:35:35.029Z"
   },
   {
    "duration": 26,
    "start_time": "2021-10-04T10:35:35.039Z"
   },
   {
    "duration": 23,
    "start_time": "2021-10-04T10:35:35.068Z"
   },
   {
    "duration": 20,
    "start_time": "2021-10-04T10:35:35.094Z"
   },
   {
    "duration": 60,
    "start_time": "2021-10-04T10:35:35.117Z"
   },
   {
    "duration": 6,
    "start_time": "2021-10-04T10:35:35.180Z"
   },
   {
    "duration": 76,
    "start_time": "2021-10-04T10:35:35.189Z"
   },
   {
    "duration": 35,
    "start_time": "2021-10-04T10:35:35.267Z"
   },
   {
    "duration": 31,
    "start_time": "2021-10-04T10:35:35.304Z"
   },
   {
    "duration": 9,
    "start_time": "2021-10-04T10:35:35.369Z"
   },
   {
    "duration": 25,
    "start_time": "2021-10-04T10:35:35.382Z"
   },
   {
    "duration": 57,
    "start_time": "2021-10-04T10:35:35.409Z"
   },
   {
    "duration": 3,
    "start_time": "2021-10-04T10:35:35.469Z"
   },
   {
    "duration": 81,
    "start_time": "2021-10-04T10:35:35.475Z"
   },
   {
    "duration": 29,
    "start_time": "2021-10-04T10:35:35.558Z"
   },
   {
    "duration": 46,
    "start_time": "2021-10-04T10:35:35.589Z"
   },
   {
    "duration": 54,
    "start_time": "2021-10-04T10:35:35.637Z"
   },
   {
    "duration": 17,
    "start_time": "2021-10-04T10:35:35.693Z"
   },
   {
    "duration": 48,
    "start_time": "2021-10-04T10:35:35.713Z"
   },
   {
    "duration": 44,
    "start_time": "2021-10-04T10:35:35.764Z"
   },
   {
    "duration": 17,
    "start_time": "2021-10-04T10:35:35.810Z"
   },
   {
    "duration": 10,
    "start_time": "2021-10-04T10:35:35.829Z"
   },
   {
    "duration": 26,
    "start_time": "2021-10-04T10:35:35.841Z"
   },
   {
    "duration": 23,
    "start_time": "2021-10-04T10:35:35.869Z"
   },
   {
    "duration": 19,
    "start_time": "2021-10-04T10:35:35.895Z"
   },
   {
    "duration": 51,
    "start_time": "2021-10-04T10:35:35.916Z"
   },
   {
    "duration": 20,
    "start_time": "2021-10-04T10:35:35.970Z"
   },
   {
    "duration": 271,
    "start_time": "2021-10-04T10:35:35.992Z"
   },
   {
    "duration": 11,
    "start_time": "2021-10-04T10:35:36.265Z"
   },
   {
    "duration": 25,
    "start_time": "2021-10-04T10:35:36.279Z"
   },
   {
    "duration": 8,
    "start_time": "2021-10-04T10:35:36.307Z"
   },
   {
    "duration": 266,
    "start_time": "2021-10-04T10:35:36.318Z"
   },
   {
    "duration": 14,
    "start_time": "2021-10-04T10:35:36.587Z"
   },
   {
    "duration": 33,
    "start_time": "2021-10-04T10:35:36.604Z"
   },
   {
    "duration": 6,
    "start_time": "2021-10-04T10:35:36.639Z"
   },
   {
    "duration": 290,
    "start_time": "2021-10-04T10:35:36.662Z"
   },
   {
    "duration": 23,
    "start_time": "2021-10-04T10:35:36.954Z"
   },
   {
    "duration": 27,
    "start_time": "2021-10-04T10:35:36.980Z"
   },
   {
    "duration": 61,
    "start_time": "2021-10-04T10:35:37.009Z"
   },
   {
    "duration": 31,
    "start_time": "2021-10-04T10:35:37.073Z"
   },
   {
    "duration": 89,
    "start_time": "2021-10-04T10:35:37.107Z"
   },
   {
    "duration": 89,
    "start_time": "2021-10-04T10:35:37.199Z"
   },
   {
    "duration": 36,
    "start_time": "2021-10-04T10:35:37.291Z"
   },
   {
    "duration": 35,
    "start_time": "2021-10-04T10:35:37.330Z"
   },
   {
    "duration": 3,
    "start_time": "2021-10-04T10:35:37.368Z"
   },
   {
    "duration": 13,
    "start_time": "2021-10-04T10:35:37.374Z"
   },
   {
    "duration": 23,
    "start_time": "2021-10-04T10:35:37.390Z"
   },
   {
    "duration": 90,
    "start_time": "2021-10-04T10:35:37.416Z"
   },
   {
    "duration": 11,
    "start_time": "2021-10-04T10:35:37.509Z"
   },
   {
    "duration": 41,
    "start_time": "2021-10-04T10:35:37.523Z"
   },
   {
    "duration": 11,
    "start_time": "2021-10-04T10:35:37.567Z"
   },
   {
    "duration": 12,
    "start_time": "2021-10-04T10:36:08.819Z"
   },
   {
    "duration": 9,
    "start_time": "2021-10-04T10:36:25.893Z"
   },
   {
    "duration": 5,
    "start_time": "2021-10-04T10:48:02.629Z"
   },
   {
    "duration": 676,
    "start_time": "2021-10-04T10:48:02.637Z"
   },
   {
    "duration": 24,
    "start_time": "2021-10-04T10:48:03.317Z"
   },
   {
    "duration": 56,
    "start_time": "2021-10-04T10:48:03.344Z"
   },
   {
    "duration": 62,
    "start_time": "2021-10-04T10:48:03.403Z"
   },
   {
    "duration": 10,
    "start_time": "2021-10-04T10:48:03.468Z"
   },
   {
    "duration": 22,
    "start_time": "2021-10-04T10:48:03.482Z"
   },
   {
    "duration": 73,
    "start_time": "2021-10-04T10:48:03.509Z"
   },
   {
    "duration": 45,
    "start_time": "2021-10-04T10:48:03.586Z"
   },
   {
    "duration": 6,
    "start_time": "2021-10-04T10:48:03.633Z"
   },
   {
    "duration": 43,
    "start_time": "2021-10-04T10:48:03.641Z"
   },
   {
    "duration": 32,
    "start_time": "2021-10-04T10:48:03.687Z"
   },
   {
    "duration": 86,
    "start_time": "2021-10-04T10:48:03.722Z"
   },
   {
    "duration": 7,
    "start_time": "2021-10-04T10:48:03.811Z"
   },
   {
    "duration": 45,
    "start_time": "2021-10-04T10:48:03.821Z"
   },
   {
    "duration": 28,
    "start_time": "2021-10-04T10:48:03.869Z"
   },
   {
    "duration": 10,
    "start_time": "2021-10-04T10:48:03.902Z"
   },
   {
    "duration": 83,
    "start_time": "2021-10-04T10:48:03.915Z"
   },
   {
    "duration": 10,
    "start_time": "2021-10-04T10:48:04.002Z"
   },
   {
    "duration": 99,
    "start_time": "2021-10-04T10:48:04.015Z"
   },
   {
    "duration": 48,
    "start_time": "2021-10-04T10:48:04.117Z"
   },
   {
    "duration": 42,
    "start_time": "2021-10-04T10:48:04.168Z"
   },
   {
    "duration": 9,
    "start_time": "2021-10-04T10:48:04.216Z"
   },
   {
    "duration": 38,
    "start_time": "2021-10-04T10:48:04.230Z"
   },
   {
    "duration": 49,
    "start_time": "2021-10-04T10:48:04.273Z"
   },
   {
    "duration": 4,
    "start_time": "2021-10-04T10:48:04.325Z"
   },
   {
    "duration": 129,
    "start_time": "2021-10-04T10:48:04.332Z"
   },
   {
    "duration": 44,
    "start_time": "2021-10-04T10:48:04.464Z"
   },
   {
    "duration": 59,
    "start_time": "2021-10-04T10:48:04.511Z"
   },
   {
    "duration": 51,
    "start_time": "2021-10-04T10:48:04.573Z"
   },
   {
    "duration": 58,
    "start_time": "2021-10-04T10:48:04.627Z"
   },
   {
    "duration": 32,
    "start_time": "2021-10-04T10:48:04.689Z"
   },
   {
    "duration": 81,
    "start_time": "2021-10-04T10:48:04.724Z"
   },
   {
    "duration": 19,
    "start_time": "2021-10-04T10:48:04.808Z"
   },
   {
    "duration": 4,
    "start_time": "2021-10-04T10:48:04.829Z"
   },
   {
    "duration": 30,
    "start_time": "2021-10-04T10:48:04.835Z"
   },
   {
    "duration": 23,
    "start_time": "2021-10-04T10:48:04.869Z"
   },
   {
    "duration": 20,
    "start_time": "2021-10-04T10:48:04.897Z"
   },
   {
    "duration": 56,
    "start_time": "2021-10-04T10:48:04.920Z"
   },
   {
    "duration": 28,
    "start_time": "2021-10-04T10:48:04.979Z"
   },
   {
    "duration": 424,
    "start_time": "2021-10-04T10:48:05.011Z"
   },
   {
    "duration": 24,
    "start_time": "2021-10-04T10:48:05.438Z"
   },
   {
    "duration": 34,
    "start_time": "2021-10-04T10:48:05.465Z"
   },
   {
    "duration": 11,
    "start_time": "2021-10-04T10:48:05.503Z"
   },
   {
    "duration": 376,
    "start_time": "2021-10-04T10:48:05.517Z"
   },
   {
    "duration": 16,
    "start_time": "2021-10-04T10:48:05.896Z"
   },
   {
    "duration": 24,
    "start_time": "2021-10-04T10:48:05.915Z"
   },
   {
    "duration": 15,
    "start_time": "2021-10-04T10:48:05.967Z"
   },
   {
    "duration": 357,
    "start_time": "2021-10-04T10:48:05.985Z"
   },
   {
    "duration": 28,
    "start_time": "2021-10-04T10:48:06.345Z"
   },
   {
    "duration": 29,
    "start_time": "2021-10-04T10:48:06.396Z"
   },
   {
    "duration": 48,
    "start_time": "2021-10-04T10:48:06.427Z"
   },
   {
    "duration": 29,
    "start_time": "2021-10-04T10:48:06.479Z"
   },
   {
    "duration": 77,
    "start_time": "2021-10-04T10:48:06.511Z"
   },
   {
    "duration": 71,
    "start_time": "2021-10-04T10:48:06.590Z"
   },
   {
    "duration": 47,
    "start_time": "2021-10-04T10:48:06.665Z"
   },
   {
    "duration": 6,
    "start_time": "2021-10-04T10:48:06.714Z"
   },
   {
    "duration": 8,
    "start_time": "2021-10-04T10:48:06.722Z"
   },
   {
    "duration": 4,
    "start_time": "2021-10-04T10:48:06.763Z"
   },
   {
    "duration": 38,
    "start_time": "2021-10-04T10:48:06.771Z"
   },
   {
    "duration": 94,
    "start_time": "2021-10-04T10:48:06.812Z"
   },
   {
    "duration": 12,
    "start_time": "2021-10-04T10:48:06.909Z"
   },
   {
    "duration": 47,
    "start_time": "2021-10-04T10:48:06.924Z"
   },
   {
    "duration": 15,
    "start_time": "2021-10-04T10:48:06.975Z"
   },
   {
    "duration": 11,
    "start_time": "2021-10-04T10:48:06.994Z"
   },
   {
    "duration": 44,
    "start_time": "2021-10-04T11:31:11.541Z"
   },
   {
    "duration": 6,
    "start_time": "2021-10-04T11:31:52.870Z"
   },
   {
    "duration": 617,
    "start_time": "2021-10-04T11:31:52.880Z"
   },
   {
    "duration": 21,
    "start_time": "2021-10-04T11:31:53.500Z"
   },
   {
    "duration": 40,
    "start_time": "2021-10-04T11:31:53.524Z"
   },
   {
    "duration": 49,
    "start_time": "2021-10-04T11:31:53.566Z"
   },
   {
    "duration": 7,
    "start_time": "2021-10-04T11:31:53.618Z"
   },
   {
    "duration": 51,
    "start_time": "2021-10-04T11:31:53.627Z"
   },
   {
    "duration": 24,
    "start_time": "2021-10-04T11:31:53.682Z"
   },
   {
    "duration": 79,
    "start_time": "2021-10-04T11:31:53.710Z"
   },
   {
    "duration": 6,
    "start_time": "2021-10-04T11:31:53.792Z"
   },
   {
    "duration": 17,
    "start_time": "2021-10-04T11:31:53.801Z"
   },
   {
    "duration": 51,
    "start_time": "2021-10-04T11:31:53.821Z"
   },
   {
    "duration": 33,
    "start_time": "2021-10-04T11:31:53.876Z"
   },
   {
    "duration": 7,
    "start_time": "2021-10-04T11:31:53.912Z"
   },
   {
    "duration": 45,
    "start_time": "2021-10-04T11:31:53.921Z"
   },
   {
    "duration": 20,
    "start_time": "2021-10-04T11:31:53.969Z"
   },
   {
    "duration": 12,
    "start_time": "2021-10-04T11:31:53.993Z"
   },
   {
    "duration": 78,
    "start_time": "2021-10-04T11:31:54.008Z"
   },
   {
    "duration": 10,
    "start_time": "2021-10-04T11:31:54.089Z"
   },
   {
    "duration": 109,
    "start_time": "2021-10-04T11:31:54.102Z"
   },
   {
    "duration": 37,
    "start_time": "2021-10-04T11:31:54.213Z"
   },
   {
    "duration": 30,
    "start_time": "2021-10-04T11:31:54.263Z"
   },
   {
    "duration": 9,
    "start_time": "2021-10-04T11:31:54.299Z"
   },
   {
    "duration": 28,
    "start_time": "2021-10-04T11:31:54.312Z"
   },
   {
    "duration": 52,
    "start_time": "2021-10-04T11:31:54.343Z"
   },
   {
    "duration": 4,
    "start_time": "2021-10-04T11:31:54.398Z"
   },
   {
    "duration": 120,
    "start_time": "2021-10-04T11:31:54.404Z"
   },
   {
    "duration": 37,
    "start_time": "2021-10-04T11:31:54.527Z"
   },
   {
    "duration": 27,
    "start_time": "2021-10-04T11:31:54.567Z"
   },
   {
    "duration": 80,
    "start_time": "2021-10-04T11:31:54.597Z"
   },
   {
    "duration": 23,
    "start_time": "2021-10-04T11:31:54.680Z"
   },
   {
    "duration": 25,
    "start_time": "2021-10-04T11:31:54.705Z"
   },
   {
    "duration": 54,
    "start_time": "2021-10-04T11:31:54.762Z"
   },
   {
    "duration": 45,
    "start_time": "2021-10-04T11:31:54.818Z"
   },
   {
    "duration": 6,
    "start_time": "2021-10-04T11:31:54.866Z"
   },
   {
    "duration": 11,
    "start_time": "2021-10-04T11:31:54.875Z"
   },
   {
    "duration": 17,
    "start_time": "2021-10-04T11:31:54.888Z"
   },
   {
    "duration": 57,
    "start_time": "2021-10-04T11:31:54.907Z"
   },
   {
    "duration": 24,
    "start_time": "2021-10-04T11:31:54.967Z"
   },
   {
    "duration": 7,
    "start_time": "2021-10-04T11:31:54.994Z"
   },
   {
    "duration": 441,
    "start_time": "2021-10-04T11:31:55.004Z"
   },
   {
    "duration": 18,
    "start_time": "2021-10-04T11:31:55.448Z"
   },
   {
    "duration": 24,
    "start_time": "2021-10-04T11:31:55.469Z"
   },
   {
    "duration": 8,
    "start_time": "2021-10-04T11:31:55.497Z"
   },
   {
    "duration": 532,
    "start_time": "2021-10-04T11:31:55.507Z"
   },
   {
    "duration": 28,
    "start_time": "2021-10-04T11:31:56.042Z"
   },
   {
    "duration": 25,
    "start_time": "2021-10-04T11:31:56.073Z"
   },
   {
    "duration": 7,
    "start_time": "2021-10-04T11:31:56.100Z"
   },
   {
    "duration": 325,
    "start_time": "2021-10-04T11:31:56.109Z"
   },
   {
    "duration": 27,
    "start_time": "2021-10-04T11:31:56.436Z"
   },
   {
    "duration": 35,
    "start_time": "2021-10-04T11:31:56.465Z"
   },
   {
    "duration": 33,
    "start_time": "2021-10-04T11:31:56.503Z"
   },
   {
    "duration": 47,
    "start_time": "2021-10-04T11:31:56.539Z"
   },
   {
    "duration": 25,
    "start_time": "2021-10-04T11:31:56.588Z"
   },
   {
    "duration": 11,
    "start_time": "2021-10-04T11:31:56.616Z"
   },
   {
    "duration": 57,
    "start_time": "2021-10-04T11:31:56.629Z"
   },
   {
    "duration": 9,
    "start_time": "2021-10-04T11:31:56.688Z"
   },
   {
    "duration": 13,
    "start_time": "2021-10-04T11:31:56.700Z"
   },
   {
    "duration": 11,
    "start_time": "2021-10-04T11:31:56.716Z"
   },
   {
    "duration": 73,
    "start_time": "2021-10-04T11:31:56.729Z"
   },
   {
    "duration": 7,
    "start_time": "2021-10-04T11:31:56.805Z"
   },
   {
    "duration": 69,
    "start_time": "2021-10-04T11:31:56.814Z"
   },
   {
    "duration": 7764,
    "start_time": "2021-10-04T11:55:24.500Z"
   },
   {
    "duration": 39,
    "start_time": "2021-10-04T11:55:45.547Z"
   },
   {
    "duration": 4,
    "start_time": "2021-10-04T11:56:07.788Z"
   },
   {
    "duration": 517,
    "start_time": "2021-10-04T11:56:07.795Z"
   },
   {
    "duration": 17,
    "start_time": "2021-10-04T11:56:08.315Z"
   },
   {
    "duration": 29,
    "start_time": "2021-10-04T11:56:08.335Z"
   },
   {
    "duration": 42,
    "start_time": "2021-10-04T11:56:08.367Z"
   },
   {
    "duration": 6,
    "start_time": "2021-10-04T11:56:08.411Z"
   },
   {
    "duration": 57,
    "start_time": "2021-10-04T11:56:08.419Z"
   },
   {
    "duration": 25,
    "start_time": "2021-10-04T11:56:08.479Z"
   },
   {
    "duration": 67,
    "start_time": "2021-10-04T11:56:08.509Z"
   },
   {
    "duration": 5,
    "start_time": "2021-10-04T11:56:08.579Z"
   },
   {
    "duration": 19,
    "start_time": "2021-10-04T11:56:08.587Z"
   },
   {
    "duration": 54,
    "start_time": "2021-10-04T11:56:08.608Z"
   },
   {
    "duration": 25,
    "start_time": "2021-10-04T11:56:08.664Z"
   },
   {
    "duration": 6,
    "start_time": "2021-10-04T11:56:08.691Z"
   },
   {
    "duration": 11,
    "start_time": "2021-10-04T11:56:08.700Z"
   },
   {
    "duration": 59,
    "start_time": "2021-10-04T11:56:08.714Z"
   },
   {
    "duration": 13,
    "start_time": "2021-10-04T11:56:08.775Z"
   },
   {
    "duration": 42,
    "start_time": "2021-10-04T11:56:08.791Z"
   },
   {
    "duration": 9,
    "start_time": "2021-10-04T11:56:08.863Z"
   },
   {
    "duration": 45,
    "start_time": "2021-10-04T11:56:08.874Z"
   },
   {
    "duration": 65,
    "start_time": "2021-10-04T11:56:08.921Z"
   },
   {
    "duration": 27,
    "start_time": "2021-10-04T11:56:08.988Z"
   },
   {
    "duration": 7,
    "start_time": "2021-10-04T11:56:09.018Z"
   },
   {
    "duration": 36,
    "start_time": "2021-10-04T11:56:09.027Z"
   },
   {
    "duration": 46,
    "start_time": "2021-10-04T11:56:09.065Z"
   },
   {
    "duration": 4,
    "start_time": "2021-10-04T11:56:09.114Z"
   },
   {
    "duration": 92,
    "start_time": "2021-10-04T11:56:09.125Z"
   },
   {
    "duration": 47,
    "start_time": "2021-10-04T11:56:09.220Z"
   },
   {
    "duration": 21,
    "start_time": "2021-10-04T11:56:09.269Z"
   },
   {
    "duration": 35,
    "start_time": "2021-10-04T11:56:09.292Z"
   },
   {
    "duration": 48,
    "start_time": "2021-10-04T11:56:09.329Z"
   },
   {
    "duration": 24,
    "start_time": "2021-10-04T11:56:09.379Z"
   },
   {
    "duration": 82,
    "start_time": "2021-10-04T11:56:09.406Z"
   },
   {
    "duration": 18,
    "start_time": "2021-10-04T11:56:09.490Z"
   },
   {
    "duration": 3,
    "start_time": "2021-10-04T11:56:09.511Z"
   },
   {
    "duration": 10,
    "start_time": "2021-10-04T11:56:09.517Z"
   },
   {
    "duration": 46,
    "start_time": "2021-10-04T11:56:09.529Z"
   },
   {
    "duration": 20,
    "start_time": "2021-10-04T11:56:09.578Z"
   },
   {
    "duration": 19,
    "start_time": "2021-10-04T11:56:09.600Z"
   },
   {
    "duration": 43,
    "start_time": "2021-10-04T11:56:09.623Z"
   },
   {
    "duration": 316,
    "start_time": "2021-10-04T11:56:09.669Z"
   },
   {
    "duration": 12,
    "start_time": "2021-10-04T11:56:09.988Z"
   },
   {
    "duration": 19,
    "start_time": "2021-10-04T11:56:10.003Z"
   },
   {
    "duration": 39,
    "start_time": "2021-10-04T11:56:10.025Z"
   },
   {
    "duration": 343,
    "start_time": "2021-10-04T11:56:10.066Z"
   },
   {
    "duration": 17,
    "start_time": "2021-10-04T11:56:10.412Z"
   },
   {
    "duration": 39,
    "start_time": "2021-10-04T11:56:10.431Z"
   },
   {
    "duration": 7,
    "start_time": "2021-10-04T11:56:10.474Z"
   },
   {
    "duration": 318,
    "start_time": "2021-10-04T11:56:10.484Z"
   },
   {
    "duration": 19,
    "start_time": "2021-10-04T11:56:10.805Z"
   },
   {
    "duration": 48,
    "start_time": "2021-10-04T11:56:10.826Z"
   },
   {
    "duration": 21,
    "start_time": "2021-10-04T11:56:10.876Z"
   },
   {
    "duration": 16,
    "start_time": "2021-10-04T11:56:10.899Z"
   },
   {
    "duration": 59,
    "start_time": "2021-10-04T11:56:10.918Z"
   },
   {
    "duration": 13,
    "start_time": "2021-10-04T11:56:10.980Z"
   },
   {
    "duration": 66,
    "start_time": "2021-10-04T11:56:10.995Z"
   },
   {
    "duration": 8,
    "start_time": "2021-10-04T11:56:11.065Z"
   },
   {
    "duration": 20,
    "start_time": "2021-10-04T11:56:11.075Z"
   },
   {
    "duration": 6,
    "start_time": "2021-10-04T11:56:11.098Z"
   },
   {
    "duration": 75,
    "start_time": "2021-10-04T11:56:11.106Z"
   },
   {
    "duration": 6,
    "start_time": "2021-10-04T11:56:11.184Z"
   },
   {
    "duration": 77,
    "start_time": "2021-10-04T11:56:11.192Z"
   },
   {
    "duration": 19,
    "start_time": "2021-10-04T11:56:11.271Z"
   },
   {
    "duration": 16,
    "start_time": "2021-10-04T11:56:40.970Z"
   },
   {
    "duration": 6733,
    "start_time": "2021-10-04T11:56:57.534Z"
   },
   {
    "duration": 6,
    "start_time": "2021-10-04T11:57:10.953Z"
   },
   {
    "duration": 55,
    "start_time": "2021-10-04T11:57:44.833Z"
   },
   {
    "duration": 32,
    "start_time": "2021-10-04T11:58:20.336Z"
   },
   {
    "duration": 5,
    "start_time": "2021-10-04T11:59:53.190Z"
   },
   {
    "duration": 571,
    "start_time": "2021-10-04T11:59:53.197Z"
   },
   {
    "duration": 20,
    "start_time": "2021-10-04T11:59:53.772Z"
   },
   {
    "duration": 32,
    "start_time": "2021-10-04T11:59:53.795Z"
   },
   {
    "duration": 72,
    "start_time": "2021-10-04T11:59:53.829Z"
   },
   {
    "duration": 9,
    "start_time": "2021-10-04T11:59:53.904Z"
   },
   {
    "duration": 63,
    "start_time": "2021-10-04T11:59:53.916Z"
   },
   {
    "duration": 24,
    "start_time": "2021-10-04T11:59:53.983Z"
   },
   {
    "duration": 78,
    "start_time": "2021-10-04T11:59:54.010Z"
   },
   {
    "duration": 6,
    "start_time": "2021-10-04T11:59:54.091Z"
   },
   {
    "duration": 15,
    "start_time": "2021-10-04T11:59:54.100Z"
   },
   {
    "duration": 67,
    "start_time": "2021-10-04T11:59:54.118Z"
   },
   {
    "duration": 28,
    "start_time": "2021-10-04T11:59:54.188Z"
   },
   {
    "duration": 45,
    "start_time": "2021-10-04T11:59:54.219Z"
   },
   {
    "duration": 16,
    "start_time": "2021-10-04T11:59:54.267Z"
   },
   {
    "duration": 19,
    "start_time": "2021-10-04T11:59:54.286Z"
   },
   {
    "duration": 57,
    "start_time": "2021-10-04T11:59:54.308Z"
   },
   {
    "duration": 32,
    "start_time": "2021-10-04T11:59:54.368Z"
   },
   {
    "duration": 18,
    "start_time": "2021-10-04T11:59:54.403Z"
   },
   {
    "duration": 91,
    "start_time": "2021-10-04T11:59:54.423Z"
   },
   {
    "duration": 51,
    "start_time": "2021-10-04T11:59:54.516Z"
   },
   {
    "duration": 29,
    "start_time": "2021-10-04T11:59:54.571Z"
   },
   {
    "duration": 9,
    "start_time": "2021-10-04T11:59:54.606Z"
   },
   {
    "duration": 46,
    "start_time": "2021-10-04T11:59:54.618Z"
   },
   {
    "duration": 35,
    "start_time": "2021-10-04T11:59:54.667Z"
   },
   {
    "duration": 4,
    "start_time": "2021-10-04T11:59:54.705Z"
   },
   {
    "duration": 112,
    "start_time": "2021-10-04T11:59:54.711Z"
   },
   {
    "duration": 39,
    "start_time": "2021-10-04T11:59:54.825Z"
   },
   {
    "duration": 24,
    "start_time": "2021-10-04T11:59:54.868Z"
   },
   {
    "duration": 37,
    "start_time": "2021-10-04T11:59:54.894Z"
   },
   {
    "duration": 50,
    "start_time": "2021-10-04T11:59:54.933Z"
   },
   {
    "duration": 26,
    "start_time": "2021-10-04T11:59:54.985Z"
   },
   {
    "duration": 95,
    "start_time": "2021-10-04T11:59:55.013Z"
   },
   {
    "duration": 18,
    "start_time": "2021-10-04T11:59:55.111Z"
   },
   {
    "duration": 4,
    "start_time": "2021-10-04T11:59:55.132Z"
   },
   {
    "duration": 34,
    "start_time": "2021-10-04T11:59:55.138Z"
   },
   {
    "duration": 17,
    "start_time": "2021-10-04T11:59:55.176Z"
   },
   {
    "duration": 19,
    "start_time": "2021-10-04T11:59:55.197Z"
   },
   {
    "duration": 56,
    "start_time": "2021-10-04T11:59:55.219Z"
   },
   {
    "duration": 9,
    "start_time": "2021-10-04T11:59:55.279Z"
   },
   {
    "duration": 359,
    "start_time": "2021-10-04T11:59:55.291Z"
   },
   {
    "duration": 23,
    "start_time": "2021-10-04T11:59:55.653Z"
   },
   {
    "duration": 19,
    "start_time": "2021-10-04T11:59:55.679Z"
   },
   {
    "duration": 11,
    "start_time": "2021-10-04T11:59:55.700Z"
   },
   {
    "duration": 327,
    "start_time": "2021-10-04T11:59:55.713Z"
   },
   {
    "duration": 30,
    "start_time": "2021-10-04T11:59:56.042Z"
   },
   {
    "duration": 37,
    "start_time": "2021-10-04T11:59:56.075Z"
   },
   {
    "duration": 6,
    "start_time": "2021-10-04T11:59:56.115Z"
   },
   {
    "duration": 319,
    "start_time": "2021-10-04T11:59:56.123Z"
   },
   {
    "duration": 34,
    "start_time": "2021-10-04T11:59:56.444Z"
   },
   {
    "duration": 36,
    "start_time": "2021-10-04T11:59:56.482Z"
   },
   {
    "duration": 21,
    "start_time": "2021-10-04T11:59:56.520Z"
   },
   {
    "duration": 1795,
    "start_time": "2021-10-04T11:59:56.563Z"
   },
   {
    "duration": -126,
    "start_time": "2021-10-04T11:59:58.487Z"
   },
   {
    "duration": -127,
    "start_time": "2021-10-04T11:59:58.490Z"
   },
   {
    "duration": -128,
    "start_time": "2021-10-04T11:59:58.492Z"
   },
   {
    "duration": -128,
    "start_time": "2021-10-04T11:59:58.494Z"
   },
   {
    "duration": -130,
    "start_time": "2021-10-04T11:59:58.497Z"
   },
   {
    "duration": -134,
    "start_time": "2021-10-04T11:59:58.503Z"
   },
   {
    "duration": -135,
    "start_time": "2021-10-04T11:59:58.506Z"
   },
   {
    "duration": -137,
    "start_time": "2021-10-04T11:59:58.509Z"
   },
   {
    "duration": -138,
    "start_time": "2021-10-04T11:59:58.512Z"
   },
   {
    "duration": 20,
    "start_time": "2021-10-04T12:00:04.672Z"
   },
   {
    "duration": 18,
    "start_time": "2021-10-04T12:00:06.804Z"
   },
   {
    "duration": 10,
    "start_time": "2021-10-04T12:00:09.739Z"
   },
   {
    "duration": 30,
    "start_time": "2021-10-04T12:00:10.339Z"
   },
   {
    "duration": 5,
    "start_time": "2021-10-04T12:00:14.149Z"
   },
   {
    "duration": 21,
    "start_time": "2021-10-04T12:00:16.255Z"
   },
   {
    "duration": 7,
    "start_time": "2021-10-04T12:00:16.522Z"
   },
   {
    "duration": 46,
    "start_time": "2021-10-04T12:00:17.335Z"
   },
   {
    "duration": 7,
    "start_time": "2021-10-04T12:01:27.963Z"
   },
   {
    "duration": 29,
    "start_time": "2021-10-04T12:01:28.431Z"
   },
   {
    "duration": 6,
    "start_time": "2021-10-04T12:02:04.002Z"
   },
   {
    "duration": 505,
    "start_time": "2021-10-04T12:02:04.010Z"
   },
   {
    "duration": 18,
    "start_time": "2021-10-04T12:02:04.518Z"
   },
   {
    "duration": 30,
    "start_time": "2021-10-04T12:02:04.539Z"
   },
   {
    "duration": 40,
    "start_time": "2021-10-04T12:02:04.571Z"
   },
   {
    "duration": 6,
    "start_time": "2021-10-04T12:02:04.613Z"
   },
   {
    "duration": 49,
    "start_time": "2021-10-04T12:02:04.621Z"
   },
   {
    "duration": 23,
    "start_time": "2021-10-04T12:02:04.675Z"
   },
   {
    "duration": 77,
    "start_time": "2021-10-04T12:02:04.702Z"
   },
   {
    "duration": 6,
    "start_time": "2021-10-04T12:02:04.782Z"
   },
   {
    "duration": 19,
    "start_time": "2021-10-04T12:02:04.790Z"
   },
   {
    "duration": 59,
    "start_time": "2021-10-04T12:02:04.811Z"
   },
   {
    "duration": 27,
    "start_time": "2021-10-04T12:02:04.873Z"
   },
   {
    "duration": 6,
    "start_time": "2021-10-04T12:02:04.902Z"
   },
   {
    "duration": 51,
    "start_time": "2021-10-04T12:02:04.911Z"
   },
   {
    "duration": 15,
    "start_time": "2021-10-04T12:02:04.965Z"
   },
   {
    "duration": 17,
    "start_time": "2021-10-04T12:02:04.982Z"
   },
   {
    "duration": 31,
    "start_time": "2021-10-04T12:02:05.001Z"
   },
   {
    "duration": 7,
    "start_time": "2021-10-04T12:02:05.062Z"
   },
   {
    "duration": 53,
    "start_time": "2021-10-04T12:02:05.071Z"
   },
   {
    "duration": 59,
    "start_time": "2021-10-04T12:02:05.126Z"
   },
   {
    "duration": 27,
    "start_time": "2021-10-04T12:02:05.187Z"
   },
   {
    "duration": 8,
    "start_time": "2021-10-04T12:02:05.220Z"
   },
   {
    "duration": 39,
    "start_time": "2021-10-04T12:02:05.231Z"
   },
   {
    "duration": 45,
    "start_time": "2021-10-04T12:02:05.272Z"
   },
   {
    "duration": 4,
    "start_time": "2021-10-04T12:02:05.319Z"
   },
   {
    "duration": 100,
    "start_time": "2021-10-04T12:02:05.325Z"
   },
   {
    "duration": 45,
    "start_time": "2021-10-04T12:02:05.428Z"
   },
   {
    "duration": 21,
    "start_time": "2021-10-04T12:02:05.475Z"
   },
   {
    "duration": 64,
    "start_time": "2021-10-04T12:02:05.498Z"
   },
   {
    "duration": 18,
    "start_time": "2021-10-04T12:02:05.564Z"
   },
   {
    "duration": 24,
    "start_time": "2021-10-04T12:02:05.585Z"
   },
   {
    "duration": 82,
    "start_time": "2021-10-04T12:02:05.611Z"
   },
   {
    "duration": 17,
    "start_time": "2021-10-04T12:02:05.696Z"
   },
   {
    "duration": 8,
    "start_time": "2021-10-04T12:02:05.716Z"
   },
   {
    "duration": 37,
    "start_time": "2021-10-04T12:02:05.726Z"
   },
   {
    "duration": 19,
    "start_time": "2021-10-04T12:02:05.765Z"
   },
   {
    "duration": 17,
    "start_time": "2021-10-04T12:02:05.787Z"
   },
   {
    "duration": 22,
    "start_time": "2021-10-04T12:02:05.807Z"
   },
   {
    "duration": 38,
    "start_time": "2021-10-04T12:02:05.832Z"
   },
   {
    "duration": 315,
    "start_time": "2021-10-04T12:02:05.873Z"
   },
   {
    "duration": 13,
    "start_time": "2021-10-04T12:02:06.190Z"
   },
   {
    "duration": 27,
    "start_time": "2021-10-04T12:02:06.205Z"
   },
   {
    "duration": 5,
    "start_time": "2021-10-04T12:02:06.263Z"
   },
   {
    "duration": 276,
    "start_time": "2021-10-04T12:02:06.270Z"
   },
   {
    "duration": 23,
    "start_time": "2021-10-04T12:02:06.549Z"
   },
   {
    "duration": 18,
    "start_time": "2021-10-04T12:02:06.574Z"
   },
   {
    "duration": 8,
    "start_time": "2021-10-04T12:02:06.594Z"
   },
   {
    "duration": 310,
    "start_time": "2021-10-04T12:02:06.605Z"
   },
   {
    "duration": 21,
    "start_time": "2021-10-04T12:02:06.918Z"
   },
   {
    "duration": 36,
    "start_time": "2021-10-04T12:02:06.941Z"
   },
   {
    "duration": 20,
    "start_time": "2021-10-04T12:02:06.980Z"
   },
   {
    "duration": 14,
    "start_time": "2021-10-04T12:02:07.002Z"
   },
   {
    "duration": 19,
    "start_time": "2021-10-04T12:02:07.062Z"
   },
   {
    "duration": 9,
    "start_time": "2021-10-04T12:02:07.083Z"
   },
   {
    "duration": 28,
    "start_time": "2021-10-04T12:02:07.094Z"
   },
   {
    "duration": 42,
    "start_time": "2021-10-04T12:02:07.124Z"
   },
   {
    "duration": 17,
    "start_time": "2021-10-04T12:02:07.169Z"
   },
   {
    "duration": 6,
    "start_time": "2021-10-04T12:02:07.188Z"
   },
   {
    "duration": 65,
    "start_time": "2021-10-04T12:02:07.196Z"
   },
   {
    "duration": 10,
    "start_time": "2021-10-04T12:02:07.264Z"
   },
   {
    "duration": 19,
    "start_time": "2021-10-04T12:02:07.277Z"
   },
   {
    "duration": 4,
    "start_time": "2021-10-04T12:02:50.707Z"
   },
   {
    "duration": 518,
    "start_time": "2021-10-04T12:02:50.714Z"
   },
   {
    "duration": 18,
    "start_time": "2021-10-04T12:02:51.235Z"
   },
   {
    "duration": 28,
    "start_time": "2021-10-04T12:02:51.257Z"
   },
   {
    "duration": 43,
    "start_time": "2021-10-04T12:02:51.288Z"
   },
   {
    "duration": 31,
    "start_time": "2021-10-04T12:02:51.333Z"
   },
   {
    "duration": 20,
    "start_time": "2021-10-04T12:02:51.366Z"
   },
   {
    "duration": 25,
    "start_time": "2021-10-04T12:02:51.390Z"
   },
   {
    "duration": 74,
    "start_time": "2021-10-04T12:02:51.418Z"
   },
   {
    "duration": 6,
    "start_time": "2021-10-04T12:02:51.494Z"
   },
   {
    "duration": 17,
    "start_time": "2021-10-04T12:02:51.503Z"
   },
   {
    "duration": 56,
    "start_time": "2021-10-04T12:02:51.523Z"
   },
   {
    "duration": 25,
    "start_time": "2021-10-04T12:02:51.582Z"
   },
   {
    "duration": 6,
    "start_time": "2021-10-04T12:02:51.609Z"
   },
   {
    "duration": 52,
    "start_time": "2021-10-04T12:02:51.617Z"
   },
   {
    "duration": 21,
    "start_time": "2021-10-04T12:02:51.671Z"
   },
   {
    "duration": 12,
    "start_time": "2021-10-04T12:02:51.694Z"
   },
   {
    "duration": 64,
    "start_time": "2021-10-04T12:02:51.709Z"
   },
   {
    "duration": 10,
    "start_time": "2021-10-04T12:02:51.775Z"
   },
   {
    "duration": 80,
    "start_time": "2021-10-04T12:02:51.787Z"
   },
   {
    "duration": 32,
    "start_time": "2021-10-04T12:02:51.870Z"
   },
   {
    "duration": 26,
    "start_time": "2021-10-04T12:02:51.905Z"
   },
   {
    "duration": 9,
    "start_time": "2021-10-04T12:02:51.961Z"
   },
   {
    "duration": 13,
    "start_time": "2021-10-04T12:02:51.973Z"
   },
   {
    "duration": 32,
    "start_time": "2021-10-04T12:02:51.989Z"
   },
   {
    "duration": 40,
    "start_time": "2021-10-04T12:02:52.023Z"
   },
   {
    "duration": 76,
    "start_time": "2021-10-04T12:02:52.066Z"
   },
   {
    "duration": 30,
    "start_time": "2021-10-04T12:02:52.161Z"
   },
   {
    "duration": 21,
    "start_time": "2021-10-04T12:02:52.193Z"
   },
   {
    "duration": 72,
    "start_time": "2021-10-04T12:02:52.216Z"
   },
   {
    "duration": 18,
    "start_time": "2021-10-04T12:02:52.291Z"
   },
   {
    "duration": 59,
    "start_time": "2021-10-04T12:02:52.312Z"
   },
   {
    "duration": 49,
    "start_time": "2021-10-04T12:02:52.374Z"
   },
   {
    "duration": 50,
    "start_time": "2021-10-04T12:02:52.426Z"
   },
   {
    "duration": 5,
    "start_time": "2021-10-04T12:02:52.479Z"
   },
   {
    "duration": 14,
    "start_time": "2021-10-04T12:02:52.487Z"
   },
   {
    "duration": 23,
    "start_time": "2021-10-04T12:02:52.503Z"
   },
   {
    "duration": 50,
    "start_time": "2021-10-04T12:02:52.529Z"
   },
   {
    "duration": 23,
    "start_time": "2021-10-04T12:02:52.582Z"
   },
   {
    "duration": 24,
    "start_time": "2021-10-04T12:02:52.609Z"
   },
   {
    "duration": 329,
    "start_time": "2021-10-04T12:02:52.636Z"
   },
   {
    "duration": 14,
    "start_time": "2021-10-04T12:02:52.968Z"
   },
   {
    "duration": 23,
    "start_time": "2021-10-04T12:02:52.984Z"
   },
   {
    "duration": 8,
    "start_time": "2021-10-04T12:02:53.010Z"
   },
   {
    "duration": 329,
    "start_time": "2021-10-04T12:02:53.020Z"
   },
   {
    "duration": 23,
    "start_time": "2021-10-04T12:02:53.352Z"
   },
   {
    "duration": 21,
    "start_time": "2021-10-04T12:02:53.378Z"
   },
   {
    "duration": 14,
    "start_time": "2021-10-04T12:02:53.402Z"
   },
   {
    "duration": 310,
    "start_time": "2021-10-04T12:02:53.418Z"
   },
   {
    "duration": 40,
    "start_time": "2021-10-04T12:02:53.730Z"
   },
   {
    "duration": 25,
    "start_time": "2021-10-04T12:02:53.774Z"
   },
   {
    "duration": 19,
    "start_time": "2021-10-04T12:02:53.802Z"
   },
   {
    "duration": 47,
    "start_time": "2021-10-04T12:02:53.823Z"
   },
   {
    "duration": 19,
    "start_time": "2021-10-04T12:02:53.873Z"
   },
   {
    "duration": 22,
    "start_time": "2021-10-04T12:02:53.895Z"
   },
   {
    "duration": 44,
    "start_time": "2021-10-04T12:02:53.919Z"
   },
   {
    "duration": 5,
    "start_time": "2021-10-04T12:02:53.966Z"
   },
   {
    "duration": 12,
    "start_time": "2021-10-04T12:02:53.974Z"
   },
   {
    "duration": 6,
    "start_time": "2021-10-04T12:02:53.989Z"
   },
   {
    "duration": 72,
    "start_time": "2021-10-04T12:02:53.997Z"
   },
   {
    "duration": 10,
    "start_time": "2021-10-04T12:02:54.071Z"
   },
   {
    "duration": 28,
    "start_time": "2021-10-04T12:02:54.083Z"
   },
   {
    "duration": 41,
    "start_time": "2021-10-04T12:03:20.138Z"
   },
   {
    "duration": 29,
    "start_time": "2021-10-04T12:15:50.136Z"
   },
   {
    "duration": 4,
    "start_time": "2021-10-04T12:16:11.172Z"
   },
   {
    "duration": 529,
    "start_time": "2021-10-04T12:16:11.179Z"
   },
   {
    "duration": 17,
    "start_time": "2021-10-04T12:16:11.711Z"
   },
   {
    "duration": 30,
    "start_time": "2021-10-04T12:16:11.731Z"
   },
   {
    "duration": 41,
    "start_time": "2021-10-04T12:16:11.763Z"
   },
   {
    "duration": 5,
    "start_time": "2021-10-04T12:16:11.807Z"
   },
   {
    "duration": 54,
    "start_time": "2021-10-04T12:16:11.815Z"
   },
   {
    "duration": 22,
    "start_time": "2021-10-04T12:16:11.873Z"
   },
   {
    "duration": 65,
    "start_time": "2021-10-04T12:16:11.898Z"
   },
   {
    "duration": 6,
    "start_time": "2021-10-04T12:16:11.965Z"
   },
   {
    "duration": 16,
    "start_time": "2021-10-04T12:16:11.974Z"
   },
   {
    "duration": 70,
    "start_time": "2021-10-04T12:16:11.992Z"
   },
   {
    "duration": 27,
    "start_time": "2021-10-04T12:16:12.066Z"
   },
   {
    "duration": 8,
    "start_time": "2021-10-04T12:16:12.096Z"
   },
   {
    "duration": 57,
    "start_time": "2021-10-04T12:16:12.107Z"
   },
   {
    "duration": 19,
    "start_time": "2021-10-04T12:16:12.168Z"
   },
   {
    "duration": 11,
    "start_time": "2021-10-04T12:16:12.189Z"
   },
   {
    "duration": 78,
    "start_time": "2021-10-04T12:16:12.203Z"
   },
   {
    "duration": 7,
    "start_time": "2021-10-04T12:16:12.284Z"
   },
   {
    "duration": 77,
    "start_time": "2021-10-04T12:16:12.294Z"
   },
   {
    "duration": 33,
    "start_time": "2021-10-04T12:16:12.374Z"
   },
   {
    "duration": 26,
    "start_time": "2021-10-04T12:16:12.409Z"
   },
   {
    "duration": 9,
    "start_time": "2021-10-04T12:16:12.464Z"
   },
   {
    "duration": 12,
    "start_time": "2021-10-04T12:16:12.476Z"
   },
   {
    "duration": 31,
    "start_time": "2021-10-04T12:16:12.491Z"
   },
   {
    "duration": 4,
    "start_time": "2021-10-04T12:16:12.524Z"
   },
   {
    "duration": 97,
    "start_time": "2021-10-04T12:16:12.530Z"
   },
   {
    "duration": 52,
    "start_time": "2021-10-04T12:16:12.630Z"
   },
   {
    "duration": 20,
    "start_time": "2021-10-04T12:16:12.685Z"
   },
   {
    "duration": 72,
    "start_time": "2021-10-04T12:16:12.708Z"
   },
   {
    "duration": 17,
    "start_time": "2021-10-04T12:16:12.783Z"
   },
   {
    "duration": 25,
    "start_time": "2021-10-04T12:16:12.802Z"
   },
   {
    "duration": 77,
    "start_time": "2021-10-04T12:16:12.830Z"
   },
   {
    "duration": 18,
    "start_time": "2021-10-04T12:16:12.910Z"
   },
   {
    "duration": 33,
    "start_time": "2021-10-04T12:16:12.930Z"
   },
   {
    "duration": 12,
    "start_time": "2021-10-04T12:16:12.965Z"
   },
   {
    "duration": 28,
    "start_time": "2021-10-04T12:16:12.980Z"
   },
   {
    "duration": 26,
    "start_time": "2021-10-04T12:16:13.010Z"
   },
   {
    "duration": 29,
    "start_time": "2021-10-04T12:16:13.039Z"
   },
   {
    "duration": 17,
    "start_time": "2021-10-04T12:16:13.072Z"
   },
   {
    "duration": 331,
    "start_time": "2021-10-04T12:16:13.092Z"
   },
   {
    "duration": 15,
    "start_time": "2021-10-04T12:16:13.425Z"
   },
   {
    "duration": 37,
    "start_time": "2021-10-04T12:16:13.443Z"
   },
   {
    "duration": 7,
    "start_time": "2021-10-04T12:16:13.483Z"
   },
   {
    "duration": 306,
    "start_time": "2021-10-04T12:16:13.493Z"
   },
   {
    "duration": 20,
    "start_time": "2021-10-04T12:16:13.801Z"
   },
   {
    "duration": 48,
    "start_time": "2021-10-04T12:16:13.824Z"
   },
   {
    "duration": 8,
    "start_time": "2021-10-04T12:16:13.875Z"
   },
   {
    "duration": 295,
    "start_time": "2021-10-04T12:16:13.886Z"
   },
   {
    "duration": 21,
    "start_time": "2021-10-04T12:16:14.184Z"
   },
   {
    "duration": 23,
    "start_time": "2021-10-04T12:16:14.208Z"
   },
   {
    "duration": 22,
    "start_time": "2021-10-04T12:16:14.262Z"
   },
   {
    "duration": 22,
    "start_time": "2021-10-04T12:16:14.287Z"
   },
   {
    "duration": 52,
    "start_time": "2021-10-04T12:16:14.313Z"
   },
   {
    "duration": 9,
    "start_time": "2021-10-04T12:16:14.367Z"
   },
   {
    "duration": 27,
    "start_time": "2021-10-04T12:16:14.378Z"
   },
   {
    "duration": 13,
    "start_time": "2021-10-04T12:16:14.407Z"
   },
   {
    "duration": 47,
    "start_time": "2021-10-04T12:16:14.422Z"
   },
   {
    "duration": 9,
    "start_time": "2021-10-04T12:16:14.471Z"
   },
   {
    "duration": 9,
    "start_time": "2021-10-04T12:16:21.042Z"
   },
   {
    "duration": 30,
    "start_time": "2021-10-04T12:16:29.339Z"
   },
   {
    "duration": 23,
    "start_time": "2021-10-04T12:18:27.792Z"
   },
   {
    "duration": 5,
    "start_time": "2021-10-04T12:20:10.036Z"
   },
   {
    "duration": 519,
    "start_time": "2021-10-04T12:20:10.043Z"
   },
   {
    "duration": 18,
    "start_time": "2021-10-04T12:20:10.565Z"
   },
   {
    "duration": 27,
    "start_time": "2021-10-04T12:20:10.586Z"
   },
   {
    "duration": 73,
    "start_time": "2021-10-04T12:20:10.615Z"
   },
   {
    "duration": 5,
    "start_time": "2021-10-04T12:20:10.691Z"
   },
   {
    "duration": 24,
    "start_time": "2021-10-04T12:20:10.698Z"
   },
   {
    "duration": 55,
    "start_time": "2021-10-04T12:20:10.727Z"
   },
   {
    "duration": 37,
    "start_time": "2021-10-04T12:20:10.785Z"
   },
   {
    "duration": 38,
    "start_time": "2021-10-04T12:20:10.824Z"
   },
   {
    "duration": 16,
    "start_time": "2021-10-04T12:20:10.864Z"
   },
   {
    "duration": 34,
    "start_time": "2021-10-04T12:20:10.883Z"
   },
   {
    "duration": 57,
    "start_time": "2021-10-04T12:20:10.919Z"
   },
   {
    "duration": 7,
    "start_time": "2021-10-04T12:20:10.978Z"
   },
   {
    "duration": 13,
    "start_time": "2021-10-04T12:20:10.987Z"
   },
   {
    "duration": 24,
    "start_time": "2021-10-04T12:20:11.003Z"
   },
   {
    "duration": 39,
    "start_time": "2021-10-04T12:20:11.029Z"
   },
   {
    "duration": 32,
    "start_time": "2021-10-04T12:20:11.082Z"
   },
   {
    "duration": 9,
    "start_time": "2021-10-04T12:20:11.117Z"
   },
   {
    "duration": 72,
    "start_time": "2021-10-04T12:20:11.129Z"
   },
   {
    "duration": 59,
    "start_time": "2021-10-04T12:20:11.203Z"
   },
   {
    "duration": 28,
    "start_time": "2021-10-04T12:20:11.264Z"
   },
   {
    "duration": 8,
    "start_time": "2021-10-04T12:20:11.298Z"
   },
   {
    "duration": 11,
    "start_time": "2021-10-04T12:20:11.311Z"
   },
   {
    "duration": 67,
    "start_time": "2021-10-04T12:20:11.325Z"
   },
   {
    "duration": 4,
    "start_time": "2021-10-04T12:20:11.394Z"
   },
   {
    "duration": 97,
    "start_time": "2021-10-04T12:20:11.401Z"
   },
   {
    "duration": 30,
    "start_time": "2021-10-04T12:20:11.501Z"
   },
   {
    "duration": 46,
    "start_time": "2021-10-04T12:20:11.533Z"
   },
   {
    "duration": 37,
    "start_time": "2021-10-04T12:20:11.581Z"
   },
   {
    "duration": 43,
    "start_time": "2021-10-04T12:20:11.621Z"
   },
   {
    "duration": 25,
    "start_time": "2021-10-04T12:20:11.666Z"
   },
   {
    "duration": 76,
    "start_time": "2021-10-04T12:20:11.694Z"
   },
   {
    "duration": 18,
    "start_time": "2021-10-04T12:20:11.772Z"
   },
   {
    "duration": 3,
    "start_time": "2021-10-04T12:20:11.793Z"
   },
   {
    "duration": 24,
    "start_time": "2021-10-04T12:20:11.799Z"
   },
   {
    "duration": 42,
    "start_time": "2021-10-04T12:20:11.825Z"
   },
   {
    "duration": 19,
    "start_time": "2021-10-04T12:20:11.870Z"
   },
   {
    "duration": 18,
    "start_time": "2021-10-04T12:20:11.892Z"
   },
   {
    "duration": 11,
    "start_time": "2021-10-04T12:20:11.912Z"
   },
   {
    "duration": 336,
    "start_time": "2021-10-04T12:20:11.926Z"
   },
   {
    "duration": 11,
    "start_time": "2021-10-04T12:20:12.264Z"
   },
   {
    "duration": 18,
    "start_time": "2021-10-04T12:20:12.277Z"
   },
   {
    "duration": 5,
    "start_time": "2021-10-04T12:20:12.298Z"
   },
   {
    "duration": 300,
    "start_time": "2021-10-04T12:20:12.306Z"
   },
   {
    "duration": 14,
    "start_time": "2021-10-04T12:20:12.608Z"
   },
   {
    "duration": 38,
    "start_time": "2021-10-04T12:20:12.625Z"
   },
   {
    "duration": 6,
    "start_time": "2021-10-04T12:20:12.666Z"
   },
   {
    "duration": 296,
    "start_time": "2021-10-04T12:20:12.675Z"
   },
   {
    "duration": 21,
    "start_time": "2021-10-04T12:20:12.973Z"
   },
   {
    "duration": 20,
    "start_time": "2021-10-04T12:20:12.997Z"
   },
   {
    "duration": 52,
    "start_time": "2021-10-04T12:20:13.019Z"
   },
   {
    "duration": 16,
    "start_time": "2021-10-04T12:20:13.074Z"
   },
   {
    "duration": 17,
    "start_time": "2021-10-04T12:20:13.092Z"
   },
   {
    "duration": 54,
    "start_time": "2021-10-04T12:20:13.111Z"
   },
   {
    "duration": 26,
    "start_time": "2021-10-04T12:20:13.168Z"
   },
   {
    "duration": 72,
    "start_time": "2021-10-04T12:20:13.196Z"
   },
   {
    "duration": 17,
    "start_time": "2021-10-04T12:20:13.271Z"
   },
   {
    "duration": 7,
    "start_time": "2021-10-04T12:20:13.291Z"
   },
   {
    "duration": 25,
    "start_time": "2021-10-04T12:20:13.300Z"
   },
   {
    "duration": 82,
    "start_time": "2021-10-04T12:20:13.328Z"
   },
   {
    "duration": 71,
    "start_time": "2021-10-04T12:20:13.413Z"
   },
   {
    "duration": 32,
    "start_time": "2021-10-04T12:20:13.487Z"
   },
   {
    "duration": 68,
    "start_time": "2021-10-04T12:20:13.522Z"
   },
   {
    "duration": 39,
    "start_time": "2021-10-04T12:20:13.592Z"
   },
   {
    "duration": 55,
    "start_time": "2021-10-04T12:20:13.634Z"
   },
   {
    "duration": 32,
    "start_time": "2021-10-04T12:20:13.692Z"
   },
   {
    "duration": 321,
    "start_time": "2021-10-05T09:37:32.440Z"
   },
   {
    "duration": 1171,
    "start_time": "2021-10-05T09:37:41.696Z"
   },
   {
    "duration": 396,
    "start_time": "2021-10-05T09:37:42.869Z"
   },
   {
    "duration": 16,
    "start_time": "2021-10-05T09:37:43.267Z"
   },
   {
    "duration": 20,
    "start_time": "2021-10-05T09:37:43.285Z"
   },
   {
    "duration": 30,
    "start_time": "2021-10-05T09:37:43.306Z"
   },
   {
    "duration": 7,
    "start_time": "2021-10-05T09:37:43.338Z"
   },
   {
    "duration": 31,
    "start_time": "2021-10-05T09:37:43.346Z"
   },
   {
    "duration": 32,
    "start_time": "2021-10-05T09:37:43.379Z"
   },
   {
    "duration": 31,
    "start_time": "2021-10-05T09:37:43.413Z"
   },
   {
    "duration": 4,
    "start_time": "2021-10-05T09:37:43.445Z"
   },
   {
    "duration": 28,
    "start_time": "2021-10-05T09:37:43.451Z"
   },
   {
    "duration": 38,
    "start_time": "2021-10-05T09:37:43.481Z"
   },
   {
    "duration": 34,
    "start_time": "2021-10-05T09:37:43.520Z"
   },
   {
    "duration": 22,
    "start_time": "2021-10-05T09:37:43.555Z"
   },
   {
    "duration": 69,
    "start_time": "2021-10-05T09:37:43.579Z"
   },
   {
    "duration": 27,
    "start_time": "2021-10-05T09:37:43.650Z"
   },
   {
    "duration": 24,
    "start_time": "2021-10-05T09:37:43.679Z"
   },
   {
    "duration": 46,
    "start_time": "2021-10-05T09:37:43.705Z"
   },
   {
    "duration": 34,
    "start_time": "2021-10-05T09:37:43.753Z"
   },
   {
    "duration": 55,
    "start_time": "2021-10-05T09:37:43.789Z"
   },
   {
    "duration": 23,
    "start_time": "2021-10-05T09:37:43.846Z"
   },
   {
    "duration": 20,
    "start_time": "2021-10-05T09:37:43.871Z"
   },
   {
    "duration": 20,
    "start_time": "2021-10-05T09:37:43.894Z"
   },
   {
    "duration": 29,
    "start_time": "2021-10-05T09:37:43.916Z"
   },
   {
    "duration": 13,
    "start_time": "2021-10-05T09:37:46.164Z"
   },
   {
    "duration": 11,
    "start_time": "2021-10-05T09:37:53.128Z"
   },
   {
    "duration": 576,
    "start_time": "2021-10-05T09:37:58.966Z"
   },
   {
    "duration": 12,
    "start_time": "2021-10-05T10:17:04.050Z"
   },
   {
    "duration": 9,
    "start_time": "2021-10-05T10:17:13.031Z"
   },
   {
    "duration": 70,
    "start_time": "2021-10-05T10:18:04.223Z"
   },
   {
    "duration": 79,
    "start_time": "2021-10-05T10:18:07.645Z"
   },
   {
    "duration": 235,
    "start_time": "2021-10-05T10:18:41.953Z"
   },
   {
    "duration": 1092,
    "start_time": "2021-10-05T10:19:14.476Z"
   },
   {
    "duration": 403,
    "start_time": "2021-10-05T10:19:15.570Z"
   },
   {
    "duration": 17,
    "start_time": "2021-10-05T10:19:15.975Z"
   },
   {
    "duration": 22,
    "start_time": "2021-10-05T10:19:15.994Z"
   },
   {
    "duration": 32,
    "start_time": "2021-10-05T10:19:16.018Z"
   },
   {
    "duration": 4,
    "start_time": "2021-10-05T10:19:16.052Z"
   },
   {
    "duration": 16,
    "start_time": "2021-10-05T10:19:16.058Z"
   },
   {
    "duration": 17,
    "start_time": "2021-10-05T10:19:16.077Z"
   },
   {
    "duration": 50,
    "start_time": "2021-10-05T10:19:16.097Z"
   },
   {
    "duration": 5,
    "start_time": "2021-10-05T10:19:16.149Z"
   },
   {
    "duration": 13,
    "start_time": "2021-10-05T10:19:16.156Z"
   },
   {
    "duration": 16,
    "start_time": "2021-10-05T10:19:16.170Z"
   },
   {
    "duration": 17,
    "start_time": "2021-10-05T10:19:16.188Z"
   },
   {
    "duration": 40,
    "start_time": "2021-10-05T10:19:16.207Z"
   },
   {
    "duration": 17,
    "start_time": "2021-10-05T10:19:16.249Z"
   },
   {
    "duration": 10,
    "start_time": "2021-10-05T10:19:16.268Z"
   },
   {
    "duration": 23,
    "start_time": "2021-10-05T10:19:16.280Z"
   },
   {
    "duration": 19,
    "start_time": "2021-10-05T10:19:16.305Z"
   },
   {
    "duration": 4,
    "start_time": "2021-10-05T10:19:16.326Z"
   },
   {
    "duration": 38,
    "start_time": "2021-10-05T10:19:16.332Z"
   },
   {
    "duration": 22,
    "start_time": "2021-10-05T10:19:16.372Z"
   },
   {
    "duration": 17,
    "start_time": "2021-10-05T10:19:16.396Z"
   },
   {
    "duration": 5,
    "start_time": "2021-10-05T10:19:16.417Z"
   },
   {
    "duration": 7,
    "start_time": "2021-10-05T10:19:16.444Z"
   },
   {
    "duration": 13,
    "start_time": "2021-10-05T10:19:16.453Z"
   },
   {
    "duration": 11,
    "start_time": "2021-10-05T10:19:16.467Z"
   },
   {
    "duration": 14,
    "start_time": "2021-10-05T10:19:16.480Z"
   },
   {
    "duration": 21,
    "start_time": "2021-10-05T10:19:16.495Z"
   },
   {
    "duration": 95,
    "start_time": "2021-10-05T10:19:16.518Z"
   },
   {
    "duration": 388,
    "start_time": "2021-10-05T10:34:57.548Z"
   },
   {
    "duration": 357,
    "start_time": "2021-10-05T10:34:59.909Z"
   },
   {
    "duration": 310,
    "start_time": "2021-10-05T10:35:07.640Z"
   },
   {
    "duration": 699,
    "start_time": "2021-10-05T10:35:16.803Z"
   },
   {
    "duration": 1079,
    "start_time": "2021-10-05T10:35:23.495Z"
   },
   {
    "duration": 404,
    "start_time": "2021-10-05T10:35:24.576Z"
   },
   {
    "duration": 16,
    "start_time": "2021-10-05T10:35:24.982Z"
   },
   {
    "duration": 25,
    "start_time": "2021-10-05T10:35:25.000Z"
   },
   {
    "duration": 35,
    "start_time": "2021-10-05T10:35:25.027Z"
   },
   {
    "duration": 5,
    "start_time": "2021-10-05T10:35:25.063Z"
   },
   {
    "duration": 33,
    "start_time": "2021-10-05T10:35:25.069Z"
   },
   {
    "duration": 39,
    "start_time": "2021-10-05T10:35:25.104Z"
   },
   {
    "duration": 25,
    "start_time": "2021-10-05T10:35:25.145Z"
   },
   {
    "duration": 4,
    "start_time": "2021-10-05T10:35:25.172Z"
   },
   {
    "duration": 17,
    "start_time": "2021-10-05T10:35:25.178Z"
   },
   {
    "duration": 21,
    "start_time": "2021-10-05T10:35:25.197Z"
   },
   {
    "duration": 50,
    "start_time": "2021-10-05T10:35:25.220Z"
   },
   {
    "duration": 7,
    "start_time": "2021-10-05T10:35:25.272Z"
   },
   {
    "duration": 22,
    "start_time": "2021-10-05T10:35:25.280Z"
   },
   {
    "duration": 16,
    "start_time": "2021-10-05T10:35:25.303Z"
   },
   {
    "duration": 15,
    "start_time": "2021-10-05T10:35:25.320Z"
   },
   {
    "duration": 27,
    "start_time": "2021-10-05T10:35:25.337Z"
   },
   {
    "duration": 7,
    "start_time": "2021-10-05T10:35:25.366Z"
   },
   {
    "duration": 46,
    "start_time": "2021-10-05T10:35:25.375Z"
   },
   {
    "duration": 25,
    "start_time": "2021-10-05T10:35:25.422Z"
   },
   {
    "duration": 20,
    "start_time": "2021-10-05T10:35:25.449Z"
   },
   {
    "duration": 6,
    "start_time": "2021-10-05T10:35:25.473Z"
   },
   {
    "duration": 16,
    "start_time": "2021-10-05T10:35:25.482Z"
   },
   {
    "duration": 15,
    "start_time": "2021-10-05T10:35:25.500Z"
   },
   {
    "duration": 32,
    "start_time": "2021-10-05T10:35:25.517Z"
   },
   {
    "duration": 12,
    "start_time": "2021-10-05T10:35:25.551Z"
   },
   {
    "duration": 13,
    "start_time": "2021-10-05T10:35:25.565Z"
   },
   {
    "duration": 51,
    "start_time": "2021-10-05T10:35:25.580Z"
   },
   {
    "duration": 2,
    "start_time": "2021-10-05T10:35:25.633Z"
   },
   {
    "duration": 67,
    "start_time": "2021-10-05T10:35:25.636Z"
   },
   {
    "duration": 18,
    "start_time": "2021-10-05T10:35:25.705Z"
   },
   {
    "duration": 25,
    "start_time": "2021-10-05T10:35:25.725Z"
   },
   {
    "duration": 30,
    "start_time": "2021-10-05T10:35:25.752Z"
   },
   {
    "duration": 13,
    "start_time": "2021-10-05T10:35:25.784Z"
   },
   {
    "duration": 17,
    "start_time": "2021-10-05T10:35:25.799Z"
   },
   {
    "duration": 62,
    "start_time": "2021-10-05T10:35:25.818Z"
   },
   {
    "duration": 13,
    "start_time": "2021-10-05T10:35:25.882Z"
   },
   {
    "duration": 8,
    "start_time": "2021-10-05T10:35:25.897Z"
   },
   {
    "duration": 26,
    "start_time": "2021-10-05T10:35:25.907Z"
   },
   {
    "duration": 26,
    "start_time": "2021-10-05T10:35:25.935Z"
   },
   {
    "duration": 11,
    "start_time": "2021-10-05T10:35:25.963Z"
   },
   {
    "duration": 7,
    "start_time": "2021-10-05T10:35:29.182Z"
   },
   {
    "duration": 9,
    "start_time": "2021-10-05T10:35:36.085Z"
   },
   {
    "duration": 8,
    "start_time": "2021-10-05T10:38:58.463Z"
   },
   {
    "duration": 11,
    "start_time": "2021-10-05T10:38:59.406Z"
   },
   {
    "duration": 47,
    "start_time": "2021-10-05T10:39:00.200Z"
   },
   {
    "duration": 22,
    "start_time": "2021-10-05T10:39:05.061Z"
   },
   {
    "duration": 5,
    "start_time": "2021-10-05T10:39:26.608Z"
   },
   {
    "duration": 5,
    "start_time": "2021-10-05T10:39:32.188Z"
   },
   {
    "duration": 5,
    "start_time": "2021-10-05T10:39:46.670Z"
   },
   {
    "duration": 3,
    "start_time": "2021-10-05T10:49:37.900Z"
   },
   {
    "duration": 412,
    "start_time": "2021-10-05T10:49:37.905Z"
   },
   {
    "duration": 12,
    "start_time": "2021-10-05T10:49:38.318Z"
   },
   {
    "duration": 24,
    "start_time": "2021-10-05T10:49:38.332Z"
   },
   {
    "duration": 27,
    "start_time": "2021-10-05T10:49:38.357Z"
   },
   {
    "duration": 4,
    "start_time": "2021-10-05T10:49:38.386Z"
   },
   {
    "duration": 17,
    "start_time": "2021-10-05T10:49:38.391Z"
   },
   {
    "duration": 24,
    "start_time": "2021-10-05T10:49:38.410Z"
   },
   {
    "duration": 29,
    "start_time": "2021-10-05T10:49:38.436Z"
   },
   {
    "duration": 5,
    "start_time": "2021-10-05T10:49:38.467Z"
   },
   {
    "duration": 28,
    "start_time": "2021-10-05T10:49:38.474Z"
   },
   {
    "duration": 15,
    "start_time": "2021-10-05T10:49:38.504Z"
   },
   {
    "duration": 30,
    "start_time": "2021-10-05T10:49:38.520Z"
   },
   {
    "duration": 5,
    "start_time": "2021-10-05T10:49:38.552Z"
   },
   {
    "duration": 15,
    "start_time": "2021-10-05T10:49:38.559Z"
   },
   {
    "duration": 17,
    "start_time": "2021-10-05T10:49:38.576Z"
   },
   {
    "duration": 8,
    "start_time": "2021-10-05T10:49:38.595Z"
   },
   {
    "duration": 34,
    "start_time": "2021-10-05T10:49:38.605Z"
   },
   {
    "duration": 7,
    "start_time": "2021-10-05T10:49:38.641Z"
   },
   {
    "duration": 31,
    "start_time": "2021-10-05T10:49:38.650Z"
   },
   {
    "duration": 24,
    "start_time": "2021-10-05T10:49:38.683Z"
   },
   {
    "duration": 44,
    "start_time": "2021-10-05T10:49:38.708Z"
   },
   {
    "duration": 5,
    "start_time": "2021-10-05T10:49:38.757Z"
   },
   {
    "duration": 20,
    "start_time": "2021-10-05T10:49:38.764Z"
   },
   {
    "duration": 25,
    "start_time": "2021-10-05T10:49:38.785Z"
   },
   {
    "duration": 12,
    "start_time": "2021-10-05T10:49:38.812Z"
   },
   {
    "duration": 24,
    "start_time": "2021-10-05T10:49:38.825Z"
   },
   {
    "duration": 17,
    "start_time": "2021-10-05T10:49:38.850Z"
   },
   {
    "duration": 34,
    "start_time": "2021-10-05T10:49:38.869Z"
   },
   {
    "duration": 3,
    "start_time": "2021-10-05T10:49:38.905Z"
   },
   {
    "duration": 55,
    "start_time": "2021-10-05T10:49:38.910Z"
   },
   {
    "duration": 19,
    "start_time": "2021-10-05T10:49:38.966Z"
   },
   {
    "duration": 23,
    "start_time": "2021-10-05T10:49:38.987Z"
   },
   {
    "duration": 40,
    "start_time": "2021-10-05T10:49:39.012Z"
   },
   {
    "duration": 12,
    "start_time": "2021-10-05T10:49:39.054Z"
   },
   {
    "duration": 21,
    "start_time": "2021-10-05T10:49:39.068Z"
   },
   {
    "duration": 32,
    "start_time": "2021-10-05T10:49:39.091Z"
   },
   {
    "duration": 30,
    "start_time": "2021-10-05T10:49:39.124Z"
   },
   {
    "duration": 11,
    "start_time": "2021-10-05T10:49:39.155Z"
   },
   {
    "duration": 25,
    "start_time": "2021-10-05T10:49:39.167Z"
   },
   {
    "duration": 23,
    "start_time": "2021-10-05T10:49:39.194Z"
   },
   {
    "duration": 15,
    "start_time": "2021-10-05T10:49:39.219Z"
   },
   {
    "duration": 12,
    "start_time": "2021-10-05T10:49:39.236Z"
   },
   {
    "duration": 11,
    "start_time": "2021-10-05T10:49:39.250Z"
   },
   {
    "duration": 299,
    "start_time": "2021-10-05T10:49:39.263Z"
   },
   {
    "duration": -92,
    "start_time": "2021-10-05T10:49:39.656Z"
   },
   {
    "duration": -94,
    "start_time": "2021-10-05T10:49:39.660Z"
   },
   {
    "duration": 14,
    "start_time": "2021-10-05T10:49:53.166Z"
   },
   {
    "duration": 9,
    "start_time": "2021-10-05T10:50:26.587Z"
   },
   {
    "duration": 11,
    "start_time": "2021-10-05T10:50:34.152Z"
   },
   {
    "duration": 11,
    "start_time": "2021-10-05T10:50:34.869Z"
   },
   {
    "duration": 23,
    "start_time": "2021-10-05T10:50:35.994Z"
   },
   {
    "duration": 4,
    "start_time": "2021-10-05T10:50:48.418Z"
   },
   {
    "duration": 24,
    "start_time": "2021-10-05T10:50:51.419Z"
   },
   {
    "duration": 5,
    "start_time": "2021-10-05T10:57:49.818Z"
   },
   {
    "duration": 5,
    "start_time": "2021-10-05T10:57:56.951Z"
   },
   {
    "duration": 72,
    "start_time": "2021-10-05T10:58:10.716Z"
   },
   {
    "duration": 16,
    "start_time": "2021-10-05T10:58:12.886Z"
   },
   {
    "duration": 119,
    "start_time": "2021-10-06T13:00:25.342Z"
   },
   {
    "duration": 1619,
    "start_time": "2021-10-06T13:16:27.588Z"
   },
   {
    "duration": 685,
    "start_time": "2021-10-06T13:16:29.210Z"
   },
   {
    "duration": 27,
    "start_time": "2021-10-06T13:16:29.898Z"
   },
   {
    "duration": 27,
    "start_time": "2021-10-06T13:16:29.927Z"
   },
   {
    "duration": 72,
    "start_time": "2021-10-06T13:16:29.957Z"
   },
   {
    "duration": 8,
    "start_time": "2021-10-06T13:16:30.032Z"
   },
   {
    "duration": 44,
    "start_time": "2021-10-06T13:16:30.043Z"
   },
   {
    "duration": 30,
    "start_time": "2021-10-06T13:16:30.093Z"
   },
   {
    "duration": 58,
    "start_time": "2021-10-06T13:16:30.127Z"
   },
   {
    "duration": 9,
    "start_time": "2021-10-06T13:16:30.191Z"
   },
   {
    "duration": 26,
    "start_time": "2021-10-06T13:16:30.203Z"
   },
   {
    "duration": 22,
    "start_time": "2021-10-06T13:16:30.232Z"
   },
   {
    "duration": 38,
    "start_time": "2021-10-06T13:16:30.285Z"
   },
   {
    "duration": 9,
    "start_time": "2021-10-06T13:16:30.325Z"
   },
   {
    "duration": 38,
    "start_time": "2021-10-06T13:16:30.337Z"
   },
   {
    "duration": 31,
    "start_time": "2021-10-06T13:16:30.382Z"
   },
   {
    "duration": 30,
    "start_time": "2021-10-06T13:16:30.415Z"
   },
   {
    "duration": 48,
    "start_time": "2021-10-06T13:16:30.448Z"
   },
   {
    "duration": 8,
    "start_time": "2021-10-06T13:16:30.499Z"
   },
   {
    "duration": 67,
    "start_time": "2021-10-06T13:16:30.510Z"
   },
   {
    "duration": 46,
    "start_time": "2021-10-06T13:16:30.579Z"
   },
   {
    "duration": 28,
    "start_time": "2021-10-06T13:16:30.627Z"
   },
   {
    "duration": 33,
    "start_time": "2021-10-06T13:16:30.660Z"
   },
   {
    "duration": 15,
    "start_time": "2021-10-06T13:16:30.696Z"
   },
   {
    "duration": 43,
    "start_time": "2021-10-06T13:16:30.713Z"
   },
   {
    "duration": 4,
    "start_time": "2021-10-06T13:16:30.758Z"
   },
   {
    "duration": 108,
    "start_time": "2021-10-06T13:16:30.765Z"
   },
   {
    "duration": 41,
    "start_time": "2021-10-06T13:16:30.876Z"
   },
   {
    "duration": 20,
    "start_time": "2021-10-06T13:16:30.921Z"
   },
   {
    "duration": 73,
    "start_time": "2021-10-06T13:16:30.943Z"
   },
   {
    "duration": 20,
    "start_time": "2021-10-06T13:16:31.019Z"
   },
   {
    "duration": 51,
    "start_time": "2021-10-06T13:16:31.041Z"
   },
   {
    "duration": 63,
    "start_time": "2021-10-06T13:16:31.095Z"
   },
   {
    "duration": 33,
    "start_time": "2021-10-06T13:16:31.161Z"
   },
   {
    "duration": 8,
    "start_time": "2021-10-06T13:16:31.196Z"
   },
   {
    "duration": 18,
    "start_time": "2021-10-06T13:16:31.207Z"
   },
   {
    "duration": 30,
    "start_time": "2021-10-06T13:16:31.228Z"
   },
   {
    "duration": 11,
    "start_time": "2021-10-06T13:16:31.260Z"
   },
   {
    "duration": 14,
    "start_time": "2021-10-06T13:16:31.273Z"
   },
   {
    "duration": 15,
    "start_time": "2021-10-06T13:16:31.291Z"
   },
   {
    "duration": 23,
    "start_time": "2021-10-06T13:16:31.309Z"
   },
   {
    "duration": 17,
    "start_time": "2021-10-06T13:16:31.335Z"
   },
   {
    "duration": 49,
    "start_time": "2021-10-06T13:16:31.354Z"
   },
   {
    "duration": 35,
    "start_time": "2021-10-06T13:16:31.406Z"
   },
   {
    "duration": 48,
    "start_time": "2021-10-06T13:16:31.443Z"
   },
   {
    "duration": 23,
    "start_time": "2021-10-06T13:16:37.538Z"
   },
   {
    "duration": 106,
    "start_time": "2021-10-06T13:16:38.498Z"
   },
   {
    "duration": 69,
    "start_time": "2021-10-06T13:16:44.602Z"
   },
   {
    "duration": 9,
    "start_time": "2021-10-06T13:17:19.499Z"
   },
   {
    "duration": 7,
    "start_time": "2021-10-06T13:17:29.050Z"
   },
   {
    "duration": 33,
    "start_time": "2021-10-06T13:17:47.233Z"
   },
   {
    "duration": 71,
    "start_time": "2021-10-06T13:18:42.867Z"
   },
   {
    "duration": 49,
    "start_time": "2021-10-06T13:19:19.183Z"
   },
   {
    "duration": 52,
    "start_time": "2021-10-06T13:21:47.615Z"
   },
   {
    "duration": 51,
    "start_time": "2021-10-06T13:26:45.303Z"
   },
   {
    "duration": 41,
    "start_time": "2021-10-06T13:27:13.686Z"
   },
   {
    "duration": 1187,
    "start_time": "2021-10-06T16:42:15.138Z"
   },
   {
    "duration": 494,
    "start_time": "2021-10-06T16:42:16.327Z"
   },
   {
    "duration": 17,
    "start_time": "2021-10-06T16:42:16.823Z"
   },
   {
    "duration": 22,
    "start_time": "2021-10-06T16:42:16.842Z"
   },
   {
    "duration": 31,
    "start_time": "2021-10-06T16:42:16.866Z"
   },
   {
    "duration": 5,
    "start_time": "2021-10-06T16:42:16.899Z"
   },
   {
    "duration": 14,
    "start_time": "2021-10-06T16:42:16.906Z"
   },
   {
    "duration": 24,
    "start_time": "2021-10-06T16:42:16.922Z"
   },
   {
    "duration": 39,
    "start_time": "2021-10-06T16:42:16.948Z"
   },
   {
    "duration": 5,
    "start_time": "2021-10-06T16:42:16.989Z"
   },
   {
    "duration": 12,
    "start_time": "2021-10-06T16:42:16.996Z"
   },
   {
    "duration": 15,
    "start_time": "2021-10-06T16:42:17.009Z"
   },
   {
    "duration": 17,
    "start_time": "2021-10-06T16:42:17.026Z"
   },
   {
    "duration": 34,
    "start_time": "2021-10-06T16:42:17.045Z"
   },
   {
    "duration": 8,
    "start_time": "2021-10-06T16:42:17.081Z"
   },
   {
    "duration": 11,
    "start_time": "2021-10-06T16:42:17.090Z"
   },
   {
    "duration": 6,
    "start_time": "2021-10-06T16:42:17.103Z"
   },
   {
    "duration": 17,
    "start_time": "2021-10-06T16:42:17.111Z"
   },
   {
    "duration": 7,
    "start_time": "2021-10-06T16:42:17.130Z"
   },
   {
    "duration": 71,
    "start_time": "2021-10-06T16:42:17.139Z"
   },
   {
    "duration": 24,
    "start_time": "2021-10-06T16:42:17.212Z"
   },
   {
    "duration": 39,
    "start_time": "2021-10-06T16:42:17.238Z"
   },
   {
    "duration": 6,
    "start_time": "2021-10-06T16:42:17.280Z"
   },
   {
    "duration": 8,
    "start_time": "2021-10-06T16:42:17.288Z"
   },
   {
    "duration": 24,
    "start_time": "2021-10-06T16:42:17.298Z"
   },
   {
    "duration": 3,
    "start_time": "2021-10-06T16:42:17.324Z"
   },
   {
    "duration": 82,
    "start_time": "2021-10-06T16:42:17.329Z"
   },
   {
    "duration": 23,
    "start_time": "2021-10-06T16:42:17.413Z"
   },
   {
    "duration": 15,
    "start_time": "2021-10-06T16:42:17.438Z"
   },
   {
    "duration": 45,
    "start_time": "2021-10-06T16:42:17.455Z"
   },
   {
    "duration": 13,
    "start_time": "2021-10-06T16:42:17.501Z"
   },
   {
    "duration": 18,
    "start_time": "2021-10-06T16:42:17.516Z"
   },
   {
    "duration": 58,
    "start_time": "2021-10-06T16:42:17.535Z"
   },
   {
    "duration": 14,
    "start_time": "2021-10-06T16:42:17.594Z"
   },
   {
    "duration": 3,
    "start_time": "2021-10-06T16:42:17.610Z"
   },
   {
    "duration": 10,
    "start_time": "2021-10-06T16:42:17.614Z"
   },
   {
    "duration": 12,
    "start_time": "2021-10-06T16:42:17.625Z"
   },
   {
    "duration": 6,
    "start_time": "2021-10-06T16:42:17.639Z"
   },
   {
    "duration": 32,
    "start_time": "2021-10-06T16:42:17.646Z"
   },
   {
    "duration": 5,
    "start_time": "2021-10-06T16:42:17.680Z"
   },
   {
    "duration": 9,
    "start_time": "2021-10-06T16:42:17.687Z"
   },
   {
    "duration": 9,
    "start_time": "2021-10-06T16:42:17.698Z"
   },
   {
    "duration": 11,
    "start_time": "2021-10-06T16:42:17.709Z"
   },
   {
    "duration": 115,
    "start_time": "2021-10-06T16:42:59.665Z"
   },
   {
    "duration": 380,
    "start_time": "2021-10-06T17:19:08.046Z"
   },
   {
    "duration": 3,
    "start_time": "2021-10-06T17:19:37.571Z"
   },
   {
    "duration": 477,
    "start_time": "2021-10-06T17:19:37.576Z"
   },
   {
    "duration": 13,
    "start_time": "2021-10-06T17:19:38.055Z"
   },
   {
    "duration": 27,
    "start_time": "2021-10-06T17:19:38.070Z"
   },
   {
    "duration": 29,
    "start_time": "2021-10-06T17:19:38.099Z"
   },
   {
    "duration": 5,
    "start_time": "2021-10-06T17:19:38.130Z"
   },
   {
    "duration": 23,
    "start_time": "2021-10-06T17:19:38.138Z"
   },
   {
    "duration": 18,
    "start_time": "2021-10-06T17:19:38.176Z"
   },
   {
    "duration": 28,
    "start_time": "2021-10-06T17:19:38.196Z"
   },
   {
    "duration": 5,
    "start_time": "2021-10-06T17:19:38.226Z"
   },
   {
    "duration": 15,
    "start_time": "2021-10-06T17:19:38.233Z"
   },
   {
    "duration": 39,
    "start_time": "2021-10-06T17:19:38.250Z"
   },
   {
    "duration": 16,
    "start_time": "2021-10-06T17:19:38.290Z"
   },
   {
    "duration": 4,
    "start_time": "2021-10-06T17:19:38.308Z"
   },
   {
    "duration": 11,
    "start_time": "2021-10-06T17:19:38.313Z"
   },
   {
    "duration": 14,
    "start_time": "2021-10-06T17:19:38.326Z"
   },
   {
    "duration": 9,
    "start_time": "2021-10-06T17:19:38.342Z"
   },
   {
    "duration": 36,
    "start_time": "2021-10-06T17:19:38.353Z"
   },
   {
    "duration": 12,
    "start_time": "2021-10-06T17:19:38.392Z"
   },
   {
    "duration": 34,
    "start_time": "2021-10-06T17:19:38.406Z"
   },
   {
    "duration": 22,
    "start_time": "2021-10-06T17:19:38.442Z"
   },
   {
    "duration": 26,
    "start_time": "2021-10-06T17:19:38.465Z"
   },
   {
    "duration": 6,
    "start_time": "2021-10-06T17:19:38.492Z"
   },
   {
    "duration": 24,
    "start_time": "2021-10-06T17:19:38.499Z"
   },
   {
    "duration": 26,
    "start_time": "2021-10-06T17:19:38.524Z"
   },
   {
    "duration": 2,
    "start_time": "2021-10-06T17:19:38.552Z"
   },
   {
    "duration": 62,
    "start_time": "2021-10-06T17:19:38.556Z"
   },
   {
    "duration": 18,
    "start_time": "2021-10-06T17:19:38.620Z"
   },
   {
    "duration": 21,
    "start_time": "2021-10-06T17:19:38.639Z"
   },
   {
    "duration": 29,
    "start_time": "2021-10-06T17:19:38.662Z"
   },
   {
    "duration": 11,
    "start_time": "2021-10-06T17:19:38.693Z"
   },
   {
    "duration": 17,
    "start_time": "2021-10-06T17:19:38.706Z"
   },
   {
    "duration": 31,
    "start_time": "2021-10-06T17:19:38.724Z"
   },
   {
    "duration": 13,
    "start_time": "2021-10-06T17:19:38.777Z"
   },
   {
    "duration": 2,
    "start_time": "2021-10-06T17:19:38.792Z"
   },
   {
    "duration": 9,
    "start_time": "2021-10-06T17:19:38.795Z"
   },
   {
    "duration": 11,
    "start_time": "2021-10-06T17:19:38.805Z"
   },
   {
    "duration": 6,
    "start_time": "2021-10-06T17:19:38.818Z"
   },
   {
    "duration": 5,
    "start_time": "2021-10-06T17:19:38.825Z"
   },
   {
    "duration": 6,
    "start_time": "2021-10-06T17:19:38.832Z"
   },
   {
    "duration": 40,
    "start_time": "2021-10-06T17:19:38.840Z"
   },
   {
    "duration": 10,
    "start_time": "2021-10-06T17:19:38.881Z"
   },
   {
    "duration": 9,
    "start_time": "2021-10-06T17:19:38.893Z"
   },
   {
    "duration": 11,
    "start_time": "2021-10-06T17:19:38.904Z"
   },
   {
    "duration": 34,
    "start_time": "2021-10-06T17:19:42.997Z"
   },
   {
    "duration": 23,
    "start_time": "2021-10-06T18:19:11.769Z"
   },
   {
    "duration": 23,
    "start_time": "2021-10-06T18:19:44.982Z"
   },
   {
    "duration": 1369,
    "start_time": "2021-10-06T18:20:38.386Z"
   },
   {
    "duration": 27,
    "start_time": "2021-10-06T18:21:36.913Z"
   },
   {
    "duration": 33,
    "start_time": "2021-10-06T18:21:41.366Z"
   },
   {
    "duration": 34,
    "start_time": "2021-10-06T18:21:54.404Z"
   },
   {
    "duration": 33,
    "start_time": "2021-10-06T18:22:00.657Z"
   },
   {
    "duration": 29,
    "start_time": "2021-10-06T18:25:45.877Z"
   },
   {
    "duration": 33,
    "start_time": "2021-10-06T18:25:51.078Z"
   },
   {
    "duration": 4,
    "start_time": "2021-10-06T18:42:55.674Z"
   },
   {
    "duration": 171,
    "start_time": "2021-10-06T18:42:56.199Z"
   },
   {
    "duration": 5,
    "start_time": "2021-10-06T18:43:28.120Z"
   },
   {
    "duration": 164,
    "start_time": "2021-10-06T18:43:28.540Z"
   },
   {
    "duration": 300,
    "start_time": "2021-10-06T18:43:51.876Z"
   },
   {
    "duration": 4,
    "start_time": "2021-10-06T18:43:57.989Z"
   },
   {
    "duration": 157,
    "start_time": "2021-10-06T18:43:58.392Z"
   },
   {
    "duration": 24,
    "start_time": "2021-10-06T18:44:21.141Z"
   },
   {
    "duration": 6,
    "start_time": "2021-10-06T18:44:49.347Z"
   },
   {
    "duration": 24,
    "start_time": "2021-10-06T18:51:16.911Z"
   },
   {
    "duration": 6,
    "start_time": "2021-10-06T18:51:27.040Z"
   },
   {
    "duration": 8,
    "start_time": "2021-10-06T18:51:37.359Z"
   },
   {
    "duration": 4,
    "start_time": "2021-10-06T18:51:57.242Z"
   },
   {
    "duration": 4,
    "start_time": "2021-10-06T18:52:09.229Z"
   },
   {
    "duration": -427,
    "start_time": "2021-10-06T18:52:21.553Z"
   },
   {
    "duration": 5,
    "start_time": "2021-10-06T18:52:37.874Z"
   },
   {
    "duration": 28,
    "start_time": "2021-10-06T18:52:58.331Z"
   },
   {
    "duration": 17,
    "start_time": "2021-10-06T18:54:20.570Z"
   },
   {
    "duration": 3,
    "start_time": "2021-10-06T18:54:52.874Z"
   },
   {
    "duration": 497,
    "start_time": "2021-10-06T18:54:52.878Z"
   },
   {
    "duration": 14,
    "start_time": "2021-10-06T18:54:53.377Z"
   },
   {
    "duration": 27,
    "start_time": "2021-10-06T18:54:53.392Z"
   },
   {
    "duration": 28,
    "start_time": "2021-10-06T18:54:53.421Z"
   },
   {
    "duration": 4,
    "start_time": "2021-10-06T18:54:53.451Z"
   },
   {
    "duration": 11,
    "start_time": "2021-10-06T18:54:53.478Z"
   },
   {
    "duration": 19,
    "start_time": "2021-10-06T18:54:53.491Z"
   },
   {
    "duration": 24,
    "start_time": "2021-10-06T18:54:53.512Z"
   },
   {
    "duration": 4,
    "start_time": "2021-10-06T18:54:53.538Z"
   },
   {
    "duration": 45,
    "start_time": "2021-10-06T18:54:53.544Z"
   },
   {
    "duration": 19,
    "start_time": "2021-10-06T18:54:53.590Z"
   },
   {
    "duration": 21,
    "start_time": "2021-10-06T18:54:53.610Z"
   },
   {
    "duration": 4,
    "start_time": "2021-10-06T18:54:53.633Z"
   },
   {
    "duration": 11,
    "start_time": "2021-10-06T18:54:53.639Z"
   },
   {
    "duration": 28,
    "start_time": "2021-10-06T18:54:53.652Z"
   },
   {
    "duration": 6,
    "start_time": "2021-10-06T18:54:53.682Z"
   },
   {
    "duration": 22,
    "start_time": "2021-10-06T18:54:53.689Z"
   },
   {
    "duration": 5,
    "start_time": "2021-10-06T18:54:53.714Z"
   },
   {
    "duration": 55,
    "start_time": "2021-10-06T18:54:53.721Z"
   },
   {
    "duration": 26,
    "start_time": "2021-10-06T18:54:53.778Z"
   },
   {
    "duration": 19,
    "start_time": "2021-10-06T18:54:53.805Z"
   },
   {
    "duration": 6,
    "start_time": "2021-10-06T18:54:53.825Z"
   },
   {
    "duration": 15,
    "start_time": "2021-10-06T18:54:53.832Z"
   },
   {
    "duration": 40,
    "start_time": "2021-10-06T18:54:53.848Z"
   },
   {
    "duration": 3,
    "start_time": "2021-10-06T18:54:53.890Z"
   },
   {
    "duration": 57,
    "start_time": "2021-10-06T18:54:53.894Z"
   },
   {
    "duration": 33,
    "start_time": "2021-10-06T18:54:53.953Z"
   },
   {
    "duration": 16,
    "start_time": "2021-10-06T18:54:53.988Z"
   },
   {
    "duration": 26,
    "start_time": "2021-10-06T18:54:54.005Z"
   },
   {
    "duration": 12,
    "start_time": "2021-10-06T18:54:54.033Z"
   },
   {
    "duration": 44,
    "start_time": "2021-10-06T18:54:54.047Z"
   },
   {
    "duration": 34,
    "start_time": "2021-10-06T18:54:54.093Z"
   },
   {
    "duration": 11,
    "start_time": "2021-10-06T18:54:54.129Z"
   },
   {
    "duration": 5,
    "start_time": "2021-10-06T18:54:54.142Z"
   },
   {
    "duration": 18,
    "start_time": "2021-10-06T18:54:54.148Z"
   },
   {
    "duration": 13,
    "start_time": "2021-10-06T18:54:54.177Z"
   },
   {
    "duration": 5,
    "start_time": "2021-10-06T18:54:54.192Z"
   },
   {
    "duration": 7,
    "start_time": "2021-10-06T18:54:54.198Z"
   },
   {
    "duration": 7,
    "start_time": "2021-10-06T18:54:54.206Z"
   },
   {
    "duration": 9,
    "start_time": "2021-10-06T18:54:54.215Z"
   },
   {
    "duration": 10,
    "start_time": "2021-10-06T18:54:54.226Z"
   },
   {
    "duration": 10,
    "start_time": "2021-10-06T18:54:54.238Z"
   },
   {
    "duration": 11,
    "start_time": "2021-10-06T18:54:54.277Z"
   },
   {
    "duration": 31,
    "start_time": "2021-10-06T18:54:54.290Z"
   },
   {
    "duration": 15,
    "start_time": "2021-10-06T18:54:54.322Z"
   },
   {
    "duration": 7,
    "start_time": "2021-10-06T18:54:54.339Z"
   },
   {
    "duration": 176,
    "start_time": "2021-10-06T18:54:54.347Z"
   },
   {
    "duration": 5,
    "start_time": "2021-10-06T18:54:54.524Z"
   },
   {
    "duration": 168,
    "start_time": "2021-10-06T18:54:54.530Z"
   },
   {
    "duration": 4,
    "start_time": "2021-10-06T18:54:54.700Z"
   },
   {
    "duration": 158,
    "start_time": "2021-10-06T18:54:54.705Z"
   },
   {
    "duration": 26,
    "start_time": "2021-10-06T18:54:54.865Z"
   },
   {
    "duration": 29,
    "start_time": "2021-10-06T18:54:54.893Z"
   },
   {
    "duration": 2,
    "start_time": "2021-10-06T18:54:54.926Z"
   },
   {
    "duration": 7,
    "start_time": "2021-10-06T18:54:54.930Z"
   },
   {
    "duration": 3,
    "start_time": "2021-10-06T18:57:07.095Z"
   },
   {
    "duration": 477,
    "start_time": "2021-10-06T18:57:07.100Z"
   },
   {
    "duration": 13,
    "start_time": "2021-10-06T18:57:07.580Z"
   },
   {
    "duration": 61,
    "start_time": "2021-10-06T18:57:07.595Z"
   },
   {
    "duration": 62,
    "start_time": "2021-10-06T18:57:07.657Z"
   },
   {
    "duration": 8,
    "start_time": "2021-10-06T18:57:07.721Z"
   },
   {
    "duration": 25,
    "start_time": "2021-10-06T18:57:07.732Z"
   },
   {
    "duration": 43,
    "start_time": "2021-10-06T18:57:07.759Z"
   },
   {
    "duration": 24,
    "start_time": "2021-10-06T18:57:07.804Z"
   },
   {
    "duration": 5,
    "start_time": "2021-10-06T18:57:07.830Z"
   },
   {
    "duration": 19,
    "start_time": "2021-10-06T18:57:07.837Z"
   },
   {
    "duration": 24,
    "start_time": "2021-10-06T18:57:07.858Z"
   },
   {
    "duration": 29,
    "start_time": "2021-10-06T18:57:07.884Z"
   },
   {
    "duration": 17,
    "start_time": "2021-10-06T18:57:07.915Z"
   },
   {
    "duration": 19,
    "start_time": "2021-10-06T18:57:07.934Z"
   },
   {
    "duration": 25,
    "start_time": "2021-10-06T18:57:07.955Z"
   },
   {
    "duration": 35,
    "start_time": "2021-10-06T18:57:07.982Z"
   },
   {
    "duration": 22,
    "start_time": "2021-10-06T18:57:08.019Z"
   },
   {
    "duration": 4,
    "start_time": "2021-10-06T18:57:08.045Z"
   },
   {
    "duration": 35,
    "start_time": "2021-10-06T18:57:08.052Z"
   },
   {
    "duration": 24,
    "start_time": "2021-10-06T18:57:08.089Z"
   },
   {
    "duration": 24,
    "start_time": "2021-10-06T18:57:08.115Z"
   },
   {
    "duration": 6,
    "start_time": "2021-10-06T18:57:08.141Z"
   },
   {
    "duration": 34,
    "start_time": "2021-10-06T18:57:08.149Z"
   },
   {
    "duration": 34,
    "start_time": "2021-10-06T18:57:08.184Z"
   },
   {
    "duration": 3,
    "start_time": "2021-10-06T18:57:08.220Z"
   },
   {
    "duration": 56,
    "start_time": "2021-10-06T18:57:08.225Z"
   },
   {
    "duration": 19,
    "start_time": "2021-10-06T18:57:08.283Z"
   },
   {
    "duration": 14,
    "start_time": "2021-10-06T18:57:08.303Z"
   },
   {
    "duration": 25,
    "start_time": "2021-10-06T18:57:08.319Z"
   },
   {
    "duration": 38,
    "start_time": "2021-10-06T18:57:08.346Z"
   },
   {
    "duration": 16,
    "start_time": "2021-10-06T18:57:08.386Z"
   },
   {
    "duration": 40,
    "start_time": "2021-10-06T18:57:08.404Z"
   },
   {
    "duration": 11,
    "start_time": "2021-10-06T18:57:08.446Z"
   },
   {
    "duration": 19,
    "start_time": "2021-10-06T18:57:08.459Z"
   },
   {
    "duration": 20,
    "start_time": "2021-10-06T18:57:08.480Z"
   },
   {
    "duration": 24,
    "start_time": "2021-10-06T18:57:08.501Z"
   },
   {
    "duration": 15,
    "start_time": "2021-10-06T18:57:08.526Z"
   },
   {
    "duration": 16,
    "start_time": "2021-10-06T18:57:08.543Z"
   },
   {
    "duration": 20,
    "start_time": "2021-10-06T18:57:08.560Z"
   },
   {
    "duration": 27,
    "start_time": "2021-10-06T18:57:08.581Z"
   },
   {
    "duration": 12,
    "start_time": "2021-10-06T18:57:08.609Z"
   },
   {
    "duration": 9,
    "start_time": "2021-10-06T18:57:08.623Z"
   },
   {
    "duration": 10,
    "start_time": "2021-10-06T18:57:08.634Z"
   },
   {
    "duration": 51,
    "start_time": "2021-10-06T18:57:08.645Z"
   },
   {
    "duration": 16,
    "start_time": "2021-10-06T18:57:08.698Z"
   },
   {
    "duration": 28,
    "start_time": "2021-10-06T18:57:08.716Z"
   },
   {
    "duration": 191,
    "start_time": "2021-10-06T18:57:08.745Z"
   },
   {
    "duration": 4,
    "start_time": "2021-10-06T18:57:08.938Z"
   },
   {
    "duration": 176,
    "start_time": "2021-10-06T18:57:08.944Z"
   },
   {
    "duration": 8,
    "start_time": "2021-10-06T18:57:09.122Z"
   },
   {
    "duration": 152,
    "start_time": "2021-10-06T18:57:09.132Z"
   },
   {
    "duration": 22,
    "start_time": "2021-10-06T18:57:09.286Z"
   },
   {
    "duration": 10,
    "start_time": "2021-10-06T18:57:09.310Z"
   },
   {
    "duration": 2,
    "start_time": "2021-10-06T18:57:09.324Z"
   },
   {
    "duration": 26,
    "start_time": "2021-10-06T18:57:09.327Z"
   },
   {
    "duration": 3,
    "start_time": "2021-10-06T18:58:06.692Z"
   },
   {
    "duration": 548,
    "start_time": "2021-10-06T18:58:06.698Z"
   },
   {
    "duration": 14,
    "start_time": "2021-10-06T18:58:07.248Z"
   },
   {
    "duration": 21,
    "start_time": "2021-10-06T18:58:07.264Z"
   },
   {
    "duration": 32,
    "start_time": "2021-10-06T18:58:07.286Z"
   },
   {
    "duration": 4,
    "start_time": "2021-10-06T18:58:07.320Z"
   },
   {
    "duration": 14,
    "start_time": "2021-10-06T18:58:07.326Z"
   },
   {
    "duration": 41,
    "start_time": "2021-10-06T18:58:07.343Z"
   },
   {
    "duration": 25,
    "start_time": "2021-10-06T18:58:07.385Z"
   },
   {
    "duration": 5,
    "start_time": "2021-10-06T18:58:07.412Z"
   },
   {
    "duration": 11,
    "start_time": "2021-10-06T18:58:07.418Z"
   },
   {
    "duration": 46,
    "start_time": "2021-10-06T18:58:07.431Z"
   },
   {
    "duration": 18,
    "start_time": "2021-10-06T18:58:07.479Z"
   },
   {
    "duration": 5,
    "start_time": "2021-10-06T18:58:07.499Z"
   },
   {
    "duration": 11,
    "start_time": "2021-10-06T18:58:07.506Z"
   },
   {
    "duration": 11,
    "start_time": "2021-10-06T18:58:07.519Z"
   },
   {
    "duration": 8,
    "start_time": "2021-10-06T18:58:07.532Z"
   },
   {
    "duration": 17,
    "start_time": "2021-10-06T18:58:07.577Z"
   },
   {
    "duration": 5,
    "start_time": "2021-10-06T18:58:07.599Z"
   },
   {
    "duration": 36,
    "start_time": "2021-10-06T18:58:07.606Z"
   },
   {
    "duration": 40,
    "start_time": "2021-10-06T18:58:07.644Z"
   },
   {
    "duration": 18,
    "start_time": "2021-10-06T18:58:07.686Z"
   },
   {
    "duration": 6,
    "start_time": "2021-10-06T18:58:07.706Z"
   },
   {
    "duration": 9,
    "start_time": "2021-10-06T18:58:07.714Z"
   },
   {
    "duration": 24,
    "start_time": "2021-10-06T18:58:07.725Z"
   },
   {
    "duration": 4,
    "start_time": "2021-10-06T18:58:07.776Z"
   },
   {
    "duration": 55,
    "start_time": "2021-10-06T18:58:07.782Z"
   },
   {
    "duration": 20,
    "start_time": "2021-10-06T18:58:07.838Z"
   },
   {
    "duration": 29,
    "start_time": "2021-10-06T18:58:07.860Z"
   },
   {
    "duration": 29,
    "start_time": "2021-10-06T18:58:07.891Z"
   },
   {
    "duration": 15,
    "start_time": "2021-10-06T18:58:07.922Z"
   },
   {
    "duration": 44,
    "start_time": "2021-10-06T18:58:07.939Z"
   },
   {
    "duration": 42,
    "start_time": "2021-10-06T18:58:07.986Z"
   },
   {
    "duration": 13,
    "start_time": "2021-10-06T18:58:08.030Z"
   },
   {
    "duration": 3,
    "start_time": "2021-10-06T18:58:08.045Z"
   },
   {
    "duration": 27,
    "start_time": "2021-10-06T18:58:08.050Z"
   },
   {
    "duration": 11,
    "start_time": "2021-10-06T18:58:08.079Z"
   },
   {
    "duration": 5,
    "start_time": "2021-10-06T18:58:08.092Z"
   },
   {
    "duration": 7,
    "start_time": "2021-10-06T18:58:08.099Z"
   },
   {
    "duration": 9,
    "start_time": "2021-10-06T18:58:08.107Z"
   },
   {
    "duration": 12,
    "start_time": "2021-10-06T18:58:08.118Z"
   },
   {
    "duration": 10,
    "start_time": "2021-10-06T18:58:08.132Z"
   },
   {
    "duration": 39,
    "start_time": "2021-10-06T18:58:08.144Z"
   },
   {
    "duration": 11,
    "start_time": "2021-10-06T18:58:08.184Z"
   },
   {
    "duration": 71,
    "start_time": "2021-10-06T18:58:08.197Z"
   },
   {
    "duration": 15,
    "start_time": "2021-10-06T18:58:08.270Z"
   },
   {
    "duration": 5,
    "start_time": "2021-10-06T18:58:08.287Z"
   },
   {
    "duration": 168,
    "start_time": "2021-10-06T18:58:08.294Z"
   },
   {
    "duration": 4,
    "start_time": "2021-10-06T18:58:08.464Z"
   },
   {
    "duration": 194,
    "start_time": "2021-10-06T18:58:08.470Z"
   },
   {
    "duration": 13,
    "start_time": "2021-10-06T18:58:08.666Z"
   },
   {
    "duration": 157,
    "start_time": "2021-10-06T18:58:08.681Z"
   },
   {
    "duration": 22,
    "start_time": "2021-10-06T18:58:08.840Z"
   },
   {
    "duration": 41,
    "start_time": "2021-10-06T18:58:08.863Z"
   },
   {
    "duration": 2,
    "start_time": "2021-10-06T18:58:08.908Z"
   },
   {
    "duration": 8,
    "start_time": "2021-10-06T18:58:08.912Z"
   },
   {
    "duration": 3,
    "start_time": "2021-10-06T19:00:37.997Z"
   },
   {
    "duration": 482,
    "start_time": "2021-10-06T19:00:38.002Z"
   },
   {
    "duration": 15,
    "start_time": "2021-10-06T19:00:38.486Z"
   },
   {
    "duration": 21,
    "start_time": "2021-10-06T19:00:38.502Z"
   },
   {
    "duration": 29,
    "start_time": "2021-10-06T19:00:38.525Z"
   },
   {
    "duration": 22,
    "start_time": "2021-10-06T19:00:38.556Z"
   },
   {
    "duration": 12,
    "start_time": "2021-10-06T19:00:38.581Z"
   },
   {
    "duration": 18,
    "start_time": "2021-10-06T19:00:38.595Z"
   },
   {
    "duration": 25,
    "start_time": "2021-10-06T19:00:38.615Z"
   },
   {
    "duration": 36,
    "start_time": "2021-10-06T19:00:38.642Z"
   },
   {
    "duration": 11,
    "start_time": "2021-10-06T19:00:38.680Z"
   },
   {
    "duration": 15,
    "start_time": "2021-10-06T19:00:38.693Z"
   },
   {
    "duration": 17,
    "start_time": "2021-10-06T19:00:38.710Z"
   },
   {
    "duration": 4,
    "start_time": "2021-10-06T19:00:38.729Z"
   },
   {
    "duration": 45,
    "start_time": "2021-10-06T19:00:38.735Z"
   },
   {
    "duration": 15,
    "start_time": "2021-10-06T19:00:38.782Z"
   },
   {
    "duration": 9,
    "start_time": "2021-10-06T19:00:38.799Z"
   },
   {
    "duration": 20,
    "start_time": "2021-10-06T19:00:38.809Z"
   },
   {
    "duration": 5,
    "start_time": "2021-10-06T19:00:38.833Z"
   },
   {
    "duration": 58,
    "start_time": "2021-10-06T19:00:38.841Z"
   },
   {
    "duration": 24,
    "start_time": "2021-10-06T19:00:38.901Z"
   },
   {
    "duration": 19,
    "start_time": "2021-10-06T19:00:38.927Z"
   },
   {
    "duration": 5,
    "start_time": "2021-10-06T19:00:38.948Z"
   },
   {
    "duration": 26,
    "start_time": "2021-10-06T19:00:38.955Z"
   },
   {
    "duration": 26,
    "start_time": "2021-10-06T19:00:38.983Z"
   },
   {
    "duration": 3,
    "start_time": "2021-10-06T19:00:39.011Z"
   },
   {
    "duration": 69,
    "start_time": "2021-10-06T19:00:39.015Z"
   },
   {
    "duration": 18,
    "start_time": "2021-10-06T19:00:39.086Z"
   },
   {
    "duration": 16,
    "start_time": "2021-10-06T19:00:39.106Z"
   },
   {
    "duration": 25,
    "start_time": "2021-10-06T19:00:39.124Z"
   },
   {
    "duration": 34,
    "start_time": "2021-10-06T19:00:39.151Z"
   },
   {
    "duration": 19,
    "start_time": "2021-10-06T19:00:39.186Z"
   },
   {
    "duration": 38,
    "start_time": "2021-10-06T19:00:39.207Z"
   },
   {
    "duration": 31,
    "start_time": "2021-10-06T19:00:39.247Z"
   },
   {
    "duration": 2,
    "start_time": "2021-10-06T19:00:39.280Z"
   },
   {
    "duration": 7,
    "start_time": "2021-10-06T19:00:39.284Z"
   },
   {
    "duration": 11,
    "start_time": "2021-10-06T19:00:39.293Z"
   },
   {
    "duration": 7,
    "start_time": "2021-10-06T19:00:39.305Z"
   },
   {
    "duration": 5,
    "start_time": "2021-10-06T19:00:39.313Z"
   },
   {
    "duration": 6,
    "start_time": "2021-10-06T19:00:39.319Z"
   },
   {
    "duration": 10,
    "start_time": "2021-10-06T19:00:39.326Z"
   },
   {
    "duration": 45,
    "start_time": "2021-10-06T19:00:39.338Z"
   },
   {
    "duration": 10,
    "start_time": "2021-10-06T19:00:39.385Z"
   },
   {
    "duration": 11,
    "start_time": "2021-10-06T19:00:39.397Z"
   },
   {
    "duration": 38,
    "start_time": "2021-10-06T19:00:39.410Z"
   },
   {
    "duration": 28,
    "start_time": "2021-10-06T19:00:39.450Z"
   },
   {
    "duration": 6,
    "start_time": "2021-10-06T19:00:39.480Z"
   },
   {
    "duration": 182,
    "start_time": "2021-10-06T19:00:39.488Z"
   },
   {
    "duration": 4,
    "start_time": "2021-10-06T19:00:39.672Z"
   },
   {
    "duration": 178,
    "start_time": "2021-10-06T19:00:39.678Z"
   },
   {
    "duration": 4,
    "start_time": "2021-10-06T19:00:39.858Z"
   },
   {
    "duration": 173,
    "start_time": "2021-10-06T19:00:39.864Z"
   },
   {
    "duration": 25,
    "start_time": "2021-10-06T19:00:40.039Z"
   },
   {
    "duration": 28,
    "start_time": "2021-10-06T19:00:40.076Z"
   },
   {
    "duration": 4,
    "start_time": "2021-10-06T19:00:40.108Z"
   },
   {
    "duration": 9,
    "start_time": "2021-10-06T19:00:40.114Z"
   },
   {
    "duration": 12,
    "start_time": "2021-10-06T19:01:00.963Z"
   },
   {
    "duration": 3,
    "start_time": "2021-10-06T19:01:55.563Z"
   },
   {
    "duration": 613,
    "start_time": "2021-10-06T19:01:55.568Z"
   },
   {
    "duration": 19,
    "start_time": "2021-10-06T19:01:56.184Z"
   },
   {
    "duration": 34,
    "start_time": "2021-10-06T19:01:56.205Z"
   },
   {
    "duration": 51,
    "start_time": "2021-10-06T19:01:56.241Z"
   },
   {
    "duration": 5,
    "start_time": "2021-10-06T19:01:56.293Z"
   },
   {
    "duration": 17,
    "start_time": "2021-10-06T19:01:56.301Z"
   },
   {
    "duration": 17,
    "start_time": "2021-10-06T19:01:56.320Z"
   },
   {
    "duration": 51,
    "start_time": "2021-10-06T19:01:56.339Z"
   },
   {
    "duration": 5,
    "start_time": "2021-10-06T19:01:56.391Z"
   },
   {
    "duration": 13,
    "start_time": "2021-10-06T19:01:56.398Z"
   },
   {
    "duration": 15,
    "start_time": "2021-10-06T19:01:56.413Z"
   },
   {
    "duration": 19,
    "start_time": "2021-10-06T19:01:56.430Z"
   },
   {
    "duration": 29,
    "start_time": "2021-10-06T19:01:56.451Z"
   },
   {
    "duration": 10,
    "start_time": "2021-10-06T19:01:56.482Z"
   },
   {
    "duration": 13,
    "start_time": "2021-10-06T19:01:56.494Z"
   },
   {
    "duration": 6,
    "start_time": "2021-10-06T19:01:56.509Z"
   },
   {
    "duration": 23,
    "start_time": "2021-10-06T19:01:56.517Z"
   },
   {
    "duration": 5,
    "start_time": "2021-10-06T19:01:56.543Z"
   },
   {
    "duration": 32,
    "start_time": "2021-10-06T19:01:56.577Z"
   },
   {
    "duration": 26,
    "start_time": "2021-10-06T19:01:56.611Z"
   },
   {
    "duration": 45,
    "start_time": "2021-10-06T19:01:56.639Z"
   },
   {
    "duration": 7,
    "start_time": "2021-10-06T19:01:56.686Z"
   },
   {
    "duration": 18,
    "start_time": "2021-10-06T19:01:56.695Z"
   },
   {
    "duration": 28,
    "start_time": "2021-10-06T19:01:56.715Z"
   },
   {
    "duration": 3,
    "start_time": "2021-10-06T19:01:56.745Z"
   },
   {
    "duration": 75,
    "start_time": "2021-10-06T19:01:56.749Z"
   },
   {
    "duration": 20,
    "start_time": "2021-10-06T19:01:56.826Z"
   },
   {
    "duration": 28,
    "start_time": "2021-10-06T19:01:56.848Z"
   },
   {
    "duration": 29,
    "start_time": "2021-10-06T19:01:56.878Z"
   },
   {
    "duration": 13,
    "start_time": "2021-10-06T19:01:56.908Z"
   },
   {
    "duration": 17,
    "start_time": "2021-10-06T19:01:56.923Z"
   },
   {
    "duration": 59,
    "start_time": "2021-10-06T19:01:56.942Z"
   },
   {
    "duration": 12,
    "start_time": "2021-10-06T19:01:57.003Z"
   },
   {
    "duration": 4,
    "start_time": "2021-10-06T19:01:57.017Z"
   },
   {
    "duration": 9,
    "start_time": "2021-10-06T19:01:57.023Z"
   },
   {
    "duration": 10,
    "start_time": "2021-10-06T19:01:57.034Z"
   },
   {
    "duration": 7,
    "start_time": "2021-10-06T19:01:57.046Z"
   },
   {
    "duration": 27,
    "start_time": "2021-10-06T19:01:57.054Z"
   },
   {
    "duration": 8,
    "start_time": "2021-10-06T19:01:57.083Z"
   },
   {
    "duration": 9,
    "start_time": "2021-10-06T19:01:57.092Z"
   },
   {
    "duration": 9,
    "start_time": "2021-10-06T19:01:57.103Z"
   },
   {
    "duration": 10,
    "start_time": "2021-10-06T19:01:57.114Z"
   },
   {
    "duration": 12,
    "start_time": "2021-10-06T19:01:57.126Z"
   },
   {
    "duration": 67,
    "start_time": "2021-10-06T19:01:57.139Z"
   },
   {
    "duration": 8,
    "start_time": "2021-10-06T19:01:57.208Z"
   },
   {
    "duration": 5,
    "start_time": "2021-10-06T19:01:57.217Z"
   },
   {
    "duration": 199,
    "start_time": "2021-10-06T19:01:57.224Z"
   },
   {
    "duration": 5,
    "start_time": "2021-10-06T19:01:57.425Z"
   },
   {
    "duration": 237,
    "start_time": "2021-10-06T19:01:57.431Z"
   },
   {
    "duration": 6,
    "start_time": "2021-10-06T19:01:57.670Z"
   },
   {
    "duration": 172,
    "start_time": "2021-10-06T19:01:57.678Z"
   },
   {
    "duration": 29,
    "start_time": "2021-10-06T19:01:57.852Z"
   },
   {
    "duration": 10,
    "start_time": "2021-10-06T19:01:57.883Z"
   },
   {
    "duration": 2,
    "start_time": "2021-10-06T19:01:57.897Z"
   },
   {
    "duration": 10,
    "start_time": "2021-10-06T19:01:57.900Z"
   },
   {
    "duration": 4,
    "start_time": "2021-10-06T19:03:23.164Z"
   },
   {
    "duration": 97,
    "start_time": "2021-10-06T19:04:02.328Z"
   },
   {
    "duration": 12,
    "start_time": "2021-10-06T19:16:35.537Z"
   },
   {
    "duration": 318,
    "start_time": "2021-10-06T19:16:53.689Z"
   },
   {
    "duration": 42,
    "start_time": "2021-10-06T19:16:59.740Z"
   },
   {
    "duration": 33,
    "start_time": "2021-10-06T19:17:06.555Z"
   },
   {
    "duration": 32,
    "start_time": "2021-10-06T19:18:54.286Z"
   },
   {
    "duration": 30,
    "start_time": "2021-10-06T19:55:43.801Z"
   },
   {
    "duration": 101,
    "start_time": "2021-10-06T19:58:21.417Z"
   },
   {
    "duration": 110,
    "start_time": "2021-10-06T20:22:34.934Z"
   },
   {
    "duration": 12,
    "start_time": "2021-10-06T20:39:03.069Z"
   },
   {
    "duration": 11,
    "start_time": "2021-10-06T20:39:12.120Z"
   },
   {
    "duration": 16,
    "start_time": "2021-10-06T20:39:19.811Z"
   },
   {
    "duration": 5,
    "start_time": "2021-10-06T20:39:45.533Z"
   },
   {
    "duration": 4,
    "start_time": "2021-10-06T20:57:58.753Z"
   },
   {
    "duration": 99,
    "start_time": "2021-10-06T21:06:21.264Z"
   },
   {
    "duration": 100,
    "start_time": "2021-10-06T21:06:40.131Z"
   },
   {
    "duration": 306,
    "start_time": "2021-10-06T21:06:48.094Z"
   },
   {
    "duration": 316,
    "start_time": "2021-10-06T21:08:38.916Z"
   },
   {
    "duration": 433,
    "start_time": "2021-10-06T21:09:41.038Z"
   },
   {
    "duration": 296,
    "start_time": "2021-10-06T21:09:59.504Z"
   },
   {
    "duration": 324,
    "start_time": "2021-10-06T21:14:17.393Z"
   },
   {
    "duration": 327,
    "start_time": "2021-10-06T21:14:24.141Z"
   },
   {
    "duration": 558,
    "start_time": "2021-10-06T21:14:53.189Z"
   },
   {
    "duration": 17,
    "start_time": "2021-10-06T21:15:22.254Z"
   },
   {
    "duration": 691,
    "start_time": "2021-10-06T21:15:24.036Z"
   },
   {
    "duration": 4,
    "start_time": "2021-10-06T21:16:07.988Z"
   },
   {
    "duration": 1403,
    "start_time": "2021-10-06T21:16:13.214Z"
   },
   {
    "duration": 2903,
    "start_time": "2021-10-06T21:18:20.098Z"
   },
   {
    "duration": 2738,
    "start_time": "2021-10-06T21:19:23.717Z"
   },
   {
    "duration": 2795,
    "start_time": "2021-10-06T21:21:53.857Z"
   },
   {
    "duration": 24,
    "start_time": "2021-10-06T21:26:37.533Z"
   },
   {
    "duration": 5,
    "start_time": "2021-10-06T21:28:19.935Z"
   },
   {
    "duration": 7,
    "start_time": "2021-10-06T21:28:26.145Z"
   },
   {
    "duration": 9,
    "start_time": "2021-10-06T21:28:56.087Z"
   },
   {
    "duration": 312,
    "start_time": "2021-10-06T21:29:04.641Z"
   },
   {
    "duration": 10,
    "start_time": "2021-10-06T21:29:09.752Z"
   },
   {
    "duration": 7,
    "start_time": "2021-10-06T21:29:13.497Z"
   },
   {
    "duration": 9,
    "start_time": "2021-10-06T21:29:20.742Z"
   },
   {
    "duration": 8,
    "start_time": "2021-10-06T21:32:47.467Z"
   },
   {
    "duration": 317,
    "start_time": "2021-10-06T21:32:54.172Z"
   },
   {
    "duration": 360,
    "start_time": "2021-10-06T21:32:58.448Z"
   },
   {
    "duration": 8,
    "start_time": "2021-10-06T21:33:12.288Z"
   },
   {
    "duration": 113,
    "start_time": "2021-10-06T21:37:17.100Z"
   },
   {
    "duration": 112,
    "start_time": "2021-10-06T21:37:31.271Z"
   },
   {
    "duration": 126,
    "start_time": "2021-10-06T21:37:42.329Z"
   },
   {
    "duration": 624,
    "start_time": "2021-10-06T21:37:54.001Z"
   },
   {
    "duration": 28,
    "start_time": "2021-10-06T21:38:17.244Z"
   },
   {
    "duration": 99,
    "start_time": "2021-10-06T21:38:34.804Z"
   },
   {
    "duration": 27,
    "start_time": "2021-10-06T21:38:45.594Z"
   },
   {
    "duration": 24,
    "start_time": "2021-10-06T21:38:54.796Z"
   },
   {
    "duration": 6,
    "start_time": "2021-10-06T21:39:17.034Z"
   },
   {
    "duration": 4,
    "start_time": "2021-10-06T21:39:32.992Z"
   },
   {
    "duration": 5,
    "start_time": "2021-10-06T21:39:52.416Z"
   },
   {
    "duration": 25,
    "start_time": "2021-10-06T21:40:22.575Z"
   },
   {
    "duration": 26,
    "start_time": "2021-10-06T21:40:31.445Z"
   },
   {
    "duration": 113,
    "start_time": "2021-10-07T09:42:31.038Z"
   },
   {
    "duration": 118,
    "start_time": "2021-10-07T09:50:51.080Z"
   },
   {
    "duration": 412,
    "start_time": "2021-10-07T09:56:59.266Z"
   },
   {
    "duration": 305,
    "start_time": "2021-10-07T09:57:31.967Z"
   },
   {
    "duration": 1509,
    "start_time": "2021-10-07T09:57:38.057Z"
   },
   {
    "duration": 569,
    "start_time": "2021-10-07T09:57:39.568Z"
   },
   {
    "duration": 25,
    "start_time": "2021-10-07T09:57:40.140Z"
   },
   {
    "duration": 28,
    "start_time": "2021-10-07T09:57:40.167Z"
   },
   {
    "duration": 48,
    "start_time": "2021-10-07T09:57:40.198Z"
   },
   {
    "duration": 7,
    "start_time": "2021-10-07T09:57:40.262Z"
   },
   {
    "duration": 28,
    "start_time": "2021-10-07T09:57:40.272Z"
   },
   {
    "duration": 30,
    "start_time": "2021-10-07T09:57:40.304Z"
   },
   {
    "duration": 59,
    "start_time": "2021-10-07T09:57:40.337Z"
   },
   {
    "duration": 6,
    "start_time": "2021-10-07T09:57:40.399Z"
   },
   {
    "duration": 20,
    "start_time": "2021-10-07T09:57:40.408Z"
   },
   {
    "duration": 43,
    "start_time": "2021-10-07T09:57:40.431Z"
   },
   {
    "duration": 25,
    "start_time": "2021-10-07T09:57:40.477Z"
   },
   {
    "duration": 6,
    "start_time": "2021-10-07T09:57:40.505Z"
   },
   {
    "duration": 50,
    "start_time": "2021-10-07T09:57:40.514Z"
   },
   {
    "duration": 16,
    "start_time": "2021-10-07T09:57:40.566Z"
   },
   {
    "duration": 9,
    "start_time": "2021-10-07T09:57:40.585Z"
   },
   {
    "duration": 27,
    "start_time": "2021-10-07T09:57:40.597Z"
   },
   {
    "duration": 39,
    "start_time": "2021-10-07T09:57:40.627Z"
   },
   {
    "duration": 53,
    "start_time": "2021-10-07T09:57:40.669Z"
   },
   {
    "duration": 61,
    "start_time": "2021-10-07T09:57:40.725Z"
   },
   {
    "duration": 27,
    "start_time": "2021-10-07T09:57:40.788Z"
   },
   {
    "duration": 8,
    "start_time": "2021-10-07T09:57:40.821Z"
   },
   {
    "duration": 37,
    "start_time": "2021-10-07T09:57:40.833Z"
   },
   {
    "duration": 31,
    "start_time": "2021-10-07T09:57:40.873Z"
   },
   {
    "duration": 4,
    "start_time": "2021-10-07T09:57:40.906Z"
   },
   {
    "duration": 107,
    "start_time": "2021-10-07T09:57:40.913Z"
   },
   {
    "duration": 42,
    "start_time": "2021-10-07T09:57:41.022Z"
   },
   {
    "duration": 21,
    "start_time": "2021-10-07T09:57:41.066Z"
   },
   {
    "duration": 37,
    "start_time": "2021-10-07T09:57:41.090Z"
   },
   {
    "duration": 45,
    "start_time": "2021-10-07T09:57:41.130Z"
   },
   {
    "duration": 29,
    "start_time": "2021-10-07T09:57:41.178Z"
   },
   {
    "duration": 92,
    "start_time": "2021-10-07T09:57:41.210Z"
   },
   {
    "duration": 19,
    "start_time": "2021-10-07T09:57:41.305Z"
   },
   {
    "duration": 4,
    "start_time": "2021-10-07T09:57:41.326Z"
   },
   {
    "duration": 30,
    "start_time": "2021-10-07T09:57:41.333Z"
   },
   {
    "duration": 17,
    "start_time": "2021-10-07T09:57:41.366Z"
   },
   {
    "duration": 16,
    "start_time": "2021-10-07T09:57:41.386Z"
   },
   {
    "duration": 16,
    "start_time": "2021-10-07T09:57:41.404Z"
   },
   {
    "duration": 52,
    "start_time": "2021-10-07T09:57:41.422Z"
   },
   {
    "duration": 7,
    "start_time": "2021-10-07T09:57:41.477Z"
   },
   {
    "duration": 14,
    "start_time": "2021-10-07T09:57:41.487Z"
   },
   {
    "duration": 6,
    "start_time": "2021-10-07T09:57:41.503Z"
   },
   {
    "duration": 342,
    "start_time": "2021-10-07T09:57:41.511Z"
   },
   {
    "duration": 6,
    "start_time": "2021-10-07T09:57:41.856Z"
   },
   {
    "duration": 318,
    "start_time": "2021-10-07T09:57:41.864Z"
   },
   {
    "duration": 6,
    "start_time": "2021-10-07T09:57:42.185Z"
   },
   {
    "duration": 288,
    "start_time": "2021-10-07T09:57:42.193Z"
   },
   {
    "duration": 43,
    "start_time": "2021-10-07T09:57:42.484Z"
   },
   {
    "duration": 66,
    "start_time": "2021-10-07T09:57:42.530Z"
   },
   {
    "duration": 24,
    "start_time": "2021-10-07T09:57:42.599Z"
   },
   {
    "duration": 5241,
    "start_time": "2021-10-07T09:57:42.626Z"
   },
   {
    "duration": 13,
    "start_time": "2021-10-07T09:57:47.870Z"
   },
   {
    "duration": 12,
    "start_time": "2021-10-07T09:58:02.839Z"
   },
   {
    "duration": 92,
    "start_time": "2021-10-07T09:58:51.569Z"
   },
   {
    "duration": 6,
    "start_time": "2021-10-07T09:59:49.025Z"
   },
   {
    "duration": 13,
    "start_time": "2021-10-07T10:17:10.016Z"
   },
   {
    "duration": 4,
    "start_time": "2021-10-07T10:18:51.557Z"
   },
   {
    "duration": 163,
    "start_time": "2021-10-07T10:18:54.638Z"
   },
   {
    "duration": 13,
    "start_time": "2021-10-07T10:19:17.754Z"
   },
   {
    "duration": 42,
    "start_time": "2021-10-07T10:19:22.949Z"
   },
   {
    "duration": 12,
    "start_time": "2021-10-07T10:19:39.933Z"
   },
   {
    "duration": 6,
    "start_time": "2021-10-07T10:19:45.670Z"
   },
   {
    "duration": 108,
    "start_time": "2021-10-07T10:31:21.926Z"
   },
   {
    "duration": 4,
    "start_time": "2021-10-07T10:31:31.306Z"
   },
   {
    "duration": 3,
    "start_time": "2021-10-07T10:31:35.394Z"
   },
   {
    "duration": 6,
    "start_time": "2021-10-07T10:31:57.126Z"
   },
   {
    "duration": 625,
    "start_time": "2021-10-07T10:31:57.135Z"
   },
   {
    "duration": 26,
    "start_time": "2021-10-07T10:31:57.764Z"
   },
   {
    "duration": 42,
    "start_time": "2021-10-07T10:31:57.794Z"
   },
   {
    "duration": 81,
    "start_time": "2021-10-07T10:31:57.839Z"
   },
   {
    "duration": 8,
    "start_time": "2021-10-07T10:31:57.923Z"
   },
   {
    "duration": 47,
    "start_time": "2021-10-07T10:31:57.936Z"
   },
   {
    "duration": 35,
    "start_time": "2021-10-07T10:31:57.987Z"
   },
   {
    "duration": 75,
    "start_time": "2021-10-07T10:31:58.025Z"
   },
   {
    "duration": 7,
    "start_time": "2021-10-07T10:31:58.103Z"
   },
   {
    "duration": 22,
    "start_time": "2021-10-07T10:31:58.113Z"
   },
   {
    "duration": 22,
    "start_time": "2021-10-07T10:31:58.162Z"
   },
   {
    "duration": 26,
    "start_time": "2021-10-07T10:31:58.187Z"
   },
   {
    "duration": 7,
    "start_time": "2021-10-07T10:31:58.216Z"
   },
   {
    "duration": 46,
    "start_time": "2021-10-07T10:31:58.226Z"
   },
   {
    "duration": 18,
    "start_time": "2021-10-07T10:31:58.274Z"
   },
   {
    "duration": 10,
    "start_time": "2021-10-07T10:31:58.294Z"
   },
   {
    "duration": 68,
    "start_time": "2021-10-07T10:31:58.306Z"
   },
   {
    "duration": 6,
    "start_time": "2021-10-07T10:31:58.379Z"
   },
   {
    "duration": 59,
    "start_time": "2021-10-07T10:31:58.389Z"
   },
   {
    "duration": 45,
    "start_time": "2021-10-07T10:31:58.451Z"
   },
   {
    "duration": 29,
    "start_time": "2021-10-07T10:31:58.498Z"
   },
   {
    "duration": 9,
    "start_time": "2021-10-07T10:31:58.529Z"
   },
   {
    "duration": 9,
    "start_time": "2021-10-07T10:31:58.563Z"
   },
   {
    "duration": 35,
    "start_time": "2021-10-07T10:31:58.575Z"
   },
   {
    "duration": 4,
    "start_time": "2021-10-07T10:31:58.613Z"
   },
   {
    "duration": 116,
    "start_time": "2021-10-07T10:31:58.619Z"
   },
   {
    "duration": 44,
    "start_time": "2021-10-07T10:31:58.738Z"
   },
   {
    "duration": 21,
    "start_time": "2021-10-07T10:31:58.784Z"
   },
   {
    "duration": 73,
    "start_time": "2021-10-07T10:31:58.808Z"
   },
   {
    "duration": 18,
    "start_time": "2021-10-07T10:31:58.883Z"
   },
   {
    "duration": 24,
    "start_time": "2021-10-07T10:31:58.904Z"
   },
   {
    "duration": 81,
    "start_time": "2021-10-07T10:31:58.931Z"
   },
   {
    "duration": 18,
    "start_time": "2021-10-07T10:31:59.015Z"
   },
   {
    "duration": 26,
    "start_time": "2021-10-07T10:31:59.036Z"
   },
   {
    "duration": 7,
    "start_time": "2021-10-07T10:31:59.065Z"
   },
   {
    "duration": 14,
    "start_time": "2021-10-07T10:31:59.075Z"
   },
   {
    "duration": 11,
    "start_time": "2021-10-07T10:31:59.091Z"
   },
   {
    "duration": 63,
    "start_time": "2021-10-07T10:31:59.105Z"
   },
   {
    "duration": 17,
    "start_time": "2021-10-07T10:31:59.170Z"
   },
   {
    "duration": 6,
    "start_time": "2021-10-07T10:31:59.190Z"
   },
   {
    "duration": 10,
    "start_time": "2021-10-07T10:31:59.199Z"
   },
   {
    "duration": 6,
    "start_time": "2021-10-07T10:31:59.213Z"
   },
   {
    "duration": 319,
    "start_time": "2021-10-07T10:31:59.262Z"
   },
   {
    "duration": 5,
    "start_time": "2021-10-07T10:31:59.584Z"
   },
   {
    "duration": 319,
    "start_time": "2021-10-07T10:31:59.591Z"
   },
   {
    "duration": 5,
    "start_time": "2021-10-07T10:31:59.913Z"
   },
   {
    "duration": 300,
    "start_time": "2021-10-07T10:31:59.920Z"
   },
   {
    "duration": 4,
    "start_time": "2021-10-07T10:32:00.223Z"
   },
   {
    "duration": 180,
    "start_time": "2021-10-07T10:32:00.229Z"
   },
   {
    "duration": 65,
    "start_time": "2021-10-07T10:32:00.411Z"
   },
   {
    "duration": 25,
    "start_time": "2021-10-07T10:32:00.478Z"
   },
   {
    "duration": 4809,
    "start_time": "2021-10-07T10:32:00.505Z"
   },
   {
    "duration": 12,
    "start_time": "2021-10-07T10:32:05.317Z"
   },
   {
    "duration": 32,
    "start_time": "2021-10-07T10:32:05.336Z"
   },
   {
    "duration": 4,
    "start_time": "2021-10-07T10:32:05.371Z"
   },
   {
    "duration": 13,
    "start_time": "2021-10-07T10:32:05.378Z"
   },
   {
    "duration": 21,
    "start_time": "2021-10-07T10:32:05.394Z"
   },
   {
    "duration": 431,
    "start_time": "2021-10-07T10:45:44.987Z"
   },
   {
    "duration": 8120,
    "start_time": "2021-10-07T10:50:41.929Z"
   },
   {
    "duration": 6,
    "start_time": "2021-10-07T10:51:05.167Z"
   },
   {
    "duration": 7,
    "start_time": "2021-10-07T10:51:08.736Z"
   },
   {
    "duration": 613,
    "start_time": "2021-10-07T10:51:08.745Z"
   },
   {
    "duration": 17,
    "start_time": "2021-10-07T10:51:09.361Z"
   },
   {
    "duration": 27,
    "start_time": "2021-10-07T10:51:09.381Z"
   },
   {
    "duration": 70,
    "start_time": "2021-10-07T10:51:09.410Z"
   },
   {
    "duration": 5,
    "start_time": "2021-10-07T10:51:09.483Z"
   },
   {
    "duration": 21,
    "start_time": "2021-10-07T10:51:09.490Z"
   },
   {
    "duration": 22,
    "start_time": "2021-10-07T10:51:09.515Z"
   },
   {
    "duration": 35,
    "start_time": "2021-10-07T10:51:09.562Z"
   },
   {
    "duration": 6,
    "start_time": "2021-10-07T10:51:09.599Z"
   },
   {
    "duration": 16,
    "start_time": "2021-10-07T10:51:09.608Z"
   },
   {
    "duration": 51,
    "start_time": "2021-10-07T10:51:09.626Z"
   },
   {
    "duration": 30,
    "start_time": "2021-10-07T10:51:09.679Z"
   },
   {
    "duration": 6,
    "start_time": "2021-10-07T10:51:09.711Z"
   },
   {
    "duration": 23,
    "start_time": "2021-10-07T10:51:09.719Z"
   },
   {
    "duration": 16,
    "start_time": "2021-10-07T10:51:09.761Z"
   },
   {
    "duration": 11,
    "start_time": "2021-10-07T10:51:09.779Z"
   },
   {
    "duration": 33,
    "start_time": "2021-10-07T10:51:09.792Z"
   },
   {
    "duration": 37,
    "start_time": "2021-10-07T10:51:09.828Z"
   },
   {
    "duration": 47,
    "start_time": "2021-10-07T10:51:09.867Z"
   },
   {
    "duration": 56,
    "start_time": "2021-10-07T10:51:09.916Z"
   },
   {
    "duration": 28,
    "start_time": "2021-10-07T10:51:09.974Z"
   },
   {
    "duration": 9,
    "start_time": "2021-10-07T10:51:10.008Z"
   },
   {
    "duration": 40,
    "start_time": "2021-10-07T10:51:10.021Z"
   },
   {
    "duration": 32,
    "start_time": "2021-10-07T10:51:10.064Z"
   },
   {
    "duration": 4,
    "start_time": "2021-10-07T10:51:10.099Z"
   },
   {
    "duration": 97,
    "start_time": "2021-10-07T10:51:10.105Z"
   },
   {
    "duration": 28,
    "start_time": "2021-10-07T10:51:10.205Z"
   },
   {
    "duration": 39,
    "start_time": "2021-10-07T10:51:10.235Z"
   },
   {
    "duration": 39,
    "start_time": "2021-10-07T10:51:10.277Z"
   },
   {
    "duration": 19,
    "start_time": "2021-10-07T10:51:10.319Z"
   },
   {
    "duration": 27,
    "start_time": "2021-10-07T10:51:10.361Z"
   },
   {
    "duration": 73,
    "start_time": "2021-10-07T10:51:10.390Z"
   },
   {
    "duration": 26,
    "start_time": "2021-10-07T10:51:10.466Z"
   },
   {
    "duration": 5,
    "start_time": "2021-10-07T10:51:10.494Z"
   },
   {
    "duration": 15,
    "start_time": "2021-10-07T10:51:10.501Z"
   },
   {
    "duration": 15,
    "start_time": "2021-10-07T10:51:10.518Z"
   },
   {
    "duration": 12,
    "start_time": "2021-10-07T10:51:10.563Z"
   },
   {
    "duration": 15,
    "start_time": "2021-10-07T10:51:10.577Z"
   },
   {
    "duration": 17,
    "start_time": "2021-10-07T10:51:10.594Z"
   },
   {
    "duration": 5,
    "start_time": "2021-10-07T10:51:10.614Z"
   },
   {
    "duration": 51,
    "start_time": "2021-10-07T10:51:10.621Z"
   },
   {
    "duration": 8,
    "start_time": "2021-10-07T10:51:10.675Z"
   },
   {
    "duration": 311,
    "start_time": "2021-10-07T10:51:10.685Z"
   },
   {
    "duration": 5,
    "start_time": "2021-10-07T10:51:10.999Z"
   },
   {
    "duration": 317,
    "start_time": "2021-10-07T10:51:11.007Z"
   },
   {
    "duration": 8,
    "start_time": "2021-10-07T10:51:11.327Z"
   },
   {
    "duration": 303,
    "start_time": "2021-10-07T10:51:11.338Z"
   },
   {
    "duration": 5,
    "start_time": "2021-10-07T10:51:11.644Z"
   },
   {
    "duration": 186,
    "start_time": "2021-10-07T10:51:11.663Z"
   },
   {
    "duration": 56,
    "start_time": "2021-10-07T10:51:11.851Z"
   },
   {
    "duration": 6,
    "start_time": "2021-10-07T10:51:11.909Z"
   },
   {
    "duration": 844,
    "start_time": "2021-10-07T10:51:11.918Z"
   },
   {
    "duration": -139,
    "start_time": "2021-10-07T10:51:12.903Z"
   },
   {
    "duration": -143,
    "start_time": "2021-10-07T10:51:12.908Z"
   },
   {
    "duration": -147,
    "start_time": "2021-10-07T10:51:12.914Z"
   },
   {
    "duration": -151,
    "start_time": "2021-10-07T10:51:12.919Z"
   },
   {
    "duration": -153,
    "start_time": "2021-10-07T10:51:12.923Z"
   },
   {
    "duration": -157,
    "start_time": "2021-10-07T10:51:12.928Z"
   },
   {
    "duration": 96,
    "start_time": "2021-10-07T10:54:02.922Z"
   },
   {
    "duration": 382,
    "start_time": "2021-10-07T11:03:22.540Z"
   },
   {
    "duration": 125,
    "start_time": "2021-10-07T11:03:27.469Z"
   },
   {
    "duration": 618,
    "start_time": "2021-10-07T11:03:28.405Z"
   },
   {
    "duration": 8171,
    "start_time": "2021-10-07T11:03:59.511Z"
   },
   {
    "duration": 8591,
    "start_time": "2021-10-07T11:04:25.163Z"
   },
   {
    "duration": 7931,
    "start_time": "2021-10-07T11:05:29.758Z"
   },
   {
    "duration": 39,
    "start_time": "2021-10-07T11:07:06.036Z"
   },
   {
    "duration": 6,
    "start_time": "2021-10-07T11:07:49.926Z"
   },
   {
    "duration": 585,
    "start_time": "2021-10-07T11:07:49.935Z"
   },
   {
    "duration": 19,
    "start_time": "2021-10-07T11:07:50.523Z"
   },
   {
    "duration": 26,
    "start_time": "2021-10-07T11:07:50.545Z"
   },
   {
    "duration": 41,
    "start_time": "2021-10-07T11:07:50.574Z"
   },
   {
    "duration": 6,
    "start_time": "2021-10-07T11:07:50.617Z"
   },
   {
    "duration": 48,
    "start_time": "2021-10-07T11:07:50.627Z"
   },
   {
    "duration": 23,
    "start_time": "2021-10-07T11:07:50.678Z"
   },
   {
    "duration": 62,
    "start_time": "2021-10-07T11:07:50.703Z"
   },
   {
    "duration": 8,
    "start_time": "2021-10-07T11:07:50.767Z"
   },
   {
    "duration": 17,
    "start_time": "2021-10-07T11:07:50.777Z"
   },
   {
    "duration": 20,
    "start_time": "2021-10-07T11:07:50.797Z"
   },
   {
    "duration": 63,
    "start_time": "2021-10-07T11:07:50.820Z"
   },
   {
    "duration": 7,
    "start_time": "2021-10-07T11:07:50.886Z"
   },
   {
    "duration": 19,
    "start_time": "2021-10-07T11:07:50.896Z"
   },
   {
    "duration": 45,
    "start_time": "2021-10-07T11:07:50.918Z"
   },
   {
    "duration": 9,
    "start_time": "2021-10-07T11:07:50.966Z"
   },
   {
    "duration": 59,
    "start_time": "2021-10-07T11:07:50.978Z"
   },
   {
    "duration": 21,
    "start_time": "2021-10-07T11:07:51.042Z"
   },
   {
    "duration": 46,
    "start_time": "2021-10-07T11:07:51.067Z"
   },
   {
    "duration": 53,
    "start_time": "2021-10-07T11:07:51.115Z"
   },
   {
    "duration": 28,
    "start_time": "2021-10-07T11:07:51.171Z"
   },
   {
    "duration": 9,
    "start_time": "2021-10-07T11:07:51.202Z"
   },
   {
    "duration": 31,
    "start_time": "2021-10-07T11:07:51.213Z"
   },
   {
    "duration": 40,
    "start_time": "2021-10-07T11:07:51.263Z"
   },
   {
    "duration": 5,
    "start_time": "2021-10-07T11:07:51.306Z"
   },
   {
    "duration": 129,
    "start_time": "2021-10-07T11:07:51.314Z"
   },
   {
    "duration": 48,
    "start_time": "2021-10-07T11:07:51.446Z"
   },
   {
    "duration": 27,
    "start_time": "2021-10-07T11:07:51.497Z"
   },
   {
    "duration": 81,
    "start_time": "2021-10-07T11:07:51.527Z"
   },
   {
    "duration": 27,
    "start_time": "2021-10-07T11:07:51.611Z"
   },
   {
    "duration": 42,
    "start_time": "2021-10-07T11:07:51.641Z"
   },
   {
    "duration": 91,
    "start_time": "2021-10-07T11:07:51.686Z"
   },
   {
    "duration": 27,
    "start_time": "2021-10-07T11:07:51.780Z"
   },
   {
    "duration": 5,
    "start_time": "2021-10-07T11:07:51.810Z"
   },
   {
    "duration": 17,
    "start_time": "2021-10-07T11:07:51.818Z"
   },
   {
    "duration": 38,
    "start_time": "2021-10-07T11:07:51.838Z"
   },
   {
    "duration": 19,
    "start_time": "2021-10-07T11:07:51.879Z"
   },
   {
    "duration": 22,
    "start_time": "2021-10-07T11:07:51.901Z"
   },
   {
    "duration": 48,
    "start_time": "2021-10-07T11:07:51.926Z"
   },
   {
    "duration": 5,
    "start_time": "2021-10-07T11:07:51.977Z"
   },
   {
    "duration": 26,
    "start_time": "2021-10-07T11:07:51.984Z"
   },
   {
    "duration": 5,
    "start_time": "2021-10-07T11:07:52.013Z"
   },
   {
    "duration": 329,
    "start_time": "2021-10-07T11:07:52.021Z"
   },
   {
    "duration": 10,
    "start_time": "2021-10-07T11:07:52.353Z"
   },
   {
    "duration": 313,
    "start_time": "2021-10-07T11:07:52.366Z"
   },
   {
    "duration": 7,
    "start_time": "2021-10-07T11:07:52.681Z"
   },
   {
    "duration": 301,
    "start_time": "2021-10-07T11:07:52.690Z"
   },
   {
    "duration": 5,
    "start_time": "2021-10-07T11:07:52.993Z"
   },
   {
    "duration": 174,
    "start_time": "2021-10-07T11:07:53.001Z"
   },
   {
    "duration": 55,
    "start_time": "2021-10-07T11:07:53.178Z"
   },
   {
    "duration": 27,
    "start_time": "2021-10-07T11:07:53.235Z"
   },
   {
    "duration": 784,
    "start_time": "2021-10-07T11:07:53.264Z"
   },
   {
    "duration": -641,
    "start_time": "2021-10-07T11:07:54.692Z"
   },
   {
    "duration": -649,
    "start_time": "2021-10-07T11:07:54.701Z"
   },
   {
    "duration": -658,
    "start_time": "2021-10-07T11:07:54.711Z"
   },
   {
    "duration": -665,
    "start_time": "2021-10-07T11:07:54.719Z"
   },
   {
    "duration": -670,
    "start_time": "2021-10-07T11:07:54.725Z"
   },
   {
    "duration": -674,
    "start_time": "2021-10-07T11:07:54.730Z"
   },
   {
    "duration": -675,
    "start_time": "2021-10-07T11:07:54.737Z"
   },
   {
    "duration": -678,
    "start_time": "2021-10-07T11:07:54.741Z"
   },
   {
    "duration": -686,
    "start_time": "2021-10-07T11:07:54.750Z"
   },
   {
    "duration": -693,
    "start_time": "2021-10-07T11:07:54.758Z"
   },
   {
    "duration": 17,
    "start_time": "2021-10-07T11:10:44.433Z"
   },
   {
    "duration": 9,
    "start_time": "2021-10-07T11:10:55.197Z"
   },
   {
    "duration": 11,
    "start_time": "2021-10-07T11:15:55.513Z"
   },
   {
    "duration": 124,
    "start_time": "2021-10-07T11:15:56.730Z"
   },
   {
    "duration": 5020,
    "start_time": "2021-10-07T11:15:57.797Z"
   },
   {
    "duration": 5,
    "start_time": "2021-10-07T11:16:03.856Z"
   },
   {
    "duration": 582,
    "start_time": "2021-10-07T11:16:03.864Z"
   },
   {
    "duration": 18,
    "start_time": "2021-10-07T11:16:04.449Z"
   },
   {
    "duration": 29,
    "start_time": "2021-10-07T11:16:04.469Z"
   },
   {
    "duration": 41,
    "start_time": "2021-10-07T11:16:04.500Z"
   },
   {
    "duration": 23,
    "start_time": "2021-10-07T11:16:04.544Z"
   },
   {
    "duration": 20,
    "start_time": "2021-10-07T11:16:04.569Z"
   },
   {
    "duration": 22,
    "start_time": "2021-10-07T11:16:04.593Z"
   },
   {
    "duration": 70,
    "start_time": "2021-10-07T11:16:04.618Z"
   },
   {
    "duration": 6,
    "start_time": "2021-10-07T11:16:04.690Z"
   },
   {
    "duration": 20,
    "start_time": "2021-10-07T11:16:04.699Z"
   },
   {
    "duration": 42,
    "start_time": "2021-10-07T11:16:04.721Z"
   },
   {
    "duration": 28,
    "start_time": "2021-10-07T11:16:04.765Z"
   },
   {
    "duration": 6,
    "start_time": "2021-10-07T11:16:04.795Z"
   },
   {
    "duration": 21,
    "start_time": "2021-10-07T11:16:04.803Z"
   },
   {
    "duration": 54,
    "start_time": "2021-10-07T11:16:04.826Z"
   },
   {
    "duration": 15,
    "start_time": "2021-10-07T11:16:04.883Z"
   },
   {
    "duration": 33,
    "start_time": "2021-10-07T11:16:04.900Z"
   },
   {
    "duration": 26,
    "start_time": "2021-10-07T11:16:04.935Z"
   },
   {
    "duration": 45,
    "start_time": "2021-10-07T11:16:04.963Z"
   },
   {
    "duration": 55,
    "start_time": "2021-10-07T11:16:05.011Z"
   },
   {
    "duration": 29,
    "start_time": "2021-10-07T11:16:05.068Z"
   },
   {
    "duration": 10,
    "start_time": "2021-10-07T11:16:05.103Z"
   },
   {
    "duration": 19,
    "start_time": "2021-10-07T11:16:05.116Z"
   },
   {
    "duration": 65,
    "start_time": "2021-10-07T11:16:05.139Z"
   },
   {
    "duration": 5,
    "start_time": "2021-10-07T11:16:05.208Z"
   },
   {
    "duration": 134,
    "start_time": "2021-10-07T11:16:05.216Z"
   },
   {
    "duration": 47,
    "start_time": "2021-10-07T11:16:05.353Z"
   },
   {
    "duration": 26,
    "start_time": "2021-10-07T11:16:05.403Z"
   },
   {
    "duration": 82,
    "start_time": "2021-10-07T11:16:05.433Z"
   },
   {
    "duration": 19,
    "start_time": "2021-10-07T11:16:05.519Z"
   },
   {
    "duration": 41,
    "start_time": "2021-10-07T11:16:05.540Z"
   },
   {
    "duration": 51,
    "start_time": "2021-10-07T11:16:05.584Z"
   },
   {
    "duration": 40,
    "start_time": "2021-10-07T11:16:05.638Z"
   },
   {
    "duration": 4,
    "start_time": "2021-10-07T11:16:05.680Z"
   },
   {
    "duration": 14,
    "start_time": "2021-10-07T11:16:05.687Z"
   },
   {
    "duration": 20,
    "start_time": "2021-10-07T11:16:05.705Z"
   },
   {
    "duration": 45,
    "start_time": "2021-10-07T11:16:05.728Z"
   },
   {
    "duration": 15,
    "start_time": "2021-10-07T11:16:05.775Z"
   },
   {
    "duration": 17,
    "start_time": "2021-10-07T11:16:05.792Z"
   },
   {
    "duration": 6,
    "start_time": "2021-10-07T11:16:05.811Z"
   },
   {
    "duration": 50,
    "start_time": "2021-10-07T11:16:05.819Z"
   },
   {
    "duration": 7,
    "start_time": "2021-10-07T11:16:05.871Z"
   },
   {
    "duration": 303,
    "start_time": "2021-10-07T11:16:05.881Z"
   },
   {
    "duration": 7,
    "start_time": "2021-10-07T11:16:06.186Z"
   },
   {
    "duration": 341,
    "start_time": "2021-10-07T11:16:06.196Z"
   },
   {
    "duration": 6,
    "start_time": "2021-10-07T11:16:06.539Z"
   },
   {
    "duration": 287,
    "start_time": "2021-10-07T11:16:06.547Z"
   },
   {
    "duration": 4,
    "start_time": "2021-10-07T11:16:06.836Z"
   },
   {
    "duration": 178,
    "start_time": "2021-10-07T11:16:06.843Z"
   },
   {
    "duration": 64,
    "start_time": "2021-10-07T11:16:07.023Z"
   },
   {
    "duration": 10,
    "start_time": "2021-10-07T11:16:07.090Z"
   },
   {
    "duration": 135,
    "start_time": "2021-10-07T11:16:07.103Z"
   },
   {
    "duration": 4764,
    "start_time": "2021-10-07T11:16:07.240Z"
   },
   {
    "duration": 12,
    "start_time": "2021-10-07T11:16:12.006Z"
   },
   {
    "duration": 20,
    "start_time": "2021-10-07T11:16:12.021Z"
   },
   {
    "duration": 21,
    "start_time": "2021-10-07T11:16:12.043Z"
   },
   {
    "duration": 128,
    "start_time": "2021-10-07T11:16:12.066Z"
   },
   {
    "duration": 12,
    "start_time": "2021-10-07T11:16:12.196Z"
   },
   {
    "duration": 18,
    "start_time": "2021-10-07T11:16:12.210Z"
   },
   {
    "duration": 21,
    "start_time": "2021-10-07T11:16:12.230Z"
   },
   {
    "duration": 30,
    "start_time": "2021-10-07T11:16:12.254Z"
   },
   {
    "duration": 47,
    "start_time": "2021-10-07T11:16:12.287Z"
   },
   {
    "duration": 14,
    "start_time": "2021-10-07T11:16:12.336Z"
   },
   {
    "duration": 17,
    "start_time": "2021-10-07T11:17:11.270Z"
   },
   {
    "duration": 19,
    "start_time": "2021-10-07T11:17:12.294Z"
   },
   {
    "duration": 4,
    "start_time": "2021-10-07T11:17:13.350Z"
   },
   {
    "duration": 121,
    "start_time": "2021-10-07T11:17:58.201Z"
   },
   {
    "duration": 12,
    "start_time": "2021-10-07T11:28:17.058Z"
   },
   {
    "duration": 10,
    "start_time": "2021-10-07T11:31:55.757Z"
   },
   {
    "duration": 7,
    "start_time": "2021-10-07T11:32:26.604Z"
   },
   {
    "duration": 582,
    "start_time": "2021-10-07T11:32:26.614Z"
   },
   {
    "duration": 18,
    "start_time": "2021-10-07T11:32:27.200Z"
   },
   {
    "duration": 30,
    "start_time": "2021-10-07T11:32:27.221Z"
   },
   {
    "duration": 42,
    "start_time": "2021-10-07T11:32:27.254Z"
   },
   {
    "duration": 6,
    "start_time": "2021-10-07T11:32:27.299Z"
   },
   {
    "duration": 20,
    "start_time": "2021-10-07T11:32:27.308Z"
   },
   {
    "duration": 46,
    "start_time": "2021-10-07T11:32:27.332Z"
   },
   {
    "duration": 37,
    "start_time": "2021-10-07T11:32:27.380Z"
   },
   {
    "duration": 7,
    "start_time": "2021-10-07T11:32:27.419Z"
   },
   {
    "duration": 44,
    "start_time": "2021-10-07T11:32:27.428Z"
   },
   {
    "duration": 24,
    "start_time": "2021-10-07T11:32:27.474Z"
   },
   {
    "duration": 24,
    "start_time": "2021-10-07T11:32:27.501Z"
   },
   {
    "duration": 35,
    "start_time": "2021-10-07T11:32:27.528Z"
   },
   {
    "duration": 18,
    "start_time": "2021-10-07T11:32:27.566Z"
   },
   {
    "duration": 21,
    "start_time": "2021-10-07T11:32:27.587Z"
   },
   {
    "duration": 14,
    "start_time": "2021-10-07T11:32:27.611Z"
   },
   {
    "duration": 57,
    "start_time": "2021-10-07T11:32:27.628Z"
   },
   {
    "duration": 10,
    "start_time": "2021-10-07T11:32:27.689Z"
   },
   {
    "duration": 69,
    "start_time": "2021-10-07T11:32:27.701Z"
   },
   {
    "duration": 33,
    "start_time": "2021-10-07T11:32:27.772Z"
   },
   {
    "duration": 28,
    "start_time": "2021-10-07T11:32:27.808Z"
   },
   {
    "duration": 8,
    "start_time": "2021-10-07T11:32:27.862Z"
   },
   {
    "duration": 14,
    "start_time": "2021-10-07T11:32:27.874Z"
   },
   {
    "duration": 34,
    "start_time": "2021-10-07T11:32:27.891Z"
   },
   {
    "duration": 3,
    "start_time": "2021-10-07T11:32:27.928Z"
   },
   {
    "duration": 99,
    "start_time": "2021-10-07T11:32:27.933Z"
   },
   {
    "duration": 44,
    "start_time": "2021-10-07T11:32:28.034Z"
   },
   {
    "duration": 24,
    "start_time": "2021-10-07T11:32:28.080Z"
   },
   {
    "duration": 61,
    "start_time": "2021-10-07T11:32:28.107Z"
   },
   {
    "duration": 18,
    "start_time": "2021-10-07T11:32:28.171Z"
   },
   {
    "duration": 84,
    "start_time": "2021-10-07T11:32:28.192Z"
   },
   {
    "duration": 47,
    "start_time": "2021-10-07T11:32:28.279Z"
   },
   {
    "duration": 35,
    "start_time": "2021-10-07T11:32:28.329Z"
   },
   {
    "duration": 4,
    "start_time": "2021-10-07T11:32:28.367Z"
   },
   {
    "duration": 16,
    "start_time": "2021-10-07T11:32:28.374Z"
   },
   {
    "duration": 17,
    "start_time": "2021-10-07T11:32:28.393Z"
   },
   {
    "duration": 15,
    "start_time": "2021-10-07T11:32:28.412Z"
   },
   {
    "duration": 43,
    "start_time": "2021-10-07T11:32:28.430Z"
   },
   {
    "duration": 19,
    "start_time": "2021-10-07T11:32:28.475Z"
   },
   {
    "duration": 8,
    "start_time": "2021-10-07T11:32:28.496Z"
   },
   {
    "duration": 26,
    "start_time": "2021-10-07T11:32:28.507Z"
   },
   {
    "duration": 28,
    "start_time": "2021-10-07T11:32:28.536Z"
   },
   {
    "duration": 314,
    "start_time": "2021-10-07T11:32:28.567Z"
   },
   {
    "duration": 8,
    "start_time": "2021-10-07T11:32:28.883Z"
   },
   {
    "duration": 323,
    "start_time": "2021-10-07T11:32:28.894Z"
   },
   {
    "duration": 8,
    "start_time": "2021-10-07T11:32:29.220Z"
   },
   {
    "duration": 297,
    "start_time": "2021-10-07T11:32:29.231Z"
   },
   {
    "duration": 6,
    "start_time": "2021-10-07T11:32:29.531Z"
   },
   {
    "duration": 176,
    "start_time": "2021-10-07T11:32:29.540Z"
   },
   {
    "duration": 70,
    "start_time": "2021-10-07T11:32:29.719Z"
   },
   {
    "duration": 11,
    "start_time": "2021-10-07T11:32:29.791Z"
   },
   {
    "duration": 179,
    "start_time": "2021-10-07T11:32:29.804Z"
   },
   {
    "duration": 4770,
    "start_time": "2021-10-07T11:32:29.986Z"
   },
   {
    "duration": 15,
    "start_time": "2021-10-07T11:32:34.763Z"
   },
   {
    "duration": 13,
    "start_time": "2021-10-07T11:32:34.780Z"
   },
   {
    "duration": 10,
    "start_time": "2021-10-07T11:32:34.796Z"
   },
   {
    "duration": 18,
    "start_time": "2021-10-07T11:32:34.808Z"
   },
   {
    "duration": 18,
    "start_time": "2021-10-07T11:32:34.863Z"
   },
   {
    "duration": 5,
    "start_time": "2021-10-07T11:32:34.884Z"
   },
   {
    "duration": 30,
    "start_time": "2021-10-07T11:32:34.891Z"
   },
   {
    "duration": 21,
    "start_time": "2021-10-07T11:32:34.923Z"
   },
   {
    "duration": 18,
    "start_time": "2021-10-07T11:32:34.946Z"
   },
   {
    "duration": 5,
    "start_time": "2021-10-07T11:33:37.102Z"
   },
   {
    "duration": 4,
    "start_time": "2021-10-07T11:37:08.395Z"
   },
   {
    "duration": 17,
    "start_time": "2021-10-07T11:37:10.511Z"
   },
   {
    "duration": 108,
    "start_time": "2021-10-07T11:44:11.228Z"
   },
   {
    "duration": 301,
    "start_time": "2021-10-07T11:47:04.225Z"
   },
   {
    "duration": 6,
    "start_time": "2021-10-07T11:47:15.855Z"
   },
   {
    "duration": 5,
    "start_time": "2021-10-07T11:47:20.144Z"
   },
   {
    "duration": 4,
    "start_time": "2021-10-07T11:47:28.683Z"
   },
   {
    "duration": 385,
    "start_time": "2021-10-07T11:47:38.451Z"
   },
   {
    "duration": 5,
    "start_time": "2021-10-07T11:47:40.711Z"
   },
   {
    "duration": 6,
    "start_time": "2021-10-07T11:47:53.739Z"
   },
   {
    "duration": 333,
    "start_time": "2021-10-07T11:48:01.308Z"
   },
   {
    "duration": 6,
    "start_time": "2021-10-07T11:48:06.590Z"
   },
   {
    "duration": 32,
    "start_time": "2021-10-07T11:57:41.091Z"
   },
   {
    "duration": 26,
    "start_time": "2021-10-07T11:58:14.956Z"
   },
   {
    "duration": 14,
    "start_time": "2021-10-07T20:06:49.954Z"
   },
   {
    "duration": 6,
    "start_time": "2021-10-07T20:06:57.534Z"
   },
   {
    "duration": 401,
    "start_time": "2021-10-07T20:10:09.899Z"
   },
   {
    "duration": 1458,
    "start_time": "2021-10-07T20:10:12.867Z"
   },
   {
    "duration": 551,
    "start_time": "2021-10-07T20:10:14.328Z"
   },
   {
    "duration": 21,
    "start_time": "2021-10-07T20:10:14.882Z"
   },
   {
    "duration": 34,
    "start_time": "2021-10-07T20:10:14.906Z"
   },
   {
    "duration": 49,
    "start_time": "2021-10-07T20:10:14.942Z"
   },
   {
    "duration": 6,
    "start_time": "2021-10-07T20:10:14.993Z"
   },
   {
    "duration": 22,
    "start_time": "2021-10-07T20:10:15.001Z"
   },
   {
    "duration": 47,
    "start_time": "2021-10-07T20:10:15.027Z"
   },
   {
    "duration": 39,
    "start_time": "2021-10-07T20:10:15.078Z"
   },
   {
    "duration": 8,
    "start_time": "2021-10-07T20:10:15.120Z"
   },
   {
    "duration": 17,
    "start_time": "2021-10-07T20:10:15.159Z"
   },
   {
    "duration": 19,
    "start_time": "2021-10-07T20:10:15.178Z"
   },
   {
    "duration": 59,
    "start_time": "2021-10-07T20:10:15.199Z"
   },
   {
    "duration": 7,
    "start_time": "2021-10-07T20:10:15.261Z"
   },
   {
    "duration": 19,
    "start_time": "2021-10-07T20:10:15.270Z"
   },
   {
    "duration": 21,
    "start_time": "2021-10-07T20:10:15.292Z"
   },
   {
    "duration": 44,
    "start_time": "2021-10-07T20:10:15.316Z"
   },
   {
    "duration": 42,
    "start_time": "2021-10-07T20:10:15.363Z"
   },
   {
    "duration": 7,
    "start_time": "2021-10-07T20:10:15.407Z"
   },
   {
    "duration": 82,
    "start_time": "2021-10-07T20:10:15.416Z"
   },
   {
    "duration": 35,
    "start_time": "2021-10-07T20:10:15.500Z"
   },
   {
    "duration": 38,
    "start_time": "2021-10-07T20:10:15.537Z"
   },
   {
    "duration": 8,
    "start_time": "2021-10-07T20:10:15.581Z"
   },
   {
    "duration": 11,
    "start_time": "2021-10-07T20:10:15.592Z"
   },
   {
    "duration": 54,
    "start_time": "2021-10-07T20:10:15.605Z"
   },
   {
    "duration": 3,
    "start_time": "2021-10-07T20:10:15.662Z"
   },
   {
    "duration": 101,
    "start_time": "2021-10-07T20:10:15.667Z"
   },
   {
    "duration": 27,
    "start_time": "2021-10-07T20:10:15.771Z"
   },
   {
    "duration": 19,
    "start_time": "2021-10-07T20:10:15.801Z"
   },
   {
    "duration": 68,
    "start_time": "2021-10-07T20:10:15.823Z"
   },
   {
    "duration": 17,
    "start_time": "2021-10-07T20:10:15.893Z"
   },
   {
    "duration": 45,
    "start_time": "2021-10-07T20:10:15.912Z"
   },
   {
    "duration": 47,
    "start_time": "2021-10-07T20:10:15.960Z"
   },
   {
    "duration": 17,
    "start_time": "2021-10-07T20:10:16.010Z"
   },
   {
    "duration": 3,
    "start_time": "2021-10-07T20:10:16.030Z"
   },
   {
    "duration": 7,
    "start_time": "2021-10-07T20:10:16.058Z"
   },
   {
    "duration": 17,
    "start_time": "2021-10-07T20:10:16.067Z"
   },
   {
    "duration": 17,
    "start_time": "2021-10-07T20:10:16.086Z"
   },
   {
    "duration": 14,
    "start_time": "2021-10-07T20:10:16.105Z"
   },
   {
    "duration": 43,
    "start_time": "2021-10-07T20:10:16.121Z"
   },
   {
    "duration": 5,
    "start_time": "2021-10-07T20:10:16.166Z"
   },
   {
    "duration": 10,
    "start_time": "2021-10-07T20:10:16.174Z"
   },
   {
    "duration": 33,
    "start_time": "2021-10-07T20:10:16.186Z"
   },
   {
    "duration": 39,
    "start_time": "2021-10-07T20:10:16.221Z"
   },
   {
    "duration": 309,
    "start_time": "2021-10-07T20:10:16.262Z"
   },
   {
    "duration": 7,
    "start_time": "2021-10-07T20:10:16.573Z"
   },
   {
    "duration": 304,
    "start_time": "2021-10-07T20:10:16.584Z"
   },
   {
    "duration": 8,
    "start_time": "2021-10-07T20:10:16.890Z"
   },
   {
    "duration": 284,
    "start_time": "2021-10-07T20:10:16.901Z"
   },
   {
    "duration": 6,
    "start_time": "2021-10-07T20:10:17.187Z"
   },
   {
    "duration": 177,
    "start_time": "2021-10-07T20:10:17.196Z"
   },
   {
    "duration": 53,
    "start_time": "2021-10-07T20:10:17.376Z"
   },
   {
    "duration": 33,
    "start_time": "2021-10-07T20:10:17.433Z"
   },
   {
    "duration": 23,
    "start_time": "2021-10-07T20:10:17.469Z"
   },
   {
    "duration": 4582,
    "start_time": "2021-10-07T20:10:17.494Z"
   },
   {
    "duration": 13,
    "start_time": "2021-10-07T20:10:22.078Z"
   },
   {
    "duration": 10,
    "start_time": "2021-10-07T20:10:22.094Z"
   },
   {
    "duration": 4,
    "start_time": "2021-10-07T20:10:22.107Z"
   },
   {
    "duration": 53,
    "start_time": "2021-10-07T20:10:22.113Z"
   },
   {
    "duration": 17,
    "start_time": "2021-10-07T20:10:22.169Z"
   },
   {
    "duration": 5,
    "start_time": "2021-10-07T20:10:22.188Z"
   },
   {
    "duration": 7,
    "start_time": "2021-10-07T20:15:37.593Z"
   },
   {
    "duration": 580,
    "start_time": "2021-10-07T20:15:37.603Z"
   },
   {
    "duration": 19,
    "start_time": "2021-10-07T20:15:38.187Z"
   },
   {
    "duration": 29,
    "start_time": "2021-10-07T20:15:38.209Z"
   },
   {
    "duration": 49,
    "start_time": "2021-10-07T20:15:38.241Z"
   },
   {
    "duration": 6,
    "start_time": "2021-10-07T20:15:38.292Z"
   },
   {
    "duration": 16,
    "start_time": "2021-10-07T20:15:38.300Z"
   },
   {
    "duration": 50,
    "start_time": "2021-10-07T20:15:38.318Z"
   },
   {
    "duration": 40,
    "start_time": "2021-10-07T20:15:38.374Z"
   },
   {
    "duration": 6,
    "start_time": "2021-10-07T20:15:38.419Z"
   },
   {
    "duration": 17,
    "start_time": "2021-10-07T20:15:38.458Z"
   },
   {
    "duration": 22,
    "start_time": "2021-10-07T20:15:38.478Z"
   },
   {
    "duration": 61,
    "start_time": "2021-10-07T20:15:38.503Z"
   },
   {
    "duration": 6,
    "start_time": "2021-10-07T20:15:38.566Z"
   },
   {
    "duration": 16,
    "start_time": "2021-10-07T20:15:38.575Z"
   },
   {
    "duration": 16,
    "start_time": "2021-10-07T20:15:38.594Z"
   },
   {
    "duration": 47,
    "start_time": "2021-10-07T20:15:38.613Z"
   },
   {
    "duration": 38,
    "start_time": "2021-10-07T20:15:38.664Z"
   },
   {
    "duration": 7,
    "start_time": "2021-10-07T20:15:38.705Z"
   },
   {
    "duration": 74,
    "start_time": "2021-10-07T20:15:38.714Z"
   },
   {
    "duration": 33,
    "start_time": "2021-10-07T20:15:38.790Z"
   },
   {
    "duration": 42,
    "start_time": "2021-10-07T20:15:38.826Z"
   },
   {
    "duration": 7,
    "start_time": "2021-10-07T20:15:38.871Z"
   },
   {
    "duration": 14,
    "start_time": "2021-10-07T20:15:38.881Z"
   },
   {
    "duration": 61,
    "start_time": "2021-10-07T20:15:38.899Z"
   },
   {
    "duration": 4,
    "start_time": "2021-10-07T20:15:38.963Z"
   },
   {
    "duration": 95,
    "start_time": "2021-10-07T20:15:38.973Z"
   },
   {
    "duration": 31,
    "start_time": "2021-10-07T20:15:39.071Z"
   },
   {
    "duration": 21,
    "start_time": "2021-10-07T20:15:39.105Z"
   },
   {
    "duration": 61,
    "start_time": "2021-10-07T20:15:39.129Z"
   },
   {
    "duration": 18,
    "start_time": "2021-10-07T20:15:39.192Z"
   },
   {
    "duration": 52,
    "start_time": "2021-10-07T20:15:39.213Z"
   },
   {
    "duration": 49,
    "start_time": "2021-10-07T20:15:39.267Z"
   },
   {
    "duration": 41,
    "start_time": "2021-10-07T20:15:39.318Z"
   },
   {
    "duration": 5,
    "start_time": "2021-10-07T20:15:39.362Z"
   },
   {
    "duration": 14,
    "start_time": "2021-10-07T20:15:39.370Z"
   },
   {
    "duration": 23,
    "start_time": "2021-10-07T20:15:39.387Z"
   },
   {
    "duration": 16,
    "start_time": "2021-10-07T20:15:39.413Z"
   },
   {
    "duration": 36,
    "start_time": "2021-10-07T20:15:39.432Z"
   },
   {
    "duration": 17,
    "start_time": "2021-10-07T20:15:39.471Z"
   },
   {
    "duration": 6,
    "start_time": "2021-10-07T20:15:39.491Z"
   },
   {
    "duration": 65,
    "start_time": "2021-10-07T20:15:39.500Z"
   },
   {
    "duration": 11,
    "start_time": "2021-10-07T20:15:39.567Z"
   },
   {
    "duration": 34,
    "start_time": "2021-10-07T20:15:39.580Z"
   },
   {
    "duration": 6,
    "start_time": "2021-10-07T20:15:39.616Z"
   },
   {
    "duration": 321,
    "start_time": "2021-10-07T20:15:39.624Z"
   },
   {
    "duration": 9,
    "start_time": "2021-10-07T20:15:39.947Z"
   },
   {
    "duration": 308,
    "start_time": "2021-10-07T20:15:39.959Z"
   },
   {
    "duration": 5,
    "start_time": "2021-10-07T20:15:40.270Z"
   },
   {
    "duration": 299,
    "start_time": "2021-10-07T20:15:40.279Z"
   },
   {
    "duration": 6,
    "start_time": "2021-10-07T20:15:40.581Z"
   },
   {
    "duration": 185,
    "start_time": "2021-10-07T20:15:40.589Z"
   },
   {
    "duration": 49,
    "start_time": "2021-10-07T20:15:40.776Z"
   },
   {
    "duration": 30,
    "start_time": "2021-10-07T20:15:40.827Z"
   },
   {
    "duration": 24,
    "start_time": "2021-10-07T20:15:40.860Z"
   },
   {
    "duration": 4779,
    "start_time": "2021-10-07T20:15:40.886Z"
   },
   {
    "duration": 12,
    "start_time": "2021-10-07T20:15:45.668Z"
   },
   {
    "duration": 13,
    "start_time": "2021-10-07T20:15:45.683Z"
   },
   {
    "duration": 5,
    "start_time": "2021-10-07T20:15:45.699Z"
   },
   {
    "duration": 52,
    "start_time": "2021-10-07T20:15:45.706Z"
   },
   {
    "duration": 18,
    "start_time": "2021-10-07T20:15:45.760Z"
   },
   {
    "duration": 7,
    "start_time": "2021-10-07T20:15:45.781Z"
   },
   {
    "duration": 407,
    "start_time": "2021-10-07T20:18:23.219Z"
   },
   {
    "duration": 39,
    "start_time": "2021-10-07T20:18:31.495Z"
   },
   {
    "duration": 1472,
    "start_time": "2021-10-08T18:44:37.356Z"
   },
   {
    "duration": 518,
    "start_time": "2021-10-08T18:44:38.830Z"
   },
   {
    "duration": 25,
    "start_time": "2021-10-08T18:44:39.351Z"
   },
   {
    "duration": 27,
    "start_time": "2021-10-08T18:44:39.379Z"
   },
   {
    "duration": 63,
    "start_time": "2021-10-08T18:44:39.408Z"
   },
   {
    "duration": 6,
    "start_time": "2021-10-08T18:44:39.473Z"
   },
   {
    "duration": 18,
    "start_time": "2021-10-08T18:44:39.481Z"
   },
   {
    "duration": 21,
    "start_time": "2021-10-08T18:44:39.502Z"
   },
   {
    "duration": 64,
    "start_time": "2021-10-08T18:44:39.526Z"
   },
   {
    "duration": 6,
    "start_time": "2021-10-08T18:44:39.593Z"
   },
   {
    "duration": 15,
    "start_time": "2021-10-08T18:44:39.601Z"
   },
   {
    "duration": 46,
    "start_time": "2021-10-08T18:44:39.618Z"
   },
   {
    "duration": 24,
    "start_time": "2021-10-08T18:44:39.666Z"
   },
   {
    "duration": 5,
    "start_time": "2021-10-08T18:44:39.692Z"
   },
   {
    "duration": 12,
    "start_time": "2021-10-08T18:44:39.700Z"
   },
   {
    "duration": 51,
    "start_time": "2021-10-08T18:44:39.714Z"
   },
   {
    "duration": 8,
    "start_time": "2021-10-08T18:44:39.768Z"
   },
   {
    "duration": 25,
    "start_time": "2021-10-08T18:44:39.778Z"
   },
   {
    "duration": 6,
    "start_time": "2021-10-08T18:44:39.805Z"
   },
   {
    "duration": 87,
    "start_time": "2021-10-08T18:44:39.813Z"
   },
   {
    "duration": 32,
    "start_time": "2021-10-08T18:44:39.902Z"
   },
   {
    "duration": 38,
    "start_time": "2021-10-08T18:44:39.936Z"
   },
   {
    "duration": 8,
    "start_time": "2021-10-08T18:44:39.979Z"
   },
   {
    "duration": 11,
    "start_time": "2021-10-08T18:44:39.990Z"
   },
   {
    "duration": 59,
    "start_time": "2021-10-08T18:44:40.003Z"
   },
   {
    "duration": 4,
    "start_time": "2021-10-08T18:44:40.065Z"
   },
   {
    "duration": 96,
    "start_time": "2021-10-08T18:44:40.073Z"
   },
   {
    "duration": 32,
    "start_time": "2021-10-08T18:44:40.172Z"
   },
   {
    "duration": 21,
    "start_time": "2021-10-08T18:44:40.206Z"
   },
   {
    "duration": 70,
    "start_time": "2021-10-08T18:44:40.230Z"
   },
   {
    "duration": 17,
    "start_time": "2021-10-08T18:44:40.302Z"
   },
   {
    "duration": 49,
    "start_time": "2021-10-08T18:44:40.322Z"
   },
   {
    "duration": 52,
    "start_time": "2021-10-08T18:44:40.373Z"
   },
   {
    "duration": 32,
    "start_time": "2021-10-08T18:44:40.427Z"
   },
   {
    "duration": 4,
    "start_time": "2021-10-08T18:44:40.462Z"
   },
   {
    "duration": 13,
    "start_time": "2021-10-08T18:44:40.469Z"
   },
   {
    "duration": 16,
    "start_time": "2021-10-08T18:44:40.484Z"
   },
   {
    "duration": 16,
    "start_time": "2021-10-08T18:44:40.502Z"
   },
   {
    "duration": 48,
    "start_time": "2021-10-08T18:44:40.520Z"
   },
   {
    "duration": 14,
    "start_time": "2021-10-08T18:44:40.570Z"
   },
   {
    "duration": 6,
    "start_time": "2021-10-08T18:44:40.586Z"
   },
   {
    "duration": 10,
    "start_time": "2021-10-08T18:44:40.594Z"
   },
   {
    "duration": 69,
    "start_time": "2021-10-08T18:44:40.607Z"
   },
   {
    "duration": 6,
    "start_time": "2021-10-08T18:44:40.678Z"
   },
   {
    "duration": 295,
    "start_time": "2021-10-08T18:44:40.686Z"
   },
   {
    "duration": 6,
    "start_time": "2021-10-08T18:44:40.983Z"
   },
   {
    "duration": 293,
    "start_time": "2021-10-08T18:44:40.991Z"
   },
   {
    "duration": 7,
    "start_time": "2021-10-08T18:44:41.286Z"
   },
   {
    "duration": 272,
    "start_time": "2021-10-08T18:44:41.295Z"
   },
   {
    "duration": 4,
    "start_time": "2021-10-08T18:44:41.569Z"
   },
   {
    "duration": 162,
    "start_time": "2021-10-08T18:44:41.575Z"
   },
   {
    "duration": 56,
    "start_time": "2021-10-08T18:44:41.739Z"
   },
   {
    "duration": 10,
    "start_time": "2021-10-08T18:44:41.798Z"
   },
   {
    "duration": 25,
    "start_time": "2021-10-08T18:44:41.810Z"
   },
   {
    "duration": 4601,
    "start_time": "2021-10-08T18:44:41.859Z"
   },
   {
    "duration": 13,
    "start_time": "2021-10-08T18:44:46.463Z"
   },
   {
    "duration": 11,
    "start_time": "2021-10-08T18:44:46.478Z"
   },
   {
    "duration": 5,
    "start_time": "2021-10-08T18:44:46.492Z"
   },
   {
    "duration": 16,
    "start_time": "2021-10-08T18:44:46.499Z"
   },
   {
    "duration": 54,
    "start_time": "2021-10-08T18:44:46.517Z"
   },
   {
    "duration": 4,
    "start_time": "2021-10-08T18:44:46.573Z"
   },
   {
    "duration": 461,
    "start_time": "2021-10-08T18:58:42.842Z"
   },
   {
    "duration": 336,
    "start_time": "2021-10-08T18:58:54.335Z"
   },
   {
    "duration": 16,
    "start_time": "2021-10-08T19:00:14.701Z"
   },
   {
    "duration": 5,
    "start_time": "2021-10-08T19:04:15.199Z"
   },
   {
    "duration": 7,
    "start_time": "2021-10-08T19:04:22.176Z"
   },
   {
    "duration": 128,
    "start_time": "2021-10-08T19:05:15.119Z"
   },
   {
    "duration": 6,
    "start_time": "2021-10-08T19:06:53.989Z"
   },
   {
    "duration": 565,
    "start_time": "2021-10-08T19:06:53.998Z"
   },
   {
    "duration": 17,
    "start_time": "2021-10-08T19:06:54.566Z"
   },
   {
    "duration": 27,
    "start_time": "2021-10-08T19:06:54.586Z"
   },
   {
    "duration": 63,
    "start_time": "2021-10-08T19:06:54.616Z"
   },
   {
    "duration": 6,
    "start_time": "2021-10-08T19:06:54.682Z"
   },
   {
    "duration": 20,
    "start_time": "2021-10-08T19:06:54.690Z"
   },
   {
    "duration": 45,
    "start_time": "2021-10-08T19:06:54.714Z"
   },
   {
    "duration": 37,
    "start_time": "2021-10-08T19:06:54.763Z"
   },
   {
    "duration": 6,
    "start_time": "2021-10-08T19:06:54.803Z"
   },
   {
    "duration": 47,
    "start_time": "2021-10-08T19:06:54.812Z"
   },
   {
    "duration": 20,
    "start_time": "2021-10-08T19:06:54.862Z"
   },
   {
    "duration": 23,
    "start_time": "2021-10-08T19:06:54.885Z"
   },
   {
    "duration": 6,
    "start_time": "2021-10-08T19:06:54.911Z"
   },
   {
    "duration": 45,
    "start_time": "2021-10-08T19:06:54.919Z"
   },
   {
    "duration": 15,
    "start_time": "2021-10-08T19:06:54.966Z"
   },
   {
    "duration": 12,
    "start_time": "2021-10-08T19:06:54.984Z"
   },
   {
    "duration": 33,
    "start_time": "2021-10-08T19:06:54.998Z"
   },
   {
    "duration": 7,
    "start_time": "2021-10-08T19:06:55.058Z"
   },
   {
    "duration": 43,
    "start_time": "2021-10-08T19:06:55.067Z"
   },
   {
    "duration": 52,
    "start_time": "2021-10-08T19:06:55.112Z"
   },
   {
    "duration": 27,
    "start_time": "2021-10-08T19:06:55.167Z"
   },
   {
    "duration": 7,
    "start_time": "2021-10-08T19:06:55.199Z"
   },
   {
    "duration": 17,
    "start_time": "2021-10-08T19:06:55.209Z"
   },
   {
    "duration": 58,
    "start_time": "2021-10-08T19:06:55.228Z"
   },
   {
    "duration": 4,
    "start_time": "2021-10-08T19:06:55.289Z"
   },
   {
    "duration": 90,
    "start_time": "2021-10-08T19:06:55.295Z"
   },
   {
    "duration": 28,
    "start_time": "2021-10-08T19:06:55.387Z"
   },
   {
    "duration": 40,
    "start_time": "2021-10-08T19:06:55.418Z"
   },
   {
    "duration": 36,
    "start_time": "2021-10-08T19:06:55.461Z"
   },
   {
    "duration": 17,
    "start_time": "2021-10-08T19:06:55.500Z"
   },
   {
    "duration": 53,
    "start_time": "2021-10-08T19:06:55.519Z"
   },
   {
    "duration": 48,
    "start_time": "2021-10-08T19:06:55.574Z"
   },
   {
    "duration": 49,
    "start_time": "2021-10-08T19:07:01.742Z"
   },
   {
    "duration": 11,
    "start_time": "2021-10-08T19:07:02.671Z"
   },
   {
    "duration": 22,
    "start_time": "2021-10-08T19:09:59.860Z"
   },
   {
    "duration": 6,
    "start_time": "2021-10-08T19:10:18.936Z"
   },
   {
    "duration": 539,
    "start_time": "2021-10-08T19:10:18.944Z"
   },
   {
    "duration": 17,
    "start_time": "2021-10-08T19:10:19.486Z"
   },
   {
    "duration": 26,
    "start_time": "2021-10-08T19:10:19.505Z"
   },
   {
    "duration": 45,
    "start_time": "2021-10-08T19:10:19.533Z"
   },
   {
    "duration": 6,
    "start_time": "2021-10-08T19:10:19.580Z"
   },
   {
    "duration": 18,
    "start_time": "2021-10-08T19:10:19.588Z"
   },
   {
    "duration": 22,
    "start_time": "2021-10-08T19:10:19.610Z"
   },
   {
    "duration": 35,
    "start_time": "2021-10-08T19:10:19.659Z"
   },
   {
    "duration": 6,
    "start_time": "2021-10-08T19:10:19.697Z"
   },
   {
    "duration": 16,
    "start_time": "2021-10-08T19:10:19.705Z"
   },
   {
    "duration": 47,
    "start_time": "2021-10-08T19:10:19.724Z"
   },
   {
    "duration": 24,
    "start_time": "2021-10-08T19:10:19.774Z"
   },
   {
    "duration": 7,
    "start_time": "2021-10-08T19:10:19.800Z"
   },
   {
    "duration": 50,
    "start_time": "2021-10-08T19:10:19.809Z"
   },
   {
    "duration": 15,
    "start_time": "2021-10-08T19:10:19.861Z"
   },
   {
    "duration": 10,
    "start_time": "2021-10-08T19:10:19.878Z"
   },
   {
    "duration": 26,
    "start_time": "2021-10-08T19:10:19.890Z"
   },
   {
    "duration": 41,
    "start_time": "2021-10-08T19:10:19.918Z"
   },
   {
    "duration": 41,
    "start_time": "2021-10-08T19:10:19.961Z"
   },
   {
    "duration": 52,
    "start_time": "2021-10-08T19:10:20.005Z"
   },
   {
    "duration": 26,
    "start_time": "2021-10-08T19:10:20.060Z"
   },
   {
    "duration": 8,
    "start_time": "2021-10-08T19:10:20.091Z"
   },
   {
    "duration": 23,
    "start_time": "2021-10-08T19:10:20.101Z"
   },
   {
    "duration": 47,
    "start_time": "2021-10-08T19:10:20.127Z"
   },
   {
    "duration": 3,
    "start_time": "2021-10-08T19:10:20.177Z"
   },
   {
    "duration": 78,
    "start_time": "2021-10-08T19:10:20.182Z"
   },
   {
    "duration": 28,
    "start_time": "2021-10-08T19:10:20.263Z"
   },
   {
    "duration": 21,
    "start_time": "2021-10-08T19:10:20.294Z"
   },
   {
    "duration": 61,
    "start_time": "2021-10-08T19:10:20.318Z"
   },
   {
    "duration": 17,
    "start_time": "2021-10-08T19:10:20.382Z"
   },
   {
    "duration": 27,
    "start_time": "2021-10-08T19:10:20.401Z"
   },
   {
    "duration": 73,
    "start_time": "2021-10-08T19:10:20.431Z"
   },
   {
    "duration": 11,
    "start_time": "2021-10-08T19:10:20.507Z"
   },
   {
    "duration": 7,
    "start_time": "2021-10-08T19:10:20.521Z"
   },
   {
    "duration": 41,
    "start_time": "2021-10-08T19:10:20.531Z"
   },
   {
    "duration": 14,
    "start_time": "2021-10-08T19:10:20.574Z"
   },
   {
    "duration": 13,
    "start_time": "2021-10-08T19:10:25.319Z"
   },
   {
    "duration": 13,
    "start_time": "2021-10-08T19:10:26.581Z"
   },
   {
    "duration": 14,
    "start_time": "2021-10-08T19:10:27.117Z"
   },
   {
    "duration": 7,
    "start_time": "2021-10-08T19:10:28.184Z"
   },
   {
    "duration": 33,
    "start_time": "2021-10-08T19:10:41.669Z"
   },
   {
    "duration": 28,
    "start_time": "2021-10-08T19:10:53.863Z"
   },
   {
    "duration": 8514,
    "start_time": "2021-10-08T19:14:41.568Z"
   },
   {
    "duration": 361,
    "start_time": "2021-10-08T19:16:18.797Z"
   },
   {
    "duration": 22,
    "start_time": "2021-10-08T19:16:38.067Z"
   },
   {
    "duration": 325,
    "start_time": "2021-10-08T19:17:09.482Z"
   },
   {
    "duration": 348,
    "start_time": "2021-10-08T19:17:29.924Z"
   },
   {
    "duration": 320,
    "start_time": "2021-10-08T19:28:38.333Z"
   },
   {
    "duration": 356,
    "start_time": "2021-10-08T19:28:55.849Z"
   },
   {
    "duration": 8195,
    "start_time": "2021-10-08T19:29:08.861Z"
   },
   {
    "duration": 6,
    "start_time": "2021-10-08T19:29:37.450Z"
   },
   {
    "duration": 11157,
    "start_time": "2021-10-08T19:30:33.290Z"
   },
   {
    "duration": -135,
    "start_time": "2021-10-08T19:31:36.114Z"
   },
   {
    "duration": 20,
    "start_time": "2021-10-08T19:31:37.885Z"
   },
   {
    "duration": 6,
    "start_time": "2021-10-08T19:35:16.485Z"
   },
   {
    "duration": 553,
    "start_time": "2021-10-08T19:35:16.493Z"
   },
   {
    "duration": 18,
    "start_time": "2021-10-08T19:35:17.049Z"
   },
   {
    "duration": 26,
    "start_time": "2021-10-08T19:35:17.069Z"
   },
   {
    "duration": 62,
    "start_time": "2021-10-08T19:35:17.098Z"
   },
   {
    "duration": 6,
    "start_time": "2021-10-08T19:35:17.163Z"
   },
   {
    "duration": 18,
    "start_time": "2021-10-08T19:35:17.172Z"
   },
   {
    "duration": 22,
    "start_time": "2021-10-08T19:35:17.194Z"
   },
   {
    "duration": 67,
    "start_time": "2021-10-08T19:35:17.220Z"
   },
   {
    "duration": 6,
    "start_time": "2021-10-08T19:35:17.290Z"
   },
   {
    "duration": 16,
    "start_time": "2021-10-08T19:35:17.298Z"
   },
   {
    "duration": 47,
    "start_time": "2021-10-08T19:35:17.316Z"
   },
   {
    "duration": 23,
    "start_time": "2021-10-08T19:35:17.366Z"
   },
   {
    "duration": 7,
    "start_time": "2021-10-08T19:35:17.391Z"
   },
   {
    "duration": 31,
    "start_time": "2021-10-08T19:35:17.400Z"
   },
   {
    "duration": 34,
    "start_time": "2021-10-08T19:35:17.433Z"
   },
   {
    "duration": 8,
    "start_time": "2021-10-08T19:35:17.469Z"
   },
   {
    "duration": 28,
    "start_time": "2021-10-08T19:35:17.479Z"
   },
   {
    "duration": 6,
    "start_time": "2021-10-08T19:35:17.510Z"
   },
   {
    "duration": 77,
    "start_time": "2021-10-08T19:35:17.518Z"
   },
   {
    "duration": 31,
    "start_time": "2021-10-08T19:35:17.598Z"
   },
   {
    "duration": 37,
    "start_time": "2021-10-08T19:35:17.632Z"
   },
   {
    "duration": 8,
    "start_time": "2021-10-08T19:35:17.675Z"
   },
   {
    "duration": 11,
    "start_time": "2021-10-08T19:35:17.686Z"
   },
   {
    "duration": 33,
    "start_time": "2021-10-08T19:35:17.699Z"
   },
   {
    "duration": 4,
    "start_time": "2021-10-08T19:35:17.757Z"
   },
   {
    "duration": 60,
    "start_time": "2021-10-08T19:35:17.763Z"
   },
   {
    "duration": 11,
    "start_time": "2021-10-08T19:35:17.825Z"
   },
   {
    "duration": 21,
    "start_time": "2021-10-08T19:35:17.857Z"
   },
   {
    "duration": 29,
    "start_time": "2021-10-08T19:35:17.880Z"
   },
   {
    "duration": 10,
    "start_time": "2021-10-08T19:35:17.912Z"
   },
   {
    "duration": 56,
    "start_time": "2021-10-08T19:35:17.924Z"
   },
   {
    "duration": 48,
    "start_time": "2021-10-08T19:35:17.982Z"
   },
   {
    "duration": 28,
    "start_time": "2021-10-08T19:35:18.033Z"
   },
   {
    "duration": 10,
    "start_time": "2021-10-08T19:35:18.063Z"
   },
   {
    "duration": 14,
    "start_time": "2021-10-08T19:35:18.076Z"
   },
   {
    "duration": 20,
    "start_time": "2021-10-08T19:35:18.093Z"
   },
   {
    "duration": 15,
    "start_time": "2021-10-08T19:35:18.115Z"
   },
   {
    "duration": 14,
    "start_time": "2021-10-08T19:35:18.157Z"
   },
   {
    "duration": 25,
    "start_time": "2021-10-08T19:35:18.173Z"
   },
   {
    "duration": 9378,
    "start_time": "2021-10-08T19:35:18.200Z"
   },
   {
    "duration": -138,
    "start_time": "2021-10-08T19:35:27.719Z"
   },
   {
    "duration": -140,
    "start_time": "2021-10-08T19:35:27.722Z"
   },
   {
    "duration": -140,
    "start_time": "2021-10-08T19:35:27.724Z"
   },
   {
    "duration": -141,
    "start_time": "2021-10-08T19:35:27.727Z"
   },
   {
    "duration": -142,
    "start_time": "2021-10-08T19:35:27.729Z"
   },
   {
    "duration": -143,
    "start_time": "2021-10-08T19:35:27.732Z"
   },
   {
    "duration": -149,
    "start_time": "2021-10-08T19:35:27.739Z"
   },
   {
    "duration": -151,
    "start_time": "2021-10-08T19:35:27.742Z"
   },
   {
    "duration": -151,
    "start_time": "2021-10-08T19:35:27.744Z"
   },
   {
    "duration": -153,
    "start_time": "2021-10-08T19:35:27.747Z"
   },
   {
    "duration": -154,
    "start_time": "2021-10-08T19:35:27.750Z"
   },
   {
    "duration": -155,
    "start_time": "2021-10-08T19:35:27.752Z"
   },
   {
    "duration": -156,
    "start_time": "2021-10-08T19:35:27.755Z"
   },
   {
    "duration": -177,
    "start_time": "2021-10-08T19:35:27.777Z"
   },
   {
    "duration": -181,
    "start_time": "2021-10-08T19:35:27.783Z"
   },
   {
    "duration": -183,
    "start_time": "2021-10-08T19:35:27.786Z"
   },
   {
    "duration": -184,
    "start_time": "2021-10-08T19:35:27.788Z"
   },
   {
    "duration": -189,
    "start_time": "2021-10-08T19:35:27.795Z"
   },
   {
    "duration": -191,
    "start_time": "2021-10-08T19:35:27.798Z"
   },
   {
    "duration": -193,
    "start_time": "2021-10-08T19:35:27.801Z"
   },
   {
    "duration": -193,
    "start_time": "2021-10-08T19:35:27.803Z"
   },
   {
    "duration": -195,
    "start_time": "2021-10-08T19:35:27.806Z"
   },
   {
    "duration": 23,
    "start_time": "2021-10-08T19:35:45.599Z"
   },
   {
    "duration": 14,
    "start_time": "2021-10-08T19:36:01.637Z"
   },
   {
    "duration": 19,
    "start_time": "2021-10-08T19:36:10.337Z"
   },
   {
    "duration": 19,
    "start_time": "2021-10-08T19:36:33.757Z"
   },
   {
    "duration": 26,
    "start_time": "2021-10-08T19:36:38.148Z"
   },
   {
    "duration": 7,
    "start_time": "2021-10-08T19:38:00.276Z"
   },
   {
    "duration": 557,
    "start_time": "2021-10-08T19:38:00.286Z"
   },
   {
    "duration": 19,
    "start_time": "2021-10-08T19:38:00.847Z"
   },
   {
    "duration": 43,
    "start_time": "2021-10-08T19:38:00.869Z"
   },
   {
    "duration": 50,
    "start_time": "2021-10-08T19:38:00.914Z"
   },
   {
    "duration": 7,
    "start_time": "2021-10-08T19:38:00.967Z"
   },
   {
    "duration": 33,
    "start_time": "2021-10-08T19:38:00.976Z"
   },
   {
    "duration": 32,
    "start_time": "2021-10-08T19:38:01.012Z"
   },
   {
    "duration": 45,
    "start_time": "2021-10-08T19:38:01.047Z"
   },
   {
    "duration": 10,
    "start_time": "2021-10-08T19:38:01.095Z"
   },
   {
    "duration": 21,
    "start_time": "2021-10-08T19:38:01.108Z"
   },
   {
    "duration": 43,
    "start_time": "2021-10-08T19:38:01.132Z"
   },
   {
    "duration": 46,
    "start_time": "2021-10-08T19:38:01.178Z"
   },
   {
    "duration": 6,
    "start_time": "2021-10-08T19:38:01.226Z"
   },
   {
    "duration": 32,
    "start_time": "2021-10-08T19:38:01.235Z"
   },
   {
    "duration": 44,
    "start_time": "2021-10-08T19:38:01.269Z"
   },
   {
    "duration": 31,
    "start_time": "2021-10-08T19:38:01.315Z"
   },
   {
    "duration": 36,
    "start_time": "2021-10-08T19:38:01.349Z"
   },
   {
    "duration": 28,
    "start_time": "2021-10-08T19:38:01.387Z"
   },
   {
    "duration": 68,
    "start_time": "2021-10-08T19:38:01.418Z"
   },
   {
    "duration": 33,
    "start_time": "2021-10-08T19:38:01.488Z"
   },
   {
    "duration": 39,
    "start_time": "2021-10-08T19:38:01.523Z"
   },
   {
    "duration": 8,
    "start_time": "2021-10-08T19:38:01.566Z"
   },
   {
    "duration": 29,
    "start_time": "2021-10-08T19:38:01.577Z"
   },
   {
    "duration": 41,
    "start_time": "2021-10-08T19:38:01.608Z"
   },
   {
    "duration": 6,
    "start_time": "2021-10-08T19:38:01.652Z"
   },
   {
    "duration": 77,
    "start_time": "2021-10-08T19:38:01.660Z"
   },
   {
    "duration": 18,
    "start_time": "2021-10-08T19:38:01.739Z"
   },
   {
    "duration": 22,
    "start_time": "2021-10-08T19:38:01.760Z"
   },
   {
    "duration": 47,
    "start_time": "2021-10-08T19:38:01.784Z"
   },
   {
    "duration": 19,
    "start_time": "2021-10-08T19:38:01.834Z"
   },
   {
    "duration": 38,
    "start_time": "2021-10-08T19:38:01.855Z"
   },
   {
    "duration": 70,
    "start_time": "2021-10-08T19:38:01.896Z"
   },
   {
    "duration": 63,
    "start_time": "2021-10-08T19:38:03.574Z"
   },
   {
    "duration": 11,
    "start_time": "2021-10-08T19:38:04.092Z"
   },
   {
    "duration": 6,
    "start_time": "2021-10-08T19:38:10.166Z"
   },
   {
    "duration": 16,
    "start_time": "2021-10-08T19:38:10.731Z"
   },
   {
    "duration": 13,
    "start_time": "2021-10-08T19:38:14.542Z"
   },
   {
    "duration": 13,
    "start_time": "2021-10-08T19:38:17.993Z"
   },
   {
    "duration": 14,
    "start_time": "2021-10-08T19:38:18.618Z"
   },
   {
    "duration": 26,
    "start_time": "2021-10-08T19:38:19.847Z"
   },
   {
    "duration": 7,
    "start_time": "2021-10-08T19:38:27.749Z"
   },
   {
    "duration": 568,
    "start_time": "2021-10-08T19:38:30.268Z"
   },
   {
    "duration": 13,
    "start_time": "2021-10-08T19:38:38.218Z"
   },
   {
    "duration": 10,
    "start_time": "2021-10-08T19:38:50.083Z"
   },
   {
    "duration": 112,
    "start_time": "2021-10-08T19:39:09.064Z"
   },
   {
    "duration": 10,
    "start_time": "2021-10-08T19:39:11.405Z"
   },
   {
    "duration": 155,
    "start_time": "2021-10-08T19:40:43.268Z"
   },
   {
    "duration": 19,
    "start_time": "2021-10-08T19:40:46.731Z"
   },
   {
    "duration": 26,
    "start_time": "2021-10-08T19:41:03.313Z"
   },
   {
    "duration": 20,
    "start_time": "2021-10-08T19:41:21.063Z"
   },
   {
    "duration": 357,
    "start_time": "2021-10-08T19:41:55.594Z"
   },
   {
    "duration": 27,
    "start_time": "2021-10-08T19:42:05.757Z"
   },
   {
    "duration": 11,
    "start_time": "2021-10-08T19:44:15.496Z"
   },
   {
    "duration": 9,
    "start_time": "2021-10-08T19:44:22.587Z"
   },
   {
    "duration": 9,
    "start_time": "2021-10-08T19:44:27.729Z"
   },
   {
    "duration": 11,
    "start_time": "2021-10-08T19:44:31.095Z"
   },
   {
    "duration": 14,
    "start_time": "2021-10-08T19:48:12.650Z"
   },
   {
    "duration": 6,
    "start_time": "2021-10-08T19:48:14.449Z"
   },
   {
    "duration": 6,
    "start_time": "2021-10-08T19:48:18.142Z"
   },
   {
    "duration": 543,
    "start_time": "2021-10-08T19:48:18.150Z"
   },
   {
    "duration": 18,
    "start_time": "2021-10-08T19:48:18.697Z"
   },
   {
    "duration": 26,
    "start_time": "2021-10-08T19:48:18.718Z"
   },
   {
    "duration": 39,
    "start_time": "2021-10-08T19:48:18.746Z"
   },
   {
    "duration": 6,
    "start_time": "2021-10-08T19:48:18.787Z"
   },
   {
    "duration": 27,
    "start_time": "2021-10-08T19:48:18.795Z"
   },
   {
    "duration": 36,
    "start_time": "2021-10-08T19:48:18.825Z"
   },
   {
    "duration": 34,
    "start_time": "2021-10-08T19:48:18.865Z"
   },
   {
    "duration": 5,
    "start_time": "2021-10-08T19:48:18.903Z"
   },
   {
    "duration": 21,
    "start_time": "2021-10-08T19:48:18.910Z"
   },
   {
    "duration": 38,
    "start_time": "2021-10-08T19:48:18.933Z"
   },
   {
    "duration": 23,
    "start_time": "2021-10-08T19:48:18.974Z"
   },
   {
    "duration": 6,
    "start_time": "2021-10-08T19:48:18.999Z"
   },
   {
    "duration": 52,
    "start_time": "2021-10-08T19:48:19.008Z"
   },
   {
    "duration": 17,
    "start_time": "2021-10-08T19:48:19.063Z"
   },
   {
    "duration": 11,
    "start_time": "2021-10-08T19:48:19.083Z"
   },
   {
    "duration": 74,
    "start_time": "2021-10-08T19:48:19.096Z"
   },
   {
    "duration": 7,
    "start_time": "2021-10-08T19:48:19.173Z"
   },
   {
    "duration": 74,
    "start_time": "2021-10-08T19:48:19.183Z"
   },
   {
    "duration": 37,
    "start_time": "2021-10-08T19:48:19.260Z"
   },
   {
    "duration": 30,
    "start_time": "2021-10-08T19:48:19.299Z"
   },
   {
    "duration": 33,
    "start_time": "2021-10-08T19:48:19.331Z"
   },
   {
    "duration": 12,
    "start_time": "2021-10-08T19:48:19.367Z"
   },
   {
    "duration": 32,
    "start_time": "2021-10-08T19:48:19.382Z"
   },
   {
    "duration": 4,
    "start_time": "2021-10-08T19:48:19.417Z"
   },
   {
    "duration": 60,
    "start_time": "2021-10-08T19:48:19.462Z"
   },
   {
    "duration": 37,
    "start_time": "2021-10-08T19:48:19.526Z"
   },
   {
    "duration": 20,
    "start_time": "2021-10-08T19:48:19.566Z"
   },
   {
    "duration": 28,
    "start_time": "2021-10-08T19:48:19.589Z"
   },
   {
    "duration": 39,
    "start_time": "2021-10-08T19:48:19.619Z"
   },
   {
    "duration": 24,
    "start_time": "2021-10-08T19:48:19.660Z"
   },
   {
    "duration": 71,
    "start_time": "2021-10-08T19:48:19.686Z"
   },
   {
    "duration": 11,
    "start_time": "2021-10-08T19:48:19.760Z"
   },
   {
    "duration": 12,
    "start_time": "2021-10-08T19:48:19.773Z"
   },
   {
    "duration": 18,
    "start_time": "2021-10-08T19:48:19.787Z"
   },
   {
    "duration": 24,
    "start_time": "2021-10-08T19:48:19.807Z"
   },
   {
    "duration": 12,
    "start_time": "2021-10-08T19:48:19.833Z"
   },
   {
    "duration": 12,
    "start_time": "2021-10-08T19:48:19.858Z"
   },
   {
    "duration": 8,
    "start_time": "2021-10-08T19:48:19.872Z"
   },
   {
    "duration": 321,
    "start_time": "2021-10-08T19:48:55.387Z"
   },
   {
    "duration": 105,
    "start_time": "2021-10-08T19:48:59.917Z"
   },
   {
    "duration": 107,
    "start_time": "2021-10-08T19:49:11.203Z"
   },
   {
    "duration": 12,
    "start_time": "2021-10-08T19:49:24.769Z"
   },
   {
    "duration": 14,
    "start_time": "2021-10-08T19:49:40.558Z"
   },
   {
    "duration": 14,
    "start_time": "2021-10-08T19:49:46.989Z"
   },
   {
    "duration": 16,
    "start_time": "2021-10-08T19:49:55.466Z"
   },
   {
    "duration": 129,
    "start_time": "2021-10-08T19:50:00.398Z"
   },
   {
    "duration": 6,
    "start_time": "2021-10-08T19:50:03.937Z"
   },
   {
    "duration": 180,
    "start_time": "2021-10-08T19:52:17.050Z"
   },
   {
    "duration": 6,
    "start_time": "2021-10-08T19:52:43.700Z"
   },
   {
    "duration": 7,
    "start_time": "2021-10-08T19:52:50.338Z"
   },
   {
    "duration": 587,
    "start_time": "2021-10-08T19:52:50.349Z"
   },
   {
    "duration": 19,
    "start_time": "2021-10-08T19:52:50.939Z"
   },
   {
    "duration": 27,
    "start_time": "2021-10-08T19:52:50.961Z"
   },
   {
    "duration": 39,
    "start_time": "2021-10-08T19:52:50.991Z"
   },
   {
    "duration": 27,
    "start_time": "2021-10-08T19:52:51.033Z"
   },
   {
    "duration": 22,
    "start_time": "2021-10-08T19:52:51.062Z"
   },
   {
    "duration": 31,
    "start_time": "2021-10-08T19:52:51.088Z"
   },
   {
    "duration": 59,
    "start_time": "2021-10-08T19:52:51.122Z"
   },
   {
    "duration": 11,
    "start_time": "2021-10-08T19:52:51.183Z"
   },
   {
    "duration": 16,
    "start_time": "2021-10-08T19:52:51.197Z"
   },
   {
    "duration": 43,
    "start_time": "2021-10-08T19:52:51.216Z"
   },
   {
    "duration": 23,
    "start_time": "2021-10-08T19:52:51.261Z"
   },
   {
    "duration": 6,
    "start_time": "2021-10-08T19:52:51.287Z"
   },
   {
    "duration": 14,
    "start_time": "2021-10-08T19:52:51.295Z"
   },
   {
    "duration": 51,
    "start_time": "2021-10-08T19:52:51.311Z"
   },
   {
    "duration": 8,
    "start_time": "2021-10-08T19:52:51.365Z"
   },
   {
    "duration": 26,
    "start_time": "2021-10-08T19:52:51.375Z"
   },
   {
    "duration": 7,
    "start_time": "2021-10-08T19:52:51.403Z"
   },
   {
    "duration": 82,
    "start_time": "2021-10-08T19:52:51.413Z"
   },
   {
    "duration": 34,
    "start_time": "2021-10-08T19:52:51.497Z"
   },
   {
    "duration": 47,
    "start_time": "2021-10-08T19:52:51.533Z"
   },
   {
    "duration": 8,
    "start_time": "2021-10-08T19:52:51.584Z"
   },
   {
    "duration": 14,
    "start_time": "2021-10-08T19:52:51.595Z"
   },
   {
    "duration": 59,
    "start_time": "2021-10-08T19:52:51.612Z"
   },
   {
    "duration": 4,
    "start_time": "2021-10-08T19:52:51.674Z"
   },
   {
    "duration": 77,
    "start_time": "2021-10-08T19:52:51.680Z"
   },
   {
    "duration": 11,
    "start_time": "2021-10-08T19:52:51.760Z"
   },
   {
    "duration": 20,
    "start_time": "2021-10-08T19:52:51.774Z"
   },
   {
    "duration": 65,
    "start_time": "2021-10-08T19:52:51.797Z"
   },
   {
    "duration": 11,
    "start_time": "2021-10-08T19:52:51.864Z"
   },
   {
    "duration": 26,
    "start_time": "2021-10-08T19:52:51.877Z"
   },
   {
    "duration": 79,
    "start_time": "2021-10-08T19:52:51.905Z"
   },
   {
    "duration": 11,
    "start_time": "2021-10-08T19:52:51.987Z"
   },
   {
    "duration": 6,
    "start_time": "2021-10-08T19:52:52.000Z"
   },
   {
    "duration": 18,
    "start_time": "2021-10-08T19:52:52.008Z"
   },
   {
    "duration": 36,
    "start_time": "2021-10-08T19:52:52.028Z"
   },
   {
    "duration": 16,
    "start_time": "2021-10-08T19:52:52.067Z"
   },
   {
    "duration": 11,
    "start_time": "2021-10-08T19:52:52.086Z"
   },
   {
    "duration": 6,
    "start_time": "2021-10-08T19:52:53.780Z"
   },
   {
    "duration": 16,
    "start_time": "2021-10-08T19:53:03.917Z"
   },
   {
    "duration": 1469,
    "start_time": "2021-10-09T07:37:53.619Z"
   },
   {
    "duration": 6,
    "start_time": "2021-10-09T08:52:33.839Z"
   },
   {
    "duration": 561,
    "start_time": "2021-10-09T08:52:33.848Z"
   },
   {
    "duration": 27,
    "start_time": "2021-10-09T08:52:34.412Z"
   },
   {
    "duration": 27,
    "start_time": "2021-10-09T08:52:34.441Z"
   },
   {
    "duration": 64,
    "start_time": "2021-10-09T08:52:34.470Z"
   },
   {
    "duration": 7,
    "start_time": "2021-10-09T08:52:34.537Z"
   },
   {
    "duration": 22,
    "start_time": "2021-10-09T08:52:34.546Z"
   },
   {
    "duration": 46,
    "start_time": "2021-10-09T08:52:34.571Z"
   },
   {
    "duration": 36,
    "start_time": "2021-10-09T08:52:34.621Z"
   },
   {
    "duration": 6,
    "start_time": "2021-10-09T08:52:34.660Z"
   },
   {
    "duration": 44,
    "start_time": "2021-10-09T08:52:34.668Z"
   },
   {
    "duration": 20,
    "start_time": "2021-10-09T08:52:34.714Z"
   },
   {
    "duration": 24,
    "start_time": "2021-10-09T08:52:34.736Z"
   },
   {
    "duration": 6,
    "start_time": "2021-10-09T08:52:34.762Z"
   },
   {
    "duration": 15,
    "start_time": "2021-10-09T08:52:34.800Z"
   },
   {
    "duration": 17,
    "start_time": "2021-10-09T08:52:34.817Z"
   },
   {
    "duration": 18,
    "start_time": "2021-10-09T08:52:34.836Z"
   },
   {
    "duration": 49,
    "start_time": "2021-10-09T08:52:34.856Z"
   },
   {
    "duration": 6,
    "start_time": "2021-10-09T08:52:34.907Z"
   },
   {
    "duration": 57,
    "start_time": "2021-10-09T08:52:34.915Z"
   },
   {
    "duration": 51,
    "start_time": "2021-10-09T08:52:34.974Z"
   },
   {
    "duration": 27,
    "start_time": "2021-10-09T08:52:35.028Z"
   },
   {
    "duration": 8,
    "start_time": "2021-10-09T08:52:35.058Z"
   },
   {
    "duration": 37,
    "start_time": "2021-10-09T08:52:35.068Z"
   },
   {
    "duration": 39,
    "start_time": "2021-10-09T08:52:35.107Z"
   },
   {
    "duration": 4,
    "start_time": "2021-10-09T08:52:35.148Z"
   },
   {
    "duration": 92,
    "start_time": "2021-10-09T08:52:35.158Z"
   },
   {
    "duration": 12,
    "start_time": "2021-10-09T08:52:35.253Z"
   },
   {
    "duration": 39,
    "start_time": "2021-10-09T08:52:35.267Z"
   },
   {
    "duration": 34,
    "start_time": "2021-10-09T08:52:35.309Z"
   },
   {
    "duration": 11,
    "start_time": "2021-10-09T08:52:35.345Z"
   },
   {
    "duration": 51,
    "start_time": "2021-10-09T08:52:35.359Z"
   },
   {
    "duration": 56,
    "start_time": "2021-10-09T08:52:35.413Z"
   },
   {
    "duration": 28,
    "start_time": "2021-10-09T08:52:35.472Z"
   },
   {
    "duration": 6,
    "start_time": "2021-10-09T08:52:35.503Z"
   },
   {
    "duration": 21,
    "start_time": "2021-10-09T08:52:35.512Z"
   },
   {
    "duration": 24,
    "start_time": "2021-10-09T08:52:35.536Z"
   },
   {
    "duration": 16,
    "start_time": "2021-10-09T08:52:35.563Z"
   },
   {
    "duration": 31,
    "start_time": "2021-10-09T08:52:35.582Z"
   },
   {
    "duration": 7,
    "start_time": "2021-10-09T08:52:35.615Z"
   },
   {
    "duration": 4,
    "start_time": "2021-10-09T08:52:35.625Z"
   },
   {
    "duration": 78,
    "start_time": "2021-10-09T08:52:35.631Z"
   },
   {
    "duration": 8,
    "start_time": "2021-10-09T08:52:35.712Z"
   },
   {
    "duration": 329,
    "start_time": "2021-10-09T08:52:35.722Z"
   },
   {
    "duration": 7,
    "start_time": "2021-10-09T08:52:36.054Z"
   },
   {
    "duration": 317,
    "start_time": "2021-10-09T08:52:36.064Z"
   },
   {
    "duration": 7,
    "start_time": "2021-10-09T08:52:36.384Z"
   },
   {
    "duration": 296,
    "start_time": "2021-10-09T08:52:36.401Z"
   },
   {
    "duration": 6,
    "start_time": "2021-10-09T08:52:36.700Z"
   },
   {
    "duration": 181,
    "start_time": "2021-10-09T08:52:36.708Z"
   },
   {
    "duration": 64,
    "start_time": "2021-10-09T08:52:36.892Z"
   },
   {
    "duration": 11,
    "start_time": "2021-10-09T08:52:36.959Z"
   },
   {
    "duration": 31,
    "start_time": "2021-10-09T08:52:36.972Z"
   },
   {
    "duration": 4666,
    "start_time": "2021-10-09T08:52:37.006Z"
   },
   {
    "duration": 25,
    "start_time": "2021-10-09T08:52:41.675Z"
   },
   {
    "duration": 12,
    "start_time": "2021-10-09T08:52:41.703Z"
   },
   {
    "duration": 5,
    "start_time": "2021-10-09T08:52:41.717Z"
   },
   {
    "duration": 17,
    "start_time": "2021-10-09T08:52:41.724Z"
   },
   {
    "duration": 18,
    "start_time": "2021-10-09T08:52:41.744Z"
   },
   {
    "duration": 5,
    "start_time": "2021-10-09T08:52:41.801Z"
   },
   {
    "duration": 7,
    "start_time": "2021-10-09T08:55:30.696Z"
   },
   {
    "duration": 690,
    "start_time": "2021-10-09T08:55:30.707Z"
   },
   {
    "duration": 19,
    "start_time": "2021-10-09T08:55:31.400Z"
   },
   {
    "duration": 52,
    "start_time": "2021-10-09T08:55:31.421Z"
   },
   {
    "duration": 45,
    "start_time": "2021-10-09T08:55:31.476Z"
   },
   {
    "duration": 7,
    "start_time": "2021-10-09T08:55:31.523Z"
   },
   {
    "duration": 25,
    "start_time": "2021-10-09T08:55:31.532Z"
   },
   {
    "duration": 44,
    "start_time": "2021-10-09T08:55:31.561Z"
   },
   {
    "duration": 37,
    "start_time": "2021-10-09T08:55:31.608Z"
   },
   {
    "duration": 7,
    "start_time": "2021-10-09T08:55:31.647Z"
   },
   {
    "duration": 46,
    "start_time": "2021-10-09T08:55:31.656Z"
   },
   {
    "duration": 29,
    "start_time": "2021-10-09T08:55:31.705Z"
   },
   {
    "duration": 25,
    "start_time": "2021-10-09T08:55:31.737Z"
   },
   {
    "duration": 37,
    "start_time": "2021-10-09T08:55:31.764Z"
   },
   {
    "duration": 12,
    "start_time": "2021-10-09T08:55:31.804Z"
   },
   {
    "duration": 21,
    "start_time": "2021-10-09T08:55:31.818Z"
   },
   {
    "duration": 14,
    "start_time": "2021-10-09T08:55:31.841Z"
   },
   {
    "duration": 59,
    "start_time": "2021-10-09T08:55:31.857Z"
   },
   {
    "duration": 8,
    "start_time": "2021-10-09T08:55:31.919Z"
   },
   {
    "duration": 70,
    "start_time": "2021-10-09T08:55:31.930Z"
   },
   {
    "duration": 52,
    "start_time": "2021-10-09T08:55:32.004Z"
   },
   {
    "duration": 60,
    "start_time": "2021-10-09T08:55:32.059Z"
   },
   {
    "duration": 11,
    "start_time": "2021-10-09T08:55:32.128Z"
   },
   {
    "duration": 21,
    "start_time": "2021-10-09T08:55:32.143Z"
   },
   {
    "duration": 52,
    "start_time": "2021-10-09T08:55:32.167Z"
   },
   {
    "duration": 4,
    "start_time": "2021-10-09T08:55:32.221Z"
   },
   {
    "duration": 91,
    "start_time": "2021-10-09T08:55:32.228Z"
   },
   {
    "duration": 12,
    "start_time": "2021-10-09T08:55:32.322Z"
   },
   {
    "duration": 23,
    "start_time": "2021-10-09T08:55:32.336Z"
   },
   {
    "duration": 59,
    "start_time": "2021-10-09T08:55:32.361Z"
   },
   {
    "duration": 12,
    "start_time": "2021-10-09T08:55:32.423Z"
   },
   {
    "duration": 33,
    "start_time": "2021-10-09T08:55:32.437Z"
   },
   {
    "duration": 77,
    "start_time": "2021-10-09T08:55:32.472Z"
   },
   {
    "duration": 11,
    "start_time": "2021-10-09T08:55:32.551Z"
   },
   {
    "duration": 13,
    "start_time": "2021-10-09T08:55:32.564Z"
   },
   {
    "duration": 29,
    "start_time": "2021-10-09T08:55:32.580Z"
   },
   {
    "duration": 36,
    "start_time": "2021-10-09T08:55:32.611Z"
   },
   {
    "duration": 22,
    "start_time": "2021-10-09T08:55:32.650Z"
   },
   {
    "duration": 16,
    "start_time": "2021-10-09T08:55:32.674Z"
   },
   {
    "duration": 16,
    "start_time": "2021-10-09T08:55:32.692Z"
   },
   {
    "duration": 19,
    "start_time": "2021-10-09T08:55:32.710Z"
   },
   {
    "duration": 48,
    "start_time": "2021-10-09T08:55:32.732Z"
   },
   {
    "duration": 6,
    "start_time": "2021-10-09T08:55:32.783Z"
   },
   {
    "duration": 502,
    "start_time": "2021-10-09T08:55:32.793Z"
   },
   {
    "duration": 9,
    "start_time": "2021-10-09T08:55:33.301Z"
   },
   {
    "duration": 561,
    "start_time": "2021-10-09T08:55:33.313Z"
   },
   {
    "duration": 6,
    "start_time": "2021-10-09T08:55:33.876Z"
   },
   {
    "duration": 288,
    "start_time": "2021-10-09T08:55:33.884Z"
   },
   {
    "duration": 4,
    "start_time": "2021-10-09T08:55:34.175Z"
   },
   {
    "duration": 175,
    "start_time": "2021-10-09T08:55:34.181Z"
   },
   {
    "duration": 69,
    "start_time": "2021-10-09T08:55:34.358Z"
   },
   {
    "duration": 10,
    "start_time": "2021-10-09T08:55:34.429Z"
   },
   {
    "duration": 10,
    "start_time": "2021-10-09T08:55:34.442Z"
   },
   {
    "duration": 4693,
    "start_time": "2021-10-09T08:55:34.454Z"
   },
   {
    "duration": 13,
    "start_time": "2021-10-09T08:55:39.150Z"
   },
   {
    "duration": 681,
    "start_time": "2021-10-09T08:55:39.166Z"
   },
   {
    "duration": -76,
    "start_time": "2021-10-09T08:55:39.925Z"
   },
   {
    "duration": -76,
    "start_time": "2021-10-09T08:55:39.927Z"
   },
   {
    "duration": -77,
    "start_time": "2021-10-09T08:55:39.930Z"
   },
   {
    "duration": -78,
    "start_time": "2021-10-09T08:55:39.932Z"
   },
   {
    "duration": 13,
    "start_time": "2021-10-09T08:56:24.726Z"
   },
   {
    "duration": 5,
    "start_time": "2021-10-09T08:56:27.268Z"
   },
   {
    "duration": 17,
    "start_time": "2021-10-09T08:56:28.730Z"
   },
   {
    "duration": 19,
    "start_time": "2021-10-09T08:56:29.004Z"
   },
   {
    "duration": 5,
    "start_time": "2021-10-09T08:56:29.289Z"
   },
   {
    "duration": 7,
    "start_time": "2021-10-09T09:38:20.594Z"
   },
   {
    "duration": 576,
    "start_time": "2021-10-09T09:38:20.604Z"
   },
   {
    "duration": 18,
    "start_time": "2021-10-09T09:38:21.182Z"
   },
   {
    "duration": 27,
    "start_time": "2021-10-09T09:38:21.203Z"
   },
   {
    "duration": 41,
    "start_time": "2021-10-09T09:38:21.233Z"
   },
   {
    "duration": 26,
    "start_time": "2021-10-09T09:38:21.276Z"
   },
   {
    "duration": 21,
    "start_time": "2021-10-09T09:38:21.304Z"
   },
   {
    "duration": 24,
    "start_time": "2021-10-09T09:38:21.328Z"
   },
   {
    "duration": 69,
    "start_time": "2021-10-09T09:38:21.355Z"
   },
   {
    "duration": 7,
    "start_time": "2021-10-09T09:38:21.426Z"
   },
   {
    "duration": 14,
    "start_time": "2021-10-09T09:38:21.435Z"
   },
   {
    "duration": 18,
    "start_time": "2021-10-09T09:38:21.452Z"
   },
   {
    "duration": 25,
    "start_time": "2021-10-09T09:38:21.501Z"
   },
   {
    "duration": 7,
    "start_time": "2021-10-09T09:38:21.528Z"
   },
   {
    "duration": 15,
    "start_time": "2021-10-09T09:38:21.537Z"
   },
   {
    "duration": 52,
    "start_time": "2021-10-09T09:38:21.555Z"
   },
   {
    "duration": 11,
    "start_time": "2021-10-09T09:38:21.609Z"
   },
   {
    "duration": 30,
    "start_time": "2021-10-09T09:38:21.622Z"
   },
   {
    "duration": 6,
    "start_time": "2021-10-09T09:38:21.655Z"
   },
   {
    "duration": 73,
    "start_time": "2021-10-09T09:38:21.663Z"
   },
   {
    "duration": 34,
    "start_time": "2021-10-09T09:38:21.738Z"
   },
   {
    "duration": 46,
    "start_time": "2021-10-09T09:38:21.774Z"
   },
   {
    "duration": 8,
    "start_time": "2021-10-09T09:38:21.825Z"
   },
   {
    "duration": 12,
    "start_time": "2021-10-09T09:38:21.837Z"
   },
   {
    "duration": 63,
    "start_time": "2021-10-09T09:38:21.852Z"
   },
   {
    "duration": 4,
    "start_time": "2021-10-09T09:38:21.917Z"
   },
   {
    "duration": 61,
    "start_time": "2021-10-09T09:38:21.923Z"
   },
   {
    "duration": 24,
    "start_time": "2021-10-09T09:38:21.986Z"
   },
   {
    "duration": 27,
    "start_time": "2021-10-09T09:38:22.013Z"
   },
   {
    "duration": 30,
    "start_time": "2021-10-09T09:38:22.042Z"
   },
   {
    "duration": 30,
    "start_time": "2021-10-09T09:38:22.075Z"
   },
   {
    "duration": 34,
    "start_time": "2021-10-09T09:38:22.108Z"
   },
   {
    "duration": 67,
    "start_time": "2021-10-09T09:38:22.144Z"
   },
   {
    "duration": 11,
    "start_time": "2021-10-09T09:38:22.213Z"
   },
   {
    "duration": 9,
    "start_time": "2021-10-09T09:38:22.226Z"
   },
   {
    "duration": 15,
    "start_time": "2021-10-09T09:38:22.237Z"
   },
   {
    "duration": 11,
    "start_time": "2021-10-09T09:38:22.254Z"
   },
   {
    "duration": 13,
    "start_time": "2021-10-09T09:38:22.300Z"
   },
   {
    "duration": 13,
    "start_time": "2021-10-09T09:38:22.316Z"
   },
   {
    "duration": 6,
    "start_time": "2021-10-09T09:38:22.332Z"
   },
   {
    "duration": 7,
    "start_time": "2021-10-09T09:38:22.340Z"
   },
   {
    "duration": 65,
    "start_time": "2021-10-09T09:38:22.349Z"
   },
   {
    "duration": 8,
    "start_time": "2021-10-09T09:38:45.191Z"
   },
   {
    "duration": 8,
    "start_time": "2021-10-09T09:38:52.402Z"
   },
   {
    "duration": 558,
    "start_time": "2021-10-09T09:38:52.413Z"
   },
   {
    "duration": 18,
    "start_time": "2021-10-09T09:38:52.974Z"
   },
   {
    "duration": 28,
    "start_time": "2021-10-09T09:38:52.995Z"
   },
   {
    "duration": 39,
    "start_time": "2021-10-09T09:38:53.026Z"
   },
   {
    "duration": 6,
    "start_time": "2021-10-09T09:38:53.067Z"
   },
   {
    "duration": 25,
    "start_time": "2021-10-09T09:38:53.100Z"
   },
   {
    "duration": 22,
    "start_time": "2021-10-09T09:38:53.129Z"
   },
   {
    "duration": 52,
    "start_time": "2021-10-09T09:38:53.154Z"
   },
   {
    "duration": 6,
    "start_time": "2021-10-09T09:38:53.209Z"
   },
   {
    "duration": 17,
    "start_time": "2021-10-09T09:38:53.218Z"
   },
   {
    "duration": 21,
    "start_time": "2021-10-09T09:38:53.238Z"
   },
   {
    "duration": 26,
    "start_time": "2021-10-09T09:38:53.302Z"
   },
   {
    "duration": 8,
    "start_time": "2021-10-09T09:38:53.331Z"
   },
   {
    "duration": 14,
    "start_time": "2021-10-09T09:38:53.341Z"
   },
   {
    "duration": 53,
    "start_time": "2021-10-09T09:38:53.358Z"
   },
   {
    "duration": 11,
    "start_time": "2021-10-09T09:38:53.413Z"
   },
   {
    "duration": 29,
    "start_time": "2021-10-09T09:38:53.426Z"
   },
   {
    "duration": 15,
    "start_time": "2021-10-09T09:38:53.458Z"
   },
   {
    "duration": 45,
    "start_time": "2021-10-09T09:38:53.500Z"
   },
   {
    "duration": 53,
    "start_time": "2021-10-09T09:38:53.548Z"
   },
   {
    "duration": 27,
    "start_time": "2021-10-09T09:38:53.603Z"
   },
   {
    "duration": 8,
    "start_time": "2021-10-09T09:38:53.635Z"
   },
   {
    "duration": 11,
    "start_time": "2021-10-09T09:38:53.646Z"
   },
   {
    "duration": 59,
    "start_time": "2021-10-09T09:38:53.660Z"
   },
   {
    "duration": 4,
    "start_time": "2021-10-09T09:38:53.721Z"
   },
   {
    "duration": 75,
    "start_time": "2021-10-09T09:38:53.728Z"
   },
   {
    "duration": 12,
    "start_time": "2021-10-09T09:38:53.806Z"
   },
   {
    "duration": 23,
    "start_time": "2021-10-09T09:38:53.821Z"
   },
   {
    "duration": 60,
    "start_time": "2021-10-09T09:38:53.847Z"
   },
   {
    "duration": 11,
    "start_time": "2021-10-09T09:38:53.910Z"
   },
   {
    "duration": 25,
    "start_time": "2021-10-09T09:38:53.924Z"
   },
   {
    "duration": 78,
    "start_time": "2021-10-09T09:38:53.952Z"
   },
   {
    "duration": 11,
    "start_time": "2021-10-09T09:38:54.033Z"
   },
   {
    "duration": 7,
    "start_time": "2021-10-09T09:38:54.047Z"
   },
   {
    "duration": 15,
    "start_time": "2021-10-09T09:38:54.056Z"
   },
   {
    "duration": 37,
    "start_time": "2021-10-09T09:38:54.074Z"
   },
   {
    "duration": 13,
    "start_time": "2021-10-09T09:38:54.113Z"
   },
   {
    "duration": 13,
    "start_time": "2021-10-09T09:38:54.129Z"
   },
   {
    "duration": 6,
    "start_time": "2021-10-09T09:38:54.144Z"
   },
   {
    "duration": 5,
    "start_time": "2021-10-09T09:38:54.152Z"
   },
   {
    "duration": 8,
    "start_time": "2021-10-09T09:38:55.733Z"
   },
   {
    "duration": 6,
    "start_time": "2021-10-09T09:39:11.762Z"
   },
   {
    "duration": 302,
    "start_time": "2021-10-09T09:39:15.386Z"
   },
   {
    "duration": 7,
    "start_time": "2021-10-09T09:39:20.499Z"
   },
   {
    "duration": 9,
    "start_time": "2021-10-09T09:39:29.219Z"
   },
   {
    "duration": 6,
    "start_time": "2021-10-09T09:42:51.040Z"
   },
   {
    "duration": 539,
    "start_time": "2021-10-09T09:42:51.049Z"
   },
   {
    "duration": 17,
    "start_time": "2021-10-09T09:42:51.591Z"
   },
   {
    "duration": 26,
    "start_time": "2021-10-09T09:42:51.611Z"
   },
   {
    "duration": 64,
    "start_time": "2021-10-09T09:42:51.639Z"
   },
   {
    "duration": 6,
    "start_time": "2021-10-09T09:42:51.705Z"
   },
   {
    "duration": 18,
    "start_time": "2021-10-09T09:42:51.713Z"
   },
   {
    "duration": 22,
    "start_time": "2021-10-09T09:42:51.734Z"
   },
   {
    "duration": 74,
    "start_time": "2021-10-09T09:42:51.759Z"
   },
   {
    "duration": 6,
    "start_time": "2021-10-09T09:42:51.835Z"
   },
   {
    "duration": 15,
    "start_time": "2021-10-09T09:42:51.843Z"
   },
   {
    "duration": 57,
    "start_time": "2021-10-09T09:42:51.861Z"
   },
   {
    "duration": 24,
    "start_time": "2021-10-09T09:42:51.920Z"
   },
   {
    "duration": 7,
    "start_time": "2021-10-09T09:42:51.946Z"
   },
   {
    "duration": 54,
    "start_time": "2021-10-09T09:42:51.955Z"
   },
   {
    "duration": 17,
    "start_time": "2021-10-09T09:42:52.012Z"
   },
   {
    "duration": 11,
    "start_time": "2021-10-09T09:42:52.032Z"
   },
   {
    "duration": 71,
    "start_time": "2021-10-09T09:42:52.045Z"
   },
   {
    "duration": 7,
    "start_time": "2021-10-09T09:42:52.118Z"
   },
   {
    "duration": 45,
    "start_time": "2021-10-09T09:42:52.127Z"
   },
   {
    "duration": 33,
    "start_time": "2021-10-09T09:42:52.202Z"
   },
   {
    "duration": 28,
    "start_time": "2021-10-09T09:42:52.238Z"
   },
   {
    "duration": 31,
    "start_time": "2021-10-09T09:42:52.271Z"
   },
   {
    "duration": 15,
    "start_time": "2021-10-09T09:42:52.305Z"
   },
   {
    "duration": 31,
    "start_time": "2021-10-09T09:42:52.323Z"
   },
   {
    "duration": 3,
    "start_time": "2021-10-09T09:42:52.357Z"
   },
   {
    "duration": 93,
    "start_time": "2021-10-09T09:42:52.363Z"
   },
   {
    "duration": 16,
    "start_time": "2021-10-09T09:42:52.459Z"
   },
   {
    "duration": 23,
    "start_time": "2021-10-09T09:42:52.501Z"
   },
   {
    "duration": 33,
    "start_time": "2021-10-09T09:42:52.526Z"
   },
   {
    "duration": 42,
    "start_time": "2021-10-09T09:42:52.561Z"
   },
   {
    "duration": 26,
    "start_time": "2021-10-09T09:42:52.606Z"
   },
   {
    "duration": 80,
    "start_time": "2021-10-09T09:42:52.634Z"
   },
   {
    "duration": 12,
    "start_time": "2021-10-09T09:42:52.717Z"
   },
   {
    "duration": 6,
    "start_time": "2021-10-09T09:42:52.731Z"
   },
   {
    "duration": 15,
    "start_time": "2021-10-09T09:42:52.740Z"
   },
   {
    "duration": 52,
    "start_time": "2021-10-09T09:42:52.757Z"
   },
   {
    "duration": 13,
    "start_time": "2021-10-09T09:42:52.811Z"
   },
   {
    "duration": 14,
    "start_time": "2021-10-09T09:42:52.827Z"
   },
   {
    "duration": 6,
    "start_time": "2021-10-09T09:42:52.843Z"
   },
   {
    "duration": 67,
    "start_time": "2021-10-09T09:42:52.851Z"
   },
   {
    "duration": 6,
    "start_time": "2021-10-09T09:42:52.921Z"
   },
   {
    "duration": 14,
    "start_time": "2021-10-09T09:42:52.929Z"
   },
   {
    "duration": 301,
    "start_time": "2021-10-09T09:42:55.657Z"
   },
   {
    "duration": 6,
    "start_time": "2021-10-09T09:46:38.888Z"
   },
   {
    "duration": 583,
    "start_time": "2021-10-09T09:46:38.896Z"
   },
   {
    "duration": 16,
    "start_time": "2021-10-09T09:46:39.482Z"
   },
   {
    "duration": 31,
    "start_time": "2021-10-09T09:46:39.501Z"
   },
   {
    "duration": 40,
    "start_time": "2021-10-09T09:46:39.534Z"
   },
   {
    "duration": 24,
    "start_time": "2021-10-09T09:46:39.577Z"
   },
   {
    "duration": 15,
    "start_time": "2021-10-09T09:46:39.604Z"
   },
   {
    "duration": 26,
    "start_time": "2021-10-09T09:46:39.623Z"
   },
   {
    "duration": 63,
    "start_time": "2021-10-09T09:46:39.652Z"
   },
   {
    "duration": 5,
    "start_time": "2021-10-09T09:46:39.717Z"
   },
   {
    "duration": 18,
    "start_time": "2021-10-09T09:46:39.724Z"
   },
   {
    "duration": 21,
    "start_time": "2021-10-09T09:46:39.744Z"
   },
   {
    "duration": 56,
    "start_time": "2021-10-09T09:46:39.768Z"
   },
   {
    "duration": 8,
    "start_time": "2021-10-09T09:46:39.827Z"
   },
   {
    "duration": 15,
    "start_time": "2021-10-09T09:46:39.838Z"
   },
   {
    "duration": 57,
    "start_time": "2021-10-09T09:46:39.856Z"
   },
   {
    "duration": 10,
    "start_time": "2021-10-09T09:46:39.916Z"
   },
   {
    "duration": 28,
    "start_time": "2021-10-09T09:46:39.929Z"
   },
   {
    "duration": 40,
    "start_time": "2021-10-09T09:46:39.960Z"
   },
   {
    "duration": 46,
    "start_time": "2021-10-09T09:46:40.004Z"
   },
   {
    "duration": 61,
    "start_time": "2021-10-09T09:46:40.053Z"
   },
   {
    "duration": 30,
    "start_time": "2021-10-09T09:46:40.116Z"
   },
   {
    "duration": 8,
    "start_time": "2021-10-09T09:46:40.153Z"
   },
   {
    "duration": 41,
    "start_time": "2021-10-09T09:46:40.165Z"
   },
   {
    "duration": 34,
    "start_time": "2021-10-09T09:46:40.208Z"
   },
   {
    "duration": 5,
    "start_time": "2021-10-09T09:46:40.244Z"
   },
   {
    "duration": 97,
    "start_time": "2021-10-09T09:46:40.252Z"
   },
   {
    "duration": 14,
    "start_time": "2021-10-09T09:46:40.352Z"
   },
   {
    "duration": 41,
    "start_time": "2021-10-09T09:46:40.368Z"
   },
   {
    "duration": 30,
    "start_time": "2021-10-09T09:46:40.412Z"
   },
   {
    "duration": 10,
    "start_time": "2021-10-09T09:46:40.445Z"
   },
   {
    "duration": 51,
    "start_time": "2021-10-09T09:46:40.457Z"
   },
   {
    "duration": 52,
    "start_time": "2021-10-09T09:46:40.510Z"
   },
   {
    "duration": 11,
    "start_time": "2021-10-09T09:46:40.564Z"
   },
   {
    "duration": 27,
    "start_time": "2021-10-09T09:46:40.577Z"
   },
   {
    "duration": 18,
    "start_time": "2021-10-09T09:46:40.606Z"
   },
   {
    "duration": 25,
    "start_time": "2021-10-09T09:46:40.626Z"
   },
   {
    "duration": 13,
    "start_time": "2021-10-09T09:46:40.653Z"
   },
   {
    "duration": 34,
    "start_time": "2021-10-09T09:46:40.668Z"
   },
   {
    "duration": 6,
    "start_time": "2021-10-09T09:46:40.705Z"
   },
   {
    "duration": 41,
    "start_time": "2021-10-09T09:46:40.713Z"
   },
   {
    "duration": 6,
    "start_time": "2021-10-09T09:46:40.756Z"
   },
   {
    "duration": 35,
    "start_time": "2021-10-09T09:46:40.765Z"
   },
   {
    "duration": 297,
    "start_time": "2021-10-09T09:46:40.803Z"
   },
   {
    "duration": 7,
    "start_time": "2021-10-09T09:46:41.102Z"
   },
   {
    "duration": 289,
    "start_time": "2021-10-09T09:46:41.111Z"
   },
   {
    "duration": 3,
    "start_time": "2021-10-09T09:46:41.403Z"
   },
   {
    "duration": 7,
    "start_time": "2021-10-09T09:46:41.408Z"
   },
   {
    "duration": 7,
    "start_time": "2021-10-09T09:46:41.418Z"
   },
   {
    "duration": 279,
    "start_time": "2021-10-09T09:46:43.249Z"
   },
   {
    "duration": 4,
    "start_time": "2021-10-09T09:46:45.871Z"
   },
   {
    "duration": 159,
    "start_time": "2021-10-09T09:46:46.545Z"
   },
   {
    "duration": 8,
    "start_time": "2021-10-09T09:46:56.549Z"
   },
   {
    "duration": 601,
    "start_time": "2021-10-09T09:46:56.561Z"
   },
   {
    "duration": 17,
    "start_time": "2021-10-09T09:46:57.166Z"
   },
   {
    "duration": 27,
    "start_time": "2021-10-09T09:46:57.186Z"
   },
   {
    "duration": 40,
    "start_time": "2021-10-09T09:46:57.215Z"
   },
   {
    "duration": 6,
    "start_time": "2021-10-09T09:46:57.257Z"
   },
   {
    "duration": 45,
    "start_time": "2021-10-09T09:46:57.265Z"
   },
   {
    "duration": 21,
    "start_time": "2021-10-09T09:46:57.314Z"
   },
   {
    "duration": 69,
    "start_time": "2021-10-09T09:46:57.339Z"
   },
   {
    "duration": 6,
    "start_time": "2021-10-09T09:46:57.410Z"
   },
   {
    "duration": 17,
    "start_time": "2021-10-09T09:46:57.419Z"
   },
   {
    "duration": 20,
    "start_time": "2021-10-09T09:46:57.438Z"
   },
   {
    "duration": 53,
    "start_time": "2021-10-09T09:46:57.460Z"
   },
   {
    "duration": 6,
    "start_time": "2021-10-09T09:46:57.515Z"
   },
   {
    "duration": 11,
    "start_time": "2021-10-09T09:46:57.525Z"
   },
   {
    "duration": 16,
    "start_time": "2021-10-09T09:46:57.538Z"
   },
   {
    "duration": 46,
    "start_time": "2021-10-09T09:46:57.556Z"
   },
   {
    "duration": 28,
    "start_time": "2021-10-09T09:46:57.604Z"
   },
   {
    "duration": 7,
    "start_time": "2021-10-09T09:46:57.634Z"
   },
   {
    "duration": 71,
    "start_time": "2021-10-09T09:46:57.643Z"
   },
   {
    "duration": 33,
    "start_time": "2021-10-09T09:46:57.717Z"
   },
   {
    "duration": 26,
    "start_time": "2021-10-09T09:46:57.753Z"
   },
   {
    "duration": 8,
    "start_time": "2021-10-09T09:46:57.801Z"
   },
   {
    "duration": 16,
    "start_time": "2021-10-09T09:46:57.812Z"
   },
   {
    "duration": 35,
    "start_time": "2021-10-09T09:46:57.831Z"
   },
   {
    "duration": 5,
    "start_time": "2021-10-09T09:46:57.868Z"
   },
   {
    "duration": 86,
    "start_time": "2021-10-09T09:46:57.875Z"
   },
   {
    "duration": 12,
    "start_time": "2021-10-09T09:46:57.963Z"
   },
   {
    "duration": 39,
    "start_time": "2021-10-09T09:46:57.977Z"
   },
   {
    "duration": 34,
    "start_time": "2021-10-09T09:46:58.018Z"
   },
   {
    "duration": 12,
    "start_time": "2021-10-09T09:46:58.054Z"
   },
   {
    "duration": 26,
    "start_time": "2021-10-09T09:46:58.101Z"
   },
   {
    "duration": 53,
    "start_time": "2021-10-09T09:46:58.129Z"
   },
   {
    "duration": 12,
    "start_time": "2021-10-09T09:46:58.201Z"
   },
   {
    "duration": 16,
    "start_time": "2021-10-09T09:46:58.215Z"
   },
   {
    "duration": 15,
    "start_time": "2021-10-09T09:46:58.233Z"
   },
   {
    "duration": 15,
    "start_time": "2021-10-09T09:46:58.250Z"
   },
   {
    "duration": 39,
    "start_time": "2021-10-09T09:46:58.267Z"
   },
   {
    "duration": 15,
    "start_time": "2021-10-09T09:46:58.308Z"
   },
   {
    "duration": 6,
    "start_time": "2021-10-09T09:46:58.325Z"
   },
   {
    "duration": 38,
    "start_time": "2021-10-09T09:46:58.333Z"
   },
   {
    "duration": 31,
    "start_time": "2021-10-09T09:46:58.373Z"
   },
   {
    "duration": 10,
    "start_time": "2021-10-09T09:46:58.406Z"
   },
   {
    "duration": 289,
    "start_time": "2021-10-09T09:46:58.418Z"
   },
   {
    "duration": 6,
    "start_time": "2021-10-09T09:46:58.709Z"
   },
   {
    "duration": 295,
    "start_time": "2021-10-09T09:46:58.718Z"
   },
   {
    "duration": 4,
    "start_time": "2021-10-09T09:46:59.015Z"
   },
   {
    "duration": 10,
    "start_time": "2021-10-09T09:46:59.021Z"
   },
   {
    "duration": 9,
    "start_time": "2021-10-09T09:46:59.033Z"
   },
   {
    "duration": 291,
    "start_time": "2021-10-09T09:46:59.044Z"
   },
   {
    "duration": 4,
    "start_time": "2021-10-09T09:46:59.337Z"
   },
   {
    "duration": 172,
    "start_time": "2021-10-09T09:46:59.343Z"
   },
   {
    "duration": 63,
    "start_time": "2021-10-09T09:46:59.517Z"
   },
   {
    "duration": 14,
    "start_time": "2021-10-09T09:46:59.599Z"
   },
   {
    "duration": 15,
    "start_time": "2021-10-09T09:46:59.616Z"
   },
   {
    "duration": 4752,
    "start_time": "2021-10-09T09:46:59.633Z"
   },
   {
    "duration": 24,
    "start_time": "2021-10-09T09:47:04.388Z"
   },
   {
    "duration": 14,
    "start_time": "2021-10-09T09:47:04.415Z"
   },
   {
    "duration": 5,
    "start_time": "2021-10-09T09:47:04.431Z"
   },
   {
    "duration": 16,
    "start_time": "2021-10-09T09:47:04.439Z"
   },
   {
    "duration": 58,
    "start_time": "2021-10-09T09:47:04.457Z"
   },
   {
    "duration": 5,
    "start_time": "2021-10-09T09:47:04.517Z"
   },
   {
    "duration": 112,
    "start_time": "2021-10-09T09:50:35.924Z"
   },
   {
    "duration": 6,
    "start_time": "2021-10-09T10:31:50.337Z"
   },
   {
    "duration": 548,
    "start_time": "2021-10-09T10:31:50.345Z"
   },
   {
    "duration": 17,
    "start_time": "2021-10-09T10:31:50.896Z"
   },
   {
    "duration": 26,
    "start_time": "2021-10-09T10:31:50.916Z"
   },
   {
    "duration": 63,
    "start_time": "2021-10-09T10:31:50.945Z"
   },
   {
    "duration": 6,
    "start_time": "2021-10-09T10:31:51.011Z"
   },
   {
    "duration": 18,
    "start_time": "2021-10-09T10:31:51.020Z"
   },
   {
    "duration": 33,
    "start_time": "2021-10-09T10:31:51.042Z"
   },
   {
    "duration": 56,
    "start_time": "2021-10-09T10:31:51.078Z"
   },
   {
    "duration": 6,
    "start_time": "2021-10-09T10:31:51.136Z"
   },
   {
    "duration": 16,
    "start_time": "2021-10-09T10:31:51.144Z"
   },
   {
    "duration": 48,
    "start_time": "2021-10-09T10:31:51.163Z"
   },
   {
    "duration": 27,
    "start_time": "2021-10-09T10:31:51.213Z"
   },
   {
    "duration": 7,
    "start_time": "2021-10-09T10:31:51.242Z"
   },
   {
    "duration": 13,
    "start_time": "2021-10-09T10:31:51.251Z"
   },
   {
    "duration": 16,
    "start_time": "2021-10-09T10:31:51.300Z"
   },
   {
    "duration": 9,
    "start_time": "2021-10-09T10:31:51.318Z"
   },
   {
    "duration": 27,
    "start_time": "2021-10-09T10:31:51.329Z"
   },
   {
    "duration": 7,
    "start_time": "2021-10-09T10:31:51.358Z"
   },
   {
    "duration": 45,
    "start_time": "2021-10-09T10:31:51.401Z"
   },
   {
    "duration": 52,
    "start_time": "2021-10-09T10:31:51.448Z"
   },
   {
    "duration": 28,
    "start_time": "2021-10-09T10:31:51.502Z"
   },
   {
    "duration": 9,
    "start_time": "2021-10-09T10:31:51.534Z"
   },
   {
    "duration": 17,
    "start_time": "2021-10-09T10:31:51.545Z"
   },
   {
    "duration": 57,
    "start_time": "2021-10-09T10:31:51.564Z"
   },
   {
    "duration": 3,
    "start_time": "2021-10-09T10:31:51.623Z"
   },
   {
    "duration": 72,
    "start_time": "2021-10-09T10:31:51.629Z"
   },
   {
    "duration": 12,
    "start_time": "2021-10-09T10:31:51.703Z"
   },
   {
    "duration": 21,
    "start_time": "2021-10-09T10:31:51.717Z"
   },
   {
    "duration": 60,
    "start_time": "2021-10-09T10:31:51.740Z"
   },
   {
    "duration": 10,
    "start_time": "2021-10-09T10:31:51.803Z"
   },
   {
    "duration": 27,
    "start_time": "2021-10-09T10:31:51.816Z"
   },
   {
    "duration": 71,
    "start_time": "2021-10-09T10:31:51.845Z"
   },
   {
    "duration": 11,
    "start_time": "2021-10-09T10:31:51.918Z"
   },
   {
    "duration": 7,
    "start_time": "2021-10-09T10:31:51.931Z"
   },
   {
    "duration": 14,
    "start_time": "2021-10-09T10:31:51.940Z"
   },
   {
    "duration": 44,
    "start_time": "2021-10-09T10:31:51.956Z"
   },
   {
    "duration": 14,
    "start_time": "2021-10-09T10:31:52.002Z"
   },
   {
    "duration": 13,
    "start_time": "2021-10-09T10:31:52.018Z"
   },
   {
    "duration": 5,
    "start_time": "2021-10-09T10:31:52.033Z"
   },
   {
    "duration": 391,
    "start_time": "2021-10-09T10:39:56.810Z"
   },
   {
    "duration": 12,
    "start_time": "2021-10-09T10:40:00.257Z"
   },
   {
    "duration": 277,
    "start_time": "2021-10-09T10:40:21.731Z"
   },
   {
    "duration": 27,
    "start_time": "2021-10-09T10:40:59.385Z"
   },
   {
    "duration": 50,
    "start_time": "2021-10-09T10:41:37.928Z"
   },
   {
    "duration": 14,
    "start_time": "2021-10-09T10:47:41.381Z"
   },
   {
    "duration": 6,
    "start_time": "2021-10-09T10:52:02.460Z"
   },
   {
    "duration": 612,
    "start_time": "2021-10-09T10:52:02.469Z"
   },
   {
    "duration": 18,
    "start_time": "2021-10-09T10:52:03.084Z"
   },
   {
    "duration": 29,
    "start_time": "2021-10-09T10:52:03.105Z"
   },
   {
    "duration": 41,
    "start_time": "2021-10-09T10:52:03.136Z"
   },
   {
    "duration": 23,
    "start_time": "2021-10-09T10:52:03.179Z"
   },
   {
    "duration": 18,
    "start_time": "2021-10-09T10:52:03.208Z"
   },
   {
    "duration": 25,
    "start_time": "2021-10-09T10:52:03.230Z"
   },
   {
    "duration": 40,
    "start_time": "2021-10-09T10:52:03.301Z"
   },
   {
    "duration": 8,
    "start_time": "2021-10-09T10:52:03.344Z"
   },
   {
    "duration": 47,
    "start_time": "2021-10-09T10:52:03.355Z"
   },
   {
    "duration": 20,
    "start_time": "2021-10-09T10:52:03.404Z"
   },
   {
    "duration": 23,
    "start_time": "2021-10-09T10:52:03.426Z"
   },
   {
    "duration": 6,
    "start_time": "2021-10-09T10:52:03.452Z"
   },
   {
    "duration": 53,
    "start_time": "2021-10-09T10:52:03.460Z"
   },
   {
    "duration": 17,
    "start_time": "2021-10-09T10:52:03.516Z"
   },
   {
    "duration": 11,
    "start_time": "2021-10-09T10:52:03.535Z"
   },
   {
    "duration": 53,
    "start_time": "2021-10-09T10:52:03.549Z"
   },
   {
    "duration": 6,
    "start_time": "2021-10-09T10:52:03.607Z"
   },
   {
    "duration": 45,
    "start_time": "2021-10-09T10:52:03.616Z"
   },
   {
    "duration": 62,
    "start_time": "2021-10-09T10:52:03.663Z"
   },
   {
    "duration": 28,
    "start_time": "2021-10-09T10:52:03.727Z"
   },
   {
    "duration": 8,
    "start_time": "2021-10-09T10:52:03.757Z"
   },
   {
    "duration": 33,
    "start_time": "2021-10-09T10:52:03.767Z"
   },
   {
    "duration": 32,
    "start_time": "2021-10-09T10:52:03.802Z"
   },
   {
    "duration": 4,
    "start_time": "2021-10-09T10:52:03.837Z"
   },
   {
    "duration": 85,
    "start_time": "2021-10-09T10:52:03.844Z"
   },
   {
    "duration": 11,
    "start_time": "2021-10-09T10:52:03.931Z"
   },
   {
    "duration": 27,
    "start_time": "2021-10-09T10:52:03.944Z"
   },
   {
    "duration": 54,
    "start_time": "2021-10-09T10:52:03.973Z"
   },
   {
    "duration": 10,
    "start_time": "2021-10-09T10:52:04.030Z"
   },
   {
    "duration": 32,
    "start_time": "2021-10-09T10:52:04.042Z"
   },
   {
    "duration": 67,
    "start_time": "2021-10-09T10:52:04.077Z"
   },
   {
    "duration": 10,
    "start_time": "2021-10-09T10:52:04.147Z"
   },
   {
    "duration": 7,
    "start_time": "2021-10-09T10:52:04.159Z"
   },
   {
    "duration": 40,
    "start_time": "2021-10-09T10:52:04.168Z"
   },
   {
    "duration": 13,
    "start_time": "2021-10-09T10:52:04.211Z"
   },
   {
    "duration": 13,
    "start_time": "2021-10-09T10:52:04.226Z"
   },
   {
    "duration": 14,
    "start_time": "2021-10-09T10:52:04.241Z"
   },
   {
    "duration": 6,
    "start_time": "2021-10-09T10:52:04.257Z"
   },
   {
    "duration": 15,
    "start_time": "2021-10-09T10:52:12.185Z"
   },
   {
    "duration": 42,
    "start_time": "2021-10-09T10:52:15.961Z"
   },
   {
    "duration": 6,
    "start_time": "2021-10-09T11:12:28.438Z"
   },
   {
    "duration": 550,
    "start_time": "2021-10-09T11:12:28.446Z"
   },
   {
    "duration": 17,
    "start_time": "2021-10-09T11:12:28.999Z"
   },
   {
    "duration": 34,
    "start_time": "2021-10-09T11:12:29.019Z"
   },
   {
    "duration": 63,
    "start_time": "2021-10-09T11:12:29.056Z"
   },
   {
    "duration": 7,
    "start_time": "2021-10-09T11:12:29.122Z"
   },
   {
    "duration": 25,
    "start_time": "2021-10-09T11:12:29.132Z"
   },
   {
    "duration": 53,
    "start_time": "2021-10-09T11:12:29.162Z"
   },
   {
    "duration": 38,
    "start_time": "2021-10-09T11:12:29.219Z"
   },
   {
    "duration": 7,
    "start_time": "2021-10-09T11:12:29.260Z"
   },
   {
    "duration": 45,
    "start_time": "2021-10-09T11:12:29.270Z"
   },
   {
    "duration": 29,
    "start_time": "2021-10-09T11:12:29.318Z"
   },
   {
    "duration": 57,
    "start_time": "2021-10-09T11:12:29.350Z"
   },
   {
    "duration": 8,
    "start_time": "2021-10-09T11:12:29.410Z"
   },
   {
    "duration": 23,
    "start_time": "2021-10-09T11:12:29.421Z"
   },
   {
    "duration": 28,
    "start_time": "2021-10-09T11:12:29.447Z"
   },
   {
    "duration": 35,
    "start_time": "2021-10-09T11:12:29.478Z"
   },
   {
    "duration": 39,
    "start_time": "2021-10-09T11:12:29.515Z"
   },
   {
    "duration": 7,
    "start_time": "2021-10-09T11:12:29.556Z"
   },
   {
    "duration": 60,
    "start_time": "2021-10-09T11:12:29.565Z"
   },
   {
    "duration": 32,
    "start_time": "2021-10-09T11:12:29.628Z"
   },
   {
    "duration": 43,
    "start_time": "2021-10-09T11:12:29.662Z"
   },
   {
    "duration": 8,
    "start_time": "2021-10-09T11:12:29.710Z"
   },
   {
    "duration": 16,
    "start_time": "2021-10-09T11:12:29.720Z"
   },
   {
    "duration": 34,
    "start_time": "2021-10-09T11:12:29.738Z"
   },
   {
    "duration": 4,
    "start_time": "2021-10-09T11:12:29.774Z"
   },
   {
    "duration": 82,
    "start_time": "2021-10-09T11:12:29.780Z"
   },
   {
    "duration": 11,
    "start_time": "2021-10-09T11:12:29.864Z"
   },
   {
    "duration": 39,
    "start_time": "2021-10-09T11:12:29.877Z"
   },
   {
    "duration": 30,
    "start_time": "2021-10-09T11:12:29.918Z"
   },
   {
    "duration": 10,
    "start_time": "2021-10-09T11:12:29.951Z"
   },
   {
    "duration": 56,
    "start_time": "2021-10-09T11:12:29.963Z"
   },
   {
    "duration": 54,
    "start_time": "2021-10-09T11:12:30.021Z"
   },
   {
    "duration": 25,
    "start_time": "2021-10-09T11:12:30.077Z"
   },
   {
    "duration": 13,
    "start_time": "2021-10-09T11:12:30.104Z"
   },
   {
    "duration": 25,
    "start_time": "2021-10-09T11:12:30.119Z"
   },
   {
    "duration": 18,
    "start_time": "2021-10-09T11:12:30.146Z"
   },
   {
    "duration": 18,
    "start_time": "2021-10-09T11:12:30.167Z"
   },
   {
    "duration": 23,
    "start_time": "2021-10-09T11:12:30.188Z"
   },
   {
    "duration": 11,
    "start_time": "2021-10-09T11:12:30.213Z"
   },
   {
    "duration": 24,
    "start_time": "2021-10-09T11:12:30.227Z"
   },
   {
    "duration": 15,
    "start_time": "2021-10-09T11:12:32.576Z"
   },
   {
    "duration": 6,
    "start_time": "2021-10-09T11:12:33.208Z"
   },
   {
    "duration": 7737,
    "start_time": "2021-10-09T11:12:34.572Z"
   },
   {
    "duration": 36,
    "start_time": "2021-10-09T11:17:32.076Z"
   },
   {
    "duration": 266,
    "start_time": "2021-10-09T11:17:49.173Z"
   },
   {
    "duration": 14,
    "start_time": "2021-10-09T11:24:47.652Z"
   },
   {
    "duration": 7,
    "start_time": "2021-10-09T11:24:51.053Z"
   },
   {
    "duration": 8233,
    "start_time": "2021-10-09T11:24:53.067Z"
   },
   {
    "duration": 13,
    "start_time": "2021-10-09T11:46:42.857Z"
   },
   {
    "duration": 13,
    "start_time": "2021-10-09T11:48:08.053Z"
   },
   {
    "duration": 11,
    "start_time": "2021-10-09T11:48:14.405Z"
   },
   {
    "duration": 6,
    "start_time": "2021-10-09T11:48:21.768Z"
   },
   {
    "duration": 11,
    "start_time": "2021-10-09T11:48:23.325Z"
   },
   {
    "duration": 294,
    "start_time": "2021-10-09T11:48:32.308Z"
   },
   {
    "duration": 6,
    "start_time": "2021-10-09T11:48:36.086Z"
   },
   {
    "duration": 551,
    "start_time": "2021-10-09T11:48:36.095Z"
   },
   {
    "duration": 17,
    "start_time": "2021-10-09T11:48:36.649Z"
   },
   {
    "duration": 30,
    "start_time": "2021-10-09T11:48:36.669Z"
   },
   {
    "duration": 40,
    "start_time": "2021-10-09T11:48:36.701Z"
   },
   {
    "duration": 6,
    "start_time": "2021-10-09T11:48:36.743Z"
   },
   {
    "duration": 22,
    "start_time": "2021-10-09T11:48:36.752Z"
   },
   {
    "duration": 22,
    "start_time": "2021-10-09T11:48:36.801Z"
   },
   {
    "duration": 40,
    "start_time": "2021-10-09T11:48:36.825Z"
   },
   {
    "duration": 6,
    "start_time": "2021-10-09T11:48:36.867Z"
   },
   {
    "duration": 38,
    "start_time": "2021-10-09T11:48:36.875Z"
   },
   {
    "duration": 19,
    "start_time": "2021-10-09T11:48:36.915Z"
   },
   {
    "duration": 24,
    "start_time": "2021-10-09T11:48:36.937Z"
   },
   {
    "duration": 38,
    "start_time": "2021-10-09T11:48:36.963Z"
   },
   {
    "duration": 16,
    "start_time": "2021-10-09T11:48:37.003Z"
   },
   {
    "duration": 32,
    "start_time": "2021-10-09T11:48:37.021Z"
   },
   {
    "duration": 14,
    "start_time": "2021-10-09T11:48:37.055Z"
   },
   {
    "duration": 44,
    "start_time": "2021-10-09T11:48:37.071Z"
   },
   {
    "duration": 6,
    "start_time": "2021-10-09T11:48:37.119Z"
   },
   {
    "duration": 57,
    "start_time": "2021-10-09T11:48:37.127Z"
   },
   {
    "duration": 39,
    "start_time": "2021-10-09T11:48:37.186Z"
   },
   {
    "duration": 26,
    "start_time": "2021-10-09T11:48:37.228Z"
   },
   {
    "duration": 8,
    "start_time": "2021-10-09T11:48:37.256Z"
   },
   {
    "duration": 41,
    "start_time": "2021-10-09T11:48:37.266Z"
   },
   {
    "duration": 34,
    "start_time": "2021-10-09T11:48:37.309Z"
   },
   {
    "duration": 3,
    "start_time": "2021-10-09T11:48:37.345Z"
   },
   {
    "duration": 89,
    "start_time": "2021-10-09T11:48:37.350Z"
   },
   {
    "duration": 11,
    "start_time": "2021-10-09T11:48:37.442Z"
   },
   {
    "duration": 34,
    "start_time": "2021-10-09T11:48:37.455Z"
   },
   {
    "duration": 35,
    "start_time": "2021-10-09T11:48:37.491Z"
   },
   {
    "duration": 11,
    "start_time": "2021-10-09T11:48:37.528Z"
   },
   {
    "duration": 39,
    "start_time": "2021-10-09T11:48:37.541Z"
   },
   {
    "duration": 65,
    "start_time": "2021-10-09T11:48:37.582Z"
   },
   {
    "duration": 12,
    "start_time": "2021-10-09T11:48:37.649Z"
   },
   {
    "duration": 19,
    "start_time": "2021-10-09T11:48:37.663Z"
   },
   {
    "duration": 27,
    "start_time": "2021-10-09T11:48:37.684Z"
   },
   {
    "duration": 24,
    "start_time": "2021-10-09T11:48:37.713Z"
   },
   {
    "duration": 28,
    "start_time": "2021-10-09T11:48:37.739Z"
   },
   {
    "duration": 30,
    "start_time": "2021-10-09T11:48:37.770Z"
   },
   {
    "duration": 7,
    "start_time": "2021-10-09T11:48:37.803Z"
   },
   {
    "duration": 16,
    "start_time": "2021-10-09T11:48:37.812Z"
   },
   {
    "duration": 531,
    "start_time": "2021-10-09T11:48:37.831Z"
   },
   {
    "duration": 13,
    "start_time": "2021-10-09T11:48:49.164Z"
   },
   {
    "duration": 15,
    "start_time": "2021-10-09T11:48:51.018Z"
   },
   {
    "duration": 36,
    "start_time": "2021-10-09T11:48:58.251Z"
   },
   {
    "duration": 35,
    "start_time": "2021-10-09T11:49:15.901Z"
   },
   {
    "duration": 6,
    "start_time": "2021-10-09T11:49:26.204Z"
   },
   {
    "duration": 571,
    "start_time": "2021-10-09T11:49:26.213Z"
   },
   {
    "duration": 17,
    "start_time": "2021-10-09T11:49:26.787Z"
   },
   {
    "duration": 26,
    "start_time": "2021-10-09T11:49:26.807Z"
   },
   {
    "duration": 43,
    "start_time": "2021-10-09T11:49:26.835Z"
   },
   {
    "duration": 6,
    "start_time": "2021-10-09T11:49:26.901Z"
   },
   {
    "duration": 20,
    "start_time": "2021-10-09T11:49:26.909Z"
   },
   {
    "duration": 29,
    "start_time": "2021-10-09T11:49:26.933Z"
   },
   {
    "duration": 69,
    "start_time": "2021-10-09T11:49:26.965Z"
   },
   {
    "duration": 6,
    "start_time": "2021-10-09T11:49:27.037Z"
   },
   {
    "duration": 16,
    "start_time": "2021-10-09T11:49:27.046Z"
   },
   {
    "duration": 50,
    "start_time": "2021-10-09T11:49:27.065Z"
   },
   {
    "duration": 26,
    "start_time": "2021-10-09T11:49:27.118Z"
   },
   {
    "duration": 7,
    "start_time": "2021-10-09T11:49:27.147Z"
   },
   {
    "duration": 54,
    "start_time": "2021-10-09T11:49:27.157Z"
   },
   {
    "duration": 18,
    "start_time": "2021-10-09T11:49:27.214Z"
   },
   {
    "duration": 15,
    "start_time": "2021-10-09T11:49:27.234Z"
   },
   {
    "duration": 53,
    "start_time": "2021-10-09T11:49:27.251Z"
   },
   {
    "duration": 7,
    "start_time": "2021-10-09T11:49:27.307Z"
   },
   {
    "duration": 57,
    "start_time": "2021-10-09T11:49:27.317Z"
   },
   {
    "duration": 55,
    "start_time": "2021-10-09T11:49:27.377Z"
   },
   {
    "duration": 29,
    "start_time": "2021-10-09T11:49:27.435Z"
   },
   {
    "duration": 30,
    "start_time": "2021-10-09T11:49:27.471Z"
   },
   {
    "duration": 10,
    "start_time": "2021-10-09T11:49:27.505Z"
   },
   {
    "duration": 35,
    "start_time": "2021-10-09T11:49:27.518Z"
   },
   {
    "duration": 4,
    "start_time": "2021-10-09T11:49:27.555Z"
   },
   {
    "duration": 99,
    "start_time": "2021-10-09T11:49:27.560Z"
   },
   {
    "duration": 11,
    "start_time": "2021-10-09T11:49:27.661Z"
   },
   {
    "duration": 37,
    "start_time": "2021-10-09T11:49:27.674Z"
   },
   {
    "duration": 31,
    "start_time": "2021-10-09T11:49:27.713Z"
   },
   {
    "duration": 11,
    "start_time": "2021-10-09T11:49:27.746Z"
   },
   {
    "duration": 52,
    "start_time": "2021-10-09T11:49:27.759Z"
   },
   {
    "duration": 51,
    "start_time": "2021-10-09T11:49:27.813Z"
   },
   {
    "duration": 11,
    "start_time": "2021-10-09T11:49:27.866Z"
   },
   {
    "duration": 21,
    "start_time": "2021-10-09T11:49:27.879Z"
   },
   {
    "duration": 11,
    "start_time": "2021-10-09T11:49:27.903Z"
   },
   {
    "duration": 18,
    "start_time": "2021-10-09T11:49:27.916Z"
   },
   {
    "duration": 13,
    "start_time": "2021-10-09T11:49:27.936Z"
   },
   {
    "duration": 49,
    "start_time": "2021-10-09T11:49:27.951Z"
   },
   {
    "duration": 6,
    "start_time": "2021-10-09T11:49:28.003Z"
   },
   {
    "duration": 34,
    "start_time": "2021-10-09T11:49:28.011Z"
   },
   {
    "duration": 5,
    "start_time": "2021-10-09T11:49:28.047Z"
   },
   {
    "duration": 13,
    "start_time": "2021-10-09T11:49:28.055Z"
   },
   {
    "duration": 72,
    "start_time": "2021-10-09T11:49:28.070Z"
   },
   {
    "duration": 5,
    "start_time": "2021-10-09T11:49:45.922Z"
   },
   {
    "duration": 777,
    "start_time": "2021-10-09T11:49:47.889Z"
   },
   {
    "duration": 7,
    "start_time": "2021-10-09T11:50:17.548Z"
   },
   {
    "duration": 603,
    "start_time": "2021-10-09T11:50:17.558Z"
   },
   {
    "duration": 18,
    "start_time": "2021-10-09T11:50:18.165Z"
   },
   {
    "duration": 26,
    "start_time": "2021-10-09T11:50:18.186Z"
   },
   {
    "duration": 46,
    "start_time": "2021-10-09T11:50:18.214Z"
   },
   {
    "duration": 6,
    "start_time": "2021-10-09T11:50:18.262Z"
   },
   {
    "duration": 34,
    "start_time": "2021-10-09T11:50:18.270Z"
   },
   {
    "duration": 23,
    "start_time": "2021-10-09T11:50:18.306Z"
   },
   {
    "duration": 34,
    "start_time": "2021-10-09T11:50:18.333Z"
   },
   {
    "duration": 36,
    "start_time": "2021-10-09T11:50:18.370Z"
   },
   {
    "duration": 15,
    "start_time": "2021-10-09T11:50:18.408Z"
   },
   {
    "duration": 19,
    "start_time": "2021-10-09T11:50:18.425Z"
   },
   {
    "duration": 63,
    "start_time": "2021-10-09T11:50:18.446Z"
   },
   {
    "duration": 6,
    "start_time": "2021-10-09T11:50:18.511Z"
   },
   {
    "duration": 12,
    "start_time": "2021-10-09T11:50:18.519Z"
   },
   {
    "duration": 15,
    "start_time": "2021-10-09T11:50:18.534Z"
   },
   {
    "duration": 8,
    "start_time": "2021-10-09T11:50:18.552Z"
   },
   {
    "duration": 63,
    "start_time": "2021-10-09T11:50:18.562Z"
   },
   {
    "duration": 6,
    "start_time": "2021-10-09T11:50:18.628Z"
   },
   {
    "duration": 72,
    "start_time": "2021-10-09T11:50:18.636Z"
   },
   {
    "duration": 33,
    "start_time": "2021-10-09T11:50:18.710Z"
   },
   {
    "duration": 27,
    "start_time": "2021-10-09T11:50:18.746Z"
   },
   {
    "duration": 29,
    "start_time": "2021-10-09T11:50:18.775Z"
   },
   {
    "duration": 16,
    "start_time": "2021-10-09T11:50:18.806Z"
   },
   {
    "duration": 31,
    "start_time": "2021-10-09T11:50:18.824Z"
   },
   {
    "duration": 3,
    "start_time": "2021-10-09T11:50:18.858Z"
   },
   {
    "duration": 89,
    "start_time": "2021-10-09T11:50:18.867Z"
   },
   {
    "duration": 14,
    "start_time": "2021-10-09T11:50:18.960Z"
   },
   {
    "duration": 43,
    "start_time": "2021-10-09T11:50:18.977Z"
   },
   {
    "duration": 33,
    "start_time": "2021-10-09T11:50:19.022Z"
   },
   {
    "duration": 13,
    "start_time": "2021-10-09T11:50:19.057Z"
   },
   {
    "duration": 51,
    "start_time": "2021-10-09T11:50:19.072Z"
   },
   {
    "duration": 81,
    "start_time": "2021-10-09T11:50:19.125Z"
   },
   {
    "duration": 13,
    "start_time": "2021-10-09T11:50:19.209Z"
   },
   {
    "duration": 6,
    "start_time": "2021-10-09T11:50:19.224Z"
   },
   {
    "duration": 13,
    "start_time": "2021-10-09T11:50:19.233Z"
   },
   {
    "duration": 12,
    "start_time": "2021-10-09T11:50:19.249Z"
   },
   {
    "duration": 13,
    "start_time": "2021-10-09T11:50:19.300Z"
   },
   {
    "duration": 14,
    "start_time": "2021-10-09T11:50:19.316Z"
   },
   {
    "duration": 6,
    "start_time": "2021-10-09T11:50:19.332Z"
   },
   {
    "duration": 14,
    "start_time": "2021-10-09T11:50:19.340Z"
   },
   {
    "duration": 12,
    "start_time": "2021-10-09T12:03:18.028Z"
   },
   {
    "duration": 46,
    "start_time": "2021-10-09T12:05:07.891Z"
   },
   {
    "duration": 11,
    "start_time": "2021-10-09T12:07:59.389Z"
   },
   {
    "duration": 97,
    "start_time": "2021-10-09T12:10:33.576Z"
   },
   {
    "duration": 879,
    "start_time": "2021-10-09T12:13:54.201Z"
   },
   {
    "duration": 729,
    "start_time": "2021-10-09T12:14:16.624Z"
   },
   {
    "duration": 6,
    "start_time": "2021-10-09T12:14:22.687Z"
   },
   {
    "duration": 573,
    "start_time": "2021-10-09T12:14:22.695Z"
   },
   {
    "duration": 17,
    "start_time": "2021-10-09T12:14:23.271Z"
   },
   {
    "duration": 29,
    "start_time": "2021-10-09T12:14:23.291Z"
   },
   {
    "duration": 60,
    "start_time": "2021-10-09T12:14:23.323Z"
   },
   {
    "duration": 9,
    "start_time": "2021-10-09T12:14:23.401Z"
   },
   {
    "duration": 25,
    "start_time": "2021-10-09T12:14:23.413Z"
   },
   {
    "duration": 61,
    "start_time": "2021-10-09T12:14:23.444Z"
   },
   {
    "duration": 54,
    "start_time": "2021-10-09T12:14:23.509Z"
   },
   {
    "duration": 8,
    "start_time": "2021-10-09T12:14:23.566Z"
   },
   {
    "duration": 43,
    "start_time": "2021-10-09T12:14:23.576Z"
   },
   {
    "duration": 151,
    "start_time": "2021-10-09T12:14:23.622Z"
   },
   {
    "duration": 45,
    "start_time": "2021-10-09T12:14:23.777Z"
   },
   {
    "duration": 8,
    "start_time": "2021-10-09T12:14:23.825Z"
   },
   {
    "duration": 19,
    "start_time": "2021-10-09T12:14:23.836Z"
   },
   {
    "duration": 57,
    "start_time": "2021-10-09T12:14:23.858Z"
   },
   {
    "duration": 12,
    "start_time": "2021-10-09T12:14:23.918Z"
   },
   {
    "duration": 38,
    "start_time": "2021-10-09T12:14:23.933Z"
   },
   {
    "duration": 29,
    "start_time": "2021-10-09T12:14:23.973Z"
   },
   {
    "duration": 49,
    "start_time": "2021-10-09T12:14:24.005Z"
   },
   {
    "duration": 55,
    "start_time": "2021-10-09T12:14:24.056Z"
   },
   {
    "duration": 27,
    "start_time": "2021-10-09T12:14:24.113Z"
   },
   {
    "duration": 7,
    "start_time": "2021-10-09T12:14:24.146Z"
   },
   {
    "duration": 44,
    "start_time": "2021-10-09T12:14:24.156Z"
   },
   {
    "duration": 32,
    "start_time": "2021-10-09T12:14:24.202Z"
   },
   {
    "duration": 4,
    "start_time": "2021-10-09T12:14:24.237Z"
   },
   {
    "duration": 100,
    "start_time": "2021-10-09T12:14:24.243Z"
   },
   {
    "duration": 14,
    "start_time": "2021-10-09T12:14:24.345Z"
   },
   {
    "duration": 44,
    "start_time": "2021-10-09T12:14:24.362Z"
   },
   {
    "duration": 34,
    "start_time": "2021-10-09T12:14:24.408Z"
   },
   {
    "duration": 13,
    "start_time": "2021-10-09T12:14:24.445Z"
   },
   {
    "duration": 56,
    "start_time": "2021-10-09T12:14:24.461Z"
   },
   {
    "duration": 51,
    "start_time": "2021-10-09T12:14:24.520Z"
   },
   {
    "duration": 29,
    "start_time": "2021-10-09T12:14:24.574Z"
   },
   {
    "duration": 12,
    "start_time": "2021-10-09T12:14:24.605Z"
   },
   {
    "duration": 18,
    "start_time": "2021-10-09T12:14:24.620Z"
   },
   {
    "duration": 20,
    "start_time": "2021-10-09T12:14:24.640Z"
   },
   {
    "duration": 19,
    "start_time": "2021-10-09T12:14:24.663Z"
   },
   {
    "duration": 27,
    "start_time": "2021-10-09T12:14:24.684Z"
   },
   {
    "duration": 9,
    "start_time": "2021-10-09T12:14:24.714Z"
   },
   {
    "duration": 27,
    "start_time": "2021-10-09T12:14:24.725Z"
   },
   {
    "duration": 12,
    "start_time": "2021-10-09T12:14:24.754Z"
   },
   {
    "duration": 832,
    "start_time": "2021-10-09T12:14:24.768Z"
   },
   {
    "duration": 4,
    "start_time": "2021-10-09T12:14:25.603Z"
   },
   {
    "duration": 176,
    "start_time": "2021-10-09T12:14:25.610Z"
   },
   {
    "duration": 68,
    "start_time": "2021-10-09T12:14:25.789Z"
   },
   {
    "duration": 11,
    "start_time": "2021-10-09T12:14:25.859Z"
   },
   {
    "duration": 29,
    "start_time": "2021-10-09T12:14:25.873Z"
   },
   {
    "duration": 854,
    "start_time": "2021-10-09T12:14:29.200Z"
   },
   {
    "duration": 9,
    "start_time": "2021-10-09T12:14:48.431Z"
   },
   {
    "duration": 8,
    "start_time": "2021-10-09T12:15:04.007Z"
   },
   {
    "duration": 8,
    "start_time": "2021-10-09T12:15:18.394Z"
   },
   {
    "duration": 7,
    "start_time": "2021-10-09T12:15:37.132Z"
   },
   {
    "duration": 8,
    "start_time": "2021-10-09T12:15:40.493Z"
   },
   {
    "duration": 10,
    "start_time": "2021-10-09T12:15:51.812Z"
   },
   {
    "duration": 8543,
    "start_time": "2021-10-09T12:15:57.718Z"
   },
   {
    "duration": 5825,
    "start_time": "2021-10-09T12:18:37.799Z"
   },
   {
    "duration": 15046,
    "start_time": "2021-10-09T12:19:01.762Z"
   },
   {
    "duration": 97,
    "start_time": "2021-10-09T12:58:03.693Z"
   },
   {
    "duration": 4,
    "start_time": "2021-10-09T12:58:10.539Z"
   },
   {
    "duration": 6,
    "start_time": "2021-10-09T12:58:19.094Z"
   },
   {
    "duration": 269,
    "start_time": "2021-10-09T13:00:41.938Z"
   },
   {
    "duration": 267,
    "start_time": "2021-10-09T13:00:44.366Z"
   },
   {
    "duration": 300,
    "start_time": "2021-10-09T13:00:51.003Z"
   },
   {
    "duration": 258,
    "start_time": "2021-10-09T13:01:28.995Z"
   },
   {
    "duration": 260,
    "start_time": "2021-10-09T13:01:58.252Z"
   },
   {
    "duration": 5,
    "start_time": "2021-10-09T13:02:11.735Z"
   },
   {
    "duration": 6,
    "start_time": "2021-10-09T13:02:21.432Z"
   },
   {
    "duration": 6,
    "start_time": "2021-10-09T13:26:07.838Z"
   },
   {
    "duration": 5455,
    "start_time": "2021-10-09T13:27:57.573Z"
   },
   {
    "duration": 82,
    "start_time": "2021-10-09T13:29:05.070Z"
   },
   {
    "duration": 5466,
    "start_time": "2021-10-09T13:29:36.062Z"
   },
   {
    "duration": 6,
    "start_time": "2021-10-09T13:30:47.071Z"
   },
   {
    "duration": 570,
    "start_time": "2021-10-09T13:30:47.080Z"
   },
   {
    "duration": 17,
    "start_time": "2021-10-09T13:30:47.653Z"
   },
   {
    "duration": 30,
    "start_time": "2021-10-09T13:30:47.673Z"
   },
   {
    "duration": 38,
    "start_time": "2021-10-09T13:30:47.705Z"
   },
   {
    "duration": 6,
    "start_time": "2021-10-09T13:30:47.745Z"
   },
   {
    "duration": 23,
    "start_time": "2021-10-09T13:30:47.753Z"
   },
   {
    "duration": 39,
    "start_time": "2021-10-09T13:30:47.781Z"
   },
   {
    "duration": 40,
    "start_time": "2021-10-09T13:30:47.828Z"
   },
   {
    "duration": 31,
    "start_time": "2021-10-09T13:30:47.871Z"
   },
   {
    "duration": 15,
    "start_time": "2021-10-09T13:30:47.904Z"
   },
   {
    "duration": 20,
    "start_time": "2021-10-09T13:30:47.922Z"
   },
   {
    "duration": 56,
    "start_time": "2021-10-09T13:30:47.945Z"
   },
   {
    "duration": 7,
    "start_time": "2021-10-09T13:30:48.003Z"
   },
   {
    "duration": 13,
    "start_time": "2021-10-09T13:30:48.013Z"
   },
   {
    "duration": 18,
    "start_time": "2021-10-09T13:30:48.029Z"
   },
   {
    "duration": 12,
    "start_time": "2021-10-09T13:30:48.049Z"
   },
   {
    "duration": 59,
    "start_time": "2021-10-09T13:30:48.063Z"
   },
   {
    "duration": 9,
    "start_time": "2021-10-09T13:30:48.125Z"
   },
   {
    "duration": 78,
    "start_time": "2021-10-09T13:30:48.137Z"
   },
   {
    "duration": 32,
    "start_time": "2021-10-09T13:30:48.218Z"
   },
   {
    "duration": 25,
    "start_time": "2021-10-09T13:30:48.253Z"
   },
   {
    "duration": 25,
    "start_time": "2021-10-09T13:30:48.283Z"
   },
   {
    "duration": 12,
    "start_time": "2021-10-09T13:30:48.310Z"
   },
   {
    "duration": 32,
    "start_time": "2021-10-09T13:30:48.324Z"
   },
   {
    "duration": 4,
    "start_time": "2021-10-09T13:30:48.358Z"
   },
   {
    "duration": 103,
    "start_time": "2021-10-09T13:30:48.364Z"
   },
   {
    "duration": 14,
    "start_time": "2021-10-09T13:30:48.469Z"
   },
   {
    "duration": 22,
    "start_time": "2021-10-09T13:30:48.501Z"
   },
   {
    "duration": 31,
    "start_time": "2021-10-09T13:30:48.525Z"
   },
   {
    "duration": 11,
    "start_time": "2021-10-09T13:30:48.559Z"
   },
   {
    "duration": 51,
    "start_time": "2021-10-09T13:30:48.572Z"
   },
   {
    "duration": 74,
    "start_time": "2021-10-09T13:30:48.626Z"
   },
   {
    "duration": 11,
    "start_time": "2021-10-09T13:30:48.703Z"
   },
   {
    "duration": 6,
    "start_time": "2021-10-09T13:30:48.717Z"
   },
   {
    "duration": 14,
    "start_time": "2021-10-09T13:30:48.725Z"
   },
   {
    "duration": 12,
    "start_time": "2021-10-09T13:30:48.742Z"
   },
   {
    "duration": 50,
    "start_time": "2021-10-09T13:30:48.756Z"
   },
   {
    "duration": 14,
    "start_time": "2021-10-09T13:30:48.809Z"
   },
   {
    "duration": 10,
    "start_time": "2021-10-09T13:30:48.825Z"
   },
   {
    "duration": 13,
    "start_time": "2021-10-09T13:30:48.838Z"
   },
   {
    "duration": 7,
    "start_time": "2021-10-09T13:30:48.853Z"
   },
   {
    "duration": 801,
    "start_time": "2021-10-09T13:30:48.862Z"
   },
   {
    "duration": 4,
    "start_time": "2021-10-09T13:30:49.665Z"
   },
   {
    "duration": 183,
    "start_time": "2021-10-09T13:30:49.671Z"
   },
   {
    "duration": 68,
    "start_time": "2021-10-09T13:30:49.857Z"
   },
   {
    "duration": 9,
    "start_time": "2021-10-09T13:30:52.403Z"
   },
   {
    "duration": 6,
    "start_time": "2021-10-09T13:31:03.434Z"
   },
   {
    "duration": 8,
    "start_time": "2021-10-09T13:31:08.028Z"
   },
   {
    "duration": 559,
    "start_time": "2021-10-09T13:31:08.039Z"
   },
   {
    "duration": 19,
    "start_time": "2021-10-09T13:31:08.601Z"
   },
   {
    "duration": 27,
    "start_time": "2021-10-09T13:31:08.623Z"
   },
   {
    "duration": 79,
    "start_time": "2021-10-09T13:31:08.653Z"
   },
   {
    "duration": 7,
    "start_time": "2021-10-09T13:31:08.734Z"
   },
   {
    "duration": 20,
    "start_time": "2021-10-09T13:31:08.743Z"
   },
   {
    "duration": 46,
    "start_time": "2021-10-09T13:31:08.767Z"
   },
   {
    "duration": 36,
    "start_time": "2021-10-09T13:31:08.817Z"
   },
   {
    "duration": 7,
    "start_time": "2021-10-09T13:31:08.856Z"
   },
   {
    "duration": 46,
    "start_time": "2021-10-09T13:31:08.866Z"
   },
   {
    "duration": 20,
    "start_time": "2021-10-09T13:31:08.915Z"
   },
   {
    "duration": 62,
    "start_time": "2021-10-09T13:31:08.937Z"
   },
   {
    "duration": 7,
    "start_time": "2021-10-09T13:31:09.002Z"
   },
   {
    "duration": 17,
    "start_time": "2021-10-09T13:31:09.013Z"
   },
   {
    "duration": 24,
    "start_time": "2021-10-09T13:31:09.034Z"
   },
   {
    "duration": 49,
    "start_time": "2021-10-09T13:31:09.061Z"
   },
   {
    "duration": 44,
    "start_time": "2021-10-09T13:31:09.113Z"
   },
   {
    "duration": 8,
    "start_time": "2021-10-09T13:31:09.160Z"
   },
   {
    "duration": 50,
    "start_time": "2021-10-09T13:31:09.200Z"
   },
   {
    "duration": 56,
    "start_time": "2021-10-09T13:31:09.253Z"
   },
   {
    "duration": 33,
    "start_time": "2021-10-09T13:31:09.312Z"
   },
   {
    "duration": 9,
    "start_time": "2021-10-09T13:31:09.353Z"
   },
   {
    "duration": 42,
    "start_time": "2021-10-09T13:31:09.365Z"
   },
   {
    "duration": 33,
    "start_time": "2021-10-09T13:31:09.409Z"
   },
   {
    "duration": 5,
    "start_time": "2021-10-09T13:31:09.445Z"
   },
   {
    "duration": 101,
    "start_time": "2021-10-09T13:31:09.453Z"
   },
   {
    "duration": 14,
    "start_time": "2021-10-09T13:31:09.557Z"
   },
   {
    "duration": 43,
    "start_time": "2021-10-09T13:31:09.574Z"
   },
   {
    "duration": 35,
    "start_time": "2021-10-09T13:31:09.620Z"
   },
   {
    "duration": 11,
    "start_time": "2021-10-09T13:31:09.658Z"
   },
   {
    "duration": 48,
    "start_time": "2021-10-09T13:31:09.672Z"
   },
   {
    "duration": 55,
    "start_time": "2021-10-09T13:31:09.723Z"
   },
   {
    "duration": 30,
    "start_time": "2021-10-09T13:31:09.781Z"
   },
   {
    "duration": 19,
    "start_time": "2021-10-09T13:31:09.814Z"
   },
   {
    "duration": 21,
    "start_time": "2021-10-09T13:31:09.836Z"
   },
   {
    "duration": 27,
    "start_time": "2021-10-09T13:31:09.859Z"
   },
   {
    "duration": 24,
    "start_time": "2021-10-09T13:31:09.888Z"
   },
   {
    "duration": 20,
    "start_time": "2021-10-09T13:31:09.915Z"
   },
   {
    "duration": 15,
    "start_time": "2021-10-09T13:31:09.938Z"
   },
   {
    "duration": 23,
    "start_time": "2021-10-09T13:31:09.956Z"
   },
   {
    "duration": 23,
    "start_time": "2021-10-09T13:31:09.982Z"
   },
   {
    "duration": 1272,
    "start_time": "2021-10-09T13:31:10.008Z"
   },
   {
    "duration": 6,
    "start_time": "2021-10-09T13:31:11.283Z"
   },
   {
    "duration": 305,
    "start_time": "2021-10-09T13:31:11.300Z"
   },
   {
    "duration": 116,
    "start_time": "2021-10-09T13:31:11.608Z"
   },
   {
    "duration": 9,
    "start_time": "2021-10-09T13:31:13.989Z"
   },
   {
    "duration": 7,
    "start_time": "2021-10-09T13:33:41.125Z"
   },
   {
    "duration": 548,
    "start_time": "2021-10-09T13:33:41.149Z"
   },
   {
    "duration": 18,
    "start_time": "2021-10-09T13:33:41.699Z"
   },
   {
    "duration": 39,
    "start_time": "2021-10-09T13:33:41.720Z"
   },
   {
    "duration": 57,
    "start_time": "2021-10-09T13:33:41.762Z"
   },
   {
    "duration": 6,
    "start_time": "2021-10-09T13:33:41.822Z"
   },
   {
    "duration": 29,
    "start_time": "2021-10-09T13:33:41.830Z"
   },
   {
    "duration": 41,
    "start_time": "2021-10-09T13:33:41.862Z"
   },
   {
    "duration": 38,
    "start_time": "2021-10-09T13:33:41.905Z"
   },
   {
    "duration": 6,
    "start_time": "2021-10-09T13:33:41.947Z"
   },
   {
    "duration": 46,
    "start_time": "2021-10-09T13:33:41.956Z"
   },
   {
    "duration": 21,
    "start_time": "2021-10-09T13:33:42.004Z"
   },
   {
    "duration": 25,
    "start_time": "2021-10-09T13:33:42.028Z"
   },
   {
    "duration": 6,
    "start_time": "2021-10-09T13:33:42.055Z"
   },
   {
    "duration": 44,
    "start_time": "2021-10-09T13:33:42.063Z"
   },
   {
    "duration": 17,
    "start_time": "2021-10-09T13:33:42.110Z"
   },
   {
    "duration": 10,
    "start_time": "2021-10-09T13:33:42.129Z"
   },
   {
    "duration": 63,
    "start_time": "2021-10-09T13:33:42.141Z"
   },
   {
    "duration": 7,
    "start_time": "2021-10-09T13:33:42.206Z"
   },
   {
    "duration": 49,
    "start_time": "2021-10-09T13:33:42.216Z"
   },
   {
    "duration": 65,
    "start_time": "2021-10-09T13:33:42.268Z"
   },
   {
    "duration": 27,
    "start_time": "2021-10-09T13:33:42.335Z"
   },
   {
    "duration": 8,
    "start_time": "2021-10-09T13:33:42.365Z"
   },
   {
    "duration": 10,
    "start_time": "2021-10-09T13:33:42.400Z"
   },
   {
    "duration": 32,
    "start_time": "2021-10-09T13:33:42.412Z"
   },
   {
    "duration": 5,
    "start_time": "2021-10-09T13:33:42.446Z"
   },
   {
    "duration": 98,
    "start_time": "2021-10-09T13:33:42.453Z"
   },
   {
    "duration": 12,
    "start_time": "2021-10-09T13:33:42.556Z"
   },
   {
    "duration": 41,
    "start_time": "2021-10-09T13:33:42.571Z"
   },
   {
    "duration": 32,
    "start_time": "2021-10-09T13:33:42.614Z"
   },
   {
    "duration": 10,
    "start_time": "2021-10-09T13:33:42.649Z"
   },
   {
    "duration": 47,
    "start_time": "2021-10-09T13:33:42.662Z"
   },
   {
    "duration": 52,
    "start_time": "2021-10-09T13:33:42.711Z"
   },
   {
    "duration": 12,
    "start_time": "2021-10-09T13:33:42.765Z"
   },
   {
    "duration": 22,
    "start_time": "2021-10-09T13:33:42.779Z"
   },
   {
    "duration": 27,
    "start_time": "2021-10-09T13:33:42.803Z"
   },
   {
    "duration": 20,
    "start_time": "2021-10-09T13:33:42.833Z"
   },
   {
    "duration": 18,
    "start_time": "2021-10-09T13:33:42.855Z"
   },
   {
    "duration": 34,
    "start_time": "2021-10-09T13:33:42.875Z"
   },
   {
    "duration": 5,
    "start_time": "2021-10-09T13:33:42.912Z"
   },
   {
    "duration": 25,
    "start_time": "2021-10-09T13:33:42.920Z"
   },
   {
    "duration": 8,
    "start_time": "2021-10-09T13:33:42.948Z"
   },
   {
    "duration": 805,
    "start_time": "2021-10-09T13:33:42.959Z"
   },
   {
    "duration": 6,
    "start_time": "2021-10-09T13:33:43.766Z"
   },
   {
    "duration": 185,
    "start_time": "2021-10-09T13:33:43.775Z"
   },
   {
    "duration": 74,
    "start_time": "2021-10-09T13:33:43.962Z"
   },
   {
    "duration": 3,
    "start_time": "2021-10-09T13:33:44.038Z"
   },
   {
    "duration": 14,
    "start_time": "2021-10-09T13:33:44.043Z"
   },
   {
    "duration": 5836,
    "start_time": "2021-10-09T13:33:44.059Z"
   },
   {
    "duration": 12,
    "start_time": "2021-10-09T13:33:49.901Z"
   },
   {
    "duration": 11,
    "start_time": "2021-10-09T13:33:49.916Z"
   },
   {
    "duration": 5,
    "start_time": "2021-10-09T13:33:49.930Z"
   },
   {
    "duration": 21,
    "start_time": "2021-10-09T13:33:49.937Z"
   },
   {
    "duration": 55,
    "start_time": "2021-10-09T13:33:49.961Z"
   },
   {
    "duration": 5,
    "start_time": "2021-10-09T13:33:50.019Z"
   },
   {
    "duration": 6,
    "start_time": "2021-10-09T13:47:22.656Z"
   },
   {
    "duration": 555,
    "start_time": "2021-10-09T13:47:22.664Z"
   },
   {
    "duration": 17,
    "start_time": "2021-10-09T13:47:23.222Z"
   },
   {
    "duration": 27,
    "start_time": "2021-10-09T13:47:23.241Z"
   },
   {
    "duration": 53,
    "start_time": "2021-10-09T13:47:23.270Z"
   },
   {
    "duration": 6,
    "start_time": "2021-10-09T13:47:23.325Z"
   },
   {
    "duration": 18,
    "start_time": "2021-10-09T13:47:23.334Z"
   },
   {
    "duration": 48,
    "start_time": "2021-10-09T13:47:23.356Z"
   },
   {
    "duration": 36,
    "start_time": "2021-10-09T13:47:23.407Z"
   },
   {
    "duration": 6,
    "start_time": "2021-10-09T13:47:23.445Z"
   },
   {
    "duration": 20,
    "start_time": "2021-10-09T13:47:23.453Z"
   },
   {
    "duration": 19,
    "start_time": "2021-10-09T13:47:23.500Z"
   },
   {
    "duration": 37,
    "start_time": "2021-10-09T13:47:23.522Z"
   },
   {
    "duration": 5,
    "start_time": "2021-10-09T13:47:23.562Z"
   },
   {
    "duration": 34,
    "start_time": "2021-10-09T13:47:23.569Z"
   },
   {
    "duration": 23,
    "start_time": "2021-10-09T13:47:23.605Z"
   },
   {
    "duration": 18,
    "start_time": "2021-10-09T13:47:23.630Z"
   },
   {
    "duration": 37,
    "start_time": "2021-10-09T13:47:23.650Z"
   },
   {
    "duration": 14,
    "start_time": "2021-10-09T13:47:23.690Z"
   },
   {
    "duration": 50,
    "start_time": "2021-10-09T13:47:23.706Z"
   },
   {
    "duration": 50,
    "start_time": "2021-10-09T13:47:23.759Z"
   },
   {
    "duration": 27,
    "start_time": "2021-10-09T13:47:23.812Z"
   },
   {
    "duration": 8,
    "start_time": "2021-10-09T13:47:23.844Z"
   },
   {
    "duration": 27,
    "start_time": "2021-10-09T13:47:23.855Z"
   },
   {
    "duration": 40,
    "start_time": "2021-10-09T13:47:23.884Z"
   },
   {
    "duration": 4,
    "start_time": "2021-10-09T13:47:23.926Z"
   },
   {
    "duration": 85,
    "start_time": "2021-10-09T13:47:23.932Z"
   },
   {
    "duration": 13,
    "start_time": "2021-10-09T13:47:24.019Z"
   },
   {
    "duration": 26,
    "start_time": "2021-10-09T13:47:24.035Z"
   },
   {
    "duration": 56,
    "start_time": "2021-10-09T13:47:24.063Z"
   },
   {
    "duration": 11,
    "start_time": "2021-10-09T13:47:24.122Z"
   },
   {
    "duration": 30,
    "start_time": "2021-10-09T13:47:24.135Z"
   },
   {
    "duration": 77,
    "start_time": "2021-10-09T13:47:24.168Z"
   },
   {
    "duration": 11,
    "start_time": "2021-10-09T13:47:24.247Z"
   },
   {
    "duration": 15,
    "start_time": "2021-10-09T13:47:24.261Z"
   },
   {
    "duration": 28,
    "start_time": "2021-10-09T13:47:24.278Z"
   },
   {
    "duration": 25,
    "start_time": "2021-10-09T13:47:24.308Z"
   },
   {
    "duration": 14,
    "start_time": "2021-10-09T13:47:24.336Z"
   },
   {
    "duration": 19,
    "start_time": "2021-10-09T13:47:24.352Z"
   },
   {
    "duration": 6,
    "start_time": "2021-10-09T13:47:24.374Z"
   },
   {
    "duration": 31,
    "start_time": "2021-10-09T13:47:24.382Z"
   },
   {
    "duration": 14,
    "start_time": "2021-10-09T13:47:24.415Z"
   },
   {
    "duration": 797,
    "start_time": "2021-10-09T13:47:24.431Z"
   },
   {
    "duration": 5,
    "start_time": "2021-10-09T13:47:25.230Z"
   },
   {
    "duration": 177,
    "start_time": "2021-10-09T13:47:25.237Z"
   },
   {
    "duration": 63,
    "start_time": "2021-10-09T13:47:25.416Z"
   },
   {
    "duration": 6,
    "start_time": "2021-10-09T13:47:30.151Z"
   },
   {
    "duration": 576,
    "start_time": "2021-10-09T13:47:30.160Z"
   },
   {
    "duration": 18,
    "start_time": "2021-10-09T13:47:30.739Z"
   },
   {
    "duration": 43,
    "start_time": "2021-10-09T13:47:30.760Z"
   },
   {
    "duration": 42,
    "start_time": "2021-10-09T13:47:30.805Z"
   },
   {
    "duration": 6,
    "start_time": "2021-10-09T13:47:30.850Z"
   },
   {
    "duration": 49,
    "start_time": "2021-10-09T13:47:30.860Z"
   },
   {
    "duration": 28,
    "start_time": "2021-10-09T13:47:30.912Z"
   },
   {
    "duration": 56,
    "start_time": "2021-10-09T13:47:30.943Z"
   },
   {
    "duration": 8,
    "start_time": "2021-10-09T13:47:31.002Z"
   },
   {
    "duration": 41,
    "start_time": "2021-10-09T13:47:31.013Z"
   },
   {
    "duration": 31,
    "start_time": "2021-10-09T13:47:31.057Z"
   },
   {
    "duration": 33,
    "start_time": "2021-10-09T13:47:31.091Z"
   },
   {
    "duration": 11,
    "start_time": "2021-10-09T13:47:31.127Z"
   },
   {
    "duration": 29,
    "start_time": "2021-10-09T13:47:31.141Z"
   },
   {
    "duration": 35,
    "start_time": "2021-10-09T13:47:31.173Z"
   },
   {
    "duration": 19,
    "start_time": "2021-10-09T13:47:31.211Z"
   },
   {
    "duration": 40,
    "start_time": "2021-10-09T13:47:31.233Z"
   },
   {
    "duration": 13,
    "start_time": "2021-10-09T13:47:31.278Z"
   },
   {
    "duration": 53,
    "start_time": "2021-10-09T13:47:31.299Z"
   },
   {
    "duration": 34,
    "start_time": "2021-10-09T13:47:31.354Z"
   },
   {
    "duration": 31,
    "start_time": "2021-10-09T13:47:31.391Z"
   },
   {
    "duration": 7,
    "start_time": "2021-10-09T13:47:31.425Z"
   },
   {
    "duration": 20,
    "start_time": "2021-10-09T13:47:31.435Z"
   },
   {
    "duration": 60,
    "start_time": "2021-10-09T13:47:31.457Z"
   },
   {
    "duration": 4,
    "start_time": "2021-10-09T13:47:31.519Z"
   },
   {
    "duration": 88,
    "start_time": "2021-10-09T13:47:31.525Z"
   },
   {
    "duration": 12,
    "start_time": "2021-10-09T13:47:31.615Z"
   },
   {
    "duration": 35,
    "start_time": "2021-10-09T13:47:31.629Z"
   },
   {
    "duration": 43,
    "start_time": "2021-10-09T13:47:31.667Z"
   },
   {
    "duration": 10,
    "start_time": "2021-10-09T13:47:31.712Z"
   },
   {
    "duration": 35,
    "start_time": "2021-10-09T13:47:31.725Z"
   },
   {
    "duration": 69,
    "start_time": "2021-10-09T13:47:31.762Z"
   },
   {
    "duration": 11,
    "start_time": "2021-10-09T13:47:31.833Z"
   },
   {
    "duration": 17,
    "start_time": "2021-10-09T13:47:31.846Z"
   },
   {
    "duration": 22,
    "start_time": "2021-10-09T13:47:31.865Z"
   },
   {
    "duration": 21,
    "start_time": "2021-10-09T13:47:31.889Z"
   },
   {
    "duration": 19,
    "start_time": "2021-10-09T13:47:31.912Z"
   },
   {
    "duration": 16,
    "start_time": "2021-10-09T13:47:31.933Z"
   },
   {
    "duration": 12,
    "start_time": "2021-10-09T13:47:31.952Z"
   },
   {
    "duration": 39,
    "start_time": "2021-10-09T13:47:31.966Z"
   },
   {
    "duration": 6,
    "start_time": "2021-10-09T13:47:32.007Z"
   },
   {
    "duration": 805,
    "start_time": "2021-10-09T13:47:32.015Z"
   },
   {
    "duration": 5,
    "start_time": "2021-10-09T13:47:32.823Z"
   },
   {
    "duration": 178,
    "start_time": "2021-10-09T13:47:32.832Z"
   },
   {
    "duration": 66,
    "start_time": "2021-10-09T13:47:33.013Z"
   },
   {
    "duration": 3,
    "start_time": "2021-10-09T13:47:33.101Z"
   },
   {
    "duration": 11,
    "start_time": "2021-10-09T13:47:33.107Z"
   },
   {
    "duration": 5513,
    "start_time": "2021-10-09T13:47:33.121Z"
   },
   {
    "duration": 14,
    "start_time": "2021-10-09T13:47:38.636Z"
   },
   {
    "duration": 12,
    "start_time": "2021-10-09T13:47:38.652Z"
   },
   {
    "duration": 35,
    "start_time": "2021-10-09T13:47:38.666Z"
   },
   {
    "duration": 19,
    "start_time": "2021-10-09T13:47:38.703Z"
   },
   {
    "duration": 18,
    "start_time": "2021-10-09T13:47:38.724Z"
   },
   {
    "duration": 4,
    "start_time": "2021-10-09T13:47:38.748Z"
   },
   {
    "duration": 7,
    "start_time": "2021-10-09T13:51:01.108Z"
   },
   {
    "duration": 588,
    "start_time": "2021-10-09T13:51:01.117Z"
   },
   {
    "duration": 18,
    "start_time": "2021-10-09T13:51:01.708Z"
   },
   {
    "duration": 42,
    "start_time": "2021-10-09T13:51:01.729Z"
   },
   {
    "duration": 56,
    "start_time": "2021-10-09T13:51:01.774Z"
   },
   {
    "duration": 7,
    "start_time": "2021-10-09T13:51:01.832Z"
   },
   {
    "duration": 46,
    "start_time": "2021-10-09T13:51:01.841Z"
   },
   {
    "duration": 79,
    "start_time": "2021-10-09T13:51:01.891Z"
   },
   {
    "duration": 84,
    "start_time": "2021-10-09T13:51:01.973Z"
   },
   {
    "duration": 6,
    "start_time": "2021-10-09T13:51:02.059Z"
   },
   {
    "duration": 26,
    "start_time": "2021-10-09T13:51:02.068Z"
   },
   {
    "duration": 21,
    "start_time": "2021-10-09T13:51:02.096Z"
   },
   {
    "duration": 30,
    "start_time": "2021-10-09T13:51:02.119Z"
   },
   {
    "duration": 7,
    "start_time": "2021-10-09T13:51:02.151Z"
   },
   {
    "duration": 33,
    "start_time": "2021-10-09T13:51:02.160Z"
   },
   {
    "duration": 23,
    "start_time": "2021-10-09T13:51:02.195Z"
   },
   {
    "duration": 12,
    "start_time": "2021-10-09T13:51:02.221Z"
   },
   {
    "duration": 32,
    "start_time": "2021-10-09T13:51:02.236Z"
   },
   {
    "duration": 31,
    "start_time": "2021-10-09T13:51:02.271Z"
   },
   {
    "duration": 50,
    "start_time": "2021-10-09T13:51:02.305Z"
   },
   {
    "duration": 51,
    "start_time": "2021-10-09T13:51:02.357Z"
   },
   {
    "duration": 27,
    "start_time": "2021-10-09T13:51:02.411Z"
   },
   {
    "duration": 7,
    "start_time": "2021-10-09T13:51:02.444Z"
   },
   {
    "duration": 18,
    "start_time": "2021-10-09T13:51:02.454Z"
   },
   {
    "duration": 52,
    "start_time": "2021-10-09T13:51:02.474Z"
   },
   {
    "duration": 4,
    "start_time": "2021-10-09T13:51:02.528Z"
   },
   {
    "duration": 89,
    "start_time": "2021-10-09T13:51:02.534Z"
   },
   {
    "duration": 12,
    "start_time": "2021-10-09T13:51:02.625Z"
   },
   {
    "duration": 27,
    "start_time": "2021-10-09T13:51:02.639Z"
   },
   {
    "duration": 51,
    "start_time": "2021-10-09T13:51:02.668Z"
   },
   {
    "duration": 11,
    "start_time": "2021-10-09T13:51:02.721Z"
   },
   {
    "duration": 26,
    "start_time": "2021-10-09T13:51:02.734Z"
   },
   {
    "duration": 85,
    "start_time": "2021-10-09T13:51:02.762Z"
   },
   {
    "duration": 10,
    "start_time": "2021-10-09T13:51:02.850Z"
   },
   {
    "duration": 19,
    "start_time": "2021-10-09T13:51:02.863Z"
   },
   {
    "duration": 43,
    "start_time": "2021-10-09T13:51:02.884Z"
   },
   {
    "duration": 20,
    "start_time": "2021-10-09T13:51:02.929Z"
   },
   {
    "duration": 13,
    "start_time": "2021-10-09T13:51:02.951Z"
   },
   {
    "duration": 14,
    "start_time": "2021-10-09T13:51:02.967Z"
   },
   {
    "duration": 20,
    "start_time": "2021-10-09T13:51:02.983Z"
   },
   {
    "duration": 27,
    "start_time": "2021-10-09T13:51:03.005Z"
   },
   {
    "duration": 16,
    "start_time": "2021-10-09T13:51:03.034Z"
   },
   {
    "duration": 778,
    "start_time": "2021-10-09T13:51:03.053Z"
   },
   {
    "duration": 4,
    "start_time": "2021-10-09T13:51:03.834Z"
   },
   {
    "duration": 175,
    "start_time": "2021-10-09T13:51:03.840Z"
   },
   {
    "duration": 65,
    "start_time": "2021-10-09T13:51:04.017Z"
   },
   {
    "duration": 8,
    "start_time": "2021-10-09T13:51:04.100Z"
   },
   {
    "duration": 5624,
    "start_time": "2021-10-09T13:51:04.110Z"
   },
   {
    "duration": 13,
    "start_time": "2021-10-09T13:51:09.737Z"
   },
   {
    "duration": 12,
    "start_time": "2021-10-09T13:51:09.752Z"
   },
   {
    "duration": 34,
    "start_time": "2021-10-09T13:51:09.767Z"
   },
   {
    "duration": 18,
    "start_time": "2021-10-09T13:51:09.804Z"
   },
   {
    "duration": 18,
    "start_time": "2021-10-09T13:51:09.824Z"
   },
   {
    "duration": 5,
    "start_time": "2021-10-09T13:51:09.844Z"
   },
   {
    "duration": 98,
    "start_time": "2021-10-09T14:47:38.060Z"
   },
   {
    "duration": 100,
    "start_time": "2021-10-09T14:50:58.015Z"
   }
  ],
  "kernelspec": {
   "display_name": "Python 3 (ipykernel)",
   "language": "python",
   "name": "python3"
  },
  "language_info": {
   "codemirror_mode": {
    "name": "ipython",
    "version": 3
   },
   "file_extension": ".py",
   "mimetype": "text/x-python",
   "name": "python",
   "nbconvert_exporter": "python",
   "pygments_lexer": "ipython3",
   "version": "3.9.7"
  },
  "toc": {
   "base_numbering": 1,
   "nav_menu": {},
   "number_sections": false,
   "sideBar": true,
   "skip_h1_title": true,
   "title_cell": "Table of Contents",
   "title_sidebar": "Contents",
   "toc_cell": false,
   "toc_position": {},
   "toc_section_display": true,
   "toc_window_display": false
  }
 },
 "nbformat": 4,
 "nbformat_minor": 2
}
